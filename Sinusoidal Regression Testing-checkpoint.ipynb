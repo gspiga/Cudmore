{
 "cells": [
  {
   "cell_type": "markdown",
   "id": "5301ce03",
   "metadata": {},
   "source": [
    "# Sinusoidal Regression"
   ]
  },
  {
   "cell_type": "markdown",
   "id": "3fc28593",
   "metadata": {},
   "source": [
    "The purpose of this notebook is to test and discuss the theory and application of a type of non-linear regression for sinusoidal data. If we are given some form of data, we would like to form a prediction curve that would help us capture the intricate patterns and shapes of our data, regardless of how noisy the data is. My goal is to explain and understand the mathematical theory behind sinusoidal regression, as well as apply with a visual example in pyhthon, with numpy and specifically visualizing it with the powerful tool, Plotly. I would also like to establish a good measure of fit variable, such as $R^2$ as well as a confidence interval said variable. "
   ]
  },
  {
   "cell_type": "markdown",
   "id": "20f108e4",
   "metadata": {},
   "source": [
    "## TOC:\n",
    "* [Mathematical Theory](#math)\n",
    "    * [Measuring Fit/Model Accuracy](#fit)\n",
    "    * [Links to Dive Deeper into](#dive)\n",
    "* [Application in Python](#Python)\n",
    "    * [Finding Parameters for Model](#find)\n",
    "    * [Finding $S^2$](#s2)\n",
    "* [Plotting in Python using Plotly](#Plotly)\n",
    "    * [QQplot](#QQplot)"
   ]
  },
  {
   "cell_type": "markdown",
   "id": "a6ebd713",
   "metadata": {},
   "source": [
    "## Mathematical Theory <a class=\"anchor\" id=\"math\"></a>"
   ]
  },
  {
   "cell_type": "markdown",
   "id": "f4f66525",
   "metadata": {},
   "source": [
    "The definition of a sinusoidal model is one where we approximate some $Y_i$ with the following equation:\n",
    "$$\n",
    "Y_i = C + \\alpha sin(\\omega T_i + \\phi_) + E_i\n",
    "$$\n",
    "Where $C$ is a constant defining our **mean** level, $\\alpha$ is the amplitude, $\\omega$ is the frequency, $T_i$ is our time variable, $\\phi$ is the phase, and $E_i$ is the error sequence in approximation of $Y_i$.\n",
    "From what I have read, the first step to sinusoidal regression is that we are making an initial \"guess\" as of the paramters will fit the data. Generally, we can start with $C$ being the mean of our data. We can generate a starting estimate of the amplitude $\\alpha$ of our data with the root mean square multtiplied by the square root of two. \n",
    "\n",
    "https://en.wikipedia.org/wiki/Sinusoidal_model\n",
    "https://en.wikipedia.org/wiki/Root_mean_square\n",
    "https://en.wikipedia.org/wiki/Non-linear_least_squares"
   ]
  },
  {
   "cell_type": "markdown",
   "id": "072289cb",
   "metadata": {},
   "source": [
    "To understand the Stack overflow method, I will need to understand what the discrete Fourier Transform is and its application to this process. "
   ]
  },
  {
   "cell_type": "markdown",
   "id": "cf59f854",
   "metadata": {},
   "source": [
    "### Measuring Fit/Model Accuracy <a class=\"anchor\" id=\"fit\"></a>"
   ]
  },
  {
   "cell_type": "markdown",
   "id": "d779d5ca",
   "metadata": {},
   "source": [
    "Perhaps the biggest challenge so far in research is finding information on a value to describe the measure of fit for a model. As some sources suggest, $R^2$ seems to be an invalid when referring to non-linear models. Perhaps a better measure would be the residuals, which we would also expect to be random in our data. \n",
    "\n",
    "https://statisticsbyjim.com/regression/r-squared-invalid-nonlinear-regression/\n",
    "https://statisticsbyjim.com/regression/standard-error-regression-vs-r-squared/\n",
    "\n",
    "It appears we can also use standard error of the regression for ~~confidence~~ prediction intervals, which is ideal for our sinusoidal regression. The standard error of regression, which we can refer to a $s$ is derived by the following process: \n",
    "$$\n",
    "s^2 = \\frac{\\hat{\\epsilon}^T\\hat{\\epsilon}}{n-p}\n",
    "$$\n",
    "Where \n",
    "$$\n",
    "   \\hat{\\epsilon} = y - \\hat{y}\n",
    "$$\n",
    "We find $s$ by taking the square root of the $s^2$ solved for. This value s represents the average distance that our observed values $y$ are located from the regression line. Ideally we want $s$ to be minimized by our model. \n",
    "\n",
    "https://statisticsbyjim.com/glossary/standard-error-regression/\n",
    "\n",
    "https://en.wikipedia.org/wiki/Ordinary_least_squares"
   ]
  },
  {
   "cell_type": "markdown",
   "id": "f7726a71",
   "metadata": {},
   "source": [
    "### Links to Dive Deeper into  <a class=\"anchor\" id=\"dive\"></a>"
   ]
  },
  {
   "cell_type": "markdown",
   "id": "a2283792",
   "metadata": {},
   "source": [
    "https://math.stackexchange.com/questions/2368821/find-a-sinusoidal-regression-equation-for-some-given-data\n",
    "\n",
    "**Gauss-Newtown** algorithm\n",
    "https://math.stackexchange.com/questions/301194/given-a-data-set-how-do-you-do-a-sinusoidal-regression-on-paper-what-are-the-e"
   ]
  },
  {
   "cell_type": "markdown",
   "id": "7825a1c9",
   "metadata": {},
   "source": [
    "## Application in Python <a class=\"anchor\" id=\"math\"></a>"
   ]
  },
  {
   "cell_type": "markdown",
   "id": "2935b532",
   "metadata": {},
   "source": [
    "The stack overflow answer provides a method for implementing a sine curve, without initial guesses. "
   ]
  },
  {
   "cell_type": "markdown",
   "id": "15a9895b",
   "metadata": {},
   "source": [
    "https://stackoverflow.com/questions/16716302/how-do-i-fit-a-sine-curve-to-my-data-with-pylab-and-numpy\n",
    "\n",
    "https://towardsdatascience.com/fitting-cosine-sine-functions-with-machine-learning-in-python-610605d9b057"
   ]
  },
  {
   "cell_type": "markdown",
   "id": "4fc1a401",
   "metadata": {},
   "source": [
    "As mentioned in Towards Data Science, one of the ways to do a sinusoidal regression in python is using scipy *optimize.curve_fit*. This method uses an algorithm called the Trust Region Reflective algorithm. "
   ]
  },
  {
   "cell_type": "markdown",
   "id": "e9fee95f",
   "metadata": {},
   "source": [
    "### Finding Parameters for Model  <a class=\"anchor\" id=\"find\"></a>"
   ]
  },
  {
   "cell_type": "code",
   "execution_count": 16,
   "id": "5b148724",
   "metadata": {},
   "outputs": [],
   "source": [
    "import numpy as np\n",
    "import scipy.optimize\n",
    "\n",
    "def fit_sin(tt, yy):\n",
    "    # declaring response and explanatory variables as numpy arrays\n",
    "    tt = np.array(tt) # xdata\n",
    "    yy = np.array(yy) # ydata\n",
    "    \n",
    "    # np.fft computes the  one-dimensional discrete Fourier Transform\n",
    "    # np.fft.fftfreq returns Discrete Fourier Transform sample frequencies\n",
    "    ff = np.fft.fftfreq(len(tt), (tt[1]-tt[0]))   # assume uniform spacing\n",
    "    Fyy = abs(np.fft.fft(yy))\n",
    "    \n",
    "    #Preliminary guesses of the parameters of sine function (this will not fit well)\n",
    "    guess_freq = abs(ff[np.argmax(Fyy[1:])+1])   # excluding the zero frequency \"peak\", which is related to offset\n",
    "    guess_amp = np.std(yy) * 2.**0.5 # this uses the standard deviation rather than the root mean square, might want to investigate which is better\n",
    "    guess_offset = np.mean(yy) # guessing the constant C with the mean of the data\n",
    "    guess = np.array([guess_amp, 2.*np.pi*guess_freq, 0., guess_offset])\n",
    "\n",
    "    def sinfunc(t, A, w, p, c):  return A * np.sin(w*t + p) + c #this one-liner returns the format for the sin equation\n",
    "    \n",
    "    # https://docs.scipy.org/doc/scipy/reference/generated/scipy.optimize.curve_fit.html\n",
    "    #Scipy.optimize takes multiple parameters to fit non-linear data, p0 is an optional variable for guess of parameters\n",
    "    # optimize returns 2 objects: popt is optimal values for paramters where SQUARED RESIDUALS are minimized\n",
    "    # pcov is a 2-D array that is the estimated covariance of popt\n",
    "    \n",
    "    popt, pcov = scipy.optimize.curve_fit(f=sinfunc, xdata=tt, ydata=yy, p0=guess)\n",
    "    A, w, p, c = popt #takes the optimized variables\n",
    "    f = w/(2.*np.pi) # still need to understand why omega is divided by 2pi, radian conversion?\n",
    "    fitfunc = lambda t: A * np.sin(w*t + p) + c #lambda function to build sin expression\n",
    "    return {\"amp\": A, \"omega\": w, \"phase\": p, \"offset\": c, \"freq\": f, \"period\": 1./f, \"fitfunc\": fitfunc, \"maxcov\": np.max(pcov), \"rawres\": (guess,popt,pcov)}"
   ]
  },
  {
   "cell_type": "code",
   "execution_count": 17,
   "id": "a150aa4d",
   "metadata": {},
   "outputs": [
    {
     "name": "stdout",
     "output_type": "stream",
     "text": [
      "Amplitude=0.9855168110983817, Angular freq.=1.9748348947930916, phase=0.6004211995191991, offset=4.025908688254888, Max. Cov.=0.014343896592030515\n"
     ]
    }
   ],
   "source": [
    "### Simulation\n",
    "N, amp, omega, phase, offset, noise = 500, 1., 2., .5, 4., 3\n",
    "\n",
    "tt = np.linspace(0, 10, N)\n",
    "tt2 = np.linspace(0, 10, 10*N)\n",
    "yy = amp*np.sin(omega*tt + phase) + offset\n",
    "yynoise = yy + noise*(np.random.random(len(tt))-0.5)\n",
    "\n",
    "res = fit_sin(tt, yynoise)\n",
    "print( \"Amplitude=%(amp)s, Angular freq.=%(omega)s, phase=%(phase)s, offset=%(offset)s, Max. Cov.=%(maxcov)s\" % res )"
   ]
  },
  {
   "cell_type": "markdown",
   "id": "4655e6f1",
   "metadata": {},
   "source": [
    "### Finding $S^2$   <a class=\"anchor\" id=\"s2\"></a>"
   ]
  },
  {
   "cell_type": "code",
   "execution_count": 18,
   "id": "44a64fe4",
   "metadata": {},
   "outputs": [
    {
     "data": {
      "text/plain": [
       "0.8800857021389314"
      ]
     },
     "execution_count": 18,
     "metadata": {},
     "output_type": "execute_result"
    }
   ],
   "source": [
    "#Writing a function that finds statistic s, the standard error of the regression, via a short function. Note: This will not work for anything data sets beyond 2 dimensional.\n",
    "\n",
    "def find_s(y, yhat):\n",
    "    epsilon = y - yhat\n",
    "    s2 = np.dot(epsilon, epsilon.T) / (yynoise.size - 1)\n",
    "    s = np.sqrt(s2)\n",
    "    return s\n",
    "\n",
    "#Test\n",
    "find_s(yynoise, yy)\n",
    "\n",
    "#Recall that s is not some proportional value like an R^2, there is no maximum, this simply means that 0.88 is the aeverage distance from the prediction curve and the actual observed value"
   ]
  },
  {
   "cell_type": "markdown",
   "id": "55d218a9",
   "metadata": {},
   "source": [
    "Next approach I would like to try, since I have no idea what the distribution of the residuals would be yet (I will look into doing a QQplot and see if the distribution of residuals is normal), bootstrapping might be the answer.\n",
    "\n",
    "https://www.geeksforgeeks.org/qqplot-quantile-quantile-plot-in-python/\n",
    "\n",
    "https://stats.stackexchange.com/questions/112829/how-do-i-calculate-confidence-intervals-for-a-non-normal-distribution\n",
    "\n",
    "https://support.minitab.com/en-us/minitab/18/help-and-how-to/modeling-statistics/regression/how-to/nonlinear-regression/interpret-the-results/all-statistics-and-graphs/residual-plots/"
   ]
  },
  {
   "cell_type": "code",
   "execution_count": 19,
   "id": "359228fa",
   "metadata": {},
   "outputs": [],
   "source": [
    "import statsmodels.api as sm"
   ]
  },
  {
   "cell_type": "code",
   "execution_count": 20,
   "id": "588b4a02",
   "metadata": {},
   "outputs": [
    {
     "data": {
      "image/png": "[encoded data removed]",
      "text/plain": [
       "<Figure size 432x288 with 1 Axes>"
      ]
     },
     "execution_count": 20,
     "metadata": {},
     "output_type": "execute_result"
    },
    {
     "data": {
      "image/png": "[encoded data removed]",
      "text/plain": [
       "<Figure size 432x288 with 1 Axes>"
      ]
     },
     "metadata": {
      "needs_background": "light"
     },
     "output_type": "display_data"
    }
   ],
   "source": [
    "data_points = np.random.normal(0, 1, 100)    \n",
    "  \n",
    "epsilon = yynoise - yy\n",
    "sm.qqplot(epsilon, line ='45')"
   ]
  },
  {
   "cell_type": "markdown",
   "id": "9f4dbc8f",
   "metadata": {},
   "source": [
    "## Plotting in Python using Plotly <a class=\"anchor\" id=\"Plotly\"></a>"
   ]
  },
  {
   "cell_type": "markdown",
   "id": "a6024330",
   "metadata": {},
   "source": [
    "https://plotly.com/python/graphing-multiple-chart-types/\n"
   ]
  },
  {
   "cell_type": "code",
   "execution_count": 21,
   "id": "b55bf2c2",
   "metadata": {},
   "outputs": [],
   "source": [
    "#First, download plotly\n",
    "#!pip install plotly==5.4.0\n",
    "#!pip install cufflinks\n",
    "#!pip install chart-studio"
   ]
  },
  {
   "cell_type": "code",
   "execution_count": 22,
   "id": "b6abd30b",
   "metadata": {},
   "outputs": [
    {
     "data": {
      "application/vnd.plotly.v1+json": {
       "config": {
        "plotlyServerURL": "https://plot.ly"
       },
       "data": [
        {
         "type": "bar",
         "y": [
          2,
          3,
          1
         ]
        }
       ],
       "layout": {
        "template": {
         "data": {
          "bar": [
           {
            "error_x": {
             "color": "#2a3f5f"
            },
            "error_y": {
             "color": "#2a3f5f"
            },
            "marker": {
             "line": {
              "color": "#E5ECF6",
              "width": 0.5
             },
             "pattern": {
              "fillmode": "overlay",
              "size": 10,
              "solidity": 0.2
             }
            },
            "type": "bar"
           }
          ],
          "barpolar": [
           {
            "marker": {
             "line": {
              "color": "#E5ECF6",
              "width": 0.5
             },
             "pattern": {
              "fillmode": "overlay",
              "size": 10,
              "solidity": 0.2
             }
            },
            "type": "barpolar"
           }
          ],
          "carpet": [
           {
            "aaxis": {
             "endlinecolor": "#2a3f5f",
             "gridcolor": "white",
             "linecolor": "white",
             "minorgridcolor": "white",
             "startlinecolor": "#2a3f5f"
            },
            "baxis": {
             "endlinecolor": "#2a3f5f",
             "gridcolor": "white",
             "linecolor": "white",
             "minorgridcolor": "white",
             "startlinecolor": "#2a3f5f"
            },
            "type": "carpet"
           }
          ],
          "choropleth": [
           {
            "colorbar": {
             "outlinewidth": 0,
             "ticks": ""
            },
            "type": "choropleth"
           }
          ],
          "contour": [
           {
            "colorbar": {
             "outlinewidth": 0,
             "ticks": ""
            },
            "colorscale": [
             [
              0,
              "#0d0887"
             ],
             [
              0.1111111111111111,
              "#46039f"
             ],
             [
              0.2222222222222222,
              "#7201a8"
             ],
             [
              0.3333333333333333,
              "#9c179e"
             ],
             [
              0.4444444444444444,
              "#bd3786"
             ],
             [
              0.5555555555555556,
              "#d8576b"
             ],
             [
              0.6666666666666666,
              "#ed7953"
             ],
             [
              0.7777777777777778,
              "#fb9f3a"
             ],
             [
              0.8888888888888888,
              "#fdca26"
             ],
             [
              1,
              "#f0f921"
             ]
            ],
            "type": "contour"
           }
          ],
          "contourcarpet": [
           {
            "colorbar": {
             "outlinewidth": 0,
             "ticks": ""
            },
            "type": "contourcarpet"
           }
          ],
          "heatmap": [
           {
            "colorbar": {
             "outlinewidth": 0,
             "ticks": ""
            },
            "colorscale": [
             [
              0,
              "#0d0887"
             ],
             [
              0.1111111111111111,
              "#46039f"
             ],
             [
              0.2222222222222222,
              "#7201a8"
             ],
             [
              0.3333333333333333,
              "#9c179e"
             ],
             [
              0.4444444444444444,
              "#bd3786"
             ],
             [
              0.5555555555555556,
              "#d8576b"
             ],
             [
              0.6666666666666666,
              "#ed7953"
             ],
             [
              0.7777777777777778,
              "#fb9f3a"
             ],
             [
              0.8888888888888888,
              "#fdca26"
             ],
             [
              1,
              "#f0f921"
             ]
            ],
            "type": "heatmap"
           }
          ],
          "heatmapgl": [
           {
            "colorbar": {
             "outlinewidth": 0,
             "ticks": ""
            },
            "colorscale": [
             [
              0,
              "#0d0887"
             ],
             [
              0.1111111111111111,
              "#46039f"
             ],
             [
              0.2222222222222222,
              "#7201a8"
             ],
             [
              0.3333333333333333,
              "#9c179e"
             ],
             [
              0.4444444444444444,
              "#bd3786"
             ],
             [
              0.5555555555555556,
              "#d8576b"
             ],
             [
              0.6666666666666666,
              "#ed7953"
             ],
             [
              0.7777777777777778,
              "#fb9f3a"
             ],
             [
              0.8888888888888888,
              "#fdca26"
             ],
             [
              1,
              "#f0f921"
             ]
            ],
            "type": "heatmapgl"
           }
          ],
          "histogram": [
           {
            "marker": {
             "pattern": {
              "fillmode": "overlay",
              "size": 10,
              "solidity": 0.2
             }
            },
            "type": "histogram"
           }
          ],
          "histogram2d": [
           {
            "colorbar": {
             "outlinewidth": 0,
             "ticks": ""
            },
            "colorscale": [
             [
              0,
              "#0d0887"
             ],
             [
              0.1111111111111111,
              "#46039f"
             ],
             [
              0.2222222222222222,
              "#7201a8"
             ],
             [
              0.3333333333333333,
              "#9c179e"
             ],
             [
              0.4444444444444444,
              "#bd3786"
             ],
             [
              0.5555555555555556,
              "#d8576b"
             ],
             [
              0.6666666666666666,
              "#ed7953"
             ],
             [
              0.7777777777777778,
              "#fb9f3a"
             ],
             [
              0.8888888888888888,
              "#fdca26"
             ],
             [
              1,
              "#f0f921"
             ]
            ],
            "type": "histogram2d"
           }
          ],
          "histogram2dcontour": [
           {
            "colorbar": {
             "outlinewidth": 0,
             "ticks": ""
            },
            "colorscale": [
             [
              0,
              "#0d0887"
             ],
             [
              0.1111111111111111,
              "#46039f"
             ],
             [
              0.2222222222222222,
              "#7201a8"
             ],
             [
              0.3333333333333333,
              "#9c179e"
             ],
             [
              0.4444444444444444,
              "#bd3786"
             ],
             [
              0.5555555555555556,
              "#d8576b"
             ],
             [
              0.6666666666666666,
              "#ed7953"
             ],
             [
              0.7777777777777778,
              "#fb9f3a"
             ],
             [
              0.8888888888888888,
              "#fdca26"
             ],
             [
              1,
              "#f0f921"
             ]
            ],
            "type": "histogram2dcontour"
           }
          ],
          "mesh3d": [
           {
            "colorbar": {
             "outlinewidth": 0,
             "ticks": ""
            },
            "type": "mesh3d"
           }
          ],
          "parcoords": [
           {
            "line": {
             "colorbar": {
              "outlinewidth": 0,
              "ticks": ""
             }
            },
            "type": "parcoords"
           }
          ],
          "pie": [
           {
            "automargin": true,
            "type": "pie"
           }
          ],
          "scatter": [
           {
            "marker": {
             "colorbar": {
              "outlinewidth": 0,
              "ticks": ""
             }
            },
            "type": "scatter"
           }
          ],
          "scatter3d": [
           {
            "line": {
             "colorbar": {
              "outlinewidth": 0,
              "ticks": ""
             }
            },
            "marker": {
             "colorbar": {
              "outlinewidth": 0,
              "ticks": ""
             }
            },
            "type": "scatter3d"
           }
          ],
          "scattercarpet": [
           {
            "marker": {
             "colorbar": {
              "outlinewidth": 0,
              "ticks": ""
             }
            },
            "type": "scattercarpet"
           }
          ],
          "scattergeo": [
           {
            "marker": {
             "colorbar": {
              "outlinewidth": 0,
              "ticks": ""
             }
            },
            "type": "scattergeo"
           }
          ],
          "scattergl": [
           {
            "marker": {
             "colorbar": {
              "outlinewidth": 0,
              "ticks": ""
             }
            },
            "type": "scattergl"
           }
          ],
          "scattermapbox": [
           {
            "marker": {
             "colorbar": {
              "outlinewidth": 0,
              "ticks": ""
             }
            },
            "type": "scattermapbox"
           }
          ],
          "scatterpolar": [
           {
            "marker": {
             "colorbar": {
              "outlinewidth": 0,
              "ticks": ""
             }
            },
            "type": "scatterpolar"
           }
          ],
          "scatterpolargl": [
           {
            "marker": {
             "colorbar": {
              "outlinewidth": 0,
              "ticks": ""
             }
            },
            "type": "scatterpolargl"
           }
          ],
          "scatterternary": [
           {
            "marker": {
             "colorbar": {
              "outlinewidth": 0,
              "ticks": ""
             }
            },
            "type": "scatterternary"
           }
          ],
          "surface": [
           {
            "colorbar": {
             "outlinewidth": 0,
             "ticks": ""
            },
            "colorscale": [
             [
              0,
              "#0d0887"
             ],
             [
              0.1111111111111111,
              "#46039f"
             ],
             [
              0.2222222222222222,
              "#7201a8"
             ],
             [
              0.3333333333333333,
              "#9c179e"
             ],
             [
              0.4444444444444444,
              "#bd3786"
             ],
             [
              0.5555555555555556,
              "#d8576b"
             ],
             [
              0.6666666666666666,
              "#ed7953"
             ],
             [
              0.7777777777777778,
              "#fb9f3a"
             ],
             [
              0.8888888888888888,
              "#fdca26"
             ],
             [
              1,
              "#f0f921"
             ]
            ],
            "type": "surface"
           }
          ],
          "table": [
           {
            "cells": {
             "fill": {
              "color": "#EBF0F8"
             },
             "line": {
              "color": "white"
             }
            },
            "header": {
             "fill": {
              "color": "#C8D4E3"
             },
             "line": {
              "color": "white"
             }
            },
            "type": "table"
           }
          ]
         },
         "layout": {
          "annotationdefaults": {
           "arrowcolor": "#2a3f5f",
           "arrowhead": 0,
           "arrowwidth": 1
          },
          "autotypenumbers": "strict",
          "coloraxis": {
           "colorbar": {
            "outlinewidth": 0,
            "ticks": ""
           }
          },
          "colorscale": {
           "diverging": [
            [
             0,
             "#8e0152"
            ],
            [
             0.1,
             "#c51b7d"
            ],
            [
             0.2,
             "#de77ae"
            ],
            [
             0.3,
             "#f1b6da"
            ],
            [
             0.4,
             "#fde0ef"
            ],
            [
             0.5,
             "#f7f7f7"
            ],
            [
             0.6,
             "#e6f5d0"
            ],
            [
             0.7,
             "#b8e186"
            ],
            [
             0.8,
             "#7fbc41"
            ],
            [
             0.9,
             "#4d9221"
            ],
            [
             1,
             "#276419"
            ]
           ],
           "sequential": [
            [
             0,
             "#0d0887"
            ],
            [
             0.1111111111111111,
             "#46039f"
            ],
            [
             0.2222222222222222,
             "#7201a8"
            ],
            [
             0.3333333333333333,
             "#9c179e"
            ],
            [
             0.4444444444444444,
             "#bd3786"
            ],
            [
             0.5555555555555556,
             "#d8576b"
            ],
            [
             0.6666666666666666,
             "#ed7953"
            ],
            [
             0.7777777777777778,
             "#fb9f3a"
            ],
            [
             0.8888888888888888,
             "#fdca26"
            ],
            [
             1,
             "#f0f921"
            ]
           ],
           "sequentialminus": [
            [
             0,
             "#0d0887"
            ],
            [
             0.1111111111111111,
             "#46039f"
            ],
            [
             0.2222222222222222,
             "#7201a8"
            ],
            [
             0.3333333333333333,
             "#9c179e"
            ],
            [
             0.4444444444444444,
             "#bd3786"
            ],
            [
             0.5555555555555556,
             "#d8576b"
            ],
            [
             0.6666666666666666,
             "#ed7953"
            ],
            [
             0.7777777777777778,
             "#fb9f3a"
            ],
            [
             0.8888888888888888,
             "#fdca26"
            ],
            [
             1,
             "#f0f921"
            ]
           ]
          },
          "colorway": [
           "#636efa",
           "#EF553B",
           "#00cc96",
           "#ab63fa",
           "#FFA15A",
           "#19d3f3",
           "#FF6692",
           "#B6E880",
           "#FF97FF",
           "#FECB52"
          ],
          "font": {
           "color": "#2a3f5f"
          },
          "geo": {
           "bgcolor": "white",
           "lakecolor": "white",
           "landcolor": "#E5ECF6",
           "showlakes": true,
           "showland": true,
           "subunitcolor": "white"
          },
          "hoverlabel": {
           "align": "left"
          },
          "hovermode": "closest",
          "mapbox": {
           "style": "light"
          },
          "paper_bgcolor": "white",
          "plot_bgcolor": "#E5ECF6",
          "polar": {
           "angularaxis": {
            "gridcolor": "white",
            "linecolor": "white",
            "ticks": ""
           },
           "bgcolor": "#E5ECF6",
           "radialaxis": {
            "gridcolor": "white",
            "linecolor": "white",
            "ticks": ""
           }
          },
          "scene": {
           "xaxis": {
            "backgroundcolor": "#E5ECF6",
            "gridcolor": "white",
            "gridwidth": 2,
            "linecolor": "white",
            "showbackground": true,
            "ticks": "",
            "zerolinecolor": "white"
           },
           "yaxis": {
            "backgroundcolor": "#E5ECF6",
            "gridcolor": "white",
            "gridwidth": 2,
            "linecolor": "white",
            "showbackground": true,
            "ticks": "",
            "zerolinecolor": "white"
           },
           "zaxis": {
            "backgroundcolor": "#E5ECF6",
            "gridcolor": "white",
            "gridwidth": 2,
            "linecolor": "white",
            "showbackground": true,
            "ticks": "",
            "zerolinecolor": "white"
           }
          },
          "shapedefaults": {
           "line": {
            "color": "#2a3f5f"
           }
          },
          "ternary": {
           "aaxis": {
            "gridcolor": "white",
            "linecolor": "white",
            "ticks": ""
           },
           "baxis": {
            "gridcolor": "white",
            "linecolor": "white",
            "ticks": ""
           },
           "bgcolor": "#E5ECF6",
           "caxis": {
            "gridcolor": "white",
            "linecolor": "white",
            "ticks": ""
           }
          },
          "title": {
           "x": 0.05
          },
          "xaxis": {
           "automargin": true,
           "gridcolor": "white",
           "linecolor": "white",
           "ticks": "",
           "title": {
            "standoff": 15
           },
           "zerolinecolor": "white",
           "zerolinewidth": 2
          },
          "yaxis": {
           "automargin": true,
           "gridcolor": "white",
           "linecolor": "white",
           "ticks": "",
           "title": {
            "standoff": 15
           },
           "zerolinecolor": "white",
           "zerolinewidth": 2
          }
         }
        }
       }
      },
      "text/html": [
       "<div>                            <div id=\"449abac3-4ed3-42a2-8865-0c0c7fca00cf\" class=\"plotly-graph-div\" style=\"height:525px; width:100%;\"></div>            <script type=\"text/javascript\">                require([\"plotly\"], function(Plotly) {                    window.PLOTLYENV=window.PLOTLYENV || {};                                    if (document.getElementById(\"449abac3-4ed3-42a2-8865-0c0c7fca00cf\")) {                    Plotly.newPlot(                        \"449abac3-4ed3-42a2-8865-0c0c7fca00cf\",                        [{\"y\":[2,3,1],\"type\":\"bar\"}],                        {\"template\":{\"data\":{\"bar\":[{\"error_x\":{\"color\":\"#2a3f5f\"},\"error_y\":{\"color\":\"#2a3f5f\"},\"marker\":{\"line\":{\"color\":\"#E5ECF6\",\"width\":0.5},\"pattern\":{\"fillmode\":\"overlay\",\"size\":10,\"solidity\":0.2}},\"type\":\"bar\"}],\"barpolar\":[{\"marker\":{\"line\":{\"color\":\"#E5ECF6\",\"width\":0.5},\"pattern\":{\"fillmode\":\"overlay\",\"size\":10,\"solidity\":0.2}},\"type\":\"barpolar\"}],\"carpet\":[{\"aaxis\":{\"endlinecolor\":\"#2a3f5f\",\"gridcolor\":\"white\",\"linecolor\":\"white\",\"minorgridcolor\":\"white\",\"startlinecolor\":\"#2a3f5f\"},\"baxis\":{\"endlinecolor\":\"#2a3f5f\",\"gridcolor\":\"white\",\"linecolor\":\"white\",\"minorgridcolor\":\"white\",\"startlinecolor\":\"#2a3f5f\"},\"type\":\"carpet\"}],\"choropleth\":[{\"colorbar\":{\"outlinewidth\":0,\"ticks\":\"\"},\"type\":\"choropleth\"}],\"contour\":[{\"colorbar\":{\"outlinewidth\":0,\"ticks\":\"\"},\"colorscale\":[[0.0,\"#0d0887\"],[0.1111111111111111,\"#46039f\"],[0.2222222222222222,\"#7201a8\"],[0.3333333333333333,\"#9c179e\"],[0.4444444444444444,\"#bd3786\"],[0.5555555555555556,\"#d8576b\"],[0.6666666666666666,\"#ed7953\"],[0.7777777777777778,\"#fb9f3a\"],[0.8888888888888888,\"#fdca26\"],[1.0,\"#f0f921\"]],\"type\":\"contour\"}],\"contourcarpet\":[{\"colorbar\":{\"outlinewidth\":0,\"ticks\":\"\"},\"type\":\"contourcarpet\"}],\"heatmap\":[{\"colorbar\":{\"outlinewidth\":0,\"ticks\":\"\"},\"colorscale\":[[0.0,\"#0d0887\"],[0.1111111111111111,\"#46039f\"],[0.2222222222222222,\"#7201a8\"],[0.3333333333333333,\"#9c179e\"],[0.4444444444444444,\"#bd3786\"],[0.5555555555555556,\"#d8576b\"],[0.6666666666666666,\"#ed7953\"],[0.7777777777777778,\"#fb9f3a\"],[0.8888888888888888,\"#fdca26\"],[1.0,\"#f0f921\"]],\"type\":\"heatmap\"}],\"heatmapgl\":[{\"colorbar\":{\"outlinewidth\":0,\"ticks\":\"\"},\"colorscale\":[[0.0,\"#0d0887\"],[0.1111111111111111,\"#46039f\"],[0.2222222222222222,\"#7201a8\"],[0.3333333333333333,\"#9c179e\"],[0.4444444444444444,\"#bd3786\"],[0.5555555555555556,\"#d8576b\"],[0.6666666666666666,\"#ed7953\"],[0.7777777777777778,\"#fb9f3a\"],[0.8888888888888888,\"#fdca26\"],[1.0,\"#f0f921\"]],\"type\":\"heatmapgl\"}],\"histogram\":[{\"marker\":{\"pattern\":{\"fillmode\":\"overlay\",\"size\":10,\"solidity\":0.2}},\"type\":\"histogram\"}],\"histogram2d\":[{\"colorbar\":{\"outlinewidth\":0,\"ticks\":\"\"},\"colorscale\":[[0.0,\"#0d0887\"],[0.1111111111111111,\"#46039f\"],[0.2222222222222222,\"#7201a8\"],[0.3333333333333333,\"#9c179e\"],[0.4444444444444444,\"#bd3786\"],[0.5555555555555556,\"#d8576b\"],[0.6666666666666666,\"#ed7953\"],[0.7777777777777778,\"#fb9f3a\"],[0.8888888888888888,\"#fdca26\"],[1.0,\"#f0f921\"]],\"type\":\"histogram2d\"}],\"histogram2dcontour\":[{\"colorbar\":{\"outlinewidth\":0,\"ticks\":\"\"},\"colorscale\":[[0.0,\"#0d0887\"],[0.1111111111111111,\"#46039f\"],[0.2222222222222222,\"#7201a8\"],[0.3333333333333333,\"#9c179e\"],[0.4444444444444444,\"#bd3786\"],[0.5555555555555556,\"#d8576b\"],[0.6666666666666666,\"#ed7953\"],[0.7777777777777778,\"#fb9f3a\"],[0.8888888888888888,\"#fdca26\"],[1.0,\"#f0f921\"]],\"type\":\"histogram2dcontour\"}],\"mesh3d\":[{\"colorbar\":{\"outlinewidth\":0,\"ticks\":\"\"},\"type\":\"mesh3d\"}],\"parcoords\":[{\"line\":{\"colorbar\":{\"outlinewidth\":0,\"ticks\":\"\"}},\"type\":\"parcoords\"}],\"pie\":[{\"automargin\":true,\"type\":\"pie\"}],\"scatter\":[{\"marker\":{\"colorbar\":{\"outlinewidth\":0,\"ticks\":\"\"}},\"type\":\"scatter\"}],\"scatter3d\":[{\"line\":{\"colorbar\":{\"outlinewidth\":0,\"ticks\":\"\"}},\"marker\":{\"colorbar\":{\"outlinewidth\":0,\"ticks\":\"\"}},\"type\":\"scatter3d\"}],\"scattercarpet\":[{\"marker\":{\"colorbar\":{\"outlinewidth\":0,\"ticks\":\"\"}},\"type\":\"scattercarpet\"}],\"scattergeo\":[{\"marker\":{\"colorbar\":{\"outlinewidth\":0,\"ticks\":\"\"}},\"type\":\"scattergeo\"}],\"scattergl\":[{\"marker\":{\"colorbar\":{\"outlinewidth\":0,\"ticks\":\"\"}},\"type\":\"scattergl\"}],\"scattermapbox\":[{\"marker\":{\"colorbar\":{\"outlinewidth\":0,\"ticks\":\"\"}},\"type\":\"scattermapbox\"}],\"scatterpolar\":[{\"marker\":{\"colorbar\":{\"outlinewidth\":0,\"ticks\":\"\"}},\"type\":\"scatterpolar\"}],\"scatterpolargl\":[{\"marker\":{\"colorbar\":{\"outlinewidth\":0,\"ticks\":\"\"}},\"type\":\"scatterpolargl\"}],\"scatterternary\":[{\"marker\":{\"colorbar\":{\"outlinewidth\":0,\"ticks\":\"\"}},\"type\":\"scatterternary\"}],\"surface\":[{\"colorbar\":{\"outlinewidth\":0,\"ticks\":\"\"},\"colorscale\":[[0.0,\"#0d0887\"],[0.1111111111111111,\"#46039f\"],[0.2222222222222222,\"#7201a8\"],[0.3333333333333333,\"#9c179e\"],[0.4444444444444444,\"#bd3786\"],[0.5555555555555556,\"#d8576b\"],[0.6666666666666666,\"#ed7953\"],[0.7777777777777778,\"#fb9f3a\"],[0.8888888888888888,\"#fdca26\"],[1.0,\"#f0f921\"]],\"type\":\"surface\"}],\"table\":[{\"cells\":{\"fill\":{\"color\":\"#EBF0F8\"},\"line\":{\"color\":\"white\"}},\"header\":{\"fill\":{\"color\":\"#C8D4E3\"},\"line\":{\"color\":\"white\"}},\"type\":\"table\"}]},\"layout\":{\"annotationdefaults\":{\"arrowcolor\":\"#2a3f5f\",\"arrowhead\":0,\"arrowwidth\":1},\"autotypenumbers\":\"strict\",\"coloraxis\":{\"colorbar\":{\"outlinewidth\":0,\"ticks\":\"\"}},\"colorscale\":{\"diverging\":[[0,\"#8e0152\"],[0.1,\"#c51b7d\"],[0.2,\"#de77ae\"],[0.3,\"#f1b6da\"],[0.4,\"#fde0ef\"],[0.5,\"#f7f7f7\"],[0.6,\"#e6f5d0\"],[0.7,\"#b8e186\"],[0.8,\"#7fbc41\"],[0.9,\"#4d9221\"],[1,\"#276419\"]],\"sequential\":[[0.0,\"#0d0887\"],[0.1111111111111111,\"#46039f\"],[0.2222222222222222,\"#7201a8\"],[0.3333333333333333,\"#9c179e\"],[0.4444444444444444,\"#bd3786\"],[0.5555555555555556,\"#d8576b\"],[0.6666666666666666,\"#ed7953\"],[0.7777777777777778,\"#fb9f3a\"],[0.8888888888888888,\"#fdca26\"],[1.0,\"#f0f921\"]],\"sequentialminus\":[[0.0,\"#0d0887\"],[0.1111111111111111,\"#46039f\"],[0.2222222222222222,\"#7201a8\"],[0.3333333333333333,\"#9c179e\"],[0.4444444444444444,\"#bd3786\"],[0.5555555555555556,\"#d8576b\"],[0.6666666666666666,\"#ed7953\"],[0.7777777777777778,\"#fb9f3a\"],[0.8888888888888888,\"#fdca26\"],[1.0,\"#f0f921\"]]},\"colorway\":[\"#636efa\",\"#EF553B\",\"#00cc96\",\"#ab63fa\",\"#FFA15A\",\"#19d3f3\",\"#FF6692\",\"#B6E880\",\"#FF97FF\",\"#FECB52\"],\"font\":{\"color\":\"#2a3f5f\"},\"geo\":{\"bgcolor\":\"white\",\"lakecolor\":\"white\",\"landcolor\":\"#E5ECF6\",\"showlakes\":true,\"showland\":true,\"subunitcolor\":\"white\"},\"hoverlabel\":{\"align\":\"left\"},\"hovermode\":\"closest\",\"mapbox\":{\"style\":\"light\"},\"paper_bgcolor\":\"white\",\"plot_bgcolor\":\"#E5ECF6\",\"polar\":{\"angularaxis\":{\"gridcolor\":\"white\",\"linecolor\":\"white\",\"ticks\":\"\"},\"bgcolor\":\"#E5ECF6\",\"radialaxis\":{\"gridcolor\":\"white\",\"linecolor\":\"white\",\"ticks\":\"\"}},\"scene\":{\"xaxis\":{\"backgroundcolor\":\"#E5ECF6\",\"gridcolor\":\"white\",\"gridwidth\":2,\"linecolor\":\"white\",\"showbackground\":true,\"ticks\":\"\",\"zerolinecolor\":\"white\"},\"yaxis\":{\"backgroundcolor\":\"#E5ECF6\",\"gridcolor\":\"white\",\"gridwidth\":2,\"linecolor\":\"white\",\"showbackground\":true,\"ticks\":\"\",\"zerolinecolor\":\"white\"},\"zaxis\":{\"backgroundcolor\":\"#E5ECF6\",\"gridcolor\":\"white\",\"gridwidth\":2,\"linecolor\":\"white\",\"showbackground\":true,\"ticks\":\"\",\"zerolinecolor\":\"white\"}},\"shapedefaults\":{\"line\":{\"color\":\"#2a3f5f\"}},\"ternary\":{\"aaxis\":{\"gridcolor\":\"white\",\"linecolor\":\"white\",\"ticks\":\"\"},\"baxis\":{\"gridcolor\":\"white\",\"linecolor\":\"white\",\"ticks\":\"\"},\"bgcolor\":\"#E5ECF6\",\"caxis\":{\"gridcolor\":\"white\",\"linecolor\":\"white\",\"ticks\":\"\"}},\"title\":{\"x\":0.05},\"xaxis\":{\"automargin\":true,\"gridcolor\":\"white\",\"linecolor\":\"white\",\"ticks\":\"\",\"title\":{\"standoff\":15},\"zerolinecolor\":\"white\",\"zerolinewidth\":2},\"yaxis\":{\"automargin\":true,\"gridcolor\":\"white\",\"linecolor\":\"white\",\"ticks\":\"\",\"title\":{\"standoff\":15},\"zerolinecolor\":\"white\",\"zerolinewidth\":2}}}},                        {\"responsive\": true}                    ).then(function(){\n",
       "                            \n",
       "var gd = document.getElementById('449abac3-4ed3-42a2-8865-0c0c7fca00cf');\n",
       "var x = new MutationObserver(function (mutations, observer) {{\n",
       "        var display = window.getComputedStyle(gd).display;\n",
       "        if (!display || display === 'none') {{\n",
       "            console.log([gd, 'removed!']);\n",
       "            Plotly.purge(gd);\n",
       "            observer.disconnect();\n",
       "        }}\n",
       "}});\n",
       "\n",
       "// Listen for the removal of the full notebook cells\n",
       "var notebookContainer = gd.closest('#notebook-container');\n",
       "if (notebookContainer) {{\n",
       "    x.observe(notebookContainer, {childList: true});\n",
       "}}\n",
       "\n",
       "// Listen for the clearing of the current output cell\n",
       "var outputEl = gd.closest('.output');\n",
       "if (outputEl) {{\n",
       "    x.observe(outputEl, {childList: true});\n",
       "}}\n",
       "\n",
       "                        })                };                });            </script>        </div>"
      ]
     },
     "metadata": {},
     "output_type": "display_data"
    }
   ],
   "source": [
    "import plotly.graph_objs as go\n",
    "import chart_studio.plotly as py\n",
    "from plotly.offline import *\n",
    "fig = go.Figure(data=go.Bar(y=[2, 3, 1]))\n",
    "fig.show()"
   ]
  },
  {
   "cell_type": "code",
   "execution_count": 29,
   "id": "34254276",
   "metadata": {
    "scrolled": true
   },
   "outputs": [
    {
     "data": {
      "application/vnd.plotly.v1+json": {
       "config": {
        "plotlyServerURL": "https://plot.ly"
       },
       "data": [
        {
         "hovertemplate": "x=%{x}<br>y=%{y}<extra></extra>",
         "legendgroup": "",
         "marker": {
          "color": "#636efa",
          "symbol": "circle"
         },
         "mode": "markers",
         "name": "",
         "orientation": "v",
         "showlegend": false,
         "type": "scatter",
         "x": [
          0,
          0.02004008016032064,
          0.04008016032064128,
          0.06012024048096192,
          0.08016032064128256,
          0.1002004008016032,
          0.12024048096192384,
          0.1402805611222445,
          0.16032064128256512,
          0.18036072144288576,
          0.2004008016032064,
          0.22044088176352705,
          0.24048096192384769,
          0.2605210420841683,
          0.280561122244489,
          0.3006012024048096,
          0.32064128256513025,
          0.3406813627254509,
          0.3607214428857715,
          0.3807615230460922,
          0.4008016032064128,
          0.42084168336673344,
          0.4408817635270541,
          0.4609218436873747,
          0.48096192384769537,
          0.501002004008016,
          0.5210420841683366,
          0.5410821643286573,
          0.561122244488978,
          0.5811623246492986,
          0.6012024048096192,
          0.6212424849699398,
          0.6412825651302605,
          0.6613226452905812,
          0.6813627254509018,
          0.7014028056112224,
          0.721442885771543,
          0.7414829659318637,
          0.7615230460921844,
          0.781563126252505,
          0.8016032064128256,
          0.8216432865731462,
          0.8416833667334669,
          0.8617234468937875,
          0.8817635270541082,
          0.9018036072144289,
          0.9218436873747494,
          0.9418837675350701,
          0.9619238476953907,
          0.9819639278557114,
          1.002004008016032,
          1.0220440881763526,
          1.0420841683366733,
          1.062124248496994,
          1.0821643286573146,
          1.1022044088176353,
          1.122244488977956,
          1.1422845691382766,
          1.1623246492985972,
          1.1823647294589177,
          1.2024048096192383,
          1.222444889779559,
          1.2424849699398797,
          1.2625250501002003,
          1.282565130260521,
          1.3026052104208417,
          1.3226452905811623,
          1.342685370741483,
          1.3627254509018036,
          1.3827655310621243,
          1.4028056112224447,
          1.4228456913827654,
          1.442885771543086,
          1.4629258517034067,
          1.4829659318637274,
          1.503006012024048,
          1.5230460921843687,
          1.5430861723446894,
          1.56312625250501,
          1.5831663326653307,
          1.6032064128256511,
          1.6232464929859718,
          1.6432865731462925,
          1.6633266533066131,
          1.6833667334669338,
          1.7034068136272544,
          1.723446893787575,
          1.7434869739478958,
          1.7635270541082164,
          1.783567134268537,
          1.8036072144288577,
          1.8236472945891782,
          1.8436873747494988,
          1.8637274549098195,
          1.8837675350701402,
          1.9038076152304608,
          1.9238476953907815,
          1.9438877755511021,
          1.9639278557114228,
          1.9839679358717435,
          2.004008016032064,
          2.024048096192385,
          2.0440881763527052,
          2.064128256513026,
          2.0841683366733466,
          2.1042084168336674,
          2.124248496993988,
          2.1442885771543083,
          2.164328657314629,
          2.1843687374749496,
          2.2044088176352705,
          2.224448897795591,
          2.244488977955912,
          2.2645290581162323,
          2.284569138276553,
          2.3046092184368736,
          2.3246492985971945,
          2.344689378757515,
          2.3647294589178354,
          2.3847695390781563,
          2.4048096192384767,
          2.4248496993987976,
          2.444889779559118,
          2.464929859719439,
          2.4849699398797593,
          2.50501002004008,
          2.5250501002004007,
          2.5450901803607215,
          2.565130260521042,
          2.5851703406813624,
          2.6052104208416833,
          2.6252505010020037,
          2.6452905811623246,
          2.665330661322645,
          2.685370741482966,
          2.7054108216432864,
          2.7254509018036073,
          2.7454909819639277,
          2.7655310621242486,
          2.785571142284569,
          2.8056112224448895,
          2.8256513026052104,
          2.845691382765531,
          2.8657314629258517,
          2.885771543086172,
          2.905811623246493,
          2.9258517034068134,
          2.9458917835671343,
          2.9659318637274548,
          2.9859719438877756,
          3.006012024048096,
          3.0260521042084165,
          3.0460921843687374,
          3.066132264529058,
          3.0861723446893787,
          3.106212424849699,
          3.12625250501002,
          3.1462925851703405,
          3.1663326653306614,
          3.186372745490982,
          3.2064128256513023,
          3.226452905811623,
          3.2464929859719436,
          3.2665330661322645,
          3.286573146292585,
          3.306613226452906,
          3.3266533066132262,
          3.346693386773547,
          3.3667334669338675,
          3.3867735470941884,
          3.406813627254509,
          3.4268537074148293,
          3.44689378757515,
          3.4669338677354706,
          3.4869739478957915,
          3.507014028056112,
          3.527054108216433,
          3.5470941883767533,
          3.567134268537074,
          3.5871743486973946,
          3.6072144288577155,
          3.627254509018036,
          3.6472945891783564,
          3.6673346693386772,
          3.6873747494989977,
          3.7074148296593186,
          3.727454909819639,
          3.74749498997996,
          3.7675350701402803,
          3.787575150300601,
          3.8076152304609217,
          3.8276553106212425,
          3.847695390781563,
          3.8677354709418834,
          3.8877755511022043,
          3.9078156312625247,
          3.9278557114228456,
          3.947895791583166,
          3.967935871743487,
          3.9879759519038074,
          4.008016032064128,
          4.028056112224449,
          4.04809619238477,
          4.06813627254509,
          4.0881763527054105,
          4.108216432865731,
          4.128256513026052,
          4.148296593186372,
          4.168336673346693,
          4.188376753507014,
          4.208416833667335,
          4.228456913827655,
          4.248496993987976,
          4.268537074148297,
          4.288577154308617,
          4.3086172344689375,
          4.328657314629258,
          4.348697394789579,
          4.368737474949899,
          4.38877755511022,
          4.408817635270541,
          4.428857715430862,
          4.448897795591182,
          4.468937875751503,
          4.488977955911824,
          4.509018036072144,
          4.529058116232465,
          4.5490981963927855,
          4.569138276553106,
          4.589178356713426,
          4.609218436873747,
          4.629258517034068,
          4.649298597194389,
          4.669338677354709,
          4.68937875751503,
          4.709418837675351,
          4.729458917835671,
          4.749498997995992,
          4.7695390781563125,
          4.789579158316633,
          4.809619238476953,
          4.829659318637274,
          4.849699398797595,
          4.869739478957916,
          4.889779559118236,
          4.909819639278557,
          4.929859719438878,
          4.949899799599198,
          4.969939879759519,
          4.98997995991984,
          5.01002004008016,
          5.03006012024048,
          5.050100200400801,
          5.070140280561122,
          5.090180360721443,
          5.110220440881763,
          5.130260521042084,
          5.150300601202405,
          5.170340681362725,
          5.190380761523046,
          5.210420841683367,
          5.2304609218436875,
          5.2505010020040075,
          5.270541082164328,
          5.290581162324649,
          5.31062124248497,
          5.33066132264529,
          5.350701402805611,
          5.370741482965932,
          5.390781563126252,
          5.410821643286573,
          5.430861723446894,
          5.4509018036072145,
          5.4709418837675345,
          5.490981963927855,
          5.511022044088176,
          5.531062124248497,
          5.551102204408817,
          5.571142284569138,
          5.591182364729459,
          5.611222444889779,
          5.6312625250501,
          5.651302605210421,
          5.671342685370742,
          5.691382765531062,
          5.7114228456913825,
          5.731462925851703,
          5.751503006012024,
          5.771543086172344,
          5.791583166332665,
          5.811623246492986,
          5.831663326653306,
          5.851703406813627,
          5.871743486973948,
          5.891783567134269,
          5.911823647294589,
          5.9318637274549095,
          5.95190380761523,
          5.971943887775551,
          5.991983967935871,
          6.012024048096192,
          6.032064128256513,
          6.052104208416833,
          6.072144288577154,
          6.092184368737475,
          6.112224448897796,
          6.132264529058116,
          6.152304609218437,
          6.1723446893787575,
          6.192384769539078,
          6.212424849699398,
          6.232464929859719,
          6.25250501002004,
          6.27254509018036,
          6.292585170340681,
          6.312625250501002,
          6.332665330661323,
          6.352705410821643,
          6.372745490981964,
          6.3927855711422845,
          6.4128256513026045,
          6.432865731462925,
          6.452905811623246,
          6.472945891783567,
          6.492985971943887,
          6.513026052104208,
          6.533066132264529,
          6.55310621242485,
          6.57314629258517,
          6.593186372745491,
          6.613226452905812,
          6.633266533066132,
          6.6533066132264524,
          6.673346693386773,
          6.693386773547094,
          6.713426853707414,
          6.733466933867735,
          6.753507014028056,
          6.773547094188377,
          6.793587174348697,
          6.813627254509018,
          6.833667334669339,
          6.853707414829659,
          6.8737474949899795,
          6.8937875751503,
          6.913827655310621,
          6.933867735470941,
          6.953907815631262,
          6.973947895791583,
          6.993987975951904,
          7.014028056112224,
          7.034068136272545,
          7.054108216432866,
          7.074148296593186,
          7.0941883767535066,
          7.114228456913827,
          7.134268537074148,
          7.154308617234468,
          7.174348697394789,
          7.19438877755511,
          7.214428857715431,
          7.234468937875751,
          7.254509018036072,
          7.274549098196393,
          7.294589178356713,
          7.314629258517034,
          7.3346693386773545,
          7.354709418837675,
          7.374749498997995,
          7.394789579158316,
          7.414829659318637,
          7.434869739478958,
          7.454909819639278,
          7.474949899799599,
          7.49498997995992,
          7.51503006012024,
          7.535070140280561,
          7.5551102204408815,
          7.575150300601202,
          7.595190380761522,
          7.615230460921843,
          7.635270541082164,
          7.655310621242485,
          7.675350701402805,
          7.695390781563126,
          7.715430861723447,
          7.735470941883767,
          7.755511022044088,
          7.775551102204409,
          7.7955911823647295,
          7.8156312625250495,
          7.83567134268537,
          7.855711422845691,
          7.875751503006012,
          7.895791583166332,
          7.915831663326653,
          7.935871743486974,
          7.955911823647294,
          7.975951903807615,
          7.995991983967936,
          8.016032064128256,
          8.036072144288577,
          8.056112224448897,
          8.076152304609218,
          8.09619238476954,
          8.11623246492986,
          8.13627254509018,
          8.1563126252505,
          8.176352705410821,
          8.196392785571142,
          8.216432865731463,
          8.236472945891784,
          8.256513026052104,
          8.276553106212425,
          8.296593186372744,
          8.316633266533065,
          8.336673346693386,
          8.356713426853707,
          8.376753507014028,
          8.396793587174349,
          8.41683366733467,
          8.436873747494989,
          8.45691382765531,
          8.47695390781563,
          8.496993987975952,
          8.517034068136272,
          8.537074148296593,
          8.557114228456914,
          8.577154308617233,
          8.597194388777554,
          8.617234468937875,
          8.637274549098196,
          8.657314629258517,
          8.677354709418838,
          8.697394789579159,
          8.71743486973948,
          8.737474949899799,
          8.75751503006012,
          8.77755511022044,
          8.797595190380761,
          8.817635270541082,
          8.837675350701403,
          8.857715430861724,
          8.877755511022043,
          8.897795591182364,
          8.917835671342685,
          8.937875751503006,
          8.957915831663327,
          8.977955911823647,
          8.997995991983968,
          9.018036072144287,
          9.038076152304608,
          9.05811623246493,
          9.07815631262525,
          9.098196392785571,
          9.118236472945892,
          9.138276553106213,
          9.158316633266534,
          9.178356713426853,
          9.198396793587174,
          9.218436873747494,
          9.238476953907815,
          9.258517034068136,
          9.278557114228457,
          9.298597194388778,
          9.318637274549097,
          9.338677354709418,
          9.358717434869739,
          9.37875751503006,
          9.39879759519038,
          9.418837675350701,
          9.438877755511022,
          9.458917835671341,
          9.478957915831662,
          9.498997995991983,
          9.519038076152304,
          9.539078156312625,
          9.559118236472946,
          9.579158316633267,
          9.599198396793588,
          9.619238476953907,
          9.639278557114228,
          9.659318637274549,
          9.67935871743487,
          9.69939879759519,
          9.719438877755511,
          9.739478957915832,
          9.759519038076151,
          9.779559118236472,
          9.799599198396793,
          9.819639278557114,
          9.839679358717435,
          9.859719438877756,
          9.879759519038076,
          9.899799599198396,
          9.919839679358716,
          9.939879759519037,
          9.959919839679358,
          9.97995991983968,
          10
         ],
         "xaxis": "x",
         "y": [
          4.784024006862322,
          5.401086008205848,
          3.8057628527684004,
          4.007513602341687,
          5.622591548599429,
          4.589024451521706,
          3.4720442410297494,
          5.513996209497604,
          3.5236488088906674,
          5.0051744925748425,
          6.133521598950182,
          4.614198270839721,
          6.301348267174928,
          5.672172921524855,
          4.963980954818584,
          4.97470958610504,
          5.6687674403414565,
          4.13634144216272,
          5.4605016643617645,
          3.8717450529528854,
          3.7625129350506437,
          5.280257176772105,
          3.9663157208699054,
          6.405044031043239,
          6.033658982143077,
          6.099678826740304,
          5.4582076373258595,
          4.0596060850377835,
          5.960657688060535,
          6.130054167717523,
          3.5940670902216785,
          4.796890964961751,
          4.38920631138676,
          5.207165273643045,
          4.744702508884249,
          4.508343581989642,
          4.875720834398695,
          4.935812186723354,
          5.546402468199186,
          3.572086508542835,
          3.941991235522921,
          5.283754651250586,
          5.5775902823187264,
          4.481383590366617,
          4.749805318916618,
          5.446184411277051,
          4.214299183148054,
          4.345446059220619,
          3.894218430318961,
          4.814013429918239,
          4.389661464276248,
          3.9809109589720797,
          5.388114087641861,
          4.707268675361627,
          3.2150992156904943,
          3.0432932807020094,
          5.351836893857537,
          5.404853026402966,
          5.7354188581007675,
          3.3778717781430343,
          5.497616123113141,
          4.497247347484734,
          4.390716176848289,
          3.6064655049501186,
          4.418283261739575,
          3.486165355015549,
          2.5332137550933798,
          5.006424483010019,
          2.4484590777551007,
          2.832573274832306,
          4.575119654779499,
          4.212991181226215,
          4.6579579308824925,
          3.753639509478038,
          3.4819994248166286,
          4.72385880540802,
          4.012312820635334,
          4.811232222699241,
          2.239003437209064,
          2.918777146494926,
          4.538674172664805,
          4.527450560453564,
          4.23560206789046,
          3.1579875262727146,
          2.1449231743956316,
          2.2664038114533267,
          4.5593696483427575,
          2.639029363146421,
          2.3320577872624577,
          2.15504241450695,
          2.869669410859996,
          1.9437811345743903,
          3.7800374729749717,
          4.424101978378873,
          4.486655291162272,
          1.625683767336013,
          2.6711426594317538,
          4.36947645129359,
          3.729870912891005,
          1.7809711586638266,
          3.9457146010011726,
          1.6895950148202619,
          4.169115362029698,
          2.2571756481608265,
          2.3607415510317376,
          2.40973040062626,
          2.282553644148427,
          2.732855254703508,
          2.8135233539343365,
          3.4980072286064465,
          4.129813742640602,
          2.630008813989906,
          1.8788520303023195,
          2.050316067865634,
          2.588528941632123,
          4.516727043098585,
          4.425742431010764,
          3.3986350886969965,
          1.9622311613888135,
          3.566466269694259,
          2.7276939368695117,
          2.93942588869752,
          1.7934703131828944,
          3.6438828750489254,
          4.607005839148864,
          3.710077796962537,
          2.4647824253156587,
          3.8279483442219675,
          3.69352737848393,
          2.57368800153492,
          3.4231546555542236,
          2.0441654476678472,
          2.06774631482898,
          3.2366282203641394,
          4.501885773576917,
          3.554485009852416,
          5.078169070594329,
          4.661998422350072,
          3.056133973975543,
          3.9234424936331362,
          4.035001055904304,
          4.957291879915441,
          3.4443385978535455,
          2.8856631252607707,
          4.561334885002868,
          5.037249755751698,
          4.602171817350857,
          4.764538463389701,
          5.274568213699752,
          5.275782906100041,
          4.568898673966289,
          4.849672913265888,
          5.5398395521520465,
          4.031741297136126,
          4.853050843143573,
          4.601943159582096,
          4.591701169712828,
          5.358105597441975,
          3.771495601907492,
          3.5987361549144308,
          4.6617089828998015,
          4.452116840372148,
          4.578179470103278,
          5.350798516391224,
          3.694326895948381,
          5.9296748383520725,
          5.228283247835766,
          4.682753212258243,
          3.6225445305492894,
          5.179317003594637,
          5.354624634583964,
          5.082329247792147,
          6.395107887860885,
          5.773308152488049,
          5.073496104025293,
          3.48281656933488,
          3.8382058479312398,
          3.91668567193733,
          4.953277028980676,
          4.882292827408742,
          4.179727870259585,
          5.295837204656944,
          4.802829705737375,
          3.917248859743447,
          6.278083819485609,
          5.712264420494612,
          4.362491450546546,
          4.351080807306536,
          6.100968964923272,
          6.472905805592103,
          4.766184873603073,
          3.4894086636861017,
          5.755127221354602,
          5.64338786357066,
          3.8957620270821716,
          6.185276139972295,
          4.941762364622692,
          4.736205760783838,
          3.72080626254406,
          5.506210603443634,
          6.280824768996482,
          5.46628943115781,
          5.9544176381437195,
          5.818332241712794,
          4.080907231144122,
          5.9734212144668835,
          3.873499208391104,
          5.781754671145439,
          4.87575501340333,
          5.588119047402276,
          5.516851866868234,
          4.316298101639049,
          4.824829817014578,
          4.726458146825439,
          3.089689745387255,
          3.654421561622215,
          5.112982389029514,
          4.369842352045348,
          4.095108997691353,
          4.094561126436144,
          3.066910942112119,
          4.35338302012009,
          4.794899380327065,
          5.18384780720382,
          2.9930569493073595,
          5.041490585933936,
          3.683627896772875,
          2.33211604406935,
          4.963402964649639,
          5.187514192682432,
          3.090650784599137,
          2.7384002906222844,
          2.7450230595557104,
          2.558736483906735,
          2.582473140567225,
          2.9508904045983906,
          3.7742405333981077,
          3.345905681643529,
          3.423639861410513,
          2.490004013330358,
          4.117340057316578,
          2.7621137496277535,
          2.9377771166689928,
          4.385761094059838,
          1.8954739537301042,
          4.5046536367480225,
          4.114028084194305,
          2.4946999679480415,
          2.9225463163161103,
          2.2263730683922276,
          3.5662424812901405,
          3.0075687753314506,
          3.3473772018512675,
          1.6091112250415445,
          2.1990117929572817,
          3.6598480213282096,
          1.7064276834499283,
          2.257465306355595,
          3.9337507079578655,
          3.3513959968110267,
          2.230298297668061,
          3.513058003171376,
          3.3437546316683924,
          4.140056307122248,
          4.403697999988639,
          4.343543340510925,
          2.145644631235369,
          4.240568460898499,
          4.014670104623312,
          2.4149584037044955,
          3.526179621372529,
          1.9032684884946793,
          3.4524103079020496,
          4.532813120749877,
          2.5916291064448087,
          2.3106360523731375,
          3.218906996843454,
          3.613611730621108,
          2.8246768201617236,
          3.3552109675133295,
          3.3856022058543966,
          2.148470655569531,
          2.560331671051305,
          2.0086736898198634,
          4.745871395791365,
          2.1066844937137805,
          4.231480478799041,
          4.025042326840028,
          2.936451312134957,
          2.885288760378763,
          4.425935836616417,
          3.002912330809154,
          2.6146868695991365,
          4.384103520155609,
          3.0653362483447264,
          3.812600544869719,
          2.4773243311208732,
          3.901503502584362,
          3.6404603005398393,
          3.5461840937926197,
          3.1592530155537037,
          4.643793279551216,
          5.021201448896523,
          4.154029093946351,
          4.227666477011227,
          4.096306716648725,
          4.2291312251155055,
          3.0575588455466884,
          5.771104085952211,
          3.9955565367095396,
          2.9235822207549527,
          4.906903721747748,
          4.836849849576525,
          5.072339109321208,
          5.628943832802315,
          5.116854379431786,
          4.08599690219573,
          4.076604014826816,
          4.7481344803597985,
          4.904154305119758,
          5.318987100474469,
          3.271785469633731,
          4.751350860541649,
          3.4971781793025594,
          4.46043676715364,
          4.238023831113917,
          4.929247749716384,
          5.132210520931001,
          4.003111011705876,
          4.154593132841963,
          4.8403443159089905,
          5.964813656909838,
          4.701899281500392,
          4.6489091198630685,
          3.8630204520947156,
          5.703459722070664,
          4.830715834007218,
          5.097568480038108,
          4.231935811985228,
          6.442150146077591,
          4.971396037118851,
          5.938611558126457,
          5.0600959328669175,
          5.511798854242036,
          4.150458053809723,
          4.122543173236315,
          3.4946227944271984,
          3.4653671964271195,
          6.249480787668576,
          3.542331076243041,
          4.841550963531798,
          6.347518767598474,
          3.7055376851810027,
          3.4494178709416294,
          4.713179858416638,
          5.9726876251708925,
          3.5946073172395927,
          6.129627601140832,
          5.742069876623216,
          5.371638385950005,
          5.279234863301215,
          4.6031699690158305,
          4.403445166738047,
          4.649804361898217,
          5.545117753336472,
          3.982244444185719,
          4.163323230996244,
          3.706001862273999,
          4.084005076774933,
          3.7832325437375136,
          4.15559039264525,
          5.240652077700125,
          5.095808008869407,
          5.05194675071143,
          4.141009346019375,
          5.4714351334072875,
          5.580228474701036,
          3.6443489609257504,
          3.4054008325779574,
          3.190183118846007,
          4.25990130775742,
          2.641313881011147,
          5.385537012996467,
          4.530924109988787,
          3.9605111291939394,
          4.42562796242207,
          2.8222244284976954,
          3.651522830515406,
          2.268603786617015,
          4.148516895406452,
          5.016672391678337,
          4.969596432993589,
          4.598658773952933,
          2.1061054719412975,
          3.408560718234904,
          2.305427660299027,
          2.5430125142405986,
          2.5137837568092376,
          4.303241259309525,
          4.391374520481199,
          1.8573142693023454,
          2.2422451166792117,
          3.056426791697447,
          4.25304244584928,
          2.5762239753866156,
          3.034725829449755,
          4.542884884477475,
          1.6951045876265385,
          3.7564944375247977,
          2.76824974749343,
          2.999336419766144,
          1.934760380100216,
          4.519931912196268,
          3.1150603270213013,
          3.9097303480741283,
          2.679065081239514,
          4.31616931932613,
          1.5113360749358558,
          3.81595297952077,
          2.5799467385958903,
          3.63448839626731,
          3.8551481195870476,
          3.9129345695573856,
          4.427755131279406,
          3.0174836000900402,
          3.368563659226247,
          4.393343391235333,
          2.8054884598246184,
          4.3861230358681595,
          2.4577566434373788,
          1.6234254748988513,
          2.7262872605461053,
          3.202329445938949,
          4.063927534099705,
          4.642376401869313,
          4.66191126361908,
          4.53357819130326,
          4.273730077312971,
          3.169050261847749,
          3.945080272444083,
          2.457043894108524,
          2.1937232659618298,
          2.2834422271870802,
          3.6803495453556354,
          2.2353746963593863,
          3.1557828447298815,
          4.509742168677096,
          3.013007004877754,
          5.085652161568416,
          3.823850836174949,
          2.2817673237724563,
          4.769112413695085,
          3.369346059030798,
          5.218956129149304,
          4.238450547271311,
          4.693669656858974,
          3.1381191330564784,
          2.9690352741501904,
          2.922571293623285,
          2.5569533582896207,
          5.190098037245316,
          4.055934247745466,
          4.033665380155359,
          3.180279318119988,
          5.668247165599,
          3.330362535415137,
          3.8945261315776856,
          5.498135695582434,
          4.5843231016827195,
          3.230397841027971,
          5.008785401422775,
          3.426177387399801,
          3.4246308511513868,
          4.158973753951953,
          4.352597648574404,
          4.13985362452985,
          3.6824459653590904,
          5.73439928544625,
          6.046139826192595,
          3.363042360990899,
          4.042257132194504,
          4.393042174169741,
          4.925691040453236,
          6.124795833403908,
          4.750870295313095,
          4.938537433521548,
          5.697200058921142,
          5.457388078204849,
          4.425310069395309,
          3.7122083746705457,
          4.701608567223861,
          5.942136842775633,
          3.972267053979255,
          3.613113296129858,
          3.5513047150192,
          3.6187783463509287,
          5.571673759911874,
          6.0084983181083,
          5.447673252696799,
          4.1538768287664
         ],
         "yaxis": "y"
        },
        {
         "name": "Sinusoidal Prediction",
         "type": "scatter",
         "x": [
          0,
          0.02004008016032064,
          0.04008016032064128,
          0.06012024048096192,
          0.08016032064128256,
          0.1002004008016032,
          0.12024048096192384,
          0.1402805611222445,
          0.16032064128256512,
          0.18036072144288576,
          0.2004008016032064,
          0.22044088176352705,
          0.24048096192384769,
          0.2605210420841683,
          0.280561122244489,
          0.3006012024048096,
          0.32064128256513025,
          0.3406813627254509,
          0.3607214428857715,
          0.3807615230460922,
          0.4008016032064128,
          0.42084168336673344,
          0.4408817635270541,
          0.4609218436873747,
          0.48096192384769537,
          0.501002004008016,
          0.5210420841683366,
          0.5410821643286573,
          0.561122244488978,
          0.5811623246492986,
          0.6012024048096192,
          0.6212424849699398,
          0.6412825651302605,
          0.6613226452905812,
          0.6813627254509018,
          0.7014028056112224,
          0.721442885771543,
          0.7414829659318637,
          0.7615230460921844,
          0.781563126252505,
          0.8016032064128256,
          0.8216432865731462,
          0.8416833667334669,
          0.8617234468937875,
          0.8817635270541082,
          0.9018036072144289,
          0.9218436873747494,
          0.9418837675350701,
          0.9619238476953907,
          0.9819639278557114,
          1.002004008016032,
          1.0220440881763526,
          1.0420841683366733,
          1.062124248496994,
          1.0821643286573146,
          1.1022044088176353,
          1.122244488977956,
          1.1422845691382766,
          1.1623246492985972,
          1.1823647294589177,
          1.2024048096192383,
          1.222444889779559,
          1.2424849699398797,
          1.2625250501002003,
          1.282565130260521,
          1.3026052104208417,
          1.3226452905811623,
          1.342685370741483,
          1.3627254509018036,
          1.3827655310621243,
          1.4028056112224447,
          1.4228456913827654,
          1.442885771543086,
          1.4629258517034067,
          1.4829659318637274,
          1.503006012024048,
          1.5230460921843687,
          1.5430861723446894,
          1.56312625250501,
          1.5831663326653307,
          1.6032064128256511,
          1.6232464929859718,
          1.6432865731462925,
          1.6633266533066131,
          1.6833667334669338,
          1.7034068136272544,
          1.723446893787575,
          1.7434869739478958,
          1.7635270541082164,
          1.783567134268537,
          1.8036072144288577,
          1.8236472945891782,
          1.8436873747494988,
          1.8637274549098195,
          1.8837675350701402,
          1.9038076152304608,
          1.9238476953907815,
          1.9438877755511021,
          1.9639278557114228,
          1.9839679358717435,
          2.004008016032064,
          2.024048096192385,
          2.0440881763527052,
          2.064128256513026,
          2.0841683366733466,
          2.1042084168336674,
          2.124248496993988,
          2.1442885771543083,
          2.164328657314629,
          2.1843687374749496,
          2.2044088176352705,
          2.224448897795591,
          2.244488977955912,
          2.2645290581162323,
          2.284569138276553,
          2.3046092184368736,
          2.3246492985971945,
          2.344689378757515,
          2.3647294589178354,
          2.3847695390781563,
          2.4048096192384767,
          2.4248496993987976,
          2.444889779559118,
          2.464929859719439,
          2.4849699398797593,
          2.50501002004008,
          2.5250501002004007,
          2.5450901803607215,
          2.565130260521042,
          2.5851703406813624,
          2.6052104208416833,
          2.6252505010020037,
          2.6452905811623246,
          2.665330661322645,
          2.685370741482966,
          2.7054108216432864,
          2.7254509018036073,
          2.7454909819639277,
          2.7655310621242486,
          2.785571142284569,
          2.8056112224448895,
          2.8256513026052104,
          2.845691382765531,
          2.8657314629258517,
          2.885771543086172,
          2.905811623246493,
          2.9258517034068134,
          2.9458917835671343,
          2.9659318637274548,
          2.9859719438877756,
          3.006012024048096,
          3.0260521042084165,
          3.0460921843687374,
          3.066132264529058,
          3.0861723446893787,
          3.106212424849699,
          3.12625250501002,
          3.1462925851703405,
          3.1663326653306614,
          3.186372745490982,
          3.2064128256513023,
          3.226452905811623,
          3.2464929859719436,
          3.2665330661322645,
          3.286573146292585,
          3.306613226452906,
          3.3266533066132262,
          3.346693386773547,
          3.3667334669338675,
          3.3867735470941884,
          3.406813627254509,
          3.4268537074148293,
          3.44689378757515,
          3.4669338677354706,
          3.4869739478957915,
          3.507014028056112,
          3.527054108216433,
          3.5470941883767533,
          3.567134268537074,
          3.5871743486973946,
          3.6072144288577155,
          3.627254509018036,
          3.6472945891783564,
          3.6673346693386772,
          3.6873747494989977,
          3.7074148296593186,
          3.727454909819639,
          3.74749498997996,
          3.7675350701402803,
          3.787575150300601,
          3.8076152304609217,
          3.8276553106212425,
          3.847695390781563,
          3.8677354709418834,
          3.8877755511022043,
          3.9078156312625247,
          3.9278557114228456,
          3.947895791583166,
          3.967935871743487,
          3.9879759519038074,
          4.008016032064128,
          4.028056112224449,
          4.04809619238477,
          4.06813627254509,
          4.0881763527054105,
          4.108216432865731,
          4.128256513026052,
          4.148296593186372,
          4.168336673346693,
          4.188376753507014,
          4.208416833667335,
          4.228456913827655,
          4.248496993987976,
          4.268537074148297,
          4.288577154308617,
          4.3086172344689375,
          4.328657314629258,
          4.348697394789579,
          4.368737474949899,
          4.38877755511022,
          4.408817635270541,
          4.428857715430862,
          4.448897795591182,
          4.468937875751503,
          4.488977955911824,
          4.509018036072144,
          4.529058116232465,
          4.5490981963927855,
          4.569138276553106,
          4.589178356713426,
          4.609218436873747,
          4.629258517034068,
          4.649298597194389,
          4.669338677354709,
          4.68937875751503,
          4.709418837675351,
          4.729458917835671,
          4.749498997995992,
          4.7695390781563125,
          4.789579158316633,
          4.809619238476953,
          4.829659318637274,
          4.849699398797595,
          4.869739478957916,
          4.889779559118236,
          4.909819639278557,
          4.929859719438878,
          4.949899799599198,
          4.969939879759519,
          4.98997995991984,
          5.01002004008016,
          5.03006012024048,
          5.050100200400801,
          5.070140280561122,
          5.090180360721443,
          5.110220440881763,
          5.130260521042084,
          5.150300601202405,
          5.170340681362725,
          5.190380761523046,
          5.210420841683367,
          5.2304609218436875,
          5.2505010020040075,
          5.270541082164328,
          5.290581162324649,
          5.31062124248497,
          5.33066132264529,
          5.350701402805611,
          5.370741482965932,
          5.390781563126252,
          5.410821643286573,
          5.430861723446894,
          5.4509018036072145,
          5.4709418837675345,
          5.490981963927855,
          5.511022044088176,
          5.531062124248497,
          5.551102204408817,
          5.571142284569138,
          5.591182364729459,
          5.611222444889779,
          5.6312625250501,
          5.651302605210421,
          5.671342685370742,
          5.691382765531062,
          5.7114228456913825,
          5.731462925851703,
          5.751503006012024,
          5.771543086172344,
          5.791583166332665,
          5.811623246492986,
          5.831663326653306,
          5.851703406813627,
          5.871743486973948,
          5.891783567134269,
          5.911823647294589,
          5.9318637274549095,
          5.95190380761523,
          5.971943887775551,
          5.991983967935871,
          6.012024048096192,
          6.032064128256513,
          6.052104208416833,
          6.072144288577154,
          6.092184368737475,
          6.112224448897796,
          6.132264529058116,
          6.152304609218437,
          6.1723446893787575,
          6.192384769539078,
          6.212424849699398,
          6.232464929859719,
          6.25250501002004,
          6.27254509018036,
          6.292585170340681,
          6.312625250501002,
          6.332665330661323,
          6.352705410821643,
          6.372745490981964,
          6.3927855711422845,
          6.4128256513026045,
          6.432865731462925,
          6.452905811623246,
          6.472945891783567,
          6.492985971943887,
          6.513026052104208,
          6.533066132264529,
          6.55310621242485,
          6.57314629258517,
          6.593186372745491,
          6.613226452905812,
          6.633266533066132,
          6.6533066132264524,
          6.673346693386773,
          6.693386773547094,
          6.713426853707414,
          6.733466933867735,
          6.753507014028056,
          6.773547094188377,
          6.793587174348697,
          6.813627254509018,
          6.833667334669339,
          6.853707414829659,
          6.8737474949899795,
          6.8937875751503,
          6.913827655310621,
          6.933867735470941,
          6.953907815631262,
          6.973947895791583,
          6.993987975951904,
          7.014028056112224,
          7.034068136272545,
          7.054108216432866,
          7.074148296593186,
          7.0941883767535066,
          7.114228456913827,
          7.134268537074148,
          7.154308617234468,
          7.174348697394789,
          7.19438877755511,
          7.214428857715431,
          7.234468937875751,
          7.254509018036072,
          7.274549098196393,
          7.294589178356713,
          7.314629258517034,
          7.3346693386773545,
          7.354709418837675,
          7.374749498997995,
          7.394789579158316,
          7.414829659318637,
          7.434869739478958,
          7.454909819639278,
          7.474949899799599,
          7.49498997995992,
          7.51503006012024,
          7.535070140280561,
          7.5551102204408815,
          7.575150300601202,
          7.595190380761522,
          7.615230460921843,
          7.635270541082164,
          7.655310621242485,
          7.675350701402805,
          7.695390781563126,
          7.715430861723447,
          7.735470941883767,
          7.755511022044088,
          7.775551102204409,
          7.7955911823647295,
          7.8156312625250495,
          7.83567134268537,
          7.855711422845691,
          7.875751503006012,
          7.895791583166332,
          7.915831663326653,
          7.935871743486974,
          7.955911823647294,
          7.975951903807615,
          7.995991983967936,
          8.016032064128256,
          8.036072144288577,
          8.056112224448897,
          8.076152304609218,
          8.09619238476954,
          8.11623246492986,
          8.13627254509018,
          8.1563126252505,
          8.176352705410821,
          8.196392785571142,
          8.216432865731463,
          8.236472945891784,
          8.256513026052104,
          8.276553106212425,
          8.296593186372744,
          8.316633266533065,
          8.336673346693386,
          8.356713426853707,
          8.376753507014028,
          8.396793587174349,
          8.41683366733467,
          8.436873747494989,
          8.45691382765531,
          8.47695390781563,
          8.496993987975952,
          8.517034068136272,
          8.537074148296593,
          8.557114228456914,
          8.577154308617233,
          8.597194388777554,
          8.617234468937875,
          8.637274549098196,
          8.657314629258517,
          8.677354709418838,
          8.697394789579159,
          8.71743486973948,
          8.737474949899799,
          8.75751503006012,
          8.77755511022044,
          8.797595190380761,
          8.817635270541082,
          8.837675350701403,
          8.857715430861724,
          8.877755511022043,
          8.897795591182364,
          8.917835671342685,
          8.937875751503006,
          8.957915831663327,
          8.977955911823647,
          8.997995991983968,
          9.018036072144287,
          9.038076152304608,
          9.05811623246493,
          9.07815631262525,
          9.098196392785571,
          9.118236472945892,
          9.138276553106213,
          9.158316633266534,
          9.178356713426853,
          9.198396793587174,
          9.218436873747494,
          9.238476953907815,
          9.258517034068136,
          9.278557114228457,
          9.298597194388778,
          9.318637274549097,
          9.338677354709418,
          9.358717434869739,
          9.37875751503006,
          9.39879759519038,
          9.418837675350701,
          9.438877755511022,
          9.458917835671341,
          9.478957915831662,
          9.498997995991983,
          9.519038076152304,
          9.539078156312625,
          9.559118236472946,
          9.579158316633267,
          9.599198396793588,
          9.619238476953907,
          9.639278557114228,
          9.659318637274549,
          9.67935871743487,
          9.69939879759519,
          9.719438877755511,
          9.739478957915832,
          9.759519038076151,
          9.779559118236472,
          9.799599198396793,
          9.819639278557114,
          9.839679358717435,
          9.859719438877756,
          9.879759519038076,
          9.899799599198396,
          9.919839679358716,
          9.939879759519037,
          9.959919839679358,
          9.97995991983968,
          10
         ],
         "y": [
          4.479425538604203,
          4.514204744204118,
          4.548158031976893,
          4.5812308660086165,
          4.6133701245738905,
          4.644524185460163,
          4.674643008883547,
          4.70367821786293,
          4.731583175923288,
          4.758313062003385,
          4.783824942447552,
          4.808077839965905,
          4.831032799452242,
          4.852652950553898,
          4.872903566893059,
          4.89175212184442,
          4.909168340779585,
          4.925124249694305,
          4.939594220140437,
          4.95255501039047,
          4.963985802768485,
          4.973868237087591,
          4.982186440140137,
          4.988927051193327,
          4.994079243449278,
          4.9976347414350775,
          4.999587834294875,
          4.999935384962691,
          4.9986768352011755,
          4.9958142064982605,
          4.991352096820233,
          4.9852976732264604,
          4.977660660357637,
          4.968453324816014,
          4.957690455462744,
          4.9453893396639375,
          4.931569735523631,
          4.916253840148236,
          4.899466253993448,
          4.881233941350896,
          4.861586187037985,
          4.8405545493604905,
          4.818172809423485,
          4.794476916871979,
          4.769504932148447,
          4.743296965359993,
          4.715895111853319,
          4.687343384601007,
          4.657687643507694,
          4.626975521749703,
          4.595256349266429,
          4.562581073526389,
          4.52900217769518,
          4.494573596336795,
          4.459350628783705,
          4.423389850314832,
          4.3867490212841025,
          4.3494869943455186,
          4.311663619923783,
          4.273339650082289,
          4.234576640942905,
          4.195436853814266,
          4.155983155187408,
          4.116278915759331,
          4.07638790864673,
          4.03637420695334,
          3.9963020808554517,
          3.9562358943708773,
          3.916240001977198,
          3.876378645245331,
          3.836715849654446,
          3.7973153217539695,
          3.758240346837861,
          3.7195536872955035,
          3.68131748180249,
          3.643593145513221,
          3.606441271415626,
          3.5699215330064478,
          3.534092588443424,
          3.4990119863283047,
          3.464736073272047,
          3.4313199033906487,
          3.398817149876999,
          3.3672800187907677,
          3.3367591652048105,
          3.3073036118427814,
          3.278960670338624,
          3.2517758652444266,
          3.225792860908697,
          3.201053391342498,
          3.177597193186106,
          3.1554619418838508,
          3.134683191169657,
          3.115294315960491,
          3.0973264587494227,
          3.0808084795844257,
          3.065766909713247,
          3.052225908968803,
          3.0402072269635543,
          3.0297301681551883,
          3.0208115608397157,
          3.0134657301217924,
          3.0077044749056747,
          3.0035370489437705,
          3.0009701459732225,
          3.0000078889643995,
          3.000651823498564,
          3.002900915285354,
          3.0067515518240633,
          3.0121975482060552,
          3.019230157048991,
          3.0278380825469084,
          3.038007498613598,
          3.049722071090115,
          3.062962983980781,
          3.077708969675509,
          3.0939363431099336,
          3.111619039808456,
          3.1307286577491205,
          3.151234502983058,
          3.1731036389352356,
          3.1963009393073247,
          3.2207891444977075,
          3.2465289214480078,
          3.2734789268200126,
          3.30159587340152,
          3.3308345996344366,
          3.3611481421534686,
          3.3924878112188708,
          3.4248032689221173,
          3.458042610038859,
          3.4921524453993134,
          3.527077987642178,
          3.5627631392143146,
          3.5991505824748824,
          3.6361818717591685,
          3.6737975272542656,
          3.711937130535793,
          3.7505394216122316,
          3.7895423973209708,
          3.82888341091806,
          3.8684992727016656,
          3.908326351507637,
          3.948300676914156,
          3.98835804199129,
          4.02843410643044,
          4.068464499888012,
          4.1083849253773375,
          4.148131262542756,
          4.187639670650013,
          4.226846691127506,
          4.265689349493716,
          4.304105256507081,
          4.342032708375861,
          4.379410785867028,
          4.416179452154993,
          4.452279649253012,
          4.48765339287237,
          4.522243865556991,
          4.555995507943873,
          4.588854108002778,
          4.620766888111817,
          4.651682589829085,
          4.681551556224202,
          4.710325811637464,
          4.7379591387385664,
          4.764407152761063,
          4.7896273727933725,
          4.813579290011794,
          4.836224432745951,
          4.857526428272151,
          4.877451061235407,
          4.895966328606287,
          4.91304249108431,
          4.928652120865341,
          4.942770145696242,
          4.955373889146032,
          4.966443107028867,
          4.975960019920334,
          4.983909341714841,
          4.99027830417822,
          4.995056677456123,
          4.998236786505252,
          4.999813523421052,
          4.999784355642043,
          4.998149330017635,
          4.994911072732876,
          4.990074785090264,
          4.983648235155393,
          4.975641745279849,
          4.966068175521413,
          4.9549429029881775,
          4.94228379713977,
          4.928111191085353,
          4.912447848924498,
          4.895318929183395,
          4.8767519444051155,
          4.856776716958858,
          4.8354253311391275,
          4.812732081631809,
          4.788733418429898,
          4.763467888287364,
          4.736976072805198,
          4.709300523249073,
          4.680485692203317,
          4.650577862170989,
          4.6196250712347275,
          4.587677035897779,
          4.554785071229138,
          4.521002008441071,
          4.4863821100314,
          4.45098098262685,
          4.414855487667444,
          4.378063650075433,
          4.340664565055406,
          4.302718303175332,
          4.26428581388096,
          4.2254288275985585,
          4.18620975658325,
          4.146691594672178,
          4.106937816103543,
          4.067012273564019,
          4.026979095628288,
          3.986902583755461,
          3.946847109007802,
          3.906877008657657,
          3.8670564828486507,
          3.827449491477153,
          3.7881196514596205,
          3.749130134550837,
          3.7105435658771717,
          3.6724219233478435,
          3.634826438105738,
          3.597817496177691,
          3.5614545414821897,
          3.5257959803503107,
          3.4908990877132218,
          3.4568199151069376,
          3.4236132006421194,
          3.3913322810834825,
          3.3600290061800644,
          3.329753655383932,
          3.300554857091126,
          3.2724795105345144,
          3.2455727104540553,
          3.219877674665428,
          3.195435674643404,
          3.1722859692314245,
          3.1504657415838797,
          3.130010039442374,
          3.1109517188418945,
          3.0933213913373057,
          3.0771473748349436,
          3.0624556481082776,
          3.0492698090706902,
          3.0376110368724127,
          3.0274980578824833,
          3.018947115610374,
          3.011971944615599,
          3.0065837484472047,
          3.0027911816485844,
          3.0006003358565128,
          3.0000147300167344,
          3.0010353047318166,
          3.0036604207503514,
          3.0078858615999264,
          3.013704840359642,
          3.021108010561292,
          3.0300834812016992,
          3.040616835842095,
          3.052691155763867,
          3.066287047143472,
          3.0813826722028788,
          3.097953784285499,
          3.115973766801272,
          3.1354136759783393,
          3.156242287352655,
          3.1784261459208523,
          3.2019296198758105,
          3.2267149578386127,
          3.2527423494949703,
          3.2799699895387193,
          3.3083541448196767,
          3.3378492245880107,
          3.368407853722296,
          3.3999809488236377,
          3.4325177970536243,
          3.4659661375895094,
          3.500272245565763,
          3.535381018367181,
          3.5712360641349306,
          3.607779792343394,
          3.644953506302321,
          3.682697497435689,
          3.720951141185876,
          3.7596529943890777,
          3.7987408939655816,
          3.8381520567663596,
          3.877823180415631,
          3.917690544987404,
          3.957690115352695,
          3.997757644033012,
          4.037828774394931,
          4.077839144019998,
          4.117724488083904,
          4.1574207425789265,
          4.196864147213803,
          4.235991347825785,
          4.274739498140359,
          4.31304636071519,
          4.350850406906176,
          4.3880909156950105,
          4.424708071219533,
          4.460643058850225,
          4.495838159658516,
          4.530236843125165,
          4.563783857939822,
          4.596425320745914,
          4.628108802688325,
          4.658783413624834,
          4.688399883866083,
          4.71691064331276,
          4.744269897862889,
          4.770433702966512,
          4.79536003420961,
          4.8190088548138945,
          4.841342179944048,
          4.862324137719128,
          4.88192102683013,
          4.90010137067118,
          4.916835967897383,
          4.93209793932815,
          4.94586277112065,
          4.95810835414405,
          4.968815019491291,
          4.977965570071371,
          4.985545308231385,
          4.99154205936396,
          4.995946191462153,
          4.998750630590426,
          4.999950872246836,
          4.999544988598173,
          4.9975336315764665,
          4.9939200318318395,
          4.988709993543432,
          4.9819118850966975,
          4.973536625642074,
          4.963597667556593,
          4.952110974836615,
          4.939094997456397,
          4.92457064173366,
          4.908561236749774,
          4.8910924968784935,
          4.8721924804834185,
          4.851891544850529,
          4.830222297428196,
          4.807219543452948,
          4.782920230045161,
          4.757363386864433,
          4.730590063419985,
          4.702643263136764,
          4.673567874283162,
          4.643410597871283,
          4.6122198726455945,
          4.580045797280401,
          4.546940049911141,
          4.512955805128758,
          4.47814764857044,
          4.442571489243943,
          4.406284469726303,
          4.369344874381194,
          4.331812035742332,
          4.293746239213316,
          4.2552086262369455,
          4.216261096089594,
          4.176966206458322,
          4.13738707296045,
          4.097587267767001,
          4.057630717492806,
          4.017581600517303,
          3.977504243900955,
          3.937463020062856,
          3.89752224338548,
          3.8577460669126498,
          3.81819837930664,
          3.77894270222995,
          3.740042088316536,
          3.701559019896401,
          3.663555308636221,
          3.62609199625718,
          3.5892292564895056,
          3.5530262984211554,
          3.5175412713959515,
          3.4828311716138454,
          3.4489517505833853,
          3.4159574255734078,
          3.38390119220779,
          3.352834539343659,
          3.3228073663697675,
          3.2938679030578895,
          3.2660626320959576,
          3.239436214427365,
          3.2140314175163844,
          3.1898890466548777,
          3.167047879420665,
          3.1455446033928163,
          3.1254137572239107,
          3.106687675163897,
          3.0893964351247005,
          3.0735678103689406,
          3.059227224900407,
          3.0463977126279143,
          3.0350998803681413,
          3.0253518747468764,
          3.0171693530518295,
          3.0105654580838292,
          3.0055507970468045,
          3.0021334245104465,
          3.000318829472925,
          3.0001099265444355,
          3.0015070512657434,
          3.004507959569232,
          3.009107831383339,
          3.0152992783745707,
          3.0230723558146773,
          3.032414578553917,
          3.043310941074755,
          3.05574394159379,
          3.069693610173192,
          3.085137540796502,
          3.102050927357267,
          3.1204066035027163,
          3.140175086268468,
          3.161324623434195,
          3.183821244524171,
          3.2076288153707946,
          3.2327090961534384,
          3.259021802819418,
          3.2865246717883947,
          3.3151735278363272,
          3.3449223550498965,
          3.3757233707374628,
          3.407527102177824,
          3.4402824660835085,
          3.4739368506509765,
          3.508436200065904,
          3.543725101327871,
          3.5797468732549538,
          3.6164436575252763,
          3.6537565116092945,
          3.691625503443528,
          3.7299898076937086,
          3.768787803452669,
          3.8079571732161157,
          3.847435002977264,
          3.8871578832795817,
          3.927062011065323,
          3.967083292156272,
          4.007157444202076,
          4.047220099930843,
          4.0872069105361035,
          4.127053649034146,
          4.16669631342567,
          4.206071229496066,
          4.2451151530892055,
          4.283765371690466,
          4.321959805155855,
          4.359637105425376,
          4.3967367550605525,
          4.433199164447792,
          4.468965767511476,
          4.5039791157830305,
          4.538182970674906,
          4.571522393811234,
          4.603943835270069,
          4.635395219595509,
          4.665826029441503,
          4.695187386713034,
          4.723432131074315,
          4.750514895697922,
          4.77639218013318,
          4.80102242017678,
          4.824366054633362,
          4.846385588858887,
          4.867045654984684,
          4.886313068725475,
          4.9041568826801125,
          4.920548436039421,
          4.935461400621319,
          4.948871823159248,
          4.96075816377601,
          4.971101330581216,
          4.979884710336753,
          4.987094195141043,
          4.99271820508921,
          4.996747706872775,
          4.9991762282889916,
          4.999999868636526,
          4.999217304980781,
          4.996829794278799
         ]
        }
       ],
       "layout": {
        "legend": {
         "tracegroupgap": 0
        },
        "margin": {
         "t": 60
        },
        "template": {
         "data": {
          "bar": [
           {
            "error_x": {
             "color": "#2a3f5f"
            },
            "error_y": {
             "color": "#2a3f5f"
            },
            "marker": {
             "line": {
              "color": "#E5ECF6",
              "width": 0.5
             },
             "pattern": {
              "fillmode": "overlay",
              "size": 10,
              "solidity": 0.2
             }
            },
            "type": "bar"
           }
          ],
          "barpolar": [
           {
            "marker": {
             "line": {
              "color": "#E5ECF6",
              "width": 0.5
             },
             "pattern": {
              "fillmode": "overlay",
              "size": 10,
              "solidity": 0.2
             }
            },
            "type": "barpolar"
           }
          ],
          "carpet": [
           {
            "aaxis": {
             "endlinecolor": "#2a3f5f",
             "gridcolor": "white",
             "linecolor": "white",
             "minorgridcolor": "white",
             "startlinecolor": "#2a3f5f"
            },
            "baxis": {
             "endlinecolor": "#2a3f5f",
             "gridcolor": "white",
             "linecolor": "white",
             "minorgridcolor": "white",
             "startlinecolor": "#2a3f5f"
            },
            "type": "carpet"
           }
          ],
          "choropleth": [
           {
            "colorbar": {
             "outlinewidth": 0,
             "ticks": ""
            },
            "type": "choropleth"
           }
          ],
          "contour": [
           {
            "colorbar": {
             "outlinewidth": 0,
             "ticks": ""
            },
            "colorscale": [
             [
              0,
              "#0d0887"
             ],
             [
              0.1111111111111111,
              "#46039f"
             ],
             [
              0.2222222222222222,
              "#7201a8"
             ],
             [
              0.3333333333333333,
              "#9c179e"
             ],
             [
              0.4444444444444444,
              "#bd3786"
             ],
             [
              0.5555555555555556,
              "#d8576b"
             ],
             [
              0.6666666666666666,
              "#ed7953"
             ],
             [
              0.7777777777777778,
              "#fb9f3a"
             ],
             [
              0.8888888888888888,
              "#fdca26"
             ],
             [
              1,
              "#f0f921"
             ]
            ],
            "type": "contour"
           }
          ],
          "contourcarpet": [
           {
            "colorbar": {
             "outlinewidth": 0,
             "ticks": ""
            },
            "type": "contourcarpet"
           }
          ],
          "heatmap": [
           {
            "colorbar": {
             "outlinewidth": 0,
             "ticks": ""
            },
            "colorscale": [
             [
              0,
              "#0d0887"
             ],
             [
              0.1111111111111111,
              "#46039f"
             ],
             [
              0.2222222222222222,
              "#7201a8"
             ],
             [
              0.3333333333333333,
              "#9c179e"
             ],
             [
              0.4444444444444444,
              "#bd3786"
             ],
             [
              0.5555555555555556,
              "#d8576b"
             ],
             [
              0.6666666666666666,
              "#ed7953"
             ],
             [
              0.7777777777777778,
              "#fb9f3a"
             ],
             [
              0.8888888888888888,
              "#fdca26"
             ],
             [
              1,
              "#f0f921"
             ]
            ],
            "type": "heatmap"
           }
          ],
          "heatmapgl": [
           {
            "colorbar": {
             "outlinewidth": 0,
             "ticks": ""
            },
            "colorscale": [
             [
              0,
              "#0d0887"
             ],
             [
              0.1111111111111111,
              "#46039f"
             ],
             [
              0.2222222222222222,
              "#7201a8"
             ],
             [
              0.3333333333333333,
              "#9c179e"
             ],
             [
              0.4444444444444444,
              "#bd3786"
             ],
             [
              0.5555555555555556,
              "#d8576b"
             ],
             [
              0.6666666666666666,
              "#ed7953"
             ],
             [
              0.7777777777777778,
              "#fb9f3a"
             ],
             [
              0.8888888888888888,
              "#fdca26"
             ],
             [
              1,
              "#f0f921"
             ]
            ],
            "type": "heatmapgl"
           }
          ],
          "histogram": [
           {
            "marker": {
             "pattern": {
              "fillmode": "overlay",
              "size": 10,
              "solidity": 0.2
             }
            },
            "type": "histogram"
           }
          ],
          "histogram2d": [
           {
            "colorbar": {
             "outlinewidth": 0,
             "ticks": ""
            },
            "colorscale": [
             [
              0,
              "#0d0887"
             ],
             [
              0.1111111111111111,
              "#46039f"
             ],
             [
              0.2222222222222222,
              "#7201a8"
             ],
             [
              0.3333333333333333,
              "#9c179e"
             ],
             [
              0.4444444444444444,
              "#bd3786"
             ],
             [
              0.5555555555555556,
              "#d8576b"
             ],
             [
              0.6666666666666666,
              "#ed7953"
             ],
             [
              0.7777777777777778,
              "#fb9f3a"
             ],
             [
              0.8888888888888888,
              "#fdca26"
             ],
             [
              1,
              "#f0f921"
             ]
            ],
            "type": "histogram2d"
           }
          ],
          "histogram2dcontour": [
           {
            "colorbar": {
             "outlinewidth": 0,
             "ticks": ""
            },
            "colorscale": [
             [
              0,
              "#0d0887"
             ],
             [
              0.1111111111111111,
              "#46039f"
             ],
             [
              0.2222222222222222,
              "#7201a8"
             ],
             [
              0.3333333333333333,
              "#9c179e"
             ],
             [
              0.4444444444444444,
              "#bd3786"
             ],
             [
              0.5555555555555556,
              "#d8576b"
             ],
             [
              0.6666666666666666,
              "#ed7953"
             ],
             [
              0.7777777777777778,
              "#fb9f3a"
             ],
             [
              0.8888888888888888,
              "#fdca26"
             ],
             [
              1,
              "#f0f921"
             ]
            ],
            "type": "histogram2dcontour"
           }
          ],
          "mesh3d": [
           {
            "colorbar": {
             "outlinewidth": 0,
             "ticks": ""
            },
            "type": "mesh3d"
           }
          ],
          "parcoords": [
           {
            "line": {
             "colorbar": {
              "outlinewidth": 0,
              "ticks": ""
             }
            },
            "type": "parcoords"
           }
          ],
          "pie": [
           {
            "automargin": true,
            "type": "pie"
           }
          ],
          "scatter": [
           {
            "marker": {
             "colorbar": {
              "outlinewidth": 0,
              "ticks": ""
             }
            },
            "type": "scatter"
           }
          ],
          "scatter3d": [
           {
            "line": {
             "colorbar": {
              "outlinewidth": 0,
              "ticks": ""
             }
            },
            "marker": {
             "colorbar": {
              "outlinewidth": 0,
              "ticks": ""
             }
            },
            "type": "scatter3d"
           }
          ],
          "scattercarpet": [
           {
            "marker": {
             "colorbar": {
              "outlinewidth": 0,
              "ticks": ""
             }
            },
            "type": "scattercarpet"
           }
          ],
          "scattergeo": [
           {
            "marker": {
             "colorbar": {
              "outlinewidth": 0,
              "ticks": ""
             }
            },
            "type": "scattergeo"
           }
          ],
          "scattergl": [
           {
            "marker": {
             "colorbar": {
              "outlinewidth": 0,
              "ticks": ""
             }
            },
            "type": "scattergl"
           }
          ],
          "scattermapbox": [
           {
            "marker": {
             "colorbar": {
              "outlinewidth": 0,
              "ticks": ""
             }
            },
            "type": "scattermapbox"
           }
          ],
          "scatterpolar": [
           {
            "marker": {
             "colorbar": {
              "outlinewidth": 0,
              "ticks": ""
             }
            },
            "type": "scatterpolar"
           }
          ],
          "scatterpolargl": [
           {
            "marker": {
             "colorbar": {
              "outlinewidth": 0,
              "ticks": ""
             }
            },
            "type": "scatterpolargl"
           }
          ],
          "scatterternary": [
           {
            "marker": {
             "colorbar": {
              "outlinewidth": 0,
              "ticks": ""
             }
            },
            "type": "scatterternary"
           }
          ],
          "surface": [
           {
            "colorbar": {
             "outlinewidth": 0,
             "ticks": ""
            },
            "colorscale": [
             [
              0,
              "#0d0887"
             ],
             [
              0.1111111111111111,
              "#46039f"
             ],
             [
              0.2222222222222222,
              "#7201a8"
             ],
             [
              0.3333333333333333,
              "#9c179e"
             ],
             [
              0.4444444444444444,
              "#bd3786"
             ],
             [
              0.5555555555555556,
              "#d8576b"
             ],
             [
              0.6666666666666666,
              "#ed7953"
             ],
             [
              0.7777777777777778,
              "#fb9f3a"
             ],
             [
              0.8888888888888888,
              "#fdca26"
             ],
             [
              1,
              "#f0f921"
             ]
            ],
            "type": "surface"
           }
          ],
          "table": [
           {
            "cells": {
             "fill": {
              "color": "#EBF0F8"
             },
             "line": {
              "color": "white"
             }
            },
            "header": {
             "fill": {
              "color": "#C8D4E3"
             },
             "line": {
              "color": "white"
             }
            },
            "type": "table"
           }
          ]
         },
         "layout": {
          "annotationdefaults": {
           "arrowcolor": "#2a3f5f",
           "arrowhead": 0,
           "arrowwidth": 1
          },
          "autotypenumbers": "strict",
          "coloraxis": {
           "colorbar": {
            "outlinewidth": 0,
            "ticks": ""
           }
          },
          "colorscale": {
           "diverging": [
            [
             0,
             "#8e0152"
            ],
            [
             0.1,
             "#c51b7d"
            ],
            [
             0.2,
             "#de77ae"
            ],
            [
             0.3,
             "#f1b6da"
            ],
            [
             0.4,
             "#fde0ef"
            ],
            [
             0.5,
             "#f7f7f7"
            ],
            [
             0.6,
             "#e6f5d0"
            ],
            [
             0.7,
             "#b8e186"
            ],
            [
             0.8,
             "#7fbc41"
            ],
            [
             0.9,
             "#4d9221"
            ],
            [
             1,
             "#276419"
            ]
           ],
           "sequential": [
            [
             0,
             "#0d0887"
            ],
            [
             0.1111111111111111,
             "#46039f"
            ],
            [
             0.2222222222222222,
             "#7201a8"
            ],
            [
             0.3333333333333333,
             "#9c179e"
            ],
            [
             0.4444444444444444,
             "#bd3786"
            ],
            [
             0.5555555555555556,
             "#d8576b"
            ],
            [
             0.6666666666666666,
             "#ed7953"
            ],
            [
             0.7777777777777778,
             "#fb9f3a"
            ],
            [
             0.8888888888888888,
             "#fdca26"
            ],
            [
             1,
             "#f0f921"
            ]
           ],
           "sequentialminus": [
            [
             0,
             "#0d0887"
            ],
            [
             0.1111111111111111,
             "#46039f"
            ],
            [
             0.2222222222222222,
             "#7201a8"
            ],
            [
             0.3333333333333333,
             "#9c179e"
            ],
            [
             0.4444444444444444,
             "#bd3786"
            ],
            [
             0.5555555555555556,
             "#d8576b"
            ],
            [
             0.6666666666666666,
             "#ed7953"
            ],
            [
             0.7777777777777778,
             "#fb9f3a"
            ],
            [
             0.8888888888888888,
             "#fdca26"
            ],
            [
             1,
             "#f0f921"
            ]
           ]
          },
          "colorway": [
           "#636efa",
           "#EF553B",
           "#00cc96",
           "#ab63fa",
           "#FFA15A",
           "#19d3f3",
           "#FF6692",
           "#B6E880",
           "#FF97FF",
           "#FECB52"
          ],
          "font": {
           "color": "#2a3f5f"
          },
          "geo": {
           "bgcolor": "white",
           "lakecolor": "white",
           "landcolor": "#E5ECF6",
           "showlakes": true,
           "showland": true,
           "subunitcolor": "white"
          },
          "hoverlabel": {
           "align": "left"
          },
          "hovermode": "closest",
          "mapbox": {
           "style": "light"
          },
          "paper_bgcolor": "white",
          "plot_bgcolor": "#E5ECF6",
          "polar": {
           "angularaxis": {
            "gridcolor": "white",
            "linecolor": "white",
            "ticks": ""
           },
           "bgcolor": "#E5ECF6",
           "radialaxis": {
            "gridcolor": "white",
            "linecolor": "white",
            "ticks": ""
           }
          },
          "scene": {
           "xaxis": {
            "backgroundcolor": "#E5ECF6",
            "gridcolor": "white",
            "gridwidth": 2,
            "linecolor": "white",
            "showbackground": true,
            "ticks": "",
            "zerolinecolor": "white"
           },
           "yaxis": {
            "backgroundcolor": "#E5ECF6",
            "gridcolor": "white",
            "gridwidth": 2,
            "linecolor": "white",
            "showbackground": true,
            "ticks": "",
            "zerolinecolor": "white"
           },
           "zaxis": {
            "backgroundcolor": "#E5ECF6",
            "gridcolor": "white",
            "gridwidth": 2,
            "linecolor": "white",
            "showbackground": true,
            "ticks": "",
            "zerolinecolor": "white"
           }
          },
          "shapedefaults": {
           "line": {
            "color": "#2a3f5f"
           }
          },
          "ternary": {
           "aaxis": {
            "gridcolor": "white",
            "linecolor": "white",
            "ticks": ""
           },
           "baxis": {
            "gridcolor": "white",
            "linecolor": "white",
            "ticks": ""
           },
           "bgcolor": "#E5ECF6",
           "caxis": {
            "gridcolor": "white",
            "linecolor": "white",
            "ticks": ""
           }
          },
          "title": {
           "x": 0.05
          },
          "xaxis": {
           "automargin": true,
           "gridcolor": "white",
           "linecolor": "white",
           "ticks": "",
           "title": {
            "standoff": 15
           },
           "zerolinecolor": "white",
           "zerolinewidth": 2
          },
          "yaxis": {
           "automargin": true,
           "gridcolor": "white",
           "linecolor": "white",
           "ticks": "",
           "title": {
            "standoff": 15
           },
           "zerolinecolor": "white",
           "zerolinewidth": 2
          }
         }
        },
        "title": {
         "text": "Sinsusoidal Regression on Noisy Data"
        },
        "xaxis": {
         "anchor": "y",
         "domain": [
          0,
          1
         ],
         "title": {
          "text": "x"
         }
        },
        "yaxis": {
         "anchor": "x",
         "domain": [
          0,
          1
         ],
         "title": {
          "text": "y"
         }
        }
       }
      },
      "text/html": [
       "<div>                            <div id=\"10e7e4ee-5a4b-4846-a735-67ae3951b247\" class=\"plotly-graph-div\" style=\"height:525px; width:100%;\"></div>            <script type=\"text/javascript\">                require([\"plotly\"], function(Plotly) {                    window.PLOTLYENV=window.PLOTLYENV || {};                                    if (document.getElementById(\"10e7e4ee-5a4b-4846-a735-67ae3951b247\")) {                    Plotly.newPlot(                        \"10e7e4ee-5a4b-4846-a735-67ae3951b247\",                        [{\"hovertemplate\":\"x=%{x}<br>y=%{y}<extra></extra>\",\"legendgroup\":\"\",\"marker\":{\"color\":\"#636efa\",\"symbol\":\"circle\"},\"mode\":\"markers\",\"name\":\"\",\"orientation\":\"v\",\"showlegend\":false,\"x\":[0.0,0.02004008016032064,0.04008016032064128,0.06012024048096192,0.08016032064128256,0.1002004008016032,0.12024048096192384,0.1402805611222445,0.16032064128256512,0.18036072144288576,0.2004008016032064,0.22044088176352705,0.24048096192384769,0.2605210420841683,0.280561122244489,0.3006012024048096,0.32064128256513025,0.3406813627254509,0.3607214428857715,0.3807615230460922,0.4008016032064128,0.42084168336673344,0.4408817635270541,0.4609218436873747,0.48096192384769537,0.501002004008016,0.5210420841683366,0.5410821643286573,0.561122244488978,0.5811623246492986,0.6012024048096192,0.6212424849699398,0.6412825651302605,0.6613226452905812,0.6813627254509018,0.7014028056112224,0.721442885771543,0.7414829659318637,0.7615230460921844,0.781563126252505,0.8016032064128256,0.8216432865731462,0.8416833667334669,0.8617234468937875,0.8817635270541082,0.9018036072144289,0.9218436873747494,0.9418837675350701,0.9619238476953907,0.9819639278557114,1.002004008016032,1.0220440881763526,1.0420841683366733,1.062124248496994,1.0821643286573146,1.1022044088176353,1.122244488977956,1.1422845691382766,1.1623246492985972,1.1823647294589177,1.2024048096192383,1.222444889779559,1.2424849699398797,1.2625250501002003,1.282565130260521,1.3026052104208417,1.3226452905811623,1.342685370741483,1.3627254509018036,1.3827655310621243,1.4028056112224447,1.4228456913827654,1.442885771543086,1.4629258517034067,1.4829659318637274,1.503006012024048,1.5230460921843687,1.5430861723446894,1.56312625250501,1.5831663326653307,1.6032064128256511,1.6232464929859718,1.6432865731462925,1.6633266533066131,1.6833667334669338,1.7034068136272544,1.723446893787575,1.7434869739478958,1.7635270541082164,1.783567134268537,1.8036072144288577,1.8236472945891782,1.8436873747494988,1.8637274549098195,1.8837675350701402,1.9038076152304608,1.9238476953907815,1.9438877755511021,1.9639278557114228,1.9839679358717435,2.004008016032064,2.024048096192385,2.0440881763527052,2.064128256513026,2.0841683366733466,2.1042084168336674,2.124248496993988,2.1442885771543083,2.164328657314629,2.1843687374749496,2.2044088176352705,2.224448897795591,2.244488977955912,2.2645290581162323,2.284569138276553,2.3046092184368736,2.3246492985971945,2.344689378757515,2.3647294589178354,2.3847695390781563,2.4048096192384767,2.4248496993987976,2.444889779559118,2.464929859719439,2.4849699398797593,2.50501002004008,2.5250501002004007,2.5450901803607215,2.565130260521042,2.5851703406813624,2.6052104208416833,2.6252505010020037,2.6452905811623246,2.665330661322645,2.685370741482966,2.7054108216432864,2.7254509018036073,2.7454909819639277,2.7655310621242486,2.785571142284569,2.8056112224448895,2.8256513026052104,2.845691382765531,2.8657314629258517,2.885771543086172,2.905811623246493,2.9258517034068134,2.9458917835671343,2.9659318637274548,2.9859719438877756,3.006012024048096,3.0260521042084165,3.0460921843687374,3.066132264529058,3.0861723446893787,3.106212424849699,3.12625250501002,3.1462925851703405,3.1663326653306614,3.186372745490982,3.2064128256513023,3.226452905811623,3.2464929859719436,3.2665330661322645,3.286573146292585,3.306613226452906,3.3266533066132262,3.346693386773547,3.3667334669338675,3.3867735470941884,3.406813627254509,3.4268537074148293,3.44689378757515,3.4669338677354706,3.4869739478957915,3.507014028056112,3.527054108216433,3.5470941883767533,3.567134268537074,3.5871743486973946,3.6072144288577155,3.627254509018036,3.6472945891783564,3.6673346693386772,3.6873747494989977,3.7074148296593186,3.727454909819639,3.74749498997996,3.7675350701402803,3.787575150300601,3.8076152304609217,3.8276553106212425,3.847695390781563,3.8677354709418834,3.8877755511022043,3.9078156312625247,3.9278557114228456,3.947895791583166,3.967935871743487,3.9879759519038074,4.008016032064128,4.028056112224449,4.04809619238477,4.06813627254509,4.0881763527054105,4.108216432865731,4.128256513026052,4.148296593186372,4.168336673346693,4.188376753507014,4.208416833667335,4.228456913827655,4.248496993987976,4.268537074148297,4.288577154308617,4.3086172344689375,4.328657314629258,4.348697394789579,4.368737474949899,4.38877755511022,4.408817635270541,4.428857715430862,4.448897795591182,4.468937875751503,4.488977955911824,4.509018036072144,4.529058116232465,4.5490981963927855,4.569138276553106,4.589178356713426,4.609218436873747,4.629258517034068,4.649298597194389,4.669338677354709,4.68937875751503,4.709418837675351,4.729458917835671,4.749498997995992,4.7695390781563125,4.789579158316633,4.809619238476953,4.829659318637274,4.849699398797595,4.869739478957916,4.889779559118236,4.909819639278557,4.929859719438878,4.949899799599198,4.969939879759519,4.98997995991984,5.01002004008016,5.03006012024048,5.050100200400801,5.070140280561122,5.090180360721443,5.110220440881763,5.130260521042084,5.150300601202405,5.170340681362725,5.190380761523046,5.210420841683367,5.2304609218436875,5.2505010020040075,5.270541082164328,5.290581162324649,5.31062124248497,5.33066132264529,5.350701402805611,5.370741482965932,5.390781563126252,5.410821643286573,5.430861723446894,5.4509018036072145,5.4709418837675345,5.490981963927855,5.511022044088176,5.531062124248497,5.551102204408817,5.571142284569138,5.591182364729459,5.611222444889779,5.6312625250501,5.651302605210421,5.671342685370742,5.691382765531062,5.7114228456913825,5.731462925851703,5.751503006012024,5.771543086172344,5.791583166332665,5.811623246492986,5.831663326653306,5.851703406813627,5.871743486973948,5.891783567134269,5.911823647294589,5.9318637274549095,5.95190380761523,5.971943887775551,5.991983967935871,6.012024048096192,6.032064128256513,6.052104208416833,6.072144288577154,6.092184368737475,6.112224448897796,6.132264529058116,6.152304609218437,6.1723446893787575,6.192384769539078,6.212424849699398,6.232464929859719,6.25250501002004,6.27254509018036,6.292585170340681,6.312625250501002,6.332665330661323,6.352705410821643,6.372745490981964,6.3927855711422845,6.4128256513026045,6.432865731462925,6.452905811623246,6.472945891783567,6.492985971943887,6.513026052104208,6.533066132264529,6.55310621242485,6.57314629258517,6.593186372745491,6.613226452905812,6.633266533066132,6.6533066132264524,6.673346693386773,6.693386773547094,6.713426853707414,6.733466933867735,6.753507014028056,6.773547094188377,6.793587174348697,6.813627254509018,6.833667334669339,6.853707414829659,6.8737474949899795,6.8937875751503,6.913827655310621,6.933867735470941,6.953907815631262,6.973947895791583,6.993987975951904,7.014028056112224,7.034068136272545,7.054108216432866,7.074148296593186,7.0941883767535066,7.114228456913827,7.134268537074148,7.154308617234468,7.174348697394789,7.19438877755511,7.214428857715431,7.234468937875751,7.254509018036072,7.274549098196393,7.294589178356713,7.314629258517034,7.3346693386773545,7.354709418837675,7.374749498997995,7.394789579158316,7.414829659318637,7.434869739478958,7.454909819639278,7.474949899799599,7.49498997995992,7.51503006012024,7.535070140280561,7.5551102204408815,7.575150300601202,7.595190380761522,7.615230460921843,7.635270541082164,7.655310621242485,7.675350701402805,7.695390781563126,7.715430861723447,7.735470941883767,7.755511022044088,7.775551102204409,7.7955911823647295,7.8156312625250495,7.83567134268537,7.855711422845691,7.875751503006012,7.895791583166332,7.915831663326653,7.935871743486974,7.955911823647294,7.975951903807615,7.995991983967936,8.016032064128256,8.036072144288577,8.056112224448897,8.076152304609218,8.09619238476954,8.11623246492986,8.13627254509018,8.1563126252505,8.176352705410821,8.196392785571142,8.216432865731463,8.236472945891784,8.256513026052104,8.276553106212425,8.296593186372744,8.316633266533065,8.336673346693386,8.356713426853707,8.376753507014028,8.396793587174349,8.41683366733467,8.436873747494989,8.45691382765531,8.47695390781563,8.496993987975952,8.517034068136272,8.537074148296593,8.557114228456914,8.577154308617233,8.597194388777554,8.617234468937875,8.637274549098196,8.657314629258517,8.677354709418838,8.697394789579159,8.71743486973948,8.737474949899799,8.75751503006012,8.77755511022044,8.797595190380761,8.817635270541082,8.837675350701403,8.857715430861724,8.877755511022043,8.897795591182364,8.917835671342685,8.937875751503006,8.957915831663327,8.977955911823647,8.997995991983968,9.018036072144287,9.038076152304608,9.05811623246493,9.07815631262525,9.098196392785571,9.118236472945892,9.138276553106213,9.158316633266534,9.178356713426853,9.198396793587174,9.218436873747494,9.238476953907815,9.258517034068136,9.278557114228457,9.298597194388778,9.318637274549097,9.338677354709418,9.358717434869739,9.37875751503006,9.39879759519038,9.418837675350701,9.438877755511022,9.458917835671341,9.478957915831662,9.498997995991983,9.519038076152304,9.539078156312625,9.559118236472946,9.579158316633267,9.599198396793588,9.619238476953907,9.639278557114228,9.659318637274549,9.67935871743487,9.69939879759519,9.719438877755511,9.739478957915832,9.759519038076151,9.779559118236472,9.799599198396793,9.819639278557114,9.839679358717435,9.859719438877756,9.879759519038076,9.899799599198396,9.919839679358716,9.939879759519037,9.959919839679358,9.97995991983968,10.0],\"xaxis\":\"x\",\"y\":[4.784024006862322,5.401086008205848,3.8057628527684004,4.007513602341687,5.622591548599429,4.589024451521706,3.4720442410297494,5.513996209497604,3.5236488088906674,5.0051744925748425,6.133521598950182,4.614198270839721,6.301348267174928,5.672172921524855,4.963980954818584,4.97470958610504,5.6687674403414565,4.13634144216272,5.4605016643617645,3.8717450529528854,3.7625129350506437,5.280257176772105,3.9663157208699054,6.405044031043239,6.033658982143077,6.099678826740304,5.4582076373258595,4.0596060850377835,5.960657688060535,6.130054167717523,3.5940670902216785,4.796890964961751,4.38920631138676,5.207165273643045,4.744702508884249,4.508343581989642,4.875720834398695,4.935812186723354,5.546402468199186,3.572086508542835,3.941991235522921,5.283754651250586,5.5775902823187264,4.481383590366617,4.749805318916618,5.446184411277051,4.214299183148054,4.345446059220619,3.894218430318961,4.814013429918239,4.389661464276248,3.9809109589720797,5.388114087641861,4.707268675361627,3.2150992156904943,3.0432932807020094,5.351836893857537,5.404853026402966,5.7354188581007675,3.3778717781430343,5.497616123113141,4.497247347484734,4.390716176848289,3.6064655049501186,4.418283261739575,3.486165355015549,2.5332137550933798,5.006424483010019,2.4484590777551007,2.832573274832306,4.575119654779499,4.212991181226215,4.6579579308824925,3.753639509478038,3.4819994248166286,4.72385880540802,4.012312820635334,4.811232222699241,2.239003437209064,2.918777146494926,4.538674172664805,4.527450560453564,4.23560206789046,3.1579875262727146,2.1449231743956316,2.2664038114533267,4.5593696483427575,2.639029363146421,2.3320577872624577,2.15504241450695,2.869669410859996,1.9437811345743903,3.7800374729749717,4.424101978378873,4.486655291162272,1.625683767336013,2.6711426594317538,4.36947645129359,3.729870912891005,1.7809711586638266,3.9457146010011726,1.6895950148202619,4.169115362029698,2.2571756481608265,2.3607415510317376,2.40973040062626,2.282553644148427,2.732855254703508,2.8135233539343365,3.4980072286064465,4.129813742640602,2.630008813989906,1.8788520303023195,2.050316067865634,2.588528941632123,4.516727043098585,4.425742431010764,3.3986350886969965,1.9622311613888135,3.566466269694259,2.7276939368695117,2.93942588869752,1.7934703131828944,3.6438828750489254,4.607005839148864,3.710077796962537,2.4647824253156587,3.8279483442219675,3.69352737848393,2.57368800153492,3.4231546555542236,2.0441654476678472,2.06774631482898,3.2366282203641394,4.501885773576917,3.554485009852416,5.078169070594329,4.661998422350072,3.056133973975543,3.9234424936331362,4.035001055904304,4.957291879915441,3.4443385978535455,2.8856631252607707,4.561334885002868,5.037249755751698,4.602171817350857,4.764538463389701,5.274568213699752,5.275782906100041,4.568898673966289,4.849672913265888,5.5398395521520465,4.031741297136126,4.853050843143573,4.601943159582096,4.591701169712828,5.358105597441975,3.771495601907492,3.5987361549144308,4.6617089828998015,4.452116840372148,4.578179470103278,5.350798516391224,3.694326895948381,5.9296748383520725,5.228283247835766,4.682753212258243,3.6225445305492894,5.179317003594637,5.354624634583964,5.082329247792147,6.395107887860885,5.773308152488049,5.073496104025293,3.48281656933488,3.8382058479312398,3.91668567193733,4.953277028980676,4.882292827408742,4.179727870259585,5.295837204656944,4.802829705737375,3.917248859743447,6.278083819485609,5.712264420494612,4.362491450546546,4.351080807306536,6.100968964923272,6.472905805592103,4.766184873603073,3.4894086636861017,5.755127221354602,5.64338786357066,3.8957620270821716,6.185276139972295,4.941762364622692,4.736205760783838,3.72080626254406,5.506210603443634,6.280824768996482,5.46628943115781,5.9544176381437195,5.818332241712794,4.080907231144122,5.9734212144668835,3.873499208391104,5.781754671145439,4.87575501340333,5.588119047402276,5.516851866868234,4.316298101639049,4.824829817014578,4.726458146825439,3.089689745387255,3.654421561622215,5.112982389029514,4.369842352045348,4.095108997691353,4.094561126436144,3.066910942112119,4.35338302012009,4.794899380327065,5.18384780720382,2.9930569493073595,5.041490585933936,3.683627896772875,2.33211604406935,4.963402964649639,5.187514192682432,3.090650784599137,2.7384002906222844,2.7450230595557104,2.558736483906735,2.582473140567225,2.9508904045983906,3.7742405333981077,3.345905681643529,3.423639861410513,2.490004013330358,4.117340057316578,2.7621137496277535,2.9377771166689928,4.385761094059838,1.8954739537301042,4.5046536367480225,4.114028084194305,2.4946999679480415,2.9225463163161103,2.2263730683922276,3.5662424812901405,3.0075687753314506,3.3473772018512675,1.6091112250415445,2.1990117929572817,3.6598480213282096,1.7064276834499283,2.257465306355595,3.9337507079578655,3.3513959968110267,2.230298297668061,3.513058003171376,3.3437546316683924,4.140056307122248,4.403697999988639,4.343543340510925,2.145644631235369,4.240568460898499,4.014670104623312,2.4149584037044955,3.526179621372529,1.9032684884946793,3.4524103079020496,4.532813120749877,2.5916291064448087,2.3106360523731375,3.218906996843454,3.613611730621108,2.8246768201617236,3.3552109675133295,3.3856022058543966,2.148470655569531,2.560331671051305,2.0086736898198634,4.745871395791365,2.1066844937137805,4.231480478799041,4.025042326840028,2.936451312134957,2.885288760378763,4.425935836616417,3.002912330809154,2.6146868695991365,4.384103520155609,3.0653362483447264,3.812600544869719,2.4773243311208732,3.901503502584362,3.6404603005398393,3.5461840937926197,3.1592530155537037,4.643793279551216,5.021201448896523,4.154029093946351,4.227666477011227,4.096306716648725,4.2291312251155055,3.0575588455466884,5.771104085952211,3.9955565367095396,2.9235822207549527,4.906903721747748,4.836849849576525,5.072339109321208,5.628943832802315,5.116854379431786,4.08599690219573,4.076604014826816,4.7481344803597985,4.904154305119758,5.318987100474469,3.271785469633731,4.751350860541649,3.4971781793025594,4.46043676715364,4.238023831113917,4.929247749716384,5.132210520931001,4.003111011705876,4.154593132841963,4.8403443159089905,5.964813656909838,4.701899281500392,4.6489091198630685,3.8630204520947156,5.703459722070664,4.830715834007218,5.097568480038108,4.231935811985228,6.442150146077591,4.971396037118851,5.938611558126457,5.0600959328669175,5.511798854242036,4.150458053809723,4.122543173236315,3.4946227944271984,3.4653671964271195,6.249480787668576,3.542331076243041,4.841550963531798,6.347518767598474,3.7055376851810027,3.4494178709416294,4.713179858416638,5.9726876251708925,3.5946073172395927,6.129627601140832,5.742069876623216,5.371638385950005,5.279234863301215,4.6031699690158305,4.403445166738047,4.649804361898217,5.545117753336472,3.982244444185719,4.163323230996244,3.706001862273999,4.084005076774933,3.7832325437375136,4.15559039264525,5.240652077700125,5.095808008869407,5.05194675071143,4.141009346019375,5.4714351334072875,5.580228474701036,3.6443489609257504,3.4054008325779574,3.190183118846007,4.25990130775742,2.641313881011147,5.385537012996467,4.530924109988787,3.9605111291939394,4.42562796242207,2.8222244284976954,3.651522830515406,2.268603786617015,4.148516895406452,5.016672391678337,4.969596432993589,4.598658773952933,2.1061054719412975,3.408560718234904,2.305427660299027,2.5430125142405986,2.5137837568092376,4.303241259309525,4.391374520481199,1.8573142693023454,2.2422451166792117,3.056426791697447,4.25304244584928,2.5762239753866156,3.034725829449755,4.542884884477475,1.6951045876265385,3.7564944375247977,2.76824974749343,2.999336419766144,1.934760380100216,4.519931912196268,3.1150603270213013,3.9097303480741283,2.679065081239514,4.31616931932613,1.5113360749358558,3.81595297952077,2.5799467385958903,3.63448839626731,3.8551481195870476,3.9129345695573856,4.427755131279406,3.0174836000900402,3.368563659226247,4.393343391235333,2.8054884598246184,4.3861230358681595,2.4577566434373788,1.6234254748988513,2.7262872605461053,3.202329445938949,4.063927534099705,4.642376401869313,4.66191126361908,4.53357819130326,4.273730077312971,3.169050261847749,3.945080272444083,2.457043894108524,2.1937232659618298,2.2834422271870802,3.6803495453556354,2.2353746963593863,3.1557828447298815,4.509742168677096,3.013007004877754,5.085652161568416,3.823850836174949,2.2817673237724563,4.769112413695085,3.369346059030798,5.218956129149304,4.238450547271311,4.693669656858974,3.1381191330564784,2.9690352741501904,2.922571293623285,2.5569533582896207,5.190098037245316,4.055934247745466,4.033665380155359,3.180279318119988,5.668247165599,3.330362535415137,3.8945261315776856,5.498135695582434,4.5843231016827195,3.230397841027971,5.008785401422775,3.426177387399801,3.4246308511513868,4.158973753951953,4.352597648574404,4.13985362452985,3.6824459653590904,5.73439928544625,6.046139826192595,3.363042360990899,4.042257132194504,4.393042174169741,4.925691040453236,6.124795833403908,4.750870295313095,4.938537433521548,5.697200058921142,5.457388078204849,4.425310069395309,3.7122083746705457,4.701608567223861,5.942136842775633,3.972267053979255,3.613113296129858,3.5513047150192,3.6187783463509287,5.571673759911874,6.0084983181083,5.447673252696799,4.1538768287664],\"yaxis\":\"y\",\"type\":\"scatter\"},{\"name\":\"Sinusoidal Prediction\",\"x\":[0.0,0.02004008016032064,0.04008016032064128,0.06012024048096192,0.08016032064128256,0.1002004008016032,0.12024048096192384,0.1402805611222445,0.16032064128256512,0.18036072144288576,0.2004008016032064,0.22044088176352705,0.24048096192384769,0.2605210420841683,0.280561122244489,0.3006012024048096,0.32064128256513025,0.3406813627254509,0.3607214428857715,0.3807615230460922,0.4008016032064128,0.42084168336673344,0.4408817635270541,0.4609218436873747,0.48096192384769537,0.501002004008016,0.5210420841683366,0.5410821643286573,0.561122244488978,0.5811623246492986,0.6012024048096192,0.6212424849699398,0.6412825651302605,0.6613226452905812,0.6813627254509018,0.7014028056112224,0.721442885771543,0.7414829659318637,0.7615230460921844,0.781563126252505,0.8016032064128256,0.8216432865731462,0.8416833667334669,0.8617234468937875,0.8817635270541082,0.9018036072144289,0.9218436873747494,0.9418837675350701,0.9619238476953907,0.9819639278557114,1.002004008016032,1.0220440881763526,1.0420841683366733,1.062124248496994,1.0821643286573146,1.1022044088176353,1.122244488977956,1.1422845691382766,1.1623246492985972,1.1823647294589177,1.2024048096192383,1.222444889779559,1.2424849699398797,1.2625250501002003,1.282565130260521,1.3026052104208417,1.3226452905811623,1.342685370741483,1.3627254509018036,1.3827655310621243,1.4028056112224447,1.4228456913827654,1.442885771543086,1.4629258517034067,1.4829659318637274,1.503006012024048,1.5230460921843687,1.5430861723446894,1.56312625250501,1.5831663326653307,1.6032064128256511,1.6232464929859718,1.6432865731462925,1.6633266533066131,1.6833667334669338,1.7034068136272544,1.723446893787575,1.7434869739478958,1.7635270541082164,1.783567134268537,1.8036072144288577,1.8236472945891782,1.8436873747494988,1.8637274549098195,1.8837675350701402,1.9038076152304608,1.9238476953907815,1.9438877755511021,1.9639278557114228,1.9839679358717435,2.004008016032064,2.024048096192385,2.0440881763527052,2.064128256513026,2.0841683366733466,2.1042084168336674,2.124248496993988,2.1442885771543083,2.164328657314629,2.1843687374749496,2.2044088176352705,2.224448897795591,2.244488977955912,2.2645290581162323,2.284569138276553,2.3046092184368736,2.3246492985971945,2.344689378757515,2.3647294589178354,2.3847695390781563,2.4048096192384767,2.4248496993987976,2.444889779559118,2.464929859719439,2.4849699398797593,2.50501002004008,2.5250501002004007,2.5450901803607215,2.565130260521042,2.5851703406813624,2.6052104208416833,2.6252505010020037,2.6452905811623246,2.665330661322645,2.685370741482966,2.7054108216432864,2.7254509018036073,2.7454909819639277,2.7655310621242486,2.785571142284569,2.8056112224448895,2.8256513026052104,2.845691382765531,2.8657314629258517,2.885771543086172,2.905811623246493,2.9258517034068134,2.9458917835671343,2.9659318637274548,2.9859719438877756,3.006012024048096,3.0260521042084165,3.0460921843687374,3.066132264529058,3.0861723446893787,3.106212424849699,3.12625250501002,3.1462925851703405,3.1663326653306614,3.186372745490982,3.2064128256513023,3.226452905811623,3.2464929859719436,3.2665330661322645,3.286573146292585,3.306613226452906,3.3266533066132262,3.346693386773547,3.3667334669338675,3.3867735470941884,3.406813627254509,3.4268537074148293,3.44689378757515,3.4669338677354706,3.4869739478957915,3.507014028056112,3.527054108216433,3.5470941883767533,3.567134268537074,3.5871743486973946,3.6072144288577155,3.627254509018036,3.6472945891783564,3.6673346693386772,3.6873747494989977,3.7074148296593186,3.727454909819639,3.74749498997996,3.7675350701402803,3.787575150300601,3.8076152304609217,3.8276553106212425,3.847695390781563,3.8677354709418834,3.8877755511022043,3.9078156312625247,3.9278557114228456,3.947895791583166,3.967935871743487,3.9879759519038074,4.008016032064128,4.028056112224449,4.04809619238477,4.06813627254509,4.0881763527054105,4.108216432865731,4.128256513026052,4.148296593186372,4.168336673346693,4.188376753507014,4.208416833667335,4.228456913827655,4.248496993987976,4.268537074148297,4.288577154308617,4.3086172344689375,4.328657314629258,4.348697394789579,4.368737474949899,4.38877755511022,4.408817635270541,4.428857715430862,4.448897795591182,4.468937875751503,4.488977955911824,4.509018036072144,4.529058116232465,4.5490981963927855,4.569138276553106,4.589178356713426,4.609218436873747,4.629258517034068,4.649298597194389,4.669338677354709,4.68937875751503,4.709418837675351,4.729458917835671,4.749498997995992,4.7695390781563125,4.789579158316633,4.809619238476953,4.829659318637274,4.849699398797595,4.869739478957916,4.889779559118236,4.909819639278557,4.929859719438878,4.949899799599198,4.969939879759519,4.98997995991984,5.01002004008016,5.03006012024048,5.050100200400801,5.070140280561122,5.090180360721443,5.110220440881763,5.130260521042084,5.150300601202405,5.170340681362725,5.190380761523046,5.210420841683367,5.2304609218436875,5.2505010020040075,5.270541082164328,5.290581162324649,5.31062124248497,5.33066132264529,5.350701402805611,5.370741482965932,5.390781563126252,5.410821643286573,5.430861723446894,5.4509018036072145,5.4709418837675345,5.490981963927855,5.511022044088176,5.531062124248497,5.551102204408817,5.571142284569138,5.591182364729459,5.611222444889779,5.6312625250501,5.651302605210421,5.671342685370742,5.691382765531062,5.7114228456913825,5.731462925851703,5.751503006012024,5.771543086172344,5.791583166332665,5.811623246492986,5.831663326653306,5.851703406813627,5.871743486973948,5.891783567134269,5.911823647294589,5.9318637274549095,5.95190380761523,5.971943887775551,5.991983967935871,6.012024048096192,6.032064128256513,6.052104208416833,6.072144288577154,6.092184368737475,6.112224448897796,6.132264529058116,6.152304609218437,6.1723446893787575,6.192384769539078,6.212424849699398,6.232464929859719,6.25250501002004,6.27254509018036,6.292585170340681,6.312625250501002,6.332665330661323,6.352705410821643,6.372745490981964,6.3927855711422845,6.4128256513026045,6.432865731462925,6.452905811623246,6.472945891783567,6.492985971943887,6.513026052104208,6.533066132264529,6.55310621242485,6.57314629258517,6.593186372745491,6.613226452905812,6.633266533066132,6.6533066132264524,6.673346693386773,6.693386773547094,6.713426853707414,6.733466933867735,6.753507014028056,6.773547094188377,6.793587174348697,6.813627254509018,6.833667334669339,6.853707414829659,6.8737474949899795,6.8937875751503,6.913827655310621,6.933867735470941,6.953907815631262,6.973947895791583,6.993987975951904,7.014028056112224,7.034068136272545,7.054108216432866,7.074148296593186,7.0941883767535066,7.114228456913827,7.134268537074148,7.154308617234468,7.174348697394789,7.19438877755511,7.214428857715431,7.234468937875751,7.254509018036072,7.274549098196393,7.294589178356713,7.314629258517034,7.3346693386773545,7.354709418837675,7.374749498997995,7.394789579158316,7.414829659318637,7.434869739478958,7.454909819639278,7.474949899799599,7.49498997995992,7.51503006012024,7.535070140280561,7.5551102204408815,7.575150300601202,7.595190380761522,7.615230460921843,7.635270541082164,7.655310621242485,7.675350701402805,7.695390781563126,7.715430861723447,7.735470941883767,7.755511022044088,7.775551102204409,7.7955911823647295,7.8156312625250495,7.83567134268537,7.855711422845691,7.875751503006012,7.895791583166332,7.915831663326653,7.935871743486974,7.955911823647294,7.975951903807615,7.995991983967936,8.016032064128256,8.036072144288577,8.056112224448897,8.076152304609218,8.09619238476954,8.11623246492986,8.13627254509018,8.1563126252505,8.176352705410821,8.196392785571142,8.216432865731463,8.236472945891784,8.256513026052104,8.276553106212425,8.296593186372744,8.316633266533065,8.336673346693386,8.356713426853707,8.376753507014028,8.396793587174349,8.41683366733467,8.436873747494989,8.45691382765531,8.47695390781563,8.496993987975952,8.517034068136272,8.537074148296593,8.557114228456914,8.577154308617233,8.597194388777554,8.617234468937875,8.637274549098196,8.657314629258517,8.677354709418838,8.697394789579159,8.71743486973948,8.737474949899799,8.75751503006012,8.77755511022044,8.797595190380761,8.817635270541082,8.837675350701403,8.857715430861724,8.877755511022043,8.897795591182364,8.917835671342685,8.937875751503006,8.957915831663327,8.977955911823647,8.997995991983968,9.018036072144287,9.038076152304608,9.05811623246493,9.07815631262525,9.098196392785571,9.118236472945892,9.138276553106213,9.158316633266534,9.178356713426853,9.198396793587174,9.218436873747494,9.238476953907815,9.258517034068136,9.278557114228457,9.298597194388778,9.318637274549097,9.338677354709418,9.358717434869739,9.37875751503006,9.39879759519038,9.418837675350701,9.438877755511022,9.458917835671341,9.478957915831662,9.498997995991983,9.519038076152304,9.539078156312625,9.559118236472946,9.579158316633267,9.599198396793588,9.619238476953907,9.639278557114228,9.659318637274549,9.67935871743487,9.69939879759519,9.719438877755511,9.739478957915832,9.759519038076151,9.779559118236472,9.799599198396793,9.819639278557114,9.839679358717435,9.859719438877756,9.879759519038076,9.899799599198396,9.919839679358716,9.939879759519037,9.959919839679358,9.97995991983968,10.0],\"y\":[4.479425538604203,4.514204744204118,4.548158031976893,4.5812308660086165,4.6133701245738905,4.644524185460163,4.674643008883547,4.70367821786293,4.731583175923288,4.758313062003385,4.783824942447552,4.808077839965905,4.831032799452242,4.852652950553898,4.872903566893059,4.89175212184442,4.909168340779585,4.925124249694305,4.939594220140437,4.95255501039047,4.963985802768485,4.973868237087591,4.982186440140137,4.988927051193327,4.994079243449278,4.9976347414350775,4.999587834294875,4.999935384962691,4.9986768352011755,4.9958142064982605,4.991352096820233,4.9852976732264604,4.977660660357637,4.968453324816014,4.957690455462744,4.9453893396639375,4.931569735523631,4.916253840148236,4.899466253993448,4.881233941350896,4.861586187037985,4.8405545493604905,4.818172809423485,4.794476916871979,4.769504932148447,4.743296965359993,4.715895111853319,4.687343384601007,4.657687643507694,4.626975521749703,4.595256349266429,4.562581073526389,4.52900217769518,4.494573596336795,4.459350628783705,4.423389850314832,4.3867490212841025,4.3494869943455186,4.311663619923783,4.273339650082289,4.234576640942905,4.195436853814266,4.155983155187408,4.116278915759331,4.07638790864673,4.03637420695334,3.9963020808554517,3.9562358943708773,3.916240001977198,3.876378645245331,3.836715849654446,3.7973153217539695,3.758240346837861,3.7195536872955035,3.68131748180249,3.643593145513221,3.606441271415626,3.5699215330064478,3.534092588443424,3.4990119863283047,3.464736073272047,3.4313199033906487,3.398817149876999,3.3672800187907677,3.3367591652048105,3.3073036118427814,3.278960670338624,3.2517758652444266,3.225792860908697,3.201053391342498,3.177597193186106,3.1554619418838508,3.134683191169657,3.115294315960491,3.0973264587494227,3.0808084795844257,3.065766909713247,3.052225908968803,3.0402072269635543,3.0297301681551883,3.0208115608397157,3.0134657301217924,3.0077044749056747,3.0035370489437705,3.0009701459732225,3.0000078889643995,3.000651823498564,3.002900915285354,3.0067515518240633,3.0121975482060552,3.019230157048991,3.0278380825469084,3.038007498613598,3.049722071090115,3.062962983980781,3.077708969675509,3.0939363431099336,3.111619039808456,3.1307286577491205,3.151234502983058,3.1731036389352356,3.1963009393073247,3.2207891444977075,3.2465289214480078,3.2734789268200126,3.30159587340152,3.3308345996344366,3.3611481421534686,3.3924878112188708,3.4248032689221173,3.458042610038859,3.4921524453993134,3.527077987642178,3.5627631392143146,3.5991505824748824,3.6361818717591685,3.6737975272542656,3.711937130535793,3.7505394216122316,3.7895423973209708,3.82888341091806,3.8684992727016656,3.908326351507637,3.948300676914156,3.98835804199129,4.02843410643044,4.068464499888012,4.1083849253773375,4.148131262542756,4.187639670650013,4.226846691127506,4.265689349493716,4.304105256507081,4.342032708375861,4.379410785867028,4.416179452154993,4.452279649253012,4.48765339287237,4.522243865556991,4.555995507943873,4.588854108002778,4.620766888111817,4.651682589829085,4.681551556224202,4.710325811637464,4.7379591387385664,4.764407152761063,4.7896273727933725,4.813579290011794,4.836224432745951,4.857526428272151,4.877451061235407,4.895966328606287,4.91304249108431,4.928652120865341,4.942770145696242,4.955373889146032,4.966443107028867,4.975960019920334,4.983909341714841,4.99027830417822,4.995056677456123,4.998236786505252,4.999813523421052,4.999784355642043,4.998149330017635,4.994911072732876,4.990074785090264,4.983648235155393,4.975641745279849,4.966068175521413,4.9549429029881775,4.94228379713977,4.928111191085353,4.912447848924498,4.895318929183395,4.8767519444051155,4.856776716958858,4.8354253311391275,4.812732081631809,4.788733418429898,4.763467888287364,4.736976072805198,4.709300523249073,4.680485692203317,4.650577862170989,4.6196250712347275,4.587677035897779,4.554785071229138,4.521002008441071,4.4863821100314,4.45098098262685,4.414855487667444,4.378063650075433,4.340664565055406,4.302718303175332,4.26428581388096,4.2254288275985585,4.18620975658325,4.146691594672178,4.106937816103543,4.067012273564019,4.026979095628288,3.986902583755461,3.946847109007802,3.906877008657657,3.8670564828486507,3.827449491477153,3.7881196514596205,3.749130134550837,3.7105435658771717,3.6724219233478435,3.634826438105738,3.597817496177691,3.5614545414821897,3.5257959803503107,3.4908990877132218,3.4568199151069376,3.4236132006421194,3.3913322810834825,3.3600290061800644,3.329753655383932,3.300554857091126,3.2724795105345144,3.2455727104540553,3.219877674665428,3.195435674643404,3.1722859692314245,3.1504657415838797,3.130010039442374,3.1109517188418945,3.0933213913373057,3.0771473748349436,3.0624556481082776,3.0492698090706902,3.0376110368724127,3.0274980578824833,3.018947115610374,3.011971944615599,3.0065837484472047,3.0027911816485844,3.0006003358565128,3.0000147300167344,3.0010353047318166,3.0036604207503514,3.0078858615999264,3.013704840359642,3.021108010561292,3.0300834812016992,3.040616835842095,3.052691155763867,3.066287047143472,3.0813826722028788,3.097953784285499,3.115973766801272,3.1354136759783393,3.156242287352655,3.1784261459208523,3.2019296198758105,3.2267149578386127,3.2527423494949703,3.2799699895387193,3.3083541448196767,3.3378492245880107,3.368407853722296,3.3999809488236377,3.4325177970536243,3.4659661375895094,3.500272245565763,3.535381018367181,3.5712360641349306,3.607779792343394,3.644953506302321,3.682697497435689,3.720951141185876,3.7596529943890777,3.7987408939655816,3.8381520567663596,3.877823180415631,3.917690544987404,3.957690115352695,3.997757644033012,4.037828774394931,4.077839144019998,4.117724488083904,4.1574207425789265,4.196864147213803,4.235991347825785,4.274739498140359,4.31304636071519,4.350850406906176,4.3880909156950105,4.424708071219533,4.460643058850225,4.495838159658516,4.530236843125165,4.563783857939822,4.596425320745914,4.628108802688325,4.658783413624834,4.688399883866083,4.71691064331276,4.744269897862889,4.770433702966512,4.79536003420961,4.8190088548138945,4.841342179944048,4.862324137719128,4.88192102683013,4.90010137067118,4.916835967897383,4.93209793932815,4.94586277112065,4.95810835414405,4.968815019491291,4.977965570071371,4.985545308231385,4.99154205936396,4.995946191462153,4.998750630590426,4.999950872246836,4.999544988598173,4.9975336315764665,4.9939200318318395,4.988709993543432,4.9819118850966975,4.973536625642074,4.963597667556593,4.952110974836615,4.939094997456397,4.92457064173366,4.908561236749774,4.8910924968784935,4.8721924804834185,4.851891544850529,4.830222297428196,4.807219543452948,4.782920230045161,4.757363386864433,4.730590063419985,4.702643263136764,4.673567874283162,4.643410597871283,4.6122198726455945,4.580045797280401,4.546940049911141,4.512955805128758,4.47814764857044,4.442571489243943,4.406284469726303,4.369344874381194,4.331812035742332,4.293746239213316,4.2552086262369455,4.216261096089594,4.176966206458322,4.13738707296045,4.097587267767001,4.057630717492806,4.017581600517303,3.977504243900955,3.937463020062856,3.89752224338548,3.8577460669126498,3.81819837930664,3.77894270222995,3.740042088316536,3.701559019896401,3.663555308636221,3.62609199625718,3.5892292564895056,3.5530262984211554,3.5175412713959515,3.4828311716138454,3.4489517505833853,3.4159574255734078,3.38390119220779,3.352834539343659,3.3228073663697675,3.2938679030578895,3.2660626320959576,3.239436214427365,3.2140314175163844,3.1898890466548777,3.167047879420665,3.1455446033928163,3.1254137572239107,3.106687675163897,3.0893964351247005,3.0735678103689406,3.059227224900407,3.0463977126279143,3.0350998803681413,3.0253518747468764,3.0171693530518295,3.0105654580838292,3.0055507970468045,3.0021334245104465,3.000318829472925,3.0001099265444355,3.0015070512657434,3.004507959569232,3.009107831383339,3.0152992783745707,3.0230723558146773,3.032414578553917,3.043310941074755,3.05574394159379,3.069693610173192,3.085137540796502,3.102050927357267,3.1204066035027163,3.140175086268468,3.161324623434195,3.183821244524171,3.2076288153707946,3.2327090961534384,3.259021802819418,3.2865246717883947,3.3151735278363272,3.3449223550498965,3.3757233707374628,3.407527102177824,3.4402824660835085,3.4739368506509765,3.508436200065904,3.543725101327871,3.5797468732549538,3.6164436575252763,3.6537565116092945,3.691625503443528,3.7299898076937086,3.768787803452669,3.8079571732161157,3.847435002977264,3.8871578832795817,3.927062011065323,3.967083292156272,4.007157444202076,4.047220099930843,4.0872069105361035,4.127053649034146,4.16669631342567,4.206071229496066,4.2451151530892055,4.283765371690466,4.321959805155855,4.359637105425376,4.3967367550605525,4.433199164447792,4.468965767511476,4.5039791157830305,4.538182970674906,4.571522393811234,4.603943835270069,4.635395219595509,4.665826029441503,4.695187386713034,4.723432131074315,4.750514895697922,4.77639218013318,4.80102242017678,4.824366054633362,4.846385588858887,4.867045654984684,4.886313068725475,4.9041568826801125,4.920548436039421,4.935461400621319,4.948871823159248,4.96075816377601,4.971101330581216,4.979884710336753,4.987094195141043,4.99271820508921,4.996747706872775,4.9991762282889916,4.999999868636526,4.999217304980781,4.996829794278799],\"type\":\"scatter\"}],                        {\"template\":{\"data\":{\"bar\":[{\"error_x\":{\"color\":\"#2a3f5f\"},\"error_y\":{\"color\":\"#2a3f5f\"},\"marker\":{\"line\":{\"color\":\"#E5ECF6\",\"width\":0.5},\"pattern\":{\"fillmode\":\"overlay\",\"size\":10,\"solidity\":0.2}},\"type\":\"bar\"}],\"barpolar\":[{\"marker\":{\"line\":{\"color\":\"#E5ECF6\",\"width\":0.5},\"pattern\":{\"fillmode\":\"overlay\",\"size\":10,\"solidity\":0.2}},\"type\":\"barpolar\"}],\"carpet\":[{\"aaxis\":{\"endlinecolor\":\"#2a3f5f\",\"gridcolor\":\"white\",\"linecolor\":\"white\",\"minorgridcolor\":\"white\",\"startlinecolor\":\"#2a3f5f\"},\"baxis\":{\"endlinecolor\":\"#2a3f5f\",\"gridcolor\":\"white\",\"linecolor\":\"white\",\"minorgridcolor\":\"white\",\"startlinecolor\":\"#2a3f5f\"},\"type\":\"carpet\"}],\"choropleth\":[{\"colorbar\":{\"outlinewidth\":0,\"ticks\":\"\"},\"type\":\"choropleth\"}],\"contour\":[{\"colorbar\":{\"outlinewidth\":0,\"ticks\":\"\"},\"colorscale\":[[0.0,\"#0d0887\"],[0.1111111111111111,\"#46039f\"],[0.2222222222222222,\"#7201a8\"],[0.3333333333333333,\"#9c179e\"],[0.4444444444444444,\"#bd3786\"],[0.5555555555555556,\"#d8576b\"],[0.6666666666666666,\"#ed7953\"],[0.7777777777777778,\"#fb9f3a\"],[0.8888888888888888,\"#fdca26\"],[1.0,\"#f0f921\"]],\"type\":\"contour\"}],\"contourcarpet\":[{\"colorbar\":{\"outlinewidth\":0,\"ticks\":\"\"},\"type\":\"contourcarpet\"}],\"heatmap\":[{\"colorbar\":{\"outlinewidth\":0,\"ticks\":\"\"},\"colorscale\":[[0.0,\"#0d0887\"],[0.1111111111111111,\"#46039f\"],[0.2222222222222222,\"#7201a8\"],[0.3333333333333333,\"#9c179e\"],[0.4444444444444444,\"#bd3786\"],[0.5555555555555556,\"#d8576b\"],[0.6666666666666666,\"#ed7953\"],[0.7777777777777778,\"#fb9f3a\"],[0.8888888888888888,\"#fdca26\"],[1.0,\"#f0f921\"]],\"type\":\"heatmap\"}],\"heatmapgl\":[{\"colorbar\":{\"outlinewidth\":0,\"ticks\":\"\"},\"colorscale\":[[0.0,\"#0d0887\"],[0.1111111111111111,\"#46039f\"],[0.2222222222222222,\"#7201a8\"],[0.3333333333333333,\"#9c179e\"],[0.4444444444444444,\"#bd3786\"],[0.5555555555555556,\"#d8576b\"],[0.6666666666666666,\"#ed7953\"],[0.7777777777777778,\"#fb9f3a\"],[0.8888888888888888,\"#fdca26\"],[1.0,\"#f0f921\"]],\"type\":\"heatmapgl\"}],\"histogram\":[{\"marker\":{\"pattern\":{\"fillmode\":\"overlay\",\"size\":10,\"solidity\":0.2}},\"type\":\"histogram\"}],\"histogram2d\":[{\"colorbar\":{\"outlinewidth\":0,\"ticks\":\"\"},\"colorscale\":[[0.0,\"#0d0887\"],[0.1111111111111111,\"#46039f\"],[0.2222222222222222,\"#7201a8\"],[0.3333333333333333,\"#9c179e\"],[0.4444444444444444,\"#bd3786\"],[0.5555555555555556,\"#d8576b\"],[0.6666666666666666,\"#ed7953\"],[0.7777777777777778,\"#fb9f3a\"],[0.8888888888888888,\"#fdca26\"],[1.0,\"#f0f921\"]],\"type\":\"histogram2d\"}],\"histogram2dcontour\":[{\"colorbar\":{\"outlinewidth\":0,\"ticks\":\"\"},\"colorscale\":[[0.0,\"#0d0887\"],[0.1111111111111111,\"#46039f\"],[0.2222222222222222,\"#7201a8\"],[0.3333333333333333,\"#9c179e\"],[0.4444444444444444,\"#bd3786\"],[0.5555555555555556,\"#d8576b\"],[0.6666666666666666,\"#ed7953\"],[0.7777777777777778,\"#fb9f3a\"],[0.8888888888888888,\"#fdca26\"],[1.0,\"#f0f921\"]],\"type\":\"histogram2dcontour\"}],\"mesh3d\":[{\"colorbar\":{\"outlinewidth\":0,\"ticks\":\"\"},\"type\":\"mesh3d\"}],\"parcoords\":[{\"line\":{\"colorbar\":{\"outlinewidth\":0,\"ticks\":\"\"}},\"type\":\"parcoords\"}],\"pie\":[{\"automargin\":true,\"type\":\"pie\"}],\"scatter\":[{\"marker\":{\"colorbar\":{\"outlinewidth\":0,\"ticks\":\"\"}},\"type\":\"scatter\"}],\"scatter3d\":[{\"line\":{\"colorbar\":{\"outlinewidth\":0,\"ticks\":\"\"}},\"marker\":{\"colorbar\":{\"outlinewidth\":0,\"ticks\":\"\"}},\"type\":\"scatter3d\"}],\"scattercarpet\":[{\"marker\":{\"colorbar\":{\"outlinewidth\":0,\"ticks\":\"\"}},\"type\":\"scattercarpet\"}],\"scattergeo\":[{\"marker\":{\"colorbar\":{\"outlinewidth\":0,\"ticks\":\"\"}},\"type\":\"scattergeo\"}],\"scattergl\":[{\"marker\":{\"colorbar\":{\"outlinewidth\":0,\"ticks\":\"\"}},\"type\":\"scattergl\"}],\"scattermapbox\":[{\"marker\":{\"colorbar\":{\"outlinewidth\":0,\"ticks\":\"\"}},\"type\":\"scattermapbox\"}],\"scatterpolar\":[{\"marker\":{\"colorbar\":{\"outlinewidth\":0,\"ticks\":\"\"}},\"type\":\"scatterpolar\"}],\"scatterpolargl\":[{\"marker\":{\"colorbar\":{\"outlinewidth\":0,\"ticks\":\"\"}},\"type\":\"scatterpolargl\"}],\"scatterternary\":[{\"marker\":{\"colorbar\":{\"outlinewidth\":0,\"ticks\":\"\"}},\"type\":\"scatterternary\"}],\"surface\":[{\"colorbar\":{\"outlinewidth\":0,\"ticks\":\"\"},\"colorscale\":[[0.0,\"#0d0887\"],[0.1111111111111111,\"#46039f\"],[0.2222222222222222,\"#7201a8\"],[0.3333333333333333,\"#9c179e\"],[0.4444444444444444,\"#bd3786\"],[0.5555555555555556,\"#d8576b\"],[0.6666666666666666,\"#ed7953\"],[0.7777777777777778,\"#fb9f3a\"],[0.8888888888888888,\"#fdca26\"],[1.0,\"#f0f921\"]],\"type\":\"surface\"}],\"table\":[{\"cells\":{\"fill\":{\"color\":\"#EBF0F8\"},\"line\":{\"color\":\"white\"}},\"header\":{\"fill\":{\"color\":\"#C8D4E3\"},\"line\":{\"color\":\"white\"}},\"type\":\"table\"}]},\"layout\":{\"annotationdefaults\":{\"arrowcolor\":\"#2a3f5f\",\"arrowhead\":0,\"arrowwidth\":1},\"autotypenumbers\":\"strict\",\"coloraxis\":{\"colorbar\":{\"outlinewidth\":0,\"ticks\":\"\"}},\"colorscale\":{\"diverging\":[[0,\"#8e0152\"],[0.1,\"#c51b7d\"],[0.2,\"#de77ae\"],[0.3,\"#f1b6da\"],[0.4,\"#fde0ef\"],[0.5,\"#f7f7f7\"],[0.6,\"#e6f5d0\"],[0.7,\"#b8e186\"],[0.8,\"#7fbc41\"],[0.9,\"#4d9221\"],[1,\"#276419\"]],\"sequential\":[[0.0,\"#0d0887\"],[0.1111111111111111,\"#46039f\"],[0.2222222222222222,\"#7201a8\"],[0.3333333333333333,\"#9c179e\"],[0.4444444444444444,\"#bd3786\"],[0.5555555555555556,\"#d8576b\"],[0.6666666666666666,\"#ed7953\"],[0.7777777777777778,\"#fb9f3a\"],[0.8888888888888888,\"#fdca26\"],[1.0,\"#f0f921\"]],\"sequentialminus\":[[0.0,\"#0d0887\"],[0.1111111111111111,\"#46039f\"],[0.2222222222222222,\"#7201a8\"],[0.3333333333333333,\"#9c179e\"],[0.4444444444444444,\"#bd3786\"],[0.5555555555555556,\"#d8576b\"],[0.6666666666666666,\"#ed7953\"],[0.7777777777777778,\"#fb9f3a\"],[0.8888888888888888,\"#fdca26\"],[1.0,\"#f0f921\"]]},\"colorway\":[\"#636efa\",\"#EF553B\",\"#00cc96\",\"#ab63fa\",\"#FFA15A\",\"#19d3f3\",\"#FF6692\",\"#B6E880\",\"#FF97FF\",\"#FECB52\"],\"font\":{\"color\":\"#2a3f5f\"},\"geo\":{\"bgcolor\":\"white\",\"lakecolor\":\"white\",\"landcolor\":\"#E5ECF6\",\"showlakes\":true,\"showland\":true,\"subunitcolor\":\"white\"},\"hoverlabel\":{\"align\":\"left\"},\"hovermode\":\"closest\",\"mapbox\":{\"style\":\"light\"},\"paper_bgcolor\":\"white\",\"plot_bgcolor\":\"#E5ECF6\",\"polar\":{\"angularaxis\":{\"gridcolor\":\"white\",\"linecolor\":\"white\",\"ticks\":\"\"},\"bgcolor\":\"#E5ECF6\",\"radialaxis\":{\"gridcolor\":\"white\",\"linecolor\":\"white\",\"ticks\":\"\"}},\"scene\":{\"xaxis\":{\"backgroundcolor\":\"#E5ECF6\",\"gridcolor\":\"white\",\"gridwidth\":2,\"linecolor\":\"white\",\"showbackground\":true,\"ticks\":\"\",\"zerolinecolor\":\"white\"},\"yaxis\":{\"backgroundcolor\":\"#E5ECF6\",\"gridcolor\":\"white\",\"gridwidth\":2,\"linecolor\":\"white\",\"showbackground\":true,\"ticks\":\"\",\"zerolinecolor\":\"white\"},\"zaxis\":{\"backgroundcolor\":\"#E5ECF6\",\"gridcolor\":\"white\",\"gridwidth\":2,\"linecolor\":\"white\",\"showbackground\":true,\"ticks\":\"\",\"zerolinecolor\":\"white\"}},\"shapedefaults\":{\"line\":{\"color\":\"#2a3f5f\"}},\"ternary\":{\"aaxis\":{\"gridcolor\":\"white\",\"linecolor\":\"white\",\"ticks\":\"\"},\"baxis\":{\"gridcolor\":\"white\",\"linecolor\":\"white\",\"ticks\":\"\"},\"bgcolor\":\"#E5ECF6\",\"caxis\":{\"gridcolor\":\"white\",\"linecolor\":\"white\",\"ticks\":\"\"}},\"title\":{\"x\":0.05},\"xaxis\":{\"automargin\":true,\"gridcolor\":\"white\",\"linecolor\":\"white\",\"ticks\":\"\",\"title\":{\"standoff\":15},\"zerolinecolor\":\"white\",\"zerolinewidth\":2},\"yaxis\":{\"automargin\":true,\"gridcolor\":\"white\",\"linecolor\":\"white\",\"ticks\":\"\",\"title\":{\"standoff\":15},\"zerolinecolor\":\"white\",\"zerolinewidth\":2}}},\"xaxis\":{\"anchor\":\"y\",\"domain\":[0.0,1.0],\"title\":{\"text\":\"x\"}},\"yaxis\":{\"anchor\":\"x\",\"domain\":[0.0,1.0],\"title\":{\"text\":\"y\"}},\"legend\":{\"tracegroupgap\":0},\"margin\":{\"t\":60},\"title\":{\"text\":\"Sinsusoidal Regression on Noisy Data\"}},                        {\"responsive\": true}                    ).then(function(){\n",
       "                            \n",
       "var gd = document.getElementById('10e7e4ee-5a4b-4846-a735-67ae3951b247');\n",
       "var x = new MutationObserver(function (mutations, observer) {{\n",
       "        var display = window.getComputedStyle(gd).display;\n",
       "        if (!display || display === 'none') {{\n",
       "            console.log([gd, 'removed!']);\n",
       "            Plotly.purge(gd);\n",
       "            observer.disconnect();\n",
       "        }}\n",
       "}});\n",
       "\n",
       "// Listen for the removal of the full notebook cells\n",
       "var notebookContainer = gd.closest('#notebook-container');\n",
       "if (notebookContainer) {{\n",
       "    x.observe(notebookContainer, {childList: true});\n",
       "}}\n",
       "\n",
       "// Listen for the clearing of the current output cell\n",
       "var outputEl = gd.closest('.output');\n",
       "if (outputEl) {{\n",
       "    x.observe(outputEl, {childList: true});\n",
       "}}\n",
       "\n",
       "                        })                };                });            </script>        </div>"
      ]
     },
     "metadata": {},
     "output_type": "display_data"
    }
   ],
   "source": [
    "import plotly.express as px\n",
    "fig = px.scatter(x=tt, y=yynoise)\n",
    "fig.add_scatter(x=tt, y =yy, name = \"Sinusoidal Prediction\")\n",
    "fig.update_layout(title = 'Sinsusoidal Regression on Noisy Data')\n",
    "fig.show()"
   ]
  },
  {
   "cell_type": "markdown",
   "id": "614eacc7",
   "metadata": {},
   "source": [
    "### QQPlot  <a class=\"anchor\" id=\"QQplot\"></a>"
   ]
  },
  {
   "cell_type": "markdown",
   "id": "95e19cda",
   "metadata": {},
   "source": [
    "https://plotly.com/python/v3/normality-test/"
   ]
  },
  {
   "cell_type": "code",
   "execution_count": 24,
   "id": "52cf1a0b",
   "metadata": {},
   "outputs": [
    {
     "data": {
      "text/plain": [
       "[<matplotlib.lines.Line2D at 0x21a7edbb850>,\n",
       " <matplotlib.lines.Line2D at 0x21a7edbbb80>]"
      ]
     },
     "execution_count": 24,
     "metadata": {},
     "output_type": "execute_result"
    },
    {
     "data": {
      "image/png": "[encoded data removed]",
      "text/plain": [
       "<Figure size 432x288 with 1 Axes>"
      ]
     },
     "metadata": {
      "needs_background": "light"
     },
     "output_type": "display_data"
    }
   ],
   "source": [
    "from statsmodels.graphics.gofplots import qqplot\n",
    "\n",
    "qqplot_data = qqplot(epsilon, line='s').gca().lines\n",
    "qqplot_data #Boring, Old way"
   ]
  },
  {
   "cell_type": "code",
   "execution_count": 25,
   "id": "6dcf3e95",
   "metadata": {},
   "outputs": [
    {
     "data": {
      "application/vnd.plotly.v1+json": {
       "config": {
        "linkText": "Export to plot.ly",
        "plotlyServerURL": "https://plot.ly",
        "showLink": false
       },
       "data": [
        {
         "marker": {
          "color": "#19d3f3"
         },
         "mode": "markers",
         "type": "scatter",
         "x": [
          -2.878791946663771,
          -2.6527443361778706,
          -2.5128493063546746,
          -2.4096446702910828,
          -2.3270974381576357,
          -2.2578967738622167,
          -2.198070087185148,
          -2.1452091577240897,
          -2.0977397240560367,
          -2.0545740973085067,
          -2.0149281722161585,
          -1.9782173557054166,
          -1.9439937268344964,
          -1.9119062214969071,
          -1.8816743862208096,
          -1.8530704927563826,
          -1.8259070010390772,
          -1.8000275547807236,
          -1.7753003758395876,
          -1.751613327288067,
          -1.7288701622862503,
          -1.706987631698608,
          -1.6858932242067775,
          -1.6655233794215798,
          -1.6458220596200581,
          -1.6267395968131173,
          -1.6082317536240274,
          -1.5902589519520243,
          -1.5727856345778841,
          -1.555779733045389,
          -1.539212221204318,
          -1.523056738329606,
          -1.5072892691559818,
          -1.491887870782055,
          -1.476832438412075,
          -1.4621045034684073,
          -1.4476870588329875,
          -1.4335644069425775,
          -1.4197220272303261,
          -1.4061464600200018,
          -1.3928252044731249,
          -1.3797466285888613,
          -1.366899889581792,
          -1.3542748632287118,
          -1.341862080994352,
          -1.3296526739266514,
          -1.317638322462106,
          -1.3058112114067684,
          -1.2941639894629922,
          -1.282689732759974,
          -1.2713819119201764,
          -1.2602343622565275,
          -1.249241256748514,
          -1.2383970814907308,
          -1.227696613346246,
          -1.2171348995704503,
          -1.2067072391996543,
          -1.1964091660234413,
          -1.1862364329810913,
          -1.1761849978409358,
          -1.1662510100376124,
          -1.1564307985561837,
          -1.1467208607643733,
          -1.1371178521048986,
          -1.1276185765692712,
          -1.118219977882748,
          -1.108919131337386,
          -1.0997132362166246,
          -1.0905996087604735,
          -1.0815756756254842,
          -1.0726389677981436,
          -1.063787114924306,
          -1.0550178400208639,
          -1.046328954539008,
          -1.037718353751271,
          -1.0291840124370901,
          -1.0207239808438964,
          -1.0123363809027899,
          -1.0040194026796954,
          -0.9957713010445483,
          -0.9875903925425602,
          -0.9794750524529587,
          -0.9714237120218157,
          -0.9634348558566883,
          -0.9555070194717937,
          -0.9476387869733464,
          -0.9398287888755193,
          -0.9320757000382391,
          -0.9243782377187024,
          -0.916735159729141,
          -0.9091452626939119,
          -0.9016073803995353,
          -0.8941203822317478,
          -0.886683171694106,
          -0.8792946850030504,
          -0.8719538897547215,
          -0.8646597836591481,
          -0.8574113933377402,
          -0.8502077731803047,
          -0.843048004258061,
          -0.8359311932893759,
          -0.8288564716551625,
          -0.8218229944610879,
          -0.8148299396439304,
          -0.8078765071195982,
          -0.8009619179704839,
          -0.7940854136699831,
          -0.7872462553421392,
          -0.7804437230545131,
          -0.7736771151424852,
          -0.7669457475633235,
          -0.7602489532784371,
          -0.7535860816623511,
          -0.7469564979370035,
          -0.7403595826300782,
          -0.7337947310561326,
          -0.7272613528193825,
          -0.7207588713370479,
          -0.7142867233822445,
          -0.7078443586454575,
          -0.7014312393136848,
          -0.695046839666401,
          -0.6886906456875264,
          -0.682362154692641,
          -0.6760608749707244,
          -0.6697863254397342,
          -0.6635380353153846,
          -0.6573155437925107,
          -0.6511183997384439,
          -0.6449461613978518,
          -0.6387983961085225,
          -0.6326746800276069,
          -0.6265745978678484,
          -0.6204977426433653,
          -0.6144437154245603,
          -0.6084121251017659,
          -0.6024025881572435,
          -0.5964147284451813,
          -0.5904481769793475,
          -0.5845025717280762,
          -0.578577557416278,
          -0.5726727853341822,
          -0.5667879131525292,
          -0.5609226047439518,
          -0.5550765300102889,
          -0.5492493647155903,
          -0.543440790324586,
          -0.5376504938463977,
          -0.5318781676832843,
          -0.5261235094842235,
          -0.5203862220031361,
          -0.5146660129615759,
          -0.5089625949157053,
          -0.5032756851273973,
          -0.4976050054393014,
          -0.49195028215372294,
          -0.48631124591517094,
          -0.480687631596437,
          -0.47507917818807016,
          -0.469485628691124,
          -0.4639067300130515,
          -0.45834223286663384,
          -0.45279189167182926,
          -0.44725546446043773,
          -0.44173271278347614,
          -0.436223401621169,
          -0.43072729929545756,
          -0.42524417738493925,
          -0.4197738106421494,
          -0.4143159769131024,
          -0.4088704570590127,
          -0.40343703488011934,
          -0.39801549704153766,
          -0.39260563300107176,
          -0.3872072349389157,
          -0.3818200976891797,
          -0.3764440186731786,
          -0.3710787978344214,
          -0.3657242375752429,
          -0.36038014269502366,
          -0.35504632032994143,
          -0.3497225798942044,
          -0.3444087330227139,
          -0.33910459351511124,
          -0.33380997728115813,
          -0.32852470228741065,
          -0.3232485885051383,
          -0.3179814578594511,
          -0.3127231341795909,
          -0.30747344315035036,
          -0.30223221226458047,
          -0.29699927077675203,
          -0.2917744496575336,
          -0.28655758154935473,
          -0.28134850072292034,
          -0.2761470430346446,
          -0.27095304588497404,
          -0.2657663481775706,
          -0.26058679027932496,
          -0.25541421398117364,
          -0.2502484624596921,
          -0.24508938023943821,
          -0.23993681315602117,
          -0.23479060831987053,
          -0.2296506140806827,
          -0.2245166799925212,
          -0.2193886567795486,
          -0.21426639630236863,
          -0.20914975152495716,
          -0.20403857648216184,
          -0.19893272624775024,
          -0.19383205690298824,
          -0.1887364255057275,
          -0.1836456900599868,
          -0.17855970948600722,
          -0.17347834359076486,
          -0.1684014530389235,
          -0.16332889932421207,
          -0.15826054474120876,
          -0.15319625235751866,
          -0.1481358859863274,
          -0.14307931015931719,
          -0.13802639009993026,
          -0.13297699169696545,
          -0.12793098147849394,
          -0.12288822658608067,
          -0.11784859474929771,
          -0.11281195426051693,
          -0.10777817394996866,
          -0.10274712316105414,
          -0.09771867172589878,
          -0.09269268994113539,
          -0.08766904854390295,
          -0.08264761868805212,
          -0.07762827192054372,
          -0.07261088015802968,
          -0.06759531566360502,
          -0.06258145102371986,
          -0.057569159125240195,
          -0.05255831313264713,
          -0.04754878646536324,
          -0.04254045277519598,
          -0.03753318592388742,
          -0.03252685996075981,
          -0.0275213491004469,
          -0.02251652770070054,
          -0.017512270240262542,
          -0.012508451296791559,
          -0.007504945524834977,
          -0.0025016276338357883,
          0.0025016276338357883,
          0.007504945524834839,
          0.012508451296791559,
          0.017512270240262404,
          0.02251652770070054,
          0.027521349100446763,
          0.03252685996075981,
          0.03753318592388728,
          0.04254045277519598,
          0.0475487864653631,
          0.05255831313264713,
          0.05756915912524034,
          0.06258145102371986,
          0.06759531566360516,
          0.07261088015802968,
          0.07762827192054386,
          0.08264761868805212,
          0.08766904854390309,
          0.09269268994113539,
          0.09771867172589892,
          0.102747123161054,
          0.10777817394996866,
          0.1128119542605168,
          0.11784859474929771,
          0.12288822658608053,
          0.12793098147849394,
          0.1329769916969653,
          0.13802639009993026,
          0.14307931015931705,
          0.1481358859863274,
          0.15319625235751883,
          0.15826054474120876,
          0.1633288993242122,
          0.1684014530389235,
          0.173478343590765,
          0.17855970948600722,
          0.18364569005998696,
          0.1887364255057275,
          0.19383205690298838,
          0.19893272624775024,
          0.20403857648216184,
          0.20914975152495702,
          0.21426639630236863,
          0.21938865677954847,
          0.2245166799925212,
          0.22965061408068257,
          0.23479060831987053,
          0.23993681315602103,
          0.24508938023943821,
          0.25024846245969196,
          0.25541421398117364,
          0.26058679027932513,
          0.2657663481775706,
          0.2709530458849742,
          0.2761470430346446,
          0.28134850072292045,
          0.28655758154935473,
          0.29177444965753374,
          0.29699927077675203,
          0.30223221226458064,
          0.3074734431503502,
          0.3127231341795909,
          0.3179814578594509,
          0.3232485885051383,
          0.3285247022874105,
          0.33380997728115813,
          0.339104593515111,
          0.3444087330227139,
          0.34972257989420424,
          0.35504632032994143,
          0.36038014269502383,
          0.3657242375752429,
          0.3710787978344215,
          0.3764440186731786,
          0.3818200976891798,
          0.3872072349389157,
          0.3926056330010719,
          0.39801549704153766,
          0.4034370348801195,
          0.4088704570590127,
          0.4143159769131024,
          0.41977381064214925,
          0.42524417738493925,
          0.43072729929545744,
          0.436223401621169,
          0.44173271278347603,
          0.44725546446043773,
          0.45279189167182915,
          0.45834223286663384,
          0.4639067300130513,
          0.469485628691124,
          0.47507917818807033,
          0.480687631596437,
          0.48631124591517116,
          0.49195028215372294,
          0.49760500543930153,
          0.5032756851273973,
          0.5089625949157055,
          0.5146660129615759,
          0.5203862220031363,
          0.5261235094842234,
          0.5318781676832843,
          0.5376504938463975,
          0.543440790324586,
          0.5492493647155902,
          0.5550765300102889,
          0.5609226047439517,
          0.5667879131525292,
          0.572672785334182,
          0.578577557416278,
          0.5845025717280763,
          0.5904481769793475,
          0.5964147284451815,
          0.6024025881572435,
          0.608412125101766,
          0.6144437154245603,
          0.6204977426433654,
          0.6265745978678484,
          0.632674680027607,
          0.6387983961085225,
          0.6449461613978518,
          0.6511183997384437,
          0.6573155437925107,
          0.6635380353153844,
          0.6697863254397342,
          0.6760608749707242,
          0.682362154692641,
          0.688690645687526,
          0.695046839666401,
          0.7014312393136847,
          0.7078443586454575,
          0.7142867233822449,
          0.7207588713370479,
          0.7272613528193828,
          0.7337947310561326,
          0.7403595826300782,
          0.7469564979370035,
          0.7535860816623511,
          0.7602489532784371,
          0.7669457475633235,
          0.7736771151424852,
          0.7804437230545131,
          0.7872462553421392,
          0.7940854136699831,
          0.8009619179704839,
          0.8078765071195982,
          0.8148299396439302,
          0.8218229944610879,
          0.8288564716551624,
          0.8359311932893759,
          0.8430480042580611,
          0.8502077731803047,
          0.8574113933377404,
          0.8646597836591481,
          0.8719538897547218,
          0.8792946850030504,
          0.886683171694106,
          0.8941203822317478,
          0.9016073803995353,
          0.9091452626939119,
          0.916735159729141,
          0.9243782377187024,
          0.9320757000382391,
          0.9398287888755193,
          0.9476387869733464,
          0.9555070194717937,
          0.9634348558566883,
          0.9714237120218153,
          0.9794750524529587,
          0.98759039254256,
          0.9957713010445483,
          1.0040194026796954,
          1.0123363809027899,
          1.0207239808438962,
          1.0291840124370901,
          1.037718353751271,
          1.046328954539008,
          1.0550178400208639,
          1.063787114924306,
          1.0726389677981436,
          1.0815756756254842,
          1.0905996087604735,
          1.0997132362166246,
          1.108919131337386,
          1.118219977882747,
          1.1276185765692712,
          1.1371178521048986,
          1.1467208607643733,
          1.1564307985561837,
          1.1662510100376124,
          1.1761849978409358,
          1.1862364329810913,
          1.1964091660234422,
          1.2067072391996543,
          1.2171348995704503,
          1.227696613346246,
          1.2383970814907308,
          1.249241256748514,
          1.2602343622565282,
          1.2713819119201764,
          1.282689732759974,
          1.2941639894629922,
          1.3058112114067684,
          1.317638322462106,
          1.3296526739266514,
          1.341862080994352,
          1.3542748632287118,
          1.366899889581792,
          1.3797466285888613,
          1.3928252044731244,
          1.4061464600200018,
          1.419722027230327,
          1.4335644069425775,
          1.447687058832988,
          1.4621045034684073,
          1.4768324384120757,
          1.4918878707820542,
          1.5072892691559825,
          1.523056738329606,
          1.539212221204318,
          1.5557797330453886,
          1.5727856345778841,
          1.5902589519520238,
          1.6082317536240274,
          1.6267395968131166,
          1.6458220596200581,
          1.6655233794215798,
          1.6858932242067775,
          1.706987631698607,
          1.7288701622862503,
          1.751613327288068,
          1.7753003758395876,
          1.8000275547807243,
          1.8259070010390772,
          1.8530704927563826,
          1.881674386220809,
          1.9119062214969078,
          1.943993726834496,
          1.9782173557054168,
          2.014928172216158,
          2.054574097308507,
          2.097739724056036,
          2.1452091577240897,
          2.1980700871851475,
          2.2578967738622175,
          2.327097438157635,
          2.4096446702910836,
          2.5128493063546724,
          2.652744336177871,
          2.878791946663763
         ],
         "y": [
          -1.4982304711294736,
          -1.4953334474078028,
          -1.4907973495745908,
          -1.4902667416412227,
          -1.478913831214876,
          -1.478625452458416,
          -1.4677809242220974,
          -1.4655342393020758,
          -1.463088325762072,
          -1.4599535763613622,
          -1.4593316728131982,
          -1.4551247122484128,
          -1.4533444230667332,
          -1.447986997731466,
          -1.445125173679029,
          -1.4414134900700097,
          -1.427318831314813,
          -1.427268186151223,
          -1.422774609541789,
          -1.4115830875373587,
          -1.4098581796710716,
          -1.4087483627936122,
          -1.3972850065985543,
          -1.3967639212133562,
          -1.3949515220192064,
          -1.387472534707023,
          -1.3800965696128227,
          -1.377969360521846,
          -1.3767256996725479,
          -1.3739808990111846,
          -1.350098756723951,
          -1.3291755347681473,
          -1.3238707153015306,
          -1.3214165628447083,
          -1.321070374432555,
          -1.3091474328080608,
          -1.296149139051709,
          -1.29508915123436,
          -1.2932964551098571,
          -1.273255523663953,
          -1.2509748196681514,
          -1.2487590094913616,
          -1.2442514130932105,
          -1.2385621542915901,
          -1.2366634484887022,
          -1.2126122262133556,
          -1.2116808073094605,
          -1.2079343670326206,
          -1.2028013234198216,
          -1.2025987678537975,
          -1.201472867717841,
          -1.191835990809179,
          -1.1910347594625046,
          -1.1855548116974908,
          -1.182000104775633,
          -1.178432502279097,
          -1.168497496360307,
          -1.1630185586487929,
          -1.1591554683112784,
          -1.1314993339691881,
          -1.1240848749907437,
          -1.1171680412147924,
          -1.1146190685950677,
          -1.113552119523519,
          -1.1116373325276983,
          -1.1105297652743809,
          -1.105794567396575,
          -1.0845861505787915,
          -1.082564663677605,
          -1.0808099574375847,
          -1.0778017283832293,
          -1.0626375516533852,
          -1.0497574350915366,
          -1.046010976835548,
          -1.043805370413025,
          -1.0408998003894547,
          -1.0400268739914242,
          -1.0390810122709562,
          -1.0302666367031845,
          -1.025791911376078,
          -1.0166858218423265,
          -1.015998915689083,
          -1.0158707192702319,
          -1.0076176563574983,
          -0.9994060032244811,
          -0.9980480180060818,
          -0.9971910977481535,
          -0.9833800640824122,
          -0.9789814009149644,
          -0.9572593530294422,
          -0.9537901597004423,
          -0.9534028362753286,
          -0.9403292999249073,
          -0.934021632725559,
          -0.9195949515150641,
          -0.9178176598188408,
          -0.9036369710501466,
          -0.9013282677531245,
          -0.895467871939255,
          -0.8937350736462393,
          -0.8898033785500274,
          -0.8878784609413723,
          -0.8788100151242544,
          -0.8680602091242728,
          -0.8660521743187779,
          -0.8593687118603821,
          -0.8511152673871973,
          -0.8502580161134086,
          -0.8429529655123993,
          -0.8408886779671914,
          -0.8390507825344216,
          -0.8382519397337083,
          -0.8273984816712963,
          -0.8247776236052018,
          -0.8105504339186353,
          -0.7984370997989911,
          -0.7889428780088448,
          -0.788782807531585,
          -0.7724928839805232,
          -0.7721457862964409,
          -0.7640103794769244,
          -0.7634692131887335,
          -0.761481809254779,
          -0.7507482636494989,
          -0.7480224737683718,
          -0.746361400782944,
          -0.7461258628436234,
          -0.7455082378292168,
          -0.7423951792084926,
          -0.7341350479386755,
          -0.7180981793501369,
          -0.6944054476366888,
          -0.677586001283383,
          -0.6556148928411498,
          -0.6522298849148487,
          -0.6500922579884181,
          -0.6482967415531173,
          -0.640228594941485,
          -0.6389939777837279,
          -0.6324196221863296,
          -0.6273808973591231,
          -0.6256584321375995,
          -0.623051925988789,
          -0.6198927812780348,
          -0.6127465020980059,
          -0.6048674615342398,
          -0.5995784610591945,
          -0.5908239040340493,
          -0.5902774883381396,
          -0.5884543489708776,
          -0.5816701145543095,
          -0.5809850236999772,
          -0.5802348398333788,
          -0.5749055757519201,
          -0.5737172636669294,
          -0.5676399057561787,
          -0.5667398683771996,
          -0.5646956057254222,
          -0.5638209334308062,
          -0.550208851937791,
          -0.5243446603564634,
          -0.5198213059190984,
          -0.5101513312260106,
          -0.5098134108092123,
          -0.5015959287052656,
          -0.4955415950656592,
          -0.4777869557440919,
          -0.47443404234865794,
          -0.4639877536540915,
          -0.4532383068412509,
          -0.44540970206572394,
          -0.4370457576742952,
          -0.42743367357816986,
          -0.42016318794854524,
          -0.41254863985928125,
          -0.40798024600703897,
          -0.39944174442187075,
          -0.3978292685570026,
          -0.39462425028149317,
          -0.394119342956611,
          -0.3772527997140869,
          -0.3715064511947843,
          -0.3627777404221333,
          -0.3585664124690098,
          -0.3526533553360225,
          -0.3496325741325146,
          -0.34189732538038786,
          -0.3349232670559701,
          -0.33150037684431544,
          -0.3261349188501752,
          -0.3174898240056505,
          -0.3130933265053617,
          -0.310291411239735,
          -0.3091992342809817,
          -0.30792778232610996,
          -0.3053180628755108,
          -0.2700456605818462,
          -0.25914959655214886,
          -0.25687505060980476,
          -0.251346186695665,
          -0.2502554817691718,
          -0.24396348962025804,
          -0.23996543113323643,
          -0.23736287987579185,
          -0.22791942526776943,
          -0.21375448173594425,
          -0.21298794657849562,
          -0.20929249251805304,
          -0.2055948849901812,
          -0.19988330191833992,
          -0.19931805698586125,
          -0.19540708076787716,
          -0.19387956912618343,
          -0.19322819788972678,
          -0.18840670826470962,
          -0.1834285860757756,
          -0.16865004773966863,
          -0.15760462581893764,
          -0.15482947422416782,
          -0.13871168643389176,
          -0.13468288098780068,
          -0.13303093327031146,
          -0.1205709561750199,
          -0.11747440994064551,
          -0.11617535967158954,
          -0.11091423346340878,
          -0.11081877394306128,
          -0.10687416053512955,
          -0.10161651430609897,
          -0.09110075889189684,
          -0.08575261600585504,
          -0.08301967820186196,
          -0.08169686190675263,
          -0.07649165198839292,
          -0.075251750070219,
          -0.07350311972580759,
          -0.07111940128868,
          -0.07039790526733114,
          -0.061114025930201876,
          -0.05989080513426304,
          -0.05584890112493568,
          -0.05549973393845775,
          -0.052130468236033956,
          -0.050036189380994855,
          -0.04039103234848129,
          -0.03488795448463522,
          -0.02855483512798518,
          -0.022682990939658865,
          -0.019699613231829005,
          -0.005588755724637018,
          2.6660768393416134e-05,
          0.007080962678760017,
          0.01955834657511879,
          0.03226707790170291,
          0.03408582218253464,
          0.037584489252622255,
          0.05222436479607229,
          0.05294755048064115,
          0.062154359670480996,
          0.06256230129045104,
          0.06266470949079883,
          0.06335144581800245,
          0.0650104202175763,
          0.07285487489702369,
          0.07618994992635297,
          0.08295746426061967,
          0.0879055697723361,
          0.08970845227442492,
          0.09107738792552489,
          0.1013249858198737,
          0.10602642067414791,
          0.10994198892732321,
          0.12002567767147365,
          0.12849600967471675,
          0.13285985635942632,
          0.13390009631216548,
          0.13942152045981615,
          0.14231274988729936,
          0.14441352444678923,
          0.1448439831599515,
          0.17009432456565454,
          0.18576370742710324,
          0.18703790816853605,
          0.187586346622167,
          0.20487818655674062,
          0.20611764498624385,
          0.2126950790248321,
          0.2347330216608814,
          0.23871194882703062,
          0.2400670792721269,
          0.24537089149492441,
          0.2468614305714576,
          0.2698863832118734,
          0.2702298270163239,
          0.28239706385646457,
          0.28334144568488595,
          0.286370746556071,
          0.28701604888854026,
          0.30078052720082127,
          0.3010395672650592,
          0.30181049367046775,
          0.30459846825811887,
          0.3063889396845143,
          0.32096994217419184,
          0.33614908067232996,
          0.3418953530928448,
          0.34205198283878246,
          0.34309257084868605,
          0.343739901651658,
          0.34481224836382207,
          0.34839449675000633,
          0.37102763569917085,
          0.39101554429404706,
          0.39735395360091763,
          0.40587154921970736,
          0.4084819235610171,
          0.4099743293471336,
          0.4121417783569914,
          0.4152317667112011,
          0.4156758594722456,
          0.4351855847002559,
          0.4432001018900955,
          0.4484559477160177,
          0.45529076244824607,
          0.4586198030309845,
          0.4638760950747036,
          0.4668002020684989,
          0.473488465608662,
          0.4736400572765449,
          0.4858096804003913,
          0.49709820631181323,
          0.5124576673148633,
          0.5178788224101964,
          0.518812806052737,
          0.5209074442213275,
          0.5224248991492719,
          0.5337073174628442,
          0.536839642165428,
          0.5398196339112991,
          0.5590761892505185,
          0.5724975316228829,
          0.572976843011578,
          0.5765916001644511,
          0.583983563772172,
          0.5866175363066208,
          0.6116960504709823,
          0.6222369844557969,
          0.629906744607756,
          0.6305872166083857,
          0.6329813450015664,
          0.6410483225300201,
          0.6453542818053148,
          0.6460356355182038,
          0.6466852601921196,
          0.6469362142057378,
          0.6561535380123633,
          0.6670980024000972,
          0.6692469601670226,
          0.6731780430761369,
          0.6896636859274508,
          0.6934785218118247,
          0.7014060227199197,
          0.7028215428704456,
          0.7028874459170584,
          0.7141150904769766,
          0.7152766724853068,
          0.7254941519992935,
          0.7384038051250532,
          0.7573110511365133,
          0.7594174728952412,
          0.7595990995618713,
          0.7679202846987767,
          0.7930431762410297,
          0.7967381244744844,
          0.7989626817454165,
          0.802061769656091,
          0.8065117735793925,
          0.8103179916346734,
          0.8128434242148321,
          0.815634150047845,
          0.8195199709709575,
          0.8367849180134606,
          0.848696575148554,
          0.8506401600178157,
          0.8546997724814864,
          0.8591119099466811,
          0.860265661403739,
          0.870452204569605,
          0.8868812640017296,
          0.8925609950222988,
          0.8997175840446316,
          0.9026029106655105,
          0.9027351911020345,
          0.9038267381740468,
          0.9088400419577933,
          0.918592409550901,
          0.9217787633422665,
          0.9249030401614569,
          0.9390665695282836,
          0.9500612918142788,
          0.9619808528593596,
          0.9650719560560708,
          0.9650878725734344,
          0.9660170673492252,
          0.9710355121944172,
          0.9804338929397574,
          0.9833726745015925,
          0.9845866234216132,
          0.9847064897587829,
          1.008498449471774,
          1.0088156493212574,
          1.0092214240255384,
          1.014708274493553,
          1.0304697568368342,
          1.032715717581688,
          1.0391226060013765,
          1.0392118987332166,
          1.0395797386937993,
          1.0501885886391413,
          1.0553660320574476,
          1.0631533991944022,
          1.0671170389612046,
          1.0739380993927585,
          1.080265659894799,
          1.0811175025569817,
          1.088143235450028,
          1.088792607213775,
          1.0961306570629157,
          1.09750661742331,
          1.1020440853052262,
          1.1028911267092125,
          1.1090317184637204,
          1.1105835855916109,
          1.1132815835253234,
          1.1173207297678793,
          1.1264369511569958,
          1.133105673143799,
          1.1342399612192624,
          1.1346135772762787,
          1.1384985901570577,
          1.1390210023904315,
          1.1424653277426966,
          1.1614108871240236,
          1.1752833131900182,
          1.191715699613506,
          1.1940776352476599,
          1.1969452234483593,
          1.2174415653385218,
          1.2194604503372064,
          1.2357342956449653,
          1.241310689692793,
          1.2630394821702362,
          1.2782994638435659,
          1.2784102445450216,
          1.2804089780041337,
          1.2847759620825947,
          1.2899572107889004,
          1.2944689269489658,
          1.2973698128319606,
          1.3008690951498214,
          1.3088076624183822,
          1.3106185222793258,
          1.3164294256949676,
          1.3172505423247869,
          1.3227076951182806,
          1.3228433522958944,
          1.33180608790083,
          1.3335269123288516,
          1.3356574789109983,
          1.346707371095671,
          1.3496966565026298,
          1.3500324501605778,
          1.3774635420690693,
          1.3893288324128492,
          1.4000375792382873,
          1.4043715433400639,
          1.4109989559331884,
          1.4124558529048357,
          1.416116979849912,
          1.4165701345724333,
          1.4174711272535645,
          1.4231320125097948,
          1.4237552381769847,
          1.427443135188831,
          1.4348593364643776,
          1.4383840581315948,
          1.4389575308486995,
          1.4390180734230755,
          1.4428414017405862,
          1.4433995154871644,
          1.4542824482482857,
          1.4585551573451423,
          1.4692085040431397,
          1.4703154677226866,
          1.4848320318281272,
          1.488014769610987,
          1.4920913505665832,
          1.4963645878118523,
          1.4972640603122542,
          1.499141559254598
         ]
        },
        {
         "line": {
          "color": "#636efa"
         },
         "mode": "lines",
         "type": "scatter",
         "x": [
          -2.878791946663771,
          -2.6527443361778706,
          -2.5128493063546746,
          -2.4096446702910828,
          -2.3270974381576357,
          -2.2578967738622167,
          -2.198070087185148,
          -2.1452091577240897,
          -2.0977397240560367,
          -2.0545740973085067,
          -2.0149281722161585,
          -1.9782173557054166,
          -1.9439937268344964,
          -1.9119062214969071,
          -1.8816743862208096,
          -1.8530704927563826,
          -1.8259070010390772,
          -1.8000275547807236,
          -1.7753003758395876,
          -1.751613327288067,
          -1.7288701622862503,
          -1.706987631698608,
          -1.6858932242067775,
          -1.6655233794215798,
          -1.6458220596200581,
          -1.6267395968131173,
          -1.6082317536240274,
          -1.5902589519520243,
          -1.5727856345778841,
          -1.555779733045389,
          -1.539212221204318,
          -1.523056738329606,
          -1.5072892691559818,
          -1.491887870782055,
          -1.476832438412075,
          -1.4621045034684073,
          -1.4476870588329875,
          -1.4335644069425775,
          -1.4197220272303261,
          -1.4061464600200018,
          -1.3928252044731249,
          -1.3797466285888613,
          -1.366899889581792,
          -1.3542748632287118,
          -1.341862080994352,
          -1.3296526739266514,
          -1.317638322462106,
          -1.3058112114067684,
          -1.2941639894629922,
          -1.282689732759974,
          -1.2713819119201764,
          -1.2602343622565275,
          -1.249241256748514,
          -1.2383970814907308,
          -1.227696613346246,
          -1.2171348995704503,
          -1.2067072391996543,
          -1.1964091660234413,
          -1.1862364329810913,
          -1.1761849978409358,
          -1.1662510100376124,
          -1.1564307985561837,
          -1.1467208607643733,
          -1.1371178521048986,
          -1.1276185765692712,
          -1.118219977882748,
          -1.108919131337386,
          -1.0997132362166246,
          -1.0905996087604735,
          -1.0815756756254842,
          -1.0726389677981436,
          -1.063787114924306,
          -1.0550178400208639,
          -1.046328954539008,
          -1.037718353751271,
          -1.0291840124370901,
          -1.0207239808438964,
          -1.0123363809027899,
          -1.0040194026796954,
          -0.9957713010445483,
          -0.9875903925425602,
          -0.9794750524529587,
          -0.9714237120218157,
          -0.9634348558566883,
          -0.9555070194717937,
          -0.9476387869733464,
          -0.9398287888755193,
          -0.9320757000382391,
          -0.9243782377187024,
          -0.916735159729141,
          -0.9091452626939119,
          -0.9016073803995353,
          -0.8941203822317478,
          -0.886683171694106,
          -0.8792946850030504,
          -0.8719538897547215,
          -0.8646597836591481,
          -0.8574113933377402,
          -0.8502077731803047,
          -0.843048004258061,
          -0.8359311932893759,
          -0.8288564716551625,
          -0.8218229944610879,
          -0.8148299396439304,
          -0.8078765071195982,
          -0.8009619179704839,
          -0.7940854136699831,
          -0.7872462553421392,
          -0.7804437230545131,
          -0.7736771151424852,
          -0.7669457475633235,
          -0.7602489532784371,
          -0.7535860816623511,
          -0.7469564979370035,
          -0.7403595826300782,
          -0.7337947310561326,
          -0.7272613528193825,
          -0.7207588713370479,
          -0.7142867233822445,
          -0.7078443586454575,
          -0.7014312393136848,
          -0.695046839666401,
          -0.6886906456875264,
          -0.682362154692641,
          -0.6760608749707244,
          -0.6697863254397342,
          -0.6635380353153846,
          -0.6573155437925107,
          -0.6511183997384439,
          -0.6449461613978518,
          -0.6387983961085225,
          -0.6326746800276069,
          -0.6265745978678484,
          -0.6204977426433653,
          -0.6144437154245603,
          -0.6084121251017659,
          -0.6024025881572435,
          -0.5964147284451813,
          -0.5904481769793475,
          -0.5845025717280762,
          -0.578577557416278,
          -0.5726727853341822,
          -0.5667879131525292,
          -0.5609226047439518,
          -0.5550765300102889,
          -0.5492493647155903,
          -0.543440790324586,
          -0.5376504938463977,
          -0.5318781676832843,
          -0.5261235094842235,
          -0.5203862220031361,
          -0.5146660129615759,
          -0.5089625949157053,
          -0.5032756851273973,
          -0.4976050054393014,
          -0.49195028215372294,
          -0.48631124591517094,
          -0.480687631596437,
          -0.47507917818807016,
          -0.469485628691124,
          -0.4639067300130515,
          -0.45834223286663384,
          -0.45279189167182926,
          -0.44725546446043773,
          -0.44173271278347614,
          -0.436223401621169,
          -0.43072729929545756,
          -0.42524417738493925,
          -0.4197738106421494,
          -0.4143159769131024,
          -0.4088704570590127,
          -0.40343703488011934,
          -0.39801549704153766,
          -0.39260563300107176,
          -0.3872072349389157,
          -0.3818200976891797,
          -0.3764440186731786,
          -0.3710787978344214,
          -0.3657242375752429,
          -0.36038014269502366,
          -0.35504632032994143,
          -0.3497225798942044,
          -0.3444087330227139,
          -0.33910459351511124,
          -0.33380997728115813,
          -0.32852470228741065,
          -0.3232485885051383,
          -0.3179814578594511,
          -0.3127231341795909,
          -0.30747344315035036,
          -0.30223221226458047,
          -0.29699927077675203,
          -0.2917744496575336,
          -0.28655758154935473,
          -0.28134850072292034,
          -0.2761470430346446,
          -0.27095304588497404,
          -0.2657663481775706,
          -0.26058679027932496,
          -0.25541421398117364,
          -0.2502484624596921,
          -0.24508938023943821,
          -0.23993681315602117,
          -0.23479060831987053,
          -0.2296506140806827,
          -0.2245166799925212,
          -0.2193886567795486,
          -0.21426639630236863,
          -0.20914975152495716,
          -0.20403857648216184,
          -0.19893272624775024,
          -0.19383205690298824,
          -0.1887364255057275,
          -0.1836456900599868,
          -0.17855970948600722,
          -0.17347834359076486,
          -0.1684014530389235,
          -0.16332889932421207,
          -0.15826054474120876,
          -0.15319625235751866,
          -0.1481358859863274,
          -0.14307931015931719,
          -0.13802639009993026,
          -0.13297699169696545,
          -0.12793098147849394,
          -0.12288822658608067,
          -0.11784859474929771,
          -0.11281195426051693,
          -0.10777817394996866,
          -0.10274712316105414,
          -0.09771867172589878,
          -0.09269268994113539,
          -0.08766904854390295,
          -0.08264761868805212,
          -0.07762827192054372,
          -0.07261088015802968,
          -0.06759531566360502,
          -0.06258145102371986,
          -0.057569159125240195,
          -0.05255831313264713,
          -0.04754878646536324,
          -0.04254045277519598,
          -0.03753318592388742,
          -0.03252685996075981,
          -0.0275213491004469,
          -0.02251652770070054,
          -0.017512270240262542,
          -0.012508451296791559,
          -0.007504945524834977,
          -0.0025016276338357883,
          0.0025016276338357883,
          0.007504945524834839,
          0.012508451296791559,
          0.017512270240262404,
          0.02251652770070054,
          0.027521349100446763,
          0.03252685996075981,
          0.03753318592388728,
          0.04254045277519598,
          0.0475487864653631,
          0.05255831313264713,
          0.05756915912524034,
          0.06258145102371986,
          0.06759531566360516,
          0.07261088015802968,
          0.07762827192054386,
          0.08264761868805212,
          0.08766904854390309,
          0.09269268994113539,
          0.09771867172589892,
          0.102747123161054,
          0.10777817394996866,
          0.1128119542605168,
          0.11784859474929771,
          0.12288822658608053,
          0.12793098147849394,
          0.1329769916969653,
          0.13802639009993026,
          0.14307931015931705,
          0.1481358859863274,
          0.15319625235751883,
          0.15826054474120876,
          0.1633288993242122,
          0.1684014530389235,
          0.173478343590765,
          0.17855970948600722,
          0.18364569005998696,
          0.1887364255057275,
          0.19383205690298838,
          0.19893272624775024,
          0.20403857648216184,
          0.20914975152495702,
          0.21426639630236863,
          0.21938865677954847,
          0.2245166799925212,
          0.22965061408068257,
          0.23479060831987053,
          0.23993681315602103,
          0.24508938023943821,
          0.25024846245969196,
          0.25541421398117364,
          0.26058679027932513,
          0.2657663481775706,
          0.2709530458849742,
          0.2761470430346446,
          0.28134850072292045,
          0.28655758154935473,
          0.29177444965753374,
          0.29699927077675203,
          0.30223221226458064,
          0.3074734431503502,
          0.3127231341795909,
          0.3179814578594509,
          0.3232485885051383,
          0.3285247022874105,
          0.33380997728115813,
          0.339104593515111,
          0.3444087330227139,
          0.34972257989420424,
          0.35504632032994143,
          0.36038014269502383,
          0.3657242375752429,
          0.3710787978344215,
          0.3764440186731786,
          0.3818200976891798,
          0.3872072349389157,
          0.3926056330010719,
          0.39801549704153766,
          0.4034370348801195,
          0.4088704570590127,
          0.4143159769131024,
          0.41977381064214925,
          0.42524417738493925,
          0.43072729929545744,
          0.436223401621169,
          0.44173271278347603,
          0.44725546446043773,
          0.45279189167182915,
          0.45834223286663384,
          0.4639067300130513,
          0.469485628691124,
          0.47507917818807033,
          0.480687631596437,
          0.48631124591517116,
          0.49195028215372294,
          0.49760500543930153,
          0.5032756851273973,
          0.5089625949157055,
          0.5146660129615759,
          0.5203862220031363,
          0.5261235094842234,
          0.5318781676832843,
          0.5376504938463975,
          0.543440790324586,
          0.5492493647155902,
          0.5550765300102889,
          0.5609226047439517,
          0.5667879131525292,
          0.572672785334182,
          0.578577557416278,
          0.5845025717280763,
          0.5904481769793475,
          0.5964147284451815,
          0.6024025881572435,
          0.608412125101766,
          0.6144437154245603,
          0.6204977426433654,
          0.6265745978678484,
          0.632674680027607,
          0.6387983961085225,
          0.6449461613978518,
          0.6511183997384437,
          0.6573155437925107,
          0.6635380353153844,
          0.6697863254397342,
          0.6760608749707242,
          0.682362154692641,
          0.688690645687526,
          0.695046839666401,
          0.7014312393136847,
          0.7078443586454575,
          0.7142867233822449,
          0.7207588713370479,
          0.7272613528193828,
          0.7337947310561326,
          0.7403595826300782,
          0.7469564979370035,
          0.7535860816623511,
          0.7602489532784371,
          0.7669457475633235,
          0.7736771151424852,
          0.7804437230545131,
          0.7872462553421392,
          0.7940854136699831,
          0.8009619179704839,
          0.8078765071195982,
          0.8148299396439302,
          0.8218229944610879,
          0.8288564716551624,
          0.8359311932893759,
          0.8430480042580611,
          0.8502077731803047,
          0.8574113933377404,
          0.8646597836591481,
          0.8719538897547218,
          0.8792946850030504,
          0.886683171694106,
          0.8941203822317478,
          0.9016073803995353,
          0.9091452626939119,
          0.916735159729141,
          0.9243782377187024,
          0.9320757000382391,
          0.9398287888755193,
          0.9476387869733464,
          0.9555070194717937,
          0.9634348558566883,
          0.9714237120218153,
          0.9794750524529587,
          0.98759039254256,
          0.9957713010445483,
          1.0040194026796954,
          1.0123363809027899,
          1.0207239808438962,
          1.0291840124370901,
          1.037718353751271,
          1.046328954539008,
          1.0550178400208639,
          1.063787114924306,
          1.0726389677981436,
          1.0815756756254842,
          1.0905996087604735,
          1.0997132362166246,
          1.108919131337386,
          1.118219977882747,
          1.1276185765692712,
          1.1371178521048986,
          1.1467208607643733,
          1.1564307985561837,
          1.1662510100376124,
          1.1761849978409358,
          1.1862364329810913,
          1.1964091660234422,
          1.2067072391996543,
          1.2171348995704503,
          1.227696613346246,
          1.2383970814907308,
          1.249241256748514,
          1.2602343622565282,
          1.2713819119201764,
          1.282689732759974,
          1.2941639894629922,
          1.3058112114067684,
          1.317638322462106,
          1.3296526739266514,
          1.341862080994352,
          1.3542748632287118,
          1.366899889581792,
          1.3797466285888613,
          1.3928252044731244,
          1.4061464600200018,
          1.419722027230327,
          1.4335644069425775,
          1.447687058832988,
          1.4621045034684073,
          1.4768324384120757,
          1.4918878707820542,
          1.5072892691559825,
          1.523056738329606,
          1.539212221204318,
          1.5557797330453886,
          1.5727856345778841,
          1.5902589519520238,
          1.6082317536240274,
          1.6267395968131166,
          1.6458220596200581,
          1.6655233794215798,
          1.6858932242067775,
          1.706987631698607,
          1.7288701622862503,
          1.751613327288068,
          1.7753003758395876,
          1.8000275547807243,
          1.8259070010390772,
          1.8530704927563826,
          1.881674386220809,
          1.9119062214969078,
          1.943993726834496,
          1.9782173557054168,
          2.014928172216158,
          2.054574097308507,
          2.097739724056036,
          2.1452091577240897,
          2.1980700871851475,
          2.2578967738622175,
          2.327097438157635,
          2.4096446702910836,
          2.5128493063546724,
          2.652744336177871,
          2.878791946663763
         ],
         "y": [
          -2.514899743846344,
          -2.3161893788559773,
          -2.1932126644516488,
          -2.102489162191166,
          -2.02992484447543,
          -1.969093016922994,
          -1.916501517635696,
          -1.8700333662389261,
          -1.8283046858525738,
          -1.790359328113105,
          -1.7555080141419155,
          -1.7232368490883971,
          -1.6931520816820211,
          -1.664945104030026,
          -1.6383693795216854,
          -1.6132247204021128,
          -1.5893462669119123,
          -1.5665965718335528,
          -1.5448597937184763,
          -1.5240373570065837,
          -1.5040446545452189,
          -1.4848085049985085,
          -1.4662651662613861,
          -1.4483587646703098,
          -1.431040039468406,
          -1.4142653293038903,
          -1.3979957466819677,
          -1.3821964999106067,
          -1.366836331910846,
          -1.351887052450433,
          -1.337323145679444,
          -1.3231214388278256,
          -1.3092608209352925,
          -1.295722002782486,
          -1.2824873109629362,
          -1.2695405104109652,
          -1.2568666507777029,
          -1.2444519328970627,
          -1.2322835922583624,
          -1.220349796941897,
          -1.2086395579079172,
          -1.197142649880755,
          -1.1858495413557704,
          -1.1747513324906513,
          -1.1638396998348863,
          -1.1531068470101047,
          -1.1425454605857555,
          -1.1321486705045158,
          -1.1219100145036998,
          -1.1118234060562635,
          -1.101883105420075,
          -1.0920836934393408,
          -1.0824200477888541,
          -1.0728873213916952,
          -1.0634809227751039,
          -1.0541964981585337,
          -1.0450299150930353,
          -1.0359772474928597,
          -1.0270347619189146,
          -1.0181989049899962,
          -1.0094662918118917,
          -1.000833695326741,
          -0.9922980364958559,
          -0.9838563752386188,
          -0.9755059020583402,
          -0.9672439302932658,
          -0.9590678889373077,
          -0.9509753159807639,
          -0.9429638522262688,
          -0.935031235539687,
          -0.9271752954995959,
          -0.9193939484124919,
          -0.9116851926640096,
          -0.904047104379211,
          -0.8964778333674996,
          -0.8889755993299536,
          -0.8815386883088641,
          -0.8741654493610699,
          -0.8668542914382962,
          -0.8596036804591549,
          -0.852412136558786,
          -0.8452782315033011,
          -0.8382005862572615,
          -0.8311778686934012,
          -0.8242087914346766,
          -0.8172921098195305,
          -0.8104266199819811,
          -0.8036111570388115,
          -0.7968445933767279,
          -0.7901258370329163,
          -0.7834538301629134,
          -0.7768275475901832,
          -0.7702459954321875,
          -0.7637082097981421,
          -0.7572132555539888,
          -0.7507602251504404,
          -0.7443482375102514,
          -0.7379764369711368,
          -0.731643992281016,
          -0.7253500956424824,
          -0.71909396180362,
          -0.7128748271924735,
          -0.706691949092671,
          -0.7005446048578524,
          -0.6944320911627249,
          -0.6883537232886939,
          -0.6823088344421667,
          -0.6762967751037314,
          -0.6703169124065442,
          -0.664368629542348,
          -0.6584513251936565,
          -0.6525644129907152,
          -0.6467073209919524,
          -0.6408794911866903,
          -0.6350803790189843,
          -0.6293094529315011,
          -0.623566193928435,
          -0.6178500951564977,
          -0.6121606615030911,
          -0.6064974092108141,
          -0.6008598655075029,
          -0.5952475682510572,
          -0.5896600655883358,
          -0.5840969156274548,
          -0.578557686122852,
          -0.5730419541725204,
          -0.5675493059268418,
          -0.5620793363084863,
          -0.5566316487428692,
          -0.5512058548986866,
          -0.5458015744380713,
          -0.5404184347759423,
          -0.5350560708481341,
          -0.5297141248879225,
          -0.5243922462105746,
          -0.5190900910055781,
          -0.5138073221362136,
          -0.5085436089461589,
          -0.503298627072822,
          -0.4980720582671216,
          -0.4928635902194401,
          -0.4876729163914972,
          -0.48249973585389155,
          -0.4773437531290834,
          -0.47220467803959204,
          -0.4670822255611971,
          -0.4619761156809418,
          -0.4568860732597458,
          -0.4518118278994426,
          -0.44675311381406846,
          -0.4417096697052326,
          -0.43668123864141245,
          -0.43166756794101685,
          -0.42666840905907655,
          -0.42168351747741895,
          -0.4167126525981951,
          -0.4117555776406323,
          -0.40681205954088945,
          -0.40188186885489874,
          -0.3969647796640834,
          -0.3920605694838426,
          -0.3871690191747033,
          -0.3822899128560392,
          -0.37742303782226466,
          -0.372568184461412,
          -0.3677251461760069,
          -0.3628937193061588,
          -0.3580737030547872,
          -0.35326489941490646,
          -0.348467113098898,
          -0.3436801514696976,
          -0.33890382447383227,
          -0.3341379445762394,
          -0.32938232669680917,
          -0.3246367881485871,
          -0.31990114857758173,
          -0.3151752299041204,
          -0.31045885626570113,
          -0.3057518539612878,
          -0.3010540513970012,
          -0.2963652790331572,
          -0.2916853693326064,
          -0.28701415671033165,
          -0.28235147748426087,
          -0.2776971698272535,
          -0.2730510737202233,
          -0.2684130309063558,
          -0.2637828848463879,
          -0.2591604806749106,
          -0.25454566515766314,
          -0.24993828664978424,
          -0.24533819505498955,
          -0.2407452417856426,
          -0.2361592797236925,
          -0.23158016318244656,
          -0.22700774786915268,
          -0.2224418908483622,
          -0.21788245050604935,
          -0.2133292865144604,
          -0.20878225979766935,
          -0.20424123249781578,
          -0.1997060679420024,
          -0.19517663060983023,
          -0.19065278610154923,
          -0.18613440110680451,
          -0.18162134337395716,
          -0.17711348167996055,
          -0.17261068580077274,
          -0.1681128264822868,
          -0.16361977541176084,
          -0.15913140518973026,
          -0.15464758930238626,
          -0.15016820209440154,
          -0.14569311874219054,
          -0.14122221522758588,
          -0.13675536831191723,
          -0.13229245551047683,
          -0.12783335506735838,
          -0.12337794593065347,
          -0.11892610772799413,
          -0.11447772074242536,
          -0.11003266588859696,
          -0.10559082468926011,
          -0.1011520792520572,
          -0.09671631224659205,
          -0.09228340688176892,
          -0.08785324688338805,
          -0.0834257164719869,
          -0.079000700340915,
          -0.07457808363463207,
          -0.0701577519272178,
          -0.06573959120108369,
          -0.061323487825874434,
          -0.056909328537551054,
          -0.05249700041764367,
          -0.048086390872664586,
          -0.04367738761367189,
          -0.039269878635973504,
          -0.03486375219896223,
          -0.030458896806072378,
          -0.02605520118484816,
          -0.021652554267115046,
          -0.017250845169244484,
          -0.012849963172502976,
          -0.008449797703476428,
          -0.00405023831456075,
          0.00034882533549019865,
          0.004747503500968307,
          0.009145906368575325,
          0.013544144076756246,
          0.017942326735010915,
          0.022340564443191716,
          0.026738967310798854,
          0.031137645476276843,
          0.03553670912632791,
          0.03993626851524347,
          0.04433643398427014,
          0.048737315981011525,
          0.05313902507888221,
          0.057541671996615196,
          0.061945367617839545,
          0.06635022301072953,
          0.07075634944774066,
          0.07516385842543917,
          0.07957286168443176,
          0.08398347122941095,
          0.08839579934931822,
          0.09280995863764173,
          0.09722606201285086,
          0.1016442227389851,
          0.10606455444639913,
          0.11048717115268217,
          0.11491218728375395,
          0.11933971769515522,
          0.12376987769353597,
          0.12820278305835922,
          0.13263855006382425,
          0.13707729550102726,
          0.141519136700364,
          0.14596419155419252,
          0.15041257853976142,
          0.15486441674242063,
          0.15931982587912563,
          0.16377892632224397,
          0.1682418391236845,
          0.17270868603935302,
          0.17717958955395782,
          0.18165467290616868,
          0.18613406011415354,
          0.1906178760014974,
          0.19510624622352798,
          0.19959929729405382,
          0.20409715661253988,
          0.20859995249172755,
          0.2131078141857243,
          0.21762087191857152,
          0.22213925691331637,
          0.22666310142159726,
          0.23119253875376955,
          0.2357277033095828,
          0.2402687306094365,
          0.24481575732622768,
          0.2493689213178165,
          0.2539283616601295,
          0.2584942186809198,
          0.2630666339942138,
          0.26764575053545964,
          0.2722317125974099,
          0.2768246658667567,
          0.28142475746155154,
          0.28603213596943017,
          0.29064695148667774,
          0.29526935565815493,
          0.29989950171812296,
          0.3045375445319903,
          0.30918364063902065,
          0.3138379482960278,
          0.3185006275220988,
          0.32317184014437345,
          0.3278517498449243,
          0.3325405222087685,
          0.33723832477305493,
          0.3419453270774684,
          0.34666170071588753,
          0.351387619389349,
          0.35612325896035424,
          0.36086879750857637,
          0.36562441538800655,
          0.3703902952855995,
          0.37516662228146475,
          0.37995358391066514,
          0.3847513702266735,
          0.38956017386655434,
          0.39438019011792586,
          0.399211616987774,
          0.404054655273179,
          0.4089095086340318,
          0.4137763836678062,
          0.41865548998647045,
          0.4235470402956096,
          0.42845125047585053,
          0.43336833966666605,
          0.4382985303526566,
          0.4432420484523996,
          0.44819912340996226,
          0.45316998828918614,
          0.4581548798708437,
          0.4631540387527842,
          0.4681677094531796,
          0.473196140517,
          0.4782395846258355,
          0.4832982987112097,
          0.48837254407151276,
          0.49346258649270897,
          0.49856869637296414,
          0.5036911488513592,
          0.5088302239408504,
          0.5139862066656588,
          0.5191593872032643,
          0.5243500610312073,
          0.5295585290788889,
          0.5347850978845893,
          0.5400300797579263,
          0.5452937929479809,
          0.5505765618173455,
          0.5558787170223418,
          0.5612005956996898,
          0.5665425416599014,
          0.5719049055877097,
          0.5772880452498386,
          0.5826923257104538,
          0.5881181195546362,
          0.5935658071202535,
          0.5990357767386089,
          0.6045284249842876,
          0.6100441569346191,
          0.6155833864392221,
          0.6211465364001029,
          0.6267340390628244,
          0.6323463363192701,
          0.6379838800225813,
          0.6436471323148586,
          0.649336565968265,
          0.6550526647402025,
          0.6607959237432683,
          0.6665668498307515,
          0.6723659619984576,
          0.6781937918037196,
          0.6840508838024825,
          0.6899377960054237,
          0.6958551003541152,
          0.7018033832183115,
          0.7077832459154987,
          0.713795305253934,
          0.7198401941004612,
          0.7259185619744921,
          0.7320310756696196,
          0.7381784199044382,
          0.7443612980042408,
          0.7505804326153872,
          0.7568365664542498,
          0.7631304630927832,
          0.7694629077829043,
          0.7758347083220186,
          0.7822466959622079,
          0.788699726365756,
          0.7951946806099094,
          0.8017324662439548,
          0.8083140184019505,
          0.8149403009746806,
          0.8216123078446835,
          0.8283310641884951,
          0.8350976278505787,
          0.8419130907937483,
          0.8487785806312977,
          0.8556952622464439,
          0.8626643395051684,
          0.8696870570690285,
          0.8767647023150683,
          0.883898607370553,
          0.8910901512709222,
          0.8983407622500634,
          0.9056519201728371,
          0.9130251591206311,
          0.9204620701417209,
          0.9279643041792669,
          0.9355335751909782,
          0.9431716634757769,
          0.9508804192242591,
          0.9586617663113631,
          0.9665177063514543,
          0.974450323038036,
          0.9824617867925312,
          0.9905543597490749,
          0.9987304011050323,
          1.0069923728701073,
          1.015342846050386,
          1.023784507307623,
          1.032320166138508,
          1.0409527626236588,
          1.0496853758017632,
          1.0585212327306817,
          1.0674637183046276,
          1.0765163859048024,
          1.0856829689703007,
          1.094967393586871,
          1.1043737922034622,
          1.1139065186006212,
          1.1235701642511082,
          1.133369576231842,
          1.1433098768680305,
          1.1533964853154668,
          1.1636351413162829,
          1.1740319313975225,
          1.1845933178218717,
          1.1953261706466534,
          1.2062378033024184,
          1.2173360121675374,
          1.228629120692522,
          1.2401260287196838,
          1.251836267753664,
          1.26377006307013,
          1.2759384037088297,
          1.2883531215894704,
          1.3010269812227322,
          1.313973781774704,
          1.3272084735942522,
          1.34074729174706,
          1.3546079096395927,
          1.3688096164912111,
          1.3833735232621995,
          1.3983228027226131,
          1.4136829707223735,
          1.4294822174937347,
          1.4457518001156566,
          1.462526510280173,
          1.4798452354820768,
          1.4977516370731532,
          1.5162949758102748,
          1.5355311253569859,
          1.5555238278183516,
          1.5763462645302433,
          1.5980830426453203,
          1.6208327377236793,
          1.6447111912138799,
          1.6698558503334517,
          1.6964315748417935,
          1.7246385524937877,
          1.7547233199001644,
          1.786994484953682,
          1.8218457989248724,
          1.8597911566643401,
          1.9015198370506932,
          1.947987988447463,
          2.000579487734762,
          2.061411315287197,
          2.133975633002934,
          2.224699135263414,
          2.3476758496677452,
          2.546386214658104
         ]
        }
       ],
       "layout": {
        "height": 700,
        "showlegend": false,
        "template": {
         "data": {
          "bar": [
           {
            "error_x": {
             "color": "#2a3f5f"
            },
            "error_y": {
             "color": "#2a3f5f"
            },
            "marker": {
             "line": {
              "color": "#E5ECF6",
              "width": 0.5
             },
             "pattern": {
              "fillmode": "overlay",
              "size": 10,
              "solidity": 0.2
             }
            },
            "type": "bar"
           }
          ],
          "barpolar": [
           {
            "marker": {
             "line": {
              "color": "#E5ECF6",
              "width": 0.5
             },
             "pattern": {
              "fillmode": "overlay",
              "size": 10,
              "solidity": 0.2
             }
            },
            "type": "barpolar"
           }
          ],
          "carpet": [
           {
            "aaxis": {
             "endlinecolor": "#2a3f5f",
             "gridcolor": "white",
             "linecolor": "white",
             "minorgridcolor": "white",
             "startlinecolor": "#2a3f5f"
            },
            "baxis": {
             "endlinecolor": "#2a3f5f",
             "gridcolor": "white",
             "linecolor": "white",
             "minorgridcolor": "white",
             "startlinecolor": "#2a3f5f"
            },
            "type": "carpet"
           }
          ],
          "choropleth": [
           {
            "colorbar": {
             "outlinewidth": 0,
             "ticks": ""
            },
            "type": "choropleth"
           }
          ],
          "contour": [
           {
            "colorbar": {
             "outlinewidth": 0,
             "ticks": ""
            },
            "colorscale": [
             [
              0,
              "#0d0887"
             ],
             [
              0.1111111111111111,
              "#46039f"
             ],
             [
              0.2222222222222222,
              "#7201a8"
             ],
             [
              0.3333333333333333,
              "#9c179e"
             ],
             [
              0.4444444444444444,
              "#bd3786"
             ],
             [
              0.5555555555555556,
              "#d8576b"
             ],
             [
              0.6666666666666666,
              "#ed7953"
             ],
             [
              0.7777777777777778,
              "#fb9f3a"
             ],
             [
              0.8888888888888888,
              "#fdca26"
             ],
             [
              1,
              "#f0f921"
             ]
            ],
            "type": "contour"
           }
          ],
          "contourcarpet": [
           {
            "colorbar": {
             "outlinewidth": 0,
             "ticks": ""
            },
            "type": "contourcarpet"
           }
          ],
          "heatmap": [
           {
            "colorbar": {
             "outlinewidth": 0,
             "ticks": ""
            },
            "colorscale": [
             [
              0,
              "#0d0887"
             ],
             [
              0.1111111111111111,
              "#46039f"
             ],
             [
              0.2222222222222222,
              "#7201a8"
             ],
             [
              0.3333333333333333,
              "#9c179e"
             ],
             [
              0.4444444444444444,
              "#bd3786"
             ],
             [
              0.5555555555555556,
              "#d8576b"
             ],
             [
              0.6666666666666666,
              "#ed7953"
             ],
             [
              0.7777777777777778,
              "#fb9f3a"
             ],
             [
              0.8888888888888888,
              "#fdca26"
             ],
             [
              1,
              "#f0f921"
             ]
            ],
            "type": "heatmap"
           }
          ],
          "heatmapgl": [
           {
            "colorbar": {
             "outlinewidth": 0,
             "ticks": ""
            },
            "colorscale": [
             [
              0,
              "#0d0887"
             ],
             [
              0.1111111111111111,
              "#46039f"
             ],
             [
              0.2222222222222222,
              "#7201a8"
             ],
             [
              0.3333333333333333,
              "#9c179e"
             ],
             [
              0.4444444444444444,
              "#bd3786"
             ],
             [
              0.5555555555555556,
              "#d8576b"
             ],
             [
              0.6666666666666666,
              "#ed7953"
             ],
             [
              0.7777777777777778,
              "#fb9f3a"
             ],
             [
              0.8888888888888888,
              "#fdca26"
             ],
             [
              1,
              "#f0f921"
             ]
            ],
            "type": "heatmapgl"
           }
          ],
          "histogram": [
           {
            "marker": {
             "pattern": {
              "fillmode": "overlay",
              "size": 10,
              "solidity": 0.2
             }
            },
            "type": "histogram"
           }
          ],
          "histogram2d": [
           {
            "colorbar": {
             "outlinewidth": 0,
             "ticks": ""
            },
            "colorscale": [
             [
              0,
              "#0d0887"
             ],
             [
              0.1111111111111111,
              "#46039f"
             ],
             [
              0.2222222222222222,
              "#7201a8"
             ],
             [
              0.3333333333333333,
              "#9c179e"
             ],
             [
              0.4444444444444444,
              "#bd3786"
             ],
             [
              0.5555555555555556,
              "#d8576b"
             ],
             [
              0.6666666666666666,
              "#ed7953"
             ],
             [
              0.7777777777777778,
              "#fb9f3a"
             ],
             [
              0.8888888888888888,
              "#fdca26"
             ],
             [
              1,
              "#f0f921"
             ]
            ],
            "type": "histogram2d"
           }
          ],
          "histogram2dcontour": [
           {
            "colorbar": {
             "outlinewidth": 0,
             "ticks": ""
            },
            "colorscale": [
             [
              0,
              "#0d0887"
             ],
             [
              0.1111111111111111,
              "#46039f"
             ],
             [
              0.2222222222222222,
              "#7201a8"
             ],
             [
              0.3333333333333333,
              "#9c179e"
             ],
             [
              0.4444444444444444,
              "#bd3786"
             ],
             [
              0.5555555555555556,
              "#d8576b"
             ],
             [
              0.6666666666666666,
              "#ed7953"
             ],
             [
              0.7777777777777778,
              "#fb9f3a"
             ],
             [
              0.8888888888888888,
              "#fdca26"
             ],
             [
              1,
              "#f0f921"
             ]
            ],
            "type": "histogram2dcontour"
           }
          ],
          "mesh3d": [
           {
            "colorbar": {
             "outlinewidth": 0,
             "ticks": ""
            },
            "type": "mesh3d"
           }
          ],
          "parcoords": [
           {
            "line": {
             "colorbar": {
              "outlinewidth": 0,
              "ticks": ""
             }
            },
            "type": "parcoords"
           }
          ],
          "pie": [
           {
            "automargin": true,
            "type": "pie"
           }
          ],
          "scatter": [
           {
            "marker": {
             "colorbar": {
              "outlinewidth": 0,
              "ticks": ""
             }
            },
            "type": "scatter"
           }
          ],
          "scatter3d": [
           {
            "line": {
             "colorbar": {
              "outlinewidth": 0,
              "ticks": ""
             }
            },
            "marker": {
             "colorbar": {
              "outlinewidth": 0,
              "ticks": ""
             }
            },
            "type": "scatter3d"
           }
          ],
          "scattercarpet": [
           {
            "marker": {
             "colorbar": {
              "outlinewidth": 0,
              "ticks": ""
             }
            },
            "type": "scattercarpet"
           }
          ],
          "scattergeo": [
           {
            "marker": {
             "colorbar": {
              "outlinewidth": 0,
              "ticks": ""
             }
            },
            "type": "scattergeo"
           }
          ],
          "scattergl": [
           {
            "marker": {
             "colorbar": {
              "outlinewidth": 0,
              "ticks": ""
             }
            },
            "type": "scattergl"
           }
          ],
          "scattermapbox": [
           {
            "marker": {
             "colorbar": {
              "outlinewidth": 0,
              "ticks": ""
             }
            },
            "type": "scattermapbox"
           }
          ],
          "scatterpolar": [
           {
            "marker": {
             "colorbar": {
              "outlinewidth": 0,
              "ticks": ""
             }
            },
            "type": "scatterpolar"
           }
          ],
          "scatterpolargl": [
           {
            "marker": {
             "colorbar": {
              "outlinewidth": 0,
              "ticks": ""
             }
            },
            "type": "scatterpolargl"
           }
          ],
          "scatterternary": [
           {
            "marker": {
             "colorbar": {
              "outlinewidth": 0,
              "ticks": ""
             }
            },
            "type": "scatterternary"
           }
          ],
          "surface": [
           {
            "colorbar": {
             "outlinewidth": 0,
             "ticks": ""
            },
            "colorscale": [
             [
              0,
              "#0d0887"
             ],
             [
              0.1111111111111111,
              "#46039f"
             ],
             [
              0.2222222222222222,
              "#7201a8"
             ],
             [
              0.3333333333333333,
              "#9c179e"
             ],
             [
              0.4444444444444444,
              "#bd3786"
             ],
             [
              0.5555555555555556,
              "#d8576b"
             ],
             [
              0.6666666666666666,
              "#ed7953"
             ],
             [
              0.7777777777777778,
              "#fb9f3a"
             ],
             [
              0.8888888888888888,
              "#fdca26"
             ],
             [
              1,
              "#f0f921"
             ]
            ],
            "type": "surface"
           }
          ],
          "table": [
           {
            "cells": {
             "fill": {
              "color": "#EBF0F8"
             },
             "line": {
              "color": "white"
             }
            },
            "header": {
             "fill": {
              "color": "#C8D4E3"
             },
             "line": {
              "color": "white"
             }
            },
            "type": "table"
           }
          ]
         },
         "layout": {
          "annotationdefaults": {
           "arrowcolor": "#2a3f5f",
           "arrowhead": 0,
           "arrowwidth": 1
          },
          "autotypenumbers": "strict",
          "coloraxis": {
           "colorbar": {
            "outlinewidth": 0,
            "ticks": ""
           }
          },
          "colorscale": {
           "diverging": [
            [
             0,
             "#8e0152"
            ],
            [
             0.1,
             "#c51b7d"
            ],
            [
             0.2,
             "#de77ae"
            ],
            [
             0.3,
             "#f1b6da"
            ],
            [
             0.4,
             "#fde0ef"
            ],
            [
             0.5,
             "#f7f7f7"
            ],
            [
             0.6,
             "#e6f5d0"
            ],
            [
             0.7,
             "#b8e186"
            ],
            [
             0.8,
             "#7fbc41"
            ],
            [
             0.9,
             "#4d9221"
            ],
            [
             1,
             "#276419"
            ]
           ],
           "sequential": [
            [
             0,
             "#0d0887"
            ],
            [
             0.1111111111111111,
             "#46039f"
            ],
            [
             0.2222222222222222,
             "#7201a8"
            ],
            [
             0.3333333333333333,
             "#9c179e"
            ],
            [
             0.4444444444444444,
             "#bd3786"
            ],
            [
             0.5555555555555556,
             "#d8576b"
            ],
            [
             0.6666666666666666,
             "#ed7953"
            ],
            [
             0.7777777777777778,
             "#fb9f3a"
            ],
            [
             0.8888888888888888,
             "#fdca26"
            ],
            [
             1,
             "#f0f921"
            ]
           ],
           "sequentialminus": [
            [
             0,
             "#0d0887"
            ],
            [
             0.1111111111111111,
             "#46039f"
            ],
            [
             0.2222222222222222,
             "#7201a8"
            ],
            [
             0.3333333333333333,
             "#9c179e"
            ],
            [
             0.4444444444444444,
             "#bd3786"
            ],
            [
             0.5555555555555556,
             "#d8576b"
            ],
            [
             0.6666666666666666,
             "#ed7953"
            ],
            [
             0.7777777777777778,
             "#fb9f3a"
            ],
            [
             0.8888888888888888,
             "#fdca26"
            ],
            [
             1,
             "#f0f921"
            ]
           ]
          },
          "colorway": [
           "#636efa",
           "#EF553B",
           "#00cc96",
           "#ab63fa",
           "#FFA15A",
           "#19d3f3",
           "#FF6692",
           "#B6E880",
           "#FF97FF",
           "#FECB52"
          ],
          "font": {
           "color": "#2a3f5f"
          },
          "geo": {
           "bgcolor": "white",
           "lakecolor": "white",
           "landcolor": "#E5ECF6",
           "showlakes": true,
           "showland": true,
           "subunitcolor": "white"
          },
          "hoverlabel": {
           "align": "left"
          },
          "hovermode": "closest",
          "mapbox": {
           "style": "light"
          },
          "paper_bgcolor": "white",
          "plot_bgcolor": "#E5ECF6",
          "polar": {
           "angularaxis": {
            "gridcolor": "white",
            "linecolor": "white",
            "ticks": ""
           },
           "bgcolor": "#E5ECF6",
           "radialaxis": {
            "gridcolor": "white",
            "linecolor": "white",
            "ticks": ""
           }
          },
          "scene": {
           "xaxis": {
            "backgroundcolor": "#E5ECF6",
            "gridcolor": "white",
            "gridwidth": 2,
            "linecolor": "white",
            "showbackground": true,
            "ticks": "",
            "zerolinecolor": "white"
           },
           "yaxis": {
            "backgroundcolor": "#E5ECF6",
            "gridcolor": "white",
            "gridwidth": 2,
            "linecolor": "white",
            "showbackground": true,
            "ticks": "",
            "zerolinecolor": "white"
           },
           "zaxis": {
            "backgroundcolor": "#E5ECF6",
            "gridcolor": "white",
            "gridwidth": 2,
            "linecolor": "white",
            "showbackground": true,
            "ticks": "",
            "zerolinecolor": "white"
           }
          },
          "shapedefaults": {
           "line": {
            "color": "#2a3f5f"
           }
          },
          "ternary": {
           "aaxis": {
            "gridcolor": "white",
            "linecolor": "white",
            "ticks": ""
           },
           "baxis": {
            "gridcolor": "white",
            "linecolor": "white",
            "ticks": ""
           },
           "bgcolor": "#E5ECF6",
           "caxis": {
            "gridcolor": "white",
            "linecolor": "white",
            "ticks": ""
           }
          },
          "title": {
           "x": 0.05
          },
          "xaxis": {
           "automargin": true,
           "gridcolor": "white",
           "linecolor": "white",
           "ticks": "",
           "title": {
            "standoff": 15
           },
           "zerolinecolor": "white",
           "zerolinewidth": 2
          },
          "yaxis": {
           "automargin": true,
           "gridcolor": "white",
           "linecolor": "white",
           "ticks": "",
           "title": {
            "standoff": 15
           },
           "zerolinecolor": "white",
           "zerolinewidth": 2
          }
         }
        },
        "title": {
         "text": "Quantile-Quantile Plot"
        },
        "width": 800,
        "xaxis": {
         "title": {
          "text": "Theoritical Quantities"
         },
         "zeroline": false
        },
        "yaxis": {
         "title": {
          "text": "Sample Quantities"
         }
        }
       }
      },
      "text/html": [
       "<div>                            <div id=\"26331e20-d30a-47f4-9283-2092bd18ef4f\" class=\"plotly-graph-div\" style=\"height:700px; width:800px;\"></div>            <script type=\"text/javascript\">                require([\"plotly\"], function(Plotly) {                    window.PLOTLYENV=window.PLOTLYENV || {};                                    if (document.getElementById(\"26331e20-d30a-47f4-9283-2092bd18ef4f\")) {                    Plotly.newPlot(                        \"26331e20-d30a-47f4-9283-2092bd18ef4f\",                        [{\"marker\":{\"color\":\"#19d3f3\"},\"mode\":\"markers\",\"x\":[-2.878791946663771,-2.6527443361778706,-2.5128493063546746,-2.4096446702910828,-2.3270974381576357,-2.2578967738622167,-2.198070087185148,-2.1452091577240897,-2.0977397240560367,-2.0545740973085067,-2.0149281722161585,-1.9782173557054166,-1.9439937268344964,-1.9119062214969071,-1.8816743862208096,-1.8530704927563826,-1.8259070010390772,-1.8000275547807236,-1.7753003758395876,-1.751613327288067,-1.7288701622862503,-1.706987631698608,-1.6858932242067775,-1.6655233794215798,-1.6458220596200581,-1.6267395968131173,-1.6082317536240274,-1.5902589519520243,-1.5727856345778841,-1.555779733045389,-1.539212221204318,-1.523056738329606,-1.5072892691559818,-1.491887870782055,-1.476832438412075,-1.4621045034684073,-1.4476870588329875,-1.4335644069425775,-1.4197220272303261,-1.4061464600200018,-1.3928252044731249,-1.3797466285888613,-1.366899889581792,-1.3542748632287118,-1.341862080994352,-1.3296526739266514,-1.317638322462106,-1.3058112114067684,-1.2941639894629922,-1.282689732759974,-1.2713819119201764,-1.2602343622565275,-1.249241256748514,-1.2383970814907308,-1.227696613346246,-1.2171348995704503,-1.2067072391996543,-1.1964091660234413,-1.1862364329810913,-1.1761849978409358,-1.1662510100376124,-1.1564307985561837,-1.1467208607643733,-1.1371178521048986,-1.1276185765692712,-1.118219977882748,-1.108919131337386,-1.0997132362166246,-1.0905996087604735,-1.0815756756254842,-1.0726389677981436,-1.063787114924306,-1.0550178400208639,-1.046328954539008,-1.037718353751271,-1.0291840124370901,-1.0207239808438964,-1.0123363809027899,-1.0040194026796954,-0.9957713010445483,-0.9875903925425602,-0.9794750524529587,-0.9714237120218157,-0.9634348558566883,-0.9555070194717937,-0.9476387869733464,-0.9398287888755193,-0.9320757000382391,-0.9243782377187024,-0.916735159729141,-0.9091452626939119,-0.9016073803995353,-0.8941203822317478,-0.886683171694106,-0.8792946850030504,-0.8719538897547215,-0.8646597836591481,-0.8574113933377402,-0.8502077731803047,-0.843048004258061,-0.8359311932893759,-0.8288564716551625,-0.8218229944610879,-0.8148299396439304,-0.8078765071195982,-0.8009619179704839,-0.7940854136699831,-0.7872462553421392,-0.7804437230545131,-0.7736771151424852,-0.7669457475633235,-0.7602489532784371,-0.7535860816623511,-0.7469564979370035,-0.7403595826300782,-0.7337947310561326,-0.7272613528193825,-0.7207588713370479,-0.7142867233822445,-0.7078443586454575,-0.7014312393136848,-0.695046839666401,-0.6886906456875264,-0.682362154692641,-0.6760608749707244,-0.6697863254397342,-0.6635380353153846,-0.6573155437925107,-0.6511183997384439,-0.6449461613978518,-0.6387983961085225,-0.6326746800276069,-0.6265745978678484,-0.6204977426433653,-0.6144437154245603,-0.6084121251017659,-0.6024025881572435,-0.5964147284451813,-0.5904481769793475,-0.5845025717280762,-0.578577557416278,-0.5726727853341822,-0.5667879131525292,-0.5609226047439518,-0.5550765300102889,-0.5492493647155903,-0.543440790324586,-0.5376504938463977,-0.5318781676832843,-0.5261235094842235,-0.5203862220031361,-0.5146660129615759,-0.5089625949157053,-0.5032756851273973,-0.4976050054393014,-0.49195028215372294,-0.48631124591517094,-0.480687631596437,-0.47507917818807016,-0.469485628691124,-0.4639067300130515,-0.45834223286663384,-0.45279189167182926,-0.44725546446043773,-0.44173271278347614,-0.436223401621169,-0.43072729929545756,-0.42524417738493925,-0.4197738106421494,-0.4143159769131024,-0.4088704570590127,-0.40343703488011934,-0.39801549704153766,-0.39260563300107176,-0.3872072349389157,-0.3818200976891797,-0.3764440186731786,-0.3710787978344214,-0.3657242375752429,-0.36038014269502366,-0.35504632032994143,-0.3497225798942044,-0.3444087330227139,-0.33910459351511124,-0.33380997728115813,-0.32852470228741065,-0.3232485885051383,-0.3179814578594511,-0.3127231341795909,-0.30747344315035036,-0.30223221226458047,-0.29699927077675203,-0.2917744496575336,-0.28655758154935473,-0.28134850072292034,-0.2761470430346446,-0.27095304588497404,-0.2657663481775706,-0.26058679027932496,-0.25541421398117364,-0.2502484624596921,-0.24508938023943821,-0.23993681315602117,-0.23479060831987053,-0.2296506140806827,-0.2245166799925212,-0.2193886567795486,-0.21426639630236863,-0.20914975152495716,-0.20403857648216184,-0.19893272624775024,-0.19383205690298824,-0.1887364255057275,-0.1836456900599868,-0.17855970948600722,-0.17347834359076486,-0.1684014530389235,-0.16332889932421207,-0.15826054474120876,-0.15319625235751866,-0.1481358859863274,-0.14307931015931719,-0.13802639009993026,-0.13297699169696545,-0.12793098147849394,-0.12288822658608067,-0.11784859474929771,-0.11281195426051693,-0.10777817394996866,-0.10274712316105414,-0.09771867172589878,-0.09269268994113539,-0.08766904854390295,-0.08264761868805212,-0.07762827192054372,-0.07261088015802968,-0.06759531566360502,-0.06258145102371986,-0.057569159125240195,-0.05255831313264713,-0.04754878646536324,-0.04254045277519598,-0.03753318592388742,-0.03252685996075981,-0.0275213491004469,-0.02251652770070054,-0.017512270240262542,-0.012508451296791559,-0.007504945524834977,-0.0025016276338357883,0.0025016276338357883,0.007504945524834839,0.012508451296791559,0.017512270240262404,0.02251652770070054,0.027521349100446763,0.03252685996075981,0.03753318592388728,0.04254045277519598,0.0475487864653631,0.05255831313264713,0.05756915912524034,0.06258145102371986,0.06759531566360516,0.07261088015802968,0.07762827192054386,0.08264761868805212,0.08766904854390309,0.09269268994113539,0.09771867172589892,0.102747123161054,0.10777817394996866,0.1128119542605168,0.11784859474929771,0.12288822658608053,0.12793098147849394,0.1329769916969653,0.13802639009993026,0.14307931015931705,0.1481358859863274,0.15319625235751883,0.15826054474120876,0.1633288993242122,0.1684014530389235,0.173478343590765,0.17855970948600722,0.18364569005998696,0.1887364255057275,0.19383205690298838,0.19893272624775024,0.20403857648216184,0.20914975152495702,0.21426639630236863,0.21938865677954847,0.2245166799925212,0.22965061408068257,0.23479060831987053,0.23993681315602103,0.24508938023943821,0.25024846245969196,0.25541421398117364,0.26058679027932513,0.2657663481775706,0.2709530458849742,0.2761470430346446,0.28134850072292045,0.28655758154935473,0.29177444965753374,0.29699927077675203,0.30223221226458064,0.3074734431503502,0.3127231341795909,0.3179814578594509,0.3232485885051383,0.3285247022874105,0.33380997728115813,0.339104593515111,0.3444087330227139,0.34972257989420424,0.35504632032994143,0.36038014269502383,0.3657242375752429,0.3710787978344215,0.3764440186731786,0.3818200976891798,0.3872072349389157,0.3926056330010719,0.39801549704153766,0.4034370348801195,0.4088704570590127,0.4143159769131024,0.41977381064214925,0.42524417738493925,0.43072729929545744,0.436223401621169,0.44173271278347603,0.44725546446043773,0.45279189167182915,0.45834223286663384,0.4639067300130513,0.469485628691124,0.47507917818807033,0.480687631596437,0.48631124591517116,0.49195028215372294,0.49760500543930153,0.5032756851273973,0.5089625949157055,0.5146660129615759,0.5203862220031363,0.5261235094842234,0.5318781676832843,0.5376504938463975,0.543440790324586,0.5492493647155902,0.5550765300102889,0.5609226047439517,0.5667879131525292,0.572672785334182,0.578577557416278,0.5845025717280763,0.5904481769793475,0.5964147284451815,0.6024025881572435,0.608412125101766,0.6144437154245603,0.6204977426433654,0.6265745978678484,0.632674680027607,0.6387983961085225,0.6449461613978518,0.6511183997384437,0.6573155437925107,0.6635380353153844,0.6697863254397342,0.6760608749707242,0.682362154692641,0.688690645687526,0.695046839666401,0.7014312393136847,0.7078443586454575,0.7142867233822449,0.7207588713370479,0.7272613528193828,0.7337947310561326,0.7403595826300782,0.7469564979370035,0.7535860816623511,0.7602489532784371,0.7669457475633235,0.7736771151424852,0.7804437230545131,0.7872462553421392,0.7940854136699831,0.8009619179704839,0.8078765071195982,0.8148299396439302,0.8218229944610879,0.8288564716551624,0.8359311932893759,0.8430480042580611,0.8502077731803047,0.8574113933377404,0.8646597836591481,0.8719538897547218,0.8792946850030504,0.886683171694106,0.8941203822317478,0.9016073803995353,0.9091452626939119,0.916735159729141,0.9243782377187024,0.9320757000382391,0.9398287888755193,0.9476387869733464,0.9555070194717937,0.9634348558566883,0.9714237120218153,0.9794750524529587,0.98759039254256,0.9957713010445483,1.0040194026796954,1.0123363809027899,1.0207239808438962,1.0291840124370901,1.037718353751271,1.046328954539008,1.0550178400208639,1.063787114924306,1.0726389677981436,1.0815756756254842,1.0905996087604735,1.0997132362166246,1.108919131337386,1.118219977882747,1.1276185765692712,1.1371178521048986,1.1467208607643733,1.1564307985561837,1.1662510100376124,1.1761849978409358,1.1862364329810913,1.1964091660234422,1.2067072391996543,1.2171348995704503,1.227696613346246,1.2383970814907308,1.249241256748514,1.2602343622565282,1.2713819119201764,1.282689732759974,1.2941639894629922,1.3058112114067684,1.317638322462106,1.3296526739266514,1.341862080994352,1.3542748632287118,1.366899889581792,1.3797466285888613,1.3928252044731244,1.4061464600200018,1.419722027230327,1.4335644069425775,1.447687058832988,1.4621045034684073,1.4768324384120757,1.4918878707820542,1.5072892691559825,1.523056738329606,1.539212221204318,1.5557797330453886,1.5727856345778841,1.5902589519520238,1.6082317536240274,1.6267395968131166,1.6458220596200581,1.6655233794215798,1.6858932242067775,1.706987631698607,1.7288701622862503,1.751613327288068,1.7753003758395876,1.8000275547807243,1.8259070010390772,1.8530704927563826,1.881674386220809,1.9119062214969078,1.943993726834496,1.9782173557054168,2.014928172216158,2.054574097308507,2.097739724056036,2.1452091577240897,2.1980700871851475,2.2578967738622175,2.327097438157635,2.4096446702910836,2.5128493063546724,2.652744336177871,2.878791946663763],\"y\":[-1.4982304711294736,-1.4953334474078028,-1.4907973495745908,-1.4902667416412227,-1.478913831214876,-1.478625452458416,-1.4677809242220974,-1.4655342393020758,-1.463088325762072,-1.4599535763613622,-1.4593316728131982,-1.4551247122484128,-1.4533444230667332,-1.447986997731466,-1.445125173679029,-1.4414134900700097,-1.427318831314813,-1.427268186151223,-1.422774609541789,-1.4115830875373587,-1.4098581796710716,-1.4087483627936122,-1.3972850065985543,-1.3967639212133562,-1.3949515220192064,-1.387472534707023,-1.3800965696128227,-1.377969360521846,-1.3767256996725479,-1.3739808990111846,-1.350098756723951,-1.3291755347681473,-1.3238707153015306,-1.3214165628447083,-1.321070374432555,-1.3091474328080608,-1.296149139051709,-1.29508915123436,-1.2932964551098571,-1.273255523663953,-1.2509748196681514,-1.2487590094913616,-1.2442514130932105,-1.2385621542915901,-1.2366634484887022,-1.2126122262133556,-1.2116808073094605,-1.2079343670326206,-1.2028013234198216,-1.2025987678537975,-1.201472867717841,-1.191835990809179,-1.1910347594625046,-1.1855548116974908,-1.182000104775633,-1.178432502279097,-1.168497496360307,-1.1630185586487929,-1.1591554683112784,-1.1314993339691881,-1.1240848749907437,-1.1171680412147924,-1.1146190685950677,-1.113552119523519,-1.1116373325276983,-1.1105297652743809,-1.105794567396575,-1.0845861505787915,-1.082564663677605,-1.0808099574375847,-1.0778017283832293,-1.0626375516533852,-1.0497574350915366,-1.046010976835548,-1.043805370413025,-1.0408998003894547,-1.0400268739914242,-1.0390810122709562,-1.0302666367031845,-1.025791911376078,-1.0166858218423265,-1.015998915689083,-1.0158707192702319,-1.0076176563574983,-0.9994060032244811,-0.9980480180060818,-0.9971910977481535,-0.9833800640824122,-0.9789814009149644,-0.9572593530294422,-0.9537901597004423,-0.9534028362753286,-0.9403292999249073,-0.934021632725559,-0.9195949515150641,-0.9178176598188408,-0.9036369710501466,-0.9013282677531245,-0.895467871939255,-0.8937350736462393,-0.8898033785500274,-0.8878784609413723,-0.8788100151242544,-0.8680602091242728,-0.8660521743187779,-0.8593687118603821,-0.8511152673871973,-0.8502580161134086,-0.8429529655123993,-0.8408886779671914,-0.8390507825344216,-0.8382519397337083,-0.8273984816712963,-0.8247776236052018,-0.8105504339186353,-0.7984370997989911,-0.7889428780088448,-0.788782807531585,-0.7724928839805232,-0.7721457862964409,-0.7640103794769244,-0.7634692131887335,-0.761481809254779,-0.7507482636494989,-0.7480224737683718,-0.746361400782944,-0.7461258628436234,-0.7455082378292168,-0.7423951792084926,-0.7341350479386755,-0.7180981793501369,-0.6944054476366888,-0.677586001283383,-0.6556148928411498,-0.6522298849148487,-0.6500922579884181,-0.6482967415531173,-0.640228594941485,-0.6389939777837279,-0.6324196221863296,-0.6273808973591231,-0.6256584321375995,-0.623051925988789,-0.6198927812780348,-0.6127465020980059,-0.6048674615342398,-0.5995784610591945,-0.5908239040340493,-0.5902774883381396,-0.5884543489708776,-0.5816701145543095,-0.5809850236999772,-0.5802348398333788,-0.5749055757519201,-0.5737172636669294,-0.5676399057561787,-0.5667398683771996,-0.5646956057254222,-0.5638209334308062,-0.550208851937791,-0.5243446603564634,-0.5198213059190984,-0.5101513312260106,-0.5098134108092123,-0.5015959287052656,-0.4955415950656592,-0.4777869557440919,-0.47443404234865794,-0.4639877536540915,-0.4532383068412509,-0.44540970206572394,-0.4370457576742952,-0.42743367357816986,-0.42016318794854524,-0.41254863985928125,-0.40798024600703897,-0.39944174442187075,-0.3978292685570026,-0.39462425028149317,-0.394119342956611,-0.3772527997140869,-0.3715064511947843,-0.3627777404221333,-0.3585664124690098,-0.3526533553360225,-0.3496325741325146,-0.34189732538038786,-0.3349232670559701,-0.33150037684431544,-0.3261349188501752,-0.3174898240056505,-0.3130933265053617,-0.310291411239735,-0.3091992342809817,-0.30792778232610996,-0.3053180628755108,-0.2700456605818462,-0.25914959655214886,-0.25687505060980476,-0.251346186695665,-0.2502554817691718,-0.24396348962025804,-0.23996543113323643,-0.23736287987579185,-0.22791942526776943,-0.21375448173594425,-0.21298794657849562,-0.20929249251805304,-0.2055948849901812,-0.19988330191833992,-0.19931805698586125,-0.19540708076787716,-0.19387956912618343,-0.19322819788972678,-0.18840670826470962,-0.1834285860757756,-0.16865004773966863,-0.15760462581893764,-0.15482947422416782,-0.13871168643389176,-0.13468288098780068,-0.13303093327031146,-0.1205709561750199,-0.11747440994064551,-0.11617535967158954,-0.11091423346340878,-0.11081877394306128,-0.10687416053512955,-0.10161651430609897,-0.09110075889189684,-0.08575261600585504,-0.08301967820186196,-0.08169686190675263,-0.07649165198839292,-0.075251750070219,-0.07350311972580759,-0.07111940128868,-0.07039790526733114,-0.061114025930201876,-0.05989080513426304,-0.05584890112493568,-0.05549973393845775,-0.052130468236033956,-0.050036189380994855,-0.04039103234848129,-0.03488795448463522,-0.02855483512798518,-0.022682990939658865,-0.019699613231829005,-0.005588755724637018,2.6660768393416134e-05,0.007080962678760017,0.01955834657511879,0.03226707790170291,0.03408582218253464,0.037584489252622255,0.05222436479607229,0.05294755048064115,0.062154359670480996,0.06256230129045104,0.06266470949079883,0.06335144581800245,0.0650104202175763,0.07285487489702369,0.07618994992635297,0.08295746426061967,0.0879055697723361,0.08970845227442492,0.09107738792552489,0.1013249858198737,0.10602642067414791,0.10994198892732321,0.12002567767147365,0.12849600967471675,0.13285985635942632,0.13390009631216548,0.13942152045981615,0.14231274988729936,0.14441352444678923,0.1448439831599515,0.17009432456565454,0.18576370742710324,0.18703790816853605,0.187586346622167,0.20487818655674062,0.20611764498624385,0.2126950790248321,0.2347330216608814,0.23871194882703062,0.2400670792721269,0.24537089149492441,0.2468614305714576,0.2698863832118734,0.2702298270163239,0.28239706385646457,0.28334144568488595,0.286370746556071,0.28701604888854026,0.30078052720082127,0.3010395672650592,0.30181049367046775,0.30459846825811887,0.3063889396845143,0.32096994217419184,0.33614908067232996,0.3418953530928448,0.34205198283878246,0.34309257084868605,0.343739901651658,0.34481224836382207,0.34839449675000633,0.37102763569917085,0.39101554429404706,0.39735395360091763,0.40587154921970736,0.4084819235610171,0.4099743293471336,0.4121417783569914,0.4152317667112011,0.4156758594722456,0.4351855847002559,0.4432001018900955,0.4484559477160177,0.45529076244824607,0.4586198030309845,0.4638760950747036,0.4668002020684989,0.473488465608662,0.4736400572765449,0.4858096804003913,0.49709820631181323,0.5124576673148633,0.5178788224101964,0.518812806052737,0.5209074442213275,0.5224248991492719,0.5337073174628442,0.536839642165428,0.5398196339112991,0.5590761892505185,0.5724975316228829,0.572976843011578,0.5765916001644511,0.583983563772172,0.5866175363066208,0.6116960504709823,0.6222369844557969,0.629906744607756,0.6305872166083857,0.6329813450015664,0.6410483225300201,0.6453542818053148,0.6460356355182038,0.6466852601921196,0.6469362142057378,0.6561535380123633,0.6670980024000972,0.6692469601670226,0.6731780430761369,0.6896636859274508,0.6934785218118247,0.7014060227199197,0.7028215428704456,0.7028874459170584,0.7141150904769766,0.7152766724853068,0.7254941519992935,0.7384038051250532,0.7573110511365133,0.7594174728952412,0.7595990995618713,0.7679202846987767,0.7930431762410297,0.7967381244744844,0.7989626817454165,0.802061769656091,0.8065117735793925,0.8103179916346734,0.8128434242148321,0.815634150047845,0.8195199709709575,0.8367849180134606,0.848696575148554,0.8506401600178157,0.8546997724814864,0.8591119099466811,0.860265661403739,0.870452204569605,0.8868812640017296,0.8925609950222988,0.8997175840446316,0.9026029106655105,0.9027351911020345,0.9038267381740468,0.9088400419577933,0.918592409550901,0.9217787633422665,0.9249030401614569,0.9390665695282836,0.9500612918142788,0.9619808528593596,0.9650719560560708,0.9650878725734344,0.9660170673492252,0.9710355121944172,0.9804338929397574,0.9833726745015925,0.9845866234216132,0.9847064897587829,1.008498449471774,1.0088156493212574,1.0092214240255384,1.014708274493553,1.0304697568368342,1.032715717581688,1.0391226060013765,1.0392118987332166,1.0395797386937993,1.0501885886391413,1.0553660320574476,1.0631533991944022,1.0671170389612046,1.0739380993927585,1.080265659894799,1.0811175025569817,1.088143235450028,1.088792607213775,1.0961306570629157,1.09750661742331,1.1020440853052262,1.1028911267092125,1.1090317184637204,1.1105835855916109,1.1132815835253234,1.1173207297678793,1.1264369511569958,1.133105673143799,1.1342399612192624,1.1346135772762787,1.1384985901570577,1.1390210023904315,1.1424653277426966,1.1614108871240236,1.1752833131900182,1.191715699613506,1.1940776352476599,1.1969452234483593,1.2174415653385218,1.2194604503372064,1.2357342956449653,1.241310689692793,1.2630394821702362,1.2782994638435659,1.2784102445450216,1.2804089780041337,1.2847759620825947,1.2899572107889004,1.2944689269489658,1.2973698128319606,1.3008690951498214,1.3088076624183822,1.3106185222793258,1.3164294256949676,1.3172505423247869,1.3227076951182806,1.3228433522958944,1.33180608790083,1.3335269123288516,1.3356574789109983,1.346707371095671,1.3496966565026298,1.3500324501605778,1.3774635420690693,1.3893288324128492,1.4000375792382873,1.4043715433400639,1.4109989559331884,1.4124558529048357,1.416116979849912,1.4165701345724333,1.4174711272535645,1.4231320125097948,1.4237552381769847,1.427443135188831,1.4348593364643776,1.4383840581315948,1.4389575308486995,1.4390180734230755,1.4428414017405862,1.4433995154871644,1.4542824482482857,1.4585551573451423,1.4692085040431397,1.4703154677226866,1.4848320318281272,1.488014769610987,1.4920913505665832,1.4963645878118523,1.4972640603122542,1.499141559254598],\"type\":\"scatter\"},{\"line\":{\"color\":\"#636efa\"},\"mode\":\"lines\",\"x\":[-2.878791946663771,-2.6527443361778706,-2.5128493063546746,-2.4096446702910828,-2.3270974381576357,-2.2578967738622167,-2.198070087185148,-2.1452091577240897,-2.0977397240560367,-2.0545740973085067,-2.0149281722161585,-1.9782173557054166,-1.9439937268344964,-1.9119062214969071,-1.8816743862208096,-1.8530704927563826,-1.8259070010390772,-1.8000275547807236,-1.7753003758395876,-1.751613327288067,-1.7288701622862503,-1.706987631698608,-1.6858932242067775,-1.6655233794215798,-1.6458220596200581,-1.6267395968131173,-1.6082317536240274,-1.5902589519520243,-1.5727856345778841,-1.555779733045389,-1.539212221204318,-1.523056738329606,-1.5072892691559818,-1.491887870782055,-1.476832438412075,-1.4621045034684073,-1.4476870588329875,-1.4335644069425775,-1.4197220272303261,-1.4061464600200018,-1.3928252044731249,-1.3797466285888613,-1.366899889581792,-1.3542748632287118,-1.341862080994352,-1.3296526739266514,-1.317638322462106,-1.3058112114067684,-1.2941639894629922,-1.282689732759974,-1.2713819119201764,-1.2602343622565275,-1.249241256748514,-1.2383970814907308,-1.227696613346246,-1.2171348995704503,-1.2067072391996543,-1.1964091660234413,-1.1862364329810913,-1.1761849978409358,-1.1662510100376124,-1.1564307985561837,-1.1467208607643733,-1.1371178521048986,-1.1276185765692712,-1.118219977882748,-1.108919131337386,-1.0997132362166246,-1.0905996087604735,-1.0815756756254842,-1.0726389677981436,-1.063787114924306,-1.0550178400208639,-1.046328954539008,-1.037718353751271,-1.0291840124370901,-1.0207239808438964,-1.0123363809027899,-1.0040194026796954,-0.9957713010445483,-0.9875903925425602,-0.9794750524529587,-0.9714237120218157,-0.9634348558566883,-0.9555070194717937,-0.9476387869733464,-0.9398287888755193,-0.9320757000382391,-0.9243782377187024,-0.916735159729141,-0.9091452626939119,-0.9016073803995353,-0.8941203822317478,-0.886683171694106,-0.8792946850030504,-0.8719538897547215,-0.8646597836591481,-0.8574113933377402,-0.8502077731803047,-0.843048004258061,-0.8359311932893759,-0.8288564716551625,-0.8218229944610879,-0.8148299396439304,-0.8078765071195982,-0.8009619179704839,-0.7940854136699831,-0.7872462553421392,-0.7804437230545131,-0.7736771151424852,-0.7669457475633235,-0.7602489532784371,-0.7535860816623511,-0.7469564979370035,-0.7403595826300782,-0.7337947310561326,-0.7272613528193825,-0.7207588713370479,-0.7142867233822445,-0.7078443586454575,-0.7014312393136848,-0.695046839666401,-0.6886906456875264,-0.682362154692641,-0.6760608749707244,-0.6697863254397342,-0.6635380353153846,-0.6573155437925107,-0.6511183997384439,-0.6449461613978518,-0.6387983961085225,-0.6326746800276069,-0.6265745978678484,-0.6204977426433653,-0.6144437154245603,-0.6084121251017659,-0.6024025881572435,-0.5964147284451813,-0.5904481769793475,-0.5845025717280762,-0.578577557416278,-0.5726727853341822,-0.5667879131525292,-0.5609226047439518,-0.5550765300102889,-0.5492493647155903,-0.543440790324586,-0.5376504938463977,-0.5318781676832843,-0.5261235094842235,-0.5203862220031361,-0.5146660129615759,-0.5089625949157053,-0.5032756851273973,-0.4976050054393014,-0.49195028215372294,-0.48631124591517094,-0.480687631596437,-0.47507917818807016,-0.469485628691124,-0.4639067300130515,-0.45834223286663384,-0.45279189167182926,-0.44725546446043773,-0.44173271278347614,-0.436223401621169,-0.43072729929545756,-0.42524417738493925,-0.4197738106421494,-0.4143159769131024,-0.4088704570590127,-0.40343703488011934,-0.39801549704153766,-0.39260563300107176,-0.3872072349389157,-0.3818200976891797,-0.3764440186731786,-0.3710787978344214,-0.3657242375752429,-0.36038014269502366,-0.35504632032994143,-0.3497225798942044,-0.3444087330227139,-0.33910459351511124,-0.33380997728115813,-0.32852470228741065,-0.3232485885051383,-0.3179814578594511,-0.3127231341795909,-0.30747344315035036,-0.30223221226458047,-0.29699927077675203,-0.2917744496575336,-0.28655758154935473,-0.28134850072292034,-0.2761470430346446,-0.27095304588497404,-0.2657663481775706,-0.26058679027932496,-0.25541421398117364,-0.2502484624596921,-0.24508938023943821,-0.23993681315602117,-0.23479060831987053,-0.2296506140806827,-0.2245166799925212,-0.2193886567795486,-0.21426639630236863,-0.20914975152495716,-0.20403857648216184,-0.19893272624775024,-0.19383205690298824,-0.1887364255057275,-0.1836456900599868,-0.17855970948600722,-0.17347834359076486,-0.1684014530389235,-0.16332889932421207,-0.15826054474120876,-0.15319625235751866,-0.1481358859863274,-0.14307931015931719,-0.13802639009993026,-0.13297699169696545,-0.12793098147849394,-0.12288822658608067,-0.11784859474929771,-0.11281195426051693,-0.10777817394996866,-0.10274712316105414,-0.09771867172589878,-0.09269268994113539,-0.08766904854390295,-0.08264761868805212,-0.07762827192054372,-0.07261088015802968,-0.06759531566360502,-0.06258145102371986,-0.057569159125240195,-0.05255831313264713,-0.04754878646536324,-0.04254045277519598,-0.03753318592388742,-0.03252685996075981,-0.0275213491004469,-0.02251652770070054,-0.017512270240262542,-0.012508451296791559,-0.007504945524834977,-0.0025016276338357883,0.0025016276338357883,0.007504945524834839,0.012508451296791559,0.017512270240262404,0.02251652770070054,0.027521349100446763,0.03252685996075981,0.03753318592388728,0.04254045277519598,0.0475487864653631,0.05255831313264713,0.05756915912524034,0.06258145102371986,0.06759531566360516,0.07261088015802968,0.07762827192054386,0.08264761868805212,0.08766904854390309,0.09269268994113539,0.09771867172589892,0.102747123161054,0.10777817394996866,0.1128119542605168,0.11784859474929771,0.12288822658608053,0.12793098147849394,0.1329769916969653,0.13802639009993026,0.14307931015931705,0.1481358859863274,0.15319625235751883,0.15826054474120876,0.1633288993242122,0.1684014530389235,0.173478343590765,0.17855970948600722,0.18364569005998696,0.1887364255057275,0.19383205690298838,0.19893272624775024,0.20403857648216184,0.20914975152495702,0.21426639630236863,0.21938865677954847,0.2245166799925212,0.22965061408068257,0.23479060831987053,0.23993681315602103,0.24508938023943821,0.25024846245969196,0.25541421398117364,0.26058679027932513,0.2657663481775706,0.2709530458849742,0.2761470430346446,0.28134850072292045,0.28655758154935473,0.29177444965753374,0.29699927077675203,0.30223221226458064,0.3074734431503502,0.3127231341795909,0.3179814578594509,0.3232485885051383,0.3285247022874105,0.33380997728115813,0.339104593515111,0.3444087330227139,0.34972257989420424,0.35504632032994143,0.36038014269502383,0.3657242375752429,0.3710787978344215,0.3764440186731786,0.3818200976891798,0.3872072349389157,0.3926056330010719,0.39801549704153766,0.4034370348801195,0.4088704570590127,0.4143159769131024,0.41977381064214925,0.42524417738493925,0.43072729929545744,0.436223401621169,0.44173271278347603,0.44725546446043773,0.45279189167182915,0.45834223286663384,0.4639067300130513,0.469485628691124,0.47507917818807033,0.480687631596437,0.48631124591517116,0.49195028215372294,0.49760500543930153,0.5032756851273973,0.5089625949157055,0.5146660129615759,0.5203862220031363,0.5261235094842234,0.5318781676832843,0.5376504938463975,0.543440790324586,0.5492493647155902,0.5550765300102889,0.5609226047439517,0.5667879131525292,0.572672785334182,0.578577557416278,0.5845025717280763,0.5904481769793475,0.5964147284451815,0.6024025881572435,0.608412125101766,0.6144437154245603,0.6204977426433654,0.6265745978678484,0.632674680027607,0.6387983961085225,0.6449461613978518,0.6511183997384437,0.6573155437925107,0.6635380353153844,0.6697863254397342,0.6760608749707242,0.682362154692641,0.688690645687526,0.695046839666401,0.7014312393136847,0.7078443586454575,0.7142867233822449,0.7207588713370479,0.7272613528193828,0.7337947310561326,0.7403595826300782,0.7469564979370035,0.7535860816623511,0.7602489532784371,0.7669457475633235,0.7736771151424852,0.7804437230545131,0.7872462553421392,0.7940854136699831,0.8009619179704839,0.8078765071195982,0.8148299396439302,0.8218229944610879,0.8288564716551624,0.8359311932893759,0.8430480042580611,0.8502077731803047,0.8574113933377404,0.8646597836591481,0.8719538897547218,0.8792946850030504,0.886683171694106,0.8941203822317478,0.9016073803995353,0.9091452626939119,0.916735159729141,0.9243782377187024,0.9320757000382391,0.9398287888755193,0.9476387869733464,0.9555070194717937,0.9634348558566883,0.9714237120218153,0.9794750524529587,0.98759039254256,0.9957713010445483,1.0040194026796954,1.0123363809027899,1.0207239808438962,1.0291840124370901,1.037718353751271,1.046328954539008,1.0550178400208639,1.063787114924306,1.0726389677981436,1.0815756756254842,1.0905996087604735,1.0997132362166246,1.108919131337386,1.118219977882747,1.1276185765692712,1.1371178521048986,1.1467208607643733,1.1564307985561837,1.1662510100376124,1.1761849978409358,1.1862364329810913,1.1964091660234422,1.2067072391996543,1.2171348995704503,1.227696613346246,1.2383970814907308,1.249241256748514,1.2602343622565282,1.2713819119201764,1.282689732759974,1.2941639894629922,1.3058112114067684,1.317638322462106,1.3296526739266514,1.341862080994352,1.3542748632287118,1.366899889581792,1.3797466285888613,1.3928252044731244,1.4061464600200018,1.419722027230327,1.4335644069425775,1.447687058832988,1.4621045034684073,1.4768324384120757,1.4918878707820542,1.5072892691559825,1.523056738329606,1.539212221204318,1.5557797330453886,1.5727856345778841,1.5902589519520238,1.6082317536240274,1.6267395968131166,1.6458220596200581,1.6655233794215798,1.6858932242067775,1.706987631698607,1.7288701622862503,1.751613327288068,1.7753003758395876,1.8000275547807243,1.8259070010390772,1.8530704927563826,1.881674386220809,1.9119062214969078,1.943993726834496,1.9782173557054168,2.014928172216158,2.054574097308507,2.097739724056036,2.1452091577240897,2.1980700871851475,2.2578967738622175,2.327097438157635,2.4096446702910836,2.5128493063546724,2.652744336177871,2.878791946663763],\"y\":[-2.514899743846344,-2.3161893788559773,-2.1932126644516488,-2.102489162191166,-2.02992484447543,-1.969093016922994,-1.916501517635696,-1.8700333662389261,-1.8283046858525738,-1.790359328113105,-1.7555080141419155,-1.7232368490883971,-1.6931520816820211,-1.664945104030026,-1.6383693795216854,-1.6132247204021128,-1.5893462669119123,-1.5665965718335528,-1.5448597937184763,-1.5240373570065837,-1.5040446545452189,-1.4848085049985085,-1.4662651662613861,-1.4483587646703098,-1.431040039468406,-1.4142653293038903,-1.3979957466819677,-1.3821964999106067,-1.366836331910846,-1.351887052450433,-1.337323145679444,-1.3231214388278256,-1.3092608209352925,-1.295722002782486,-1.2824873109629362,-1.2695405104109652,-1.2568666507777029,-1.2444519328970627,-1.2322835922583624,-1.220349796941897,-1.2086395579079172,-1.197142649880755,-1.1858495413557704,-1.1747513324906513,-1.1638396998348863,-1.1531068470101047,-1.1425454605857555,-1.1321486705045158,-1.1219100145036998,-1.1118234060562635,-1.101883105420075,-1.0920836934393408,-1.0824200477888541,-1.0728873213916952,-1.0634809227751039,-1.0541964981585337,-1.0450299150930353,-1.0359772474928597,-1.0270347619189146,-1.0181989049899962,-1.0094662918118917,-1.000833695326741,-0.9922980364958559,-0.9838563752386188,-0.9755059020583402,-0.9672439302932658,-0.9590678889373077,-0.9509753159807639,-0.9429638522262688,-0.935031235539687,-0.9271752954995959,-0.9193939484124919,-0.9116851926640096,-0.904047104379211,-0.8964778333674996,-0.8889755993299536,-0.8815386883088641,-0.8741654493610699,-0.8668542914382962,-0.8596036804591549,-0.852412136558786,-0.8452782315033011,-0.8382005862572615,-0.8311778686934012,-0.8242087914346766,-0.8172921098195305,-0.8104266199819811,-0.8036111570388115,-0.7968445933767279,-0.7901258370329163,-0.7834538301629134,-0.7768275475901832,-0.7702459954321875,-0.7637082097981421,-0.7572132555539888,-0.7507602251504404,-0.7443482375102514,-0.7379764369711368,-0.731643992281016,-0.7253500956424824,-0.71909396180362,-0.7128748271924735,-0.706691949092671,-0.7005446048578524,-0.6944320911627249,-0.6883537232886939,-0.6823088344421667,-0.6762967751037314,-0.6703169124065442,-0.664368629542348,-0.6584513251936565,-0.6525644129907152,-0.6467073209919524,-0.6408794911866903,-0.6350803790189843,-0.6293094529315011,-0.623566193928435,-0.6178500951564977,-0.6121606615030911,-0.6064974092108141,-0.6008598655075029,-0.5952475682510572,-0.5896600655883358,-0.5840969156274548,-0.578557686122852,-0.5730419541725204,-0.5675493059268418,-0.5620793363084863,-0.5566316487428692,-0.5512058548986866,-0.5458015744380713,-0.5404184347759423,-0.5350560708481341,-0.5297141248879225,-0.5243922462105746,-0.5190900910055781,-0.5138073221362136,-0.5085436089461589,-0.503298627072822,-0.4980720582671216,-0.4928635902194401,-0.4876729163914972,-0.48249973585389155,-0.4773437531290834,-0.47220467803959204,-0.4670822255611971,-0.4619761156809418,-0.4568860732597458,-0.4518118278994426,-0.44675311381406846,-0.4417096697052326,-0.43668123864141245,-0.43166756794101685,-0.42666840905907655,-0.42168351747741895,-0.4167126525981951,-0.4117555776406323,-0.40681205954088945,-0.40188186885489874,-0.3969647796640834,-0.3920605694838426,-0.3871690191747033,-0.3822899128560392,-0.37742303782226466,-0.372568184461412,-0.3677251461760069,-0.3628937193061588,-0.3580737030547872,-0.35326489941490646,-0.348467113098898,-0.3436801514696976,-0.33890382447383227,-0.3341379445762394,-0.32938232669680917,-0.3246367881485871,-0.31990114857758173,-0.3151752299041204,-0.31045885626570113,-0.3057518539612878,-0.3010540513970012,-0.2963652790331572,-0.2916853693326064,-0.28701415671033165,-0.28235147748426087,-0.2776971698272535,-0.2730510737202233,-0.2684130309063558,-0.2637828848463879,-0.2591604806749106,-0.25454566515766314,-0.24993828664978424,-0.24533819505498955,-0.2407452417856426,-0.2361592797236925,-0.23158016318244656,-0.22700774786915268,-0.2224418908483622,-0.21788245050604935,-0.2133292865144604,-0.20878225979766935,-0.20424123249781578,-0.1997060679420024,-0.19517663060983023,-0.19065278610154923,-0.18613440110680451,-0.18162134337395716,-0.17711348167996055,-0.17261068580077274,-0.1681128264822868,-0.16361977541176084,-0.15913140518973026,-0.15464758930238626,-0.15016820209440154,-0.14569311874219054,-0.14122221522758588,-0.13675536831191723,-0.13229245551047683,-0.12783335506735838,-0.12337794593065347,-0.11892610772799413,-0.11447772074242536,-0.11003266588859696,-0.10559082468926011,-0.1011520792520572,-0.09671631224659205,-0.09228340688176892,-0.08785324688338805,-0.0834257164719869,-0.079000700340915,-0.07457808363463207,-0.0701577519272178,-0.06573959120108369,-0.061323487825874434,-0.056909328537551054,-0.05249700041764367,-0.048086390872664586,-0.04367738761367189,-0.039269878635973504,-0.03486375219896223,-0.030458896806072378,-0.02605520118484816,-0.021652554267115046,-0.017250845169244484,-0.012849963172502976,-0.008449797703476428,-0.00405023831456075,0.00034882533549019865,0.004747503500968307,0.009145906368575325,0.013544144076756246,0.017942326735010915,0.022340564443191716,0.026738967310798854,0.031137645476276843,0.03553670912632791,0.03993626851524347,0.04433643398427014,0.048737315981011525,0.05313902507888221,0.057541671996615196,0.061945367617839545,0.06635022301072953,0.07075634944774066,0.07516385842543917,0.07957286168443176,0.08398347122941095,0.08839579934931822,0.09280995863764173,0.09722606201285086,0.1016442227389851,0.10606455444639913,0.11048717115268217,0.11491218728375395,0.11933971769515522,0.12376987769353597,0.12820278305835922,0.13263855006382425,0.13707729550102726,0.141519136700364,0.14596419155419252,0.15041257853976142,0.15486441674242063,0.15931982587912563,0.16377892632224397,0.1682418391236845,0.17270868603935302,0.17717958955395782,0.18165467290616868,0.18613406011415354,0.1906178760014974,0.19510624622352798,0.19959929729405382,0.20409715661253988,0.20859995249172755,0.2131078141857243,0.21762087191857152,0.22213925691331637,0.22666310142159726,0.23119253875376955,0.2357277033095828,0.2402687306094365,0.24481575732622768,0.2493689213178165,0.2539283616601295,0.2584942186809198,0.2630666339942138,0.26764575053545964,0.2722317125974099,0.2768246658667567,0.28142475746155154,0.28603213596943017,0.29064695148667774,0.29526935565815493,0.29989950171812296,0.3045375445319903,0.30918364063902065,0.3138379482960278,0.3185006275220988,0.32317184014437345,0.3278517498449243,0.3325405222087685,0.33723832477305493,0.3419453270774684,0.34666170071588753,0.351387619389349,0.35612325896035424,0.36086879750857637,0.36562441538800655,0.3703902952855995,0.37516662228146475,0.37995358391066514,0.3847513702266735,0.38956017386655434,0.39438019011792586,0.399211616987774,0.404054655273179,0.4089095086340318,0.4137763836678062,0.41865548998647045,0.4235470402956096,0.42845125047585053,0.43336833966666605,0.4382985303526566,0.4432420484523996,0.44819912340996226,0.45316998828918614,0.4581548798708437,0.4631540387527842,0.4681677094531796,0.473196140517,0.4782395846258355,0.4832982987112097,0.48837254407151276,0.49346258649270897,0.49856869637296414,0.5036911488513592,0.5088302239408504,0.5139862066656588,0.5191593872032643,0.5243500610312073,0.5295585290788889,0.5347850978845893,0.5400300797579263,0.5452937929479809,0.5505765618173455,0.5558787170223418,0.5612005956996898,0.5665425416599014,0.5719049055877097,0.5772880452498386,0.5826923257104538,0.5881181195546362,0.5935658071202535,0.5990357767386089,0.6045284249842876,0.6100441569346191,0.6155833864392221,0.6211465364001029,0.6267340390628244,0.6323463363192701,0.6379838800225813,0.6436471323148586,0.649336565968265,0.6550526647402025,0.6607959237432683,0.6665668498307515,0.6723659619984576,0.6781937918037196,0.6840508838024825,0.6899377960054237,0.6958551003541152,0.7018033832183115,0.7077832459154987,0.713795305253934,0.7198401941004612,0.7259185619744921,0.7320310756696196,0.7381784199044382,0.7443612980042408,0.7505804326153872,0.7568365664542498,0.7631304630927832,0.7694629077829043,0.7758347083220186,0.7822466959622079,0.788699726365756,0.7951946806099094,0.8017324662439548,0.8083140184019505,0.8149403009746806,0.8216123078446835,0.8283310641884951,0.8350976278505787,0.8419130907937483,0.8487785806312977,0.8556952622464439,0.8626643395051684,0.8696870570690285,0.8767647023150683,0.883898607370553,0.8910901512709222,0.8983407622500634,0.9056519201728371,0.9130251591206311,0.9204620701417209,0.9279643041792669,0.9355335751909782,0.9431716634757769,0.9508804192242591,0.9586617663113631,0.9665177063514543,0.974450323038036,0.9824617867925312,0.9905543597490749,0.9987304011050323,1.0069923728701073,1.015342846050386,1.023784507307623,1.032320166138508,1.0409527626236588,1.0496853758017632,1.0585212327306817,1.0674637183046276,1.0765163859048024,1.0856829689703007,1.094967393586871,1.1043737922034622,1.1139065186006212,1.1235701642511082,1.133369576231842,1.1433098768680305,1.1533964853154668,1.1636351413162829,1.1740319313975225,1.1845933178218717,1.1953261706466534,1.2062378033024184,1.2173360121675374,1.228629120692522,1.2401260287196838,1.251836267753664,1.26377006307013,1.2759384037088297,1.2883531215894704,1.3010269812227322,1.313973781774704,1.3272084735942522,1.34074729174706,1.3546079096395927,1.3688096164912111,1.3833735232621995,1.3983228027226131,1.4136829707223735,1.4294822174937347,1.4457518001156566,1.462526510280173,1.4798452354820768,1.4977516370731532,1.5162949758102748,1.5355311253569859,1.5555238278183516,1.5763462645302433,1.5980830426453203,1.6208327377236793,1.6447111912138799,1.6698558503334517,1.6964315748417935,1.7246385524937877,1.7547233199001644,1.786994484953682,1.8218457989248724,1.8597911566643401,1.9015198370506932,1.947987988447463,2.000579487734762,2.061411315287197,2.133975633002934,2.224699135263414,2.3476758496677452,2.546386214658104],\"type\":\"scatter\"}],                        {\"height\":700,\"showlegend\":false,\"template\":{\"data\":{\"barpolar\":[{\"marker\":{\"line\":{\"color\":\"#E5ECF6\",\"width\":0.5},\"pattern\":{\"fillmode\":\"overlay\",\"size\":10,\"solidity\":0.2}},\"type\":\"barpolar\"}],\"bar\":[{\"error_x\":{\"color\":\"#2a3f5f\"},\"error_y\":{\"color\":\"#2a3f5f\"},\"marker\":{\"line\":{\"color\":\"#E5ECF6\",\"width\":0.5},\"pattern\":{\"fillmode\":\"overlay\",\"size\":10,\"solidity\":0.2}},\"type\":\"bar\"}],\"carpet\":[{\"aaxis\":{\"endlinecolor\":\"#2a3f5f\",\"gridcolor\":\"white\",\"linecolor\":\"white\",\"minorgridcolor\":\"white\",\"startlinecolor\":\"#2a3f5f\"},\"baxis\":{\"endlinecolor\":\"#2a3f5f\",\"gridcolor\":\"white\",\"linecolor\":\"white\",\"minorgridcolor\":\"white\",\"startlinecolor\":\"#2a3f5f\"},\"type\":\"carpet\"}],\"choropleth\":[{\"colorbar\":{\"outlinewidth\":0,\"ticks\":\"\"},\"type\":\"choropleth\"}],\"contourcarpet\":[{\"colorbar\":{\"outlinewidth\":0,\"ticks\":\"\"},\"type\":\"contourcarpet\"}],\"contour\":[{\"colorbar\":{\"outlinewidth\":0,\"ticks\":\"\"},\"colorscale\":[[0.0,\"#0d0887\"],[0.1111111111111111,\"#46039f\"],[0.2222222222222222,\"#7201a8\"],[0.3333333333333333,\"#9c179e\"],[0.4444444444444444,\"#bd3786\"],[0.5555555555555556,\"#d8576b\"],[0.6666666666666666,\"#ed7953\"],[0.7777777777777778,\"#fb9f3a\"],[0.8888888888888888,\"#fdca26\"],[1.0,\"#f0f921\"]],\"type\":\"contour\"}],\"heatmapgl\":[{\"colorbar\":{\"outlinewidth\":0,\"ticks\":\"\"},\"colorscale\":[[0.0,\"#0d0887\"],[0.1111111111111111,\"#46039f\"],[0.2222222222222222,\"#7201a8\"],[0.3333333333333333,\"#9c179e\"],[0.4444444444444444,\"#bd3786\"],[0.5555555555555556,\"#d8576b\"],[0.6666666666666666,\"#ed7953\"],[0.7777777777777778,\"#fb9f3a\"],[0.8888888888888888,\"#fdca26\"],[1.0,\"#f0f921\"]],\"type\":\"heatmapgl\"}],\"heatmap\":[{\"colorbar\":{\"outlinewidth\":0,\"ticks\":\"\"},\"colorscale\":[[0.0,\"#0d0887\"],[0.1111111111111111,\"#46039f\"],[0.2222222222222222,\"#7201a8\"],[0.3333333333333333,\"#9c179e\"],[0.4444444444444444,\"#bd3786\"],[0.5555555555555556,\"#d8576b\"],[0.6666666666666666,\"#ed7953\"],[0.7777777777777778,\"#fb9f3a\"],[0.8888888888888888,\"#fdca26\"],[1.0,\"#f0f921\"]],\"type\":\"heatmap\"}],\"histogram2dcontour\":[{\"colorbar\":{\"outlinewidth\":0,\"ticks\":\"\"},\"colorscale\":[[0.0,\"#0d0887\"],[0.1111111111111111,\"#46039f\"],[0.2222222222222222,\"#7201a8\"],[0.3333333333333333,\"#9c179e\"],[0.4444444444444444,\"#bd3786\"],[0.5555555555555556,\"#d8576b\"],[0.6666666666666666,\"#ed7953\"],[0.7777777777777778,\"#fb9f3a\"],[0.8888888888888888,\"#fdca26\"],[1.0,\"#f0f921\"]],\"type\":\"histogram2dcontour\"}],\"histogram2d\":[{\"colorbar\":{\"outlinewidth\":0,\"ticks\":\"\"},\"colorscale\":[[0.0,\"#0d0887\"],[0.1111111111111111,\"#46039f\"],[0.2222222222222222,\"#7201a8\"],[0.3333333333333333,\"#9c179e\"],[0.4444444444444444,\"#bd3786\"],[0.5555555555555556,\"#d8576b\"],[0.6666666666666666,\"#ed7953\"],[0.7777777777777778,\"#fb9f3a\"],[0.8888888888888888,\"#fdca26\"],[1.0,\"#f0f921\"]],\"type\":\"histogram2d\"}],\"histogram\":[{\"marker\":{\"pattern\":{\"fillmode\":\"overlay\",\"size\":10,\"solidity\":0.2}},\"type\":\"histogram\"}],\"mesh3d\":[{\"colorbar\":{\"outlinewidth\":0,\"ticks\":\"\"},\"type\":\"mesh3d\"}],\"parcoords\":[{\"line\":{\"colorbar\":{\"outlinewidth\":0,\"ticks\":\"\"}},\"type\":\"parcoords\"}],\"pie\":[{\"automargin\":true,\"type\":\"pie\"}],\"scatter3d\":[{\"line\":{\"colorbar\":{\"outlinewidth\":0,\"ticks\":\"\"}},\"marker\":{\"colorbar\":{\"outlinewidth\":0,\"ticks\":\"\"}},\"type\":\"scatter3d\"}],\"scattercarpet\":[{\"marker\":{\"colorbar\":{\"outlinewidth\":0,\"ticks\":\"\"}},\"type\":\"scattercarpet\"}],\"scattergeo\":[{\"marker\":{\"colorbar\":{\"outlinewidth\":0,\"ticks\":\"\"}},\"type\":\"scattergeo\"}],\"scattergl\":[{\"marker\":{\"colorbar\":{\"outlinewidth\":0,\"ticks\":\"\"}},\"type\":\"scattergl\"}],\"scattermapbox\":[{\"marker\":{\"colorbar\":{\"outlinewidth\":0,\"ticks\":\"\"}},\"type\":\"scattermapbox\"}],\"scatterpolargl\":[{\"marker\":{\"colorbar\":{\"outlinewidth\":0,\"ticks\":\"\"}},\"type\":\"scatterpolargl\"}],\"scatterpolar\":[{\"marker\":{\"colorbar\":{\"outlinewidth\":0,\"ticks\":\"\"}},\"type\":\"scatterpolar\"}],\"scatter\":[{\"marker\":{\"colorbar\":{\"outlinewidth\":0,\"ticks\":\"\"}},\"type\":\"scatter\"}],\"scatterternary\":[{\"marker\":{\"colorbar\":{\"outlinewidth\":0,\"ticks\":\"\"}},\"type\":\"scatterternary\"}],\"surface\":[{\"colorbar\":{\"outlinewidth\":0,\"ticks\":\"\"},\"colorscale\":[[0.0,\"#0d0887\"],[0.1111111111111111,\"#46039f\"],[0.2222222222222222,\"#7201a8\"],[0.3333333333333333,\"#9c179e\"],[0.4444444444444444,\"#bd3786\"],[0.5555555555555556,\"#d8576b\"],[0.6666666666666666,\"#ed7953\"],[0.7777777777777778,\"#fb9f3a\"],[0.8888888888888888,\"#fdca26\"],[1.0,\"#f0f921\"]],\"type\":\"surface\"}],\"table\":[{\"cells\":{\"fill\":{\"color\":\"#EBF0F8\"},\"line\":{\"color\":\"white\"}},\"header\":{\"fill\":{\"color\":\"#C8D4E3\"},\"line\":{\"color\":\"white\"}},\"type\":\"table\"}]},\"layout\":{\"annotationdefaults\":{\"arrowcolor\":\"#2a3f5f\",\"arrowhead\":0,\"arrowwidth\":1},\"autotypenumbers\":\"strict\",\"coloraxis\":{\"colorbar\":{\"outlinewidth\":0,\"ticks\":\"\"}},\"colorscale\":{\"diverging\":[[0,\"#8e0152\"],[0.1,\"#c51b7d\"],[0.2,\"#de77ae\"],[0.3,\"#f1b6da\"],[0.4,\"#fde0ef\"],[0.5,\"#f7f7f7\"],[0.6,\"#e6f5d0\"],[0.7,\"#b8e186\"],[0.8,\"#7fbc41\"],[0.9,\"#4d9221\"],[1,\"#276419\"]],\"sequential\":[[0.0,\"#0d0887\"],[0.1111111111111111,\"#46039f\"],[0.2222222222222222,\"#7201a8\"],[0.3333333333333333,\"#9c179e\"],[0.4444444444444444,\"#bd3786\"],[0.5555555555555556,\"#d8576b\"],[0.6666666666666666,\"#ed7953\"],[0.7777777777777778,\"#fb9f3a\"],[0.8888888888888888,\"#fdca26\"],[1.0,\"#f0f921\"]],\"sequentialminus\":[[0.0,\"#0d0887\"],[0.1111111111111111,\"#46039f\"],[0.2222222222222222,\"#7201a8\"],[0.3333333333333333,\"#9c179e\"],[0.4444444444444444,\"#bd3786\"],[0.5555555555555556,\"#d8576b\"],[0.6666666666666666,\"#ed7953\"],[0.7777777777777778,\"#fb9f3a\"],[0.8888888888888888,\"#fdca26\"],[1.0,\"#f0f921\"]]},\"colorway\":[\"#636efa\",\"#EF553B\",\"#00cc96\",\"#ab63fa\",\"#FFA15A\",\"#19d3f3\",\"#FF6692\",\"#B6E880\",\"#FF97FF\",\"#FECB52\"],\"font\":{\"color\":\"#2a3f5f\"},\"geo\":{\"bgcolor\":\"white\",\"lakecolor\":\"white\",\"landcolor\":\"#E5ECF6\",\"showlakes\":true,\"showland\":true,\"subunitcolor\":\"white\"},\"hoverlabel\":{\"align\":\"left\"},\"hovermode\":\"closest\",\"mapbox\":{\"style\":\"light\"},\"paper_bgcolor\":\"white\",\"plot_bgcolor\":\"#E5ECF6\",\"polar\":{\"angularaxis\":{\"gridcolor\":\"white\",\"linecolor\":\"white\",\"ticks\":\"\"},\"bgcolor\":\"#E5ECF6\",\"radialaxis\":{\"gridcolor\":\"white\",\"linecolor\":\"white\",\"ticks\":\"\"}},\"scene\":{\"xaxis\":{\"backgroundcolor\":\"#E5ECF6\",\"gridcolor\":\"white\",\"gridwidth\":2,\"linecolor\":\"white\",\"showbackground\":true,\"ticks\":\"\",\"zerolinecolor\":\"white\"},\"yaxis\":{\"backgroundcolor\":\"#E5ECF6\",\"gridcolor\":\"white\",\"gridwidth\":2,\"linecolor\":\"white\",\"showbackground\":true,\"ticks\":\"\",\"zerolinecolor\":\"white\"},\"zaxis\":{\"backgroundcolor\":\"#E5ECF6\",\"gridcolor\":\"white\",\"gridwidth\":2,\"linecolor\":\"white\",\"showbackground\":true,\"ticks\":\"\",\"zerolinecolor\":\"white\"}},\"shapedefaults\":{\"line\":{\"color\":\"#2a3f5f\"}},\"ternary\":{\"aaxis\":{\"gridcolor\":\"white\",\"linecolor\":\"white\",\"ticks\":\"\"},\"baxis\":{\"gridcolor\":\"white\",\"linecolor\":\"white\",\"ticks\":\"\"},\"bgcolor\":\"#E5ECF6\",\"caxis\":{\"gridcolor\":\"white\",\"linecolor\":\"white\",\"ticks\":\"\"}},\"title\":{\"x\":0.05},\"xaxis\":{\"automargin\":true,\"gridcolor\":\"white\",\"linecolor\":\"white\",\"ticks\":\"\",\"title\":{\"standoff\":15},\"zerolinecolor\":\"white\",\"zerolinewidth\":2},\"yaxis\":{\"automargin\":true,\"gridcolor\":\"white\",\"linecolor\":\"white\",\"ticks\":\"\",\"title\":{\"standoff\":15},\"zerolinecolor\":\"white\",\"zerolinewidth\":2}}},\"title\":{\"text\":\"Quantile-Quantile Plot\"},\"width\":800,\"xaxis\":{\"title\":{\"text\":\"Theoritical Quantities\"},\"zeroline\":false},\"yaxis\":{\"title\":{\"text\":\"Sample Quantities\"}}},                        {\"responsive\": true}                    ).then(function(){\n",
       "                            \n",
       "var gd = document.getElementById('26331e20-d30a-47f4-9283-2092bd18ef4f');\n",
       "var x = new MutationObserver(function (mutations, observer) {{\n",
       "        var display = window.getComputedStyle(gd).display;\n",
       "        if (!display || display === 'none') {{\n",
       "            console.log([gd, 'removed!']);\n",
       "            Plotly.purge(gd);\n",
       "            observer.disconnect();\n",
       "        }}\n",
       "}});\n",
       "\n",
       "// Listen for the removal of the full notebook cells\n",
       "var notebookContainer = gd.closest('#notebook-container');\n",
       "if (notebookContainer) {{\n",
       "    x.observe(notebookContainer, {childList: true});\n",
       "}}\n",
       "\n",
       "// Listen for the clearing of the current output cell\n",
       "var outputEl = gd.closest('.output');\n",
       "if (outputEl) {{\n",
       "    x.observe(outputEl, {childList: true});\n",
       "}}\n",
       "\n",
       "                        })                };                });            </script>        </div>"
      ]
     },
     "metadata": {},
     "output_type": "display_data"
    }
   ],
   "source": [
    "fig = go.Figure()\n",
    "\n",
    "#Scatter plot of the residuals\n",
    "fig.add_trace({ \n",
    "    'type': 'scatter',\n",
    "    'x': qqplot_data[0].get_xdata(),\n",
    "    'y': qqplot_data[0].get_ydata(),\n",
    "    'mode': 'markers',\n",
    "    'marker': {\n",
    "        'color': '#19d3f3'\n",
    "    }\n",
    "})\n",
    "\n",
    "#Adds Symmetric Line\n",
    "fig.add_trace({\n",
    "    'type': 'scatter',\n",
    "    'x': qqplot_data[1].get_xdata(),\n",
    "    'y': qqplot_data[1].get_ydata(),\n",
    "    'mode': 'lines',\n",
    "    'line': {\n",
    "        'color': '#636efa'\n",
    "    }\n",
    "\n",
    "})\n",
    "\n",
    "#Adds legend and labeling\n",
    "fig['layout'].update({\n",
    "    'title': 'Quantile-Quantile Plot',\n",
    "    'xaxis': {\n",
    "        'title': 'Theoritical Quantities',\n",
    "        'zeroline': False\n",
    "    },\n",
    "    'yaxis': {\n",
    "        'title': 'Sample Quantities'\n",
    "    },\n",
    "    'showlegend': False,\n",
    "    'width': 800,\n",
    "    'height': 700,\n",
    "})\n",
    "\n",
    "#Shows the plot\n",
    "offline.iplot(fig, filename='normality-QQ')"
   ]
  },
  {
   "cell_type": "code",
   "execution_count": 26,
   "id": "e11d923b",
   "metadata": {},
   "outputs": [
    {
     "data": {
      "application/vnd.plotly.v1+json": {
       "config": {
        "linkText": "Export to plot.ly",
        "plotlyServerURL": "https://plot.ly",
        "showLink": false
       },
       "data": [
        {
         "type": "histogram",
         "x": [
          0.30459846825811887,
          0.8868812640017296,
          -0.7423951792084926,
          -0.5737172636669294,
          1.0092214240255384,
          -0.05549973393845775,
          -1.2025987678537975,
          0.8103179916346734,
          -1.2079343670326206,
          0.2468614305714576,
          1.3496966565026298,
          -0.19387956912618343,
          1.4703154677226866,
          0.8195199709709575,
          0.09107738792552489,
          0.08295746426061967,
          0.7595990995618713,
          -0.788782807531585,
          0.5209074442213275,
          -1.0808099574375847,
          -1.201472867717841,
          0.3063889396845143,
          -1.0158707192702319,
          1.416116979849912,
          1.0395797386937993,
          1.1020440853052262,
          0.4586198030309845,
          -0.9403292999249073,
          0.9619808528593596,
          1.1342399612192624,
          -1.3972850065985543,
          -0.18840670826470962,
          -0.5884543489708776,
          0.23871194882703062,
          -0.21298794657849562,
          -0.4370457576742952,
          -0.05584890112493568,
          0.01955834657511879,
          0.6469362142057378,
          -1.3091474328080608,
          -0.9195949515150641,
          0.4432001018900955,
          0.7594174728952412,
          -0.3130933265053617,
          -0.019699613231829005,
          0.7028874459170584,
          -0.5015959287052656,
          -0.34189732538038786,
          -0.7634692131887335,
          0.18703790816853605,
          -0.2055948849901812,
          -0.5816701145543095,
          0.8591119099466811,
          0.2126950790248321,
          -1.2442514130932105,
          -1.3800965696128227,
          0.9650878725734344,
          1.0553660320574476,
          1.4237552381769847,
          -0.895467871939255,
          1.2630394821702362,
          0.30181049367046775,
          0.2347330216608814,
          -0.5098134108092123,
          0.3418953530928448,
          -0.550208851937791,
          -1.463088325762072,
          1.0501885886391413,
          -1.4677809242220974,
          -1.043805370413025,
          0.7384038051250532,
          0.4156758594722456,
          0.8997175840446316,
          0.03408582218253464,
          -0.19931805698586125,
          1.080265659894799,
          0.40587154921970736,
          1.241310689692793,
          -1.29508915123436,
          -0.5802348398333788,
          1.0739380993927585,
          1.0961306570629157,
          0.8367849180134606,
          -0.20929249251805304,
          -1.191835990809179,
          -1.0408998003894547,
          1.2804089780041337,
          -0.6127465020980059,
          -0.8937350736462393,
          -1.046010976835548,
          -0.30792778232610996,
          -1.2116808073094605,
          0.6453542818053148,
          1.3088076624183822,
          1.3893288324128492,
          -1.4551247122484128,
          -0.39462425028149317,
          1.3172505423247869,
          0.6896636859274508,
          -1.2487590094913616,
          0.9249030401614569,
          -1.3238707153015306,
          1.1614108871240236,
          -0.746361400782944,
          -0.640228594941485,
          -0.5902774883381396,
          -0.7180981793501369,
          -0.2700456605818462,
          -0.19322819788972678,
          0.4858096804003913,
          1.1105835855916109,
          -0.3978292685570026,
          -1.1591554683112784,
          -0.9994060032244811,
          -0.47443404234865794,
          1.4390180734230755,
          1.33180608790083,
          0.28701604888854026,
          -1.168497496360307,
          0.4152317667112011,
          -0.44540970206572394,
          -0.25687505060980476,
          -1.427318831314813,
          0.39735395360091763,
          1.3335269123288516,
          0.4084819235610171,
          -0.8660521743187779,
          0.4668002020684989,
          0.3010395672650592,
          -0.8511152673871973,
          -0.03488795448463522,
          -1.447986997731466,
          -1.4593316728131982,
          -0.3261349188501752,
          0.9027351911020345,
          -0.08169686190675263,
          1.4043715433400639,
          0.9500612918142788,
          -0.6944054476366888,
          0.13390009631216548,
          0.20611764498624385,
          1.088792607213775,
          -0.4639877536540915,
          -1.0626375516533852,
          0.572976843011578,
          1.0088156493212574,
          0.5337073174628442,
          0.6561535380123633,
          1.1264369511569958,
          1.088143235450028,
          0.34205198283878246,
          0.583983563772172,
          1.2357342956449653,
          -0.310291411239735,
          0.4736400572765449,
          0.18576370742710324,
          0.13942152045981615,
          0.870452204569605,
          -0.7507482636494989,
          -0.9572593530294422,
          0.07285487489702369,
          -0.16865004773966863,
          -0.07350311972580759,
          0.6692469601670226,
          -1.015998915689083,
          1.191715699613506,
          0.4638760950747036,
          -0.10687416053512955,
          -1.1910347594625046,
          0.34309257084868605,
          0.49709820631181323,
          0.20487818655674062,
          1.499141559254598,
          0.860265661403739,
          0.1448439831599515,
          -1.4599535763613622,
          -1.1171680412147924,
          -1.0497574350915366,
          -0.022682990939658865,
          -0.10161651430609897,
          -0.8105504339186353,
          0.30078052720082127,
          -0.19540708076787716,
          -1.082564663677605,
          1.2782994638435659,
          0.7141150904769766,
          -0.6324196221863296,
          -0.6389939777837279,
          1.1173207297678793,
          1.4972640603122542,
          -0.19988330191833992,
          -1.4655342393020758,
          0.8128434242148321,
          0.7152766724853068,
          -1.0166858218423265,
          1.2899572107889004,
          0.0650104202175763,
          -0.1205709561750199,
          -1.1146190685950677,
          0.6934785218118247,
          1.4920913505665832,
          0.7028215428704456,
          1.2174415653385218,
          1.1090317184637204,
          -0.5995784610591945,
          1.3228433522958944,
          -0.7461258628436234,
          1.1940776352476599,
          0.32096994217419184,
          1.0671170389612046,
          1.0304697568368342,
          -0.13468288098780068,
          0.4099743293471336,
          0.34839449675000633,
          -1.2509748196681514,
          -0.6482967415531173,
          0.848696575148554,
          0.14441352444678923,
          -0.09110075889189684,
          -0.052130468236033956,
          -1.0400268739914242,
          0.286370746556071,
          0.7679202846987767,
          1.1969452234483593,
          -0.9537901597004423,
          1.1346135772762787,
          -0.1834285860757756,
          -1.4953334474078028,
          1.1752833131900182,
          1.4383840581315948,
          -0.6198927812780348,
          -0.934021632725559,
          -0.8898033785500274,
          -1.0390810122709562,
          -0.9789814009149644,
          -0.5749055757519201,
          0.28334144568488595,
          -0.11091423346340878,
          2.6660768393416134e-05,
          -0.9013282677531245,
          0.7573110511365133,
          -0.5676399057561787,
          -0.3627777404221333,
          1.1132815835253234,
          -1.350098756723951,
          1.2847759620825947,
          0.918592409550901,
          -0.677586001283383,
          -0.22791942526776943,
          -0.9036369710501466,
          0.45529076244824607,
          -0.08575261600585504,
          0.2702298270163239,
          -1.4533444230667332,
          -0.8502580161134086,
          0.6222369844557969,
          -1.321070374432555,
          -0.761481809254779,
          0.9217787633422665,
          0.34481224836382207,
          -0.7724928839805232,
          0.5124576673148633,
          0.343739901651658,
          1.1390210023904315,
          1.4000375792382873,
          1.3356574789109983,
          -0.8680602091242728,
          1.2194604503372064,
          0.9845866234216132,
          -0.6256584321375995,
          0.473488465608662,
          -1.1630185586487929,
          0.37102763569917085,
          1.4348593364643776,
          -0.5243446603564634,
          -0.8247776236052018,
          0.06266470949079883,
          0.4351855847002559,
          -0.3772527997140869,
          0.12849600967471675,
          0.13285985635942632,
          -1.1314993339691881,
          -0.7480224737683718,
          -1.3291755347681473,
          1.3774635420690693,
          -1.2932964551098571,
          0.7989626817454165,
          0.5590761892505185,
          -0.5638209334308062,
          -0.6500922579884181,
          0.8546997724814864,
          -0.6048674615342398,
          -1.0302666367031845,
          0.7014060227199197,
          -0.6556148928411498,
          0.05294755048064115,
          -1.3214165628447083,
          0.06335144581800245,
          -0.23736287987579185,
          -0.3715064511947843,
          -0.7984370997989911,
          0.6460356355182038,
          0.9833726745015925,
          0.07618994992635297,
          0.10994198892732321,
          -0.061114025930201876,
          0.03226707790170291,
          -1.178432502279097,
          1.4963645878118523,
          -0.3174898240056505,
          -1.427268186151223,
          0.518812806052737,
          0.4121417783569914,
          0.6116960504709823,
          1.133105673143799,
          0.5866175363066208,
          -0.4777869557440919,
          -0.5198213059190984,
          0.12002567767147365,
          0.24537089149492441,
          0.6305872166083857,
          -1.445125173679029,
          0.007080962678760017,
          -1.273255523663953,
          -0.3349232670559701,
          -0.5809850236999772,
          0.0879055697723361,
          0.2698863832118734,
          -0.8788100151242544,
          -0.7455082378292168,
          -0.07649165198839292,
          1.032715717581688,
          -0.24396348962025804,
          -0.3091992342809817,
          -1.105794567396575,
          0.7254941519992935,
          -0.15482947422416782,
          0.10602642067414791,
          -0.7640103794769244,
          1.4433995154871644,
          -0.02855483512798518,
          0.9390665695282836,
          0.06256230129045104,
          0.5178788224101964,
          -0.8382519397337083,
          -0.8593687118603821,
          -1.478913831214876,
          -1.4982304711294736,
          1.2973698128319606,
          -1.3967639212133562,
          -0.08301967820186196,
          1.4389575308486995,
          -1.1855548116974908,
          -1.422774609541789,
          -0.13871168643389176,
          1.1424653277426966,
          -1.2126122262133556,
          1.346707371095671,
          0.9847064897587829,
          0.6410483225300201,
          0.5765916001644511,
          -0.07039790526733114,
          -0.23996543113323643,
          0.037584489252622255,
          0.9650719560560708,
          -0.5646956057254222,
          -0.3496325741325146,
          -0.7721457862964409,
          -0.3585664124690098,
          -0.623051925988789,
          -0.21375448173594425,
          0.9088400419577933,
          0.802061769656091,
          0.7967381244744844,
          -0.075251750070219,
          1.2944689269489658,
          1.4428414017405862,
          -0.4532383068412509,
          -0.6522298849148487,
          -0.8273984816712963,
          0.28239706385646457,
          -1.296149139051709,
          1.488014769610987,
          0.6731780430761369,
          0.14231274988729936,
          0.6466852601921196,
          -0.9178176598188408,
          -0.050036189380994855,
          -1.3949515220192064,
          0.5224248991492719,
          1.427443135188831,
          1.4165701345724333,
          1.0811175025569817,
          -1.3767256996725479,
          -0.04039103234848129,
          -1.1105297652743809,
          -0.8408886779671914,
          -0.8390507825344216,
          0.9804338929397574,
          1.09750661742331,
          -1.4087483627936122,
          -0.9971910977481535,
          -0.15760462581893764,
          1.0631533991944022,
          -0.5908239040340493,
          -0.11081877394306128,
          1.4174711272535645,
          -1.4115830875373587,
          0.6670980024000972,
          -0.3053180628755108,
          -0.05989080513426304,
          -1.1116373325276983,
          1.4848320318281272,
          0.08970845227442492,
          0.8925609950222988,
          -0.33150037684431544,
          1.3106185222793258,
          -1.4907973495745908,
          0.815634150047845,
          -0.42016318794854524,
          0.6329813450015664,
          0.8506401600178157,
          0.9038267381740468,
          1.4124558529048357,
          -0.005588755724637018,
          0.33614908067232996,
          1.3500324501605778,
          -0.2502554817691718,
          1.3164294256949676,
          -0.6273808973591231,
          -1.478625452458416,
          -0.394119342956611,
          0.062154359670480996,
          0.9026029106655105,
          1.4585551573451423,
          1.4542824482482857,
          1.3008690951498214,
          1.014708274493553,
          -0.11747440994064551,
          0.629906744607756,
          -0.8878784609413723,
          -1.182000104775633,
          -1.1240848749907437,
          0.2400670792721269,
          -1.2385621542915901,
          -0.3526533553360225,
          0.9660170673492252,
          -0.5667398683771996,
          1.4692085040431397,
          0.17009432456565454,
          -1.4098581796710716,
          1.0391226060013765,
          -0.39944174442187075,
          1.4109989559331884,
          0.39101554429404706,
          0.8065117735793925,
          -0.7889428780088448,
          -0.9980480180060818,
          -1.0845861505787915,
          -1.4902667416412227,
          1.1028911267092125,
          -0.07111940128868,
          -0.13303093327031146,
          -1.025791911376078,
          1.4231320125097948,
          -0.9534028362753286,
          -0.42743367357816986,
          1.1384985901570577,
          0.187586346622167,
          -1.2028013234198216,
          0.5398196339112991,
          -1.0778017283832293,
          -1.113552119523519,
          -0.41254863985928125,
          -0.251346186695665,
          -0.4955415950656592,
          -0.9833800640824122,
          1.0392118987332166,
          1.3227076951182806,
          -1.387472534707023,
          -0.7341350479386755,
          -0.40798024600703897,
          0.1013249858198737,
          1.2784102445450216,
          -0.11617535967158954,
          0.05222436479607229,
          0.7930431762410297,
          0.536839642165428,
          -0.5101513312260106,
          -1.2366634484887022,
          -0.25914959655214886,
          0.9710355121944172,
          -1.0076176563574983,
          -1.3739808990111846,
          -1.4414134900700097,
          -1.377969360521846,
          0.5724975316228829,
          1.008498449471774,
          0.4484559477160177,
          -0.8429529655123993
         ]
        }
       ],
       "layout": {
        "template": {
         "data": {
          "bar": [
           {
            "error_x": {
             "color": "#2a3f5f"
            },
            "error_y": {
             "color": "#2a3f5f"
            },
            "marker": {
             "line": {
              "color": "#E5ECF6",
              "width": 0.5
             },
             "pattern": {
              "fillmode": "overlay",
              "size": 10,
              "solidity": 0.2
             }
            },
            "type": "bar"
           }
          ],
          "barpolar": [
           {
            "marker": {
             "line": {
              "color": "#E5ECF6",
              "width": 0.5
             },
             "pattern": {
              "fillmode": "overlay",
              "size": 10,
              "solidity": 0.2
             }
            },
            "type": "barpolar"
           }
          ],
          "carpet": [
           {
            "aaxis": {
             "endlinecolor": "#2a3f5f",
             "gridcolor": "white",
             "linecolor": "white",
             "minorgridcolor": "white",
             "startlinecolor": "#2a3f5f"
            },
            "baxis": {
             "endlinecolor": "#2a3f5f",
             "gridcolor": "white",
             "linecolor": "white",
             "minorgridcolor": "white",
             "startlinecolor": "#2a3f5f"
            },
            "type": "carpet"
           }
          ],
          "choropleth": [
           {
            "colorbar": {
             "outlinewidth": 0,
             "ticks": ""
            },
            "type": "choropleth"
           }
          ],
          "contour": [
           {
            "colorbar": {
             "outlinewidth": 0,
             "ticks": ""
            },
            "colorscale": [
             [
              0,
              "#0d0887"
             ],
             [
              0.1111111111111111,
              "#46039f"
             ],
             [
              0.2222222222222222,
              "#7201a8"
             ],
             [
              0.3333333333333333,
              "#9c179e"
             ],
             [
              0.4444444444444444,
              "#bd3786"
             ],
             [
              0.5555555555555556,
              "#d8576b"
             ],
             [
              0.6666666666666666,
              "#ed7953"
             ],
             [
              0.7777777777777778,
              "#fb9f3a"
             ],
             [
              0.8888888888888888,
              "#fdca26"
             ],
             [
              1,
              "#f0f921"
             ]
            ],
            "type": "contour"
           }
          ],
          "contourcarpet": [
           {
            "colorbar": {
             "outlinewidth": 0,
             "ticks": ""
            },
            "type": "contourcarpet"
           }
          ],
          "heatmap": [
           {
            "colorbar": {
             "outlinewidth": 0,
             "ticks": ""
            },
            "colorscale": [
             [
              0,
              "#0d0887"
             ],
             [
              0.1111111111111111,
              "#46039f"
             ],
             [
              0.2222222222222222,
              "#7201a8"
             ],
             [
              0.3333333333333333,
              "#9c179e"
             ],
             [
              0.4444444444444444,
              "#bd3786"
             ],
             [
              0.5555555555555556,
              "#d8576b"
             ],
             [
              0.6666666666666666,
              "#ed7953"
             ],
             [
              0.7777777777777778,
              "#fb9f3a"
             ],
             [
              0.8888888888888888,
              "#fdca26"
             ],
             [
              1,
              "#f0f921"
             ]
            ],
            "type": "heatmap"
           }
          ],
          "heatmapgl": [
           {
            "colorbar": {
             "outlinewidth": 0,
             "ticks": ""
            },
            "colorscale": [
             [
              0,
              "#0d0887"
             ],
             [
              0.1111111111111111,
              "#46039f"
             ],
             [
              0.2222222222222222,
              "#7201a8"
             ],
             [
              0.3333333333333333,
              "#9c179e"
             ],
             [
              0.4444444444444444,
              "#bd3786"
             ],
             [
              0.5555555555555556,
              "#d8576b"
             ],
             [
              0.6666666666666666,
              "#ed7953"
             ],
             [
              0.7777777777777778,
              "#fb9f3a"
             ],
             [
              0.8888888888888888,
              "#fdca26"
             ],
             [
              1,
              "#f0f921"
             ]
            ],
            "type": "heatmapgl"
           }
          ],
          "histogram": [
           {
            "marker": {
             "pattern": {
              "fillmode": "overlay",
              "size": 10,
              "solidity": 0.2
             }
            },
            "type": "histogram"
           }
          ],
          "histogram2d": [
           {
            "colorbar": {
             "outlinewidth": 0,
             "ticks": ""
            },
            "colorscale": [
             [
              0,
              "#0d0887"
             ],
             [
              0.1111111111111111,
              "#46039f"
             ],
             [
              0.2222222222222222,
              "#7201a8"
             ],
             [
              0.3333333333333333,
              "#9c179e"
             ],
             [
              0.4444444444444444,
              "#bd3786"
             ],
             [
              0.5555555555555556,
              "#d8576b"
             ],
             [
              0.6666666666666666,
              "#ed7953"
             ],
             [
              0.7777777777777778,
              "#fb9f3a"
             ],
             [
              0.8888888888888888,
              "#fdca26"
             ],
             [
              1,
              "#f0f921"
             ]
            ],
            "type": "histogram2d"
           }
          ],
          "histogram2dcontour": [
           {
            "colorbar": {
             "outlinewidth": 0,
             "ticks": ""
            },
            "colorscale": [
             [
              0,
              "#0d0887"
             ],
             [
              0.1111111111111111,
              "#46039f"
             ],
             [
              0.2222222222222222,
              "#7201a8"
             ],
             [
              0.3333333333333333,
              "#9c179e"
             ],
             [
              0.4444444444444444,
              "#bd3786"
             ],
             [
              0.5555555555555556,
              "#d8576b"
             ],
             [
              0.6666666666666666,
              "#ed7953"
             ],
             [
              0.7777777777777778,
              "#fb9f3a"
             ],
             [
              0.8888888888888888,
              "#fdca26"
             ],
             [
              1,
              "#f0f921"
             ]
            ],
            "type": "histogram2dcontour"
           }
          ],
          "mesh3d": [
           {
            "colorbar": {
             "outlinewidth": 0,
             "ticks": ""
            },
            "type": "mesh3d"
           }
          ],
          "parcoords": [
           {
            "line": {
             "colorbar": {
              "outlinewidth": 0,
              "ticks": ""
             }
            },
            "type": "parcoords"
           }
          ],
          "pie": [
           {
            "automargin": true,
            "type": "pie"
           }
          ],
          "scatter": [
           {
            "marker": {
             "colorbar": {
              "outlinewidth": 0,
              "ticks": ""
             }
            },
            "type": "scatter"
           }
          ],
          "scatter3d": [
           {
            "line": {
             "colorbar": {
              "outlinewidth": 0,
              "ticks": ""
             }
            },
            "marker": {
             "colorbar": {
              "outlinewidth": 0,
              "ticks": ""
             }
            },
            "type": "scatter3d"
           }
          ],
          "scattercarpet": [
           {
            "marker": {
             "colorbar": {
              "outlinewidth": 0,
              "ticks": ""
             }
            },
            "type": "scattercarpet"
           }
          ],
          "scattergeo": [
           {
            "marker": {
             "colorbar": {
              "outlinewidth": 0,
              "ticks": ""
             }
            },
            "type": "scattergeo"
           }
          ],
          "scattergl": [
           {
            "marker": {
             "colorbar": {
              "outlinewidth": 0,
              "ticks": ""
             }
            },
            "type": "scattergl"
           }
          ],
          "scattermapbox": [
           {
            "marker": {
             "colorbar": {
              "outlinewidth": 0,
              "ticks": ""
             }
            },
            "type": "scattermapbox"
           }
          ],
          "scatterpolar": [
           {
            "marker": {
             "colorbar": {
              "outlinewidth": 0,
              "ticks": ""
             }
            },
            "type": "scatterpolar"
           }
          ],
          "scatterpolargl": [
           {
            "marker": {
             "colorbar": {
              "outlinewidth": 0,
              "ticks": ""
             }
            },
            "type": "scatterpolargl"
           }
          ],
          "scatterternary": [
           {
            "marker": {
             "colorbar": {
              "outlinewidth": 0,
              "ticks": ""
             }
            },
            "type": "scatterternary"
           }
          ],
          "surface": [
           {
            "colorbar": {
             "outlinewidth": 0,
             "ticks": ""
            },
            "colorscale": [
             [
              0,
              "#0d0887"
             ],
             [
              0.1111111111111111,
              "#46039f"
             ],
             [
              0.2222222222222222,
              "#7201a8"
             ],
             [
              0.3333333333333333,
              "#9c179e"
             ],
             [
              0.4444444444444444,
              "#bd3786"
             ],
             [
              0.5555555555555556,
              "#d8576b"
             ],
             [
              0.6666666666666666,
              "#ed7953"
             ],
             [
              0.7777777777777778,
              "#fb9f3a"
             ],
             [
              0.8888888888888888,
              "#fdca26"
             ],
             [
              1,
              "#f0f921"
             ]
            ],
            "type": "surface"
           }
          ],
          "table": [
           {
            "cells": {
             "fill": {
              "color": "#EBF0F8"
             },
             "line": {
              "color": "white"
             }
            },
            "header": {
             "fill": {
              "color": "#C8D4E3"
             },
             "line": {
              "color": "white"
             }
            },
            "type": "table"
           }
          ]
         },
         "layout": {
          "annotationdefaults": {
           "arrowcolor": "#2a3f5f",
           "arrowhead": 0,
           "arrowwidth": 1
          },
          "autotypenumbers": "strict",
          "coloraxis": {
           "colorbar": {
            "outlinewidth": 0,
            "ticks": ""
           }
          },
          "colorscale": {
           "diverging": [
            [
             0,
             "#8e0152"
            ],
            [
             0.1,
             "#c51b7d"
            ],
            [
             0.2,
             "#de77ae"
            ],
            [
             0.3,
             "#f1b6da"
            ],
            [
             0.4,
             "#fde0ef"
            ],
            [
             0.5,
             "#f7f7f7"
            ],
            [
             0.6,
             "#e6f5d0"
            ],
            [
             0.7,
             "#b8e186"
            ],
            [
             0.8,
             "#7fbc41"
            ],
            [
             0.9,
             "#4d9221"
            ],
            [
             1,
             "#276419"
            ]
           ],
           "sequential": [
            [
             0,
             "#0d0887"
            ],
            [
             0.1111111111111111,
             "#46039f"
            ],
            [
             0.2222222222222222,
             "#7201a8"
            ],
            [
             0.3333333333333333,
             "#9c179e"
            ],
            [
             0.4444444444444444,
             "#bd3786"
            ],
            [
             0.5555555555555556,
             "#d8576b"
            ],
            [
             0.6666666666666666,
             "#ed7953"
            ],
            [
             0.7777777777777778,
             "#fb9f3a"
            ],
            [
             0.8888888888888888,
             "#fdca26"
            ],
            [
             1,
             "#f0f921"
            ]
           ],
           "sequentialminus": [
            [
             0,
             "#0d0887"
            ],
            [
             0.1111111111111111,
             "#46039f"
            ],
            [
             0.2222222222222222,
             "#7201a8"
            ],
            [
             0.3333333333333333,
             "#9c179e"
            ],
            [
             0.4444444444444444,
             "#bd3786"
            ],
            [
             0.5555555555555556,
             "#d8576b"
            ],
            [
             0.6666666666666666,
             "#ed7953"
            ],
            [
             0.7777777777777778,
             "#fb9f3a"
            ],
            [
             0.8888888888888888,
             "#fdca26"
            ],
            [
             1,
             "#f0f921"
            ]
           ]
          },
          "colorway": [
           "#636efa",
           "#EF553B",
           "#00cc96",
           "#ab63fa",
           "#FFA15A",
           "#19d3f3",
           "#FF6692",
           "#B6E880",
           "#FF97FF",
           "#FECB52"
          ],
          "font": {
           "color": "#2a3f5f"
          },
          "geo": {
           "bgcolor": "white",
           "lakecolor": "white",
           "landcolor": "#E5ECF6",
           "showlakes": true,
           "showland": true,
           "subunitcolor": "white"
          },
          "hoverlabel": {
           "align": "left"
          },
          "hovermode": "closest",
          "mapbox": {
           "style": "light"
          },
          "paper_bgcolor": "white",
          "plot_bgcolor": "#E5ECF6",
          "polar": {
           "angularaxis": {
            "gridcolor": "white",
            "linecolor": "white",
            "ticks": ""
           },
           "bgcolor": "#E5ECF6",
           "radialaxis": {
            "gridcolor": "white",
            "linecolor": "white",
            "ticks": ""
           }
          },
          "scene": {
           "xaxis": {
            "backgroundcolor": "#E5ECF6",
            "gridcolor": "white",
            "gridwidth": 2,
            "linecolor": "white",
            "showbackground": true,
            "ticks": "",
            "zerolinecolor": "white"
           },
           "yaxis": {
            "backgroundcolor": "#E5ECF6",
            "gridcolor": "white",
            "gridwidth": 2,
            "linecolor": "white",
            "showbackground": true,
            "ticks": "",
            "zerolinecolor": "white"
           },
           "zaxis": {
            "backgroundcolor": "#E5ECF6",
            "gridcolor": "white",
            "gridwidth": 2,
            "linecolor": "white",
            "showbackground": true,
            "ticks": "",
            "zerolinecolor": "white"
           }
          },
          "shapedefaults": {
           "line": {
            "color": "#2a3f5f"
           }
          },
          "ternary": {
           "aaxis": {
            "gridcolor": "white",
            "linecolor": "white",
            "ticks": ""
           },
           "baxis": {
            "gridcolor": "white",
            "linecolor": "white",
            "ticks": ""
           },
           "bgcolor": "#E5ECF6",
           "caxis": {
            "gridcolor": "white",
            "linecolor": "white",
            "ticks": ""
           }
          },
          "title": {
           "x": 0.05
          },
          "xaxis": {
           "automargin": true,
           "gridcolor": "white",
           "linecolor": "white",
           "ticks": "",
           "title": {
            "standoff": 15
           },
           "zerolinecolor": "white",
           "zerolinewidth": 2
          },
          "yaxis": {
           "automargin": true,
           "gridcolor": "white",
           "linecolor": "white",
           "ticks": "",
           "title": {
            "standoff": 15
           },
           "zerolinecolor": "white",
           "zerolinewidth": 2
          }
         }
        }
       }
      },
      "text/html": [
       "<div>                            <div id=\"b05dec61-727f-4954-8a4e-1ad3ff6e5a71\" class=\"plotly-graph-div\" style=\"height:525px; width:100%;\"></div>            <script type=\"text/javascript\">                require([\"plotly\"], function(Plotly) {                    window.PLOTLYENV=window.PLOTLYENV || {};                                    if (document.getElementById(\"b05dec61-727f-4954-8a4e-1ad3ff6e5a71\")) {                    Plotly.newPlot(                        \"b05dec61-727f-4954-8a4e-1ad3ff6e5a71\",                        [{\"x\":[0.30459846825811887,0.8868812640017296,-0.7423951792084926,-0.5737172636669294,1.0092214240255384,-0.05549973393845775,-1.2025987678537975,0.8103179916346734,-1.2079343670326206,0.2468614305714576,1.3496966565026298,-0.19387956912618343,1.4703154677226866,0.8195199709709575,0.09107738792552489,0.08295746426061967,0.7595990995618713,-0.788782807531585,0.5209074442213275,-1.0808099574375847,-1.201472867717841,0.3063889396845143,-1.0158707192702319,1.416116979849912,1.0395797386937993,1.1020440853052262,0.4586198030309845,-0.9403292999249073,0.9619808528593596,1.1342399612192624,-1.3972850065985543,-0.18840670826470962,-0.5884543489708776,0.23871194882703062,-0.21298794657849562,-0.4370457576742952,-0.05584890112493568,0.01955834657511879,0.6469362142057378,-1.3091474328080608,-0.9195949515150641,0.4432001018900955,0.7594174728952412,-0.3130933265053617,-0.019699613231829005,0.7028874459170584,-0.5015959287052656,-0.34189732538038786,-0.7634692131887335,0.18703790816853605,-0.2055948849901812,-0.5816701145543095,0.8591119099466811,0.2126950790248321,-1.2442514130932105,-1.3800965696128227,0.9650878725734344,1.0553660320574476,1.4237552381769847,-0.895467871939255,1.2630394821702362,0.30181049367046775,0.2347330216608814,-0.5098134108092123,0.3418953530928448,-0.550208851937791,-1.463088325762072,1.0501885886391413,-1.4677809242220974,-1.043805370413025,0.7384038051250532,0.4156758594722456,0.8997175840446316,0.03408582218253464,-0.19931805698586125,1.080265659894799,0.40587154921970736,1.241310689692793,-1.29508915123436,-0.5802348398333788,1.0739380993927585,1.0961306570629157,0.8367849180134606,-0.20929249251805304,-1.191835990809179,-1.0408998003894547,1.2804089780041337,-0.6127465020980059,-0.8937350736462393,-1.046010976835548,-0.30792778232610996,-1.2116808073094605,0.6453542818053148,1.3088076624183822,1.3893288324128492,-1.4551247122484128,-0.39462425028149317,1.3172505423247869,0.6896636859274508,-1.2487590094913616,0.9249030401614569,-1.3238707153015306,1.1614108871240236,-0.746361400782944,-0.640228594941485,-0.5902774883381396,-0.7180981793501369,-0.2700456605818462,-0.19322819788972678,0.4858096804003913,1.1105835855916109,-0.3978292685570026,-1.1591554683112784,-0.9994060032244811,-0.47443404234865794,1.4390180734230755,1.33180608790083,0.28701604888854026,-1.168497496360307,0.4152317667112011,-0.44540970206572394,-0.25687505060980476,-1.427318831314813,0.39735395360091763,1.3335269123288516,0.4084819235610171,-0.8660521743187779,0.4668002020684989,0.3010395672650592,-0.8511152673871973,-0.03488795448463522,-1.447986997731466,-1.4593316728131982,-0.3261349188501752,0.9027351911020345,-0.08169686190675263,1.4043715433400639,0.9500612918142788,-0.6944054476366888,0.13390009631216548,0.20611764498624385,1.088792607213775,-0.4639877536540915,-1.0626375516533852,0.572976843011578,1.0088156493212574,0.5337073174628442,0.6561535380123633,1.1264369511569958,1.088143235450028,0.34205198283878246,0.583983563772172,1.2357342956449653,-0.310291411239735,0.4736400572765449,0.18576370742710324,0.13942152045981615,0.870452204569605,-0.7507482636494989,-0.9572593530294422,0.07285487489702369,-0.16865004773966863,-0.07350311972580759,0.6692469601670226,-1.015998915689083,1.191715699613506,0.4638760950747036,-0.10687416053512955,-1.1910347594625046,0.34309257084868605,0.49709820631181323,0.20487818655674062,1.499141559254598,0.860265661403739,0.1448439831599515,-1.4599535763613622,-1.1171680412147924,-1.0497574350915366,-0.022682990939658865,-0.10161651430609897,-0.8105504339186353,0.30078052720082127,-0.19540708076787716,-1.082564663677605,1.2782994638435659,0.7141150904769766,-0.6324196221863296,-0.6389939777837279,1.1173207297678793,1.4972640603122542,-0.19988330191833992,-1.4655342393020758,0.8128434242148321,0.7152766724853068,-1.0166858218423265,1.2899572107889004,0.0650104202175763,-0.1205709561750199,-1.1146190685950677,0.6934785218118247,1.4920913505665832,0.7028215428704456,1.2174415653385218,1.1090317184637204,-0.5995784610591945,1.3228433522958944,-0.7461258628436234,1.1940776352476599,0.32096994217419184,1.0671170389612046,1.0304697568368342,-0.13468288098780068,0.4099743293471336,0.34839449675000633,-1.2509748196681514,-0.6482967415531173,0.848696575148554,0.14441352444678923,-0.09110075889189684,-0.052130468236033956,-1.0400268739914242,0.286370746556071,0.7679202846987767,1.1969452234483593,-0.9537901597004423,1.1346135772762787,-0.1834285860757756,-1.4953334474078028,1.1752833131900182,1.4383840581315948,-0.6198927812780348,-0.934021632725559,-0.8898033785500274,-1.0390810122709562,-0.9789814009149644,-0.5749055757519201,0.28334144568488595,-0.11091423346340878,2.6660768393416134e-05,-0.9013282677531245,0.7573110511365133,-0.5676399057561787,-0.3627777404221333,1.1132815835253234,-1.350098756723951,1.2847759620825947,0.918592409550901,-0.677586001283383,-0.22791942526776943,-0.9036369710501466,0.45529076244824607,-0.08575261600585504,0.2702298270163239,-1.4533444230667332,-0.8502580161134086,0.6222369844557969,-1.321070374432555,-0.761481809254779,0.9217787633422665,0.34481224836382207,-0.7724928839805232,0.5124576673148633,0.343739901651658,1.1390210023904315,1.4000375792382873,1.3356574789109983,-0.8680602091242728,1.2194604503372064,0.9845866234216132,-0.6256584321375995,0.473488465608662,-1.1630185586487929,0.37102763569917085,1.4348593364643776,-0.5243446603564634,-0.8247776236052018,0.06266470949079883,0.4351855847002559,-0.3772527997140869,0.12849600967471675,0.13285985635942632,-1.1314993339691881,-0.7480224737683718,-1.3291755347681473,1.3774635420690693,-1.2932964551098571,0.7989626817454165,0.5590761892505185,-0.5638209334308062,-0.6500922579884181,0.8546997724814864,-0.6048674615342398,-1.0302666367031845,0.7014060227199197,-0.6556148928411498,0.05294755048064115,-1.3214165628447083,0.06335144581800245,-0.23736287987579185,-0.3715064511947843,-0.7984370997989911,0.6460356355182038,0.9833726745015925,0.07618994992635297,0.10994198892732321,-0.061114025930201876,0.03226707790170291,-1.178432502279097,1.4963645878118523,-0.3174898240056505,-1.427268186151223,0.518812806052737,0.4121417783569914,0.6116960504709823,1.133105673143799,0.5866175363066208,-0.4777869557440919,-0.5198213059190984,0.12002567767147365,0.24537089149492441,0.6305872166083857,-1.445125173679029,0.007080962678760017,-1.273255523663953,-0.3349232670559701,-0.5809850236999772,0.0879055697723361,0.2698863832118734,-0.8788100151242544,-0.7455082378292168,-0.07649165198839292,1.032715717581688,-0.24396348962025804,-0.3091992342809817,-1.105794567396575,0.7254941519992935,-0.15482947422416782,0.10602642067414791,-0.7640103794769244,1.4433995154871644,-0.02855483512798518,0.9390665695282836,0.06256230129045104,0.5178788224101964,-0.8382519397337083,-0.8593687118603821,-1.478913831214876,-1.4982304711294736,1.2973698128319606,-1.3967639212133562,-0.08301967820186196,1.4389575308486995,-1.1855548116974908,-1.422774609541789,-0.13871168643389176,1.1424653277426966,-1.2126122262133556,1.346707371095671,0.9847064897587829,0.6410483225300201,0.5765916001644511,-0.07039790526733114,-0.23996543113323643,0.037584489252622255,0.9650719560560708,-0.5646956057254222,-0.3496325741325146,-0.7721457862964409,-0.3585664124690098,-0.623051925988789,-0.21375448173594425,0.9088400419577933,0.802061769656091,0.7967381244744844,-0.075251750070219,1.2944689269489658,1.4428414017405862,-0.4532383068412509,-0.6522298849148487,-0.8273984816712963,0.28239706385646457,-1.296149139051709,1.488014769610987,0.6731780430761369,0.14231274988729936,0.6466852601921196,-0.9178176598188408,-0.050036189380994855,-1.3949515220192064,0.5224248991492719,1.427443135188831,1.4165701345724333,1.0811175025569817,-1.3767256996725479,-0.04039103234848129,-1.1105297652743809,-0.8408886779671914,-0.8390507825344216,0.9804338929397574,1.09750661742331,-1.4087483627936122,-0.9971910977481535,-0.15760462581893764,1.0631533991944022,-0.5908239040340493,-0.11081877394306128,1.4174711272535645,-1.4115830875373587,0.6670980024000972,-0.3053180628755108,-0.05989080513426304,-1.1116373325276983,1.4848320318281272,0.08970845227442492,0.8925609950222988,-0.33150037684431544,1.3106185222793258,-1.4907973495745908,0.815634150047845,-0.42016318794854524,0.6329813450015664,0.8506401600178157,0.9038267381740468,1.4124558529048357,-0.005588755724637018,0.33614908067232996,1.3500324501605778,-0.2502554817691718,1.3164294256949676,-0.6273808973591231,-1.478625452458416,-0.394119342956611,0.062154359670480996,0.9026029106655105,1.4585551573451423,1.4542824482482857,1.3008690951498214,1.014708274493553,-0.11747440994064551,0.629906744607756,-0.8878784609413723,-1.182000104775633,-1.1240848749907437,0.2400670792721269,-1.2385621542915901,-0.3526533553360225,0.9660170673492252,-0.5667398683771996,1.4692085040431397,0.17009432456565454,-1.4098581796710716,1.0391226060013765,-0.39944174442187075,1.4109989559331884,0.39101554429404706,0.8065117735793925,-0.7889428780088448,-0.9980480180060818,-1.0845861505787915,-1.4902667416412227,1.1028911267092125,-0.07111940128868,-0.13303093327031146,-1.025791911376078,1.4231320125097948,-0.9534028362753286,-0.42743367357816986,1.1384985901570577,0.187586346622167,-1.2028013234198216,0.5398196339112991,-1.0778017283832293,-1.113552119523519,-0.41254863985928125,-0.251346186695665,-0.4955415950656592,-0.9833800640824122,1.0392118987332166,1.3227076951182806,-1.387472534707023,-0.7341350479386755,-0.40798024600703897,0.1013249858198737,1.2784102445450216,-0.11617535967158954,0.05222436479607229,0.7930431762410297,0.536839642165428,-0.5101513312260106,-1.2366634484887022,-0.25914959655214886,0.9710355121944172,-1.0076176563574983,-1.3739808990111846,-1.4414134900700097,-1.377969360521846,0.5724975316228829,1.008498449471774,0.4484559477160177,-0.8429529655123993],\"type\":\"histogram\"}],                        {\"template\":{\"data\":{\"barpolar\":[{\"marker\":{\"line\":{\"color\":\"#E5ECF6\",\"width\":0.5},\"pattern\":{\"fillmode\":\"overlay\",\"size\":10,\"solidity\":0.2}},\"type\":\"barpolar\"}],\"bar\":[{\"error_x\":{\"color\":\"#2a3f5f\"},\"error_y\":{\"color\":\"#2a3f5f\"},\"marker\":{\"line\":{\"color\":\"#E5ECF6\",\"width\":0.5},\"pattern\":{\"fillmode\":\"overlay\",\"size\":10,\"solidity\":0.2}},\"type\":\"bar\"}],\"carpet\":[{\"aaxis\":{\"endlinecolor\":\"#2a3f5f\",\"gridcolor\":\"white\",\"linecolor\":\"white\",\"minorgridcolor\":\"white\",\"startlinecolor\":\"#2a3f5f\"},\"baxis\":{\"endlinecolor\":\"#2a3f5f\",\"gridcolor\":\"white\",\"linecolor\":\"white\",\"minorgridcolor\":\"white\",\"startlinecolor\":\"#2a3f5f\"},\"type\":\"carpet\"}],\"choropleth\":[{\"colorbar\":{\"outlinewidth\":0,\"ticks\":\"\"},\"type\":\"choropleth\"}],\"contourcarpet\":[{\"colorbar\":{\"outlinewidth\":0,\"ticks\":\"\"},\"type\":\"contourcarpet\"}],\"contour\":[{\"colorbar\":{\"outlinewidth\":0,\"ticks\":\"\"},\"colorscale\":[[0.0,\"#0d0887\"],[0.1111111111111111,\"#46039f\"],[0.2222222222222222,\"#7201a8\"],[0.3333333333333333,\"#9c179e\"],[0.4444444444444444,\"#bd3786\"],[0.5555555555555556,\"#d8576b\"],[0.6666666666666666,\"#ed7953\"],[0.7777777777777778,\"#fb9f3a\"],[0.8888888888888888,\"#fdca26\"],[1.0,\"#f0f921\"]],\"type\":\"contour\"}],\"heatmapgl\":[{\"colorbar\":{\"outlinewidth\":0,\"ticks\":\"\"},\"colorscale\":[[0.0,\"#0d0887\"],[0.1111111111111111,\"#46039f\"],[0.2222222222222222,\"#7201a8\"],[0.3333333333333333,\"#9c179e\"],[0.4444444444444444,\"#bd3786\"],[0.5555555555555556,\"#d8576b\"],[0.6666666666666666,\"#ed7953\"],[0.7777777777777778,\"#fb9f3a\"],[0.8888888888888888,\"#fdca26\"],[1.0,\"#f0f921\"]],\"type\":\"heatmapgl\"}],\"heatmap\":[{\"colorbar\":{\"outlinewidth\":0,\"ticks\":\"\"},\"colorscale\":[[0.0,\"#0d0887\"],[0.1111111111111111,\"#46039f\"],[0.2222222222222222,\"#7201a8\"],[0.3333333333333333,\"#9c179e\"],[0.4444444444444444,\"#bd3786\"],[0.5555555555555556,\"#d8576b\"],[0.6666666666666666,\"#ed7953\"],[0.7777777777777778,\"#fb9f3a\"],[0.8888888888888888,\"#fdca26\"],[1.0,\"#f0f921\"]],\"type\":\"heatmap\"}],\"histogram2dcontour\":[{\"colorbar\":{\"outlinewidth\":0,\"ticks\":\"\"},\"colorscale\":[[0.0,\"#0d0887\"],[0.1111111111111111,\"#46039f\"],[0.2222222222222222,\"#7201a8\"],[0.3333333333333333,\"#9c179e\"],[0.4444444444444444,\"#bd3786\"],[0.5555555555555556,\"#d8576b\"],[0.6666666666666666,\"#ed7953\"],[0.7777777777777778,\"#fb9f3a\"],[0.8888888888888888,\"#fdca26\"],[1.0,\"#f0f921\"]],\"type\":\"histogram2dcontour\"}],\"histogram2d\":[{\"colorbar\":{\"outlinewidth\":0,\"ticks\":\"\"},\"colorscale\":[[0.0,\"#0d0887\"],[0.1111111111111111,\"#46039f\"],[0.2222222222222222,\"#7201a8\"],[0.3333333333333333,\"#9c179e\"],[0.4444444444444444,\"#bd3786\"],[0.5555555555555556,\"#d8576b\"],[0.6666666666666666,\"#ed7953\"],[0.7777777777777778,\"#fb9f3a\"],[0.8888888888888888,\"#fdca26\"],[1.0,\"#f0f921\"]],\"type\":\"histogram2d\"}],\"histogram\":[{\"marker\":{\"pattern\":{\"fillmode\":\"overlay\",\"size\":10,\"solidity\":0.2}},\"type\":\"histogram\"}],\"mesh3d\":[{\"colorbar\":{\"outlinewidth\":0,\"ticks\":\"\"},\"type\":\"mesh3d\"}],\"parcoords\":[{\"line\":{\"colorbar\":{\"outlinewidth\":0,\"ticks\":\"\"}},\"type\":\"parcoords\"}],\"pie\":[{\"automargin\":true,\"type\":\"pie\"}],\"scatter3d\":[{\"line\":{\"colorbar\":{\"outlinewidth\":0,\"ticks\":\"\"}},\"marker\":{\"colorbar\":{\"outlinewidth\":0,\"ticks\":\"\"}},\"type\":\"scatter3d\"}],\"scattercarpet\":[{\"marker\":{\"colorbar\":{\"outlinewidth\":0,\"ticks\":\"\"}},\"type\":\"scattercarpet\"}],\"scattergeo\":[{\"marker\":{\"colorbar\":{\"outlinewidth\":0,\"ticks\":\"\"}},\"type\":\"scattergeo\"}],\"scattergl\":[{\"marker\":{\"colorbar\":{\"outlinewidth\":0,\"ticks\":\"\"}},\"type\":\"scattergl\"}],\"scattermapbox\":[{\"marker\":{\"colorbar\":{\"outlinewidth\":0,\"ticks\":\"\"}},\"type\":\"scattermapbox\"}],\"scatterpolargl\":[{\"marker\":{\"colorbar\":{\"outlinewidth\":0,\"ticks\":\"\"}},\"type\":\"scatterpolargl\"}],\"scatterpolar\":[{\"marker\":{\"colorbar\":{\"outlinewidth\":0,\"ticks\":\"\"}},\"type\":\"scatterpolar\"}],\"scatter\":[{\"marker\":{\"colorbar\":{\"outlinewidth\":0,\"ticks\":\"\"}},\"type\":\"scatter\"}],\"scatterternary\":[{\"marker\":{\"colorbar\":{\"outlinewidth\":0,\"ticks\":\"\"}},\"type\":\"scatterternary\"}],\"surface\":[{\"colorbar\":{\"outlinewidth\":0,\"ticks\":\"\"},\"colorscale\":[[0.0,\"#0d0887\"],[0.1111111111111111,\"#46039f\"],[0.2222222222222222,\"#7201a8\"],[0.3333333333333333,\"#9c179e\"],[0.4444444444444444,\"#bd3786\"],[0.5555555555555556,\"#d8576b\"],[0.6666666666666666,\"#ed7953\"],[0.7777777777777778,\"#fb9f3a\"],[0.8888888888888888,\"#fdca26\"],[1.0,\"#f0f921\"]],\"type\":\"surface\"}],\"table\":[{\"cells\":{\"fill\":{\"color\":\"#EBF0F8\"},\"line\":{\"color\":\"white\"}},\"header\":{\"fill\":{\"color\":\"#C8D4E3\"},\"line\":{\"color\":\"white\"}},\"type\":\"table\"}]},\"layout\":{\"annotationdefaults\":{\"arrowcolor\":\"#2a3f5f\",\"arrowhead\":0,\"arrowwidth\":1},\"autotypenumbers\":\"strict\",\"coloraxis\":{\"colorbar\":{\"outlinewidth\":0,\"ticks\":\"\"}},\"colorscale\":{\"diverging\":[[0,\"#8e0152\"],[0.1,\"#c51b7d\"],[0.2,\"#de77ae\"],[0.3,\"#f1b6da\"],[0.4,\"#fde0ef\"],[0.5,\"#f7f7f7\"],[0.6,\"#e6f5d0\"],[0.7,\"#b8e186\"],[0.8,\"#7fbc41\"],[0.9,\"#4d9221\"],[1,\"#276419\"]],\"sequential\":[[0.0,\"#0d0887\"],[0.1111111111111111,\"#46039f\"],[0.2222222222222222,\"#7201a8\"],[0.3333333333333333,\"#9c179e\"],[0.4444444444444444,\"#bd3786\"],[0.5555555555555556,\"#d8576b\"],[0.6666666666666666,\"#ed7953\"],[0.7777777777777778,\"#fb9f3a\"],[0.8888888888888888,\"#fdca26\"],[1.0,\"#f0f921\"]],\"sequentialminus\":[[0.0,\"#0d0887\"],[0.1111111111111111,\"#46039f\"],[0.2222222222222222,\"#7201a8\"],[0.3333333333333333,\"#9c179e\"],[0.4444444444444444,\"#bd3786\"],[0.5555555555555556,\"#d8576b\"],[0.6666666666666666,\"#ed7953\"],[0.7777777777777778,\"#fb9f3a\"],[0.8888888888888888,\"#fdca26\"],[1.0,\"#f0f921\"]]},\"colorway\":[\"#636efa\",\"#EF553B\",\"#00cc96\",\"#ab63fa\",\"#FFA15A\",\"#19d3f3\",\"#FF6692\",\"#B6E880\",\"#FF97FF\",\"#FECB52\"],\"font\":{\"color\":\"#2a3f5f\"},\"geo\":{\"bgcolor\":\"white\",\"lakecolor\":\"white\",\"landcolor\":\"#E5ECF6\",\"showlakes\":true,\"showland\":true,\"subunitcolor\":\"white\"},\"hoverlabel\":{\"align\":\"left\"},\"hovermode\":\"closest\",\"mapbox\":{\"style\":\"light\"},\"paper_bgcolor\":\"white\",\"plot_bgcolor\":\"#E5ECF6\",\"polar\":{\"angularaxis\":{\"gridcolor\":\"white\",\"linecolor\":\"white\",\"ticks\":\"\"},\"bgcolor\":\"#E5ECF6\",\"radialaxis\":{\"gridcolor\":\"white\",\"linecolor\":\"white\",\"ticks\":\"\"}},\"scene\":{\"xaxis\":{\"backgroundcolor\":\"#E5ECF6\",\"gridcolor\":\"white\",\"gridwidth\":2,\"linecolor\":\"white\",\"showbackground\":true,\"ticks\":\"\",\"zerolinecolor\":\"white\"},\"yaxis\":{\"backgroundcolor\":\"#E5ECF6\",\"gridcolor\":\"white\",\"gridwidth\":2,\"linecolor\":\"white\",\"showbackground\":true,\"ticks\":\"\",\"zerolinecolor\":\"white\"},\"zaxis\":{\"backgroundcolor\":\"#E5ECF6\",\"gridcolor\":\"white\",\"gridwidth\":2,\"linecolor\":\"white\",\"showbackground\":true,\"ticks\":\"\",\"zerolinecolor\":\"white\"}},\"shapedefaults\":{\"line\":{\"color\":\"#2a3f5f\"}},\"ternary\":{\"aaxis\":{\"gridcolor\":\"white\",\"linecolor\":\"white\",\"ticks\":\"\"},\"baxis\":{\"gridcolor\":\"white\",\"linecolor\":\"white\",\"ticks\":\"\"},\"bgcolor\":\"#E5ECF6\",\"caxis\":{\"gridcolor\":\"white\",\"linecolor\":\"white\",\"ticks\":\"\"}},\"title\":{\"x\":0.05},\"xaxis\":{\"automargin\":true,\"gridcolor\":\"white\",\"linecolor\":\"white\",\"ticks\":\"\",\"title\":{\"standoff\":15},\"zerolinecolor\":\"white\",\"zerolinewidth\":2},\"yaxis\":{\"automargin\":true,\"gridcolor\":\"white\",\"linecolor\":\"white\",\"ticks\":\"\",\"title\":{\"standoff\":15},\"zerolinecolor\":\"white\",\"zerolinewidth\":2}}}},                        {\"responsive\": true}                    ).then(function(){\n",
       "                            \n",
       "var gd = document.getElementById('b05dec61-727f-4954-8a4e-1ad3ff6e5a71');\n",
       "var x = new MutationObserver(function (mutations, observer) {{\n",
       "        var display = window.getComputedStyle(gd).display;\n",
       "        if (!display || display === 'none') {{\n",
       "            console.log([gd, 'removed!']);\n",
       "            Plotly.purge(gd);\n",
       "            observer.disconnect();\n",
       "        }}\n",
       "}});\n",
       "\n",
       "// Listen for the removal of the full notebook cells\n",
       "var notebookContainer = gd.closest('#notebook-container');\n",
       "if (notebookContainer) {{\n",
       "    x.observe(notebookContainer, {childList: true});\n",
       "}}\n",
       "\n",
       "// Listen for the clearing of the current output cell\n",
       "var outputEl = gd.closest('.output');\n",
       "if (outputEl) {{\n",
       "    x.observe(outputEl, {childList: true});\n",
       "}}\n",
       "\n",
       "                        })                };                });            </script>        </div>"
      ]
     },
     "metadata": {},
     "output_type": "display_data"
    }
   ],
   "source": [
    "# trace = go.Histogram(\n",
    "#     x=epsilon\n",
    "# )\n",
    "\n",
    "# offline.iplot([trace], filename='normality-histogram')"
   ]
  },
  {
   "cell_type": "markdown",
   "id": "bbc1e57d",
   "metadata": {},
   "source": [
    "One troublesome issue with using plotly is I would get thrown an Authentication error when trying to graph. The workaround I found is using plotly.offline. When implementing this into the software, I suspect we might have to make an account with Plotly or run this offline. \n",
    "\n",
    "https://stackoverflow.com/questions/50962895/iplot-is-not-working-why-if-it-need-account"
   ]
  }
 ],
 "metadata": {
  "kernelspec": {
   "display_name": "Python 3",
   "language": "python",
   "name": "python3"
  },
  "language_info": {
   "codemirror_mode": {
    "name": "ipython",
    "version": 3
   },
   "file_extension": ".py",
   "mimetype": "text/x-python",
   "name": "python",
   "nbconvert_exporter": "python",
   "pygments_lexer": "ipython3",
   "version": "3.8.8"
  }
 },
 "nbformat": 4,
 "nbformat_minor": 5
}
