{
 "cells": [
  {
   "cell_type": "markdown",
   "id": "5301ce03",
   "metadata": {},
   "source": [
    "# Sinusoidal Regression"
   ]
  },
  {
   "cell_type": "markdown",
   "id": "3fc28593",
   "metadata": {},
   "source": [
    "The purpose of this notebook is to test and discuss the theory and application of a type of non-linear regression for sinusoidal data. If we are given some form of data, we would like to form a prediction curve that would help us capture the intricate patterns and shapes of our data, regardless of how noisy the data is. My goal is to explain and understand the mathematical theory behind sinusoidal regression, as well as apply with a visual example in pyhthon, with numpy and specifically visualizing it with the powerful tool, Plotly. I would also like to establish a good measure of fit variable, such as $R^2$ as well as a confidence interval said variable. "
   ]
  },
  {
   "cell_type": "markdown",
   "id": "20f108e4",
   "metadata": {},
   "source": [
    "## TOC:\n",
    "* [Mathematical Theory](#math)\n",
    "    * [Measuring Goodness of Fit/Model Accuracy](#fit)\n",
    "    * [Links to Dive Deeper into](#dive)\n",
    "* [Application in Python](#Python)\n",
    "    * [Finding Parameters for Model](#find)\n",
    "    * [Finding $S^2$](#s2)\n",
    "    * [Finding $\\chi^2_{red}$](#chi2red)\n",
    "* [Plotting in Python using Plotly](#Plotly)\n",
    "    * [QQplot](#QQplot)\n",
    "* [Using Real Data Provided by Dr. Cudmore and the Santana Lab](#realdata)"
   ]
  },
  {
   "cell_type": "markdown",
   "id": "a6ebd713",
   "metadata": {},
   "source": [
    "## Mathematical Theory <a class=\"anchor\" id=\"math\"></a>"
   ]
  },
  {
   "cell_type": "markdown",
   "id": "f4f66525",
   "metadata": {},
   "source": [
    "The definition of a sinusoidal model is one where we approximate some $Y_i$ with the following equation:\n",
    "$$\n",
    "Y_i = C + \\alpha sin(\\omega T_i + \\phi_) + E_i\n",
    "$$\n",
    "Where $C$ is a constant defining our **mean** level, $\\alpha$ is the amplitude, $\\omega$ is the frequency, $T_i$ is our time variable, $\\phi$ is the phase, and $E_i$ is the error sequence in approximation of $Y_i$.\n",
    "From what I have read, the first step to sinusoidal regression is that we are making an initial \"guess\" as of the paramters will fit the data. Generally, we can start with $C$ being the mean of our data. We can generate a starting estimate of the amplitude $\\alpha$ of our data with the root mean square multtiplied by the square root of two. \n",
    "\n",
    "https://en.wikipedia.org/wiki/Sinusoidal_model\n",
    "https://en.wikipedia.org/wiki/Root_mean_square\n",
    "https://en.wikipedia.org/wiki/Non-linear_least_squares"
   ]
  },
  {
   "cell_type": "markdown",
   "id": "072289cb",
   "metadata": {},
   "source": [
    "To understand the Stack overflow method, I will need to understand what the discrete Fourier Transform is and its application to this process. "
   ]
  },
  {
   "cell_type": "markdown",
   "id": "cf59f854",
   "metadata": {},
   "source": [
    "### Measuring Goodness of Fit/Model Accuracy<a class=\"anchor\" id=\"fit\"></a>\n",
    "\n",
    "#### An Argument for $S^2$"
   ]
  },
  {
   "cell_type": "markdown",
   "id": "d779d5ca",
   "metadata": {},
   "source": [
    "Perhaps the biggest challenge so far in research is finding information on a value to describe the measure of fit for a model. As some sources suggest, $R^2$ seems to be an invalid when referring to non-linear models. Perhaps a better measure would be the residuals, which we would also expect to be random in our data. \n",
    "\n",
    "https://statisticsbyjim.com/regression/r-squared-invalid-nonlinear-regression/\n",
    "https://statisticsbyjim.com/regression/standard-error-regression-vs-r-squared/\n",
    "\n",
    "It appears we can also use standard error of the regression for ~~confidence~~ prediction intervals, which is ideal for our sinusoidal regression. The standard error of regression, which we can refer to a $s$ is derived by the following process: \n",
    "$$\n",
    "s^2 = \\frac{\\hat{\\epsilon}^T\\hat{\\epsilon}}{n-p}\n",
    "$$\n",
    "Where \n",
    "$$\n",
    "   \\hat{\\epsilon} = y - \\hat{y}\n",
    "$$\n",
    "We find $s$ by taking the square root of the $s^2$ solved for. This value s represents the average distance that our observed values $y$ are located from the regression line. Ideally we want $s$ to be minimized by our model. \n",
    "\n",
    "https://statisticsbyjim.com/glossary/standard-error-regression/\n",
    "\n",
    "https://en.wikipedia.org/wiki/Ordinary_least_squares"
   ]
  },
  {
   "cell_type": "markdown",
   "id": "ef9e7af2",
   "metadata": {},
   "source": [
    "#### A More Logical Goodness of Fit: Chi - Squared $\\chi^2$\n",
    "\n",
    "https://en.wikipedia.org/wiki/Reduced_chi-squared_statistic"
   ]
  },
  {
   "cell_type": "markdown",
   "id": "56a2238b",
   "metadata": {},
   "source": [
    "Directly related to our $s^2$ statistic, the reduced Chi-Squared statistic can help us give a better measure of fit that is easier to quantifiably compare beyond the concept of minimization. How does this statistic differ from the standard error of regression? Lets we write:\n",
    "$$\n",
    "\\hat{\\epsilon} = y - \\hat{y}\n",
    "$$\n",
    "as...\n",
    "$$\n",
    "\\hat{\\epsilon} = Observed - Expected\n",
    "$$\n",
    "Such that we can think of a new statistic, $\\chi^2$, as \n",
    "$$\n",
    "\\chi^2 = \\sum_{i=1}^{n} \\frac{(Obs_i - Exp_i)^2} {Exp_i} = \\sum_{i=1}^{n} \\frac{\\epsilon^2}{Exp_i}\n",
    "$$\n",
    "\n",
    "We can create the reduced version of this statistic: \n",
    "$$\n",
    "\\chi^2_{red} = \\frac{\\chi^2}{\\nu}\n",
    "$$\n",
    "Where...\n",
    "$$\n",
    "\\nu = n - p\n",
    "$$\n",
    "where n is the number of observations and p is the number of parameters, which in the case of the electrophysiological data we are analyzing, would be 1. "
   ]
  },
  {
   "cell_type": "markdown",
   "id": "5ec19d9e",
   "metadata": {},
   "source": [
    "#### How is $\\chi^2_{red}$ Better?"
   ]
  },
  {
   "cell_type": "markdown",
   "id": "834caf37",
   "metadata": {},
   "source": [
    "What makes this new statistic ideal is that we now can compare to this statistic to a value of refernce to draw conclusions about our model fit, and conveniently, that reference value is 1. If our reduced chi squared statistic is larger than one, than we can conclude that our model is a poor fit for the data. If our value is approximately 1, then our model is a good fit for the data. Lastly, if the statistic is lower than 1, we can conclude that perhaps we are overfitting the data. "
   ]
  },
  {
   "cell_type": "markdown",
   "id": "f7726a71",
   "metadata": {},
   "source": [
    "### Links to Dive Deeper into  <a class=\"anchor\" id=\"dive\"></a>"
   ]
  },
  {
   "cell_type": "markdown",
   "id": "a2283792",
   "metadata": {},
   "source": [
    "https://math.stackexchange.com/questions/2368821/find-a-sinusoidal-regression-equation-for-some-given-data\n",
    "\n",
    "**Gauss-Newtown** algorithm\n",
    "https://math.stackexchange.com/questions/301194/given-a-data-set-how-do-you-do-a-sinusoidal-regression-on-paper-what-are-the-e\n",
    "\n",
    "**Hypothesis Testing and Model Fitting** http://astronomy.swin.edu.au/~cblake/StatsLecture3.pdf\n",
    "\n",
    "**Chi-Squared and Basics** https://www.nbi.dk/~koskinen/Teaching/AdvancedMethodsInAppliedStatistics2018/Lecture1_Basics_ChiSquare.pdf\n",
    "\n",
    "**Dos and don’ts of reduced chi-squared** https://arxiv.org/pdf/1012.3754.pdf\n",
    "\n"
   ]
  },
  {
   "cell_type": "markdown",
   "id": "7825a1c9",
   "metadata": {},
   "source": [
    "## Application in Python <a class=\"anchor\" id=\"math\"></a>"
   ]
  },
  {
   "cell_type": "markdown",
   "id": "2935b532",
   "metadata": {},
   "source": [
    "The stack overflow answer provides a method for implementing a sine curve, without initial guesses. "
   ]
  },
  {
   "cell_type": "markdown",
   "id": "15a9895b",
   "metadata": {},
   "source": [
    "https://stackoverflow.com/questions/16716302/how-do-i-fit-a-sine-curve-to-my-data-with-pylab-and-numpy\n",
    "\n",
    "https://towardsdatascience.com/fitting-cosine-sine-functions-with-machine-learning-in-python-610605d9b057"
   ]
  },
  {
   "cell_type": "markdown",
   "id": "4fc1a401",
   "metadata": {},
   "source": [
    "As mentioned in Towards Data Science, one of the ways to do a sinusoidal regression in python is using scipy *optimize.curve_fit*. This method uses an algorithm called the Trust Region Reflective algorithm. "
   ]
  },
  {
   "cell_type": "markdown",
   "id": "e9fee95f",
   "metadata": {},
   "source": [
    "### Finding Parameters for Model  <a class=\"anchor\" id=\"find\"></a>"
   ]
  },
  {
   "cell_type": "code",
   "execution_count": null,
   "id": "6f5eac9e",
   "metadata": {},
   "outputs": [],
   "source": [
    "import numpy as np\n",
    "import pandas as pd\n",
    "import scipy.optimize"
   ]
  },
  {
   "cell_type": "code",
   "execution_count": 62,
   "id": "5b148724",
   "metadata": {},
   "outputs": [
    {
     "data": {
      "application/javascript": [
       "\n",
       "            setTimeout(function() {\n",
       "                var nbb_cell_id = 62;\n",
       "                var nbb_unformatted_code = \"import numpy as np\\nimport pandas as pd\\nimport scipy.optimize\\n\\ndef fit_sin(tt, yy):\\n    # declaring response and explanatory variables as numpy arrays\\n    tt = np.array(tt) # xdata\\n    yy = np.array(yy) # ydata\\n    \\n    # np.fft computes the  one-dimensional discrete Fourier Transform\\n    # np.fft.fftfreq returns Discrete Fourier Transform sample frequencies\\n    ff = np.fft.fftfreq(len(tt), (tt[1]-tt[0]))   # assume uniform spacing\\n    Fyy = abs(np.fft.fft(yy))\\n    \\n    #Preliminary guesses of the parameters of sine function (this will not fit well)\\n    guess_freq = abs(ff[np.argmax(Fyy[1:])+1])   # excluding the zero frequency \\\"peak\\\", which is related to offset\\n    guess_amp = np.std(yy) * 2.**0.5 # this uses the standard deviation rather than the root mean square, might want to investigate which is better\\n    guess_offset = np.mean(yy) # guessing the constant C with the mean of the data\\n    guess = np.array([guess_amp, 2.*np.pi*guess_freq, 0., guess_offset])\\n\\n    def sinfunc(t, A, w, p, c):  return A * np.sin(w*t + p) + c #this one-liner returns the format for the sin equation\\n    \\n    # https://docs.scipy.org/doc/scipy/reference/generated/scipy.optimize.curve_fit.html\\n    #Scipy.optimize takes multiple parameters to fit non-linear data, p0 is an optional variable for guess of parameters\\n    # optimize returns 2 objects: popt is optimal values for paramters where SQUARED RESIDUALS are minimized\\n    # pcov is a 2-D array that is the estimated covariance of popt\\n    \\n    popt, pcov = scipy.optimize.curve_fit(f=sinfunc, xdata=tt, ydata=yy, p0=guess)\\n    A, w, p, c = popt #takes the optimized variables\\n    f = w/(2.*np.pi) # still need to understand why omega is divided by 2pi, radian conversion?\\n    fitfunc = lambda t: A * np.sin(w*t + p) + c #lambda function to build sin expression\\n    origRes = {\\\"amp\\\": A, \\\"omega\\\": w, \\\"phase\\\": p, \\\"offset\\\": c, \\\"freq\\\": f, \\\"period\\\": 1./f, \\\"fitfunc\\\": fitfunc, \\\"maxcov\\\": np.max(pcov), \\\"rawres\\\": (guess,popt,pcov)}\\n    \\n    #Now putting data into cleaner Pandas DF for output\\n    paramDict = {\\\"Amplitude\\\": A, \\\"Omega\\\": w, \\\"Phase\\\": p, \\\"Offset\\\": c, \\\"Frequency\\\": f, \\\"Period\\\": 1./f, \\\"Max Cov.\\\": np.max(pcov)}\\n    statTable = pd.DataFrame(paramDict, index = [0]).T\\n    statTable.columns = ['Parameters'] #renaming column index\\n    return statTable\";\n",
       "                var nbb_formatted_code = \"import numpy as np\\nimport pandas as pd\\nimport scipy.optimize\\n\\n\\ndef fit_sin(tt, yy):\\n    # declaring response and explanatory variables as numpy arrays\\n    tt = np.array(tt)  # xdata\\n    yy = np.array(yy)  # ydata\\n\\n    # np.fft computes the  one-dimensional discrete Fourier Transform\\n    # np.fft.fftfreq returns Discrete Fourier Transform sample frequencies\\n    ff = np.fft.fftfreq(len(tt), (tt[1] - tt[0]))  # assume uniform spacing\\n    Fyy = abs(np.fft.fft(yy))\\n\\n    # Preliminary guesses of the parameters of sine function (this will not fit well)\\n    guess_freq = abs(\\n        ff[np.argmax(Fyy[1:]) + 1]\\n    )  # excluding the zero frequency \\\"peak\\\", which is related to offset\\n    guess_amp = (\\n        np.std(yy) * 2.0 ** 0.5\\n    )  # this uses the standard deviation rather than the root mean square, might want to investigate which is better\\n    guess_offset = np.mean(yy)  # guessing the constant C with the mean of the data\\n    guess = np.array([guess_amp, 2.0 * np.pi * guess_freq, 0.0, guess_offset])\\n\\n    def sinfunc(t, A, w, p, c):\\n        return (\\n            A * np.sin(w * t + p) + c\\n        )  # this one-liner returns the format for the sin equation\\n\\n    # https://docs.scipy.org/doc/scipy/reference/generated/scipy.optimize.curve_fit.html\\n    # Scipy.optimize takes multiple parameters to fit non-linear data, p0 is an optional variable for guess of parameters\\n    # optimize returns 2 objects: popt is optimal values for paramters where SQUARED RESIDUALS are minimized\\n    # pcov is a 2-D array that is the estimated covariance of popt\\n\\n    popt, pcov = scipy.optimize.curve_fit(f=sinfunc, xdata=tt, ydata=yy, p0=guess)\\n    A, w, p, c = popt  # takes the optimized variables\\n    f = w / (\\n        2.0 * np.pi\\n    )  # still need to understand why omega is divided by 2pi, radian conversion?\\n    fitfunc = (\\n        lambda t: A * np.sin(w * t + p) + c\\n    )  # lambda function to build sin expression\\n    origRes = {\\n        \\\"amp\\\": A,\\n        \\\"omega\\\": w,\\n        \\\"phase\\\": p,\\n        \\\"offset\\\": c,\\n        \\\"freq\\\": f,\\n        \\\"period\\\": 1.0 / f,\\n        \\\"fitfunc\\\": fitfunc,\\n        \\\"maxcov\\\": np.max(pcov),\\n        \\\"rawres\\\": (guess, popt, pcov),\\n    }\\n\\n    # Now putting data into cleaner Pandas DF for output\\n    paramDict = {\\n        \\\"Amplitude\\\": A,\\n        \\\"Omega\\\": w,\\n        \\\"Phase\\\": p,\\n        \\\"Offset\\\": c,\\n        \\\"Frequency\\\": f,\\n        \\\"Period\\\": 1.0 / f,\\n        \\\"Max Cov.\\\": np.max(pcov),\\n    }\\n    statTable = pd.DataFrame(paramDict, index=[0]).T\\n    statTable.columns = [\\\"Parameters\\\"]  # renaming column index\\n    return statTable\";\n",
       "                var nbb_cells = Jupyter.notebook.get_cells();\n",
       "                for (var i = 0; i < nbb_cells.length; ++i) {\n",
       "                    if (nbb_cells[i].input_prompt_number == nbb_cell_id) {\n",
       "                        if (nbb_cells[i].get_text() == nbb_unformatted_code) {\n",
       "                             nbb_cells[i].set_text(nbb_formatted_code);\n",
       "                        }\n",
       "                        break;\n",
       "                    }\n",
       "                }\n",
       "            }, 500);\n",
       "            "
      ],
      "text/plain": [
       "<IPython.core.display.Javascript object>"
      ]
     },
     "metadata": {},
     "output_type": "display_data"
    }
   ],
   "source": [
    "def fit_sin(tt, yy):\n",
    "    # declaring response and explanatory variables as numpy arrays\n",
    "    tt = np.array(tt)  # xdata\n",
    "    yy = np.array(yy)  # ydata\n",
    "\n",
    "    # np.fft computes the  one-dimensional discrete Fourier Transform\n",
    "    # np.fft.fftfreq returns Discrete Fourier Transform sample frequencies\n",
    "    ff = np.fft.fftfreq(len(tt), (tt[1] - tt[0]))  # assume uniform spacing\n",
    "    Fyy = abs(np.fft.fft(yy))\n",
    "\n",
    "    # Preliminary guesses of the parameters of sine function (this will not fit well)\n",
    "    guess_freq = abs(\n",
    "        ff[np.argmax(Fyy[1:]) + 1]\n",
    "    )  # excluding the zero frequency \"peak\", which is related to offset\n",
    "    guess_amp = (\n",
    "        np.std(yy) * 2.0 ** 0.5\n",
    "    )  # this uses the standard deviation rather than the root mean square, might want to investigate which is better\n",
    "    guess_offset = np.mean(yy)  # guessing the constant C with the mean of the data\n",
    "    guess = np.array([guess_amp, 2.0 * np.pi * guess_freq, 0.0, guess_offset])\n",
    "\n",
    "    def sinfunc(t, A, w, p, c):\n",
    "        return (\n",
    "            A * np.sin(w * t + p) + c\n",
    "        )  # this one-liner returns the format for the sin equation\n",
    "\n",
    "    # https://docs.scipy.org/doc/scipy/reference/generated/scipy.optimize.curve_fit.html\n",
    "    # Scipy.optimize takes multiple parameters to fit non-linear data, p0 is an optional variable for guess of parameters\n",
    "    # optimize returns 2 objects: popt is optimal values for paramters where SQUARED RESIDUALS are minimized\n",
    "    # pcov is a 2-D array that is the estimated covariance of popt\n",
    "\n",
    "    popt, pcov = scipy.optimize.curve_fit(f=sinfunc, xdata=tt, ydata=yy, p0=guess)\n",
    "    A, w, p, c = popt  # takes the optimized variables\n",
    "    f = w / (\n",
    "        2.0 * np.pi\n",
    "    )  # still need to understand why omega is divided by 2pi, radian conversion?\n",
    "    fitfunc = (\n",
    "        lambda t: A * np.sin(w * t + p) + c\n",
    "    )  # lambda function to build sin expression\n",
    "    origRes = {\n",
    "        \"amp\": A,\n",
    "        \"omega\": w,\n",
    "        \"phase\": p,\n",
    "        \"offset\": c,\n",
    "        \"freq\": f,\n",
    "        \"period\": 1.0 / f,\n",
    "        \"fitfunc\": fitfunc,\n",
    "        \"maxcov\": np.max(pcov),\n",
    "        \"rawres\": (guess, popt, pcov),\n",
    "    }\n",
    "\n",
    "    # Now putting data into cleaner Pandas DF for output\n",
    "    paramDict = {\n",
    "        \"Amplitude\": A,\n",
    "        \"Omega\": w,\n",
    "        \"Phase\": p,\n",
    "        \"Offset\": c,\n",
    "        \"Frequency\": f,\n",
    "        \"Period\": 1.0 / f,\n",
    "        \"Max Cov.\": np.max(pcov),\n",
    "    }\n",
    "    statTable = pd.DataFrame(paramDict, index=[0]).T\n",
    "    statTable.columns = [\"Parameters\"]  # renaming column index\n",
    "    return statTable"
   ]
  },
  {
   "cell_type": "code",
   "execution_count": 64,
   "id": "a150aa4d",
   "metadata": {},
   "outputs": [
    {
     "data": {
      "text/html": [
       "<div>\n",
       "<style scoped>\n",
       "    .dataframe tbody tr th:only-of-type {\n",
       "        vertical-align: middle;\n",
       "    }\n",
       "\n",
       "    .dataframe tbody tr th {\n",
       "        vertical-align: top;\n",
       "    }\n",
       "\n",
       "    .dataframe thead th {\n",
       "        text-align: right;\n",
       "    }\n",
       "</style>\n",
       "<table border=\"1\" class=\"dataframe\">\n",
       "  <thead>\n",
       "    <tr style=\"text-align: right;\">\n",
       "      <th></th>\n",
       "      <th>Parameters</th>\n",
       "    </tr>\n",
       "  </thead>\n",
       "  <tbody>\n",
       "    <tr>\n",
       "      <th>Amplitude</th>\n",
       "      <td>1.037746</td>\n",
       "    </tr>\n",
       "    <tr>\n",
       "      <th>Omega</th>\n",
       "      <td>2.024070</td>\n",
       "    </tr>\n",
       "    <tr>\n",
       "      <th>Phase</th>\n",
       "      <td>0.422842</td>\n",
       "    </tr>\n",
       "    <tr>\n",
       "      <th>Offset</th>\n",
       "      <td>4.006438</td>\n",
       "    </tr>\n",
       "    <tr>\n",
       "      <th>Frequency</th>\n",
       "      <td>0.322141</td>\n",
       "    </tr>\n",
       "    <tr>\n",
       "      <th>Period</th>\n",
       "      <td>3.104233</td>\n",
       "    </tr>\n",
       "    <tr>\n",
       "      <th>Max Cov.</th>\n",
       "      <td>0.011828</td>\n",
       "    </tr>\n",
       "  </tbody>\n",
       "</table>\n",
       "</div>"
      ],
      "text/plain": [
       "           Parameters\n",
       "Amplitude    1.037746\n",
       "Omega        2.024070\n",
       "Phase        0.422842\n",
       "Offset       4.006438\n",
       "Frequency    0.322141\n",
       "Period       3.104233\n",
       "Max Cov.     0.011828"
      ]
     },
     "execution_count": 64,
     "metadata": {},
     "output_type": "execute_result"
    },
    {
     "data": {
      "application/javascript": [
       "\n",
       "            setTimeout(function() {\n",
       "                var nbb_cell_id = 64;\n",
       "                var nbb_unformatted_code = \"### Simulation\\nN, amp, omega, phase, offset, noise = 500, 1.0, 2.0, 0.5, 4.0, 3\\n\\ntt = np.linspace(0, 10, N)\\ntt2 = np.linspace(0, 10, 10 * N)\\nyy = amp * np.sin(omega * tt + phase) + offset\\nyynoise = yy + noise * (np.random.random(len(tt)) - 0.5)\\n\\nres = fit_sin(tt, yynoise)\\nres\\n# print( \\\"Amplitude=%(amp)s, Angular freq.=%(omega)s, phase=%(phase)s, offset=%(offset)s, Max. Cov.=%(maxcov)s\\\" % res )\";\n",
       "                var nbb_formatted_code = \"### Simulation\\nN, amp, omega, phase, offset, noise = 500, 1.0, 2.0, 0.5, 4.0, 3\\n\\ntt = np.linspace(0, 10, N)\\ntt2 = np.linspace(0, 10, 10 * N)\\nyy = amp * np.sin(omega * tt + phase) + offset\\nyynoise = yy + noise * (np.random.random(len(tt)) - 0.5)\\n\\nres = fit_sin(tt, yynoise)\\nres\\n# print( \\\"Amplitude=%(amp)s, Angular freq.=%(omega)s, phase=%(phase)s, offset=%(offset)s, Max. Cov.=%(maxcov)s\\\" % res )\";\n",
       "                var nbb_cells = Jupyter.notebook.get_cells();\n",
       "                for (var i = 0; i < nbb_cells.length; ++i) {\n",
       "                    if (nbb_cells[i].input_prompt_number == nbb_cell_id) {\n",
       "                        if (nbb_cells[i].get_text() == nbb_unformatted_code) {\n",
       "                             nbb_cells[i].set_text(nbb_formatted_code);\n",
       "                        }\n",
       "                        break;\n",
       "                    }\n",
       "                }\n",
       "            }, 500);\n",
       "            "
      ],
      "text/plain": [
       "<IPython.core.display.Javascript object>"
      ]
     },
     "metadata": {},
     "output_type": "display_data"
    }
   ],
   "source": [
    "### Simulation\n",
    "N, amp, omega, phase, offset, noise = 500, 1.0, 2.0, 0.5, 4.0, 3\n",
    "\n",
    "tt = np.linspace(0, 10, N)\n",
    "tt2 = np.linspace(0, 10, 10 * N)\n",
    "yy = amp * np.sin(omega * tt + phase) + offset\n",
    "yynoise = yy + noise * (np.random.random(len(tt)) - 0.5)\n",
    "\n",
    "res = fit_sin(tt, yynoise)\n",
    "res\n",
    "# print( \"Amplitude=%(amp)s, Angular freq.=%(omega)s, phase=%(phase)s, offset=%(offset)s, Max. Cov.=%(maxcov)s\" % res )"
   ]
  },
  {
   "cell_type": "markdown",
   "id": "4655e6f1",
   "metadata": {},
   "source": [
    "### Finding $S^2$   <a class=\"anchor\" id=\"s2\"></a>"
   ]
  },
  {
   "cell_type": "code",
   "execution_count": 65,
   "id": "44a64fe4",
   "metadata": {},
   "outputs": [
    {
     "data": {
      "text/plain": [
       "0.8498330398525376"
      ]
     },
     "execution_count": 65,
     "metadata": {},
     "output_type": "execute_result"
    },
    {
     "data": {
      "application/javascript": [
       "\n",
       "            setTimeout(function() {\n",
       "                var nbb_cell_id = 65;\n",
       "                var nbb_unformatted_code = \"#Writing a function that finds statistic s, the standard error of the regression, via a short function. Note: This will not work for anything data sets beyond 2 dimensional.\\n\\ndef find_s(y, yhat):\\n    epsilon = y - yhat\\n    s2 = np.dot(epsilon, epsilon.T) / (yynoise.size - 1)\\n    s = np.sqrt(s2)\\n    return s\\n\\n#Test\\nfind_s(yynoise, yy)\\n\\n#Recall that s is not some proportional value like an R^2, there is no maximum, this simply means that 0.88 is the aeverage distance from the prediction curve and the actual observed value\";\n",
       "                var nbb_formatted_code = \"# Writing a function that finds statistic s, the standard error of the regression, via a short function. Note: This will not work for anything data sets beyond 2 dimensional.\\n\\n\\ndef find_s(y, yhat):\\n    epsilon = y - yhat\\n    s2 = np.dot(epsilon, epsilon.T) / (yynoise.size - 1)\\n    s = np.sqrt(s2)\\n    return s\\n\\n\\n# Test\\nfind_s(yynoise, yy)\\n\\n# Recall that s is not some proportional value like an R^2, there is no maximum, this simply means that 0.88 is the aeverage distance from the prediction curve and the actual observed value\";\n",
       "                var nbb_cells = Jupyter.notebook.get_cells();\n",
       "                for (var i = 0; i < nbb_cells.length; ++i) {\n",
       "                    if (nbb_cells[i].input_prompt_number == nbb_cell_id) {\n",
       "                        if (nbb_cells[i].get_text() == nbb_unformatted_code) {\n",
       "                             nbb_cells[i].set_text(nbb_formatted_code);\n",
       "                        }\n",
       "                        break;\n",
       "                    }\n",
       "                }\n",
       "            }, 500);\n",
       "            "
      ],
      "text/plain": [
       "<IPython.core.display.Javascript object>"
      ]
     },
     "metadata": {},
     "output_type": "display_data"
    }
   ],
   "source": [
    "# Writing a function that finds statistic s, the standard error of the regression, via a short function. Note: This will not work for anything data sets beyond 2 dimensional.\n",
    "\n",
    "\n",
    "def find_s(y, yhat):\n",
    "    epsilon = y - yhat\n",
    "    s2 = np.dot(epsilon, epsilon.T) / (yynoise.size - 1)\n",
    "    s = np.sqrt(s2)\n",
    "    return s\n",
    "\n",
    "\n",
    "# Test\n",
    "find_s(yynoise, yy)\n",
    "\n",
    "# Recall that s is not some proportional value like an R^2, there is no maximum, this simply means that 0.88 is the aeverage distance from the prediction curve and the actual observed value"
   ]
  },
  {
   "cell_type": "markdown",
   "id": "16ad9f0a",
   "metadata": {},
   "source": [
    "### Finding $\\chi^2_{red}$ <a class=\"anchor\" id=\"chi2red\"></a>"
   ]
  },
  {
   "cell_type": "code",
   "execution_count": 66,
   "id": "057ad220",
   "metadata": {},
   "outputs": [
    {
     "data": {
      "text/plain": [
       "0.184370347416138"
      ]
     },
     "execution_count": 66,
     "metadata": {},
     "output_type": "execute_result"
    },
    {
     "data": {
      "application/javascript": [
       "\n",
       "            setTimeout(function() {\n",
       "                var nbb_cell_id = 66;\n",
       "                var nbb_unformatted_code = \"#Function that finds reduced chi squared \\nimport scipy.stats as stats\\n\\ndef find_chi(y, yhat):\\n    obs,exp = y,yhat\\n    chisq, p = stats.chisquare(f_obs=obs, f_exp=exp)\\n    red_chi = chisq / (len(y) - 4) #NOTE: The denominator is the degrees of freedom, 4 becuase 4 params, amp, ang freq, phase, and offset\\n    return red_chi\\n\\n\\nfind_chi(yynoise, yy)\";\n",
       "                var nbb_formatted_code = \"# Function that finds reduced chi squared\\nimport scipy.stats as stats\\n\\n\\ndef find_chi(y, yhat):\\n    obs, exp = y, yhat\\n    chisq, p = stats.chisquare(f_obs=obs, f_exp=exp)\\n    red_chi = chisq / (\\n        len(y) - 4\\n    )  # NOTE: The denominator is the degrees of freedom, 4 becuase 4 params, amp, ang freq, phase, and offset\\n    return red_chi\\n\\n\\nfind_chi(yynoise, yy)\";\n",
       "                var nbb_cells = Jupyter.notebook.get_cells();\n",
       "                for (var i = 0; i < nbb_cells.length; ++i) {\n",
       "                    if (nbb_cells[i].input_prompt_number == nbb_cell_id) {\n",
       "                        if (nbb_cells[i].get_text() == nbb_unformatted_code) {\n",
       "                             nbb_cells[i].set_text(nbb_formatted_code);\n",
       "                        }\n",
       "                        break;\n",
       "                    }\n",
       "                }\n",
       "            }, 500);\n",
       "            "
      ],
      "text/plain": [
       "<IPython.core.display.Javascript object>"
      ]
     },
     "metadata": {},
     "output_type": "display_data"
    }
   ],
   "source": [
    "# Function that finds reduced chi squared\n",
    "import scipy.stats as stats\n",
    "\n",
    "\n",
    "def find_chi(y, yhat):\n",
    "    obs, exp = y, yhat\n",
    "    chisq, p = stats.chisquare(f_obs=obs, f_exp=exp)\n",
    "    red_chi = chisq / (\n",
    "        len(y) - 4\n",
    "    )  # NOTE: The denominator is the degrees of freedom, 4 becuase 4 params, amp, ang freq, phase, and offset\n",
    "    return red_chi\n",
    "\n",
    "\n",
    "find_chi(yynoise, yy)"
   ]
  },
  {
   "cell_type": "markdown",
   "id": "55d218a9",
   "metadata": {},
   "source": [
    "Next approach I would like to try, since I have no idea what the distribution of the residuals would be yet (I will look into doing a QQplot and see if the distribution of residuals is normal), bootstrapping might be the answer.\n",
    "\n",
    "https://www.geeksforgeeks.org/qqplot-quantile-quantile-plot-in-python/\n",
    "\n",
    "https://stats.stackexchange.com/questions/112829/how-do-i-calculate-confidence-intervals-for-a-non-normal-distribution\n",
    "\n",
    "https://support.minitab.com/en-us/minitab/18/help-and-how-to/modeling-statistics/regression/how-to/nonlinear-regression/interpret-the-results/all-statistics-and-graphs/residual-plots/"
   ]
  },
  {
   "cell_type": "markdown",
   "id": "9f4dbc8f",
   "metadata": {},
   "source": [
    "## Plotting in Python using Plotly <a class=\"anchor\" id=\"Plotly\"></a>"
   ]
  },
  {
   "cell_type": "markdown",
   "id": "a6024330",
   "metadata": {},
   "source": [
    "https://plotly.com/python/graphing-multiple-chart-types/\n"
   ]
  },
  {
   "cell_type": "code",
   "execution_count": 69,
   "id": "b55bf2c2",
   "metadata": {},
   "outputs": [
    {
     "data": {
      "application/javascript": [
       "\n",
       "            setTimeout(function() {\n",
       "                var nbb_cell_id = 69;\n",
       "                var nbb_unformatted_code = \"#First, download plotly\\n#!pip install plotly==5.4.0\\n#!pip install cufflinks\\n#!pip install chart_studio\";\n",
       "                var nbb_formatted_code = \"# First, download plotly\\n#!pip install plotly==5.4.0\\n#!pip install cufflinks\\n#!pip install chart_studio\";\n",
       "                var nbb_cells = Jupyter.notebook.get_cells();\n",
       "                for (var i = 0; i < nbb_cells.length; ++i) {\n",
       "                    if (nbb_cells[i].input_prompt_number == nbb_cell_id) {\n",
       "                        if (nbb_cells[i].get_text() == nbb_unformatted_code) {\n",
       "                             nbb_cells[i].set_text(nbb_formatted_code);\n",
       "                        }\n",
       "                        break;\n",
       "                    }\n",
       "                }\n",
       "            }, 500);\n",
       "            "
      ],
      "text/plain": [
       "<IPython.core.display.Javascript object>"
      ]
     },
     "metadata": {},
     "output_type": "display_data"
    }
   ],
   "source": [
    "# First, download plotly\n",
    "#!pip install plotly==5.4.0\n",
    "#!pip install cufflinks\n",
    "#!pip install chart_studio"
   ]
  },
  {
   "cell_type": "code",
   "execution_count": 70,
   "id": "b6abd30b",
   "metadata": {},
   "outputs": [
    {
     "data": {
      "application/javascript": [
       "\n",
       "            setTimeout(function() {\n",
       "                var nbb_cell_id = 70;\n",
       "                var nbb_unformatted_code = \"import plotly.graph_objs as go\\nimport chart_studio.plotly as py\\nfrom plotly.offline import *\\n# fig = go.Figure(data=go.Bar(y=[2, 3, 1]))\\n# fig.show()\";\n",
       "                var nbb_formatted_code = \"import plotly.graph_objs as go\\nimport chart_studio.plotly as py\\nfrom plotly.offline import *\\n\\n# fig = go.Figure(data=go.Bar(y=[2, 3, 1]))\\n# fig.show()\";\n",
       "                var nbb_cells = Jupyter.notebook.get_cells();\n",
       "                for (var i = 0; i < nbb_cells.length; ++i) {\n",
       "                    if (nbb_cells[i].input_prompt_number == nbb_cell_id) {\n",
       "                        if (nbb_cells[i].get_text() == nbb_unformatted_code) {\n",
       "                             nbb_cells[i].set_text(nbb_formatted_code);\n",
       "                        }\n",
       "                        break;\n",
       "                    }\n",
       "                }\n",
       "            }, 500);\n",
       "            "
      ],
      "text/plain": [
       "<IPython.core.display.Javascript object>"
      ]
     },
     "metadata": {},
     "output_type": "display_data"
    }
   ],
   "source": [
    "import plotly.graph_objs as go\n",
    "import chart_studio.plotly as py\n",
    "from plotly.offline import *\n",
    "import plotly.express as px\n",
    "import matplotlib.pyplot as plt\n",
    "from plotly.subplots import make_subplots"
   ]
  },
  {
   "cell_type": "code",
   "execution_count": 71,
   "id": "34254276",
   "metadata": {
    "scrolled": true
   },
   "outputs": [
    {
     "data": {
      "application/vnd.plotly.v1+json": {
       "config": {
        "plotlyServerURL": "https://plot.ly"
       },
       "data": [
        {
         "hovertemplate": "x=%{x}<br>y=%{y}<extra></extra>",
         "legendgroup": "",
         "marker": {
          "color": "#636efa",
          "symbol": "circle"
         },
         "mode": "markers",
         "name": "",
         "orientation": "v",
         "showlegend": false,
         "type": "scatter",
         "x": [
          0,
          0.02004008016032064,
          0.04008016032064128,
          0.06012024048096192,
          0.08016032064128256,
          0.1002004008016032,
          0.12024048096192384,
          0.1402805611222445,
          0.16032064128256512,
          0.18036072144288576,
          0.2004008016032064,
          0.22044088176352705,
          0.24048096192384769,
          0.2605210420841683,
          0.280561122244489,
          0.3006012024048096,
          0.32064128256513025,
          0.3406813627254509,
          0.3607214428857715,
          0.3807615230460922,
          0.4008016032064128,
          0.42084168336673344,
          0.4408817635270541,
          0.4609218436873747,
          0.48096192384769537,
          0.501002004008016,
          0.5210420841683366,
          0.5410821643286573,
          0.561122244488978,
          0.5811623246492986,
          0.6012024048096192,
          0.6212424849699398,
          0.6412825651302605,
          0.6613226452905812,
          0.6813627254509018,
          0.7014028056112224,
          0.721442885771543,
          0.7414829659318637,
          0.7615230460921844,
          0.781563126252505,
          0.8016032064128256,
          0.8216432865731462,
          0.8416833667334669,
          0.8617234468937875,
          0.8817635270541082,
          0.9018036072144289,
          0.9218436873747494,
          0.9418837675350701,
          0.9619238476953907,
          0.9819639278557114,
          1.002004008016032,
          1.0220440881763526,
          1.0420841683366733,
          1.062124248496994,
          1.0821643286573146,
          1.1022044088176353,
          1.122244488977956,
          1.1422845691382766,
          1.1623246492985972,
          1.1823647294589177,
          1.2024048096192383,
          1.222444889779559,
          1.2424849699398797,
          1.2625250501002003,
          1.282565130260521,
          1.3026052104208417,
          1.3226452905811623,
          1.342685370741483,
          1.3627254509018036,
          1.3827655310621243,
          1.4028056112224447,
          1.4228456913827654,
          1.442885771543086,
          1.4629258517034067,
          1.4829659318637274,
          1.503006012024048,
          1.5230460921843687,
          1.5430861723446894,
          1.56312625250501,
          1.5831663326653307,
          1.6032064128256511,
          1.6232464929859718,
          1.6432865731462925,
          1.6633266533066131,
          1.6833667334669338,
          1.7034068136272544,
          1.723446893787575,
          1.7434869739478958,
          1.7635270541082164,
          1.783567134268537,
          1.8036072144288577,
          1.8236472945891782,
          1.8436873747494988,
          1.8637274549098195,
          1.8837675350701402,
          1.9038076152304608,
          1.9238476953907815,
          1.9438877755511021,
          1.9639278557114228,
          1.9839679358717435,
          2.004008016032064,
          2.024048096192385,
          2.0440881763527052,
          2.064128256513026,
          2.0841683366733466,
          2.1042084168336674,
          2.124248496993988,
          2.1442885771543083,
          2.164328657314629,
          2.1843687374749496,
          2.2044088176352705,
          2.224448897795591,
          2.244488977955912,
          2.2645290581162323,
          2.284569138276553,
          2.3046092184368736,
          2.3246492985971945,
          2.344689378757515,
          2.3647294589178354,
          2.3847695390781563,
          2.4048096192384767,
          2.4248496993987976,
          2.444889779559118,
          2.464929859719439,
          2.4849699398797593,
          2.50501002004008,
          2.5250501002004007,
          2.5450901803607215,
          2.565130260521042,
          2.5851703406813624,
          2.6052104208416833,
          2.6252505010020037,
          2.6452905811623246,
          2.665330661322645,
          2.685370741482966,
          2.7054108216432864,
          2.7254509018036073,
          2.7454909819639277,
          2.7655310621242486,
          2.785571142284569,
          2.8056112224448895,
          2.8256513026052104,
          2.845691382765531,
          2.8657314629258517,
          2.885771543086172,
          2.905811623246493,
          2.9258517034068134,
          2.9458917835671343,
          2.9659318637274548,
          2.9859719438877756,
          3.006012024048096,
          3.0260521042084165,
          3.0460921843687374,
          3.066132264529058,
          3.0861723446893787,
          3.106212424849699,
          3.12625250501002,
          3.1462925851703405,
          3.1663326653306614,
          3.186372745490982,
          3.2064128256513023,
          3.226452905811623,
          3.2464929859719436,
          3.2665330661322645,
          3.286573146292585,
          3.306613226452906,
          3.3266533066132262,
          3.346693386773547,
          3.3667334669338675,
          3.3867735470941884,
          3.406813627254509,
          3.4268537074148293,
          3.44689378757515,
          3.4669338677354706,
          3.4869739478957915,
          3.507014028056112,
          3.527054108216433,
          3.5470941883767533,
          3.567134268537074,
          3.5871743486973946,
          3.6072144288577155,
          3.627254509018036,
          3.6472945891783564,
          3.6673346693386772,
          3.6873747494989977,
          3.7074148296593186,
          3.727454909819639,
          3.74749498997996,
          3.7675350701402803,
          3.787575150300601,
          3.8076152304609217,
          3.8276553106212425,
          3.847695390781563,
          3.8677354709418834,
          3.8877755511022043,
          3.9078156312625247,
          3.9278557114228456,
          3.947895791583166,
          3.967935871743487,
          3.9879759519038074,
          4.008016032064128,
          4.028056112224449,
          4.04809619238477,
          4.06813627254509,
          4.0881763527054105,
          4.108216432865731,
          4.128256513026052,
          4.148296593186372,
          4.168336673346693,
          4.188376753507014,
          4.208416833667335,
          4.228456913827655,
          4.248496993987976,
          4.268537074148297,
          4.288577154308617,
          4.3086172344689375,
          4.328657314629258,
          4.348697394789579,
          4.368737474949899,
          4.38877755511022,
          4.408817635270541,
          4.428857715430862,
          4.448897795591182,
          4.468937875751503,
          4.488977955911824,
          4.509018036072144,
          4.529058116232465,
          4.5490981963927855,
          4.569138276553106,
          4.589178356713426,
          4.609218436873747,
          4.629258517034068,
          4.649298597194389,
          4.669338677354709,
          4.68937875751503,
          4.709418837675351,
          4.729458917835671,
          4.749498997995992,
          4.7695390781563125,
          4.789579158316633,
          4.809619238476953,
          4.829659318637274,
          4.849699398797595,
          4.869739478957916,
          4.889779559118236,
          4.909819639278557,
          4.929859719438878,
          4.949899799599198,
          4.969939879759519,
          4.98997995991984,
          5.01002004008016,
          5.03006012024048,
          5.050100200400801,
          5.070140280561122,
          5.090180360721443,
          5.110220440881763,
          5.130260521042084,
          5.150300601202405,
          5.170340681362725,
          5.190380761523046,
          5.210420841683367,
          5.2304609218436875,
          5.2505010020040075,
          5.270541082164328,
          5.290581162324649,
          5.31062124248497,
          5.33066132264529,
          5.350701402805611,
          5.370741482965932,
          5.390781563126252,
          5.410821643286573,
          5.430861723446894,
          5.4509018036072145,
          5.4709418837675345,
          5.490981963927855,
          5.511022044088176,
          5.531062124248497,
          5.551102204408817,
          5.571142284569138,
          5.591182364729459,
          5.611222444889779,
          5.6312625250501,
          5.651302605210421,
          5.671342685370742,
          5.691382765531062,
          5.7114228456913825,
          5.731462925851703,
          5.751503006012024,
          5.771543086172344,
          5.791583166332665,
          5.811623246492986,
          5.831663326653306,
          5.851703406813627,
          5.871743486973948,
          5.891783567134269,
          5.911823647294589,
          5.9318637274549095,
          5.95190380761523,
          5.971943887775551,
          5.991983967935871,
          6.012024048096192,
          6.032064128256513,
          6.052104208416833,
          6.072144288577154,
          6.092184368737475,
          6.112224448897796,
          6.132264529058116,
          6.152304609218437,
          6.1723446893787575,
          6.192384769539078,
          6.212424849699398,
          6.232464929859719,
          6.25250501002004,
          6.27254509018036,
          6.292585170340681,
          6.312625250501002,
          6.332665330661323,
          6.352705410821643,
          6.372745490981964,
          6.3927855711422845,
          6.4128256513026045,
          6.432865731462925,
          6.452905811623246,
          6.472945891783567,
          6.492985971943887,
          6.513026052104208,
          6.533066132264529,
          6.55310621242485,
          6.57314629258517,
          6.593186372745491,
          6.613226452905812,
          6.633266533066132,
          6.6533066132264524,
          6.673346693386773,
          6.693386773547094,
          6.713426853707414,
          6.733466933867735,
          6.753507014028056,
          6.773547094188377,
          6.793587174348697,
          6.813627254509018,
          6.833667334669339,
          6.853707414829659,
          6.8737474949899795,
          6.8937875751503,
          6.913827655310621,
          6.933867735470941,
          6.953907815631262,
          6.973947895791583,
          6.993987975951904,
          7.014028056112224,
          7.034068136272545,
          7.054108216432866,
          7.074148296593186,
          7.0941883767535066,
          7.114228456913827,
          7.134268537074148,
          7.154308617234468,
          7.174348697394789,
          7.19438877755511,
          7.214428857715431,
          7.234468937875751,
          7.254509018036072,
          7.274549098196393,
          7.294589178356713,
          7.314629258517034,
          7.3346693386773545,
          7.354709418837675,
          7.374749498997995,
          7.394789579158316,
          7.414829659318637,
          7.434869739478958,
          7.454909819639278,
          7.474949899799599,
          7.49498997995992,
          7.51503006012024,
          7.535070140280561,
          7.5551102204408815,
          7.575150300601202,
          7.595190380761522,
          7.615230460921843,
          7.635270541082164,
          7.655310621242485,
          7.675350701402805,
          7.695390781563126,
          7.715430861723447,
          7.735470941883767,
          7.755511022044088,
          7.775551102204409,
          7.7955911823647295,
          7.8156312625250495,
          7.83567134268537,
          7.855711422845691,
          7.875751503006012,
          7.895791583166332,
          7.915831663326653,
          7.935871743486974,
          7.955911823647294,
          7.975951903807615,
          7.995991983967936,
          8.016032064128256,
          8.036072144288577,
          8.056112224448897,
          8.076152304609218,
          8.09619238476954,
          8.11623246492986,
          8.13627254509018,
          8.1563126252505,
          8.176352705410821,
          8.196392785571142,
          8.216432865731463,
          8.236472945891784,
          8.256513026052104,
          8.276553106212425,
          8.296593186372744,
          8.316633266533065,
          8.336673346693386,
          8.356713426853707,
          8.376753507014028,
          8.396793587174349,
          8.41683366733467,
          8.436873747494989,
          8.45691382765531,
          8.47695390781563,
          8.496993987975952,
          8.517034068136272,
          8.537074148296593,
          8.557114228456914,
          8.577154308617233,
          8.597194388777554,
          8.617234468937875,
          8.637274549098196,
          8.657314629258517,
          8.677354709418838,
          8.697394789579159,
          8.71743486973948,
          8.737474949899799,
          8.75751503006012,
          8.77755511022044,
          8.797595190380761,
          8.817635270541082,
          8.837675350701403,
          8.857715430861724,
          8.877755511022043,
          8.897795591182364,
          8.917835671342685,
          8.937875751503006,
          8.957915831663327,
          8.977955911823647,
          8.997995991983968,
          9.018036072144287,
          9.038076152304608,
          9.05811623246493,
          9.07815631262525,
          9.098196392785571,
          9.118236472945892,
          9.138276553106213,
          9.158316633266534,
          9.178356713426853,
          9.198396793587174,
          9.218436873747494,
          9.238476953907815,
          9.258517034068136,
          9.278557114228457,
          9.298597194388778,
          9.318637274549097,
          9.338677354709418,
          9.358717434869739,
          9.37875751503006,
          9.39879759519038,
          9.418837675350701,
          9.438877755511022,
          9.458917835671341,
          9.478957915831662,
          9.498997995991983,
          9.519038076152304,
          9.539078156312625,
          9.559118236472946,
          9.579158316633267,
          9.599198396793588,
          9.619238476953907,
          9.639278557114228,
          9.659318637274549,
          9.67935871743487,
          9.69939879759519,
          9.719438877755511,
          9.739478957915832,
          9.759519038076151,
          9.779559118236472,
          9.799599198396793,
          9.819639278557114,
          9.839679358717435,
          9.859719438877756,
          9.879759519038076,
          9.899799599198396,
          9.919839679358716,
          9.939879759519037,
          9.959919839679358,
          9.97995991983968,
          10
         ],
         "xaxis": "x",
         "y": [
          5.562779938314673,
          5.322850855611675,
          4.337413344320843,
          3.144444634380686,
          5.157663254597008,
          5.911310453552393,
          6.103303480429456,
          5.0678487181218275,
          3.463104418735782,
          4.593897746395711,
          5.584510262589737,
          6.282671326619149,
          4.106575195347173,
          4.554098182775406,
          5.344043906989568,
          3.7751413359329553,
          5.484044820687115,
          5.396595014533,
          4.327988197015998,
          5.813656006567264,
          5.4166053413374,
          3.5642866579051753,
          3.7203672598090183,
          3.980783220527427,
          5.161055274676695,
          4.4512073451111185,
          6.316362680607303,
          4.439685334779962,
          5.950111859011474,
          3.831347996856733,
          4.809615732584011,
          4.361927060035808,
          6.338369628354013,
          6.074960814678521,
          5.562456945142771,
          3.526462458207641,
          4.402179341397001,
          6.180016314721659,
          5.523797101311382,
          3.9763017944636667,
          4.4631044986592165,
          4.434631955135954,
          5.063562108512692,
          5.505547544304352,
          3.3463482042348796,
          3.37157727301946,
          5.982723784799592,
          5.514074771372371,
          4.909315501780672,
          4.439261843174135,
          5.923539919207203,
          5.310201451870057,
          5.426237553392014,
          3.1034286930656583,
          5.530751515779189,
          3.151504591047103,
          5.18090665106497,
          4.07977375491057,
          5.37275719813572,
          3.875104041260889,
          2.8696163964832007,
          3.5472481414455213,
          5.4395412561803695,
          2.8293302389332835,
          4.225661642420896,
          3.7798161000743518,
          3.9704818505567685,
          2.979244947626982,
          4.1539545511061355,
          2.754854460369951,
          4.86783992856928,
          3.8664665004789587,
          2.8596478557963128,
          2.5903552271167243,
          2.8943628936649275,
          4.34032551498397,
          2.447548678364271,
          4.541121898759496,
          4.363495197120675,
          2.909926934986853,
          2.0753727322279674,
          3.6786558598464247,
          4.480285221987854,
          3.1725446315616663,
          2.83918218848304,
          2.4989590476671397,
          1.9465710555297664,
          3.8269334494125573,
          2.1831154650543723,
          3.7178209873528165,
          2.8199271220710584,
          3.974170799024821,
          2.8542739641409938,
          1.63102016948235,
          3.0798895769673864,
          1.6254805182939416,
          4.391777541216289,
          2.9757292779534685,
          2.2864297075229056,
          2.2672930670586444,
          2.600862322806165,
          4.127492508137319,
          3.1815792239089866,
          2.142233907133623,
          2.9837053982737856,
          1.6991339139484647,
          4.377960734688747,
          2.6073679136434187,
          3.491205084139172,
          3.9016166033953654,
          4.292010978411655,
          2.824670316528447,
          2.9518874902417513,
          3.5272497668978158,
          2.7281710271393584,
          4.01214970705201,
          2.9526362777836317,
          2.857803680481397,
          3.1627586652368045,
          2.650164486919138,
          1.7959052146575594,
          3.038667675526395,
          2.5106590468295487,
          3.3439597905918657,
          2.7744667135127026,
          2.4757940495839623,
          3.4767906802744015,
          4.289599309711219,
          2.2818912088669103,
          2.1655445610568966,
          2.6903076358520064,
          2.5565571567597964,
          2.2867413092932303,
          4.882406562791707,
          4.263318914014848,
          5.101076383172298,
          2.7497997555223925,
          2.2477102119602654,
          2.888754550820058,
          3.69874784827803,
          2.754745747686184,
          3.605472589331659,
          4.736521802965092,
          3.162093623480649,
          3.4244681600773887,
          2.9885226050951417,
          3.2452421215271157,
          2.7395509288447317,
          4.453966654140041,
          4.54486199749622,
          4.5339263740039195,
          3.145099199477598,
          4.22999979536722,
          2.9027200105622866,
          4.268271384021538,
          4.959193774407633,
          3.969979241561141,
          3.5571417681547297,
          3.510685799989503,
          3.1004510955044005,
          4.052849064416022,
          4.357362117226277,
          5.0022091601934235,
          5.684619663498745,
          5.729869885376189,
          4.171664956699735,
          4.225327996532988,
          5.873904684592402,
          4.737784141724431,
          5.92385858506752,
          4.557649171452067,
          5.441934180420901,
          5.665228229067665,
          5.0071689360155816,
          4.760179913405826,
          5.78267289879555,
          4.0626349535770245,
          3.905088320605403,
          4.410243979903299,
          5.9615725352968285,
          6.170201164700752,
          5.001497888743677,
          5.606654246997091,
          6.41939276862517,
          3.5055518447775755,
          5.618021850683859,
          4.650985862223067,
          6.473852308609816,
          5.312598374674093,
          6.323565820588824,
          5.571770399200092,
          4.781756301114769,
          5.569380001111959,
          5.394684942492461,
          5.950270066327091,
          4.366561175569642,
          5.488860044854578,
          5.733701728691244,
          3.914693812220181,
          5.4377844022020145,
          5.816408871226959,
          4.449866641235869,
          3.9273291709492657,
          3.57093694584199,
          3.833183997675399,
          4.444836042304328,
          5.7734602926246765,
          3.4664526166821523,
          3.7550978478419035,
          3.568839215052192,
          4.565470855872729,
          5.038835595572832,
          5.264185454250042,
          2.915457202913089,
          4.686157173242811,
          4.318423355881418,
          5.7641254298316325,
          4.576317756122587,
          3.353449299377592,
          5.292711205065837,
          4.964332869511235,
          3.01185818441109,
          3.790023039217713,
          4.290756229425373,
          3.630304976698017,
          4.256850116935797,
          4.081178000562622,
          3.921493478873491,
          4.137162975337412,
          3.988153473510317,
          3.4093227487944944,
          2.3072601738851124,
          3.4001851134894525,
          4.0264032767698765,
          4.229610136750139,
          3.1875755065254023,
          3.035115650459685,
          3.746305312532383,
          3.883231493856562,
          4.098701600741675,
          4.660590881660925,
          4.2565575209824225,
          2.009178991495335,
          1.8618320802565465,
          2.0975365009186495,
          2.8015390089883243,
          3.9392059260305303,
          3.540560354131195,
          3.068632684074779,
          3.1140332688315095,
          4.1931887472357054,
          2.7812660567009875,
          3.520768403779905,
          1.706944190542262,
          3.140681302363081,
          2.752298204579853,
          2.71964632517595,
          2.6885094392496494,
          3.2798500692990418,
          4.3715578425355,
          4.036105727941321,
          4.264164080198082,
          2.883074441477943,
          4.45046125241844,
          3.196772579774242,
          2.8252877784018837,
          3.765104732424137,
          4.008297118383682,
          4.4229329636641594,
          2.5442527367491765,
          2.964613623243373,
          3.308969244353478,
          1.7410397168297025,
          2.6480113141188073,
          4.0663600058055955,
          2.7025244391736356,
          3.803311003243177,
          4.673668335056933,
          3.9563233049570274,
          2.6045788480419287,
          4.327719139343248,
          3.4118396680399807,
          2.2926698104315326,
          4.635699984599733,
          4.024609779916014,
          2.090724237383126,
          4.171985410956407,
          2.6410731641914795,
          2.3124453349200094,
          3.353739642635478,
          3.955201931334526,
          3.071395668857514,
          4.072515437130687,
          4.757644206498437,
          2.8022792544825683,
          5.019890157808981,
          4.916612905325502,
          3.512251649340566,
          3.5126388905457397,
          3.5760906860985253,
          3.5467808461004857,
          4.630840893936876,
          3.845669651633191,
          4.0827902001002325,
          4.776584002148745,
          5.353334433624975,
          5.138002129960228,
          4.934552677438833,
          3.6652529255824113,
          3.0914677154108285,
          5.0500522857088574,
          3.2777317043781378,
          5.644618620643407,
          4.993808215904098,
          3.3315015334125446,
          4.349606873024595,
          3.35764869773985,
          3.74003770383604,
          4.253125564952797,
          5.773762999713493,
          6.1092945560178995,
          5.5783037462066725,
          3.4672478889138385,
          3.8773543873921925,
          6.013347397960918,
          4.257702831588917,
          6.133928275838122,
          3.881302706302699,
          5.270315387243396,
          5.618290413596327,
          4.77859131267883,
          3.621079847181047,
          5.79065795281091,
          4.280462109106662,
          5.983884160891886,
          6.164063568639929,
          4.45086826422718,
          5.971048094683283,
          5.68166893360533,
          6.4824281276173235,
          4.990429626674903,
          5.759997770098946,
          3.6394655605549238,
          4.182065671517924,
          5.234386603639793,
          5.665433046894177,
          4.562872198727701,
          5.281367076626271,
          5.886583241438945,
          6.382307488859999,
          4.513624689091794,
          5.495813652233541,
          5.486315167108013,
          4.312414186761381,
          5.4794933867658004,
          4.206784766721937,
          4.6400563654366564,
          4.869512191439199,
          5.767583357565307,
          5.513159221917638,
          4.412090770727308,
          3.4208992684946056,
          3.4573002424653603,
          5.381893608739628,
          4.258485630197194,
          3.890863146300668,
          5.657512237965035,
          5.9300637264772345,
          3.97403411069763,
          4.5899735338684655,
          3.863495655036004,
          4.281143335057548,
          4.258971179777212,
          3.5099964091245437,
          4.560777034339234,
          3.0502915670064925,
          4.782946958369352,
          3.679253994200579,
          3.018011800774271,
          2.6824896090543695,
          2.5715841284506764,
          3.7158782185416888,
          3.8076673142161566,
          4.749806280781263,
          4.780222109798745,
          2.6982454348807767,
          4.054630994448748,
          3.1433483735448786,
          4.037612259689408,
          4.846271793408246,
          3.78792382033679,
          4.409028514409785,
          2.1090021465098068,
          3.7110939154151605,
          4.273068216992636,
          2.7131705624540983,
          3.9586398721192655,
          4.00359725261227,
          2.5639192911710778,
          2.7378516699202393,
          4.739362982046986,
          1.882630357991553,
          3.252381138428062,
          2.078354691595403,
          3.0813106300644137,
          2.2599418589624998,
          3.1664814045381884,
          2.8465621410247257,
          3.535419752506937,
          3.5585084689944866,
          1.7255074668428834,
          3.473989279614547,
          3.4578399265167383,
          3.1289063242698125,
          2.2435239727657317,
          2.4196210254430106,
          3.5420751860152953,
          4.212556796649013,
          2.1125369767594466,
          2.281056091483707,
          2.7668769823656376,
          4.207498471506451,
          3.3213618949841406,
          4.14326442009164,
          1.5253120586678242,
          4.1381651903668555,
          2.1235129093368332,
          2.220125602854099,
          3.286212963799409,
          3.599549334517392,
          3.522175048389767,
          4.035843214279482,
          4.008526797968974,
          2.68673673092042,
          4.683052457989538,
          3.6422420214180926,
          1.8797678094243033,
          1.8239075411974643,
          3.9669611055931737,
          4.623591652011463,
          4.405191539835352,
          4.534009706913605,
          3.126762209985399,
          3.968626054187568,
          3.106064374011626,
          4.871650942886518,
          3.998656167530198,
          2.4920509776275144,
          2.4969595908714077,
          4.404213015586796,
          2.722136540249733,
          4.4253878107612765,
          4.344524365318304,
          3.709012415420147,
          4.620687123611959,
          3.108981359824298,
          5.387319999779824,
          4.369643183939137,
          3.0250582340185828,
          5.27561008454237,
          3.60985114242283,
          4.593002038288415,
          4.61726576088946,
          4.64352388180246,
          2.7656076895784136,
          4.916076557126437,
          4.6066935306626196,
          5.664029674686621,
          4.8500558420815345,
          4.200347087925284,
          4.740337281977623,
          4.672240501707451,
          3.6392336885283894,
          5.4238125103799035,
          5.907471720132612,
          4.200368753581717,
          5.623373065436675,
          5.891227648764753,
          3.3068615532754104,
          4.6333636952114,
          4.393648027679429,
          4.499771806413076,
          5.1509787190162,
          5.137654166796145,
          4.619522072834984,
          3.6655486201729546,
          3.909331474479541,
          6.391607666312318,
          4.998550490367764,
          4.939521775765476,
          5.499295578007507,
          4.551795080806804,
          4.200455597943508,
          6.457010741094589,
          5.814694187450705,
          5.031856721014145,
          4.3442153415518465,
          4.269470806660029,
          3.827832421949965,
          4.068825849788982
         ],
         "yaxis": "y"
        },
        {
         "name": "Sinusoidal Prediction",
         "type": "scatter",
         "x": [
          0,
          0.02004008016032064,
          0.04008016032064128,
          0.06012024048096192,
          0.08016032064128256,
          0.1002004008016032,
          0.12024048096192384,
          0.1402805611222445,
          0.16032064128256512,
          0.18036072144288576,
          0.2004008016032064,
          0.22044088176352705,
          0.24048096192384769,
          0.2605210420841683,
          0.280561122244489,
          0.3006012024048096,
          0.32064128256513025,
          0.3406813627254509,
          0.3607214428857715,
          0.3807615230460922,
          0.4008016032064128,
          0.42084168336673344,
          0.4408817635270541,
          0.4609218436873747,
          0.48096192384769537,
          0.501002004008016,
          0.5210420841683366,
          0.5410821643286573,
          0.561122244488978,
          0.5811623246492986,
          0.6012024048096192,
          0.6212424849699398,
          0.6412825651302605,
          0.6613226452905812,
          0.6813627254509018,
          0.7014028056112224,
          0.721442885771543,
          0.7414829659318637,
          0.7615230460921844,
          0.781563126252505,
          0.8016032064128256,
          0.8216432865731462,
          0.8416833667334669,
          0.8617234468937875,
          0.8817635270541082,
          0.9018036072144289,
          0.9218436873747494,
          0.9418837675350701,
          0.9619238476953907,
          0.9819639278557114,
          1.002004008016032,
          1.0220440881763526,
          1.0420841683366733,
          1.062124248496994,
          1.0821643286573146,
          1.1022044088176353,
          1.122244488977956,
          1.1422845691382766,
          1.1623246492985972,
          1.1823647294589177,
          1.2024048096192383,
          1.222444889779559,
          1.2424849699398797,
          1.2625250501002003,
          1.282565130260521,
          1.3026052104208417,
          1.3226452905811623,
          1.342685370741483,
          1.3627254509018036,
          1.3827655310621243,
          1.4028056112224447,
          1.4228456913827654,
          1.442885771543086,
          1.4629258517034067,
          1.4829659318637274,
          1.503006012024048,
          1.5230460921843687,
          1.5430861723446894,
          1.56312625250501,
          1.5831663326653307,
          1.6032064128256511,
          1.6232464929859718,
          1.6432865731462925,
          1.6633266533066131,
          1.6833667334669338,
          1.7034068136272544,
          1.723446893787575,
          1.7434869739478958,
          1.7635270541082164,
          1.783567134268537,
          1.8036072144288577,
          1.8236472945891782,
          1.8436873747494988,
          1.8637274549098195,
          1.8837675350701402,
          1.9038076152304608,
          1.9238476953907815,
          1.9438877755511021,
          1.9639278557114228,
          1.9839679358717435,
          2.004008016032064,
          2.024048096192385,
          2.0440881763527052,
          2.064128256513026,
          2.0841683366733466,
          2.1042084168336674,
          2.124248496993988,
          2.1442885771543083,
          2.164328657314629,
          2.1843687374749496,
          2.2044088176352705,
          2.224448897795591,
          2.244488977955912,
          2.2645290581162323,
          2.284569138276553,
          2.3046092184368736,
          2.3246492985971945,
          2.344689378757515,
          2.3647294589178354,
          2.3847695390781563,
          2.4048096192384767,
          2.4248496993987976,
          2.444889779559118,
          2.464929859719439,
          2.4849699398797593,
          2.50501002004008,
          2.5250501002004007,
          2.5450901803607215,
          2.565130260521042,
          2.5851703406813624,
          2.6052104208416833,
          2.6252505010020037,
          2.6452905811623246,
          2.665330661322645,
          2.685370741482966,
          2.7054108216432864,
          2.7254509018036073,
          2.7454909819639277,
          2.7655310621242486,
          2.785571142284569,
          2.8056112224448895,
          2.8256513026052104,
          2.845691382765531,
          2.8657314629258517,
          2.885771543086172,
          2.905811623246493,
          2.9258517034068134,
          2.9458917835671343,
          2.9659318637274548,
          2.9859719438877756,
          3.006012024048096,
          3.0260521042084165,
          3.0460921843687374,
          3.066132264529058,
          3.0861723446893787,
          3.106212424849699,
          3.12625250501002,
          3.1462925851703405,
          3.1663326653306614,
          3.186372745490982,
          3.2064128256513023,
          3.226452905811623,
          3.2464929859719436,
          3.2665330661322645,
          3.286573146292585,
          3.306613226452906,
          3.3266533066132262,
          3.346693386773547,
          3.3667334669338675,
          3.3867735470941884,
          3.406813627254509,
          3.4268537074148293,
          3.44689378757515,
          3.4669338677354706,
          3.4869739478957915,
          3.507014028056112,
          3.527054108216433,
          3.5470941883767533,
          3.567134268537074,
          3.5871743486973946,
          3.6072144288577155,
          3.627254509018036,
          3.6472945891783564,
          3.6673346693386772,
          3.6873747494989977,
          3.7074148296593186,
          3.727454909819639,
          3.74749498997996,
          3.7675350701402803,
          3.787575150300601,
          3.8076152304609217,
          3.8276553106212425,
          3.847695390781563,
          3.8677354709418834,
          3.8877755511022043,
          3.9078156312625247,
          3.9278557114228456,
          3.947895791583166,
          3.967935871743487,
          3.9879759519038074,
          4.008016032064128,
          4.028056112224449,
          4.04809619238477,
          4.06813627254509,
          4.0881763527054105,
          4.108216432865731,
          4.128256513026052,
          4.148296593186372,
          4.168336673346693,
          4.188376753507014,
          4.208416833667335,
          4.228456913827655,
          4.248496993987976,
          4.268537074148297,
          4.288577154308617,
          4.3086172344689375,
          4.328657314629258,
          4.348697394789579,
          4.368737474949899,
          4.38877755511022,
          4.408817635270541,
          4.428857715430862,
          4.448897795591182,
          4.468937875751503,
          4.488977955911824,
          4.509018036072144,
          4.529058116232465,
          4.5490981963927855,
          4.569138276553106,
          4.589178356713426,
          4.609218436873747,
          4.629258517034068,
          4.649298597194389,
          4.669338677354709,
          4.68937875751503,
          4.709418837675351,
          4.729458917835671,
          4.749498997995992,
          4.7695390781563125,
          4.789579158316633,
          4.809619238476953,
          4.829659318637274,
          4.849699398797595,
          4.869739478957916,
          4.889779559118236,
          4.909819639278557,
          4.929859719438878,
          4.949899799599198,
          4.969939879759519,
          4.98997995991984,
          5.01002004008016,
          5.03006012024048,
          5.050100200400801,
          5.070140280561122,
          5.090180360721443,
          5.110220440881763,
          5.130260521042084,
          5.150300601202405,
          5.170340681362725,
          5.190380761523046,
          5.210420841683367,
          5.2304609218436875,
          5.2505010020040075,
          5.270541082164328,
          5.290581162324649,
          5.31062124248497,
          5.33066132264529,
          5.350701402805611,
          5.370741482965932,
          5.390781563126252,
          5.410821643286573,
          5.430861723446894,
          5.4509018036072145,
          5.4709418837675345,
          5.490981963927855,
          5.511022044088176,
          5.531062124248497,
          5.551102204408817,
          5.571142284569138,
          5.591182364729459,
          5.611222444889779,
          5.6312625250501,
          5.651302605210421,
          5.671342685370742,
          5.691382765531062,
          5.7114228456913825,
          5.731462925851703,
          5.751503006012024,
          5.771543086172344,
          5.791583166332665,
          5.811623246492986,
          5.831663326653306,
          5.851703406813627,
          5.871743486973948,
          5.891783567134269,
          5.911823647294589,
          5.9318637274549095,
          5.95190380761523,
          5.971943887775551,
          5.991983967935871,
          6.012024048096192,
          6.032064128256513,
          6.052104208416833,
          6.072144288577154,
          6.092184368737475,
          6.112224448897796,
          6.132264529058116,
          6.152304609218437,
          6.1723446893787575,
          6.192384769539078,
          6.212424849699398,
          6.232464929859719,
          6.25250501002004,
          6.27254509018036,
          6.292585170340681,
          6.312625250501002,
          6.332665330661323,
          6.352705410821643,
          6.372745490981964,
          6.3927855711422845,
          6.4128256513026045,
          6.432865731462925,
          6.452905811623246,
          6.472945891783567,
          6.492985971943887,
          6.513026052104208,
          6.533066132264529,
          6.55310621242485,
          6.57314629258517,
          6.593186372745491,
          6.613226452905812,
          6.633266533066132,
          6.6533066132264524,
          6.673346693386773,
          6.693386773547094,
          6.713426853707414,
          6.733466933867735,
          6.753507014028056,
          6.773547094188377,
          6.793587174348697,
          6.813627254509018,
          6.833667334669339,
          6.853707414829659,
          6.8737474949899795,
          6.8937875751503,
          6.913827655310621,
          6.933867735470941,
          6.953907815631262,
          6.973947895791583,
          6.993987975951904,
          7.014028056112224,
          7.034068136272545,
          7.054108216432866,
          7.074148296593186,
          7.0941883767535066,
          7.114228456913827,
          7.134268537074148,
          7.154308617234468,
          7.174348697394789,
          7.19438877755511,
          7.214428857715431,
          7.234468937875751,
          7.254509018036072,
          7.274549098196393,
          7.294589178356713,
          7.314629258517034,
          7.3346693386773545,
          7.354709418837675,
          7.374749498997995,
          7.394789579158316,
          7.414829659318637,
          7.434869739478958,
          7.454909819639278,
          7.474949899799599,
          7.49498997995992,
          7.51503006012024,
          7.535070140280561,
          7.5551102204408815,
          7.575150300601202,
          7.595190380761522,
          7.615230460921843,
          7.635270541082164,
          7.655310621242485,
          7.675350701402805,
          7.695390781563126,
          7.715430861723447,
          7.735470941883767,
          7.755511022044088,
          7.775551102204409,
          7.7955911823647295,
          7.8156312625250495,
          7.83567134268537,
          7.855711422845691,
          7.875751503006012,
          7.895791583166332,
          7.915831663326653,
          7.935871743486974,
          7.955911823647294,
          7.975951903807615,
          7.995991983967936,
          8.016032064128256,
          8.036072144288577,
          8.056112224448897,
          8.076152304609218,
          8.09619238476954,
          8.11623246492986,
          8.13627254509018,
          8.1563126252505,
          8.176352705410821,
          8.196392785571142,
          8.216432865731463,
          8.236472945891784,
          8.256513026052104,
          8.276553106212425,
          8.296593186372744,
          8.316633266533065,
          8.336673346693386,
          8.356713426853707,
          8.376753507014028,
          8.396793587174349,
          8.41683366733467,
          8.436873747494989,
          8.45691382765531,
          8.47695390781563,
          8.496993987975952,
          8.517034068136272,
          8.537074148296593,
          8.557114228456914,
          8.577154308617233,
          8.597194388777554,
          8.617234468937875,
          8.637274549098196,
          8.657314629258517,
          8.677354709418838,
          8.697394789579159,
          8.71743486973948,
          8.737474949899799,
          8.75751503006012,
          8.77755511022044,
          8.797595190380761,
          8.817635270541082,
          8.837675350701403,
          8.857715430861724,
          8.877755511022043,
          8.897795591182364,
          8.917835671342685,
          8.937875751503006,
          8.957915831663327,
          8.977955911823647,
          8.997995991983968,
          9.018036072144287,
          9.038076152304608,
          9.05811623246493,
          9.07815631262525,
          9.098196392785571,
          9.118236472945892,
          9.138276553106213,
          9.158316633266534,
          9.178356713426853,
          9.198396793587174,
          9.218436873747494,
          9.238476953907815,
          9.258517034068136,
          9.278557114228457,
          9.298597194388778,
          9.318637274549097,
          9.338677354709418,
          9.358717434869739,
          9.37875751503006,
          9.39879759519038,
          9.418837675350701,
          9.438877755511022,
          9.458917835671341,
          9.478957915831662,
          9.498997995991983,
          9.519038076152304,
          9.539078156312625,
          9.559118236472946,
          9.579158316633267,
          9.599198396793588,
          9.619238476953907,
          9.639278557114228,
          9.659318637274549,
          9.67935871743487,
          9.69939879759519,
          9.719438877755511,
          9.739478957915832,
          9.759519038076151,
          9.779559118236472,
          9.799599198396793,
          9.819639278557114,
          9.839679358717435,
          9.859719438877756,
          9.879759519038076,
          9.899799599198396,
          9.919839679358716,
          9.939879759519037,
          9.959919839679358,
          9.97995991983968,
          10
         ],
         "y": [
          4.479425538604203,
          4.514204744204118,
          4.548158031976893,
          4.5812308660086165,
          4.6133701245738905,
          4.644524185460163,
          4.674643008883547,
          4.70367821786293,
          4.731583175923288,
          4.758313062003385,
          4.783824942447552,
          4.808077839965905,
          4.831032799452242,
          4.852652950553898,
          4.872903566893059,
          4.89175212184442,
          4.909168340779585,
          4.925124249694305,
          4.939594220140437,
          4.95255501039047,
          4.963985802768485,
          4.973868237087591,
          4.982186440140137,
          4.988927051193327,
          4.994079243449278,
          4.9976347414350775,
          4.999587834294875,
          4.999935384962691,
          4.9986768352011755,
          4.9958142064982605,
          4.991352096820233,
          4.9852976732264604,
          4.977660660357637,
          4.968453324816014,
          4.957690455462744,
          4.9453893396639375,
          4.931569735523631,
          4.916253840148236,
          4.899466253993448,
          4.881233941350896,
          4.861586187037985,
          4.8405545493604905,
          4.818172809423485,
          4.794476916871979,
          4.769504932148447,
          4.743296965359993,
          4.715895111853319,
          4.687343384601007,
          4.657687643507694,
          4.626975521749703,
          4.595256349266429,
          4.562581073526389,
          4.52900217769518,
          4.494573596336795,
          4.459350628783705,
          4.423389850314832,
          4.3867490212841025,
          4.3494869943455186,
          4.311663619923783,
          4.273339650082289,
          4.234576640942905,
          4.195436853814266,
          4.155983155187408,
          4.116278915759331,
          4.07638790864673,
          4.03637420695334,
          3.9963020808554517,
          3.9562358943708773,
          3.916240001977198,
          3.876378645245331,
          3.836715849654446,
          3.7973153217539695,
          3.758240346837861,
          3.7195536872955035,
          3.68131748180249,
          3.643593145513221,
          3.606441271415626,
          3.5699215330064478,
          3.534092588443424,
          3.4990119863283047,
          3.464736073272047,
          3.4313199033906487,
          3.398817149876999,
          3.3672800187907677,
          3.3367591652048105,
          3.3073036118427814,
          3.278960670338624,
          3.2517758652444266,
          3.225792860908697,
          3.201053391342498,
          3.177597193186106,
          3.1554619418838508,
          3.134683191169657,
          3.115294315960491,
          3.0973264587494227,
          3.0808084795844257,
          3.065766909713247,
          3.052225908968803,
          3.0402072269635543,
          3.0297301681551883,
          3.0208115608397157,
          3.0134657301217924,
          3.0077044749056747,
          3.0035370489437705,
          3.0009701459732225,
          3.0000078889643995,
          3.000651823498564,
          3.002900915285354,
          3.0067515518240633,
          3.0121975482060552,
          3.019230157048991,
          3.0278380825469084,
          3.038007498613598,
          3.049722071090115,
          3.062962983980781,
          3.077708969675509,
          3.0939363431099336,
          3.111619039808456,
          3.1307286577491205,
          3.151234502983058,
          3.1731036389352356,
          3.1963009393073247,
          3.2207891444977075,
          3.2465289214480078,
          3.2734789268200126,
          3.30159587340152,
          3.3308345996344366,
          3.3611481421534686,
          3.3924878112188708,
          3.4248032689221173,
          3.458042610038859,
          3.4921524453993134,
          3.527077987642178,
          3.5627631392143146,
          3.5991505824748824,
          3.6361818717591685,
          3.6737975272542656,
          3.711937130535793,
          3.7505394216122316,
          3.7895423973209708,
          3.82888341091806,
          3.8684992727016656,
          3.908326351507637,
          3.948300676914156,
          3.98835804199129,
          4.02843410643044,
          4.068464499888012,
          4.1083849253773375,
          4.148131262542756,
          4.187639670650013,
          4.226846691127506,
          4.265689349493716,
          4.304105256507081,
          4.342032708375861,
          4.379410785867028,
          4.416179452154993,
          4.452279649253012,
          4.48765339287237,
          4.522243865556991,
          4.555995507943873,
          4.588854108002778,
          4.620766888111817,
          4.651682589829085,
          4.681551556224202,
          4.710325811637464,
          4.7379591387385664,
          4.764407152761063,
          4.7896273727933725,
          4.813579290011794,
          4.836224432745951,
          4.857526428272151,
          4.877451061235407,
          4.895966328606287,
          4.91304249108431,
          4.928652120865341,
          4.942770145696242,
          4.955373889146032,
          4.966443107028867,
          4.975960019920334,
          4.983909341714841,
          4.99027830417822,
          4.995056677456123,
          4.998236786505252,
          4.999813523421052,
          4.999784355642043,
          4.998149330017635,
          4.994911072732876,
          4.990074785090264,
          4.983648235155393,
          4.975641745279849,
          4.966068175521413,
          4.9549429029881775,
          4.94228379713977,
          4.928111191085353,
          4.912447848924498,
          4.895318929183395,
          4.8767519444051155,
          4.856776716958858,
          4.8354253311391275,
          4.812732081631809,
          4.788733418429898,
          4.763467888287364,
          4.736976072805198,
          4.709300523249073,
          4.680485692203317,
          4.650577862170989,
          4.6196250712347275,
          4.587677035897779,
          4.554785071229138,
          4.521002008441071,
          4.4863821100314,
          4.45098098262685,
          4.414855487667444,
          4.378063650075433,
          4.340664565055406,
          4.302718303175332,
          4.26428581388096,
          4.2254288275985585,
          4.18620975658325,
          4.146691594672178,
          4.106937816103543,
          4.067012273564019,
          4.026979095628288,
          3.986902583755461,
          3.946847109007802,
          3.906877008657657,
          3.8670564828486507,
          3.827449491477153,
          3.7881196514596205,
          3.749130134550837,
          3.7105435658771717,
          3.6724219233478435,
          3.634826438105738,
          3.597817496177691,
          3.5614545414821897,
          3.5257959803503107,
          3.4908990877132218,
          3.4568199151069376,
          3.4236132006421194,
          3.3913322810834825,
          3.3600290061800644,
          3.329753655383932,
          3.300554857091126,
          3.2724795105345144,
          3.2455727104540553,
          3.219877674665428,
          3.195435674643404,
          3.1722859692314245,
          3.1504657415838797,
          3.130010039442374,
          3.1109517188418945,
          3.0933213913373057,
          3.0771473748349436,
          3.0624556481082776,
          3.0492698090706902,
          3.0376110368724127,
          3.0274980578824833,
          3.018947115610374,
          3.011971944615599,
          3.0065837484472047,
          3.0027911816485844,
          3.0006003358565128,
          3.0000147300167344,
          3.0010353047318166,
          3.0036604207503514,
          3.0078858615999264,
          3.013704840359642,
          3.021108010561292,
          3.0300834812016992,
          3.040616835842095,
          3.052691155763867,
          3.066287047143472,
          3.0813826722028788,
          3.097953784285499,
          3.115973766801272,
          3.1354136759783393,
          3.156242287352655,
          3.1784261459208523,
          3.2019296198758105,
          3.2267149578386127,
          3.2527423494949703,
          3.2799699895387193,
          3.3083541448196767,
          3.3378492245880107,
          3.368407853722296,
          3.3999809488236377,
          3.4325177970536243,
          3.4659661375895094,
          3.500272245565763,
          3.535381018367181,
          3.5712360641349306,
          3.607779792343394,
          3.644953506302321,
          3.682697497435689,
          3.720951141185876,
          3.7596529943890777,
          3.7987408939655816,
          3.8381520567663596,
          3.877823180415631,
          3.917690544987404,
          3.957690115352695,
          3.997757644033012,
          4.037828774394931,
          4.077839144019998,
          4.117724488083904,
          4.1574207425789265,
          4.196864147213803,
          4.235991347825785,
          4.274739498140359,
          4.31304636071519,
          4.350850406906176,
          4.3880909156950105,
          4.424708071219533,
          4.460643058850225,
          4.495838159658516,
          4.530236843125165,
          4.563783857939822,
          4.596425320745914,
          4.628108802688325,
          4.658783413624834,
          4.688399883866083,
          4.71691064331276,
          4.744269897862889,
          4.770433702966512,
          4.79536003420961,
          4.8190088548138945,
          4.841342179944048,
          4.862324137719128,
          4.88192102683013,
          4.90010137067118,
          4.916835967897383,
          4.93209793932815,
          4.94586277112065,
          4.95810835414405,
          4.968815019491291,
          4.977965570071371,
          4.985545308231385,
          4.99154205936396,
          4.995946191462153,
          4.998750630590426,
          4.999950872246836,
          4.999544988598173,
          4.9975336315764665,
          4.9939200318318395,
          4.988709993543432,
          4.9819118850966975,
          4.973536625642074,
          4.963597667556593,
          4.952110974836615,
          4.939094997456397,
          4.92457064173366,
          4.908561236749774,
          4.8910924968784935,
          4.8721924804834185,
          4.851891544850529,
          4.830222297428196,
          4.807219543452948,
          4.782920230045161,
          4.757363386864433,
          4.730590063419985,
          4.702643263136764,
          4.673567874283162,
          4.643410597871283,
          4.6122198726455945,
          4.580045797280401,
          4.546940049911141,
          4.512955805128758,
          4.47814764857044,
          4.442571489243943,
          4.406284469726303,
          4.369344874381194,
          4.331812035742332,
          4.293746239213316,
          4.2552086262369455,
          4.216261096089594,
          4.176966206458322,
          4.13738707296045,
          4.097587267767001,
          4.057630717492806,
          4.017581600517303,
          3.977504243900955,
          3.937463020062856,
          3.89752224338548,
          3.8577460669126498,
          3.81819837930664,
          3.77894270222995,
          3.740042088316536,
          3.701559019896401,
          3.663555308636221,
          3.62609199625718,
          3.5892292564895056,
          3.5530262984211554,
          3.5175412713959515,
          3.4828311716138454,
          3.4489517505833853,
          3.4159574255734078,
          3.38390119220779,
          3.352834539343659,
          3.3228073663697675,
          3.2938679030578895,
          3.2660626320959576,
          3.239436214427365,
          3.2140314175163844,
          3.1898890466548777,
          3.167047879420665,
          3.1455446033928163,
          3.1254137572239107,
          3.106687675163897,
          3.0893964351247005,
          3.0735678103689406,
          3.059227224900407,
          3.0463977126279143,
          3.0350998803681413,
          3.0253518747468764,
          3.0171693530518295,
          3.0105654580838292,
          3.0055507970468045,
          3.0021334245104465,
          3.000318829472925,
          3.0001099265444355,
          3.0015070512657434,
          3.004507959569232,
          3.009107831383339,
          3.0152992783745707,
          3.0230723558146773,
          3.032414578553917,
          3.043310941074755,
          3.05574394159379,
          3.069693610173192,
          3.085137540796502,
          3.102050927357267,
          3.1204066035027163,
          3.140175086268468,
          3.161324623434195,
          3.183821244524171,
          3.2076288153707946,
          3.2327090961534384,
          3.259021802819418,
          3.2865246717883947,
          3.3151735278363272,
          3.3449223550498965,
          3.3757233707374628,
          3.407527102177824,
          3.4402824660835085,
          3.4739368506509765,
          3.508436200065904,
          3.543725101327871,
          3.5797468732549538,
          3.6164436575252763,
          3.6537565116092945,
          3.691625503443528,
          3.7299898076937086,
          3.768787803452669,
          3.8079571732161157,
          3.847435002977264,
          3.8871578832795817,
          3.927062011065323,
          3.967083292156272,
          4.007157444202076,
          4.047220099930843,
          4.0872069105361035,
          4.127053649034146,
          4.16669631342567,
          4.206071229496066,
          4.2451151530892055,
          4.283765371690466,
          4.321959805155855,
          4.359637105425376,
          4.3967367550605525,
          4.433199164447792,
          4.468965767511476,
          4.5039791157830305,
          4.538182970674906,
          4.571522393811234,
          4.603943835270069,
          4.635395219595509,
          4.665826029441503,
          4.695187386713034,
          4.723432131074315,
          4.750514895697922,
          4.77639218013318,
          4.80102242017678,
          4.824366054633362,
          4.846385588858887,
          4.867045654984684,
          4.886313068725475,
          4.9041568826801125,
          4.920548436039421,
          4.935461400621319,
          4.948871823159248,
          4.96075816377601,
          4.971101330581216,
          4.979884710336753,
          4.987094195141043,
          4.99271820508921,
          4.996747706872775,
          4.9991762282889916,
          4.999999868636526,
          4.999217304980781,
          4.996829794278799
         ]
        }
       ],
       "layout": {
        "legend": {
         "tracegroupgap": 0
        },
        "margin": {
         "t": 60
        },
        "template": {
         "data": {
          "bar": [
           {
            "error_x": {
             "color": "#2a3f5f"
            },
            "error_y": {
             "color": "#2a3f5f"
            },
            "marker": {
             "line": {
              "color": "#E5ECF6",
              "width": 0.5
             },
             "pattern": {
              "fillmode": "overlay",
              "size": 10,
              "solidity": 0.2
             }
            },
            "type": "bar"
           }
          ],
          "barpolar": [
           {
            "marker": {
             "line": {
              "color": "#E5ECF6",
              "width": 0.5
             },
             "pattern": {
              "fillmode": "overlay",
              "size": 10,
              "solidity": 0.2
             }
            },
            "type": "barpolar"
           }
          ],
          "carpet": [
           {
            "aaxis": {
             "endlinecolor": "#2a3f5f",
             "gridcolor": "white",
             "linecolor": "white",
             "minorgridcolor": "white",
             "startlinecolor": "#2a3f5f"
            },
            "baxis": {
             "endlinecolor": "#2a3f5f",
             "gridcolor": "white",
             "linecolor": "white",
             "minorgridcolor": "white",
             "startlinecolor": "#2a3f5f"
            },
            "type": "carpet"
           }
          ],
          "choropleth": [
           {
            "colorbar": {
             "outlinewidth": 0,
             "ticks": ""
            },
            "type": "choropleth"
           }
          ],
          "contour": [
           {
            "colorbar": {
             "outlinewidth": 0,
             "ticks": ""
            },
            "colorscale": [
             [
              0,
              "#0d0887"
             ],
             [
              0.1111111111111111,
              "#46039f"
             ],
             [
              0.2222222222222222,
              "#7201a8"
             ],
             [
              0.3333333333333333,
              "#9c179e"
             ],
             [
              0.4444444444444444,
              "#bd3786"
             ],
             [
              0.5555555555555556,
              "#d8576b"
             ],
             [
              0.6666666666666666,
              "#ed7953"
             ],
             [
              0.7777777777777778,
              "#fb9f3a"
             ],
             [
              0.8888888888888888,
              "#fdca26"
             ],
             [
              1,
              "#f0f921"
             ]
            ],
            "type": "contour"
           }
          ],
          "contourcarpet": [
           {
            "colorbar": {
             "outlinewidth": 0,
             "ticks": ""
            },
            "type": "contourcarpet"
           }
          ],
          "heatmap": [
           {
            "colorbar": {
             "outlinewidth": 0,
             "ticks": ""
            },
            "colorscale": [
             [
              0,
              "#0d0887"
             ],
             [
              0.1111111111111111,
              "#46039f"
             ],
             [
              0.2222222222222222,
              "#7201a8"
             ],
             [
              0.3333333333333333,
              "#9c179e"
             ],
             [
              0.4444444444444444,
              "#bd3786"
             ],
             [
              0.5555555555555556,
              "#d8576b"
             ],
             [
              0.6666666666666666,
              "#ed7953"
             ],
             [
              0.7777777777777778,
              "#fb9f3a"
             ],
             [
              0.8888888888888888,
              "#fdca26"
             ],
             [
              1,
              "#f0f921"
             ]
            ],
            "type": "heatmap"
           }
          ],
          "heatmapgl": [
           {
            "colorbar": {
             "outlinewidth": 0,
             "ticks": ""
            },
            "colorscale": [
             [
              0,
              "#0d0887"
             ],
             [
              0.1111111111111111,
              "#46039f"
             ],
             [
              0.2222222222222222,
              "#7201a8"
             ],
             [
              0.3333333333333333,
              "#9c179e"
             ],
             [
              0.4444444444444444,
              "#bd3786"
             ],
             [
              0.5555555555555556,
              "#d8576b"
             ],
             [
              0.6666666666666666,
              "#ed7953"
             ],
             [
              0.7777777777777778,
              "#fb9f3a"
             ],
             [
              0.8888888888888888,
              "#fdca26"
             ],
             [
              1,
              "#f0f921"
             ]
            ],
            "type": "heatmapgl"
           }
          ],
          "histogram": [
           {
            "marker": {
             "pattern": {
              "fillmode": "overlay",
              "size": 10,
              "solidity": 0.2
             }
            },
            "type": "histogram"
           }
          ],
          "histogram2d": [
           {
            "colorbar": {
             "outlinewidth": 0,
             "ticks": ""
            },
            "colorscale": [
             [
              0,
              "#0d0887"
             ],
             [
              0.1111111111111111,
              "#46039f"
             ],
             [
              0.2222222222222222,
              "#7201a8"
             ],
             [
              0.3333333333333333,
              "#9c179e"
             ],
             [
              0.4444444444444444,
              "#bd3786"
             ],
             [
              0.5555555555555556,
              "#d8576b"
             ],
             [
              0.6666666666666666,
              "#ed7953"
             ],
             [
              0.7777777777777778,
              "#fb9f3a"
             ],
             [
              0.8888888888888888,
              "#fdca26"
             ],
             [
              1,
              "#f0f921"
             ]
            ],
            "type": "histogram2d"
           }
          ],
          "histogram2dcontour": [
           {
            "colorbar": {
             "outlinewidth": 0,
             "ticks": ""
            },
            "colorscale": [
             [
              0,
              "#0d0887"
             ],
             [
              0.1111111111111111,
              "#46039f"
             ],
             [
              0.2222222222222222,
              "#7201a8"
             ],
             [
              0.3333333333333333,
              "#9c179e"
             ],
             [
              0.4444444444444444,
              "#bd3786"
             ],
             [
              0.5555555555555556,
              "#d8576b"
             ],
             [
              0.6666666666666666,
              "#ed7953"
             ],
             [
              0.7777777777777778,
              "#fb9f3a"
             ],
             [
              0.8888888888888888,
              "#fdca26"
             ],
             [
              1,
              "#f0f921"
             ]
            ],
            "type": "histogram2dcontour"
           }
          ],
          "mesh3d": [
           {
            "colorbar": {
             "outlinewidth": 0,
             "ticks": ""
            },
            "type": "mesh3d"
           }
          ],
          "parcoords": [
           {
            "line": {
             "colorbar": {
              "outlinewidth": 0,
              "ticks": ""
             }
            },
            "type": "parcoords"
           }
          ],
          "pie": [
           {
            "automargin": true,
            "type": "pie"
           }
          ],
          "scatter": [
           {
            "marker": {
             "colorbar": {
              "outlinewidth": 0,
              "ticks": ""
             }
            },
            "type": "scatter"
           }
          ],
          "scatter3d": [
           {
            "line": {
             "colorbar": {
              "outlinewidth": 0,
              "ticks": ""
             }
            },
            "marker": {
             "colorbar": {
              "outlinewidth": 0,
              "ticks": ""
             }
            },
            "type": "scatter3d"
           }
          ],
          "scattercarpet": [
           {
            "marker": {
             "colorbar": {
              "outlinewidth": 0,
              "ticks": ""
             }
            },
            "type": "scattercarpet"
           }
          ],
          "scattergeo": [
           {
            "marker": {
             "colorbar": {
              "outlinewidth": 0,
              "ticks": ""
             }
            },
            "type": "scattergeo"
           }
          ],
          "scattergl": [
           {
            "marker": {
             "colorbar": {
              "outlinewidth": 0,
              "ticks": ""
             }
            },
            "type": "scattergl"
           }
          ],
          "scattermapbox": [
           {
            "marker": {
             "colorbar": {
              "outlinewidth": 0,
              "ticks": ""
             }
            },
            "type": "scattermapbox"
           }
          ],
          "scatterpolar": [
           {
            "marker": {
             "colorbar": {
              "outlinewidth": 0,
              "ticks": ""
             }
            },
            "type": "scatterpolar"
           }
          ],
          "scatterpolargl": [
           {
            "marker": {
             "colorbar": {
              "outlinewidth": 0,
              "ticks": ""
             }
            },
            "type": "scatterpolargl"
           }
          ],
          "scatterternary": [
           {
            "marker": {
             "colorbar": {
              "outlinewidth": 0,
              "ticks": ""
             }
            },
            "type": "scatterternary"
           }
          ],
          "surface": [
           {
            "colorbar": {
             "outlinewidth": 0,
             "ticks": ""
            },
            "colorscale": [
             [
              0,
              "#0d0887"
             ],
             [
              0.1111111111111111,
              "#46039f"
             ],
             [
              0.2222222222222222,
              "#7201a8"
             ],
             [
              0.3333333333333333,
              "#9c179e"
             ],
             [
              0.4444444444444444,
              "#bd3786"
             ],
             [
              0.5555555555555556,
              "#d8576b"
             ],
             [
              0.6666666666666666,
              "#ed7953"
             ],
             [
              0.7777777777777778,
              "#fb9f3a"
             ],
             [
              0.8888888888888888,
              "#fdca26"
             ],
             [
              1,
              "#f0f921"
             ]
            ],
            "type": "surface"
           }
          ],
          "table": [
           {
            "cells": {
             "fill": {
              "color": "#EBF0F8"
             },
             "line": {
              "color": "white"
             }
            },
            "header": {
             "fill": {
              "color": "#C8D4E3"
             },
             "line": {
              "color": "white"
             }
            },
            "type": "table"
           }
          ]
         },
         "layout": {
          "annotationdefaults": {
           "arrowcolor": "#2a3f5f",
           "arrowhead": 0,
           "arrowwidth": 1
          },
          "autotypenumbers": "strict",
          "coloraxis": {
           "colorbar": {
            "outlinewidth": 0,
            "ticks": ""
           }
          },
          "colorscale": {
           "diverging": [
            [
             0,
             "#8e0152"
            ],
            [
             0.1,
             "#c51b7d"
            ],
            [
             0.2,
             "#de77ae"
            ],
            [
             0.3,
             "#f1b6da"
            ],
            [
             0.4,
             "#fde0ef"
            ],
            [
             0.5,
             "#f7f7f7"
            ],
            [
             0.6,
             "#e6f5d0"
            ],
            [
             0.7,
             "#b8e186"
            ],
            [
             0.8,
             "#7fbc41"
            ],
            [
             0.9,
             "#4d9221"
            ],
            [
             1,
             "#276419"
            ]
           ],
           "sequential": [
            [
             0,
             "#0d0887"
            ],
            [
             0.1111111111111111,
             "#46039f"
            ],
            [
             0.2222222222222222,
             "#7201a8"
            ],
            [
             0.3333333333333333,
             "#9c179e"
            ],
            [
             0.4444444444444444,
             "#bd3786"
            ],
            [
             0.5555555555555556,
             "#d8576b"
            ],
            [
             0.6666666666666666,
             "#ed7953"
            ],
            [
             0.7777777777777778,
             "#fb9f3a"
            ],
            [
             0.8888888888888888,
             "#fdca26"
            ],
            [
             1,
             "#f0f921"
            ]
           ],
           "sequentialminus": [
            [
             0,
             "#0d0887"
            ],
            [
             0.1111111111111111,
             "#46039f"
            ],
            [
             0.2222222222222222,
             "#7201a8"
            ],
            [
             0.3333333333333333,
             "#9c179e"
            ],
            [
             0.4444444444444444,
             "#bd3786"
            ],
            [
             0.5555555555555556,
             "#d8576b"
            ],
            [
             0.6666666666666666,
             "#ed7953"
            ],
            [
             0.7777777777777778,
             "#fb9f3a"
            ],
            [
             0.8888888888888888,
             "#fdca26"
            ],
            [
             1,
             "#f0f921"
            ]
           ]
          },
          "colorway": [
           "#636efa",
           "#EF553B",
           "#00cc96",
           "#ab63fa",
           "#FFA15A",
           "#19d3f3",
           "#FF6692",
           "#B6E880",
           "#FF97FF",
           "#FECB52"
          ],
          "font": {
           "color": "#2a3f5f"
          },
          "geo": {
           "bgcolor": "white",
           "lakecolor": "white",
           "landcolor": "#E5ECF6",
           "showlakes": true,
           "showland": true,
           "subunitcolor": "white"
          },
          "hoverlabel": {
           "align": "left"
          },
          "hovermode": "closest",
          "mapbox": {
           "style": "light"
          },
          "paper_bgcolor": "white",
          "plot_bgcolor": "#E5ECF6",
          "polar": {
           "angularaxis": {
            "gridcolor": "white",
            "linecolor": "white",
            "ticks": ""
           },
           "bgcolor": "#E5ECF6",
           "radialaxis": {
            "gridcolor": "white",
            "linecolor": "white",
            "ticks": ""
           }
          },
          "scene": {
           "xaxis": {
            "backgroundcolor": "#E5ECF6",
            "gridcolor": "white",
            "gridwidth": 2,
            "linecolor": "white",
            "showbackground": true,
            "ticks": "",
            "zerolinecolor": "white"
           },
           "yaxis": {
            "backgroundcolor": "#E5ECF6",
            "gridcolor": "white",
            "gridwidth": 2,
            "linecolor": "white",
            "showbackground": true,
            "ticks": "",
            "zerolinecolor": "white"
           },
           "zaxis": {
            "backgroundcolor": "#E5ECF6",
            "gridcolor": "white",
            "gridwidth": 2,
            "linecolor": "white",
            "showbackground": true,
            "ticks": "",
            "zerolinecolor": "white"
           }
          },
          "shapedefaults": {
           "line": {
            "color": "#2a3f5f"
           }
          },
          "ternary": {
           "aaxis": {
            "gridcolor": "white",
            "linecolor": "white",
            "ticks": ""
           },
           "baxis": {
            "gridcolor": "white",
            "linecolor": "white",
            "ticks": ""
           },
           "bgcolor": "#E5ECF6",
           "caxis": {
            "gridcolor": "white",
            "linecolor": "white",
            "ticks": ""
           }
          },
          "title": {
           "x": 0.05
          },
          "xaxis": {
           "automargin": true,
           "gridcolor": "white",
           "linecolor": "white",
           "ticks": "",
           "title": {
            "standoff": 15
           },
           "zerolinecolor": "white",
           "zerolinewidth": 2
          },
          "yaxis": {
           "automargin": true,
           "gridcolor": "white",
           "linecolor": "white",
           "ticks": "",
           "title": {
            "standoff": 15
           },
           "zerolinecolor": "white",
           "zerolinewidth": 2
          }
         }
        },
        "title": {
         "text": "Sinsusoidal Regression on Noisy Data"
        },
        "xaxis": {
         "anchor": "y",
         "domain": [
          0,
          1
         ],
         "title": {
          "text": "x"
         }
        },
        "yaxis": {
         "anchor": "x",
         "domain": [
          0,
          1
         ],
         "title": {
          "text": "y"
         }
        }
       }
      },
      "text/html": [
       "<div>                            <div id=\"ffd69ded-3ccf-40f6-93b5-83353707c0d8\" class=\"plotly-graph-div\" style=\"height:525px; width:100%;\"></div>            <script type=\"text/javascript\">                require([\"plotly\"], function(Plotly) {                    window.PLOTLYENV=window.PLOTLYENV || {};                                    if (document.getElementById(\"ffd69ded-3ccf-40f6-93b5-83353707c0d8\")) {                    Plotly.newPlot(                        \"ffd69ded-3ccf-40f6-93b5-83353707c0d8\",                        [{\"hovertemplate\":\"x=%{x}<br>y=%{y}<extra></extra>\",\"legendgroup\":\"\",\"marker\":{\"color\":\"#636efa\",\"symbol\":\"circle\"},\"mode\":\"markers\",\"name\":\"\",\"orientation\":\"v\",\"showlegend\":false,\"x\":[0.0,0.02004008016032064,0.04008016032064128,0.06012024048096192,0.08016032064128256,0.1002004008016032,0.12024048096192384,0.1402805611222445,0.16032064128256512,0.18036072144288576,0.2004008016032064,0.22044088176352705,0.24048096192384769,0.2605210420841683,0.280561122244489,0.3006012024048096,0.32064128256513025,0.3406813627254509,0.3607214428857715,0.3807615230460922,0.4008016032064128,0.42084168336673344,0.4408817635270541,0.4609218436873747,0.48096192384769537,0.501002004008016,0.5210420841683366,0.5410821643286573,0.561122244488978,0.5811623246492986,0.6012024048096192,0.6212424849699398,0.6412825651302605,0.6613226452905812,0.6813627254509018,0.7014028056112224,0.721442885771543,0.7414829659318637,0.7615230460921844,0.781563126252505,0.8016032064128256,0.8216432865731462,0.8416833667334669,0.8617234468937875,0.8817635270541082,0.9018036072144289,0.9218436873747494,0.9418837675350701,0.9619238476953907,0.9819639278557114,1.002004008016032,1.0220440881763526,1.0420841683366733,1.062124248496994,1.0821643286573146,1.1022044088176353,1.122244488977956,1.1422845691382766,1.1623246492985972,1.1823647294589177,1.2024048096192383,1.222444889779559,1.2424849699398797,1.2625250501002003,1.282565130260521,1.3026052104208417,1.3226452905811623,1.342685370741483,1.3627254509018036,1.3827655310621243,1.4028056112224447,1.4228456913827654,1.442885771543086,1.4629258517034067,1.4829659318637274,1.503006012024048,1.5230460921843687,1.5430861723446894,1.56312625250501,1.5831663326653307,1.6032064128256511,1.6232464929859718,1.6432865731462925,1.6633266533066131,1.6833667334669338,1.7034068136272544,1.723446893787575,1.7434869739478958,1.7635270541082164,1.783567134268537,1.8036072144288577,1.8236472945891782,1.8436873747494988,1.8637274549098195,1.8837675350701402,1.9038076152304608,1.9238476953907815,1.9438877755511021,1.9639278557114228,1.9839679358717435,2.004008016032064,2.024048096192385,2.0440881763527052,2.064128256513026,2.0841683366733466,2.1042084168336674,2.124248496993988,2.1442885771543083,2.164328657314629,2.1843687374749496,2.2044088176352705,2.224448897795591,2.244488977955912,2.2645290581162323,2.284569138276553,2.3046092184368736,2.3246492985971945,2.344689378757515,2.3647294589178354,2.3847695390781563,2.4048096192384767,2.4248496993987976,2.444889779559118,2.464929859719439,2.4849699398797593,2.50501002004008,2.5250501002004007,2.5450901803607215,2.565130260521042,2.5851703406813624,2.6052104208416833,2.6252505010020037,2.6452905811623246,2.665330661322645,2.685370741482966,2.7054108216432864,2.7254509018036073,2.7454909819639277,2.7655310621242486,2.785571142284569,2.8056112224448895,2.8256513026052104,2.845691382765531,2.8657314629258517,2.885771543086172,2.905811623246493,2.9258517034068134,2.9458917835671343,2.9659318637274548,2.9859719438877756,3.006012024048096,3.0260521042084165,3.0460921843687374,3.066132264529058,3.0861723446893787,3.106212424849699,3.12625250501002,3.1462925851703405,3.1663326653306614,3.186372745490982,3.2064128256513023,3.226452905811623,3.2464929859719436,3.2665330661322645,3.286573146292585,3.306613226452906,3.3266533066132262,3.346693386773547,3.3667334669338675,3.3867735470941884,3.406813627254509,3.4268537074148293,3.44689378757515,3.4669338677354706,3.4869739478957915,3.507014028056112,3.527054108216433,3.5470941883767533,3.567134268537074,3.5871743486973946,3.6072144288577155,3.627254509018036,3.6472945891783564,3.6673346693386772,3.6873747494989977,3.7074148296593186,3.727454909819639,3.74749498997996,3.7675350701402803,3.787575150300601,3.8076152304609217,3.8276553106212425,3.847695390781563,3.8677354709418834,3.8877755511022043,3.9078156312625247,3.9278557114228456,3.947895791583166,3.967935871743487,3.9879759519038074,4.008016032064128,4.028056112224449,4.04809619238477,4.06813627254509,4.0881763527054105,4.108216432865731,4.128256513026052,4.148296593186372,4.168336673346693,4.188376753507014,4.208416833667335,4.228456913827655,4.248496993987976,4.268537074148297,4.288577154308617,4.3086172344689375,4.328657314629258,4.348697394789579,4.368737474949899,4.38877755511022,4.408817635270541,4.428857715430862,4.448897795591182,4.468937875751503,4.488977955911824,4.509018036072144,4.529058116232465,4.5490981963927855,4.569138276553106,4.589178356713426,4.609218436873747,4.629258517034068,4.649298597194389,4.669338677354709,4.68937875751503,4.709418837675351,4.729458917835671,4.749498997995992,4.7695390781563125,4.789579158316633,4.809619238476953,4.829659318637274,4.849699398797595,4.869739478957916,4.889779559118236,4.909819639278557,4.929859719438878,4.949899799599198,4.969939879759519,4.98997995991984,5.01002004008016,5.03006012024048,5.050100200400801,5.070140280561122,5.090180360721443,5.110220440881763,5.130260521042084,5.150300601202405,5.170340681362725,5.190380761523046,5.210420841683367,5.2304609218436875,5.2505010020040075,5.270541082164328,5.290581162324649,5.31062124248497,5.33066132264529,5.350701402805611,5.370741482965932,5.390781563126252,5.410821643286573,5.430861723446894,5.4509018036072145,5.4709418837675345,5.490981963927855,5.511022044088176,5.531062124248497,5.551102204408817,5.571142284569138,5.591182364729459,5.611222444889779,5.6312625250501,5.651302605210421,5.671342685370742,5.691382765531062,5.7114228456913825,5.731462925851703,5.751503006012024,5.771543086172344,5.791583166332665,5.811623246492986,5.831663326653306,5.851703406813627,5.871743486973948,5.891783567134269,5.911823647294589,5.9318637274549095,5.95190380761523,5.971943887775551,5.991983967935871,6.012024048096192,6.032064128256513,6.052104208416833,6.072144288577154,6.092184368737475,6.112224448897796,6.132264529058116,6.152304609218437,6.1723446893787575,6.192384769539078,6.212424849699398,6.232464929859719,6.25250501002004,6.27254509018036,6.292585170340681,6.312625250501002,6.332665330661323,6.352705410821643,6.372745490981964,6.3927855711422845,6.4128256513026045,6.432865731462925,6.452905811623246,6.472945891783567,6.492985971943887,6.513026052104208,6.533066132264529,6.55310621242485,6.57314629258517,6.593186372745491,6.613226452905812,6.633266533066132,6.6533066132264524,6.673346693386773,6.693386773547094,6.713426853707414,6.733466933867735,6.753507014028056,6.773547094188377,6.793587174348697,6.813627254509018,6.833667334669339,6.853707414829659,6.8737474949899795,6.8937875751503,6.913827655310621,6.933867735470941,6.953907815631262,6.973947895791583,6.993987975951904,7.014028056112224,7.034068136272545,7.054108216432866,7.074148296593186,7.0941883767535066,7.114228456913827,7.134268537074148,7.154308617234468,7.174348697394789,7.19438877755511,7.214428857715431,7.234468937875751,7.254509018036072,7.274549098196393,7.294589178356713,7.314629258517034,7.3346693386773545,7.354709418837675,7.374749498997995,7.394789579158316,7.414829659318637,7.434869739478958,7.454909819639278,7.474949899799599,7.49498997995992,7.51503006012024,7.535070140280561,7.5551102204408815,7.575150300601202,7.595190380761522,7.615230460921843,7.635270541082164,7.655310621242485,7.675350701402805,7.695390781563126,7.715430861723447,7.735470941883767,7.755511022044088,7.775551102204409,7.7955911823647295,7.8156312625250495,7.83567134268537,7.855711422845691,7.875751503006012,7.895791583166332,7.915831663326653,7.935871743486974,7.955911823647294,7.975951903807615,7.995991983967936,8.016032064128256,8.036072144288577,8.056112224448897,8.076152304609218,8.09619238476954,8.11623246492986,8.13627254509018,8.1563126252505,8.176352705410821,8.196392785571142,8.216432865731463,8.236472945891784,8.256513026052104,8.276553106212425,8.296593186372744,8.316633266533065,8.336673346693386,8.356713426853707,8.376753507014028,8.396793587174349,8.41683366733467,8.436873747494989,8.45691382765531,8.47695390781563,8.496993987975952,8.517034068136272,8.537074148296593,8.557114228456914,8.577154308617233,8.597194388777554,8.617234468937875,8.637274549098196,8.657314629258517,8.677354709418838,8.697394789579159,8.71743486973948,8.737474949899799,8.75751503006012,8.77755511022044,8.797595190380761,8.817635270541082,8.837675350701403,8.857715430861724,8.877755511022043,8.897795591182364,8.917835671342685,8.937875751503006,8.957915831663327,8.977955911823647,8.997995991983968,9.018036072144287,9.038076152304608,9.05811623246493,9.07815631262525,9.098196392785571,9.118236472945892,9.138276553106213,9.158316633266534,9.178356713426853,9.198396793587174,9.218436873747494,9.238476953907815,9.258517034068136,9.278557114228457,9.298597194388778,9.318637274549097,9.338677354709418,9.358717434869739,9.37875751503006,9.39879759519038,9.418837675350701,9.438877755511022,9.458917835671341,9.478957915831662,9.498997995991983,9.519038076152304,9.539078156312625,9.559118236472946,9.579158316633267,9.599198396793588,9.619238476953907,9.639278557114228,9.659318637274549,9.67935871743487,9.69939879759519,9.719438877755511,9.739478957915832,9.759519038076151,9.779559118236472,9.799599198396793,9.819639278557114,9.839679358717435,9.859719438877756,9.879759519038076,9.899799599198396,9.919839679358716,9.939879759519037,9.959919839679358,9.97995991983968,10.0],\"xaxis\":\"x\",\"y\":[5.562779938314673,5.322850855611675,4.337413344320843,3.144444634380686,5.157663254597008,5.911310453552393,6.103303480429456,5.0678487181218275,3.463104418735782,4.593897746395711,5.584510262589737,6.282671326619149,4.106575195347173,4.554098182775406,5.344043906989568,3.7751413359329553,5.484044820687115,5.396595014533,4.327988197015998,5.813656006567264,5.4166053413374,3.5642866579051753,3.7203672598090183,3.980783220527427,5.161055274676695,4.4512073451111185,6.316362680607303,4.439685334779962,5.950111859011474,3.831347996856733,4.809615732584011,4.361927060035808,6.338369628354013,6.074960814678521,5.562456945142771,3.526462458207641,4.402179341397001,6.180016314721659,5.523797101311382,3.9763017944636667,4.4631044986592165,4.434631955135954,5.063562108512692,5.505547544304352,3.3463482042348796,3.37157727301946,5.982723784799592,5.514074771372371,4.909315501780672,4.439261843174135,5.923539919207203,5.310201451870057,5.426237553392014,3.1034286930656583,5.530751515779189,3.151504591047103,5.18090665106497,4.07977375491057,5.37275719813572,3.875104041260889,2.8696163964832007,3.5472481414455213,5.4395412561803695,2.8293302389332835,4.225661642420896,3.7798161000743518,3.9704818505567685,2.979244947626982,4.1539545511061355,2.754854460369951,4.86783992856928,3.8664665004789587,2.8596478557963128,2.5903552271167243,2.8943628936649275,4.34032551498397,2.447548678364271,4.541121898759496,4.363495197120675,2.909926934986853,2.0753727322279674,3.6786558598464247,4.480285221987854,3.1725446315616663,2.83918218848304,2.4989590476671397,1.9465710555297664,3.8269334494125573,2.1831154650543723,3.7178209873528165,2.8199271220710584,3.974170799024821,2.8542739641409938,1.63102016948235,3.0798895769673864,1.6254805182939416,4.391777541216289,2.9757292779534685,2.2864297075229056,2.2672930670586444,2.600862322806165,4.127492508137319,3.1815792239089866,2.142233907133623,2.9837053982737856,1.6991339139484647,4.377960734688747,2.6073679136434187,3.491205084139172,3.9016166033953654,4.292010978411655,2.824670316528447,2.9518874902417513,3.5272497668978158,2.7281710271393584,4.01214970705201,2.9526362777836317,2.857803680481397,3.1627586652368045,2.650164486919138,1.7959052146575594,3.038667675526395,2.5106590468295487,3.3439597905918657,2.7744667135127026,2.4757940495839623,3.4767906802744015,4.289599309711219,2.2818912088669103,2.1655445610568966,2.6903076358520064,2.5565571567597964,2.2867413092932303,4.882406562791707,4.263318914014848,5.101076383172298,2.7497997555223925,2.2477102119602654,2.888754550820058,3.69874784827803,2.754745747686184,3.605472589331659,4.736521802965092,3.162093623480649,3.4244681600773887,2.9885226050951417,3.2452421215271157,2.7395509288447317,4.453966654140041,4.54486199749622,4.5339263740039195,3.145099199477598,4.22999979536722,2.9027200105622866,4.268271384021538,4.959193774407633,3.969979241561141,3.5571417681547297,3.510685799989503,3.1004510955044005,4.052849064416022,4.357362117226277,5.0022091601934235,5.684619663498745,5.729869885376189,4.171664956699735,4.225327996532988,5.873904684592402,4.737784141724431,5.92385858506752,4.557649171452067,5.441934180420901,5.665228229067665,5.0071689360155816,4.760179913405826,5.78267289879555,4.0626349535770245,3.905088320605403,4.410243979903299,5.9615725352968285,6.170201164700752,5.001497888743677,5.606654246997091,6.41939276862517,3.5055518447775755,5.618021850683859,4.650985862223067,6.473852308609816,5.312598374674093,6.323565820588824,5.571770399200092,4.781756301114769,5.569380001111959,5.394684942492461,5.950270066327091,4.366561175569642,5.488860044854578,5.733701728691244,3.914693812220181,5.4377844022020145,5.816408871226959,4.449866641235869,3.9273291709492657,3.57093694584199,3.833183997675399,4.444836042304328,5.7734602926246765,3.4664526166821523,3.7550978478419035,3.568839215052192,4.565470855872729,5.038835595572832,5.264185454250042,2.915457202913089,4.686157173242811,4.318423355881418,5.7641254298316325,4.576317756122587,3.353449299377592,5.292711205065837,4.964332869511235,3.01185818441109,3.790023039217713,4.290756229425373,3.630304976698017,4.256850116935797,4.081178000562622,3.921493478873491,4.137162975337412,3.988153473510317,3.4093227487944944,2.3072601738851124,3.4001851134894525,4.0264032767698765,4.229610136750139,3.1875755065254023,3.035115650459685,3.746305312532383,3.883231493856562,4.098701600741675,4.660590881660925,4.2565575209824225,2.009178991495335,1.8618320802565465,2.0975365009186495,2.8015390089883243,3.9392059260305303,3.540560354131195,3.068632684074779,3.1140332688315095,4.1931887472357054,2.7812660567009875,3.520768403779905,1.706944190542262,3.140681302363081,2.752298204579853,2.71964632517595,2.6885094392496494,3.2798500692990418,4.3715578425355,4.036105727941321,4.264164080198082,2.883074441477943,4.45046125241844,3.196772579774242,2.8252877784018837,3.765104732424137,4.008297118383682,4.4229329636641594,2.5442527367491765,2.964613623243373,3.308969244353478,1.7410397168297025,2.6480113141188073,4.0663600058055955,2.7025244391736356,3.803311003243177,4.673668335056933,3.9563233049570274,2.6045788480419287,4.327719139343248,3.4118396680399807,2.2926698104315326,4.635699984599733,4.024609779916014,2.090724237383126,4.171985410956407,2.6410731641914795,2.3124453349200094,3.353739642635478,3.955201931334526,3.071395668857514,4.072515437130687,4.757644206498437,2.8022792544825683,5.019890157808981,4.916612905325502,3.512251649340566,3.5126388905457397,3.5760906860985253,3.5467808461004857,4.630840893936876,3.845669651633191,4.0827902001002325,4.776584002148745,5.353334433624975,5.138002129960228,4.934552677438833,3.6652529255824113,3.0914677154108285,5.0500522857088574,3.2777317043781378,5.644618620643407,4.993808215904098,3.3315015334125446,4.349606873024595,3.35764869773985,3.74003770383604,4.253125564952797,5.773762999713493,6.1092945560178995,5.5783037462066725,3.4672478889138385,3.8773543873921925,6.013347397960918,4.257702831588917,6.133928275838122,3.881302706302699,5.270315387243396,5.618290413596327,4.77859131267883,3.621079847181047,5.79065795281091,4.280462109106662,5.983884160891886,6.164063568639929,4.45086826422718,5.971048094683283,5.68166893360533,6.4824281276173235,4.990429626674903,5.759997770098946,3.6394655605549238,4.182065671517924,5.234386603639793,5.665433046894177,4.562872198727701,5.281367076626271,5.886583241438945,6.382307488859999,4.513624689091794,5.495813652233541,5.486315167108013,4.312414186761381,5.4794933867658004,4.206784766721937,4.6400563654366564,4.869512191439199,5.767583357565307,5.513159221917638,4.412090770727308,3.4208992684946056,3.4573002424653603,5.381893608739628,4.258485630197194,3.890863146300668,5.657512237965035,5.9300637264772345,3.97403411069763,4.5899735338684655,3.863495655036004,4.281143335057548,4.258971179777212,3.5099964091245437,4.560777034339234,3.0502915670064925,4.782946958369352,3.679253994200579,3.018011800774271,2.6824896090543695,2.5715841284506764,3.7158782185416888,3.8076673142161566,4.749806280781263,4.780222109798745,2.6982454348807767,4.054630994448748,3.1433483735448786,4.037612259689408,4.846271793408246,3.78792382033679,4.409028514409785,2.1090021465098068,3.7110939154151605,4.273068216992636,2.7131705624540983,3.9586398721192655,4.00359725261227,2.5639192911710778,2.7378516699202393,4.739362982046986,1.882630357991553,3.252381138428062,2.078354691595403,3.0813106300644137,2.2599418589624998,3.1664814045381884,2.8465621410247257,3.535419752506937,3.5585084689944866,1.7255074668428834,3.473989279614547,3.4578399265167383,3.1289063242698125,2.2435239727657317,2.4196210254430106,3.5420751860152953,4.212556796649013,2.1125369767594466,2.281056091483707,2.7668769823656376,4.207498471506451,3.3213618949841406,4.14326442009164,1.5253120586678242,4.1381651903668555,2.1235129093368332,2.220125602854099,3.286212963799409,3.599549334517392,3.522175048389767,4.035843214279482,4.008526797968974,2.68673673092042,4.683052457989538,3.6422420214180926,1.8797678094243033,1.8239075411974643,3.9669611055931737,4.623591652011463,4.405191539835352,4.534009706913605,3.126762209985399,3.968626054187568,3.106064374011626,4.871650942886518,3.998656167530198,2.4920509776275144,2.4969595908714077,4.404213015586796,2.722136540249733,4.4253878107612765,4.344524365318304,3.709012415420147,4.620687123611959,3.108981359824298,5.387319999779824,4.369643183939137,3.0250582340185828,5.27561008454237,3.60985114242283,4.593002038288415,4.61726576088946,4.64352388180246,2.7656076895784136,4.916076557126437,4.6066935306626196,5.664029674686621,4.8500558420815345,4.200347087925284,4.740337281977623,4.672240501707451,3.6392336885283894,5.4238125103799035,5.907471720132612,4.200368753581717,5.623373065436675,5.891227648764753,3.3068615532754104,4.6333636952114,4.393648027679429,4.499771806413076,5.1509787190162,5.137654166796145,4.619522072834984,3.6655486201729546,3.909331474479541,6.391607666312318,4.998550490367764,4.939521775765476,5.499295578007507,4.551795080806804,4.200455597943508,6.457010741094589,5.814694187450705,5.031856721014145,4.3442153415518465,4.269470806660029,3.827832421949965,4.068825849788982],\"yaxis\":\"y\",\"type\":\"scatter\"},{\"name\":\"Sinusoidal Prediction\",\"x\":[0.0,0.02004008016032064,0.04008016032064128,0.06012024048096192,0.08016032064128256,0.1002004008016032,0.12024048096192384,0.1402805611222445,0.16032064128256512,0.18036072144288576,0.2004008016032064,0.22044088176352705,0.24048096192384769,0.2605210420841683,0.280561122244489,0.3006012024048096,0.32064128256513025,0.3406813627254509,0.3607214428857715,0.3807615230460922,0.4008016032064128,0.42084168336673344,0.4408817635270541,0.4609218436873747,0.48096192384769537,0.501002004008016,0.5210420841683366,0.5410821643286573,0.561122244488978,0.5811623246492986,0.6012024048096192,0.6212424849699398,0.6412825651302605,0.6613226452905812,0.6813627254509018,0.7014028056112224,0.721442885771543,0.7414829659318637,0.7615230460921844,0.781563126252505,0.8016032064128256,0.8216432865731462,0.8416833667334669,0.8617234468937875,0.8817635270541082,0.9018036072144289,0.9218436873747494,0.9418837675350701,0.9619238476953907,0.9819639278557114,1.002004008016032,1.0220440881763526,1.0420841683366733,1.062124248496994,1.0821643286573146,1.1022044088176353,1.122244488977956,1.1422845691382766,1.1623246492985972,1.1823647294589177,1.2024048096192383,1.222444889779559,1.2424849699398797,1.2625250501002003,1.282565130260521,1.3026052104208417,1.3226452905811623,1.342685370741483,1.3627254509018036,1.3827655310621243,1.4028056112224447,1.4228456913827654,1.442885771543086,1.4629258517034067,1.4829659318637274,1.503006012024048,1.5230460921843687,1.5430861723446894,1.56312625250501,1.5831663326653307,1.6032064128256511,1.6232464929859718,1.6432865731462925,1.6633266533066131,1.6833667334669338,1.7034068136272544,1.723446893787575,1.7434869739478958,1.7635270541082164,1.783567134268537,1.8036072144288577,1.8236472945891782,1.8436873747494988,1.8637274549098195,1.8837675350701402,1.9038076152304608,1.9238476953907815,1.9438877755511021,1.9639278557114228,1.9839679358717435,2.004008016032064,2.024048096192385,2.0440881763527052,2.064128256513026,2.0841683366733466,2.1042084168336674,2.124248496993988,2.1442885771543083,2.164328657314629,2.1843687374749496,2.2044088176352705,2.224448897795591,2.244488977955912,2.2645290581162323,2.284569138276553,2.3046092184368736,2.3246492985971945,2.344689378757515,2.3647294589178354,2.3847695390781563,2.4048096192384767,2.4248496993987976,2.444889779559118,2.464929859719439,2.4849699398797593,2.50501002004008,2.5250501002004007,2.5450901803607215,2.565130260521042,2.5851703406813624,2.6052104208416833,2.6252505010020037,2.6452905811623246,2.665330661322645,2.685370741482966,2.7054108216432864,2.7254509018036073,2.7454909819639277,2.7655310621242486,2.785571142284569,2.8056112224448895,2.8256513026052104,2.845691382765531,2.8657314629258517,2.885771543086172,2.905811623246493,2.9258517034068134,2.9458917835671343,2.9659318637274548,2.9859719438877756,3.006012024048096,3.0260521042084165,3.0460921843687374,3.066132264529058,3.0861723446893787,3.106212424849699,3.12625250501002,3.1462925851703405,3.1663326653306614,3.186372745490982,3.2064128256513023,3.226452905811623,3.2464929859719436,3.2665330661322645,3.286573146292585,3.306613226452906,3.3266533066132262,3.346693386773547,3.3667334669338675,3.3867735470941884,3.406813627254509,3.4268537074148293,3.44689378757515,3.4669338677354706,3.4869739478957915,3.507014028056112,3.527054108216433,3.5470941883767533,3.567134268537074,3.5871743486973946,3.6072144288577155,3.627254509018036,3.6472945891783564,3.6673346693386772,3.6873747494989977,3.7074148296593186,3.727454909819639,3.74749498997996,3.7675350701402803,3.787575150300601,3.8076152304609217,3.8276553106212425,3.847695390781563,3.8677354709418834,3.8877755511022043,3.9078156312625247,3.9278557114228456,3.947895791583166,3.967935871743487,3.9879759519038074,4.008016032064128,4.028056112224449,4.04809619238477,4.06813627254509,4.0881763527054105,4.108216432865731,4.128256513026052,4.148296593186372,4.168336673346693,4.188376753507014,4.208416833667335,4.228456913827655,4.248496993987976,4.268537074148297,4.288577154308617,4.3086172344689375,4.328657314629258,4.348697394789579,4.368737474949899,4.38877755511022,4.408817635270541,4.428857715430862,4.448897795591182,4.468937875751503,4.488977955911824,4.509018036072144,4.529058116232465,4.5490981963927855,4.569138276553106,4.589178356713426,4.609218436873747,4.629258517034068,4.649298597194389,4.669338677354709,4.68937875751503,4.709418837675351,4.729458917835671,4.749498997995992,4.7695390781563125,4.789579158316633,4.809619238476953,4.829659318637274,4.849699398797595,4.869739478957916,4.889779559118236,4.909819639278557,4.929859719438878,4.949899799599198,4.969939879759519,4.98997995991984,5.01002004008016,5.03006012024048,5.050100200400801,5.070140280561122,5.090180360721443,5.110220440881763,5.130260521042084,5.150300601202405,5.170340681362725,5.190380761523046,5.210420841683367,5.2304609218436875,5.2505010020040075,5.270541082164328,5.290581162324649,5.31062124248497,5.33066132264529,5.350701402805611,5.370741482965932,5.390781563126252,5.410821643286573,5.430861723446894,5.4509018036072145,5.4709418837675345,5.490981963927855,5.511022044088176,5.531062124248497,5.551102204408817,5.571142284569138,5.591182364729459,5.611222444889779,5.6312625250501,5.651302605210421,5.671342685370742,5.691382765531062,5.7114228456913825,5.731462925851703,5.751503006012024,5.771543086172344,5.791583166332665,5.811623246492986,5.831663326653306,5.851703406813627,5.871743486973948,5.891783567134269,5.911823647294589,5.9318637274549095,5.95190380761523,5.971943887775551,5.991983967935871,6.012024048096192,6.032064128256513,6.052104208416833,6.072144288577154,6.092184368737475,6.112224448897796,6.132264529058116,6.152304609218437,6.1723446893787575,6.192384769539078,6.212424849699398,6.232464929859719,6.25250501002004,6.27254509018036,6.292585170340681,6.312625250501002,6.332665330661323,6.352705410821643,6.372745490981964,6.3927855711422845,6.4128256513026045,6.432865731462925,6.452905811623246,6.472945891783567,6.492985971943887,6.513026052104208,6.533066132264529,6.55310621242485,6.57314629258517,6.593186372745491,6.613226452905812,6.633266533066132,6.6533066132264524,6.673346693386773,6.693386773547094,6.713426853707414,6.733466933867735,6.753507014028056,6.773547094188377,6.793587174348697,6.813627254509018,6.833667334669339,6.853707414829659,6.8737474949899795,6.8937875751503,6.913827655310621,6.933867735470941,6.953907815631262,6.973947895791583,6.993987975951904,7.014028056112224,7.034068136272545,7.054108216432866,7.074148296593186,7.0941883767535066,7.114228456913827,7.134268537074148,7.154308617234468,7.174348697394789,7.19438877755511,7.214428857715431,7.234468937875751,7.254509018036072,7.274549098196393,7.294589178356713,7.314629258517034,7.3346693386773545,7.354709418837675,7.374749498997995,7.394789579158316,7.414829659318637,7.434869739478958,7.454909819639278,7.474949899799599,7.49498997995992,7.51503006012024,7.535070140280561,7.5551102204408815,7.575150300601202,7.595190380761522,7.615230460921843,7.635270541082164,7.655310621242485,7.675350701402805,7.695390781563126,7.715430861723447,7.735470941883767,7.755511022044088,7.775551102204409,7.7955911823647295,7.8156312625250495,7.83567134268537,7.855711422845691,7.875751503006012,7.895791583166332,7.915831663326653,7.935871743486974,7.955911823647294,7.975951903807615,7.995991983967936,8.016032064128256,8.036072144288577,8.056112224448897,8.076152304609218,8.09619238476954,8.11623246492986,8.13627254509018,8.1563126252505,8.176352705410821,8.196392785571142,8.216432865731463,8.236472945891784,8.256513026052104,8.276553106212425,8.296593186372744,8.316633266533065,8.336673346693386,8.356713426853707,8.376753507014028,8.396793587174349,8.41683366733467,8.436873747494989,8.45691382765531,8.47695390781563,8.496993987975952,8.517034068136272,8.537074148296593,8.557114228456914,8.577154308617233,8.597194388777554,8.617234468937875,8.637274549098196,8.657314629258517,8.677354709418838,8.697394789579159,8.71743486973948,8.737474949899799,8.75751503006012,8.77755511022044,8.797595190380761,8.817635270541082,8.837675350701403,8.857715430861724,8.877755511022043,8.897795591182364,8.917835671342685,8.937875751503006,8.957915831663327,8.977955911823647,8.997995991983968,9.018036072144287,9.038076152304608,9.05811623246493,9.07815631262525,9.098196392785571,9.118236472945892,9.138276553106213,9.158316633266534,9.178356713426853,9.198396793587174,9.218436873747494,9.238476953907815,9.258517034068136,9.278557114228457,9.298597194388778,9.318637274549097,9.338677354709418,9.358717434869739,9.37875751503006,9.39879759519038,9.418837675350701,9.438877755511022,9.458917835671341,9.478957915831662,9.498997995991983,9.519038076152304,9.539078156312625,9.559118236472946,9.579158316633267,9.599198396793588,9.619238476953907,9.639278557114228,9.659318637274549,9.67935871743487,9.69939879759519,9.719438877755511,9.739478957915832,9.759519038076151,9.779559118236472,9.799599198396793,9.819639278557114,9.839679358717435,9.859719438877756,9.879759519038076,9.899799599198396,9.919839679358716,9.939879759519037,9.959919839679358,9.97995991983968,10.0],\"y\":[4.479425538604203,4.514204744204118,4.548158031976893,4.5812308660086165,4.6133701245738905,4.644524185460163,4.674643008883547,4.70367821786293,4.731583175923288,4.758313062003385,4.783824942447552,4.808077839965905,4.831032799452242,4.852652950553898,4.872903566893059,4.89175212184442,4.909168340779585,4.925124249694305,4.939594220140437,4.95255501039047,4.963985802768485,4.973868237087591,4.982186440140137,4.988927051193327,4.994079243449278,4.9976347414350775,4.999587834294875,4.999935384962691,4.9986768352011755,4.9958142064982605,4.991352096820233,4.9852976732264604,4.977660660357637,4.968453324816014,4.957690455462744,4.9453893396639375,4.931569735523631,4.916253840148236,4.899466253993448,4.881233941350896,4.861586187037985,4.8405545493604905,4.818172809423485,4.794476916871979,4.769504932148447,4.743296965359993,4.715895111853319,4.687343384601007,4.657687643507694,4.626975521749703,4.595256349266429,4.562581073526389,4.52900217769518,4.494573596336795,4.459350628783705,4.423389850314832,4.3867490212841025,4.3494869943455186,4.311663619923783,4.273339650082289,4.234576640942905,4.195436853814266,4.155983155187408,4.116278915759331,4.07638790864673,4.03637420695334,3.9963020808554517,3.9562358943708773,3.916240001977198,3.876378645245331,3.836715849654446,3.7973153217539695,3.758240346837861,3.7195536872955035,3.68131748180249,3.643593145513221,3.606441271415626,3.5699215330064478,3.534092588443424,3.4990119863283047,3.464736073272047,3.4313199033906487,3.398817149876999,3.3672800187907677,3.3367591652048105,3.3073036118427814,3.278960670338624,3.2517758652444266,3.225792860908697,3.201053391342498,3.177597193186106,3.1554619418838508,3.134683191169657,3.115294315960491,3.0973264587494227,3.0808084795844257,3.065766909713247,3.052225908968803,3.0402072269635543,3.0297301681551883,3.0208115608397157,3.0134657301217924,3.0077044749056747,3.0035370489437705,3.0009701459732225,3.0000078889643995,3.000651823498564,3.002900915285354,3.0067515518240633,3.0121975482060552,3.019230157048991,3.0278380825469084,3.038007498613598,3.049722071090115,3.062962983980781,3.077708969675509,3.0939363431099336,3.111619039808456,3.1307286577491205,3.151234502983058,3.1731036389352356,3.1963009393073247,3.2207891444977075,3.2465289214480078,3.2734789268200126,3.30159587340152,3.3308345996344366,3.3611481421534686,3.3924878112188708,3.4248032689221173,3.458042610038859,3.4921524453993134,3.527077987642178,3.5627631392143146,3.5991505824748824,3.6361818717591685,3.6737975272542656,3.711937130535793,3.7505394216122316,3.7895423973209708,3.82888341091806,3.8684992727016656,3.908326351507637,3.948300676914156,3.98835804199129,4.02843410643044,4.068464499888012,4.1083849253773375,4.148131262542756,4.187639670650013,4.226846691127506,4.265689349493716,4.304105256507081,4.342032708375861,4.379410785867028,4.416179452154993,4.452279649253012,4.48765339287237,4.522243865556991,4.555995507943873,4.588854108002778,4.620766888111817,4.651682589829085,4.681551556224202,4.710325811637464,4.7379591387385664,4.764407152761063,4.7896273727933725,4.813579290011794,4.836224432745951,4.857526428272151,4.877451061235407,4.895966328606287,4.91304249108431,4.928652120865341,4.942770145696242,4.955373889146032,4.966443107028867,4.975960019920334,4.983909341714841,4.99027830417822,4.995056677456123,4.998236786505252,4.999813523421052,4.999784355642043,4.998149330017635,4.994911072732876,4.990074785090264,4.983648235155393,4.975641745279849,4.966068175521413,4.9549429029881775,4.94228379713977,4.928111191085353,4.912447848924498,4.895318929183395,4.8767519444051155,4.856776716958858,4.8354253311391275,4.812732081631809,4.788733418429898,4.763467888287364,4.736976072805198,4.709300523249073,4.680485692203317,4.650577862170989,4.6196250712347275,4.587677035897779,4.554785071229138,4.521002008441071,4.4863821100314,4.45098098262685,4.414855487667444,4.378063650075433,4.340664565055406,4.302718303175332,4.26428581388096,4.2254288275985585,4.18620975658325,4.146691594672178,4.106937816103543,4.067012273564019,4.026979095628288,3.986902583755461,3.946847109007802,3.906877008657657,3.8670564828486507,3.827449491477153,3.7881196514596205,3.749130134550837,3.7105435658771717,3.6724219233478435,3.634826438105738,3.597817496177691,3.5614545414821897,3.5257959803503107,3.4908990877132218,3.4568199151069376,3.4236132006421194,3.3913322810834825,3.3600290061800644,3.329753655383932,3.300554857091126,3.2724795105345144,3.2455727104540553,3.219877674665428,3.195435674643404,3.1722859692314245,3.1504657415838797,3.130010039442374,3.1109517188418945,3.0933213913373057,3.0771473748349436,3.0624556481082776,3.0492698090706902,3.0376110368724127,3.0274980578824833,3.018947115610374,3.011971944615599,3.0065837484472047,3.0027911816485844,3.0006003358565128,3.0000147300167344,3.0010353047318166,3.0036604207503514,3.0078858615999264,3.013704840359642,3.021108010561292,3.0300834812016992,3.040616835842095,3.052691155763867,3.066287047143472,3.0813826722028788,3.097953784285499,3.115973766801272,3.1354136759783393,3.156242287352655,3.1784261459208523,3.2019296198758105,3.2267149578386127,3.2527423494949703,3.2799699895387193,3.3083541448196767,3.3378492245880107,3.368407853722296,3.3999809488236377,3.4325177970536243,3.4659661375895094,3.500272245565763,3.535381018367181,3.5712360641349306,3.607779792343394,3.644953506302321,3.682697497435689,3.720951141185876,3.7596529943890777,3.7987408939655816,3.8381520567663596,3.877823180415631,3.917690544987404,3.957690115352695,3.997757644033012,4.037828774394931,4.077839144019998,4.117724488083904,4.1574207425789265,4.196864147213803,4.235991347825785,4.274739498140359,4.31304636071519,4.350850406906176,4.3880909156950105,4.424708071219533,4.460643058850225,4.495838159658516,4.530236843125165,4.563783857939822,4.596425320745914,4.628108802688325,4.658783413624834,4.688399883866083,4.71691064331276,4.744269897862889,4.770433702966512,4.79536003420961,4.8190088548138945,4.841342179944048,4.862324137719128,4.88192102683013,4.90010137067118,4.916835967897383,4.93209793932815,4.94586277112065,4.95810835414405,4.968815019491291,4.977965570071371,4.985545308231385,4.99154205936396,4.995946191462153,4.998750630590426,4.999950872246836,4.999544988598173,4.9975336315764665,4.9939200318318395,4.988709993543432,4.9819118850966975,4.973536625642074,4.963597667556593,4.952110974836615,4.939094997456397,4.92457064173366,4.908561236749774,4.8910924968784935,4.8721924804834185,4.851891544850529,4.830222297428196,4.807219543452948,4.782920230045161,4.757363386864433,4.730590063419985,4.702643263136764,4.673567874283162,4.643410597871283,4.6122198726455945,4.580045797280401,4.546940049911141,4.512955805128758,4.47814764857044,4.442571489243943,4.406284469726303,4.369344874381194,4.331812035742332,4.293746239213316,4.2552086262369455,4.216261096089594,4.176966206458322,4.13738707296045,4.097587267767001,4.057630717492806,4.017581600517303,3.977504243900955,3.937463020062856,3.89752224338548,3.8577460669126498,3.81819837930664,3.77894270222995,3.740042088316536,3.701559019896401,3.663555308636221,3.62609199625718,3.5892292564895056,3.5530262984211554,3.5175412713959515,3.4828311716138454,3.4489517505833853,3.4159574255734078,3.38390119220779,3.352834539343659,3.3228073663697675,3.2938679030578895,3.2660626320959576,3.239436214427365,3.2140314175163844,3.1898890466548777,3.167047879420665,3.1455446033928163,3.1254137572239107,3.106687675163897,3.0893964351247005,3.0735678103689406,3.059227224900407,3.0463977126279143,3.0350998803681413,3.0253518747468764,3.0171693530518295,3.0105654580838292,3.0055507970468045,3.0021334245104465,3.000318829472925,3.0001099265444355,3.0015070512657434,3.004507959569232,3.009107831383339,3.0152992783745707,3.0230723558146773,3.032414578553917,3.043310941074755,3.05574394159379,3.069693610173192,3.085137540796502,3.102050927357267,3.1204066035027163,3.140175086268468,3.161324623434195,3.183821244524171,3.2076288153707946,3.2327090961534384,3.259021802819418,3.2865246717883947,3.3151735278363272,3.3449223550498965,3.3757233707374628,3.407527102177824,3.4402824660835085,3.4739368506509765,3.508436200065904,3.543725101327871,3.5797468732549538,3.6164436575252763,3.6537565116092945,3.691625503443528,3.7299898076937086,3.768787803452669,3.8079571732161157,3.847435002977264,3.8871578832795817,3.927062011065323,3.967083292156272,4.007157444202076,4.047220099930843,4.0872069105361035,4.127053649034146,4.16669631342567,4.206071229496066,4.2451151530892055,4.283765371690466,4.321959805155855,4.359637105425376,4.3967367550605525,4.433199164447792,4.468965767511476,4.5039791157830305,4.538182970674906,4.571522393811234,4.603943835270069,4.635395219595509,4.665826029441503,4.695187386713034,4.723432131074315,4.750514895697922,4.77639218013318,4.80102242017678,4.824366054633362,4.846385588858887,4.867045654984684,4.886313068725475,4.9041568826801125,4.920548436039421,4.935461400621319,4.948871823159248,4.96075816377601,4.971101330581216,4.979884710336753,4.987094195141043,4.99271820508921,4.996747706872775,4.9991762282889916,4.999999868636526,4.999217304980781,4.996829794278799],\"type\":\"scatter\"}],                        {\"template\":{\"data\":{\"bar\":[{\"error_x\":{\"color\":\"#2a3f5f\"},\"error_y\":{\"color\":\"#2a3f5f\"},\"marker\":{\"line\":{\"color\":\"#E5ECF6\",\"width\":0.5},\"pattern\":{\"fillmode\":\"overlay\",\"size\":10,\"solidity\":0.2}},\"type\":\"bar\"}],\"barpolar\":[{\"marker\":{\"line\":{\"color\":\"#E5ECF6\",\"width\":0.5},\"pattern\":{\"fillmode\":\"overlay\",\"size\":10,\"solidity\":0.2}},\"type\":\"barpolar\"}],\"carpet\":[{\"aaxis\":{\"endlinecolor\":\"#2a3f5f\",\"gridcolor\":\"white\",\"linecolor\":\"white\",\"minorgridcolor\":\"white\",\"startlinecolor\":\"#2a3f5f\"},\"baxis\":{\"endlinecolor\":\"#2a3f5f\",\"gridcolor\":\"white\",\"linecolor\":\"white\",\"minorgridcolor\":\"white\",\"startlinecolor\":\"#2a3f5f\"},\"type\":\"carpet\"}],\"choropleth\":[{\"colorbar\":{\"outlinewidth\":0,\"ticks\":\"\"},\"type\":\"choropleth\"}],\"contour\":[{\"colorbar\":{\"outlinewidth\":0,\"ticks\":\"\"},\"colorscale\":[[0.0,\"#0d0887\"],[0.1111111111111111,\"#46039f\"],[0.2222222222222222,\"#7201a8\"],[0.3333333333333333,\"#9c179e\"],[0.4444444444444444,\"#bd3786\"],[0.5555555555555556,\"#d8576b\"],[0.6666666666666666,\"#ed7953\"],[0.7777777777777778,\"#fb9f3a\"],[0.8888888888888888,\"#fdca26\"],[1.0,\"#f0f921\"]],\"type\":\"contour\"}],\"contourcarpet\":[{\"colorbar\":{\"outlinewidth\":0,\"ticks\":\"\"},\"type\":\"contourcarpet\"}],\"heatmap\":[{\"colorbar\":{\"outlinewidth\":0,\"ticks\":\"\"},\"colorscale\":[[0.0,\"#0d0887\"],[0.1111111111111111,\"#46039f\"],[0.2222222222222222,\"#7201a8\"],[0.3333333333333333,\"#9c179e\"],[0.4444444444444444,\"#bd3786\"],[0.5555555555555556,\"#d8576b\"],[0.6666666666666666,\"#ed7953\"],[0.7777777777777778,\"#fb9f3a\"],[0.8888888888888888,\"#fdca26\"],[1.0,\"#f0f921\"]],\"type\":\"heatmap\"}],\"heatmapgl\":[{\"colorbar\":{\"outlinewidth\":0,\"ticks\":\"\"},\"colorscale\":[[0.0,\"#0d0887\"],[0.1111111111111111,\"#46039f\"],[0.2222222222222222,\"#7201a8\"],[0.3333333333333333,\"#9c179e\"],[0.4444444444444444,\"#bd3786\"],[0.5555555555555556,\"#d8576b\"],[0.6666666666666666,\"#ed7953\"],[0.7777777777777778,\"#fb9f3a\"],[0.8888888888888888,\"#fdca26\"],[1.0,\"#f0f921\"]],\"type\":\"heatmapgl\"}],\"histogram\":[{\"marker\":{\"pattern\":{\"fillmode\":\"overlay\",\"size\":10,\"solidity\":0.2}},\"type\":\"histogram\"}],\"histogram2d\":[{\"colorbar\":{\"outlinewidth\":0,\"ticks\":\"\"},\"colorscale\":[[0.0,\"#0d0887\"],[0.1111111111111111,\"#46039f\"],[0.2222222222222222,\"#7201a8\"],[0.3333333333333333,\"#9c179e\"],[0.4444444444444444,\"#bd3786\"],[0.5555555555555556,\"#d8576b\"],[0.6666666666666666,\"#ed7953\"],[0.7777777777777778,\"#fb9f3a\"],[0.8888888888888888,\"#fdca26\"],[1.0,\"#f0f921\"]],\"type\":\"histogram2d\"}],\"histogram2dcontour\":[{\"colorbar\":{\"outlinewidth\":0,\"ticks\":\"\"},\"colorscale\":[[0.0,\"#0d0887\"],[0.1111111111111111,\"#46039f\"],[0.2222222222222222,\"#7201a8\"],[0.3333333333333333,\"#9c179e\"],[0.4444444444444444,\"#bd3786\"],[0.5555555555555556,\"#d8576b\"],[0.6666666666666666,\"#ed7953\"],[0.7777777777777778,\"#fb9f3a\"],[0.8888888888888888,\"#fdca26\"],[1.0,\"#f0f921\"]],\"type\":\"histogram2dcontour\"}],\"mesh3d\":[{\"colorbar\":{\"outlinewidth\":0,\"ticks\":\"\"},\"type\":\"mesh3d\"}],\"parcoords\":[{\"line\":{\"colorbar\":{\"outlinewidth\":0,\"ticks\":\"\"}},\"type\":\"parcoords\"}],\"pie\":[{\"automargin\":true,\"type\":\"pie\"}],\"scatter\":[{\"marker\":{\"colorbar\":{\"outlinewidth\":0,\"ticks\":\"\"}},\"type\":\"scatter\"}],\"scatter3d\":[{\"line\":{\"colorbar\":{\"outlinewidth\":0,\"ticks\":\"\"}},\"marker\":{\"colorbar\":{\"outlinewidth\":0,\"ticks\":\"\"}},\"type\":\"scatter3d\"}],\"scattercarpet\":[{\"marker\":{\"colorbar\":{\"outlinewidth\":0,\"ticks\":\"\"}},\"type\":\"scattercarpet\"}],\"scattergeo\":[{\"marker\":{\"colorbar\":{\"outlinewidth\":0,\"ticks\":\"\"}},\"type\":\"scattergeo\"}],\"scattergl\":[{\"marker\":{\"colorbar\":{\"outlinewidth\":0,\"ticks\":\"\"}},\"type\":\"scattergl\"}],\"scattermapbox\":[{\"marker\":{\"colorbar\":{\"outlinewidth\":0,\"ticks\":\"\"}},\"type\":\"scattermapbox\"}],\"scatterpolar\":[{\"marker\":{\"colorbar\":{\"outlinewidth\":0,\"ticks\":\"\"}},\"type\":\"scatterpolar\"}],\"scatterpolargl\":[{\"marker\":{\"colorbar\":{\"outlinewidth\":0,\"ticks\":\"\"}},\"type\":\"scatterpolargl\"}],\"scatterternary\":[{\"marker\":{\"colorbar\":{\"outlinewidth\":0,\"ticks\":\"\"}},\"type\":\"scatterternary\"}],\"surface\":[{\"colorbar\":{\"outlinewidth\":0,\"ticks\":\"\"},\"colorscale\":[[0.0,\"#0d0887\"],[0.1111111111111111,\"#46039f\"],[0.2222222222222222,\"#7201a8\"],[0.3333333333333333,\"#9c179e\"],[0.4444444444444444,\"#bd3786\"],[0.5555555555555556,\"#d8576b\"],[0.6666666666666666,\"#ed7953\"],[0.7777777777777778,\"#fb9f3a\"],[0.8888888888888888,\"#fdca26\"],[1.0,\"#f0f921\"]],\"type\":\"surface\"}],\"table\":[{\"cells\":{\"fill\":{\"color\":\"#EBF0F8\"},\"line\":{\"color\":\"white\"}},\"header\":{\"fill\":{\"color\":\"#C8D4E3\"},\"line\":{\"color\":\"white\"}},\"type\":\"table\"}]},\"layout\":{\"annotationdefaults\":{\"arrowcolor\":\"#2a3f5f\",\"arrowhead\":0,\"arrowwidth\":1},\"autotypenumbers\":\"strict\",\"coloraxis\":{\"colorbar\":{\"outlinewidth\":0,\"ticks\":\"\"}},\"colorscale\":{\"diverging\":[[0,\"#8e0152\"],[0.1,\"#c51b7d\"],[0.2,\"#de77ae\"],[0.3,\"#f1b6da\"],[0.4,\"#fde0ef\"],[0.5,\"#f7f7f7\"],[0.6,\"#e6f5d0\"],[0.7,\"#b8e186\"],[0.8,\"#7fbc41\"],[0.9,\"#4d9221\"],[1,\"#276419\"]],\"sequential\":[[0.0,\"#0d0887\"],[0.1111111111111111,\"#46039f\"],[0.2222222222222222,\"#7201a8\"],[0.3333333333333333,\"#9c179e\"],[0.4444444444444444,\"#bd3786\"],[0.5555555555555556,\"#d8576b\"],[0.6666666666666666,\"#ed7953\"],[0.7777777777777778,\"#fb9f3a\"],[0.8888888888888888,\"#fdca26\"],[1.0,\"#f0f921\"]],\"sequentialminus\":[[0.0,\"#0d0887\"],[0.1111111111111111,\"#46039f\"],[0.2222222222222222,\"#7201a8\"],[0.3333333333333333,\"#9c179e\"],[0.4444444444444444,\"#bd3786\"],[0.5555555555555556,\"#d8576b\"],[0.6666666666666666,\"#ed7953\"],[0.7777777777777778,\"#fb9f3a\"],[0.8888888888888888,\"#fdca26\"],[1.0,\"#f0f921\"]]},\"colorway\":[\"#636efa\",\"#EF553B\",\"#00cc96\",\"#ab63fa\",\"#FFA15A\",\"#19d3f3\",\"#FF6692\",\"#B6E880\",\"#FF97FF\",\"#FECB52\"],\"font\":{\"color\":\"#2a3f5f\"},\"geo\":{\"bgcolor\":\"white\",\"lakecolor\":\"white\",\"landcolor\":\"#E5ECF6\",\"showlakes\":true,\"showland\":true,\"subunitcolor\":\"white\"},\"hoverlabel\":{\"align\":\"left\"},\"hovermode\":\"closest\",\"mapbox\":{\"style\":\"light\"},\"paper_bgcolor\":\"white\",\"plot_bgcolor\":\"#E5ECF6\",\"polar\":{\"angularaxis\":{\"gridcolor\":\"white\",\"linecolor\":\"white\",\"ticks\":\"\"},\"bgcolor\":\"#E5ECF6\",\"radialaxis\":{\"gridcolor\":\"white\",\"linecolor\":\"white\",\"ticks\":\"\"}},\"scene\":{\"xaxis\":{\"backgroundcolor\":\"#E5ECF6\",\"gridcolor\":\"white\",\"gridwidth\":2,\"linecolor\":\"white\",\"showbackground\":true,\"ticks\":\"\",\"zerolinecolor\":\"white\"},\"yaxis\":{\"backgroundcolor\":\"#E5ECF6\",\"gridcolor\":\"white\",\"gridwidth\":2,\"linecolor\":\"white\",\"showbackground\":true,\"ticks\":\"\",\"zerolinecolor\":\"white\"},\"zaxis\":{\"backgroundcolor\":\"#E5ECF6\",\"gridcolor\":\"white\",\"gridwidth\":2,\"linecolor\":\"white\",\"showbackground\":true,\"ticks\":\"\",\"zerolinecolor\":\"white\"}},\"shapedefaults\":{\"line\":{\"color\":\"#2a3f5f\"}},\"ternary\":{\"aaxis\":{\"gridcolor\":\"white\",\"linecolor\":\"white\",\"ticks\":\"\"},\"baxis\":{\"gridcolor\":\"white\",\"linecolor\":\"white\",\"ticks\":\"\"},\"bgcolor\":\"#E5ECF6\",\"caxis\":{\"gridcolor\":\"white\",\"linecolor\":\"white\",\"ticks\":\"\"}},\"title\":{\"x\":0.05},\"xaxis\":{\"automargin\":true,\"gridcolor\":\"white\",\"linecolor\":\"white\",\"ticks\":\"\",\"title\":{\"standoff\":15},\"zerolinecolor\":\"white\",\"zerolinewidth\":2},\"yaxis\":{\"automargin\":true,\"gridcolor\":\"white\",\"linecolor\":\"white\",\"ticks\":\"\",\"title\":{\"standoff\":15},\"zerolinecolor\":\"white\",\"zerolinewidth\":2}}},\"xaxis\":{\"anchor\":\"y\",\"domain\":[0.0,1.0],\"title\":{\"text\":\"x\"}},\"yaxis\":{\"anchor\":\"x\",\"domain\":[0.0,1.0],\"title\":{\"text\":\"y\"}},\"legend\":{\"tracegroupgap\":0},\"margin\":{\"t\":60},\"title\":{\"text\":\"Sinsusoidal Regression on Noisy Data\"}},                        {\"responsive\": true}                    ).then(function(){\n",
       "                            \n",
       "var gd = document.getElementById('ffd69ded-3ccf-40f6-93b5-83353707c0d8');\n",
       "var x = new MutationObserver(function (mutations, observer) {{\n",
       "        var display = window.getComputedStyle(gd).display;\n",
       "        if (!display || display === 'none') {{\n",
       "            console.log([gd, 'removed!']);\n",
       "            Plotly.purge(gd);\n",
       "            observer.disconnect();\n",
       "        }}\n",
       "}});\n",
       "\n",
       "// Listen for the removal of the full notebook cells\n",
       "var notebookContainer = gd.closest('#notebook-container');\n",
       "if (notebookContainer) {{\n",
       "    x.observe(notebookContainer, {childList: true});\n",
       "}}\n",
       "\n",
       "// Listen for the clearing of the current output cell\n",
       "var outputEl = gd.closest('.output');\n",
       "if (outputEl) {{\n",
       "    x.observe(outputEl, {childList: true});\n",
       "}}\n",
       "\n",
       "                        })                };                });            </script>        </div>"
      ]
     },
     "metadata": {},
     "output_type": "display_data"
    },
    {
     "data": {
      "application/javascript": [
       "\n",
       "            setTimeout(function() {\n",
       "                var nbb_cell_id = 71;\n",
       "                var nbb_unformatted_code = \"import plotly.express as px\\nfig = px.scatter(x=tt, y=yynoise)\\nfig.add_scatter(x=tt, y =yy, name = \\\"Sinusoidal Prediction\\\")\\nfig.update_layout(title = 'Sinsusoidal Regression on Noisy Data')\\nfig.show()\";\n",
       "                var nbb_formatted_code = \"import plotly.express as px\\n\\nfig = px.scatter(x=tt, y=yynoise)\\nfig.add_scatter(x=tt, y=yy, name=\\\"Sinusoidal Prediction\\\")\\nfig.update_layout(title=\\\"Sinsusoidal Regression on Noisy Data\\\")\\nfig.show()\";\n",
       "                var nbb_cells = Jupyter.notebook.get_cells();\n",
       "                for (var i = 0; i < nbb_cells.length; ++i) {\n",
       "                    if (nbb_cells[i].input_prompt_number == nbb_cell_id) {\n",
       "                        if (nbb_cells[i].get_text() == nbb_unformatted_code) {\n",
       "                             nbb_cells[i].set_text(nbb_formatted_code);\n",
       "                        }\n",
       "                        break;\n",
       "                    }\n",
       "                }\n",
       "            }, 500);\n",
       "            "
      ],
      "text/plain": [
       "<IPython.core.display.Javascript object>"
      ]
     },
     "metadata": {},
     "output_type": "display_data"
    }
   ],
   "source": [
    "fig = px.scatter(x=tt, y=yynoise)\n",
    "fig.add_scatter(x=tt, y=yy, name=\"Sinusoidal Prediction\")\n",
    "fig.update_layout(title=\"Sinsusoidal Regression on Noisy Data\")\n",
    "fig.show()"
   ]
  },
  {
   "cell_type": "markdown",
   "id": "614eacc7",
   "metadata": {},
   "source": [
    "### QQPlot  <a class=\"anchor\" id=\"QQplot\"></a>"
   ]
  },
  {
   "cell_type": "code",
   "execution_count": 72,
   "id": "6dcf3e95",
   "metadata": {},
   "outputs": [
    {
     "data": {
      "application/vnd.plotly.v1+json": {
       "config": {
        "linkText": "Export to plot.ly",
        "plotlyServerURL": "https://plot.ly",
        "showLink": false
       },
       "data": [
        {
         "marker": {
          "color": "#19d3f3"
         },
         "mode": "markers",
         "type": "scatter",
         "x": [
          -2.878791946663771,
          -2.6527443361778706,
          -2.5128493063546746,
          -2.4096446702910828,
          -2.3270974381576357,
          -2.2578967738622167,
          -2.198070087185148,
          -2.1452091577240897,
          -2.0977397240560367,
          -2.0545740973085067,
          -2.0149281722161585,
          -1.9782173557054166,
          -1.9439937268344964,
          -1.9119062214969071,
          -1.8816743862208096,
          -1.8530704927563826,
          -1.8259070010390772,
          -1.8000275547807236,
          -1.7753003758395876,
          -1.751613327288067,
          -1.7288701622862503,
          -1.706987631698608,
          -1.6858932242067775,
          -1.6655233794215798,
          -1.6458220596200581,
          -1.6267395968131173,
          -1.6082317536240274,
          -1.5902589519520243,
          -1.5727856345778841,
          -1.555779733045389,
          -1.539212221204318,
          -1.523056738329606,
          -1.5072892691559818,
          -1.491887870782055,
          -1.476832438412075,
          -1.4621045034684073,
          -1.4476870588329875,
          -1.4335644069425775,
          -1.4197220272303261,
          -1.4061464600200018,
          -1.3928252044731249,
          -1.3797466285888613,
          -1.366899889581792,
          -1.3542748632287118,
          -1.341862080994352,
          -1.3296526739266514,
          -1.317638322462106,
          -1.3058112114067684,
          -1.2941639894629922,
          -1.282689732759974,
          -1.2713819119201764,
          -1.2602343622565275,
          -1.249241256748514,
          -1.2383970814907308,
          -1.227696613346246,
          -1.2171348995704503,
          -1.2067072391996543,
          -1.1964091660234413,
          -1.1862364329810913,
          -1.1761849978409358,
          -1.1662510100376124,
          -1.1564307985561837,
          -1.1467208607643733,
          -1.1371178521048986,
          -1.1276185765692712,
          -1.118219977882748,
          -1.108919131337386,
          -1.0997132362166246,
          -1.0905996087604735,
          -1.0815756756254842,
          -1.0726389677981436,
          -1.063787114924306,
          -1.0550178400208639,
          -1.046328954539008,
          -1.037718353751271,
          -1.0291840124370901,
          -1.0207239808438964,
          -1.0123363809027899,
          -1.0040194026796954,
          -0.9957713010445483,
          -0.9875903925425602,
          -0.9794750524529587,
          -0.9714237120218157,
          -0.9634348558566883,
          -0.9555070194717937,
          -0.9476387869733464,
          -0.9398287888755193,
          -0.9320757000382391,
          -0.9243782377187024,
          -0.916735159729141,
          -0.9091452626939119,
          -0.9016073803995353,
          -0.8941203822317478,
          -0.886683171694106,
          -0.8792946850030504,
          -0.8719538897547215,
          -0.8646597836591481,
          -0.8574113933377402,
          -0.8502077731803047,
          -0.843048004258061,
          -0.8359311932893759,
          -0.8288564716551625,
          -0.8218229944610879,
          -0.8148299396439304,
          -0.8078765071195982,
          -0.8009619179704839,
          -0.7940854136699831,
          -0.7872462553421392,
          -0.7804437230545131,
          -0.7736771151424852,
          -0.7669457475633235,
          -0.7602489532784371,
          -0.7535860816623511,
          -0.7469564979370035,
          -0.7403595826300782,
          -0.7337947310561326,
          -0.7272613528193825,
          -0.7207588713370479,
          -0.7142867233822445,
          -0.7078443586454575,
          -0.7014312393136848,
          -0.695046839666401,
          -0.6886906456875264,
          -0.682362154692641,
          -0.6760608749707244,
          -0.6697863254397342,
          -0.6635380353153846,
          -0.6573155437925107,
          -0.6511183997384439,
          -0.6449461613978518,
          -0.6387983961085225,
          -0.6326746800276069,
          -0.6265745978678484,
          -0.6204977426433653,
          -0.6144437154245603,
          -0.6084121251017659,
          -0.6024025881572435,
          -0.5964147284451813,
          -0.5904481769793475,
          -0.5845025717280762,
          -0.578577557416278,
          -0.5726727853341822,
          -0.5667879131525292,
          -0.5609226047439518,
          -0.5550765300102889,
          -0.5492493647155903,
          -0.543440790324586,
          -0.5376504938463977,
          -0.5318781676832843,
          -0.5261235094842235,
          -0.5203862220031361,
          -0.5146660129615759,
          -0.5089625949157053,
          -0.5032756851273973,
          -0.4976050054393014,
          -0.49195028215372294,
          -0.48631124591517094,
          -0.480687631596437,
          -0.47507917818807016,
          -0.469485628691124,
          -0.4639067300130515,
          -0.45834223286663384,
          -0.45279189167182926,
          -0.44725546446043773,
          -0.44173271278347614,
          -0.436223401621169,
          -0.43072729929545756,
          -0.42524417738493925,
          -0.4197738106421494,
          -0.4143159769131024,
          -0.4088704570590127,
          -0.40343703488011934,
          -0.39801549704153766,
          -0.39260563300107176,
          -0.3872072349389157,
          -0.3818200976891797,
          -0.3764440186731786,
          -0.3710787978344214,
          -0.3657242375752429,
          -0.36038014269502366,
          -0.35504632032994143,
          -0.3497225798942044,
          -0.3444087330227139,
          -0.33910459351511124,
          -0.33380997728115813,
          -0.32852470228741065,
          -0.3232485885051383,
          -0.3179814578594511,
          -0.3127231341795909,
          -0.30747344315035036,
          -0.30223221226458047,
          -0.29699927077675203,
          -0.2917744496575336,
          -0.28655758154935473,
          -0.28134850072292034,
          -0.2761470430346446,
          -0.27095304588497404,
          -0.2657663481775706,
          -0.26058679027932496,
          -0.25541421398117364,
          -0.2502484624596921,
          -0.24508938023943821,
          -0.23993681315602117,
          -0.23479060831987053,
          -0.2296506140806827,
          -0.2245166799925212,
          -0.2193886567795486,
          -0.21426639630236863,
          -0.20914975152495716,
          -0.20403857648216184,
          -0.19893272624775024,
          -0.19383205690298824,
          -0.1887364255057275,
          -0.1836456900599868,
          -0.17855970948600722,
          -0.17347834359076486,
          -0.1684014530389235,
          -0.16332889932421207,
          -0.15826054474120876,
          -0.15319625235751866,
          -0.1481358859863274,
          -0.14307931015931719,
          -0.13802639009993026,
          -0.13297699169696545,
          -0.12793098147849394,
          -0.12288822658608067,
          -0.11784859474929771,
          -0.11281195426051693,
          -0.10777817394996866,
          -0.10274712316105414,
          -0.09771867172589878,
          -0.09269268994113539,
          -0.08766904854390295,
          -0.08264761868805212,
          -0.07762827192054372,
          -0.07261088015802968,
          -0.06759531566360502,
          -0.06258145102371986,
          -0.057569159125240195,
          -0.05255831313264713,
          -0.04754878646536324,
          -0.04254045277519598,
          -0.03753318592388742,
          -0.03252685996075981,
          -0.0275213491004469,
          -0.02251652770070054,
          -0.017512270240262542,
          -0.012508451296791559,
          -0.007504945524834977,
          -0.0025016276338357883,
          0.0025016276338357883,
          0.007504945524834839,
          0.012508451296791559,
          0.017512270240262404,
          0.02251652770070054,
          0.027521349100446763,
          0.03252685996075981,
          0.03753318592388728,
          0.04254045277519598,
          0.0475487864653631,
          0.05255831313264713,
          0.05756915912524034,
          0.06258145102371986,
          0.06759531566360516,
          0.07261088015802968,
          0.07762827192054386,
          0.08264761868805212,
          0.08766904854390309,
          0.09269268994113539,
          0.09771867172589892,
          0.102747123161054,
          0.10777817394996866,
          0.1128119542605168,
          0.11784859474929771,
          0.12288822658608053,
          0.12793098147849394,
          0.1329769916969653,
          0.13802639009993026,
          0.14307931015931705,
          0.1481358859863274,
          0.15319625235751883,
          0.15826054474120876,
          0.1633288993242122,
          0.1684014530389235,
          0.173478343590765,
          0.17855970948600722,
          0.18364569005998696,
          0.1887364255057275,
          0.19383205690298838,
          0.19893272624775024,
          0.20403857648216184,
          0.20914975152495702,
          0.21426639630236863,
          0.21938865677954847,
          0.2245166799925212,
          0.22965061408068257,
          0.23479060831987053,
          0.23993681315602103,
          0.24508938023943821,
          0.25024846245969196,
          0.25541421398117364,
          0.26058679027932513,
          0.2657663481775706,
          0.2709530458849742,
          0.2761470430346446,
          0.28134850072292045,
          0.28655758154935473,
          0.29177444965753374,
          0.29699927077675203,
          0.30223221226458064,
          0.3074734431503502,
          0.3127231341795909,
          0.3179814578594509,
          0.3232485885051383,
          0.3285247022874105,
          0.33380997728115813,
          0.339104593515111,
          0.3444087330227139,
          0.34972257989420424,
          0.35504632032994143,
          0.36038014269502383,
          0.3657242375752429,
          0.3710787978344215,
          0.3764440186731786,
          0.3818200976891798,
          0.3872072349389157,
          0.3926056330010719,
          0.39801549704153766,
          0.4034370348801195,
          0.4088704570590127,
          0.4143159769131024,
          0.41977381064214925,
          0.42524417738493925,
          0.43072729929545744,
          0.436223401621169,
          0.44173271278347603,
          0.44725546446043773,
          0.45279189167182915,
          0.45834223286663384,
          0.4639067300130513,
          0.469485628691124,
          0.47507917818807033,
          0.480687631596437,
          0.48631124591517116,
          0.49195028215372294,
          0.49760500543930153,
          0.5032756851273973,
          0.5089625949157055,
          0.5146660129615759,
          0.5203862220031363,
          0.5261235094842234,
          0.5318781676832843,
          0.5376504938463975,
          0.543440790324586,
          0.5492493647155902,
          0.5550765300102889,
          0.5609226047439517,
          0.5667879131525292,
          0.572672785334182,
          0.578577557416278,
          0.5845025717280763,
          0.5904481769793475,
          0.5964147284451815,
          0.6024025881572435,
          0.608412125101766,
          0.6144437154245603,
          0.6204977426433654,
          0.6265745978678484,
          0.632674680027607,
          0.6387983961085225,
          0.6449461613978518,
          0.6511183997384437,
          0.6573155437925107,
          0.6635380353153844,
          0.6697863254397342,
          0.6760608749707242,
          0.682362154692641,
          0.688690645687526,
          0.695046839666401,
          0.7014312393136847,
          0.7078443586454575,
          0.7142867233822449,
          0.7207588713370479,
          0.7272613528193828,
          0.7337947310561326,
          0.7403595826300782,
          0.7469564979370035,
          0.7535860816623511,
          0.7602489532784371,
          0.7669457475633235,
          0.7736771151424852,
          0.7804437230545131,
          0.7872462553421392,
          0.7940854136699831,
          0.8009619179704839,
          0.8078765071195982,
          0.8148299396439302,
          0.8218229944610879,
          0.8288564716551624,
          0.8359311932893759,
          0.8430480042580611,
          0.8502077731803047,
          0.8574113933377404,
          0.8646597836591481,
          0.8719538897547218,
          0.8792946850030504,
          0.886683171694106,
          0.8941203822317478,
          0.9016073803995353,
          0.9091452626939119,
          0.916735159729141,
          0.9243782377187024,
          0.9320757000382391,
          0.9398287888755193,
          0.9476387869733464,
          0.9555070194717937,
          0.9634348558566883,
          0.9714237120218153,
          0.9794750524529587,
          0.98759039254256,
          0.9957713010445483,
          1.0040194026796954,
          1.0123363809027899,
          1.0207239808438962,
          1.0291840124370901,
          1.037718353751271,
          1.046328954539008,
          1.0550178400208639,
          1.063787114924306,
          1.0726389677981436,
          1.0815756756254842,
          1.0905996087604735,
          1.0997132362166246,
          1.108919131337386,
          1.118219977882747,
          1.1276185765692712,
          1.1371178521048986,
          1.1467208607643733,
          1.1564307985561837,
          1.1662510100376124,
          1.1761849978409358,
          1.1862364329810913,
          1.1964091660234422,
          1.2067072391996543,
          1.2171348995704503,
          1.227696613346246,
          1.2383970814907308,
          1.249241256748514,
          1.2602343622565282,
          1.2713819119201764,
          1.282689732759974,
          1.2941639894629922,
          1.3058112114067684,
          1.317638322462106,
          1.3296526739266514,
          1.341862080994352,
          1.3542748632287118,
          1.366899889581792,
          1.3797466285888613,
          1.3928252044731244,
          1.4061464600200018,
          1.419722027230327,
          1.4335644069425775,
          1.447687058832988,
          1.4621045034684073,
          1.4768324384120757,
          1.4918878707820542,
          1.5072892691559825,
          1.523056738329606,
          1.539212221204318,
          1.5557797330453886,
          1.5727856345778841,
          1.5902589519520238,
          1.6082317536240274,
          1.6267395968131166,
          1.6458220596200581,
          1.6655233794215798,
          1.6858932242067775,
          1.706987631698607,
          1.7288701622862503,
          1.751613327288068,
          1.7753003758395876,
          1.8000275547807243,
          1.8259070010390772,
          1.8530704927563826,
          1.881674386220809,
          1.9119062214969078,
          1.943993726834496,
          1.9782173557054168,
          2.014928172216158,
          2.054574097308507,
          2.097739724056036,
          2.1452091577240897,
          2.1980700871851475,
          2.2578967738622175,
          2.327097438157635,
          2.4096446702910836,
          2.5128493063546724,
          2.652744336177871,
          2.878791946663763
         ],
         "y": [
          -1.4983920689428945,
          -1.4926748182463239,
          -1.4913312039750535,
          -1.4871995489138006,
          -1.4858533718543834,
          -1.4846580210552696,
          -1.4813002878751949,
          -1.4755455291172663,
          -1.4725920232613179,
          -1.4665247189745574,
          -1.4590293799978238,
          -1.448640768340229,
          -1.4236185762942277,
          -1.4141936464588971,
          -1.409863586158381,
          -1.408568043105502,
          -1.4055131066865334,
          -1.3965935372926186,
          -1.3924997837465103,
          -1.382030227310588,
          -1.3777270712166474,
          -1.3763492870626592,
          -1.350712740842436,
          -1.349529318530962,
          -1.3304500743138616,
          -1.3277151695630836,
          -1.3230898646706903,
          -1.3204022365178458,
          -1.3138307913746576,
          -1.30835073475075,
          -1.3070179813314047,
          -1.3036272026125428,
          -1.3000070062996043,
          -1.2925054591545284,
          -1.2771122466243203,
          -1.2668862119713777,
          -1.2651338999423745,
          -1.2572596864817447,
          -1.2515177424471426,
          -1.2514961446212762,
          -1.2493523007510574,
          -1.2448404619078457,
          -1.2426730823129657,
          -1.24032721114857,
          -1.218936331667832,
          -1.183397872804881,
          -1.1686949245444973,
          -1.1665503259096899,
          -1.1601636995373732,
          -1.1591395651022784,
          -1.1505519796973767,
          -1.149958630361525,
          -1.1475624240858355,
          -1.1455705170123647,
          -1.1347485093173573,
          -1.1339990294837725,
          -1.1234935603547003,
          -1.0949956822737468,
          -1.0860419148253109,
          -1.0747490346761683,
          -1.0651222269609786,
          -1.0552835191145453,
          -1.0470145106112216,
          -1.031748807912237,
          -1.024361567571467,
          -1.0242802324470381,
          -1.0146048952628361,
          -1.0135125518747423,
          -1.004290558814509,
          -0.9784831527999405,
          -0.9776878424350262,
          -0.9763844475031207,
          -0.9702912419015304,
          -0.9696420133013444,
          -0.9640060141416829,
          -0.9323882737515268,
          -0.9179472654603642,
          -0.9094566349760314,
          -0.903582443959956,
          -0.9005157873351362,
          -0.8970100504317937,
          -0.8960869004429828,
          -0.8940631467755669,
          -0.8871725647497386,
          -0.87911086167815,
          -0.8623900813362466,
          -0.8618761762949778,
          -0.8609747594778363,
          -0.8554183645480977,
          -0.8506191421303853,
          -0.8477563635430307,
          -0.8465417853292991,
          -0.8463924555780555,
          -0.842343519486648,
          -0.837733974884749,
          -0.8289840785028488,
          -0.8223339829794822,
          -0.8222569278359235,
          -0.8090186776149499,
          -0.8063384534021254,
          -0.7879397906859289,
          -0.787814242570847,
          -0.7860196853401491,
          -0.7738020356478255,
          -0.768764855954343,
          -0.7621451703073969,
          -0.7466204587927066,
          -0.7436411956818887,
          -0.7417171532687679,
          -0.7379216374102895,
          -0.7373369852341778,
          -0.7371698081559677,
          -0.7228019076067631,
          -0.7226993100718544,
          -0.7223074505170297,
          -0.7222007575511089,
          -0.7221410502423442,
          -0.7181290770308468,
          -0.6986193896848061,
          -0.6866058097231345,
          -0.6791965020258806,
          -0.6755053818664969,
          -0.6687678102663819,
          -0.6685498760621695,
          -0.655877116447324,
          -0.6491438507430525,
          -0.6477913952675012,
          -0.6442001263171884,
          -0.63437551699807,
          -0.6338860104649053,
          -0.6304562037211432,
          -0.6284565833173006,
          -0.6177496308601698,
          -0.617066210399194,
          -0.5874244583743127,
          -0.5793299199244117,
          -0.5708303872001044,
          -0.5666325039808644,
          -0.5624280104653572,
          -0.5611547966060444,
          -0.5584608128671227,
          -0.5482742585447822,
          -0.5463804089210313,
          -0.5460323981955639,
          -0.5454567634101934,
          -0.5451010359406316,
          -0.544165836523824,
          -0.5429146176493811,
          -0.5287250002524697,
          -0.5239342015864583,
          -0.5232789629792132,
          -0.5057664662187555,
          -0.4901930035749418,
          -0.4901249403183323,
          -0.4852001855972672,
          -0.46084751676935465,
          -0.45961223633880177,
          -0.4590800574736744,
          -0.45896178702721446,
          -0.4584697401165432,
          -0.4445583726263962,
          -0.4430889925253867,
          -0.43915025218301107,
          -0.39645606212659557,
          -0.3925280909071063,
          -0.3792987777436361,
          -0.3789827334048885,
          -0.3733990777848861,
          -0.37241894225268135,
          -0.36253738978497907,
          -0.36048474414179754,
          -0.34719059398082974,
          -0.3468103547455703,
          -0.3417115079476627,
          -0.336246021971923,
          -0.3354270557155967,
          -0.331523289691837,
          -0.3162434730294521,
          -0.3148702132776511,
          -0.31168631349324816,
          -0.30268239661301877,
          -0.2985632784916801,
          -0.29081573030683927,
          -0.2907372454877306,
          -0.2850982545660177,
          -0.2736433182748712,
          -0.27097643611704303,
          -0.25845772202099226,
          -0.253575706218895,
          -0.2531593981194864,
          -0.24724336827179716,
          -0.24012453208282558,
          -0.22336906807906498,
          -0.22075594298900647,
          -0.2148695877642739,
          -0.2144578834323254,
          -0.20276768926903976,
          -0.1980159251801652,
          -0.19780317637609723,
          -0.1933963993047758,
          -0.1920737175394458,
          -0.18374783830675678,
          -0.18357929551419616,
          -0.1820491065162222,
          -0.1818841544009704,
          -0.16580503556926107,
          -0.1624736187507998,
          -0.15601221059651138,
          -0.1523055369001014,
          -0.14785777604327377,
          -0.1394046510969016,
          -0.13880093309209096,
          -0.13859550240114737,
          -0.13439507417243224,
          -0.10617847917163425,
          -0.10028776282056118,
          -0.09348492423708521,
          -0.08474500601645918,
          -0.08469742889626186,
          -0.07492302896822078,
          -0.07344009797580942,
          -0.07235609847267543,
          -0.058056683478361126,
          -0.05727055624597277,
          -0.05042351186007821,
          -0.04676655683980435,
          -0.04031211466543638,
          -0.02553025288099864,
          -0.021062017025649915,
          -0.013491348797549207,
          -0.01185571362095228,
          -0.011508226599480587,
          -0.008502734084154362,
          -0.0004596678201762572,
          0.0005350263083756523,
          0.00630583617502678,
          0.011088047012541846,
          0.021690383374560973,
          0.030276077877084973,
          0.04802713489515398,
          0.056512512939286275,
          0.06256198359858356,
          0.06283601534210215,
          0.0632091089875031,
          0.06544068574576745,
          0.0655776444429268,
          0.08445577920804492,
          0.08568126429485723,
          0.08969531817886356,
          0.09315575263600007,
          0.09366841283470606,
          0.0939128273919172,
          0.10193283827875366,
          0.12907272194451336,
          0.14179991496293365,
          0.14257342621550828,
          0.155196865294692,
          0.15740056821676296,
          0.15809754315109936,
          0.16736402796384908,
          0.17582872330710764,
          0.18234152834894424,
          0.18957923495793505,
          0.1915921347011813,
          0.20731487012314442,
          0.2112795337160529,
          0.22764897325736655,
          0.23058771884683793,
          0.23983713093166248,
          0.2530845089727829,
          0.2542632668405136,
          0.25587921617241527,
          0.2692084091277449,
          0.2748187367925512,
          0.2757453338497111,
          0.28260573168835945,
          0.2886316216917266,
          0.30551248492596716,
          0.3065304346476818,
          0.3066704724151599,
          0.3176326046239466,
          0.33314972058117576,
          0.3509985752233673,
          0.36388029109128617,
          0.36823349551997,
          0.3735017860095624,
          0.3805416796980241,
          0.38707765372664227,
          0.39317904418955596,
          0.4004248520767817,
          0.4065068730184538,
          0.4096459052996013,
          0.4188875221429389,
          0.4290310250917133,
          0.4291965073822279,
          0.4421994562251643,
          0.4430317048501884,
          0.4568317578121093,
          0.4578236639571034,
          0.4599483542655034,
          0.46652302410720736,
          0.4702873598144066,
          0.4775062779002113,
          0.5000331900269432,
          0.5046531005657919,
          0.5140159079664075,
          0.5211369082180553,
          0.5222717060851116,
          0.5257655681236226,
          0.527847857850614,
          0.5346256140434495,
          0.5384488364545854,
          0.5416212326000904,
          0.5457600370206501,
          0.5477563809119355,
          0.5596968118877017,
          0.5646145266806646,
          0.5760832517154713,
          0.5813927500643916,
          0.5889513763289767,
          0.5916923101026379,
          0.5921461865833284,
          0.594758036431231,
          0.6033460604564205,
          0.6081901033901405,
          0.6177528614333809,
          0.6183033381087446,
          0.6192850259391172,
          0.6277429287719998,
          0.6341605335102307,
          0.6346500641420993,
          0.6359244045821475,
          0.6372113923653435,
          0.6418259416209899,
          0.6419627905577032,
          0.6507819292856984,
          0.6569061516667309,
          0.6645807876906336,
          0.6657755612945824,
          0.6682627396163117,
          0.6711321715213341,
          0.6712053424875548,
          0.6718565387738842,
          0.6723298672672233,
          0.6729158454797712,
          0.6733109018164987,
          0.6764689139002389,
          0.6900359073050688,
          0.6933650124738433,
          0.7015464313958182,
          0.7100244004264988,
          0.7134028350438317,
          0.7142024993152045,
          0.7275528760256651,
          0.73142580811286,
          0.7340385606040614,
          0.7360780419262323,
          0.7480217744294846,
          0.7522299386423117,
          0.7568702337009219,
          0.7661738729924545,
          0.7691883809641085,
          0.770696870373528,
          0.7712989612387435,
          0.7760203465224329,
          0.7782004728415712,
          0.8027511040790305,
          0.8089660610226623,
          0.8135583915044942,
          0.8226156096705441,
          0.8556876196706806,
          0.8580738080333798,
          0.8581880774515467,
          0.8626300388389474,
          0.8640403580466911,
          0.8705910640901209,
          0.8709993735829089,
          0.878969637932336,
          0.8898809158916006,
          0.8937970827057411,
          0.8947809973102907,
          0.8957998762329886,
          0.89896586217673,
          0.905108818906327,
          0.9066933425182198,
          0.9074645122922833,
          0.9083347012876972,
          0.9183588298082057,
          0.9381668489890211,
          0.9428543633071591,
          0.9439036308302517,
          0.9469342017560503,
          0.9496825056528353,
          0.9522075997716826,
          0.957522703441481,
          0.9605717946769934,
          0.9608743347989224,
          0.9641827108768504,
          0.9704675444628652,
          0.9718709145405358,
          0.9719928273068352,
          0.9756769326221346,
          0.9861707988406669,
          0.9880736261106717,
          0.9940339841645915,
          0.9952024287645296,
          0.9955429352731091,
          0.997784643853489,
          1.0110896284039415,
          1.011339695045229,
          1.0332969083604873,
          1.0378811142485045,
          1.046408360671343,
          1.0476939460671773,
          1.0514223963672156,
          1.053533553095284,
          1.0635703879266933,
          1.063611899181966,
          1.0714303640486529,
          1.0791142433419396,
          1.0813302280662738,
          1.0887490645301163,
          1.0924195370613994,
          1.097765952854072,
          1.1083312814895434,
          1.1125850986593635,
          1.1174466128408982,
          1.1250346810832887,
          1.1270783355722092,
          1.1384523237226016,
          1.1392384099547535,
          1.1412688644386435,
          1.1421340472451886,
          1.1454604808878264,
          1.1457088782991,
          1.1487141029078307,
          1.151126910255201,
          1.152973842364153,
          1.1543618319835751,
          1.159538690581905,
          1.1601664171772406,
          1.173810910849273,
          1.175840235627052,
          1.1872566068221664,
          1.1872684902235204,
          1.2200334951786282,
          1.2213253850726389,
          1.2233767660911674,
          1.2236856902728506,
          1.2270951391724907,
          1.2275124051278832,
          1.2289307343228137,
          1.2415825557603712,
          1.2446343896105305,
          1.2481126624596186,
          1.2562246436849005,
          1.26380767290191,
          1.2654664810784957,
          1.2668930452896463,
          1.2694827988274433,
          1.2698917532017373,
          1.272745933530218,
          1.291716061464002,
          1.2934149805138189,
          1.3001260888341855,
          1.3029294943512797,
          1.3089346582908608,
          1.3127697804304859,
          1.3138880921894298,
          1.3151345052350942,
          1.3210255683762782,
          1.3229130706917065,
          1.3299645457148732,
          1.341651204206487,
          1.348546666194979,
          1.3547397100512661,
          1.3584365156967557,
          1.3619765295528978,
          1.3621234768316954,
          1.3689837246813195,
          1.3771913677687273,
          1.3901042279174725,
          1.4082197451500162,
          1.4089045090660761,
          1.40897061771045,
          1.412599549095463,
          1.413572467736529,
          1.4139189638021783,
          1.4155928889152793,
          1.4202338365959086,
          1.422429753150979,
          1.425179469608449,
          1.4413136272186602,
          1.4501064053076602,
          1.4556194064901935,
          1.4682846918462298,
          1.4741608920621925,
          1.4802878572680696,
          1.4914285699639942,
          1.4954598452697239
         ]
        },
        {
         "line": {
          "color": "#636efa"
         },
         "mode": "lines",
         "type": "scatter",
         "x": [
          -2.878791946663771,
          -2.6527443361778706,
          -2.5128493063546746,
          -2.4096446702910828,
          -2.3270974381576357,
          -2.2578967738622167,
          -2.198070087185148,
          -2.1452091577240897,
          -2.0977397240560367,
          -2.0545740973085067,
          -2.0149281722161585,
          -1.9782173557054166,
          -1.9439937268344964,
          -1.9119062214969071,
          -1.8816743862208096,
          -1.8530704927563826,
          -1.8259070010390772,
          -1.8000275547807236,
          -1.7753003758395876,
          -1.751613327288067,
          -1.7288701622862503,
          -1.706987631698608,
          -1.6858932242067775,
          -1.6655233794215798,
          -1.6458220596200581,
          -1.6267395968131173,
          -1.6082317536240274,
          -1.5902589519520243,
          -1.5727856345778841,
          -1.555779733045389,
          -1.539212221204318,
          -1.523056738329606,
          -1.5072892691559818,
          -1.491887870782055,
          -1.476832438412075,
          -1.4621045034684073,
          -1.4476870588329875,
          -1.4335644069425775,
          -1.4197220272303261,
          -1.4061464600200018,
          -1.3928252044731249,
          -1.3797466285888613,
          -1.366899889581792,
          -1.3542748632287118,
          -1.341862080994352,
          -1.3296526739266514,
          -1.317638322462106,
          -1.3058112114067684,
          -1.2941639894629922,
          -1.282689732759974,
          -1.2713819119201764,
          -1.2602343622565275,
          -1.249241256748514,
          -1.2383970814907308,
          -1.227696613346246,
          -1.2171348995704503,
          -1.2067072391996543,
          -1.1964091660234413,
          -1.1862364329810913,
          -1.1761849978409358,
          -1.1662510100376124,
          -1.1564307985561837,
          -1.1467208607643733,
          -1.1371178521048986,
          -1.1276185765692712,
          -1.118219977882748,
          -1.108919131337386,
          -1.0997132362166246,
          -1.0905996087604735,
          -1.0815756756254842,
          -1.0726389677981436,
          -1.063787114924306,
          -1.0550178400208639,
          -1.046328954539008,
          -1.037718353751271,
          -1.0291840124370901,
          -1.0207239808438964,
          -1.0123363809027899,
          -1.0040194026796954,
          -0.9957713010445483,
          -0.9875903925425602,
          -0.9794750524529587,
          -0.9714237120218157,
          -0.9634348558566883,
          -0.9555070194717937,
          -0.9476387869733464,
          -0.9398287888755193,
          -0.9320757000382391,
          -0.9243782377187024,
          -0.916735159729141,
          -0.9091452626939119,
          -0.9016073803995353,
          -0.8941203822317478,
          -0.886683171694106,
          -0.8792946850030504,
          -0.8719538897547215,
          -0.8646597836591481,
          -0.8574113933377402,
          -0.8502077731803047,
          -0.843048004258061,
          -0.8359311932893759,
          -0.8288564716551625,
          -0.8218229944610879,
          -0.8148299396439304,
          -0.8078765071195982,
          -0.8009619179704839,
          -0.7940854136699831,
          -0.7872462553421392,
          -0.7804437230545131,
          -0.7736771151424852,
          -0.7669457475633235,
          -0.7602489532784371,
          -0.7535860816623511,
          -0.7469564979370035,
          -0.7403595826300782,
          -0.7337947310561326,
          -0.7272613528193825,
          -0.7207588713370479,
          -0.7142867233822445,
          -0.7078443586454575,
          -0.7014312393136848,
          -0.695046839666401,
          -0.6886906456875264,
          -0.682362154692641,
          -0.6760608749707244,
          -0.6697863254397342,
          -0.6635380353153846,
          -0.6573155437925107,
          -0.6511183997384439,
          -0.6449461613978518,
          -0.6387983961085225,
          -0.6326746800276069,
          -0.6265745978678484,
          -0.6204977426433653,
          -0.6144437154245603,
          -0.6084121251017659,
          -0.6024025881572435,
          -0.5964147284451813,
          -0.5904481769793475,
          -0.5845025717280762,
          -0.578577557416278,
          -0.5726727853341822,
          -0.5667879131525292,
          -0.5609226047439518,
          -0.5550765300102889,
          -0.5492493647155903,
          -0.543440790324586,
          -0.5376504938463977,
          -0.5318781676832843,
          -0.5261235094842235,
          -0.5203862220031361,
          -0.5146660129615759,
          -0.5089625949157053,
          -0.5032756851273973,
          -0.4976050054393014,
          -0.49195028215372294,
          -0.48631124591517094,
          -0.480687631596437,
          -0.47507917818807016,
          -0.469485628691124,
          -0.4639067300130515,
          -0.45834223286663384,
          -0.45279189167182926,
          -0.44725546446043773,
          -0.44173271278347614,
          -0.436223401621169,
          -0.43072729929545756,
          -0.42524417738493925,
          -0.4197738106421494,
          -0.4143159769131024,
          -0.4088704570590127,
          -0.40343703488011934,
          -0.39801549704153766,
          -0.39260563300107176,
          -0.3872072349389157,
          -0.3818200976891797,
          -0.3764440186731786,
          -0.3710787978344214,
          -0.3657242375752429,
          -0.36038014269502366,
          -0.35504632032994143,
          -0.3497225798942044,
          -0.3444087330227139,
          -0.33910459351511124,
          -0.33380997728115813,
          -0.32852470228741065,
          -0.3232485885051383,
          -0.3179814578594511,
          -0.3127231341795909,
          -0.30747344315035036,
          -0.30223221226458047,
          -0.29699927077675203,
          -0.2917744496575336,
          -0.28655758154935473,
          -0.28134850072292034,
          -0.2761470430346446,
          -0.27095304588497404,
          -0.2657663481775706,
          -0.26058679027932496,
          -0.25541421398117364,
          -0.2502484624596921,
          -0.24508938023943821,
          -0.23993681315602117,
          -0.23479060831987053,
          -0.2296506140806827,
          -0.2245166799925212,
          -0.2193886567795486,
          -0.21426639630236863,
          -0.20914975152495716,
          -0.20403857648216184,
          -0.19893272624775024,
          -0.19383205690298824,
          -0.1887364255057275,
          -0.1836456900599868,
          -0.17855970948600722,
          -0.17347834359076486,
          -0.1684014530389235,
          -0.16332889932421207,
          -0.15826054474120876,
          -0.15319625235751866,
          -0.1481358859863274,
          -0.14307931015931719,
          -0.13802639009993026,
          -0.13297699169696545,
          -0.12793098147849394,
          -0.12288822658608067,
          -0.11784859474929771,
          -0.11281195426051693,
          -0.10777817394996866,
          -0.10274712316105414,
          -0.09771867172589878,
          -0.09269268994113539,
          -0.08766904854390295,
          -0.08264761868805212,
          -0.07762827192054372,
          -0.07261088015802968,
          -0.06759531566360502,
          -0.06258145102371986,
          -0.057569159125240195,
          -0.05255831313264713,
          -0.04754878646536324,
          -0.04254045277519598,
          -0.03753318592388742,
          -0.03252685996075981,
          -0.0275213491004469,
          -0.02251652770070054,
          -0.017512270240262542,
          -0.012508451296791559,
          -0.007504945524834977,
          -0.0025016276338357883,
          0.0025016276338357883,
          0.007504945524834839,
          0.012508451296791559,
          0.017512270240262404,
          0.02251652770070054,
          0.027521349100446763,
          0.03252685996075981,
          0.03753318592388728,
          0.04254045277519598,
          0.0475487864653631,
          0.05255831313264713,
          0.05756915912524034,
          0.06258145102371986,
          0.06759531566360516,
          0.07261088015802968,
          0.07762827192054386,
          0.08264761868805212,
          0.08766904854390309,
          0.09269268994113539,
          0.09771867172589892,
          0.102747123161054,
          0.10777817394996866,
          0.1128119542605168,
          0.11784859474929771,
          0.12288822658608053,
          0.12793098147849394,
          0.1329769916969653,
          0.13802639009993026,
          0.14307931015931705,
          0.1481358859863274,
          0.15319625235751883,
          0.15826054474120876,
          0.1633288993242122,
          0.1684014530389235,
          0.173478343590765,
          0.17855970948600722,
          0.18364569005998696,
          0.1887364255057275,
          0.19383205690298838,
          0.19893272624775024,
          0.20403857648216184,
          0.20914975152495702,
          0.21426639630236863,
          0.21938865677954847,
          0.2245166799925212,
          0.22965061408068257,
          0.23479060831987053,
          0.23993681315602103,
          0.24508938023943821,
          0.25024846245969196,
          0.25541421398117364,
          0.26058679027932513,
          0.2657663481775706,
          0.2709530458849742,
          0.2761470430346446,
          0.28134850072292045,
          0.28655758154935473,
          0.29177444965753374,
          0.29699927077675203,
          0.30223221226458064,
          0.3074734431503502,
          0.3127231341795909,
          0.3179814578594509,
          0.3232485885051383,
          0.3285247022874105,
          0.33380997728115813,
          0.339104593515111,
          0.3444087330227139,
          0.34972257989420424,
          0.35504632032994143,
          0.36038014269502383,
          0.3657242375752429,
          0.3710787978344215,
          0.3764440186731786,
          0.3818200976891798,
          0.3872072349389157,
          0.3926056330010719,
          0.39801549704153766,
          0.4034370348801195,
          0.4088704570590127,
          0.4143159769131024,
          0.41977381064214925,
          0.42524417738493925,
          0.43072729929545744,
          0.436223401621169,
          0.44173271278347603,
          0.44725546446043773,
          0.45279189167182915,
          0.45834223286663384,
          0.4639067300130513,
          0.469485628691124,
          0.47507917818807033,
          0.480687631596437,
          0.48631124591517116,
          0.49195028215372294,
          0.49760500543930153,
          0.5032756851273973,
          0.5089625949157055,
          0.5146660129615759,
          0.5203862220031363,
          0.5261235094842234,
          0.5318781676832843,
          0.5376504938463975,
          0.543440790324586,
          0.5492493647155902,
          0.5550765300102889,
          0.5609226047439517,
          0.5667879131525292,
          0.572672785334182,
          0.578577557416278,
          0.5845025717280763,
          0.5904481769793475,
          0.5964147284451815,
          0.6024025881572435,
          0.608412125101766,
          0.6144437154245603,
          0.6204977426433654,
          0.6265745978678484,
          0.632674680027607,
          0.6387983961085225,
          0.6449461613978518,
          0.6511183997384437,
          0.6573155437925107,
          0.6635380353153844,
          0.6697863254397342,
          0.6760608749707242,
          0.682362154692641,
          0.688690645687526,
          0.695046839666401,
          0.7014312393136847,
          0.7078443586454575,
          0.7142867233822449,
          0.7207588713370479,
          0.7272613528193828,
          0.7337947310561326,
          0.7403595826300782,
          0.7469564979370035,
          0.7535860816623511,
          0.7602489532784371,
          0.7669457475633235,
          0.7736771151424852,
          0.7804437230545131,
          0.7872462553421392,
          0.7940854136699831,
          0.8009619179704839,
          0.8078765071195982,
          0.8148299396439302,
          0.8218229944610879,
          0.8288564716551624,
          0.8359311932893759,
          0.8430480042580611,
          0.8502077731803047,
          0.8574113933377404,
          0.8646597836591481,
          0.8719538897547218,
          0.8792946850030504,
          0.886683171694106,
          0.8941203822317478,
          0.9016073803995353,
          0.9091452626939119,
          0.916735159729141,
          0.9243782377187024,
          0.9320757000382391,
          0.9398287888755193,
          0.9476387869733464,
          0.9555070194717937,
          0.9634348558566883,
          0.9714237120218153,
          0.9794750524529587,
          0.98759039254256,
          0.9957713010445483,
          1.0040194026796954,
          1.0123363809027899,
          1.0207239808438962,
          1.0291840124370901,
          1.037718353751271,
          1.046328954539008,
          1.0550178400208639,
          1.063787114924306,
          1.0726389677981436,
          1.0815756756254842,
          1.0905996087604735,
          1.0997132362166246,
          1.108919131337386,
          1.118219977882747,
          1.1276185765692712,
          1.1371178521048986,
          1.1467208607643733,
          1.1564307985561837,
          1.1662510100376124,
          1.1761849978409358,
          1.1862364329810913,
          1.1964091660234422,
          1.2067072391996543,
          1.2171348995704503,
          1.227696613346246,
          1.2383970814907308,
          1.249241256748514,
          1.2602343622565282,
          1.2713819119201764,
          1.282689732759974,
          1.2941639894629922,
          1.3058112114067684,
          1.317638322462106,
          1.3296526739266514,
          1.341862080994352,
          1.3542748632287118,
          1.366899889581792,
          1.3797466285888613,
          1.3928252044731244,
          1.4061464600200018,
          1.419722027230327,
          1.4335644069425775,
          1.447687058832988,
          1.4621045034684073,
          1.4768324384120757,
          1.4918878707820542,
          1.5072892691559825,
          1.523056738329606,
          1.539212221204318,
          1.5557797330453886,
          1.5727856345778841,
          1.5902589519520238,
          1.6082317536240274,
          1.6267395968131166,
          1.6458220596200581,
          1.6655233794215798,
          1.6858932242067775,
          1.706987631698607,
          1.7288701622862503,
          1.751613327288068,
          1.7753003758395876,
          1.8000275547807243,
          1.8259070010390772,
          1.8530704927563826,
          1.881674386220809,
          1.9119062214969078,
          1.943993726834496,
          1.9782173557054168,
          2.014928172216158,
          2.054574097308507,
          2.097739724056036,
          2.1452091577240897,
          2.1980700871851475,
          2.2578967738622175,
          2.327097438157635,
          2.4096446702910836,
          2.5128493063546724,
          2.652744336177871,
          2.878791946663763
         ],
         "y": [
          -2.407115231188209,
          -2.211474589423436,
          -2.09039764746647,
          -2.0010756626457535,
          -1.92963233512825,
          -1.8697402515791126,
          -1.8179611978169328,
          -1.772210897064743,
          -1.731126850889402,
          -1.6937676817262661,
          -1.6594547588347015,
          -1.6276821261294407,
          -1.5980621150997563,
          -1.5702908852982886,
          -1.5441257086683347,
          -1.5193694900012908,
          -1.495859916329079,
          -1.473461663750262,
          -1.4520606803615084,
          -1.4315599134205463,
          -1.41187606280539,
          -1.392937077702202,
          -1.3746802007085532,
          -1.3570504213100516,
          -1.339999239741277,
          -1.3234836691410066,
          -1.3074654227573705,
          -1.2919102463683638,
          -1.276787365761539,
          -1.262069026193807,
          -1.247730105989938,
          -1.2337477903581362,
          -1.2201012944650662,
          -1.2067716270756472,
          -1.1937413878062402,
          -1.1809945923941794,
          -1.1685165214470081,
          -1.1562935889713177,
          -1.1443132276455101,
          -1.1325637883320858,
          -1.1210344517524977,
          -1.1097151505934786,
          -1.0985965005952547,
          -1.0876697394023163,
          -1.0769266721467214,
          -1.066359622890338,
          -1.055961391182165,
          -1.0457252130950987,
          -1.0356447261969668,
          -1.0257139379867892,
          -1.015927197391285,
          -1.00627916897102,
          -0.996764809531641,
          -0.9873793468749821,
          -0.9781182604584058,
          -0.9689772637595648,
          -0.9599522881685272,
          -0.9510394682506162,
          -0.9422351282417614,
          -0.9335357696542055,
          -0.9249380598843566,
          -0.9164388217266839,
          -0.9080350237081939,
          -0.8997237711673072,
          -0.891502298009083,
          -0.8833679590759331,
          -0.8753182230792601,
          -0.867350666043052,
          -0.8594629652153642,
          -0.8516528934080279,
          -0.8439183137287871,
          -0.836257174673513,
          -0.8286675055492372,
          -0.8211474122014824,
          -0.8136950730218201,
          -0.806308735213794,
          -0.7989867112973061,
          -0.7917273758333437,
          -0.7845291623525101,
          -0.7773905604722575,
          -0.7703101131890173,
          -0.7632864143325853,
          -0.7563181061711781,
          -0.7494038771565367,
          -0.742542459799313,
          -0.7357326286657664,
          -0.7289731984875127,
          -0.7222630223767177,
          -0.7156009901397158,
          -0.7089860266825848,
          -0.7024170905026849,
          -0.695893172260642,
          -0.6894132934276429,
          -0.682976505003309,
          -0.6765818862997471,
          -0.6702285437876995,
          -0.6639156100010035,
          -0.6576422424958414,
          -0.6514076228615044,
          -0.6452109557796262,
          -0.6390514681290412,
          -0.6329284081336295,
          -0.626841044550671,
          -0.6207886658974127,
          -0.6147705797136914,
          -0.6087861118586028,
          -0.6028346058393339,
          -0.5969154221703974,
          -0.5910279377616217,
          -0.5851715453333446,
          -0.5793456528573703,
          -0.5735496830223185,
          -0.5677830727221017,
          -0.5620452725663191,
          -0.5563357464114508,
          -0.5506539709117833,
          -0.5449994350890764,
          -0.539371639920028,
          -0.5337700979406526,
          -0.528194332866744,
          -0.5226438792296314,
          -0.5171182820264913,
          -0.5116170963845136,
          -0.5061398872382608,
          -0.5006862290195998,
          -0.49525570535961017,
          -0.48984790880191775,
          -0.4844624405269199,
          -0.4790989100864068,
          -0.47375693514810546,
          -0.46843614124969535,
          -0.463136161561875,
          -0.4578566366600737,
          -0.45259721430442956,
          -0.4473575492276678,
          -0.44213730293053966,
          -0.43693614348449095,
          -0.431753745341254,
          -0.42658978914906465,
          -0.4214439615752259,
          -0.41631595513475095,
          -0.41120546802483304,
          -0.406112203964897,
          -0.40103587204200786,
          -0.39597618656141315,
          -0.39093286690201173,
          -0.3859056373765513,
          -0.38089422709636295,
          -0.37589836984045294,
          -0.3709178039287801,
          -0.365952272099551,
          -0.3610015213903799,
          -0.3560653030231589,
          -0.35114337229249837,
          -0.3462354884575983,
          -0.34134141463742057,
          -0.3364609177090359,
          -0.331593768209027,
          -0.32673974023783037,
          -0.3218986113669112,
          -0.3170701625486618,
          -0.3122541780289259,
          -0.3074504452620504,
          -0.3026587548283745,
          -0.29787890035406395,
          -0.2931106784332097,
          -0.28835388855210575,
          -0.2836083330156309,
          -0.27887381687565677,
          -0.2741501478614126,
          -0.26943713631173566,
          -0.26473459510914266,
          -0.2600423396156554,
          -0.2553601876103241,
          -0.2506879592283842,
          -0.24602547690199394,
          -0.24137256530249623,
          -0.23672905128415334,
          -0.23209476382930244,
          -0.227469533994886,
          -0.2228531948603077,
          -0.21824558147657042,
          -0.21364653081665214,
          -0.20905588172707906,
          -0.20447347488065326,
          -0.19989915273030012,
          -0.1953327594639926,
          -0.19077414096072187,
          -0.18622314474747542,
          -0.18167961995719034,
          -0.17714341728764993,
          -0.1726143889612916,
          -0.16809238868589477,
          -0.16357727161612176,
          -0.15906889431588145,
          -0.1545671147214891,
          -0.15007179210559562,
          -0.14558278704186114,
          -0.14109996137034722,
          -0.13662317816360459,
          -0.13215230169343267,
          -0.12768719739828838,
          -0.12322773185132285,
          -0.1187737727290242,
          -0.1143251887804464,
          -0.10988184979700419,
          -0.10544362658281459,
          -0.10101039092556649,
          -0.09658201556790003,
          -0.09215837417927786,
          -0.08773934132833161,
          -0.08332479245566662,
          -0.078914603847108,
          -0.07450865260737344,
          -0.07010681663415666,
          -0.0657089745926065,
          -0.06131500589018704,
          -0.05692479065190506,
          -0.05253820969588985,
          -0.048155144509313214,
          -0.043775477224635234,
          -0.03939909059616334,
          -0.035025867976912456,
          -0.0306556932957531,
          -0.02628845103483593,
          -0.02192402620728079,
          -0.01756230433511838,
          -0.013203171427473806,
          -0.00884651395898016,
          -0.004492218848411861,
          -0.00014017343752639744,
          0.004209734529894926,
          0.008557616928819622,
          0.01290358527355788,
          0.017247750738189196,
          0.021590224176831277,
          0.025931116143760757,
          0.03027053691339556,
          0.03460859650014841,
          0.03894540467816051,
          0.04328107100092527,
          0.04761570482081062,
          0.05194941530848943,
          0.05628231147228684,
          0.06061450217745353,
          0.0649460961653737,
          0.06927720207271665,
          0.07360792845054073,
          0.07793838378335828,
          0.08226867650817037,
          0.08659891503348006,
          0.09092920775829204,
          0.0952596630911097,
          0.09959038946893366,
          0.10392149537627673,
          0.10825308936419678,
          0.11258528006936358,
          0.11691817623316089,
          0.12125188672083981,
          0.12558652054072506,
          0.1299221868634899,
          0.13425899504150215,
          0.13859705462825486,
          0.14293647539788978,
          0.14727736736481917,
          0.15161984080346136,
          0.15596400626809254,
          0.16030997461283092,
          0.1646578570117555,
          0.16900776497917694,
          0.17335981039006215,
          0.1777141055006306,
          0.1820707629691241,
          0.1864298958767688,
          0.1907916177489311,
          0.19515604257648636,
          0.19952328483740342,
          0.2038934595185629,
          0.20826668213781366,
          0.21264306876628566,
          0.2170227360509638,
          0.22140580123754028,
          0.2257923821935556,
          0.23018259743183747,
          0.23457656613425706,
          0.2389744081758071,
          0.243376244149024,
          0.24778219538875842,
          0.2521923839973172,
          0.25660693286998204,
          0.2610259657209283,
          0.26544960710955035,
          0.26987798246721695,
          0.2743112181244649,
          0.27874944133865465,
          0.2831927803220967,
          0.28764136427067466,
          0.29209532339297317,
          0.2965547889399388,
          0.30101989323508294,
          0.305490769705255,
          0.3099675529119978,
          0.31445037858351155,
          0.31893938364724617,
          0.3234347062631395,
          0.327936485857532,
          0.3324448631577722,
          0.3369599802275453,
          0.34148198050294204,
          0.3460110088293005,
          0.3505472114988406,
          0.35509073628912585,
          0.3596417325023722,
          0.364200351005643,
          0.3687667442719504,
          0.3733410664223037,
          0.37792347326872927,
          0.38251412235830257,
          0.3871131730182207,
          0.3917207864019581,
          0.3963371255365366,
          0.40096235537095287,
          0.4055966428258039,
          0.41024015684414666,
          0.41489306844364443,
          0.41955555077003465,
          0.4242277791519746,
          0.42890993115730586,
          0.4336021866507932,
          0.4383047278533861,
          0.44301773940306305,
          0.44774140841730703,
          0.4524759245572813,
          0.4572214800937561,
          0.46197826997486013,
          0.46674649189571427,
          0.47152634637002494,
          0.4763180368037008,
          0.48112176957057634,
          0.48593775409031215,
          0.49076620290856166,
          0.4956073317794809,
          0.5004613597506774,
          0.5053285092506865,
          0.510209006179071,
          0.5151030799992489,
          0.5200109638341488,
          0.5249328945648095,
          0.5298691129320303,
          0.5348198636412016,
          0.5397853954704305,
          0.5447659613821034,
          0.5497618186380131,
          0.5547732289182017,
          0.559800458443662,
          0.5648437781030635,
          0.5699034635836582,
          0.5749797955065474,
          0.5800730595664834,
          0.5851835466764014,
          0.5903115531168763,
          0.5954573806907151,
          0.6006213368829046,
          0.6058037350261414,
          0.6110048944721902,
          0.6162251407693182,
          0.6214648058460801,
          0.6267242282017241,
          0.6320037531035255,
          0.6373037327913458,
          0.6426245266897559,
          0.647966501628057,
          0.6533300320685703,
          0.6587155003435681,
          0.6641232969012606,
          0.66955382056125,
          0.6750074787799112,
          0.6804846879261637,
          0.6859858735681418,
          0.6915114707712817,
          0.6970619244083944,
          0.7026376894823032,
          0.7082392314616784,
          0.7138670266307271,
          0.7195215624534337,
          0.7252033379531012,
          0.7309128641079695,
          0.7366506642637521,
          0.7424172745639689,
          0.7482132443990207,
          0.754039136874995,
          0.7598955293032721,
          0.7657830137120478,
          0.7717021973809843,
          0.7776537034002532,
          0.7836381712553419,
          0.789656257439063,
          0.7957086360923215,
          0.8017959996752798,
          0.8079190596706917,
          0.8140785473212767,
          0.8202752144031549,
          0.826509834037492,
          0.832783201542654,
          0.8390961353293501,
          0.8454494778413976,
          0.8518440965449594,
          0.8582808849692933,
          0.8647607638022924,
          0.8712846820443353,
          0.8778536182242352,
          0.8844685816813662,
          0.8911306139183681,
          0.8978407900291632,
          0.9046002202074168,
          0.9114100513409634,
          0.9182714686981871,
          0.9251856977128282,
          0.9321540058742357,
          0.9391777047306675,
          0.946258152013908,
          0.9533967538941606,
          0.9605949673749942,
          0.9678543028389563,
          0.9751763267554444,
          0.9825626645634705,
          0.9900150037431328,
          0.9975350970908876,
          1.0051247662151634,
          1.0127859052704375,
          1.0205204849496783,
          1.0283305567570147,
          1.0362182575847023,
          1.0441858146209104,
          1.0522355506175827,
          1.0603698895507334,
          1.0685913627089576,
          1.0769026152498444,
          1.0853064132683343,
          1.093805651426007,
          1.102403361195856,
          1.1111027197834118,
          1.1199070597922673,
          1.1288198797101776,
          1.1378448553012153,
          1.1469858520000562,
          1.1562469384166325,
          1.1656324010732915,
          1.175146760512671,
          1.1847947889329353,
          1.1945815295284397,
          1.2045123177386172,
          1.2145928046367491,
          1.2248289827238155,
          1.2352272144319885,
          1.2457942636883719,
          1.2565373309439667,
          1.2674640921369051,
          1.278582742135129,
          1.289902043294148,
          1.3014313798737362,
          1.3131808191871612,
          1.3251611805129682,
          1.337384112988659,
          1.3498621839358298,
          1.362608979347891,
          1.375639218617297,
          1.388968886006717,
          1.4026153818997866,
          1.4165976975315884,
          1.430936617735457,
          1.4456549573031894,
          1.4607778379100138,
          1.476333014299021,
          1.4923512606826563,
          1.5088668312829274,
          1.525918012851702,
          1.5435477922502037,
          1.5618046692438519,
          1.5807436543470403,
          1.6004275049621977,
          1.6209282719031588,
          1.642329255291913,
          1.6647275078707295,
          1.6882370815429413,
          1.7129933002099846,
          1.7391584768399397,
          1.7669297066414063,
          1.7965497176710914,
          1.8283223503763517,
          1.862635273267917,
          1.8999944424310518,
          1.9410784886063934,
          1.986828789358583,
          2.0386078431207637,
          2.0984999266698994,
          2.1699432541874044,
          2.259265239008119,
          2.380342180965087,
          2.575982822729852
         ]
        }
       ],
       "layout": {
        "height": 700,
        "showlegend": false,
        "template": {
         "data": {
          "bar": [
           {
            "error_x": {
             "color": "#2a3f5f"
            },
            "error_y": {
             "color": "#2a3f5f"
            },
            "marker": {
             "line": {
              "color": "#E5ECF6",
              "width": 0.5
             },
             "pattern": {
              "fillmode": "overlay",
              "size": 10,
              "solidity": 0.2
             }
            },
            "type": "bar"
           }
          ],
          "barpolar": [
           {
            "marker": {
             "line": {
              "color": "#E5ECF6",
              "width": 0.5
             },
             "pattern": {
              "fillmode": "overlay",
              "size": 10,
              "solidity": 0.2
             }
            },
            "type": "barpolar"
           }
          ],
          "carpet": [
           {
            "aaxis": {
             "endlinecolor": "#2a3f5f",
             "gridcolor": "white",
             "linecolor": "white",
             "minorgridcolor": "white",
             "startlinecolor": "#2a3f5f"
            },
            "baxis": {
             "endlinecolor": "#2a3f5f",
             "gridcolor": "white",
             "linecolor": "white",
             "minorgridcolor": "white",
             "startlinecolor": "#2a3f5f"
            },
            "type": "carpet"
           }
          ],
          "choropleth": [
           {
            "colorbar": {
             "outlinewidth": 0,
             "ticks": ""
            },
            "type": "choropleth"
           }
          ],
          "contour": [
           {
            "colorbar": {
             "outlinewidth": 0,
             "ticks": ""
            },
            "colorscale": [
             [
              0,
              "#0d0887"
             ],
             [
              0.1111111111111111,
              "#46039f"
             ],
             [
              0.2222222222222222,
              "#7201a8"
             ],
             [
              0.3333333333333333,
              "#9c179e"
             ],
             [
              0.4444444444444444,
              "#bd3786"
             ],
             [
              0.5555555555555556,
              "#d8576b"
             ],
             [
              0.6666666666666666,
              "#ed7953"
             ],
             [
              0.7777777777777778,
              "#fb9f3a"
             ],
             [
              0.8888888888888888,
              "#fdca26"
             ],
             [
              1,
              "#f0f921"
             ]
            ],
            "type": "contour"
           }
          ],
          "contourcarpet": [
           {
            "colorbar": {
             "outlinewidth": 0,
             "ticks": ""
            },
            "type": "contourcarpet"
           }
          ],
          "heatmap": [
           {
            "colorbar": {
             "outlinewidth": 0,
             "ticks": ""
            },
            "colorscale": [
             [
              0,
              "#0d0887"
             ],
             [
              0.1111111111111111,
              "#46039f"
             ],
             [
              0.2222222222222222,
              "#7201a8"
             ],
             [
              0.3333333333333333,
              "#9c179e"
             ],
             [
              0.4444444444444444,
              "#bd3786"
             ],
             [
              0.5555555555555556,
              "#d8576b"
             ],
             [
              0.6666666666666666,
              "#ed7953"
             ],
             [
              0.7777777777777778,
              "#fb9f3a"
             ],
             [
              0.8888888888888888,
              "#fdca26"
             ],
             [
              1,
              "#f0f921"
             ]
            ],
            "type": "heatmap"
           }
          ],
          "heatmapgl": [
           {
            "colorbar": {
             "outlinewidth": 0,
             "ticks": ""
            },
            "colorscale": [
             [
              0,
              "#0d0887"
             ],
             [
              0.1111111111111111,
              "#46039f"
             ],
             [
              0.2222222222222222,
              "#7201a8"
             ],
             [
              0.3333333333333333,
              "#9c179e"
             ],
             [
              0.4444444444444444,
              "#bd3786"
             ],
             [
              0.5555555555555556,
              "#d8576b"
             ],
             [
              0.6666666666666666,
              "#ed7953"
             ],
             [
              0.7777777777777778,
              "#fb9f3a"
             ],
             [
              0.8888888888888888,
              "#fdca26"
             ],
             [
              1,
              "#f0f921"
             ]
            ],
            "type": "heatmapgl"
           }
          ],
          "histogram": [
           {
            "marker": {
             "pattern": {
              "fillmode": "overlay",
              "size": 10,
              "solidity": 0.2
             }
            },
            "type": "histogram"
           }
          ],
          "histogram2d": [
           {
            "colorbar": {
             "outlinewidth": 0,
             "ticks": ""
            },
            "colorscale": [
             [
              0,
              "#0d0887"
             ],
             [
              0.1111111111111111,
              "#46039f"
             ],
             [
              0.2222222222222222,
              "#7201a8"
             ],
             [
              0.3333333333333333,
              "#9c179e"
             ],
             [
              0.4444444444444444,
              "#bd3786"
             ],
             [
              0.5555555555555556,
              "#d8576b"
             ],
             [
              0.6666666666666666,
              "#ed7953"
             ],
             [
              0.7777777777777778,
              "#fb9f3a"
             ],
             [
              0.8888888888888888,
              "#fdca26"
             ],
             [
              1,
              "#f0f921"
             ]
            ],
            "type": "histogram2d"
           }
          ],
          "histogram2dcontour": [
           {
            "colorbar": {
             "outlinewidth": 0,
             "ticks": ""
            },
            "colorscale": [
             [
              0,
              "#0d0887"
             ],
             [
              0.1111111111111111,
              "#46039f"
             ],
             [
              0.2222222222222222,
              "#7201a8"
             ],
             [
              0.3333333333333333,
              "#9c179e"
             ],
             [
              0.4444444444444444,
              "#bd3786"
             ],
             [
              0.5555555555555556,
              "#d8576b"
             ],
             [
              0.6666666666666666,
              "#ed7953"
             ],
             [
              0.7777777777777778,
              "#fb9f3a"
             ],
             [
              0.8888888888888888,
              "#fdca26"
             ],
             [
              1,
              "#f0f921"
             ]
            ],
            "type": "histogram2dcontour"
           }
          ],
          "mesh3d": [
           {
            "colorbar": {
             "outlinewidth": 0,
             "ticks": ""
            },
            "type": "mesh3d"
           }
          ],
          "parcoords": [
           {
            "line": {
             "colorbar": {
              "outlinewidth": 0,
              "ticks": ""
             }
            },
            "type": "parcoords"
           }
          ],
          "pie": [
           {
            "automargin": true,
            "type": "pie"
           }
          ],
          "scatter": [
           {
            "marker": {
             "colorbar": {
              "outlinewidth": 0,
              "ticks": ""
             }
            },
            "type": "scatter"
           }
          ],
          "scatter3d": [
           {
            "line": {
             "colorbar": {
              "outlinewidth": 0,
              "ticks": ""
             }
            },
            "marker": {
             "colorbar": {
              "outlinewidth": 0,
              "ticks": ""
             }
            },
            "type": "scatter3d"
           }
          ],
          "scattercarpet": [
           {
            "marker": {
             "colorbar": {
              "outlinewidth": 0,
              "ticks": ""
             }
            },
            "type": "scattercarpet"
           }
          ],
          "scattergeo": [
           {
            "marker": {
             "colorbar": {
              "outlinewidth": 0,
              "ticks": ""
             }
            },
            "type": "scattergeo"
           }
          ],
          "scattergl": [
           {
            "marker": {
             "colorbar": {
              "outlinewidth": 0,
              "ticks": ""
             }
            },
            "type": "scattergl"
           }
          ],
          "scattermapbox": [
           {
            "marker": {
             "colorbar": {
              "outlinewidth": 0,
              "ticks": ""
             }
            },
            "type": "scattermapbox"
           }
          ],
          "scatterpolar": [
           {
            "marker": {
             "colorbar": {
              "outlinewidth": 0,
              "ticks": ""
             }
            },
            "type": "scatterpolar"
           }
          ],
          "scatterpolargl": [
           {
            "marker": {
             "colorbar": {
              "outlinewidth": 0,
              "ticks": ""
             }
            },
            "type": "scatterpolargl"
           }
          ],
          "scatterternary": [
           {
            "marker": {
             "colorbar": {
              "outlinewidth": 0,
              "ticks": ""
             }
            },
            "type": "scatterternary"
           }
          ],
          "surface": [
           {
            "colorbar": {
             "outlinewidth": 0,
             "ticks": ""
            },
            "colorscale": [
             [
              0,
              "#0d0887"
             ],
             [
              0.1111111111111111,
              "#46039f"
             ],
             [
              0.2222222222222222,
              "#7201a8"
             ],
             [
              0.3333333333333333,
              "#9c179e"
             ],
             [
              0.4444444444444444,
              "#bd3786"
             ],
             [
              0.5555555555555556,
              "#d8576b"
             ],
             [
              0.6666666666666666,
              "#ed7953"
             ],
             [
              0.7777777777777778,
              "#fb9f3a"
             ],
             [
              0.8888888888888888,
              "#fdca26"
             ],
             [
              1,
              "#f0f921"
             ]
            ],
            "type": "surface"
           }
          ],
          "table": [
           {
            "cells": {
             "fill": {
              "color": "#EBF0F8"
             },
             "line": {
              "color": "white"
             }
            },
            "header": {
             "fill": {
              "color": "#C8D4E3"
             },
             "line": {
              "color": "white"
             }
            },
            "type": "table"
           }
          ]
         },
         "layout": {
          "annotationdefaults": {
           "arrowcolor": "#2a3f5f",
           "arrowhead": 0,
           "arrowwidth": 1
          },
          "autotypenumbers": "strict",
          "coloraxis": {
           "colorbar": {
            "outlinewidth": 0,
            "ticks": ""
           }
          },
          "colorscale": {
           "diverging": [
            [
             0,
             "#8e0152"
            ],
            [
             0.1,
             "#c51b7d"
            ],
            [
             0.2,
             "#de77ae"
            ],
            [
             0.3,
             "#f1b6da"
            ],
            [
             0.4,
             "#fde0ef"
            ],
            [
             0.5,
             "#f7f7f7"
            ],
            [
             0.6,
             "#e6f5d0"
            ],
            [
             0.7,
             "#b8e186"
            ],
            [
             0.8,
             "#7fbc41"
            ],
            [
             0.9,
             "#4d9221"
            ],
            [
             1,
             "#276419"
            ]
           ],
           "sequential": [
            [
             0,
             "#0d0887"
            ],
            [
             0.1111111111111111,
             "#46039f"
            ],
            [
             0.2222222222222222,
             "#7201a8"
            ],
            [
             0.3333333333333333,
             "#9c179e"
            ],
            [
             0.4444444444444444,
             "#bd3786"
            ],
            [
             0.5555555555555556,
             "#d8576b"
            ],
            [
             0.6666666666666666,
             "#ed7953"
            ],
            [
             0.7777777777777778,
             "#fb9f3a"
            ],
            [
             0.8888888888888888,
             "#fdca26"
            ],
            [
             1,
             "#f0f921"
            ]
           ],
           "sequentialminus": [
            [
             0,
             "#0d0887"
            ],
            [
             0.1111111111111111,
             "#46039f"
            ],
            [
             0.2222222222222222,
             "#7201a8"
            ],
            [
             0.3333333333333333,
             "#9c179e"
            ],
            [
             0.4444444444444444,
             "#bd3786"
            ],
            [
             0.5555555555555556,
             "#d8576b"
            ],
            [
             0.6666666666666666,
             "#ed7953"
            ],
            [
             0.7777777777777778,
             "#fb9f3a"
            ],
            [
             0.8888888888888888,
             "#fdca26"
            ],
            [
             1,
             "#f0f921"
            ]
           ]
          },
          "colorway": [
           "#636efa",
           "#EF553B",
           "#00cc96",
           "#ab63fa",
           "#FFA15A",
           "#19d3f3",
           "#FF6692",
           "#B6E880",
           "#FF97FF",
           "#FECB52"
          ],
          "font": {
           "color": "#2a3f5f"
          },
          "geo": {
           "bgcolor": "white",
           "lakecolor": "white",
           "landcolor": "#E5ECF6",
           "showlakes": true,
           "showland": true,
           "subunitcolor": "white"
          },
          "hoverlabel": {
           "align": "left"
          },
          "hovermode": "closest",
          "mapbox": {
           "style": "light"
          },
          "paper_bgcolor": "white",
          "plot_bgcolor": "#E5ECF6",
          "polar": {
           "angularaxis": {
            "gridcolor": "white",
            "linecolor": "white",
            "ticks": ""
           },
           "bgcolor": "#E5ECF6",
           "radialaxis": {
            "gridcolor": "white",
            "linecolor": "white",
            "ticks": ""
           }
          },
          "scene": {
           "xaxis": {
            "backgroundcolor": "#E5ECF6",
            "gridcolor": "white",
            "gridwidth": 2,
            "linecolor": "white",
            "showbackground": true,
            "ticks": "",
            "zerolinecolor": "white"
           },
           "yaxis": {
            "backgroundcolor": "#E5ECF6",
            "gridcolor": "white",
            "gridwidth": 2,
            "linecolor": "white",
            "showbackground": true,
            "ticks": "",
            "zerolinecolor": "white"
           },
           "zaxis": {
            "backgroundcolor": "#E5ECF6",
            "gridcolor": "white",
            "gridwidth": 2,
            "linecolor": "white",
            "showbackground": true,
            "ticks": "",
            "zerolinecolor": "white"
           }
          },
          "shapedefaults": {
           "line": {
            "color": "#2a3f5f"
           }
          },
          "ternary": {
           "aaxis": {
            "gridcolor": "white",
            "linecolor": "white",
            "ticks": ""
           },
           "baxis": {
            "gridcolor": "white",
            "linecolor": "white",
            "ticks": ""
           },
           "bgcolor": "#E5ECF6",
           "caxis": {
            "gridcolor": "white",
            "linecolor": "white",
            "ticks": ""
           }
          },
          "title": {
           "x": 0.05
          },
          "xaxis": {
           "automargin": true,
           "gridcolor": "white",
           "linecolor": "white",
           "ticks": "",
           "title": {
            "standoff": 15
           },
           "zerolinecolor": "white",
           "zerolinewidth": 2
          },
          "yaxis": {
           "automargin": true,
           "gridcolor": "white",
           "linecolor": "white",
           "ticks": "",
           "title": {
            "standoff": 15
           },
           "zerolinecolor": "white",
           "zerolinewidth": 2
          }
         }
        },
        "title": {
         "text": "Quantile-Quantile Plot"
        },
        "width": 800,
        "xaxis": {
         "title": {
          "text": "Theoritical Quantities"
         },
         "zeroline": false
        },
        "yaxis": {
         "title": {
          "text": "Sample Quantities"
         }
        }
       }
      },
      "text/html": [
       "<div>                            <div id=\"a7d25c6b-995d-42e2-bf99-b6ebe2bd7a35\" class=\"plotly-graph-div\" style=\"height:700px; width:800px;\"></div>            <script type=\"text/javascript\">                require([\"plotly\"], function(Plotly) {                    window.PLOTLYENV=window.PLOTLYENV || {};                                    if (document.getElementById(\"a7d25c6b-995d-42e2-bf99-b6ebe2bd7a35\")) {                    Plotly.newPlot(                        \"a7d25c6b-995d-42e2-bf99-b6ebe2bd7a35\",                        [{\"marker\":{\"color\":\"#19d3f3\"},\"mode\":\"markers\",\"x\":[-2.878791946663771,-2.6527443361778706,-2.5128493063546746,-2.4096446702910828,-2.3270974381576357,-2.2578967738622167,-2.198070087185148,-2.1452091577240897,-2.0977397240560367,-2.0545740973085067,-2.0149281722161585,-1.9782173557054166,-1.9439937268344964,-1.9119062214969071,-1.8816743862208096,-1.8530704927563826,-1.8259070010390772,-1.8000275547807236,-1.7753003758395876,-1.751613327288067,-1.7288701622862503,-1.706987631698608,-1.6858932242067775,-1.6655233794215798,-1.6458220596200581,-1.6267395968131173,-1.6082317536240274,-1.5902589519520243,-1.5727856345778841,-1.555779733045389,-1.539212221204318,-1.523056738329606,-1.5072892691559818,-1.491887870782055,-1.476832438412075,-1.4621045034684073,-1.4476870588329875,-1.4335644069425775,-1.4197220272303261,-1.4061464600200018,-1.3928252044731249,-1.3797466285888613,-1.366899889581792,-1.3542748632287118,-1.341862080994352,-1.3296526739266514,-1.317638322462106,-1.3058112114067684,-1.2941639894629922,-1.282689732759974,-1.2713819119201764,-1.2602343622565275,-1.249241256748514,-1.2383970814907308,-1.227696613346246,-1.2171348995704503,-1.2067072391996543,-1.1964091660234413,-1.1862364329810913,-1.1761849978409358,-1.1662510100376124,-1.1564307985561837,-1.1467208607643733,-1.1371178521048986,-1.1276185765692712,-1.118219977882748,-1.108919131337386,-1.0997132362166246,-1.0905996087604735,-1.0815756756254842,-1.0726389677981436,-1.063787114924306,-1.0550178400208639,-1.046328954539008,-1.037718353751271,-1.0291840124370901,-1.0207239808438964,-1.0123363809027899,-1.0040194026796954,-0.9957713010445483,-0.9875903925425602,-0.9794750524529587,-0.9714237120218157,-0.9634348558566883,-0.9555070194717937,-0.9476387869733464,-0.9398287888755193,-0.9320757000382391,-0.9243782377187024,-0.916735159729141,-0.9091452626939119,-0.9016073803995353,-0.8941203822317478,-0.886683171694106,-0.8792946850030504,-0.8719538897547215,-0.8646597836591481,-0.8574113933377402,-0.8502077731803047,-0.843048004258061,-0.8359311932893759,-0.8288564716551625,-0.8218229944610879,-0.8148299396439304,-0.8078765071195982,-0.8009619179704839,-0.7940854136699831,-0.7872462553421392,-0.7804437230545131,-0.7736771151424852,-0.7669457475633235,-0.7602489532784371,-0.7535860816623511,-0.7469564979370035,-0.7403595826300782,-0.7337947310561326,-0.7272613528193825,-0.7207588713370479,-0.7142867233822445,-0.7078443586454575,-0.7014312393136848,-0.695046839666401,-0.6886906456875264,-0.682362154692641,-0.6760608749707244,-0.6697863254397342,-0.6635380353153846,-0.6573155437925107,-0.6511183997384439,-0.6449461613978518,-0.6387983961085225,-0.6326746800276069,-0.6265745978678484,-0.6204977426433653,-0.6144437154245603,-0.6084121251017659,-0.6024025881572435,-0.5964147284451813,-0.5904481769793475,-0.5845025717280762,-0.578577557416278,-0.5726727853341822,-0.5667879131525292,-0.5609226047439518,-0.5550765300102889,-0.5492493647155903,-0.543440790324586,-0.5376504938463977,-0.5318781676832843,-0.5261235094842235,-0.5203862220031361,-0.5146660129615759,-0.5089625949157053,-0.5032756851273973,-0.4976050054393014,-0.49195028215372294,-0.48631124591517094,-0.480687631596437,-0.47507917818807016,-0.469485628691124,-0.4639067300130515,-0.45834223286663384,-0.45279189167182926,-0.44725546446043773,-0.44173271278347614,-0.436223401621169,-0.43072729929545756,-0.42524417738493925,-0.4197738106421494,-0.4143159769131024,-0.4088704570590127,-0.40343703488011934,-0.39801549704153766,-0.39260563300107176,-0.3872072349389157,-0.3818200976891797,-0.3764440186731786,-0.3710787978344214,-0.3657242375752429,-0.36038014269502366,-0.35504632032994143,-0.3497225798942044,-0.3444087330227139,-0.33910459351511124,-0.33380997728115813,-0.32852470228741065,-0.3232485885051383,-0.3179814578594511,-0.3127231341795909,-0.30747344315035036,-0.30223221226458047,-0.29699927077675203,-0.2917744496575336,-0.28655758154935473,-0.28134850072292034,-0.2761470430346446,-0.27095304588497404,-0.2657663481775706,-0.26058679027932496,-0.25541421398117364,-0.2502484624596921,-0.24508938023943821,-0.23993681315602117,-0.23479060831987053,-0.2296506140806827,-0.2245166799925212,-0.2193886567795486,-0.21426639630236863,-0.20914975152495716,-0.20403857648216184,-0.19893272624775024,-0.19383205690298824,-0.1887364255057275,-0.1836456900599868,-0.17855970948600722,-0.17347834359076486,-0.1684014530389235,-0.16332889932421207,-0.15826054474120876,-0.15319625235751866,-0.1481358859863274,-0.14307931015931719,-0.13802639009993026,-0.13297699169696545,-0.12793098147849394,-0.12288822658608067,-0.11784859474929771,-0.11281195426051693,-0.10777817394996866,-0.10274712316105414,-0.09771867172589878,-0.09269268994113539,-0.08766904854390295,-0.08264761868805212,-0.07762827192054372,-0.07261088015802968,-0.06759531566360502,-0.06258145102371986,-0.057569159125240195,-0.05255831313264713,-0.04754878646536324,-0.04254045277519598,-0.03753318592388742,-0.03252685996075981,-0.0275213491004469,-0.02251652770070054,-0.017512270240262542,-0.012508451296791559,-0.007504945524834977,-0.0025016276338357883,0.0025016276338357883,0.007504945524834839,0.012508451296791559,0.017512270240262404,0.02251652770070054,0.027521349100446763,0.03252685996075981,0.03753318592388728,0.04254045277519598,0.0475487864653631,0.05255831313264713,0.05756915912524034,0.06258145102371986,0.06759531566360516,0.07261088015802968,0.07762827192054386,0.08264761868805212,0.08766904854390309,0.09269268994113539,0.09771867172589892,0.102747123161054,0.10777817394996866,0.1128119542605168,0.11784859474929771,0.12288822658608053,0.12793098147849394,0.1329769916969653,0.13802639009993026,0.14307931015931705,0.1481358859863274,0.15319625235751883,0.15826054474120876,0.1633288993242122,0.1684014530389235,0.173478343590765,0.17855970948600722,0.18364569005998696,0.1887364255057275,0.19383205690298838,0.19893272624775024,0.20403857648216184,0.20914975152495702,0.21426639630236863,0.21938865677954847,0.2245166799925212,0.22965061408068257,0.23479060831987053,0.23993681315602103,0.24508938023943821,0.25024846245969196,0.25541421398117364,0.26058679027932513,0.2657663481775706,0.2709530458849742,0.2761470430346446,0.28134850072292045,0.28655758154935473,0.29177444965753374,0.29699927077675203,0.30223221226458064,0.3074734431503502,0.3127231341795909,0.3179814578594509,0.3232485885051383,0.3285247022874105,0.33380997728115813,0.339104593515111,0.3444087330227139,0.34972257989420424,0.35504632032994143,0.36038014269502383,0.3657242375752429,0.3710787978344215,0.3764440186731786,0.3818200976891798,0.3872072349389157,0.3926056330010719,0.39801549704153766,0.4034370348801195,0.4088704570590127,0.4143159769131024,0.41977381064214925,0.42524417738493925,0.43072729929545744,0.436223401621169,0.44173271278347603,0.44725546446043773,0.45279189167182915,0.45834223286663384,0.4639067300130513,0.469485628691124,0.47507917818807033,0.480687631596437,0.48631124591517116,0.49195028215372294,0.49760500543930153,0.5032756851273973,0.5089625949157055,0.5146660129615759,0.5203862220031363,0.5261235094842234,0.5318781676832843,0.5376504938463975,0.543440790324586,0.5492493647155902,0.5550765300102889,0.5609226047439517,0.5667879131525292,0.572672785334182,0.578577557416278,0.5845025717280763,0.5904481769793475,0.5964147284451815,0.6024025881572435,0.608412125101766,0.6144437154245603,0.6204977426433654,0.6265745978678484,0.632674680027607,0.6387983961085225,0.6449461613978518,0.6511183997384437,0.6573155437925107,0.6635380353153844,0.6697863254397342,0.6760608749707242,0.682362154692641,0.688690645687526,0.695046839666401,0.7014312393136847,0.7078443586454575,0.7142867233822449,0.7207588713370479,0.7272613528193828,0.7337947310561326,0.7403595826300782,0.7469564979370035,0.7535860816623511,0.7602489532784371,0.7669457475633235,0.7736771151424852,0.7804437230545131,0.7872462553421392,0.7940854136699831,0.8009619179704839,0.8078765071195982,0.8148299396439302,0.8218229944610879,0.8288564716551624,0.8359311932893759,0.8430480042580611,0.8502077731803047,0.8574113933377404,0.8646597836591481,0.8719538897547218,0.8792946850030504,0.886683171694106,0.8941203822317478,0.9016073803995353,0.9091452626939119,0.916735159729141,0.9243782377187024,0.9320757000382391,0.9398287888755193,0.9476387869733464,0.9555070194717937,0.9634348558566883,0.9714237120218153,0.9794750524529587,0.98759039254256,0.9957713010445483,1.0040194026796954,1.0123363809027899,1.0207239808438962,1.0291840124370901,1.037718353751271,1.046328954539008,1.0550178400208639,1.063787114924306,1.0726389677981436,1.0815756756254842,1.0905996087604735,1.0997132362166246,1.108919131337386,1.118219977882747,1.1276185765692712,1.1371178521048986,1.1467208607643733,1.1564307985561837,1.1662510100376124,1.1761849978409358,1.1862364329810913,1.1964091660234422,1.2067072391996543,1.2171348995704503,1.227696613346246,1.2383970814907308,1.249241256748514,1.2602343622565282,1.2713819119201764,1.282689732759974,1.2941639894629922,1.3058112114067684,1.317638322462106,1.3296526739266514,1.341862080994352,1.3542748632287118,1.366899889581792,1.3797466285888613,1.3928252044731244,1.4061464600200018,1.419722027230327,1.4335644069425775,1.447687058832988,1.4621045034684073,1.4768324384120757,1.4918878707820542,1.5072892691559825,1.523056738329606,1.539212221204318,1.5557797330453886,1.5727856345778841,1.5902589519520238,1.6082317536240274,1.6267395968131166,1.6458220596200581,1.6655233794215798,1.6858932242067775,1.706987631698607,1.7288701622862503,1.751613327288068,1.7753003758395876,1.8000275547807243,1.8259070010390772,1.8530704927563826,1.881674386220809,1.9119062214969078,1.943993726834496,1.9782173557054168,2.014928172216158,2.054574097308507,2.097739724056036,2.1452091577240897,2.1980700871851475,2.2578967738622175,2.327097438157635,2.4096446702910836,2.5128493063546724,2.652744336177871,2.878791946663763],\"y\":[-1.4983920689428945,-1.4926748182463239,-1.4913312039750535,-1.4871995489138006,-1.4858533718543834,-1.4846580210552696,-1.4813002878751949,-1.4755455291172663,-1.4725920232613179,-1.4665247189745574,-1.4590293799978238,-1.448640768340229,-1.4236185762942277,-1.4141936464588971,-1.409863586158381,-1.408568043105502,-1.4055131066865334,-1.3965935372926186,-1.3924997837465103,-1.382030227310588,-1.3777270712166474,-1.3763492870626592,-1.350712740842436,-1.349529318530962,-1.3304500743138616,-1.3277151695630836,-1.3230898646706903,-1.3204022365178458,-1.3138307913746576,-1.30835073475075,-1.3070179813314047,-1.3036272026125428,-1.3000070062996043,-1.2925054591545284,-1.2771122466243203,-1.2668862119713777,-1.2651338999423745,-1.2572596864817447,-1.2515177424471426,-1.2514961446212762,-1.2493523007510574,-1.2448404619078457,-1.2426730823129657,-1.24032721114857,-1.218936331667832,-1.183397872804881,-1.1686949245444973,-1.1665503259096899,-1.1601636995373732,-1.1591395651022784,-1.1505519796973767,-1.149958630361525,-1.1475624240858355,-1.1455705170123647,-1.1347485093173573,-1.1339990294837725,-1.1234935603547003,-1.0949956822737468,-1.0860419148253109,-1.0747490346761683,-1.0651222269609786,-1.0552835191145453,-1.0470145106112216,-1.031748807912237,-1.024361567571467,-1.0242802324470381,-1.0146048952628361,-1.0135125518747423,-1.004290558814509,-0.9784831527999405,-0.9776878424350262,-0.9763844475031207,-0.9702912419015304,-0.9696420133013444,-0.9640060141416829,-0.9323882737515268,-0.9179472654603642,-0.9094566349760314,-0.903582443959956,-0.9005157873351362,-0.8970100504317937,-0.8960869004429828,-0.8940631467755669,-0.8871725647497386,-0.87911086167815,-0.8623900813362466,-0.8618761762949778,-0.8609747594778363,-0.8554183645480977,-0.8506191421303853,-0.8477563635430307,-0.8465417853292991,-0.8463924555780555,-0.842343519486648,-0.837733974884749,-0.8289840785028488,-0.8223339829794822,-0.8222569278359235,-0.8090186776149499,-0.8063384534021254,-0.7879397906859289,-0.787814242570847,-0.7860196853401491,-0.7738020356478255,-0.768764855954343,-0.7621451703073969,-0.7466204587927066,-0.7436411956818887,-0.7417171532687679,-0.7379216374102895,-0.7373369852341778,-0.7371698081559677,-0.7228019076067631,-0.7226993100718544,-0.7223074505170297,-0.7222007575511089,-0.7221410502423442,-0.7181290770308468,-0.6986193896848061,-0.6866058097231345,-0.6791965020258806,-0.6755053818664969,-0.6687678102663819,-0.6685498760621695,-0.655877116447324,-0.6491438507430525,-0.6477913952675012,-0.6442001263171884,-0.63437551699807,-0.6338860104649053,-0.6304562037211432,-0.6284565833173006,-0.6177496308601698,-0.617066210399194,-0.5874244583743127,-0.5793299199244117,-0.5708303872001044,-0.5666325039808644,-0.5624280104653572,-0.5611547966060444,-0.5584608128671227,-0.5482742585447822,-0.5463804089210313,-0.5460323981955639,-0.5454567634101934,-0.5451010359406316,-0.544165836523824,-0.5429146176493811,-0.5287250002524697,-0.5239342015864583,-0.5232789629792132,-0.5057664662187555,-0.4901930035749418,-0.4901249403183323,-0.4852001855972672,-0.46084751676935465,-0.45961223633880177,-0.4590800574736744,-0.45896178702721446,-0.4584697401165432,-0.4445583726263962,-0.4430889925253867,-0.43915025218301107,-0.39645606212659557,-0.3925280909071063,-0.3792987777436361,-0.3789827334048885,-0.3733990777848861,-0.37241894225268135,-0.36253738978497907,-0.36048474414179754,-0.34719059398082974,-0.3468103547455703,-0.3417115079476627,-0.336246021971923,-0.3354270557155967,-0.331523289691837,-0.3162434730294521,-0.3148702132776511,-0.31168631349324816,-0.30268239661301877,-0.2985632784916801,-0.29081573030683927,-0.2907372454877306,-0.2850982545660177,-0.2736433182748712,-0.27097643611704303,-0.25845772202099226,-0.253575706218895,-0.2531593981194864,-0.24724336827179716,-0.24012453208282558,-0.22336906807906498,-0.22075594298900647,-0.2148695877642739,-0.2144578834323254,-0.20276768926903976,-0.1980159251801652,-0.19780317637609723,-0.1933963993047758,-0.1920737175394458,-0.18374783830675678,-0.18357929551419616,-0.1820491065162222,-0.1818841544009704,-0.16580503556926107,-0.1624736187507998,-0.15601221059651138,-0.1523055369001014,-0.14785777604327377,-0.1394046510969016,-0.13880093309209096,-0.13859550240114737,-0.13439507417243224,-0.10617847917163425,-0.10028776282056118,-0.09348492423708521,-0.08474500601645918,-0.08469742889626186,-0.07492302896822078,-0.07344009797580942,-0.07235609847267543,-0.058056683478361126,-0.05727055624597277,-0.05042351186007821,-0.04676655683980435,-0.04031211466543638,-0.02553025288099864,-0.021062017025649915,-0.013491348797549207,-0.01185571362095228,-0.011508226599480587,-0.008502734084154362,-0.0004596678201762572,0.0005350263083756523,0.00630583617502678,0.011088047012541846,0.021690383374560973,0.030276077877084973,0.04802713489515398,0.056512512939286275,0.06256198359858356,0.06283601534210215,0.0632091089875031,0.06544068574576745,0.0655776444429268,0.08445577920804492,0.08568126429485723,0.08969531817886356,0.09315575263600007,0.09366841283470606,0.0939128273919172,0.10193283827875366,0.12907272194451336,0.14179991496293365,0.14257342621550828,0.155196865294692,0.15740056821676296,0.15809754315109936,0.16736402796384908,0.17582872330710764,0.18234152834894424,0.18957923495793505,0.1915921347011813,0.20731487012314442,0.2112795337160529,0.22764897325736655,0.23058771884683793,0.23983713093166248,0.2530845089727829,0.2542632668405136,0.25587921617241527,0.2692084091277449,0.2748187367925512,0.2757453338497111,0.28260573168835945,0.2886316216917266,0.30551248492596716,0.3065304346476818,0.3066704724151599,0.3176326046239466,0.33314972058117576,0.3509985752233673,0.36388029109128617,0.36823349551997,0.3735017860095624,0.3805416796980241,0.38707765372664227,0.39317904418955596,0.4004248520767817,0.4065068730184538,0.4096459052996013,0.4188875221429389,0.4290310250917133,0.4291965073822279,0.4421994562251643,0.4430317048501884,0.4568317578121093,0.4578236639571034,0.4599483542655034,0.46652302410720736,0.4702873598144066,0.4775062779002113,0.5000331900269432,0.5046531005657919,0.5140159079664075,0.5211369082180553,0.5222717060851116,0.5257655681236226,0.527847857850614,0.5346256140434495,0.5384488364545854,0.5416212326000904,0.5457600370206501,0.5477563809119355,0.5596968118877017,0.5646145266806646,0.5760832517154713,0.5813927500643916,0.5889513763289767,0.5916923101026379,0.5921461865833284,0.594758036431231,0.6033460604564205,0.6081901033901405,0.6177528614333809,0.6183033381087446,0.6192850259391172,0.6277429287719998,0.6341605335102307,0.6346500641420993,0.6359244045821475,0.6372113923653435,0.6418259416209899,0.6419627905577032,0.6507819292856984,0.6569061516667309,0.6645807876906336,0.6657755612945824,0.6682627396163117,0.6711321715213341,0.6712053424875548,0.6718565387738842,0.6723298672672233,0.6729158454797712,0.6733109018164987,0.6764689139002389,0.6900359073050688,0.6933650124738433,0.7015464313958182,0.7100244004264988,0.7134028350438317,0.7142024993152045,0.7275528760256651,0.73142580811286,0.7340385606040614,0.7360780419262323,0.7480217744294846,0.7522299386423117,0.7568702337009219,0.7661738729924545,0.7691883809641085,0.770696870373528,0.7712989612387435,0.7760203465224329,0.7782004728415712,0.8027511040790305,0.8089660610226623,0.8135583915044942,0.8226156096705441,0.8556876196706806,0.8580738080333798,0.8581880774515467,0.8626300388389474,0.8640403580466911,0.8705910640901209,0.8709993735829089,0.878969637932336,0.8898809158916006,0.8937970827057411,0.8947809973102907,0.8957998762329886,0.89896586217673,0.905108818906327,0.9066933425182198,0.9074645122922833,0.9083347012876972,0.9183588298082057,0.9381668489890211,0.9428543633071591,0.9439036308302517,0.9469342017560503,0.9496825056528353,0.9522075997716826,0.957522703441481,0.9605717946769934,0.9608743347989224,0.9641827108768504,0.9704675444628652,0.9718709145405358,0.9719928273068352,0.9756769326221346,0.9861707988406669,0.9880736261106717,0.9940339841645915,0.9952024287645296,0.9955429352731091,0.997784643853489,1.0110896284039415,1.011339695045229,1.0332969083604873,1.0378811142485045,1.046408360671343,1.0476939460671773,1.0514223963672156,1.053533553095284,1.0635703879266933,1.063611899181966,1.0714303640486529,1.0791142433419396,1.0813302280662738,1.0887490645301163,1.0924195370613994,1.097765952854072,1.1083312814895434,1.1125850986593635,1.1174466128408982,1.1250346810832887,1.1270783355722092,1.1384523237226016,1.1392384099547535,1.1412688644386435,1.1421340472451886,1.1454604808878264,1.1457088782991,1.1487141029078307,1.151126910255201,1.152973842364153,1.1543618319835751,1.159538690581905,1.1601664171772406,1.173810910849273,1.175840235627052,1.1872566068221664,1.1872684902235204,1.2200334951786282,1.2213253850726389,1.2233767660911674,1.2236856902728506,1.2270951391724907,1.2275124051278832,1.2289307343228137,1.2415825557603712,1.2446343896105305,1.2481126624596186,1.2562246436849005,1.26380767290191,1.2654664810784957,1.2668930452896463,1.2694827988274433,1.2698917532017373,1.272745933530218,1.291716061464002,1.2934149805138189,1.3001260888341855,1.3029294943512797,1.3089346582908608,1.3127697804304859,1.3138880921894298,1.3151345052350942,1.3210255683762782,1.3229130706917065,1.3299645457148732,1.341651204206487,1.348546666194979,1.3547397100512661,1.3584365156967557,1.3619765295528978,1.3621234768316954,1.3689837246813195,1.3771913677687273,1.3901042279174725,1.4082197451500162,1.4089045090660761,1.40897061771045,1.412599549095463,1.413572467736529,1.4139189638021783,1.4155928889152793,1.4202338365959086,1.422429753150979,1.425179469608449,1.4413136272186602,1.4501064053076602,1.4556194064901935,1.4682846918462298,1.4741608920621925,1.4802878572680696,1.4914285699639942,1.4954598452697239],\"type\":\"scatter\"},{\"line\":{\"color\":\"#636efa\"},\"mode\":\"lines\",\"x\":[-2.878791946663771,-2.6527443361778706,-2.5128493063546746,-2.4096446702910828,-2.3270974381576357,-2.2578967738622167,-2.198070087185148,-2.1452091577240897,-2.0977397240560367,-2.0545740973085067,-2.0149281722161585,-1.9782173557054166,-1.9439937268344964,-1.9119062214969071,-1.8816743862208096,-1.8530704927563826,-1.8259070010390772,-1.8000275547807236,-1.7753003758395876,-1.751613327288067,-1.7288701622862503,-1.706987631698608,-1.6858932242067775,-1.6655233794215798,-1.6458220596200581,-1.6267395968131173,-1.6082317536240274,-1.5902589519520243,-1.5727856345778841,-1.555779733045389,-1.539212221204318,-1.523056738329606,-1.5072892691559818,-1.491887870782055,-1.476832438412075,-1.4621045034684073,-1.4476870588329875,-1.4335644069425775,-1.4197220272303261,-1.4061464600200018,-1.3928252044731249,-1.3797466285888613,-1.366899889581792,-1.3542748632287118,-1.341862080994352,-1.3296526739266514,-1.317638322462106,-1.3058112114067684,-1.2941639894629922,-1.282689732759974,-1.2713819119201764,-1.2602343622565275,-1.249241256748514,-1.2383970814907308,-1.227696613346246,-1.2171348995704503,-1.2067072391996543,-1.1964091660234413,-1.1862364329810913,-1.1761849978409358,-1.1662510100376124,-1.1564307985561837,-1.1467208607643733,-1.1371178521048986,-1.1276185765692712,-1.118219977882748,-1.108919131337386,-1.0997132362166246,-1.0905996087604735,-1.0815756756254842,-1.0726389677981436,-1.063787114924306,-1.0550178400208639,-1.046328954539008,-1.037718353751271,-1.0291840124370901,-1.0207239808438964,-1.0123363809027899,-1.0040194026796954,-0.9957713010445483,-0.9875903925425602,-0.9794750524529587,-0.9714237120218157,-0.9634348558566883,-0.9555070194717937,-0.9476387869733464,-0.9398287888755193,-0.9320757000382391,-0.9243782377187024,-0.916735159729141,-0.9091452626939119,-0.9016073803995353,-0.8941203822317478,-0.886683171694106,-0.8792946850030504,-0.8719538897547215,-0.8646597836591481,-0.8574113933377402,-0.8502077731803047,-0.843048004258061,-0.8359311932893759,-0.8288564716551625,-0.8218229944610879,-0.8148299396439304,-0.8078765071195982,-0.8009619179704839,-0.7940854136699831,-0.7872462553421392,-0.7804437230545131,-0.7736771151424852,-0.7669457475633235,-0.7602489532784371,-0.7535860816623511,-0.7469564979370035,-0.7403595826300782,-0.7337947310561326,-0.7272613528193825,-0.7207588713370479,-0.7142867233822445,-0.7078443586454575,-0.7014312393136848,-0.695046839666401,-0.6886906456875264,-0.682362154692641,-0.6760608749707244,-0.6697863254397342,-0.6635380353153846,-0.6573155437925107,-0.6511183997384439,-0.6449461613978518,-0.6387983961085225,-0.6326746800276069,-0.6265745978678484,-0.6204977426433653,-0.6144437154245603,-0.6084121251017659,-0.6024025881572435,-0.5964147284451813,-0.5904481769793475,-0.5845025717280762,-0.578577557416278,-0.5726727853341822,-0.5667879131525292,-0.5609226047439518,-0.5550765300102889,-0.5492493647155903,-0.543440790324586,-0.5376504938463977,-0.5318781676832843,-0.5261235094842235,-0.5203862220031361,-0.5146660129615759,-0.5089625949157053,-0.5032756851273973,-0.4976050054393014,-0.49195028215372294,-0.48631124591517094,-0.480687631596437,-0.47507917818807016,-0.469485628691124,-0.4639067300130515,-0.45834223286663384,-0.45279189167182926,-0.44725546446043773,-0.44173271278347614,-0.436223401621169,-0.43072729929545756,-0.42524417738493925,-0.4197738106421494,-0.4143159769131024,-0.4088704570590127,-0.40343703488011934,-0.39801549704153766,-0.39260563300107176,-0.3872072349389157,-0.3818200976891797,-0.3764440186731786,-0.3710787978344214,-0.3657242375752429,-0.36038014269502366,-0.35504632032994143,-0.3497225798942044,-0.3444087330227139,-0.33910459351511124,-0.33380997728115813,-0.32852470228741065,-0.3232485885051383,-0.3179814578594511,-0.3127231341795909,-0.30747344315035036,-0.30223221226458047,-0.29699927077675203,-0.2917744496575336,-0.28655758154935473,-0.28134850072292034,-0.2761470430346446,-0.27095304588497404,-0.2657663481775706,-0.26058679027932496,-0.25541421398117364,-0.2502484624596921,-0.24508938023943821,-0.23993681315602117,-0.23479060831987053,-0.2296506140806827,-0.2245166799925212,-0.2193886567795486,-0.21426639630236863,-0.20914975152495716,-0.20403857648216184,-0.19893272624775024,-0.19383205690298824,-0.1887364255057275,-0.1836456900599868,-0.17855970948600722,-0.17347834359076486,-0.1684014530389235,-0.16332889932421207,-0.15826054474120876,-0.15319625235751866,-0.1481358859863274,-0.14307931015931719,-0.13802639009993026,-0.13297699169696545,-0.12793098147849394,-0.12288822658608067,-0.11784859474929771,-0.11281195426051693,-0.10777817394996866,-0.10274712316105414,-0.09771867172589878,-0.09269268994113539,-0.08766904854390295,-0.08264761868805212,-0.07762827192054372,-0.07261088015802968,-0.06759531566360502,-0.06258145102371986,-0.057569159125240195,-0.05255831313264713,-0.04754878646536324,-0.04254045277519598,-0.03753318592388742,-0.03252685996075981,-0.0275213491004469,-0.02251652770070054,-0.017512270240262542,-0.012508451296791559,-0.007504945524834977,-0.0025016276338357883,0.0025016276338357883,0.007504945524834839,0.012508451296791559,0.017512270240262404,0.02251652770070054,0.027521349100446763,0.03252685996075981,0.03753318592388728,0.04254045277519598,0.0475487864653631,0.05255831313264713,0.05756915912524034,0.06258145102371986,0.06759531566360516,0.07261088015802968,0.07762827192054386,0.08264761868805212,0.08766904854390309,0.09269268994113539,0.09771867172589892,0.102747123161054,0.10777817394996866,0.1128119542605168,0.11784859474929771,0.12288822658608053,0.12793098147849394,0.1329769916969653,0.13802639009993026,0.14307931015931705,0.1481358859863274,0.15319625235751883,0.15826054474120876,0.1633288993242122,0.1684014530389235,0.173478343590765,0.17855970948600722,0.18364569005998696,0.1887364255057275,0.19383205690298838,0.19893272624775024,0.20403857648216184,0.20914975152495702,0.21426639630236863,0.21938865677954847,0.2245166799925212,0.22965061408068257,0.23479060831987053,0.23993681315602103,0.24508938023943821,0.25024846245969196,0.25541421398117364,0.26058679027932513,0.2657663481775706,0.2709530458849742,0.2761470430346446,0.28134850072292045,0.28655758154935473,0.29177444965753374,0.29699927077675203,0.30223221226458064,0.3074734431503502,0.3127231341795909,0.3179814578594509,0.3232485885051383,0.3285247022874105,0.33380997728115813,0.339104593515111,0.3444087330227139,0.34972257989420424,0.35504632032994143,0.36038014269502383,0.3657242375752429,0.3710787978344215,0.3764440186731786,0.3818200976891798,0.3872072349389157,0.3926056330010719,0.39801549704153766,0.4034370348801195,0.4088704570590127,0.4143159769131024,0.41977381064214925,0.42524417738493925,0.43072729929545744,0.436223401621169,0.44173271278347603,0.44725546446043773,0.45279189167182915,0.45834223286663384,0.4639067300130513,0.469485628691124,0.47507917818807033,0.480687631596437,0.48631124591517116,0.49195028215372294,0.49760500543930153,0.5032756851273973,0.5089625949157055,0.5146660129615759,0.5203862220031363,0.5261235094842234,0.5318781676832843,0.5376504938463975,0.543440790324586,0.5492493647155902,0.5550765300102889,0.5609226047439517,0.5667879131525292,0.572672785334182,0.578577557416278,0.5845025717280763,0.5904481769793475,0.5964147284451815,0.6024025881572435,0.608412125101766,0.6144437154245603,0.6204977426433654,0.6265745978678484,0.632674680027607,0.6387983961085225,0.6449461613978518,0.6511183997384437,0.6573155437925107,0.6635380353153844,0.6697863254397342,0.6760608749707242,0.682362154692641,0.688690645687526,0.695046839666401,0.7014312393136847,0.7078443586454575,0.7142867233822449,0.7207588713370479,0.7272613528193828,0.7337947310561326,0.7403595826300782,0.7469564979370035,0.7535860816623511,0.7602489532784371,0.7669457475633235,0.7736771151424852,0.7804437230545131,0.7872462553421392,0.7940854136699831,0.8009619179704839,0.8078765071195982,0.8148299396439302,0.8218229944610879,0.8288564716551624,0.8359311932893759,0.8430480042580611,0.8502077731803047,0.8574113933377404,0.8646597836591481,0.8719538897547218,0.8792946850030504,0.886683171694106,0.8941203822317478,0.9016073803995353,0.9091452626939119,0.916735159729141,0.9243782377187024,0.9320757000382391,0.9398287888755193,0.9476387869733464,0.9555070194717937,0.9634348558566883,0.9714237120218153,0.9794750524529587,0.98759039254256,0.9957713010445483,1.0040194026796954,1.0123363809027899,1.0207239808438962,1.0291840124370901,1.037718353751271,1.046328954539008,1.0550178400208639,1.063787114924306,1.0726389677981436,1.0815756756254842,1.0905996087604735,1.0997132362166246,1.108919131337386,1.118219977882747,1.1276185765692712,1.1371178521048986,1.1467208607643733,1.1564307985561837,1.1662510100376124,1.1761849978409358,1.1862364329810913,1.1964091660234422,1.2067072391996543,1.2171348995704503,1.227696613346246,1.2383970814907308,1.249241256748514,1.2602343622565282,1.2713819119201764,1.282689732759974,1.2941639894629922,1.3058112114067684,1.317638322462106,1.3296526739266514,1.341862080994352,1.3542748632287118,1.366899889581792,1.3797466285888613,1.3928252044731244,1.4061464600200018,1.419722027230327,1.4335644069425775,1.447687058832988,1.4621045034684073,1.4768324384120757,1.4918878707820542,1.5072892691559825,1.523056738329606,1.539212221204318,1.5557797330453886,1.5727856345778841,1.5902589519520238,1.6082317536240274,1.6267395968131166,1.6458220596200581,1.6655233794215798,1.6858932242067775,1.706987631698607,1.7288701622862503,1.751613327288068,1.7753003758395876,1.8000275547807243,1.8259070010390772,1.8530704927563826,1.881674386220809,1.9119062214969078,1.943993726834496,1.9782173557054168,2.014928172216158,2.054574097308507,2.097739724056036,2.1452091577240897,2.1980700871851475,2.2578967738622175,2.327097438157635,2.4096446702910836,2.5128493063546724,2.652744336177871,2.878791946663763],\"y\":[-2.407115231188209,-2.211474589423436,-2.09039764746647,-2.0010756626457535,-1.92963233512825,-1.8697402515791126,-1.8179611978169328,-1.772210897064743,-1.731126850889402,-1.6937676817262661,-1.6594547588347015,-1.6276821261294407,-1.5980621150997563,-1.5702908852982886,-1.5441257086683347,-1.5193694900012908,-1.495859916329079,-1.473461663750262,-1.4520606803615084,-1.4315599134205463,-1.41187606280539,-1.392937077702202,-1.3746802007085532,-1.3570504213100516,-1.339999239741277,-1.3234836691410066,-1.3074654227573705,-1.2919102463683638,-1.276787365761539,-1.262069026193807,-1.247730105989938,-1.2337477903581362,-1.2201012944650662,-1.2067716270756472,-1.1937413878062402,-1.1809945923941794,-1.1685165214470081,-1.1562935889713177,-1.1443132276455101,-1.1325637883320858,-1.1210344517524977,-1.1097151505934786,-1.0985965005952547,-1.0876697394023163,-1.0769266721467214,-1.066359622890338,-1.055961391182165,-1.0457252130950987,-1.0356447261969668,-1.0257139379867892,-1.015927197391285,-1.00627916897102,-0.996764809531641,-0.9873793468749821,-0.9781182604584058,-0.9689772637595648,-0.9599522881685272,-0.9510394682506162,-0.9422351282417614,-0.9335357696542055,-0.9249380598843566,-0.9164388217266839,-0.9080350237081939,-0.8997237711673072,-0.891502298009083,-0.8833679590759331,-0.8753182230792601,-0.867350666043052,-0.8594629652153642,-0.8516528934080279,-0.8439183137287871,-0.836257174673513,-0.8286675055492372,-0.8211474122014824,-0.8136950730218201,-0.806308735213794,-0.7989867112973061,-0.7917273758333437,-0.7845291623525101,-0.7773905604722575,-0.7703101131890173,-0.7632864143325853,-0.7563181061711781,-0.7494038771565367,-0.742542459799313,-0.7357326286657664,-0.7289731984875127,-0.7222630223767177,-0.7156009901397158,-0.7089860266825848,-0.7024170905026849,-0.695893172260642,-0.6894132934276429,-0.682976505003309,-0.6765818862997471,-0.6702285437876995,-0.6639156100010035,-0.6576422424958414,-0.6514076228615044,-0.6452109557796262,-0.6390514681290412,-0.6329284081336295,-0.626841044550671,-0.6207886658974127,-0.6147705797136914,-0.6087861118586028,-0.6028346058393339,-0.5969154221703974,-0.5910279377616217,-0.5851715453333446,-0.5793456528573703,-0.5735496830223185,-0.5677830727221017,-0.5620452725663191,-0.5563357464114508,-0.5506539709117833,-0.5449994350890764,-0.539371639920028,-0.5337700979406526,-0.528194332866744,-0.5226438792296314,-0.5171182820264913,-0.5116170963845136,-0.5061398872382608,-0.5006862290195998,-0.49525570535961017,-0.48984790880191775,-0.4844624405269199,-0.4790989100864068,-0.47375693514810546,-0.46843614124969535,-0.463136161561875,-0.4578566366600737,-0.45259721430442956,-0.4473575492276678,-0.44213730293053966,-0.43693614348449095,-0.431753745341254,-0.42658978914906465,-0.4214439615752259,-0.41631595513475095,-0.41120546802483304,-0.406112203964897,-0.40103587204200786,-0.39597618656141315,-0.39093286690201173,-0.3859056373765513,-0.38089422709636295,-0.37589836984045294,-0.3709178039287801,-0.365952272099551,-0.3610015213903799,-0.3560653030231589,-0.35114337229249837,-0.3462354884575983,-0.34134141463742057,-0.3364609177090359,-0.331593768209027,-0.32673974023783037,-0.3218986113669112,-0.3170701625486618,-0.3122541780289259,-0.3074504452620504,-0.3026587548283745,-0.29787890035406395,-0.2931106784332097,-0.28835388855210575,-0.2836083330156309,-0.27887381687565677,-0.2741501478614126,-0.26943713631173566,-0.26473459510914266,-0.2600423396156554,-0.2553601876103241,-0.2506879592283842,-0.24602547690199394,-0.24137256530249623,-0.23672905128415334,-0.23209476382930244,-0.227469533994886,-0.2228531948603077,-0.21824558147657042,-0.21364653081665214,-0.20905588172707906,-0.20447347488065326,-0.19989915273030012,-0.1953327594639926,-0.19077414096072187,-0.18622314474747542,-0.18167961995719034,-0.17714341728764993,-0.1726143889612916,-0.16809238868589477,-0.16357727161612176,-0.15906889431588145,-0.1545671147214891,-0.15007179210559562,-0.14558278704186114,-0.14109996137034722,-0.13662317816360459,-0.13215230169343267,-0.12768719739828838,-0.12322773185132285,-0.1187737727290242,-0.1143251887804464,-0.10988184979700419,-0.10544362658281459,-0.10101039092556649,-0.09658201556790003,-0.09215837417927786,-0.08773934132833161,-0.08332479245566662,-0.078914603847108,-0.07450865260737344,-0.07010681663415666,-0.0657089745926065,-0.06131500589018704,-0.05692479065190506,-0.05253820969588985,-0.048155144509313214,-0.043775477224635234,-0.03939909059616334,-0.035025867976912456,-0.0306556932957531,-0.02628845103483593,-0.02192402620728079,-0.01756230433511838,-0.013203171427473806,-0.00884651395898016,-0.004492218848411861,-0.00014017343752639744,0.004209734529894926,0.008557616928819622,0.01290358527355788,0.017247750738189196,0.021590224176831277,0.025931116143760757,0.03027053691339556,0.03460859650014841,0.03894540467816051,0.04328107100092527,0.04761570482081062,0.05194941530848943,0.05628231147228684,0.06061450217745353,0.0649460961653737,0.06927720207271665,0.07360792845054073,0.07793838378335828,0.08226867650817037,0.08659891503348006,0.09092920775829204,0.0952596630911097,0.09959038946893366,0.10392149537627673,0.10825308936419678,0.11258528006936358,0.11691817623316089,0.12125188672083981,0.12558652054072506,0.1299221868634899,0.13425899504150215,0.13859705462825486,0.14293647539788978,0.14727736736481917,0.15161984080346136,0.15596400626809254,0.16030997461283092,0.1646578570117555,0.16900776497917694,0.17335981039006215,0.1777141055006306,0.1820707629691241,0.1864298958767688,0.1907916177489311,0.19515604257648636,0.19952328483740342,0.2038934595185629,0.20826668213781366,0.21264306876628566,0.2170227360509638,0.22140580123754028,0.2257923821935556,0.23018259743183747,0.23457656613425706,0.2389744081758071,0.243376244149024,0.24778219538875842,0.2521923839973172,0.25660693286998204,0.2610259657209283,0.26544960710955035,0.26987798246721695,0.2743112181244649,0.27874944133865465,0.2831927803220967,0.28764136427067466,0.29209532339297317,0.2965547889399388,0.30101989323508294,0.305490769705255,0.3099675529119978,0.31445037858351155,0.31893938364724617,0.3234347062631395,0.327936485857532,0.3324448631577722,0.3369599802275453,0.34148198050294204,0.3460110088293005,0.3505472114988406,0.35509073628912585,0.3596417325023722,0.364200351005643,0.3687667442719504,0.3733410664223037,0.37792347326872927,0.38251412235830257,0.3871131730182207,0.3917207864019581,0.3963371255365366,0.40096235537095287,0.4055966428258039,0.41024015684414666,0.41489306844364443,0.41955555077003465,0.4242277791519746,0.42890993115730586,0.4336021866507932,0.4383047278533861,0.44301773940306305,0.44774140841730703,0.4524759245572813,0.4572214800937561,0.46197826997486013,0.46674649189571427,0.47152634637002494,0.4763180368037008,0.48112176957057634,0.48593775409031215,0.49076620290856166,0.4956073317794809,0.5004613597506774,0.5053285092506865,0.510209006179071,0.5151030799992489,0.5200109638341488,0.5249328945648095,0.5298691129320303,0.5348198636412016,0.5397853954704305,0.5447659613821034,0.5497618186380131,0.5547732289182017,0.559800458443662,0.5648437781030635,0.5699034635836582,0.5749797955065474,0.5800730595664834,0.5851835466764014,0.5903115531168763,0.5954573806907151,0.6006213368829046,0.6058037350261414,0.6110048944721902,0.6162251407693182,0.6214648058460801,0.6267242282017241,0.6320037531035255,0.6373037327913458,0.6426245266897559,0.647966501628057,0.6533300320685703,0.6587155003435681,0.6641232969012606,0.66955382056125,0.6750074787799112,0.6804846879261637,0.6859858735681418,0.6915114707712817,0.6970619244083944,0.7026376894823032,0.7082392314616784,0.7138670266307271,0.7195215624534337,0.7252033379531012,0.7309128641079695,0.7366506642637521,0.7424172745639689,0.7482132443990207,0.754039136874995,0.7598955293032721,0.7657830137120478,0.7717021973809843,0.7776537034002532,0.7836381712553419,0.789656257439063,0.7957086360923215,0.8017959996752798,0.8079190596706917,0.8140785473212767,0.8202752144031549,0.826509834037492,0.832783201542654,0.8390961353293501,0.8454494778413976,0.8518440965449594,0.8582808849692933,0.8647607638022924,0.8712846820443353,0.8778536182242352,0.8844685816813662,0.8911306139183681,0.8978407900291632,0.9046002202074168,0.9114100513409634,0.9182714686981871,0.9251856977128282,0.9321540058742357,0.9391777047306675,0.946258152013908,0.9533967538941606,0.9605949673749942,0.9678543028389563,0.9751763267554444,0.9825626645634705,0.9900150037431328,0.9975350970908876,1.0051247662151634,1.0127859052704375,1.0205204849496783,1.0283305567570147,1.0362182575847023,1.0441858146209104,1.0522355506175827,1.0603698895507334,1.0685913627089576,1.0769026152498444,1.0853064132683343,1.093805651426007,1.102403361195856,1.1111027197834118,1.1199070597922673,1.1288198797101776,1.1378448553012153,1.1469858520000562,1.1562469384166325,1.1656324010732915,1.175146760512671,1.1847947889329353,1.1945815295284397,1.2045123177386172,1.2145928046367491,1.2248289827238155,1.2352272144319885,1.2457942636883719,1.2565373309439667,1.2674640921369051,1.278582742135129,1.289902043294148,1.3014313798737362,1.3131808191871612,1.3251611805129682,1.337384112988659,1.3498621839358298,1.362608979347891,1.375639218617297,1.388968886006717,1.4026153818997866,1.4165976975315884,1.430936617735457,1.4456549573031894,1.4607778379100138,1.476333014299021,1.4923512606826563,1.5088668312829274,1.525918012851702,1.5435477922502037,1.5618046692438519,1.5807436543470403,1.6004275049621977,1.6209282719031588,1.642329255291913,1.6647275078707295,1.6882370815429413,1.7129933002099846,1.7391584768399397,1.7669297066414063,1.7965497176710914,1.8283223503763517,1.862635273267917,1.8999944424310518,1.9410784886063934,1.986828789358583,2.0386078431207637,2.0984999266698994,2.1699432541874044,2.259265239008119,2.380342180965087,2.575982822729852],\"type\":\"scatter\"}],                        {\"height\":700,\"showlegend\":false,\"template\":{\"data\":{\"barpolar\":[{\"marker\":{\"line\":{\"color\":\"#E5ECF6\",\"width\":0.5},\"pattern\":{\"fillmode\":\"overlay\",\"size\":10,\"solidity\":0.2}},\"type\":\"barpolar\"}],\"bar\":[{\"error_x\":{\"color\":\"#2a3f5f\"},\"error_y\":{\"color\":\"#2a3f5f\"},\"marker\":{\"line\":{\"color\":\"#E5ECF6\",\"width\":0.5},\"pattern\":{\"fillmode\":\"overlay\",\"size\":10,\"solidity\":0.2}},\"type\":\"bar\"}],\"carpet\":[{\"aaxis\":{\"endlinecolor\":\"#2a3f5f\",\"gridcolor\":\"white\",\"linecolor\":\"white\",\"minorgridcolor\":\"white\",\"startlinecolor\":\"#2a3f5f\"},\"baxis\":{\"endlinecolor\":\"#2a3f5f\",\"gridcolor\":\"white\",\"linecolor\":\"white\",\"minorgridcolor\":\"white\",\"startlinecolor\":\"#2a3f5f\"},\"type\":\"carpet\"}],\"choropleth\":[{\"colorbar\":{\"outlinewidth\":0,\"ticks\":\"\"},\"type\":\"choropleth\"}],\"contourcarpet\":[{\"colorbar\":{\"outlinewidth\":0,\"ticks\":\"\"},\"type\":\"contourcarpet\"}],\"contour\":[{\"colorbar\":{\"outlinewidth\":0,\"ticks\":\"\"},\"colorscale\":[[0.0,\"#0d0887\"],[0.1111111111111111,\"#46039f\"],[0.2222222222222222,\"#7201a8\"],[0.3333333333333333,\"#9c179e\"],[0.4444444444444444,\"#bd3786\"],[0.5555555555555556,\"#d8576b\"],[0.6666666666666666,\"#ed7953\"],[0.7777777777777778,\"#fb9f3a\"],[0.8888888888888888,\"#fdca26\"],[1.0,\"#f0f921\"]],\"type\":\"contour\"}],\"heatmapgl\":[{\"colorbar\":{\"outlinewidth\":0,\"ticks\":\"\"},\"colorscale\":[[0.0,\"#0d0887\"],[0.1111111111111111,\"#46039f\"],[0.2222222222222222,\"#7201a8\"],[0.3333333333333333,\"#9c179e\"],[0.4444444444444444,\"#bd3786\"],[0.5555555555555556,\"#d8576b\"],[0.6666666666666666,\"#ed7953\"],[0.7777777777777778,\"#fb9f3a\"],[0.8888888888888888,\"#fdca26\"],[1.0,\"#f0f921\"]],\"type\":\"heatmapgl\"}],\"heatmap\":[{\"colorbar\":{\"outlinewidth\":0,\"ticks\":\"\"},\"colorscale\":[[0.0,\"#0d0887\"],[0.1111111111111111,\"#46039f\"],[0.2222222222222222,\"#7201a8\"],[0.3333333333333333,\"#9c179e\"],[0.4444444444444444,\"#bd3786\"],[0.5555555555555556,\"#d8576b\"],[0.6666666666666666,\"#ed7953\"],[0.7777777777777778,\"#fb9f3a\"],[0.8888888888888888,\"#fdca26\"],[1.0,\"#f0f921\"]],\"type\":\"heatmap\"}],\"histogram2dcontour\":[{\"colorbar\":{\"outlinewidth\":0,\"ticks\":\"\"},\"colorscale\":[[0.0,\"#0d0887\"],[0.1111111111111111,\"#46039f\"],[0.2222222222222222,\"#7201a8\"],[0.3333333333333333,\"#9c179e\"],[0.4444444444444444,\"#bd3786\"],[0.5555555555555556,\"#d8576b\"],[0.6666666666666666,\"#ed7953\"],[0.7777777777777778,\"#fb9f3a\"],[0.8888888888888888,\"#fdca26\"],[1.0,\"#f0f921\"]],\"type\":\"histogram2dcontour\"}],\"histogram2d\":[{\"colorbar\":{\"outlinewidth\":0,\"ticks\":\"\"},\"colorscale\":[[0.0,\"#0d0887\"],[0.1111111111111111,\"#46039f\"],[0.2222222222222222,\"#7201a8\"],[0.3333333333333333,\"#9c179e\"],[0.4444444444444444,\"#bd3786\"],[0.5555555555555556,\"#d8576b\"],[0.6666666666666666,\"#ed7953\"],[0.7777777777777778,\"#fb9f3a\"],[0.8888888888888888,\"#fdca26\"],[1.0,\"#f0f921\"]],\"type\":\"histogram2d\"}],\"histogram\":[{\"marker\":{\"pattern\":{\"fillmode\":\"overlay\",\"size\":10,\"solidity\":0.2}},\"type\":\"histogram\"}],\"mesh3d\":[{\"colorbar\":{\"outlinewidth\":0,\"ticks\":\"\"},\"type\":\"mesh3d\"}],\"parcoords\":[{\"line\":{\"colorbar\":{\"outlinewidth\":0,\"ticks\":\"\"}},\"type\":\"parcoords\"}],\"pie\":[{\"automargin\":true,\"type\":\"pie\"}],\"scatter3d\":[{\"line\":{\"colorbar\":{\"outlinewidth\":0,\"ticks\":\"\"}},\"marker\":{\"colorbar\":{\"outlinewidth\":0,\"ticks\":\"\"}},\"type\":\"scatter3d\"}],\"scattercarpet\":[{\"marker\":{\"colorbar\":{\"outlinewidth\":0,\"ticks\":\"\"}},\"type\":\"scattercarpet\"}],\"scattergeo\":[{\"marker\":{\"colorbar\":{\"outlinewidth\":0,\"ticks\":\"\"}},\"type\":\"scattergeo\"}],\"scattergl\":[{\"marker\":{\"colorbar\":{\"outlinewidth\":0,\"ticks\":\"\"}},\"type\":\"scattergl\"}],\"scattermapbox\":[{\"marker\":{\"colorbar\":{\"outlinewidth\":0,\"ticks\":\"\"}},\"type\":\"scattermapbox\"}],\"scatterpolargl\":[{\"marker\":{\"colorbar\":{\"outlinewidth\":0,\"ticks\":\"\"}},\"type\":\"scatterpolargl\"}],\"scatterpolar\":[{\"marker\":{\"colorbar\":{\"outlinewidth\":0,\"ticks\":\"\"}},\"type\":\"scatterpolar\"}],\"scatter\":[{\"marker\":{\"colorbar\":{\"outlinewidth\":0,\"ticks\":\"\"}},\"type\":\"scatter\"}],\"scatterternary\":[{\"marker\":{\"colorbar\":{\"outlinewidth\":0,\"ticks\":\"\"}},\"type\":\"scatterternary\"}],\"surface\":[{\"colorbar\":{\"outlinewidth\":0,\"ticks\":\"\"},\"colorscale\":[[0.0,\"#0d0887\"],[0.1111111111111111,\"#46039f\"],[0.2222222222222222,\"#7201a8\"],[0.3333333333333333,\"#9c179e\"],[0.4444444444444444,\"#bd3786\"],[0.5555555555555556,\"#d8576b\"],[0.6666666666666666,\"#ed7953\"],[0.7777777777777778,\"#fb9f3a\"],[0.8888888888888888,\"#fdca26\"],[1.0,\"#f0f921\"]],\"type\":\"surface\"}],\"table\":[{\"cells\":{\"fill\":{\"color\":\"#EBF0F8\"},\"line\":{\"color\":\"white\"}},\"header\":{\"fill\":{\"color\":\"#C8D4E3\"},\"line\":{\"color\":\"white\"}},\"type\":\"table\"}]},\"layout\":{\"annotationdefaults\":{\"arrowcolor\":\"#2a3f5f\",\"arrowhead\":0,\"arrowwidth\":1},\"autotypenumbers\":\"strict\",\"coloraxis\":{\"colorbar\":{\"outlinewidth\":0,\"ticks\":\"\"}},\"colorscale\":{\"diverging\":[[0,\"#8e0152\"],[0.1,\"#c51b7d\"],[0.2,\"#de77ae\"],[0.3,\"#f1b6da\"],[0.4,\"#fde0ef\"],[0.5,\"#f7f7f7\"],[0.6,\"#e6f5d0\"],[0.7,\"#b8e186\"],[0.8,\"#7fbc41\"],[0.9,\"#4d9221\"],[1,\"#276419\"]],\"sequential\":[[0.0,\"#0d0887\"],[0.1111111111111111,\"#46039f\"],[0.2222222222222222,\"#7201a8\"],[0.3333333333333333,\"#9c179e\"],[0.4444444444444444,\"#bd3786\"],[0.5555555555555556,\"#d8576b\"],[0.6666666666666666,\"#ed7953\"],[0.7777777777777778,\"#fb9f3a\"],[0.8888888888888888,\"#fdca26\"],[1.0,\"#f0f921\"]],\"sequentialminus\":[[0.0,\"#0d0887\"],[0.1111111111111111,\"#46039f\"],[0.2222222222222222,\"#7201a8\"],[0.3333333333333333,\"#9c179e\"],[0.4444444444444444,\"#bd3786\"],[0.5555555555555556,\"#d8576b\"],[0.6666666666666666,\"#ed7953\"],[0.7777777777777778,\"#fb9f3a\"],[0.8888888888888888,\"#fdca26\"],[1.0,\"#f0f921\"]]},\"colorway\":[\"#636efa\",\"#EF553B\",\"#00cc96\",\"#ab63fa\",\"#FFA15A\",\"#19d3f3\",\"#FF6692\",\"#B6E880\",\"#FF97FF\",\"#FECB52\"],\"font\":{\"color\":\"#2a3f5f\"},\"geo\":{\"bgcolor\":\"white\",\"lakecolor\":\"white\",\"landcolor\":\"#E5ECF6\",\"showlakes\":true,\"showland\":true,\"subunitcolor\":\"white\"},\"hoverlabel\":{\"align\":\"left\"},\"hovermode\":\"closest\",\"mapbox\":{\"style\":\"light\"},\"paper_bgcolor\":\"white\",\"plot_bgcolor\":\"#E5ECF6\",\"polar\":{\"angularaxis\":{\"gridcolor\":\"white\",\"linecolor\":\"white\",\"ticks\":\"\"},\"bgcolor\":\"#E5ECF6\",\"radialaxis\":{\"gridcolor\":\"white\",\"linecolor\":\"white\",\"ticks\":\"\"}},\"scene\":{\"xaxis\":{\"backgroundcolor\":\"#E5ECF6\",\"gridcolor\":\"white\",\"gridwidth\":2,\"linecolor\":\"white\",\"showbackground\":true,\"ticks\":\"\",\"zerolinecolor\":\"white\"},\"yaxis\":{\"backgroundcolor\":\"#E5ECF6\",\"gridcolor\":\"white\",\"gridwidth\":2,\"linecolor\":\"white\",\"showbackground\":true,\"ticks\":\"\",\"zerolinecolor\":\"white\"},\"zaxis\":{\"backgroundcolor\":\"#E5ECF6\",\"gridcolor\":\"white\",\"gridwidth\":2,\"linecolor\":\"white\",\"showbackground\":true,\"ticks\":\"\",\"zerolinecolor\":\"white\"}},\"shapedefaults\":{\"line\":{\"color\":\"#2a3f5f\"}},\"ternary\":{\"aaxis\":{\"gridcolor\":\"white\",\"linecolor\":\"white\",\"ticks\":\"\"},\"baxis\":{\"gridcolor\":\"white\",\"linecolor\":\"white\",\"ticks\":\"\"},\"bgcolor\":\"#E5ECF6\",\"caxis\":{\"gridcolor\":\"white\",\"linecolor\":\"white\",\"ticks\":\"\"}},\"title\":{\"x\":0.05},\"xaxis\":{\"automargin\":true,\"gridcolor\":\"white\",\"linecolor\":\"white\",\"ticks\":\"\",\"title\":{\"standoff\":15},\"zerolinecolor\":\"white\",\"zerolinewidth\":2},\"yaxis\":{\"automargin\":true,\"gridcolor\":\"white\",\"linecolor\":\"white\",\"ticks\":\"\",\"title\":{\"standoff\":15},\"zerolinecolor\":\"white\",\"zerolinewidth\":2}}},\"title\":{\"text\":\"Quantile-Quantile Plot\"},\"width\":800,\"xaxis\":{\"title\":{\"text\":\"Theoritical Quantities\"},\"zeroline\":false},\"yaxis\":{\"title\":{\"text\":\"Sample Quantities\"}}},                        {\"responsive\": true}                    ).then(function(){\n",
       "                            \n",
       "var gd = document.getElementById('a7d25c6b-995d-42e2-bf99-b6ebe2bd7a35');\n",
       "var x = new MutationObserver(function (mutations, observer) {{\n",
       "        var display = window.getComputedStyle(gd).display;\n",
       "        if (!display || display === 'none') {{\n",
       "            console.log([gd, 'removed!']);\n",
       "            Plotly.purge(gd);\n",
       "            observer.disconnect();\n",
       "        }}\n",
       "}});\n",
       "\n",
       "// Listen for the removal of the full notebook cells\n",
       "var notebookContainer = gd.closest('#notebook-container');\n",
       "if (notebookContainer) {{\n",
       "    x.observe(notebookContainer, {childList: true});\n",
       "}}\n",
       "\n",
       "// Listen for the clearing of the current output cell\n",
       "var outputEl = gd.closest('.output');\n",
       "if (outputEl) {{\n",
       "    x.observe(outputEl, {childList: true});\n",
       "}}\n",
       "\n",
       "                        })                };                });            </script>        </div>"
      ]
     },
     "metadata": {},
     "output_type": "display_data"
    },
    {
     "data": {
      "application/javascript": [
       "\n",
       "            setTimeout(function() {\n",
       "                var nbb_cell_id = 72;\n",
       "                var nbb_unformatted_code = \"fig = go.Figure()\\n\\n#Scatter plot of the residuals\\nfig.add_trace({ \\n    'type': 'scatter',\\n    'x': qqplot_data[0].get_xdata(),\\n    'y': qqplot_data[0].get_ydata(),\\n    'mode': 'markers',\\n    'marker': {\\n        'color': '#19d3f3'\\n    }\\n})\\n\\n#Adds Symmetric Line\\nfig.add_trace({\\n    'type': 'scatter',\\n    'x': qqplot_data[1].get_xdata(),\\n    'y': qqplot_data[1].get_ydata(),\\n    'mode': 'lines',\\n    'line': {\\n        'color': '#636efa'\\n    }\\n\\n})\\n\\n#Adds legend and labeling\\nfig['layout'].update({\\n    'title': 'Quantile-Quantile Plot',\\n    'xaxis': {\\n        'title': 'Theoritical Quantities',\\n        'zeroline': False\\n    },\\n    'yaxis': {\\n        'title': 'Sample Quantities'\\n    },\\n    'showlegend': False,\\n    'width': 800,\\n    'height': 700,\\n})\\n\\n#Shows the plot\\noffline.iplot(fig, filename='normality-QQ')\";\n",
       "                var nbb_formatted_code = \"fig = go.Figure()\\n\\n# Scatter plot of the residuals\\nfig.add_trace(\\n    {\\n        \\\"type\\\": \\\"scatter\\\",\\n        \\\"x\\\": qqplot_data[0].get_xdata(),\\n        \\\"y\\\": qqplot_data[0].get_ydata(),\\n        \\\"mode\\\": \\\"markers\\\",\\n        \\\"marker\\\": {\\\"color\\\": \\\"#19d3f3\\\"},\\n    }\\n)\\n\\n# Adds Symmetric Line\\nfig.add_trace(\\n    {\\n        \\\"type\\\": \\\"scatter\\\",\\n        \\\"x\\\": qqplot_data[1].get_xdata(),\\n        \\\"y\\\": qqplot_data[1].get_ydata(),\\n        \\\"mode\\\": \\\"lines\\\",\\n        \\\"line\\\": {\\\"color\\\": \\\"#636efa\\\"},\\n    }\\n)\\n\\n# Adds legend and labeling\\nfig[\\\"layout\\\"].update(\\n    {\\n        \\\"title\\\": \\\"Quantile-Quantile Plot\\\",\\n        \\\"xaxis\\\": {\\\"title\\\": \\\"Theoritical Quantities\\\", \\\"zeroline\\\": False},\\n        \\\"yaxis\\\": {\\\"title\\\": \\\"Sample Quantities\\\"},\\n        \\\"showlegend\\\": False,\\n        \\\"width\\\": 800,\\n        \\\"height\\\": 700,\\n    }\\n)\\n\\n# Shows the plot\\noffline.iplot(fig, filename=\\\"normality-QQ\\\")\";\n",
       "                var nbb_cells = Jupyter.notebook.get_cells();\n",
       "                for (var i = 0; i < nbb_cells.length; ++i) {\n",
       "                    if (nbb_cells[i].input_prompt_number == nbb_cell_id) {\n",
       "                        if (nbb_cells[i].get_text() == nbb_unformatted_code) {\n",
       "                             nbb_cells[i].set_text(nbb_formatted_code);\n",
       "                        }\n",
       "                        break;\n",
       "                    }\n",
       "                }\n",
       "            }, 500);\n",
       "            "
      ],
      "text/plain": [
       "<IPython.core.display.Javascript object>"
      ]
     },
     "metadata": {},
     "output_type": "display_data"
    }
   ],
   "source": [
    "fig = go.Figure()\n",
    "\n",
    "# Scatter plot of the residuals\n",
    "fig.add_trace(\n",
    "    {\n",
    "        \"type\": \"scatter\",\n",
    "        \"x\": qqplot_data[0].get_xdata(),\n",
    "        \"y\": qqplot_data[0].get_ydata(),\n",
    "        \"mode\": \"markers\",\n",
    "        \"marker\": {\"color\": \"#19d3f3\"},\n",
    "    }\n",
    ")\n",
    "\n",
    "# Adds Symmetric Line\n",
    "fig.add_trace(\n",
    "    {\n",
    "        \"type\": \"scatter\",\n",
    "        \"x\": qqplot_data[1].get_xdata(),\n",
    "        \"y\": qqplot_data[1].get_ydata(),\n",
    "        \"mode\": \"lines\",\n",
    "        \"line\": {\"color\": \"#636efa\"},\n",
    "    }\n",
    ")\n",
    "\n",
    "# Adds legend and labeling\n",
    "fig[\"layout\"].update(\n",
    "    {\n",
    "        \"title\": \"Quantile-Quantile Plot\",\n",
    "        \"xaxis\": {\"title\": \"Theoritical Quantities\", \"zeroline\": False},\n",
    "        \"yaxis\": {\"title\": \"Sample Quantities\"},\n",
    "        \"showlegend\": False,\n",
    "        \"width\": 800,\n",
    "        \"height\": 700,\n",
    "    }\n",
    ")\n",
    "\n",
    "# Shows the plot\n",
    "offline.iplot(fig, filename=\"normality-QQ\")"
   ]
  },
  {
   "cell_type": "markdown",
   "id": "7d12c4ef",
   "metadata": {},
   "source": [
    "### Using Real Data Provided by Dr. Cudmore and the Lab <a class=\"anchor\" id=\"realdata\"></a>"
   ]
  },
  {
   "cell_type": "code",
   "execution_count": 74,
   "id": "ee6dcc02",
   "metadata": {},
   "outputs": [
    {
     "name": "stdout",
     "output_type": "stream",
     "text": [
      "this is what our loaded file looks like, it has 749 rows.\n",
      "              filename  sweep  peakPhase\n",
      "0  2021_12_06_0005.abf      0     0.1374\n",
      "1  2021_12_06_0005.abf      0     0.3149\n",
      "2  2021_12_06_0005.abf      0     0.1669\n",
      "3  2021_12_06_0005.abf      0     0.2657\n",
      "4  2021_12_06_0005.abf      0     0.1695\n",
      "\n",
      "and here it is grouped by ['filename', 'sweep'] ...\n",
      "                          peakPhase                                       \\\n",
      "                              count   median      mean       std     min   \n",
      "filename            sweep                                                  \n",
      "2021_12_06_0005.abf 0            16  0.18950  0.282444  0.213297  0.1374   \n",
      "                    1            16  0.12675  0.139981  0.070702  0.0211   \n",
      "                    2            16  0.22565  0.232331  0.086714  0.0955   \n",
      "                    3            10  0.13550  0.290550  0.303331  0.0447   \n",
      "2021_12_09_0011.abf 0            66  0.51760  0.499932  0.292664  0.0172   \n",
      "                    1            63  0.44430  0.468284  0.295102  0.0039   \n",
      "                    2            65  0.46330  0.472137  0.289839  0.0003   \n",
      "                    3            73  0.50620  0.461041  0.288109  0.0210   \n",
      "                    4            71  0.47350  0.482432  0.290908  0.0032   \n",
      "2021_12_09_0012.abf 0            73  0.46500  0.455781  0.291235  0.0135   \n",
      "                    1            71  0.44150  0.476035  0.284504  0.0270   \n",
      "                    2            68  0.47900  0.483735  0.291989  0.0000   \n",
      "                    3            70  0.55550  0.556300  0.278807  0.0435   \n",
      "                    4            71  0.46350  0.480563  0.294705  0.0010   \n",
      "\n",
      "                                   \n",
      "                              max  \n",
      "filename            sweep          \n",
      "2021_12_06_0005.abf 0      0.9973  \n",
      "                    1      0.2899  \n",
      "                    2      0.3815  \n",
      "                    3      0.9596  \n",
      "2021_12_09_0011.abf 0      0.9983  \n",
      "                    1      0.9724  \n",
      "                    2      0.9853  \n",
      "                    3      0.9638  \n",
      "                    4      0.9922  \n",
      "2021_12_09_0012.abf 0      0.9965  \n",
      "                    1      0.9965  \n",
      "                    2      0.9875  \n",
      "                    3      0.9915  \n",
      "                    4      0.9840  \n",
      "             Parameters\n",
      "Amplitude  2.573749e+01\n",
      "Omega      3.141185e+00\n",
      "Phase     -5.380153e-04\n",
      "Offset     2.771982e-01\n",
      "Frequency  4.999351e-01\n",
      "Period     2.000260e+00\n",
      "Max Cov.   3.134464e+12\n",
      "0.13120462874920724\n",
      "           Parameters\n",
      "Amplitude    0.059560\n",
      "Omega        3.319827\n",
      "Phase       -2.213694\n",
      "Offset       0.142346\n",
      "Frequency    0.528367\n",
      "Period       1.892624\n",
      "Max Cov.     1.182300\n",
      "0.027707552950907377\n",
      "           Parameters\n",
      "Amplitude    0.087616\n",
      "Omega        0.337575\n",
      "Phase       -1.063376\n",
      "Offset       0.218490\n",
      "Frequency    0.053727\n",
      "Period      18.612729\n",
      "Max Cov.     3.518970\n",
      "0.02402316640089994\n",
      "           Parameters\n",
      "Amplitude    0.236286\n",
      "Omega        2.838661\n",
      "Phase        0.391600\n",
      "Offset       0.277091\n",
      "Frequency    0.451787\n",
      "Period       2.213433\n",
      "Max Cov.     0.724180\n",
      "0.30495997450937773\n"
     ]
    },
    {
     "data": {
      "application/vnd.plotly.v1+json": {
       "config": {
        "plotlyServerURL": "https://plot.ly"
       },
       "data": [
        {
         "connectgaps": false,
         "line": {
          "color": "#008080"
         },
         "mode": "markers",
         "showlegend": false,
         "type": "scatter",
         "x": [
          0,
          1,
          2,
          3,
          4,
          5,
          6,
          7,
          8,
          9,
          10,
          11,
          12,
          13,
          14,
          15
         ],
         "xaxis": "x",
         "y": [
          0.1374,
          0.3149,
          0.1669,
          0.265700000000001,
          0.169499999999999,
          0.194100000000001,
          0.1614,
          0.3466,
          0.184899999999999,
          0.335999999999998,
          0.138900000000003,
          0.401700000000002,
          0.4023,
          0.1435,
          0.158000000000001,
          0.997299999999999
         ],
         "yaxis": "y"
        },
        {
         "connectgaps": false,
         "line": {
          "color": "#0000FF"
         },
         "showlegend": false,
         "type": "scatter",
         "x": [
          0,
          1,
          2,
          3,
          4,
          5,
          6,
          7,
          8,
          9,
          10,
          11,
          12,
          13,
          14,
          15
         ],
         "xaxis": "x",
         "y": [
          0.2633510432686706,
          0.3015358252275107,
          0.2423701299883519,
          0.32251672867842135,
          0.221389239852476,
          0.3434976020136482,
          0.20040838680342965,
          0.3644784312907574,
          0.17942758478387316,
          0.38545920256728733,
          0.15844684773615864,
          0.4064399019005862,
          0.13746618960268653,
          0.42742051534864445,
          0.11648562432589618,
          0.44840102896877804
         ],
         "yaxis": "y"
        },
        {
         "connectgaps": false,
         "line": {
          "color": "#008080"
         },
         "mode": "markers",
         "showlegend": false,
         "type": "scatter",
         "x": [
          0,
          1,
          2,
          3,
          4,
          5,
          6,
          7,
          8,
          9,
          10,
          11,
          12,
          13,
          14,
          15
         ],
         "xaxis": "x2",
         "y": [
          0.163699999999999,
          0.2158,
          0.0299,
          0.2188,
          0.119899999999999,
          0.289899999999999,
          0.106399999999999,
          0.142899999999999,
          0.068200000000001,
          0.187299999999999,
          0.131,
          0.021099999999997,
          0.122499999999999,
          0.195,
          0.114599999999999,
          0.1127
         ],
         "yaxis": "y2"
        },
        {
         "connectgaps": false,
         "line": {
          "color": "#0000FF"
         },
         "showlegend": false,
         "type": "scatter",
         "x": [
          0,
          1,
          2,
          3,
          4,
          5,
          6,
          7,
          8,
          9,
          10,
          11,
          12,
          13,
          14,
          15
         ],
         "xaxis": "x2",
         "y": [
          0.09467644405423657,
          0.19559158150978811,
          0.08521248418624999,
          0.20155833987195518,
          0.08293197540906788,
          0.20008034445324335,
          0.08812164688384236,
          0.1913434241313286,
          0.10012899941236561,
          0.17644607493482592,
          0.11744434438803826,
          0.15726134575582545,
          0.13789061746907316,
          0.1362013392617087,
          0.15889710163483517,
          0.11591393738844319
         ],
         "yaxis": "y2"
        },
        {
         "connectgaps": false,
         "line": {
          "color": "#008080"
         },
         "mode": "markers",
         "showlegend": false,
         "type": "scatter",
         "x": [
          0,
          1,
          2,
          3,
          4,
          5,
          6,
          7,
          8,
          9,
          10,
          11,
          12,
          13,
          14,
          15
         ],
         "xaxis": "x3",
         "y": [
          0.148800000000001,
          0.1853,
          0.0955,
          0.365600000000001,
          0.188000000000001,
          0.2059,
          0.3017,
          0.3141,
          0.288500000000001,
          0.381499999999999,
          0.2087,
          0.293400000000002,
          0.245799999999999,
          0.138999999999999,
          0.242599999999999,
          0.1129
         ],
         "yaxis": "y3"
        },
        {
         "connectgaps": false,
         "line": {
          "color": "#0000FF"
         },
         "showlegend": false,
         "type": "scatter",
         "x": [
          0,
          1,
          2,
          3,
          4,
          5,
          6,
          7,
          8,
          9,
          10,
          11,
          12,
          13,
          14,
          15
         ],
         "xaxis": "x3",
         "y": [
          0.1419136520527047,
          0.1603362853923158,
          0.18532323495779568,
          0.21405400965249527,
          0.24328552075868723,
          0.2697181571493489,
          0.2903682406685911,
          0.30290481945058295,
          0.3059127824292702,
          0.2990525950496964,
          0.283098625442502,
          0.25985173485789215,
          0.23193599902575318,
          0.20250250624378296,
          0.17487366704141744,
          0.15216818523549525
         ],
         "yaxis": "y3"
        },
        {
         "connectgaps": false,
         "line": {
          "color": "#008080"
         },
         "mode": "markers",
         "showlegend": false,
         "type": "scatter",
         "x": [
          0,
          1,
          2,
          3,
          4,
          5,
          6,
          7,
          8,
          9
         ],
         "xaxis": "x4",
         "y": [
          0.0872,
          0.1252,
          0.1411,
          0.044700000000001,
          0.332000000000001,
          0.9596,
          0.129899999999999,
          0.6806,
          0.072500000000002,
          0.332699999999999
         ],
         "yaxis": "y4"
        },
        {
         "line": {
          "color": "#0000FF"
         },
         "showlegend": false,
         "type": "scatter",
         "x": [
          0,
          1,
          2,
          3,
          4,
          5,
          6,
          7,
          8,
          9
         ],
         "xaxis": "x4",
         "y": [
          0.3672735665308937,
          0.2561669525111315,
          0.22684975502907714,
          0.3939209106718084,
          0.10431060324182137,
          0.49008588234195993,
          0.043277346274789824,
          0.5104292587841275,
          0.06547647735559645,
          0.44770924671278645
         ],
         "yaxis": "y4"
        }
       ],
       "layout": {
        "annotations": [
         {
          "font": {
           "size": 16
          },
          "showarrow": false,
          "text": "Phase",
          "x": 0.5,
          "xanchor": "center",
          "xref": "paper",
          "y": 0,
          "yanchor": "top",
          "yref": "paper",
          "yshift": -30
         },
         {
          "font": {
           "size": 16
          },
          "showarrow": false,
          "text": "Count",
          "textangle": -90,
          "x": 0,
          "xanchor": "right",
          "xref": "paper",
          "xshift": -40,
          "y": 0.5,
          "yanchor": "middle",
          "yref": "paper"
         }
        ],
        "template": {
         "data": {
          "bar": [
           {
            "error_x": {
             "color": "#2a3f5f"
            },
            "error_y": {
             "color": "#2a3f5f"
            },
            "marker": {
             "line": {
              "color": "#E5ECF6",
              "width": 0.5
             },
             "pattern": {
              "fillmode": "overlay",
              "size": 10,
              "solidity": 0.2
             }
            },
            "type": "bar"
           }
          ],
          "barpolar": [
           {
            "marker": {
             "line": {
              "color": "#E5ECF6",
              "width": 0.5
             },
             "pattern": {
              "fillmode": "overlay",
              "size": 10,
              "solidity": 0.2
             }
            },
            "type": "barpolar"
           }
          ],
          "carpet": [
           {
            "aaxis": {
             "endlinecolor": "#2a3f5f",
             "gridcolor": "white",
             "linecolor": "white",
             "minorgridcolor": "white",
             "startlinecolor": "#2a3f5f"
            },
            "baxis": {
             "endlinecolor": "#2a3f5f",
             "gridcolor": "white",
             "linecolor": "white",
             "minorgridcolor": "white",
             "startlinecolor": "#2a3f5f"
            },
            "type": "carpet"
           }
          ],
          "choropleth": [
           {
            "colorbar": {
             "outlinewidth": 0,
             "ticks": ""
            },
            "type": "choropleth"
           }
          ],
          "contour": [
           {
            "colorbar": {
             "outlinewidth": 0,
             "ticks": ""
            },
            "colorscale": [
             [
              0,
              "#0d0887"
             ],
             [
              0.1111111111111111,
              "#46039f"
             ],
             [
              0.2222222222222222,
              "#7201a8"
             ],
             [
              0.3333333333333333,
              "#9c179e"
             ],
             [
              0.4444444444444444,
              "#bd3786"
             ],
             [
              0.5555555555555556,
              "#d8576b"
             ],
             [
              0.6666666666666666,
              "#ed7953"
             ],
             [
              0.7777777777777778,
              "#fb9f3a"
             ],
             [
              0.8888888888888888,
              "#fdca26"
             ],
             [
              1,
              "#f0f921"
             ]
            ],
            "type": "contour"
           }
          ],
          "contourcarpet": [
           {
            "colorbar": {
             "outlinewidth": 0,
             "ticks": ""
            },
            "type": "contourcarpet"
           }
          ],
          "heatmap": [
           {
            "colorbar": {
             "outlinewidth": 0,
             "ticks": ""
            },
            "colorscale": [
             [
              0,
              "#0d0887"
             ],
             [
              0.1111111111111111,
              "#46039f"
             ],
             [
              0.2222222222222222,
              "#7201a8"
             ],
             [
              0.3333333333333333,
              "#9c179e"
             ],
             [
              0.4444444444444444,
              "#bd3786"
             ],
             [
              0.5555555555555556,
              "#d8576b"
             ],
             [
              0.6666666666666666,
              "#ed7953"
             ],
             [
              0.7777777777777778,
              "#fb9f3a"
             ],
             [
              0.8888888888888888,
              "#fdca26"
             ],
             [
              1,
              "#f0f921"
             ]
            ],
            "type": "heatmap"
           }
          ],
          "heatmapgl": [
           {
            "colorbar": {
             "outlinewidth": 0,
             "ticks": ""
            },
            "colorscale": [
             [
              0,
              "#0d0887"
             ],
             [
              0.1111111111111111,
              "#46039f"
             ],
             [
              0.2222222222222222,
              "#7201a8"
             ],
             [
              0.3333333333333333,
              "#9c179e"
             ],
             [
              0.4444444444444444,
              "#bd3786"
             ],
             [
              0.5555555555555556,
              "#d8576b"
             ],
             [
              0.6666666666666666,
              "#ed7953"
             ],
             [
              0.7777777777777778,
              "#fb9f3a"
             ],
             [
              0.8888888888888888,
              "#fdca26"
             ],
             [
              1,
              "#f0f921"
             ]
            ],
            "type": "heatmapgl"
           }
          ],
          "histogram": [
           {
            "marker": {
             "pattern": {
              "fillmode": "overlay",
              "size": 10,
              "solidity": 0.2
             }
            },
            "type": "histogram"
           }
          ],
          "histogram2d": [
           {
            "colorbar": {
             "outlinewidth": 0,
             "ticks": ""
            },
            "colorscale": [
             [
              0,
              "#0d0887"
             ],
             [
              0.1111111111111111,
              "#46039f"
             ],
             [
              0.2222222222222222,
              "#7201a8"
             ],
             [
              0.3333333333333333,
              "#9c179e"
             ],
             [
              0.4444444444444444,
              "#bd3786"
             ],
             [
              0.5555555555555556,
              "#d8576b"
             ],
             [
              0.6666666666666666,
              "#ed7953"
             ],
             [
              0.7777777777777778,
              "#fb9f3a"
             ],
             [
              0.8888888888888888,
              "#fdca26"
             ],
             [
              1,
              "#f0f921"
             ]
            ],
            "type": "histogram2d"
           }
          ],
          "histogram2dcontour": [
           {
            "colorbar": {
             "outlinewidth": 0,
             "ticks": ""
            },
            "colorscale": [
             [
              0,
              "#0d0887"
             ],
             [
              0.1111111111111111,
              "#46039f"
             ],
             [
              0.2222222222222222,
              "#7201a8"
             ],
             [
              0.3333333333333333,
              "#9c179e"
             ],
             [
              0.4444444444444444,
              "#bd3786"
             ],
             [
              0.5555555555555556,
              "#d8576b"
             ],
             [
              0.6666666666666666,
              "#ed7953"
             ],
             [
              0.7777777777777778,
              "#fb9f3a"
             ],
             [
              0.8888888888888888,
              "#fdca26"
             ],
             [
              1,
              "#f0f921"
             ]
            ],
            "type": "histogram2dcontour"
           }
          ],
          "mesh3d": [
           {
            "colorbar": {
             "outlinewidth": 0,
             "ticks": ""
            },
            "type": "mesh3d"
           }
          ],
          "parcoords": [
           {
            "line": {
             "colorbar": {
              "outlinewidth": 0,
              "ticks": ""
             }
            },
            "type": "parcoords"
           }
          ],
          "pie": [
           {
            "automargin": true,
            "type": "pie"
           }
          ],
          "scatter": [
           {
            "marker": {
             "colorbar": {
              "outlinewidth": 0,
              "ticks": ""
             }
            },
            "type": "scatter"
           }
          ],
          "scatter3d": [
           {
            "line": {
             "colorbar": {
              "outlinewidth": 0,
              "ticks": ""
             }
            },
            "marker": {
             "colorbar": {
              "outlinewidth": 0,
              "ticks": ""
             }
            },
            "type": "scatter3d"
           }
          ],
          "scattercarpet": [
           {
            "marker": {
             "colorbar": {
              "outlinewidth": 0,
              "ticks": ""
             }
            },
            "type": "scattercarpet"
           }
          ],
          "scattergeo": [
           {
            "marker": {
             "colorbar": {
              "outlinewidth": 0,
              "ticks": ""
             }
            },
            "type": "scattergeo"
           }
          ],
          "scattergl": [
           {
            "marker": {
             "colorbar": {
              "outlinewidth": 0,
              "ticks": ""
             }
            },
            "type": "scattergl"
           }
          ],
          "scattermapbox": [
           {
            "marker": {
             "colorbar": {
              "outlinewidth": 0,
              "ticks": ""
             }
            },
            "type": "scattermapbox"
           }
          ],
          "scatterpolar": [
           {
            "marker": {
             "colorbar": {
              "outlinewidth": 0,
              "ticks": ""
             }
            },
            "type": "scatterpolar"
           }
          ],
          "scatterpolargl": [
           {
            "marker": {
             "colorbar": {
              "outlinewidth": 0,
              "ticks": ""
             }
            },
            "type": "scatterpolargl"
           }
          ],
          "scatterternary": [
           {
            "marker": {
             "colorbar": {
              "outlinewidth": 0,
              "ticks": ""
             }
            },
            "type": "scatterternary"
           }
          ],
          "surface": [
           {
            "colorbar": {
             "outlinewidth": 0,
             "ticks": ""
            },
            "colorscale": [
             [
              0,
              "#0d0887"
             ],
             [
              0.1111111111111111,
              "#46039f"
             ],
             [
              0.2222222222222222,
              "#7201a8"
             ],
             [
              0.3333333333333333,
              "#9c179e"
             ],
             [
              0.4444444444444444,
              "#bd3786"
             ],
             [
              0.5555555555555556,
              "#d8576b"
             ],
             [
              0.6666666666666666,
              "#ed7953"
             ],
             [
              0.7777777777777778,
              "#fb9f3a"
             ],
             [
              0.8888888888888888,
              "#fdca26"
             ],
             [
              1,
              "#f0f921"
             ]
            ],
            "type": "surface"
           }
          ],
          "table": [
           {
            "cells": {
             "fill": {
              "color": "#EBF0F8"
             },
             "line": {
              "color": "white"
             }
            },
            "header": {
             "fill": {
              "color": "#C8D4E3"
             },
             "line": {
              "color": "white"
             }
            },
            "type": "table"
           }
          ]
         },
         "layout": {
          "annotationdefaults": {
           "arrowcolor": "#2a3f5f",
           "arrowhead": 0,
           "arrowwidth": 1
          },
          "autotypenumbers": "strict",
          "coloraxis": {
           "colorbar": {
            "outlinewidth": 0,
            "ticks": ""
           }
          },
          "colorscale": {
           "diverging": [
            [
             0,
             "#8e0152"
            ],
            [
             0.1,
             "#c51b7d"
            ],
            [
             0.2,
             "#de77ae"
            ],
            [
             0.3,
             "#f1b6da"
            ],
            [
             0.4,
             "#fde0ef"
            ],
            [
             0.5,
             "#f7f7f7"
            ],
            [
             0.6,
             "#e6f5d0"
            ],
            [
             0.7,
             "#b8e186"
            ],
            [
             0.8,
             "#7fbc41"
            ],
            [
             0.9,
             "#4d9221"
            ],
            [
             1,
             "#276419"
            ]
           ],
           "sequential": [
            [
             0,
             "#0d0887"
            ],
            [
             0.1111111111111111,
             "#46039f"
            ],
            [
             0.2222222222222222,
             "#7201a8"
            ],
            [
             0.3333333333333333,
             "#9c179e"
            ],
            [
             0.4444444444444444,
             "#bd3786"
            ],
            [
             0.5555555555555556,
             "#d8576b"
            ],
            [
             0.6666666666666666,
             "#ed7953"
            ],
            [
             0.7777777777777778,
             "#fb9f3a"
            ],
            [
             0.8888888888888888,
             "#fdca26"
            ],
            [
             1,
             "#f0f921"
            ]
           ],
           "sequentialminus": [
            [
             0,
             "#0d0887"
            ],
            [
             0.1111111111111111,
             "#46039f"
            ],
            [
             0.2222222222222222,
             "#7201a8"
            ],
            [
             0.3333333333333333,
             "#9c179e"
            ],
            [
             0.4444444444444444,
             "#bd3786"
            ],
            [
             0.5555555555555556,
             "#d8576b"
            ],
            [
             0.6666666666666666,
             "#ed7953"
            ],
            [
             0.7777777777777778,
             "#fb9f3a"
            ],
            [
             0.8888888888888888,
             "#fdca26"
            ],
            [
             1,
             "#f0f921"
            ]
           ]
          },
          "colorway": [
           "#636efa",
           "#EF553B",
           "#00cc96",
           "#ab63fa",
           "#FFA15A",
           "#19d3f3",
           "#FF6692",
           "#B6E880",
           "#FF97FF",
           "#FECB52"
          ],
          "font": {
           "color": "#2a3f5f"
          },
          "geo": {
           "bgcolor": "white",
           "lakecolor": "white",
           "landcolor": "#E5ECF6",
           "showlakes": true,
           "showland": true,
           "subunitcolor": "white"
          },
          "hoverlabel": {
           "align": "left"
          },
          "hovermode": "closest",
          "mapbox": {
           "style": "light"
          },
          "paper_bgcolor": "white",
          "plot_bgcolor": "#E5ECF6",
          "polar": {
           "angularaxis": {
            "gridcolor": "white",
            "linecolor": "white",
            "ticks": ""
           },
           "bgcolor": "#E5ECF6",
           "radialaxis": {
            "gridcolor": "white",
            "linecolor": "white",
            "ticks": ""
           }
          },
          "scene": {
           "xaxis": {
            "backgroundcolor": "#E5ECF6",
            "gridcolor": "white",
            "gridwidth": 2,
            "linecolor": "white",
            "showbackground": true,
            "ticks": "",
            "zerolinecolor": "white"
           },
           "yaxis": {
            "backgroundcolor": "#E5ECF6",
            "gridcolor": "white",
            "gridwidth": 2,
            "linecolor": "white",
            "showbackground": true,
            "ticks": "",
            "zerolinecolor": "white"
           },
           "zaxis": {
            "backgroundcolor": "#E5ECF6",
            "gridcolor": "white",
            "gridwidth": 2,
            "linecolor": "white",
            "showbackground": true,
            "ticks": "",
            "zerolinecolor": "white"
           }
          },
          "shapedefaults": {
           "line": {
            "color": "#2a3f5f"
           }
          },
          "ternary": {
           "aaxis": {
            "gridcolor": "white",
            "linecolor": "white",
            "ticks": ""
           },
           "baxis": {
            "gridcolor": "white",
            "linecolor": "white",
            "ticks": ""
           },
           "bgcolor": "#E5ECF6",
           "caxis": {
            "gridcolor": "white",
            "linecolor": "white",
            "ticks": ""
           }
          },
          "title": {
           "x": 0.05
          },
          "xaxis": {
           "automargin": true,
           "gridcolor": "white",
           "linecolor": "white",
           "ticks": "",
           "title": {
            "standoff": 15
           },
           "zerolinecolor": "white",
           "zerolinewidth": 2
          },
          "yaxis": {
           "automargin": true,
           "gridcolor": "white",
           "linecolor": "white",
           "ticks": "",
           "title": {
            "standoff": 15
           },
           "zerolinecolor": "white",
           "zerolinewidth": 2
          }
         }
        },
        "title": {
         "text": "2021_12_06_0005.abf"
        },
        "xaxis": {
         "anchor": "y",
         "domain": [
          0,
          1
         ]
        },
        "xaxis2": {
         "anchor": "y2",
         "domain": [
          0,
          1
         ]
        },
        "xaxis3": {
         "anchor": "y3",
         "domain": [
          0,
          1
         ]
        },
        "xaxis4": {
         "anchor": "y4",
         "domain": [
          0,
          1
         ]
        },
        "xaxis5": {
         "anchor": "y5",
         "domain": [
          0,
          1
         ]
        },
        "yaxis": {
         "anchor": "x",
         "domain": [
          0.848,
          1
         ]
        },
        "yaxis2": {
         "anchor": "x2",
         "domain": [
          0.6359999999999999,
          0.7879999999999999
         ]
        },
        "yaxis3": {
         "anchor": "x3",
         "domain": [
          0.424,
          0.576
         ]
        },
        "yaxis4": {
         "anchor": "x4",
         "domain": [
          0.212,
          0.364
         ]
        },
        "yaxis5": {
         "anchor": "x5",
         "domain": [
          0,
          0.152
         ]
        }
       }
      },
      "text/html": [
       "<div>                            <div id=\"776eba69-ae3d-4fd2-a011-49c392684da6\" class=\"plotly-graph-div\" style=\"height:525px; width:100%;\"></div>            <script type=\"text/javascript\">                require([\"plotly\"], function(Plotly) {                    window.PLOTLYENV=window.PLOTLYENV || {};                                    if (document.getElementById(\"776eba69-ae3d-4fd2-a011-49c392684da6\")) {                    Plotly.newPlot(                        \"776eba69-ae3d-4fd2-a011-49c392684da6\",                        [{\"line\":{\"color\":\"#008080\"},\"mode\":\"markers\",\"showlegend\":false,\"x\":[0,1,2,3,4,5,6,7,8,9,10,11,12,13,14,15],\"y\":[0.1374,0.3149,0.1669,0.265700000000001,0.169499999999999,0.194100000000001,0.1614,0.3466,0.184899999999999,0.335999999999998,0.138900000000003,0.401700000000002,0.4023,0.1435,0.158000000000001,0.997299999999999],\"type\":\"scatter\",\"xaxis\":\"x\",\"yaxis\":\"y\",\"connectgaps\":false},{\"line\":{\"color\":\"#0000FF\"},\"showlegend\":false,\"x\":[0,1,2,3,4,5,6,7,8,9,10,11,12,13,14,15],\"y\":[0.2633510432686706,0.3015358252275107,0.2423701299883519,0.32251672867842135,0.221389239852476,0.3434976020136482,0.20040838680342965,0.3644784312907574,0.17942758478387316,0.38545920256728733,0.15844684773615864,0.4064399019005862,0.13746618960268653,0.42742051534864445,0.11648562432589618,0.44840102896877804],\"type\":\"scatter\",\"xaxis\":\"x\",\"yaxis\":\"y\",\"connectgaps\":false},{\"line\":{\"color\":\"#008080\"},\"mode\":\"markers\",\"showlegend\":false,\"x\":[0,1,2,3,4,5,6,7,8,9,10,11,12,13,14,15],\"y\":[0.163699999999999,0.2158,0.0299,0.2188,0.119899999999999,0.289899999999999,0.106399999999999,0.142899999999999,0.068200000000001,0.187299999999999,0.131,0.021099999999997,0.122499999999999,0.195,0.114599999999999,0.1127],\"type\":\"scatter\",\"xaxis\":\"x2\",\"yaxis\":\"y2\",\"connectgaps\":false},{\"line\":{\"color\":\"#0000FF\"},\"showlegend\":false,\"x\":[0,1,2,3,4,5,6,7,8,9,10,11,12,13,14,15],\"y\":[0.09467644405423657,0.19559158150978811,0.08521248418624999,0.20155833987195518,0.08293197540906788,0.20008034445324335,0.08812164688384236,0.1913434241313286,0.10012899941236561,0.17644607493482592,0.11744434438803826,0.15726134575582545,0.13789061746907316,0.1362013392617087,0.15889710163483517,0.11591393738844319],\"type\":\"scatter\",\"xaxis\":\"x2\",\"yaxis\":\"y2\",\"connectgaps\":false},{\"line\":{\"color\":\"#008080\"},\"mode\":\"markers\",\"showlegend\":false,\"x\":[0,1,2,3,4,5,6,7,8,9,10,11,12,13,14,15],\"y\":[0.148800000000001,0.1853,0.0955,0.365600000000001,0.188000000000001,0.2059,0.3017,0.3141,0.288500000000001,0.381499999999999,0.2087,0.293400000000002,0.245799999999999,0.138999999999999,0.242599999999999,0.1129],\"type\":\"scatter\",\"xaxis\":\"x3\",\"yaxis\":\"y3\",\"connectgaps\":false},{\"line\":{\"color\":\"#0000FF\"},\"showlegend\":false,\"x\":[0,1,2,3,4,5,6,7,8,9,10,11,12,13,14,15],\"y\":[0.1419136520527047,0.1603362853923158,0.18532323495779568,0.21405400965249527,0.24328552075868723,0.2697181571493489,0.2903682406685911,0.30290481945058295,0.3059127824292702,0.2990525950496964,0.283098625442502,0.25985173485789215,0.23193599902575318,0.20250250624378296,0.17487366704141744,0.15216818523549525],\"type\":\"scatter\",\"xaxis\":\"x3\",\"yaxis\":\"y3\",\"connectgaps\":false},{\"line\":{\"color\":\"#008080\"},\"mode\":\"markers\",\"showlegend\":false,\"x\":[0,1,2,3,4,5,6,7,8,9],\"y\":[0.0872,0.1252,0.1411,0.044700000000001,0.332000000000001,0.9596,0.129899999999999,0.6806,0.072500000000002,0.332699999999999],\"type\":\"scatter\",\"xaxis\":\"x4\",\"yaxis\":\"y4\",\"connectgaps\":false},{\"line\":{\"color\":\"#0000FF\"},\"showlegend\":false,\"x\":[0,1,2,3,4,5,6,7,8,9],\"y\":[0.3672735665308937,0.2561669525111315,0.22684975502907714,0.3939209106718084,0.10431060324182137,0.49008588234195993,0.043277346274789824,0.5104292587841275,0.06547647735559645,0.44770924671278645],\"type\":\"scatter\",\"xaxis\":\"x4\",\"yaxis\":\"y4\"}],                        {\"template\":{\"data\":{\"bar\":[{\"error_x\":{\"color\":\"#2a3f5f\"},\"error_y\":{\"color\":\"#2a3f5f\"},\"marker\":{\"line\":{\"color\":\"#E5ECF6\",\"width\":0.5},\"pattern\":{\"fillmode\":\"overlay\",\"size\":10,\"solidity\":0.2}},\"type\":\"bar\"}],\"barpolar\":[{\"marker\":{\"line\":{\"color\":\"#E5ECF6\",\"width\":0.5},\"pattern\":{\"fillmode\":\"overlay\",\"size\":10,\"solidity\":0.2}},\"type\":\"barpolar\"}],\"carpet\":[{\"aaxis\":{\"endlinecolor\":\"#2a3f5f\",\"gridcolor\":\"white\",\"linecolor\":\"white\",\"minorgridcolor\":\"white\",\"startlinecolor\":\"#2a3f5f\"},\"baxis\":{\"endlinecolor\":\"#2a3f5f\",\"gridcolor\":\"white\",\"linecolor\":\"white\",\"minorgridcolor\":\"white\",\"startlinecolor\":\"#2a3f5f\"},\"type\":\"carpet\"}],\"choropleth\":[{\"colorbar\":{\"outlinewidth\":0,\"ticks\":\"\"},\"type\":\"choropleth\"}],\"contour\":[{\"colorbar\":{\"outlinewidth\":0,\"ticks\":\"\"},\"colorscale\":[[0.0,\"#0d0887\"],[0.1111111111111111,\"#46039f\"],[0.2222222222222222,\"#7201a8\"],[0.3333333333333333,\"#9c179e\"],[0.4444444444444444,\"#bd3786\"],[0.5555555555555556,\"#d8576b\"],[0.6666666666666666,\"#ed7953\"],[0.7777777777777778,\"#fb9f3a\"],[0.8888888888888888,\"#fdca26\"],[1.0,\"#f0f921\"]],\"type\":\"contour\"}],\"contourcarpet\":[{\"colorbar\":{\"outlinewidth\":0,\"ticks\":\"\"},\"type\":\"contourcarpet\"}],\"heatmap\":[{\"colorbar\":{\"outlinewidth\":0,\"ticks\":\"\"},\"colorscale\":[[0.0,\"#0d0887\"],[0.1111111111111111,\"#46039f\"],[0.2222222222222222,\"#7201a8\"],[0.3333333333333333,\"#9c179e\"],[0.4444444444444444,\"#bd3786\"],[0.5555555555555556,\"#d8576b\"],[0.6666666666666666,\"#ed7953\"],[0.7777777777777778,\"#fb9f3a\"],[0.8888888888888888,\"#fdca26\"],[1.0,\"#f0f921\"]],\"type\":\"heatmap\"}],\"heatmapgl\":[{\"colorbar\":{\"outlinewidth\":0,\"ticks\":\"\"},\"colorscale\":[[0.0,\"#0d0887\"],[0.1111111111111111,\"#46039f\"],[0.2222222222222222,\"#7201a8\"],[0.3333333333333333,\"#9c179e\"],[0.4444444444444444,\"#bd3786\"],[0.5555555555555556,\"#d8576b\"],[0.6666666666666666,\"#ed7953\"],[0.7777777777777778,\"#fb9f3a\"],[0.8888888888888888,\"#fdca26\"],[1.0,\"#f0f921\"]],\"type\":\"heatmapgl\"}],\"histogram\":[{\"marker\":{\"pattern\":{\"fillmode\":\"overlay\",\"size\":10,\"solidity\":0.2}},\"type\":\"histogram\"}],\"histogram2d\":[{\"colorbar\":{\"outlinewidth\":0,\"ticks\":\"\"},\"colorscale\":[[0.0,\"#0d0887\"],[0.1111111111111111,\"#46039f\"],[0.2222222222222222,\"#7201a8\"],[0.3333333333333333,\"#9c179e\"],[0.4444444444444444,\"#bd3786\"],[0.5555555555555556,\"#d8576b\"],[0.6666666666666666,\"#ed7953\"],[0.7777777777777778,\"#fb9f3a\"],[0.8888888888888888,\"#fdca26\"],[1.0,\"#f0f921\"]],\"type\":\"histogram2d\"}],\"histogram2dcontour\":[{\"colorbar\":{\"outlinewidth\":0,\"ticks\":\"\"},\"colorscale\":[[0.0,\"#0d0887\"],[0.1111111111111111,\"#46039f\"],[0.2222222222222222,\"#7201a8\"],[0.3333333333333333,\"#9c179e\"],[0.4444444444444444,\"#bd3786\"],[0.5555555555555556,\"#d8576b\"],[0.6666666666666666,\"#ed7953\"],[0.7777777777777778,\"#fb9f3a\"],[0.8888888888888888,\"#fdca26\"],[1.0,\"#f0f921\"]],\"type\":\"histogram2dcontour\"}],\"mesh3d\":[{\"colorbar\":{\"outlinewidth\":0,\"ticks\":\"\"},\"type\":\"mesh3d\"}],\"parcoords\":[{\"line\":{\"colorbar\":{\"outlinewidth\":0,\"ticks\":\"\"}},\"type\":\"parcoords\"}],\"pie\":[{\"automargin\":true,\"type\":\"pie\"}],\"scatter\":[{\"marker\":{\"colorbar\":{\"outlinewidth\":0,\"ticks\":\"\"}},\"type\":\"scatter\"}],\"scatter3d\":[{\"line\":{\"colorbar\":{\"outlinewidth\":0,\"ticks\":\"\"}},\"marker\":{\"colorbar\":{\"outlinewidth\":0,\"ticks\":\"\"}},\"type\":\"scatter3d\"}],\"scattercarpet\":[{\"marker\":{\"colorbar\":{\"outlinewidth\":0,\"ticks\":\"\"}},\"type\":\"scattercarpet\"}],\"scattergeo\":[{\"marker\":{\"colorbar\":{\"outlinewidth\":0,\"ticks\":\"\"}},\"type\":\"scattergeo\"}],\"scattergl\":[{\"marker\":{\"colorbar\":{\"outlinewidth\":0,\"ticks\":\"\"}},\"type\":\"scattergl\"}],\"scattermapbox\":[{\"marker\":{\"colorbar\":{\"outlinewidth\":0,\"ticks\":\"\"}},\"type\":\"scattermapbox\"}],\"scatterpolar\":[{\"marker\":{\"colorbar\":{\"outlinewidth\":0,\"ticks\":\"\"}},\"type\":\"scatterpolar\"}],\"scatterpolargl\":[{\"marker\":{\"colorbar\":{\"outlinewidth\":0,\"ticks\":\"\"}},\"type\":\"scatterpolargl\"}],\"scatterternary\":[{\"marker\":{\"colorbar\":{\"outlinewidth\":0,\"ticks\":\"\"}},\"type\":\"scatterternary\"}],\"surface\":[{\"colorbar\":{\"outlinewidth\":0,\"ticks\":\"\"},\"colorscale\":[[0.0,\"#0d0887\"],[0.1111111111111111,\"#46039f\"],[0.2222222222222222,\"#7201a8\"],[0.3333333333333333,\"#9c179e\"],[0.4444444444444444,\"#bd3786\"],[0.5555555555555556,\"#d8576b\"],[0.6666666666666666,\"#ed7953\"],[0.7777777777777778,\"#fb9f3a\"],[0.8888888888888888,\"#fdca26\"],[1.0,\"#f0f921\"]],\"type\":\"surface\"}],\"table\":[{\"cells\":{\"fill\":{\"color\":\"#EBF0F8\"},\"line\":{\"color\":\"white\"}},\"header\":{\"fill\":{\"color\":\"#C8D4E3\"},\"line\":{\"color\":\"white\"}},\"type\":\"table\"}]},\"layout\":{\"annotationdefaults\":{\"arrowcolor\":\"#2a3f5f\",\"arrowhead\":0,\"arrowwidth\":1},\"autotypenumbers\":\"strict\",\"coloraxis\":{\"colorbar\":{\"outlinewidth\":0,\"ticks\":\"\"}},\"colorscale\":{\"diverging\":[[0,\"#8e0152\"],[0.1,\"#c51b7d\"],[0.2,\"#de77ae\"],[0.3,\"#f1b6da\"],[0.4,\"#fde0ef\"],[0.5,\"#f7f7f7\"],[0.6,\"#e6f5d0\"],[0.7,\"#b8e186\"],[0.8,\"#7fbc41\"],[0.9,\"#4d9221\"],[1,\"#276419\"]],\"sequential\":[[0.0,\"#0d0887\"],[0.1111111111111111,\"#46039f\"],[0.2222222222222222,\"#7201a8\"],[0.3333333333333333,\"#9c179e\"],[0.4444444444444444,\"#bd3786\"],[0.5555555555555556,\"#d8576b\"],[0.6666666666666666,\"#ed7953\"],[0.7777777777777778,\"#fb9f3a\"],[0.8888888888888888,\"#fdca26\"],[1.0,\"#f0f921\"]],\"sequentialminus\":[[0.0,\"#0d0887\"],[0.1111111111111111,\"#46039f\"],[0.2222222222222222,\"#7201a8\"],[0.3333333333333333,\"#9c179e\"],[0.4444444444444444,\"#bd3786\"],[0.5555555555555556,\"#d8576b\"],[0.6666666666666666,\"#ed7953\"],[0.7777777777777778,\"#fb9f3a\"],[0.8888888888888888,\"#fdca26\"],[1.0,\"#f0f921\"]]},\"colorway\":[\"#636efa\",\"#EF553B\",\"#00cc96\",\"#ab63fa\",\"#FFA15A\",\"#19d3f3\",\"#FF6692\",\"#B6E880\",\"#FF97FF\",\"#FECB52\"],\"font\":{\"color\":\"#2a3f5f\"},\"geo\":{\"bgcolor\":\"white\",\"lakecolor\":\"white\",\"landcolor\":\"#E5ECF6\",\"showlakes\":true,\"showland\":true,\"subunitcolor\":\"white\"},\"hoverlabel\":{\"align\":\"left\"},\"hovermode\":\"closest\",\"mapbox\":{\"style\":\"light\"},\"paper_bgcolor\":\"white\",\"plot_bgcolor\":\"#E5ECF6\",\"polar\":{\"angularaxis\":{\"gridcolor\":\"white\",\"linecolor\":\"white\",\"ticks\":\"\"},\"bgcolor\":\"#E5ECF6\",\"radialaxis\":{\"gridcolor\":\"white\",\"linecolor\":\"white\",\"ticks\":\"\"}},\"scene\":{\"xaxis\":{\"backgroundcolor\":\"#E5ECF6\",\"gridcolor\":\"white\",\"gridwidth\":2,\"linecolor\":\"white\",\"showbackground\":true,\"ticks\":\"\",\"zerolinecolor\":\"white\"},\"yaxis\":{\"backgroundcolor\":\"#E5ECF6\",\"gridcolor\":\"white\",\"gridwidth\":2,\"linecolor\":\"white\",\"showbackground\":true,\"ticks\":\"\",\"zerolinecolor\":\"white\"},\"zaxis\":{\"backgroundcolor\":\"#E5ECF6\",\"gridcolor\":\"white\",\"gridwidth\":2,\"linecolor\":\"white\",\"showbackground\":true,\"ticks\":\"\",\"zerolinecolor\":\"white\"}},\"shapedefaults\":{\"line\":{\"color\":\"#2a3f5f\"}},\"ternary\":{\"aaxis\":{\"gridcolor\":\"white\",\"linecolor\":\"white\",\"ticks\":\"\"},\"baxis\":{\"gridcolor\":\"white\",\"linecolor\":\"white\",\"ticks\":\"\"},\"bgcolor\":\"#E5ECF6\",\"caxis\":{\"gridcolor\":\"white\",\"linecolor\":\"white\",\"ticks\":\"\"}},\"title\":{\"x\":0.05},\"xaxis\":{\"automargin\":true,\"gridcolor\":\"white\",\"linecolor\":\"white\",\"ticks\":\"\",\"title\":{\"standoff\":15},\"zerolinecolor\":\"white\",\"zerolinewidth\":2},\"yaxis\":{\"automargin\":true,\"gridcolor\":\"white\",\"linecolor\":\"white\",\"ticks\":\"\",\"title\":{\"standoff\":15},\"zerolinecolor\":\"white\",\"zerolinewidth\":2}}},\"xaxis\":{\"anchor\":\"y\",\"domain\":[0.0,1.0]},\"yaxis\":{\"anchor\":\"x\",\"domain\":[0.848,1.0]},\"xaxis2\":{\"anchor\":\"y2\",\"domain\":[0.0,1.0]},\"yaxis2\":{\"anchor\":\"x2\",\"domain\":[0.6359999999999999,0.7879999999999999]},\"xaxis3\":{\"anchor\":\"y3\",\"domain\":[0.0,1.0]},\"yaxis3\":{\"anchor\":\"x3\",\"domain\":[0.424,0.576]},\"xaxis4\":{\"anchor\":\"y4\",\"domain\":[0.0,1.0]},\"yaxis4\":{\"anchor\":\"x4\",\"domain\":[0.212,0.364]},\"xaxis5\":{\"anchor\":\"y5\",\"domain\":[0.0,1.0]},\"yaxis5\":{\"anchor\":\"x5\",\"domain\":[0.0,0.152]},\"annotations\":[{\"font\":{\"size\":16},\"showarrow\":false,\"text\":\"Phase\",\"x\":0.5,\"xanchor\":\"center\",\"xref\":\"paper\",\"y\":0,\"yanchor\":\"top\",\"yref\":\"paper\",\"yshift\":-30},{\"font\":{\"size\":16},\"showarrow\":false,\"text\":\"Count\",\"textangle\":-90,\"x\":0,\"xanchor\":\"right\",\"xref\":\"paper\",\"xshift\":-40,\"y\":0.5,\"yanchor\":\"middle\",\"yref\":\"paper\"}],\"title\":{\"text\":\"2021_12_06_0005.abf\"}},                        {\"responsive\": true}                    ).then(function(){\n",
       "                            \n",
       "var gd = document.getElementById('776eba69-ae3d-4fd2-a011-49c392684da6');\n",
       "var x = new MutationObserver(function (mutations, observer) {{\n",
       "        var display = window.getComputedStyle(gd).display;\n",
       "        if (!display || display === 'none') {{\n",
       "            console.log([gd, 'removed!']);\n",
       "            Plotly.purge(gd);\n",
       "            observer.disconnect();\n",
       "        }}\n",
       "}});\n",
       "\n",
       "// Listen for the removal of the full notebook cells\n",
       "var notebookContainer = gd.closest('#notebook-container');\n",
       "if (notebookContainer) {{\n",
       "    x.observe(notebookContainer, {childList: true});\n",
       "}}\n",
       "\n",
       "// Listen for the clearing of the current output cell\n",
       "var outputEl = gd.closest('.output');\n",
       "if (outputEl) {{\n",
       "    x.observe(outputEl, {childList: true});\n",
       "}}\n",
       "\n",
       "                        })                };                });            </script>        </div>"
      ]
     },
     "metadata": {},
     "output_type": "display_data"
    },
    {
     "name": "stdout",
     "output_type": "stream",
     "text": [
      "           Parameters\n",
      "Amplitude   -0.268247\n",
      "Omega        1.939097\n",
      "Phase       -1.946474\n",
      "Offset       0.495495\n",
      "Frequency    0.308617\n",
      "Period       3.240263\n",
      "Max Cov.     0.086077\n",
      "0.1029218201362409\n",
      "           Parameters\n",
      "Amplitude   -0.211135\n",
      "Omega        1.880920\n",
      "Phase        1.605376\n",
      "Offset       0.467891\n",
      "Frequency    0.299358\n",
      "Period       3.340485\n",
      "Max Cov.     0.194675\n",
      "0.156275866091211\n",
      "           Parameters\n",
      "Amplitude   -0.300097\n",
      "Omega        1.950177\n",
      "Phase       -0.023157\n",
      "Offset       0.470873\n",
      "Frequency    0.310380\n",
      "Period       3.221853\n",
      "Max Cov.     0.052577\n",
      "0.09303942418276438\n",
      "           Parameters\n",
      "Amplitude   -0.275945\n",
      "Omega        1.533904\n",
      "Phase        1.093199\n",
      "Offset       0.461716\n",
      "Frequency    0.244128\n",
      "Period       4.096206\n",
      "Max Cov.     0.066274\n",
      "0.1110145431303128\n",
      "           Parameters\n",
      "Amplitude   -0.277747\n",
      "Omega        1.769660\n",
      "Phase        0.591971\n",
      "Offset       0.482446\n",
      "Frequency    0.281650\n",
      "Period       3.550504\n",
      "Max Cov.     0.067233\n",
      "0.1121169616619399\n"
     ]
    },
    {
     "data": {
      "application/vnd.plotly.v1+json": {
       "config": {
        "plotlyServerURL": "https://plot.ly"
       },
       "data": [
        {
         "connectgaps": false,
         "line": {
          "color": "#008080"
         },
         "mode": "markers",
         "showlegend": false,
         "type": "scatter",
         "x": [
          0,
          1,
          2,
          3,
          4,
          5,
          6,
          7,
          8,
          9,
          10,
          11,
          12,
          13,
          14,
          15,
          16,
          17,
          18,
          19,
          20,
          21,
          22,
          23,
          24,
          25,
          26,
          27,
          28,
          29,
          30,
          31,
          32,
          33,
          34,
          35,
          36,
          37,
          38,
          39,
          40,
          41,
          42,
          43,
          44,
          45,
          46,
          47,
          48,
          49,
          50,
          51,
          52,
          53,
          54,
          55,
          56,
          57,
          58,
          59,
          60,
          61,
          62,
          63,
          64,
          65
         ],
         "xaxis": "x",
         "y": [
          0.0172,
          0.3011,
          0.5804,
          0.8454,
          0.125,
          0.3998,
          0.6707,
          0.974600000000001,
          0.267,
          0.5587,
          0.845,
          0.1242,
          0.387600000000001,
          0.698499999999999,
          0.998299999999999,
          0.2941,
          0.5876,
          0.8629,
          0.1699,
          0.451700000000001,
          0.7567,
          0.068400000000001,
          0.363799999999999,
          0.6961,
          0.038,
          0.3508,
          0.679399999999999,
          0.9628,
          0.2523,
          0.555200000000001,
          0.924100000000001,
          0.212399999999999,
          0.5236,
          0.8634,
          0.193299999999999,
          0.5116,
          0.8201,
          0.145299999999999,
          0.446099999999998,
          0.7636,
          0.052499999999999,
          0.3447,
          0.6995,
          0.018099999999997,
          0.315099999999997,
          0.631700000000002,
          0.956499999999998,
          0.2347,
          0.546799999999998,
          0.863599999999998,
          0.156500000000001,
          0.452200000000001,
          0.739599999999999,
          0.0458,
          0.351599999999998,
          0.654599999999999,
          0.981099999999998,
          0.279400000000003,
          0.590799999999998,
          0.8826,
          0.206,
          0.5245,
          0.834700000000002,
          0.152999999999999,
          0.450099999999999,
          0.743099999999998
         ],
         "yaxis": "y"
        },
        {
         "connectgaps": false,
         "line": {
          "color": "#0000FF"
         },
         "showlegend": false,
         "type": "scatter",
         "x": [
          0,
          1,
          2,
          3,
          4,
          5,
          6,
          7,
          8,
          9,
          10,
          11,
          12,
          13,
          14,
          15,
          16,
          17,
          18,
          19,
          20,
          21,
          22,
          23,
          24,
          25,
          26,
          27,
          28,
          29,
          30,
          31,
          32,
          33,
          34,
          35,
          36,
          37,
          38,
          39,
          40,
          41,
          42,
          43,
          44,
          45,
          46,
          47,
          48,
          49,
          50,
          51,
          52,
          53,
          54,
          55,
          56,
          57,
          58,
          59,
          60,
          61,
          62,
          63,
          64,
          65
         ],
         "xaxis": "x",
         "y": [
          0.7450341619152244,
          0.49747390110533296,
          0.24453103072886556,
          0.674225686536911,
          0.6177620254975814,
          0.22872467197867735,
          0.565319110807428,
          0.7119878046184156,
          0.2697829021593804,
          0.44152888536506973,
          0.7600661363185517,
          0.35895377721763166,
          0.329242049365057,
          0.7517486765421011,
          0.47722969487094596,
          0.2523935873957164,
          0.6888083692837044,
          0.5993990420126745,
          0.2273644646564999,
          0.5846615270683149,
          0.6994202847892577,
          0.25948987170369187,
          0.4615080190181483,
          0.7559729640120318,
          0.34192197890775244,
          0.34559916204784963,
          0.7570023495465974,
          0.45708961509851903,
          0.26164200823994677,
          0.7022890182817243,
          0.5804437263040726,
          0.22753280664781617,
          0.603495626208544,
          0.6856902351793976,
          0.25054225117922585,
          0.481680904705858,
          0.7503948684147919,
          0.3257656644929684,
          0.3628107958703701,
          0.7607652309757893,
          0.43716847564124567,
          0.27222357019168186,
          0.7145907835247887,
          0.5610041381639739,
          0.2292287382745659,
          0.6217140394630407,
          0.6708759275691892,
          0.24299104886404632,
          0.5019325415562136,
          0.7433636489365778,
          0.3105769373180583,
          0.3807788313603435,
          0.7630158695285467,
          0.4175798422251206,
          0.28407795025745985,
          0.7256435355454582,
          0.5411910981076847,
          0.23244259142981927,
          0.639212907947011,
          0.6550618148385725,
          0.2368793123847695,
          0.5221474797553786,
          0.7349193889042687,
          0.2964423847407626,
          0.3994008369776705,
          0.7637414348443499
         ],
         "yaxis": "y"
        },
        {
         "connectgaps": false,
         "line": {
          "color": "#008080"
         },
         "mode": "markers",
         "showlegend": false,
         "type": "scatter",
         "x": [
          0,
          1,
          2,
          3,
          4,
          5,
          6,
          7,
          8,
          9,
          10,
          11,
          12,
          13,
          14,
          15,
          16,
          17,
          18,
          19,
          20,
          21,
          22,
          23,
          24,
          25,
          26,
          27,
          28,
          29,
          30,
          31,
          32,
          33,
          34,
          35,
          36,
          37,
          38,
          39,
          40,
          41,
          42,
          43,
          44,
          45,
          46,
          47,
          48,
          49,
          50,
          51,
          52,
          53,
          54,
          55,
          56,
          57,
          58,
          59,
          60,
          61,
          62
         ],
         "xaxis": "x2",
         "y": [
          0.008100000000001,
          0.3027,
          0.6403,
          0.9605,
          0.2863,
          0.6233,
          0.9476,
          0.277100000000001,
          0.6029,
          0.9008,
          0.2004,
          0.519600000000001,
          0.8331,
          0.1229,
          0.4443,
          0.749499999999999,
          0.0625,
          0.364700000000001,
          0.6785,
          0.0122,
          0.299100000000001,
          0.626799999999999,
          0.952999999999999,
          0.290100000000001,
          0.600200000000001,
          0.885999999999999,
          0.186999999999999,
          0.5182,
          0.8047,
          0.0961,
          0.3889,
          0.671700000000001,
          0.9724,
          0.273700000000002,
          0.568299999999999,
          0.8939,
          0.1982,
          0.517299999999999,
          0.831499999999998,
          0.114099999999997,
          0.436599999999999,
          0.732400000000002,
          0.060200000000002,
          0.350000000000001,
          0.0383,
          0.3796,
          0.714500000000001,
          0.033300000000001,
          0.3489,
          0.712700000000002,
          0.060099999999999,
          0.383500000000002,
          0.676500000000001,
          0.003900000000002,
          0.287099999999999,
          0.589299999999998,
          0.901,
          0.205299999999998,
          0.484299999999998,
          0.768799999999999,
          0.067499999999999,
          0.3535,
          0.6861
         ],
         "yaxis": "y2"
        },
        {
         "connectgaps": false,
         "line": {
          "color": "#0000FF"
         },
         "showlegend": false,
         "type": "scatter",
         "x": [
          0,
          1,
          2,
          3,
          4,
          5,
          6,
          7,
          8,
          9,
          10,
          11,
          12,
          13,
          14,
          15,
          16,
          17,
          18,
          19,
          20,
          21,
          22,
          23,
          24,
          25,
          26,
          27,
          28,
          29,
          30,
          31,
          32,
          33,
          34,
          35,
          36,
          37,
          38,
          39,
          40,
          41,
          42,
          43,
          44,
          45,
          46,
          47,
          48,
          49,
          50,
          51,
          52,
          53,
          54,
          55,
          56,
          57,
          58,
          59,
          60,
          61,
          62
         ],
         "xaxis": "x2",
         "y": [
          0.25688271588258915,
          0.5392372859751349,
          0.6353533183640137,
          0.29433404605525204,
          0.40636012651433234,
          0.6790039521131005,
          0.4005689132075388,
          0.29786873007902726,
          0.6389871269118983,
          0.533484696248491,
          0.2567600173430766,
          0.5311621672352439,
          0.6404046893056454,
          0.29932604572843513,
          0.39826187393378853,
          0.6789547446495166,
          0.40869719970777585,
          0.2929568140420573,
          0.6338568427683762,
          0.5415278962563466,
          0.2569811107761754,
          0.5229840222021698,
          0.6451751506748216,
          0.3045925256760797,
          0.390277001085306,
          0.6785618552595359,
          0.4169218737475303,
          0.2883297495140954,
          0.6284563111315233,
          0.5494511911052112,
          0.2575456361679995,
          0.5147161676250072,
          0.6496569345685682,
          0.3101249103114503,
          0.38241851000636695,
          0.6778259236981896,
          0.4252295428129585,
          0.28399507090020637,
          0.6227943258689566,
          0.5572416790271366,
          0.2584526742828337,
          0.5063720663299238,
          0.6538427431471722,
          0.31591419106625035,
          0.374699196942766,
          0.6767481483076339,
          0.43360667924662016,
          0.2799598365036224,
          0.616880106582048,
          0.5648866745081593,
          0.25970074815995536,
          0.497965305298187,
          0.6577257605174957,
          0.3219509410595688,
          0.3671316315120413,
          0.6753302840658495,
          0.4420396422750188,
          0.2762306170324651,
          0.6107232835933173,
          0.5723737289445646,
          0.2612878255186206,
          0.4895095735420242,
          0.6612996638315292
         ],
         "yaxis": "y2"
        },
        {
         "connectgaps": false,
         "line": {
          "color": "#008080"
         },
         "mode": "markers",
         "showlegend": false,
         "type": "scatter",
         "x": [
          0,
          1,
          2,
          3,
          4,
          5,
          6,
          7,
          8,
          9,
          10,
          11,
          12,
          13,
          14,
          15,
          16,
          17,
          18,
          19,
          20,
          21,
          22,
          23,
          24,
          25,
          26,
          27,
          28,
          29,
          30,
          31,
          32,
          33,
          34,
          35,
          36,
          37,
          38,
          39,
          40,
          41,
          42,
          43,
          44,
          45,
          46,
          47,
          48,
          49,
          50,
          51,
          52,
          53,
          54,
          55,
          56,
          57,
          58,
          59,
          60,
          61,
          62,
          63,
          64
         ],
         "xaxis": "x3",
         "y": [
          0.0963,
          0.3782,
          0.6641,
          0.9853,
          0.271199999999999,
          0.5564,
          0.8282,
          0.1356,
          0.408600000000001,
          0.6974,
          0.000500000000001,
          0.3081,
          0.6289,
          0.9535,
          0.254799999999999,
          0.572100000000001,
          0.892299999999999,
          0.2164,
          0.545399999999999,
          0.8568,
          0.163500000000001,
          0.4772,
          0.800799999999999,
          0.125399999999999,
          0.4534,
          0.756399999999999,
          0.0853,
          0.369200000000001,
          0.6868,
          0.000299999999999,
          0.2927,
          0.58,
          0.9095,
          0.201600000000001,
          0.523299999999999,
          0.8613,
          0.1555,
          0.4633,
          0.800699999999999,
          0.100000000000001,
          0.395799999999998,
          0.674099999999999,
          0.006700000000002,
          0.363799999999998,
          0.675999999999998,
          0.011599999999998,
          0.319900000000001,
          0.634799999999999,
          0.932400000000001,
          0.236099999999997,
          0.526299999999999,
          0.827099999999998,
          0.1234,
          0.4132,
          0.758099999999999,
          0.053699999999999,
          0.3325,
          0.635300000000001,
          0.905799999999999,
          0.203700000000001,
          0.494499999999999,
          0.8064,
          0.126999999999999,
          0.410900000000002,
          0.763500000000001
         ],
         "yaxis": "y3"
        },
        {
         "connectgaps": false,
         "line": {
          "color": "#0000FF"
         },
         "showlegend": false,
         "type": "scatter",
         "x": [
          0,
          1,
          2,
          3,
          4,
          5,
          6,
          7,
          8,
          9,
          10,
          11,
          12,
          13,
          14,
          15,
          16,
          17,
          18,
          19,
          20,
          21,
          22,
          23,
          24,
          25,
          26,
          27,
          28,
          29,
          30,
          31,
          32,
          33,
          34,
          35,
          36,
          37,
          38,
          39,
          40,
          41,
          42,
          43,
          44,
          45,
          46,
          47,
          48,
          49,
          50,
          51,
          52,
          53,
          54,
          55,
          56,
          57,
          58,
          59,
          60,
          61,
          62,
          63,
          64
         ],
         "xaxis": "x3",
         "y": [
          0.4778216908330943,
          0.18961554100423933,
          0.6722487655751493,
          0.6029727946262542,
          0.17165166328259007,
          0.5604033456396158,
          0.7037795764048708,
          0.20883039989759944,
          0.4320586055598748,
          0.7616646429815414,
          0.29430018792739215,
          0.3108668300128894,
          0.7659605211714225,
          0.41231004485017453,
          0.2191621043220079,
          0.7158755358827144,
          0.541112272015489,
          0.17384442981892329,
          0.6206397056526324,
          0.656970275761235,
          0.1832652709857715,
          0.4978037689582587,
          0.73853291629784,
          0.24568848797734932,
          0.37000480887328957,
          0.7707692481282142,
          0.34961028486232926,
          0.26079452984210627,
          0.7477385299573178,
          0.4758792112381614,
          0.19029898150017882,
          0.6736850268960881,
          0.6012255281919804,
          0.17150958661096394,
          0.5622558469961862,
          0.7025495218597134,
          0.207888988961432,
          0.4339859547810962,
          0.761178483555776,
          0.29273293265269296,
          0.31251384142910393,
          0.7663078497936693,
          0.410405770224208,
          0.22022525491498562,
          0.7169923443556381,
          0.5392219113568167,
          0.17412779460986427,
          0.6223201805403676,
          0.6554421982232271,
          0.18271662948867268,
          0.49973822035522525,
          0.737648726914838,
          0.24440894776286046,
          0.37183674227019065,
          0.7706918916300285,
          0.3478356487330397,
          0.26218634347836267,
          0.7484822621515153,
          0.47393652180526086,
          0.19099418202575758,
          0.6751127875060277,
          0.5994727981288172,
          0.17138005751147933,
          0.5641045181069809,
          0.7013097567712667
         ],
         "yaxis": "y3"
        },
        {
         "connectgaps": false,
         "line": {
          "color": "#008080"
         },
         "mode": "markers",
         "showlegend": false,
         "type": "scatter",
         "x": [
          0,
          1,
          2,
          3,
          4,
          5,
          6,
          7,
          8,
          9,
          10,
          11,
          12,
          13,
          14,
          15,
          16,
          17,
          18,
          19,
          20,
          21,
          22,
          23,
          24,
          25,
          26,
          27,
          28,
          29,
          30,
          31,
          32,
          33,
          34,
          35,
          36,
          37,
          38,
          39,
          40,
          41,
          42,
          43,
          44,
          45,
          46,
          47,
          48,
          49,
          50,
          51,
          52,
          53,
          54,
          55,
          56,
          57,
          58,
          59,
          60,
          61,
          62,
          63,
          64,
          65,
          66,
          67,
          68,
          69,
          70,
          71,
          72
         ],
         "xaxis": "x4",
         "y": [
          0.117,
          0.583399999999999,
          0.835,
          0.0853,
          0.328100000000001,
          0.5673,
          0.7895,
          0.021000000000001,
          0.247299999999999,
          0.469100000000001,
          0.6998,
          0.9177,
          0.1374,
          0.347700000000001,
          0.595000000000001,
          0.8322,
          0.0587,
          0.272399999999999,
          0.506200000000002,
          0.728899999999999,
          0.963799999999999,
          0.201700000000001,
          0.433999999999999,
          0.666499999999999,
          0.890600000000001,
          0.121499999999999,
          0.347799999999999,
          0.584200000000001,
          0.8329,
          0.091700000000001,
          0.3346,
          0.563000000000001,
          0.8073,
          0.046100000000001,
          0.288200000000002,
          0.536299999999999,
          0.7897,
          0.034500000000001,
          0.271699999999999,
          0.526299999999999,
          0.7759,
          0.026499999999999,
          0.288400000000003,
          0.5276,
          0.779700000000002,
          0.032299999999999,
          0.2742,
          0.5337,
          0.788799999999998,
          0.031099999999999,
          0.273799999999998,
          0.536200000000001,
          0.8094,
          0.062099999999997,
          0.328700000000001,
          0.575900000000001,
          0.837700000000002,
          0.092700000000001,
          0.330099999999998,
          0.577900000000003,
          0.852700000000002,
          0.0976,
          0.357700000000001,
          0.620699999999999,
          0.874099999999998,
          0.117699999999999,
          0.362299999999998,
          0.612400000000001,
          0.8812,
          0.122799999999998,
          0.345400000000001,
          0.595200000000002,
          0.862099999999998
         ],
         "yaxis": "y4"
        },
        {
         "connectgaps": false,
         "line": {
          "color": "#0000FF"
         },
         "showlegend": false,
         "type": "scatter",
         "x": [
          0,
          1,
          2,
          3,
          4,
          5,
          6,
          7,
          8,
          9,
          10,
          11,
          12,
          13,
          14,
          15,
          16,
          17,
          18,
          19,
          20,
          21,
          22,
          23,
          24,
          25,
          26,
          27,
          28,
          29,
          30,
          31,
          32,
          33,
          34,
          35,
          36,
          37,
          38,
          39,
          40,
          41,
          42,
          43,
          44,
          45,
          46,
          47,
          48,
          49,
          50,
          51,
          52,
          53,
          54,
          55,
          56,
          57,
          58,
          59,
          60,
          61,
          62,
          63,
          64,
          65,
          66,
          67,
          68,
          69,
          70,
          71,
          72
         ],
         "xaxis": "x4",
         "y": [
          0.21664900515846933,
          0.3259260413673012,
          0.6967658039467176,
          0.6148451497991932,
          0.23796220377584404,
          0.29208067783325997,
          0.6729558755034986,
          0.6469340849103096,
          0.26413929253308743,
          0.26192279357902837,
          0.6445540776209954,
          0.674996804318416,
          0.294611241869867,
          0.23610795148162753,
          0.6121777999070308,
          0.6984232892000058,
          0.32871566185831935,
          0.21519730669413664,
          0.5765308279981038,
          0.7167043017816989,
          0.3657112010329934,
          0.1996454084263647,
          0.5383880448821863,
          0.7294424549954273,
          0.4047936616625809,
          0.18979031909295568,
          0.4985785867289833,
          0.73636085075715,
          0.4451134811545785,
          0.18584626561587392,
          0.45796781938112796,
          0.737309099092832,
          0.4857941995874529,
          0.1878989826250011,
          0.41743852729578124,
          0.7322665872697691,
          0.5259515119287159,
          0.1959038487849386,
          0.37787172384573964,
          0.7213429278698748,
          0.5647124907876387,
          0.2096868567599689,
          0.34012750011980375,
          0.704775576064852,
          0.6012345618442624,
          0.22894839573237255,
          0.3050263285253939,
          0.6829246678881951,
          0.6347238194726259,
          0.2532697642508682,
          0.2733312276099412,
          0.6562651917080894,
          0.6644522844187737,
          0.2821222718349047,
          0.24573117579674816,
          0.6253766630753336,
          0.689773728391449,
          0.31487873148682144,
          0.2228261345824566,
          0.5909305273912944,
          0.7101377215753132,
          0.3508270932912655,
          0.20511400675725855,
          0.5536755642328459,
          0.7251015977061573,
          0.3891859227387711,
          0.19297981314614043,
          0.5144216106106296,
          0.7343400766149539,
          0.42912138731045874,
          0.18668732314376463,
          0.47402195697942856,
          0.7376523350688231
         ],
         "yaxis": "y4"
        },
        {
         "connectgaps": false,
         "line": {
          "color": "#008080"
         },
         "mode": "markers",
         "showlegend": false,
         "type": "scatter",
         "x": [
          0,
          1,
          2,
          3,
          4,
          5,
          6,
          7,
          8,
          9,
          10,
          11,
          12,
          13,
          14,
          15,
          16,
          17,
          18,
          19,
          20,
          21,
          22,
          23,
          24,
          25,
          26,
          27,
          28,
          29,
          30,
          31,
          32,
          33,
          34,
          35,
          36,
          37,
          38,
          39,
          40,
          41,
          42,
          43,
          44,
          45,
          46,
          47,
          48,
          49,
          50,
          51,
          52,
          53,
          54,
          55,
          56,
          57,
          58,
          59,
          60,
          61,
          62,
          63,
          64,
          65,
          66,
          67,
          68,
          69,
          70
         ],
         "xaxis": "x5",
         "y": [
          0.214300000000001,
          0.493,
          0.7992,
          0.0791,
          0.3455,
          0.6123,
          0.8933,
          0.1517,
          0.4105,
          0.6745,
          0.9313,
          0.1867,
          0.465399999999999,
          0.747999999999999,
          0.0121,
          0.2866,
          0.5581,
          0.8133,
          0.0749,
          0.3515,
          0.6302,
          0.9251,
          0.1996,
          0.4735,
          0.723700000000001,
          0.003200000000001,
          0.280700000000001,
          0.564500000000001,
          0.8279,
          0.099,
          0.3941,
          0.674,
          0.9922,
          0.2705,
          0.553900000000001,
          0.8474,
          0.1319,
          0.4268,
          0.7361,
          0.040299999999999,
          0.3004,
          0.586400000000001,
          0.884299999999999,
          0.1553,
          0.440300000000001,
          0.7271,
          0.012000000000001,
          0.295300000000001,
          0.598700000000001,
          0.893099999999997,
          0.1571,
          0.423599999999997,
          0.696200000000001,
          0.967500000000001,
          0.272099999999998,
          0.5503,
          0.853099999999998,
          0.142799999999998,
          0.469200000000001,
          0.741,
          0.012799999999999,
          0.310700000000001,
          0.628499999999999,
          0.921500000000002,
          0.235299999999999,
          0.508700000000001,
          0.762,
          0.054599999999997,
          0.312900000000003,
          0.580200000000001,
          0.863799999999998
         ],
         "yaxis": "y5"
        },
        {
         "line": {
          "color": "#0000FF"
         },
         "showlegend": false,
         "type": "scatter",
         "x": [
          0,
          1,
          2,
          3,
          4,
          5,
          6,
          7,
          8,
          9,
          10,
          11,
          12,
          13,
          14,
          15,
          16,
          17,
          18,
          19,
          20,
          21,
          22,
          23,
          24,
          25,
          26,
          27,
          28,
          29,
          30,
          31,
          32,
          33,
          34,
          35,
          36,
          37,
          38,
          39,
          40,
          41,
          42,
          43,
          44,
          45,
          46,
          47,
          48,
          49,
          50,
          51,
          52,
          53,
          54,
          55,
          56,
          57,
          58,
          59,
          60,
          61,
          62,
          63,
          64,
          65,
          66,
          67,
          68,
          69,
          70
         ],
         "xaxis": "x5",
         "y": [
          0.3274637920854224,
          0.2871198864754667,
          0.7146033120508977,
          0.5860435510015335,
          0.20935558023667067,
          0.48674913376114737,
          0.7538356896059479,
          0.37091313566029366,
          0.2551237285199398,
          0.6837960221192163,
          0.6302120270353425,
          0.22271139227111547,
          0.4373036212649458,
          0.7600163738677419,
          0.4179165880160931,
          0.2303714342878776,
          0.6465724887120825,
          0.6696717716674231,
          0.24434392224968945,
          0.389296612776775,
          0.7573519705436276,
          0.4669763332046315,
          0.21365176245969314,
          0.604118880061632,
          0.7031653573715159,
          0.27356382616088787,
          0.34425790364855985,
          0.7459273837330118,
          0.5165290292781491,
          0.20549750349773727,
          0.5577880264155957,
          0.7296254747412887,
          0.3094399801002059,
          0.30362270115629886,
          0.7261066702757382,
          0.5649956258747098,
          0.20616850170081635,
          0.5090563106353613,
          0.7482089434612282,
          0.35082915154244076,
          0.26868589006483845,
          0.6985214386863495,
          0.6108316823692453,
          0.2156433749840111,
          0.45947662165610464,
          0.7583235811611853,
          0.3964124296850582,
          0.24056076972154675,
          0.6640507222642765,
          0.6525765831478245,
          0.23362019624198438,
          0.41062886999795367,
          0.7596470739493524,
          0.4447372539702528,
          0.2201435775660897,
          0.623792967745123,
          0.6889000817070969,
          0.25952611458339964,
          0.3640696422050813,
          0.7521372472937308,
          0.49426370150130106,
          0.208084929553146,
          0.5790310321050297,
          0.718644690400746,
          0.2925356098453863,
          0.3212825985285604,
          0.7360334099592976,
          0.5434135583545194,
          0.20476908756992046,
          0.5311913029328456,
          0.7408625650377383
         ],
         "yaxis": "y5"
        }
       ],
       "layout": {
        "annotations": [
         {
          "font": {
           "size": 16
          },
          "showarrow": false,
          "text": "Phase",
          "x": 0.5,
          "xanchor": "center",
          "xref": "paper",
          "y": 0,
          "yanchor": "top",
          "yref": "paper",
          "yshift": -30
         },
         {
          "font": {
           "size": 16
          },
          "showarrow": false,
          "text": "Count",
          "textangle": -90,
          "x": 0,
          "xanchor": "right",
          "xref": "paper",
          "xshift": -40,
          "y": 0.5,
          "yanchor": "middle",
          "yref": "paper"
         }
        ],
        "template": {
         "data": {
          "bar": [
           {
            "error_x": {
             "color": "#2a3f5f"
            },
            "error_y": {
             "color": "#2a3f5f"
            },
            "marker": {
             "line": {
              "color": "#E5ECF6",
              "width": 0.5
             },
             "pattern": {
              "fillmode": "overlay",
              "size": 10,
              "solidity": 0.2
             }
            },
            "type": "bar"
           }
          ],
          "barpolar": [
           {
            "marker": {
             "line": {
              "color": "#E5ECF6",
              "width": 0.5
             },
             "pattern": {
              "fillmode": "overlay",
              "size": 10,
              "solidity": 0.2
             }
            },
            "type": "barpolar"
           }
          ],
          "carpet": [
           {
            "aaxis": {
             "endlinecolor": "#2a3f5f",
             "gridcolor": "white",
             "linecolor": "white",
             "minorgridcolor": "white",
             "startlinecolor": "#2a3f5f"
            },
            "baxis": {
             "endlinecolor": "#2a3f5f",
             "gridcolor": "white",
             "linecolor": "white",
             "minorgridcolor": "white",
             "startlinecolor": "#2a3f5f"
            },
            "type": "carpet"
           }
          ],
          "choropleth": [
           {
            "colorbar": {
             "outlinewidth": 0,
             "ticks": ""
            },
            "type": "choropleth"
           }
          ],
          "contour": [
           {
            "colorbar": {
             "outlinewidth": 0,
             "ticks": ""
            },
            "colorscale": [
             [
              0,
              "#0d0887"
             ],
             [
              0.1111111111111111,
              "#46039f"
             ],
             [
              0.2222222222222222,
              "#7201a8"
             ],
             [
              0.3333333333333333,
              "#9c179e"
             ],
             [
              0.4444444444444444,
              "#bd3786"
             ],
             [
              0.5555555555555556,
              "#d8576b"
             ],
             [
              0.6666666666666666,
              "#ed7953"
             ],
             [
              0.7777777777777778,
              "#fb9f3a"
             ],
             [
              0.8888888888888888,
              "#fdca26"
             ],
             [
              1,
              "#f0f921"
             ]
            ],
            "type": "contour"
           }
          ],
          "contourcarpet": [
           {
            "colorbar": {
             "outlinewidth": 0,
             "ticks": ""
            },
            "type": "contourcarpet"
           }
          ],
          "heatmap": [
           {
            "colorbar": {
             "outlinewidth": 0,
             "ticks": ""
            },
            "colorscale": [
             [
              0,
              "#0d0887"
             ],
             [
              0.1111111111111111,
              "#46039f"
             ],
             [
              0.2222222222222222,
              "#7201a8"
             ],
             [
              0.3333333333333333,
              "#9c179e"
             ],
             [
              0.4444444444444444,
              "#bd3786"
             ],
             [
              0.5555555555555556,
              "#d8576b"
             ],
             [
              0.6666666666666666,
              "#ed7953"
             ],
             [
              0.7777777777777778,
              "#fb9f3a"
             ],
             [
              0.8888888888888888,
              "#fdca26"
             ],
             [
              1,
              "#f0f921"
             ]
            ],
            "type": "heatmap"
           }
          ],
          "heatmapgl": [
           {
            "colorbar": {
             "outlinewidth": 0,
             "ticks": ""
            },
            "colorscale": [
             [
              0,
              "#0d0887"
             ],
             [
              0.1111111111111111,
              "#46039f"
             ],
             [
              0.2222222222222222,
              "#7201a8"
             ],
             [
              0.3333333333333333,
              "#9c179e"
             ],
             [
              0.4444444444444444,
              "#bd3786"
             ],
             [
              0.5555555555555556,
              "#d8576b"
             ],
             [
              0.6666666666666666,
              "#ed7953"
             ],
             [
              0.7777777777777778,
              "#fb9f3a"
             ],
             [
              0.8888888888888888,
              "#fdca26"
             ],
             [
              1,
              "#f0f921"
             ]
            ],
            "type": "heatmapgl"
           }
          ],
          "histogram": [
           {
            "marker": {
             "pattern": {
              "fillmode": "overlay",
              "size": 10,
              "solidity": 0.2
             }
            },
            "type": "histogram"
           }
          ],
          "histogram2d": [
           {
            "colorbar": {
             "outlinewidth": 0,
             "ticks": ""
            },
            "colorscale": [
             [
              0,
              "#0d0887"
             ],
             [
              0.1111111111111111,
              "#46039f"
             ],
             [
              0.2222222222222222,
              "#7201a8"
             ],
             [
              0.3333333333333333,
              "#9c179e"
             ],
             [
              0.4444444444444444,
              "#bd3786"
             ],
             [
              0.5555555555555556,
              "#d8576b"
             ],
             [
              0.6666666666666666,
              "#ed7953"
             ],
             [
              0.7777777777777778,
              "#fb9f3a"
             ],
             [
              0.8888888888888888,
              "#fdca26"
             ],
             [
              1,
              "#f0f921"
             ]
            ],
            "type": "histogram2d"
           }
          ],
          "histogram2dcontour": [
           {
            "colorbar": {
             "outlinewidth": 0,
             "ticks": ""
            },
            "colorscale": [
             [
              0,
              "#0d0887"
             ],
             [
              0.1111111111111111,
              "#46039f"
             ],
             [
              0.2222222222222222,
              "#7201a8"
             ],
             [
              0.3333333333333333,
              "#9c179e"
             ],
             [
              0.4444444444444444,
              "#bd3786"
             ],
             [
              0.5555555555555556,
              "#d8576b"
             ],
             [
              0.6666666666666666,
              "#ed7953"
             ],
             [
              0.7777777777777778,
              "#fb9f3a"
             ],
             [
              0.8888888888888888,
              "#fdca26"
             ],
             [
              1,
              "#f0f921"
             ]
            ],
            "type": "histogram2dcontour"
           }
          ],
          "mesh3d": [
           {
            "colorbar": {
             "outlinewidth": 0,
             "ticks": ""
            },
            "type": "mesh3d"
           }
          ],
          "parcoords": [
           {
            "line": {
             "colorbar": {
              "outlinewidth": 0,
              "ticks": ""
             }
            },
            "type": "parcoords"
           }
          ],
          "pie": [
           {
            "automargin": true,
            "type": "pie"
           }
          ],
          "scatter": [
           {
            "marker": {
             "colorbar": {
              "outlinewidth": 0,
              "ticks": ""
             }
            },
            "type": "scatter"
           }
          ],
          "scatter3d": [
           {
            "line": {
             "colorbar": {
              "outlinewidth": 0,
              "ticks": ""
             }
            },
            "marker": {
             "colorbar": {
              "outlinewidth": 0,
              "ticks": ""
             }
            },
            "type": "scatter3d"
           }
          ],
          "scattercarpet": [
           {
            "marker": {
             "colorbar": {
              "outlinewidth": 0,
              "ticks": ""
             }
            },
            "type": "scattercarpet"
           }
          ],
          "scattergeo": [
           {
            "marker": {
             "colorbar": {
              "outlinewidth": 0,
              "ticks": ""
             }
            },
            "type": "scattergeo"
           }
          ],
          "scattergl": [
           {
            "marker": {
             "colorbar": {
              "outlinewidth": 0,
              "ticks": ""
             }
            },
            "type": "scattergl"
           }
          ],
          "scattermapbox": [
           {
            "marker": {
             "colorbar": {
              "outlinewidth": 0,
              "ticks": ""
             }
            },
            "type": "scattermapbox"
           }
          ],
          "scatterpolar": [
           {
            "marker": {
             "colorbar": {
              "outlinewidth": 0,
              "ticks": ""
             }
            },
            "type": "scatterpolar"
           }
          ],
          "scatterpolargl": [
           {
            "marker": {
             "colorbar": {
              "outlinewidth": 0,
              "ticks": ""
             }
            },
            "type": "scatterpolargl"
           }
          ],
          "scatterternary": [
           {
            "marker": {
             "colorbar": {
              "outlinewidth": 0,
              "ticks": ""
             }
            },
            "type": "scatterternary"
           }
          ],
          "surface": [
           {
            "colorbar": {
             "outlinewidth": 0,
             "ticks": ""
            },
            "colorscale": [
             [
              0,
              "#0d0887"
             ],
             [
              0.1111111111111111,
              "#46039f"
             ],
             [
              0.2222222222222222,
              "#7201a8"
             ],
             [
              0.3333333333333333,
              "#9c179e"
             ],
             [
              0.4444444444444444,
              "#bd3786"
             ],
             [
              0.5555555555555556,
              "#d8576b"
             ],
             [
              0.6666666666666666,
              "#ed7953"
             ],
             [
              0.7777777777777778,
              "#fb9f3a"
             ],
             [
              0.8888888888888888,
              "#fdca26"
             ],
             [
              1,
              "#f0f921"
             ]
            ],
            "type": "surface"
           }
          ],
          "table": [
           {
            "cells": {
             "fill": {
              "color": "#EBF0F8"
             },
             "line": {
              "color": "white"
             }
            },
            "header": {
             "fill": {
              "color": "#C8D4E3"
             },
             "line": {
              "color": "white"
             }
            },
            "type": "table"
           }
          ]
         },
         "layout": {
          "annotationdefaults": {
           "arrowcolor": "#2a3f5f",
           "arrowhead": 0,
           "arrowwidth": 1
          },
          "autotypenumbers": "strict",
          "coloraxis": {
           "colorbar": {
            "outlinewidth": 0,
            "ticks": ""
           }
          },
          "colorscale": {
           "diverging": [
            [
             0,
             "#8e0152"
            ],
            [
             0.1,
             "#c51b7d"
            ],
            [
             0.2,
             "#de77ae"
            ],
            [
             0.3,
             "#f1b6da"
            ],
            [
             0.4,
             "#fde0ef"
            ],
            [
             0.5,
             "#f7f7f7"
            ],
            [
             0.6,
             "#e6f5d0"
            ],
            [
             0.7,
             "#b8e186"
            ],
            [
             0.8,
             "#7fbc41"
            ],
            [
             0.9,
             "#4d9221"
            ],
            [
             1,
             "#276419"
            ]
           ],
           "sequential": [
            [
             0,
             "#0d0887"
            ],
            [
             0.1111111111111111,
             "#46039f"
            ],
            [
             0.2222222222222222,
             "#7201a8"
            ],
            [
             0.3333333333333333,
             "#9c179e"
            ],
            [
             0.4444444444444444,
             "#bd3786"
            ],
            [
             0.5555555555555556,
             "#d8576b"
            ],
            [
             0.6666666666666666,
             "#ed7953"
            ],
            [
             0.7777777777777778,
             "#fb9f3a"
            ],
            [
             0.8888888888888888,
             "#fdca26"
            ],
            [
             1,
             "#f0f921"
            ]
           ],
           "sequentialminus": [
            [
             0,
             "#0d0887"
            ],
            [
             0.1111111111111111,
             "#46039f"
            ],
            [
             0.2222222222222222,
             "#7201a8"
            ],
            [
             0.3333333333333333,
             "#9c179e"
            ],
            [
             0.4444444444444444,
             "#bd3786"
            ],
            [
             0.5555555555555556,
             "#d8576b"
            ],
            [
             0.6666666666666666,
             "#ed7953"
            ],
            [
             0.7777777777777778,
             "#fb9f3a"
            ],
            [
             0.8888888888888888,
             "#fdca26"
            ],
            [
             1,
             "#f0f921"
            ]
           ]
          },
          "colorway": [
           "#636efa",
           "#EF553B",
           "#00cc96",
           "#ab63fa",
           "#FFA15A",
           "#19d3f3",
           "#FF6692",
           "#B6E880",
           "#FF97FF",
           "#FECB52"
          ],
          "font": {
           "color": "#2a3f5f"
          },
          "geo": {
           "bgcolor": "white",
           "lakecolor": "white",
           "landcolor": "#E5ECF6",
           "showlakes": true,
           "showland": true,
           "subunitcolor": "white"
          },
          "hoverlabel": {
           "align": "left"
          },
          "hovermode": "closest",
          "mapbox": {
           "style": "light"
          },
          "paper_bgcolor": "white",
          "plot_bgcolor": "#E5ECF6",
          "polar": {
           "angularaxis": {
            "gridcolor": "white",
            "linecolor": "white",
            "ticks": ""
           },
           "bgcolor": "#E5ECF6",
           "radialaxis": {
            "gridcolor": "white",
            "linecolor": "white",
            "ticks": ""
           }
          },
          "scene": {
           "xaxis": {
            "backgroundcolor": "#E5ECF6",
            "gridcolor": "white",
            "gridwidth": 2,
            "linecolor": "white",
            "showbackground": true,
            "ticks": "",
            "zerolinecolor": "white"
           },
           "yaxis": {
            "backgroundcolor": "#E5ECF6",
            "gridcolor": "white",
            "gridwidth": 2,
            "linecolor": "white",
            "showbackground": true,
            "ticks": "",
            "zerolinecolor": "white"
           },
           "zaxis": {
            "backgroundcolor": "#E5ECF6",
            "gridcolor": "white",
            "gridwidth": 2,
            "linecolor": "white",
            "showbackground": true,
            "ticks": "",
            "zerolinecolor": "white"
           }
          },
          "shapedefaults": {
           "line": {
            "color": "#2a3f5f"
           }
          },
          "ternary": {
           "aaxis": {
            "gridcolor": "white",
            "linecolor": "white",
            "ticks": ""
           },
           "baxis": {
            "gridcolor": "white",
            "linecolor": "white",
            "ticks": ""
           },
           "bgcolor": "#E5ECF6",
           "caxis": {
            "gridcolor": "white",
            "linecolor": "white",
            "ticks": ""
           }
          },
          "title": {
           "x": 0.05
          },
          "xaxis": {
           "automargin": true,
           "gridcolor": "white",
           "linecolor": "white",
           "ticks": "",
           "title": {
            "standoff": 15
           },
           "zerolinecolor": "white",
           "zerolinewidth": 2
          },
          "yaxis": {
           "automargin": true,
           "gridcolor": "white",
           "linecolor": "white",
           "ticks": "",
           "title": {
            "standoff": 15
           },
           "zerolinecolor": "white",
           "zerolinewidth": 2
          }
         }
        },
        "title": {
         "text": "2021_12_09_0011.abf"
        },
        "xaxis": {
         "anchor": "y",
         "domain": [
          0,
          1
         ]
        },
        "xaxis2": {
         "anchor": "y2",
         "domain": [
          0,
          1
         ]
        },
        "xaxis3": {
         "anchor": "y3",
         "domain": [
          0,
          1
         ]
        },
        "xaxis4": {
         "anchor": "y4",
         "domain": [
          0,
          1
         ]
        },
        "xaxis5": {
         "anchor": "y5",
         "domain": [
          0,
          1
         ]
        },
        "yaxis": {
         "anchor": "x",
         "domain": [
          0.848,
          1
         ]
        },
        "yaxis2": {
         "anchor": "x2",
         "domain": [
          0.6359999999999999,
          0.7879999999999999
         ]
        },
        "yaxis3": {
         "anchor": "x3",
         "domain": [
          0.424,
          0.576
         ]
        },
        "yaxis4": {
         "anchor": "x4",
         "domain": [
          0.212,
          0.364
         ]
        },
        "yaxis5": {
         "anchor": "x5",
         "domain": [
          0,
          0.152
         ]
        }
       }
      },
      "text/html": [
       "<div>                            <div id=\"f0aa5b36-269a-4cf3-9e4f-782452c55dbc\" class=\"plotly-graph-div\" style=\"height:525px; width:100%;\"></div>            <script type=\"text/javascript\">                require([\"plotly\"], function(Plotly) {                    window.PLOTLYENV=window.PLOTLYENV || {};                                    if (document.getElementById(\"f0aa5b36-269a-4cf3-9e4f-782452c55dbc\")) {                    Plotly.newPlot(                        \"f0aa5b36-269a-4cf3-9e4f-782452c55dbc\",                        [{\"line\":{\"color\":\"#008080\"},\"mode\":\"markers\",\"showlegend\":false,\"x\":[0,1,2,3,4,5,6,7,8,9,10,11,12,13,14,15,16,17,18,19,20,21,22,23,24,25,26,27,28,29,30,31,32,33,34,35,36,37,38,39,40,41,42,43,44,45,46,47,48,49,50,51,52,53,54,55,56,57,58,59,60,61,62,63,64,65],\"y\":[0.0172,0.3011,0.5804,0.8454,0.125,0.3998,0.6707,0.974600000000001,0.267,0.5587,0.845,0.1242,0.387600000000001,0.698499999999999,0.998299999999999,0.2941,0.5876,0.8629,0.1699,0.451700000000001,0.7567,0.068400000000001,0.363799999999999,0.6961,0.038,0.3508,0.679399999999999,0.9628,0.2523,0.555200000000001,0.924100000000001,0.212399999999999,0.5236,0.8634,0.193299999999999,0.5116,0.8201,0.145299999999999,0.446099999999998,0.7636,0.052499999999999,0.3447,0.6995,0.018099999999997,0.315099999999997,0.631700000000002,0.956499999999998,0.2347,0.546799999999998,0.863599999999998,0.156500000000001,0.452200000000001,0.739599999999999,0.0458,0.351599999999998,0.654599999999999,0.981099999999998,0.279400000000003,0.590799999999998,0.8826,0.206,0.5245,0.834700000000002,0.152999999999999,0.450099999999999,0.743099999999998],\"type\":\"scatter\",\"xaxis\":\"x\",\"yaxis\":\"y\",\"connectgaps\":false},{\"line\":{\"color\":\"#0000FF\"},\"showlegend\":false,\"x\":[0,1,2,3,4,5,6,7,8,9,10,11,12,13,14,15,16,17,18,19,20,21,22,23,24,25,26,27,28,29,30,31,32,33,34,35,36,37,38,39,40,41,42,43,44,45,46,47,48,49,50,51,52,53,54,55,56,57,58,59,60,61,62,63,64,65],\"y\":[0.7450341619152244,0.49747390110533296,0.24453103072886556,0.674225686536911,0.6177620254975814,0.22872467197867735,0.565319110807428,0.7119878046184156,0.2697829021593804,0.44152888536506973,0.7600661363185517,0.35895377721763166,0.329242049365057,0.7517486765421011,0.47722969487094596,0.2523935873957164,0.6888083692837044,0.5993990420126745,0.2273644646564999,0.5846615270683149,0.6994202847892577,0.25948987170369187,0.4615080190181483,0.7559729640120318,0.34192197890775244,0.34559916204784963,0.7570023495465974,0.45708961509851903,0.26164200823994677,0.7022890182817243,0.5804437263040726,0.22753280664781617,0.603495626208544,0.6856902351793976,0.25054225117922585,0.481680904705858,0.7503948684147919,0.3257656644929684,0.3628107958703701,0.7607652309757893,0.43716847564124567,0.27222357019168186,0.7145907835247887,0.5610041381639739,0.2292287382745659,0.6217140394630407,0.6708759275691892,0.24299104886404632,0.5019325415562136,0.7433636489365778,0.3105769373180583,0.3807788313603435,0.7630158695285467,0.4175798422251206,0.28407795025745985,0.7256435355454582,0.5411910981076847,0.23244259142981927,0.639212907947011,0.6550618148385725,0.2368793123847695,0.5221474797553786,0.7349193889042687,0.2964423847407626,0.3994008369776705,0.7637414348443499],\"type\":\"scatter\",\"xaxis\":\"x\",\"yaxis\":\"y\",\"connectgaps\":false},{\"line\":{\"color\":\"#008080\"},\"mode\":\"markers\",\"showlegend\":false,\"x\":[0,1,2,3,4,5,6,7,8,9,10,11,12,13,14,15,16,17,18,19,20,21,22,23,24,25,26,27,28,29,30,31,32,33,34,35,36,37,38,39,40,41,42,43,44,45,46,47,48,49,50,51,52,53,54,55,56,57,58,59,60,61,62],\"y\":[0.008100000000001,0.3027,0.6403,0.9605,0.2863,0.6233,0.9476,0.277100000000001,0.6029,0.9008,0.2004,0.519600000000001,0.8331,0.1229,0.4443,0.749499999999999,0.0625,0.364700000000001,0.6785,0.0122,0.299100000000001,0.626799999999999,0.952999999999999,0.290100000000001,0.600200000000001,0.885999999999999,0.186999999999999,0.5182,0.8047,0.0961,0.3889,0.671700000000001,0.9724,0.273700000000002,0.568299999999999,0.8939,0.1982,0.517299999999999,0.831499999999998,0.114099999999997,0.436599999999999,0.732400000000002,0.060200000000002,0.350000000000001,0.0383,0.3796,0.714500000000001,0.033300000000001,0.3489,0.712700000000002,0.060099999999999,0.383500000000002,0.676500000000001,0.003900000000002,0.287099999999999,0.589299999999998,0.901,0.205299999999998,0.484299999999998,0.768799999999999,0.067499999999999,0.3535,0.6861],\"type\":\"scatter\",\"xaxis\":\"x2\",\"yaxis\":\"y2\",\"connectgaps\":false},{\"line\":{\"color\":\"#0000FF\"},\"showlegend\":false,\"x\":[0,1,2,3,4,5,6,7,8,9,10,11,12,13,14,15,16,17,18,19,20,21,22,23,24,25,26,27,28,29,30,31,32,33,34,35,36,37,38,39,40,41,42,43,44,45,46,47,48,49,50,51,52,53,54,55,56,57,58,59,60,61,62],\"y\":[0.25688271588258915,0.5392372859751349,0.6353533183640137,0.29433404605525204,0.40636012651433234,0.6790039521131005,0.4005689132075388,0.29786873007902726,0.6389871269118983,0.533484696248491,0.2567600173430766,0.5311621672352439,0.6404046893056454,0.29932604572843513,0.39826187393378853,0.6789547446495166,0.40869719970777585,0.2929568140420573,0.6338568427683762,0.5415278962563466,0.2569811107761754,0.5229840222021698,0.6451751506748216,0.3045925256760797,0.390277001085306,0.6785618552595359,0.4169218737475303,0.2883297495140954,0.6284563111315233,0.5494511911052112,0.2575456361679995,0.5147161676250072,0.6496569345685682,0.3101249103114503,0.38241851000636695,0.6778259236981896,0.4252295428129585,0.28399507090020637,0.6227943258689566,0.5572416790271366,0.2584526742828337,0.5063720663299238,0.6538427431471722,0.31591419106625035,0.374699196942766,0.6767481483076339,0.43360667924662016,0.2799598365036224,0.616880106582048,0.5648866745081593,0.25970074815995536,0.497965305298187,0.6577257605174957,0.3219509410595688,0.3671316315120413,0.6753302840658495,0.4420396422750188,0.2762306170324651,0.6107232835933173,0.5723737289445646,0.2612878255186206,0.4895095735420242,0.6612996638315292],\"type\":\"scatter\",\"xaxis\":\"x2\",\"yaxis\":\"y2\",\"connectgaps\":false},{\"line\":{\"color\":\"#008080\"},\"mode\":\"markers\",\"showlegend\":false,\"x\":[0,1,2,3,4,5,6,7,8,9,10,11,12,13,14,15,16,17,18,19,20,21,22,23,24,25,26,27,28,29,30,31,32,33,34,35,36,37,38,39,40,41,42,43,44,45,46,47,48,49,50,51,52,53,54,55,56,57,58,59,60,61,62,63,64],\"y\":[0.0963,0.3782,0.6641,0.9853,0.271199999999999,0.5564,0.8282,0.1356,0.408600000000001,0.6974,0.000500000000001,0.3081,0.6289,0.9535,0.254799999999999,0.572100000000001,0.892299999999999,0.2164,0.545399999999999,0.8568,0.163500000000001,0.4772,0.800799999999999,0.125399999999999,0.4534,0.756399999999999,0.0853,0.369200000000001,0.6868,0.000299999999999,0.2927,0.58,0.9095,0.201600000000001,0.523299999999999,0.8613,0.1555,0.4633,0.800699999999999,0.100000000000001,0.395799999999998,0.674099999999999,0.006700000000002,0.363799999999998,0.675999999999998,0.011599999999998,0.319900000000001,0.634799999999999,0.932400000000001,0.236099999999997,0.526299999999999,0.827099999999998,0.1234,0.4132,0.758099999999999,0.053699999999999,0.3325,0.635300000000001,0.905799999999999,0.203700000000001,0.494499999999999,0.8064,0.126999999999999,0.410900000000002,0.763500000000001],\"type\":\"scatter\",\"xaxis\":\"x3\",\"yaxis\":\"y3\",\"connectgaps\":false},{\"line\":{\"color\":\"#0000FF\"},\"showlegend\":false,\"x\":[0,1,2,3,4,5,6,7,8,9,10,11,12,13,14,15,16,17,18,19,20,21,22,23,24,25,26,27,28,29,30,31,32,33,34,35,36,37,38,39,40,41,42,43,44,45,46,47,48,49,50,51,52,53,54,55,56,57,58,59,60,61,62,63,64],\"y\":[0.4778216908330943,0.18961554100423933,0.6722487655751493,0.6029727946262542,0.17165166328259007,0.5604033456396158,0.7037795764048708,0.20883039989759944,0.4320586055598748,0.7616646429815414,0.29430018792739215,0.3108668300128894,0.7659605211714225,0.41231004485017453,0.2191621043220079,0.7158755358827144,0.541112272015489,0.17384442981892329,0.6206397056526324,0.656970275761235,0.1832652709857715,0.4978037689582587,0.73853291629784,0.24568848797734932,0.37000480887328957,0.7707692481282142,0.34961028486232926,0.26079452984210627,0.7477385299573178,0.4758792112381614,0.19029898150017882,0.6736850268960881,0.6012255281919804,0.17150958661096394,0.5622558469961862,0.7025495218597134,0.207888988961432,0.4339859547810962,0.761178483555776,0.29273293265269296,0.31251384142910393,0.7663078497936693,0.410405770224208,0.22022525491498562,0.7169923443556381,0.5392219113568167,0.17412779460986427,0.6223201805403676,0.6554421982232271,0.18271662948867268,0.49973822035522525,0.737648726914838,0.24440894776286046,0.37183674227019065,0.7706918916300285,0.3478356487330397,0.26218634347836267,0.7484822621515153,0.47393652180526086,0.19099418202575758,0.6751127875060277,0.5994727981288172,0.17138005751147933,0.5641045181069809,0.7013097567712667],\"type\":\"scatter\",\"xaxis\":\"x3\",\"yaxis\":\"y3\",\"connectgaps\":false},{\"line\":{\"color\":\"#008080\"},\"mode\":\"markers\",\"showlegend\":false,\"x\":[0,1,2,3,4,5,6,7,8,9,10,11,12,13,14,15,16,17,18,19,20,21,22,23,24,25,26,27,28,29,30,31,32,33,34,35,36,37,38,39,40,41,42,43,44,45,46,47,48,49,50,51,52,53,54,55,56,57,58,59,60,61,62,63,64,65,66,67,68,69,70,71,72],\"y\":[0.117,0.583399999999999,0.835,0.0853,0.328100000000001,0.5673,0.7895,0.021000000000001,0.247299999999999,0.469100000000001,0.6998,0.9177,0.1374,0.347700000000001,0.595000000000001,0.8322,0.0587,0.272399999999999,0.506200000000002,0.728899999999999,0.963799999999999,0.201700000000001,0.433999999999999,0.666499999999999,0.890600000000001,0.121499999999999,0.347799999999999,0.584200000000001,0.8329,0.091700000000001,0.3346,0.563000000000001,0.8073,0.046100000000001,0.288200000000002,0.536299999999999,0.7897,0.034500000000001,0.271699999999999,0.526299999999999,0.7759,0.026499999999999,0.288400000000003,0.5276,0.779700000000002,0.032299999999999,0.2742,0.5337,0.788799999999998,0.031099999999999,0.273799999999998,0.536200000000001,0.8094,0.062099999999997,0.328700000000001,0.575900000000001,0.837700000000002,0.092700000000001,0.330099999999998,0.577900000000003,0.852700000000002,0.0976,0.357700000000001,0.620699999999999,0.874099999999998,0.117699999999999,0.362299999999998,0.612400000000001,0.8812,0.122799999999998,0.345400000000001,0.595200000000002,0.862099999999998],\"type\":\"scatter\",\"xaxis\":\"x4\",\"yaxis\":\"y4\",\"connectgaps\":false},{\"line\":{\"color\":\"#0000FF\"},\"showlegend\":false,\"x\":[0,1,2,3,4,5,6,7,8,9,10,11,12,13,14,15,16,17,18,19,20,21,22,23,24,25,26,27,28,29,30,31,32,33,34,35,36,37,38,39,40,41,42,43,44,45,46,47,48,49,50,51,52,53,54,55,56,57,58,59,60,61,62,63,64,65,66,67,68,69,70,71,72],\"y\":[0.21664900515846933,0.3259260413673012,0.6967658039467176,0.6148451497991932,0.23796220377584404,0.29208067783325997,0.6729558755034986,0.6469340849103096,0.26413929253308743,0.26192279357902837,0.6445540776209954,0.674996804318416,0.294611241869867,0.23610795148162753,0.6121777999070308,0.6984232892000058,0.32871566185831935,0.21519730669413664,0.5765308279981038,0.7167043017816989,0.3657112010329934,0.1996454084263647,0.5383880448821863,0.7294424549954273,0.4047936616625809,0.18979031909295568,0.4985785867289833,0.73636085075715,0.4451134811545785,0.18584626561587392,0.45796781938112796,0.737309099092832,0.4857941995874529,0.1878989826250011,0.41743852729578124,0.7322665872697691,0.5259515119287159,0.1959038487849386,0.37787172384573964,0.7213429278698748,0.5647124907876387,0.2096868567599689,0.34012750011980375,0.704775576064852,0.6012345618442624,0.22894839573237255,0.3050263285253939,0.6829246678881951,0.6347238194726259,0.2532697642508682,0.2733312276099412,0.6562651917080894,0.6644522844187737,0.2821222718349047,0.24573117579674816,0.6253766630753336,0.689773728391449,0.31487873148682144,0.2228261345824566,0.5909305273912944,0.7101377215753132,0.3508270932912655,0.20511400675725855,0.5536755642328459,0.7251015977061573,0.3891859227387711,0.19297981314614043,0.5144216106106296,0.7343400766149539,0.42912138731045874,0.18668732314376463,0.47402195697942856,0.7376523350688231],\"type\":\"scatter\",\"xaxis\":\"x4\",\"yaxis\":\"y4\",\"connectgaps\":false},{\"line\":{\"color\":\"#008080\"},\"mode\":\"markers\",\"showlegend\":false,\"x\":[0,1,2,3,4,5,6,7,8,9,10,11,12,13,14,15,16,17,18,19,20,21,22,23,24,25,26,27,28,29,30,31,32,33,34,35,36,37,38,39,40,41,42,43,44,45,46,47,48,49,50,51,52,53,54,55,56,57,58,59,60,61,62,63,64,65,66,67,68,69,70],\"y\":[0.214300000000001,0.493,0.7992,0.0791,0.3455,0.6123,0.8933,0.1517,0.4105,0.6745,0.9313,0.1867,0.465399999999999,0.747999999999999,0.0121,0.2866,0.5581,0.8133,0.0749,0.3515,0.6302,0.9251,0.1996,0.4735,0.723700000000001,0.003200000000001,0.280700000000001,0.564500000000001,0.8279,0.099,0.3941,0.674,0.9922,0.2705,0.553900000000001,0.8474,0.1319,0.4268,0.7361,0.040299999999999,0.3004,0.586400000000001,0.884299999999999,0.1553,0.440300000000001,0.7271,0.012000000000001,0.295300000000001,0.598700000000001,0.893099999999997,0.1571,0.423599999999997,0.696200000000001,0.967500000000001,0.272099999999998,0.5503,0.853099999999998,0.142799999999998,0.469200000000001,0.741,0.012799999999999,0.310700000000001,0.628499999999999,0.921500000000002,0.235299999999999,0.508700000000001,0.762,0.054599999999997,0.312900000000003,0.580200000000001,0.863799999999998],\"type\":\"scatter\",\"xaxis\":\"x5\",\"yaxis\":\"y5\",\"connectgaps\":false},{\"line\":{\"color\":\"#0000FF\"},\"showlegend\":false,\"x\":[0,1,2,3,4,5,6,7,8,9,10,11,12,13,14,15,16,17,18,19,20,21,22,23,24,25,26,27,28,29,30,31,32,33,34,35,36,37,38,39,40,41,42,43,44,45,46,47,48,49,50,51,52,53,54,55,56,57,58,59,60,61,62,63,64,65,66,67,68,69,70],\"y\":[0.3274637920854224,0.2871198864754667,0.7146033120508977,0.5860435510015335,0.20935558023667067,0.48674913376114737,0.7538356896059479,0.37091313566029366,0.2551237285199398,0.6837960221192163,0.6302120270353425,0.22271139227111547,0.4373036212649458,0.7600163738677419,0.4179165880160931,0.2303714342878776,0.6465724887120825,0.6696717716674231,0.24434392224968945,0.389296612776775,0.7573519705436276,0.4669763332046315,0.21365176245969314,0.604118880061632,0.7031653573715159,0.27356382616088787,0.34425790364855985,0.7459273837330118,0.5165290292781491,0.20549750349773727,0.5577880264155957,0.7296254747412887,0.3094399801002059,0.30362270115629886,0.7261066702757382,0.5649956258747098,0.20616850170081635,0.5090563106353613,0.7482089434612282,0.35082915154244076,0.26868589006483845,0.6985214386863495,0.6108316823692453,0.2156433749840111,0.45947662165610464,0.7583235811611853,0.3964124296850582,0.24056076972154675,0.6640507222642765,0.6525765831478245,0.23362019624198438,0.41062886999795367,0.7596470739493524,0.4447372539702528,0.2201435775660897,0.623792967745123,0.6889000817070969,0.25952611458339964,0.3640696422050813,0.7521372472937308,0.49426370150130106,0.208084929553146,0.5790310321050297,0.718644690400746,0.2925356098453863,0.3212825985285604,0.7360334099592976,0.5434135583545194,0.20476908756992046,0.5311913029328456,0.7408625650377383],\"type\":\"scatter\",\"xaxis\":\"x5\",\"yaxis\":\"y5\"}],                        {\"template\":{\"data\":{\"bar\":[{\"error_x\":{\"color\":\"#2a3f5f\"},\"error_y\":{\"color\":\"#2a3f5f\"},\"marker\":{\"line\":{\"color\":\"#E5ECF6\",\"width\":0.5},\"pattern\":{\"fillmode\":\"overlay\",\"size\":10,\"solidity\":0.2}},\"type\":\"bar\"}],\"barpolar\":[{\"marker\":{\"line\":{\"color\":\"#E5ECF6\",\"width\":0.5},\"pattern\":{\"fillmode\":\"overlay\",\"size\":10,\"solidity\":0.2}},\"type\":\"barpolar\"}],\"carpet\":[{\"aaxis\":{\"endlinecolor\":\"#2a3f5f\",\"gridcolor\":\"white\",\"linecolor\":\"white\",\"minorgridcolor\":\"white\",\"startlinecolor\":\"#2a3f5f\"},\"baxis\":{\"endlinecolor\":\"#2a3f5f\",\"gridcolor\":\"white\",\"linecolor\":\"white\",\"minorgridcolor\":\"white\",\"startlinecolor\":\"#2a3f5f\"},\"type\":\"carpet\"}],\"choropleth\":[{\"colorbar\":{\"outlinewidth\":0,\"ticks\":\"\"},\"type\":\"choropleth\"}],\"contour\":[{\"colorbar\":{\"outlinewidth\":0,\"ticks\":\"\"},\"colorscale\":[[0.0,\"#0d0887\"],[0.1111111111111111,\"#46039f\"],[0.2222222222222222,\"#7201a8\"],[0.3333333333333333,\"#9c179e\"],[0.4444444444444444,\"#bd3786\"],[0.5555555555555556,\"#d8576b\"],[0.6666666666666666,\"#ed7953\"],[0.7777777777777778,\"#fb9f3a\"],[0.8888888888888888,\"#fdca26\"],[1.0,\"#f0f921\"]],\"type\":\"contour\"}],\"contourcarpet\":[{\"colorbar\":{\"outlinewidth\":0,\"ticks\":\"\"},\"type\":\"contourcarpet\"}],\"heatmap\":[{\"colorbar\":{\"outlinewidth\":0,\"ticks\":\"\"},\"colorscale\":[[0.0,\"#0d0887\"],[0.1111111111111111,\"#46039f\"],[0.2222222222222222,\"#7201a8\"],[0.3333333333333333,\"#9c179e\"],[0.4444444444444444,\"#bd3786\"],[0.5555555555555556,\"#d8576b\"],[0.6666666666666666,\"#ed7953\"],[0.7777777777777778,\"#fb9f3a\"],[0.8888888888888888,\"#fdca26\"],[1.0,\"#f0f921\"]],\"type\":\"heatmap\"}],\"heatmapgl\":[{\"colorbar\":{\"outlinewidth\":0,\"ticks\":\"\"},\"colorscale\":[[0.0,\"#0d0887\"],[0.1111111111111111,\"#46039f\"],[0.2222222222222222,\"#7201a8\"],[0.3333333333333333,\"#9c179e\"],[0.4444444444444444,\"#bd3786\"],[0.5555555555555556,\"#d8576b\"],[0.6666666666666666,\"#ed7953\"],[0.7777777777777778,\"#fb9f3a\"],[0.8888888888888888,\"#fdca26\"],[1.0,\"#f0f921\"]],\"type\":\"heatmapgl\"}],\"histogram\":[{\"marker\":{\"pattern\":{\"fillmode\":\"overlay\",\"size\":10,\"solidity\":0.2}},\"type\":\"histogram\"}],\"histogram2d\":[{\"colorbar\":{\"outlinewidth\":0,\"ticks\":\"\"},\"colorscale\":[[0.0,\"#0d0887\"],[0.1111111111111111,\"#46039f\"],[0.2222222222222222,\"#7201a8\"],[0.3333333333333333,\"#9c179e\"],[0.4444444444444444,\"#bd3786\"],[0.5555555555555556,\"#d8576b\"],[0.6666666666666666,\"#ed7953\"],[0.7777777777777778,\"#fb9f3a\"],[0.8888888888888888,\"#fdca26\"],[1.0,\"#f0f921\"]],\"type\":\"histogram2d\"}],\"histogram2dcontour\":[{\"colorbar\":{\"outlinewidth\":0,\"ticks\":\"\"},\"colorscale\":[[0.0,\"#0d0887\"],[0.1111111111111111,\"#46039f\"],[0.2222222222222222,\"#7201a8\"],[0.3333333333333333,\"#9c179e\"],[0.4444444444444444,\"#bd3786\"],[0.5555555555555556,\"#d8576b\"],[0.6666666666666666,\"#ed7953\"],[0.7777777777777778,\"#fb9f3a\"],[0.8888888888888888,\"#fdca26\"],[1.0,\"#f0f921\"]],\"type\":\"histogram2dcontour\"}],\"mesh3d\":[{\"colorbar\":{\"outlinewidth\":0,\"ticks\":\"\"},\"type\":\"mesh3d\"}],\"parcoords\":[{\"line\":{\"colorbar\":{\"outlinewidth\":0,\"ticks\":\"\"}},\"type\":\"parcoords\"}],\"pie\":[{\"automargin\":true,\"type\":\"pie\"}],\"scatter\":[{\"marker\":{\"colorbar\":{\"outlinewidth\":0,\"ticks\":\"\"}},\"type\":\"scatter\"}],\"scatter3d\":[{\"line\":{\"colorbar\":{\"outlinewidth\":0,\"ticks\":\"\"}},\"marker\":{\"colorbar\":{\"outlinewidth\":0,\"ticks\":\"\"}},\"type\":\"scatter3d\"}],\"scattercarpet\":[{\"marker\":{\"colorbar\":{\"outlinewidth\":0,\"ticks\":\"\"}},\"type\":\"scattercarpet\"}],\"scattergeo\":[{\"marker\":{\"colorbar\":{\"outlinewidth\":0,\"ticks\":\"\"}},\"type\":\"scattergeo\"}],\"scattergl\":[{\"marker\":{\"colorbar\":{\"outlinewidth\":0,\"ticks\":\"\"}},\"type\":\"scattergl\"}],\"scattermapbox\":[{\"marker\":{\"colorbar\":{\"outlinewidth\":0,\"ticks\":\"\"}},\"type\":\"scattermapbox\"}],\"scatterpolar\":[{\"marker\":{\"colorbar\":{\"outlinewidth\":0,\"ticks\":\"\"}},\"type\":\"scatterpolar\"}],\"scatterpolargl\":[{\"marker\":{\"colorbar\":{\"outlinewidth\":0,\"ticks\":\"\"}},\"type\":\"scatterpolargl\"}],\"scatterternary\":[{\"marker\":{\"colorbar\":{\"outlinewidth\":0,\"ticks\":\"\"}},\"type\":\"scatterternary\"}],\"surface\":[{\"colorbar\":{\"outlinewidth\":0,\"ticks\":\"\"},\"colorscale\":[[0.0,\"#0d0887\"],[0.1111111111111111,\"#46039f\"],[0.2222222222222222,\"#7201a8\"],[0.3333333333333333,\"#9c179e\"],[0.4444444444444444,\"#bd3786\"],[0.5555555555555556,\"#d8576b\"],[0.6666666666666666,\"#ed7953\"],[0.7777777777777778,\"#fb9f3a\"],[0.8888888888888888,\"#fdca26\"],[1.0,\"#f0f921\"]],\"type\":\"surface\"}],\"table\":[{\"cells\":{\"fill\":{\"color\":\"#EBF0F8\"},\"line\":{\"color\":\"white\"}},\"header\":{\"fill\":{\"color\":\"#C8D4E3\"},\"line\":{\"color\":\"white\"}},\"type\":\"table\"}]},\"layout\":{\"annotationdefaults\":{\"arrowcolor\":\"#2a3f5f\",\"arrowhead\":0,\"arrowwidth\":1},\"autotypenumbers\":\"strict\",\"coloraxis\":{\"colorbar\":{\"outlinewidth\":0,\"ticks\":\"\"}},\"colorscale\":{\"diverging\":[[0,\"#8e0152\"],[0.1,\"#c51b7d\"],[0.2,\"#de77ae\"],[0.3,\"#f1b6da\"],[0.4,\"#fde0ef\"],[0.5,\"#f7f7f7\"],[0.6,\"#e6f5d0\"],[0.7,\"#b8e186\"],[0.8,\"#7fbc41\"],[0.9,\"#4d9221\"],[1,\"#276419\"]],\"sequential\":[[0.0,\"#0d0887\"],[0.1111111111111111,\"#46039f\"],[0.2222222222222222,\"#7201a8\"],[0.3333333333333333,\"#9c179e\"],[0.4444444444444444,\"#bd3786\"],[0.5555555555555556,\"#d8576b\"],[0.6666666666666666,\"#ed7953\"],[0.7777777777777778,\"#fb9f3a\"],[0.8888888888888888,\"#fdca26\"],[1.0,\"#f0f921\"]],\"sequentialminus\":[[0.0,\"#0d0887\"],[0.1111111111111111,\"#46039f\"],[0.2222222222222222,\"#7201a8\"],[0.3333333333333333,\"#9c179e\"],[0.4444444444444444,\"#bd3786\"],[0.5555555555555556,\"#d8576b\"],[0.6666666666666666,\"#ed7953\"],[0.7777777777777778,\"#fb9f3a\"],[0.8888888888888888,\"#fdca26\"],[1.0,\"#f0f921\"]]},\"colorway\":[\"#636efa\",\"#EF553B\",\"#00cc96\",\"#ab63fa\",\"#FFA15A\",\"#19d3f3\",\"#FF6692\",\"#B6E880\",\"#FF97FF\",\"#FECB52\"],\"font\":{\"color\":\"#2a3f5f\"},\"geo\":{\"bgcolor\":\"white\",\"lakecolor\":\"white\",\"landcolor\":\"#E5ECF6\",\"showlakes\":true,\"showland\":true,\"subunitcolor\":\"white\"},\"hoverlabel\":{\"align\":\"left\"},\"hovermode\":\"closest\",\"mapbox\":{\"style\":\"light\"},\"paper_bgcolor\":\"white\",\"plot_bgcolor\":\"#E5ECF6\",\"polar\":{\"angularaxis\":{\"gridcolor\":\"white\",\"linecolor\":\"white\",\"ticks\":\"\"},\"bgcolor\":\"#E5ECF6\",\"radialaxis\":{\"gridcolor\":\"white\",\"linecolor\":\"white\",\"ticks\":\"\"}},\"scene\":{\"xaxis\":{\"backgroundcolor\":\"#E5ECF6\",\"gridcolor\":\"white\",\"gridwidth\":2,\"linecolor\":\"white\",\"showbackground\":true,\"ticks\":\"\",\"zerolinecolor\":\"white\"},\"yaxis\":{\"backgroundcolor\":\"#E5ECF6\",\"gridcolor\":\"white\",\"gridwidth\":2,\"linecolor\":\"white\",\"showbackground\":true,\"ticks\":\"\",\"zerolinecolor\":\"white\"},\"zaxis\":{\"backgroundcolor\":\"#E5ECF6\",\"gridcolor\":\"white\",\"gridwidth\":2,\"linecolor\":\"white\",\"showbackground\":true,\"ticks\":\"\",\"zerolinecolor\":\"white\"}},\"shapedefaults\":{\"line\":{\"color\":\"#2a3f5f\"}},\"ternary\":{\"aaxis\":{\"gridcolor\":\"white\",\"linecolor\":\"white\",\"ticks\":\"\"},\"baxis\":{\"gridcolor\":\"white\",\"linecolor\":\"white\",\"ticks\":\"\"},\"bgcolor\":\"#E5ECF6\",\"caxis\":{\"gridcolor\":\"white\",\"linecolor\":\"white\",\"ticks\":\"\"}},\"title\":{\"x\":0.05},\"xaxis\":{\"automargin\":true,\"gridcolor\":\"white\",\"linecolor\":\"white\",\"ticks\":\"\",\"title\":{\"standoff\":15},\"zerolinecolor\":\"white\",\"zerolinewidth\":2},\"yaxis\":{\"automargin\":true,\"gridcolor\":\"white\",\"linecolor\":\"white\",\"ticks\":\"\",\"title\":{\"standoff\":15},\"zerolinecolor\":\"white\",\"zerolinewidth\":2}}},\"xaxis\":{\"anchor\":\"y\",\"domain\":[0.0,1.0]},\"yaxis\":{\"anchor\":\"x\",\"domain\":[0.848,1.0]},\"xaxis2\":{\"anchor\":\"y2\",\"domain\":[0.0,1.0]},\"yaxis2\":{\"anchor\":\"x2\",\"domain\":[0.6359999999999999,0.7879999999999999]},\"xaxis3\":{\"anchor\":\"y3\",\"domain\":[0.0,1.0]},\"yaxis3\":{\"anchor\":\"x3\",\"domain\":[0.424,0.576]},\"xaxis4\":{\"anchor\":\"y4\",\"domain\":[0.0,1.0]},\"yaxis4\":{\"anchor\":\"x4\",\"domain\":[0.212,0.364]},\"xaxis5\":{\"anchor\":\"y5\",\"domain\":[0.0,1.0]},\"yaxis5\":{\"anchor\":\"x5\",\"domain\":[0.0,0.152]},\"annotations\":[{\"font\":{\"size\":16},\"showarrow\":false,\"text\":\"Phase\",\"x\":0.5,\"xanchor\":\"center\",\"xref\":\"paper\",\"y\":0,\"yanchor\":\"top\",\"yref\":\"paper\",\"yshift\":-30},{\"font\":{\"size\":16},\"showarrow\":false,\"text\":\"Count\",\"textangle\":-90,\"x\":0,\"xanchor\":\"right\",\"xref\":\"paper\",\"xshift\":-40,\"y\":0.5,\"yanchor\":\"middle\",\"yref\":\"paper\"}],\"title\":{\"text\":\"2021_12_09_0011.abf\"}},                        {\"responsive\": true}                    ).then(function(){\n",
       "                            \n",
       "var gd = document.getElementById('f0aa5b36-269a-4cf3-9e4f-782452c55dbc');\n",
       "var x = new MutationObserver(function (mutations, observer) {{\n",
       "        var display = window.getComputedStyle(gd).display;\n",
       "        if (!display || display === 'none') {{\n",
       "            console.log([gd, 'removed!']);\n",
       "            Plotly.purge(gd);\n",
       "            observer.disconnect();\n",
       "        }}\n",
       "}});\n",
       "\n",
       "// Listen for the removal of the full notebook cells\n",
       "var notebookContainer = gd.closest('#notebook-container');\n",
       "if (notebookContainer) {{\n",
       "    x.observe(notebookContainer, {childList: true});\n",
       "}}\n",
       "\n",
       "// Listen for the clearing of the current output cell\n",
       "var outputEl = gd.closest('.output');\n",
       "if (outputEl) {{\n",
       "    x.observe(outputEl, {childList: true});\n",
       "}}\n",
       "\n",
       "                        })                };                });            </script>        </div>"
      ]
     },
     "metadata": {},
     "output_type": "display_data"
    },
    {
     "name": "stdout",
     "output_type": "stream",
     "text": [
      "           Parameters\n",
      "Amplitude    0.172196\n",
      "Omega        2.663335\n",
      "Phase        0.590095\n",
      "Offset       0.455440\n",
      "Frequency    0.423883\n",
      "Period       2.359142\n",
      "Max Cov.     0.252003\n",
      "0.17042800124169663\n",
      "           Parameters\n",
      "Amplitude    0.159677\n",
      "Omega        2.648282\n",
      "Phase        0.802825\n",
      "Offset       0.475667\n",
      "Frequency    0.421487\n",
      "Period       2.372551\n",
      "Max Cov.     0.296668\n",
      "0.15989669388832134\n",
      "             Parameters\n",
      "Amplitude  6.438937e+00\n",
      "Omega      3.141870e+00\n",
      "Phase     -2.133348e-02\n",
      "Offset     4.846286e-01\n",
      "Frequency  5.000442e-01\n",
      "Period     1.999823e+00\n",
      "Max Cov.   2.105244e+09\n",
      "0.1728524040083635\n",
      "             Parameters\n",
      "Amplitude  7.682830e+00\n",
      "Omega      3.141299e+00\n",
      "Phase      2.758499e-02\n",
      "Offset     5.551714e-01\n",
      "Frequency  4.999532e-01\n",
      "Period     2.000187e+00\n",
      "Max Cov.   2.815595e+09\n",
      "0.11089347793773875\n",
      "           Parameters\n",
      "Amplitude    0.180157\n",
      "Omega        2.750250\n",
      "Phase        0.008554\n",
      "Offset       0.481128\n",
      "Frequency    0.437716\n",
      "Period       2.284587\n",
      "Max Cov.     0.246357\n",
      "0.15797807509478148\n"
     ]
    },
    {
     "data": {
      "application/vnd.plotly.v1+json": {
       "config": {
        "plotlyServerURL": "https://plot.ly"
       },
       "data": [
        {
         "connectgaps": false,
         "line": {
          "color": "#008080"
         },
         "mode": "markers",
         "showlegend": false,
         "type": "scatter",
         "x": [
          0,
          1,
          2,
          3,
          4,
          5,
          6,
          7,
          8,
          9,
          10,
          11,
          12,
          13,
          14,
          15,
          16,
          17,
          18,
          19,
          20,
          21,
          22,
          23,
          24,
          25,
          26,
          27,
          28,
          29,
          30,
          31,
          32,
          33,
          34,
          35,
          36,
          37,
          38,
          39,
          40,
          41,
          42,
          43,
          44,
          45,
          46,
          47,
          48,
          49,
          50,
          51,
          52,
          53,
          54,
          55,
          56,
          57,
          58,
          59,
          60,
          61,
          62,
          63,
          64,
          65,
          66,
          67,
          68,
          69,
          70,
          71,
          72
         ],
         "xaxis": "x",
         "y": [
          0.294499999999998,
          0.815500000000001,
          0.260000000000001,
          0.7275,
          0.274499999999996,
          0.648999999999999,
          0.123000000000001,
          0.465,
          0.033,
          0.216000000000001,
          0.356499999999999,
          0.597500000000002,
          0.965500000000002,
          0.301499999999997,
          0.546999999999997,
          0.805500000000006,
          0.030000000000001,
          0.314500000000002,
          0.631999999999994,
          0.934499999999996,
          0.134499999999999,
          0.281499999999998,
          0.532499999999995,
          0.736499999999996,
          0.066000000000003,
          0.309499999999993,
          0.533500000000004,
          0.774999999999992,
          0.013500000000001,
          0.121499999999998,
          0.340499999999999,
          0.663999999999994,
          0.814999999999998,
          0.955500000000001,
          0.102499999999992,
          0.3735,
          0.548500000000004,
          0.0475,
          0.509499999999996,
          0.028500000000001,
          0.549999999999997,
          0.99649999999999,
          0.464999999999996,
          0.884999999999991,
          0.337499999999999,
          0.65999999999999,
          0.145499999999991,
          0.502999999999993,
          0.055499999999995,
          0.518000000000001,
          0.913499999999999,
          0.320499999999981,
          0.687999999999988,
          0.158000000000001,
          0.558999999999998,
          0.918499999999994,
          0.260499999999993,
          0.673500000000004,
          0.285499999999999,
          0.834999999999994,
          0.475499999999983,
          0.018000000000001,
          0.591000000000008,
          0.182999999999993,
          0.710000000000008,
          0.305999999999997,
          0.779500000000013,
          0.294499999999999,
          0.015000000000001,
          0.380499999999998,
          0.0685,
          0.517499999999984,
          0.973500000000001
         ],
         "yaxis": "y"
        },
        {
         "connectgaps": false,
         "line": {
          "color": "#0000FF"
         },
         "showlegend": false,
         "type": "scatter",
         "x": [
          0,
          1,
          2,
          3,
          4,
          5,
          6,
          7,
          8,
          9,
          10,
          11,
          12,
          13,
          14,
          15,
          16,
          17,
          18,
          19,
          20,
          21,
          22,
          23,
          24,
          25,
          26,
          27,
          28,
          29,
          30,
          31,
          32,
          33,
          34,
          35,
          36,
          37,
          38,
          39,
          40,
          41,
          42,
          43,
          44,
          45,
          46,
          47,
          48,
          49,
          50,
          51,
          52,
          53,
          54,
          55,
          56,
          57,
          58,
          59,
          60,
          61,
          62,
          63,
          64,
          65,
          66,
          67,
          68,
          69,
          70,
          71,
          72
         ],
         "xaxis": "x",
         "y": [
          0.5512561597239141,
          0.4362219225420739,
          0.39374608237241565,
          0.5842002537453783,
          0.28850641877735106,
          0.6230850539347139,
          0.3247023845997333,
          0.5199308396642358,
          0.4716666345786575,
          0.3621359116084895,
          0.6048824361801701,
          0.28339338802412223,
          0.6114815487287991,
          0.3504185534079356,
          0.4858728170130088,
          0.5064237563934433,
          0.33447932592063306,
          0.6192322387769533,
          0.28557052084695844,
          0.5932660376829832,
          0.380584810117732,
          0.4505252416841236,
          0.5390205149523727,
          0.3119482253825134,
          0.6266416134234221,
          0.2949455650009776,
          0.5692103716315445,
          0.4139229116784628,
          0.41538590615997634,
          0.5680756788848143,
          0.295497326482945,
          0.6267966006600814,
          0.31112126917472993,
          0.5403338678949987,
          0.44902021358961075,
          0.3819437791207264,
          0.5923580857784155,
          0.28582370766284204,
          0.6196906331703401,
          0.3334122158287248,
          0.5078601184683219,
          0.48438952827280013,
          0.3516159129669596,
          0.6108388105609106,
          0.2833372718196877,
          0.6056248140592121,
          0.36087386458040016,
          0.47316514242252333,
          0.5185321420780283,
          0.3256873986705336,
          0.6227347644237811,
          0.28814337737988543,
          0.5851951581290504,
          0.39234257547222656,
          0.4377190794719883,
          0.5500013206872855,
          0.3052569122631523,
          0.6275418768586261,
          0.300038373917326,
          0.5592673367812344,
          0.4264849162060705,
          0.40302389534205396,
          0.5774636119837151,
          0.2911901603362289,
          0.6250564547747616,
          0.3185182314886228,
          0.5289399966849624,
          0.4618541640348484,
          0.3705497385643119,
          0.5997553487830651,
          0.2840831972185769,
          0.6153838136422913,
          0.34279989803183203
         ],
         "yaxis": "y"
        },
        {
         "connectgaps": false,
         "line": {
          "color": "#008080"
         },
         "mode": "markers",
         "showlegend": false,
         "type": "scatter",
         "x": [
          0,
          1,
          2,
          3,
          4,
          5,
          6,
          7,
          8,
          9,
          10,
          11,
          12,
          13,
          14,
          15,
          16,
          17,
          18,
          19,
          20,
          21,
          22,
          23,
          24,
          25,
          26,
          27,
          28,
          29,
          30,
          31,
          32,
          33,
          34,
          35,
          36,
          37,
          38,
          39,
          40,
          41,
          42,
          43,
          44,
          45,
          46,
          47,
          48,
          49,
          50,
          51,
          52,
          53,
          54,
          55,
          56,
          57,
          58,
          59,
          60,
          61,
          62,
          63,
          64,
          65,
          66,
          67,
          68,
          69,
          70
         ],
         "xaxis": "x2",
         "y": [
          0.274000000000001,
          0.736500000000003,
          0.194499999999998,
          0.673499999999997,
          0.170500000000003,
          0.688999999999999,
          0.189499999999997,
          0.844999999999997,
          0.375999999999999,
          0.049499999999998,
          0.539000000000005,
          0.205500000000001,
          0.810000000000002,
          0.320499999999999,
          0.843999999999991,
          0.339499999999998,
          0.058500000000006,
          0.732500000000002,
          0.25,
          0.733000000000001,
          0.026999999999994,
          0.6205,
          0.986999999999995,
          0.441499999999991,
          0.863999999999997,
          0.307000000000002,
          0.651000000000003,
          0.030500000000004,
          0.3155,
          0.613999999999997,
          0.847499999999997,
          0.161999999999999,
          0.392499999999998,
          0.658499999999997,
          0.996499999999998,
          0.319499999999998,
          0.744999999999997,
          0.055,
          0.372999999999998,
          0.791499999999999,
          0.110499999999995,
          0.403500000000001,
          0.820000000000007,
          0.222999999999985,
          0.672999999999981,
          0.968999999999994,
          0.372499999999988,
          0.730499999999992,
          0.157499999999985,
          0.454499999999996,
          0.772000000000006,
          0.104500000000002,
          0.375,
          0.638999999999996,
          0.114500000000007,
          0.702500000000001,
          0.158500000000004,
          0.590499999999977,
          0.182500000000005,
          0.659500000000008,
          0.140000000000001,
          0.463999999999984,
          0.871499999999998,
          0.18249999999999,
          0.55149999999999,
          0.813499999999991,
          0.260999999999996,
          0.644999999999996,
          0.117499999999993,
          0.436999999999998,
          0.87299999999999
         ],
         "yaxis": "y2"
        },
        {
         "connectgaps": false,
         "line": {
          "color": "#0000FF"
         },
         "showlegend": false,
         "type": "scatter",
         "x": [
          0,
          1,
          2,
          3,
          4,
          5,
          6,
          7,
          8,
          9,
          10,
          11,
          12,
          13,
          14,
          15,
          16,
          17,
          18,
          19,
          20,
          21,
          22,
          23,
          24,
          25,
          26,
          27,
          28,
          29,
          30,
          31,
          32,
          33,
          34,
          35,
          36,
          37,
          38,
          39,
          40,
          41,
          42,
          43,
          44,
          45,
          46,
          47,
          48,
          49,
          50,
          51,
          52,
          53,
          54,
          55,
          56,
          57,
          58,
          59,
          60,
          61,
          62,
          63,
          64,
          65,
          66,
          67,
          68,
          69,
          70
         ],
         "xaxis": "x2",
         "y": [
          0.5905258231784039,
          0.4270301596598611,
          0.4464840688376844,
          0.5757108917139055,
          0.3286187552070977,
          0.6346546331342342,
          0.34265230612450626,
          0.5509902293709966,
          0.47599695533078334,
          0.39976268970081263,
          0.6090456777762903,
          0.3166195727860912,
          0.6224568877799646,
          0.3761383058180846,
          0.504201044296075,
          0.5249319802477443,
          0.36035086728778665,
          0.6295361574892722,
          0.3199365940180071,
          0.5961233422356017,
          0.4192088803931756,
          0.45466404665061144,
          0.5691228122462312,
          0.3320439433972098,
          0.6352091063388177,
          0.33825039116371736,
          0.5581899057788874,
          0.46771635176827525,
          0.4071496283177989,
          0.6043138929295463,
          0.31756786280539523,
          0.6255182217544855,
          0.3697973533181017,
          0.5123095522672622,
          0.516989471003784,
          0.3662334076500491,
          0.6271163361392245,
          0.3183166659394586,
          0.6013967318154774,
          0.41153952139292743,
          0.4629005403032454,
          0.5622832575955724,
          0.3358555993604426,
          0.6353342762561373,
          0.33421824337487616,
          0.5651675257820433,
          0.45945714228978596,
          0.4147209368031418,
          0.5992359390869562,
          0.3189415735154312,
          0.6281763291291728,
          0.36374127994251193,
          0.5203194608439874,
          0.5089357694201958,
          0.3724104171691141,
          0.6242889879080898,
          0.31712014363699664,
          0.6063318020336563,
          0.404042719730545,
          0.4711713866515974,
          0.5552106319568352,
          0.3400434665138935,
          0.6350298060730999,
          0.330566712650647,
          0.5719043136728157,
          0.45124155116411985,
          0.422456241924338,
          0.593825480245234,
          0.320737008470896,
          0.630424057343847,
          0.35798638165801433
         ],
         "yaxis": "y2"
        },
        {
         "connectgaps": false,
         "line": {
          "color": "#008080"
         },
         "mode": "markers",
         "showlegend": false,
         "type": "scatter",
         "x": [
          0,
          1,
          2,
          3,
          4,
          5,
          6,
          7,
          8,
          9,
          10,
          11,
          12,
          13,
          14,
          15,
          16,
          17,
          18,
          19,
          20,
          21,
          22,
          23,
          24,
          25,
          26,
          27,
          28,
          29,
          30,
          31,
          32,
          33,
          34,
          35,
          36,
          37,
          38,
          39,
          40,
          41,
          42,
          43,
          44,
          45,
          46,
          47,
          48,
          49,
          50,
          51,
          52,
          53,
          54,
          55,
          56,
          57,
          58,
          59,
          60,
          61,
          62,
          63,
          64,
          65,
          66,
          67
         ],
         "xaxis": "x3",
         "y": [
          0.233000000000003,
          0.818,
          0.371999999999997,
          0.813499999999999,
          0.187,
          0.66,
          0.048499999999997,
          0.531999999999998,
          0.987499999999999,
          0.5785,
          0.139499999999995,
          0.592000000000002,
          0.071000000000002,
          0.625000000000004,
          0.037499999999998,
          0.312999999999999,
          0.689,
          0.153500000000005,
          0.596499999999999,
          0.043999999999993,
          0.491999999999994,
          0.964499999999998,
          0.430500000000002,
          0.903500000000001,
          0.376999999999995,
          0.861499999999992,
          0.427499999999995,
          0.965999999999994,
          0.298000000000002,
          0.756999999999991,
          0.233499999999999,
          0.549,
          0,
          0.508000000000003,
          0.282999999999994,
          0.689499999999995,
          0.073999999999991,
          0.493999999999993,
          0.881000000000007,
          0.427000000000007,
          0.824000000000005,
          0.291499999999992,
          0.817499999999988,
          0.276000000000003,
          0.722999999999985,
          0.096499999999992,
          0.666499999999999,
          0.252499999999998,
          0.61699999999999,
          0.012000000000001,
          0.378499999999988,
          0.816999999999993,
          0.294499999999999,
          0.775499999999994,
          0.214999999999989,
          0.668999999999997,
          0.376000000000005,
          0.010499999999993,
          0.43549999999999,
          0.841000000000008,
          0.399999999999991,
          0.084499999999991,
          0.490499999999983,
          0.923500000000004,
          0.467499999999987,
          0.824999999999989,
          0.24799999999999,
          0.958500000000001
         ],
         "yaxis": "y3"
        },
        {
         "connectgaps": false,
         "line": {
          "color": "#0000FF"
         },
         "showlegend": false,
         "type": "scatter",
         "x": [
          0,
          1,
          2,
          3,
          4,
          5,
          6,
          7,
          8,
          9,
          10,
          11,
          12,
          13,
          14,
          15,
          16,
          17,
          18,
          19,
          20,
          21,
          22,
          23,
          24,
          25,
          26,
          27,
          28,
          29,
          30,
          31,
          32,
          33,
          34,
          35,
          36,
          37,
          38,
          39,
          40,
          41,
          42,
          43,
          44,
          45,
          46,
          47,
          48,
          49,
          50,
          51,
          52,
          53,
          54,
          55,
          56,
          57,
          58,
          59,
          60,
          61,
          62,
          63,
          64,
          65,
          66,
          67
         ],
         "xaxis": "x3",
         "y": [
          0.3472740677045854,
          0.620196856772972,
          0.35084649990620226,
          0.6166244038341664,
          0.35441897330714867,
          0.6130519102461254,
          0.35799148680725656,
          0.6094793771090087,
          0.36156403930632264,
          0.6059068055230312,
          0.36513662970416044,
          0.6023341965883626,
          0.3687092569005831,
          0.5987615514052641,
          0.37228191979532377,
          0.5951888710739393,
          0.3758546172881733,
          0.5916161566946256,
          0.3794273482788892,
          0.5880434093675709,
          0.3830001116672182,
          0.5844706301929875,
          0.3865729063529433,
          0.5808978202712347,
          0.39014573123570023,
          0.5773249807025441,
          0.39371858521525294,
          0.573752112587202,
          0.3972914671913105,
          0.5701792170255039,
          0.4008643760635734,
          0.5666062951177532,
          0.40443731073173395,
          0.5630333479642617,
          0.4080102700954763,
          0.5594603766653492,
          0.4115832530544773,
          0.5558873823213425,
          0.4151562585084062,
          0.5523143660325758,
          0.41872928535692555,
          0.5487413288992983,
          0.4223023324998742,
          0.5451682720220404,
          0.42587539883653586,
          0.5415951965010641,
          0.42944848326673724,
          0.5380221034367282,
          0.4330215846901165,
          0.5344489939293974,
          0.43659470200630646,
          0.5308758690794412,
          0.4401678341149353,
          0.5273027299872338,
          0.44374097991562644,
          0.5237295777531541,
          0.44731413830799915,
          0.5201564134775846,
          0.45088730819166883,
          0.5165832382609118,
          0.45446048846624726,
          0.5130100532035256,
          0.4580336780313431,
          0.5094368594058187,
          0.4616068757865622,
          0.5058636579680036,
          0.46518008063150773,
          0.5022904499908444
         ],
         "yaxis": "y3"
        },
        {
         "connectgaps": false,
         "line": {
          "color": "#008080"
         },
         "mode": "markers",
         "showlegend": false,
         "type": "scatter",
         "x": [
          0,
          1,
          2,
          3,
          4,
          5,
          6,
          7,
          8,
          9,
          10,
          11,
          12,
          13,
          14,
          15,
          16,
          17,
          18,
          19,
          20,
          21,
          22,
          23,
          24,
          25,
          26,
          27,
          28,
          29,
          30,
          31,
          32,
          33,
          34,
          35,
          36,
          37,
          38,
          39,
          40,
          41,
          42,
          43,
          44,
          45,
          46,
          47,
          48,
          49,
          50,
          51,
          52,
          53,
          54,
          55,
          56,
          57,
          58,
          59,
          60,
          61,
          62,
          63,
          64,
          65,
          66,
          67,
          68,
          69
         ],
         "xaxis": "x4",
         "y": [
          0.791999999999997,
          0.206000000000001,
          0.6625,
          0.334499999999998,
          0.892,
          0.381999999999996,
          0.816500000000001,
          0.288499999999999,
          0.755000000000001,
          0.1975,
          0.69,
          0.281499999999994,
          0.751999999999995,
          0.233999999999995,
          0.737999999999999,
          0.341000000000001,
          0.944499999999994,
          0.474999999999998,
          0.958500000000004,
          0.346999999999994,
          0.844499999999993,
          0.477999999999994,
          0.952499999999993,
          0.351499999999994,
          0.803999999999995,
          0.156000000000006,
          0.557000000000002,
          0.933999999999998,
          0.41899999999999,
          0.703000000000003,
          0.293999999999997,
          0.751499999999993,
          0.108999999999988,
          0.607499999999995,
          0.043500000000002,
          0.424499999999995,
          0.913999999999994,
          0.283499999999997,
          0.530000000000001,
          0.754500000000007,
          0.904999999999994,
          0.110499999999988,
          0.472999999999985,
          0.553999999999988,
          0.963999999999984,
          0.233999999999995,
          0.92049999999999,
          0.342500000000001,
          0.773499999999999,
          0.213999999999984,
          0.772999999999996,
          0.141499999999994,
          0.302999999999997,
          0.572999999999979,
          0.912999999999982,
          0.333999999999989,
          0.708999999999989,
          0.118500000000012,
          0.522999999999982,
          0.98899999999999,
          0.442000000000007,
          0.665999999999997,
          0.975499999999997,
          0.311499999999995,
          0.573999999999998,
          0.731499999999997,
          0.991499999999988,
          0.182000000000002,
          0.453499999999991,
          0.745999999999995
         ],
         "yaxis": "y4"
        },
        {
         "connectgaps": false,
         "line": {
          "color": "#0000FF"
         },
         "showlegend": false,
         "type": "scatter",
         "x": [
          0,
          1,
          2,
          3,
          4,
          5,
          6,
          7,
          8,
          9,
          10,
          11,
          12,
          13,
          14,
          15,
          16,
          17,
          18,
          19,
          20,
          21,
          22,
          23,
          24,
          25,
          26,
          27,
          28,
          29,
          30,
          31,
          32,
          33,
          34,
          35,
          36,
          37,
          38,
          39,
          40,
          41,
          42,
          43,
          44,
          45,
          46,
          47,
          48,
          49,
          50,
          51,
          52,
          53,
          54,
          55,
          56,
          57,
          58,
          59,
          60,
          61,
          62,
          63,
          64,
          65,
          66,
          67,
          68,
          69
         ],
         "xaxis": "x4",
         "y": [
          0.76707529615003,
          0.3455241478434531,
          0.7625620320977727,
          0.35003744790197544,
          0.7580486964226612,
          0.35455081880399986,
          0.7535352906833793,
          0.35906425899084665,
          0.7490218164386633,
          0.36357776690376087,
          0.7445082752472386,
          0.3680913409840326,
          0.7399946686678406,
          0.37260497967283346,
          0.7354809982593087,
          0.3771186814113947,
          0.7309672655804226,
          0.3816324446408984,
          0.7264534721900109,
          0.38614626780250555,
          0.7219396196469232,
          0.39066014933735627,
          0.7174257095100295,
          0.3951740876865707,
          0.7129117433382194,
          0.3996880812912491,
          0.7083977226904022,
          0.404202128592473,
          0.7038836491255059,
          0.40871622803130514,
          0.6993695242024768,
          0.41323037804879026,
          0.6948553494802788,
          0.41774457708595575,
          0.6903411265178933,
          0.42225882358381195,
          0.6858268568743179,
          0.4267731159833529,
          0.6813125421085668,
          0.4312874527255568,
          0.6767981837796695,
          0.43580183225149555,
          0.6722837834464522,
          0.44031625300189897,
          0.6677693426684109,
          0.44483071341781,
          0.6632548630044002,
          0.4493452119401488,
          0.6587403460135065,
          0.45385974700982235,
          0.6542257932548294,
          0.458374317067725,
          0.6497112062874807,
          0.46288892055473896,
          0.6451965866705839,
          0.467403555911735,
          0.6406819359632737,
          0.47191822157957286,
          0.6361672557246959,
          0.47643291599910165,
          0.6316525475140062,
          0.4809476376111609,
          0.6271378128903701,
          0.48546238485658033,
          0.6226230534129621,
          0.4899771561763994,
          0.6181082706409653,
          0.49449195001099433,
          0.613593466133571,
          0.4990067648013883
         ],
         "yaxis": "y4"
        },
        {
         "connectgaps": false,
         "line": {
          "color": "#008080"
         },
         "mode": "markers",
         "showlegend": false,
         "type": "scatter",
         "x": [
          0,
          1,
          2,
          3,
          4,
          5,
          6,
          7,
          8,
          9,
          10,
          11,
          12,
          13,
          14,
          15,
          16,
          17,
          18,
          19,
          20,
          21,
          22,
          23,
          24,
          25,
          26,
          27,
          28,
          29,
          30,
          31,
          32,
          33,
          34,
          35,
          36,
          37,
          38,
          39,
          40,
          41,
          42,
          43,
          44,
          45,
          46,
          47,
          48,
          49,
          50,
          51,
          52,
          53,
          54,
          55,
          56,
          57,
          58,
          59,
          60,
          61,
          62,
          63,
          64,
          65,
          66,
          67,
          68,
          69,
          70
         ],
         "xaxis": "x5",
         "y": [
          0.671999999999997,
          0.127500000000002,
          0.472,
          0.916999999999998,
          0.233499999999998,
          0.656000000000001,
          0.092500000000001,
          0.403000000000002,
          0.887500000000001,
          0.247,
          0.647499999999999,
          0.076000000000004,
          0.344999999999995,
          0.651,
          0.973999999999997,
          0.3565,
          0.771000000000008,
          0.013999999999996,
          0.1525,
          0.387,
          0.779499999999995,
          0.101000000000006,
          0.442,
          0.788500000000006,
          0.125,
          0.501999999999995,
          0.916000000000004,
          0.146999999999991,
          0.453999999999993,
          0.871499999999998,
          0.325499999999998,
          0.748500000000007,
          0.134999999999998,
          0.691999999999993,
          0.042499999999997,
          0.549499999999995,
          0.103500000000004,
          0.515999999999998,
          0.073,
          0.427500000000002,
          0.776499999999999,
          0.463499999999996,
          0.952999999999989,
          0.382499999999993,
          0.830499999999994,
          0.380499999999991,
          0.767499999999984,
          0.192499999999981,
          0.597499999999997,
          0.912499999999994,
          0.299999999999983,
          0.626499999999993,
          0.155499999999989,
          0.672499999999999,
          0.117000000000004,
          0.551500000000004,
          0.000999999999991,
          0.470499999999987,
          0.044500000000014,
          0.512,
          0.929500000000004,
          0.376999999999995,
          0.952000000000012,
          0.281999999999996,
          0.512999999999991,
          0.983999999999995,
          0.396000000000001,
          0.930499999999981,
          0.346499999999978,
          0.695000000000007,
          0.184999999999988
         ],
         "yaxis": "y5"
        },
        {
         "line": {
          "color": "#0000FF"
         },
         "showlegend": false,
         "type": "scatter",
         "x": [
          0,
          1,
          2,
          3,
          4,
          5,
          6,
          7,
          8,
          9,
          10,
          11,
          12,
          13,
          14,
          15,
          16,
          17,
          18,
          19,
          20,
          21,
          22,
          23,
          24,
          25,
          26,
          27,
          28,
          29,
          30,
          31,
          32,
          33,
          34,
          35,
          36,
          37,
          38,
          39,
          40,
          41,
          42,
          43,
          44,
          45,
          46,
          47,
          48,
          49,
          50,
          51,
          52,
          53,
          54,
          55,
          56,
          57,
          58,
          59,
          60,
          61,
          62,
          63,
          64,
          65,
          66,
          67,
          68,
          69,
          70
         ],
         "xaxis": "x5",
         "y": [
          0.48266863712801555,
          0.5484179458004989,
          0.3551803179953024,
          0.6466878174709303,
          0.30098776529753113,
          0.6486088797407644,
          0.35162866719845765,
          0.5530631586487623,
          0.4776322404819875,
          0.4156540721402957,
          0.6056699334576907,
          0.31634768022620263,
          0.6612294260140907,
          0.3129359462841969,
          0.6119775309593551,
          0.40740434979077983,
          0.48657669046285223,
          0.5447764243718001,
          0.35800469217572883,
          0.6451076493344254,
          0.30108479845995456,
          0.6500096534276181,
          0.3489418902993341,
          0.5566296853272109,
          0.4737252398037847,
          0.41931078975221037,
          0.602816411989303,
          0.3179665395469858,
          0.66109000806197,
          0.31157484221087195,
          0.6146333516551676,
          0.40385538518040026,
          0.49048217867636346,
          0.5411049409293518,
          0.3608870251061409,
          0.6434502893500785,
          0.30126658479391827,
          0.6513309277014625,
          0.34631733836571343,
          0.5601606701980997,
          0.4698217236850245,
          0.4229966069347414,
          0.5999056068135769,
          0.3196622051431053,
          0.6608658747402784,
          0.3102935532349619,
          0.6172263259476791,
          0.40034279560442365,
          0.49438326330239646,
          0.5374052237841028,
          0.3638259599596213,
          0.6417165177020987,
          0.3015330387254801,
          0.6525720805867846,
          0.3437562468769103,
          0.563654451088654,
          0.46592352966352,
          0.42670978862949244,
          0.5969388881604258,
          0.3214338787984036,
          0.660557131557342,
          0.3090926825093318,
          0.6197552332224125,
          0.3968682345762312,
          0.4982781079477613,
          0.5336790145376898,
          0.36682011326452874,
          0.6399071505446465,
          0.30188403482434756,
          0.6537325278243534,
          0.3412598214389079
         ],
         "yaxis": "y5"
        }
       ],
       "layout": {
        "annotations": [
         {
          "font": {
           "size": 16
          },
          "showarrow": false,
          "text": "Phase",
          "x": 0.5,
          "xanchor": "center",
          "xref": "paper",
          "y": 0,
          "yanchor": "top",
          "yref": "paper",
          "yshift": -30
         },
         {
          "font": {
           "size": 16
          },
          "showarrow": false,
          "text": "Count",
          "textangle": -90,
          "x": 0,
          "xanchor": "right",
          "xref": "paper",
          "xshift": -40,
          "y": 0.5,
          "yanchor": "middle",
          "yref": "paper"
         }
        ],
        "template": {
         "data": {
          "bar": [
           {
            "error_x": {
             "color": "#2a3f5f"
            },
            "error_y": {
             "color": "#2a3f5f"
            },
            "marker": {
             "line": {
              "color": "#E5ECF6",
              "width": 0.5
             },
             "pattern": {
              "fillmode": "overlay",
              "size": 10,
              "solidity": 0.2
             }
            },
            "type": "bar"
           }
          ],
          "barpolar": [
           {
            "marker": {
             "line": {
              "color": "#E5ECF6",
              "width": 0.5
             },
             "pattern": {
              "fillmode": "overlay",
              "size": 10,
              "solidity": 0.2
             }
            },
            "type": "barpolar"
           }
          ],
          "carpet": [
           {
            "aaxis": {
             "endlinecolor": "#2a3f5f",
             "gridcolor": "white",
             "linecolor": "white",
             "minorgridcolor": "white",
             "startlinecolor": "#2a3f5f"
            },
            "baxis": {
             "endlinecolor": "#2a3f5f",
             "gridcolor": "white",
             "linecolor": "white",
             "minorgridcolor": "white",
             "startlinecolor": "#2a3f5f"
            },
            "type": "carpet"
           }
          ],
          "choropleth": [
           {
            "colorbar": {
             "outlinewidth": 0,
             "ticks": ""
            },
            "type": "choropleth"
           }
          ],
          "contour": [
           {
            "colorbar": {
             "outlinewidth": 0,
             "ticks": ""
            },
            "colorscale": [
             [
              0,
              "#0d0887"
             ],
             [
              0.1111111111111111,
              "#46039f"
             ],
             [
              0.2222222222222222,
              "#7201a8"
             ],
             [
              0.3333333333333333,
              "#9c179e"
             ],
             [
              0.4444444444444444,
              "#bd3786"
             ],
             [
              0.5555555555555556,
              "#d8576b"
             ],
             [
              0.6666666666666666,
              "#ed7953"
             ],
             [
              0.7777777777777778,
              "#fb9f3a"
             ],
             [
              0.8888888888888888,
              "#fdca26"
             ],
             [
              1,
              "#f0f921"
             ]
            ],
            "type": "contour"
           }
          ],
          "contourcarpet": [
           {
            "colorbar": {
             "outlinewidth": 0,
             "ticks": ""
            },
            "type": "contourcarpet"
           }
          ],
          "heatmap": [
           {
            "colorbar": {
             "outlinewidth": 0,
             "ticks": ""
            },
            "colorscale": [
             [
              0,
              "#0d0887"
             ],
             [
              0.1111111111111111,
              "#46039f"
             ],
             [
              0.2222222222222222,
              "#7201a8"
             ],
             [
              0.3333333333333333,
              "#9c179e"
             ],
             [
              0.4444444444444444,
              "#bd3786"
             ],
             [
              0.5555555555555556,
              "#d8576b"
             ],
             [
              0.6666666666666666,
              "#ed7953"
             ],
             [
              0.7777777777777778,
              "#fb9f3a"
             ],
             [
              0.8888888888888888,
              "#fdca26"
             ],
             [
              1,
              "#f0f921"
             ]
            ],
            "type": "heatmap"
           }
          ],
          "heatmapgl": [
           {
            "colorbar": {
             "outlinewidth": 0,
             "ticks": ""
            },
            "colorscale": [
             [
              0,
              "#0d0887"
             ],
             [
              0.1111111111111111,
              "#46039f"
             ],
             [
              0.2222222222222222,
              "#7201a8"
             ],
             [
              0.3333333333333333,
              "#9c179e"
             ],
             [
              0.4444444444444444,
              "#bd3786"
             ],
             [
              0.5555555555555556,
              "#d8576b"
             ],
             [
              0.6666666666666666,
              "#ed7953"
             ],
             [
              0.7777777777777778,
              "#fb9f3a"
             ],
             [
              0.8888888888888888,
              "#fdca26"
             ],
             [
              1,
              "#f0f921"
             ]
            ],
            "type": "heatmapgl"
           }
          ],
          "histogram": [
           {
            "marker": {
             "pattern": {
              "fillmode": "overlay",
              "size": 10,
              "solidity": 0.2
             }
            },
            "type": "histogram"
           }
          ],
          "histogram2d": [
           {
            "colorbar": {
             "outlinewidth": 0,
             "ticks": ""
            },
            "colorscale": [
             [
              0,
              "#0d0887"
             ],
             [
              0.1111111111111111,
              "#46039f"
             ],
             [
              0.2222222222222222,
              "#7201a8"
             ],
             [
              0.3333333333333333,
              "#9c179e"
             ],
             [
              0.4444444444444444,
              "#bd3786"
             ],
             [
              0.5555555555555556,
              "#d8576b"
             ],
             [
              0.6666666666666666,
              "#ed7953"
             ],
             [
              0.7777777777777778,
              "#fb9f3a"
             ],
             [
              0.8888888888888888,
              "#fdca26"
             ],
             [
              1,
              "#f0f921"
             ]
            ],
            "type": "histogram2d"
           }
          ],
          "histogram2dcontour": [
           {
            "colorbar": {
             "outlinewidth": 0,
             "ticks": ""
            },
            "colorscale": [
             [
              0,
              "#0d0887"
             ],
             [
              0.1111111111111111,
              "#46039f"
             ],
             [
              0.2222222222222222,
              "#7201a8"
             ],
             [
              0.3333333333333333,
              "#9c179e"
             ],
             [
              0.4444444444444444,
              "#bd3786"
             ],
             [
              0.5555555555555556,
              "#d8576b"
             ],
             [
              0.6666666666666666,
              "#ed7953"
             ],
             [
              0.7777777777777778,
              "#fb9f3a"
             ],
             [
              0.8888888888888888,
              "#fdca26"
             ],
             [
              1,
              "#f0f921"
             ]
            ],
            "type": "histogram2dcontour"
           }
          ],
          "mesh3d": [
           {
            "colorbar": {
             "outlinewidth": 0,
             "ticks": ""
            },
            "type": "mesh3d"
           }
          ],
          "parcoords": [
           {
            "line": {
             "colorbar": {
              "outlinewidth": 0,
              "ticks": ""
             }
            },
            "type": "parcoords"
           }
          ],
          "pie": [
           {
            "automargin": true,
            "type": "pie"
           }
          ],
          "scatter": [
           {
            "marker": {
             "colorbar": {
              "outlinewidth": 0,
              "ticks": ""
             }
            },
            "type": "scatter"
           }
          ],
          "scatter3d": [
           {
            "line": {
             "colorbar": {
              "outlinewidth": 0,
              "ticks": ""
             }
            },
            "marker": {
             "colorbar": {
              "outlinewidth": 0,
              "ticks": ""
             }
            },
            "type": "scatter3d"
           }
          ],
          "scattercarpet": [
           {
            "marker": {
             "colorbar": {
              "outlinewidth": 0,
              "ticks": ""
             }
            },
            "type": "scattercarpet"
           }
          ],
          "scattergeo": [
           {
            "marker": {
             "colorbar": {
              "outlinewidth": 0,
              "ticks": ""
             }
            },
            "type": "scattergeo"
           }
          ],
          "scattergl": [
           {
            "marker": {
             "colorbar": {
              "outlinewidth": 0,
              "ticks": ""
             }
            },
            "type": "scattergl"
           }
          ],
          "scattermapbox": [
           {
            "marker": {
             "colorbar": {
              "outlinewidth": 0,
              "ticks": ""
             }
            },
            "type": "scattermapbox"
           }
          ],
          "scatterpolar": [
           {
            "marker": {
             "colorbar": {
              "outlinewidth": 0,
              "ticks": ""
             }
            },
            "type": "scatterpolar"
           }
          ],
          "scatterpolargl": [
           {
            "marker": {
             "colorbar": {
              "outlinewidth": 0,
              "ticks": ""
             }
            },
            "type": "scatterpolargl"
           }
          ],
          "scatterternary": [
           {
            "marker": {
             "colorbar": {
              "outlinewidth": 0,
              "ticks": ""
             }
            },
            "type": "scatterternary"
           }
          ],
          "surface": [
           {
            "colorbar": {
             "outlinewidth": 0,
             "ticks": ""
            },
            "colorscale": [
             [
              0,
              "#0d0887"
             ],
             [
              0.1111111111111111,
              "#46039f"
             ],
             [
              0.2222222222222222,
              "#7201a8"
             ],
             [
              0.3333333333333333,
              "#9c179e"
             ],
             [
              0.4444444444444444,
              "#bd3786"
             ],
             [
              0.5555555555555556,
              "#d8576b"
             ],
             [
              0.6666666666666666,
              "#ed7953"
             ],
             [
              0.7777777777777778,
              "#fb9f3a"
             ],
             [
              0.8888888888888888,
              "#fdca26"
             ],
             [
              1,
              "#f0f921"
             ]
            ],
            "type": "surface"
           }
          ],
          "table": [
           {
            "cells": {
             "fill": {
              "color": "#EBF0F8"
             },
             "line": {
              "color": "white"
             }
            },
            "header": {
             "fill": {
              "color": "#C8D4E3"
             },
             "line": {
              "color": "white"
             }
            },
            "type": "table"
           }
          ]
         },
         "layout": {
          "annotationdefaults": {
           "arrowcolor": "#2a3f5f",
           "arrowhead": 0,
           "arrowwidth": 1
          },
          "autotypenumbers": "strict",
          "coloraxis": {
           "colorbar": {
            "outlinewidth": 0,
            "ticks": ""
           }
          },
          "colorscale": {
           "diverging": [
            [
             0,
             "#8e0152"
            ],
            [
             0.1,
             "#c51b7d"
            ],
            [
             0.2,
             "#de77ae"
            ],
            [
             0.3,
             "#f1b6da"
            ],
            [
             0.4,
             "#fde0ef"
            ],
            [
             0.5,
             "#f7f7f7"
            ],
            [
             0.6,
             "#e6f5d0"
            ],
            [
             0.7,
             "#b8e186"
            ],
            [
             0.8,
             "#7fbc41"
            ],
            [
             0.9,
             "#4d9221"
            ],
            [
             1,
             "#276419"
            ]
           ],
           "sequential": [
            [
             0,
             "#0d0887"
            ],
            [
             0.1111111111111111,
             "#46039f"
            ],
            [
             0.2222222222222222,
             "#7201a8"
            ],
            [
             0.3333333333333333,
             "#9c179e"
            ],
            [
             0.4444444444444444,
             "#bd3786"
            ],
            [
             0.5555555555555556,
             "#d8576b"
            ],
            [
             0.6666666666666666,
             "#ed7953"
            ],
            [
             0.7777777777777778,
             "#fb9f3a"
            ],
            [
             0.8888888888888888,
             "#fdca26"
            ],
            [
             1,
             "#f0f921"
            ]
           ],
           "sequentialminus": [
            [
             0,
             "#0d0887"
            ],
            [
             0.1111111111111111,
             "#46039f"
            ],
            [
             0.2222222222222222,
             "#7201a8"
            ],
            [
             0.3333333333333333,
             "#9c179e"
            ],
            [
             0.4444444444444444,
             "#bd3786"
            ],
            [
             0.5555555555555556,
             "#d8576b"
            ],
            [
             0.6666666666666666,
             "#ed7953"
            ],
            [
             0.7777777777777778,
             "#fb9f3a"
            ],
            [
             0.8888888888888888,
             "#fdca26"
            ],
            [
             1,
             "#f0f921"
            ]
           ]
          },
          "colorway": [
           "#636efa",
           "#EF553B",
           "#00cc96",
           "#ab63fa",
           "#FFA15A",
           "#19d3f3",
           "#FF6692",
           "#B6E880",
           "#FF97FF",
           "#FECB52"
          ],
          "font": {
           "color": "#2a3f5f"
          },
          "geo": {
           "bgcolor": "white",
           "lakecolor": "white",
           "landcolor": "#E5ECF6",
           "showlakes": true,
           "showland": true,
           "subunitcolor": "white"
          },
          "hoverlabel": {
           "align": "left"
          },
          "hovermode": "closest",
          "mapbox": {
           "style": "light"
          },
          "paper_bgcolor": "white",
          "plot_bgcolor": "#E5ECF6",
          "polar": {
           "angularaxis": {
            "gridcolor": "white",
            "linecolor": "white",
            "ticks": ""
           },
           "bgcolor": "#E5ECF6",
           "radialaxis": {
            "gridcolor": "white",
            "linecolor": "white",
            "ticks": ""
           }
          },
          "scene": {
           "xaxis": {
            "backgroundcolor": "#E5ECF6",
            "gridcolor": "white",
            "gridwidth": 2,
            "linecolor": "white",
            "showbackground": true,
            "ticks": "",
            "zerolinecolor": "white"
           },
           "yaxis": {
            "backgroundcolor": "#E5ECF6",
            "gridcolor": "white",
            "gridwidth": 2,
            "linecolor": "white",
            "showbackground": true,
            "ticks": "",
            "zerolinecolor": "white"
           },
           "zaxis": {
            "backgroundcolor": "#E5ECF6",
            "gridcolor": "white",
            "gridwidth": 2,
            "linecolor": "white",
            "showbackground": true,
            "ticks": "",
            "zerolinecolor": "white"
           }
          },
          "shapedefaults": {
           "line": {
            "color": "#2a3f5f"
           }
          },
          "ternary": {
           "aaxis": {
            "gridcolor": "white",
            "linecolor": "white",
            "ticks": ""
           },
           "baxis": {
            "gridcolor": "white",
            "linecolor": "white",
            "ticks": ""
           },
           "bgcolor": "#E5ECF6",
           "caxis": {
            "gridcolor": "white",
            "linecolor": "white",
            "ticks": ""
           }
          },
          "title": {
           "x": 0.05
          },
          "xaxis": {
           "automargin": true,
           "gridcolor": "white",
           "linecolor": "white",
           "ticks": "",
           "title": {
            "standoff": 15
           },
           "zerolinecolor": "white",
           "zerolinewidth": 2
          },
          "yaxis": {
           "automargin": true,
           "gridcolor": "white",
           "linecolor": "white",
           "ticks": "",
           "title": {
            "standoff": 15
           },
           "zerolinecolor": "white",
           "zerolinewidth": 2
          }
         }
        },
        "title": {
         "text": "2021_12_09_0012.abf"
        },
        "xaxis": {
         "anchor": "y",
         "domain": [
          0,
          1
         ]
        },
        "xaxis2": {
         "anchor": "y2",
         "domain": [
          0,
          1
         ]
        },
        "xaxis3": {
         "anchor": "y3",
         "domain": [
          0,
          1
         ]
        },
        "xaxis4": {
         "anchor": "y4",
         "domain": [
          0,
          1
         ]
        },
        "xaxis5": {
         "anchor": "y5",
         "domain": [
          0,
          1
         ]
        },
        "yaxis": {
         "anchor": "x",
         "domain": [
          0.848,
          1
         ]
        },
        "yaxis2": {
         "anchor": "x2",
         "domain": [
          0.6359999999999999,
          0.7879999999999999
         ]
        },
        "yaxis3": {
         "anchor": "x3",
         "domain": [
          0.424,
          0.576
         ]
        },
        "yaxis4": {
         "anchor": "x4",
         "domain": [
          0.212,
          0.364
         ]
        },
        "yaxis5": {
         "anchor": "x5",
         "domain": [
          0,
          0.152
         ]
        }
       }
      },
      "text/html": [
       "<div>                            <div id=\"ebbeece9-45a9-4a18-91df-d3e7b436eb77\" class=\"plotly-graph-div\" style=\"height:525px; width:100%;\"></div>            <script type=\"text/javascript\">                require([\"plotly\"], function(Plotly) {                    window.PLOTLYENV=window.PLOTLYENV || {};                                    if (document.getElementById(\"ebbeece9-45a9-4a18-91df-d3e7b436eb77\")) {                    Plotly.newPlot(                        \"ebbeece9-45a9-4a18-91df-d3e7b436eb77\",                        [{\"line\":{\"color\":\"#008080\"},\"mode\":\"markers\",\"showlegend\":false,\"x\":[0,1,2,3,4,5,6,7,8,9,10,11,12,13,14,15,16,17,18,19,20,21,22,23,24,25,26,27,28,29,30,31,32,33,34,35,36,37,38,39,40,41,42,43,44,45,46,47,48,49,50,51,52,53,54,55,56,57,58,59,60,61,62,63,64,65,66,67,68,69,70,71,72],\"y\":[0.294499999999998,0.815500000000001,0.260000000000001,0.7275,0.274499999999996,0.648999999999999,0.123000000000001,0.465,0.033,0.216000000000001,0.356499999999999,0.597500000000002,0.965500000000002,0.301499999999997,0.546999999999997,0.805500000000006,0.030000000000001,0.314500000000002,0.631999999999994,0.934499999999996,0.134499999999999,0.281499999999998,0.532499999999995,0.736499999999996,0.066000000000003,0.309499999999993,0.533500000000004,0.774999999999992,0.013500000000001,0.121499999999998,0.340499999999999,0.663999999999994,0.814999999999998,0.955500000000001,0.102499999999992,0.3735,0.548500000000004,0.0475,0.509499999999996,0.028500000000001,0.549999999999997,0.99649999999999,0.464999999999996,0.884999999999991,0.337499999999999,0.65999999999999,0.145499999999991,0.502999999999993,0.055499999999995,0.518000000000001,0.913499999999999,0.320499999999981,0.687999999999988,0.158000000000001,0.558999999999998,0.918499999999994,0.260499999999993,0.673500000000004,0.285499999999999,0.834999999999994,0.475499999999983,0.018000000000001,0.591000000000008,0.182999999999993,0.710000000000008,0.305999999999997,0.779500000000013,0.294499999999999,0.015000000000001,0.380499999999998,0.0685,0.517499999999984,0.973500000000001],\"type\":\"scatter\",\"xaxis\":\"x\",\"yaxis\":\"y\",\"connectgaps\":false},{\"line\":{\"color\":\"#0000FF\"},\"showlegend\":false,\"x\":[0,1,2,3,4,5,6,7,8,9,10,11,12,13,14,15,16,17,18,19,20,21,22,23,24,25,26,27,28,29,30,31,32,33,34,35,36,37,38,39,40,41,42,43,44,45,46,47,48,49,50,51,52,53,54,55,56,57,58,59,60,61,62,63,64,65,66,67,68,69,70,71,72],\"y\":[0.5512561597239141,0.4362219225420739,0.39374608237241565,0.5842002537453783,0.28850641877735106,0.6230850539347139,0.3247023845997333,0.5199308396642358,0.4716666345786575,0.3621359116084895,0.6048824361801701,0.28339338802412223,0.6114815487287991,0.3504185534079356,0.4858728170130088,0.5064237563934433,0.33447932592063306,0.6192322387769533,0.28557052084695844,0.5932660376829832,0.380584810117732,0.4505252416841236,0.5390205149523727,0.3119482253825134,0.6266416134234221,0.2949455650009776,0.5692103716315445,0.4139229116784628,0.41538590615997634,0.5680756788848143,0.295497326482945,0.6267966006600814,0.31112126917472993,0.5403338678949987,0.44902021358961075,0.3819437791207264,0.5923580857784155,0.28582370766284204,0.6196906331703401,0.3334122158287248,0.5078601184683219,0.48438952827280013,0.3516159129669596,0.6108388105609106,0.2833372718196877,0.6056248140592121,0.36087386458040016,0.47316514242252333,0.5185321420780283,0.3256873986705336,0.6227347644237811,0.28814337737988543,0.5851951581290504,0.39234257547222656,0.4377190794719883,0.5500013206872855,0.3052569122631523,0.6275418768586261,0.300038373917326,0.5592673367812344,0.4264849162060705,0.40302389534205396,0.5774636119837151,0.2911901603362289,0.6250564547747616,0.3185182314886228,0.5289399966849624,0.4618541640348484,0.3705497385643119,0.5997553487830651,0.2840831972185769,0.6153838136422913,0.34279989803183203],\"type\":\"scatter\",\"xaxis\":\"x\",\"yaxis\":\"y\",\"connectgaps\":false},{\"line\":{\"color\":\"#008080\"},\"mode\":\"markers\",\"showlegend\":false,\"x\":[0,1,2,3,4,5,6,7,8,9,10,11,12,13,14,15,16,17,18,19,20,21,22,23,24,25,26,27,28,29,30,31,32,33,34,35,36,37,38,39,40,41,42,43,44,45,46,47,48,49,50,51,52,53,54,55,56,57,58,59,60,61,62,63,64,65,66,67,68,69,70],\"y\":[0.274000000000001,0.736500000000003,0.194499999999998,0.673499999999997,0.170500000000003,0.688999999999999,0.189499999999997,0.844999999999997,0.375999999999999,0.049499999999998,0.539000000000005,0.205500000000001,0.810000000000002,0.320499999999999,0.843999999999991,0.339499999999998,0.058500000000006,0.732500000000002,0.25,0.733000000000001,0.026999999999994,0.6205,0.986999999999995,0.441499999999991,0.863999999999997,0.307000000000002,0.651000000000003,0.030500000000004,0.3155,0.613999999999997,0.847499999999997,0.161999999999999,0.392499999999998,0.658499999999997,0.996499999999998,0.319499999999998,0.744999999999997,0.055,0.372999999999998,0.791499999999999,0.110499999999995,0.403500000000001,0.820000000000007,0.222999999999985,0.672999999999981,0.968999999999994,0.372499999999988,0.730499999999992,0.157499999999985,0.454499999999996,0.772000000000006,0.104500000000002,0.375,0.638999999999996,0.114500000000007,0.702500000000001,0.158500000000004,0.590499999999977,0.182500000000005,0.659500000000008,0.140000000000001,0.463999999999984,0.871499999999998,0.18249999999999,0.55149999999999,0.813499999999991,0.260999999999996,0.644999999999996,0.117499999999993,0.436999999999998,0.87299999999999],\"type\":\"scatter\",\"xaxis\":\"x2\",\"yaxis\":\"y2\",\"connectgaps\":false},{\"line\":{\"color\":\"#0000FF\"},\"showlegend\":false,\"x\":[0,1,2,3,4,5,6,7,8,9,10,11,12,13,14,15,16,17,18,19,20,21,22,23,24,25,26,27,28,29,30,31,32,33,34,35,36,37,38,39,40,41,42,43,44,45,46,47,48,49,50,51,52,53,54,55,56,57,58,59,60,61,62,63,64,65,66,67,68,69,70],\"y\":[0.5905258231784039,0.4270301596598611,0.4464840688376844,0.5757108917139055,0.3286187552070977,0.6346546331342342,0.34265230612450626,0.5509902293709966,0.47599695533078334,0.39976268970081263,0.6090456777762903,0.3166195727860912,0.6224568877799646,0.3761383058180846,0.504201044296075,0.5249319802477443,0.36035086728778665,0.6295361574892722,0.3199365940180071,0.5961233422356017,0.4192088803931756,0.45466404665061144,0.5691228122462312,0.3320439433972098,0.6352091063388177,0.33825039116371736,0.5581899057788874,0.46771635176827525,0.4071496283177989,0.6043138929295463,0.31756786280539523,0.6255182217544855,0.3697973533181017,0.5123095522672622,0.516989471003784,0.3662334076500491,0.6271163361392245,0.3183166659394586,0.6013967318154774,0.41153952139292743,0.4629005403032454,0.5622832575955724,0.3358555993604426,0.6353342762561373,0.33421824337487616,0.5651675257820433,0.45945714228978596,0.4147209368031418,0.5992359390869562,0.3189415735154312,0.6281763291291728,0.36374127994251193,0.5203194608439874,0.5089357694201958,0.3724104171691141,0.6242889879080898,0.31712014363699664,0.6063318020336563,0.404042719730545,0.4711713866515974,0.5552106319568352,0.3400434665138935,0.6350298060730999,0.330566712650647,0.5719043136728157,0.45124155116411985,0.422456241924338,0.593825480245234,0.320737008470896,0.630424057343847,0.35798638165801433],\"type\":\"scatter\",\"xaxis\":\"x2\",\"yaxis\":\"y2\",\"connectgaps\":false},{\"line\":{\"color\":\"#008080\"},\"mode\":\"markers\",\"showlegend\":false,\"x\":[0,1,2,3,4,5,6,7,8,9,10,11,12,13,14,15,16,17,18,19,20,21,22,23,24,25,26,27,28,29,30,31,32,33,34,35,36,37,38,39,40,41,42,43,44,45,46,47,48,49,50,51,52,53,54,55,56,57,58,59,60,61,62,63,64,65,66,67],\"y\":[0.233000000000003,0.818,0.371999999999997,0.813499999999999,0.187,0.66,0.048499999999997,0.531999999999998,0.987499999999999,0.5785,0.139499999999995,0.592000000000002,0.071000000000002,0.625000000000004,0.037499999999998,0.312999999999999,0.689,0.153500000000005,0.596499999999999,0.043999999999993,0.491999999999994,0.964499999999998,0.430500000000002,0.903500000000001,0.376999999999995,0.861499999999992,0.427499999999995,0.965999999999994,0.298000000000002,0.756999999999991,0.233499999999999,0.549,0.0,0.508000000000003,0.282999999999994,0.689499999999995,0.073999999999991,0.493999999999993,0.881000000000007,0.427000000000007,0.824000000000005,0.291499999999992,0.817499999999988,0.276000000000003,0.722999999999985,0.096499999999992,0.666499999999999,0.252499999999998,0.61699999999999,0.012000000000001,0.378499999999988,0.816999999999993,0.294499999999999,0.775499999999994,0.214999999999989,0.668999999999997,0.376000000000005,0.010499999999993,0.43549999999999,0.841000000000008,0.399999999999991,0.084499999999991,0.490499999999983,0.923500000000004,0.467499999999987,0.824999999999989,0.24799999999999,0.958500000000001],\"type\":\"scatter\",\"xaxis\":\"x3\",\"yaxis\":\"y3\",\"connectgaps\":false},{\"line\":{\"color\":\"#0000FF\"},\"showlegend\":false,\"x\":[0,1,2,3,4,5,6,7,8,9,10,11,12,13,14,15,16,17,18,19,20,21,22,23,24,25,26,27,28,29,30,31,32,33,34,35,36,37,38,39,40,41,42,43,44,45,46,47,48,49,50,51,52,53,54,55,56,57,58,59,60,61,62,63,64,65,66,67],\"y\":[0.3472740677045854,0.620196856772972,0.35084649990620226,0.6166244038341664,0.35441897330714867,0.6130519102461254,0.35799148680725656,0.6094793771090087,0.36156403930632264,0.6059068055230312,0.36513662970416044,0.6023341965883626,0.3687092569005831,0.5987615514052641,0.37228191979532377,0.5951888710739393,0.3758546172881733,0.5916161566946256,0.3794273482788892,0.5880434093675709,0.3830001116672182,0.5844706301929875,0.3865729063529433,0.5808978202712347,0.39014573123570023,0.5773249807025441,0.39371858521525294,0.573752112587202,0.3972914671913105,0.5701792170255039,0.4008643760635734,0.5666062951177532,0.40443731073173395,0.5630333479642617,0.4080102700954763,0.5594603766653492,0.4115832530544773,0.5558873823213425,0.4151562585084062,0.5523143660325758,0.41872928535692555,0.5487413288992983,0.4223023324998742,0.5451682720220404,0.42587539883653586,0.5415951965010641,0.42944848326673724,0.5380221034367282,0.4330215846901165,0.5344489939293974,0.43659470200630646,0.5308758690794412,0.4401678341149353,0.5273027299872338,0.44374097991562644,0.5237295777531541,0.44731413830799915,0.5201564134775846,0.45088730819166883,0.5165832382609118,0.45446048846624726,0.5130100532035256,0.4580336780313431,0.5094368594058187,0.4616068757865622,0.5058636579680036,0.46518008063150773,0.5022904499908444],\"type\":\"scatter\",\"xaxis\":\"x3\",\"yaxis\":\"y3\",\"connectgaps\":false},{\"line\":{\"color\":\"#008080\"},\"mode\":\"markers\",\"showlegend\":false,\"x\":[0,1,2,3,4,5,6,7,8,9,10,11,12,13,14,15,16,17,18,19,20,21,22,23,24,25,26,27,28,29,30,31,32,33,34,35,36,37,38,39,40,41,42,43,44,45,46,47,48,49,50,51,52,53,54,55,56,57,58,59,60,61,62,63,64,65,66,67,68,69],\"y\":[0.791999999999997,0.206000000000001,0.6625,0.334499999999998,0.892,0.381999999999996,0.816500000000001,0.288499999999999,0.755000000000001,0.1975,0.69,0.281499999999994,0.751999999999995,0.233999999999995,0.737999999999999,0.341000000000001,0.944499999999994,0.474999999999998,0.958500000000004,0.346999999999994,0.844499999999993,0.477999999999994,0.952499999999993,0.351499999999994,0.803999999999995,0.156000000000006,0.557000000000002,0.933999999999998,0.41899999999999,0.703000000000003,0.293999999999997,0.751499999999993,0.108999999999988,0.607499999999995,0.043500000000002,0.424499999999995,0.913999999999994,0.283499999999997,0.530000000000001,0.754500000000007,0.904999999999994,0.110499999999988,0.472999999999985,0.553999999999988,0.963999999999984,0.233999999999995,0.92049999999999,0.342500000000001,0.773499999999999,0.213999999999984,0.772999999999996,0.141499999999994,0.302999999999997,0.572999999999979,0.912999999999982,0.333999999999989,0.708999999999989,0.118500000000012,0.522999999999982,0.98899999999999,0.442000000000007,0.665999999999997,0.975499999999997,0.311499999999995,0.573999999999998,0.731499999999997,0.991499999999988,0.182000000000002,0.453499999999991,0.745999999999995],\"type\":\"scatter\",\"xaxis\":\"x4\",\"yaxis\":\"y4\",\"connectgaps\":false},{\"line\":{\"color\":\"#0000FF\"},\"showlegend\":false,\"x\":[0,1,2,3,4,5,6,7,8,9,10,11,12,13,14,15,16,17,18,19,20,21,22,23,24,25,26,27,28,29,30,31,32,33,34,35,36,37,38,39,40,41,42,43,44,45,46,47,48,49,50,51,52,53,54,55,56,57,58,59,60,61,62,63,64,65,66,67,68,69],\"y\":[0.76707529615003,0.3455241478434531,0.7625620320977727,0.35003744790197544,0.7580486964226612,0.35455081880399986,0.7535352906833793,0.35906425899084665,0.7490218164386633,0.36357776690376087,0.7445082752472386,0.3680913409840326,0.7399946686678406,0.37260497967283346,0.7354809982593087,0.3771186814113947,0.7309672655804226,0.3816324446408984,0.7264534721900109,0.38614626780250555,0.7219396196469232,0.39066014933735627,0.7174257095100295,0.3951740876865707,0.7129117433382194,0.3996880812912491,0.7083977226904022,0.404202128592473,0.7038836491255059,0.40871622803130514,0.6993695242024768,0.41323037804879026,0.6948553494802788,0.41774457708595575,0.6903411265178933,0.42225882358381195,0.6858268568743179,0.4267731159833529,0.6813125421085668,0.4312874527255568,0.6767981837796695,0.43580183225149555,0.6722837834464522,0.44031625300189897,0.6677693426684109,0.44483071341781,0.6632548630044002,0.4493452119401488,0.6587403460135065,0.45385974700982235,0.6542257932548294,0.458374317067725,0.6497112062874807,0.46288892055473896,0.6451965866705839,0.467403555911735,0.6406819359632737,0.47191822157957286,0.6361672557246959,0.47643291599910165,0.6316525475140062,0.4809476376111609,0.6271378128903701,0.48546238485658033,0.6226230534129621,0.4899771561763994,0.6181082706409653,0.49449195001099433,0.613593466133571,0.4990067648013883],\"type\":\"scatter\",\"xaxis\":\"x4\",\"yaxis\":\"y4\",\"connectgaps\":false},{\"line\":{\"color\":\"#008080\"},\"mode\":\"markers\",\"showlegend\":false,\"x\":[0,1,2,3,4,5,6,7,8,9,10,11,12,13,14,15,16,17,18,19,20,21,22,23,24,25,26,27,28,29,30,31,32,33,34,35,36,37,38,39,40,41,42,43,44,45,46,47,48,49,50,51,52,53,54,55,56,57,58,59,60,61,62,63,64,65,66,67,68,69,70],\"y\":[0.671999999999997,0.127500000000002,0.472,0.916999999999998,0.233499999999998,0.656000000000001,0.092500000000001,0.403000000000002,0.887500000000001,0.247,0.647499999999999,0.076000000000004,0.344999999999995,0.651,0.973999999999997,0.3565,0.771000000000008,0.013999999999996,0.1525,0.387,0.779499999999995,0.101000000000006,0.442,0.788500000000006,0.125,0.501999999999995,0.916000000000004,0.146999999999991,0.453999999999993,0.871499999999998,0.325499999999998,0.748500000000007,0.134999999999998,0.691999999999993,0.042499999999997,0.549499999999995,0.103500000000004,0.515999999999998,0.073,0.427500000000002,0.776499999999999,0.463499999999996,0.952999999999989,0.382499999999993,0.830499999999994,0.380499999999991,0.767499999999984,0.192499999999981,0.597499999999997,0.912499999999994,0.299999999999983,0.626499999999993,0.155499999999989,0.672499999999999,0.117000000000004,0.551500000000004,0.000999999999991,0.470499999999987,0.044500000000014,0.512,0.929500000000004,0.376999999999995,0.952000000000012,0.281999999999996,0.512999999999991,0.983999999999995,0.396000000000001,0.930499999999981,0.346499999999978,0.695000000000007,0.184999999999988],\"type\":\"scatter\",\"xaxis\":\"x5\",\"yaxis\":\"y5\",\"connectgaps\":false},{\"line\":{\"color\":\"#0000FF\"},\"showlegend\":false,\"x\":[0,1,2,3,4,5,6,7,8,9,10,11,12,13,14,15,16,17,18,19,20,21,22,23,24,25,26,27,28,29,30,31,32,33,34,35,36,37,38,39,40,41,42,43,44,45,46,47,48,49,50,51,52,53,54,55,56,57,58,59,60,61,62,63,64,65,66,67,68,69,70],\"y\":[0.48266863712801555,0.5484179458004989,0.3551803179953024,0.6466878174709303,0.30098776529753113,0.6486088797407644,0.35162866719845765,0.5530631586487623,0.4776322404819875,0.4156540721402957,0.6056699334576907,0.31634768022620263,0.6612294260140907,0.3129359462841969,0.6119775309593551,0.40740434979077983,0.48657669046285223,0.5447764243718001,0.35800469217572883,0.6451076493344254,0.30108479845995456,0.6500096534276181,0.3489418902993341,0.5566296853272109,0.4737252398037847,0.41931078975221037,0.602816411989303,0.3179665395469858,0.66109000806197,0.31157484221087195,0.6146333516551676,0.40385538518040026,0.49048217867636346,0.5411049409293518,0.3608870251061409,0.6434502893500785,0.30126658479391827,0.6513309277014625,0.34631733836571343,0.5601606701980997,0.4698217236850245,0.4229966069347414,0.5999056068135769,0.3196622051431053,0.6608658747402784,0.3102935532349619,0.6172263259476791,0.40034279560442365,0.49438326330239646,0.5374052237841028,0.3638259599596213,0.6417165177020987,0.3015330387254801,0.6525720805867846,0.3437562468769103,0.563654451088654,0.46592352966352,0.42670978862949244,0.5969388881604258,0.3214338787984036,0.660557131557342,0.3090926825093318,0.6197552332224125,0.3968682345762312,0.4982781079477613,0.5336790145376898,0.36682011326452874,0.6399071505446465,0.30188403482434756,0.6537325278243534,0.3412598214389079],\"type\":\"scatter\",\"xaxis\":\"x5\",\"yaxis\":\"y5\"}],                        {\"template\":{\"data\":{\"bar\":[{\"error_x\":{\"color\":\"#2a3f5f\"},\"error_y\":{\"color\":\"#2a3f5f\"},\"marker\":{\"line\":{\"color\":\"#E5ECF6\",\"width\":0.5},\"pattern\":{\"fillmode\":\"overlay\",\"size\":10,\"solidity\":0.2}},\"type\":\"bar\"}],\"barpolar\":[{\"marker\":{\"line\":{\"color\":\"#E5ECF6\",\"width\":0.5},\"pattern\":{\"fillmode\":\"overlay\",\"size\":10,\"solidity\":0.2}},\"type\":\"barpolar\"}],\"carpet\":[{\"aaxis\":{\"endlinecolor\":\"#2a3f5f\",\"gridcolor\":\"white\",\"linecolor\":\"white\",\"minorgridcolor\":\"white\",\"startlinecolor\":\"#2a3f5f\"},\"baxis\":{\"endlinecolor\":\"#2a3f5f\",\"gridcolor\":\"white\",\"linecolor\":\"white\",\"minorgridcolor\":\"white\",\"startlinecolor\":\"#2a3f5f\"},\"type\":\"carpet\"}],\"choropleth\":[{\"colorbar\":{\"outlinewidth\":0,\"ticks\":\"\"},\"type\":\"choropleth\"}],\"contour\":[{\"colorbar\":{\"outlinewidth\":0,\"ticks\":\"\"},\"colorscale\":[[0.0,\"#0d0887\"],[0.1111111111111111,\"#46039f\"],[0.2222222222222222,\"#7201a8\"],[0.3333333333333333,\"#9c179e\"],[0.4444444444444444,\"#bd3786\"],[0.5555555555555556,\"#d8576b\"],[0.6666666666666666,\"#ed7953\"],[0.7777777777777778,\"#fb9f3a\"],[0.8888888888888888,\"#fdca26\"],[1.0,\"#f0f921\"]],\"type\":\"contour\"}],\"contourcarpet\":[{\"colorbar\":{\"outlinewidth\":0,\"ticks\":\"\"},\"type\":\"contourcarpet\"}],\"heatmap\":[{\"colorbar\":{\"outlinewidth\":0,\"ticks\":\"\"},\"colorscale\":[[0.0,\"#0d0887\"],[0.1111111111111111,\"#46039f\"],[0.2222222222222222,\"#7201a8\"],[0.3333333333333333,\"#9c179e\"],[0.4444444444444444,\"#bd3786\"],[0.5555555555555556,\"#d8576b\"],[0.6666666666666666,\"#ed7953\"],[0.7777777777777778,\"#fb9f3a\"],[0.8888888888888888,\"#fdca26\"],[1.0,\"#f0f921\"]],\"type\":\"heatmap\"}],\"heatmapgl\":[{\"colorbar\":{\"outlinewidth\":0,\"ticks\":\"\"},\"colorscale\":[[0.0,\"#0d0887\"],[0.1111111111111111,\"#46039f\"],[0.2222222222222222,\"#7201a8\"],[0.3333333333333333,\"#9c179e\"],[0.4444444444444444,\"#bd3786\"],[0.5555555555555556,\"#d8576b\"],[0.6666666666666666,\"#ed7953\"],[0.7777777777777778,\"#fb9f3a\"],[0.8888888888888888,\"#fdca26\"],[1.0,\"#f0f921\"]],\"type\":\"heatmapgl\"}],\"histogram\":[{\"marker\":{\"pattern\":{\"fillmode\":\"overlay\",\"size\":10,\"solidity\":0.2}},\"type\":\"histogram\"}],\"histogram2d\":[{\"colorbar\":{\"outlinewidth\":0,\"ticks\":\"\"},\"colorscale\":[[0.0,\"#0d0887\"],[0.1111111111111111,\"#46039f\"],[0.2222222222222222,\"#7201a8\"],[0.3333333333333333,\"#9c179e\"],[0.4444444444444444,\"#bd3786\"],[0.5555555555555556,\"#d8576b\"],[0.6666666666666666,\"#ed7953\"],[0.7777777777777778,\"#fb9f3a\"],[0.8888888888888888,\"#fdca26\"],[1.0,\"#f0f921\"]],\"type\":\"histogram2d\"}],\"histogram2dcontour\":[{\"colorbar\":{\"outlinewidth\":0,\"ticks\":\"\"},\"colorscale\":[[0.0,\"#0d0887\"],[0.1111111111111111,\"#46039f\"],[0.2222222222222222,\"#7201a8\"],[0.3333333333333333,\"#9c179e\"],[0.4444444444444444,\"#bd3786\"],[0.5555555555555556,\"#d8576b\"],[0.6666666666666666,\"#ed7953\"],[0.7777777777777778,\"#fb9f3a\"],[0.8888888888888888,\"#fdca26\"],[1.0,\"#f0f921\"]],\"type\":\"histogram2dcontour\"}],\"mesh3d\":[{\"colorbar\":{\"outlinewidth\":0,\"ticks\":\"\"},\"type\":\"mesh3d\"}],\"parcoords\":[{\"line\":{\"colorbar\":{\"outlinewidth\":0,\"ticks\":\"\"}},\"type\":\"parcoords\"}],\"pie\":[{\"automargin\":true,\"type\":\"pie\"}],\"scatter\":[{\"marker\":{\"colorbar\":{\"outlinewidth\":0,\"ticks\":\"\"}},\"type\":\"scatter\"}],\"scatter3d\":[{\"line\":{\"colorbar\":{\"outlinewidth\":0,\"ticks\":\"\"}},\"marker\":{\"colorbar\":{\"outlinewidth\":0,\"ticks\":\"\"}},\"type\":\"scatter3d\"}],\"scattercarpet\":[{\"marker\":{\"colorbar\":{\"outlinewidth\":0,\"ticks\":\"\"}},\"type\":\"scattercarpet\"}],\"scattergeo\":[{\"marker\":{\"colorbar\":{\"outlinewidth\":0,\"ticks\":\"\"}},\"type\":\"scattergeo\"}],\"scattergl\":[{\"marker\":{\"colorbar\":{\"outlinewidth\":0,\"ticks\":\"\"}},\"type\":\"scattergl\"}],\"scattermapbox\":[{\"marker\":{\"colorbar\":{\"outlinewidth\":0,\"ticks\":\"\"}},\"type\":\"scattermapbox\"}],\"scatterpolar\":[{\"marker\":{\"colorbar\":{\"outlinewidth\":0,\"ticks\":\"\"}},\"type\":\"scatterpolar\"}],\"scatterpolargl\":[{\"marker\":{\"colorbar\":{\"outlinewidth\":0,\"ticks\":\"\"}},\"type\":\"scatterpolargl\"}],\"scatterternary\":[{\"marker\":{\"colorbar\":{\"outlinewidth\":0,\"ticks\":\"\"}},\"type\":\"scatterternary\"}],\"surface\":[{\"colorbar\":{\"outlinewidth\":0,\"ticks\":\"\"},\"colorscale\":[[0.0,\"#0d0887\"],[0.1111111111111111,\"#46039f\"],[0.2222222222222222,\"#7201a8\"],[0.3333333333333333,\"#9c179e\"],[0.4444444444444444,\"#bd3786\"],[0.5555555555555556,\"#d8576b\"],[0.6666666666666666,\"#ed7953\"],[0.7777777777777778,\"#fb9f3a\"],[0.8888888888888888,\"#fdca26\"],[1.0,\"#f0f921\"]],\"type\":\"surface\"}],\"table\":[{\"cells\":{\"fill\":{\"color\":\"#EBF0F8\"},\"line\":{\"color\":\"white\"}},\"header\":{\"fill\":{\"color\":\"#C8D4E3\"},\"line\":{\"color\":\"white\"}},\"type\":\"table\"}]},\"layout\":{\"annotationdefaults\":{\"arrowcolor\":\"#2a3f5f\",\"arrowhead\":0,\"arrowwidth\":1},\"autotypenumbers\":\"strict\",\"coloraxis\":{\"colorbar\":{\"outlinewidth\":0,\"ticks\":\"\"}},\"colorscale\":{\"diverging\":[[0,\"#8e0152\"],[0.1,\"#c51b7d\"],[0.2,\"#de77ae\"],[0.3,\"#f1b6da\"],[0.4,\"#fde0ef\"],[0.5,\"#f7f7f7\"],[0.6,\"#e6f5d0\"],[0.7,\"#b8e186\"],[0.8,\"#7fbc41\"],[0.9,\"#4d9221\"],[1,\"#276419\"]],\"sequential\":[[0.0,\"#0d0887\"],[0.1111111111111111,\"#46039f\"],[0.2222222222222222,\"#7201a8\"],[0.3333333333333333,\"#9c179e\"],[0.4444444444444444,\"#bd3786\"],[0.5555555555555556,\"#d8576b\"],[0.6666666666666666,\"#ed7953\"],[0.7777777777777778,\"#fb9f3a\"],[0.8888888888888888,\"#fdca26\"],[1.0,\"#f0f921\"]],\"sequentialminus\":[[0.0,\"#0d0887\"],[0.1111111111111111,\"#46039f\"],[0.2222222222222222,\"#7201a8\"],[0.3333333333333333,\"#9c179e\"],[0.4444444444444444,\"#bd3786\"],[0.5555555555555556,\"#d8576b\"],[0.6666666666666666,\"#ed7953\"],[0.7777777777777778,\"#fb9f3a\"],[0.8888888888888888,\"#fdca26\"],[1.0,\"#f0f921\"]]},\"colorway\":[\"#636efa\",\"#EF553B\",\"#00cc96\",\"#ab63fa\",\"#FFA15A\",\"#19d3f3\",\"#FF6692\",\"#B6E880\",\"#FF97FF\",\"#FECB52\"],\"font\":{\"color\":\"#2a3f5f\"},\"geo\":{\"bgcolor\":\"white\",\"lakecolor\":\"white\",\"landcolor\":\"#E5ECF6\",\"showlakes\":true,\"showland\":true,\"subunitcolor\":\"white\"},\"hoverlabel\":{\"align\":\"left\"},\"hovermode\":\"closest\",\"mapbox\":{\"style\":\"light\"},\"paper_bgcolor\":\"white\",\"plot_bgcolor\":\"#E5ECF6\",\"polar\":{\"angularaxis\":{\"gridcolor\":\"white\",\"linecolor\":\"white\",\"ticks\":\"\"},\"bgcolor\":\"#E5ECF6\",\"radialaxis\":{\"gridcolor\":\"white\",\"linecolor\":\"white\",\"ticks\":\"\"}},\"scene\":{\"xaxis\":{\"backgroundcolor\":\"#E5ECF6\",\"gridcolor\":\"white\",\"gridwidth\":2,\"linecolor\":\"white\",\"showbackground\":true,\"ticks\":\"\",\"zerolinecolor\":\"white\"},\"yaxis\":{\"backgroundcolor\":\"#E5ECF6\",\"gridcolor\":\"white\",\"gridwidth\":2,\"linecolor\":\"white\",\"showbackground\":true,\"ticks\":\"\",\"zerolinecolor\":\"white\"},\"zaxis\":{\"backgroundcolor\":\"#E5ECF6\",\"gridcolor\":\"white\",\"gridwidth\":2,\"linecolor\":\"white\",\"showbackground\":true,\"ticks\":\"\",\"zerolinecolor\":\"white\"}},\"shapedefaults\":{\"line\":{\"color\":\"#2a3f5f\"}},\"ternary\":{\"aaxis\":{\"gridcolor\":\"white\",\"linecolor\":\"white\",\"ticks\":\"\"},\"baxis\":{\"gridcolor\":\"white\",\"linecolor\":\"white\",\"ticks\":\"\"},\"bgcolor\":\"#E5ECF6\",\"caxis\":{\"gridcolor\":\"white\",\"linecolor\":\"white\",\"ticks\":\"\"}},\"title\":{\"x\":0.05},\"xaxis\":{\"automargin\":true,\"gridcolor\":\"white\",\"linecolor\":\"white\",\"ticks\":\"\",\"title\":{\"standoff\":15},\"zerolinecolor\":\"white\",\"zerolinewidth\":2},\"yaxis\":{\"automargin\":true,\"gridcolor\":\"white\",\"linecolor\":\"white\",\"ticks\":\"\",\"title\":{\"standoff\":15},\"zerolinecolor\":\"white\",\"zerolinewidth\":2}}},\"xaxis\":{\"anchor\":\"y\",\"domain\":[0.0,1.0]},\"yaxis\":{\"anchor\":\"x\",\"domain\":[0.848,1.0]},\"xaxis2\":{\"anchor\":\"y2\",\"domain\":[0.0,1.0]},\"yaxis2\":{\"anchor\":\"x2\",\"domain\":[0.6359999999999999,0.7879999999999999]},\"xaxis3\":{\"anchor\":\"y3\",\"domain\":[0.0,1.0]},\"yaxis3\":{\"anchor\":\"x3\",\"domain\":[0.424,0.576]},\"xaxis4\":{\"anchor\":\"y4\",\"domain\":[0.0,1.0]},\"yaxis4\":{\"anchor\":\"x4\",\"domain\":[0.212,0.364]},\"xaxis5\":{\"anchor\":\"y5\",\"domain\":[0.0,1.0]},\"yaxis5\":{\"anchor\":\"x5\",\"domain\":[0.0,0.152]},\"annotations\":[{\"font\":{\"size\":16},\"showarrow\":false,\"text\":\"Phase\",\"x\":0.5,\"xanchor\":\"center\",\"xref\":\"paper\",\"y\":0,\"yanchor\":\"top\",\"yref\":\"paper\",\"yshift\":-30},{\"font\":{\"size\":16},\"showarrow\":false,\"text\":\"Count\",\"textangle\":-90,\"x\":0,\"xanchor\":\"right\",\"xref\":\"paper\",\"xshift\":-40,\"y\":0.5,\"yanchor\":\"middle\",\"yref\":\"paper\"}],\"title\":{\"text\":\"2021_12_09_0012.abf\"}},                        {\"responsive\": true}                    ).then(function(){\n",
       "                            \n",
       "var gd = document.getElementById('ebbeece9-45a9-4a18-91df-d3e7b436eb77');\n",
       "var x = new MutationObserver(function (mutations, observer) {{\n",
       "        var display = window.getComputedStyle(gd).display;\n",
       "        if (!display || display === 'none') {{\n",
       "            console.log([gd, 'removed!']);\n",
       "            Plotly.purge(gd);\n",
       "            observer.disconnect();\n",
       "        }}\n",
       "}});\n",
       "\n",
       "// Listen for the removal of the full notebook cells\n",
       "var notebookContainer = gd.closest('#notebook-container');\n",
       "if (notebookContainer) {{\n",
       "    x.observe(notebookContainer, {childList: true});\n",
       "}}\n",
       "\n",
       "// Listen for the clearing of the current output cell\n",
       "var outputEl = gd.closest('.output');\n",
       "if (outputEl) {{\n",
       "    x.observe(outputEl, {childList: true});\n",
       "}}\n",
       "\n",
       "                        })                };                });            </script>        </div>"
      ]
     },
     "metadata": {},
     "output_type": "display_data"
    },
    {
     "data": {
      "image/png": "[encoded data removed]",
      "text/plain": [
       "<Figure size 576x432 with 4 Axes>"
      ]
     },
     "metadata": {
      "needs_background": "light"
     },
     "output_type": "display_data"
    },
    {
     "data": {
      "image/png": "[encoded data removed]",
      "text/plain": [
       "<Figure size 576x432 with 5 Axes>"
      ]
     },
     "metadata": {
      "needs_background": "light"
     },
     "output_type": "display_data"
    },
    {
     "data": {
      "image/png": "[encoded data removed]",
      "text/plain": [
       "<Figure size 576x432 with 5 Axes>"
      ]
     },
     "metadata": {
      "needs_background": "light"
     },
     "output_type": "display_data"
    },
    {
     "data": {
      "application/javascript": [
       "\n",
       "            setTimeout(function() {\n",
       "                var nbb_cell_id = 74;\n",
       "                var nbb_unformatted_code = \"### TO DO: Make subplots and change matplot plotting to plotly plots\\n\\nurl = 'https://raw.githubusercontent.com/gspiga/Cudmore/main/SinusoidalRegress/gianni-master-20220104.csv'\\ndfFile = pd.read_csv(url)\\ndfFile.head()\\n\\ndef plotOneFile(df, filename : str):\\n    \\\"\\\"\\\"\\n    Plot each file in a figure with subplots corresponding to sweep\\n\\n    Args:\\n        df (dataframe): Pandas dataframe with columns ['filename', 'sweeps', peakPhase']\\n        filename (str): Name of file to plot.\\n\\n    Notes:\\n        This is bad form as I am mixing code for plotting and analysis.\\n    \\\"\\\"\\\"\\n\\n    dfFile = df[ df['filename']==filename ]  # grab specified filename\\n    sweeps = dfFile['sweep'].unique()  # get list of sweeps [0, 1, 2, ...]\\n\\n    numSubplot = len(sweeps)\\n    \\n    fig1 = make_subplots(rows=5, cols=1, x_title = \\\"Phase\\\", y_title = \\\"Count\\\") #plotly\\n    fig1.update_layout(title_text = filename)\\n    \\n    fig, axs = plt.subplots(numSubplot, 1, sharex=True, figsize=(8, 6))\\n    fig.suptitle(filename)\\n\\n    for idx,sweep in enumerate(sweeps):\\n        \\n        dfSweep = dfFile[dfFile['sweep'] == sweep]  # grab one sweep from one file\\n        peakPhase = dfSweep['peakPhase']  # grab the raw data\\n\\n        #trying to add something here to maybe make a psuedo time variable for x axis, Ill use the index\\n        ourIndex = list(range(0, len(peakPhase)))\\n\\n        # selecting appropriate bins is important\\n        # lots of different algorithms, not sure which one is best\\n        # see: https://matplotlib.org/stable/api/_as_gen/matplotlib.pyplot.hist.html\\n        bins = 'auto'\\n\\n        # plot the histogram and grab its data\\n        #counts, bins, bars = axs[idx].hist(peakPhase, bins=bins)\\n\\n        #\\n        # TODO: Do a sine fit of x=bins and y=counts\\n        #\\n        # Lets tackle this sine fit\\n\\n        #Bins and counts arent the same length, so it did not work\\n        axs[idx].scatter(ourIndex, peakPhase)\\n        \\n        #Plotly adding points of actual data\\n        fig1.add_trace(\\n            go.Scatter(x=ourIndex, y=peakPhase, mode = 'markers', line=dict(color=\\\"#008080\\\"), showlegend = False),\\n            row=idx+1, col=1\\n        )\\n        fig1.update_traces(connectgaps=False) #this prevents the actual data from creating a line\\n        \\n        res = fit_sin(ourIndex, peakPhase)\\n        print(res)\\n#         print(\\n#             \\\"Amplitude=%(amp)s, Angular freq.=%(omega)s, phase=%(phase)s, offset=%(offset)s, Max. Cov.=%(maxcov)s\\\" % res)\\n        #print(type(ourIndex))\\n        # Going about plotting the sine curve\\n        x = np.asarray(ourIndex)\\n\\n        y = res.loc['Amplitude', \\\"Parameters\\\"]*np.sin(res.loc['Omega',\\\"Parameters\\\"]*x + res.loc['Phase',\\\"Parameters\\\"]) + res.loc['Offset',\\\"Parameters\\\"]\\n        axs[idx].plot(ourIndex, y, 'b')\\n        \\n        #plotly adding sinusoidal prediction\\n        fig1.add_trace(\\n            go.Scatter(x=ourIndex, y=y, line = dict(color=\\\"#0000FF\\\"), showlegend = False),\\n            row=idx+1, col=1\\n        )\\n        print(find_chi(peakPhase, y))\\n        axs[idx].set_ylabel('Count')\\n        axs[idx].set_xlabel('Phase')  # This is phase within a sin wave (we don't know the frequency)\\n        \\n    return fig1.show()\\ndef run(path : str):\\n    \\\"\\\"\\\"\\n    Each 'filename' is a different recording\\n        Within each recording we have a number of different sweeps ('sweep')\\n            Within each sweep are 'peakPhase' values to analyze/fit\\n\\n    Args:\\n        path (str): Full path to csv file for analysis.\\n    \\\"\\\"\\\"\\n\\n    # load the file\\n    df = pd.read_csv(path)\\n\\n    # check the format of loaded csv\\n    print(f'this is what our loaded file looks like, it has {len(df)} rows.')\\n    print(df.head())\\n\\n    # print some stats\\n    aggList = ['count', 'median', 'mean', 'std', 'min', 'max']\\n    dfTmp = df.groupby(['filename', 'sweep']).agg(aggList)\\n    print('')\\n    print(\\\"and here it is grouped by ['filename', 'sweep'] ...\\\")\\n    print(dfTmp)\\n\\n    # plot each file in a figure with subplots corresponding to sweep\\n    filenames = df['filename'].unique()\\n    for filename in filenames:\\n        plotOneFile(df, filename)\\n\\n        #\\n    plt.show()\\n    \\nif __name__ == '__main__':\\n    #\\n    # change this to location of your csv file\\n    #\\n    #path = '/home/cudmore/Sites/SanPy/colin/gianni-master.csv'\\n    \\n    #Laptop G\\n    #path = \\\"C:/Users/Gianni/Desktop/Github/Cudmore/SinusoidalRegress/gianni-master-20220104.csv\\\"\\n    \\n    #Desktop G\\n    path = \\\"C:/Users/Gianni/Documents/GitHub/Cudmore/SinusoidalRegress/gianni-master-20220104.csv\\\"\\n    run(path)\";\n",
       "                var nbb_formatted_code = \"### TO DO: Make subplots and change matplot plotting to plotly plots\\n\\nurl = \\\"https://raw.githubusercontent.com/gspiga/Cudmore/main/SinusoidalRegress/gianni-master-20220104.csv\\\"\\ndfFile = pd.read_csv(url)\\ndfFile.head()\\n\\n\\ndef plotOneFile(df, filename: str):\\n    \\\"\\\"\\\"\\n    Plot each file in a figure with subplots corresponding to sweep\\n\\n    Args:\\n        df (dataframe): Pandas dataframe with columns ['filename', 'sweeps', peakPhase']\\n        filename (str): Name of file to plot.\\n\\n    Notes:\\n        This is bad form as I am mixing code for plotting and analysis.\\n    \\\"\\\"\\\"\\n\\n    dfFile = df[df[\\\"filename\\\"] == filename]  # grab specified filename\\n    sweeps = dfFile[\\\"sweep\\\"].unique()  # get list of sweeps [0, 1, 2, ...]\\n\\n    numSubplot = len(sweeps)\\n\\n    fig1 = make_subplots(rows=5, cols=1, x_title=\\\"Phase\\\", y_title=\\\"Count\\\")  # plotly\\n    fig1.update_layout(title_text=filename)\\n\\n    fig, axs = plt.subplots(numSubplot, 1, sharex=True, figsize=(8, 6))\\n    fig.suptitle(filename)\\n\\n    for idx, sweep in enumerate(sweeps):\\n\\n        dfSweep = dfFile[dfFile[\\\"sweep\\\"] == sweep]  # grab one sweep from one file\\n        peakPhase = dfSweep[\\\"peakPhase\\\"]  # grab the raw data\\n\\n        # trying to add something here to maybe make a psuedo time variable for x axis, Ill use the index\\n        ourIndex = list(range(0, len(peakPhase)))\\n\\n        # selecting appropriate bins is important\\n        # lots of different algorithms, not sure which one is best\\n        # see: https://matplotlib.org/stable/api/_as_gen/matplotlib.pyplot.hist.html\\n        bins = \\\"auto\\\"\\n\\n        # plot the histogram and grab its data\\n        # counts, bins, bars = axs[idx].hist(peakPhase, bins=bins)\\n\\n        #\\n        # TODO: Do a sine fit of x=bins and y=counts\\n        #\\n        # Lets tackle this sine fit\\n\\n        # Bins and counts arent the same length, so it did not work\\n        axs[idx].scatter(ourIndex, peakPhase)\\n\\n        # Plotly adding points of actual data\\n        fig1.add_trace(\\n            go.Scatter(\\n                x=ourIndex,\\n                y=peakPhase,\\n                mode=\\\"markers\\\",\\n                line=dict(color=\\\"#008080\\\"),\\n                showlegend=False,\\n            ),\\n            row=idx + 1,\\n            col=1,\\n        )\\n        fig1.update_traces(\\n            connectgaps=False\\n        )  # this prevents the actual data from creating a line\\n\\n        res = fit_sin(ourIndex, peakPhase)\\n        print(res)\\n        #         print(\\n        #             \\\"Amplitude=%(amp)s, Angular freq.=%(omega)s, phase=%(phase)s, offset=%(offset)s, Max. Cov.=%(maxcov)s\\\" % res)\\n        # print(type(ourIndex))\\n        # Going about plotting the sine curve\\n        x = np.asarray(ourIndex)\\n\\n        y = (\\n            res.loc[\\\"Amplitude\\\", \\\"Parameters\\\"]\\n            * np.sin(\\n                res.loc[\\\"Omega\\\", \\\"Parameters\\\"] * x + res.loc[\\\"Phase\\\", \\\"Parameters\\\"]\\n            )\\n            + res.loc[\\\"Offset\\\", \\\"Parameters\\\"]\\n        )\\n        axs[idx].plot(ourIndex, y, \\\"b\\\")\\n\\n        # plotly adding sinusoidal prediction\\n        fig1.add_trace(\\n            go.Scatter(x=ourIndex, y=y, line=dict(color=\\\"#0000FF\\\"), showlegend=False),\\n            row=idx + 1,\\n            col=1,\\n        )\\n        print(find_chi(peakPhase, y))\\n        axs[idx].set_ylabel(\\\"Count\\\")\\n        axs[idx].set_xlabel(\\n            \\\"Phase\\\"\\n        )  # This is phase within a sin wave (we don't know the frequency)\\n\\n    return fig1.show()\\n\\n\\ndef run(path: str):\\n    \\\"\\\"\\\"\\n    Each 'filename' is a different recording\\n        Within each recording we have a number of different sweeps ('sweep')\\n            Within each sweep are 'peakPhase' values to analyze/fit\\n\\n    Args:\\n        path (str): Full path to csv file for analysis.\\n    \\\"\\\"\\\"\\n\\n    # load the file\\n    df = pd.read_csv(path)\\n\\n    # check the format of loaded csv\\n    print(f\\\"this is what our loaded file looks like, it has {len(df)} rows.\\\")\\n    print(df.head())\\n\\n    # print some stats\\n    aggList = [\\\"count\\\", \\\"median\\\", \\\"mean\\\", \\\"std\\\", \\\"min\\\", \\\"max\\\"]\\n    dfTmp = df.groupby([\\\"filename\\\", \\\"sweep\\\"]).agg(aggList)\\n    print(\\\"\\\")\\n    print(\\\"and here it is grouped by ['filename', 'sweep'] ...\\\")\\n    print(dfTmp)\\n\\n    # plot each file in a figure with subplots corresponding to sweep\\n    filenames = df[\\\"filename\\\"].unique()\\n    for filename in filenames:\\n        plotOneFile(df, filename)\\n\\n        #\\n    plt.show()\\n\\n\\nif __name__ == \\\"__main__\\\":\\n    #\\n    # change this to location of your csv file\\n    #\\n    # path = '/home/cudmore/Sites/SanPy/colin/gianni-master.csv'\\n\\n    # Laptop G\\n    # path = \\\"C:/Users/Gianni/Desktop/Github/Cudmore/SinusoidalRegress/gianni-master-20220104.csv\\\"\\n\\n    # Desktop G\\n    path = \\\"C:/Users/Gianni/Documents/GitHub/Cudmore/SinusoidalRegress/gianni-master-20220104.csv\\\"\\n    run(path)\";\n",
       "                var nbb_cells = Jupyter.notebook.get_cells();\n",
       "                for (var i = 0; i < nbb_cells.length; ++i) {\n",
       "                    if (nbb_cells[i].input_prompt_number == nbb_cell_id) {\n",
       "                        if (nbb_cells[i].get_text() == nbb_unformatted_code) {\n",
       "                             nbb_cells[i].set_text(nbb_formatted_code);\n",
       "                        }\n",
       "                        break;\n",
       "                    }\n",
       "                }\n",
       "            }, 500);\n",
       "            "
      ],
      "text/plain": [
       "<IPython.core.display.Javascript object>"
      ]
     },
     "metadata": {},
     "output_type": "display_data"
    }
   ],
   "source": [
    "### TO DO: Make subplots and change matplot plotting to plotly plots\n",
    "\n",
    "url = \"https://raw.githubusercontent.com/gspiga/Cudmore/main/SinusoidalRegress/gianni-master-20220104.csv\"\n",
    "dfFile = pd.read_csv(url)\n",
    "dfFile.head()\n",
    "\n",
    "\n",
    "def plotOneFile(df, filename: str):\n",
    "    \"\"\"\n",
    "    Plot each file in a figure with subplots corresponding to sweep\n",
    "\n",
    "    Args:\n",
    "        df (dataframe): Pandas dataframe with columns ['filename', 'sweeps', peakPhase']\n",
    "        filename (str): Name of file to plot.\n",
    "\n",
    "    Notes:\n",
    "        This is bad form as I am mixing code for plotting and analysis.\n",
    "    \"\"\"\n",
    "\n",
    "    dfFile = df[df[\"filename\"] == filename]  # grab specified filename\n",
    "    sweeps = dfFile[\"sweep\"].unique()  # get list of sweeps [0, 1, 2, ...]\n",
    "\n",
    "    numSubplot = len(sweeps)\n",
    "\n",
    "    fig1 = make_subplots(rows=5, cols=1, x_title=\"Phase\", y_title=\"Count\")  # plotly\n",
    "    fig1.update_layout(title_text=filename)\n",
    "\n",
    "    fig, axs = plt.subplots(numSubplot, 1, sharex=True, figsize=(8, 6))\n",
    "    fig.suptitle(filename)\n",
    "\n",
    "    for idx, sweep in enumerate(sweeps):\n",
    "\n",
    "        dfSweep = dfFile[dfFile[\"sweep\"] == sweep]  # grab one sweep from one file\n",
    "        peakPhase = dfSweep[\"peakPhase\"]  # grab the raw data\n",
    "\n",
    "        # trying to add something here to maybe make a psuedo time variable for x axis, Ill use the index\n",
    "        ourIndex = list(range(0, len(peakPhase)))\n",
    "\n",
    "        # selecting appropriate bins is important\n",
    "        # lots of different algorithms, not sure which one is best\n",
    "        # see: https://matplotlib.org/stable/api/_as_gen/matplotlib.pyplot.hist.html\n",
    "        bins = \"auto\"\n",
    "\n",
    "        # plot the histogram and grab its data\n",
    "        # counts, bins, bars = axs[idx].hist(peakPhase, bins=bins)\n",
    "\n",
    "        #\n",
    "        # TODO: Do a sine fit of x=bins and y=counts\n",
    "        #\n",
    "        # Lets tackle this sine fit\n",
    "\n",
    "        # Bins and counts arent the same length, so it did not work\n",
    "        axs[idx].scatter(ourIndex, peakPhase)\n",
    "\n",
    "        # Plotly adding points of actual data\n",
    "        fig1.add_trace(\n",
    "            go.Scatter(\n",
    "                x=ourIndex,\n",
    "                y=peakPhase,\n",
    "                mode=\"markers\",\n",
    "                line=dict(color=\"#008080\"),\n",
    "                showlegend=False,\n",
    "            ),\n",
    "            row=idx + 1,\n",
    "            col=1,\n",
    "        )\n",
    "        fig1.update_traces(\n",
    "            connectgaps=False\n",
    "        )  # this prevents the actual data from creating a line\n",
    "\n",
    "        res = fit_sin(ourIndex, peakPhase)\n",
    "        print(res)\n",
    "        #         print(\n",
    "        #             \"Amplitude=%(amp)s, Angular freq.=%(omega)s, phase=%(phase)s, offset=%(offset)s, Max. Cov.=%(maxcov)s\" % res)\n",
    "        # print(type(ourIndex))\n",
    "        \n",
    "        # Going about plotting the sine curve\n",
    "        x = np.asarray(ourIndex)\n",
    "\n",
    "        y = (\n",
    "            res.loc[\"Amplitude\", \"Parameters\"]\n",
    "            * np.sin(\n",
    "                res.loc[\"Omega\", \"Parameters\"] * x + res.loc[\"Phase\", \"Parameters\"]\n",
    "            )\n",
    "            + res.loc[\"Offset\", \"Parameters\"]\n",
    "        )\n",
    "        axs[idx].plot(ourIndex, y, \"b\")\n",
    "\n",
    "        # plotly adding sinusoidal prediction\n",
    "        fig1.add_trace(\n",
    "            go.Scatter(x=ourIndex, y=y, line=dict(color=\"#0000FF\"), showlegend=False),\n",
    "            row=idx + 1,\n",
    "            col=1,\n",
    "        )\n",
    "        print(find_chi(peakPhase, y))\n",
    "        axs[idx].set_ylabel(\"Count\")\n",
    "        axs[idx].set_xlabel(\n",
    "            \"Phase\"\n",
    "        )  # This is phase within a sin wave (we don't know the frequency)\n",
    "\n",
    "    return fig1.show()\n",
    "\n",
    "\n",
    "def run(path: str):\n",
    "    \"\"\"\n",
    "    Each 'filename' is a different recording\n",
    "        Within each recording we have a number of different sweeps ('sweep')\n",
    "            Within each sweep are 'peakPhase' values to analyze/fit\n",
    "\n",
    "    Args:\n",
    "        path (str): Full path to csv file for analysis.\n",
    "    \"\"\"\n",
    "\n",
    "    # load the file\n",
    "    df = pd.read_csv(path)\n",
    "\n",
    "    # check the format of loaded csv\n",
    "    print(f\"this is what our loaded file looks like, it has {len(df)} rows.\")\n",
    "    print(df.head())\n",
    "\n",
    "    # print some stats\n",
    "    aggList = [\"count\", \"median\", \"mean\", \"std\", \"min\", \"max\"]\n",
    "    dfTmp = df.groupby([\"filename\", \"sweep\"]).agg(aggList)\n",
    "    print(\"\")\n",
    "    print(\"and here it is grouped by ['filename', 'sweep'] ...\")\n",
    "    print(dfTmp)\n",
    "\n",
    "    # plot each file in a figure with subplots corresponding to sweep\n",
    "    filenames = df[\"filename\"].unique()\n",
    "    for filename in filenames:\n",
    "        plotOneFile(df, filename)\n",
    "\n",
    "        #\n",
    "    plt.show()\n",
    "\n",
    "\n",
    "if __name__ == \"__main__\":\n",
    "    #\n",
    "    # change this to location of your csv file\n",
    "    #\n",
    "    # path = '/home/cudmore/Sites/SanPy/colin/gianni-master.csv'\n",
    "\n",
    "    # Laptop G\n",
    "    # path = \"C:/Users/Gianni/Desktop/Github/Cudmore/SinusoidalRegress/gianni-master-20220104.csv\"\n",
    "\n",
    "    # Desktop G\n",
    "    path = \"C:/Users/Gianni/Documents/GitHub/Cudmore/SinusoidalRegress/gianni-master-20220104.csv\"\n",
    "    run(path)"
   ]
  }
 ],
 "metadata": {
  "kernelspec": {
   "display_name": "Python 3",
   "language": "python",
   "name": "python3"
  },
  "language_info": {
   "codemirror_mode": {
    "name": "ipython",
    "version": 3
   },
   "file_extension": ".py",
   "mimetype": "text/x-python",
   "name": "python",
   "nbconvert_exporter": "python",
   "pygments_lexer": "ipython3",
   "version": "3.8.8"
  }
 },
 "nbformat": 4,
 "nbformat_minor": 5
}
