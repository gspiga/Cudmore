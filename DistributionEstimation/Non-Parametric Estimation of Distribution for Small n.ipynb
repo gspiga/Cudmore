{
 "cells": [
  {
   "cell_type": "markdown",
   "id": "e4de31c0",
   "metadata": {},
   "source": [
    "# Distribution Estimation"
   ]
  },
  {
   "cell_type": "markdown",
   "id": "c9a082c3",
   "metadata": {},
   "source": [
    "In this notebook, we take a step back from the procedures done in the \"Non-Parametric Distribution Comparisons\" notebook. Instead of looking at the mean and variance of the data, we aim to look at the data as a whole for each file and can we estimate how it is distributed, given each files sample size. \n",
    "\n",
    "Some specific questions I aim to answer in this notebook: <br>\n",
    "    - ~Can we visualize with histograms, the \"peakVal\" data?~ <br>\n",
    "    - ~Is our data approximately normal? Uniform? Something different?~ <br>\n",
    "    - ~How can we compare the distributions of the Control group versus Thapsigargin?~ <br>\n",
    "    - ~How do other columns contribute to the variance in our data?~ <br>\n",
    "    - Is the mean and variance from \"peakVal\" variable meaningful?<br>\n",
    "    - Are the mean and variance a valid measure? <br>\n",
    "    - ~Bonus: Does the sex of the mice examined have any influence on the data (if valid)?~ UPDATE: Sex data is NAN <br>"
   ]
  },
  {
   "cell_type": "code",
   "execution_count": 73,
   "id": "7bc5a9f5",
   "metadata": {},
   "outputs": [
    {
     "name": "stdout",
     "output_type": "stream",
     "text": [
      "The nb_black extension is already loaded. To reload it, use:\n",
      "  %reload_ext nb_black\n"
     ]
    },
    {
     "data": {
      "application/javascript": [
       "\n",
       "            setTimeout(function() {\n",
       "                var nbb_cell_id = 73;\n",
       "                var nbb_unformatted_code = \"# Auto formatting for Python to PEP8\\n%load_ext nb_black\";\n",
       "                var nbb_formatted_code = \"# Auto formatting for Python to PEP8\\n%load_ext nb_black\";\n",
       "                var nbb_cells = Jupyter.notebook.get_cells();\n",
       "                for (var i = 0; i < nbb_cells.length; ++i) {\n",
       "                    if (nbb_cells[i].input_prompt_number == nbb_cell_id) {\n",
       "                        if (nbb_cells[i].get_text() == nbb_unformatted_code) {\n",
       "                             nbb_cells[i].set_text(nbb_formatted_code);\n",
       "                        }\n",
       "                        break;\n",
       "                    }\n",
       "                }\n",
       "            }, 500);\n",
       "            "
      ],
      "text/plain": [
       "<IPython.core.display.Javascript object>"
      ]
     },
     "metadata": {},
     "output_type": "display_data"
    }
   ],
   "source": [
    "# Auto formatting for Python to PEP8\n",
    "%load_ext nb_black"
   ]
  },
  {
   "cell_type": "code",
   "execution_count": 74,
   "id": "099dec37",
   "metadata": {},
   "outputs": [
    {
     "data": {
      "application/javascript": [
       "\n",
       "            setTimeout(function() {\n",
       "                var nbb_cell_id = 74;\n",
       "                var nbb_unformatted_code = \"import numpy as np\\nfrom numpy.random import default_rng\\nimport pandas as pd\\nimport scipy.stats as sp\\nimport plotly.express as px\\nimport plotly.graph_objects as go\\nfrom plotly.subplots import make_subplots\\nfrom IPython.display import display\\nimport seaborn as sns\\nfrom sklearn.neighbors import KernelDensity\";\n",
       "                var nbb_formatted_code = \"import numpy as np\\nfrom numpy.random import default_rng\\nimport pandas as pd\\nimport scipy.stats as sp\\nimport plotly.express as px\\nimport plotly.graph_objects as go\\nfrom plotly.subplots import make_subplots\\nfrom IPython.display import display\\nimport seaborn as sns\\nfrom sklearn.neighbors import KernelDensity\";\n",
       "                var nbb_cells = Jupyter.notebook.get_cells();\n",
       "                for (var i = 0; i < nbb_cells.length; ++i) {\n",
       "                    if (nbb_cells[i].input_prompt_number == nbb_cell_id) {\n",
       "                        if (nbb_cells[i].get_text() == nbb_unformatted_code) {\n",
       "                             nbb_cells[i].set_text(nbb_formatted_code);\n",
       "                        }\n",
       "                        break;\n",
       "                    }\n",
       "                }\n",
       "            }, 500);\n",
       "            "
      ],
      "text/plain": [
       "<IPython.core.display.Javascript object>"
      ]
     },
     "metadata": {},
     "output_type": "display_data"
    }
   ],
   "source": [
    "import numpy as np\n",
    "from numpy.random import default_rng\n",
    "import pandas as pd\n",
    "import scipy.stats as sp\n",
    "import plotly.express as px\n",
    "import plotly.graph_objects as go\n",
    "from plotly.subplots import make_subplots\n",
    "from IPython.display import display\n",
    "import seaborn as sns\n",
    "from sklearn.neighbors import KernelDensity"
   ]
  },
  {
   "cell_type": "code",
   "execution_count": 75,
   "id": "70ef41c5",
   "metadata": {},
   "outputs": [
    {
     "data": {
      "text/html": [
       "<div>\n",
       "<style scoped>\n",
       "    .dataframe tbody tr th:only-of-type {\n",
       "        vertical-align: middle;\n",
       "    }\n",
       "\n",
       "    .dataframe tbody tr th {\n",
       "        vertical-align: top;\n",
       "    }\n",
       "\n",
       "    .dataframe thead th {\n",
       "        text-align: right;\n",
       "    }\n",
       "</style>\n",
       "<table border=\"1\" class=\"dataframe\">\n",
       "  <thead>\n",
       "    <tr style=\"text-align: right;\">\n",
       "      <th></th>\n",
       "      <th>analysisVersion</th>\n",
       "      <th>interfaceVersion</th>\n",
       "      <th>file</th>\n",
       "      <th>detectionType</th>\n",
       "      <th>cellType</th>\n",
       "      <th>sex</th>\n",
       "      <th>condition</th>\n",
       "      <th>sweep</th>\n",
       "      <th>sweepSpikeNumber</th>\n",
       "      <th>spikeNumber</th>\n",
       "      <th>...</th>\n",
       "      <th>diastolicDuration_ms</th>\n",
       "      <th>widths</th>\n",
       "      <th>widths_10</th>\n",
       "      <th>widths_20</th>\n",
       "      <th>widths_50</th>\n",
       "      <th>widths_80</th>\n",
       "      <th>widths_90</th>\n",
       "      <th>myDateStr</th>\n",
       "      <th>fileIdx</th>\n",
       "      <th>myFileIdx</th>\n",
       "    </tr>\n",
       "  </thead>\n",
       "  <tbody>\n",
       "    <tr>\n",
       "      <th>0</th>\n",
       "      <td>20210803a</td>\n",
       "      <td>20210803a</td>\n",
       "      <td>220110n_0003.tif</td>\n",
       "      <td>mv</td>\n",
       "      <td>NaN</td>\n",
       "      <td>NaN</td>\n",
       "      <td>Control</td>\n",
       "      <td>0</td>\n",
       "      <td>0</td>\n",
       "      <td>0</td>\n",
       "      <td>...</td>\n",
       "      <td>23.5704</td>\n",
       "      <td>[{'halfHeight': 10, 'risingPnt': 96, 'fallingP...</td>\n",
       "      <td>769.9664</td>\n",
       "      <td>742.4676</td>\n",
       "      <td>557.8328</td>\n",
       "      <td>396.7684</td>\n",
       "      <td>302.4868</td>\n",
       "      <td>jan-12-2022</td>\n",
       "      <td>0</td>\n",
       "      <td>0</td>\n",
       "    </tr>\n",
       "    <tr>\n",
       "      <th>1</th>\n",
       "      <td>20210803a</td>\n",
       "      <td>20210803a</td>\n",
       "      <td>220110n_0003.tif</td>\n",
       "      <td>mv</td>\n",
       "      <td>NaN</td>\n",
       "      <td>NaN</td>\n",
       "      <td>Control</td>\n",
       "      <td>0</td>\n",
       "      <td>1</td>\n",
       "      <td>1</td>\n",
       "      <td>...</td>\n",
       "      <td>3.9284</td>\n",
       "      <td>[{'halfHeight': 10, 'risingPnt': 347, 'falling...</td>\n",
       "      <td>785.6800</td>\n",
       "      <td>754.2528</td>\n",
       "      <td>589.2600</td>\n",
       "      <td>428.1956</td>\n",
       "      <td>345.6992</td>\n",
       "      <td>jan-12-2022</td>\n",
       "      <td>0</td>\n",
       "      <td>0</td>\n",
       "    </tr>\n",
       "    <tr>\n",
       "      <th>2</th>\n",
       "      <td>20210803a</td>\n",
       "      <td>20210803a</td>\n",
       "      <td>220110n_0003.tif</td>\n",
       "      <td>mv</td>\n",
       "      <td>NaN</td>\n",
       "      <td>NaN</td>\n",
       "      <td>Control</td>\n",
       "      <td>0</td>\n",
       "      <td>2</td>\n",
       "      <td>2</td>\n",
       "      <td>...</td>\n",
       "      <td>3.9284</td>\n",
       "      <td>[{'halfHeight': 10, 'risingPnt': 598, 'falling...</td>\n",
       "      <td>809.2504</td>\n",
       "      <td>754.2528</td>\n",
       "      <td>581.4032</td>\n",
       "      <td>408.5536</td>\n",
       "      <td>282.8448</td>\n",
       "      <td>jan-12-2022</td>\n",
       "      <td>0</td>\n",
       "      <td>0</td>\n",
       "    </tr>\n",
       "    <tr>\n",
       "      <th>3</th>\n",
       "      <td>20210803a</td>\n",
       "      <td>20210803a</td>\n",
       "      <td>220110n_0003.tif</td>\n",
       "      <td>mv</td>\n",
       "      <td>NaN</td>\n",
       "      <td>NaN</td>\n",
       "      <td>Control</td>\n",
       "      <td>0</td>\n",
       "      <td>3</td>\n",
       "      <td>3</td>\n",
       "      <td>...</td>\n",
       "      <td>19.6420</td>\n",
       "      <td>[{'halfHeight': 10, 'risingPnt': 849, 'falling...</td>\n",
       "      <td>895.6752</td>\n",
       "      <td>726.7540</td>\n",
       "      <td>581.4032</td>\n",
       "      <td>396.7684</td>\n",
       "      <td>259.2744</td>\n",
       "      <td>jan-12-2022</td>\n",
       "      <td>0</td>\n",
       "      <td>0</td>\n",
       "    </tr>\n",
       "    <tr>\n",
       "      <th>4</th>\n",
       "      <td>20210803a</td>\n",
       "      <td>20210803a</td>\n",
       "      <td>220110n_0003.tif</td>\n",
       "      <td>mv</td>\n",
       "      <td>NaN</td>\n",
       "      <td>NaN</td>\n",
       "      <td>Control</td>\n",
       "      <td>0</td>\n",
       "      <td>4</td>\n",
       "      <td>4</td>\n",
       "      <td>...</td>\n",
       "      <td>3.9284</td>\n",
       "      <td>[{'halfHeight': 10, 'risingPnt': 1100, 'fallin...</td>\n",
       "      <td>813.1788</td>\n",
       "      <td>714.9688</td>\n",
       "      <td>601.0452</td>\n",
       "      <td>381.0548</td>\n",
       "      <td>243.5608</td>\n",
       "      <td>jan-12-2022</td>\n",
       "      <td>0</td>\n",
       "      <td>0</td>\n",
       "    </tr>\n",
       "    <tr>\n",
       "      <th>...</th>\n",
       "      <td>...</td>\n",
       "      <td>...</td>\n",
       "      <td>...</td>\n",
       "      <td>...</td>\n",
       "      <td>...</td>\n",
       "      <td>...</td>\n",
       "      <td>...</td>\n",
       "      <td>...</td>\n",
       "      <td>...</td>\n",
       "      <td>...</td>\n",
       "      <td>...</td>\n",
       "      <td>...</td>\n",
       "      <td>...</td>\n",
       "      <td>...</td>\n",
       "      <td>...</td>\n",
       "      <td>...</td>\n",
       "      <td>...</td>\n",
       "      <td>...</td>\n",
       "      <td>...</td>\n",
       "      <td>...</td>\n",
       "      <td>...</td>\n",
       "    </tr>\n",
       "    <tr>\n",
       "      <th>395</th>\n",
       "      <td>20210803a</td>\n",
       "      <td>20210803a</td>\n",
       "      <td>thapsi 2.5_0047.tif</td>\n",
       "      <td>mv</td>\n",
       "      <td>NaN</td>\n",
       "      <td>NaN</td>\n",
       "      <td>TG</td>\n",
       "      <td>0</td>\n",
       "      <td>0</td>\n",
       "      <td>0</td>\n",
       "      <td>...</td>\n",
       "      <td>51.5350</td>\n",
       "      <td>[{'halfHeight': 10, 'risingPnt': 169, 'falling...</td>\n",
       "      <td>688.6950</td>\n",
       "      <td>627.7900</td>\n",
       "      <td>505.9800</td>\n",
       "      <td>187.4000</td>\n",
       "      <td>182.7150</td>\n",
       "      <td>feb-15-2022</td>\n",
       "      <td>8</td>\n",
       "      <td>2</td>\n",
       "    </tr>\n",
       "    <tr>\n",
       "      <th>396</th>\n",
       "      <td>20210803a</td>\n",
       "      <td>20210803a</td>\n",
       "      <td>thapsi 2.5_0047.tif</td>\n",
       "      <td>mv</td>\n",
       "      <td>NaN</td>\n",
       "      <td>NaN</td>\n",
       "      <td>TG</td>\n",
       "      <td>0</td>\n",
       "      <td>1</td>\n",
       "      <td>1</td>\n",
       "      <td>...</td>\n",
       "      <td>18.7400</td>\n",
       "      <td>[{'halfHeight': 10, 'risingPnt': 346, 'falling...</td>\n",
       "      <td>773.0250</td>\n",
       "      <td>726.1750</td>\n",
       "      <td>580.9400</td>\n",
       "      <td>281.1000</td>\n",
       "      <td>79.6450</td>\n",
       "      <td>feb-15-2022</td>\n",
       "      <td>8</td>\n",
       "      <td>2</td>\n",
       "    </tr>\n",
       "    <tr>\n",
       "      <th>397</th>\n",
       "      <td>20210803a</td>\n",
       "      <td>20210803a</td>\n",
       "      <td>thapsi 2.5_0047.tif</td>\n",
       "      <td>mv</td>\n",
       "      <td>NaN</td>\n",
       "      <td>NaN</td>\n",
       "      <td>TG</td>\n",
       "      <td>0</td>\n",
       "      <td>2</td>\n",
       "      <td>2</td>\n",
       "      <td>...</td>\n",
       "      <td>79.6450</td>\n",
       "      <td>[{'halfHeight': 10, 'risingPnt': 541, 'falling...</td>\n",
       "      <td>754.2850</td>\n",
       "      <td>716.8050</td>\n",
       "      <td>557.5150</td>\n",
       "      <td>248.3050</td>\n",
       "      <td>182.7150</td>\n",
       "      <td>feb-15-2022</td>\n",
       "      <td>8</td>\n",
       "      <td>2</td>\n",
       "    </tr>\n",
       "    <tr>\n",
       "      <th>398</th>\n",
       "      <td>20210803a</td>\n",
       "      <td>20210803a</td>\n",
       "      <td>thapsi 2.5_0047.tif</td>\n",
       "      <td>mv</td>\n",
       "      <td>NaN</td>\n",
       "      <td>NaN</td>\n",
       "      <td>TG</td>\n",
       "      <td>0</td>\n",
       "      <td>3</td>\n",
       "      <td>3</td>\n",
       "      <td>...</td>\n",
       "      <td>28.1100</td>\n",
       "      <td>[{'halfHeight': 10, 'risingPnt': 720, 'falling...</td>\n",
       "      <td>482.5550</td>\n",
       "      <td>454.4450</td>\n",
       "      <td>351.3750</td>\n",
       "      <td>154.6050</td>\n",
       "      <td>84.3300</td>\n",
       "      <td>feb-15-2022</td>\n",
       "      <td>8</td>\n",
       "      <td>2</td>\n",
       "    </tr>\n",
       "    <tr>\n",
       "      <th>399</th>\n",
       "      <td>20210803a</td>\n",
       "      <td>20210803a</td>\n",
       "      <td>thapsi 2.5_0047.tif</td>\n",
       "      <td>mv</td>\n",
       "      <td>NaN</td>\n",
       "      <td>NaN</td>\n",
       "      <td>TG</td>\n",
       "      <td>0</td>\n",
       "      <td>4</td>\n",
       "      <td>4</td>\n",
       "      <td>...</td>\n",
       "      <td>28.1100</td>\n",
       "      <td>[{'halfHeight': 10, 'risingPnt': 843, 'falling...</td>\n",
       "      <td>571.5700</td>\n",
       "      <td>562.2000</td>\n",
       "      <td>487.2400</td>\n",
       "      <td>337.3200</td>\n",
       "      <td>229.5650</td>\n",
       "      <td>feb-15-2022</td>\n",
       "      <td>8</td>\n",
       "      <td>2</td>\n",
       "    </tr>\n",
       "  </tbody>\n",
       "</table>\n",
       "<p>400 rows × 57 columns</p>\n",
       "</div>"
      ],
      "text/plain": [
       "    analysisVersion interfaceVersion                 file detectionType  \\\n",
       "0         20210803a        20210803a     220110n_0003.tif            mv   \n",
       "1         20210803a        20210803a     220110n_0003.tif            mv   \n",
       "2         20210803a        20210803a     220110n_0003.tif            mv   \n",
       "3         20210803a        20210803a     220110n_0003.tif            mv   \n",
       "4         20210803a        20210803a     220110n_0003.tif            mv   \n",
       "..              ...              ...                  ...           ...   \n",
       "395       20210803a        20210803a  thapsi 2.5_0047.tif            mv   \n",
       "396       20210803a        20210803a  thapsi 2.5_0047.tif            mv   \n",
       "397       20210803a        20210803a  thapsi 2.5_0047.tif            mv   \n",
       "398       20210803a        20210803a  thapsi 2.5_0047.tif            mv   \n",
       "399       20210803a        20210803a  thapsi 2.5_0047.tif            mv   \n",
       "\n",
       "     cellType  sex condition  sweep  sweepSpikeNumber  spikeNumber  ...  \\\n",
       "0         NaN  NaN   Control      0                 0            0  ...   \n",
       "1         NaN  NaN   Control      0                 1            1  ...   \n",
       "2         NaN  NaN   Control      0                 2            2  ...   \n",
       "3         NaN  NaN   Control      0                 3            3  ...   \n",
       "4         NaN  NaN   Control      0                 4            4  ...   \n",
       "..        ...  ...       ...    ...               ...          ...  ...   \n",
       "395       NaN  NaN        TG      0                 0            0  ...   \n",
       "396       NaN  NaN        TG      0                 1            1  ...   \n",
       "397       NaN  NaN        TG      0                 2            2  ...   \n",
       "398       NaN  NaN        TG      0                 3            3  ...   \n",
       "399       NaN  NaN        TG      0                 4            4  ...   \n",
       "\n",
       "     diastolicDuration_ms                                             widths  \\\n",
       "0                 23.5704  [{'halfHeight': 10, 'risingPnt': 96, 'fallingP...   \n",
       "1                  3.9284  [{'halfHeight': 10, 'risingPnt': 347, 'falling...   \n",
       "2                  3.9284  [{'halfHeight': 10, 'risingPnt': 598, 'falling...   \n",
       "3                 19.6420  [{'halfHeight': 10, 'risingPnt': 849, 'falling...   \n",
       "4                  3.9284  [{'halfHeight': 10, 'risingPnt': 1100, 'fallin...   \n",
       "..                    ...                                                ...   \n",
       "395               51.5350  [{'halfHeight': 10, 'risingPnt': 169, 'falling...   \n",
       "396               18.7400  [{'halfHeight': 10, 'risingPnt': 346, 'falling...   \n",
       "397               79.6450  [{'halfHeight': 10, 'risingPnt': 541, 'falling...   \n",
       "398               28.1100  [{'halfHeight': 10, 'risingPnt': 720, 'falling...   \n",
       "399               28.1100  [{'halfHeight': 10, 'risingPnt': 843, 'falling...   \n",
       "\n",
       "    widths_10  widths_20  widths_50  widths_80 widths_90    myDateStr  \\\n",
       "0    769.9664   742.4676   557.8328   396.7684  302.4868  jan-12-2022   \n",
       "1    785.6800   754.2528   589.2600   428.1956  345.6992  jan-12-2022   \n",
       "2    809.2504   754.2528   581.4032   408.5536  282.8448  jan-12-2022   \n",
       "3    895.6752   726.7540   581.4032   396.7684  259.2744  jan-12-2022   \n",
       "4    813.1788   714.9688   601.0452   381.0548  243.5608  jan-12-2022   \n",
       "..        ...        ...        ...        ...       ...          ...   \n",
       "395  688.6950   627.7900   505.9800   187.4000  182.7150  feb-15-2022   \n",
       "396  773.0250   726.1750   580.9400   281.1000   79.6450  feb-15-2022   \n",
       "397  754.2850   716.8050   557.5150   248.3050  182.7150  feb-15-2022   \n",
       "398  482.5550   454.4450   351.3750   154.6050   84.3300  feb-15-2022   \n",
       "399  571.5700   562.2000   487.2400   337.3200  229.5650  feb-15-2022   \n",
       "\n",
       "     fileIdx  myFileIdx  \n",
       "0          0          0  \n",
       "1          0          0  \n",
       "2          0          0  \n",
       "3          0          0  \n",
       "4          0          0  \n",
       "..       ...        ...  \n",
       "395        8          2  \n",
       "396        8          2  \n",
       "397        8          2  \n",
       "398        8          2  \n",
       "399        8          2  \n",
       "\n",
       "[400 rows x 57 columns]"
      ]
     },
     "metadata": {},
     "output_type": "display_data"
    },
    {
     "data": {
      "application/javascript": [
       "\n",
       "            setTimeout(function() {\n",
       "                var nbb_cell_id = 75;\n",
       "                var nbb_unformatted_code = \"# we can add to this as we get more data\\npathList = []\\n\\n# I changed this to urls so that it would be accesable from any device\\n# pathList.append(\\\"dataGianni/masterDb-jan-12-2022.csv\\\")\\n# pathList.append(\\\"dataGianni/masterDb-jan-18-2022.csv\\\")\\n# pathList.append(\\\"dataGianni/masterDb-feb-15-2022.csv\\\")\\npathList.append(\\n    \\\"https://raw.githubusercontent.com/gspiga/Cudmore/main/VarAnalysis/gianni_var_analysis/dataGianni/masterDb-jan-12-2022.csv\\\"\\n)\\npathList.append(\\n    \\\"https://raw.githubusercontent.com/gspiga/Cudmore/main/VarAnalysis/gianni_var_analysis/dataGianni/masterDb-jan-18-2022.csv\\\"\\n)\\npathList.append(\\n    \\\"https://raw.githubusercontent.com/gspiga/Cudmore/main/VarAnalysis/gianni_var_analysis/dataGianni/masterDb-feb-15-2022.csv\\\"\\n)\\n\\n\\n# make a list of dataframe (from csv files)\\ndfList = []\\nfor fileIdx, path in enumerate(pathList):\\n    dfPath = pd.read_csv(path)\\n    dfPath[\\\"myFileIdx\\\"] = fileIdx  # add for our book keeping if necc\\n    dfList.append(dfPath)\\n\\n# make a single dataframe from all files in list\\ndfMaster = pd.concat(dfList, ignore_index=True)\\ndfMaster = dfMaster.drop(\\\"Unnamed: 0\\\", axis=1)\\ndisplay(dfMaster)\";\n",
       "                var nbb_formatted_code = \"# we can add to this as we get more data\\npathList = []\\n\\n# I changed this to urls so that it would be accesable from any device\\n# pathList.append(\\\"dataGianni/masterDb-jan-12-2022.csv\\\")\\n# pathList.append(\\\"dataGianni/masterDb-jan-18-2022.csv\\\")\\n# pathList.append(\\\"dataGianni/masterDb-feb-15-2022.csv\\\")\\npathList.append(\\n    \\\"https://raw.githubusercontent.com/gspiga/Cudmore/main/VarAnalysis/gianni_var_analysis/dataGianni/masterDb-jan-12-2022.csv\\\"\\n)\\npathList.append(\\n    \\\"https://raw.githubusercontent.com/gspiga/Cudmore/main/VarAnalysis/gianni_var_analysis/dataGianni/masterDb-jan-18-2022.csv\\\"\\n)\\npathList.append(\\n    \\\"https://raw.githubusercontent.com/gspiga/Cudmore/main/VarAnalysis/gianni_var_analysis/dataGianni/masterDb-feb-15-2022.csv\\\"\\n)\\n\\n\\n# make a list of dataframe (from csv files)\\ndfList = []\\nfor fileIdx, path in enumerate(pathList):\\n    dfPath = pd.read_csv(path)\\n    dfPath[\\\"myFileIdx\\\"] = fileIdx  # add for our book keeping if necc\\n    dfList.append(dfPath)\\n\\n# make a single dataframe from all files in list\\ndfMaster = pd.concat(dfList, ignore_index=True)\\ndfMaster = dfMaster.drop(\\\"Unnamed: 0\\\", axis=1)\\ndisplay(dfMaster)\";\n",
       "                var nbb_cells = Jupyter.notebook.get_cells();\n",
       "                for (var i = 0; i < nbb_cells.length; ++i) {\n",
       "                    if (nbb_cells[i].input_prompt_number == nbb_cell_id) {\n",
       "                        if (nbb_cells[i].get_text() == nbb_unformatted_code) {\n",
       "                             nbb_cells[i].set_text(nbb_formatted_code);\n",
       "                        }\n",
       "                        break;\n",
       "                    }\n",
       "                }\n",
       "            }, 500);\n",
       "            "
      ],
      "text/plain": [
       "<IPython.core.display.Javascript object>"
      ]
     },
     "metadata": {},
     "output_type": "display_data"
    }
   ],
   "source": [
    "# we can add to this as we get more data\n",
    "pathList = []\n",
    "\n",
    "# I changed this to urls so that it would be accesable from any device\n",
    "# pathList.append(\"dataGianni/masterDb-jan-12-2022.csv\")\n",
    "# pathList.append(\"dataGianni/masterDb-jan-18-2022.csv\")\n",
    "# pathList.append(\"dataGianni/masterDb-feb-15-2022.csv\")\n",
    "pathList.append(\n",
    "    \"https://raw.githubusercontent.com/gspiga/Cudmore/main/VarAnalysis/gianni_var_analysis/dataGianni/masterDb-jan-12-2022.csv\"\n",
    ")\n",
    "pathList.append(\n",
    "    \"https://raw.githubusercontent.com/gspiga/Cudmore/main/VarAnalysis/gianni_var_analysis/dataGianni/masterDb-jan-18-2022.csv\"\n",
    ")\n",
    "pathList.append(\n",
    "    \"https://raw.githubusercontent.com/gspiga/Cudmore/main/VarAnalysis/gianni_var_analysis/dataGianni/masterDb-feb-15-2022.csv\"\n",
    ")\n",
    "\n",
    "\n",
    "# make a list of dataframe (from csv files)\n",
    "dfList = []\n",
    "for fileIdx, path in enumerate(pathList):\n",
    "    dfPath = pd.read_csv(path)\n",
    "    dfPath[\"myFileIdx\"] = fileIdx  # add for our book keeping if necc\n",
    "    dfList.append(dfPath)\n",
    "\n",
    "# make a single dataframe from all files in list\n",
    "dfMaster = pd.concat(dfList, ignore_index=True)\n",
    "dfMaster = dfMaster.drop(\"Unnamed: 0\", axis=1)\n",
    "display(dfMaster)"
   ]
  },
  {
   "cell_type": "markdown",
   "id": "68273262",
   "metadata": {},
   "source": [
    "## Exploring Kernel Density Estimation"
   ]
  },
  {
   "cell_type": "markdown",
   "id": "ac8aa627",
   "metadata": {},
   "source": [
    "Most people perform density estimation all the time without knowing it. The histogram is the easiest way to understand how data is distrubuted. However, the histogram and the data are victim to the bin width of the histogram itself. Different bins can easily present the same data in a very different way. Kernel Density Estimation is a technique used to mathematically estimate the distribution of the data. There are different types of KDEs, such as the Gaussian, tophat, and Epanechnikov. \n",
    "\n",
    "Our goal is to understand how the data of each file is distributed. While some of them have very small samples sizes (I believe n = 4 is the smallest), we should have no issues with using KDE as it is a non-parametric method, not restricting us with statistical assumptions.\n",
    "\n",
    "In this notebook, we will use Sklearn's **KernalDensity()** function, with different types of KDEs. "
   ]
  },
  {
   "cell_type": "code",
   "execution_count": 76,
   "id": "089383b0",
   "metadata": {},
   "outputs": [
    {
     "data": {
      "application/vnd.plotly.v1+json": {
       "config": {
        "plotlyServerURL": "https://plot.ly"
       },
       "data": [
        {
         "histnorm": "probability density",
         "name": "2.5Hz_ctrl_0012.tif",
         "type": "histogram",
         "x": [
          2.7580104822355067,
          2.766385359484992,
          2.8662807628779854,
          2.87029832607804,
          2.886815183815367,
          2.8981654206627194,
          3.0342219028305037,
          3.0400176083496677,
          3.0474371950049464,
          3.125511413446306,
          3.1270886399807347,
          3.136787905923251,
          3.176939458129375
         ]
        },
        {
         "mode": "lines",
         "name": "KDE",
         "type": "scatter",
         "x": [
          2.7580104822355067,
          2.766385359484992,
          2.8662807628779854,
          2.87029832607804,
          2.886815183815367,
          2.8981654206627194,
          3.0342219028305037,
          3.0400176083496677,
          3.0474371950049464,
          3.125511413446306,
          3.1270886399807347,
          3.136787905923251,
          3.176939458129375
         ],
         "y": [
          1.3614235030472752,
          1.425973930366211,
          2.4372708863016745,
          2.4582133518351656,
          2.430278792969178,
          2.3025877417898397,
          2.1548041372936084,
          2.2362001659146533,
          2.325835848440407,
          2.6267653285708294,
          2.6195915881529968,
          2.5525340608424867,
          1.839690048320217
         ]
        }
       ],
       "layout": {
        "template": {
         "data": {
          "bar": [
           {
            "error_x": {
             "color": "#2a3f5f"
            },
            "error_y": {
             "color": "#2a3f5f"
            },
            "marker": {
             "line": {
              "color": "#E5ECF6",
              "width": 0.5
             },
             "pattern": {
              "fillmode": "overlay",
              "size": 10,
              "solidity": 0.2
             }
            },
            "type": "bar"
           }
          ],
          "barpolar": [
           {
            "marker": {
             "line": {
              "color": "#E5ECF6",
              "width": 0.5
             },
             "pattern": {
              "fillmode": "overlay",
              "size": 10,
              "solidity": 0.2
             }
            },
            "type": "barpolar"
           }
          ],
          "carpet": [
           {
            "aaxis": {
             "endlinecolor": "#2a3f5f",
             "gridcolor": "white",
             "linecolor": "white",
             "minorgridcolor": "white",
             "startlinecolor": "#2a3f5f"
            },
            "baxis": {
             "endlinecolor": "#2a3f5f",
             "gridcolor": "white",
             "linecolor": "white",
             "minorgridcolor": "white",
             "startlinecolor": "#2a3f5f"
            },
            "type": "carpet"
           }
          ],
          "choropleth": [
           {
            "colorbar": {
             "outlinewidth": 0,
             "ticks": ""
            },
            "type": "choropleth"
           }
          ],
          "contour": [
           {
            "colorbar": {
             "outlinewidth": 0,
             "ticks": ""
            },
            "colorscale": [
             [
              0,
              "#0d0887"
             ],
             [
              0.1111111111111111,
              "#46039f"
             ],
             [
              0.2222222222222222,
              "#7201a8"
             ],
             [
              0.3333333333333333,
              "#9c179e"
             ],
             [
              0.4444444444444444,
              "#bd3786"
             ],
             [
              0.5555555555555556,
              "#d8576b"
             ],
             [
              0.6666666666666666,
              "#ed7953"
             ],
             [
              0.7777777777777778,
              "#fb9f3a"
             ],
             [
              0.8888888888888888,
              "#fdca26"
             ],
             [
              1,
              "#f0f921"
             ]
            ],
            "type": "contour"
           }
          ],
          "contourcarpet": [
           {
            "colorbar": {
             "outlinewidth": 0,
             "ticks": ""
            },
            "type": "contourcarpet"
           }
          ],
          "heatmap": [
           {
            "colorbar": {
             "outlinewidth": 0,
             "ticks": ""
            },
            "colorscale": [
             [
              0,
              "#0d0887"
             ],
             [
              0.1111111111111111,
              "#46039f"
             ],
             [
              0.2222222222222222,
              "#7201a8"
             ],
             [
              0.3333333333333333,
              "#9c179e"
             ],
             [
              0.4444444444444444,
              "#bd3786"
             ],
             [
              0.5555555555555556,
              "#d8576b"
             ],
             [
              0.6666666666666666,
              "#ed7953"
             ],
             [
              0.7777777777777778,
              "#fb9f3a"
             ],
             [
              0.8888888888888888,
              "#fdca26"
             ],
             [
              1,
              "#f0f921"
             ]
            ],
            "type": "heatmap"
           }
          ],
          "heatmapgl": [
           {
            "colorbar": {
             "outlinewidth": 0,
             "ticks": ""
            },
            "colorscale": [
             [
              0,
              "#0d0887"
             ],
             [
              0.1111111111111111,
              "#46039f"
             ],
             [
              0.2222222222222222,
              "#7201a8"
             ],
             [
              0.3333333333333333,
              "#9c179e"
             ],
             [
              0.4444444444444444,
              "#bd3786"
             ],
             [
              0.5555555555555556,
              "#d8576b"
             ],
             [
              0.6666666666666666,
              "#ed7953"
             ],
             [
              0.7777777777777778,
              "#fb9f3a"
             ],
             [
              0.8888888888888888,
              "#fdca26"
             ],
             [
              1,
              "#f0f921"
             ]
            ],
            "type": "heatmapgl"
           }
          ],
          "histogram": [
           {
            "marker": {
             "pattern": {
              "fillmode": "overlay",
              "size": 10,
              "solidity": 0.2
             }
            },
            "type": "histogram"
           }
          ],
          "histogram2d": [
           {
            "colorbar": {
             "outlinewidth": 0,
             "ticks": ""
            },
            "colorscale": [
             [
              0,
              "#0d0887"
             ],
             [
              0.1111111111111111,
              "#46039f"
             ],
             [
              0.2222222222222222,
              "#7201a8"
             ],
             [
              0.3333333333333333,
              "#9c179e"
             ],
             [
              0.4444444444444444,
              "#bd3786"
             ],
             [
              0.5555555555555556,
              "#d8576b"
             ],
             [
              0.6666666666666666,
              "#ed7953"
             ],
             [
              0.7777777777777778,
              "#fb9f3a"
             ],
             [
              0.8888888888888888,
              "#fdca26"
             ],
             [
              1,
              "#f0f921"
             ]
            ],
            "type": "histogram2d"
           }
          ],
          "histogram2dcontour": [
           {
            "colorbar": {
             "outlinewidth": 0,
             "ticks": ""
            },
            "colorscale": [
             [
              0,
              "#0d0887"
             ],
             [
              0.1111111111111111,
              "#46039f"
             ],
             [
              0.2222222222222222,
              "#7201a8"
             ],
             [
              0.3333333333333333,
              "#9c179e"
             ],
             [
              0.4444444444444444,
              "#bd3786"
             ],
             [
              0.5555555555555556,
              "#d8576b"
             ],
             [
              0.6666666666666666,
              "#ed7953"
             ],
             [
              0.7777777777777778,
              "#fb9f3a"
             ],
             [
              0.8888888888888888,
              "#fdca26"
             ],
             [
              1,
              "#f0f921"
             ]
            ],
            "type": "histogram2dcontour"
           }
          ],
          "mesh3d": [
           {
            "colorbar": {
             "outlinewidth": 0,
             "ticks": ""
            },
            "type": "mesh3d"
           }
          ],
          "parcoords": [
           {
            "line": {
             "colorbar": {
              "outlinewidth": 0,
              "ticks": ""
             }
            },
            "type": "parcoords"
           }
          ],
          "pie": [
           {
            "automargin": true,
            "type": "pie"
           }
          ],
          "scatter": [
           {
            "marker": {
             "colorbar": {
              "outlinewidth": 0,
              "ticks": ""
             }
            },
            "type": "scatter"
           }
          ],
          "scatter3d": [
           {
            "line": {
             "colorbar": {
              "outlinewidth": 0,
              "ticks": ""
             }
            },
            "marker": {
             "colorbar": {
              "outlinewidth": 0,
              "ticks": ""
             }
            },
            "type": "scatter3d"
           }
          ],
          "scattercarpet": [
           {
            "marker": {
             "colorbar": {
              "outlinewidth": 0,
              "ticks": ""
             }
            },
            "type": "scattercarpet"
           }
          ],
          "scattergeo": [
           {
            "marker": {
             "colorbar": {
              "outlinewidth": 0,
              "ticks": ""
             }
            },
            "type": "scattergeo"
           }
          ],
          "scattergl": [
           {
            "marker": {
             "colorbar": {
              "outlinewidth": 0,
              "ticks": ""
             }
            },
            "type": "scattergl"
           }
          ],
          "scattermapbox": [
           {
            "marker": {
             "colorbar": {
              "outlinewidth": 0,
              "ticks": ""
             }
            },
            "type": "scattermapbox"
           }
          ],
          "scatterpolar": [
           {
            "marker": {
             "colorbar": {
              "outlinewidth": 0,
              "ticks": ""
             }
            },
            "type": "scatterpolar"
           }
          ],
          "scatterpolargl": [
           {
            "marker": {
             "colorbar": {
              "outlinewidth": 0,
              "ticks": ""
             }
            },
            "type": "scatterpolargl"
           }
          ],
          "scatterternary": [
           {
            "marker": {
             "colorbar": {
              "outlinewidth": 0,
              "ticks": ""
             }
            },
            "type": "scatterternary"
           }
          ],
          "surface": [
           {
            "colorbar": {
             "outlinewidth": 0,
             "ticks": ""
            },
            "colorscale": [
             [
              0,
              "#0d0887"
             ],
             [
              0.1111111111111111,
              "#46039f"
             ],
             [
              0.2222222222222222,
              "#7201a8"
             ],
             [
              0.3333333333333333,
              "#9c179e"
             ],
             [
              0.4444444444444444,
              "#bd3786"
             ],
             [
              0.5555555555555556,
              "#d8576b"
             ],
             [
              0.6666666666666666,
              "#ed7953"
             ],
             [
              0.7777777777777778,
              "#fb9f3a"
             ],
             [
              0.8888888888888888,
              "#fdca26"
             ],
             [
              1,
              "#f0f921"
             ]
            ],
            "type": "surface"
           }
          ],
          "table": [
           {
            "cells": {
             "fill": {
              "color": "#EBF0F8"
             },
             "line": {
              "color": "white"
             }
            },
            "header": {
             "fill": {
              "color": "#C8D4E3"
             },
             "line": {
              "color": "white"
             }
            },
            "type": "table"
           }
          ]
         },
         "layout": {
          "annotationdefaults": {
           "arrowcolor": "#2a3f5f",
           "arrowhead": 0,
           "arrowwidth": 1
          },
          "autotypenumbers": "strict",
          "coloraxis": {
           "colorbar": {
            "outlinewidth": 0,
            "ticks": ""
           }
          },
          "colorscale": {
           "diverging": [
            [
             0,
             "#8e0152"
            ],
            [
             0.1,
             "#c51b7d"
            ],
            [
             0.2,
             "#de77ae"
            ],
            [
             0.3,
             "#f1b6da"
            ],
            [
             0.4,
             "#fde0ef"
            ],
            [
             0.5,
             "#f7f7f7"
            ],
            [
             0.6,
             "#e6f5d0"
            ],
            [
             0.7,
             "#b8e186"
            ],
            [
             0.8,
             "#7fbc41"
            ],
            [
             0.9,
             "#4d9221"
            ],
            [
             1,
             "#276419"
            ]
           ],
           "sequential": [
            [
             0,
             "#0d0887"
            ],
            [
             0.1111111111111111,
             "#46039f"
            ],
            [
             0.2222222222222222,
             "#7201a8"
            ],
            [
             0.3333333333333333,
             "#9c179e"
            ],
            [
             0.4444444444444444,
             "#bd3786"
            ],
            [
             0.5555555555555556,
             "#d8576b"
            ],
            [
             0.6666666666666666,
             "#ed7953"
            ],
            [
             0.7777777777777778,
             "#fb9f3a"
            ],
            [
             0.8888888888888888,
             "#fdca26"
            ],
            [
             1,
             "#f0f921"
            ]
           ],
           "sequentialminus": [
            [
             0,
             "#0d0887"
            ],
            [
             0.1111111111111111,
             "#46039f"
            ],
            [
             0.2222222222222222,
             "#7201a8"
            ],
            [
             0.3333333333333333,
             "#9c179e"
            ],
            [
             0.4444444444444444,
             "#bd3786"
            ],
            [
             0.5555555555555556,
             "#d8576b"
            ],
            [
             0.6666666666666666,
             "#ed7953"
            ],
            [
             0.7777777777777778,
             "#fb9f3a"
            ],
            [
             0.8888888888888888,
             "#fdca26"
            ],
            [
             1,
             "#f0f921"
            ]
           ]
          },
          "colorway": [
           "#636efa",
           "#EF553B",
           "#00cc96",
           "#ab63fa",
           "#FFA15A",
           "#19d3f3",
           "#FF6692",
           "#B6E880",
           "#FF97FF",
           "#FECB52"
          ],
          "font": {
           "color": "#2a3f5f"
          },
          "geo": {
           "bgcolor": "white",
           "lakecolor": "white",
           "landcolor": "#E5ECF6",
           "showlakes": true,
           "showland": true,
           "subunitcolor": "white"
          },
          "hoverlabel": {
           "align": "left"
          },
          "hovermode": "closest",
          "mapbox": {
           "style": "light"
          },
          "paper_bgcolor": "white",
          "plot_bgcolor": "#E5ECF6",
          "polar": {
           "angularaxis": {
            "gridcolor": "white",
            "linecolor": "white",
            "ticks": ""
           },
           "bgcolor": "#E5ECF6",
           "radialaxis": {
            "gridcolor": "white",
            "linecolor": "white",
            "ticks": ""
           }
          },
          "scene": {
           "xaxis": {
            "backgroundcolor": "#E5ECF6",
            "gridcolor": "white",
            "gridwidth": 2,
            "linecolor": "white",
            "showbackground": true,
            "ticks": "",
            "zerolinecolor": "white"
           },
           "yaxis": {
            "backgroundcolor": "#E5ECF6",
            "gridcolor": "white",
            "gridwidth": 2,
            "linecolor": "white",
            "showbackground": true,
            "ticks": "",
            "zerolinecolor": "white"
           },
           "zaxis": {
            "backgroundcolor": "#E5ECF6",
            "gridcolor": "white",
            "gridwidth": 2,
            "linecolor": "white",
            "showbackground": true,
            "ticks": "",
            "zerolinecolor": "white"
           }
          },
          "shapedefaults": {
           "line": {
            "color": "#2a3f5f"
           }
          },
          "ternary": {
           "aaxis": {
            "gridcolor": "white",
            "linecolor": "white",
            "ticks": ""
           },
           "baxis": {
            "gridcolor": "white",
            "linecolor": "white",
            "ticks": ""
           },
           "bgcolor": "#E5ECF6",
           "caxis": {
            "gridcolor": "white",
            "linecolor": "white",
            "ticks": ""
           }
          },
          "title": {
           "x": 0.05
          },
          "xaxis": {
           "automargin": true,
           "gridcolor": "white",
           "linecolor": "white",
           "ticks": "",
           "title": {
            "standoff": 15
           },
           "zerolinecolor": "white",
           "zerolinewidth": 2
          },
          "yaxis": {
           "automargin": true,
           "gridcolor": "white",
           "linecolor": "white",
           "ticks": "",
           "title": {
            "standoff": 15
           },
           "zerolinecolor": "white",
           "zerolinewidth": 2
          }
         }
        }
       }
      },
      "text/html": [
       "<div>                            <div id=\"7d4a4920-addb-47e5-a2ce-d53c8fbffb6d\" class=\"plotly-graph-div\" style=\"height:525px; width:100%;\"></div>            <script type=\"text/javascript\">                require([\"plotly\"], function(Plotly) {                    window.PLOTLYENV=window.PLOTLYENV || {};                                    if (document.getElementById(\"7d4a4920-addb-47e5-a2ce-d53c8fbffb6d\")) {                    Plotly.newPlot(                        \"7d4a4920-addb-47e5-a2ce-d53c8fbffb6d\",                        [{\"histnorm\":\"probability density\",\"name\":\"2.5Hz_ctrl_0012.tif\",\"x\":[2.7580104822355067,2.766385359484992,2.8662807628779854,2.87029832607804,2.886815183815367,2.8981654206627194,3.0342219028305037,3.0400176083496677,3.0474371950049464,3.125511413446306,3.1270886399807347,3.136787905923251,3.176939458129375],\"type\":\"histogram\"},{\"mode\":\"lines\",\"name\":\"KDE\",\"x\":[2.7580104822355067,2.766385359484992,2.8662807628779854,2.87029832607804,2.886815183815367,2.8981654206627194,3.0342219028305037,3.0400176083496677,3.0474371950049464,3.125511413446306,3.1270886399807347,3.136787905923251,3.176939458129375],\"y\":[1.3614235030472752,1.425973930366211,2.4372708863016745,2.4582133518351656,2.430278792969178,2.3025877417898397,2.1548041372936084,2.2362001659146533,2.325835848440407,2.6267653285708294,2.6195915881529968,2.5525340608424867,1.839690048320217],\"type\":\"scatter\"}],                        {\"template\":{\"data\":{\"bar\":[{\"error_x\":{\"color\":\"#2a3f5f\"},\"error_y\":{\"color\":\"#2a3f5f\"},\"marker\":{\"line\":{\"color\":\"#E5ECF6\",\"width\":0.5},\"pattern\":{\"fillmode\":\"overlay\",\"size\":10,\"solidity\":0.2}},\"type\":\"bar\"}],\"barpolar\":[{\"marker\":{\"line\":{\"color\":\"#E5ECF6\",\"width\":0.5},\"pattern\":{\"fillmode\":\"overlay\",\"size\":10,\"solidity\":0.2}},\"type\":\"barpolar\"}],\"carpet\":[{\"aaxis\":{\"endlinecolor\":\"#2a3f5f\",\"gridcolor\":\"white\",\"linecolor\":\"white\",\"minorgridcolor\":\"white\",\"startlinecolor\":\"#2a3f5f\"},\"baxis\":{\"endlinecolor\":\"#2a3f5f\",\"gridcolor\":\"white\",\"linecolor\":\"white\",\"minorgridcolor\":\"white\",\"startlinecolor\":\"#2a3f5f\"},\"type\":\"carpet\"}],\"choropleth\":[{\"colorbar\":{\"outlinewidth\":0,\"ticks\":\"\"},\"type\":\"choropleth\"}],\"contour\":[{\"colorbar\":{\"outlinewidth\":0,\"ticks\":\"\"},\"colorscale\":[[0.0,\"#0d0887\"],[0.1111111111111111,\"#46039f\"],[0.2222222222222222,\"#7201a8\"],[0.3333333333333333,\"#9c179e\"],[0.4444444444444444,\"#bd3786\"],[0.5555555555555556,\"#d8576b\"],[0.6666666666666666,\"#ed7953\"],[0.7777777777777778,\"#fb9f3a\"],[0.8888888888888888,\"#fdca26\"],[1.0,\"#f0f921\"]],\"type\":\"contour\"}],\"contourcarpet\":[{\"colorbar\":{\"outlinewidth\":0,\"ticks\":\"\"},\"type\":\"contourcarpet\"}],\"heatmap\":[{\"colorbar\":{\"outlinewidth\":0,\"ticks\":\"\"},\"colorscale\":[[0.0,\"#0d0887\"],[0.1111111111111111,\"#46039f\"],[0.2222222222222222,\"#7201a8\"],[0.3333333333333333,\"#9c179e\"],[0.4444444444444444,\"#bd3786\"],[0.5555555555555556,\"#d8576b\"],[0.6666666666666666,\"#ed7953\"],[0.7777777777777778,\"#fb9f3a\"],[0.8888888888888888,\"#fdca26\"],[1.0,\"#f0f921\"]],\"type\":\"heatmap\"}],\"heatmapgl\":[{\"colorbar\":{\"outlinewidth\":0,\"ticks\":\"\"},\"colorscale\":[[0.0,\"#0d0887\"],[0.1111111111111111,\"#46039f\"],[0.2222222222222222,\"#7201a8\"],[0.3333333333333333,\"#9c179e\"],[0.4444444444444444,\"#bd3786\"],[0.5555555555555556,\"#d8576b\"],[0.6666666666666666,\"#ed7953\"],[0.7777777777777778,\"#fb9f3a\"],[0.8888888888888888,\"#fdca26\"],[1.0,\"#f0f921\"]],\"type\":\"heatmapgl\"}],\"histogram\":[{\"marker\":{\"pattern\":{\"fillmode\":\"overlay\",\"size\":10,\"solidity\":0.2}},\"type\":\"histogram\"}],\"histogram2d\":[{\"colorbar\":{\"outlinewidth\":0,\"ticks\":\"\"},\"colorscale\":[[0.0,\"#0d0887\"],[0.1111111111111111,\"#46039f\"],[0.2222222222222222,\"#7201a8\"],[0.3333333333333333,\"#9c179e\"],[0.4444444444444444,\"#bd3786\"],[0.5555555555555556,\"#d8576b\"],[0.6666666666666666,\"#ed7953\"],[0.7777777777777778,\"#fb9f3a\"],[0.8888888888888888,\"#fdca26\"],[1.0,\"#f0f921\"]],\"type\":\"histogram2d\"}],\"histogram2dcontour\":[{\"colorbar\":{\"outlinewidth\":0,\"ticks\":\"\"},\"colorscale\":[[0.0,\"#0d0887\"],[0.1111111111111111,\"#46039f\"],[0.2222222222222222,\"#7201a8\"],[0.3333333333333333,\"#9c179e\"],[0.4444444444444444,\"#bd3786\"],[0.5555555555555556,\"#d8576b\"],[0.6666666666666666,\"#ed7953\"],[0.7777777777777778,\"#fb9f3a\"],[0.8888888888888888,\"#fdca26\"],[1.0,\"#f0f921\"]],\"type\":\"histogram2dcontour\"}],\"mesh3d\":[{\"colorbar\":{\"outlinewidth\":0,\"ticks\":\"\"},\"type\":\"mesh3d\"}],\"parcoords\":[{\"line\":{\"colorbar\":{\"outlinewidth\":0,\"ticks\":\"\"}},\"type\":\"parcoords\"}],\"pie\":[{\"automargin\":true,\"type\":\"pie\"}],\"scatter\":[{\"marker\":{\"colorbar\":{\"outlinewidth\":0,\"ticks\":\"\"}},\"type\":\"scatter\"}],\"scatter3d\":[{\"line\":{\"colorbar\":{\"outlinewidth\":0,\"ticks\":\"\"}},\"marker\":{\"colorbar\":{\"outlinewidth\":0,\"ticks\":\"\"}},\"type\":\"scatter3d\"}],\"scattercarpet\":[{\"marker\":{\"colorbar\":{\"outlinewidth\":0,\"ticks\":\"\"}},\"type\":\"scattercarpet\"}],\"scattergeo\":[{\"marker\":{\"colorbar\":{\"outlinewidth\":0,\"ticks\":\"\"}},\"type\":\"scattergeo\"}],\"scattergl\":[{\"marker\":{\"colorbar\":{\"outlinewidth\":0,\"ticks\":\"\"}},\"type\":\"scattergl\"}],\"scattermapbox\":[{\"marker\":{\"colorbar\":{\"outlinewidth\":0,\"ticks\":\"\"}},\"type\":\"scattermapbox\"}],\"scatterpolar\":[{\"marker\":{\"colorbar\":{\"outlinewidth\":0,\"ticks\":\"\"}},\"type\":\"scatterpolar\"}],\"scatterpolargl\":[{\"marker\":{\"colorbar\":{\"outlinewidth\":0,\"ticks\":\"\"}},\"type\":\"scatterpolargl\"}],\"scatterternary\":[{\"marker\":{\"colorbar\":{\"outlinewidth\":0,\"ticks\":\"\"}},\"type\":\"scatterternary\"}],\"surface\":[{\"colorbar\":{\"outlinewidth\":0,\"ticks\":\"\"},\"colorscale\":[[0.0,\"#0d0887\"],[0.1111111111111111,\"#46039f\"],[0.2222222222222222,\"#7201a8\"],[0.3333333333333333,\"#9c179e\"],[0.4444444444444444,\"#bd3786\"],[0.5555555555555556,\"#d8576b\"],[0.6666666666666666,\"#ed7953\"],[0.7777777777777778,\"#fb9f3a\"],[0.8888888888888888,\"#fdca26\"],[1.0,\"#f0f921\"]],\"type\":\"surface\"}],\"table\":[{\"cells\":{\"fill\":{\"color\":\"#EBF0F8\"},\"line\":{\"color\":\"white\"}},\"header\":{\"fill\":{\"color\":\"#C8D4E3\"},\"line\":{\"color\":\"white\"}},\"type\":\"table\"}]},\"layout\":{\"annotationdefaults\":{\"arrowcolor\":\"#2a3f5f\",\"arrowhead\":0,\"arrowwidth\":1},\"autotypenumbers\":\"strict\",\"coloraxis\":{\"colorbar\":{\"outlinewidth\":0,\"ticks\":\"\"}},\"colorscale\":{\"diverging\":[[0,\"#8e0152\"],[0.1,\"#c51b7d\"],[0.2,\"#de77ae\"],[0.3,\"#f1b6da\"],[0.4,\"#fde0ef\"],[0.5,\"#f7f7f7\"],[0.6,\"#e6f5d0\"],[0.7,\"#b8e186\"],[0.8,\"#7fbc41\"],[0.9,\"#4d9221\"],[1,\"#276419\"]],\"sequential\":[[0.0,\"#0d0887\"],[0.1111111111111111,\"#46039f\"],[0.2222222222222222,\"#7201a8\"],[0.3333333333333333,\"#9c179e\"],[0.4444444444444444,\"#bd3786\"],[0.5555555555555556,\"#d8576b\"],[0.6666666666666666,\"#ed7953\"],[0.7777777777777778,\"#fb9f3a\"],[0.8888888888888888,\"#fdca26\"],[1.0,\"#f0f921\"]],\"sequentialminus\":[[0.0,\"#0d0887\"],[0.1111111111111111,\"#46039f\"],[0.2222222222222222,\"#7201a8\"],[0.3333333333333333,\"#9c179e\"],[0.4444444444444444,\"#bd3786\"],[0.5555555555555556,\"#d8576b\"],[0.6666666666666666,\"#ed7953\"],[0.7777777777777778,\"#fb9f3a\"],[0.8888888888888888,\"#fdca26\"],[1.0,\"#f0f921\"]]},\"colorway\":[\"#636efa\",\"#EF553B\",\"#00cc96\",\"#ab63fa\",\"#FFA15A\",\"#19d3f3\",\"#FF6692\",\"#B6E880\",\"#FF97FF\",\"#FECB52\"],\"font\":{\"color\":\"#2a3f5f\"},\"geo\":{\"bgcolor\":\"white\",\"lakecolor\":\"white\",\"landcolor\":\"#E5ECF6\",\"showlakes\":true,\"showland\":true,\"subunitcolor\":\"white\"},\"hoverlabel\":{\"align\":\"left\"},\"hovermode\":\"closest\",\"mapbox\":{\"style\":\"light\"},\"paper_bgcolor\":\"white\",\"plot_bgcolor\":\"#E5ECF6\",\"polar\":{\"angularaxis\":{\"gridcolor\":\"white\",\"linecolor\":\"white\",\"ticks\":\"\"},\"bgcolor\":\"#E5ECF6\",\"radialaxis\":{\"gridcolor\":\"white\",\"linecolor\":\"white\",\"ticks\":\"\"}},\"scene\":{\"xaxis\":{\"backgroundcolor\":\"#E5ECF6\",\"gridcolor\":\"white\",\"gridwidth\":2,\"linecolor\":\"white\",\"showbackground\":true,\"ticks\":\"\",\"zerolinecolor\":\"white\"},\"yaxis\":{\"backgroundcolor\":\"#E5ECF6\",\"gridcolor\":\"white\",\"gridwidth\":2,\"linecolor\":\"white\",\"showbackground\":true,\"ticks\":\"\",\"zerolinecolor\":\"white\"},\"zaxis\":{\"backgroundcolor\":\"#E5ECF6\",\"gridcolor\":\"white\",\"gridwidth\":2,\"linecolor\":\"white\",\"showbackground\":true,\"ticks\":\"\",\"zerolinecolor\":\"white\"}},\"shapedefaults\":{\"line\":{\"color\":\"#2a3f5f\"}},\"ternary\":{\"aaxis\":{\"gridcolor\":\"white\",\"linecolor\":\"white\",\"ticks\":\"\"},\"baxis\":{\"gridcolor\":\"white\",\"linecolor\":\"white\",\"ticks\":\"\"},\"bgcolor\":\"#E5ECF6\",\"caxis\":{\"gridcolor\":\"white\",\"linecolor\":\"white\",\"ticks\":\"\"}},\"title\":{\"x\":0.05},\"xaxis\":{\"automargin\":true,\"gridcolor\":\"white\",\"linecolor\":\"white\",\"ticks\":\"\",\"title\":{\"standoff\":15},\"zerolinecolor\":\"white\",\"zerolinewidth\":2},\"yaxis\":{\"automargin\":true,\"gridcolor\":\"white\",\"linecolor\":\"white\",\"ticks\":\"\",\"title\":{\"standoff\":15},\"zerolinecolor\":\"white\",\"zerolinewidth\":2}}}},                        {\"responsive\": true}                    ).then(function(){\n",
       "                            \n",
       "var gd = document.getElementById('7d4a4920-addb-47e5-a2ce-d53c8fbffb6d');\n",
       "var x = new MutationObserver(function (mutations, observer) {{\n",
       "        var display = window.getComputedStyle(gd).display;\n",
       "        if (!display || display === 'none') {{\n",
       "            console.log([gd, 'removed!']);\n",
       "            Plotly.purge(gd);\n",
       "            observer.disconnect();\n",
       "        }}\n",
       "}});\n",
       "\n",
       "// Listen for the removal of the full notebook cells\n",
       "var notebookContainer = gd.closest('#notebook-container');\n",
       "if (notebookContainer) {{\n",
       "    x.observe(notebookContainer, {childList: true});\n",
       "}}\n",
       "\n",
       "// Listen for the clearing of the current output cell\n",
       "var outputEl = gd.closest('.output');\n",
       "if (outputEl) {{\n",
       "    x.observe(outputEl, {childList: true});\n",
       "}}\n",
       "\n",
       "                        })                };                });            </script>        </div>"
      ]
     },
     "metadata": {},
     "output_type": "display_data"
    },
    {
     "data": {
      "application/javascript": [
       "\n",
       "            setTimeout(function() {\n",
       "                var nbb_cell_id = 76;\n",
       "                var nbb_unformatted_code = \"# Lets look at just one file\\nsubset = dfMaster[\\\"peakVal\\\"][dfMaster[\\\"file\\\"] == \\\"2.5Hz_ctrl_0012.tif\\\"]\\nplotdf = pd.DataFrame({\\\"subset\\\": subset}).reset_index(drop=True)\\n\\n# KDE\\nsubset = subset.to_numpy().reshape(-1, 1)\\nkde = KernelDensity(kernel=\\\"gaussian\\\", bandwidth=0.05).fit(subset)\\nlog_dens = np.array(np.exp(kde.score_samples(subset))).reshape(-1, 1)\\nplotdf[\\\"log_dens\\\"] = log_dens\\nplotdf = plotdf.sort_values(by=[\\\"subset\\\"])\\n\\n# Plot\\nfigure = go.Figure(\\n    data=go.Histogram(\\n        x=plotdf[\\\"subset\\\"], histnorm=\\\"probability density\\\", name=\\\"2.5Hz_ctrl_0012.tif\\\"\\n    )\\n)\\nfigure.add_trace(\\n    go.Scatter(x=plotdf[\\\"subset\\\"], y=plotdf[\\\"log_dens\\\"], mode=\\\"lines\\\", name=\\\"KDE\\\")\\n)\\n\\nfigure.show()\";\n",
       "                var nbb_formatted_code = \"# Lets look at just one file\\nsubset = dfMaster[\\\"peakVal\\\"][dfMaster[\\\"file\\\"] == \\\"2.5Hz_ctrl_0012.tif\\\"]\\nplotdf = pd.DataFrame({\\\"subset\\\": subset}).reset_index(drop=True)\\n\\n# KDE\\nsubset = subset.to_numpy().reshape(-1, 1)\\nkde = KernelDensity(kernel=\\\"gaussian\\\", bandwidth=0.05).fit(subset)\\nlog_dens = np.array(np.exp(kde.score_samples(subset))).reshape(-1, 1)\\nplotdf[\\\"log_dens\\\"] = log_dens\\nplotdf = plotdf.sort_values(by=[\\\"subset\\\"])\\n\\n# Plot\\nfigure = go.Figure(\\n    data=go.Histogram(\\n        x=plotdf[\\\"subset\\\"], histnorm=\\\"probability density\\\", name=\\\"2.5Hz_ctrl_0012.tif\\\"\\n    )\\n)\\nfigure.add_trace(\\n    go.Scatter(x=plotdf[\\\"subset\\\"], y=plotdf[\\\"log_dens\\\"], mode=\\\"lines\\\", name=\\\"KDE\\\")\\n)\\n\\nfigure.show()\";\n",
       "                var nbb_cells = Jupyter.notebook.get_cells();\n",
       "                for (var i = 0; i < nbb_cells.length; ++i) {\n",
       "                    if (nbb_cells[i].input_prompt_number == nbb_cell_id) {\n",
       "                        if (nbb_cells[i].get_text() == nbb_unformatted_code) {\n",
       "                             nbb_cells[i].set_text(nbb_formatted_code);\n",
       "                        }\n",
       "                        break;\n",
       "                    }\n",
       "                }\n",
       "            }, 500);\n",
       "            "
      ],
      "text/plain": [
       "<IPython.core.display.Javascript object>"
      ]
     },
     "metadata": {},
     "output_type": "display_data"
    }
   ],
   "source": [
    "# Lets look at just one file\n",
    "subset = dfMaster[\"peakVal\"][dfMaster[\"file\"] == \"2.5Hz_ctrl_0012.tif\"]\n",
    "plotdf = pd.DataFrame({\"subset\": subset}).reset_index(drop=True)\n",
    "\n",
    "# KDE\n",
    "subset = subset.to_numpy().reshape(-1, 1)\n",
    "kde = KernelDensity(kernel=\"gaussian\", bandwidth=0.05).fit(subset)\n",
    "log_dens = np.array(np.exp(kde.score_samples(subset))).reshape(-1, 1)\n",
    "plotdf[\"log_dens\"] = log_dens\n",
    "plotdf = plotdf.sort_values(by=[\"subset\"])\n",
    "\n",
    "# Plot\n",
    "figure = go.Figure(\n",
    "    data=go.Histogram(\n",
    "        x=plotdf[\"subset\"], histnorm=\"probability density\", name=\"2.5Hz_ctrl_0012.tif\"\n",
    "    )\n",
    ")\n",
    "figure.add_trace(\n",
    "    go.Scatter(x=plotdf[\"subset\"], y=plotdf[\"log_dens\"], mode=\"lines\", name=\"KDE\")\n",
    ")\n",
    "\n",
    "figure.show()"
   ]
  },
  {
   "cell_type": "code",
   "execution_count": 77,
   "id": "edf45277",
   "metadata": {},
   "outputs": [
    {
     "data": {
      "application/javascript": [
       "\n",
       "            setTimeout(function() {\n",
       "                var nbb_cell_id = 77;\n",
       "                var nbb_unformatted_code = \"# Using plotlys distplot\\n# THIS IS DEPRECATED\\nimport plotly.figure_factory as ff\\n\\ngroup_labels = [\\\"distplot\\\"]  # name of the dataset\\n\\nfig = ff.create_distplot(\\n    [plotdf[\\\"subset\\\"]], group_labels, curve_type=\\\"kde\\\", bin_size=0.1\\n)\\n# fig.show()\";\n",
       "                var nbb_formatted_code = \"# Using plotlys distplot\\n# THIS IS DEPRECATED\\nimport plotly.figure_factory as ff\\n\\ngroup_labels = [\\\"distplot\\\"]  # name of the dataset\\n\\nfig = ff.create_distplot(\\n    [plotdf[\\\"subset\\\"]], group_labels, curve_type=\\\"kde\\\", bin_size=0.1\\n)\\n# fig.show()\";\n",
       "                var nbb_cells = Jupyter.notebook.get_cells();\n",
       "                for (var i = 0; i < nbb_cells.length; ++i) {\n",
       "                    if (nbb_cells[i].input_prompt_number == nbb_cell_id) {\n",
       "                        if (nbb_cells[i].get_text() == nbb_unformatted_code) {\n",
       "                             nbb_cells[i].set_text(nbb_formatted_code);\n",
       "                        }\n",
       "                        break;\n",
       "                    }\n",
       "                }\n",
       "            }, 500);\n",
       "            "
      ],
      "text/plain": [
       "<IPython.core.display.Javascript object>"
      ]
     },
     "metadata": {},
     "output_type": "display_data"
    }
   ],
   "source": [
    "# Using plotlys distplot\n",
    "# THIS IS DEPRECATED\n",
    "import plotly.figure_factory as ff\n",
    "\n",
    "group_labels = [\"distplot\"]  # name of the dataset\n",
    "\n",
    "fig = ff.create_distplot(\n",
    "    [plotdf[\"subset\"]], group_labels, curve_type=\"kde\", bin_size=0.1\n",
    ")\n",
    "# fig.show()"
   ]
  },
  {
   "cell_type": "code",
   "execution_count": 78,
   "id": "fa1dd48d",
   "metadata": {
    "scrolled": true
   },
   "outputs": [
    {
     "data": {
      "application/vnd.plotly.v1+json": {
       "config": {
        "plotlyServerURL": "https://plot.ly"
       },
       "data": [
        {
         "type": "histogram",
         "x": [
          1.999562633941876,
          1.964671277657666,
          1.9676997241920893,
          2.003727901068696,
          1.9759306742864704,
          1.966263204954133,
          1.9448185486732352,
          1.9256581779646973,
          1.9125944393719327,
          1.91523637636662
         ],
         "xaxis": "x",
         "yaxis": "y"
        },
        {
         "type": "histogram",
         "x": [
          2.4128020464655755,
          2.3639253245184357,
          2.347186356370204,
          2.299627727084012,
          2.2463363907376515,
          2.232397506609692
         ],
         "xaxis": "x2",
         "yaxis": "y2"
        },
        {
         "type": "histogram",
         "x": [
          2.660828056371197,
          2.638945625428616,
          2.6182591465703458,
          2.6007006332354545,
          2.588777384038281
         ],
         "xaxis": "x3",
         "yaxis": "y3"
        },
        {
         "type": "histogram",
         "x": [
          2.53765089425463,
          2.5146727323419547,
          2.498270932882823,
          2.4761393154583606,
          2.457048449029279,
          2.437886730507162
         ],
         "xaxis": "x4",
         "yaxis": "y4"
        },
        {
         "type": "histogram",
         "x": [
          2.5450139845325834,
          2.536275232794111,
          2.4369162186806324,
          2.432921216884595,
          2.355409880356259,
          2.3825152509693983,
          2.366458367232904,
          2.387590822708055,
          2.341355471160546,
          2.316922973010311,
          2.255388573516272
         ],
         "xaxis": "x5",
         "yaxis": "y5"
        },
        {
         "type": "histogram",
         "x": [
          1.6350803889321357,
          1.6146305562938377,
          1.6078991215702985,
          1.5952681362476702,
          1.58443853218188,
          1.5798900175254205,
          1.5648406859603692,
          1.5502758331320847,
          1.50678229757059,
          1.5179077696034442,
          1.4952435817697831,
          1.435567431048462
         ],
         "xaxis": "x6",
         "yaxis": "y6"
        },
        {
         "type": "histogram",
         "x": [
          2.607861877618985,
          2.58086984665776,
          2.5470558701897548,
          2.5343811185932026,
          2.5189471673772603,
          2.502022566744129,
          2.4900962277443304,
          2.4834427436915574,
          2.478193562553751,
          2.45220166425735
         ],
         "xaxis": "x7",
         "yaxis": "y7"
        },
        {
         "type": "histogram",
         "x": [
          2.5326954032824114,
          2.495862466381763,
          2.489667699293199,
          2.4745217384834017,
          2.4462801882042458,
          2.438981527642394,
          2.441129953031613,
          2.4454307722707096,
          2.4495983173726787,
          2.4196293292392035
         ],
         "xaxis": "x8",
         "yaxis": "y8"
        },
        {
         "type": "histogram",
         "x": [
          2.3737179412170795,
          2.4268110769691607,
          2.3784523087940337,
          2.382985530106412,
          2.3155189199182766,
          2.3076568975967744,
          2.25046466074266,
          2.2364830646312543,
          2.2097352919838698,
          2.2109470841397503
         ],
         "xaxis": "x9",
         "yaxis": "y9"
        },
        {
         "type": "histogram",
         "x": [
          2.1818746942322145,
          2.1574479555848702,
          2.1366731491465263,
          2.1040382036309992,
          2.095862125198672,
          2.089677279597712,
          2.055076779659778,
          2.0208986956341826,
          2.0084333493164173,
          1.9896202029446184
         ],
         "xaxis": "x10",
         "yaxis": "y10"
        },
        {
         "type": "histogram",
         "x": [
          2.091638749587201,
          2.1753803702077086,
          2.098071338351597,
          2.155036309225913,
          2.0786036864162964,
          2.139847715736039,
          2.0407871935504724,
          2.103535681091625,
          2.03187551706176,
          2.0846071351969675,
          2.024840583262688
         ],
         "xaxis": "x11",
         "yaxis": "y11"
        },
        {
         "type": "histogram",
         "x": [
          2.1961212056923944,
          2.120635970674952,
          2.1768899153565933,
          2.1079725843119186,
          2.1407263759073656,
          2.095710934693669,
          2.1033935954522542,
          2.0458018461953853,
          2.084900493974189,
          2.017577959445417,
          2.05751421772955
         ],
         "xaxis": "x12",
         "yaxis": "y12"
        },
        {
         "type": "histogram",
         "x": [
          2.599183753690154,
          2.535910726318828,
          2.457336289468616,
          2.405764062700551,
          2.337814766236682,
          2.298034591194967
         ],
         "xaxis": "x13",
         "yaxis": "y13"
        },
        {
         "type": "histogram",
         "x": [
          2.217815895453919,
          2.17817044360498,
          2.2047097436667893,
          2.117059439896994,
          2.1071790642708264,
          2.069264373898388
         ],
         "xaxis": "x14",
         "yaxis": "y14"
        },
        {
         "type": "histogram",
         "x": [
          2.4394547455761564,
          2.5790718859633195,
          2.373095298571548,
          2.5090384075504977,
          2.3639876933889195,
          2.471493185592886,
          2.3526248947234727,
          2.4331332522314155,
          2.3159780324573167,
          2.398749986472403,
          2.2681168249554533
         ],
         "xaxis": "x15",
         "yaxis": "y15"
        },
        {
         "type": "histogram",
         "x": [
          2.2755165413113136,
          2.343352969229989,
          2.203917587848656,
          2.3101885525653203,
          2.158343790713844,
          2.2705871852461663,
          2.12807147253239,
          2.237944705101868,
          2.0952607417946183,
          2.224861522967603,
          2.0680699538809524
         ],
         "xaxis": "x16",
         "yaxis": "y16"
        },
        {
         "type": "histogram",
         "x": [
          2.2477688109892804,
          2.025323116898562,
          2.211077149374397,
          1.9741370553293116,
          2.1769144740714568,
          1.960463926628084,
          2.161323913047435,
          1.9794396980945208,
          2.1613193012094536
         ],
         "xaxis": "x17",
         "yaxis": "y17"
        },
        {
         "type": "histogram",
         "x": [
          2.806343498430148,
          2.523881278042737,
          2.769729905064026,
          2.688215492395964,
          2.6605999419551174
         ],
         "xaxis": "x18",
         "yaxis": "y18"
        },
        {
         "type": "histogram",
         "x": [
          2.0435939616798904,
          2.0031004912125474,
          1.937750099071948,
          1.8935861280839013
         ],
         "xaxis": "x19",
         "yaxis": "y19"
        },
        {
         "type": "histogram",
         "x": [
          1.1193451136337709,
          1.1270388960639033,
          1.127135460058459,
          1.1275862911714,
          1.1245783064478456,
          1.1168089781704538,
          1.1150775064547975,
          1.1061361041804925,
          1.0954687698572607,
          1.090216839935131,
          1.0883667541789177
         ],
         "xaxis": "x20",
         "yaxis": "y20"
        },
        {
         "type": "histogram",
         "x": [
          1.2165999880128258,
          1.223699891116505,
          1.222239204051664,
          1.2246328928046983,
          1.2158635260271502,
          1.2158155773322536,
          1.1790826315842042
         ],
         "xaxis": "x21",
         "yaxis": "y21"
        },
        {
         "type": "histogram",
         "x": [
          1.2128787885739238,
          1.2001167162007036,
          1.1902541972412026,
          1.1834493001768784,
          1.1751654473555178,
          1.1648202812138604,
          1.1653344319826853,
          1.1651829700786267,
          1.1554729529474046
         ],
         "xaxis": "x22",
         "yaxis": "y22"
        },
        {
         "type": "histogram",
         "x": [
          1.2263304517271811,
          1.2254132064731087,
          1.2151346322082546,
          1.2113732938477173,
          1.2066049753813508,
          1.200853678316519,
          1.1916398930137078,
          1.1826127607634067,
          1.1910053068415976,
          1.1797556692158997
         ],
         "xaxis": "x23",
         "yaxis": "y23"
        },
        {
         "type": "histogram",
         "x": [
          1.2212716433492874,
          1.21534811153905,
          1.2135523011356988,
          1.2058442561855758,
          1.1976683487036706,
          1.1963727343792598,
          1.1969169508296338,
          1.1868355715766037,
          1.181276279122916,
          1.176021363514773,
          1.160565927972803
         ],
         "xaxis": "x24",
         "yaxis": "y24"
        },
        {
         "type": "histogram",
         "x": [
          1.1621541279774463,
          1.1584264623923697,
          1.1497487424465571,
          1.1471731784934835,
          1.144345914000768,
          1.1368640880369671,
          1.1369078803869752,
          1.135187237609781,
          1.1322647943679152,
          1.1217297387604903
         ],
         "xaxis": "x25",
         "yaxis": "y25"
        },
        {
         "type": "histogram",
         "x": [
          1.2127299276040286,
          1.1964547623589392,
          1.1864787429564558,
          1.1887081512836577,
          1.1838181683304714,
          1.1632401965682306,
          1.167021455367929,
          1.1663518456279307,
          1.1625532523685376,
          1.1565643857848342,
          1.1459952099362027
         ],
         "xaxis": "x26",
         "yaxis": "y26"
        },
        {
         "type": "histogram",
         "x": [
          1.3936773664096616,
          1.3855463155364582,
          1.3675900759634811,
          1.3495743854723568,
          1.332919168085381,
          1.3132379985236822
         ],
         "xaxis": "x27",
         "yaxis": "y27"
        },
        {
         "type": "histogram",
         "x": [
          1.4059774298060503,
          1.395218136849452,
          1.3975355962703089,
          1.3826763876392472,
          1.3751397019959724,
          1.3667176385621884
         ],
         "xaxis": "x28",
         "yaxis": "y28"
        },
        {
         "type": "histogram",
         "x": [
          1.406653478096068,
          1.3774953831348982,
          1.3623405732008929,
          1.3448237975814024,
          1.3291343139952885,
          1.326619000887891
         ],
         "xaxis": "x29",
         "yaxis": "y29"
        },
        {
         "type": "histogram",
         "x": [
          1.2263818887879032,
          1.223197502685284,
          1.2129930337519617,
          1.2085883923407414,
          1.2021687546476074,
          1.1923644964058489,
          1.1876498853590012,
          1.1771190510617195
         ],
         "xaxis": "x30",
         "yaxis": "y30"
        },
        {
         "type": "histogram",
         "x": [
          1.210899678577075,
          1.2000540798388493,
          1.1900321688672857,
          1.1916131072521454,
          1.1908056301497087,
          1.1790641929015884,
          1.176993612732546,
          1.1769435191226036
         ],
         "xaxis": "x31",
         "yaxis": "y31"
        },
        {
         "type": "histogram",
         "x": [
          3.1188403755868523,
          3.099151576123405,
          3.0538293091884623,
          3.037997652582158,
          2.9836784037558663,
          2.9929681421864496,
          2.9934292421193813,
          2.910732729711601,
          2.8934198524480195,
          2.964997317236752,
          2.837180751173707,
          2.828527833668677,
          2.818897384305833
         ],
         "xaxis": "x32",
         "yaxis": "y32"
        },
        {
         "type": "histogram",
         "x": [
          2.763000215080461,
          2.7575829852119047,
          2.666257722350356,
          2.736474673838345,
          2.71180931630642,
          2.6606628325222625,
          2.622090687015958,
          2.607111294522092
         ],
         "xaxis": "x33",
         "yaxis": "y33"
        },
        {
         "type": "histogram",
         "x": [
          3.136787905923251,
          3.125511413446306,
          3.176939458129375,
          3.1270886399807347,
          3.0400176083496677,
          3.0342219028305037,
          3.0474371950049464,
          2.8662807628779854,
          2.87029832607804,
          2.8981654206627194,
          2.886815183815367,
          2.7580104822355067,
          2.766385359484992
         ],
         "xaxis": "x34",
         "yaxis": "y34"
        },
        {
         "type": "histogram",
         "x": [
          2.3785625530730803,
          2.4177802618511874,
          2.3339874015899125,
          2.4039210512428086,
          2.3623544538210206,
          2.360202265410982,
          2.370085252759799,
          2.328069603097308,
          1.7879206866277415
         ],
         "xaxis": "x35",
         "yaxis": "y35"
        },
        {
         "type": "histogram",
         "x": [
          2.6875952163082384,
          2.677323155750972,
          2.6436882659300607,
          2.603353324431205,
          2.622116205739305,
          2.5924303416730687,
          2.5653171352092947,
          2.519739875459816,
          2.48276949803978,
          2.4302199916679985
         ],
         "xaxis": "x36",
         "yaxis": "y36"
        },
        {
         "type": "histogram",
         "x": [
          1.2925508654745084,
          1.2753774146032142,
          1.2535264789173075,
          1.2354530524575116,
          1.2283576957057676,
          1.2238572131441172,
          1.2276066075802603,
          1.2189454384131158,
          1.2043910464974783,
          1.196585715721684
         ],
         "xaxis": "x37",
         "yaxis": "y37"
        },
        {
         "type": "histogram",
         "x": [
          1.586067382862932,
          1.8678565491473,
          1.55510965538065,
          1.8308352159275565,
          1.5398626588927735,
          1.7857818743966294,
          1.5631259068211032,
          1.7519574519255223
         ],
         "xaxis": "x38",
         "yaxis": "y38"
        },
        {
         "type": "histogram",
         "x": [
          1.2963780106637242,
          1.2957306918968254,
          1.2734180486804851,
          1.2491178666441094,
          1.23123248435891,
          1.2354122134131256,
          1.2165235457795929,
          1.216683906962318,
          1.194497320558479,
          1.214819722898225,
          1.19630111953252
         ],
         "xaxis": "x39",
         "yaxis": "y39"
        },
        {
         "type": "histogram",
         "x": [
          1.2606440037984132,
          1.3028410355235331,
          1.2316955220647408,
          1.2662474684837275,
          1.1672954639410738,
          1.2224542879341374,
          1.26906367812357,
          1.2387722394073095,
          1.176214980356452,
          1.226893348968814,
          1.189578169093758,
          1.189578169093758,
          1.2028956739155023
         ],
         "xaxis": "x40",
         "yaxis": "y40"
        },
        {
         "type": "histogram",
         "x": [
          1.2218918386414042,
          1.2007501001023262,
          1.2015462154964751,
          1.2093988140257652,
          1.17865881949167,
          1.1918563102600113,
          1.1819539974195836,
          1.166404133749419,
          1.152455780194357,
          1.1560930220733567,
          1.1719475781592603,
          1.1818427726120029,
          1.192633104316157,
          1.1387903825497805,
          1.1247766923648927
         ],
         "xaxis": "x41",
         "yaxis": "y41"
        },
        {
         "type": "histogram",
         "x": [
          2.1030724000027146,
          1.6831267768753757,
          1.9683479266271096,
          1.9562181787142563,
          1.8537638476244784,
          2.021860550383964
         ],
         "xaxis": "x42",
         "yaxis": "y42"
        },
        {
         "type": "histogram",
         "x": [
          1.1751076534452656,
          1.192162252185384,
          1.1743070482704816,
          1.1194592243256878
         ],
         "xaxis": "x43",
         "yaxis": "y43"
        },
        {
         "type": "histogram",
         "x": [
          1.1414497984407552,
          1.1451458085847137,
          1.135975998978679,
          1.1095266224815907
         ],
         "xaxis": "x44",
         "yaxis": "y44"
        },
        {
         "type": "histogram",
         "x": [
          1.2605347063027066,
          1.2379775217057798,
          1.2257204483420994,
          1.1984525685264538
         ],
         "xaxis": "x45",
         "yaxis": "y45"
        },
        {
         "type": "histogram",
         "x": [
          1.2374129520410635,
          1.2379069962805458,
          1.236913114260222,
          1.2000208567488957,
          1.1692507792313125
         ],
         "xaxis": "x46",
         "yaxis": "y46"
        }
       ],
       "layout": {
        "annotations": [
         {
          "font": {
           "size": 16
          },
          "showarrow": false,
          "text": "220110n_0003.tif",
          "x": 0.5,
          "xanchor": "center",
          "xref": "paper",
          "y": 1.0000000000000004,
          "yanchor": "bottom",
          "yref": "paper"
         },
         {
          "font": {
           "size": 16
          },
          "showarrow": false,
          "text": "220110n_0005.tif",
          "x": 0.5,
          "xanchor": "center",
          "xref": "paper",
          "y": 0.9780245746691876,
          "yanchor": "bottom",
          "yref": "paper"
         },
         {
          "font": {
           "size": 16
          },
          "showarrow": false,
          "text": "220110n_0009.tif",
          "x": 0.5,
          "xanchor": "center",
          "xref": "paper",
          "y": 0.9560491493383746,
          "yanchor": "bottom",
          "yref": "paper"
         },
         {
          "font": {
           "size": 16
          },
          "showarrow": false,
          "text": "220110n_0010.tif",
          "x": 0.5,
          "xanchor": "center",
          "xref": "paper",
          "y": 0.9340737240075617,
          "yanchor": "bottom",
          "yref": "paper"
         },
         {
          "font": {
           "size": 16
          },
          "showarrow": false,
          "text": "220110n_0014.tif",
          "x": 0.5,
          "xanchor": "center",
          "xref": "paper",
          "y": 0.9120982986767489,
          "yanchor": "bottom",
          "yref": "paper"
         },
         {
          "font": {
           "size": 16
          },
          "showarrow": false,
          "text": "220110n_0017.tif",
          "x": 0.5,
          "xanchor": "center",
          "xref": "paper",
          "y": 0.890122873345936,
          "yanchor": "bottom",
          "yref": "paper"
         },
         {
          "font": {
           "size": 16
          },
          "showarrow": false,
          "text": "220110n_0020.tif",
          "x": 0.5,
          "xanchor": "center",
          "xref": "paper",
          "y": 0.8681474480151231,
          "yanchor": "bottom",
          "yref": "paper"
         },
         {
          "font": {
           "size": 16
          },
          "showarrow": false,
          "text": "220110n_0021.tif",
          "x": 0.5,
          "xanchor": "center",
          "xref": "paper",
          "y": 0.8461720226843102,
          "yanchor": "bottom",
          "yref": "paper"
         },
         {
          "font": {
           "size": 16
          },
          "showarrow": false,
          "text": "220110n_0022.tif",
          "x": 0.5,
          "xanchor": "center",
          "xref": "paper",
          "y": 0.8241965973534974,
          "yanchor": "bottom",
          "yref": "paper"
         },
         {
          "font": {
           "size": 16
          },
          "showarrow": false,
          "text": "220110n_0023.tif",
          "x": 0.5,
          "xanchor": "center",
          "xref": "paper",
          "y": 0.8022211720226844,
          "yanchor": "bottom",
          "yref": "paper"
         },
         {
          "font": {
           "size": 16
          },
          "showarrow": false,
          "text": "220110n_0024.tif",
          "x": 0.5,
          "xanchor": "center",
          "xref": "paper",
          "y": 0.7802457466918715,
          "yanchor": "bottom",
          "yref": "paper"
         },
         {
          "font": {
           "size": 16
          },
          "showarrow": false,
          "text": "220110n_0025.tif",
          "x": 0.5,
          "xanchor": "center",
          "xref": "paper",
          "y": 0.7582703213610587,
          "yanchor": "bottom",
          "yref": "paper"
         },
         {
          "font": {
           "size": 16
          },
          "showarrow": false,
          "text": "220110n_0030.tif",
          "x": 0.5,
          "xanchor": "center",
          "xref": "paper",
          "y": 0.7362948960302458,
          "yanchor": "bottom",
          "yref": "paper"
         },
         {
          "font": {
           "size": 16
          },
          "showarrow": false,
          "text": "220110n_0032.tif",
          "x": 0.5,
          "xanchor": "center",
          "xref": "paper",
          "y": 0.7143194706994329,
          "yanchor": "bottom",
          "yref": "paper"
         },
         {
          "font": {
           "size": 16
          },
          "showarrow": false,
          "text": "220110n_0035.tif",
          "x": 0.5,
          "xanchor": "center",
          "xref": "paper",
          "y": 0.69234404536862,
          "yanchor": "bottom",
          "yref": "paper"
         },
         {
          "font": {
           "size": 16
          },
          "showarrow": false,
          "text": "220110n_0036.tif",
          "x": 0.5,
          "xanchor": "center",
          "xref": "paper",
          "y": 0.6703686200378072,
          "yanchor": "bottom",
          "yref": "paper"
         },
         {
          "font": {
           "size": 16
          },
          "showarrow": false,
          "text": "220110n_0037.tif",
          "x": 0.5,
          "xanchor": "center",
          "xref": "paper",
          "y": 0.6483931947069943,
          "yanchor": "bottom",
          "yref": "paper"
         },
         {
          "font": {
           "size": 16
          },
          "showarrow": false,
          "text": "220110n_0049.tif",
          "x": 0.5,
          "xanchor": "center",
          "xref": "paper",
          "y": 0.6264177693761814,
          "yanchor": "bottom",
          "yref": "paper"
         },
         {
          "font": {
           "size": 16
          },
          "showarrow": false,
          "text": "220110n_0052.tif",
          "x": 0.5,
          "xanchor": "center",
          "xref": "paper",
          "y": 0.6044423440453686,
          "yanchor": "bottom",
          "yref": "paper"
         },
         {
          "font": {
           "size": 16
          },
          "showarrow": false,
          "text": "220110n_0055.tif",
          "x": 0.5,
          "xanchor": "center",
          "xref": "paper",
          "y": 0.5824669187145557,
          "yanchor": "bottom",
          "yref": "paper"
         },
         {
          "font": {
           "size": 16
          },
          "showarrow": false,
          "text": "220110n_0060.tif",
          "x": 0.5,
          "xanchor": "center",
          "xref": "paper",
          "y": 0.5604914933837428,
          "yanchor": "bottom",
          "yref": "paper"
         },
         {
          "font": {
           "size": 16
          },
          "showarrow": false,
          "text": "220110n_0064.tif",
          "x": 0.5,
          "xanchor": "center",
          "xref": "paper",
          "y": 0.53851606805293,
          "yanchor": "bottom",
          "yref": "paper"
         },
         {
          "font": {
           "size": 16
          },
          "showarrow": false,
          "text": "220110n_0067.tif",
          "x": 0.5,
          "xanchor": "center",
          "xref": "paper",
          "y": 0.5165406427221171,
          "yanchor": "bottom",
          "yref": "paper"
         },
         {
          "font": {
           "size": 16
          },
          "showarrow": false,
          "text": "220110n_0068.tif",
          "x": 0.5,
          "xanchor": "center",
          "xref": "paper",
          "y": 0.49456521739130427,
          "yanchor": "bottom",
          "yref": "paper"
         },
         {
          "font": {
           "size": 16
          },
          "showarrow": false,
          "text": "220110n_0072.tif",
          "x": 0.5,
          "xanchor": "center",
          "xref": "paper",
          "y": 0.4725897920604914,
          "yanchor": "bottom",
          "yref": "paper"
         },
         {
          "font": {
           "size": 16
          },
          "showarrow": false,
          "text": "220110n_0073.tif",
          "x": 0.5,
          "xanchor": "center",
          "xref": "paper",
          "y": 0.4506143667296786,
          "yanchor": "bottom",
          "yref": "paper"
         },
         {
          "font": {
           "size": 16
          },
          "showarrow": false,
          "text": "220110n_0077.tif",
          "x": 0.5,
          "xanchor": "center",
          "xref": "paper",
          "y": 0.42863894139886577,
          "yanchor": "bottom",
          "yref": "paper"
         },
         {
          "font": {
           "size": 16
          },
          "showarrow": false,
          "text": "220110n_0078.tif",
          "x": 0.5,
          "xanchor": "center",
          "xref": "paper",
          "y": 0.4066635160680529,
          "yanchor": "bottom",
          "yref": "paper"
         },
         {
          "font": {
           "size": 16
          },
          "showarrow": false,
          "text": "220110n_0080.tif",
          "x": 0.5,
          "xanchor": "center",
          "xref": "paper",
          "y": 0.38468809073724003,
          "yanchor": "bottom",
          "yref": "paper"
         },
         {
          "font": {
           "size": 16
          },
          "showarrow": false,
          "text": "220110n_0082.tif",
          "x": 0.5,
          "xanchor": "center",
          "xref": "paper",
          "y": 0.36271266540642716,
          "yanchor": "bottom",
          "yref": "paper"
         },
         {
          "font": {
           "size": 16
          },
          "showarrow": false,
          "text": "220110n_0083.tif",
          "x": 0.5,
          "xanchor": "center",
          "xref": "paper",
          "y": 0.34073724007561434,
          "yanchor": "bottom",
          "yref": "paper"
         },
         {
          "font": {
           "size": 16
          },
          "showarrow": false,
          "text": "2.5Hz_ctrl_0005.tif",
          "x": 0.5,
          "xanchor": "center",
          "xref": "paper",
          "y": 0.31876181474480153,
          "yanchor": "bottom",
          "yref": "paper"
         },
         {
          "font": {
           "size": 16
          },
          "showarrow": false,
          "text": "2.5Hz_ctrl_0009.tif",
          "x": 0.5,
          "xanchor": "center",
          "xref": "paper",
          "y": 0.29678638941398866,
          "yanchor": "bottom",
          "yref": "paper"
         },
         {
          "font": {
           "size": 16
          },
          "showarrow": false,
          "text": "2.5Hz_ctrl_0012.tif",
          "x": 0.5,
          "xanchor": "center",
          "xref": "paper",
          "y": 0.2748109640831758,
          "yanchor": "bottom",
          "yref": "paper"
         },
         {
          "font": {
           "size": 16
          },
          "showarrow": false,
          "text": "2.5Hz_ctrl_0017.tif",
          "x": 0.5,
          "xanchor": "center",
          "xref": "paper",
          "y": 0.2528355387523629,
          "yanchor": "bottom",
          "yref": "paper"
         },
         {
          "font": {
           "size": 16
          },
          "showarrow": false,
          "text": "2.5Hz_ctrl_0028.tif",
          "x": 0.5,
          "xanchor": "center",
          "xref": "paper",
          "y": 0.23086011342155008,
          "yanchor": "bottom",
          "yref": "paper"
         },
         {
          "font": {
           "size": 16
          },
          "showarrow": false,
          "text": "2.5Hz_thapsi_0024.tif",
          "x": 0.5,
          "xanchor": "center",
          "xref": "paper",
          "y": 0.2088846880907372,
          "yanchor": "bottom",
          "yref": "paper"
         },
         {
          "font": {
           "size": 16
          },
          "showarrow": false,
          "text": "cell.tif",
          "x": 0.5,
          "xanchor": "center",
          "xref": "paper",
          "y": 0.18690926275992437,
          "yanchor": "bottom",
          "yref": "paper"
         },
         {
          "font": {
           "size": 16
          },
          "showarrow": false,
          "text": "control 2.5_0012.tif",
          "x": 0.5,
          "xanchor": "center",
          "xref": "paper",
          "y": 0.16493383742911152,
          "yanchor": "bottom",
          "yref": "paper"
         },
         {
          "font": {
           "size": 16
          },
          "showarrow": false,
          "text": "control 2.5_0013.tif",
          "x": 0.5,
          "xanchor": "center",
          "xref": "paper",
          "y": 0.14295841209829865,
          "yanchor": "bottom",
          "yref": "paper"
         },
         {
          "font": {
           "size": 16
          },
          "showarrow": false,
          "text": "control 2.5_0014.tif",
          "x": 0.5,
          "xanchor": "center",
          "xref": "paper",
          "y": 0.12098298676748581,
          "yanchor": "bottom",
          "yref": "paper"
         },
         {
          "font": {
           "size": 16
          },
          "showarrow": false,
          "text": "control 2.5_0022.tif",
          "x": 0.5,
          "xanchor": "center",
          "xref": "paper",
          "y": 0.09900756143667297,
          "yanchor": "bottom",
          "yref": "paper"
         },
         {
          "font": {
           "size": 16
          },
          "showarrow": false,
          "text": "thapsi 2.5_0008.tif",
          "x": 0.5,
          "xanchor": "center",
          "xref": "paper",
          "y": 0.0770321361058601,
          "yanchor": "bottom",
          "yref": "paper"
         },
         {
          "font": {
           "size": 16
          },
          "showarrow": false,
          "text": "thapsi 2.5_0017.tif",
          "x": 0.5,
          "xanchor": "center",
          "xref": "paper",
          "y": 0.055056710775047264,
          "yanchor": "bottom",
          "yref": "paper"
         },
         {
          "font": {
           "size": 16
          },
          "showarrow": false,
          "text": "thapsi 2.5_0033.tif",
          "x": 0.5,
          "xanchor": "center",
          "xref": "paper",
          "y": 0.03308128544423441,
          "yanchor": "bottom",
          "yref": "paper"
         },
         {
          "font": {
           "size": 16
          },
          "showarrow": false,
          "text": "thapsi 2.5_0047.tif",
          "x": 0.5,
          "xanchor": "center",
          "xref": "paper",
          "y": 0.01110586011342155,
          "yanchor": "bottom",
          "yref": "paper"
         }
        ],
        "colorway": [
         "rgb(229, 134, 6)",
         "rgb(93, 105, 177)",
         "rgb(82, 188, 163)",
         "rgb(153, 201, 69)",
         "rgb(204, 97, 176)",
         "rgb(36, 121, 108)",
         "rgb(218, 165, 27)",
         "rgb(47, 138, 196)",
         "rgb(118, 78, 159)",
         "rgb(237, 100, 90)",
         "rgb(165, 170, 153)"
        ],
        "height": 7000,
        "showlegend": false,
        "template": {
         "data": {
          "bar": [
           {
            "error_x": {
             "color": "#2a3f5f"
            },
            "error_y": {
             "color": "#2a3f5f"
            },
            "marker": {
             "line": {
              "color": "#E5ECF6",
              "width": 0.5
             },
             "pattern": {
              "fillmode": "overlay",
              "size": 10,
              "solidity": 0.2
             }
            },
            "type": "bar"
           }
          ],
          "barpolar": [
           {
            "marker": {
             "line": {
              "color": "#E5ECF6",
              "width": 0.5
             },
             "pattern": {
              "fillmode": "overlay",
              "size": 10,
              "solidity": 0.2
             }
            },
            "type": "barpolar"
           }
          ],
          "carpet": [
           {
            "aaxis": {
             "endlinecolor": "#2a3f5f",
             "gridcolor": "white",
             "linecolor": "white",
             "minorgridcolor": "white",
             "startlinecolor": "#2a3f5f"
            },
            "baxis": {
             "endlinecolor": "#2a3f5f",
             "gridcolor": "white",
             "linecolor": "white",
             "minorgridcolor": "white",
             "startlinecolor": "#2a3f5f"
            },
            "type": "carpet"
           }
          ],
          "choropleth": [
           {
            "colorbar": {
             "outlinewidth": 0,
             "ticks": ""
            },
            "type": "choropleth"
           }
          ],
          "contour": [
           {
            "colorbar": {
             "outlinewidth": 0,
             "ticks": ""
            },
            "colorscale": [
             [
              0,
              "#0d0887"
             ],
             [
              0.1111111111111111,
              "#46039f"
             ],
             [
              0.2222222222222222,
              "#7201a8"
             ],
             [
              0.3333333333333333,
              "#9c179e"
             ],
             [
              0.4444444444444444,
              "#bd3786"
             ],
             [
              0.5555555555555556,
              "#d8576b"
             ],
             [
              0.6666666666666666,
              "#ed7953"
             ],
             [
              0.7777777777777778,
              "#fb9f3a"
             ],
             [
              0.8888888888888888,
              "#fdca26"
             ],
             [
              1,
              "#f0f921"
             ]
            ],
            "type": "contour"
           }
          ],
          "contourcarpet": [
           {
            "colorbar": {
             "outlinewidth": 0,
             "ticks": ""
            },
            "type": "contourcarpet"
           }
          ],
          "heatmap": [
           {
            "colorbar": {
             "outlinewidth": 0,
             "ticks": ""
            },
            "colorscale": [
             [
              0,
              "#0d0887"
             ],
             [
              0.1111111111111111,
              "#46039f"
             ],
             [
              0.2222222222222222,
              "#7201a8"
             ],
             [
              0.3333333333333333,
              "#9c179e"
             ],
             [
              0.4444444444444444,
              "#bd3786"
             ],
             [
              0.5555555555555556,
              "#d8576b"
             ],
             [
              0.6666666666666666,
              "#ed7953"
             ],
             [
              0.7777777777777778,
              "#fb9f3a"
             ],
             [
              0.8888888888888888,
              "#fdca26"
             ],
             [
              1,
              "#f0f921"
             ]
            ],
            "type": "heatmap"
           }
          ],
          "heatmapgl": [
           {
            "colorbar": {
             "outlinewidth": 0,
             "ticks": ""
            },
            "colorscale": [
             [
              0,
              "#0d0887"
             ],
             [
              0.1111111111111111,
              "#46039f"
             ],
             [
              0.2222222222222222,
              "#7201a8"
             ],
             [
              0.3333333333333333,
              "#9c179e"
             ],
             [
              0.4444444444444444,
              "#bd3786"
             ],
             [
              0.5555555555555556,
              "#d8576b"
             ],
             [
              0.6666666666666666,
              "#ed7953"
             ],
             [
              0.7777777777777778,
              "#fb9f3a"
             ],
             [
              0.8888888888888888,
              "#fdca26"
             ],
             [
              1,
              "#f0f921"
             ]
            ],
            "type": "heatmapgl"
           }
          ],
          "histogram": [
           {
            "marker": {
             "pattern": {
              "fillmode": "overlay",
              "size": 10,
              "solidity": 0.2
             }
            },
            "type": "histogram"
           }
          ],
          "histogram2d": [
           {
            "colorbar": {
             "outlinewidth": 0,
             "ticks": ""
            },
            "colorscale": [
             [
              0,
              "#0d0887"
             ],
             [
              0.1111111111111111,
              "#46039f"
             ],
             [
              0.2222222222222222,
              "#7201a8"
             ],
             [
              0.3333333333333333,
              "#9c179e"
             ],
             [
              0.4444444444444444,
              "#bd3786"
             ],
             [
              0.5555555555555556,
              "#d8576b"
             ],
             [
              0.6666666666666666,
              "#ed7953"
             ],
             [
              0.7777777777777778,
              "#fb9f3a"
             ],
             [
              0.8888888888888888,
              "#fdca26"
             ],
             [
              1,
              "#f0f921"
             ]
            ],
            "type": "histogram2d"
           }
          ],
          "histogram2dcontour": [
           {
            "colorbar": {
             "outlinewidth": 0,
             "ticks": ""
            },
            "colorscale": [
             [
              0,
              "#0d0887"
             ],
             [
              0.1111111111111111,
              "#46039f"
             ],
             [
              0.2222222222222222,
              "#7201a8"
             ],
             [
              0.3333333333333333,
              "#9c179e"
             ],
             [
              0.4444444444444444,
              "#bd3786"
             ],
             [
              0.5555555555555556,
              "#d8576b"
             ],
             [
              0.6666666666666666,
              "#ed7953"
             ],
             [
              0.7777777777777778,
              "#fb9f3a"
             ],
             [
              0.8888888888888888,
              "#fdca26"
             ],
             [
              1,
              "#f0f921"
             ]
            ],
            "type": "histogram2dcontour"
           }
          ],
          "mesh3d": [
           {
            "colorbar": {
             "outlinewidth": 0,
             "ticks": ""
            },
            "type": "mesh3d"
           }
          ],
          "parcoords": [
           {
            "line": {
             "colorbar": {
              "outlinewidth": 0,
              "ticks": ""
             }
            },
            "type": "parcoords"
           }
          ],
          "pie": [
           {
            "automargin": true,
            "type": "pie"
           }
          ],
          "scatter": [
           {
            "marker": {
             "colorbar": {
              "outlinewidth": 0,
              "ticks": ""
             }
            },
            "type": "scatter"
           }
          ],
          "scatter3d": [
           {
            "line": {
             "colorbar": {
              "outlinewidth": 0,
              "ticks": ""
             }
            },
            "marker": {
             "colorbar": {
              "outlinewidth": 0,
              "ticks": ""
             }
            },
            "type": "scatter3d"
           }
          ],
          "scattercarpet": [
           {
            "marker": {
             "colorbar": {
              "outlinewidth": 0,
              "ticks": ""
             }
            },
            "type": "scattercarpet"
           }
          ],
          "scattergeo": [
           {
            "marker": {
             "colorbar": {
              "outlinewidth": 0,
              "ticks": ""
             }
            },
            "type": "scattergeo"
           }
          ],
          "scattergl": [
           {
            "marker": {
             "colorbar": {
              "outlinewidth": 0,
              "ticks": ""
             }
            },
            "type": "scattergl"
           }
          ],
          "scattermapbox": [
           {
            "marker": {
             "colorbar": {
              "outlinewidth": 0,
              "ticks": ""
             }
            },
            "type": "scattermapbox"
           }
          ],
          "scatterpolar": [
           {
            "marker": {
             "colorbar": {
              "outlinewidth": 0,
              "ticks": ""
             }
            },
            "type": "scatterpolar"
           }
          ],
          "scatterpolargl": [
           {
            "marker": {
             "colorbar": {
              "outlinewidth": 0,
              "ticks": ""
             }
            },
            "type": "scatterpolargl"
           }
          ],
          "scatterternary": [
           {
            "marker": {
             "colorbar": {
              "outlinewidth": 0,
              "ticks": ""
             }
            },
            "type": "scatterternary"
           }
          ],
          "surface": [
           {
            "colorbar": {
             "outlinewidth": 0,
             "ticks": ""
            },
            "colorscale": [
             [
              0,
              "#0d0887"
             ],
             [
              0.1111111111111111,
              "#46039f"
             ],
             [
              0.2222222222222222,
              "#7201a8"
             ],
             [
              0.3333333333333333,
              "#9c179e"
             ],
             [
              0.4444444444444444,
              "#bd3786"
             ],
             [
              0.5555555555555556,
              "#d8576b"
             ],
             [
              0.6666666666666666,
              "#ed7953"
             ],
             [
              0.7777777777777778,
              "#fb9f3a"
             ],
             [
              0.8888888888888888,
              "#fdca26"
             ],
             [
              1,
              "#f0f921"
             ]
            ],
            "type": "surface"
           }
          ],
          "table": [
           {
            "cells": {
             "fill": {
              "color": "#EBF0F8"
             },
             "line": {
              "color": "white"
             }
            },
            "header": {
             "fill": {
              "color": "#C8D4E3"
             },
             "line": {
              "color": "white"
             }
            },
            "type": "table"
           }
          ]
         },
         "layout": {
          "annotationdefaults": {
           "arrowcolor": "#2a3f5f",
           "arrowhead": 0,
           "arrowwidth": 1
          },
          "autotypenumbers": "strict",
          "coloraxis": {
           "colorbar": {
            "outlinewidth": 0,
            "ticks": ""
           }
          },
          "colorscale": {
           "diverging": [
            [
             0,
             "#8e0152"
            ],
            [
             0.1,
             "#c51b7d"
            ],
            [
             0.2,
             "#de77ae"
            ],
            [
             0.3,
             "#f1b6da"
            ],
            [
             0.4,
             "#fde0ef"
            ],
            [
             0.5,
             "#f7f7f7"
            ],
            [
             0.6,
             "#e6f5d0"
            ],
            [
             0.7,
             "#b8e186"
            ],
            [
             0.8,
             "#7fbc41"
            ],
            [
             0.9,
             "#4d9221"
            ],
            [
             1,
             "#276419"
            ]
           ],
           "sequential": [
            [
             0,
             "#0d0887"
            ],
            [
             0.1111111111111111,
             "#46039f"
            ],
            [
             0.2222222222222222,
             "#7201a8"
            ],
            [
             0.3333333333333333,
             "#9c179e"
            ],
            [
             0.4444444444444444,
             "#bd3786"
            ],
            [
             0.5555555555555556,
             "#d8576b"
            ],
            [
             0.6666666666666666,
             "#ed7953"
            ],
            [
             0.7777777777777778,
             "#fb9f3a"
            ],
            [
             0.8888888888888888,
             "#fdca26"
            ],
            [
             1,
             "#f0f921"
            ]
           ],
           "sequentialminus": [
            [
             0,
             "#0d0887"
            ],
            [
             0.1111111111111111,
             "#46039f"
            ],
            [
             0.2222222222222222,
             "#7201a8"
            ],
            [
             0.3333333333333333,
             "#9c179e"
            ],
            [
             0.4444444444444444,
             "#bd3786"
            ],
            [
             0.5555555555555556,
             "#d8576b"
            ],
            [
             0.6666666666666666,
             "#ed7953"
            ],
            [
             0.7777777777777778,
             "#fb9f3a"
            ],
            [
             0.8888888888888888,
             "#fdca26"
            ],
            [
             1,
             "#f0f921"
            ]
           ]
          },
          "colorway": [
           "#636efa",
           "#EF553B",
           "#00cc96",
           "#ab63fa",
           "#FFA15A",
           "#19d3f3",
           "#FF6692",
           "#B6E880",
           "#FF97FF",
           "#FECB52"
          ],
          "font": {
           "color": "#2a3f5f"
          },
          "geo": {
           "bgcolor": "white",
           "lakecolor": "white",
           "landcolor": "#E5ECF6",
           "showlakes": true,
           "showland": true,
           "subunitcolor": "white"
          },
          "hoverlabel": {
           "align": "left"
          },
          "hovermode": "closest",
          "mapbox": {
           "style": "light"
          },
          "paper_bgcolor": "white",
          "plot_bgcolor": "#E5ECF6",
          "polar": {
           "angularaxis": {
            "gridcolor": "white",
            "linecolor": "white",
            "ticks": ""
           },
           "bgcolor": "#E5ECF6",
           "radialaxis": {
            "gridcolor": "white",
            "linecolor": "white",
            "ticks": ""
           }
          },
          "scene": {
           "xaxis": {
            "backgroundcolor": "#E5ECF6",
            "gridcolor": "white",
            "gridwidth": 2,
            "linecolor": "white",
            "showbackground": true,
            "ticks": "",
            "zerolinecolor": "white"
           },
           "yaxis": {
            "backgroundcolor": "#E5ECF6",
            "gridcolor": "white",
            "gridwidth": 2,
            "linecolor": "white",
            "showbackground": true,
            "ticks": "",
            "zerolinecolor": "white"
           },
           "zaxis": {
            "backgroundcolor": "#E5ECF6",
            "gridcolor": "white",
            "gridwidth": 2,
            "linecolor": "white",
            "showbackground": true,
            "ticks": "",
            "zerolinecolor": "white"
           }
          },
          "shapedefaults": {
           "line": {
            "color": "#2a3f5f"
           }
          },
          "ternary": {
           "aaxis": {
            "gridcolor": "white",
            "linecolor": "white",
            "ticks": ""
           },
           "baxis": {
            "gridcolor": "white",
            "linecolor": "white",
            "ticks": ""
           },
           "bgcolor": "#E5ECF6",
           "caxis": {
            "gridcolor": "white",
            "linecolor": "white",
            "ticks": ""
           }
          },
          "title": {
           "x": 0.05
          },
          "xaxis": {
           "automargin": true,
           "gridcolor": "white",
           "linecolor": "white",
           "ticks": "",
           "title": {
            "standoff": 15
           },
           "zerolinecolor": "white",
           "zerolinewidth": 2
          },
          "yaxis": {
           "automargin": true,
           "gridcolor": "white",
           "linecolor": "white",
           "ticks": "",
           "title": {
            "standoff": 15
           },
           "zerolinecolor": "white",
           "zerolinewidth": 2
          }
         }
        },
        "title": {
         "text": "Subplot for Each File's peakVal"
        },
        "width": 700,
        "xaxis": {
         "anchor": "y",
         "domain": [
          0,
          1
         ]
        },
        "xaxis10": {
         "anchor": "y10",
         "domain": [
          0,
          1
         ]
        },
        "xaxis11": {
         "anchor": "y11",
         "domain": [
          0,
          1
         ]
        },
        "xaxis12": {
         "anchor": "y12",
         "domain": [
          0,
          1
         ]
        },
        "xaxis13": {
         "anchor": "y13",
         "domain": [
          0,
          1
         ]
        },
        "xaxis14": {
         "anchor": "y14",
         "domain": [
          0,
          1
         ]
        },
        "xaxis15": {
         "anchor": "y15",
         "domain": [
          0,
          1
         ]
        },
        "xaxis16": {
         "anchor": "y16",
         "domain": [
          0,
          1
         ]
        },
        "xaxis17": {
         "anchor": "y17",
         "domain": [
          0,
          1
         ]
        },
        "xaxis18": {
         "anchor": "y18",
         "domain": [
          0,
          1
         ]
        },
        "xaxis19": {
         "anchor": "y19",
         "domain": [
          0,
          1
         ]
        },
        "xaxis2": {
         "anchor": "y2",
         "domain": [
          0,
          1
         ]
        },
        "xaxis20": {
         "anchor": "y20",
         "domain": [
          0,
          1
         ]
        },
        "xaxis21": {
         "anchor": "y21",
         "domain": [
          0,
          1
         ]
        },
        "xaxis22": {
         "anchor": "y22",
         "domain": [
          0,
          1
         ]
        },
        "xaxis23": {
         "anchor": "y23",
         "domain": [
          0,
          1
         ]
        },
        "xaxis24": {
         "anchor": "y24",
         "domain": [
          0,
          1
         ]
        },
        "xaxis25": {
         "anchor": "y25",
         "domain": [
          0,
          1
         ]
        },
        "xaxis26": {
         "anchor": "y26",
         "domain": [
          0,
          1
         ]
        },
        "xaxis27": {
         "anchor": "y27",
         "domain": [
          0,
          1
         ]
        },
        "xaxis28": {
         "anchor": "y28",
         "domain": [
          0,
          1
         ]
        },
        "xaxis29": {
         "anchor": "y29",
         "domain": [
          0,
          1
         ]
        },
        "xaxis3": {
         "anchor": "y3",
         "domain": [
          0,
          1
         ]
        },
        "xaxis30": {
         "anchor": "y30",
         "domain": [
          0,
          1
         ]
        },
        "xaxis31": {
         "anchor": "y31",
         "domain": [
          0,
          1
         ]
        },
        "xaxis32": {
         "anchor": "y32",
         "domain": [
          0,
          1
         ]
        },
        "xaxis33": {
         "anchor": "y33",
         "domain": [
          0,
          1
         ]
        },
        "xaxis34": {
         "anchor": "y34",
         "domain": [
          0,
          1
         ]
        },
        "xaxis35": {
         "anchor": "y35",
         "domain": [
          0,
          1
         ]
        },
        "xaxis36": {
         "anchor": "y36",
         "domain": [
          0,
          1
         ]
        },
        "xaxis37": {
         "anchor": "y37",
         "domain": [
          0,
          1
         ]
        },
        "xaxis38": {
         "anchor": "y38",
         "domain": [
          0,
          1
         ]
        },
        "xaxis39": {
         "anchor": "y39",
         "domain": [
          0,
          1
         ]
        },
        "xaxis4": {
         "anchor": "y4",
         "domain": [
          0,
          1
         ]
        },
        "xaxis40": {
         "anchor": "y40",
         "domain": [
          0,
          1
         ]
        },
        "xaxis41": {
         "anchor": "y41",
         "domain": [
          0,
          1
         ]
        },
        "xaxis42": {
         "anchor": "y42",
         "domain": [
          0,
          1
         ]
        },
        "xaxis43": {
         "anchor": "y43",
         "domain": [
          0,
          1
         ]
        },
        "xaxis44": {
         "anchor": "y44",
         "domain": [
          0,
          1
         ]
        },
        "xaxis45": {
         "anchor": "y45",
         "domain": [
          0,
          1
         ]
        },
        "xaxis46": {
         "anchor": "y46",
         "domain": [
          0,
          1
         ]
        },
        "xaxis5": {
         "anchor": "y5",
         "domain": [
          0,
          1
         ]
        },
        "xaxis6": {
         "anchor": "y6",
         "domain": [
          0,
          1
         ]
        },
        "xaxis7": {
         "anchor": "y7",
         "domain": [
          0,
          1
         ]
        },
        "xaxis8": {
         "anchor": "y8",
         "domain": [
          0,
          1
         ]
        },
        "xaxis9": {
         "anchor": "y9",
         "domain": [
          0,
          1
         ]
        },
        "yaxis": {
         "anchor": "x",
         "domain": [
          0.9888941398865789,
          1
         ]
        },
        "yaxis10": {
         "anchor": "x10",
         "domain": [
          0.7911153119092629,
          0.8022211720226844
         ]
        },
        "yaxis11": {
         "anchor": "x11",
         "domain": [
          0.76913988657845,
          0.7802457466918715
         ]
        },
        "yaxis12": {
         "anchor": "x12",
         "domain": [
          0.7471644612476371,
          0.7582703213610587
         ]
        },
        "yaxis13": {
         "anchor": "x13",
         "domain": [
          0.7251890359168243,
          0.7362948960302458
         ]
        },
        "yaxis14": {
         "anchor": "x14",
         "domain": [
          0.7032136105860114,
          0.7143194706994329
         ]
        },
        "yaxis15": {
         "anchor": "x15",
         "domain": [
          0.6812381852551985,
          0.69234404536862
         ]
        },
        "yaxis16": {
         "anchor": "x16",
         "domain": [
          0.6592627599243857,
          0.6703686200378072
         ]
        },
        "yaxis17": {
         "anchor": "x17",
         "domain": [
          0.6372873345935728,
          0.6483931947069943
         ]
        },
        "yaxis18": {
         "anchor": "x18",
         "domain": [
          0.6153119092627599,
          0.6264177693761814
         ]
        },
        "yaxis19": {
         "anchor": "x19",
         "domain": [
          0.593336483931947,
          0.6044423440453686
         ]
        },
        "yaxis2": {
         "anchor": "x2",
         "domain": [
          0.9669187145557661,
          0.9780245746691876
         ]
        },
        "yaxis20": {
         "anchor": "x20",
         "domain": [
          0.5713610586011342,
          0.5824669187145557
         ]
        },
        "yaxis21": {
         "anchor": "x21",
         "domain": [
          0.5493856332703213,
          0.5604914933837428
         ]
        },
        "yaxis22": {
         "anchor": "x22",
         "domain": [
          0.5274102079395084,
          0.53851606805293
         ]
        },
        "yaxis23": {
         "anchor": "x23",
         "domain": [
          0.5054347826086956,
          0.5165406427221171
         ]
        },
        "yaxis24": {
         "anchor": "x24",
         "domain": [
          0.4834593572778827,
          0.49456521739130427
         ]
        },
        "yaxis25": {
         "anchor": "x25",
         "domain": [
          0.4614839319470698,
          0.4725897920604914
         ]
        },
        "yaxis26": {
         "anchor": "x26",
         "domain": [
          0.439508506616257,
          0.4506143667296786
         ]
        },
        "yaxis27": {
         "anchor": "x27",
         "domain": [
          0.4175330812854442,
          0.42863894139886577
         ]
        },
        "yaxis28": {
         "anchor": "x28",
         "domain": [
          0.3955576559546313,
          0.4066635160680529
         ]
        },
        "yaxis29": {
         "anchor": "x29",
         "domain": [
          0.37358223062381846,
          0.38468809073724003
         ]
        },
        "yaxis3": {
         "anchor": "x3",
         "domain": [
          0.9449432892249531,
          0.9560491493383746
         ]
        },
        "yaxis30": {
         "anchor": "x30",
         "domain": [
          0.3516068052930056,
          0.36271266540642716
         ]
        },
        "yaxis31": {
         "anchor": "x31",
         "domain": [
          0.32963137996219277,
          0.34073724007561434
         ]
        },
        "yaxis32": {
         "anchor": "x32",
         "domain": [
          0.30765595463137996,
          0.31876181474480153
         ]
        },
        "yaxis33": {
         "anchor": "x33",
         "domain": [
          0.2856805293005671,
          0.29678638941398866
         ]
        },
        "yaxis34": {
         "anchor": "x34",
         "domain": [
          0.2637051039697542,
          0.2748109640831758
         ]
        },
        "yaxis35": {
         "anchor": "x35",
         "domain": [
          0.24172967863894138,
          0.2528355387523629
         ]
        },
        "yaxis36": {
         "anchor": "x36",
         "domain": [
          0.21975425330812853,
          0.23086011342155008
         ]
        },
        "yaxis37": {
         "anchor": "x37",
         "domain": [
          0.19777882797731566,
          0.2088846880907372
         ]
        },
        "yaxis38": {
         "anchor": "x38",
         "domain": [
          0.17580340264650282,
          0.18690926275992437
         ]
        },
        "yaxis39": {
         "anchor": "x39",
         "domain": [
          0.15382797731568998,
          0.16493383742911152
         ]
        },
        "yaxis4": {
         "anchor": "x4",
         "domain": [
          0.9229678638941402,
          0.9340737240075617
         ]
        },
        "yaxis40": {
         "anchor": "x40",
         "domain": [
          0.1318525519848771,
          0.14295841209829865
         ]
        },
        "yaxis41": {
         "anchor": "x41",
         "domain": [
          0.10987712665406427,
          0.12098298676748581
         ]
        },
        "yaxis42": {
         "anchor": "x42",
         "domain": [
          0.08790170132325142,
          0.09900756143667297
         ]
        },
        "yaxis43": {
         "anchor": "x43",
         "domain": [
          0.06592627599243855,
          0.0770321361058601
         ]
        },
        "yaxis44": {
         "anchor": "x44",
         "domain": [
          0.04395085066162571,
          0.055056710775047264
         ]
        },
        "yaxis45": {
         "anchor": "x45",
         "domain": [
          0.021975425330812856,
          0.03308128544423441
         ]
        },
        "yaxis46": {
         "anchor": "x46",
         "domain": [
          0,
          0.01110586011342155
         ]
        },
        "yaxis5": {
         "anchor": "x5",
         "domain": [
          0.9009924385633273,
          0.9120982986767489
         ]
        },
        "yaxis6": {
         "anchor": "x6",
         "domain": [
          0.8790170132325145,
          0.890122873345936
         ]
        },
        "yaxis7": {
         "anchor": "x7",
         "domain": [
          0.8570415879017016,
          0.8681474480151231
         ]
        },
        "yaxis8": {
         "anchor": "x8",
         "domain": [
          0.8350661625708887,
          0.8461720226843102
         ]
        },
        "yaxis9": {
         "anchor": "x9",
         "domain": [
          0.8130907372400759,
          0.8241965973534974
         ]
        }
       }
      },
      "text/html": [
       "<div>                            <div id=\"c9c2be10-6682-426a-adcf-3b29f193482d\" class=\"plotly-graph-div\" style=\"height:7000px; width:700px;\"></div>            <script type=\"text/javascript\">                require([\"plotly\"], function(Plotly) {                    window.PLOTLYENV=window.PLOTLYENV || {};                                    if (document.getElementById(\"c9c2be10-6682-426a-adcf-3b29f193482d\")) {                    Plotly.newPlot(                        \"c9c2be10-6682-426a-adcf-3b29f193482d\",                        [{\"x\":[1.999562633941876,1.964671277657666,1.9676997241920893,2.003727901068696,1.9759306742864704,1.966263204954133,1.9448185486732352,1.9256581779646973,1.9125944393719327,1.91523637636662],\"type\":\"histogram\",\"xaxis\":\"x\",\"yaxis\":\"y\"},{\"x\":[2.4128020464655755,2.3639253245184357,2.347186356370204,2.299627727084012,2.2463363907376515,2.232397506609692],\"type\":\"histogram\",\"xaxis\":\"x2\",\"yaxis\":\"y2\"},{\"x\":[2.660828056371197,2.638945625428616,2.6182591465703458,2.6007006332354545,2.588777384038281],\"type\":\"histogram\",\"xaxis\":\"x3\",\"yaxis\":\"y3\"},{\"x\":[2.53765089425463,2.5146727323419547,2.498270932882823,2.4761393154583606,2.457048449029279,2.437886730507162],\"type\":\"histogram\",\"xaxis\":\"x4\",\"yaxis\":\"y4\"},{\"x\":[2.5450139845325834,2.536275232794111,2.4369162186806324,2.432921216884595,2.355409880356259,2.3825152509693983,2.366458367232904,2.387590822708055,2.341355471160546,2.316922973010311,2.255388573516272],\"type\":\"histogram\",\"xaxis\":\"x5\",\"yaxis\":\"y5\"},{\"x\":[1.6350803889321357,1.6146305562938377,1.6078991215702985,1.5952681362476702,1.58443853218188,1.5798900175254205,1.5648406859603692,1.5502758331320847,1.50678229757059,1.5179077696034442,1.4952435817697831,1.435567431048462],\"type\":\"histogram\",\"xaxis\":\"x6\",\"yaxis\":\"y6\"},{\"x\":[2.607861877618985,2.58086984665776,2.5470558701897548,2.5343811185932026,2.5189471673772603,2.502022566744129,2.4900962277443304,2.4834427436915574,2.478193562553751,2.45220166425735],\"type\":\"histogram\",\"xaxis\":\"x7\",\"yaxis\":\"y7\"},{\"x\":[2.5326954032824114,2.495862466381763,2.489667699293199,2.4745217384834017,2.4462801882042458,2.438981527642394,2.441129953031613,2.4454307722707096,2.4495983173726787,2.4196293292392035],\"type\":\"histogram\",\"xaxis\":\"x8\",\"yaxis\":\"y8\"},{\"x\":[2.3737179412170795,2.4268110769691607,2.3784523087940337,2.382985530106412,2.3155189199182766,2.3076568975967744,2.25046466074266,2.2364830646312543,2.2097352919838698,2.2109470841397503],\"type\":\"histogram\",\"xaxis\":\"x9\",\"yaxis\":\"y9\"},{\"x\":[2.1818746942322145,2.1574479555848702,2.1366731491465263,2.1040382036309992,2.095862125198672,2.089677279597712,2.055076779659778,2.0208986956341826,2.0084333493164173,1.9896202029446184],\"type\":\"histogram\",\"xaxis\":\"x10\",\"yaxis\":\"y10\"},{\"x\":[2.091638749587201,2.1753803702077086,2.098071338351597,2.155036309225913,2.0786036864162964,2.139847715736039,2.0407871935504724,2.103535681091625,2.03187551706176,2.0846071351969675,2.024840583262688],\"type\":\"histogram\",\"xaxis\":\"x11\",\"yaxis\":\"y11\"},{\"x\":[2.1961212056923944,2.120635970674952,2.1768899153565933,2.1079725843119186,2.1407263759073656,2.095710934693669,2.1033935954522542,2.0458018461953853,2.084900493974189,2.017577959445417,2.05751421772955],\"type\":\"histogram\",\"xaxis\":\"x12\",\"yaxis\":\"y12\"},{\"x\":[2.599183753690154,2.535910726318828,2.457336289468616,2.405764062700551,2.337814766236682,2.298034591194967],\"type\":\"histogram\",\"xaxis\":\"x13\",\"yaxis\":\"y13\"},{\"x\":[2.217815895453919,2.17817044360498,2.2047097436667893,2.117059439896994,2.1071790642708264,2.069264373898388],\"type\":\"histogram\",\"xaxis\":\"x14\",\"yaxis\":\"y14\"},{\"x\":[2.4394547455761564,2.5790718859633195,2.373095298571548,2.5090384075504977,2.3639876933889195,2.471493185592886,2.3526248947234727,2.4331332522314155,2.3159780324573167,2.398749986472403,2.2681168249554533],\"type\":\"histogram\",\"xaxis\":\"x15\",\"yaxis\":\"y15\"},{\"x\":[2.2755165413113136,2.343352969229989,2.203917587848656,2.3101885525653203,2.158343790713844,2.2705871852461663,2.12807147253239,2.237944705101868,2.0952607417946183,2.224861522967603,2.0680699538809524],\"type\":\"histogram\",\"xaxis\":\"x16\",\"yaxis\":\"y16\"},{\"x\":[2.2477688109892804,2.025323116898562,2.211077149374397,1.9741370553293116,2.1769144740714568,1.960463926628084,2.161323913047435,1.9794396980945208,2.1613193012094536],\"type\":\"histogram\",\"xaxis\":\"x17\",\"yaxis\":\"y17\"},{\"x\":[2.806343498430148,2.523881278042737,2.769729905064026,2.688215492395964,2.6605999419551174],\"type\":\"histogram\",\"xaxis\":\"x18\",\"yaxis\":\"y18\"},{\"x\":[2.0435939616798904,2.0031004912125474,1.937750099071948,1.8935861280839013],\"type\":\"histogram\",\"xaxis\":\"x19\",\"yaxis\":\"y19\"},{\"x\":[1.1193451136337709,1.1270388960639033,1.127135460058459,1.1275862911714,1.1245783064478456,1.1168089781704538,1.1150775064547975,1.1061361041804925,1.0954687698572607,1.090216839935131,1.0883667541789177],\"type\":\"histogram\",\"xaxis\":\"x20\",\"yaxis\":\"y20\"},{\"x\":[1.2165999880128258,1.223699891116505,1.222239204051664,1.2246328928046983,1.2158635260271502,1.2158155773322536,1.1790826315842042],\"type\":\"histogram\",\"xaxis\":\"x21\",\"yaxis\":\"y21\"},{\"x\":[1.2128787885739238,1.2001167162007036,1.1902541972412026,1.1834493001768784,1.1751654473555178,1.1648202812138604,1.1653344319826853,1.1651829700786267,1.1554729529474046],\"type\":\"histogram\",\"xaxis\":\"x22\",\"yaxis\":\"y22\"},{\"x\":[1.2263304517271811,1.2254132064731087,1.2151346322082546,1.2113732938477173,1.2066049753813508,1.200853678316519,1.1916398930137078,1.1826127607634067,1.1910053068415976,1.1797556692158997],\"type\":\"histogram\",\"xaxis\":\"x23\",\"yaxis\":\"y23\"},{\"x\":[1.2212716433492874,1.21534811153905,1.2135523011356988,1.2058442561855758,1.1976683487036706,1.1963727343792598,1.1969169508296338,1.1868355715766037,1.181276279122916,1.176021363514773,1.160565927972803],\"type\":\"histogram\",\"xaxis\":\"x24\",\"yaxis\":\"y24\"},{\"x\":[1.1621541279774463,1.1584264623923697,1.1497487424465571,1.1471731784934835,1.144345914000768,1.1368640880369671,1.1369078803869752,1.135187237609781,1.1322647943679152,1.1217297387604903],\"type\":\"histogram\",\"xaxis\":\"x25\",\"yaxis\":\"y25\"},{\"x\":[1.2127299276040286,1.1964547623589392,1.1864787429564558,1.1887081512836577,1.1838181683304714,1.1632401965682306,1.167021455367929,1.1663518456279307,1.1625532523685376,1.1565643857848342,1.1459952099362027],\"type\":\"histogram\",\"xaxis\":\"x26\",\"yaxis\":\"y26\"},{\"x\":[1.3936773664096616,1.3855463155364582,1.3675900759634811,1.3495743854723568,1.332919168085381,1.3132379985236822],\"type\":\"histogram\",\"xaxis\":\"x27\",\"yaxis\":\"y27\"},{\"x\":[1.4059774298060503,1.395218136849452,1.3975355962703089,1.3826763876392472,1.3751397019959724,1.3667176385621884],\"type\":\"histogram\",\"xaxis\":\"x28\",\"yaxis\":\"y28\"},{\"x\":[1.406653478096068,1.3774953831348982,1.3623405732008929,1.3448237975814024,1.3291343139952885,1.326619000887891],\"type\":\"histogram\",\"xaxis\":\"x29\",\"yaxis\":\"y29\"},{\"x\":[1.2263818887879032,1.223197502685284,1.2129930337519617,1.2085883923407414,1.2021687546476074,1.1923644964058489,1.1876498853590012,1.1771190510617195],\"type\":\"histogram\",\"xaxis\":\"x30\",\"yaxis\":\"y30\"},{\"x\":[1.210899678577075,1.2000540798388493,1.1900321688672857,1.1916131072521454,1.1908056301497087,1.1790641929015884,1.176993612732546,1.1769435191226036],\"type\":\"histogram\",\"xaxis\":\"x31\",\"yaxis\":\"y31\"},{\"x\":[3.1188403755868523,3.099151576123405,3.0538293091884623,3.037997652582158,2.9836784037558663,2.9929681421864496,2.9934292421193813,2.910732729711601,2.8934198524480195,2.964997317236752,2.837180751173707,2.828527833668677,2.818897384305833],\"type\":\"histogram\",\"xaxis\":\"x32\",\"yaxis\":\"y32\"},{\"x\":[2.763000215080461,2.7575829852119047,2.666257722350356,2.736474673838345,2.71180931630642,2.6606628325222625,2.622090687015958,2.607111294522092],\"type\":\"histogram\",\"xaxis\":\"x33\",\"yaxis\":\"y33\"},{\"x\":[3.136787905923251,3.125511413446306,3.176939458129375,3.1270886399807347,3.0400176083496677,3.0342219028305037,3.0474371950049464,2.8662807628779854,2.87029832607804,2.8981654206627194,2.886815183815367,2.7580104822355067,2.766385359484992],\"type\":\"histogram\",\"xaxis\":\"x34\",\"yaxis\":\"y34\"},{\"x\":[2.3785625530730803,2.4177802618511874,2.3339874015899125,2.4039210512428086,2.3623544538210206,2.360202265410982,2.370085252759799,2.328069603097308,1.7879206866277415],\"type\":\"histogram\",\"xaxis\":\"x35\",\"yaxis\":\"y35\"},{\"x\":[2.6875952163082384,2.677323155750972,2.6436882659300607,2.603353324431205,2.622116205739305,2.5924303416730687,2.5653171352092947,2.519739875459816,2.48276949803978,2.4302199916679985],\"type\":\"histogram\",\"xaxis\":\"x36\",\"yaxis\":\"y36\"},{\"x\":[1.2925508654745084,1.2753774146032142,1.2535264789173075,1.2354530524575116,1.2283576957057676,1.2238572131441172,1.2276066075802603,1.2189454384131158,1.2043910464974783,1.196585715721684],\"type\":\"histogram\",\"xaxis\":\"x37\",\"yaxis\":\"y37\"},{\"x\":[1.586067382862932,1.8678565491473,1.55510965538065,1.8308352159275565,1.5398626588927735,1.7857818743966294,1.5631259068211032,1.7519574519255223],\"type\":\"histogram\",\"xaxis\":\"x38\",\"yaxis\":\"y38\"},{\"x\":[1.2963780106637242,1.2957306918968254,1.2734180486804851,1.2491178666441094,1.23123248435891,1.2354122134131256,1.2165235457795929,1.216683906962318,1.194497320558479,1.214819722898225,1.19630111953252],\"type\":\"histogram\",\"xaxis\":\"x39\",\"yaxis\":\"y39\"},{\"x\":[1.2606440037984132,1.3028410355235331,1.2316955220647408,1.2662474684837275,1.1672954639410738,1.2224542879341374,1.26906367812357,1.2387722394073095,1.176214980356452,1.226893348968814,1.189578169093758,1.189578169093758,1.2028956739155023],\"type\":\"histogram\",\"xaxis\":\"x40\",\"yaxis\":\"y40\"},{\"x\":[1.2218918386414042,1.2007501001023262,1.2015462154964751,1.2093988140257652,1.17865881949167,1.1918563102600113,1.1819539974195836,1.166404133749419,1.152455780194357,1.1560930220733567,1.1719475781592603,1.1818427726120029,1.192633104316157,1.1387903825497805,1.1247766923648927],\"type\":\"histogram\",\"xaxis\":\"x41\",\"yaxis\":\"y41\"},{\"x\":[2.1030724000027146,1.6831267768753757,1.9683479266271096,1.9562181787142563,1.8537638476244784,2.021860550383964],\"type\":\"histogram\",\"xaxis\":\"x42\",\"yaxis\":\"y42\"},{\"x\":[1.1751076534452656,1.192162252185384,1.1743070482704816,1.1194592243256878],\"type\":\"histogram\",\"xaxis\":\"x43\",\"yaxis\":\"y43\"},{\"x\":[1.1414497984407552,1.1451458085847137,1.135975998978679,1.1095266224815907],\"type\":\"histogram\",\"xaxis\":\"x44\",\"yaxis\":\"y44\"},{\"x\":[1.2605347063027066,1.2379775217057798,1.2257204483420994,1.1984525685264538],\"type\":\"histogram\",\"xaxis\":\"x45\",\"yaxis\":\"y45\"},{\"x\":[1.2374129520410635,1.2379069962805458,1.236913114260222,1.2000208567488957,1.1692507792313125],\"type\":\"histogram\",\"xaxis\":\"x46\",\"yaxis\":\"y46\"}],                        {\"template\":{\"data\":{\"bar\":[{\"error_x\":{\"color\":\"#2a3f5f\"},\"error_y\":{\"color\":\"#2a3f5f\"},\"marker\":{\"line\":{\"color\":\"#E5ECF6\",\"width\":0.5},\"pattern\":{\"fillmode\":\"overlay\",\"size\":10,\"solidity\":0.2}},\"type\":\"bar\"}],\"barpolar\":[{\"marker\":{\"line\":{\"color\":\"#E5ECF6\",\"width\":0.5},\"pattern\":{\"fillmode\":\"overlay\",\"size\":10,\"solidity\":0.2}},\"type\":\"barpolar\"}],\"carpet\":[{\"aaxis\":{\"endlinecolor\":\"#2a3f5f\",\"gridcolor\":\"white\",\"linecolor\":\"white\",\"minorgridcolor\":\"white\",\"startlinecolor\":\"#2a3f5f\"},\"baxis\":{\"endlinecolor\":\"#2a3f5f\",\"gridcolor\":\"white\",\"linecolor\":\"white\",\"minorgridcolor\":\"white\",\"startlinecolor\":\"#2a3f5f\"},\"type\":\"carpet\"}],\"choropleth\":[{\"colorbar\":{\"outlinewidth\":0,\"ticks\":\"\"},\"type\":\"choropleth\"}],\"contour\":[{\"colorbar\":{\"outlinewidth\":0,\"ticks\":\"\"},\"colorscale\":[[0.0,\"#0d0887\"],[0.1111111111111111,\"#46039f\"],[0.2222222222222222,\"#7201a8\"],[0.3333333333333333,\"#9c179e\"],[0.4444444444444444,\"#bd3786\"],[0.5555555555555556,\"#d8576b\"],[0.6666666666666666,\"#ed7953\"],[0.7777777777777778,\"#fb9f3a\"],[0.8888888888888888,\"#fdca26\"],[1.0,\"#f0f921\"]],\"type\":\"contour\"}],\"contourcarpet\":[{\"colorbar\":{\"outlinewidth\":0,\"ticks\":\"\"},\"type\":\"contourcarpet\"}],\"heatmap\":[{\"colorbar\":{\"outlinewidth\":0,\"ticks\":\"\"},\"colorscale\":[[0.0,\"#0d0887\"],[0.1111111111111111,\"#46039f\"],[0.2222222222222222,\"#7201a8\"],[0.3333333333333333,\"#9c179e\"],[0.4444444444444444,\"#bd3786\"],[0.5555555555555556,\"#d8576b\"],[0.6666666666666666,\"#ed7953\"],[0.7777777777777778,\"#fb9f3a\"],[0.8888888888888888,\"#fdca26\"],[1.0,\"#f0f921\"]],\"type\":\"heatmap\"}],\"heatmapgl\":[{\"colorbar\":{\"outlinewidth\":0,\"ticks\":\"\"},\"colorscale\":[[0.0,\"#0d0887\"],[0.1111111111111111,\"#46039f\"],[0.2222222222222222,\"#7201a8\"],[0.3333333333333333,\"#9c179e\"],[0.4444444444444444,\"#bd3786\"],[0.5555555555555556,\"#d8576b\"],[0.6666666666666666,\"#ed7953\"],[0.7777777777777778,\"#fb9f3a\"],[0.8888888888888888,\"#fdca26\"],[1.0,\"#f0f921\"]],\"type\":\"heatmapgl\"}],\"histogram\":[{\"marker\":{\"pattern\":{\"fillmode\":\"overlay\",\"size\":10,\"solidity\":0.2}},\"type\":\"histogram\"}],\"histogram2d\":[{\"colorbar\":{\"outlinewidth\":0,\"ticks\":\"\"},\"colorscale\":[[0.0,\"#0d0887\"],[0.1111111111111111,\"#46039f\"],[0.2222222222222222,\"#7201a8\"],[0.3333333333333333,\"#9c179e\"],[0.4444444444444444,\"#bd3786\"],[0.5555555555555556,\"#d8576b\"],[0.6666666666666666,\"#ed7953\"],[0.7777777777777778,\"#fb9f3a\"],[0.8888888888888888,\"#fdca26\"],[1.0,\"#f0f921\"]],\"type\":\"histogram2d\"}],\"histogram2dcontour\":[{\"colorbar\":{\"outlinewidth\":0,\"ticks\":\"\"},\"colorscale\":[[0.0,\"#0d0887\"],[0.1111111111111111,\"#46039f\"],[0.2222222222222222,\"#7201a8\"],[0.3333333333333333,\"#9c179e\"],[0.4444444444444444,\"#bd3786\"],[0.5555555555555556,\"#d8576b\"],[0.6666666666666666,\"#ed7953\"],[0.7777777777777778,\"#fb9f3a\"],[0.8888888888888888,\"#fdca26\"],[1.0,\"#f0f921\"]],\"type\":\"histogram2dcontour\"}],\"mesh3d\":[{\"colorbar\":{\"outlinewidth\":0,\"ticks\":\"\"},\"type\":\"mesh3d\"}],\"parcoords\":[{\"line\":{\"colorbar\":{\"outlinewidth\":0,\"ticks\":\"\"}},\"type\":\"parcoords\"}],\"pie\":[{\"automargin\":true,\"type\":\"pie\"}],\"scatter\":[{\"marker\":{\"colorbar\":{\"outlinewidth\":0,\"ticks\":\"\"}},\"type\":\"scatter\"}],\"scatter3d\":[{\"line\":{\"colorbar\":{\"outlinewidth\":0,\"ticks\":\"\"}},\"marker\":{\"colorbar\":{\"outlinewidth\":0,\"ticks\":\"\"}},\"type\":\"scatter3d\"}],\"scattercarpet\":[{\"marker\":{\"colorbar\":{\"outlinewidth\":0,\"ticks\":\"\"}},\"type\":\"scattercarpet\"}],\"scattergeo\":[{\"marker\":{\"colorbar\":{\"outlinewidth\":0,\"ticks\":\"\"}},\"type\":\"scattergeo\"}],\"scattergl\":[{\"marker\":{\"colorbar\":{\"outlinewidth\":0,\"ticks\":\"\"}},\"type\":\"scattergl\"}],\"scattermapbox\":[{\"marker\":{\"colorbar\":{\"outlinewidth\":0,\"ticks\":\"\"}},\"type\":\"scattermapbox\"}],\"scatterpolar\":[{\"marker\":{\"colorbar\":{\"outlinewidth\":0,\"ticks\":\"\"}},\"type\":\"scatterpolar\"}],\"scatterpolargl\":[{\"marker\":{\"colorbar\":{\"outlinewidth\":0,\"ticks\":\"\"}},\"type\":\"scatterpolargl\"}],\"scatterternary\":[{\"marker\":{\"colorbar\":{\"outlinewidth\":0,\"ticks\":\"\"}},\"type\":\"scatterternary\"}],\"surface\":[{\"colorbar\":{\"outlinewidth\":0,\"ticks\":\"\"},\"colorscale\":[[0.0,\"#0d0887\"],[0.1111111111111111,\"#46039f\"],[0.2222222222222222,\"#7201a8\"],[0.3333333333333333,\"#9c179e\"],[0.4444444444444444,\"#bd3786\"],[0.5555555555555556,\"#d8576b\"],[0.6666666666666666,\"#ed7953\"],[0.7777777777777778,\"#fb9f3a\"],[0.8888888888888888,\"#fdca26\"],[1.0,\"#f0f921\"]],\"type\":\"surface\"}],\"table\":[{\"cells\":{\"fill\":{\"color\":\"#EBF0F8\"},\"line\":{\"color\":\"white\"}},\"header\":{\"fill\":{\"color\":\"#C8D4E3\"},\"line\":{\"color\":\"white\"}},\"type\":\"table\"}]},\"layout\":{\"annotationdefaults\":{\"arrowcolor\":\"#2a3f5f\",\"arrowhead\":0,\"arrowwidth\":1},\"autotypenumbers\":\"strict\",\"coloraxis\":{\"colorbar\":{\"outlinewidth\":0,\"ticks\":\"\"}},\"colorscale\":{\"diverging\":[[0,\"#8e0152\"],[0.1,\"#c51b7d\"],[0.2,\"#de77ae\"],[0.3,\"#f1b6da\"],[0.4,\"#fde0ef\"],[0.5,\"#f7f7f7\"],[0.6,\"#e6f5d0\"],[0.7,\"#b8e186\"],[0.8,\"#7fbc41\"],[0.9,\"#4d9221\"],[1,\"#276419\"]],\"sequential\":[[0.0,\"#0d0887\"],[0.1111111111111111,\"#46039f\"],[0.2222222222222222,\"#7201a8\"],[0.3333333333333333,\"#9c179e\"],[0.4444444444444444,\"#bd3786\"],[0.5555555555555556,\"#d8576b\"],[0.6666666666666666,\"#ed7953\"],[0.7777777777777778,\"#fb9f3a\"],[0.8888888888888888,\"#fdca26\"],[1.0,\"#f0f921\"]],\"sequentialminus\":[[0.0,\"#0d0887\"],[0.1111111111111111,\"#46039f\"],[0.2222222222222222,\"#7201a8\"],[0.3333333333333333,\"#9c179e\"],[0.4444444444444444,\"#bd3786\"],[0.5555555555555556,\"#d8576b\"],[0.6666666666666666,\"#ed7953\"],[0.7777777777777778,\"#fb9f3a\"],[0.8888888888888888,\"#fdca26\"],[1.0,\"#f0f921\"]]},\"colorway\":[\"#636efa\",\"#EF553B\",\"#00cc96\",\"#ab63fa\",\"#FFA15A\",\"#19d3f3\",\"#FF6692\",\"#B6E880\",\"#FF97FF\",\"#FECB52\"],\"font\":{\"color\":\"#2a3f5f\"},\"geo\":{\"bgcolor\":\"white\",\"lakecolor\":\"white\",\"landcolor\":\"#E5ECF6\",\"showlakes\":true,\"showland\":true,\"subunitcolor\":\"white\"},\"hoverlabel\":{\"align\":\"left\"},\"hovermode\":\"closest\",\"mapbox\":{\"style\":\"light\"},\"paper_bgcolor\":\"white\",\"plot_bgcolor\":\"#E5ECF6\",\"polar\":{\"angularaxis\":{\"gridcolor\":\"white\",\"linecolor\":\"white\",\"ticks\":\"\"},\"bgcolor\":\"#E5ECF6\",\"radialaxis\":{\"gridcolor\":\"white\",\"linecolor\":\"white\",\"ticks\":\"\"}},\"scene\":{\"xaxis\":{\"backgroundcolor\":\"#E5ECF6\",\"gridcolor\":\"white\",\"gridwidth\":2,\"linecolor\":\"white\",\"showbackground\":true,\"ticks\":\"\",\"zerolinecolor\":\"white\"},\"yaxis\":{\"backgroundcolor\":\"#E5ECF6\",\"gridcolor\":\"white\",\"gridwidth\":2,\"linecolor\":\"white\",\"showbackground\":true,\"ticks\":\"\",\"zerolinecolor\":\"white\"},\"zaxis\":{\"backgroundcolor\":\"#E5ECF6\",\"gridcolor\":\"white\",\"gridwidth\":2,\"linecolor\":\"white\",\"showbackground\":true,\"ticks\":\"\",\"zerolinecolor\":\"white\"}},\"shapedefaults\":{\"line\":{\"color\":\"#2a3f5f\"}},\"ternary\":{\"aaxis\":{\"gridcolor\":\"white\",\"linecolor\":\"white\",\"ticks\":\"\"},\"baxis\":{\"gridcolor\":\"white\",\"linecolor\":\"white\",\"ticks\":\"\"},\"bgcolor\":\"#E5ECF6\",\"caxis\":{\"gridcolor\":\"white\",\"linecolor\":\"white\",\"ticks\":\"\"}},\"title\":{\"x\":0.05},\"xaxis\":{\"automargin\":true,\"gridcolor\":\"white\",\"linecolor\":\"white\",\"ticks\":\"\",\"title\":{\"standoff\":15},\"zerolinecolor\":\"white\",\"zerolinewidth\":2},\"yaxis\":{\"automargin\":true,\"gridcolor\":\"white\",\"linecolor\":\"white\",\"ticks\":\"\",\"title\":{\"standoff\":15},\"zerolinecolor\":\"white\",\"zerolinewidth\":2}}},\"xaxis\":{\"anchor\":\"y\",\"domain\":[0.0,1.0]},\"yaxis\":{\"anchor\":\"x\",\"domain\":[0.9888941398865789,1.0]},\"xaxis2\":{\"anchor\":\"y2\",\"domain\":[0.0,1.0]},\"yaxis2\":{\"anchor\":\"x2\",\"domain\":[0.9669187145557661,0.9780245746691876]},\"xaxis3\":{\"anchor\":\"y3\",\"domain\":[0.0,1.0]},\"yaxis3\":{\"anchor\":\"x3\",\"domain\":[0.9449432892249531,0.9560491493383746]},\"xaxis4\":{\"anchor\":\"y4\",\"domain\":[0.0,1.0]},\"yaxis4\":{\"anchor\":\"x4\",\"domain\":[0.9229678638941402,0.9340737240075617]},\"xaxis5\":{\"anchor\":\"y5\",\"domain\":[0.0,1.0]},\"yaxis5\":{\"anchor\":\"x5\",\"domain\":[0.9009924385633273,0.9120982986767489]},\"xaxis6\":{\"anchor\":\"y6\",\"domain\":[0.0,1.0]},\"yaxis6\":{\"anchor\":\"x6\",\"domain\":[0.8790170132325145,0.890122873345936]},\"xaxis7\":{\"anchor\":\"y7\",\"domain\":[0.0,1.0]},\"yaxis7\":{\"anchor\":\"x7\",\"domain\":[0.8570415879017016,0.8681474480151231]},\"xaxis8\":{\"anchor\":\"y8\",\"domain\":[0.0,1.0]},\"yaxis8\":{\"anchor\":\"x8\",\"domain\":[0.8350661625708887,0.8461720226843102]},\"xaxis9\":{\"anchor\":\"y9\",\"domain\":[0.0,1.0]},\"yaxis9\":{\"anchor\":\"x9\",\"domain\":[0.8130907372400759,0.8241965973534974]},\"xaxis10\":{\"anchor\":\"y10\",\"domain\":[0.0,1.0]},\"yaxis10\":{\"anchor\":\"x10\",\"domain\":[0.7911153119092629,0.8022211720226844]},\"xaxis11\":{\"anchor\":\"y11\",\"domain\":[0.0,1.0]},\"yaxis11\":{\"anchor\":\"x11\",\"domain\":[0.76913988657845,0.7802457466918715]},\"xaxis12\":{\"anchor\":\"y12\",\"domain\":[0.0,1.0]},\"yaxis12\":{\"anchor\":\"x12\",\"domain\":[0.7471644612476371,0.7582703213610587]},\"xaxis13\":{\"anchor\":\"y13\",\"domain\":[0.0,1.0]},\"yaxis13\":{\"anchor\":\"x13\",\"domain\":[0.7251890359168243,0.7362948960302458]},\"xaxis14\":{\"anchor\":\"y14\",\"domain\":[0.0,1.0]},\"yaxis14\":{\"anchor\":\"x14\",\"domain\":[0.7032136105860114,0.7143194706994329]},\"xaxis15\":{\"anchor\":\"y15\",\"domain\":[0.0,1.0]},\"yaxis15\":{\"anchor\":\"x15\",\"domain\":[0.6812381852551985,0.69234404536862]},\"xaxis16\":{\"anchor\":\"y16\",\"domain\":[0.0,1.0]},\"yaxis16\":{\"anchor\":\"x16\",\"domain\":[0.6592627599243857,0.6703686200378072]},\"xaxis17\":{\"anchor\":\"y17\",\"domain\":[0.0,1.0]},\"yaxis17\":{\"anchor\":\"x17\",\"domain\":[0.6372873345935728,0.6483931947069943]},\"xaxis18\":{\"anchor\":\"y18\",\"domain\":[0.0,1.0]},\"yaxis18\":{\"anchor\":\"x18\",\"domain\":[0.6153119092627599,0.6264177693761814]},\"xaxis19\":{\"anchor\":\"y19\",\"domain\":[0.0,1.0]},\"yaxis19\":{\"anchor\":\"x19\",\"domain\":[0.593336483931947,0.6044423440453686]},\"xaxis20\":{\"anchor\":\"y20\",\"domain\":[0.0,1.0]},\"yaxis20\":{\"anchor\":\"x20\",\"domain\":[0.5713610586011342,0.5824669187145557]},\"xaxis21\":{\"anchor\":\"y21\",\"domain\":[0.0,1.0]},\"yaxis21\":{\"anchor\":\"x21\",\"domain\":[0.5493856332703213,0.5604914933837428]},\"xaxis22\":{\"anchor\":\"y22\",\"domain\":[0.0,1.0]},\"yaxis22\":{\"anchor\":\"x22\",\"domain\":[0.5274102079395084,0.53851606805293]},\"xaxis23\":{\"anchor\":\"y23\",\"domain\":[0.0,1.0]},\"yaxis23\":{\"anchor\":\"x23\",\"domain\":[0.5054347826086956,0.5165406427221171]},\"xaxis24\":{\"anchor\":\"y24\",\"domain\":[0.0,1.0]},\"yaxis24\":{\"anchor\":\"x24\",\"domain\":[0.4834593572778827,0.49456521739130427]},\"xaxis25\":{\"anchor\":\"y25\",\"domain\":[0.0,1.0]},\"yaxis25\":{\"anchor\":\"x25\",\"domain\":[0.4614839319470698,0.4725897920604914]},\"xaxis26\":{\"anchor\":\"y26\",\"domain\":[0.0,1.0]},\"yaxis26\":{\"anchor\":\"x26\",\"domain\":[0.439508506616257,0.4506143667296786]},\"xaxis27\":{\"anchor\":\"y27\",\"domain\":[0.0,1.0]},\"yaxis27\":{\"anchor\":\"x27\",\"domain\":[0.4175330812854442,0.42863894139886577]},\"xaxis28\":{\"anchor\":\"y28\",\"domain\":[0.0,1.0]},\"yaxis28\":{\"anchor\":\"x28\",\"domain\":[0.3955576559546313,0.4066635160680529]},\"xaxis29\":{\"anchor\":\"y29\",\"domain\":[0.0,1.0]},\"yaxis29\":{\"anchor\":\"x29\",\"domain\":[0.37358223062381846,0.38468809073724003]},\"xaxis30\":{\"anchor\":\"y30\",\"domain\":[0.0,1.0]},\"yaxis30\":{\"anchor\":\"x30\",\"domain\":[0.3516068052930056,0.36271266540642716]},\"xaxis31\":{\"anchor\":\"y31\",\"domain\":[0.0,1.0]},\"yaxis31\":{\"anchor\":\"x31\",\"domain\":[0.32963137996219277,0.34073724007561434]},\"xaxis32\":{\"anchor\":\"y32\",\"domain\":[0.0,1.0]},\"yaxis32\":{\"anchor\":\"x32\",\"domain\":[0.30765595463137996,0.31876181474480153]},\"xaxis33\":{\"anchor\":\"y33\",\"domain\":[0.0,1.0]},\"yaxis33\":{\"anchor\":\"x33\",\"domain\":[0.2856805293005671,0.29678638941398866]},\"xaxis34\":{\"anchor\":\"y34\",\"domain\":[0.0,1.0]},\"yaxis34\":{\"anchor\":\"x34\",\"domain\":[0.2637051039697542,0.2748109640831758]},\"xaxis35\":{\"anchor\":\"y35\",\"domain\":[0.0,1.0]},\"yaxis35\":{\"anchor\":\"x35\",\"domain\":[0.24172967863894138,0.2528355387523629]},\"xaxis36\":{\"anchor\":\"y36\",\"domain\":[0.0,1.0]},\"yaxis36\":{\"anchor\":\"x36\",\"domain\":[0.21975425330812853,0.23086011342155008]},\"xaxis37\":{\"anchor\":\"y37\",\"domain\":[0.0,1.0]},\"yaxis37\":{\"anchor\":\"x37\",\"domain\":[0.19777882797731566,0.2088846880907372]},\"xaxis38\":{\"anchor\":\"y38\",\"domain\":[0.0,1.0]},\"yaxis38\":{\"anchor\":\"x38\",\"domain\":[0.17580340264650282,0.18690926275992437]},\"xaxis39\":{\"anchor\":\"y39\",\"domain\":[0.0,1.0]},\"yaxis39\":{\"anchor\":\"x39\",\"domain\":[0.15382797731568998,0.16493383742911152]},\"xaxis40\":{\"anchor\":\"y40\",\"domain\":[0.0,1.0]},\"yaxis40\":{\"anchor\":\"x40\",\"domain\":[0.1318525519848771,0.14295841209829865]},\"xaxis41\":{\"anchor\":\"y41\",\"domain\":[0.0,1.0]},\"yaxis41\":{\"anchor\":\"x41\",\"domain\":[0.10987712665406427,0.12098298676748581]},\"xaxis42\":{\"anchor\":\"y42\",\"domain\":[0.0,1.0]},\"yaxis42\":{\"anchor\":\"x42\",\"domain\":[0.08790170132325142,0.09900756143667297]},\"xaxis43\":{\"anchor\":\"y43\",\"domain\":[0.0,1.0]},\"yaxis43\":{\"anchor\":\"x43\",\"domain\":[0.06592627599243855,0.0770321361058601]},\"xaxis44\":{\"anchor\":\"y44\",\"domain\":[0.0,1.0]},\"yaxis44\":{\"anchor\":\"x44\",\"domain\":[0.04395085066162571,0.055056710775047264]},\"xaxis45\":{\"anchor\":\"y45\",\"domain\":[0.0,1.0]},\"yaxis45\":{\"anchor\":\"x45\",\"domain\":[0.021975425330812856,0.03308128544423441]},\"xaxis46\":{\"anchor\":\"y46\",\"domain\":[0.0,1.0]},\"yaxis46\":{\"anchor\":\"x46\",\"domain\":[0.0,0.01110586011342155]},\"annotations\":[{\"font\":{\"size\":16},\"showarrow\":false,\"text\":\"220110n_0003.tif\",\"x\":0.5,\"xanchor\":\"center\",\"xref\":\"paper\",\"y\":1.0000000000000004,\"yanchor\":\"bottom\",\"yref\":\"paper\"},{\"font\":{\"size\":16},\"showarrow\":false,\"text\":\"220110n_0005.tif\",\"x\":0.5,\"xanchor\":\"center\",\"xref\":\"paper\",\"y\":0.9780245746691876,\"yanchor\":\"bottom\",\"yref\":\"paper\"},{\"font\":{\"size\":16},\"showarrow\":false,\"text\":\"220110n_0009.tif\",\"x\":0.5,\"xanchor\":\"center\",\"xref\":\"paper\",\"y\":0.9560491493383746,\"yanchor\":\"bottom\",\"yref\":\"paper\"},{\"font\":{\"size\":16},\"showarrow\":false,\"text\":\"220110n_0010.tif\",\"x\":0.5,\"xanchor\":\"center\",\"xref\":\"paper\",\"y\":0.9340737240075617,\"yanchor\":\"bottom\",\"yref\":\"paper\"},{\"font\":{\"size\":16},\"showarrow\":false,\"text\":\"220110n_0014.tif\",\"x\":0.5,\"xanchor\":\"center\",\"xref\":\"paper\",\"y\":0.9120982986767489,\"yanchor\":\"bottom\",\"yref\":\"paper\"},{\"font\":{\"size\":16},\"showarrow\":false,\"text\":\"220110n_0017.tif\",\"x\":0.5,\"xanchor\":\"center\",\"xref\":\"paper\",\"y\":0.890122873345936,\"yanchor\":\"bottom\",\"yref\":\"paper\"},{\"font\":{\"size\":16},\"showarrow\":false,\"text\":\"220110n_0020.tif\",\"x\":0.5,\"xanchor\":\"center\",\"xref\":\"paper\",\"y\":0.8681474480151231,\"yanchor\":\"bottom\",\"yref\":\"paper\"},{\"font\":{\"size\":16},\"showarrow\":false,\"text\":\"220110n_0021.tif\",\"x\":0.5,\"xanchor\":\"center\",\"xref\":\"paper\",\"y\":0.8461720226843102,\"yanchor\":\"bottom\",\"yref\":\"paper\"},{\"font\":{\"size\":16},\"showarrow\":false,\"text\":\"220110n_0022.tif\",\"x\":0.5,\"xanchor\":\"center\",\"xref\":\"paper\",\"y\":0.8241965973534974,\"yanchor\":\"bottom\",\"yref\":\"paper\"},{\"font\":{\"size\":16},\"showarrow\":false,\"text\":\"220110n_0023.tif\",\"x\":0.5,\"xanchor\":\"center\",\"xref\":\"paper\",\"y\":0.8022211720226844,\"yanchor\":\"bottom\",\"yref\":\"paper\"},{\"font\":{\"size\":16},\"showarrow\":false,\"text\":\"220110n_0024.tif\",\"x\":0.5,\"xanchor\":\"center\",\"xref\":\"paper\",\"y\":0.7802457466918715,\"yanchor\":\"bottom\",\"yref\":\"paper\"},{\"font\":{\"size\":16},\"showarrow\":false,\"text\":\"220110n_0025.tif\",\"x\":0.5,\"xanchor\":\"center\",\"xref\":\"paper\",\"y\":0.7582703213610587,\"yanchor\":\"bottom\",\"yref\":\"paper\"},{\"font\":{\"size\":16},\"showarrow\":false,\"text\":\"220110n_0030.tif\",\"x\":0.5,\"xanchor\":\"center\",\"xref\":\"paper\",\"y\":0.7362948960302458,\"yanchor\":\"bottom\",\"yref\":\"paper\"},{\"font\":{\"size\":16},\"showarrow\":false,\"text\":\"220110n_0032.tif\",\"x\":0.5,\"xanchor\":\"center\",\"xref\":\"paper\",\"y\":0.7143194706994329,\"yanchor\":\"bottom\",\"yref\":\"paper\"},{\"font\":{\"size\":16},\"showarrow\":false,\"text\":\"220110n_0035.tif\",\"x\":0.5,\"xanchor\":\"center\",\"xref\":\"paper\",\"y\":0.69234404536862,\"yanchor\":\"bottom\",\"yref\":\"paper\"},{\"font\":{\"size\":16},\"showarrow\":false,\"text\":\"220110n_0036.tif\",\"x\":0.5,\"xanchor\":\"center\",\"xref\":\"paper\",\"y\":0.6703686200378072,\"yanchor\":\"bottom\",\"yref\":\"paper\"},{\"font\":{\"size\":16},\"showarrow\":false,\"text\":\"220110n_0037.tif\",\"x\":0.5,\"xanchor\":\"center\",\"xref\":\"paper\",\"y\":0.6483931947069943,\"yanchor\":\"bottom\",\"yref\":\"paper\"},{\"font\":{\"size\":16},\"showarrow\":false,\"text\":\"220110n_0049.tif\",\"x\":0.5,\"xanchor\":\"center\",\"xref\":\"paper\",\"y\":0.6264177693761814,\"yanchor\":\"bottom\",\"yref\":\"paper\"},{\"font\":{\"size\":16},\"showarrow\":false,\"text\":\"220110n_0052.tif\",\"x\":0.5,\"xanchor\":\"center\",\"xref\":\"paper\",\"y\":0.6044423440453686,\"yanchor\":\"bottom\",\"yref\":\"paper\"},{\"font\":{\"size\":16},\"showarrow\":false,\"text\":\"220110n_0055.tif\",\"x\":0.5,\"xanchor\":\"center\",\"xref\":\"paper\",\"y\":0.5824669187145557,\"yanchor\":\"bottom\",\"yref\":\"paper\"},{\"font\":{\"size\":16},\"showarrow\":false,\"text\":\"220110n_0060.tif\",\"x\":0.5,\"xanchor\":\"center\",\"xref\":\"paper\",\"y\":0.5604914933837428,\"yanchor\":\"bottom\",\"yref\":\"paper\"},{\"font\":{\"size\":16},\"showarrow\":false,\"text\":\"220110n_0064.tif\",\"x\":0.5,\"xanchor\":\"center\",\"xref\":\"paper\",\"y\":0.53851606805293,\"yanchor\":\"bottom\",\"yref\":\"paper\"},{\"font\":{\"size\":16},\"showarrow\":false,\"text\":\"220110n_0067.tif\",\"x\":0.5,\"xanchor\":\"center\",\"xref\":\"paper\",\"y\":0.5165406427221171,\"yanchor\":\"bottom\",\"yref\":\"paper\"},{\"font\":{\"size\":16},\"showarrow\":false,\"text\":\"220110n_0068.tif\",\"x\":0.5,\"xanchor\":\"center\",\"xref\":\"paper\",\"y\":0.49456521739130427,\"yanchor\":\"bottom\",\"yref\":\"paper\"},{\"font\":{\"size\":16},\"showarrow\":false,\"text\":\"220110n_0072.tif\",\"x\":0.5,\"xanchor\":\"center\",\"xref\":\"paper\",\"y\":0.4725897920604914,\"yanchor\":\"bottom\",\"yref\":\"paper\"},{\"font\":{\"size\":16},\"showarrow\":false,\"text\":\"220110n_0073.tif\",\"x\":0.5,\"xanchor\":\"center\",\"xref\":\"paper\",\"y\":0.4506143667296786,\"yanchor\":\"bottom\",\"yref\":\"paper\"},{\"font\":{\"size\":16},\"showarrow\":false,\"text\":\"220110n_0077.tif\",\"x\":0.5,\"xanchor\":\"center\",\"xref\":\"paper\",\"y\":0.42863894139886577,\"yanchor\":\"bottom\",\"yref\":\"paper\"},{\"font\":{\"size\":16},\"showarrow\":false,\"text\":\"220110n_0078.tif\",\"x\":0.5,\"xanchor\":\"center\",\"xref\":\"paper\",\"y\":0.4066635160680529,\"yanchor\":\"bottom\",\"yref\":\"paper\"},{\"font\":{\"size\":16},\"showarrow\":false,\"text\":\"220110n_0080.tif\",\"x\":0.5,\"xanchor\":\"center\",\"xref\":\"paper\",\"y\":0.38468809073724003,\"yanchor\":\"bottom\",\"yref\":\"paper\"},{\"font\":{\"size\":16},\"showarrow\":false,\"text\":\"220110n_0082.tif\",\"x\":0.5,\"xanchor\":\"center\",\"xref\":\"paper\",\"y\":0.36271266540642716,\"yanchor\":\"bottom\",\"yref\":\"paper\"},{\"font\":{\"size\":16},\"showarrow\":false,\"text\":\"220110n_0083.tif\",\"x\":0.5,\"xanchor\":\"center\",\"xref\":\"paper\",\"y\":0.34073724007561434,\"yanchor\":\"bottom\",\"yref\":\"paper\"},{\"font\":{\"size\":16},\"showarrow\":false,\"text\":\"2.5Hz_ctrl_0005.tif\",\"x\":0.5,\"xanchor\":\"center\",\"xref\":\"paper\",\"y\":0.31876181474480153,\"yanchor\":\"bottom\",\"yref\":\"paper\"},{\"font\":{\"size\":16},\"showarrow\":false,\"text\":\"2.5Hz_ctrl_0009.tif\",\"x\":0.5,\"xanchor\":\"center\",\"xref\":\"paper\",\"y\":0.29678638941398866,\"yanchor\":\"bottom\",\"yref\":\"paper\"},{\"font\":{\"size\":16},\"showarrow\":false,\"text\":\"2.5Hz_ctrl_0012.tif\",\"x\":0.5,\"xanchor\":\"center\",\"xref\":\"paper\",\"y\":0.2748109640831758,\"yanchor\":\"bottom\",\"yref\":\"paper\"},{\"font\":{\"size\":16},\"showarrow\":false,\"text\":\"2.5Hz_ctrl_0017.tif\",\"x\":0.5,\"xanchor\":\"center\",\"xref\":\"paper\",\"y\":0.2528355387523629,\"yanchor\":\"bottom\",\"yref\":\"paper\"},{\"font\":{\"size\":16},\"showarrow\":false,\"text\":\"2.5Hz_ctrl_0028.tif\",\"x\":0.5,\"xanchor\":\"center\",\"xref\":\"paper\",\"y\":0.23086011342155008,\"yanchor\":\"bottom\",\"yref\":\"paper\"},{\"font\":{\"size\":16},\"showarrow\":false,\"text\":\"2.5Hz_thapsi_0024.tif\",\"x\":0.5,\"xanchor\":\"center\",\"xref\":\"paper\",\"y\":0.2088846880907372,\"yanchor\":\"bottom\",\"yref\":\"paper\"},{\"font\":{\"size\":16},\"showarrow\":false,\"text\":\"cell.tif\",\"x\":0.5,\"xanchor\":\"center\",\"xref\":\"paper\",\"y\":0.18690926275992437,\"yanchor\":\"bottom\",\"yref\":\"paper\"},{\"font\":{\"size\":16},\"showarrow\":false,\"text\":\"control 2.5_0012.tif\",\"x\":0.5,\"xanchor\":\"center\",\"xref\":\"paper\",\"y\":0.16493383742911152,\"yanchor\":\"bottom\",\"yref\":\"paper\"},{\"font\":{\"size\":16},\"showarrow\":false,\"text\":\"control 2.5_0013.tif\",\"x\":0.5,\"xanchor\":\"center\",\"xref\":\"paper\",\"y\":0.14295841209829865,\"yanchor\":\"bottom\",\"yref\":\"paper\"},{\"font\":{\"size\":16},\"showarrow\":false,\"text\":\"control 2.5_0014.tif\",\"x\":0.5,\"xanchor\":\"center\",\"xref\":\"paper\",\"y\":0.12098298676748581,\"yanchor\":\"bottom\",\"yref\":\"paper\"},{\"font\":{\"size\":16},\"showarrow\":false,\"text\":\"control 2.5_0022.tif\",\"x\":0.5,\"xanchor\":\"center\",\"xref\":\"paper\",\"y\":0.09900756143667297,\"yanchor\":\"bottom\",\"yref\":\"paper\"},{\"font\":{\"size\":16},\"showarrow\":false,\"text\":\"thapsi 2.5_0008.tif\",\"x\":0.5,\"xanchor\":\"center\",\"xref\":\"paper\",\"y\":0.0770321361058601,\"yanchor\":\"bottom\",\"yref\":\"paper\"},{\"font\":{\"size\":16},\"showarrow\":false,\"text\":\"thapsi 2.5_0017.tif\",\"x\":0.5,\"xanchor\":\"center\",\"xref\":\"paper\",\"y\":0.055056710775047264,\"yanchor\":\"bottom\",\"yref\":\"paper\"},{\"font\":{\"size\":16},\"showarrow\":false,\"text\":\"thapsi 2.5_0033.tif\",\"x\":0.5,\"xanchor\":\"center\",\"xref\":\"paper\",\"y\":0.03308128544423441,\"yanchor\":\"bottom\",\"yref\":\"paper\"},{\"font\":{\"size\":16},\"showarrow\":false,\"text\":\"thapsi 2.5_0047.tif\",\"x\":0.5,\"xanchor\":\"center\",\"xref\":\"paper\",\"y\":0.01110586011342155,\"yanchor\":\"bottom\",\"yref\":\"paper\"}],\"title\":{\"text\":\"Subplot for Each File's peakVal\"},\"height\":7000,\"width\":700,\"showlegend\":false,\"colorway\":[\"rgb(229, 134, 6)\",\"rgb(93, 105, 177)\",\"rgb(82, 188, 163)\",\"rgb(153, 201, 69)\",\"rgb(204, 97, 176)\",\"rgb(36, 121, 108)\",\"rgb(218, 165, 27)\",\"rgb(47, 138, 196)\",\"rgb(118, 78, 159)\",\"rgb(237, 100, 90)\",\"rgb(165, 170, 153)\"]},                        {\"responsive\": true}                    ).then(function(){\n",
       "                            \n",
       "var gd = document.getElementById('c9c2be10-6682-426a-adcf-3b29f193482d');\n",
       "var x = new MutationObserver(function (mutations, observer) {{\n",
       "        var display = window.getComputedStyle(gd).display;\n",
       "        if (!display || display === 'none') {{\n",
       "            console.log([gd, 'removed!']);\n",
       "            Plotly.purge(gd);\n",
       "            observer.disconnect();\n",
       "        }}\n",
       "}});\n",
       "\n",
       "// Listen for the removal of the full notebook cells\n",
       "var notebookContainer = gd.closest('#notebook-container');\n",
       "if (notebookContainer) {{\n",
       "    x.observe(notebookContainer, {childList: true});\n",
       "}}\n",
       "\n",
       "// Listen for the clearing of the current output cell\n",
       "var outputEl = gd.closest('.output');\n",
       "if (outputEl) {{\n",
       "    x.observe(outputEl, {childList: true});\n",
       "}}\n",
       "\n",
       "                        })                };                });            </script>        </div>"
      ]
     },
     "metadata": {},
     "output_type": "display_data"
    },
    {
     "data": {
      "application/javascript": [
       "\n",
       "            setTimeout(function() {\n",
       "                var nbb_cell_id = 78;\n",
       "                var nbb_unformatted_code = \"# From meeting on 3/7, just trying different histograms\\n# subset = dfMaster[\\\"peakVal\\\"][dfMaster[\\\"file\\\"] == \\\"220110n_0014.tif\\\"]\\n# figure = px.histogram(subset)\\n# figure.show()\\n\\n# subset = dfMaster[\\\"peakVal\\\"][dfMaster[\\\"file\\\"] == \\\"2.5Hz_ctrl_0012.tif\\\"]\\n# figure = px.histogram(subset)\\n# figure.show()\\n\\n# dfMaster.file.unique()\\nfilenames = dfMaster.file.unique()\\nfig = make_subplots(rows = len(filenames), cols = 1, subplot_titles = filenames) #Two columns creates staggering problems with plots\\n\\n\\n\\nfor index, file in enumerate(dfMaster.file.unique()):\\n    dfFile =dfMaster.loc[dfMaster[\\\"file\\\"] == file]\\n\\n    #We split the subplot into two columns, deciding which column based on odd or even index\\n    #if (index % 2) == 0: #even col 1\\n    fig.append_trace(go.Histogram(x= dfFile[\\\"peakVal\\\"]), row = index + 1, col = 1)\\n#     else: #odd col 2\\n#         fig.append_trace(go.Histogram(x= dfFile[\\\"peakVal\\\"]), row = index + 1, col = 2)\\n        \\nfig.update_layout(height=7000, width=700, showlegend = False, colorway= px.colors.qualitative.Vivid,\\n                  title_text=\\\"Subplot for Each File's peakVal\\\")\\n\\nfig.show()\\n\\n# dfFile =dfMaster.loc[dfMaster[\\\"file\\\"] == \\\"2.5Hz_ctrl_0012.tif\\\"]\\n# display(dfFile)\";\n",
       "                var nbb_formatted_code = \"# From meeting on 3/7, just trying different histograms\\n# subset = dfMaster[\\\"peakVal\\\"][dfMaster[\\\"file\\\"] == \\\"220110n_0014.tif\\\"]\\n# figure = px.histogram(subset)\\n# figure.show()\\n\\n# subset = dfMaster[\\\"peakVal\\\"][dfMaster[\\\"file\\\"] == \\\"2.5Hz_ctrl_0012.tif\\\"]\\n# figure = px.histogram(subset)\\n# figure.show()\\n\\n# dfMaster.file.unique()\\nfilenames = dfMaster.file.unique()\\nfig = make_subplots(\\n    rows=len(filenames), cols=1, subplot_titles=filenames\\n)  # Two columns creates staggering problems with plots\\n\\n\\nfor index, file in enumerate(dfMaster.file.unique()):\\n    dfFile = dfMaster.loc[dfMaster[\\\"file\\\"] == file]\\n\\n    # We split the subplot into two columns, deciding which column based on odd or even index\\n    # if (index % 2) == 0: #even col 1\\n    fig.append_trace(go.Histogram(x=dfFile[\\\"peakVal\\\"]), row=index + 1, col=1)\\n#     else: #odd col 2\\n#         fig.append_trace(go.Histogram(x= dfFile[\\\"peakVal\\\"]), row = index + 1, col = 2)\\n\\nfig.update_layout(\\n    height=7000,\\n    width=700,\\n    showlegend=False,\\n    colorway=px.colors.qualitative.Vivid,\\n    title_text=\\\"Subplot for Each File's peakVal\\\",\\n)\\n\\nfig.show()\\n\\n# dfFile =dfMaster.loc[dfMaster[\\\"file\\\"] == \\\"2.5Hz_ctrl_0012.tif\\\"]\\n# display(dfFile)\";\n",
       "                var nbb_cells = Jupyter.notebook.get_cells();\n",
       "                for (var i = 0; i < nbb_cells.length; ++i) {\n",
       "                    if (nbb_cells[i].input_prompt_number == nbb_cell_id) {\n",
       "                        if (nbb_cells[i].get_text() == nbb_unformatted_code) {\n",
       "                             nbb_cells[i].set_text(nbb_formatted_code);\n",
       "                        }\n",
       "                        break;\n",
       "                    }\n",
       "                }\n",
       "            }, 500);\n",
       "            "
      ],
      "text/plain": [
       "<IPython.core.display.Javascript object>"
      ]
     },
     "metadata": {},
     "output_type": "display_data"
    }
   ],
   "source": [
    "# From meeting on 3/7, just trying different histograms\n",
    "# subset = dfMaster[\"peakVal\"][dfMaster[\"file\"] == \"220110n_0014.tif\"]\n",
    "# figure = px.histogram(subset)\n",
    "# figure.show()\n",
    "\n",
    "# subset = dfMaster[\"peakVal\"][dfMaster[\"file\"] == \"2.5Hz_ctrl_0012.tif\"]\n",
    "# figure = px.histogram(subset)\n",
    "# figure.show()\n",
    "\n",
    "# dfMaster.file.unique()\n",
    "filenames = dfMaster.file.unique()\n",
    "fig = make_subplots(rows = len(filenames), cols = 1, subplot_titles = filenames) #Two columns creates staggering problems with plots\n",
    "\n",
    "\n",
    "\n",
    "for index, file in enumerate(dfMaster.file.unique()):\n",
    "    dfFile =dfMaster.loc[dfMaster[\"file\"] == file]\n",
    "\n",
    "    #We split the subplot into two columns, deciding which column based on odd or even index\n",
    "    #if (index % 2) == 0: #even col 1\n",
    "    fig.append_trace(go.Histogram(x= dfFile[\"peakVal\"]), row = index + 1, col = 1)\n",
    "#     else: #odd col 2\n",
    "#         fig.append_trace(go.Histogram(x= dfFile[\"peakVal\"]), row = index + 1, col = 2)\n",
    "        \n",
    "fig.update_layout(height=7000, width=700, showlegend = False, colorway= px.colors.qualitative.Vivid,\n",
    "                  title_text=\"Subplot for Each File's peakVal\")\n",
    "\n",
    "fig.show()\n",
    "\n",
    "# dfFile =dfMaster.loc[dfMaster[\"file\"] == \"2.5Hz_ctrl_0012.tif\"]\n",
    "# display(dfFile)\n"
   ]
  },
  {
   "cell_type": "code",
   "execution_count": 79,
   "id": "df61b7de",
   "metadata": {
    "scrolled": false
   },
   "outputs": [
    {
     "data": {
      "application/vnd.plotly.v1+json": {
       "config": {
        "plotlyServerURL": "https://plot.ly"
       },
       "data": [
        {
         "histnorm": "probability density",
         "name": "Control",
         "type": "histogram",
         "x": [
          1.9125944393719327,
          1.91523637636662,
          1.9256581779646973,
          1.9448185486732352,
          1.964671277657666,
          1.966263204954133,
          1.9676997241920893,
          1.9759306742864704,
          1.999562633941876,
          2.003727901068696
         ],
         "xaxis": "x",
         "yaxis": "y"
        },
        {
         "mode": "lines",
         "name": "Gaussian KDE",
         "type": "scatter",
         "x": [
          1.9125944393719327,
          1.91523637636662,
          1.9256581779646973,
          1.9448185486732352,
          1.964671277657666,
          1.966263204954133,
          1.9676997241920893,
          1.9759306742864704,
          1.999562633941876,
          2.003727901068696
         ],
         "xaxis": "x",
         "y": [
          6.308322146232273,
          6.636897890637732,
          7.4666958111041835,
          8.514190208133485,
          10.066921495240447,
          10.09939075996033,
          10.10788235159414,
          9.769107041827318,
          6.483756166683573,
          5.768296020147169
         ],
         "yaxis": "y"
        },
        {
         "histnorm": "probability density",
         "name": "Control",
         "type": "histogram",
         "x": [
          2.232397506609692,
          2.2463363907376515,
          2.299627727084012,
          2.347186356370204,
          2.3639253245184357,
          2.4128020464655755
         ],
         "xaxis": "x2",
         "yaxis": "y2"
        },
        {
         "mode": "lines",
         "name": "Gaussian KDE",
         "type": "scatter",
         "x": [
          2.232397506609692,
          2.2463363907376515,
          2.299627727084012,
          2.347186356370204,
          2.3639253245184357,
          2.4128020464655755
         ],
         "xaxis": "x2",
         "y": [
          5.943890678823531,
          6.027704685781462,
          3.6473798376708015,
          5.878728466076934,
          5.8534677518825955,
          3.507634524042566
         ],
         "yaxis": "y2"
        },
        {
         "histnorm": "probability density",
         "name": "Control",
         "type": "histogram",
         "x": [
          2.588777384038281,
          2.6007006332354545,
          2.6182591465703458,
          2.638945625428616,
          2.660828056371197
         ],
         "xaxis": "x3",
         "yaxis": "y3"
        },
        {
         "mode": "lines",
         "name": "Gaussian KDE",
         "type": "scatter",
         "x": [
          2.588777384038281,
          2.6007006332354545,
          2.6182591465703458,
          2.638945625428616,
          2.660828056371197
         ],
         "xaxis": "x3",
         "y": [
          8.853074050195119,
          10.727401809902066,
          10.799910907682253,
          9.331368983544095,
          6.645745190476877
         ],
         "yaxis": "y3"
        },
        {
         "histnorm": "probability density",
         "name": "Control",
         "type": "histogram",
         "x": [
          2.437886730507162,
          2.457048449029279,
          2.4761393154583606,
          2.498270932882823,
          2.5146727323419547,
          2.53765089425463
         ],
         "xaxis": "x4",
         "yaxis": "y4"
        },
        {
         "mode": "lines",
         "name": "Gaussian KDE",
         "type": "scatter",
         "x": [
          2.437886730507162,
          2.457048449029279,
          2.4761393154583606,
          2.498270932882823,
          2.5146727323419547,
          2.53765089425463
         ],
         "xaxis": "x4",
         "y": [
          5.996163825205081,
          7.984195858447178,
          8.31758134572645,
          8.412688477051491,
          7.991999091258231,
          5.551641725920359
         ],
         "yaxis": "y4"
        },
        {
         "histnorm": "probability density",
         "name": "Control",
         "type": "histogram",
         "x": [
          2.255388573516272,
          2.316922973010311,
          2.341355471160546,
          2.355409880356259,
          2.366458367232904,
          2.3825152509693983,
          2.387590822708055,
          2.432921216884595,
          2.4369162186806324,
          2.536275232794111,
          2.5450139845325834
         ],
         "xaxis": "x5",
         "yaxis": "y5"
        },
        {
         "mode": "lines",
         "name": "Gaussian KDE",
         "type": "scatter",
         "x": [
          2.255388573516272,
          2.316922973010311,
          2.341355471160546,
          2.355409880356259,
          2.366458367232904,
          2.3825152509693983,
          2.387590822708055,
          2.432921216884595,
          2.4369162186806324,
          2.536275232794111,
          2.5450139845325834
         ],
         "xaxis": "x5",
         "y": [
          1.829513608428392,
          3.0701857662540126,
          5.258479143088517,
          6.293652350090636,
          6.641783252681537,
          5.954028906564117,
          5.458321405217142,
          3.813933317275598,
          3.7265652548209056,
          3.461664237507154,
          3.4616545243336225
         ],
         "yaxis": "y5"
        },
        {
         "histnorm": "probability density",
         "name": "Control",
         "type": "histogram",
         "x": [
          1.435567431048462,
          1.4952435817697831,
          1.50678229757059,
          1.5179077696034442,
          1.5502758331320847,
          1.5648406859603692,
          1.5798900175254205,
          1.58443853218188,
          1.5952681362476702,
          1.6078991215702985,
          1.6146305562938377,
          1.6350803889321357
         ],
         "xaxis": "x6",
         "yaxis": "y6"
        },
        {
         "mode": "lines",
         "name": "Gaussian KDE",
         "type": "scatter",
         "x": [
          1.435567431048462,
          1.4952435817697831,
          1.50678229757059,
          1.5179077696034442,
          1.5502758331320847,
          1.5648406859603692,
          1.5798900175254205,
          1.58443853218188,
          1.5952681362476702,
          1.6078991215702985,
          1.6146305562938377,
          1.6350803889321357
         ],
         "xaxis": "x6",
         "y": [
          1.6849234540119593,
          4.005648801745442,
          4.680476936828721,
          4.53709418635306,
          4.68999293388272,
          6.117369418012582,
          7.370785626543223,
          7.5748742867701475,
          7.621894307463353,
          6.903724900943291,
          6.2428663858958195,
          3.645096266011442
         ],
         "yaxis": "y6"
        },
        {
         "histnorm": "probability density",
         "name": "Control",
         "type": "histogram",
         "x": [
          2.45220166425735,
          2.478193562553751,
          2.4834427436915574,
          2.4900962277443304,
          2.502022566744129,
          2.5189471673772603,
          2.5343811185932026,
          2.5470558701897548,
          2.58086984665776,
          2.607861877618985
         ],
         "xaxis": "x7",
         "yaxis": "y7"
        },
        {
         "mode": "lines",
         "name": "Gaussian KDE",
         "type": "scatter",
         "x": [
          2.45220166425735,
          2.478193562553751,
          2.4834427436915574,
          2.4900962277443304,
          2.502022566744129,
          2.5189471673772603,
          2.5343811185932026,
          2.5470558701897548,
          2.58086984665776,
          2.607861877618985
         ],
         "xaxis": "x7",
         "y": [
          3.8699670402463755,
          7.725117409129592,
          8.196910835967545,
          8.46541250855463,
          8.122813720108963,
          7.004834757308786,
          6.071298229389928,
          5.077496463371527,
          3.4260902167601848,
          2.8191201449684695
         ],
         "yaxis": "y7"
        },
        {
         "histnorm": "probability density",
         "name": "Control",
         "type": "histogram",
         "x": [
          2.4196293292392035,
          2.438981527642394,
          2.441129953031613,
          2.4454307722707096,
          2.4462801882042458,
          2.4495983173726787,
          2.4745217384834017,
          2.489667699293199,
          2.495862466381763,
          2.5326954032824114
         ],
         "xaxis": "x8",
         "yaxis": "y8"
        },
        {
         "mode": "lines",
         "name": "Gaussian KDE",
         "type": "scatter",
         "x": [
          2.4196293292392035,
          2.438981527642394,
          2.441129953031613,
          2.4454307722707096,
          2.4462801882042458,
          2.4495983173726787,
          2.4745217384834017,
          2.489667699293199,
          2.495862466381763,
          2.5326954032824114
         ],
         "xaxis": "x8",
         "y": [
          6.752798349443927,
          11.24610418875432,
          11.446779751632489,
          11.598726968830698,
          11.590031792413736,
          11.442823449166536,
          7.948676345516008,
          6.410780244617447,
          5.787026564997828,
          2.587586776840853
         ],
         "yaxis": "y8"
        },
        {
         "histnorm": "probability density",
         "name": "Control",
         "type": "histogram",
         "x": [
          2.2097352919838698,
          2.2109470841397503,
          2.2364830646312543,
          2.25046466074266,
          2.3076568975967744,
          2.3155189199182766,
          2.3737179412170795,
          2.3784523087940337,
          2.382985530106412,
          2.4268110769691607
         ],
         "xaxis": "x9",
         "yaxis": "y9"
        },
        {
         "mode": "lines",
         "name": "Gaussian KDE",
         "type": "scatter",
         "x": [
          2.2097352919838698,
          2.2109470841397503,
          2.2364830646312543,
          2.25046466074266,
          2.3076568975967744,
          2.3155189199182766,
          2.3737179412170795,
          2.3784523087940337,
          2.382985530106412,
          2.4268110769691607
         ],
         "xaxis": "x9",
         "y": [
          5.052199693981771,
          5.1518411748133905,
          5.259807994261673,
          4.134490450538357,
          3.892093703050461,
          3.901754165468974,
          5.82223608032193,
          6.0035845790890034,
          5.919693354501401,
          2.3415816408119845
         ],
         "yaxis": "y9"
        },
        {
         "histnorm": "probability density",
         "name": "Control",
         "type": "histogram",
         "x": [
          1.9896202029446184,
          2.0084333493164173,
          2.0208986956341826,
          2.055076779659778,
          2.089677279597712,
          2.095862125198672,
          2.1040382036309992,
          2.1366731491465263,
          2.1574479555848702,
          2.1818746942322145
         ],
         "xaxis": "x10",
         "yaxis": "y10"
        },
        {
         "mode": "lines",
         "name": "Gaussian KDE",
         "type": "scatter",
         "x": [
          1.9896202029446184,
          2.0084333493164173,
          2.0208986956341826,
          2.055076779659778,
          2.089677279597712,
          2.095862125198672,
          2.1040382036309992,
          2.1366731491465263,
          2.1574479555848702,
          2.1818746942322145
         ],
         "xaxis": "x10",
         "y": [
          3.8728777443316242,
          5.0510048663853855,
          4.695151191273109,
          3.3949182921567647,
          6.022880905631744,
          6.24871265835913,
          6.055267225906086,
          4.215079040638593,
          4.184113464858817,
          3.0972804350217524
         ],
         "yaxis": "y10"
        },
        {
         "histnorm": "probability density",
         "name": "Control",
         "type": "histogram",
         "x": [
          2.024840583262688,
          2.03187551706176,
          2.0407871935504724,
          2.0786036864162964,
          2.0846071351969675,
          2.091638749587201,
          2.098071338351597,
          2.103535681091625,
          2.139847715736039,
          2.155036309225913,
          2.1753803702077086
         ],
         "xaxis": "x11",
         "yaxis": "y11"
        },
        {
         "mode": "lines",
         "name": "Gaussian KDE",
         "type": "scatter",
         "x": [
          2.024840583262688,
          2.03187551706176,
          2.0407871935504724,
          2.0786036864162964,
          2.0846071351969675,
          2.091638749587201,
          2.098071338351597,
          2.103535681091625,
          2.139847715736039,
          2.155036309225913,
          2.1753803702077086
         ],
         "xaxis": "x11",
         "y": [
          4.917193054458734,
          5.365818480025668,
          5.357703417380492,
          7.464785064434752,
          8.141131721693506,
          8.436513547836347,
          8.133993113964037,
          7.506691768180656,
          4.256144965437704,
          4.367507828034667,
          3.2727516006284127
         ],
         "yaxis": "y11"
        },
        {
         "histnorm": "probability density",
         "name": "Control",
         "type": "histogram",
         "x": [
          2.017577959445417,
          2.0458018461953853,
          2.05751421772955,
          2.084900493974189,
          2.095710934693669,
          2.1033935954522542,
          2.1079725843119186,
          2.120635970674952,
          2.1407263759073656,
          2.1768899153565933,
          2.1961212056923944
         ],
         "xaxis": "x12",
         "yaxis": "y12"
        },
        {
         "mode": "lines",
         "name": "Gaussian KDE",
         "type": "scatter",
         "x": [
          2.017577959445417,
          2.0458018461953853,
          2.05751421772955,
          2.084900493974189,
          2.095710934693669,
          2.1033935954522542,
          2.1079725843119186,
          2.120635970674952,
          2.1407263759073656,
          2.1768899153565933,
          2.1961212056923944
         ],
         "xaxis": "x12",
         "y": [
          2.7377227380761084,
          4.404665154238745,
          4.809367603831182,
          6.884139684109687,
          7.920177539935092,
          8.176533734569226,
          8.067700070822218,
          6.894683849347564,
          4.274183828404577,
          3.3512547983900283,
          2.9962544368244086
         ],
         "yaxis": "y12"
        },
        {
         "histnorm": "probability density",
         "name": "Control",
         "type": "histogram",
         "x": [
          2.298034591194967,
          2.337814766236682,
          2.405764062700551,
          2.457336289468616,
          2.535910726318828,
          2.599183753690154
         ],
         "xaxis": "x13",
         "yaxis": "y13"
        },
        {
         "mode": "lines",
         "name": "Gaussian KDE",
         "type": "scatter",
         "x": [
          2.298034591194967,
          2.337814766236682,
          2.405764062700551,
          2.457336289468616,
          2.535910726318828,
          2.599183753690154
         ],
         "xaxis": "x13",
         "y": [
          3.784417586729475,
          3.7947733328856983,
          3.4545150118759467,
          3.445635474334185,
          3.348301743479391,
          3.3468223176921312
         ],
         "yaxis": "y13"
        },
        {
         "histnorm": "probability density",
         "name": "Control",
         "type": "histogram",
         "x": [
          2.069264373898388,
          2.1071790642708264,
          2.117059439896994,
          2.17817044360498,
          2.2047097436667893,
          2.217815895453919
         ],
         "xaxis": "x14",
         "yaxis": "y14"
        },
        {
         "mode": "lines",
         "name": "Gaussian KDE",
         "type": "scatter",
         "x": [
          2.069264373898388,
          2.1071790642708264,
          2.117059439896994,
          2.17817044360498,
          2.2047097436667893,
          2.217815895453919
         ],
         "xaxis": "x14",
         "y": [
          4.067020485971388,
          6.824504322252907,
          6.489837964099101,
          5.206308324870596,
          7.385272823084748,
          6.472748914019471
         ],
         "yaxis": "y14"
        },
        {
         "histnorm": "probability density",
         "name": "Control",
         "type": "histogram",
         "x": [
          2.2681168249554533,
          2.3159780324573167,
          2.3526248947234727,
          2.3639876933889195,
          2.373095298571548,
          2.398749986472403,
          2.4331332522314155,
          2.4394547455761564,
          2.471493185592886,
          2.5090384075504977,
          2.5790718859633195
         ],
         "xaxis": "x15",
         "yaxis": "y15"
        },
        {
         "mode": "lines",
         "name": "Gaussian KDE",
         "type": "scatter",
         "x": [
          2.2681168249554533,
          2.3159780324573167,
          2.3526248947234727,
          2.3639876933889195,
          2.373095298571548,
          2.398749986472403,
          2.4331332522314155,
          2.4394547455761564,
          2.471493185592886,
          2.5090384075504977,
          2.5790718859633195
         ],
         "xaxis": "x15",
         "y": [
          1.9171355960958825,
          2.388009173085579,
          4.896729161011728,
          5.499401898131303,
          5.376801573350903,
          3.782252853924062,
          4.266823921939552,
          4.2828577388638465,
          2.9179763970839097,
          2.1342761194978546,
          1.8173185095511948
         ],
         "yaxis": "y15"
        },
        {
         "histnorm": "probability density",
         "name": "Control",
         "type": "histogram",
         "x": [
          2.0680699538809524,
          2.0952607417946183,
          2.12807147253239,
          2.158343790713844,
          2.203917587848656,
          2.224861522967603,
          2.237944705101868,
          2.2705871852461663,
          2.2755165413113136,
          2.3101885525653203,
          2.343352969229989
         ],
         "xaxis": "x16",
         "yaxis": "y16"
        },
        {
         "mode": "lines",
         "name": "Gaussian KDE",
         "type": "scatter",
         "x": [
          2.0680699538809524,
          2.0952607417946183,
          2.12807147253239,
          2.158343790713844,
          2.203917587848656,
          2.224861522967603,
          2.237944705101868,
          2.2705871852461663,
          2.2755165413113136,
          2.3101885525653203,
          2.343352969229989
         ],
         "xaxis": "x16",
         "y": [
          2.5532366669592323,
          3.0176996479551685,
          2.8837916458116486,
          2.545781401867902,
          3.4344410677500936,
          4.539097437000991,
          4.496531161032274,
          4.44882276177635,
          4.368714608367342,
          2.9336784156065456,
          2.2801182972940057
         ],
         "yaxis": "y16"
        },
        {
         "histnorm": "probability density",
         "name": "Control",
         "type": "histogram",
         "x": [
          1.960463926628084,
          1.9741370553293116,
          1.9794396980945208,
          2.025323116898562,
          2.1613193012094536,
          2.161323913047435,
          2.1769144740714568,
          2.211077149374397,
          2.2477688109892804
         ],
         "xaxis": "x17",
         "yaxis": "y17"
        },
        {
         "mode": "lines",
         "name": "Gaussian KDE",
         "type": "scatter",
         "x": [
          1.960463926628084,
          1.9741370553293116,
          1.9794396980945208,
          2.025323116898562,
          2.1613193012094536,
          2.161323913047435,
          2.1769144740714568,
          2.211077149374397,
          2.2477688109892804
         ],
         "xaxis": "x17",
         "y": [
          5.395412605018701,
          6.19442995406106,
          5.928703266959954,
          2.471186823096628,
          6.168586722217444,
          6.1689385340318,
          6.006785454276436,
          3.3443305164760853,
          2.632800640472231
         ],
         "yaxis": "y17"
        },
        {
         "histnorm": "probability density",
         "name": "Control",
         "type": "histogram",
         "x": [
          2.523881278042737,
          2.6605999419551174,
          2.688215492395964,
          2.769729905064026,
          2.806343498430148
         ],
         "xaxis": "x18",
         "yaxis": "y18"
        },
        {
         "mode": "lines",
         "name": "Gaussian KDE",
         "type": "scatter",
         "x": [
          2.523881278042737,
          2.6605999419551174,
          2.688215492395964,
          2.769729905064026,
          2.806343498430148
         ],
         "xaxis": "x18",
         "y": [
          3.9894228042985347,
          5.527255624799166,
          5.528240118711052,
          4.737143017799991,
          4.736156002153703
         ],
         "yaxis": "y18"
        },
        {
         "histnorm": "probability density",
         "name": "Control",
         "type": "histogram",
         "x": [
          1.8935861280839013,
          1.937750099071948,
          2.0031004912125474,
          2.0435939616798904
         ],
         "xaxis": "x19",
         "yaxis": "y19"
        },
        {
         "mode": "lines",
         "name": "Gaussian KDE",
         "type": "scatter",
         "x": [
          1.8935861280839013,
          1.937750099071948,
          2.0031004912125474,
          2.0435939616798904
         ],
         "xaxis": "x19",
         "y": [
          5.422271410303302,
          5.446229629631355,
          5.652931925238241,
          5.628978892735355
         ],
         "yaxis": "y19"
        },
        {
         "histnorm": "probability density",
         "name": "Thapsigargin",
         "type": "histogram",
         "x": [
          1.0883667541789177,
          1.090216839935131,
          1.0954687698572607,
          1.1061361041804925,
          1.1150775064547975,
          1.1168089781704538,
          1.1193451136337709,
          1.1245783064478456,
          1.1270388960639033,
          1.127135460058459,
          1.1275862911714
         ],
         "xaxis": "x20",
         "yaxis": "y20"
        },
        {
         "mode": "lines",
         "name": "Gaussian KDE",
         "type": "scatter",
         "x": [
          1.0883667541789177,
          1.090216839935131,
          1.0954687698572607,
          1.1061361041804925,
          1.1150775064547975,
          1.1168089781704538,
          1.1193451136337709,
          1.1245783064478456,
          1.1270388960639033,
          1.127135460058459,
          1.1275862911714
         ],
         "xaxis": "x20",
         "y": [
          9.666890228943508,
          10.300552188603408,
          12.045338692723474,
          14.901845717878377,
          15.87514291355415,
          15.854678634431842,
          15.689413773214003,
          14.839170566043999,
          14.21519009979929,
          14.188023206709431,
          14.058640016328452
         ],
         "yaxis": "y20"
        },
        {
         "histnorm": "probability density",
         "name": "Thapsigargin",
         "type": "histogram",
         "x": [
          1.1790826315842042,
          1.2158155773322536,
          1.2158635260271502,
          1.2165999880128258,
          1.222239204051664,
          1.223699891116505,
          1.2246328928046983
         ],
         "xaxis": "x21",
         "yaxis": "y21"
        },
        {
         "mode": "lines",
         "name": "Gaussian KDE",
         "type": "scatter",
         "x": [
          1.1790826315842042,
          1.2158155773322536,
          1.2158635260271502,
          1.2165999880128258,
          1.222239204051664,
          1.223699891116505,
          1.2246328928046983
         ],
         "xaxis": "x21",
         "y": [
          5.120394281793584,
          17.002717661917252,
          17.007947067255536,
          17.078048133571258,
          16.951897878414833,
          16.72587666093419,
          16.54122707523159
         ],
         "yaxis": "y21"
        },
        {
         "histnorm": "probability density",
         "name": "Thapsigargin",
         "type": "histogram",
         "x": [
          1.1554729529474046,
          1.1648202812138604,
          1.1651829700786267,
          1.1653344319826853,
          1.1751654473555178,
          1.1834493001768784,
          1.1902541972412026,
          1.2001167162007036,
          1.2128787885739238
         ],
         "xaxis": "x22",
         "yaxis": "y22"
        },
        {
         "mode": "lines",
         "name": "Gaussian KDE",
         "type": "scatter",
         "x": [
          1.1554729529474046,
          1.1648202812138604,
          1.1651829700786267,
          1.1653344319826853,
          1.1751654473555178,
          1.1834493001768784,
          1.1902541972412026,
          1.2001167162007036,
          1.2128787885739238
         ],
         "xaxis": "x22",
         "y": [
          11.042221207203776,
          13.587959534189665,
          13.657168799635516,
          13.685323538835387,
          14.534958611263788,
          13.859622396766666,
          12.612812767307352,
          10.192098749128705,
          6.738505501991529
         ],
         "yaxis": "y22"
        },
        {
         "histnorm": "probability density",
         "name": "Thapsigargin",
         "type": "histogram",
         "x": [
          1.1797556692158997,
          1.1826127607634067,
          1.1910053068415976,
          1.1916398930137078,
          1.200853678316519,
          1.2066049753813508,
          1.2113732938477173,
          1.2151346322082546,
          1.2254132064731087,
          1.2263304517271811
         ],
         "xaxis": "x23",
         "yaxis": "y23"
        },
        {
         "mode": "lines",
         "name": "Gaussian KDE",
         "type": "scatter",
         "x": [
          1.1797556692158997,
          1.1826127607634067,
          1.1910053068415976,
          1.1916398930137078,
          1.200853678316519,
          1.2066049753813508,
          1.2113732938477173,
          1.2151346322082546,
          1.2254132064731087,
          1.2263304517271811
         ],
         "xaxis": "x23",
         "y": [
          10.566303247953101,
          11.510707822174817,
          13.78073728876899,
          13.912396558758802,
          15.03650704667406,
          14.937754067363414,
          14.392101361944174,
          13.687863273310114,
          10.797542534712822,
          10.491375250699258
         ],
         "yaxis": "y23"
        },
        {
         "histnorm": "probability density",
         "name": "Thapsigargin",
         "type": "histogram",
         "x": [
          1.160565927972803,
          1.176021363514773,
          1.181276279122916,
          1.1868355715766037,
          1.1963727343792598,
          1.1969169508296338,
          1.1976683487036706,
          1.2058442561855758,
          1.2135523011356988,
          1.21534811153905,
          1.2212716433492874
         ],
         "xaxis": "x24",
         "yaxis": "y24"
        },
        {
         "mode": "lines",
         "name": "Gaussian KDE",
         "type": "scatter",
         "x": [
          1.160565927972803,
          1.176021363514773,
          1.181276279122916,
          1.1868355715766037,
          1.1963727343792598,
          1.1969169508296338,
          1.1976683487036706,
          1.2058442561855758,
          1.2135523011356988,
          1.21534811153905,
          1.2212716433492874
         ],
         "xaxis": "x24",
         "y": [
          6.276836358594813,
          10.92887696275347,
          12.382505400923051,
          13.63718546615517,
          14.730237852298323,
          14.743553002498041,
          14.752537577740227,
          14.137376513074164,
          12.448272367295644,
          11.930000219842341,
          9.997778335513951
         ],
         "yaxis": "y24"
        },
        {
         "histnorm": "probability density",
         "name": "Thapsigargin",
         "type": "histogram",
         "x": [
          1.1217297387604903,
          1.1322647943679152,
          1.135187237609781,
          1.1368640880369671,
          1.1369078803869752,
          1.144345914000768,
          1.1471731784934835,
          1.1497487424465571,
          1.1584264623923697,
          1.1621541279774463
         ],
         "xaxis": "x25",
         "yaxis": "y25"
        },
        {
         "mode": "lines",
         "name": "Gaussian KDE",
         "type": "scatter",
         "x": [
          1.1217297387604903,
          1.1322647943679152,
          1.135187237609781,
          1.1368640880369671,
          1.1369078803869752,
          1.144345914000768,
          1.1471731784934835,
          1.1497487424465571,
          1.1584264623923697,
          1.1621541279774463
         ],
         "xaxis": "x25",
         "y": [
          11.632712116429484,
          15.623867371006936,
          16.346422964486894,
          16.657527480124298,
          16.664581516859826,
          17.023604309708084,
          16.71812111317507,
          16.240592873203326,
          13.497762229174674,
          11.960718673407056
         ],
         "yaxis": "y25"
        },
        {
         "histnorm": "probability density",
         "name": "Thapsigargin",
         "type": "histogram",
         "x": [
          1.1459952099362027,
          1.1565643857848342,
          1.1625532523685376,
          1.1632401965682306,
          1.1663518456279307,
          1.167021455367929,
          1.1838181683304714,
          1.1864787429564558,
          1.1887081512836577,
          1.1964547623589392,
          1.2127299276040286
         ],
         "xaxis": "x26",
         "yaxis": "y26"
        },
        {
         "mode": "lines",
         "name": "Gaussian KDE",
         "type": "scatter",
         "x": [
          1.1459952099362027,
          1.1565643857848342,
          1.1625532523685376,
          1.1632401965682306,
          1.1663518456279307,
          1.167021455367929,
          1.1838181683304714,
          1.1864787429564558,
          1.1887081512836577,
          1.1964547623589392,
          1.2127299276040286
         ],
         "xaxis": "x26",
         "y": [
          8.856342156537085,
          12.120598764005907,
          13.39354538976637,
          13.502965020644291,
          13.896870402438994,
          13.959506570788848,
          13.125101648318095,
          12.639172797591478,
          12.178507452263133,
          10.293726308876822,
          5.862540975709019
         ],
         "yaxis": "y26"
        },
        {
         "histnorm": "probability density",
         "name": "Thapsigargin",
         "type": "histogram",
         "x": [
          1.3132379985236822,
          1.332919168085381,
          1.3495743854723568,
          1.3675900759634811,
          1.3855463155364582,
          1.3936773664096616
         ],
         "xaxis": "x27",
         "yaxis": "y27"
        },
        {
         "mode": "lines",
         "name": "Gaussian KDE",
         "type": "scatter",
         "x": [
          1.3132379985236822,
          1.332919168085381,
          1.3495743854723568,
          1.3675900759634811,
          1.3855463155364582,
          1.3936773664096616
         ],
         "xaxis": "x27",
         "y": [
          6.0999334374736245,
          8.600567937486225,
          9.480793799573743,
          10.004730278883477,
          9.37576330508891,
          8.13156349263222
         ],
         "yaxis": "y27"
        },
        {
         "histnorm": "probability density",
         "name": "Thapsigargin",
         "type": "histogram",
         "x": [
          1.3667176385621884,
          1.3751397019959724,
          1.3826763876392472,
          1.395218136849452,
          1.3975355962703089,
          1.4059774298060503
         ],
         "xaxis": "x28",
         "yaxis": "y28"
        },
        {
         "mode": "lines",
         "name": "Gaussian KDE",
         "type": "scatter",
         "x": [
          1.3667176385621884,
          1.3751397019959724,
          1.3826763876392472,
          1.395218136849452,
          1.3975355962703089,
          1.4059774298060503
         ],
         "xaxis": "x28",
         "y": [
          11.487837824775726,
          14.260816673469423,
          15.779550832601421,
          15.447444389756829,
          14.980897603609725,
          12.425684927083672
         ],
         "yaxis": "y28"
        },
        {
         "histnorm": "probability density",
         "name": "Thapsigargin",
         "type": "histogram",
         "x": [
          1.326619000887891,
          1.3291343139952885,
          1.3448237975814024,
          1.3623405732008929,
          1.3774953831348982,
          1.406653478096068
         ],
         "xaxis": "x29",
         "yaxis": "y29"
        },
        {
         "mode": "lines",
         "name": "Gaussian KDE",
         "type": "scatter",
         "x": [
          1.326619000887891,
          1.3291343139952885,
          1.3448237975814024,
          1.3623405732008929,
          1.3774953831348982,
          1.406653478096068
         ],
         "xaxis": "x29",
         "y": [
          9.626212746759304,
          10.085103756418464,
          11.134319908625669,
          9.882773796780423,
          8.153001499082235,
          4.78962333187921
         ],
         "yaxis": "y29"
        },
        {
         "histnorm": "probability density",
         "name": "Thapsigargin",
         "type": "histogram",
         "x": [
          1.1771190510617195,
          1.1876498853590012,
          1.1923644964058489,
          1.2021687546476074,
          1.2085883923407414,
          1.2129930337519617,
          1.223197502685284,
          1.2263818887879032
         ],
         "xaxis": "x30",
         "yaxis": "y30"
        },
        {
         "mode": "lines",
         "name": "Gaussian KDE",
         "type": "scatter",
         "x": [
          1.1771190510617195,
          1.1876498853590012,
          1.1923644964058489,
          1.2021687546476074,
          1.2085883923407414,
          1.2129930337519617,
          1.223197502685284,
          1.2263818887879032
         ],
         "xaxis": "x30",
         "y": [
          9.184380593051502,
          12.459588059551935,
          13.600136297468074,
          14.912981228410906,
          14.842023561953384,
          14.343694737616618,
          11.937643408574859,
          10.914142759427909
         ],
         "yaxis": "y30"
        },
        {
         "histnorm": "probability density",
         "name": "Thapsigargin",
         "type": "histogram",
         "x": [
          1.1769435191226036,
          1.176993612732546,
          1.1790641929015884,
          1.1900321688672857,
          1.1908056301497087,
          1.1916131072521454,
          1.2000540798388493,
          1.210899678577075
         ],
         "xaxis": "x31",
         "yaxis": "y31"
        },
        {
         "mode": "lines",
         "name": "Gaussian KDE",
         "type": "scatter",
         "x": [
          1.1769435191226036,
          1.176993612732546,
          1.1790641929015884,
          1.1900321688672857,
          1.1908056301497087,
          1.1916131072521454,
          1.2000540798388493,
          1.210899678577075
         ],
         "xaxis": "x31",
         "y": [
          15.214154079531854,
          15.231214338026133,
          15.88465377250801,
          17.290568910983065,
          17.24609848492442,
          17.179515755408314,
          15.36560999554532,
          11.04897861096216
         ],
         "yaxis": "y31"
        },
        {
         "histnorm": "probability density",
         "name": "Control",
         "type": "histogram",
         "x": [
          2.818897384305833,
          2.828527833668677,
          2.837180751173707,
          2.8934198524480195,
          2.910732729711601,
          2.964997317236752,
          2.9836784037558663,
          2.9929681421864496,
          2.9934292421193813,
          3.037997652582158,
          3.0538293091884623,
          3.099151576123405,
          3.1188403755868523
         ],
         "xaxis": "x32",
         "yaxis": "y32"
        },
        {
         "mode": "lines",
         "name": "Gaussian KDE",
         "type": "scatter",
         "x": [
          2.818897384305833,
          2.828527833668677,
          2.837180751173707,
          2.8934198524480195,
          2.910732729711601,
          2.964997317236752,
          2.9836784037558663,
          2.9929681421864496,
          2.9934292421193813,
          3.037997652582158,
          3.0538293091884623,
          3.099151576123405,
          3.1188403755868523
         ],
         "xaxis": "x32",
         "y": [
          3.9126852079869487,
          4.306399819617742,
          3.973246818055124,
          2.6307874505346804,
          2.632736343175637,
          3.7052303663646815,
          5.309967262026609,
          5.159889540133589,
          5.133898764183134,
          2.960965231040417,
          2.815948058132418,
          2.6115587271200944,
          2.487754412438318
         ],
         "yaxis": "y32"
        },
        {
         "histnorm": "probability density",
         "name": "Control",
         "type": "histogram",
         "x": [
          2.607111294522092,
          2.622090687015958,
          2.6606628325222625,
          2.666257722350356,
          2.71180931630642,
          2.736474673838345,
          2.7575829852119047,
          2.763000215080461
         ],
         "xaxis": "x33",
         "yaxis": "y33"
        },
        {
         "mode": "lines",
         "name": "Gaussian KDE",
         "type": "scatter",
         "x": [
          2.607111294522092,
          2.622090687015958,
          2.6606628325222625,
          2.666257722350356,
          2.71180931630642,
          2.736474673838345,
          2.7575829852119047,
          2.763000215080461
         ],
         "xaxis": "x33",
         "y": [
          4.477587364743556,
          4.982975323385988,
          5.445208125138701,
          5.331937608902533,
          4.216088041562032,
          6.129374657389435,
          6.507361295778392,
          6.025955880099706
         ],
         "yaxis": "y33"
        },
        {
         "histnorm": "probability density",
         "name": "Control",
         "type": "histogram",
         "x": [
          2.7580104822355067,
          2.766385359484992,
          2.8662807628779854,
          2.87029832607804,
          2.886815183815367,
          2.8981654206627194,
          3.0342219028305037,
          3.0400176083496677,
          3.0474371950049464,
          3.125511413446306,
          3.1270886399807347,
          3.136787905923251,
          3.176939458129375
         ],
         "xaxis": "x34",
         "yaxis": "y34"
        },
        {
         "mode": "lines",
         "name": "Gaussian KDE",
         "type": "scatter",
         "x": [
          2.7580104822355067,
          2.766385359484992,
          2.8662807628779854,
          2.87029832607804,
          2.886815183815367,
          2.8981654206627194,
          3.0342219028305037,
          3.0400176083496677,
          3.0474371950049464,
          3.125511413446306,
          3.1270886399807347,
          3.136787905923251,
          3.176939458129375
         ],
         "xaxis": "x34",
         "y": [
          2.939990961883094,
          2.9399980767334126,
          4.374506187511075,
          4.710421081625995,
          4.837394307643203,
          3.852375634213674,
          4.239244238169554,
          4.4383486189961125,
          4.201596308628132,
          4.430137332751426,
          4.497569915287585,
          4.41206917540536,
          1.8638569667390026
         ],
         "yaxis": "y34"
        },
        {
         "histnorm": "probability density",
         "name": "Control",
         "type": "histogram",
         "x": [
          1.7879206866277415,
          2.328069603097308,
          2.3339874015899125,
          2.360202265410982,
          2.3623544538210206,
          2.370085252759799,
          2.3785625530730803,
          2.4039210512428086,
          2.4177802618511874
         ],
         "xaxis": "x35",
         "yaxis": "y35"
        },
        {
         "mode": "lines",
         "name": "Gaussian KDE",
         "type": "scatter",
         "x": [
          1.7879206866277415,
          2.328069603097308,
          2.3339874015899125,
          2.360202265410982,
          2.3623544538210206,
          2.370085252759799,
          2.3785625530730803,
          2.4039210512428086,
          2.4177802618511874
         ],
         "xaxis": "x35",
         "y": [
          2.216346002230181,
          5.794663219361226,
          6.712065532550332,
          9.622652244537775,
          9.696503668455128,
          9.598266122345,
          8.8851265574321,
          5.947007347385299,
          4.495983153657894
         ],
         "yaxis": "y35"
        },
        {
         "histnorm": "probability density",
         "name": "Control",
         "type": "histogram",
         "x": [
          2.4302199916679985,
          2.48276949803978,
          2.519739875459816,
          2.5653171352092947,
          2.5924303416730687,
          2.603353324431205,
          2.622116205739305,
          2.6436882659300607,
          2.677323155750972,
          2.6875952163082384
         ],
         "xaxis": "x36",
         "yaxis": "y36"
        },
        {
         "mode": "lines",
         "name": "Gaussian KDE",
         "type": "scatter",
         "x": [
          2.4302199916679985,
          2.48276949803978,
          2.519739875459816,
          2.5653171352092947,
          2.5924303416730687,
          2.603353324431205,
          2.622116205739305,
          2.6436882659300607,
          2.677323155750972,
          2.6875952163082384
         ],
         "xaxis": "x36",
         "y": [
          2.0580090763708543,
          2.4196320966475673,
          2.5077947633025786,
          3.302804156379474,
          5.2495083522705555,
          5.588361000964846,
          5.146133687052107,
          4.110533106693359,
          4.274501213899363,
          3.93182695781042
         ],
         "yaxis": "y36"
        },
        {
         "histnorm": "probability density",
         "name": "TG",
         "type": "histogram",
         "x": [
          1.196585715721684,
          1.2043910464974783,
          1.2189454384131158,
          1.2238572131441172,
          1.2276066075802603,
          1.2283576957057676,
          1.2354530524575116,
          1.2535264789173075,
          1.2753774146032142,
          1.2925508654745084
         ],
         "xaxis": "x37",
         "yaxis": "y37"
        },
        {
         "mode": "lines",
         "name": "Gaussian KDE",
         "type": "scatter",
         "x": [
          1.196585715721684,
          1.2043910464974783,
          1.2189454384131158,
          1.2238572131441172,
          1.2276066075802603,
          1.2283576957057676,
          1.2354530524575116,
          1.2535264789173075,
          1.2753774146032142,
          1.2925508654745084
         ],
         "xaxis": "x37",
         "y": [
          7.19941142664432,
          9.304293415746757,
          12.036189303926054,
          12.291998530856489,
          12.213759355421308,
          12.170161469079789,
          11.350644099367775,
          7.724508771864629,
          5.099490941573114,
          3.7352207762384486
         ],
         "yaxis": "y37"
        },
        {
         "histnorm": "probability density",
         "name": "Control",
         "type": "histogram",
         "x": [
          1.5398626588927735,
          1.55510965538065,
          1.5631259068211032,
          1.586067382862932,
          1.7519574519255223,
          1.7857818743966294,
          1.8308352159275565,
          1.8678565491473
         ],
         "xaxis": "x38",
         "yaxis": "y38"
        },
        {
         "mode": "lines",
         "name": "Gaussian KDE",
         "type": "scatter",
         "x": [
          1.5398626588927735,
          1.55510965538065,
          1.5631259068211032,
          1.586067382862932,
          1.7519574519255223,
          1.7857818743966294,
          1.8308352159275565,
          1.8678565491473
         ],
         "xaxis": "x38",
         "y": [
          5.798575153044261,
          7.411459204959527,
          7.35341961499255,
          4.710255255791988,
          3.0910566563002044,
          3.287745937030641,
          3.1411370755372214,
          2.9434560758917896
         ],
         "yaxis": "y38"
        },
        {
         "histnorm": "probability density",
         "name": "Control",
         "type": "histogram",
         "x": [
          1.194497320558479,
          1.19630111953252,
          1.214819722898225,
          1.2165235457795929,
          1.216683906962318,
          1.23123248435891,
          1.2354122134131256,
          1.2491178666441094,
          1.2734180486804851,
          1.2957306918968254,
          1.2963780106637242
         ],
         "xaxis": "x39",
         "yaxis": "y39"
        },
        {
         "mode": "lines",
         "name": "Gaussian KDE",
         "type": "scatter",
         "x": [
          1.194497320558479,
          1.19630111953252,
          1.214819722898225,
          1.2165235457795929,
          1.216683906962318,
          1.23123248435891,
          1.2354122134131256,
          1.2491178666441094,
          1.2734180486804851,
          1.2957306918968254,
          1.2963780106637242
         ],
         "xaxis": "x39",
         "y": [
          7.274107931038953,
          7.686077536685409,
          10.493749283978886,
          10.568154626107237,
          10.57332612731192,
          9.818996136159411,
          9.245758567546487,
          7.044082904816985,
          5.17657716141857,
          4.7501484978927175,
          4.703338662579702
         ],
         "yaxis": "y39"
        },
        {
         "histnorm": "probability density",
         "name": "Control",
         "type": "histogram",
         "x": [
          1.1672954639410738,
          1.176214980356452,
          1.189578169093758,
          1.189578169093758,
          1.2028956739155023,
          1.2224542879341374,
          1.226893348968814,
          1.2316955220647408,
          1.2387722394073095,
          1.2606440037984132,
          1.2662474684837275,
          1.26906367812357,
          1.3028410355235331
         ],
         "xaxis": "x40",
         "yaxis": "y40"
        },
        {
         "mode": "lines",
         "name": "Gaussian KDE",
         "type": "scatter",
         "x": [
          1.1672954639410738,
          1.176214980356452,
          1.189578169093758,
          1.189578169093758,
          1.2028956739155023,
          1.2224542879341374,
          1.226893348968814,
          1.2316955220647408,
          1.2387722394073095,
          1.2606440037984132,
          1.2662474684837275,
          1.26906367812357,
          1.3028410355235331
         ],
         "xaxis": "x40",
         "y": [
          4.951564464595434,
          6.221036458808515,
          7.262856139784408,
          7.262856139784408,
          7.527565066799397,
          7.886011373742102,
          7.931989058434589,
          7.918989398591159,
          7.769495601313519,
          6.6086227647749425,
          6.13213426369122,
          5.857023104579187,
          2.36986409408838
         ],
         "yaxis": "y40"
        },
        {
         "histnorm": "probability density",
         "name": "Control",
         "type": "histogram",
         "x": [
          1.1247766923648927,
          1.1387903825497805,
          1.152455780194357,
          1.1560930220733567,
          1.166404133749419,
          1.1719475781592603,
          1.17865881949167,
          1.1818427726120029,
          1.1819539974195836,
          1.1918563102600113,
          1.192633104316157,
          1.2007501001023262,
          1.2015462154964751,
          1.2093988140257652,
          1.2218918386414042
         ],
         "xaxis": "x41",
         "yaxis": "y41"
        },
        {
         "mode": "lines",
         "name": "Gaussian KDE",
         "type": "scatter",
         "x": [
          1.1247766923648927,
          1.1387903825497805,
          1.152455780194357,
          1.1560930220733567,
          1.166404133749419,
          1.1719475781592603,
          1.17865881949167,
          1.1818427726120029,
          1.1819539974195836,
          1.1918563102600113,
          1.192633104316157,
          1.2007501001023262,
          1.2015462154964751,
          1.2093988140257652,
          1.2218918386414042
         ],
         "xaxis": "x41",
         "y": [
          3.596965652885577,
          5.728242017913322,
          8.066145287852736,
          8.712851548518588,
          10.457082354886618,
          11.228293741704357,
          11.860508495676443,
          12.00838437122791,
          12.011550693644457,
          11.706644424736506,
          11.632676892573135,
          10.457459064674744,
          10.3067213929088,
          8.574948854291687,
          5.449099234211164
         ],
         "yaxis": "y41"
        },
        {
         "histnorm": "probability density",
         "name": "Control",
         "type": "histogram",
         "x": [
          1.6831267768753757,
          1.8537638476244784,
          1.9562181787142563,
          1.9683479266271096,
          2.021860550383964,
          2.1030724000027146
         ],
         "xaxis": "x42",
         "yaxis": "y42"
        },
        {
         "mode": "lines",
         "name": "Gaussian KDE",
         "type": "scatter",
         "x": [
          1.6831267768753757,
          1.8537638476244784,
          1.9562181787142563,
          1.9683479266271096,
          2.021860550383964,
          2.1030724000027146
         ],
         "xaxis": "x42",
         "y": [
          3.3245190033452725,
          3.3245259085257626,
          6.105776206670485,
          6.1832644780685,
          3.4333369939425773,
          3.3253926102018574
         ],
         "yaxis": "y42"
        },
        {
         "histnorm": "probability density",
         "name": "TG",
         "type": "histogram",
         "x": [
          1.1194592243256878,
          1.1743070482704816,
          1.1751076534452656,
          1.192162252185384
         ],
         "xaxis": "x43",
         "yaxis": "y43"
        },
        {
         "mode": "lines",
         "name": "Gaussian KDE",
         "type": "scatter",
         "x": [
          1.1194592243256878,
          1.1743070482704816,
          1.1751076534452656,
          1.192162252185384
         ],
         "xaxis": "x43",
         "y": [
          5.213502517834045,
          13.433353528105018,
          13.540226445115993,
          11.807979038945469
         ],
         "yaxis": "y43"
        },
        {
         "histnorm": "probability density",
         "name": "TG",
         "type": "histogram",
         "x": [
          1.1095266224815907,
          1.135975998978679,
          1.1414497984407552,
          1.1451458085847137
         ],
         "xaxis": "x44",
         "yaxis": "y44"
        },
        {
         "mode": "lines",
         "name": "Gaussian KDE",
         "type": "scatter",
         "x": [
          1.1095266224815907,
          1.135975998978679,
          1.1414497984407552,
          1.1451458085847137
         ],
         "xaxis": "x44",
         "y": [
          9.482845386559003,
          16.359398145427516,
          16.087637860187577,
          15.39946892294961
         ],
         "yaxis": "y44"
        },
        {
         "histnorm": "probability density",
         "name": "TG",
         "type": "histogram",
         "x": [
          1.1984525685264538,
          1.2257204483420994,
          1.2379775217057798,
          1.2605347063027066
         ],
         "xaxis": "x45",
         "yaxis": "y45"
        },
        {
         "mode": "lines",
         "name": "Gaussian KDE",
         "type": "scatter",
         "x": [
          1.1984525685264538,
          1.2257204483420994,
          1.2379775217057798,
          1.2605347063027066
         ],
         "xaxis": "x45",
         "y": [
          7.703308636445182,
          12.184524947125404,
          12.467207800952249,
          8.76312878275462
         ],
         "yaxis": "y45"
        },
        {
         "histnorm": "probability density",
         "name": "TG",
         "type": "histogram",
         "x": [
          1.1692507792313125,
          1.2000208567488957,
          1.236913114260222,
          1.2374129520410635,
          1.2379069962805458
         ],
         "xaxis": "x46",
         "yaxis": "y46"
        },
        {
         "mode": "lines",
         "name": "Gaussian KDE",
         "type": "scatter",
         "x": [
          1.1692507792313125,
          1.2000208567488957,
          1.236913114260222,
          1.2374129520410635,
          1.2379069962805458
         ],
         "xaxis": "x46",
         "y": [
          5.247058758651401,
          7.296994190590045,
          12.70300437755415,
          12.672638883194535,
          12.63642747397425
         ],
         "yaxis": "y46"
        }
       ],
       "layout": {
        "annotations": [
         {
          "font": {
           "size": 16
          },
          "showarrow": false,
          "text": "220110n_0003.tif",
          "x": 0.5,
          "xanchor": "center",
          "xref": "paper",
          "y": 1.0000000000000004,
          "yanchor": "bottom",
          "yref": "paper"
         },
         {
          "font": {
           "size": 16
          },
          "showarrow": false,
          "text": "220110n_0005.tif",
          "x": 0.5,
          "xanchor": "center",
          "xref": "paper",
          "y": 0.9780245746691876,
          "yanchor": "bottom",
          "yref": "paper"
         },
         {
          "font": {
           "size": 16
          },
          "showarrow": false,
          "text": "220110n_0009.tif",
          "x": 0.5,
          "xanchor": "center",
          "xref": "paper",
          "y": 0.9560491493383746,
          "yanchor": "bottom",
          "yref": "paper"
         },
         {
          "font": {
           "size": 16
          },
          "showarrow": false,
          "text": "220110n_0010.tif",
          "x": 0.5,
          "xanchor": "center",
          "xref": "paper",
          "y": 0.9340737240075617,
          "yanchor": "bottom",
          "yref": "paper"
         },
         {
          "font": {
           "size": 16
          },
          "showarrow": false,
          "text": "220110n_0014.tif",
          "x": 0.5,
          "xanchor": "center",
          "xref": "paper",
          "y": 0.9120982986767489,
          "yanchor": "bottom",
          "yref": "paper"
         },
         {
          "font": {
           "size": 16
          },
          "showarrow": false,
          "text": "220110n_0017.tif",
          "x": 0.5,
          "xanchor": "center",
          "xref": "paper",
          "y": 0.890122873345936,
          "yanchor": "bottom",
          "yref": "paper"
         },
         {
          "font": {
           "size": 16
          },
          "showarrow": false,
          "text": "220110n_0020.tif",
          "x": 0.5,
          "xanchor": "center",
          "xref": "paper",
          "y": 0.8681474480151231,
          "yanchor": "bottom",
          "yref": "paper"
         },
         {
          "font": {
           "size": 16
          },
          "showarrow": false,
          "text": "220110n_0021.tif",
          "x": 0.5,
          "xanchor": "center",
          "xref": "paper",
          "y": 0.8461720226843102,
          "yanchor": "bottom",
          "yref": "paper"
         },
         {
          "font": {
           "size": 16
          },
          "showarrow": false,
          "text": "220110n_0022.tif",
          "x": 0.5,
          "xanchor": "center",
          "xref": "paper",
          "y": 0.8241965973534974,
          "yanchor": "bottom",
          "yref": "paper"
         },
         {
          "font": {
           "size": 16
          },
          "showarrow": false,
          "text": "220110n_0023.tif",
          "x": 0.5,
          "xanchor": "center",
          "xref": "paper",
          "y": 0.8022211720226844,
          "yanchor": "bottom",
          "yref": "paper"
         },
         {
          "font": {
           "size": 16
          },
          "showarrow": false,
          "text": "220110n_0024.tif",
          "x": 0.5,
          "xanchor": "center",
          "xref": "paper",
          "y": 0.7802457466918715,
          "yanchor": "bottom",
          "yref": "paper"
         },
         {
          "font": {
           "size": 16
          },
          "showarrow": false,
          "text": "220110n_0025.tif",
          "x": 0.5,
          "xanchor": "center",
          "xref": "paper",
          "y": 0.7582703213610587,
          "yanchor": "bottom",
          "yref": "paper"
         },
         {
          "font": {
           "size": 16
          },
          "showarrow": false,
          "text": "220110n_0030.tif",
          "x": 0.5,
          "xanchor": "center",
          "xref": "paper",
          "y": 0.7362948960302458,
          "yanchor": "bottom",
          "yref": "paper"
         },
         {
          "font": {
           "size": 16
          },
          "showarrow": false,
          "text": "220110n_0032.tif",
          "x": 0.5,
          "xanchor": "center",
          "xref": "paper",
          "y": 0.7143194706994329,
          "yanchor": "bottom",
          "yref": "paper"
         },
         {
          "font": {
           "size": 16
          },
          "showarrow": false,
          "text": "220110n_0035.tif",
          "x": 0.5,
          "xanchor": "center",
          "xref": "paper",
          "y": 0.69234404536862,
          "yanchor": "bottom",
          "yref": "paper"
         },
         {
          "font": {
           "size": 16
          },
          "showarrow": false,
          "text": "220110n_0036.tif",
          "x": 0.5,
          "xanchor": "center",
          "xref": "paper",
          "y": 0.6703686200378072,
          "yanchor": "bottom",
          "yref": "paper"
         },
         {
          "font": {
           "size": 16
          },
          "showarrow": false,
          "text": "220110n_0037.tif",
          "x": 0.5,
          "xanchor": "center",
          "xref": "paper",
          "y": 0.6483931947069943,
          "yanchor": "bottom",
          "yref": "paper"
         },
         {
          "font": {
           "size": 16
          },
          "showarrow": false,
          "text": "220110n_0049.tif",
          "x": 0.5,
          "xanchor": "center",
          "xref": "paper",
          "y": 0.6264177693761814,
          "yanchor": "bottom",
          "yref": "paper"
         },
         {
          "font": {
           "size": 16
          },
          "showarrow": false,
          "text": "220110n_0052.tif",
          "x": 0.5,
          "xanchor": "center",
          "xref": "paper",
          "y": 0.6044423440453686,
          "yanchor": "bottom",
          "yref": "paper"
         },
         {
          "font": {
           "size": 16
          },
          "showarrow": false,
          "text": "220110n_0055.tif",
          "x": 0.5,
          "xanchor": "center",
          "xref": "paper",
          "y": 0.5824669187145557,
          "yanchor": "bottom",
          "yref": "paper"
         },
         {
          "font": {
           "size": 16
          },
          "showarrow": false,
          "text": "220110n_0060.tif",
          "x": 0.5,
          "xanchor": "center",
          "xref": "paper",
          "y": 0.5604914933837428,
          "yanchor": "bottom",
          "yref": "paper"
         },
         {
          "font": {
           "size": 16
          },
          "showarrow": false,
          "text": "220110n_0064.tif",
          "x": 0.5,
          "xanchor": "center",
          "xref": "paper",
          "y": 0.53851606805293,
          "yanchor": "bottom",
          "yref": "paper"
         },
         {
          "font": {
           "size": 16
          },
          "showarrow": false,
          "text": "220110n_0067.tif",
          "x": 0.5,
          "xanchor": "center",
          "xref": "paper",
          "y": 0.5165406427221171,
          "yanchor": "bottom",
          "yref": "paper"
         },
         {
          "font": {
           "size": 16
          },
          "showarrow": false,
          "text": "220110n_0068.tif",
          "x": 0.5,
          "xanchor": "center",
          "xref": "paper",
          "y": 0.49456521739130427,
          "yanchor": "bottom",
          "yref": "paper"
         },
         {
          "font": {
           "size": 16
          },
          "showarrow": false,
          "text": "220110n_0072.tif",
          "x": 0.5,
          "xanchor": "center",
          "xref": "paper",
          "y": 0.4725897920604914,
          "yanchor": "bottom",
          "yref": "paper"
         },
         {
          "font": {
           "size": 16
          },
          "showarrow": false,
          "text": "220110n_0073.tif",
          "x": 0.5,
          "xanchor": "center",
          "xref": "paper",
          "y": 0.4506143667296786,
          "yanchor": "bottom",
          "yref": "paper"
         },
         {
          "font": {
           "size": 16
          },
          "showarrow": false,
          "text": "220110n_0077.tif",
          "x": 0.5,
          "xanchor": "center",
          "xref": "paper",
          "y": 0.42863894139886577,
          "yanchor": "bottom",
          "yref": "paper"
         },
         {
          "font": {
           "size": 16
          },
          "showarrow": false,
          "text": "220110n_0078.tif",
          "x": 0.5,
          "xanchor": "center",
          "xref": "paper",
          "y": 0.4066635160680529,
          "yanchor": "bottom",
          "yref": "paper"
         },
         {
          "font": {
           "size": 16
          },
          "showarrow": false,
          "text": "220110n_0080.tif",
          "x": 0.5,
          "xanchor": "center",
          "xref": "paper",
          "y": 0.38468809073724003,
          "yanchor": "bottom",
          "yref": "paper"
         },
         {
          "font": {
           "size": 16
          },
          "showarrow": false,
          "text": "220110n_0082.tif",
          "x": 0.5,
          "xanchor": "center",
          "xref": "paper",
          "y": 0.36271266540642716,
          "yanchor": "bottom",
          "yref": "paper"
         },
         {
          "font": {
           "size": 16
          },
          "showarrow": false,
          "text": "220110n_0083.tif",
          "x": 0.5,
          "xanchor": "center",
          "xref": "paper",
          "y": 0.34073724007561434,
          "yanchor": "bottom",
          "yref": "paper"
         },
         {
          "font": {
           "size": 16
          },
          "showarrow": false,
          "text": "2.5Hz_ctrl_0005.tif",
          "x": 0.5,
          "xanchor": "center",
          "xref": "paper",
          "y": 0.31876181474480153,
          "yanchor": "bottom",
          "yref": "paper"
         },
         {
          "font": {
           "size": 16
          },
          "showarrow": false,
          "text": "2.5Hz_ctrl_0009.tif",
          "x": 0.5,
          "xanchor": "center",
          "xref": "paper",
          "y": 0.29678638941398866,
          "yanchor": "bottom",
          "yref": "paper"
         },
         {
          "font": {
           "size": 16
          },
          "showarrow": false,
          "text": "2.5Hz_ctrl_0012.tif",
          "x": 0.5,
          "xanchor": "center",
          "xref": "paper",
          "y": 0.2748109640831758,
          "yanchor": "bottom",
          "yref": "paper"
         },
         {
          "font": {
           "size": 16
          },
          "showarrow": false,
          "text": "2.5Hz_ctrl_0017.tif",
          "x": 0.5,
          "xanchor": "center",
          "xref": "paper",
          "y": 0.2528355387523629,
          "yanchor": "bottom",
          "yref": "paper"
         },
         {
          "font": {
           "size": 16
          },
          "showarrow": false,
          "text": "2.5Hz_ctrl_0028.tif",
          "x": 0.5,
          "xanchor": "center",
          "xref": "paper",
          "y": 0.23086011342155008,
          "yanchor": "bottom",
          "yref": "paper"
         },
         {
          "font": {
           "size": 16
          },
          "showarrow": false,
          "text": "2.5Hz_thapsi_0024.tif",
          "x": 0.5,
          "xanchor": "center",
          "xref": "paper",
          "y": 0.2088846880907372,
          "yanchor": "bottom",
          "yref": "paper"
         },
         {
          "font": {
           "size": 16
          },
          "showarrow": false,
          "text": "cell.tif",
          "x": 0.5,
          "xanchor": "center",
          "xref": "paper",
          "y": 0.18690926275992437,
          "yanchor": "bottom",
          "yref": "paper"
         },
         {
          "font": {
           "size": 16
          },
          "showarrow": false,
          "text": "control 2.5_0012.tif",
          "x": 0.5,
          "xanchor": "center",
          "xref": "paper",
          "y": 0.16493383742911152,
          "yanchor": "bottom",
          "yref": "paper"
         },
         {
          "font": {
           "size": 16
          },
          "showarrow": false,
          "text": "control 2.5_0013.tif",
          "x": 0.5,
          "xanchor": "center",
          "xref": "paper",
          "y": 0.14295841209829865,
          "yanchor": "bottom",
          "yref": "paper"
         },
         {
          "font": {
           "size": 16
          },
          "showarrow": false,
          "text": "control 2.5_0014.tif",
          "x": 0.5,
          "xanchor": "center",
          "xref": "paper",
          "y": 0.12098298676748581,
          "yanchor": "bottom",
          "yref": "paper"
         },
         {
          "font": {
           "size": 16
          },
          "showarrow": false,
          "text": "control 2.5_0022.tif",
          "x": 0.5,
          "xanchor": "center",
          "xref": "paper",
          "y": 0.09900756143667297,
          "yanchor": "bottom",
          "yref": "paper"
         },
         {
          "font": {
           "size": 16
          },
          "showarrow": false,
          "text": "thapsi 2.5_0008.tif",
          "x": 0.5,
          "xanchor": "center",
          "xref": "paper",
          "y": 0.0770321361058601,
          "yanchor": "bottom",
          "yref": "paper"
         },
         {
          "font": {
           "size": 16
          },
          "showarrow": false,
          "text": "thapsi 2.5_0017.tif",
          "x": 0.5,
          "xanchor": "center",
          "xref": "paper",
          "y": 0.055056710775047264,
          "yanchor": "bottom",
          "yref": "paper"
         },
         {
          "font": {
           "size": 16
          },
          "showarrow": false,
          "text": "thapsi 2.5_0033.tif",
          "x": 0.5,
          "xanchor": "center",
          "xref": "paper",
          "y": 0.03308128544423441,
          "yanchor": "bottom",
          "yref": "paper"
         },
         {
          "font": {
           "size": 16
          },
          "showarrow": false,
          "text": "thapsi 2.5_0047.tif",
          "x": 0.5,
          "xanchor": "center",
          "xref": "paper",
          "y": 0.01110586011342155,
          "yanchor": "bottom",
          "yref": "paper"
         }
        ],
        "colorway": [
         "rgb(229, 134, 6)",
         "rgb(93, 105, 177)",
         "rgb(82, 188, 163)",
         "rgb(153, 201, 69)",
         "rgb(204, 97, 176)",
         "rgb(36, 121, 108)",
         "rgb(218, 165, 27)",
         "rgb(47, 138, 196)",
         "rgb(118, 78, 159)",
         "rgb(237, 100, 90)",
         "rgb(165, 170, 153)"
        ],
        "height": 7500,
        "showlegend": false,
        "template": {
         "data": {
          "bar": [
           {
            "error_x": {
             "color": "#2a3f5f"
            },
            "error_y": {
             "color": "#2a3f5f"
            },
            "marker": {
             "line": {
              "color": "#E5ECF6",
              "width": 0.5
             },
             "pattern": {
              "fillmode": "overlay",
              "size": 10,
              "solidity": 0.2
             }
            },
            "type": "bar"
           }
          ],
          "barpolar": [
           {
            "marker": {
             "line": {
              "color": "#E5ECF6",
              "width": 0.5
             },
             "pattern": {
              "fillmode": "overlay",
              "size": 10,
              "solidity": 0.2
             }
            },
            "type": "barpolar"
           }
          ],
          "carpet": [
           {
            "aaxis": {
             "endlinecolor": "#2a3f5f",
             "gridcolor": "white",
             "linecolor": "white",
             "minorgridcolor": "white",
             "startlinecolor": "#2a3f5f"
            },
            "baxis": {
             "endlinecolor": "#2a3f5f",
             "gridcolor": "white",
             "linecolor": "white",
             "minorgridcolor": "white",
             "startlinecolor": "#2a3f5f"
            },
            "type": "carpet"
           }
          ],
          "choropleth": [
           {
            "colorbar": {
             "outlinewidth": 0,
             "ticks": ""
            },
            "type": "choropleth"
           }
          ],
          "contour": [
           {
            "colorbar": {
             "outlinewidth": 0,
             "ticks": ""
            },
            "colorscale": [
             [
              0,
              "#0d0887"
             ],
             [
              0.1111111111111111,
              "#46039f"
             ],
             [
              0.2222222222222222,
              "#7201a8"
             ],
             [
              0.3333333333333333,
              "#9c179e"
             ],
             [
              0.4444444444444444,
              "#bd3786"
             ],
             [
              0.5555555555555556,
              "#d8576b"
             ],
             [
              0.6666666666666666,
              "#ed7953"
             ],
             [
              0.7777777777777778,
              "#fb9f3a"
             ],
             [
              0.8888888888888888,
              "#fdca26"
             ],
             [
              1,
              "#f0f921"
             ]
            ],
            "type": "contour"
           }
          ],
          "contourcarpet": [
           {
            "colorbar": {
             "outlinewidth": 0,
             "ticks": ""
            },
            "type": "contourcarpet"
           }
          ],
          "heatmap": [
           {
            "colorbar": {
             "outlinewidth": 0,
             "ticks": ""
            },
            "colorscale": [
             [
              0,
              "#0d0887"
             ],
             [
              0.1111111111111111,
              "#46039f"
             ],
             [
              0.2222222222222222,
              "#7201a8"
             ],
             [
              0.3333333333333333,
              "#9c179e"
             ],
             [
              0.4444444444444444,
              "#bd3786"
             ],
             [
              0.5555555555555556,
              "#d8576b"
             ],
             [
              0.6666666666666666,
              "#ed7953"
             ],
             [
              0.7777777777777778,
              "#fb9f3a"
             ],
             [
              0.8888888888888888,
              "#fdca26"
             ],
             [
              1,
              "#f0f921"
             ]
            ],
            "type": "heatmap"
           }
          ],
          "heatmapgl": [
           {
            "colorbar": {
             "outlinewidth": 0,
             "ticks": ""
            },
            "colorscale": [
             [
              0,
              "#0d0887"
             ],
             [
              0.1111111111111111,
              "#46039f"
             ],
             [
              0.2222222222222222,
              "#7201a8"
             ],
             [
              0.3333333333333333,
              "#9c179e"
             ],
             [
              0.4444444444444444,
              "#bd3786"
             ],
             [
              0.5555555555555556,
              "#d8576b"
             ],
             [
              0.6666666666666666,
              "#ed7953"
             ],
             [
              0.7777777777777778,
              "#fb9f3a"
             ],
             [
              0.8888888888888888,
              "#fdca26"
             ],
             [
              1,
              "#f0f921"
             ]
            ],
            "type": "heatmapgl"
           }
          ],
          "histogram": [
           {
            "marker": {
             "pattern": {
              "fillmode": "overlay",
              "size": 10,
              "solidity": 0.2
             }
            },
            "type": "histogram"
           }
          ],
          "histogram2d": [
           {
            "colorbar": {
             "outlinewidth": 0,
             "ticks": ""
            },
            "colorscale": [
             [
              0,
              "#0d0887"
             ],
             [
              0.1111111111111111,
              "#46039f"
             ],
             [
              0.2222222222222222,
              "#7201a8"
             ],
             [
              0.3333333333333333,
              "#9c179e"
             ],
             [
              0.4444444444444444,
              "#bd3786"
             ],
             [
              0.5555555555555556,
              "#d8576b"
             ],
             [
              0.6666666666666666,
              "#ed7953"
             ],
             [
              0.7777777777777778,
              "#fb9f3a"
             ],
             [
              0.8888888888888888,
              "#fdca26"
             ],
             [
              1,
              "#f0f921"
             ]
            ],
            "type": "histogram2d"
           }
          ],
          "histogram2dcontour": [
           {
            "colorbar": {
             "outlinewidth": 0,
             "ticks": ""
            },
            "colorscale": [
             [
              0,
              "#0d0887"
             ],
             [
              0.1111111111111111,
              "#46039f"
             ],
             [
              0.2222222222222222,
              "#7201a8"
             ],
             [
              0.3333333333333333,
              "#9c179e"
             ],
             [
              0.4444444444444444,
              "#bd3786"
             ],
             [
              0.5555555555555556,
              "#d8576b"
             ],
             [
              0.6666666666666666,
              "#ed7953"
             ],
             [
              0.7777777777777778,
              "#fb9f3a"
             ],
             [
              0.8888888888888888,
              "#fdca26"
             ],
             [
              1,
              "#f0f921"
             ]
            ],
            "type": "histogram2dcontour"
           }
          ],
          "mesh3d": [
           {
            "colorbar": {
             "outlinewidth": 0,
             "ticks": ""
            },
            "type": "mesh3d"
           }
          ],
          "parcoords": [
           {
            "line": {
             "colorbar": {
              "outlinewidth": 0,
              "ticks": ""
             }
            },
            "type": "parcoords"
           }
          ],
          "pie": [
           {
            "automargin": true,
            "type": "pie"
           }
          ],
          "scatter": [
           {
            "marker": {
             "colorbar": {
              "outlinewidth": 0,
              "ticks": ""
             }
            },
            "type": "scatter"
           }
          ],
          "scatter3d": [
           {
            "line": {
             "colorbar": {
              "outlinewidth": 0,
              "ticks": ""
             }
            },
            "marker": {
             "colorbar": {
              "outlinewidth": 0,
              "ticks": ""
             }
            },
            "type": "scatter3d"
           }
          ],
          "scattercarpet": [
           {
            "marker": {
             "colorbar": {
              "outlinewidth": 0,
              "ticks": ""
             }
            },
            "type": "scattercarpet"
           }
          ],
          "scattergeo": [
           {
            "marker": {
             "colorbar": {
              "outlinewidth": 0,
              "ticks": ""
             }
            },
            "type": "scattergeo"
           }
          ],
          "scattergl": [
           {
            "marker": {
             "colorbar": {
              "outlinewidth": 0,
              "ticks": ""
             }
            },
            "type": "scattergl"
           }
          ],
          "scattermapbox": [
           {
            "marker": {
             "colorbar": {
              "outlinewidth": 0,
              "ticks": ""
             }
            },
            "type": "scattermapbox"
           }
          ],
          "scatterpolar": [
           {
            "marker": {
             "colorbar": {
              "outlinewidth": 0,
              "ticks": ""
             }
            },
            "type": "scatterpolar"
           }
          ],
          "scatterpolargl": [
           {
            "marker": {
             "colorbar": {
              "outlinewidth": 0,
              "ticks": ""
             }
            },
            "type": "scatterpolargl"
           }
          ],
          "scatterternary": [
           {
            "marker": {
             "colorbar": {
              "outlinewidth": 0,
              "ticks": ""
             }
            },
            "type": "scatterternary"
           }
          ],
          "surface": [
           {
            "colorbar": {
             "outlinewidth": 0,
             "ticks": ""
            },
            "colorscale": [
             [
              0,
              "#0d0887"
             ],
             [
              0.1111111111111111,
              "#46039f"
             ],
             [
              0.2222222222222222,
              "#7201a8"
             ],
             [
              0.3333333333333333,
              "#9c179e"
             ],
             [
              0.4444444444444444,
              "#bd3786"
             ],
             [
              0.5555555555555556,
              "#d8576b"
             ],
             [
              0.6666666666666666,
              "#ed7953"
             ],
             [
              0.7777777777777778,
              "#fb9f3a"
             ],
             [
              0.8888888888888888,
              "#fdca26"
             ],
             [
              1,
              "#f0f921"
             ]
            ],
            "type": "surface"
           }
          ],
          "table": [
           {
            "cells": {
             "fill": {
              "color": "#EBF0F8"
             },
             "line": {
              "color": "white"
             }
            },
            "header": {
             "fill": {
              "color": "#C8D4E3"
             },
             "line": {
              "color": "white"
             }
            },
            "type": "table"
           }
          ]
         },
         "layout": {
          "annotationdefaults": {
           "arrowcolor": "#2a3f5f",
           "arrowhead": 0,
           "arrowwidth": 1
          },
          "autotypenumbers": "strict",
          "coloraxis": {
           "colorbar": {
            "outlinewidth": 0,
            "ticks": ""
           }
          },
          "colorscale": {
           "diverging": [
            [
             0,
             "#8e0152"
            ],
            [
             0.1,
             "#c51b7d"
            ],
            [
             0.2,
             "#de77ae"
            ],
            [
             0.3,
             "#f1b6da"
            ],
            [
             0.4,
             "#fde0ef"
            ],
            [
             0.5,
             "#f7f7f7"
            ],
            [
             0.6,
             "#e6f5d0"
            ],
            [
             0.7,
             "#b8e186"
            ],
            [
             0.8,
             "#7fbc41"
            ],
            [
             0.9,
             "#4d9221"
            ],
            [
             1,
             "#276419"
            ]
           ],
           "sequential": [
            [
             0,
             "#0d0887"
            ],
            [
             0.1111111111111111,
             "#46039f"
            ],
            [
             0.2222222222222222,
             "#7201a8"
            ],
            [
             0.3333333333333333,
             "#9c179e"
            ],
            [
             0.4444444444444444,
             "#bd3786"
            ],
            [
             0.5555555555555556,
             "#d8576b"
            ],
            [
             0.6666666666666666,
             "#ed7953"
            ],
            [
             0.7777777777777778,
             "#fb9f3a"
            ],
            [
             0.8888888888888888,
             "#fdca26"
            ],
            [
             1,
             "#f0f921"
            ]
           ],
           "sequentialminus": [
            [
             0,
             "#0d0887"
            ],
            [
             0.1111111111111111,
             "#46039f"
            ],
            [
             0.2222222222222222,
             "#7201a8"
            ],
            [
             0.3333333333333333,
             "#9c179e"
            ],
            [
             0.4444444444444444,
             "#bd3786"
            ],
            [
             0.5555555555555556,
             "#d8576b"
            ],
            [
             0.6666666666666666,
             "#ed7953"
            ],
            [
             0.7777777777777778,
             "#fb9f3a"
            ],
            [
             0.8888888888888888,
             "#fdca26"
            ],
            [
             1,
             "#f0f921"
            ]
           ]
          },
          "colorway": [
           "#636efa",
           "#EF553B",
           "#00cc96",
           "#ab63fa",
           "#FFA15A",
           "#19d3f3",
           "#FF6692",
           "#B6E880",
           "#FF97FF",
           "#FECB52"
          ],
          "font": {
           "color": "#2a3f5f"
          },
          "geo": {
           "bgcolor": "white",
           "lakecolor": "white",
           "landcolor": "#E5ECF6",
           "showlakes": true,
           "showland": true,
           "subunitcolor": "white"
          },
          "hoverlabel": {
           "align": "left"
          },
          "hovermode": "closest",
          "mapbox": {
           "style": "light"
          },
          "paper_bgcolor": "white",
          "plot_bgcolor": "#E5ECF6",
          "polar": {
           "angularaxis": {
            "gridcolor": "white",
            "linecolor": "white",
            "ticks": ""
           },
           "bgcolor": "#E5ECF6",
           "radialaxis": {
            "gridcolor": "white",
            "linecolor": "white",
            "ticks": ""
           }
          },
          "scene": {
           "xaxis": {
            "backgroundcolor": "#E5ECF6",
            "gridcolor": "white",
            "gridwidth": 2,
            "linecolor": "white",
            "showbackground": true,
            "ticks": "",
            "zerolinecolor": "white"
           },
           "yaxis": {
            "backgroundcolor": "#E5ECF6",
            "gridcolor": "white",
            "gridwidth": 2,
            "linecolor": "white",
            "showbackground": true,
            "ticks": "",
            "zerolinecolor": "white"
           },
           "zaxis": {
            "backgroundcolor": "#E5ECF6",
            "gridcolor": "white",
            "gridwidth": 2,
            "linecolor": "white",
            "showbackground": true,
            "ticks": "",
            "zerolinecolor": "white"
           }
          },
          "shapedefaults": {
           "line": {
            "color": "#2a3f5f"
           }
          },
          "ternary": {
           "aaxis": {
            "gridcolor": "white",
            "linecolor": "white",
            "ticks": ""
           },
           "baxis": {
            "gridcolor": "white",
            "linecolor": "white",
            "ticks": ""
           },
           "bgcolor": "#E5ECF6",
           "caxis": {
            "gridcolor": "white",
            "linecolor": "white",
            "ticks": ""
           }
          },
          "title": {
           "x": 0.05
          },
          "xaxis": {
           "automargin": true,
           "gridcolor": "white",
           "linecolor": "white",
           "ticks": "",
           "title": {
            "standoff": 15
           },
           "zerolinecolor": "white",
           "zerolinewidth": 2
          },
          "yaxis": {
           "automargin": true,
           "gridcolor": "white",
           "linecolor": "white",
           "ticks": "",
           "title": {
            "standoff": 15
           },
           "zerolinecolor": "white",
           "zerolinewidth": 2
          }
         }
        },
        "title": {
         "text": "Subplot for Each File's peakVal"
        },
        "width": 700,
        "xaxis": {
         "anchor": "y",
         "domain": [
          0,
          1
         ]
        },
        "xaxis10": {
         "anchor": "y10",
         "domain": [
          0,
          1
         ]
        },
        "xaxis11": {
         "anchor": "y11",
         "domain": [
          0,
          1
         ]
        },
        "xaxis12": {
         "anchor": "y12",
         "domain": [
          0,
          1
         ]
        },
        "xaxis13": {
         "anchor": "y13",
         "domain": [
          0,
          1
         ]
        },
        "xaxis14": {
         "anchor": "y14",
         "domain": [
          0,
          1
         ]
        },
        "xaxis15": {
         "anchor": "y15",
         "domain": [
          0,
          1
         ]
        },
        "xaxis16": {
         "anchor": "y16",
         "domain": [
          0,
          1
         ]
        },
        "xaxis17": {
         "anchor": "y17",
         "domain": [
          0,
          1
         ]
        },
        "xaxis18": {
         "anchor": "y18",
         "domain": [
          0,
          1
         ]
        },
        "xaxis19": {
         "anchor": "y19",
         "domain": [
          0,
          1
         ]
        },
        "xaxis2": {
         "anchor": "y2",
         "domain": [
          0,
          1
         ]
        },
        "xaxis20": {
         "anchor": "y20",
         "domain": [
          0,
          1
         ]
        },
        "xaxis21": {
         "anchor": "y21",
         "domain": [
          0,
          1
         ]
        },
        "xaxis22": {
         "anchor": "y22",
         "domain": [
          0,
          1
         ]
        },
        "xaxis23": {
         "anchor": "y23",
         "domain": [
          0,
          1
         ]
        },
        "xaxis24": {
         "anchor": "y24",
         "domain": [
          0,
          1
         ]
        },
        "xaxis25": {
         "anchor": "y25",
         "domain": [
          0,
          1
         ]
        },
        "xaxis26": {
         "anchor": "y26",
         "domain": [
          0,
          1
         ]
        },
        "xaxis27": {
         "anchor": "y27",
         "domain": [
          0,
          1
         ]
        },
        "xaxis28": {
         "anchor": "y28",
         "domain": [
          0,
          1
         ]
        },
        "xaxis29": {
         "anchor": "y29",
         "domain": [
          0,
          1
         ]
        },
        "xaxis3": {
         "anchor": "y3",
         "domain": [
          0,
          1
         ]
        },
        "xaxis30": {
         "anchor": "y30",
         "domain": [
          0,
          1
         ]
        },
        "xaxis31": {
         "anchor": "y31",
         "domain": [
          0,
          1
         ]
        },
        "xaxis32": {
         "anchor": "y32",
         "domain": [
          0,
          1
         ]
        },
        "xaxis33": {
         "anchor": "y33",
         "domain": [
          0,
          1
         ]
        },
        "xaxis34": {
         "anchor": "y34",
         "domain": [
          0,
          1
         ]
        },
        "xaxis35": {
         "anchor": "y35",
         "domain": [
          0,
          1
         ]
        },
        "xaxis36": {
         "anchor": "y36",
         "domain": [
          0,
          1
         ]
        },
        "xaxis37": {
         "anchor": "y37",
         "domain": [
          0,
          1
         ]
        },
        "xaxis38": {
         "anchor": "y38",
         "domain": [
          0,
          1
         ]
        },
        "xaxis39": {
         "anchor": "y39",
         "domain": [
          0,
          1
         ]
        },
        "xaxis4": {
         "anchor": "y4",
         "domain": [
          0,
          1
         ]
        },
        "xaxis40": {
         "anchor": "y40",
         "domain": [
          0,
          1
         ]
        },
        "xaxis41": {
         "anchor": "y41",
         "domain": [
          0,
          1
         ]
        },
        "xaxis42": {
         "anchor": "y42",
         "domain": [
          0,
          1
         ]
        },
        "xaxis43": {
         "anchor": "y43",
         "domain": [
          0,
          1
         ]
        },
        "xaxis44": {
         "anchor": "y44",
         "domain": [
          0,
          1
         ]
        },
        "xaxis45": {
         "anchor": "y45",
         "domain": [
          0,
          1
         ]
        },
        "xaxis46": {
         "anchor": "y46",
         "domain": [
          0,
          1
         ]
        },
        "xaxis5": {
         "anchor": "y5",
         "domain": [
          0,
          1
         ]
        },
        "xaxis6": {
         "anchor": "y6",
         "domain": [
          0,
          1
         ]
        },
        "xaxis7": {
         "anchor": "y7",
         "domain": [
          0,
          1
         ]
        },
        "xaxis8": {
         "anchor": "y8",
         "domain": [
          0,
          1
         ]
        },
        "xaxis9": {
         "anchor": "y9",
         "domain": [
          0,
          1
         ]
        },
        "yaxis": {
         "anchor": "x",
         "domain": [
          0.9888941398865789,
          1
         ]
        },
        "yaxis10": {
         "anchor": "x10",
         "domain": [
          0.7911153119092629,
          0.8022211720226844
         ]
        },
        "yaxis11": {
         "anchor": "x11",
         "domain": [
          0.76913988657845,
          0.7802457466918715
         ]
        },
        "yaxis12": {
         "anchor": "x12",
         "domain": [
          0.7471644612476371,
          0.7582703213610587
         ]
        },
        "yaxis13": {
         "anchor": "x13",
         "domain": [
          0.7251890359168243,
          0.7362948960302458
         ]
        },
        "yaxis14": {
         "anchor": "x14",
         "domain": [
          0.7032136105860114,
          0.7143194706994329
         ]
        },
        "yaxis15": {
         "anchor": "x15",
         "domain": [
          0.6812381852551985,
          0.69234404536862
         ]
        },
        "yaxis16": {
         "anchor": "x16",
         "domain": [
          0.6592627599243857,
          0.6703686200378072
         ]
        },
        "yaxis17": {
         "anchor": "x17",
         "domain": [
          0.6372873345935728,
          0.6483931947069943
         ]
        },
        "yaxis18": {
         "anchor": "x18",
         "domain": [
          0.6153119092627599,
          0.6264177693761814
         ]
        },
        "yaxis19": {
         "anchor": "x19",
         "domain": [
          0.593336483931947,
          0.6044423440453686
         ]
        },
        "yaxis2": {
         "anchor": "x2",
         "domain": [
          0.9669187145557661,
          0.9780245746691876
         ]
        },
        "yaxis20": {
         "anchor": "x20",
         "domain": [
          0.5713610586011342,
          0.5824669187145557
         ]
        },
        "yaxis21": {
         "anchor": "x21",
         "domain": [
          0.5493856332703213,
          0.5604914933837428
         ]
        },
        "yaxis22": {
         "anchor": "x22",
         "domain": [
          0.5274102079395084,
          0.53851606805293
         ]
        },
        "yaxis23": {
         "anchor": "x23",
         "domain": [
          0.5054347826086956,
          0.5165406427221171
         ]
        },
        "yaxis24": {
         "anchor": "x24",
         "domain": [
          0.4834593572778827,
          0.49456521739130427
         ]
        },
        "yaxis25": {
         "anchor": "x25",
         "domain": [
          0.4614839319470698,
          0.4725897920604914
         ]
        },
        "yaxis26": {
         "anchor": "x26",
         "domain": [
          0.439508506616257,
          0.4506143667296786
         ]
        },
        "yaxis27": {
         "anchor": "x27",
         "domain": [
          0.4175330812854442,
          0.42863894139886577
         ]
        },
        "yaxis28": {
         "anchor": "x28",
         "domain": [
          0.3955576559546313,
          0.4066635160680529
         ]
        },
        "yaxis29": {
         "anchor": "x29",
         "domain": [
          0.37358223062381846,
          0.38468809073724003
         ]
        },
        "yaxis3": {
         "anchor": "x3",
         "domain": [
          0.9449432892249531,
          0.9560491493383746
         ]
        },
        "yaxis30": {
         "anchor": "x30",
         "domain": [
          0.3516068052930056,
          0.36271266540642716
         ]
        },
        "yaxis31": {
         "anchor": "x31",
         "domain": [
          0.32963137996219277,
          0.34073724007561434
         ]
        },
        "yaxis32": {
         "anchor": "x32",
         "domain": [
          0.30765595463137996,
          0.31876181474480153
         ]
        },
        "yaxis33": {
         "anchor": "x33",
         "domain": [
          0.2856805293005671,
          0.29678638941398866
         ]
        },
        "yaxis34": {
         "anchor": "x34",
         "domain": [
          0.2637051039697542,
          0.2748109640831758
         ]
        },
        "yaxis35": {
         "anchor": "x35",
         "domain": [
          0.24172967863894138,
          0.2528355387523629
         ]
        },
        "yaxis36": {
         "anchor": "x36",
         "domain": [
          0.21975425330812853,
          0.23086011342155008
         ]
        },
        "yaxis37": {
         "anchor": "x37",
         "domain": [
          0.19777882797731566,
          0.2088846880907372
         ]
        },
        "yaxis38": {
         "anchor": "x38",
         "domain": [
          0.17580340264650282,
          0.18690926275992437
         ]
        },
        "yaxis39": {
         "anchor": "x39",
         "domain": [
          0.15382797731568998,
          0.16493383742911152
         ]
        },
        "yaxis4": {
         "anchor": "x4",
         "domain": [
          0.9229678638941402,
          0.9340737240075617
         ]
        },
        "yaxis40": {
         "anchor": "x40",
         "domain": [
          0.1318525519848771,
          0.14295841209829865
         ]
        },
        "yaxis41": {
         "anchor": "x41",
         "domain": [
          0.10987712665406427,
          0.12098298676748581
         ]
        },
        "yaxis42": {
         "anchor": "x42",
         "domain": [
          0.08790170132325142,
          0.09900756143667297
         ]
        },
        "yaxis43": {
         "anchor": "x43",
         "domain": [
          0.06592627599243855,
          0.0770321361058601
         ]
        },
        "yaxis44": {
         "anchor": "x44",
         "domain": [
          0.04395085066162571,
          0.055056710775047264
         ]
        },
        "yaxis45": {
         "anchor": "x45",
         "domain": [
          0.021975425330812856,
          0.03308128544423441
         ]
        },
        "yaxis46": {
         "anchor": "x46",
         "domain": [
          0,
          0.01110586011342155
         ]
        },
        "yaxis5": {
         "anchor": "x5",
         "domain": [
          0.9009924385633273,
          0.9120982986767489
         ]
        },
        "yaxis6": {
         "anchor": "x6",
         "domain": [
          0.8790170132325145,
          0.890122873345936
         ]
        },
        "yaxis7": {
         "anchor": "x7",
         "domain": [
          0.8570415879017016,
          0.8681474480151231
         ]
        },
        "yaxis8": {
         "anchor": "x8",
         "domain": [
          0.8350661625708887,
          0.8461720226843102
         ]
        },
        "yaxis9": {
         "anchor": "x9",
         "domain": [
          0.8130907372400759,
          0.8241965973534974
         ]
        }
       }
      },
      "text/html": [
       "<div>                            <div id=\"bc6e2dc9-2752-4dbc-8ced-85ee2c69d683\" class=\"plotly-graph-div\" style=\"height:7500px; width:700px;\"></div>            <script type=\"text/javascript\">                require([\"plotly\"], function(Plotly) {                    window.PLOTLYENV=window.PLOTLYENV || {};                                    if (document.getElementById(\"bc6e2dc9-2752-4dbc-8ced-85ee2c69d683\")) {                    Plotly.newPlot(                        \"bc6e2dc9-2752-4dbc-8ced-85ee2c69d683\",                        [{\"histnorm\":\"probability density\",\"name\":\"Control\",\"x\":[1.9125944393719327,1.91523637636662,1.9256581779646973,1.9448185486732352,1.964671277657666,1.966263204954133,1.9676997241920893,1.9759306742864704,1.999562633941876,2.003727901068696],\"type\":\"histogram\",\"xaxis\":\"x\",\"yaxis\":\"y\"},{\"mode\":\"lines\",\"name\":\"Gaussian KDE\",\"x\":[1.9125944393719327,1.91523637636662,1.9256581779646973,1.9448185486732352,1.964671277657666,1.966263204954133,1.9676997241920893,1.9759306742864704,1.999562633941876,2.003727901068696],\"y\":[6.308322146232273,6.636897890637732,7.4666958111041835,8.514190208133485,10.066921495240447,10.09939075996033,10.10788235159414,9.769107041827318,6.483756166683573,5.768296020147169],\"type\":\"scatter\",\"xaxis\":\"x\",\"yaxis\":\"y\"},{\"histnorm\":\"probability density\",\"name\":\"Control\",\"x\":[2.232397506609692,2.2463363907376515,2.299627727084012,2.347186356370204,2.3639253245184357,2.4128020464655755],\"type\":\"histogram\",\"xaxis\":\"x2\",\"yaxis\":\"y2\"},{\"mode\":\"lines\",\"name\":\"Gaussian KDE\",\"x\":[2.232397506609692,2.2463363907376515,2.299627727084012,2.347186356370204,2.3639253245184357,2.4128020464655755],\"y\":[5.943890678823531,6.027704685781462,3.6473798376708015,5.878728466076934,5.8534677518825955,3.507634524042566],\"type\":\"scatter\",\"xaxis\":\"x2\",\"yaxis\":\"y2\"},{\"histnorm\":\"probability density\",\"name\":\"Control\",\"x\":[2.588777384038281,2.6007006332354545,2.6182591465703458,2.638945625428616,2.660828056371197],\"type\":\"histogram\",\"xaxis\":\"x3\",\"yaxis\":\"y3\"},{\"mode\":\"lines\",\"name\":\"Gaussian KDE\",\"x\":[2.588777384038281,2.6007006332354545,2.6182591465703458,2.638945625428616,2.660828056371197],\"y\":[8.853074050195119,10.727401809902066,10.799910907682253,9.331368983544095,6.645745190476877],\"type\":\"scatter\",\"xaxis\":\"x3\",\"yaxis\":\"y3\"},{\"histnorm\":\"probability density\",\"name\":\"Control\",\"x\":[2.437886730507162,2.457048449029279,2.4761393154583606,2.498270932882823,2.5146727323419547,2.53765089425463],\"type\":\"histogram\",\"xaxis\":\"x4\",\"yaxis\":\"y4\"},{\"mode\":\"lines\",\"name\":\"Gaussian KDE\",\"x\":[2.437886730507162,2.457048449029279,2.4761393154583606,2.498270932882823,2.5146727323419547,2.53765089425463],\"y\":[5.996163825205081,7.984195858447178,8.31758134572645,8.412688477051491,7.991999091258231,5.551641725920359],\"type\":\"scatter\",\"xaxis\":\"x4\",\"yaxis\":\"y4\"},{\"histnorm\":\"probability density\",\"name\":\"Control\",\"x\":[2.255388573516272,2.316922973010311,2.341355471160546,2.355409880356259,2.366458367232904,2.3825152509693983,2.387590822708055,2.432921216884595,2.4369162186806324,2.536275232794111,2.5450139845325834],\"type\":\"histogram\",\"xaxis\":\"x5\",\"yaxis\":\"y5\"},{\"mode\":\"lines\",\"name\":\"Gaussian KDE\",\"x\":[2.255388573516272,2.316922973010311,2.341355471160546,2.355409880356259,2.366458367232904,2.3825152509693983,2.387590822708055,2.432921216884595,2.4369162186806324,2.536275232794111,2.5450139845325834],\"y\":[1.829513608428392,3.0701857662540126,5.258479143088517,6.293652350090636,6.641783252681537,5.954028906564117,5.458321405217142,3.813933317275598,3.7265652548209056,3.461664237507154,3.4616545243336225],\"type\":\"scatter\",\"xaxis\":\"x5\",\"yaxis\":\"y5\"},{\"histnorm\":\"probability density\",\"name\":\"Control\",\"x\":[1.435567431048462,1.4952435817697831,1.50678229757059,1.5179077696034442,1.5502758331320847,1.5648406859603692,1.5798900175254205,1.58443853218188,1.5952681362476702,1.6078991215702985,1.6146305562938377,1.6350803889321357],\"type\":\"histogram\",\"xaxis\":\"x6\",\"yaxis\":\"y6\"},{\"mode\":\"lines\",\"name\":\"Gaussian KDE\",\"x\":[1.435567431048462,1.4952435817697831,1.50678229757059,1.5179077696034442,1.5502758331320847,1.5648406859603692,1.5798900175254205,1.58443853218188,1.5952681362476702,1.6078991215702985,1.6146305562938377,1.6350803889321357],\"y\":[1.6849234540119593,4.005648801745442,4.680476936828721,4.53709418635306,4.68999293388272,6.117369418012582,7.370785626543223,7.5748742867701475,7.621894307463353,6.903724900943291,6.2428663858958195,3.645096266011442],\"type\":\"scatter\",\"xaxis\":\"x6\",\"yaxis\":\"y6\"},{\"histnorm\":\"probability density\",\"name\":\"Control\",\"x\":[2.45220166425735,2.478193562553751,2.4834427436915574,2.4900962277443304,2.502022566744129,2.5189471673772603,2.5343811185932026,2.5470558701897548,2.58086984665776,2.607861877618985],\"type\":\"histogram\",\"xaxis\":\"x7\",\"yaxis\":\"y7\"},{\"mode\":\"lines\",\"name\":\"Gaussian KDE\",\"x\":[2.45220166425735,2.478193562553751,2.4834427436915574,2.4900962277443304,2.502022566744129,2.5189471673772603,2.5343811185932026,2.5470558701897548,2.58086984665776,2.607861877618985],\"y\":[3.8699670402463755,7.725117409129592,8.196910835967545,8.46541250855463,8.122813720108963,7.004834757308786,6.071298229389928,5.077496463371527,3.4260902167601848,2.8191201449684695],\"type\":\"scatter\",\"xaxis\":\"x7\",\"yaxis\":\"y7\"},{\"histnorm\":\"probability density\",\"name\":\"Control\",\"x\":[2.4196293292392035,2.438981527642394,2.441129953031613,2.4454307722707096,2.4462801882042458,2.4495983173726787,2.4745217384834017,2.489667699293199,2.495862466381763,2.5326954032824114],\"type\":\"histogram\",\"xaxis\":\"x8\",\"yaxis\":\"y8\"},{\"mode\":\"lines\",\"name\":\"Gaussian KDE\",\"x\":[2.4196293292392035,2.438981527642394,2.441129953031613,2.4454307722707096,2.4462801882042458,2.4495983173726787,2.4745217384834017,2.489667699293199,2.495862466381763,2.5326954032824114],\"y\":[6.752798349443927,11.24610418875432,11.446779751632489,11.598726968830698,11.590031792413736,11.442823449166536,7.948676345516008,6.410780244617447,5.787026564997828,2.587586776840853],\"type\":\"scatter\",\"xaxis\":\"x8\",\"yaxis\":\"y8\"},{\"histnorm\":\"probability density\",\"name\":\"Control\",\"x\":[2.2097352919838698,2.2109470841397503,2.2364830646312543,2.25046466074266,2.3076568975967744,2.3155189199182766,2.3737179412170795,2.3784523087940337,2.382985530106412,2.4268110769691607],\"type\":\"histogram\",\"xaxis\":\"x9\",\"yaxis\":\"y9\"},{\"mode\":\"lines\",\"name\":\"Gaussian KDE\",\"x\":[2.2097352919838698,2.2109470841397503,2.2364830646312543,2.25046466074266,2.3076568975967744,2.3155189199182766,2.3737179412170795,2.3784523087940337,2.382985530106412,2.4268110769691607],\"y\":[5.052199693981771,5.1518411748133905,5.259807994261673,4.134490450538357,3.892093703050461,3.901754165468974,5.82223608032193,6.0035845790890034,5.919693354501401,2.3415816408119845],\"type\":\"scatter\",\"xaxis\":\"x9\",\"yaxis\":\"y9\"},{\"histnorm\":\"probability density\",\"name\":\"Control\",\"x\":[1.9896202029446184,2.0084333493164173,2.0208986956341826,2.055076779659778,2.089677279597712,2.095862125198672,2.1040382036309992,2.1366731491465263,2.1574479555848702,2.1818746942322145],\"type\":\"histogram\",\"xaxis\":\"x10\",\"yaxis\":\"y10\"},{\"mode\":\"lines\",\"name\":\"Gaussian KDE\",\"x\":[1.9896202029446184,2.0084333493164173,2.0208986956341826,2.055076779659778,2.089677279597712,2.095862125198672,2.1040382036309992,2.1366731491465263,2.1574479555848702,2.1818746942322145],\"y\":[3.8728777443316242,5.0510048663853855,4.695151191273109,3.3949182921567647,6.022880905631744,6.24871265835913,6.055267225906086,4.215079040638593,4.184113464858817,3.0972804350217524],\"type\":\"scatter\",\"xaxis\":\"x10\",\"yaxis\":\"y10\"},{\"histnorm\":\"probability density\",\"name\":\"Control\",\"x\":[2.024840583262688,2.03187551706176,2.0407871935504724,2.0786036864162964,2.0846071351969675,2.091638749587201,2.098071338351597,2.103535681091625,2.139847715736039,2.155036309225913,2.1753803702077086],\"type\":\"histogram\",\"xaxis\":\"x11\",\"yaxis\":\"y11\"},{\"mode\":\"lines\",\"name\":\"Gaussian KDE\",\"x\":[2.024840583262688,2.03187551706176,2.0407871935504724,2.0786036864162964,2.0846071351969675,2.091638749587201,2.098071338351597,2.103535681091625,2.139847715736039,2.155036309225913,2.1753803702077086],\"y\":[4.917193054458734,5.365818480025668,5.357703417380492,7.464785064434752,8.141131721693506,8.436513547836347,8.133993113964037,7.506691768180656,4.256144965437704,4.367507828034667,3.2727516006284127],\"type\":\"scatter\",\"xaxis\":\"x11\",\"yaxis\":\"y11\"},{\"histnorm\":\"probability density\",\"name\":\"Control\",\"x\":[2.017577959445417,2.0458018461953853,2.05751421772955,2.084900493974189,2.095710934693669,2.1033935954522542,2.1079725843119186,2.120635970674952,2.1407263759073656,2.1768899153565933,2.1961212056923944],\"type\":\"histogram\",\"xaxis\":\"x12\",\"yaxis\":\"y12\"},{\"mode\":\"lines\",\"name\":\"Gaussian KDE\",\"x\":[2.017577959445417,2.0458018461953853,2.05751421772955,2.084900493974189,2.095710934693669,2.1033935954522542,2.1079725843119186,2.120635970674952,2.1407263759073656,2.1768899153565933,2.1961212056923944],\"y\":[2.7377227380761084,4.404665154238745,4.809367603831182,6.884139684109687,7.920177539935092,8.176533734569226,8.067700070822218,6.894683849347564,4.274183828404577,3.3512547983900283,2.9962544368244086],\"type\":\"scatter\",\"xaxis\":\"x12\",\"yaxis\":\"y12\"},{\"histnorm\":\"probability density\",\"name\":\"Control\",\"x\":[2.298034591194967,2.337814766236682,2.405764062700551,2.457336289468616,2.535910726318828,2.599183753690154],\"type\":\"histogram\",\"xaxis\":\"x13\",\"yaxis\":\"y13\"},{\"mode\":\"lines\",\"name\":\"Gaussian KDE\",\"x\":[2.298034591194967,2.337814766236682,2.405764062700551,2.457336289468616,2.535910726318828,2.599183753690154],\"y\":[3.784417586729475,3.7947733328856983,3.4545150118759467,3.445635474334185,3.348301743479391,3.3468223176921312],\"type\":\"scatter\",\"xaxis\":\"x13\",\"yaxis\":\"y13\"},{\"histnorm\":\"probability density\",\"name\":\"Control\",\"x\":[2.069264373898388,2.1071790642708264,2.117059439896994,2.17817044360498,2.2047097436667893,2.217815895453919],\"type\":\"histogram\",\"xaxis\":\"x14\",\"yaxis\":\"y14\"},{\"mode\":\"lines\",\"name\":\"Gaussian KDE\",\"x\":[2.069264373898388,2.1071790642708264,2.117059439896994,2.17817044360498,2.2047097436667893,2.217815895453919],\"y\":[4.067020485971388,6.824504322252907,6.489837964099101,5.206308324870596,7.385272823084748,6.472748914019471],\"type\":\"scatter\",\"xaxis\":\"x14\",\"yaxis\":\"y14\"},{\"histnorm\":\"probability density\",\"name\":\"Control\",\"x\":[2.2681168249554533,2.3159780324573167,2.3526248947234727,2.3639876933889195,2.373095298571548,2.398749986472403,2.4331332522314155,2.4394547455761564,2.471493185592886,2.5090384075504977,2.5790718859633195],\"type\":\"histogram\",\"xaxis\":\"x15\",\"yaxis\":\"y15\"},{\"mode\":\"lines\",\"name\":\"Gaussian KDE\",\"x\":[2.2681168249554533,2.3159780324573167,2.3526248947234727,2.3639876933889195,2.373095298571548,2.398749986472403,2.4331332522314155,2.4394547455761564,2.471493185592886,2.5090384075504977,2.5790718859633195],\"y\":[1.9171355960958825,2.388009173085579,4.896729161011728,5.499401898131303,5.376801573350903,3.782252853924062,4.266823921939552,4.2828577388638465,2.9179763970839097,2.1342761194978546,1.8173185095511948],\"type\":\"scatter\",\"xaxis\":\"x15\",\"yaxis\":\"y15\"},{\"histnorm\":\"probability density\",\"name\":\"Control\",\"x\":[2.0680699538809524,2.0952607417946183,2.12807147253239,2.158343790713844,2.203917587848656,2.224861522967603,2.237944705101868,2.2705871852461663,2.2755165413113136,2.3101885525653203,2.343352969229989],\"type\":\"histogram\",\"xaxis\":\"x16\",\"yaxis\":\"y16\"},{\"mode\":\"lines\",\"name\":\"Gaussian KDE\",\"x\":[2.0680699538809524,2.0952607417946183,2.12807147253239,2.158343790713844,2.203917587848656,2.224861522967603,2.237944705101868,2.2705871852461663,2.2755165413113136,2.3101885525653203,2.343352969229989],\"y\":[2.5532366669592323,3.0176996479551685,2.8837916458116486,2.545781401867902,3.4344410677500936,4.539097437000991,4.496531161032274,4.44882276177635,4.368714608367342,2.9336784156065456,2.2801182972940057],\"type\":\"scatter\",\"xaxis\":\"x16\",\"yaxis\":\"y16\"},{\"histnorm\":\"probability density\",\"name\":\"Control\",\"x\":[1.960463926628084,1.9741370553293116,1.9794396980945208,2.025323116898562,2.1613193012094536,2.161323913047435,2.1769144740714568,2.211077149374397,2.2477688109892804],\"type\":\"histogram\",\"xaxis\":\"x17\",\"yaxis\":\"y17\"},{\"mode\":\"lines\",\"name\":\"Gaussian KDE\",\"x\":[1.960463926628084,1.9741370553293116,1.9794396980945208,2.025323116898562,2.1613193012094536,2.161323913047435,2.1769144740714568,2.211077149374397,2.2477688109892804],\"y\":[5.395412605018701,6.19442995406106,5.928703266959954,2.471186823096628,6.168586722217444,6.1689385340318,6.006785454276436,3.3443305164760853,2.632800640472231],\"type\":\"scatter\",\"xaxis\":\"x17\",\"yaxis\":\"y17\"},{\"histnorm\":\"probability density\",\"name\":\"Control\",\"x\":[2.523881278042737,2.6605999419551174,2.688215492395964,2.769729905064026,2.806343498430148],\"type\":\"histogram\",\"xaxis\":\"x18\",\"yaxis\":\"y18\"},{\"mode\":\"lines\",\"name\":\"Gaussian KDE\",\"x\":[2.523881278042737,2.6605999419551174,2.688215492395964,2.769729905064026,2.806343498430148],\"y\":[3.9894228042985347,5.527255624799166,5.528240118711052,4.737143017799991,4.736156002153703],\"type\":\"scatter\",\"xaxis\":\"x18\",\"yaxis\":\"y18\"},{\"histnorm\":\"probability density\",\"name\":\"Control\",\"x\":[1.8935861280839013,1.937750099071948,2.0031004912125474,2.0435939616798904],\"type\":\"histogram\",\"xaxis\":\"x19\",\"yaxis\":\"y19\"},{\"mode\":\"lines\",\"name\":\"Gaussian KDE\",\"x\":[1.8935861280839013,1.937750099071948,2.0031004912125474,2.0435939616798904],\"y\":[5.422271410303302,5.446229629631355,5.652931925238241,5.628978892735355],\"type\":\"scatter\",\"xaxis\":\"x19\",\"yaxis\":\"y19\"},{\"histnorm\":\"probability density\",\"name\":\"Thapsigargin\",\"x\":[1.0883667541789177,1.090216839935131,1.0954687698572607,1.1061361041804925,1.1150775064547975,1.1168089781704538,1.1193451136337709,1.1245783064478456,1.1270388960639033,1.127135460058459,1.1275862911714],\"type\":\"histogram\",\"xaxis\":\"x20\",\"yaxis\":\"y20\"},{\"mode\":\"lines\",\"name\":\"Gaussian KDE\",\"x\":[1.0883667541789177,1.090216839935131,1.0954687698572607,1.1061361041804925,1.1150775064547975,1.1168089781704538,1.1193451136337709,1.1245783064478456,1.1270388960639033,1.127135460058459,1.1275862911714],\"y\":[9.666890228943508,10.300552188603408,12.045338692723474,14.901845717878377,15.87514291355415,15.854678634431842,15.689413773214003,14.839170566043999,14.21519009979929,14.188023206709431,14.058640016328452],\"type\":\"scatter\",\"xaxis\":\"x20\",\"yaxis\":\"y20\"},{\"histnorm\":\"probability density\",\"name\":\"Thapsigargin\",\"x\":[1.1790826315842042,1.2158155773322536,1.2158635260271502,1.2165999880128258,1.222239204051664,1.223699891116505,1.2246328928046983],\"type\":\"histogram\",\"xaxis\":\"x21\",\"yaxis\":\"y21\"},{\"mode\":\"lines\",\"name\":\"Gaussian KDE\",\"x\":[1.1790826315842042,1.2158155773322536,1.2158635260271502,1.2165999880128258,1.222239204051664,1.223699891116505,1.2246328928046983],\"y\":[5.120394281793584,17.002717661917252,17.007947067255536,17.078048133571258,16.951897878414833,16.72587666093419,16.54122707523159],\"type\":\"scatter\",\"xaxis\":\"x21\",\"yaxis\":\"y21\"},{\"histnorm\":\"probability density\",\"name\":\"Thapsigargin\",\"x\":[1.1554729529474046,1.1648202812138604,1.1651829700786267,1.1653344319826853,1.1751654473555178,1.1834493001768784,1.1902541972412026,1.2001167162007036,1.2128787885739238],\"type\":\"histogram\",\"xaxis\":\"x22\",\"yaxis\":\"y22\"},{\"mode\":\"lines\",\"name\":\"Gaussian KDE\",\"x\":[1.1554729529474046,1.1648202812138604,1.1651829700786267,1.1653344319826853,1.1751654473555178,1.1834493001768784,1.1902541972412026,1.2001167162007036,1.2128787885739238],\"y\":[11.042221207203776,13.587959534189665,13.657168799635516,13.685323538835387,14.534958611263788,13.859622396766666,12.612812767307352,10.192098749128705,6.738505501991529],\"type\":\"scatter\",\"xaxis\":\"x22\",\"yaxis\":\"y22\"},{\"histnorm\":\"probability density\",\"name\":\"Thapsigargin\",\"x\":[1.1797556692158997,1.1826127607634067,1.1910053068415976,1.1916398930137078,1.200853678316519,1.2066049753813508,1.2113732938477173,1.2151346322082546,1.2254132064731087,1.2263304517271811],\"type\":\"histogram\",\"xaxis\":\"x23\",\"yaxis\":\"y23\"},{\"mode\":\"lines\",\"name\":\"Gaussian KDE\",\"x\":[1.1797556692158997,1.1826127607634067,1.1910053068415976,1.1916398930137078,1.200853678316519,1.2066049753813508,1.2113732938477173,1.2151346322082546,1.2254132064731087,1.2263304517271811],\"y\":[10.566303247953101,11.510707822174817,13.78073728876899,13.912396558758802,15.03650704667406,14.937754067363414,14.392101361944174,13.687863273310114,10.797542534712822,10.491375250699258],\"type\":\"scatter\",\"xaxis\":\"x23\",\"yaxis\":\"y23\"},{\"histnorm\":\"probability density\",\"name\":\"Thapsigargin\",\"x\":[1.160565927972803,1.176021363514773,1.181276279122916,1.1868355715766037,1.1963727343792598,1.1969169508296338,1.1976683487036706,1.2058442561855758,1.2135523011356988,1.21534811153905,1.2212716433492874],\"type\":\"histogram\",\"xaxis\":\"x24\",\"yaxis\":\"y24\"},{\"mode\":\"lines\",\"name\":\"Gaussian KDE\",\"x\":[1.160565927972803,1.176021363514773,1.181276279122916,1.1868355715766037,1.1963727343792598,1.1969169508296338,1.1976683487036706,1.2058442561855758,1.2135523011356988,1.21534811153905,1.2212716433492874],\"y\":[6.276836358594813,10.92887696275347,12.382505400923051,13.63718546615517,14.730237852298323,14.743553002498041,14.752537577740227,14.137376513074164,12.448272367295644,11.930000219842341,9.997778335513951],\"type\":\"scatter\",\"xaxis\":\"x24\",\"yaxis\":\"y24\"},{\"histnorm\":\"probability density\",\"name\":\"Thapsigargin\",\"x\":[1.1217297387604903,1.1322647943679152,1.135187237609781,1.1368640880369671,1.1369078803869752,1.144345914000768,1.1471731784934835,1.1497487424465571,1.1584264623923697,1.1621541279774463],\"type\":\"histogram\",\"xaxis\":\"x25\",\"yaxis\":\"y25\"},{\"mode\":\"lines\",\"name\":\"Gaussian KDE\",\"x\":[1.1217297387604903,1.1322647943679152,1.135187237609781,1.1368640880369671,1.1369078803869752,1.144345914000768,1.1471731784934835,1.1497487424465571,1.1584264623923697,1.1621541279774463],\"y\":[11.632712116429484,15.623867371006936,16.346422964486894,16.657527480124298,16.664581516859826,17.023604309708084,16.71812111317507,16.240592873203326,13.497762229174674,11.960718673407056],\"type\":\"scatter\",\"xaxis\":\"x25\",\"yaxis\":\"y25\"},{\"histnorm\":\"probability density\",\"name\":\"Thapsigargin\",\"x\":[1.1459952099362027,1.1565643857848342,1.1625532523685376,1.1632401965682306,1.1663518456279307,1.167021455367929,1.1838181683304714,1.1864787429564558,1.1887081512836577,1.1964547623589392,1.2127299276040286],\"type\":\"histogram\",\"xaxis\":\"x26\",\"yaxis\":\"y26\"},{\"mode\":\"lines\",\"name\":\"Gaussian KDE\",\"x\":[1.1459952099362027,1.1565643857848342,1.1625532523685376,1.1632401965682306,1.1663518456279307,1.167021455367929,1.1838181683304714,1.1864787429564558,1.1887081512836577,1.1964547623589392,1.2127299276040286],\"y\":[8.856342156537085,12.120598764005907,13.39354538976637,13.502965020644291,13.896870402438994,13.959506570788848,13.125101648318095,12.639172797591478,12.178507452263133,10.293726308876822,5.862540975709019],\"type\":\"scatter\",\"xaxis\":\"x26\",\"yaxis\":\"y26\"},{\"histnorm\":\"probability density\",\"name\":\"Thapsigargin\",\"x\":[1.3132379985236822,1.332919168085381,1.3495743854723568,1.3675900759634811,1.3855463155364582,1.3936773664096616],\"type\":\"histogram\",\"xaxis\":\"x27\",\"yaxis\":\"y27\"},{\"mode\":\"lines\",\"name\":\"Gaussian KDE\",\"x\":[1.3132379985236822,1.332919168085381,1.3495743854723568,1.3675900759634811,1.3855463155364582,1.3936773664096616],\"y\":[6.0999334374736245,8.600567937486225,9.480793799573743,10.004730278883477,9.37576330508891,8.13156349263222],\"type\":\"scatter\",\"xaxis\":\"x27\",\"yaxis\":\"y27\"},{\"histnorm\":\"probability density\",\"name\":\"Thapsigargin\",\"x\":[1.3667176385621884,1.3751397019959724,1.3826763876392472,1.395218136849452,1.3975355962703089,1.4059774298060503],\"type\":\"histogram\",\"xaxis\":\"x28\",\"yaxis\":\"y28\"},{\"mode\":\"lines\",\"name\":\"Gaussian KDE\",\"x\":[1.3667176385621884,1.3751397019959724,1.3826763876392472,1.395218136849452,1.3975355962703089,1.4059774298060503],\"y\":[11.487837824775726,14.260816673469423,15.779550832601421,15.447444389756829,14.980897603609725,12.425684927083672],\"type\":\"scatter\",\"xaxis\":\"x28\",\"yaxis\":\"y28\"},{\"histnorm\":\"probability density\",\"name\":\"Thapsigargin\",\"x\":[1.326619000887891,1.3291343139952885,1.3448237975814024,1.3623405732008929,1.3774953831348982,1.406653478096068],\"type\":\"histogram\",\"xaxis\":\"x29\",\"yaxis\":\"y29\"},{\"mode\":\"lines\",\"name\":\"Gaussian KDE\",\"x\":[1.326619000887891,1.3291343139952885,1.3448237975814024,1.3623405732008929,1.3774953831348982,1.406653478096068],\"y\":[9.626212746759304,10.085103756418464,11.134319908625669,9.882773796780423,8.153001499082235,4.78962333187921],\"type\":\"scatter\",\"xaxis\":\"x29\",\"yaxis\":\"y29\"},{\"histnorm\":\"probability density\",\"name\":\"Thapsigargin\",\"x\":[1.1771190510617195,1.1876498853590012,1.1923644964058489,1.2021687546476074,1.2085883923407414,1.2129930337519617,1.223197502685284,1.2263818887879032],\"type\":\"histogram\",\"xaxis\":\"x30\",\"yaxis\":\"y30\"},{\"mode\":\"lines\",\"name\":\"Gaussian KDE\",\"x\":[1.1771190510617195,1.1876498853590012,1.1923644964058489,1.2021687546476074,1.2085883923407414,1.2129930337519617,1.223197502685284,1.2263818887879032],\"y\":[9.184380593051502,12.459588059551935,13.600136297468074,14.912981228410906,14.842023561953384,14.343694737616618,11.937643408574859,10.914142759427909],\"type\":\"scatter\",\"xaxis\":\"x30\",\"yaxis\":\"y30\"},{\"histnorm\":\"probability density\",\"name\":\"Thapsigargin\",\"x\":[1.1769435191226036,1.176993612732546,1.1790641929015884,1.1900321688672857,1.1908056301497087,1.1916131072521454,1.2000540798388493,1.210899678577075],\"type\":\"histogram\",\"xaxis\":\"x31\",\"yaxis\":\"y31\"},{\"mode\":\"lines\",\"name\":\"Gaussian KDE\",\"x\":[1.1769435191226036,1.176993612732546,1.1790641929015884,1.1900321688672857,1.1908056301497087,1.1916131072521454,1.2000540798388493,1.210899678577075],\"y\":[15.214154079531854,15.231214338026133,15.88465377250801,17.290568910983065,17.24609848492442,17.179515755408314,15.36560999554532,11.04897861096216],\"type\":\"scatter\",\"xaxis\":\"x31\",\"yaxis\":\"y31\"},{\"histnorm\":\"probability density\",\"name\":\"Control\",\"x\":[2.818897384305833,2.828527833668677,2.837180751173707,2.8934198524480195,2.910732729711601,2.964997317236752,2.9836784037558663,2.9929681421864496,2.9934292421193813,3.037997652582158,3.0538293091884623,3.099151576123405,3.1188403755868523],\"type\":\"histogram\",\"xaxis\":\"x32\",\"yaxis\":\"y32\"},{\"mode\":\"lines\",\"name\":\"Gaussian KDE\",\"x\":[2.818897384305833,2.828527833668677,2.837180751173707,2.8934198524480195,2.910732729711601,2.964997317236752,2.9836784037558663,2.9929681421864496,2.9934292421193813,3.037997652582158,3.0538293091884623,3.099151576123405,3.1188403755868523],\"y\":[3.9126852079869487,4.306399819617742,3.973246818055124,2.6307874505346804,2.632736343175637,3.7052303663646815,5.309967262026609,5.159889540133589,5.133898764183134,2.960965231040417,2.815948058132418,2.6115587271200944,2.487754412438318],\"type\":\"scatter\",\"xaxis\":\"x32\",\"yaxis\":\"y32\"},{\"histnorm\":\"probability density\",\"name\":\"Control\",\"x\":[2.607111294522092,2.622090687015958,2.6606628325222625,2.666257722350356,2.71180931630642,2.736474673838345,2.7575829852119047,2.763000215080461],\"type\":\"histogram\",\"xaxis\":\"x33\",\"yaxis\":\"y33\"},{\"mode\":\"lines\",\"name\":\"Gaussian KDE\",\"x\":[2.607111294522092,2.622090687015958,2.6606628325222625,2.666257722350356,2.71180931630642,2.736474673838345,2.7575829852119047,2.763000215080461],\"y\":[4.477587364743556,4.982975323385988,5.445208125138701,5.331937608902533,4.216088041562032,6.129374657389435,6.507361295778392,6.025955880099706],\"type\":\"scatter\",\"xaxis\":\"x33\",\"yaxis\":\"y33\"},{\"histnorm\":\"probability density\",\"name\":\"Control\",\"x\":[2.7580104822355067,2.766385359484992,2.8662807628779854,2.87029832607804,2.886815183815367,2.8981654206627194,3.0342219028305037,3.0400176083496677,3.0474371950049464,3.125511413446306,3.1270886399807347,3.136787905923251,3.176939458129375],\"type\":\"histogram\",\"xaxis\":\"x34\",\"yaxis\":\"y34\"},{\"mode\":\"lines\",\"name\":\"Gaussian KDE\",\"x\":[2.7580104822355067,2.766385359484992,2.8662807628779854,2.87029832607804,2.886815183815367,2.8981654206627194,3.0342219028305037,3.0400176083496677,3.0474371950049464,3.125511413446306,3.1270886399807347,3.136787905923251,3.176939458129375],\"y\":[2.939990961883094,2.9399980767334126,4.374506187511075,4.710421081625995,4.837394307643203,3.852375634213674,4.239244238169554,4.4383486189961125,4.201596308628132,4.430137332751426,4.497569915287585,4.41206917540536,1.8638569667390026],\"type\":\"scatter\",\"xaxis\":\"x34\",\"yaxis\":\"y34\"},{\"histnorm\":\"probability density\",\"name\":\"Control\",\"x\":[1.7879206866277415,2.328069603097308,2.3339874015899125,2.360202265410982,2.3623544538210206,2.370085252759799,2.3785625530730803,2.4039210512428086,2.4177802618511874],\"type\":\"histogram\",\"xaxis\":\"x35\",\"yaxis\":\"y35\"},{\"mode\":\"lines\",\"name\":\"Gaussian KDE\",\"x\":[1.7879206866277415,2.328069603097308,2.3339874015899125,2.360202265410982,2.3623544538210206,2.370085252759799,2.3785625530730803,2.4039210512428086,2.4177802618511874],\"y\":[2.216346002230181,5.794663219361226,6.712065532550332,9.622652244537775,9.696503668455128,9.598266122345,8.8851265574321,5.947007347385299,4.495983153657894],\"type\":\"scatter\",\"xaxis\":\"x35\",\"yaxis\":\"y35\"},{\"histnorm\":\"probability density\",\"name\":\"Control\",\"x\":[2.4302199916679985,2.48276949803978,2.519739875459816,2.5653171352092947,2.5924303416730687,2.603353324431205,2.622116205739305,2.6436882659300607,2.677323155750972,2.6875952163082384],\"type\":\"histogram\",\"xaxis\":\"x36\",\"yaxis\":\"y36\"},{\"mode\":\"lines\",\"name\":\"Gaussian KDE\",\"x\":[2.4302199916679985,2.48276949803978,2.519739875459816,2.5653171352092947,2.5924303416730687,2.603353324431205,2.622116205739305,2.6436882659300607,2.677323155750972,2.6875952163082384],\"y\":[2.0580090763708543,2.4196320966475673,2.5077947633025786,3.302804156379474,5.2495083522705555,5.588361000964846,5.146133687052107,4.110533106693359,4.274501213899363,3.93182695781042],\"type\":\"scatter\",\"xaxis\":\"x36\",\"yaxis\":\"y36\"},{\"histnorm\":\"probability density\",\"name\":\"TG\",\"x\":[1.196585715721684,1.2043910464974783,1.2189454384131158,1.2238572131441172,1.2276066075802603,1.2283576957057676,1.2354530524575116,1.2535264789173075,1.2753774146032142,1.2925508654745084],\"type\":\"histogram\",\"xaxis\":\"x37\",\"yaxis\":\"y37\"},{\"mode\":\"lines\",\"name\":\"Gaussian KDE\",\"x\":[1.196585715721684,1.2043910464974783,1.2189454384131158,1.2238572131441172,1.2276066075802603,1.2283576957057676,1.2354530524575116,1.2535264789173075,1.2753774146032142,1.2925508654745084],\"y\":[7.19941142664432,9.304293415746757,12.036189303926054,12.291998530856489,12.213759355421308,12.170161469079789,11.350644099367775,7.724508771864629,5.099490941573114,3.7352207762384486],\"type\":\"scatter\",\"xaxis\":\"x37\",\"yaxis\":\"y37\"},{\"histnorm\":\"probability density\",\"name\":\"Control\",\"x\":[1.5398626588927735,1.55510965538065,1.5631259068211032,1.586067382862932,1.7519574519255223,1.7857818743966294,1.8308352159275565,1.8678565491473],\"type\":\"histogram\",\"xaxis\":\"x38\",\"yaxis\":\"y38\"},{\"mode\":\"lines\",\"name\":\"Gaussian KDE\",\"x\":[1.5398626588927735,1.55510965538065,1.5631259068211032,1.586067382862932,1.7519574519255223,1.7857818743966294,1.8308352159275565,1.8678565491473],\"y\":[5.798575153044261,7.411459204959527,7.35341961499255,4.710255255791988,3.0910566563002044,3.287745937030641,3.1411370755372214,2.9434560758917896],\"type\":\"scatter\",\"xaxis\":\"x38\",\"yaxis\":\"y38\"},{\"histnorm\":\"probability density\",\"name\":\"Control\",\"x\":[1.194497320558479,1.19630111953252,1.214819722898225,1.2165235457795929,1.216683906962318,1.23123248435891,1.2354122134131256,1.2491178666441094,1.2734180486804851,1.2957306918968254,1.2963780106637242],\"type\":\"histogram\",\"xaxis\":\"x39\",\"yaxis\":\"y39\"},{\"mode\":\"lines\",\"name\":\"Gaussian KDE\",\"x\":[1.194497320558479,1.19630111953252,1.214819722898225,1.2165235457795929,1.216683906962318,1.23123248435891,1.2354122134131256,1.2491178666441094,1.2734180486804851,1.2957306918968254,1.2963780106637242],\"y\":[7.274107931038953,7.686077536685409,10.493749283978886,10.568154626107237,10.57332612731192,9.818996136159411,9.245758567546487,7.044082904816985,5.17657716141857,4.7501484978927175,4.703338662579702],\"type\":\"scatter\",\"xaxis\":\"x39\",\"yaxis\":\"y39\"},{\"histnorm\":\"probability density\",\"name\":\"Control\",\"x\":[1.1672954639410738,1.176214980356452,1.189578169093758,1.189578169093758,1.2028956739155023,1.2224542879341374,1.226893348968814,1.2316955220647408,1.2387722394073095,1.2606440037984132,1.2662474684837275,1.26906367812357,1.3028410355235331],\"type\":\"histogram\",\"xaxis\":\"x40\",\"yaxis\":\"y40\"},{\"mode\":\"lines\",\"name\":\"Gaussian KDE\",\"x\":[1.1672954639410738,1.176214980356452,1.189578169093758,1.189578169093758,1.2028956739155023,1.2224542879341374,1.226893348968814,1.2316955220647408,1.2387722394073095,1.2606440037984132,1.2662474684837275,1.26906367812357,1.3028410355235331],\"y\":[4.951564464595434,6.221036458808515,7.262856139784408,7.262856139784408,7.527565066799397,7.886011373742102,7.931989058434589,7.918989398591159,7.769495601313519,6.6086227647749425,6.13213426369122,5.857023104579187,2.36986409408838],\"type\":\"scatter\",\"xaxis\":\"x40\",\"yaxis\":\"y40\"},{\"histnorm\":\"probability density\",\"name\":\"Control\",\"x\":[1.1247766923648927,1.1387903825497805,1.152455780194357,1.1560930220733567,1.166404133749419,1.1719475781592603,1.17865881949167,1.1818427726120029,1.1819539974195836,1.1918563102600113,1.192633104316157,1.2007501001023262,1.2015462154964751,1.2093988140257652,1.2218918386414042],\"type\":\"histogram\",\"xaxis\":\"x41\",\"yaxis\":\"y41\"},{\"mode\":\"lines\",\"name\":\"Gaussian KDE\",\"x\":[1.1247766923648927,1.1387903825497805,1.152455780194357,1.1560930220733567,1.166404133749419,1.1719475781592603,1.17865881949167,1.1818427726120029,1.1819539974195836,1.1918563102600113,1.192633104316157,1.2007501001023262,1.2015462154964751,1.2093988140257652,1.2218918386414042],\"y\":[3.596965652885577,5.728242017913322,8.066145287852736,8.712851548518588,10.457082354886618,11.228293741704357,11.860508495676443,12.00838437122791,12.011550693644457,11.706644424736506,11.632676892573135,10.457459064674744,10.3067213929088,8.574948854291687,5.449099234211164],\"type\":\"scatter\",\"xaxis\":\"x41\",\"yaxis\":\"y41\"},{\"histnorm\":\"probability density\",\"name\":\"Control\",\"x\":[1.6831267768753757,1.8537638476244784,1.9562181787142563,1.9683479266271096,2.021860550383964,2.1030724000027146],\"type\":\"histogram\",\"xaxis\":\"x42\",\"yaxis\":\"y42\"},{\"mode\":\"lines\",\"name\":\"Gaussian KDE\",\"x\":[1.6831267768753757,1.8537638476244784,1.9562181787142563,1.9683479266271096,2.021860550383964,2.1030724000027146],\"y\":[3.3245190033452725,3.3245259085257626,6.105776206670485,6.1832644780685,3.4333369939425773,3.3253926102018574],\"type\":\"scatter\",\"xaxis\":\"x42\",\"yaxis\":\"y42\"},{\"histnorm\":\"probability density\",\"name\":\"TG\",\"x\":[1.1194592243256878,1.1743070482704816,1.1751076534452656,1.192162252185384],\"type\":\"histogram\",\"xaxis\":\"x43\",\"yaxis\":\"y43\"},{\"mode\":\"lines\",\"name\":\"Gaussian KDE\",\"x\":[1.1194592243256878,1.1743070482704816,1.1751076534452656,1.192162252185384],\"y\":[5.213502517834045,13.433353528105018,13.540226445115993,11.807979038945469],\"type\":\"scatter\",\"xaxis\":\"x43\",\"yaxis\":\"y43\"},{\"histnorm\":\"probability density\",\"name\":\"TG\",\"x\":[1.1095266224815907,1.135975998978679,1.1414497984407552,1.1451458085847137],\"type\":\"histogram\",\"xaxis\":\"x44\",\"yaxis\":\"y44\"},{\"mode\":\"lines\",\"name\":\"Gaussian KDE\",\"x\":[1.1095266224815907,1.135975998978679,1.1414497984407552,1.1451458085847137],\"y\":[9.482845386559003,16.359398145427516,16.087637860187577,15.39946892294961],\"type\":\"scatter\",\"xaxis\":\"x44\",\"yaxis\":\"y44\"},{\"histnorm\":\"probability density\",\"name\":\"TG\",\"x\":[1.1984525685264538,1.2257204483420994,1.2379775217057798,1.2605347063027066],\"type\":\"histogram\",\"xaxis\":\"x45\",\"yaxis\":\"y45\"},{\"mode\":\"lines\",\"name\":\"Gaussian KDE\",\"x\":[1.1984525685264538,1.2257204483420994,1.2379775217057798,1.2605347063027066],\"y\":[7.703308636445182,12.184524947125404,12.467207800952249,8.76312878275462],\"type\":\"scatter\",\"xaxis\":\"x45\",\"yaxis\":\"y45\"},{\"histnorm\":\"probability density\",\"name\":\"TG\",\"x\":[1.1692507792313125,1.2000208567488957,1.236913114260222,1.2374129520410635,1.2379069962805458],\"type\":\"histogram\",\"xaxis\":\"x46\",\"yaxis\":\"y46\"},{\"mode\":\"lines\",\"name\":\"Gaussian KDE\",\"x\":[1.1692507792313125,1.2000208567488957,1.236913114260222,1.2374129520410635,1.2379069962805458],\"y\":[5.247058758651401,7.296994190590045,12.70300437755415,12.672638883194535,12.63642747397425],\"type\":\"scatter\",\"xaxis\":\"x46\",\"yaxis\":\"y46\"}],                        {\"template\":{\"data\":{\"bar\":[{\"error_x\":{\"color\":\"#2a3f5f\"},\"error_y\":{\"color\":\"#2a3f5f\"},\"marker\":{\"line\":{\"color\":\"#E5ECF6\",\"width\":0.5},\"pattern\":{\"fillmode\":\"overlay\",\"size\":10,\"solidity\":0.2}},\"type\":\"bar\"}],\"barpolar\":[{\"marker\":{\"line\":{\"color\":\"#E5ECF6\",\"width\":0.5},\"pattern\":{\"fillmode\":\"overlay\",\"size\":10,\"solidity\":0.2}},\"type\":\"barpolar\"}],\"carpet\":[{\"aaxis\":{\"endlinecolor\":\"#2a3f5f\",\"gridcolor\":\"white\",\"linecolor\":\"white\",\"minorgridcolor\":\"white\",\"startlinecolor\":\"#2a3f5f\"},\"baxis\":{\"endlinecolor\":\"#2a3f5f\",\"gridcolor\":\"white\",\"linecolor\":\"white\",\"minorgridcolor\":\"white\",\"startlinecolor\":\"#2a3f5f\"},\"type\":\"carpet\"}],\"choropleth\":[{\"colorbar\":{\"outlinewidth\":0,\"ticks\":\"\"},\"type\":\"choropleth\"}],\"contour\":[{\"colorbar\":{\"outlinewidth\":0,\"ticks\":\"\"},\"colorscale\":[[0.0,\"#0d0887\"],[0.1111111111111111,\"#46039f\"],[0.2222222222222222,\"#7201a8\"],[0.3333333333333333,\"#9c179e\"],[0.4444444444444444,\"#bd3786\"],[0.5555555555555556,\"#d8576b\"],[0.6666666666666666,\"#ed7953\"],[0.7777777777777778,\"#fb9f3a\"],[0.8888888888888888,\"#fdca26\"],[1.0,\"#f0f921\"]],\"type\":\"contour\"}],\"contourcarpet\":[{\"colorbar\":{\"outlinewidth\":0,\"ticks\":\"\"},\"type\":\"contourcarpet\"}],\"heatmap\":[{\"colorbar\":{\"outlinewidth\":0,\"ticks\":\"\"},\"colorscale\":[[0.0,\"#0d0887\"],[0.1111111111111111,\"#46039f\"],[0.2222222222222222,\"#7201a8\"],[0.3333333333333333,\"#9c179e\"],[0.4444444444444444,\"#bd3786\"],[0.5555555555555556,\"#d8576b\"],[0.6666666666666666,\"#ed7953\"],[0.7777777777777778,\"#fb9f3a\"],[0.8888888888888888,\"#fdca26\"],[1.0,\"#f0f921\"]],\"type\":\"heatmap\"}],\"heatmapgl\":[{\"colorbar\":{\"outlinewidth\":0,\"ticks\":\"\"},\"colorscale\":[[0.0,\"#0d0887\"],[0.1111111111111111,\"#46039f\"],[0.2222222222222222,\"#7201a8\"],[0.3333333333333333,\"#9c179e\"],[0.4444444444444444,\"#bd3786\"],[0.5555555555555556,\"#d8576b\"],[0.6666666666666666,\"#ed7953\"],[0.7777777777777778,\"#fb9f3a\"],[0.8888888888888888,\"#fdca26\"],[1.0,\"#f0f921\"]],\"type\":\"heatmapgl\"}],\"histogram\":[{\"marker\":{\"pattern\":{\"fillmode\":\"overlay\",\"size\":10,\"solidity\":0.2}},\"type\":\"histogram\"}],\"histogram2d\":[{\"colorbar\":{\"outlinewidth\":0,\"ticks\":\"\"},\"colorscale\":[[0.0,\"#0d0887\"],[0.1111111111111111,\"#46039f\"],[0.2222222222222222,\"#7201a8\"],[0.3333333333333333,\"#9c179e\"],[0.4444444444444444,\"#bd3786\"],[0.5555555555555556,\"#d8576b\"],[0.6666666666666666,\"#ed7953\"],[0.7777777777777778,\"#fb9f3a\"],[0.8888888888888888,\"#fdca26\"],[1.0,\"#f0f921\"]],\"type\":\"histogram2d\"}],\"histogram2dcontour\":[{\"colorbar\":{\"outlinewidth\":0,\"ticks\":\"\"},\"colorscale\":[[0.0,\"#0d0887\"],[0.1111111111111111,\"#46039f\"],[0.2222222222222222,\"#7201a8\"],[0.3333333333333333,\"#9c179e\"],[0.4444444444444444,\"#bd3786\"],[0.5555555555555556,\"#d8576b\"],[0.6666666666666666,\"#ed7953\"],[0.7777777777777778,\"#fb9f3a\"],[0.8888888888888888,\"#fdca26\"],[1.0,\"#f0f921\"]],\"type\":\"histogram2dcontour\"}],\"mesh3d\":[{\"colorbar\":{\"outlinewidth\":0,\"ticks\":\"\"},\"type\":\"mesh3d\"}],\"parcoords\":[{\"line\":{\"colorbar\":{\"outlinewidth\":0,\"ticks\":\"\"}},\"type\":\"parcoords\"}],\"pie\":[{\"automargin\":true,\"type\":\"pie\"}],\"scatter\":[{\"marker\":{\"colorbar\":{\"outlinewidth\":0,\"ticks\":\"\"}},\"type\":\"scatter\"}],\"scatter3d\":[{\"line\":{\"colorbar\":{\"outlinewidth\":0,\"ticks\":\"\"}},\"marker\":{\"colorbar\":{\"outlinewidth\":0,\"ticks\":\"\"}},\"type\":\"scatter3d\"}],\"scattercarpet\":[{\"marker\":{\"colorbar\":{\"outlinewidth\":0,\"ticks\":\"\"}},\"type\":\"scattercarpet\"}],\"scattergeo\":[{\"marker\":{\"colorbar\":{\"outlinewidth\":0,\"ticks\":\"\"}},\"type\":\"scattergeo\"}],\"scattergl\":[{\"marker\":{\"colorbar\":{\"outlinewidth\":0,\"ticks\":\"\"}},\"type\":\"scattergl\"}],\"scattermapbox\":[{\"marker\":{\"colorbar\":{\"outlinewidth\":0,\"ticks\":\"\"}},\"type\":\"scattermapbox\"}],\"scatterpolar\":[{\"marker\":{\"colorbar\":{\"outlinewidth\":0,\"ticks\":\"\"}},\"type\":\"scatterpolar\"}],\"scatterpolargl\":[{\"marker\":{\"colorbar\":{\"outlinewidth\":0,\"ticks\":\"\"}},\"type\":\"scatterpolargl\"}],\"scatterternary\":[{\"marker\":{\"colorbar\":{\"outlinewidth\":0,\"ticks\":\"\"}},\"type\":\"scatterternary\"}],\"surface\":[{\"colorbar\":{\"outlinewidth\":0,\"ticks\":\"\"},\"colorscale\":[[0.0,\"#0d0887\"],[0.1111111111111111,\"#46039f\"],[0.2222222222222222,\"#7201a8\"],[0.3333333333333333,\"#9c179e\"],[0.4444444444444444,\"#bd3786\"],[0.5555555555555556,\"#d8576b\"],[0.6666666666666666,\"#ed7953\"],[0.7777777777777778,\"#fb9f3a\"],[0.8888888888888888,\"#fdca26\"],[1.0,\"#f0f921\"]],\"type\":\"surface\"}],\"table\":[{\"cells\":{\"fill\":{\"color\":\"#EBF0F8\"},\"line\":{\"color\":\"white\"}},\"header\":{\"fill\":{\"color\":\"#C8D4E3\"},\"line\":{\"color\":\"white\"}},\"type\":\"table\"}]},\"layout\":{\"annotationdefaults\":{\"arrowcolor\":\"#2a3f5f\",\"arrowhead\":0,\"arrowwidth\":1},\"autotypenumbers\":\"strict\",\"coloraxis\":{\"colorbar\":{\"outlinewidth\":0,\"ticks\":\"\"}},\"colorscale\":{\"diverging\":[[0,\"#8e0152\"],[0.1,\"#c51b7d\"],[0.2,\"#de77ae\"],[0.3,\"#f1b6da\"],[0.4,\"#fde0ef\"],[0.5,\"#f7f7f7\"],[0.6,\"#e6f5d0\"],[0.7,\"#b8e186\"],[0.8,\"#7fbc41\"],[0.9,\"#4d9221\"],[1,\"#276419\"]],\"sequential\":[[0.0,\"#0d0887\"],[0.1111111111111111,\"#46039f\"],[0.2222222222222222,\"#7201a8\"],[0.3333333333333333,\"#9c179e\"],[0.4444444444444444,\"#bd3786\"],[0.5555555555555556,\"#d8576b\"],[0.6666666666666666,\"#ed7953\"],[0.7777777777777778,\"#fb9f3a\"],[0.8888888888888888,\"#fdca26\"],[1.0,\"#f0f921\"]],\"sequentialminus\":[[0.0,\"#0d0887\"],[0.1111111111111111,\"#46039f\"],[0.2222222222222222,\"#7201a8\"],[0.3333333333333333,\"#9c179e\"],[0.4444444444444444,\"#bd3786\"],[0.5555555555555556,\"#d8576b\"],[0.6666666666666666,\"#ed7953\"],[0.7777777777777778,\"#fb9f3a\"],[0.8888888888888888,\"#fdca26\"],[1.0,\"#f0f921\"]]},\"colorway\":[\"#636efa\",\"#EF553B\",\"#00cc96\",\"#ab63fa\",\"#FFA15A\",\"#19d3f3\",\"#FF6692\",\"#B6E880\",\"#FF97FF\",\"#FECB52\"],\"font\":{\"color\":\"#2a3f5f\"},\"geo\":{\"bgcolor\":\"white\",\"lakecolor\":\"white\",\"landcolor\":\"#E5ECF6\",\"showlakes\":true,\"showland\":true,\"subunitcolor\":\"white\"},\"hoverlabel\":{\"align\":\"left\"},\"hovermode\":\"closest\",\"mapbox\":{\"style\":\"light\"},\"paper_bgcolor\":\"white\",\"plot_bgcolor\":\"#E5ECF6\",\"polar\":{\"angularaxis\":{\"gridcolor\":\"white\",\"linecolor\":\"white\",\"ticks\":\"\"},\"bgcolor\":\"#E5ECF6\",\"radialaxis\":{\"gridcolor\":\"white\",\"linecolor\":\"white\",\"ticks\":\"\"}},\"scene\":{\"xaxis\":{\"backgroundcolor\":\"#E5ECF6\",\"gridcolor\":\"white\",\"gridwidth\":2,\"linecolor\":\"white\",\"showbackground\":true,\"ticks\":\"\",\"zerolinecolor\":\"white\"},\"yaxis\":{\"backgroundcolor\":\"#E5ECF6\",\"gridcolor\":\"white\",\"gridwidth\":2,\"linecolor\":\"white\",\"showbackground\":true,\"ticks\":\"\",\"zerolinecolor\":\"white\"},\"zaxis\":{\"backgroundcolor\":\"#E5ECF6\",\"gridcolor\":\"white\",\"gridwidth\":2,\"linecolor\":\"white\",\"showbackground\":true,\"ticks\":\"\",\"zerolinecolor\":\"white\"}},\"shapedefaults\":{\"line\":{\"color\":\"#2a3f5f\"}},\"ternary\":{\"aaxis\":{\"gridcolor\":\"white\",\"linecolor\":\"white\",\"ticks\":\"\"},\"baxis\":{\"gridcolor\":\"white\",\"linecolor\":\"white\",\"ticks\":\"\"},\"bgcolor\":\"#E5ECF6\",\"caxis\":{\"gridcolor\":\"white\",\"linecolor\":\"white\",\"ticks\":\"\"}},\"title\":{\"x\":0.05},\"xaxis\":{\"automargin\":true,\"gridcolor\":\"white\",\"linecolor\":\"white\",\"ticks\":\"\",\"title\":{\"standoff\":15},\"zerolinecolor\":\"white\",\"zerolinewidth\":2},\"yaxis\":{\"automargin\":true,\"gridcolor\":\"white\",\"linecolor\":\"white\",\"ticks\":\"\",\"title\":{\"standoff\":15},\"zerolinecolor\":\"white\",\"zerolinewidth\":2}}},\"xaxis\":{\"anchor\":\"y\",\"domain\":[0.0,1.0]},\"yaxis\":{\"anchor\":\"x\",\"domain\":[0.9888941398865789,1.0]},\"xaxis2\":{\"anchor\":\"y2\",\"domain\":[0.0,1.0]},\"yaxis2\":{\"anchor\":\"x2\",\"domain\":[0.9669187145557661,0.9780245746691876]},\"xaxis3\":{\"anchor\":\"y3\",\"domain\":[0.0,1.0]},\"yaxis3\":{\"anchor\":\"x3\",\"domain\":[0.9449432892249531,0.9560491493383746]},\"xaxis4\":{\"anchor\":\"y4\",\"domain\":[0.0,1.0]},\"yaxis4\":{\"anchor\":\"x4\",\"domain\":[0.9229678638941402,0.9340737240075617]},\"xaxis5\":{\"anchor\":\"y5\",\"domain\":[0.0,1.0]},\"yaxis5\":{\"anchor\":\"x5\",\"domain\":[0.9009924385633273,0.9120982986767489]},\"xaxis6\":{\"anchor\":\"y6\",\"domain\":[0.0,1.0]},\"yaxis6\":{\"anchor\":\"x6\",\"domain\":[0.8790170132325145,0.890122873345936]},\"xaxis7\":{\"anchor\":\"y7\",\"domain\":[0.0,1.0]},\"yaxis7\":{\"anchor\":\"x7\",\"domain\":[0.8570415879017016,0.8681474480151231]},\"xaxis8\":{\"anchor\":\"y8\",\"domain\":[0.0,1.0]},\"yaxis8\":{\"anchor\":\"x8\",\"domain\":[0.8350661625708887,0.8461720226843102]},\"xaxis9\":{\"anchor\":\"y9\",\"domain\":[0.0,1.0]},\"yaxis9\":{\"anchor\":\"x9\",\"domain\":[0.8130907372400759,0.8241965973534974]},\"xaxis10\":{\"anchor\":\"y10\",\"domain\":[0.0,1.0]},\"yaxis10\":{\"anchor\":\"x10\",\"domain\":[0.7911153119092629,0.8022211720226844]},\"xaxis11\":{\"anchor\":\"y11\",\"domain\":[0.0,1.0]},\"yaxis11\":{\"anchor\":\"x11\",\"domain\":[0.76913988657845,0.7802457466918715]},\"xaxis12\":{\"anchor\":\"y12\",\"domain\":[0.0,1.0]},\"yaxis12\":{\"anchor\":\"x12\",\"domain\":[0.7471644612476371,0.7582703213610587]},\"xaxis13\":{\"anchor\":\"y13\",\"domain\":[0.0,1.0]},\"yaxis13\":{\"anchor\":\"x13\",\"domain\":[0.7251890359168243,0.7362948960302458]},\"xaxis14\":{\"anchor\":\"y14\",\"domain\":[0.0,1.0]},\"yaxis14\":{\"anchor\":\"x14\",\"domain\":[0.7032136105860114,0.7143194706994329]},\"xaxis15\":{\"anchor\":\"y15\",\"domain\":[0.0,1.0]},\"yaxis15\":{\"anchor\":\"x15\",\"domain\":[0.6812381852551985,0.69234404536862]},\"xaxis16\":{\"anchor\":\"y16\",\"domain\":[0.0,1.0]},\"yaxis16\":{\"anchor\":\"x16\",\"domain\":[0.6592627599243857,0.6703686200378072]},\"xaxis17\":{\"anchor\":\"y17\",\"domain\":[0.0,1.0]},\"yaxis17\":{\"anchor\":\"x17\",\"domain\":[0.6372873345935728,0.6483931947069943]},\"xaxis18\":{\"anchor\":\"y18\",\"domain\":[0.0,1.0]},\"yaxis18\":{\"anchor\":\"x18\",\"domain\":[0.6153119092627599,0.6264177693761814]},\"xaxis19\":{\"anchor\":\"y19\",\"domain\":[0.0,1.0]},\"yaxis19\":{\"anchor\":\"x19\",\"domain\":[0.593336483931947,0.6044423440453686]},\"xaxis20\":{\"anchor\":\"y20\",\"domain\":[0.0,1.0]},\"yaxis20\":{\"anchor\":\"x20\",\"domain\":[0.5713610586011342,0.5824669187145557]},\"xaxis21\":{\"anchor\":\"y21\",\"domain\":[0.0,1.0]},\"yaxis21\":{\"anchor\":\"x21\",\"domain\":[0.5493856332703213,0.5604914933837428]},\"xaxis22\":{\"anchor\":\"y22\",\"domain\":[0.0,1.0]},\"yaxis22\":{\"anchor\":\"x22\",\"domain\":[0.5274102079395084,0.53851606805293]},\"xaxis23\":{\"anchor\":\"y23\",\"domain\":[0.0,1.0]},\"yaxis23\":{\"anchor\":\"x23\",\"domain\":[0.5054347826086956,0.5165406427221171]},\"xaxis24\":{\"anchor\":\"y24\",\"domain\":[0.0,1.0]},\"yaxis24\":{\"anchor\":\"x24\",\"domain\":[0.4834593572778827,0.49456521739130427]},\"xaxis25\":{\"anchor\":\"y25\",\"domain\":[0.0,1.0]},\"yaxis25\":{\"anchor\":\"x25\",\"domain\":[0.4614839319470698,0.4725897920604914]},\"xaxis26\":{\"anchor\":\"y26\",\"domain\":[0.0,1.0]},\"yaxis26\":{\"anchor\":\"x26\",\"domain\":[0.439508506616257,0.4506143667296786]},\"xaxis27\":{\"anchor\":\"y27\",\"domain\":[0.0,1.0]},\"yaxis27\":{\"anchor\":\"x27\",\"domain\":[0.4175330812854442,0.42863894139886577]},\"xaxis28\":{\"anchor\":\"y28\",\"domain\":[0.0,1.0]},\"yaxis28\":{\"anchor\":\"x28\",\"domain\":[0.3955576559546313,0.4066635160680529]},\"xaxis29\":{\"anchor\":\"y29\",\"domain\":[0.0,1.0]},\"yaxis29\":{\"anchor\":\"x29\",\"domain\":[0.37358223062381846,0.38468809073724003]},\"xaxis30\":{\"anchor\":\"y30\",\"domain\":[0.0,1.0]},\"yaxis30\":{\"anchor\":\"x30\",\"domain\":[0.3516068052930056,0.36271266540642716]},\"xaxis31\":{\"anchor\":\"y31\",\"domain\":[0.0,1.0]},\"yaxis31\":{\"anchor\":\"x31\",\"domain\":[0.32963137996219277,0.34073724007561434]},\"xaxis32\":{\"anchor\":\"y32\",\"domain\":[0.0,1.0]},\"yaxis32\":{\"anchor\":\"x32\",\"domain\":[0.30765595463137996,0.31876181474480153]},\"xaxis33\":{\"anchor\":\"y33\",\"domain\":[0.0,1.0]},\"yaxis33\":{\"anchor\":\"x33\",\"domain\":[0.2856805293005671,0.29678638941398866]},\"xaxis34\":{\"anchor\":\"y34\",\"domain\":[0.0,1.0]},\"yaxis34\":{\"anchor\":\"x34\",\"domain\":[0.2637051039697542,0.2748109640831758]},\"xaxis35\":{\"anchor\":\"y35\",\"domain\":[0.0,1.0]},\"yaxis35\":{\"anchor\":\"x35\",\"domain\":[0.24172967863894138,0.2528355387523629]},\"xaxis36\":{\"anchor\":\"y36\",\"domain\":[0.0,1.0]},\"yaxis36\":{\"anchor\":\"x36\",\"domain\":[0.21975425330812853,0.23086011342155008]},\"xaxis37\":{\"anchor\":\"y37\",\"domain\":[0.0,1.0]},\"yaxis37\":{\"anchor\":\"x37\",\"domain\":[0.19777882797731566,0.2088846880907372]},\"xaxis38\":{\"anchor\":\"y38\",\"domain\":[0.0,1.0]},\"yaxis38\":{\"anchor\":\"x38\",\"domain\":[0.17580340264650282,0.18690926275992437]},\"xaxis39\":{\"anchor\":\"y39\",\"domain\":[0.0,1.0]},\"yaxis39\":{\"anchor\":\"x39\",\"domain\":[0.15382797731568998,0.16493383742911152]},\"xaxis40\":{\"anchor\":\"y40\",\"domain\":[0.0,1.0]},\"yaxis40\":{\"anchor\":\"x40\",\"domain\":[0.1318525519848771,0.14295841209829865]},\"xaxis41\":{\"anchor\":\"y41\",\"domain\":[0.0,1.0]},\"yaxis41\":{\"anchor\":\"x41\",\"domain\":[0.10987712665406427,0.12098298676748581]},\"xaxis42\":{\"anchor\":\"y42\",\"domain\":[0.0,1.0]},\"yaxis42\":{\"anchor\":\"x42\",\"domain\":[0.08790170132325142,0.09900756143667297]},\"xaxis43\":{\"anchor\":\"y43\",\"domain\":[0.0,1.0]},\"yaxis43\":{\"anchor\":\"x43\",\"domain\":[0.06592627599243855,0.0770321361058601]},\"xaxis44\":{\"anchor\":\"y44\",\"domain\":[0.0,1.0]},\"yaxis44\":{\"anchor\":\"x44\",\"domain\":[0.04395085066162571,0.055056710775047264]},\"xaxis45\":{\"anchor\":\"y45\",\"domain\":[0.0,1.0]},\"yaxis45\":{\"anchor\":\"x45\",\"domain\":[0.021975425330812856,0.03308128544423441]},\"xaxis46\":{\"anchor\":\"y46\",\"domain\":[0.0,1.0]},\"yaxis46\":{\"anchor\":\"x46\",\"domain\":[0.0,0.01110586011342155]},\"annotations\":[{\"font\":{\"size\":16},\"showarrow\":false,\"text\":\"220110n_0003.tif\",\"x\":0.5,\"xanchor\":\"center\",\"xref\":\"paper\",\"y\":1.0000000000000004,\"yanchor\":\"bottom\",\"yref\":\"paper\"},{\"font\":{\"size\":16},\"showarrow\":false,\"text\":\"220110n_0005.tif\",\"x\":0.5,\"xanchor\":\"center\",\"xref\":\"paper\",\"y\":0.9780245746691876,\"yanchor\":\"bottom\",\"yref\":\"paper\"},{\"font\":{\"size\":16},\"showarrow\":false,\"text\":\"220110n_0009.tif\",\"x\":0.5,\"xanchor\":\"center\",\"xref\":\"paper\",\"y\":0.9560491493383746,\"yanchor\":\"bottom\",\"yref\":\"paper\"},{\"font\":{\"size\":16},\"showarrow\":false,\"text\":\"220110n_0010.tif\",\"x\":0.5,\"xanchor\":\"center\",\"xref\":\"paper\",\"y\":0.9340737240075617,\"yanchor\":\"bottom\",\"yref\":\"paper\"},{\"font\":{\"size\":16},\"showarrow\":false,\"text\":\"220110n_0014.tif\",\"x\":0.5,\"xanchor\":\"center\",\"xref\":\"paper\",\"y\":0.9120982986767489,\"yanchor\":\"bottom\",\"yref\":\"paper\"},{\"font\":{\"size\":16},\"showarrow\":false,\"text\":\"220110n_0017.tif\",\"x\":0.5,\"xanchor\":\"center\",\"xref\":\"paper\",\"y\":0.890122873345936,\"yanchor\":\"bottom\",\"yref\":\"paper\"},{\"font\":{\"size\":16},\"showarrow\":false,\"text\":\"220110n_0020.tif\",\"x\":0.5,\"xanchor\":\"center\",\"xref\":\"paper\",\"y\":0.8681474480151231,\"yanchor\":\"bottom\",\"yref\":\"paper\"},{\"font\":{\"size\":16},\"showarrow\":false,\"text\":\"220110n_0021.tif\",\"x\":0.5,\"xanchor\":\"center\",\"xref\":\"paper\",\"y\":0.8461720226843102,\"yanchor\":\"bottom\",\"yref\":\"paper\"},{\"font\":{\"size\":16},\"showarrow\":false,\"text\":\"220110n_0022.tif\",\"x\":0.5,\"xanchor\":\"center\",\"xref\":\"paper\",\"y\":0.8241965973534974,\"yanchor\":\"bottom\",\"yref\":\"paper\"},{\"font\":{\"size\":16},\"showarrow\":false,\"text\":\"220110n_0023.tif\",\"x\":0.5,\"xanchor\":\"center\",\"xref\":\"paper\",\"y\":0.8022211720226844,\"yanchor\":\"bottom\",\"yref\":\"paper\"},{\"font\":{\"size\":16},\"showarrow\":false,\"text\":\"220110n_0024.tif\",\"x\":0.5,\"xanchor\":\"center\",\"xref\":\"paper\",\"y\":0.7802457466918715,\"yanchor\":\"bottom\",\"yref\":\"paper\"},{\"font\":{\"size\":16},\"showarrow\":false,\"text\":\"220110n_0025.tif\",\"x\":0.5,\"xanchor\":\"center\",\"xref\":\"paper\",\"y\":0.7582703213610587,\"yanchor\":\"bottom\",\"yref\":\"paper\"},{\"font\":{\"size\":16},\"showarrow\":false,\"text\":\"220110n_0030.tif\",\"x\":0.5,\"xanchor\":\"center\",\"xref\":\"paper\",\"y\":0.7362948960302458,\"yanchor\":\"bottom\",\"yref\":\"paper\"},{\"font\":{\"size\":16},\"showarrow\":false,\"text\":\"220110n_0032.tif\",\"x\":0.5,\"xanchor\":\"center\",\"xref\":\"paper\",\"y\":0.7143194706994329,\"yanchor\":\"bottom\",\"yref\":\"paper\"},{\"font\":{\"size\":16},\"showarrow\":false,\"text\":\"220110n_0035.tif\",\"x\":0.5,\"xanchor\":\"center\",\"xref\":\"paper\",\"y\":0.69234404536862,\"yanchor\":\"bottom\",\"yref\":\"paper\"},{\"font\":{\"size\":16},\"showarrow\":false,\"text\":\"220110n_0036.tif\",\"x\":0.5,\"xanchor\":\"center\",\"xref\":\"paper\",\"y\":0.6703686200378072,\"yanchor\":\"bottom\",\"yref\":\"paper\"},{\"font\":{\"size\":16},\"showarrow\":false,\"text\":\"220110n_0037.tif\",\"x\":0.5,\"xanchor\":\"center\",\"xref\":\"paper\",\"y\":0.6483931947069943,\"yanchor\":\"bottom\",\"yref\":\"paper\"},{\"font\":{\"size\":16},\"showarrow\":false,\"text\":\"220110n_0049.tif\",\"x\":0.5,\"xanchor\":\"center\",\"xref\":\"paper\",\"y\":0.6264177693761814,\"yanchor\":\"bottom\",\"yref\":\"paper\"},{\"font\":{\"size\":16},\"showarrow\":false,\"text\":\"220110n_0052.tif\",\"x\":0.5,\"xanchor\":\"center\",\"xref\":\"paper\",\"y\":0.6044423440453686,\"yanchor\":\"bottom\",\"yref\":\"paper\"},{\"font\":{\"size\":16},\"showarrow\":false,\"text\":\"220110n_0055.tif\",\"x\":0.5,\"xanchor\":\"center\",\"xref\":\"paper\",\"y\":0.5824669187145557,\"yanchor\":\"bottom\",\"yref\":\"paper\"},{\"font\":{\"size\":16},\"showarrow\":false,\"text\":\"220110n_0060.tif\",\"x\":0.5,\"xanchor\":\"center\",\"xref\":\"paper\",\"y\":0.5604914933837428,\"yanchor\":\"bottom\",\"yref\":\"paper\"},{\"font\":{\"size\":16},\"showarrow\":false,\"text\":\"220110n_0064.tif\",\"x\":0.5,\"xanchor\":\"center\",\"xref\":\"paper\",\"y\":0.53851606805293,\"yanchor\":\"bottom\",\"yref\":\"paper\"},{\"font\":{\"size\":16},\"showarrow\":false,\"text\":\"220110n_0067.tif\",\"x\":0.5,\"xanchor\":\"center\",\"xref\":\"paper\",\"y\":0.5165406427221171,\"yanchor\":\"bottom\",\"yref\":\"paper\"},{\"font\":{\"size\":16},\"showarrow\":false,\"text\":\"220110n_0068.tif\",\"x\":0.5,\"xanchor\":\"center\",\"xref\":\"paper\",\"y\":0.49456521739130427,\"yanchor\":\"bottom\",\"yref\":\"paper\"},{\"font\":{\"size\":16},\"showarrow\":false,\"text\":\"220110n_0072.tif\",\"x\":0.5,\"xanchor\":\"center\",\"xref\":\"paper\",\"y\":0.4725897920604914,\"yanchor\":\"bottom\",\"yref\":\"paper\"},{\"font\":{\"size\":16},\"showarrow\":false,\"text\":\"220110n_0073.tif\",\"x\":0.5,\"xanchor\":\"center\",\"xref\":\"paper\",\"y\":0.4506143667296786,\"yanchor\":\"bottom\",\"yref\":\"paper\"},{\"font\":{\"size\":16},\"showarrow\":false,\"text\":\"220110n_0077.tif\",\"x\":0.5,\"xanchor\":\"center\",\"xref\":\"paper\",\"y\":0.42863894139886577,\"yanchor\":\"bottom\",\"yref\":\"paper\"},{\"font\":{\"size\":16},\"showarrow\":false,\"text\":\"220110n_0078.tif\",\"x\":0.5,\"xanchor\":\"center\",\"xref\":\"paper\",\"y\":0.4066635160680529,\"yanchor\":\"bottom\",\"yref\":\"paper\"},{\"font\":{\"size\":16},\"showarrow\":false,\"text\":\"220110n_0080.tif\",\"x\":0.5,\"xanchor\":\"center\",\"xref\":\"paper\",\"y\":0.38468809073724003,\"yanchor\":\"bottom\",\"yref\":\"paper\"},{\"font\":{\"size\":16},\"showarrow\":false,\"text\":\"220110n_0082.tif\",\"x\":0.5,\"xanchor\":\"center\",\"xref\":\"paper\",\"y\":0.36271266540642716,\"yanchor\":\"bottom\",\"yref\":\"paper\"},{\"font\":{\"size\":16},\"showarrow\":false,\"text\":\"220110n_0083.tif\",\"x\":0.5,\"xanchor\":\"center\",\"xref\":\"paper\",\"y\":0.34073724007561434,\"yanchor\":\"bottom\",\"yref\":\"paper\"},{\"font\":{\"size\":16},\"showarrow\":false,\"text\":\"2.5Hz_ctrl_0005.tif\",\"x\":0.5,\"xanchor\":\"center\",\"xref\":\"paper\",\"y\":0.31876181474480153,\"yanchor\":\"bottom\",\"yref\":\"paper\"},{\"font\":{\"size\":16},\"showarrow\":false,\"text\":\"2.5Hz_ctrl_0009.tif\",\"x\":0.5,\"xanchor\":\"center\",\"xref\":\"paper\",\"y\":0.29678638941398866,\"yanchor\":\"bottom\",\"yref\":\"paper\"},{\"font\":{\"size\":16},\"showarrow\":false,\"text\":\"2.5Hz_ctrl_0012.tif\",\"x\":0.5,\"xanchor\":\"center\",\"xref\":\"paper\",\"y\":0.2748109640831758,\"yanchor\":\"bottom\",\"yref\":\"paper\"},{\"font\":{\"size\":16},\"showarrow\":false,\"text\":\"2.5Hz_ctrl_0017.tif\",\"x\":0.5,\"xanchor\":\"center\",\"xref\":\"paper\",\"y\":0.2528355387523629,\"yanchor\":\"bottom\",\"yref\":\"paper\"},{\"font\":{\"size\":16},\"showarrow\":false,\"text\":\"2.5Hz_ctrl_0028.tif\",\"x\":0.5,\"xanchor\":\"center\",\"xref\":\"paper\",\"y\":0.23086011342155008,\"yanchor\":\"bottom\",\"yref\":\"paper\"},{\"font\":{\"size\":16},\"showarrow\":false,\"text\":\"2.5Hz_thapsi_0024.tif\",\"x\":0.5,\"xanchor\":\"center\",\"xref\":\"paper\",\"y\":0.2088846880907372,\"yanchor\":\"bottom\",\"yref\":\"paper\"},{\"font\":{\"size\":16},\"showarrow\":false,\"text\":\"cell.tif\",\"x\":0.5,\"xanchor\":\"center\",\"xref\":\"paper\",\"y\":0.18690926275992437,\"yanchor\":\"bottom\",\"yref\":\"paper\"},{\"font\":{\"size\":16},\"showarrow\":false,\"text\":\"control 2.5_0012.tif\",\"x\":0.5,\"xanchor\":\"center\",\"xref\":\"paper\",\"y\":0.16493383742911152,\"yanchor\":\"bottom\",\"yref\":\"paper\"},{\"font\":{\"size\":16},\"showarrow\":false,\"text\":\"control 2.5_0013.tif\",\"x\":0.5,\"xanchor\":\"center\",\"xref\":\"paper\",\"y\":0.14295841209829865,\"yanchor\":\"bottom\",\"yref\":\"paper\"},{\"font\":{\"size\":16},\"showarrow\":false,\"text\":\"control 2.5_0014.tif\",\"x\":0.5,\"xanchor\":\"center\",\"xref\":\"paper\",\"y\":0.12098298676748581,\"yanchor\":\"bottom\",\"yref\":\"paper\"},{\"font\":{\"size\":16},\"showarrow\":false,\"text\":\"control 2.5_0022.tif\",\"x\":0.5,\"xanchor\":\"center\",\"xref\":\"paper\",\"y\":0.09900756143667297,\"yanchor\":\"bottom\",\"yref\":\"paper\"},{\"font\":{\"size\":16},\"showarrow\":false,\"text\":\"thapsi 2.5_0008.tif\",\"x\":0.5,\"xanchor\":\"center\",\"xref\":\"paper\",\"y\":0.0770321361058601,\"yanchor\":\"bottom\",\"yref\":\"paper\"},{\"font\":{\"size\":16},\"showarrow\":false,\"text\":\"thapsi 2.5_0017.tif\",\"x\":0.5,\"xanchor\":\"center\",\"xref\":\"paper\",\"y\":0.055056710775047264,\"yanchor\":\"bottom\",\"yref\":\"paper\"},{\"font\":{\"size\":16},\"showarrow\":false,\"text\":\"thapsi 2.5_0033.tif\",\"x\":0.5,\"xanchor\":\"center\",\"xref\":\"paper\",\"y\":0.03308128544423441,\"yanchor\":\"bottom\",\"yref\":\"paper\"},{\"font\":{\"size\":16},\"showarrow\":false,\"text\":\"thapsi 2.5_0047.tif\",\"x\":0.5,\"xanchor\":\"center\",\"xref\":\"paper\",\"y\":0.01110586011342155,\"yanchor\":\"bottom\",\"yref\":\"paper\"}],\"title\":{\"text\":\"Subplot for Each File's peakVal\"},\"height\":7500,\"width\":700,\"showlegend\":false,\"colorway\":[\"rgb(229, 134, 6)\",\"rgb(93, 105, 177)\",\"rgb(82, 188, 163)\",\"rgb(153, 201, 69)\",\"rgb(204, 97, 176)\",\"rgb(36, 121, 108)\",\"rgb(218, 165, 27)\",\"rgb(47, 138, 196)\",\"rgb(118, 78, 159)\",\"rgb(237, 100, 90)\",\"rgb(165, 170, 153)\"]},                        {\"responsive\": true}                    ).then(function(){\n",
       "                            \n",
       "var gd = document.getElementById('bc6e2dc9-2752-4dbc-8ced-85ee2c69d683');\n",
       "var x = new MutationObserver(function (mutations, observer) {{\n",
       "        var display = window.getComputedStyle(gd).display;\n",
       "        if (!display || display === 'none') {{\n",
       "            console.log([gd, 'removed!']);\n",
       "            Plotly.purge(gd);\n",
       "            observer.disconnect();\n",
       "        }}\n",
       "}});\n",
       "\n",
       "// Listen for the removal of the full notebook cells\n",
       "var notebookContainer = gd.closest('#notebook-container');\n",
       "if (notebookContainer) {{\n",
       "    x.observe(notebookContainer, {childList: true});\n",
       "}}\n",
       "\n",
       "// Listen for the clearing of the current output cell\n",
       "var outputEl = gd.closest('.output');\n",
       "if (outputEl) {{\n",
       "    x.observe(outputEl, {childList: true});\n",
       "}}\n",
       "\n",
       "                        })                };                });            </script>        </div>"
      ]
     },
     "metadata": {},
     "output_type": "display_data"
    },
    {
     "data": {
      "text/html": [
       "<div>\n",
       "<style scoped>\n",
       "    .dataframe tbody tr th:only-of-type {\n",
       "        vertical-align: middle;\n",
       "    }\n",
       "\n",
       "    .dataframe tbody tr th {\n",
       "        vertical-align: top;\n",
       "    }\n",
       "\n",
       "    .dataframe thead th {\n",
       "        text-align: right;\n",
       "    }\n",
       "</style>\n",
       "<table border=\"1\" class=\"dataframe\">\n",
       "  <thead>\n",
       "    <tr style=\"text-align: right;\">\n",
       "      <th></th>\n",
       "      <th>analysisVersion</th>\n",
       "      <th>interfaceVersion</th>\n",
       "      <th>file</th>\n",
       "      <th>detectionType</th>\n",
       "      <th>cellType</th>\n",
       "      <th>sex</th>\n",
       "      <th>condition</th>\n",
       "      <th>sweep</th>\n",
       "      <th>sweepSpikeNumber</th>\n",
       "      <th>spikeNumber</th>\n",
       "      <th>...</th>\n",
       "      <th>diastolicDuration_ms</th>\n",
       "      <th>widths</th>\n",
       "      <th>widths_10</th>\n",
       "      <th>widths_20</th>\n",
       "      <th>widths_50</th>\n",
       "      <th>widths_80</th>\n",
       "      <th>widths_90</th>\n",
       "      <th>myDateStr</th>\n",
       "      <th>fileIdx</th>\n",
       "      <th>myFileIdx</th>\n",
       "    </tr>\n",
       "  </thead>\n",
       "  <tbody>\n",
       "    <tr>\n",
       "      <th>395</th>\n",
       "      <td>20210803a</td>\n",
       "      <td>20210803a</td>\n",
       "      <td>thapsi 2.5_0047.tif</td>\n",
       "      <td>mv</td>\n",
       "      <td>NaN</td>\n",
       "      <td>NaN</td>\n",
       "      <td>TG</td>\n",
       "      <td>0</td>\n",
       "      <td>0</td>\n",
       "      <td>0</td>\n",
       "      <td>...</td>\n",
       "      <td>51.535</td>\n",
       "      <td>[{'halfHeight': 10, 'risingPnt': 169, 'falling...</td>\n",
       "      <td>688.695</td>\n",
       "      <td>627.790</td>\n",
       "      <td>505.980</td>\n",
       "      <td>187.400</td>\n",
       "      <td>182.715</td>\n",
       "      <td>feb-15-2022</td>\n",
       "      <td>8</td>\n",
       "      <td>2</td>\n",
       "    </tr>\n",
       "    <tr>\n",
       "      <th>396</th>\n",
       "      <td>20210803a</td>\n",
       "      <td>20210803a</td>\n",
       "      <td>thapsi 2.5_0047.tif</td>\n",
       "      <td>mv</td>\n",
       "      <td>NaN</td>\n",
       "      <td>NaN</td>\n",
       "      <td>TG</td>\n",
       "      <td>0</td>\n",
       "      <td>1</td>\n",
       "      <td>1</td>\n",
       "      <td>...</td>\n",
       "      <td>18.740</td>\n",
       "      <td>[{'halfHeight': 10, 'risingPnt': 346, 'falling...</td>\n",
       "      <td>773.025</td>\n",
       "      <td>726.175</td>\n",
       "      <td>580.940</td>\n",
       "      <td>281.100</td>\n",
       "      <td>79.645</td>\n",
       "      <td>feb-15-2022</td>\n",
       "      <td>8</td>\n",
       "      <td>2</td>\n",
       "    </tr>\n",
       "    <tr>\n",
       "      <th>397</th>\n",
       "      <td>20210803a</td>\n",
       "      <td>20210803a</td>\n",
       "      <td>thapsi 2.5_0047.tif</td>\n",
       "      <td>mv</td>\n",
       "      <td>NaN</td>\n",
       "      <td>NaN</td>\n",
       "      <td>TG</td>\n",
       "      <td>0</td>\n",
       "      <td>2</td>\n",
       "      <td>2</td>\n",
       "      <td>...</td>\n",
       "      <td>79.645</td>\n",
       "      <td>[{'halfHeight': 10, 'risingPnt': 541, 'falling...</td>\n",
       "      <td>754.285</td>\n",
       "      <td>716.805</td>\n",
       "      <td>557.515</td>\n",
       "      <td>248.305</td>\n",
       "      <td>182.715</td>\n",
       "      <td>feb-15-2022</td>\n",
       "      <td>8</td>\n",
       "      <td>2</td>\n",
       "    </tr>\n",
       "    <tr>\n",
       "      <th>398</th>\n",
       "      <td>20210803a</td>\n",
       "      <td>20210803a</td>\n",
       "      <td>thapsi 2.5_0047.tif</td>\n",
       "      <td>mv</td>\n",
       "      <td>NaN</td>\n",
       "      <td>NaN</td>\n",
       "      <td>TG</td>\n",
       "      <td>0</td>\n",
       "      <td>3</td>\n",
       "      <td>3</td>\n",
       "      <td>...</td>\n",
       "      <td>28.110</td>\n",
       "      <td>[{'halfHeight': 10, 'risingPnt': 720, 'falling...</td>\n",
       "      <td>482.555</td>\n",
       "      <td>454.445</td>\n",
       "      <td>351.375</td>\n",
       "      <td>154.605</td>\n",
       "      <td>84.330</td>\n",
       "      <td>feb-15-2022</td>\n",
       "      <td>8</td>\n",
       "      <td>2</td>\n",
       "    </tr>\n",
       "    <tr>\n",
       "      <th>399</th>\n",
       "      <td>20210803a</td>\n",
       "      <td>20210803a</td>\n",
       "      <td>thapsi 2.5_0047.tif</td>\n",
       "      <td>mv</td>\n",
       "      <td>NaN</td>\n",
       "      <td>NaN</td>\n",
       "      <td>TG</td>\n",
       "      <td>0</td>\n",
       "      <td>4</td>\n",
       "      <td>4</td>\n",
       "      <td>...</td>\n",
       "      <td>28.110</td>\n",
       "      <td>[{'halfHeight': 10, 'risingPnt': 843, 'falling...</td>\n",
       "      <td>571.570</td>\n",
       "      <td>562.200</td>\n",
       "      <td>487.240</td>\n",
       "      <td>337.320</td>\n",
       "      <td>229.565</td>\n",
       "      <td>feb-15-2022</td>\n",
       "      <td>8</td>\n",
       "      <td>2</td>\n",
       "    </tr>\n",
       "  </tbody>\n",
       "</table>\n",
       "<p>5 rows × 57 columns</p>\n",
       "</div>"
      ],
      "text/plain": [
       "    analysisVersion interfaceVersion                 file detectionType  \\\n",
       "395       20210803a        20210803a  thapsi 2.5_0047.tif            mv   \n",
       "396       20210803a        20210803a  thapsi 2.5_0047.tif            mv   \n",
       "397       20210803a        20210803a  thapsi 2.5_0047.tif            mv   \n",
       "398       20210803a        20210803a  thapsi 2.5_0047.tif            mv   \n",
       "399       20210803a        20210803a  thapsi 2.5_0047.tif            mv   \n",
       "\n",
       "     cellType  sex condition  sweep  sweepSpikeNumber  spikeNumber  ...  \\\n",
       "395       NaN  NaN        TG      0                 0            0  ...   \n",
       "396       NaN  NaN        TG      0                 1            1  ...   \n",
       "397       NaN  NaN        TG      0                 2            2  ...   \n",
       "398       NaN  NaN        TG      0                 3            3  ...   \n",
       "399       NaN  NaN        TG      0                 4            4  ...   \n",
       "\n",
       "     diastolicDuration_ms                                             widths  \\\n",
       "395                51.535  [{'halfHeight': 10, 'risingPnt': 169, 'falling...   \n",
       "396                18.740  [{'halfHeight': 10, 'risingPnt': 346, 'falling...   \n",
       "397                79.645  [{'halfHeight': 10, 'risingPnt': 541, 'falling...   \n",
       "398                28.110  [{'halfHeight': 10, 'risingPnt': 720, 'falling...   \n",
       "399                28.110  [{'halfHeight': 10, 'risingPnt': 843, 'falling...   \n",
       "\n",
       "    widths_10  widths_20  widths_50  widths_80 widths_90    myDateStr  \\\n",
       "395   688.695    627.790    505.980    187.400   182.715  feb-15-2022   \n",
       "396   773.025    726.175    580.940    281.100    79.645  feb-15-2022   \n",
       "397   754.285    716.805    557.515    248.305   182.715  feb-15-2022   \n",
       "398   482.555    454.445    351.375    154.605    84.330  feb-15-2022   \n",
       "399   571.570    562.200    487.240    337.320   229.565  feb-15-2022   \n",
       "\n",
       "     fileIdx  myFileIdx  \n",
       "395        8          2  \n",
       "396        8          2  \n",
       "397        8          2  \n",
       "398        8          2  \n",
       "399        8          2  \n",
       "\n",
       "[5 rows x 57 columns]"
      ]
     },
     "metadata": {},
     "output_type": "display_data"
    },
    {
     "data": {
      "application/javascript": [
       "\n",
       "            setTimeout(function() {\n",
       "                var nbb_cell_id = 79;\n",
       "                var nbb_unformatted_code = \"filenames = dfMaster.file.unique()\\nfig = make_subplots(\\n    rows=len(filenames), cols=1, subplot_titles=filenames\\n)  # Two columns creates staggering problems with plots\\n\\nfor index, file in enumerate(dfMaster.file.unique()):\\n    dfFile = dfMaster.loc[dfMaster[\\\"file\\\"] == file]\\n    subset = dfFile[\\\"peakVal\\\"]\\n    plotdf = pd.DataFrame({\\\"subset\\\": subset}).reset_index(drop=True)\\n\\n    # KDE\\n    subset = subset.to_numpy().reshape(-1, 1)\\n\\n    # Picking different bandwidth values, 0.01 -0.025 seems to yield meaningful results\\n    kde = KernelDensity(kernel=\\\"gaussian\\\", bandwidth=0.02).fit(subset)\\n    log_dens = np.array(np.exp(kde.score_samples(subset))).reshape(-1, 1)\\n    plotdf[\\\"log_dens\\\"] = log_dens\\n    plotdf = plotdf.sort_values(by=[\\\"subset\\\"])\\n\\n    fig.append_trace(\\n        go.Histogram(\\n            x=plotdf[\\\"subset\\\"],\\n            histnorm=\\\"probability density\\\",\\n            name=dfFile.condition.unique()[0],\\n        ),\\n        row=index + 1,\\n        col=1,\\n    )\\n    fig.append_trace(\\n        go.Scatter(\\n            x=plotdf[\\\"subset\\\"], y=plotdf[\\\"log_dens\\\"], mode=\\\"lines\\\", name=\\\"Gaussian KDE\\\"\\n        ),\\n        row=index + 1,\\n        col=1,\\n    )\\n\\n\\nfig.update_layout(\\n    height=7500,\\n    width=700,\\n    showlegend=False,\\n    colorway=px.colors.qualitative.Vivid,\\n    title_text=\\\"Subplot for Each File's peakVal\\\",\\n)\\nfig.show()\\ndisplay(dfFile)\";\n",
       "                var nbb_formatted_code = \"filenames = dfMaster.file.unique()\\nfig = make_subplots(\\n    rows=len(filenames), cols=1, subplot_titles=filenames\\n)  # Two columns creates staggering problems with plots\\n\\nfor index, file in enumerate(dfMaster.file.unique()):\\n    dfFile = dfMaster.loc[dfMaster[\\\"file\\\"] == file]\\n    subset = dfFile[\\\"peakVal\\\"]\\n    plotdf = pd.DataFrame({\\\"subset\\\": subset}).reset_index(drop=True)\\n\\n    # KDE\\n    subset = subset.to_numpy().reshape(-1, 1)\\n\\n    # Picking different bandwidth values, 0.01 -0.025 seems to yield meaningful results\\n    kde = KernelDensity(kernel=\\\"gaussian\\\", bandwidth=0.02).fit(subset)\\n    log_dens = np.array(np.exp(kde.score_samples(subset))).reshape(-1, 1)\\n    plotdf[\\\"log_dens\\\"] = log_dens\\n    plotdf = plotdf.sort_values(by=[\\\"subset\\\"])\\n\\n    fig.append_trace(\\n        go.Histogram(\\n            x=plotdf[\\\"subset\\\"],\\n            histnorm=\\\"probability density\\\",\\n            name=dfFile.condition.unique()[0],\\n        ),\\n        row=index + 1,\\n        col=1,\\n    )\\n    fig.append_trace(\\n        go.Scatter(\\n            x=plotdf[\\\"subset\\\"], y=plotdf[\\\"log_dens\\\"], mode=\\\"lines\\\", name=\\\"Gaussian KDE\\\"\\n        ),\\n        row=index + 1,\\n        col=1,\\n    )\\n\\n\\nfig.update_layout(\\n    height=7500,\\n    width=700,\\n    showlegend=False,\\n    colorway=px.colors.qualitative.Vivid,\\n    title_text=\\\"Subplot for Each File's peakVal\\\",\\n)\\nfig.show()\\ndisplay(dfFile)\";\n",
       "                var nbb_cells = Jupyter.notebook.get_cells();\n",
       "                for (var i = 0; i < nbb_cells.length; ++i) {\n",
       "                    if (nbb_cells[i].input_prompt_number == nbb_cell_id) {\n",
       "                        if (nbb_cells[i].get_text() == nbb_unformatted_code) {\n",
       "                             nbb_cells[i].set_text(nbb_formatted_code);\n",
       "                        }\n",
       "                        break;\n",
       "                    }\n",
       "                }\n",
       "            }, 500);\n",
       "            "
      ],
      "text/plain": [
       "<IPython.core.display.Javascript object>"
      ]
     },
     "metadata": {},
     "output_type": "display_data"
    }
   ],
   "source": [
    "filenames = dfMaster.file.unique()\n",
    "fig = make_subplots(\n",
    "    rows=len(filenames), cols=1, subplot_titles=filenames\n",
    ")  # Two columns creates staggering problems with plots\n",
    "\n",
    "for index, file in enumerate(dfMaster.file.unique()):\n",
    "    dfFile = dfMaster.loc[dfMaster[\"file\"] == file]\n",
    "    subset = dfFile[\"peakVal\"]\n",
    "    plotdf = pd.DataFrame({\"subset\": subset}).reset_index(drop=True)\n",
    "\n",
    "    # KDE\n",
    "    subset = subset.to_numpy().reshape(-1, 1)\n",
    "\n",
    "    # Picking different bandwidth values, 0.01 -0.025 seems to yield meaningful results\n",
    "    kde = KernelDensity(kernel=\"gaussian\", bandwidth=0.02).fit(subset)\n",
    "    log_dens = np.array(np.exp(kde.score_samples(subset))).reshape(-1, 1)\n",
    "    plotdf[\"log_dens\"] = log_dens\n",
    "    plotdf = plotdf.sort_values(by=[\"subset\"])\n",
    "\n",
    "    fig.append_trace(\n",
    "        go.Histogram(\n",
    "            x=plotdf[\"subset\"],\n",
    "            histnorm=\"probability density\",\n",
    "            name=dfFile.condition.unique()[0],\n",
    "        ),\n",
    "        row=index + 1,\n",
    "        col=1,\n",
    "    )\n",
    "    fig.append_trace(\n",
    "        go.Scatter(\n",
    "            x=plotdf[\"subset\"], y=plotdf[\"log_dens\"], mode=\"lines\", name=\"Gaussian KDE\"\n",
    "        ),\n",
    "        row=index + 1,\n",
    "        col=1,\n",
    "    )\n",
    "\n",
    "\n",
    "fig.update_layout(\n",
    "    height=7500,\n",
    "    width=700,\n",
    "    showlegend=False,\n",
    "    colorway=px.colors.qualitative.Vivid,\n",
    "    title_text=\"Subplot for Each File's peakVal\",\n",
    ")\n",
    "fig.show()\n",
    "display(dfFile)"
   ]
  },
  {
   "cell_type": "code",
   "execution_count": 80,
   "id": "910e166a",
   "metadata": {},
   "outputs": [
    {
     "data": {
      "application/javascript": [
       "\n",
       "            setTimeout(function() {\n",
       "                var nbb_cell_id = 80;\n",
       "                var nbb_unformatted_code = \"# Try with distplot, this has been deprecated in plotly and the procedure for KDE is unclear from plotly documentation, I assume its gaussian\\n# for index, file in enumerate(dfMaster.file.unique()):\\n#     dfFile = dfMaster.loc[dfMaster[\\\"file\\\"] == file]\\n#     distplot = ff.create_distplot(\\n#         [dfFile[\\\"peakVal\\\"]],\\n#         group_labels,\\n#         curve_type=\\\"kde\\\",\\n#         bin_size=0.03,\\n#         colors=px.colors.qualitative.Vivid,\\n#     )\\n#     distplot.show()\";\n",
       "                var nbb_formatted_code = \"# Try with distplot, this has been deprecated in plotly and the procedure for KDE is unclear from plotly documentation, I assume its gaussian\\n# for index, file in enumerate(dfMaster.file.unique()):\\n#     dfFile = dfMaster.loc[dfMaster[\\\"file\\\"] == file]\\n#     distplot = ff.create_distplot(\\n#         [dfFile[\\\"peakVal\\\"]],\\n#         group_labels,\\n#         curve_type=\\\"kde\\\",\\n#         bin_size=0.03,\\n#         colors=px.colors.qualitative.Vivid,\\n#     )\\n#     distplot.show()\";\n",
       "                var nbb_cells = Jupyter.notebook.get_cells();\n",
       "                for (var i = 0; i < nbb_cells.length; ++i) {\n",
       "                    if (nbb_cells[i].input_prompt_number == nbb_cell_id) {\n",
       "                        if (nbb_cells[i].get_text() == nbb_unformatted_code) {\n",
       "                             nbb_cells[i].set_text(nbb_formatted_code);\n",
       "                        }\n",
       "                        break;\n",
       "                    }\n",
       "                }\n",
       "            }, 500);\n",
       "            "
      ],
      "text/plain": [
       "<IPython.core.display.Javascript object>"
      ]
     },
     "metadata": {},
     "output_type": "display_data"
    }
   ],
   "source": [
    "# Try with distplot, this has been deprecated in plotly and the procedure for KDE is unclear from plotly documentation, I assume its gaussian\n",
    "# for index, file in enumerate(dfMaster.file.unique()):\n",
    "#     dfFile = dfMaster.loc[dfMaster[\"file\"] == file]\n",
    "#     distplot = ff.create_distplot(\n",
    "#         [dfFile[\"peakVal\"]],\n",
    "#         group_labels,\n",
    "#         curve_type=\"kde\",\n",
    "#         bin_size=0.03,\n",
    "#         colors=px.colors.qualitative.Vivid,\n",
    "#     )\n",
    "#     distplot.show()"
   ]
  },
  {
   "cell_type": "markdown",
   "id": "e9f727e7",
   "metadata": {},
   "source": [
    "## Distribution Estimation using the Shapiro-Wilk and Kolmogorov-Smirnov Tests"
   ]
  },
  {
   "cell_type": "markdown",
   "id": "11be73a0",
   "metadata": {},
   "source": [
    "Our KDE provides us with an idea of how the data is distributed, however, we are victim to two hyperparameters, the binwidth of the histogram and bandwidth of the kernel density estimation. This proposes difficulites in interpretation. So to ensure we make accurate conclusions, let's use some non-graphical methods to test for normality, and uniformity. \n",
    "\n",
    "In the previous notebook regarding Variance analysis, we used the two-sample Kolmogorov-Smirnov test to compare two distributions. We could also use the one-sample version of this test to check if our data comes from a normally distributed population. However, it has been shown that while this test can work, a more powerful test for normality would be the also non-parametric Shapiro-Wilk test. The null hypothesis $H_0$ for the Shapiro-Wilk test is that our data comes from a normally distributed population. \n",
    "\n",
    "For testing uniformity, we can use the one-sample Kolmogorov-Smirnov test. We could also use a chi-squared GOF test if that was of interest. There does not appear to be evidence that one performs better than the other. "
   ]
  },
  {
   "cell_type": "code",
   "execution_count": 81,
   "id": "245bbe90",
   "metadata": {},
   "outputs": [
    {
     "data": {
      "text/html": [
       "<div>\n",
       "<style scoped>\n",
       "    .dataframe tbody tr th:only-of-type {\n",
       "        vertical-align: middle;\n",
       "    }\n",
       "\n",
       "    .dataframe tbody tr th {\n",
       "        vertical-align: top;\n",
       "    }\n",
       "\n",
       "    .dataframe thead th {\n",
       "        text-align: right;\n",
       "    }\n",
       "</style>\n",
       "<table border=\"1\" class=\"dataframe\">\n",
       "  <thead>\n",
       "    <tr style=\"text-align: right;\">\n",
       "      <th></th>\n",
       "      <th>file</th>\n",
       "      <th>Sample Size</th>\n",
       "      <th>Shap. Wilk</th>\n",
       "      <th>Kol. Smir.</th>\n",
       "    </tr>\n",
       "  </thead>\n",
       "  <tbody>\n",
       "    <tr>\n",
       "      <th>0</th>\n",
       "      <td>220110n_0003.tif</td>\n",
       "      <td>10</td>\n",
       "      <td>0.428726</td>\n",
       "      <td>0.0</td>\n",
       "    </tr>\n",
       "    <tr>\n",
       "      <th>1</th>\n",
       "      <td>220110n_0005.tif</td>\n",
       "      <td>6</td>\n",
       "      <td>0.728396</td>\n",
       "      <td>0.0</td>\n",
       "    </tr>\n",
       "    <tr>\n",
       "      <th>2</th>\n",
       "      <td>220110n_0009.tif</td>\n",
       "      <td>5</td>\n",
       "      <td>0.872466</td>\n",
       "      <td>0.0</td>\n",
       "    </tr>\n",
       "    <tr>\n",
       "      <th>3</th>\n",
       "      <td>220110n_0010.tif</td>\n",
       "      <td>6</td>\n",
       "      <td>0.965881</td>\n",
       "      <td>0.0</td>\n",
       "    </tr>\n",
       "    <tr>\n",
       "      <th>4</th>\n",
       "      <td>220110n_0014.tif</td>\n",
       "      <td>11</td>\n",
       "      <td>0.568973</td>\n",
       "      <td>0.0</td>\n",
       "    </tr>\n",
       "    <tr>\n",
       "      <th>5</th>\n",
       "      <td>220110n_0017.tif</td>\n",
       "      <td>12</td>\n",
       "      <td>0.620454</td>\n",
       "      <td>0.0</td>\n",
       "    </tr>\n",
       "    <tr>\n",
       "      <th>6</th>\n",
       "      <td>220110n_0020.tif</td>\n",
       "      <td>10</td>\n",
       "      <td>0.781170</td>\n",
       "      <td>0.0</td>\n",
       "    </tr>\n",
       "    <tr>\n",
       "      <th>7</th>\n",
       "      <td>220110n_0021.tif</td>\n",
       "      <td>10</td>\n",
       "      <td>0.282813</td>\n",
       "      <td>0.0</td>\n",
       "    </tr>\n",
       "    <tr>\n",
       "      <th>8</th>\n",
       "      <td>220110n_0022.tif</td>\n",
       "      <td>10</td>\n",
       "      <td>0.288951</td>\n",
       "      <td>0.0</td>\n",
       "    </tr>\n",
       "    <tr>\n",
       "      <th>9</th>\n",
       "      <td>220110n_0023.tif</td>\n",
       "      <td>10</td>\n",
       "      <td>0.786499</td>\n",
       "      <td>0.0</td>\n",
       "    </tr>\n",
       "    <tr>\n",
       "      <th>10</th>\n",
       "      <td>220110n_0024.tif</td>\n",
       "      <td>11</td>\n",
       "      <td>0.632537</td>\n",
       "      <td>0.0</td>\n",
       "    </tr>\n",
       "    <tr>\n",
       "      <th>11</th>\n",
       "      <td>220110n_0025.tif</td>\n",
       "      <td>11</td>\n",
       "      <td>0.963793</td>\n",
       "      <td>0.0</td>\n",
       "    </tr>\n",
       "    <tr>\n",
       "      <th>12</th>\n",
       "      <td>220110n_0030.tif</td>\n",
       "      <td>6</td>\n",
       "      <td>0.872341</td>\n",
       "      <td>0.0</td>\n",
       "    </tr>\n",
       "    <tr>\n",
       "      <th>13</th>\n",
       "      <td>220110n_0032.tif</td>\n",
       "      <td>6</td>\n",
       "      <td>0.532226</td>\n",
       "      <td>0.0</td>\n",
       "    </tr>\n",
       "    <tr>\n",
       "      <th>14</th>\n",
       "      <td>220110n_0035.tif</td>\n",
       "      <td>11</td>\n",
       "      <td>0.992597</td>\n",
       "      <td>0.0</td>\n",
       "    </tr>\n",
       "    <tr>\n",
       "      <th>15</th>\n",
       "      <td>220110n_0036.tif</td>\n",
       "      <td>11</td>\n",
       "      <td>0.847990</td>\n",
       "      <td>0.0</td>\n",
       "    </tr>\n",
       "    <tr>\n",
       "      <th>16</th>\n",
       "      <td>220110n_0037.tif</td>\n",
       "      <td>9</td>\n",
       "      <td>0.100972</td>\n",
       "      <td>0.0</td>\n",
       "    </tr>\n",
       "    <tr>\n",
       "      <th>17</th>\n",
       "      <td>220110n_0049.tif</td>\n",
       "      <td>5</td>\n",
       "      <td>0.721017</td>\n",
       "      <td>0.0</td>\n",
       "    </tr>\n",
       "    <tr>\n",
       "      <th>18</th>\n",
       "      <td>220110n_0052.tif</td>\n",
       "      <td>4</td>\n",
       "      <td>0.841426</td>\n",
       "      <td>0.0</td>\n",
       "    </tr>\n",
       "    <tr>\n",
       "      <th>19</th>\n",
       "      <td>220110n_0055.tif</td>\n",
       "      <td>11</td>\n",
       "      <td>0.056977</td>\n",
       "      <td>0.0</td>\n",
       "    </tr>\n",
       "    <tr>\n",
       "      <th>20</th>\n",
       "      <td>220110n_0060.tif</td>\n",
       "      <td>7</td>\n",
       "      <td>0.001530</td>\n",
       "      <td>0.0</td>\n",
       "    </tr>\n",
       "    <tr>\n",
       "      <th>21</th>\n",
       "      <td>220110n_0064.tif</td>\n",
       "      <td>9</td>\n",
       "      <td>0.521950</td>\n",
       "      <td>0.0</td>\n",
       "    </tr>\n",
       "    <tr>\n",
       "      <th>22</th>\n",
       "      <td>220110n_0067.tif</td>\n",
       "      <td>10</td>\n",
       "      <td>0.574114</td>\n",
       "      <td>0.0</td>\n",
       "    </tr>\n",
       "    <tr>\n",
       "      <th>23</th>\n",
       "      <td>220110n_0068.tif</td>\n",
       "      <td>11</td>\n",
       "      <td>0.858308</td>\n",
       "      <td>0.0</td>\n",
       "    </tr>\n",
       "    <tr>\n",
       "      <th>24</th>\n",
       "      <td>220110n_0072.tif</td>\n",
       "      <td>10</td>\n",
       "      <td>0.902611</td>\n",
       "      <td>0.0</td>\n",
       "    </tr>\n",
       "    <tr>\n",
       "      <th>25</th>\n",
       "      <td>220110n_0073.tif</td>\n",
       "      <td>11</td>\n",
       "      <td>0.744697</td>\n",
       "      <td>0.0</td>\n",
       "    </tr>\n",
       "    <tr>\n",
       "      <th>26</th>\n",
       "      <td>220110n_0077.tif</td>\n",
       "      <td>6</td>\n",
       "      <td>0.829056</td>\n",
       "      <td>0.0</td>\n",
       "    </tr>\n",
       "    <tr>\n",
       "      <th>27</th>\n",
       "      <td>220110n_0078.tif</td>\n",
       "      <td>6</td>\n",
       "      <td>0.822268</td>\n",
       "      <td>0.0</td>\n",
       "    </tr>\n",
       "    <tr>\n",
       "      <th>28</th>\n",
       "      <td>220110n_0080.tif</td>\n",
       "      <td>6</td>\n",
       "      <td>0.594081</td>\n",
       "      <td>0.0</td>\n",
       "    </tr>\n",
       "    <tr>\n",
       "      <th>29</th>\n",
       "      <td>220110n_0082.tif</td>\n",
       "      <td>8</td>\n",
       "      <td>0.860467</td>\n",
       "      <td>0.0</td>\n",
       "    </tr>\n",
       "    <tr>\n",
       "      <th>30</th>\n",
       "      <td>220110n_0083.tif</td>\n",
       "      <td>8</td>\n",
       "      <td>0.326657</td>\n",
       "      <td>0.0</td>\n",
       "    </tr>\n",
       "    <tr>\n",
       "      <th>31</th>\n",
       "      <td>2.5Hz_ctrl_0005.tif</td>\n",
       "      <td>13</td>\n",
       "      <td>0.511045</td>\n",
       "      <td>0.0</td>\n",
       "    </tr>\n",
       "    <tr>\n",
       "      <th>32</th>\n",
       "      <td>2.5Hz_ctrl_0009.tif</td>\n",
       "      <td>8</td>\n",
       "      <td>0.435207</td>\n",
       "      <td>0.0</td>\n",
       "    </tr>\n",
       "    <tr>\n",
       "      <th>33</th>\n",
       "      <td>2.5Hz_ctrl_0012.tif</td>\n",
       "      <td>13</td>\n",
       "      <td>0.185410</td>\n",
       "      <td>0.0</td>\n",
       "    </tr>\n",
       "    <tr>\n",
       "      <th>34</th>\n",
       "      <td>2.5Hz_ctrl_0017.tif</td>\n",
       "      <td>9</td>\n",
       "      <td>0.000016</td>\n",
       "      <td>0.0</td>\n",
       "    </tr>\n",
       "    <tr>\n",
       "      <th>35</th>\n",
       "      <td>2.5Hz_ctrl_0028.tif</td>\n",
       "      <td>10</td>\n",
       "      <td>0.715367</td>\n",
       "      <td>0.0</td>\n",
       "    </tr>\n",
       "    <tr>\n",
       "      <th>36</th>\n",
       "      <td>2.5Hz_thapsi_0024.tif</td>\n",
       "      <td>10</td>\n",
       "      <td>0.465581</td>\n",
       "      <td>0.0</td>\n",
       "    </tr>\n",
       "    <tr>\n",
       "      <th>37</th>\n",
       "      <td>cell.tif</td>\n",
       "      <td>8</td>\n",
       "      <td>0.086283</td>\n",
       "      <td>0.0</td>\n",
       "    </tr>\n",
       "    <tr>\n",
       "      <th>38</th>\n",
       "      <td>control 2.5_0012.tif</td>\n",
       "      <td>11</td>\n",
       "      <td>0.186092</td>\n",
       "      <td>0.0</td>\n",
       "    </tr>\n",
       "    <tr>\n",
       "      <th>39</th>\n",
       "      <td>control 2.5_0013.tif</td>\n",
       "      <td>13</td>\n",
       "      <td>0.829719</td>\n",
       "      <td>0.0</td>\n",
       "    </tr>\n",
       "    <tr>\n",
       "      <th>40</th>\n",
       "      <td>control 2.5_0014.tif</td>\n",
       "      <td>15</td>\n",
       "      <td>0.966343</td>\n",
       "      <td>0.0</td>\n",
       "    </tr>\n",
       "    <tr>\n",
       "      <th>41</th>\n",
       "      <td>control 2.5_0022.tif</td>\n",
       "      <td>6</td>\n",
       "      <td>0.691792</td>\n",
       "      <td>0.0</td>\n",
       "    </tr>\n",
       "    <tr>\n",
       "      <th>42</th>\n",
       "      <td>thapsi 2.5_0008.tif</td>\n",
       "      <td>4</td>\n",
       "      <td>0.185602</td>\n",
       "      <td>0.0</td>\n",
       "    </tr>\n",
       "    <tr>\n",
       "      <th>43</th>\n",
       "      <td>thapsi 2.5_0017.tif</td>\n",
       "      <td>4</td>\n",
       "      <td>0.162131</td>\n",
       "      <td>0.0</td>\n",
       "    </tr>\n",
       "    <tr>\n",
       "      <th>44</th>\n",
       "      <td>thapsi 2.5_0033.tif</td>\n",
       "      <td>4</td>\n",
       "      <td>0.983349</td>\n",
       "      <td>0.0</td>\n",
       "    </tr>\n",
       "    <tr>\n",
       "      <th>45</th>\n",
       "      <td>thapsi 2.5_0047.tif</td>\n",
       "      <td>5</td>\n",
       "      <td>0.058264</td>\n",
       "      <td>0.0</td>\n",
       "    </tr>\n",
       "  </tbody>\n",
       "</table>\n",
       "</div>"
      ],
      "text/plain": [
       "                     file  Sample Size  Shap. Wilk  Kol. Smir.\n",
       "0        220110n_0003.tif           10    0.428726         0.0\n",
       "1        220110n_0005.tif            6    0.728396         0.0\n",
       "2        220110n_0009.tif            5    0.872466         0.0\n",
       "3        220110n_0010.tif            6    0.965881         0.0\n",
       "4        220110n_0014.tif           11    0.568973         0.0\n",
       "5        220110n_0017.tif           12    0.620454         0.0\n",
       "6        220110n_0020.tif           10    0.781170         0.0\n",
       "7        220110n_0021.tif           10    0.282813         0.0\n",
       "8        220110n_0022.tif           10    0.288951         0.0\n",
       "9        220110n_0023.tif           10    0.786499         0.0\n",
       "10       220110n_0024.tif           11    0.632537         0.0\n",
       "11       220110n_0025.tif           11    0.963793         0.0\n",
       "12       220110n_0030.tif            6    0.872341         0.0\n",
       "13       220110n_0032.tif            6    0.532226         0.0\n",
       "14       220110n_0035.tif           11    0.992597         0.0\n",
       "15       220110n_0036.tif           11    0.847990         0.0\n",
       "16       220110n_0037.tif            9    0.100972         0.0\n",
       "17       220110n_0049.tif            5    0.721017         0.0\n",
       "18       220110n_0052.tif            4    0.841426         0.0\n",
       "19       220110n_0055.tif           11    0.056977         0.0\n",
       "20       220110n_0060.tif            7    0.001530         0.0\n",
       "21       220110n_0064.tif            9    0.521950         0.0\n",
       "22       220110n_0067.tif           10    0.574114         0.0\n",
       "23       220110n_0068.tif           11    0.858308         0.0\n",
       "24       220110n_0072.tif           10    0.902611         0.0\n",
       "25       220110n_0073.tif           11    0.744697         0.0\n",
       "26       220110n_0077.tif            6    0.829056         0.0\n",
       "27       220110n_0078.tif            6    0.822268         0.0\n",
       "28       220110n_0080.tif            6    0.594081         0.0\n",
       "29       220110n_0082.tif            8    0.860467         0.0\n",
       "30       220110n_0083.tif            8    0.326657         0.0\n",
       "31    2.5Hz_ctrl_0005.tif           13    0.511045         0.0\n",
       "32    2.5Hz_ctrl_0009.tif            8    0.435207         0.0\n",
       "33    2.5Hz_ctrl_0012.tif           13    0.185410         0.0\n",
       "34    2.5Hz_ctrl_0017.tif            9    0.000016         0.0\n",
       "35    2.5Hz_ctrl_0028.tif           10    0.715367         0.0\n",
       "36  2.5Hz_thapsi_0024.tif           10    0.465581         0.0\n",
       "37               cell.tif            8    0.086283         0.0\n",
       "38   control 2.5_0012.tif           11    0.186092         0.0\n",
       "39   control 2.5_0013.tif           13    0.829719         0.0\n",
       "40   control 2.5_0014.tif           15    0.966343         0.0\n",
       "41   control 2.5_0022.tif            6    0.691792         0.0\n",
       "42    thapsi 2.5_0008.tif            4    0.185602         0.0\n",
       "43    thapsi 2.5_0017.tif            4    0.162131         0.0\n",
       "44    thapsi 2.5_0033.tif            4    0.983349         0.0\n",
       "45    thapsi 2.5_0047.tif            5    0.058264         0.0"
      ]
     },
     "metadata": {},
     "output_type": "display_data"
    },
    {
     "data": {
      "application/javascript": [
       "\n",
       "            setTimeout(function() {\n",
       "                var nbb_cell_id = 81;\n",
       "                var nbb_unformatted_code = \"# Declare empty lists to append values to\\nswlist = np.array([])\\nkslist = np.array([])\\nnlist = np.array([])\\n\\n\\nfor index, file in enumerate(dfMaster.file.unique()):\\n    subset = dfMaster[\\\"peakVal\\\"][dfMaster[\\\"file\\\"] == file]\\n    plotdf = pd.DataFrame({\\\"subset\\\": subset}).reset_index(drop=True)\\n    n = len(plotdf.index)\\n    sw = sp.shapiro(plotdf[\\\"subset\\\"])\\n    ks = sp.kstest(plotdf[\\\"subset\\\"], \\\"uniform\\\")\\n    nlist = np.append(nlist, n)\\n    swlist = np.append(swlist, sw.pvalue)\\n    kslist = np.append(kslist, ks.pvalue)\\n\\n\\ntestdf = pd.DataFrame(\\n    {\\n        \\\"file\\\": dfMaster.file.unique(),\\n        \\\"Sample Size\\\": nlist.astype(int),\\n        \\\"Shap. Wilk\\\": swlist,\\n        \\\"Kol. Smir.\\\": kslist,\\n    }\\n)\\ndisplay(testdf)\";\n",
       "                var nbb_formatted_code = \"# Declare empty lists to append values to\\nswlist = np.array([])\\nkslist = np.array([])\\nnlist = np.array([])\\n\\n\\nfor index, file in enumerate(dfMaster.file.unique()):\\n    subset = dfMaster[\\\"peakVal\\\"][dfMaster[\\\"file\\\"] == file]\\n    plotdf = pd.DataFrame({\\\"subset\\\": subset}).reset_index(drop=True)\\n    n = len(plotdf.index)\\n    sw = sp.shapiro(plotdf[\\\"subset\\\"])\\n    ks = sp.kstest(plotdf[\\\"subset\\\"], \\\"uniform\\\")\\n    nlist = np.append(nlist, n)\\n    swlist = np.append(swlist, sw.pvalue)\\n    kslist = np.append(kslist, ks.pvalue)\\n\\n\\ntestdf = pd.DataFrame(\\n    {\\n        \\\"file\\\": dfMaster.file.unique(),\\n        \\\"Sample Size\\\": nlist.astype(int),\\n        \\\"Shap. Wilk\\\": swlist,\\n        \\\"Kol. Smir.\\\": kslist,\\n    }\\n)\\ndisplay(testdf)\";\n",
       "                var nbb_cells = Jupyter.notebook.get_cells();\n",
       "                for (var i = 0; i < nbb_cells.length; ++i) {\n",
       "                    if (nbb_cells[i].input_prompt_number == nbb_cell_id) {\n",
       "                        if (nbb_cells[i].get_text() == nbb_unformatted_code) {\n",
       "                             nbb_cells[i].set_text(nbb_formatted_code);\n",
       "                        }\n",
       "                        break;\n",
       "                    }\n",
       "                }\n",
       "            }, 500);\n",
       "            "
      ],
      "text/plain": [
       "<IPython.core.display.Javascript object>"
      ]
     },
     "metadata": {},
     "output_type": "display_data"
    }
   ],
   "source": [
    "# Declare empty lists to append values to\n",
    "swlist = np.array([])\n",
    "kslist = np.array([])\n",
    "nlist = np.array([])\n",
    "\n",
    "\n",
    "for index, file in enumerate(dfMaster.file.unique()):\n",
    "    subset = dfMaster[\"peakVal\"][dfMaster[\"file\"] == file]\n",
    "    plotdf = pd.DataFrame({\"subset\": subset}).reset_index(drop=True)\n",
    "    n = len(plotdf.index)\n",
    "    sw = sp.shapiro(plotdf[\"subset\"])\n",
    "    ks = sp.kstest(plotdf[\"subset\"], \"uniform\")\n",
    "    nlist = np.append(nlist, n)\n",
    "    swlist = np.append(swlist, sw.pvalue)\n",
    "    kslist = np.append(kslist, ks.pvalue)\n",
    "\n",
    "\n",
    "testdf = pd.DataFrame(\n",
    "    {\n",
    "        \"file\": dfMaster.file.unique(),\n",
    "        \"Sample Size\": nlist.astype(int),\n",
    "        \"Shap. Wilk\": swlist,\n",
    "        \"Kol. Smir.\": kslist,\n",
    "    }\n",
    ")\n",
    "display(testdf)"
   ]
  },
  {
   "cell_type": "markdown",
   "id": "bd04b692",
   "metadata": {},
   "source": [
    "Looks like a lot of these samples fail to reject $H_0$, implying they come from a normal population. Let's look at which samples we reject the null (here we will use an $\\alpha = 0.05$)."
   ]
  },
  {
   "cell_type": "code",
   "execution_count": 82,
   "id": "197613cb",
   "metadata": {},
   "outputs": [
    {
     "data": {
      "text/html": [
       "<div>\n",
       "<style scoped>\n",
       "    .dataframe tbody tr th:only-of-type {\n",
       "        vertical-align: middle;\n",
       "    }\n",
       "\n",
       "    .dataframe tbody tr th {\n",
       "        vertical-align: top;\n",
       "    }\n",
       "\n",
       "    .dataframe thead th {\n",
       "        text-align: right;\n",
       "    }\n",
       "</style>\n",
       "<table border=\"1\" class=\"dataframe\">\n",
       "  <thead>\n",
       "    <tr style=\"text-align: right;\">\n",
       "      <th></th>\n",
       "      <th>file</th>\n",
       "      <th>Sample Size</th>\n",
       "      <th>Shap. Wilk</th>\n",
       "      <th>Kol. Smir.</th>\n",
       "    </tr>\n",
       "  </thead>\n",
       "  <tbody>\n",
       "    <tr>\n",
       "      <th>20</th>\n",
       "      <td>220110n_0060.tif</td>\n",
       "      <td>7</td>\n",
       "      <td>0.001530</td>\n",
       "      <td>0.0</td>\n",
       "    </tr>\n",
       "    <tr>\n",
       "      <th>34</th>\n",
       "      <td>2.5Hz_ctrl_0017.tif</td>\n",
       "      <td>9</td>\n",
       "      <td>0.000016</td>\n",
       "      <td>0.0</td>\n",
       "    </tr>\n",
       "  </tbody>\n",
       "</table>\n",
       "</div>"
      ],
      "text/plain": [
       "                   file  Sample Size  Shap. Wilk  Kol. Smir.\n",
       "20     220110n_0060.tif            7    0.001530         0.0\n",
       "34  2.5Hz_ctrl_0017.tif            9    0.000016         0.0"
      ]
     },
     "metadata": {},
     "output_type": "display_data"
    },
    {
     "data": {
      "text/html": [
       "<div>\n",
       "<style scoped>\n",
       "    .dataframe tbody tr th:only-of-type {\n",
       "        vertical-align: middle;\n",
       "    }\n",
       "\n",
       "    .dataframe tbody tr th {\n",
       "        vertical-align: top;\n",
       "    }\n",
       "\n",
       "    .dataframe thead th {\n",
       "        text-align: right;\n",
       "    }\n",
       "</style>\n",
       "<table border=\"1\" class=\"dataframe\">\n",
       "  <thead>\n",
       "    <tr style=\"text-align: right;\">\n",
       "      <th></th>\n",
       "      <th>file</th>\n",
       "      <th>Sample Size</th>\n",
       "      <th>Shap. Wilk</th>\n",
       "      <th>Kol. Smir.</th>\n",
       "    </tr>\n",
       "  </thead>\n",
       "  <tbody>\n",
       "    <tr>\n",
       "      <th>19</th>\n",
       "      <td>220110n_0055.tif</td>\n",
       "      <td>11</td>\n",
       "      <td>0.056977</td>\n",
       "      <td>0.0</td>\n",
       "    </tr>\n",
       "    <tr>\n",
       "      <th>20</th>\n",
       "      <td>220110n_0060.tif</td>\n",
       "      <td>7</td>\n",
       "      <td>0.001530</td>\n",
       "      <td>0.0</td>\n",
       "    </tr>\n",
       "    <tr>\n",
       "      <th>34</th>\n",
       "      <td>2.5Hz_ctrl_0017.tif</td>\n",
       "      <td>9</td>\n",
       "      <td>0.000016</td>\n",
       "      <td>0.0</td>\n",
       "    </tr>\n",
       "    <tr>\n",
       "      <th>37</th>\n",
       "      <td>cell.tif</td>\n",
       "      <td>8</td>\n",
       "      <td>0.086283</td>\n",
       "      <td>0.0</td>\n",
       "    </tr>\n",
       "    <tr>\n",
       "      <th>45</th>\n",
       "      <td>thapsi 2.5_0047.tif</td>\n",
       "      <td>5</td>\n",
       "      <td>0.058264</td>\n",
       "      <td>0.0</td>\n",
       "    </tr>\n",
       "  </tbody>\n",
       "</table>\n",
       "</div>"
      ],
      "text/plain": [
       "                   file  Sample Size  Shap. Wilk  Kol. Smir.\n",
       "19     220110n_0055.tif           11    0.056977         0.0\n",
       "20     220110n_0060.tif            7    0.001530         0.0\n",
       "34  2.5Hz_ctrl_0017.tif            9    0.000016         0.0\n",
       "37             cell.tif            8    0.086283         0.0\n",
       "45  thapsi 2.5_0047.tif            5    0.058264         0.0"
      ]
     },
     "metadata": {},
     "output_type": "display_data"
    },
    {
     "data": {
      "application/javascript": [
       "\n",
       "            setTimeout(function() {\n",
       "                var nbb_cell_id = 82;\n",
       "                var nbb_unformatted_code = \"nonorm = testdf[testdf[\\\"Shap. Wilk\\\"] < 0.05]\\ndisplay(nonorm)\\n\\n# For alpha = 0.1\\ndisplay(testdf[testdf[\\\"Shap. Wilk\\\"] < 0.1])\";\n",
       "                var nbb_formatted_code = \"nonorm = testdf[testdf[\\\"Shap. Wilk\\\"] < 0.05]\\ndisplay(nonorm)\\n\\n# For alpha = 0.1\\ndisplay(testdf[testdf[\\\"Shap. Wilk\\\"] < 0.1])\";\n",
       "                var nbb_cells = Jupyter.notebook.get_cells();\n",
       "                for (var i = 0; i < nbb_cells.length; ++i) {\n",
       "                    if (nbb_cells[i].input_prompt_number == nbb_cell_id) {\n",
       "                        if (nbb_cells[i].get_text() == nbb_unformatted_code) {\n",
       "                             nbb_cells[i].set_text(nbb_formatted_code);\n",
       "                        }\n",
       "                        break;\n",
       "                    }\n",
       "                }\n",
       "            }, 500);\n",
       "            "
      ],
      "text/plain": [
       "<IPython.core.display.Javascript object>"
      ]
     },
     "metadata": {},
     "output_type": "display_data"
    }
   ],
   "source": [
    "nonorm = testdf[testdf[\"Shap. Wilk\"] < 0.05]\n",
    "display(nonorm)\n",
    "\n",
    "# For alpha = 0.1\n",
    "display(testdf[testdf[\"Shap. Wilk\"] < 0.1])"
   ]
  },
  {
   "cell_type": "markdown",
   "id": "4b91a321",
   "metadata": {},
   "source": [
    "The two files listed above are the only files that reject $H_0$. The values of the p-values being very small (less than 0.01) should be noted as strong evidence that these files may very well have different distributions. None of the distributions tested could fail to reject the null hypothesis for the Kolmogrov-Smirnov test for Uniformiality, leading us to conclude none of our samples come from uniform distributions. \n",
    "\n",
    "One last thing to note should be that at a higher significance level of $\\alpha = 0.1$, we reject $H_0$ for three more additional files. This should be considered in how the distributions of these files are treated in any future studies. "
   ]
  },
  {
   "cell_type": "markdown",
   "id": "f217358c",
   "metadata": {},
   "source": [
    "### How does Control compare to Thapsigargin?"
   ]
  },
  {
   "cell_type": "code",
   "execution_count": 83,
   "id": "677f0483",
   "metadata": {},
   "outputs": [
    {
     "name": "stdout",
     "output_type": "stream",
     "text": [
      "before condList:['Control' 'Thapsigargin' 'TG']\n",
      "after condList:['Control' 'Thapsigargin']\n"
     ]
    },
    {
     "data": {
      "application/javascript": [
       "\n",
       "            setTimeout(function() {\n",
       "                var nbb_cell_id = 83;\n",
       "                var nbb_unformatted_code = \"# Cleaning\\ncondList = dfMaster[\\\"condition\\\"].unique()\\nprint(f\\\"before condList:{condList}\\\")\\n# do this\\ndfMaster.loc[dfMaster[\\\"condition\\\"] == \\\"TG\\\", \\\"condition\\\"] = \\\"Thapsigargin\\\"\\ncondList = dfMaster[\\\"condition\\\"].unique()\\nprint(f\\\"after condList:{condList}\\\")\";\n",
       "                var nbb_formatted_code = \"# Cleaning\\ncondList = dfMaster[\\\"condition\\\"].unique()\\nprint(f\\\"before condList:{condList}\\\")\\n# do this\\ndfMaster.loc[dfMaster[\\\"condition\\\"] == \\\"TG\\\", \\\"condition\\\"] = \\\"Thapsigargin\\\"\\ncondList = dfMaster[\\\"condition\\\"].unique()\\nprint(f\\\"after condList:{condList}\\\")\";\n",
       "                var nbb_cells = Jupyter.notebook.get_cells();\n",
       "                for (var i = 0; i < nbb_cells.length; ++i) {\n",
       "                    if (nbb_cells[i].input_prompt_number == nbb_cell_id) {\n",
       "                        if (nbb_cells[i].get_text() == nbb_unformatted_code) {\n",
       "                             nbb_cells[i].set_text(nbb_formatted_code);\n",
       "                        }\n",
       "                        break;\n",
       "                    }\n",
       "                }\n",
       "            }, 500);\n",
       "            "
      ],
      "text/plain": [
       "<IPython.core.display.Javascript object>"
      ]
     },
     "metadata": {},
     "output_type": "display_data"
    }
   ],
   "source": [
    "# Cleaning\n",
    "condList = dfMaster[\"condition\"].unique()\n",
    "print(f\"before condList:{condList}\")\n",
    "# do this\n",
    "dfMaster.loc[dfMaster[\"condition\"] == \"TG\", \"condition\"] = \"Thapsigargin\"\n",
    "condList = dfMaster[\"condition\"].unique()\n",
    "print(f\"after condList:{condList}\")"
   ]
  },
  {
   "cell_type": "code",
   "execution_count": 84,
   "id": "480da6b6",
   "metadata": {},
   "outputs": [
    {
     "data": {
      "application/javascript": [
       "\n",
       "            setTimeout(function() {\n",
       "                var nbb_cell_id = 84;\n",
       "                var nbb_unformatted_code = \"temp = dfMaster[[\\\"file\\\", \\\"condition\\\"]]\\ntemp = temp.drop_duplicates()\\ntemp = temp.reset_index()\\n# temp\";\n",
       "                var nbb_formatted_code = \"temp = dfMaster[[\\\"file\\\", \\\"condition\\\"]]\\ntemp = temp.drop_duplicates()\\ntemp = temp.reset_index()\\n# temp\";\n",
       "                var nbb_cells = Jupyter.notebook.get_cells();\n",
       "                for (var i = 0; i < nbb_cells.length; ++i) {\n",
       "                    if (nbb_cells[i].input_prompt_number == nbb_cell_id) {\n",
       "                        if (nbb_cells[i].get_text() == nbb_unformatted_code) {\n",
       "                             nbb_cells[i].set_text(nbb_formatted_code);\n",
       "                        }\n",
       "                        break;\n",
       "                    }\n",
       "                }\n",
       "            }, 500);\n",
       "            "
      ],
      "text/plain": [
       "<IPython.core.display.Javascript object>"
      ]
     },
     "metadata": {},
     "output_type": "display_data"
    }
   ],
   "source": [
    "temp = dfMaster[[\"file\", \"condition\"]]\n",
    "temp = temp.drop_duplicates()\n",
    "temp = temp.reset_index()\n",
    "# temp"
   ]
  },
  {
   "cell_type": "code",
   "execution_count": 85,
   "id": "bf16cb4c",
   "metadata": {},
   "outputs": [
    {
     "data": {
      "text/html": [
       "<div>\n",
       "<style scoped>\n",
       "    .dataframe tbody tr th:only-of-type {\n",
       "        vertical-align: middle;\n",
       "    }\n",
       "\n",
       "    .dataframe tbody tr th {\n",
       "        vertical-align: top;\n",
       "    }\n",
       "\n",
       "    .dataframe thead th {\n",
       "        text-align: right;\n",
       "    }\n",
       "</style>\n",
       "<table border=\"1\" class=\"dataframe\">\n",
       "  <thead>\n",
       "    <tr style=\"text-align: right;\">\n",
       "      <th></th>\n",
       "      <th>index</th>\n",
       "      <th>file</th>\n",
       "      <th>condition</th>\n",
       "      <th>Sample Size</th>\n",
       "      <th>Shap. Wilk</th>\n",
       "      <th>Kol. Smir.</th>\n",
       "    </tr>\n",
       "  </thead>\n",
       "  <tbody>\n",
       "    <tr>\n",
       "      <th>0</th>\n",
       "      <td>0</td>\n",
       "      <td>220110n_0003.tif</td>\n",
       "      <td>Control</td>\n",
       "      <td>10</td>\n",
       "      <td>0.428726</td>\n",
       "      <td>0.0</td>\n",
       "    </tr>\n",
       "    <tr>\n",
       "      <th>1</th>\n",
       "      <td>10</td>\n",
       "      <td>220110n_0005.tif</td>\n",
       "      <td>Control</td>\n",
       "      <td>6</td>\n",
       "      <td>0.728396</td>\n",
       "      <td>0.0</td>\n",
       "    </tr>\n",
       "    <tr>\n",
       "      <th>2</th>\n",
       "      <td>16</td>\n",
       "      <td>220110n_0009.tif</td>\n",
       "      <td>Control</td>\n",
       "      <td>5</td>\n",
       "      <td>0.872466</td>\n",
       "      <td>0.0</td>\n",
       "    </tr>\n",
       "    <tr>\n",
       "      <th>3</th>\n",
       "      <td>21</td>\n",
       "      <td>220110n_0010.tif</td>\n",
       "      <td>Control</td>\n",
       "      <td>6</td>\n",
       "      <td>0.965881</td>\n",
       "      <td>0.0</td>\n",
       "    </tr>\n",
       "    <tr>\n",
       "      <th>4</th>\n",
       "      <td>27</td>\n",
       "      <td>220110n_0014.tif</td>\n",
       "      <td>Control</td>\n",
       "      <td>11</td>\n",
       "      <td>0.568973</td>\n",
       "      <td>0.0</td>\n",
       "    </tr>\n",
       "    <tr>\n",
       "      <th>5</th>\n",
       "      <td>38</td>\n",
       "      <td>220110n_0017.tif</td>\n",
       "      <td>Control</td>\n",
       "      <td>12</td>\n",
       "      <td>0.620454</td>\n",
       "      <td>0.0</td>\n",
       "    </tr>\n",
       "    <tr>\n",
       "      <th>6</th>\n",
       "      <td>50</td>\n",
       "      <td>220110n_0020.tif</td>\n",
       "      <td>Control</td>\n",
       "      <td>10</td>\n",
       "      <td>0.781170</td>\n",
       "      <td>0.0</td>\n",
       "    </tr>\n",
       "    <tr>\n",
       "      <th>7</th>\n",
       "      <td>60</td>\n",
       "      <td>220110n_0021.tif</td>\n",
       "      <td>Control</td>\n",
       "      <td>10</td>\n",
       "      <td>0.282813</td>\n",
       "      <td>0.0</td>\n",
       "    </tr>\n",
       "    <tr>\n",
       "      <th>8</th>\n",
       "      <td>70</td>\n",
       "      <td>220110n_0022.tif</td>\n",
       "      <td>Control</td>\n",
       "      <td>10</td>\n",
       "      <td>0.288951</td>\n",
       "      <td>0.0</td>\n",
       "    </tr>\n",
       "    <tr>\n",
       "      <th>9</th>\n",
       "      <td>80</td>\n",
       "      <td>220110n_0023.tif</td>\n",
       "      <td>Control</td>\n",
       "      <td>10</td>\n",
       "      <td>0.786499</td>\n",
       "      <td>0.0</td>\n",
       "    </tr>\n",
       "    <tr>\n",
       "      <th>10</th>\n",
       "      <td>90</td>\n",
       "      <td>220110n_0024.tif</td>\n",
       "      <td>Control</td>\n",
       "      <td>11</td>\n",
       "      <td>0.632537</td>\n",
       "      <td>0.0</td>\n",
       "    </tr>\n",
       "    <tr>\n",
       "      <th>11</th>\n",
       "      <td>101</td>\n",
       "      <td>220110n_0025.tif</td>\n",
       "      <td>Control</td>\n",
       "      <td>11</td>\n",
       "      <td>0.963793</td>\n",
       "      <td>0.0</td>\n",
       "    </tr>\n",
       "    <tr>\n",
       "      <th>12</th>\n",
       "      <td>112</td>\n",
       "      <td>220110n_0030.tif</td>\n",
       "      <td>Control</td>\n",
       "      <td>6</td>\n",
       "      <td>0.872341</td>\n",
       "      <td>0.0</td>\n",
       "    </tr>\n",
       "    <tr>\n",
       "      <th>13</th>\n",
       "      <td>118</td>\n",
       "      <td>220110n_0032.tif</td>\n",
       "      <td>Control</td>\n",
       "      <td>6</td>\n",
       "      <td>0.532226</td>\n",
       "      <td>0.0</td>\n",
       "    </tr>\n",
       "    <tr>\n",
       "      <th>14</th>\n",
       "      <td>124</td>\n",
       "      <td>220110n_0035.tif</td>\n",
       "      <td>Control</td>\n",
       "      <td>11</td>\n",
       "      <td>0.992597</td>\n",
       "      <td>0.0</td>\n",
       "    </tr>\n",
       "    <tr>\n",
       "      <th>15</th>\n",
       "      <td>135</td>\n",
       "      <td>220110n_0036.tif</td>\n",
       "      <td>Control</td>\n",
       "      <td>11</td>\n",
       "      <td>0.847990</td>\n",
       "      <td>0.0</td>\n",
       "    </tr>\n",
       "    <tr>\n",
       "      <th>16</th>\n",
       "      <td>146</td>\n",
       "      <td>220110n_0037.tif</td>\n",
       "      <td>Control</td>\n",
       "      <td>9</td>\n",
       "      <td>0.100972</td>\n",
       "      <td>0.0</td>\n",
       "    </tr>\n",
       "    <tr>\n",
       "      <th>17</th>\n",
       "      <td>155</td>\n",
       "      <td>220110n_0049.tif</td>\n",
       "      <td>Control</td>\n",
       "      <td>5</td>\n",
       "      <td>0.721017</td>\n",
       "      <td>0.0</td>\n",
       "    </tr>\n",
       "    <tr>\n",
       "      <th>18</th>\n",
       "      <td>160</td>\n",
       "      <td>220110n_0052.tif</td>\n",
       "      <td>Control</td>\n",
       "      <td>4</td>\n",
       "      <td>0.841426</td>\n",
       "      <td>0.0</td>\n",
       "    </tr>\n",
       "    <tr>\n",
       "      <th>19</th>\n",
       "      <td>164</td>\n",
       "      <td>220110n_0055.tif</td>\n",
       "      <td>Thapsigargin</td>\n",
       "      <td>11</td>\n",
       "      <td>0.056977</td>\n",
       "      <td>0.0</td>\n",
       "    </tr>\n",
       "    <tr>\n",
       "      <th>20</th>\n",
       "      <td>175</td>\n",
       "      <td>220110n_0060.tif</td>\n",
       "      <td>Thapsigargin</td>\n",
       "      <td>7</td>\n",
       "      <td>0.001530</td>\n",
       "      <td>0.0</td>\n",
       "    </tr>\n",
       "    <tr>\n",
       "      <th>21</th>\n",
       "      <td>182</td>\n",
       "      <td>220110n_0064.tif</td>\n",
       "      <td>Thapsigargin</td>\n",
       "      <td>9</td>\n",
       "      <td>0.521950</td>\n",
       "      <td>0.0</td>\n",
       "    </tr>\n",
       "    <tr>\n",
       "      <th>22</th>\n",
       "      <td>191</td>\n",
       "      <td>220110n_0067.tif</td>\n",
       "      <td>Thapsigargin</td>\n",
       "      <td>10</td>\n",
       "      <td>0.574114</td>\n",
       "      <td>0.0</td>\n",
       "    </tr>\n",
       "    <tr>\n",
       "      <th>23</th>\n",
       "      <td>201</td>\n",
       "      <td>220110n_0068.tif</td>\n",
       "      <td>Thapsigargin</td>\n",
       "      <td>11</td>\n",
       "      <td>0.858308</td>\n",
       "      <td>0.0</td>\n",
       "    </tr>\n",
       "    <tr>\n",
       "      <th>24</th>\n",
       "      <td>212</td>\n",
       "      <td>220110n_0072.tif</td>\n",
       "      <td>Thapsigargin</td>\n",
       "      <td>10</td>\n",
       "      <td>0.902611</td>\n",
       "      <td>0.0</td>\n",
       "    </tr>\n",
       "    <tr>\n",
       "      <th>25</th>\n",
       "      <td>222</td>\n",
       "      <td>220110n_0073.tif</td>\n",
       "      <td>Thapsigargin</td>\n",
       "      <td>11</td>\n",
       "      <td>0.744697</td>\n",
       "      <td>0.0</td>\n",
       "    </tr>\n",
       "    <tr>\n",
       "      <th>26</th>\n",
       "      <td>233</td>\n",
       "      <td>220110n_0077.tif</td>\n",
       "      <td>Thapsigargin</td>\n",
       "      <td>6</td>\n",
       "      <td>0.829056</td>\n",
       "      <td>0.0</td>\n",
       "    </tr>\n",
       "    <tr>\n",
       "      <th>27</th>\n",
       "      <td>239</td>\n",
       "      <td>220110n_0078.tif</td>\n",
       "      <td>Thapsigargin</td>\n",
       "      <td>6</td>\n",
       "      <td>0.822268</td>\n",
       "      <td>0.0</td>\n",
       "    </tr>\n",
       "    <tr>\n",
       "      <th>28</th>\n",
       "      <td>245</td>\n",
       "      <td>220110n_0080.tif</td>\n",
       "      <td>Thapsigargin</td>\n",
       "      <td>6</td>\n",
       "      <td>0.594081</td>\n",
       "      <td>0.0</td>\n",
       "    </tr>\n",
       "    <tr>\n",
       "      <th>29</th>\n",
       "      <td>251</td>\n",
       "      <td>220110n_0082.tif</td>\n",
       "      <td>Thapsigargin</td>\n",
       "      <td>8</td>\n",
       "      <td>0.860467</td>\n",
       "      <td>0.0</td>\n",
       "    </tr>\n",
       "    <tr>\n",
       "      <th>30</th>\n",
       "      <td>259</td>\n",
       "      <td>220110n_0083.tif</td>\n",
       "      <td>Thapsigargin</td>\n",
       "      <td>8</td>\n",
       "      <td>0.326657</td>\n",
       "      <td>0.0</td>\n",
       "    </tr>\n",
       "    <tr>\n",
       "      <th>31</th>\n",
       "      <td>267</td>\n",
       "      <td>2.5Hz_ctrl_0005.tif</td>\n",
       "      <td>Control</td>\n",
       "      <td>13</td>\n",
       "      <td>0.511045</td>\n",
       "      <td>0.0</td>\n",
       "    </tr>\n",
       "    <tr>\n",
       "      <th>32</th>\n",
       "      <td>280</td>\n",
       "      <td>2.5Hz_ctrl_0009.tif</td>\n",
       "      <td>Control</td>\n",
       "      <td>8</td>\n",
       "      <td>0.435207</td>\n",
       "      <td>0.0</td>\n",
       "    </tr>\n",
       "    <tr>\n",
       "      <th>33</th>\n",
       "      <td>288</td>\n",
       "      <td>2.5Hz_ctrl_0012.tif</td>\n",
       "      <td>Control</td>\n",
       "      <td>13</td>\n",
       "      <td>0.185410</td>\n",
       "      <td>0.0</td>\n",
       "    </tr>\n",
       "    <tr>\n",
       "      <th>34</th>\n",
       "      <td>301</td>\n",
       "      <td>2.5Hz_ctrl_0017.tif</td>\n",
       "      <td>Control</td>\n",
       "      <td>9</td>\n",
       "      <td>0.000016</td>\n",
       "      <td>0.0</td>\n",
       "    </tr>\n",
       "    <tr>\n",
       "      <th>35</th>\n",
       "      <td>310</td>\n",
       "      <td>2.5Hz_ctrl_0028.tif</td>\n",
       "      <td>Control</td>\n",
       "      <td>10</td>\n",
       "      <td>0.715367</td>\n",
       "      <td>0.0</td>\n",
       "    </tr>\n",
       "    <tr>\n",
       "      <th>36</th>\n",
       "      <td>320</td>\n",
       "      <td>2.5Hz_thapsi_0024.tif</td>\n",
       "      <td>Thapsigargin</td>\n",
       "      <td>10</td>\n",
       "      <td>0.465581</td>\n",
       "      <td>0.0</td>\n",
       "    </tr>\n",
       "    <tr>\n",
       "      <th>37</th>\n",
       "      <td>330</td>\n",
       "      <td>cell.tif</td>\n",
       "      <td>Control</td>\n",
       "      <td>8</td>\n",
       "      <td>0.086283</td>\n",
       "      <td>0.0</td>\n",
       "    </tr>\n",
       "    <tr>\n",
       "      <th>38</th>\n",
       "      <td>338</td>\n",
       "      <td>control 2.5_0012.tif</td>\n",
       "      <td>Control</td>\n",
       "      <td>11</td>\n",
       "      <td>0.186092</td>\n",
       "      <td>0.0</td>\n",
       "    </tr>\n",
       "    <tr>\n",
       "      <th>39</th>\n",
       "      <td>349</td>\n",
       "      <td>control 2.5_0013.tif</td>\n",
       "      <td>Control</td>\n",
       "      <td>13</td>\n",
       "      <td>0.829719</td>\n",
       "      <td>0.0</td>\n",
       "    </tr>\n",
       "    <tr>\n",
       "      <th>40</th>\n",
       "      <td>362</td>\n",
       "      <td>control 2.5_0014.tif</td>\n",
       "      <td>Control</td>\n",
       "      <td>15</td>\n",
       "      <td>0.966343</td>\n",
       "      <td>0.0</td>\n",
       "    </tr>\n",
       "    <tr>\n",
       "      <th>41</th>\n",
       "      <td>377</td>\n",
       "      <td>control 2.5_0022.tif</td>\n",
       "      <td>Control</td>\n",
       "      <td>6</td>\n",
       "      <td>0.691792</td>\n",
       "      <td>0.0</td>\n",
       "    </tr>\n",
       "    <tr>\n",
       "      <th>42</th>\n",
       "      <td>383</td>\n",
       "      <td>thapsi 2.5_0008.tif</td>\n",
       "      <td>Thapsigargin</td>\n",
       "      <td>4</td>\n",
       "      <td>0.185602</td>\n",
       "      <td>0.0</td>\n",
       "    </tr>\n",
       "    <tr>\n",
       "      <th>43</th>\n",
       "      <td>387</td>\n",
       "      <td>thapsi 2.5_0017.tif</td>\n",
       "      <td>Thapsigargin</td>\n",
       "      <td>4</td>\n",
       "      <td>0.162131</td>\n",
       "      <td>0.0</td>\n",
       "    </tr>\n",
       "    <tr>\n",
       "      <th>44</th>\n",
       "      <td>391</td>\n",
       "      <td>thapsi 2.5_0033.tif</td>\n",
       "      <td>Thapsigargin</td>\n",
       "      <td>4</td>\n",
       "      <td>0.983349</td>\n",
       "      <td>0.0</td>\n",
       "    </tr>\n",
       "    <tr>\n",
       "      <th>45</th>\n",
       "      <td>395</td>\n",
       "      <td>thapsi 2.5_0047.tif</td>\n",
       "      <td>Thapsigargin</td>\n",
       "      <td>5</td>\n",
       "      <td>0.058264</td>\n",
       "      <td>0.0</td>\n",
       "    </tr>\n",
       "  </tbody>\n",
       "</table>\n",
       "</div>"
      ],
      "text/plain": [
       "    index                   file     condition  Sample Size  Shap. Wilk  \\\n",
       "0       0       220110n_0003.tif       Control           10    0.428726   \n",
       "1      10       220110n_0005.tif       Control            6    0.728396   \n",
       "2      16       220110n_0009.tif       Control            5    0.872466   \n",
       "3      21       220110n_0010.tif       Control            6    0.965881   \n",
       "4      27       220110n_0014.tif       Control           11    0.568973   \n",
       "5      38       220110n_0017.tif       Control           12    0.620454   \n",
       "6      50       220110n_0020.tif       Control           10    0.781170   \n",
       "7      60       220110n_0021.tif       Control           10    0.282813   \n",
       "8      70       220110n_0022.tif       Control           10    0.288951   \n",
       "9      80       220110n_0023.tif       Control           10    0.786499   \n",
       "10     90       220110n_0024.tif       Control           11    0.632537   \n",
       "11    101       220110n_0025.tif       Control           11    0.963793   \n",
       "12    112       220110n_0030.tif       Control            6    0.872341   \n",
       "13    118       220110n_0032.tif       Control            6    0.532226   \n",
       "14    124       220110n_0035.tif       Control           11    0.992597   \n",
       "15    135       220110n_0036.tif       Control           11    0.847990   \n",
       "16    146       220110n_0037.tif       Control            9    0.100972   \n",
       "17    155       220110n_0049.tif       Control            5    0.721017   \n",
       "18    160       220110n_0052.tif       Control            4    0.841426   \n",
       "19    164       220110n_0055.tif  Thapsigargin           11    0.056977   \n",
       "20    175       220110n_0060.tif  Thapsigargin            7    0.001530   \n",
       "21    182       220110n_0064.tif  Thapsigargin            9    0.521950   \n",
       "22    191       220110n_0067.tif  Thapsigargin           10    0.574114   \n",
       "23    201       220110n_0068.tif  Thapsigargin           11    0.858308   \n",
       "24    212       220110n_0072.tif  Thapsigargin           10    0.902611   \n",
       "25    222       220110n_0073.tif  Thapsigargin           11    0.744697   \n",
       "26    233       220110n_0077.tif  Thapsigargin            6    0.829056   \n",
       "27    239       220110n_0078.tif  Thapsigargin            6    0.822268   \n",
       "28    245       220110n_0080.tif  Thapsigargin            6    0.594081   \n",
       "29    251       220110n_0082.tif  Thapsigargin            8    0.860467   \n",
       "30    259       220110n_0083.tif  Thapsigargin            8    0.326657   \n",
       "31    267    2.5Hz_ctrl_0005.tif       Control           13    0.511045   \n",
       "32    280    2.5Hz_ctrl_0009.tif       Control            8    0.435207   \n",
       "33    288    2.5Hz_ctrl_0012.tif       Control           13    0.185410   \n",
       "34    301    2.5Hz_ctrl_0017.tif       Control            9    0.000016   \n",
       "35    310    2.5Hz_ctrl_0028.tif       Control           10    0.715367   \n",
       "36    320  2.5Hz_thapsi_0024.tif  Thapsigargin           10    0.465581   \n",
       "37    330               cell.tif       Control            8    0.086283   \n",
       "38    338   control 2.5_0012.tif       Control           11    0.186092   \n",
       "39    349   control 2.5_0013.tif       Control           13    0.829719   \n",
       "40    362   control 2.5_0014.tif       Control           15    0.966343   \n",
       "41    377   control 2.5_0022.tif       Control            6    0.691792   \n",
       "42    383    thapsi 2.5_0008.tif  Thapsigargin            4    0.185602   \n",
       "43    387    thapsi 2.5_0017.tif  Thapsigargin            4    0.162131   \n",
       "44    391    thapsi 2.5_0033.tif  Thapsigargin            4    0.983349   \n",
       "45    395    thapsi 2.5_0047.tif  Thapsigargin            5    0.058264   \n",
       "\n",
       "    Kol. Smir.  \n",
       "0          0.0  \n",
       "1          0.0  \n",
       "2          0.0  \n",
       "3          0.0  \n",
       "4          0.0  \n",
       "5          0.0  \n",
       "6          0.0  \n",
       "7          0.0  \n",
       "8          0.0  \n",
       "9          0.0  \n",
       "10         0.0  \n",
       "11         0.0  \n",
       "12         0.0  \n",
       "13         0.0  \n",
       "14         0.0  \n",
       "15         0.0  \n",
       "16         0.0  \n",
       "17         0.0  \n",
       "18         0.0  \n",
       "19         0.0  \n",
       "20         0.0  \n",
       "21         0.0  \n",
       "22         0.0  \n",
       "23         0.0  \n",
       "24         0.0  \n",
       "25         0.0  \n",
       "26         0.0  \n",
       "27         0.0  \n",
       "28         0.0  \n",
       "29         0.0  \n",
       "30         0.0  \n",
       "31         0.0  \n",
       "32         0.0  \n",
       "33         0.0  \n",
       "34         0.0  \n",
       "35         0.0  \n",
       "36         0.0  \n",
       "37         0.0  \n",
       "38         0.0  \n",
       "39         0.0  \n",
       "40         0.0  \n",
       "41         0.0  \n",
       "42         0.0  \n",
       "43         0.0  \n",
       "44         0.0  \n",
       "45         0.0  "
      ]
     },
     "execution_count": 85,
     "metadata": {},
     "output_type": "execute_result"
    },
    {
     "data": {
      "application/javascript": [
       "\n",
       "            setTimeout(function() {\n",
       "                var nbb_cell_id = 85;\n",
       "                var nbb_unformatted_code = \"# Merge the two\\ntestdf = temp.merge(testdf)\\ntestdf\";\n",
       "                var nbb_formatted_code = \"# Merge the two\\ntestdf = temp.merge(testdf)\\ntestdf\";\n",
       "                var nbb_cells = Jupyter.notebook.get_cells();\n",
       "                for (var i = 0; i < nbb_cells.length; ++i) {\n",
       "                    if (nbb_cells[i].input_prompt_number == nbb_cell_id) {\n",
       "                        if (nbb_cells[i].get_text() == nbb_unformatted_code) {\n",
       "                             nbb_cells[i].set_text(nbb_formatted_code);\n",
       "                        }\n",
       "                        break;\n",
       "                    }\n",
       "                }\n",
       "            }, 500);\n",
       "            "
      ],
      "text/plain": [
       "<IPython.core.display.Javascript object>"
      ]
     },
     "metadata": {},
     "output_type": "display_data"
    }
   ],
   "source": [
    "# Merge the two\n",
    "testdf = temp.merge(testdf)\n",
    "testdf"
   ]
  },
  {
   "cell_type": "code",
   "execution_count": 86,
   "id": "c441d514",
   "metadata": {},
   "outputs": [
    {
     "data": {
      "text/html": [
       "<div>\n",
       "<style scoped>\n",
       "    .dataframe tbody tr th:only-of-type {\n",
       "        vertical-align: middle;\n",
       "    }\n",
       "\n",
       "    .dataframe tbody tr th {\n",
       "        vertical-align: top;\n",
       "    }\n",
       "\n",
       "    .dataframe thead th {\n",
       "        text-align: right;\n",
       "    }\n",
       "</style>\n",
       "<table border=\"1\" class=\"dataframe\">\n",
       "  <thead>\n",
       "    <tr style=\"text-align: right;\">\n",
       "      <th></th>\n",
       "      <th>index</th>\n",
       "      <th>file</th>\n",
       "      <th>condition</th>\n",
       "      <th>Sample Size</th>\n",
       "      <th>Shap. Wilk</th>\n",
       "      <th>Kol. Smir.</th>\n",
       "    </tr>\n",
       "  </thead>\n",
       "  <tbody>\n",
       "    <tr>\n",
       "      <th>20</th>\n",
       "      <td>175</td>\n",
       "      <td>220110n_0060.tif</td>\n",
       "      <td>Thapsigargin</td>\n",
       "      <td>7</td>\n",
       "      <td>0.001530</td>\n",
       "      <td>0.0</td>\n",
       "    </tr>\n",
       "    <tr>\n",
       "      <th>34</th>\n",
       "      <td>301</td>\n",
       "      <td>2.5Hz_ctrl_0017.tif</td>\n",
       "      <td>Control</td>\n",
       "      <td>9</td>\n",
       "      <td>0.000016</td>\n",
       "      <td>0.0</td>\n",
       "    </tr>\n",
       "  </tbody>\n",
       "</table>\n",
       "</div>"
      ],
      "text/plain": [
       "    index                 file     condition  Sample Size  Shap. Wilk  \\\n",
       "20    175     220110n_0060.tif  Thapsigargin            7    0.001530   \n",
       "34    301  2.5Hz_ctrl_0017.tif       Control            9    0.000016   \n",
       "\n",
       "    Kol. Smir.  \n",
       "20         0.0  \n",
       "34         0.0  "
      ]
     },
     "metadata": {},
     "output_type": "display_data"
    },
    {
     "data": {
      "text/html": [
       "<div>\n",
       "<style scoped>\n",
       "    .dataframe tbody tr th:only-of-type {\n",
       "        vertical-align: middle;\n",
       "    }\n",
       "\n",
       "    .dataframe tbody tr th {\n",
       "        vertical-align: top;\n",
       "    }\n",
       "\n",
       "    .dataframe thead th {\n",
       "        text-align: right;\n",
       "    }\n",
       "</style>\n",
       "<table border=\"1\" class=\"dataframe\">\n",
       "  <thead>\n",
       "    <tr style=\"text-align: right;\">\n",
       "      <th></th>\n",
       "      <th>index</th>\n",
       "      <th>file</th>\n",
       "      <th>condition</th>\n",
       "      <th>Sample Size</th>\n",
       "      <th>Shap. Wilk</th>\n",
       "      <th>Kol. Smir.</th>\n",
       "    </tr>\n",
       "  </thead>\n",
       "  <tbody>\n",
       "    <tr>\n",
       "      <th>19</th>\n",
       "      <td>164</td>\n",
       "      <td>220110n_0055.tif</td>\n",
       "      <td>Thapsigargin</td>\n",
       "      <td>11</td>\n",
       "      <td>0.056977</td>\n",
       "      <td>0.0</td>\n",
       "    </tr>\n",
       "    <tr>\n",
       "      <th>20</th>\n",
       "      <td>175</td>\n",
       "      <td>220110n_0060.tif</td>\n",
       "      <td>Thapsigargin</td>\n",
       "      <td>7</td>\n",
       "      <td>0.001530</td>\n",
       "      <td>0.0</td>\n",
       "    </tr>\n",
       "    <tr>\n",
       "      <th>34</th>\n",
       "      <td>301</td>\n",
       "      <td>2.5Hz_ctrl_0017.tif</td>\n",
       "      <td>Control</td>\n",
       "      <td>9</td>\n",
       "      <td>0.000016</td>\n",
       "      <td>0.0</td>\n",
       "    </tr>\n",
       "    <tr>\n",
       "      <th>37</th>\n",
       "      <td>330</td>\n",
       "      <td>cell.tif</td>\n",
       "      <td>Control</td>\n",
       "      <td>8</td>\n",
       "      <td>0.086283</td>\n",
       "      <td>0.0</td>\n",
       "    </tr>\n",
       "    <tr>\n",
       "      <th>45</th>\n",
       "      <td>395</td>\n",
       "      <td>thapsi 2.5_0047.tif</td>\n",
       "      <td>Thapsigargin</td>\n",
       "      <td>5</td>\n",
       "      <td>0.058264</td>\n",
       "      <td>0.0</td>\n",
       "    </tr>\n",
       "  </tbody>\n",
       "</table>\n",
       "</div>"
      ],
      "text/plain": [
       "    index                 file     condition  Sample Size  Shap. Wilk  \\\n",
       "19    164     220110n_0055.tif  Thapsigargin           11    0.056977   \n",
       "20    175     220110n_0060.tif  Thapsigargin            7    0.001530   \n",
       "34    301  2.5Hz_ctrl_0017.tif       Control            9    0.000016   \n",
       "37    330             cell.tif       Control            8    0.086283   \n",
       "45    395  thapsi 2.5_0047.tif  Thapsigargin            5    0.058264   \n",
       "\n",
       "    Kol. Smir.  \n",
       "19         0.0  \n",
       "20         0.0  \n",
       "34         0.0  \n",
       "37         0.0  \n",
       "45         0.0  "
      ]
     },
     "metadata": {},
     "output_type": "display_data"
    },
    {
     "data": {
      "application/javascript": [
       "\n",
       "            setTimeout(function() {\n",
       "                var nbb_cell_id = 86;\n",
       "                var nbb_unformatted_code = \"# Lets see more\\n# pd.set_option('display.max_rows', 10)\\n# testdf.head(25)\\n\\n# The groups that are not normal at alpha = 0.05\\ndisplay(testdf[testdf[\\\"Shap. Wilk\\\"] < 0.05])\\n# and at 0.1\\ndisplay(testdf[testdf[\\\"Shap. Wilk\\\"] < 0.1])\";\n",
       "                var nbb_formatted_code = \"# Lets see more\\n# pd.set_option('display.max_rows', 10)\\n# testdf.head(25)\\n\\n# The groups that are not normal at alpha = 0.05\\ndisplay(testdf[testdf[\\\"Shap. Wilk\\\"] < 0.05])\\n# and at 0.1\\ndisplay(testdf[testdf[\\\"Shap. Wilk\\\"] < 0.1])\";\n",
       "                var nbb_cells = Jupyter.notebook.get_cells();\n",
       "                for (var i = 0; i < nbb_cells.length; ++i) {\n",
       "                    if (nbb_cells[i].input_prompt_number == nbb_cell_id) {\n",
       "                        if (nbb_cells[i].get_text() == nbb_unformatted_code) {\n",
       "                             nbb_cells[i].set_text(nbb_formatted_code);\n",
       "                        }\n",
       "                        break;\n",
       "                    }\n",
       "                }\n",
       "            }, 500);\n",
       "            "
      ],
      "text/plain": [
       "<IPython.core.display.Javascript object>"
      ]
     },
     "metadata": {},
     "output_type": "display_data"
    }
   ],
   "source": [
    "# Lets see more\n",
    "# pd.set_option('display.max_rows', 10)\n",
    "# testdf.head(25)\n",
    "\n",
    "# The groups that are not normal at alpha = 0.05\n",
    "display(testdf[testdf[\"Shap. Wilk\"] < 0.05])\n",
    "# and at 0.1\n",
    "display(testdf[testdf[\"Shap. Wilk\"] < 0.1])"
   ]
  },
  {
   "cell_type": "markdown",
   "id": "79f53d90",
   "metadata": {},
   "source": [
    "It appears that besides a two files from the control group and three from the Thapsigargin group, we can conclude that all the other files, regardless of condition, come from a normal population. If curious, we could see the strength of this normality by assessing which group has the higher proportion of large p-values. "
   ]
  },
  {
   "cell_type": "markdown",
   "id": "ef28252a",
   "metadata": {},
   "source": [
    "## Meauring the Contributions of Variables to the Variance of the Data"
   ]
  },
  {
   "cell_type": "markdown",
   "id": "94d8ca4f",
   "metadata": {},
   "source": [
    "https://www.sportsci.org/resource/stats/correl.html\n",
    "\n",
    "Next: Build a correlation heat map and calculate $R^2$ to measure how much variance in X measures Y\n",
    "https://plotly.com/python/heatmaps/"
   ]
  },
  {
   "cell_type": "code",
   "execution_count": 87,
   "id": "78644e9a",
   "metadata": {},
   "outputs": [
    {
     "data": {
      "text/plain": [
       "analysisVersion                object\n",
       "interfaceVersion               object\n",
       "file                           object\n",
       "detectionType                  object\n",
       "cellType                      float64\n",
       "sex                           float64\n",
       "condition                      object\n",
       "sweep                           int64\n",
       "sweepSpikeNumber                int64\n",
       "spikeNumber                     int64\n",
       "include                          bool\n",
       "userType                        int64\n",
       "errors                         object\n",
       "dvdtThreshold                 float64\n",
       "mvThreshold                   float64\n",
       "medianFilter                    int64\n",
       "halfHeights                    object\n",
       "thresholdPnt                    int64\n",
       "thresholdSec                  float64\n",
       "thresholdVal                  float64\n",
       "thresholdVal_dvdt             float64\n",
       "dacCommand                    float64\n",
       "peakPnt                         int64\n",
       "peakSec                       float64\n",
       "peakVal                       float64\n",
       "peakHeight                    float64\n",
       "timeToPeak_ms                 float64\n",
       "preMinPnt                     float64\n",
       "preMinVal                     float64\n",
       "preLinearFitPnt0                int64\n",
       "preLinearFitPnt1                int64\n",
       "earlyDiastolicDuration_ms     float64\n",
       "preLinearFitVal0              float64\n",
       "preLinearFitVal1              float64\n",
       "earlyDiastolicDurationRate    float64\n",
       "lateDiastolicDuration         float64\n",
       "preSpike_dvdt_max_pnt           int64\n",
       "preSpike_dvdt_max_val         float64\n",
       "preSpike_dvdt_max_val2        float64\n",
       "postSpike_dvdt_min_pnt          int64\n",
       "postSpike_dvdt_min_val        float64\n",
       "postSpike_dvdt_min_val2       float64\n",
       "isi_pnts                      float64\n",
       "isi_ms                        float64\n",
       "spikeFreq_hz                  float64\n",
       "cycleLength_pnts              float64\n",
       "cycleLength_ms                float64\n",
       "diastolicDuration_ms          float64\n",
       "widths                         object\n",
       "widths_10                     float64\n",
       "widths_20                     float64\n",
       "widths_50                     float64\n",
       "widths_80                     float64\n",
       "widths_90                     float64\n",
       "myDateStr                      object\n",
       "fileIdx                         int64\n",
       "myFileIdx                       int64\n",
       "dtype: object"
      ]
     },
     "metadata": {},
     "output_type": "display_data"
    },
    {
     "data": {
      "text/plain": [
       "analysisVersion               400\n",
       "interfaceVersion              400\n",
       "file                          400\n",
       "detectionType                 400\n",
       "cellType                        0\n",
       "sex                             0\n",
       "condition                     400\n",
       "sweep                         400\n",
       "sweepSpikeNumber              400\n",
       "spikeNumber                   400\n",
       "include                       400\n",
       "userType                      400\n",
       "errors                        400\n",
       "dvdtThreshold                 244\n",
       "mvThreshold                   400\n",
       "medianFilter                  400\n",
       "halfHeights                   400\n",
       "thresholdPnt                  400\n",
       "thresholdSec                  400\n",
       "thresholdVal                  400\n",
       "thresholdVal_dvdt             400\n",
       "dacCommand                    400\n",
       "peakPnt                       400\n",
       "peakSec                       400\n",
       "peakVal                       400\n",
       "peakHeight                    400\n",
       "timeToPeak_ms                 400\n",
       "preMinPnt                      44\n",
       "preMinVal                      44\n",
       "preLinearFitPnt0              400\n",
       "preLinearFitPnt1              400\n",
       "earlyDiastolicDuration_ms     400\n",
       "preLinearFitVal0              399\n",
       "preLinearFitVal1              400\n",
       "earlyDiastolicDurationRate    225\n",
       "lateDiastolicDuration           0\n",
       "preSpike_dvdt_max_pnt         400\n",
       "preSpike_dvdt_max_val         400\n",
       "preSpike_dvdt_max_val2        400\n",
       "postSpike_dvdt_min_pnt        400\n",
       "postSpike_dvdt_min_val        400\n",
       "postSpike_dvdt_min_val2       400\n",
       "isi_pnts                      354\n",
       "isi_ms                        354\n",
       "spikeFreq_hz                  354\n",
       "cycleLength_pnts               38\n",
       "cycleLength_ms                 38\n",
       "diastolicDuration_ms          400\n",
       "widths                        400\n",
       "widths_10                     312\n",
       "widths_20                     325\n",
       "widths_50                     378\n",
       "widths_80                     386\n",
       "widths_90                     390\n",
       "myDateStr                     400\n",
       "fileIdx                       400\n",
       "myFileIdx                     400\n",
       "dtype: int64"
      ]
     },
     "execution_count": 87,
     "metadata": {},
     "output_type": "execute_result"
    },
    {
     "data": {
      "application/javascript": [
       "\n",
       "            setTimeout(function() {\n",
       "                var nbb_cell_id = 87;\n",
       "                var nbb_unformatted_code = \"# using pandas\\n# dfMaster.corr\\n\\ndisplay(dfMaster.dtypes)\\n# I am going to need to clean up this data..\\ndfMaster.count()\";\n",
       "                var nbb_formatted_code = \"# using pandas\\n# dfMaster.corr\\n\\ndisplay(dfMaster.dtypes)\\n# I am going to need to clean up this data..\\ndfMaster.count()\";\n",
       "                var nbb_cells = Jupyter.notebook.get_cells();\n",
       "                for (var i = 0; i < nbb_cells.length; ++i) {\n",
       "                    if (nbb_cells[i].input_prompt_number == nbb_cell_id) {\n",
       "                        if (nbb_cells[i].get_text() == nbb_unformatted_code) {\n",
       "                             nbb_cells[i].set_text(nbb_formatted_code);\n",
       "                        }\n",
       "                        break;\n",
       "                    }\n",
       "                }\n",
       "            }, 500);\n",
       "            "
      ],
      "text/plain": [
       "<IPython.core.display.Javascript object>"
      ]
     },
     "metadata": {},
     "output_type": "display_data"
    }
   ],
   "source": [
    "# using pandas\n",
    "# dfMaster.corr\n",
    "\n",
    "display(dfMaster.dtypes)\n",
    "# I am going to need to clean up this data..\n",
    "dfMaster.count()"
   ]
  },
  {
   "cell_type": "code",
   "execution_count": 88,
   "id": "27b3d78a",
   "metadata": {},
   "outputs": [
    {
     "data": {
      "application/javascript": [
       "\n",
       "            setTimeout(function() {\n",
       "                var nbb_cell_id = 88;\n",
       "                var nbb_unformatted_code = \"# Sex, CellType, and lateDiastolicDuration are all NA, so lets drop them.\\ndfMaster = dfMaster.drop([\\\"cellType\\\", \\\"sex\\\", \\\"lateDiastolicDuration\\\"], axis=1)\";\n",
       "                var nbb_formatted_code = \"# Sex, CellType, and lateDiastolicDuration are all NA, so lets drop them.\\ndfMaster = dfMaster.drop([\\\"cellType\\\", \\\"sex\\\", \\\"lateDiastolicDuration\\\"], axis=1)\";\n",
       "                var nbb_cells = Jupyter.notebook.get_cells();\n",
       "                for (var i = 0; i < nbb_cells.length; ++i) {\n",
       "                    if (nbb_cells[i].input_prompt_number == nbb_cell_id) {\n",
       "                        if (nbb_cells[i].get_text() == nbb_unformatted_code) {\n",
       "                             nbb_cells[i].set_text(nbb_formatted_code);\n",
       "                        }\n",
       "                        break;\n",
       "                    }\n",
       "                }\n",
       "            }, 500);\n",
       "            "
      ],
      "text/plain": [
       "<IPython.core.display.Javascript object>"
      ]
     },
     "metadata": {},
     "output_type": "display_data"
    }
   ],
   "source": [
    "# Sex, CellType, and lateDiastolicDuration are all NA, so lets drop them.\n",
    "dfMaster = dfMaster.drop([\"cellType\", \"sex\", \"lateDiastolicDuration\"], axis=1)"
   ]
  },
  {
   "cell_type": "code",
   "execution_count": 89,
   "id": "0f9ab8eb",
   "metadata": {},
   "outputs": [
    {
     "data": {
      "text/plain": [
       "0      [10, 20, 50, 80, 90]\n",
       "1      [10, 20, 50, 80, 90]\n",
       "2      [10, 20, 50, 80, 90]\n",
       "3      [10, 20, 50, 80, 90]\n",
       "4      [10, 20, 50, 80, 90]\n",
       "               ...         \n",
       "395    [10, 20, 50, 80, 90]\n",
       "396    [10, 20, 50, 80, 90]\n",
       "397    [10, 20, 50, 80, 90]\n",
       "398    [10, 20, 50, 80, 90]\n",
       "399    [10, 20, 50, 80, 90]\n",
       "Name: halfHeights, Length: 400, dtype: object"
      ]
     },
     "metadata": {},
     "output_type": "display_data"
    },
    {
     "data": {
      "text/plain": [
       "0      [{'halfHeight': 10, 'risingPnt': 96, 'fallingP...\n",
       "1      [{'halfHeight': 10, 'risingPnt': 347, 'falling...\n",
       "2      [{'halfHeight': 10, 'risingPnt': 598, 'falling...\n",
       "3      [{'halfHeight': 10, 'risingPnt': 849, 'falling...\n",
       "4      [{'halfHeight': 10, 'risingPnt': 1100, 'fallin...\n",
       "                             ...                        \n",
       "395    [{'halfHeight': 10, 'risingPnt': 169, 'falling...\n",
       "396    [{'halfHeight': 10, 'risingPnt': 346, 'falling...\n",
       "397    [{'halfHeight': 10, 'risingPnt': 541, 'falling...\n",
       "398    [{'halfHeight': 10, 'risingPnt': 720, 'falling...\n",
       "399    [{'halfHeight': 10, 'risingPnt': 843, 'falling...\n",
       "Name: widths, Length: 400, dtype: object"
      ]
     },
     "metadata": {},
     "output_type": "display_data"
    },
    {
     "data": {
      "text/plain": [
       "0      jan-12-2022\n",
       "1      jan-12-2022\n",
       "2      jan-12-2022\n",
       "3      jan-12-2022\n",
       "4      jan-12-2022\n",
       "          ...     \n",
       "395    feb-15-2022\n",
       "396    feb-15-2022\n",
       "397    feb-15-2022\n",
       "398    feb-15-2022\n",
       "399    feb-15-2022\n",
       "Name: myDateStr, Length: 400, dtype: object"
      ]
     },
     "metadata": {},
     "output_type": "display_data"
    },
    {
     "data": {
      "application/javascript": [
       "\n",
       "            setTimeout(function() {\n",
       "                var nbb_cell_id = 89;\n",
       "                var nbb_unformatted_code = \"# Lets explore some variables, what do some of the object columns look like?\\ndisplay(dfMaster[\\\"halfHeights\\\"])\\ndisplay(dfMaster[\\\"widths\\\"])\\ndisplay(dfMaster[\\\"myDateStr\\\"])\";\n",
       "                var nbb_formatted_code = \"# Lets explore some variables, what do some of the object columns look like?\\ndisplay(dfMaster[\\\"halfHeights\\\"])\\ndisplay(dfMaster[\\\"widths\\\"])\\ndisplay(dfMaster[\\\"myDateStr\\\"])\";\n",
       "                var nbb_cells = Jupyter.notebook.get_cells();\n",
       "                for (var i = 0; i < nbb_cells.length; ++i) {\n",
       "                    if (nbb_cells[i].input_prompt_number == nbb_cell_id) {\n",
       "                        if (nbb_cells[i].get_text() == nbb_unformatted_code) {\n",
       "                             nbb_cells[i].set_text(nbb_formatted_code);\n",
       "                        }\n",
       "                        break;\n",
       "                    }\n",
       "                }\n",
       "            }, 500);\n",
       "            "
      ],
      "text/plain": [
       "<IPython.core.display.Javascript object>"
      ]
     },
     "metadata": {},
     "output_type": "display_data"
    }
   ],
   "source": [
    "# Lets explore some variables, what do some of the object columns look like?\n",
    "display(dfMaster[\"halfHeights\"])\n",
    "display(dfMaster[\"widths\"])\n",
    "display(dfMaster[\"myDateStr\"])"
   ]
  },
  {
   "cell_type": "code",
   "execution_count": 90,
   "id": "26bf95c4",
   "metadata": {},
   "outputs": [
    {
     "data": {
      "text/html": [
       "<div>\n",
       "<style scoped>\n",
       "    .dataframe tbody tr th:only-of-type {\n",
       "        vertical-align: middle;\n",
       "    }\n",
       "\n",
       "    .dataframe tbody tr th {\n",
       "        vertical-align: top;\n",
       "    }\n",
       "\n",
       "    .dataframe thead th {\n",
       "        text-align: right;\n",
       "    }\n",
       "</style>\n",
       "<table border=\"1\" class=\"dataframe\">\n",
       "  <thead>\n",
       "    <tr style=\"text-align: right;\">\n",
       "      <th></th>\n",
       "      <th>file</th>\n",
       "      <th>condition</th>\n",
       "      <th>sweep</th>\n",
       "      <th>sweepSpikeNumber</th>\n",
       "      <th>spikeNumber</th>\n",
       "      <th>include</th>\n",
       "      <th>userType</th>\n",
       "      <th>dvdtThreshold</th>\n",
       "      <th>mvThreshold</th>\n",
       "      <th>medianFilter</th>\n",
       "      <th>...</th>\n",
       "      <th>isi_ms</th>\n",
       "      <th>spikeFreq_hz</th>\n",
       "      <th>diastolicDuration_ms</th>\n",
       "      <th>widths_10</th>\n",
       "      <th>widths_20</th>\n",
       "      <th>widths_50</th>\n",
       "      <th>widths_80</th>\n",
       "      <th>widths_90</th>\n",
       "      <th>fileIdx</th>\n",
       "      <th>myFileIdx</th>\n",
       "    </tr>\n",
       "  </thead>\n",
       "  <tbody>\n",
       "    <tr>\n",
       "      <th>0</th>\n",
       "      <td>220110n_0003.tif</td>\n",
       "      <td>Control</td>\n",
       "      <td>0</td>\n",
       "      <td>0</td>\n",
       "      <td>0</td>\n",
       "      <td>True</td>\n",
       "      <td>0</td>\n",
       "      <td>0.0</td>\n",
       "      <td>1.41</td>\n",
       "      <td>0</td>\n",
       "      <td>...</td>\n",
       "      <td>NaN</td>\n",
       "      <td>NaN</td>\n",
       "      <td>23.5704</td>\n",
       "      <td>769.9664</td>\n",
       "      <td>742.4676</td>\n",
       "      <td>557.8328</td>\n",
       "      <td>396.7684</td>\n",
       "      <td>302.4868</td>\n",
       "      <td>0</td>\n",
       "      <td>0</td>\n",
       "    </tr>\n",
       "    <tr>\n",
       "      <th>1</th>\n",
       "      <td>220110n_0003.tif</td>\n",
       "      <td>Control</td>\n",
       "      <td>0</td>\n",
       "      <td>1</td>\n",
       "      <td>1</td>\n",
       "      <td>True</td>\n",
       "      <td>0</td>\n",
       "      <td>0.0</td>\n",
       "      <td>1.41</td>\n",
       "      <td>0</td>\n",
       "      <td>...</td>\n",
       "      <td>986.0284</td>\n",
       "      <td>1.014170</td>\n",
       "      <td>3.9284</td>\n",
       "      <td>785.6800</td>\n",
       "      <td>754.2528</td>\n",
       "      <td>589.2600</td>\n",
       "      <td>428.1956</td>\n",
       "      <td>345.6992</td>\n",
       "      <td>0</td>\n",
       "      <td>0</td>\n",
       "    </tr>\n",
       "    <tr>\n",
       "      <th>2</th>\n",
       "      <td>220110n_0003.tif</td>\n",
       "      <td>Control</td>\n",
       "      <td>0</td>\n",
       "      <td>2</td>\n",
       "      <td>2</td>\n",
       "      <td>True</td>\n",
       "      <td>0</td>\n",
       "      <td>0.0</td>\n",
       "      <td>1.41</td>\n",
       "      <td>0</td>\n",
       "      <td>...</td>\n",
       "      <td>982.1000</td>\n",
       "      <td>1.018226</td>\n",
       "      <td>3.9284</td>\n",
       "      <td>809.2504</td>\n",
       "      <td>754.2528</td>\n",
       "      <td>581.4032</td>\n",
       "      <td>408.5536</td>\n",
       "      <td>282.8448</td>\n",
       "      <td>0</td>\n",
       "      <td>0</td>\n",
       "    </tr>\n",
       "    <tr>\n",
       "      <th>3</th>\n",
       "      <td>220110n_0003.tif</td>\n",
       "      <td>Control</td>\n",
       "      <td>0</td>\n",
       "      <td>3</td>\n",
       "      <td>3</td>\n",
       "      <td>True</td>\n",
       "      <td>0</td>\n",
       "      <td>0.0</td>\n",
       "      <td>1.41</td>\n",
       "      <td>0</td>\n",
       "      <td>...</td>\n",
       "      <td>989.9568</td>\n",
       "      <td>1.010145</td>\n",
       "      <td>19.6420</td>\n",
       "      <td>895.6752</td>\n",
       "      <td>726.7540</td>\n",
       "      <td>581.4032</td>\n",
       "      <td>396.7684</td>\n",
       "      <td>259.2744</td>\n",
       "      <td>0</td>\n",
       "      <td>0</td>\n",
       "    </tr>\n",
       "    <tr>\n",
       "      <th>4</th>\n",
       "      <td>220110n_0003.tif</td>\n",
       "      <td>Control</td>\n",
       "      <td>0</td>\n",
       "      <td>4</td>\n",
       "      <td>4</td>\n",
       "      <td>True</td>\n",
       "      <td>0</td>\n",
       "      <td>0.0</td>\n",
       "      <td>1.41</td>\n",
       "      <td>0</td>\n",
       "      <td>...</td>\n",
       "      <td>974.2432</td>\n",
       "      <td>1.026438</td>\n",
       "      <td>3.9284</td>\n",
       "      <td>813.1788</td>\n",
       "      <td>714.9688</td>\n",
       "      <td>601.0452</td>\n",
       "      <td>381.0548</td>\n",
       "      <td>243.5608</td>\n",
       "      <td>0</td>\n",
       "      <td>0</td>\n",
       "    </tr>\n",
       "    <tr>\n",
       "      <th>...</th>\n",
       "      <td>...</td>\n",
       "      <td>...</td>\n",
       "      <td>...</td>\n",
       "      <td>...</td>\n",
       "      <td>...</td>\n",
       "      <td>...</td>\n",
       "      <td>...</td>\n",
       "      <td>...</td>\n",
       "      <td>...</td>\n",
       "      <td>...</td>\n",
       "      <td>...</td>\n",
       "      <td>...</td>\n",
       "      <td>...</td>\n",
       "      <td>...</td>\n",
       "      <td>...</td>\n",
       "      <td>...</td>\n",
       "      <td>...</td>\n",
       "      <td>...</td>\n",
       "      <td>...</td>\n",
       "      <td>...</td>\n",
       "      <td>...</td>\n",
       "    </tr>\n",
       "    <tr>\n",
       "      <th>395</th>\n",
       "      <td>thapsi 2.5_0047.tif</td>\n",
       "      <td>Thapsigargin</td>\n",
       "      <td>0</td>\n",
       "      <td>0</td>\n",
       "      <td>0</td>\n",
       "      <td>True</td>\n",
       "      <td>0</td>\n",
       "      <td>NaN</td>\n",
       "      <td>1.08</td>\n",
       "      <td>0</td>\n",
       "      <td>...</td>\n",
       "      <td>NaN</td>\n",
       "      <td>NaN</td>\n",
       "      <td>51.5350</td>\n",
       "      <td>688.6950</td>\n",
       "      <td>627.7900</td>\n",
       "      <td>505.9800</td>\n",
       "      <td>187.4000</td>\n",
       "      <td>182.7150</td>\n",
       "      <td>8</td>\n",
       "      <td>2</td>\n",
       "    </tr>\n",
       "    <tr>\n",
       "      <th>396</th>\n",
       "      <td>thapsi 2.5_0047.tif</td>\n",
       "      <td>Thapsigargin</td>\n",
       "      <td>0</td>\n",
       "      <td>1</td>\n",
       "      <td>1</td>\n",
       "      <td>True</td>\n",
       "      <td>0</td>\n",
       "      <td>NaN</td>\n",
       "      <td>1.08</td>\n",
       "      <td>0</td>\n",
       "      <td>...</td>\n",
       "      <td>805.8200</td>\n",
       "      <td>1.240972</td>\n",
       "      <td>18.7400</td>\n",
       "      <td>773.0250</td>\n",
       "      <td>726.1750</td>\n",
       "      <td>580.9400</td>\n",
       "      <td>281.1000</td>\n",
       "      <td>79.6450</td>\n",
       "      <td>8</td>\n",
       "      <td>2</td>\n",
       "    </tr>\n",
       "    <tr>\n",
       "      <th>397</th>\n",
       "      <td>thapsi 2.5_0047.tif</td>\n",
       "      <td>Thapsigargin</td>\n",
       "      <td>0</td>\n",
       "      <td>2</td>\n",
       "      <td>2</td>\n",
       "      <td>True</td>\n",
       "      <td>0</td>\n",
       "      <td>NaN</td>\n",
       "      <td>1.08</td>\n",
       "      <td>0</td>\n",
       "      <td>...</td>\n",
       "      <td>932.3150</td>\n",
       "      <td>1.072599</td>\n",
       "      <td>79.6450</td>\n",
       "      <td>754.2850</td>\n",
       "      <td>716.8050</td>\n",
       "      <td>557.5150</td>\n",
       "      <td>248.3050</td>\n",
       "      <td>182.7150</td>\n",
       "      <td>8</td>\n",
       "      <td>2</td>\n",
       "    </tr>\n",
       "    <tr>\n",
       "      <th>398</th>\n",
       "      <td>thapsi 2.5_0047.tif</td>\n",
       "      <td>Thapsigargin</td>\n",
       "      <td>0</td>\n",
       "      <td>3</td>\n",
       "      <td>3</td>\n",
       "      <td>True</td>\n",
       "      <td>0</td>\n",
       "      <td>NaN</td>\n",
       "      <td>1.08</td>\n",
       "      <td>0</td>\n",
       "      <td>...</td>\n",
       "      <td>843.3000</td>\n",
       "      <td>1.185818</td>\n",
       "      <td>28.1100</td>\n",
       "      <td>482.5550</td>\n",
       "      <td>454.4450</td>\n",
       "      <td>351.3750</td>\n",
       "      <td>154.6050</td>\n",
       "      <td>84.3300</td>\n",
       "      <td>8</td>\n",
       "      <td>2</td>\n",
       "    </tr>\n",
       "    <tr>\n",
       "      <th>399</th>\n",
       "      <td>thapsi 2.5_0047.tif</td>\n",
       "      <td>Thapsigargin</td>\n",
       "      <td>0</td>\n",
       "      <td>4</td>\n",
       "      <td>4</td>\n",
       "      <td>True</td>\n",
       "      <td>0</td>\n",
       "      <td>NaN</td>\n",
       "      <td>1.08</td>\n",
       "      <td>0</td>\n",
       "      <td>...</td>\n",
       "      <td>562.2000</td>\n",
       "      <td>1.778726</td>\n",
       "      <td>28.1100</td>\n",
       "      <td>571.5700</td>\n",
       "      <td>562.2000</td>\n",
       "      <td>487.2400</td>\n",
       "      <td>337.3200</td>\n",
       "      <td>229.5650</td>\n",
       "      <td>8</td>\n",
       "      <td>2</td>\n",
       "    </tr>\n",
       "  </tbody>\n",
       "</table>\n",
       "<p>400 rows × 43 columns</p>\n",
       "</div>"
      ],
      "text/plain": [
       "                    file     condition  sweep  sweepSpikeNumber  spikeNumber  \\\n",
       "0       220110n_0003.tif       Control      0                 0            0   \n",
       "1       220110n_0003.tif       Control      0                 1            1   \n",
       "2       220110n_0003.tif       Control      0                 2            2   \n",
       "3       220110n_0003.tif       Control      0                 3            3   \n",
       "4       220110n_0003.tif       Control      0                 4            4   \n",
       "..                   ...           ...    ...               ...          ...   \n",
       "395  thapsi 2.5_0047.tif  Thapsigargin      0                 0            0   \n",
       "396  thapsi 2.5_0047.tif  Thapsigargin      0                 1            1   \n",
       "397  thapsi 2.5_0047.tif  Thapsigargin      0                 2            2   \n",
       "398  thapsi 2.5_0047.tif  Thapsigargin      0                 3            3   \n",
       "399  thapsi 2.5_0047.tif  Thapsigargin      0                 4            4   \n",
       "\n",
       "     include  userType  dvdtThreshold  mvThreshold  medianFilter  ...  \\\n",
       "0       True         0            0.0         1.41             0  ...   \n",
       "1       True         0            0.0         1.41             0  ...   \n",
       "2       True         0            0.0         1.41             0  ...   \n",
       "3       True         0            0.0         1.41             0  ...   \n",
       "4       True         0            0.0         1.41             0  ...   \n",
       "..       ...       ...            ...          ...           ...  ...   \n",
       "395     True         0            NaN         1.08             0  ...   \n",
       "396     True         0            NaN         1.08             0  ...   \n",
       "397     True         0            NaN         1.08             0  ...   \n",
       "398     True         0            NaN         1.08             0  ...   \n",
       "399     True         0            NaN         1.08             0  ...   \n",
       "\n",
       "       isi_ms  spikeFreq_hz  diastolicDuration_ms  widths_10  widths_20  \\\n",
       "0         NaN           NaN               23.5704   769.9664   742.4676   \n",
       "1    986.0284      1.014170                3.9284   785.6800   754.2528   \n",
       "2    982.1000      1.018226                3.9284   809.2504   754.2528   \n",
       "3    989.9568      1.010145               19.6420   895.6752   726.7540   \n",
       "4    974.2432      1.026438                3.9284   813.1788   714.9688   \n",
       "..        ...           ...                   ...        ...        ...   \n",
       "395       NaN           NaN               51.5350   688.6950   627.7900   \n",
       "396  805.8200      1.240972               18.7400   773.0250   726.1750   \n",
       "397  932.3150      1.072599               79.6450   754.2850   716.8050   \n",
       "398  843.3000      1.185818               28.1100   482.5550   454.4450   \n",
       "399  562.2000      1.778726               28.1100   571.5700   562.2000   \n",
       "\n",
       "     widths_50  widths_80  widths_90  fileIdx  myFileIdx  \n",
       "0     557.8328   396.7684   302.4868        0          0  \n",
       "1     589.2600   428.1956   345.6992        0          0  \n",
       "2     581.4032   408.5536   282.8448        0          0  \n",
       "3     581.4032   396.7684   259.2744        0          0  \n",
       "4     601.0452   381.0548   243.5608        0          0  \n",
       "..         ...        ...        ...      ...        ...  \n",
       "395   505.9800   187.4000   182.7150        8          2  \n",
       "396   580.9400   281.1000    79.6450        8          2  \n",
       "397   557.5150   248.3050   182.7150        8          2  \n",
       "398   351.3750   154.6050    84.3300        8          2  \n",
       "399   487.2400   337.3200   229.5650        8          2  \n",
       "\n",
       "[400 rows x 43 columns]"
      ]
     },
     "metadata": {},
     "output_type": "display_data"
    },
    {
     "data": {
      "application/javascript": [
       "\n",
       "            setTimeout(function() {\n",
       "                var nbb_cell_id = 90;\n",
       "                var nbb_unformatted_code = \"# Lets drop these columns, some more objects, and columns with mostly Nans and turn 'condition' into a dummy variable\\ndfRed = dfMaster.drop(\\n    [\\n        \\\"analysisVersion\\\",\\n        \\\"interfaceVersion\\\",\\n        \\\"detectionType\\\",\\n        \\\"errors\\\",\\n        \\\"halfHeights\\\",\\n        \\\"widths\\\",\\n        \\\"myDateStr\\\",\\n        \\\"preMinPnt\\\",\\n        \\\"preMinVal\\\",\\n        \\\"cycleLength_pnts\\\",\\n        \\\"cycleLength_ms\\\",\\n    ],\\n    axis=1,\\n)\\ndisplay(dfRed)\";\n",
       "                var nbb_formatted_code = \"# Lets drop these columns, some more objects, and columns with mostly Nans and turn 'condition' into a dummy variable\\ndfRed = dfMaster.drop(\\n    [\\n        \\\"analysisVersion\\\",\\n        \\\"interfaceVersion\\\",\\n        \\\"detectionType\\\",\\n        \\\"errors\\\",\\n        \\\"halfHeights\\\",\\n        \\\"widths\\\",\\n        \\\"myDateStr\\\",\\n        \\\"preMinPnt\\\",\\n        \\\"preMinVal\\\",\\n        \\\"cycleLength_pnts\\\",\\n        \\\"cycleLength_ms\\\",\\n    ],\\n    axis=1,\\n)\\ndisplay(dfRed)\";\n",
       "                var nbb_cells = Jupyter.notebook.get_cells();\n",
       "                for (var i = 0; i < nbb_cells.length; ++i) {\n",
       "                    if (nbb_cells[i].input_prompt_number == nbb_cell_id) {\n",
       "                        if (nbb_cells[i].get_text() == nbb_unformatted_code) {\n",
       "                             nbb_cells[i].set_text(nbb_formatted_code);\n",
       "                        }\n",
       "                        break;\n",
       "                    }\n",
       "                }\n",
       "            }, 500);\n",
       "            "
      ],
      "text/plain": [
       "<IPython.core.display.Javascript object>"
      ]
     },
     "metadata": {},
     "output_type": "display_data"
    }
   ],
   "source": [
    "# Lets drop these columns, some more objects, and columns with mostly Nans and turn 'condition' into a dummy variable\n",
    "dfRed = dfMaster.drop(\n",
    "    [\n",
    "        \"analysisVersion\",\n",
    "        \"interfaceVersion\",\n",
    "        \"detectionType\",\n",
    "        \"errors\",\n",
    "        \"halfHeights\",\n",
    "        \"widths\",\n",
    "        \"myDateStr\",\n",
    "        \"preMinPnt\",\n",
    "        \"preMinVal\",\n",
    "        \"cycleLength_pnts\",\n",
    "        \"cycleLength_ms\",\n",
    "    ],\n",
    "    axis=1,\n",
    ")\n",
    "display(dfRed)"
   ]
  },
  {
   "cell_type": "code",
   "execution_count": 91,
   "id": "84b78efc",
   "metadata": {},
   "outputs": [
    {
     "data": {
      "text/plain": [
       "sweep                              NaN\n",
       "sweepSpikeNumber             -0.043569\n",
       "spikeNumber                  -0.043569\n",
       "include                            NaN\n",
       "userType                           NaN\n",
       "dvdtThreshold                      NaN\n",
       "mvThreshold                   0.838027\n",
       "medianFilter                       NaN\n",
       "thresholdPnt                  0.185874\n",
       "thresholdSec                  0.173549\n",
       "thresholdVal                  0.242629\n",
       "thresholdVal_dvdt             0.167908\n",
       "dacCommand                         NaN\n",
       "peakPnt                       0.168305\n",
       "peakSec                       0.155019\n",
       "peakVal                       1.000000\n",
       "peakHeight                    0.986120\n",
       "timeToPeak_ms                -0.355022\n",
       "preLinearFitPnt0              0.190657\n",
       "preLinearFitPnt1              0.188468\n",
       "earlyDiastolicDuration_ms    -0.385979\n",
       "preLinearFitVal0              0.305526\n",
       "preLinearFitVal1              0.284234\n",
       "earlyDiastolicDurationRate    0.378514\n",
       "preSpike_dvdt_max_pnt         0.174456\n",
       "preSpike_dvdt_max_val         0.800657\n",
       "preSpike_dvdt_max_val2        0.799437\n",
       "postSpike_dvdt_min_pnt        0.168409\n",
       "postSpike_dvdt_min_val        0.999892\n",
       "postSpike_dvdt_min_val2      -0.389221\n",
       "isi_pnts                      0.310337\n",
       "isi_ms                        0.289431\n",
       "spikeFreq_hz                 -0.367418\n",
       "diastolicDuration_ms         -0.386256\n",
       "widths_10                     0.288782\n",
       "widths_20                     0.240949\n",
       "widths_50                     0.235853\n",
       "widths_80                     0.375743\n",
       "widths_90                     0.482941\n",
       "fileIdx                      -0.485900\n",
       "myFileIdx                    -0.171289\n",
       "Name: peakVal, dtype: float64"
      ]
     },
     "execution_count": 91,
     "metadata": {},
     "output_type": "execute_result"
    },
    {
     "data": {
      "application/javascript": [
       "\n",
       "            setTimeout(function() {\n",
       "                var nbb_cell_id = 91;\n",
       "                var nbb_unformatted_code = \"dfRed.set_index([\\\"file\\\", \\\"condition\\\"])\\nnp.corrcoef(dfRed[\\\"earlyDiastolicDuration_ms\\\"], dfRed[\\\"peakVal\\\"])\\n\\npeakValCor = dfRed.corr()[\\\"peakVal\\\"][:]\\npeakValCor\";\n",
       "                var nbb_formatted_code = \"dfRed.set_index([\\\"file\\\", \\\"condition\\\"])\\nnp.corrcoef(dfRed[\\\"earlyDiastolicDuration_ms\\\"], dfRed[\\\"peakVal\\\"])\\n\\npeakValCor = dfRed.corr()[\\\"peakVal\\\"][:]\\npeakValCor\";\n",
       "                var nbb_cells = Jupyter.notebook.get_cells();\n",
       "                for (var i = 0; i < nbb_cells.length; ++i) {\n",
       "                    if (nbb_cells[i].input_prompt_number == nbb_cell_id) {\n",
       "                        if (nbb_cells[i].get_text() == nbb_unformatted_code) {\n",
       "                             nbb_cells[i].set_text(nbb_formatted_code);\n",
       "                        }\n",
       "                        break;\n",
       "                    }\n",
       "                }\n",
       "            }, 500);\n",
       "            "
      ],
      "text/plain": [
       "<IPython.core.display.Javascript object>"
      ]
     },
     "metadata": {},
     "output_type": "display_data"
    }
   ],
   "source": [
    "dfRed.set_index([\"file\", \"condition\"])\n",
    "np.corrcoef(dfRed[\"earlyDiastolicDuration_ms\"], dfRed[\"peakVal\"])\n",
    "\n",
    "peakValCor = dfRed.corr()[\"peakVal\"][:]\n",
    "peakValCor"
   ]
  },
  {
   "cell_type": "code",
   "execution_count": 92,
   "id": "e8d24e8a",
   "metadata": {},
   "outputs": [
    {
     "data": {
      "text/plain": [
       "sweep                              NaN\n",
       "sweepSpikeNumber              0.001898\n",
       "spikeNumber                   0.001898\n",
       "include                            NaN\n",
       "userType                           NaN\n",
       "dvdtThreshold                      NaN\n",
       "mvThreshold                   0.702289\n",
       "medianFilter                       NaN\n",
       "thresholdPnt                  0.034549\n",
       "thresholdSec                  0.030119\n",
       "thresholdVal                  0.058869\n",
       "thresholdVal_dvdt             0.028193\n",
       "dacCommand                         NaN\n",
       "peakPnt                       0.028327\n",
       "peakSec                       0.024031\n",
       "peakVal                       1.000000\n",
       "peakHeight                    0.972433\n",
       "timeToPeak_ms                 0.126041\n",
       "preLinearFitPnt0              0.036350\n",
       "preLinearFitPnt1              0.035520\n",
       "earlyDiastolicDuration_ms     0.148980\n",
       "preLinearFitVal0              0.093346\n",
       "preLinearFitVal1              0.080789\n",
       "earlyDiastolicDurationRate    0.143273\n",
       "preSpike_dvdt_max_pnt         0.030435\n",
       "preSpike_dvdt_max_val         0.641051\n",
       "preSpike_dvdt_max_val2        0.639100\n",
       "postSpike_dvdt_min_pnt        0.028362\n",
       "postSpike_dvdt_min_val        0.999784\n",
       "postSpike_dvdt_min_val2       0.151493\n",
       "isi_pnts                      0.096309\n",
       "isi_ms                        0.083770\n",
       "spikeFreq_hz                  0.134996\n",
       "diastolicDuration_ms          0.149193\n",
       "widths_10                     0.083395\n",
       "widths_20                     0.058056\n",
       "widths_50                     0.055626\n",
       "widths_80                     0.141183\n",
       "widths_90                     0.233232\n",
       "fileIdx                       0.236099\n",
       "myFileIdx                     0.029340\n",
       "Name: peakVal, dtype: float64"
      ]
     },
     "execution_count": 92,
     "metadata": {},
     "output_type": "execute_result"
    },
    {
     "data": {
      "application/javascript": [
       "\n",
       "            setTimeout(function() {\n",
       "                var nbb_cell_id = 92;\n",
       "                var nbb_unformatted_code = \"# Let's see the R^2 value now, how much of the variance of peakVal is explained by other variables?\\npeakValCor ** 2\";\n",
       "                var nbb_formatted_code = \"# Let's see the R^2 value now, how much of the variance of peakVal is explained by other variables?\\npeakValCor ** 2\";\n",
       "                var nbb_cells = Jupyter.notebook.get_cells();\n",
       "                for (var i = 0; i < nbb_cells.length; ++i) {\n",
       "                    if (nbb_cells[i].input_prompt_number == nbb_cell_id) {\n",
       "                        if (nbb_cells[i].get_text() == nbb_unformatted_code) {\n",
       "                             nbb_cells[i].set_text(nbb_formatted_code);\n",
       "                        }\n",
       "                        break;\n",
       "                    }\n",
       "                }\n",
       "            }, 500);\n",
       "            "
      ],
      "text/plain": [
       "<IPython.core.display.Javascript object>"
      ]
     },
     "metadata": {},
     "output_type": "display_data"
    }
   ],
   "source": [
    "# Let's see the R^2 value now, how much of the variance of peakVal is explained by other variables?\n",
    "peakValCor ** 2"
   ]
  },
  {
   "cell_type": "markdown",
   "id": "509a3afb",
   "metadata": {},
   "source": [
    "From the collected $R^2$ values above, we have a measurement of variance explained. That is, we answer the question, \"How much of the variance in peakVal is explained by the variance in another variable?\" We can see variables \"postSpike_dvdt_min_val\" and \"peakHeight\" have extremely high $R^2$ values. Another highly correlated variable is \"mvThreshold,\" with a value of 0.702. While the meanings of these variables are beyond my direct understanding, these are important to point out for those reading this that do understand the meaning. For exampe, in regards the variable just mentioned (mvThreshold), we can understand these results as the following: about 70% of the variance in peakVal is explained by the variance of the threshold. \n",
    "\n",
    "Some of the lowest contributers to the variance of peakVal such as sweepSpikeNumber and spikeNumber. We can also see variables thresholdVal_dvdt, peakPnt, peakSec, thresholdPnt, and thresholdSec have lower proportional variance explained. "
   ]
  },
  {
   "cell_type": "markdown",
   "id": "7500d1cf",
   "metadata": {},
   "source": [
    "## Are Mean and Variance of 'peakVal' meaningful?"
   ]
  },
  {
   "cell_type": "code",
   "execution_count": 93,
   "id": "a6061cc6",
   "metadata": {
    "scrolled": false
   },
   "outputs": [
    {
     "data": {
      "application/vnd.plotly.v1+json": {
       "config": {
        "plotlyServerURL": "https://plot.ly"
       },
       "data": [
        {
         "name": "Control",
         "type": "scatter",
         "x": [
          0.3653412,
          1.3513696,
          2.3334696,
          3.3234264,
          4.2976696,
          5.2915548,
          6.2775832000000005,
          7.2636116,
          8.2457116,
          9.23174
         ],
         "xaxis": "x",
         "y": [
          1.999562633941876,
          1.964671277657666,
          1.9676997241920893,
          2.003727901068696,
          1.9759306742864704,
          1.966263204954133,
          1.9448185486732352,
          1.9256581779646973,
          1.9125944393719327,
          1.91523637636662
         ],
         "yaxis": "y"
        },
        {
         "name": "Control",
         "type": "scatter",
         "x": [
          0.3653412,
          1.3513696,
          2.3334696,
          3.3234264,
          4.2976696,
          5.2915548,
          6.2775832000000005,
          7.2636116,
          8.2457116,
          9.23174
         ],
         "xaxis": "x2",
         "y": [
          0.8106257007555144,
          0.8325155289787534,
          0.8455284110531314,
          0.8802314799483391,
          0.8168287767469802,
          0.822683426452012,
          0.7542329181233707,
          0.7415166596492551,
          0.7345240066420975,
          0.9022452561512728
         ],
         "yaxis": "y2"
        },
        {
         "name": "Control",
         "type": "scatter",
         "x": [
          0.22142,
          2.1876296,
          4.1582676,
          6.133334,
          8.103972,
          10.07461
         ],
         "xaxis": "x3",
         "y": [
          2.4128020464655755,
          2.3639253245184357,
          2.347186356370204,
          2.299627727084012,
          2.2463363907376515,
          2.232397506609692
         ],
         "yaxis": "y3"
        },
        {
         "name": "Control",
         "type": "scatter",
         "x": [
          0.22142,
          2.1876296,
          4.1582676,
          6.133334,
          8.103972,
          10.07461
         ],
         "xaxis": "x4",
         "y": [
          1.2973854114379983,
          1.2771990481647184,
          1.2959000671570469,
          1.243244208074426,
          1.2169020779238706,
          1.216710764160423
         ],
         "yaxis": "y4"
        },
        {
         "name": "Control",
         "type": "scatter",
         "x": [
          1.9749632,
          3.945518,
          5.9160728,
          7.8778108,
          9.852774000000002
         ],
         "xaxis": "x5",
         "y": [
          2.660828056371197,
          2.638945625428616,
          2.6182591465703458,
          2.6007006332354545,
          2.588777384038281
         ],
         "yaxis": "y5"
        },
        {
         "name": "Control",
         "type": "scatter",
         "x": [
          1.9749632,
          3.945518,
          5.9160728,
          7.8778108,
          9.852774000000002
         ],
         "xaxis": "x6",
         "y": [
          1.6315834935331015,
          1.6161704058797175,
          1.5799699535807277,
          1.586345834117109,
          1.5677516387613988
         ],
         "yaxis": "y6"
        },
        {
         "name": "Control",
         "type": "scatter",
         "x": [
          0.8331876000000001,
          2.8169676,
          4.783114,
          6.758077200000001,
          8.728632,
          10.69037
         ],
         "xaxis": "x7",
         "y": [
          2.53765089425463,
          2.5146727323419547,
          2.498270932882823,
          2.4761393154583606,
          2.457048449029279,
          2.437886730507162
         ],
         "yaxis": "y7"
        },
        {
         "name": "Control",
         "type": "scatter",
         "x": [
          0.8331876000000001,
          2.8169676,
          4.783114,
          6.758077200000001,
          8.728632,
          10.69037
         ],
         "xaxis": "x8",
         "y": [
          1.5374953877127742,
          1.497362001746457,
          1.4903804021270342,
          1.4573732644687785,
          1.4424155594876926,
          1.434269409102745
         ],
         "yaxis": "y8"
        },
        {
         "name": "Control",
         "type": "scatter",
         "x": [
          0.5296312000000001,
          1.5125908,
          2.4955504,
          3.487486800000001,
          4.519818800000001,
          5.5117552000000005,
          6.499203200000001,
          7.486651200000001,
          8.483076,
          9.470524,
          10.4624604
         ],
         "xaxis": "x9",
         "y": [
          2.5450139845325834,
          2.536275232794111,
          2.4369162186806324,
          2.432921216884595,
          2.355409880356259,
          2.3825152509693983,
          2.366458367232904,
          2.387590822708055,
          2.341355471160546,
          2.316922973010311,
          2.255388573516272
         ],
         "yaxis": "y9"
        },
        {
         "name": "Control",
         "type": "scatter",
         "x": [
          0.5296312000000001,
          1.5125908,
          2.4955504,
          3.487486800000001,
          4.519818800000001,
          5.5117552000000005,
          6.499203200000001,
          7.486651200000001,
          8.483076,
          9.470524,
          10.4624604
         ],
         "xaxis": "x10",
         "y": [
          1.3658594423993828,
          1.3746370008320097,
          1.2890042582978467,
          1.294082900186358,
          0.8547505963766089,
          0.9092439141954514,
          0.8857002858309511,
          0.9182050675893484,
          0.877662019483171,
          0.8319581722783882,
          0.7937689466622859
         ],
         "yaxis": "y10"
        },
        {
         "name": "Control",
         "type": "scatter",
         "x": [
          0.67396,
          1.65004,
          2.644712,
          3.630088,
          4.620112,
          5.596192,
          6.581568,
          7.576239999999999,
          8.561616,
          9.546992,
          10.532368,
          11.522392
         ],
         "xaxis": "x11",
         "y": [
          1.6350803889321357,
          1.6146305562938377,
          1.6078991215702985,
          1.5952681362476702,
          1.58443853218188,
          1.5798900175254205,
          1.5648406859603692,
          1.5502758331320847,
          1.50678229757059,
          1.5179077696034442,
          1.4952435817697831,
          1.435567431048462
         ],
         "yaxis": "y11"
        },
        {
         "name": "Control",
         "type": "scatter",
         "x": [
          0.67396,
          1.65004,
          2.644712,
          3.630088,
          4.620112,
          5.596192,
          6.581568,
          7.576239999999999,
          8.561616,
          9.546992,
          10.532368,
          11.522392
         ],
         "xaxis": "x12",
         "y": [
          0.5421909340010711,
          0.5205402254964522,
          0.5397064795489528,
          0.5287835145013078,
          0.5462661678419982,
          0.53910098231403,
          0.5272945957213144,
          0.5289176197266896,
          0.4971501965032803,
          0.4989997423128964,
          0.4660739413579704,
          0.4181485923673349
         ],
         "yaxis": "y12"
        },
        {
         "name": "Control",
         "type": "scatter",
         "x": [
          1.0087528,
          1.9966636,
          2.9845744,
          3.9683168,
          4.960395999999999,
          5.948306799999999,
          6.9362176,
          7.9241284,
          8.907870800000001,
          9.89995
         ],
         "xaxis": "x13",
         "y": [
          2.607861877618985,
          2.58086984665776,
          2.5470558701897548,
          2.5343811185932026,
          2.5189471673772603,
          2.502022566744129,
          2.4900962277443304,
          2.4834427436915574,
          2.478193562553751,
          2.45220166425735
         ],
         "yaxis": "y13"
        },
        {
         "name": "Control",
         "type": "scatter",
         "x": [
          1.0087528,
          1.9966636,
          2.9845744,
          3.9683168,
          4.960395999999999,
          5.948306799999999,
          6.9362176,
          7.9241284,
          8.907870800000001,
          9.89995
         ],
         "xaxis": "x14",
         "y": [
          1.6039739976943757,
          1.5638452899412605,
          1.536855203205913,
          1.5190565014913349,
          1.5160516432139644,
          1.4974494043806832,
          1.484504634119562,
          1.4784331598016422,
          1.4761647056670744,
          1.447116598656882
         ],
         "yaxis": "y14"
        },
        {
         "name": "Control",
         "type": "scatter",
         "x": [
          0.7586487999999999,
          1.7507279999999998,
          2.7344704,
          3.7223812,
          4.7144604,
          5.6982028,
          6.690282,
          7.6781928,
          8.6619352,
          9.649846
         ],
         "xaxis": "x15",
         "y": [
          2.5326954032824114,
          2.495862466381763,
          2.489667699293199,
          2.4745217384834017,
          2.4462801882042458,
          2.438981527642394,
          2.441129953031613,
          2.4454307722707096,
          2.4495983173726787,
          2.4196293292392035
         ],
         "yaxis": "y15"
        },
        {
         "name": "Control",
         "type": "scatter",
         "x": [
          0.7586487999999999,
          1.7507279999999998,
          2.7344704,
          3.7223812,
          4.7144604,
          5.6982028,
          6.690282,
          7.6781928,
          8.6619352,
          9.649846
         ],
         "xaxis": "x16",
         "y": [
          1.5105012909898572,
          1.4867169834407703,
          1.4748256564288642,
          1.457272493524381,
          1.4368947787459163,
          1.401947191363306,
          1.39585196649627,
          1.3779556970973177,
          1.3771575404472938,
          1.317162186853316
         ],
         "yaxis": "y16"
        },
        {
         "name": "Control",
         "type": "scatter",
         "x": [
          0.4458672,
          1.4366832000000005,
          2.4233708000000003,
          3.4100584000000005,
          4.4008744,
          5.3958188,
          6.3825064000000005,
          7.373322400000001,
          8.3641384,
          9.3549544
         ],
         "xaxis": "x17",
         "y": [
          2.3737179412170795,
          2.4268110769691607,
          2.3784523087940337,
          2.382985530106412,
          2.3155189199182766,
          2.3076568975967744,
          2.25046466074266,
          2.2364830646312543,
          2.2097352919838698,
          2.2109470841397503
         ],
         "yaxis": "y17"
        },
        {
         "name": "Control",
         "type": "scatter",
         "x": [
          0.4458672,
          1.4366832000000005,
          2.4233708000000003,
          3.4100584000000005,
          4.4008744,
          5.3958188,
          6.3825064000000005,
          7.373322400000001,
          8.3641384,
          9.3549544
         ],
         "xaxis": "x18",
         "y": [
          1.2282155904151866,
          1.269411609146713,
          1.256045387209484,
          1.3094312908230965,
          1.2575418732930643,
          1.245433780871095,
          1.2032453703595352,
          1.2258085050116894,
          1.1942589649918904,
          1.203487471360937
         ],
         "yaxis": "y18"
        },
        {
         "name": "Control",
         "type": "scatter",
         "x": [
          1.0073296,
          1.9940172000000005,
          2.9848332,
          3.9797776,
          4.966465200000001,
          5.957281200000001,
          6.9439688,
          7.938913200000001,
          8.9297292,
          9.90816
         ],
         "xaxis": "x19",
         "y": [
          2.1818746942322145,
          2.1574479555848702,
          2.1366731491465263,
          2.1040382036309992,
          2.095862125198672,
          2.089677279597712,
          2.055076779659778,
          2.0208986956341826,
          2.0084333493164173,
          1.9896202029446184
         ],
         "yaxis": "y19"
        },
        {
         "name": "Control",
         "type": "scatter",
         "x": [
          1.0073296,
          1.9940172000000005,
          2.9848332,
          3.9797776,
          4.966465200000001,
          5.957281200000001,
          6.9439688,
          7.938913200000001,
          8.9297292,
          9.90816
         ],
         "xaxis": "x20",
         "y": [
          1.1698938301233288,
          1.146465750357185,
          1.1296775473346776,
          1.0998675919007133,
          1.0733885277144264,
          1.0765374795242066,
          1.0507809400488248,
          1.0223259770573756,
          0.9984569831885516,
          0.9613623917186516
         ],
         "yaxis": "y20"
        },
        {
         "name": "Control",
         "type": "scatter",
         "x": [
          0.5535500000000001,
          1.5410832,
          2.524188,
          3.520578,
          4.5081112,
          5.5000728,
          6.487606,
          7.4795676,
          8.462672399999999,
          9.4590624,
          10.451024
         ],
         "xaxis": "x21",
         "y": [
          2.091638749587201,
          2.1753803702077086,
          2.098071338351597,
          2.155036309225913,
          2.0786036864162964,
          2.139847715736039,
          2.0407871935504724,
          2.103535681091625,
          2.03187551706176,
          2.0846071351969675,
          2.024840583262688
         ],
         "yaxis": "y21"
        },
        {
         "name": "Control",
         "type": "scatter",
         "x": [
          0.5535500000000001,
          1.5410832,
          2.524188,
          3.520578,
          4.5081112,
          5.5000728,
          6.487606,
          7.4795676,
          8.462672399999999,
          9.4590624,
          10.451024
         ],
         "xaxis": "x22",
         "y": [
          1.0136477919973306,
          1.1148746114589392,
          1.0332355384421583,
          1.109171611734706,
          1.0231781552257695,
          1.1081963864404691,
          1.0140961675297122,
          1.0828411245816687,
          1.0095052548795302,
          1.0732114344272057,
          1.0233877035478514
         ],
         "yaxis": "y22"
        },
        {
         "name": "Control",
         "type": "scatter",
         "x": [
          0.3409868,
          1.32852,
          2.32491,
          3.3035864,
          4.3044048,
          5.2963664,
          6.2794712,
          7.2758612,
          8.2678228,
          9.2509276,
          10.2473176
         ],
         "xaxis": "x23",
         "y": [
          2.1961212056923944,
          2.120635970674952,
          2.1768899153565933,
          2.1079725843119186,
          2.1407263759073656,
          2.095710934693669,
          2.1033935954522542,
          2.0458018461953853,
          2.084900493974189,
          2.017577959445417,
          2.05751421772955
         ],
         "yaxis": "y23"
        },
        {
         "name": "Control",
         "type": "scatter",
         "x": [
          0.3409868,
          1.32852,
          2.32491,
          3.3035864,
          4.3044048,
          5.2963664,
          6.2794712,
          7.2758612,
          8.2678228,
          9.2509276,
          10.2473176
         ],
         "xaxis": "x24",
         "y": [
          1.1437515519564894,
          1.0550038934520083,
          1.1259436015998103,
          1.0607693846899335,
          1.0976380367358638,
          1.054816525594323,
          1.0707234106157435,
          1.023270933632916,
          1.062167845149096,
          0.9914183978264166,
          1.0526702330526343
         ],
         "yaxis": "y24"
        },
        {
         "name": "Control",
         "type": "scatter",
         "x": [
          1.2038319999999998,
          3.1838800000000003,
          5.168576,
          7.148624,
          9.161208,
          11.10872
         ],
         "xaxis": "x25",
         "y": [
          2.599183753690154,
          2.535910726318828,
          2.457336289468616,
          2.405764062700551,
          2.337814766236682,
          2.298034591194967
         ],
         "yaxis": "y25"
        },
        {
         "name": "Control",
         "type": "scatter",
         "x": [
          1.2038319999999998,
          3.1838800000000003,
          5.168576,
          7.148624,
          9.161208,
          11.10872
         ],
         "xaxis": "x26",
         "y": [
          1.4268676397445763,
          1.4170055994095745,
          1.3770410168784484,
          1.3631739547233983,
          0.8965579274162487,
          1.298465476992683
         ],
         "yaxis": "y26"
        },
        {
         "name": "Control",
         "type": "scatter",
         "x": [
          0.820456,
          2.844548,
          4.792004,
          6.811588,
          8.795108,
          10.778628
         ],
         "xaxis": "x27",
         "y": [
          2.217815895453919,
          2.17817044360498,
          2.2047097436667893,
          2.117059439896994,
          2.1071790642708264,
          2.069264373898388
         ],
         "yaxis": "y27"
        },
        {
         "name": "Control",
         "type": "scatter",
         "x": [
          0.820456,
          2.844548,
          4.792004,
          6.811588,
          8.795108,
          10.778628
         ],
         "xaxis": "x28",
         "y": [
          1.0777528050167442,
          0.8473171650509239,
          1.139181415110441,
          0.8063769838661474,
          0.7936104223502087,
          0.7409373641542247
         ],
         "yaxis": "y28"
        },
        {
         "name": "Control",
         "type": "scatter",
         "x": [
          0.4125096,
          1.4086763999999998,
          2.3960664,
          3.3834564,
          4.3752348,
          5.3670132,
          6.3587916,
          7.346181599999999,
          8.337959999999999,
          9.3297384,
          10.3610124
         ],
         "xaxis": "x29",
         "y": [
          2.4394547455761564,
          2.5790718859633195,
          2.373095298571548,
          2.5090384075504977,
          2.3639876933889195,
          2.471493185592886,
          2.3526248947234727,
          2.4331332522314155,
          2.3159780324573167,
          2.398749986472403,
          2.2681168249554533
         ],
         "yaxis": "y29"
        },
        {
         "name": "Control",
         "type": "scatter",
         "x": [
          0.4125096,
          1.4086763999999998,
          2.3960664,
          3.3834564,
          4.3752348,
          5.3670132,
          6.3587916,
          7.346181599999999,
          8.337959999999999,
          9.3297384,
          10.3610124
         ],
         "xaxis": "x30",
         "y": [
          1.35502523135372,
          1.4624357439191065,
          1.3163695369997246,
          1.42714507885156,
          1.296185854527097,
          1.4237567502703918,
          1.299209415461437,
          1.432175816732585,
          1.283741612094752,
          1.3672903365856852,
          0.8608539382492295
         ],
         "yaxis": "y30"
        },
        {
         "name": "Control",
         "type": "scatter",
         "x": [
          0.5222196,
          1.5139979999999995,
          2.5057764,
          3.4975548,
          4.480556399999999,
          5.4811116,
          6.4685016,
          7.4953872,
          8.44767,
          9.4394484,
          10.4356152
         ],
         "xaxis": "x31",
         "y": [
          2.2755165413113136,
          2.343352969229989,
          2.203917587848656,
          2.3101885525653203,
          2.158343790713844,
          2.2705871852461663,
          2.12807147253239,
          2.237944705101868,
          2.0952607417946183,
          2.224861522967603,
          2.0680699538809524
         ],
         "yaxis": "y31"
        },
        {
         "name": "Control",
         "type": "scatter",
         "x": [
          0.5222196,
          1.5139979999999995,
          2.5057764,
          3.4975548,
          4.480556399999999,
          5.4811116,
          6.4685016,
          7.4953872,
          8.44767,
          9.4394484,
          10.4356152
         ],
         "xaxis": "x32",
         "y": [
          1.202352444362738,
          1.2912700188898918,
          1.1295842625082253,
          1.2781917657120467,
          1.1304367055388136,
          1.2565826879064712,
          1.1003034638574272,
          0.978300202753288,
          1.0543444088316236,
          1.1972575020048857,
          1.0284601940143814
         ],
         "yaxis": "y32"
        },
        {
         "name": "Control",
         "type": "scatter",
         "x": [
          0.6600952,
          1.6576548,
          2.6477976,
          3.6379404,
          4.6280832,
          5.618226,
          6.6083688,
          7.602219999999999,
          8.6294468
         ],
         "xaxis": "x33",
         "y": [
          2.2477688109892804,
          2.025323116898562,
          2.211077149374397,
          1.9741370553293116,
          2.1769144740714568,
          1.960463926628084,
          2.161323913047435,
          1.9794396980945208,
          2.1613193012094536
         ],
         "yaxis": "y33"
        },
        {
         "name": "Control",
         "type": "scatter",
         "x": [
          0.6600952,
          1.6576548,
          2.6477976,
          3.6379404,
          4.6280832,
          5.618226,
          6.6083688,
          7.602219999999999,
          8.6294468
         ],
         "xaxis": "x34",
         "y": [
          1.222703592925197,
          0.9606822607472508,
          1.1733515865026058,
          0.9556333904351688,
          1.1296380374687556,
          0.9131132151610526,
          1.1604631984431402,
          0.8840165225163881,
          0.8609326956860504
         ],
         "yaxis": "y34"
        },
        {
         "name": "Control",
         "type": "scatter",
         "x": [
          0.8497808000000002,
          2.8259220000000003,
          4.810080000000001,
          6.794238000000001,
          8.778396000000003
         ],
         "xaxis": "x35",
         "y": [
          2.806343498430148,
          2.523881278042737,
          2.769729905064026,
          2.688215492395964,
          2.6605999419551174
         ],
         "yaxis": "y35"
        },
        {
         "name": "Control",
         "type": "scatter",
         "x": [
          0.8497808000000002,
          2.8259220000000003,
          4.810080000000001,
          6.794238000000001,
          8.778396000000003
         ],
         "xaxis": "x36",
         "y": [
          1.6887462771348165,
          1.5074814264141447,
          1.610347664003947,
          1.6841199138949188,
          1.596263554798867
         ],
         "yaxis": "y36"
        },
        {
         "name": "Control",
         "type": "scatter",
         "x": [
          0.8599584000000001,
          2.7980736000000004,
          4.7297712,
          6.6678864
         ],
         "xaxis": "x37",
         "y": [
          2.0435939616798904,
          2.0031004912125474,
          1.937750099071948,
          1.8935861280839013
         ],
         "yaxis": "y37"
        },
        {
         "name": "Control",
         "type": "scatter",
         "x": [
          0.8599584000000001,
          2.7980736000000004,
          4.7297712,
          6.6678864
         ],
         "xaxis": "x38",
         "y": [
          0.985864506437372,
          0.9858552904420907,
          0.9259858810952282,
          0.8684375201599892
         ],
         "yaxis": "y38"
        },
        {
         "name": "Thapsigargin",
         "type": "scatter",
         "x": [
          0.0040084,
          0.9780496000000002,
          1.9280404,
          2.9100984000000008,
          3.864097600000001,
          4.842147200000001,
          5.8041632000000005,
          6.774196000000002,
          7.780304400000002,
          8.750337200000002,
          9.732395200000004
         ],
         "xaxis": "x39",
         "y": [
          1.1193451136337709,
          1.1270388960639033,
          1.127135460058459,
          1.1275862911714,
          1.1245783064478456,
          1.1168089781704538,
          1.1150775064547975,
          1.1061361041804925,
          1.0954687698572607,
          1.090216839935131,
          1.0883667541789177
         ],
         "yaxis": "y39"
        },
        {
         "name": "Thapsigargin",
         "type": "scatter",
         "x": [
          0.0040084,
          0.9780496000000002,
          1.9280404,
          2.9100984000000008,
          3.864097600000001,
          4.842147200000001,
          5.8041632000000005,
          6.774196000000002,
          7.780304400000002,
          8.750337200000002,
          9.732395200000004
         ],
         "xaxis": "x40",
         "y": [
          0.1118251246696564,
          0.1018447090208587,
          0.0864951071708268,
          0.0949398403055288,
          0.0839270914685874,
          0.0869050425087953,
          0.0874295186029612,
          0.0807326589422712,
          0.0554237682116545,
          0.0578153835458863,
          0.0525982666274182
         ],
         "yaxis": "y40"
        },
        {
         "name": "Thapsigargin",
         "type": "scatter",
         "x": [
          0.7909696,
          1.7309232,
          2.7006736,
          3.6595888,
          4.6564272,
          5.604507200000001,
          6.587801600000001
         ],
         "xaxis": "x41",
         "y": [
          1.2165999880128258,
          1.223699891116505,
          1.222239204051664,
          1.2246328928046983,
          1.2158635260271502,
          1.2158155773322536,
          1.1790826315842042
         ],
         "yaxis": "y41"
        },
        {
         "name": "Thapsigargin",
         "type": "scatter",
         "x": [
          0.7909696,
          1.7309232,
          2.7006736,
          3.6595888,
          4.6564272,
          5.604507200000001,
          6.587801600000001
         ],
         "xaxis": "x42",
         "y": [
          0.1134233869759357,
          0.1339227027081022,
          0.1478662830771073,
          0.1533099583445714,
          0.1234933621025502,
          0.1439637088315497,
          0.0885622384049065
         ],
         "yaxis": "y42"
        },
        {
         "name": "Thapsigargin",
         "type": "scatter",
         "x": [
          2.1953832,
          3.1696396,
          4.1835716000000005,
          5.1446028,
          6.1409012,
          7.101932400000001,
          8.089414000000001,
          9.0504452,
          10.0247016
         ],
         "xaxis": "x43",
         "y": [
          1.2128787885739238,
          1.2001167162007036,
          1.1902541972412026,
          1.1834493001768784,
          1.1751654473555178,
          1.1648202812138604,
          1.1653344319826853,
          1.1651829700786267,
          1.1554729529474046
         ],
         "yaxis": "y43"
        },
        {
         "name": "Thapsigargin",
         "type": "scatter",
         "x": [
          2.1953832,
          3.1696396,
          4.1835716000000005,
          5.1446028,
          6.1409012,
          7.101932400000001,
          8.089414000000001,
          9.0504452,
          10.0247016
         ],
         "xaxis": "x44",
         "y": [
          0.1473229444903743,
          0.1369451736658156,
          0.1144645812515732,
          0.1242549172357958,
          0.1073940141350167,
          0.1059532297140606,
          0.0940358816676347,
          0.1049894034780569,
          0.0942531034856122
         ],
         "yaxis": "y44"
        },
        {
         "name": "Thapsigargin",
         "type": "scatter",
         "x": [
          0.7287120000000002,
          1.6679408000000002,
          2.667895600000001,
          3.639511600000001,
          4.590885600000002,
          5.586792000000001,
          6.5543596000000015,
          7.534072400000002,
          8.469252800000001,
          9.4692076
         ],
         "xaxis": "x45",
         "y": [
          1.2263304517271811,
          1.2254132064731087,
          1.2151346322082546,
          1.2113732938477173,
          1.2066049753813508,
          1.200853678316519,
          1.1916398930137078,
          1.1826127607634067,
          1.1910053068415976,
          1.1797556692158997
         ],
         "yaxis": "y45"
        },
        {
         "name": "Thapsigargin",
         "type": "scatter",
         "x": [
          0.7287120000000002,
          1.6679408000000002,
          2.667895600000001,
          3.639511600000001,
          4.590885600000002,
          5.586792000000001,
          6.5543596000000015,
          7.534072400000002,
          8.469252800000001,
          9.4692076
         ],
         "xaxis": "x46",
         "y": [
          0.1488421838179101,
          0.1841619696970988,
          0.1444880481329988,
          0.1411514965452935,
          0.1565545921696363,
          0.1268325735231448,
          0.1292491433428741,
          0.1118498748472467,
          0.1561163508701115,
          0.1068533425234592
         ],
         "yaxis": "y46"
        },
        {
         "name": "Thapsigargin",
         "type": "scatter",
         "x": [
          0.2105168,
          1.1740360000000003,
          2.149700400000001,
          3.129413200000001,
          4.101029200000001,
          5.080742000000001,
          6.048309600000001,
          7.023974000000002,
          8.007735200000003,
          8.963157600000002,
          9.942870400000002
         ],
         "xaxis": "x47",
         "y": [
          1.2212716433492874,
          1.21534811153905,
          1.2135523011356988,
          1.2058442561855758,
          1.1976683487036706,
          1.1963727343792598,
          1.1969169508296338,
          1.1868355715766037,
          1.181276279122916,
          1.176021363514773,
          1.160565927972803
         ],
         "yaxis": "y47"
        },
        {
         "name": "Thapsigargin",
         "type": "scatter",
         "x": [
          0.2105168,
          1.1740360000000003,
          2.149700400000001,
          3.129413200000001,
          4.101029200000001,
          5.080742000000001,
          6.048309600000001,
          7.023974000000002,
          8.007735200000003,
          8.963157600000002,
          9.942870400000002
         ],
         "xaxis": "x48",
         "y": [
          0.1276736856867568,
          0.1240983615072366,
          0.1231404314775521,
          0.114726307560856,
          0.1046037647156596,
          0.1053536043464595,
          0.1171192497578228,
          0.0958076764255975,
          0.0894441356814326,
          0.0955284262522435,
          0.0753589802856258
         ],
         "yaxis": "y48"
        },
        {
         "name": "Thapsigargin",
         "type": "scatter",
         "x": [
          0.1895515999999999,
          1.2030723999999997,
          2.1701724,
          3.164351199999999,
          4.108240799999999,
          5.117893199999998,
          6.100466799999999,
          7.067566799999998,
          8.019193199999998,
          8.982424799999997
         ],
         "xaxis": "x49",
         "y": [
          1.1621541279774463,
          1.1584264623923697,
          1.1497487424465571,
          1.1471731784934835,
          1.144345914000768,
          1.1368640880369671,
          1.1369078803869752,
          1.135187237609781,
          1.1322647943679152,
          1.1217297387604903
         ],
         "yaxis": "y49"
        },
        {
         "name": "Thapsigargin",
         "type": "scatter",
         "x": [
          0.1895515999999999,
          1.2030723999999997,
          2.1701724,
          3.164351199999999,
          4.108240799999999,
          5.117893199999998,
          6.100466799999999,
          7.067566799999998,
          8.019193199999998,
          8.982424799999997
         ],
         "xaxis": "x50",
         "y": [
          0.1246873677633455,
          0.1057981830815553,
          0.1051937811487855,
          0.0987842349227539,
          0.1116584264202034,
          0.0926588748909935,
          0.0851391630598448,
          0.0841725249833669,
          0.0928634079476788,
          0.0692770507413269
         ],
         "yaxis": "y50"
        },
        {
         "name": "Thapsigargin",
         "type": "scatter",
         "x": [
          0.6146327999999999,
          1.6101647999999995,
          2.5840548,
          3.5795867999999995,
          4.5318348,
          5.523038399999999,
          6.509913599999999,
          7.483803599999998,
          8.449036799999998,
          9.3753144,
          10.392488399999998
         ],
         "xaxis": "x51",
         "y": [
          1.2127299276040286,
          1.1964547623589392,
          1.1864787429564558,
          1.1887081512836577,
          1.1838181683304714,
          1.1632401965682306,
          1.167021455367929,
          1.1663518456279307,
          1.1625532523685376,
          1.1565643857848342,
          1.1459952099362027
         ],
         "yaxis": "y51"
        },
        {
         "name": "Thapsigargin",
         "type": "scatter",
         "x": [
          0.6146327999999999,
          1.6101647999999995,
          2.5840548,
          3.5795867999999995,
          4.5318348,
          5.523038399999999,
          6.509913599999999,
          7.483803599999998,
          8.449036799999998,
          9.3753144,
          10.392488399999998
         ],
         "xaxis": "x52",
         "y": [
          0.1449596841343516,
          0.1157242473513853,
          0.126178213384928,
          0.1071706376961669,
          0.1163508615756341,
          0.0859440240774889,
          0.0985782715197096,
          0.0867626041959988,
          0.0966300750604813,
          0.1018438112194073,
          0.0886530443550217
         ],
         "yaxis": "y52"
        },
        {
         "name": "Thapsigargin",
         "type": "scatter",
         "x": [
          0.9891680000000002,
          2.939376,
          4.884896,
          6.853856,
          8.771248000000002,
          10.716768
         ],
         "xaxis": "x53",
         "y": [
          1.3936773664096616,
          1.3855463155364582,
          1.3675900759634811,
          1.3495743854723568,
          1.332919168085381,
          1.3132379985236822
         ],
         "yaxis": "y53"
        },
        {
         "name": "Thapsigargin",
         "type": "scatter",
         "x": [
          0.9891680000000002,
          2.939376,
          4.884896,
          6.853856,
          8.771248000000002,
          10.716768
         ],
         "xaxis": "x54",
         "y": [
          0.2606309762039878,
          0.249705376610188,
          0.2360137448247123,
          0.2302336364192341,
          0.2230993840145296,
          0.2038569849850875
         ],
         "yaxis": "y54"
        },
        {
         "name": "Thapsigargin",
         "type": "scatter",
         "x": [
          0.923536,
          2.9018720000000005,
          4.852080000000001,
          6.802288000000001,
          8.738432000000001,
          10.655824
         ],
         "xaxis": "x55",
         "y": [
          1.4059774298060503,
          1.395218136849452,
          1.3975355962703089,
          1.3826763876392472,
          1.3751397019959724,
          1.3667176385621884
         ],
         "yaxis": "y55"
        },
        {
         "name": "Thapsigargin",
         "type": "scatter",
         "x": [
          0.923536,
          2.9018720000000005,
          4.852080000000001,
          6.802288000000001,
          8.738432000000001,
          10.655824
         ],
         "xaxis": "x56",
         "y": [
          0.3562050280614406,
          0.2883622689621505,
          0.2951788387284191,
          0.2777148182966238,
          0.2723003118834448,
          0.3003024422127989
         ],
         "yaxis": "y56"
        },
        {
         "name": "Thapsigargin",
         "type": "scatter",
         "x": [
          1.5162240000000002,
          3.4293120000000004,
          5.388192,
          7.408128,
          9.372096,
          11.386944000000002
         ],
         "xaxis": "x57",
         "y": [
          1.406653478096068,
          1.3774953831348982,
          1.3623405732008929,
          1.3448237975814024,
          1.3291343139952885,
          1.326619000887891
         ],
         "yaxis": "y57"
        },
        {
         "name": "Thapsigargin",
         "type": "scatter",
         "x": [
          1.5162240000000002,
          3.4293120000000004,
          5.388192,
          7.408128,
          9.372096,
          11.386944000000002
         ],
         "xaxis": "x58",
         "y": [
          0.2500332829675322,
          0.2248712902818233,
          0.2285144511771921,
          0.1970506756113559,
          0.2038589549875122,
          0.1723905409217805
         ],
         "yaxis": "y58"
        },
        {
         "name": "Thapsigargin",
         "type": "scatter",
         "x": [
          0.5444112,
          1.5112104,
          2.5124264,
          3.4823544,
          4.4710552,
          5.4503696,
          6.4171688,
          7.402740799999999
         ],
         "xaxis": "x59",
         "y": [
          1.2263818887879032,
          1.223197502685284,
          1.2129930337519617,
          1.2085883923407414,
          1.2021687546476074,
          1.1923644964058489,
          1.1876498853590012,
          1.1771190510617195
         ],
         "yaxis": "y59"
        },
        {
         "name": "Thapsigargin",
         "type": "scatter",
         "x": [
          0.5444112,
          1.5112104,
          2.5124264,
          3.4823544,
          4.4710552,
          5.4503696,
          6.4171688,
          7.402740799999999
         ],
         "xaxis": "x60",
         "y": [
          0.1581988969676939,
          0.164962974056019,
          0.1354256176154671,
          0.1455996188961414,
          0.1159021781789637,
          0.1074346236470291,
          0.0961134377840202,
          0.0835089957035442
         ],
         "yaxis": "y60"
        },
        {
         "name": "Thapsigargin",
         "type": "scatter",
         "x": [
          0.6695631999999999,
          1.6363624,
          2.6156768,
          3.5793471999999995,
          4.5586616,
          5.544233599999999,
          6.4985176,
          7.496604799999999
         ],
         "xaxis": "x61",
         "y": [
          1.210899678577075,
          1.2000540798388493,
          1.1900321688672857,
          1.1916131072521454,
          1.1908056301497087,
          1.1790641929015884,
          1.176993612732546,
          1.1769435191226036
         ],
         "yaxis": "y61"
        },
        {
         "name": "Thapsigargin",
         "type": "scatter",
         "x": [
          0.6695631999999999,
          1.6363624,
          2.6156768,
          3.5793471999999995,
          4.5586616,
          5.544233599999999,
          6.4985176,
          7.496604799999999
         ],
         "xaxis": "x62",
         "y": [
          0.1340609972747479,
          0.1187075051389134,
          0.1190650698719488,
          0.1309373883025439,
          0.1136002157878579,
          0.1047640750420875,
          0.1175521631271168,
          0.0946664257212748
         ],
         "yaxis": "y62"
        },
        {
         "name": "Control",
         "type": "scatter",
         "x": [
          0.1942517142857142,
          1.207407714285714,
          2.212946,
          3.222293142857142,
          4.224022571428571,
          5.244796285714285,
          6.246525714285713,
          7.259681714285714,
          8.26522,
          9.274567142857142,
          10.626711428571427,
          11.967429142857142,
          12.976776285714283
         ],
         "xaxis": "x63",
         "y": [
          3.1188403755868523,
          3.099151576123405,
          3.0538293091884623,
          3.037997652582158,
          2.9836784037558663,
          2.9929681421864496,
          2.9934292421193813,
          2.910732729711601,
          2.8934198524480195,
          2.964997317236752,
          2.837180751173707,
          2.828527833668677,
          2.818897384305833
         ],
         "yaxis": "y63"
        },
        {
         "name": "Control",
         "type": "scatter",
         "x": [
          0.1942517142857142,
          1.207407714285714,
          2.212946,
          3.222293142857142,
          4.224022571428571,
          5.244796285714285,
          6.246525714285713,
          7.259681714285714,
          8.26522,
          9.274567142857142,
          10.626711428571427,
          11.967429142857142,
          12.976776285714283
         ],
         "xaxis": "x64",
         "y": [
          2.036199195171025,
          1.9044916163648544,
          1.96509657947686,
          1.9594671361502336,
          1.897256539235411,
          1.899760898725685,
          1.945478202548624,
          1.8661341381623056,
          1.8464627766599584,
          1.8470778001341368,
          1.8081338028169,
          1.8264211938296435,
          1.6429463447350765
         ],
         "yaxis": "y64"
        },
        {
         "name": "Control",
         "type": "scatter",
         "x": [
          3.3453919999999995,
          4.381946857142856,
          5.363606285714284,
          6.403390285714285,
          7.407653714285713,
          8.418375428571428,
          9.429097142857142,
          10.433360571428569
         ],
         "xaxis": "x65",
         "y": [
          2.763000215080461,
          2.7575829852119047,
          2.666257722350356,
          2.736474673838345,
          2.71180931630642,
          2.6606628325222625,
          2.622090687015958,
          2.607111294522092
         ],
         "yaxis": "y65"
        },
        {
         "name": "Control",
         "type": "scatter",
         "x": [
          3.3453919999999995,
          4.381946857142856,
          5.363606285714284,
          6.403390285714285,
          7.407653714285713,
          8.418375428571428,
          9.429097142857142,
          10.433360571428569
         ],
         "xaxis": "x66",
         "y": [
          1.303070055029122,
          1.3008514038808898,
          1.213585391315295,
          1.2947717961316982,
          1.253940781179235,
          1.2170798368186269,
          1.1805084642030912,
          1.140344023823221
         ],
         "yaxis": "y66"
        },
        {
         "name": "Control",
         "type": "scatter",
         "x": [
          0.0403574285714285,
          1.0346177142857145,
          2.0435534285714283,
          3.0488202857142856,
          4.105451142857143,
          5.070360571428571,
          6.079296285714285,
          7.128589428571429,
          8.08983,
          9.106103428571428,
          10.162734285714285,
          11.123974857142857,
          12.132910571428573
         ],
         "xaxis": "x67",
         "y": [
          3.136787905923251,
          3.125511413446306,
          3.176939458129375,
          3.1270886399807347,
          3.0400176083496677,
          3.0342219028305037,
          3.0474371950049464,
          2.8662807628779854,
          2.87029832607804,
          2.8981654206627194,
          2.886815183815367,
          2.7580104822355067,
          2.766385359484992
         ],
         "yaxis": "y67"
        },
        {
         "name": "Control",
         "type": "scatter",
         "x": [
          0.0403574285714285,
          1.0346177142857145,
          2.0435534285714283,
          3.0488202857142856,
          4.105451142857143,
          5.070360571428571,
          6.079296285714285,
          7.128589428571429,
          8.08983,
          9.106103428571428,
          10.162734285714285,
          11.123974857142857,
          12.132910571428573
         ],
         "xaxis": "x68",
         "y": [
          1.6825417727996133,
          1.8457866003468983,
          1.9797771114029104,
          1.9255851578167145,
          1.5574547657299371,
          1.93106180605983,
          1.958445799768984,
          1.3619866582889042,
          1.8179575066877856,
          1.8497590139324176,
          1.4324061358326148,
          1.7462952860039949,
          1.7440295278479052
         ],
         "yaxis": "y68"
        },
        {
         "name": "Control",
         "type": "scatter",
         "x": [
          0.7418005714285715,
          1.7487120000000005,
          2.755623428571429,
          3.7599857142857145,
          4.766897142857143,
          5.781456000000001,
          6.785818285714287,
          7.7927297142857155,
          8.799641142857144
         ],
         "xaxis": "x69",
         "y": [
          2.3785625530730803,
          2.4177802618511874,
          2.3339874015899125,
          2.4039210512428086,
          2.3623544538210206,
          2.360202265410982,
          2.370085252759799,
          2.328069603097308,
          1.7879206866277415
         ],
         "yaxis": "y69"
        },
        {
         "name": "Control",
         "type": "scatter",
         "x": [
          0.7418005714285715,
          1.7487120000000005,
          2.755623428571429,
          3.7599857142857145,
          4.766897142857143,
          5.781456000000001,
          6.785818285714287,
          7.7927297142857155,
          8.799641142857144
         ],
         "xaxis": "x70",
         "y": [
          1.3687006750176305,
          1.4049880300711468,
          1.2707170922907896,
          1.3808855348567202,
          1.33061327294796,
          1.316998738239964,
          1.338240444446576,
          1.3145855622028495,
          0.7470315056203489
         ],
         "yaxis": "y70"
        },
        {
         "name": "Control",
         "type": "scatter",
         "x": [
          1.5193568571428573,
          2.862324,
          4.2093,
          5.552267142857143,
          6.895234285714285,
          8.23820142857143,
          9.581168571428572,
          10.924135714285717,
          12.263094,
          13.606061142857143
         ],
         "xaxis": "x71",
         "y": [
          2.6875952163082384,
          2.677323155750972,
          2.6436882659300607,
          2.603353324431205,
          2.622116205739305,
          2.5924303416730687,
          2.5653171352092947,
          2.519739875459816,
          2.48276949803978,
          2.4302199916679985
         ],
         "yaxis": "y71"
        },
        {
         "name": "Control",
         "type": "scatter",
         "x": [
          1.5193568571428573,
          2.862324,
          4.2093,
          5.552267142857143,
          6.895234285714285,
          8.23820142857143,
          9.581168571428572,
          10.924135714285717,
          12.263094,
          13.606061142857143
         ],
         "xaxis": "x72",
         "y": [
          1.4917587727282156,
          1.5928540275200316,
          1.5235073564715311,
          1.5129323141090554,
          1.591373814797484,
          1.575096361652765,
          1.575536906971147,
          1.4965138766888475,
          1.4574859107352067,
          1.4194428799886614
         ],
         "yaxis": "y72"
        },
        {
         "name": "Thapsigargin",
         "type": "scatter",
         "x": [
          0.1733762857142857,
          1.5124314285714284,
          2.884686285714285,
          4.260629999999999,
          5.651329142857142,
          6.97194,
          8.310995142857141,
          9.68325,
          11.01123857142857,
          12.365049142857142
         ],
         "xaxis": "x73",
         "y": [
          1.2925508654745084,
          1.2753774146032142,
          1.2535264789173075,
          1.2354530524575116,
          1.2283576957057676,
          1.2238572131441172,
          1.2276066075802603,
          1.2189454384131158,
          1.2043910464974783,
          1.196585715721684
         ],
         "yaxis": "y73"
        },
        {
         "name": "Thapsigargin",
         "type": "scatter",
         "x": [
          0.1733762857142857,
          1.5124314285714284,
          2.884686285714285,
          4.260629999999999,
          5.651329142857142,
          6.97194,
          8.310995142857141,
          9.68325,
          11.01123857142857,
          12.365049142857142
         ],
         "xaxis": "x74",
         "y": [
          0.2449253181997164,
          0.212509116522956,
          0.1931596413701573,
          0.1647804816849525,
          0.1638634256057718,
          0.1533299021197192,
          0.1515426479446351,
          0.1582595131153228,
          0.1323845347493513,
          0.1315262778814447
         ],
         "yaxis": "y74"
        },
        {
         "name": "Control",
         "type": "scatter",
         "x": [
          0.199465,
          0.783265,
          1.3622,
          1.946,
          2.524935,
          3.099005,
          3.68767,
          4.27147
         ],
         "xaxis": "x75",
         "y": [
          1.586067382862932,
          1.8678565491473,
          1.55510965538065,
          1.8308352159275565,
          1.5398626588927735,
          1.7857818743966294,
          1.5631259068211032,
          1.7519574519255223
         ],
         "yaxis": "y75"
        },
        {
         "name": "Control",
         "type": "scatter",
         "x": [
          0.199465,
          0.783265,
          1.3622,
          1.946,
          2.524935,
          3.099005,
          3.68767,
          4.27147
         ],
         "xaxis": "x76",
         "y": [
          0.4207992955397124,
          0.8147145801189752,
          0.4428581606454433,
          0.8280739185716579,
          0.4426044674875065,
          0.7699503658571976,
          0.4931676625285401,
          0.7403248855647835
         ],
         "yaxis": "y76"
        },
        {
         "name": "Control",
         "type": "scatter",
         "x": [
          0.097104,
          0.38437,
          0.675682,
          0.966994,
          1.250214,
          1.549618,
          1.84093,
          2.128196,
          2.411416,
          2.71082,
          2.9980860000000003
         ],
         "xaxis": "x77",
         "y": [
          1.2963780106637242,
          1.2957306918968254,
          1.2734180486804851,
          1.2491178666441094,
          1.23123248435891,
          1.2354122134131256,
          1.2165235457795929,
          1.216683906962318,
          1.194497320558479,
          1.214819722898225,
          1.19630111953252
         ],
         "yaxis": "y77"
        },
        {
         "name": "Control",
         "type": "scatter",
         "x": [
          0.097104,
          0.38437,
          0.675682,
          0.966994,
          1.250214,
          1.549618,
          1.84093,
          2.128196,
          2.411416,
          2.71082,
          2.9980860000000003
         ],
         "xaxis": "x78",
         "y": [
          0.1656784775908464,
          0.1899582179819514,
          0.1551209552122376,
          0.1790439066568685,
          0.1687998228390743,
          0.1692314470041536,
          0.151068340297003,
          0.1742865249026817,
          0.1441601215220567,
          0.1944819305841667,
          0.180019466555295
         ],
         "yaxis": "y78"
        },
        {
         "name": "Control",
         "type": "scatter",
         "x": [
          0.218484,
          0.509796,
          1.088374,
          1.3756400000000002,
          1.670998,
          1.950172,
          2.241484,
          2.536842,
          2.8241080000000003,
          3.1235120000000003,
          3.4391,
          3.70209,
          3.989356
         ],
         "xaxis": "x79",
         "y": [
          1.2606440037984132,
          1.3028410355235331,
          1.2316955220647408,
          1.2662474684837275,
          1.1672954639410738,
          1.2224542879341374,
          1.26906367812357,
          1.2387722394073095,
          1.176214980356452,
          1.226893348968814,
          1.189578169093758,
          1.189578169093758,
          1.2028956739155023
         ],
         "yaxis": "y79"
        },
        {
         "name": "Control",
         "type": "scatter",
         "x": [
          0.218484,
          0.509796,
          1.088374,
          1.3756400000000002,
          1.670998,
          1.950172,
          2.241484,
          2.536842,
          2.8241080000000003,
          3.1235120000000003,
          3.4391,
          3.70209,
          3.989356
         ],
         "xaxis": "x80",
         "y": [
          0.1696159065817544,
          0.2422206243575695,
          0.136447668055951,
          0.1718920594169721,
          0.1389826964126865,
          0.1596776174014966,
          0.2265007461170012,
          0.1185106185612889,
          0.1323129519798775,
          0.1809137748265539,
          0.047590307503154,
          0.1326185838093414,
          0.1789400366436477
         ],
         "yaxis": "y80"
        },
        {
         "name": "Control",
         "type": "scatter",
         "x": [
          0.1233679999999999,
          0.405352,
          0.700554,
          0.99135,
          1.273334,
          1.572942,
          1.854926,
          2.145722,
          2.440924,
          2.722908,
          3.01811,
          3.313312,
          3.586484,
          3.894904,
          4.1857
         ],
         "xaxis": "x81",
         "y": [
          1.2218918386414042,
          1.2007501001023262,
          1.2015462154964751,
          1.2093988140257652,
          1.17865881949167,
          1.1918563102600113,
          1.1819539974195836,
          1.166404133749419,
          1.152455780194357,
          1.1560930220733567,
          1.1719475781592603,
          1.1818427726120029,
          1.192633104316157,
          1.1387903825497805,
          1.1247766923648927
         ],
         "yaxis": "y81"
        },
        {
         "name": "Control",
         "type": "scatter",
         "x": [
          0.1233679999999999,
          0.405352,
          0.700554,
          0.99135,
          1.273334,
          1.572942,
          1.854926,
          2.145722,
          2.440924,
          2.722908,
          3.01811,
          3.313312,
          3.586484,
          3.894904,
          4.1857
         ],
         "xaxis": "x82",
         "y": [
          0.1454681928828836,
          0.1389750792873987,
          0.1464887917172475,
          0.118375482238987,
          0.1315859386420401,
          0.1445464887917171,
          0.1214939716154288,
          0.129637152899154,
          0.1120408798835634,
          0.1220003940536038,
          0.1524374757688813,
          0.1723637496107131,
          0.0782637489751429,
          0.1179490145482047,
          0.1032164943211788
         ],
         "yaxis": "y82"
        },
        {
         "name": "Control",
         "type": "scatter",
         "x": [
          0.11451,
          0.98895,
          1.868595,
          2.72742,
          3.59145,
          4.46589
         ],
         "xaxis": "x83",
         "y": [
          2.1030724000027146,
          1.6831267768753757,
          1.9683479266271096,
          1.9562181787142563,
          1.8537638476244784,
          2.021860550383964
         ],
         "yaxis": "y83"
        },
        {
         "name": "Control",
         "type": "scatter",
         "x": [
          0.11451,
          0.98895,
          1.868595,
          2.72742,
          3.59145,
          4.46589
         ],
         "xaxis": "x84",
         "y": [
          1.0809625657037705,
          0.5484606960744087,
          0.8369343704320171,
          0.9164318838977136,
          0.745278591749575,
          1.0186939656802971
         ],
         "yaxis": "y84"
        },
        {
         "name": "Thapsigargin",
         "type": "scatter",
         "x": [
          0.04665,
          1.198905,
          3.29349,
          4.40376
         ],
         "xaxis": "x85",
         "y": [
          1.1751076534452656,
          1.192162252185384,
          1.1743070482704816,
          1.1194592243256878
         ],
         "yaxis": "y85"
        },
        {
         "name": "Thapsigargin",
         "type": "scatter",
         "x": [
          0.04665,
          1.198905,
          3.29349,
          4.40376
         ],
         "xaxis": "x86",
         "y": [
          0.1409696060031899,
          0.1730975979222031,
          0.1139167345140337,
          0.0560951913857761
         ],
         "yaxis": "y86"
        },
        {
         "name": "Thapsigargin",
         "type": "scatter",
         "x": [
          0.0579,
          1.3124,
          2.49935,
          3.700775
         ],
         "xaxis": "x87",
         "y": [
          1.1414497984407552,
          1.1451458085847137,
          1.135975998978679,
          1.1095266224815907
         ],
         "yaxis": "y87"
        },
        {
         "name": "Thapsigargin",
         "type": "scatter",
         "x": [
          0.0579,
          1.3124,
          2.49935,
          3.700775
         ],
         "xaxis": "x88",
         "y": [
          0.0944433264740438,
          0.0883565185968964,
          0.0899062419533174,
          0.0550811754701425
         ],
         "yaxis": "y88"
        },
        {
         "name": "Thapsigargin",
         "type": "scatter",
         "x": [
          0.64263,
          1.546458,
          2.458578,
          3.4080120000000003
         ],
         "xaxis": "x89",
         "y": [
          1.2605347063027066,
          1.2379775217057798,
          1.2257204483420994,
          1.1984525685264538
         ],
         "yaxis": "y89"
        },
        {
         "name": "Thapsigargin",
         "type": "scatter",
         "x": [
          0.64263,
          1.546458,
          2.458578,
          3.4080120000000003
         ],
         "xaxis": "x90",
         "y": [
          0.1278273240427709,
          0.1172933826052182,
          0.0911192599601833,
          0.0850888445509914
         ],
         "yaxis": "y90"
        },
        {
         "name": "Thapsigargin",
         "type": "scatter",
         "x": [
          0.7870799999999999,
          1.5928999999999998,
          2.525215,
          3.368515,
          3.930715
         ],
         "xaxis": "x91",
         "y": [
          1.2374129520410635,
          1.2379069962805458,
          1.236913114260222,
          1.2000208567488957,
          1.1692507792313125
         ],
         "yaxis": "y91"
        },
        {
         "name": "Thapsigargin",
         "type": "scatter",
         "x": [
          0.7870799999999999,
          1.5928999999999998,
          2.525215,
          3.368515,
          3.930715
         ],
         "xaxis": "x92",
         "y": [
          0.1390981483841811,
          0.1954241161952654,
          0.1676339466762451,
          0.1307787678296235,
          0.117497074261613
         ],
         "yaxis": "y92"
        }
       ],
       "layout": {
        "annotations": [
         {
          "font": {
           "size": 16
          },
          "showarrow": false,
          "text": "220110n_0003.tif",
          "x": 0.225,
          "xanchor": "center",
          "xref": "paper",
          "y": 1.0000000000000004,
          "yanchor": "bottom",
          "yref": "paper"
         },
         {
          "font": {
           "size": 16
          },
          "showarrow": false,
          "text": "220110n_0003.tif",
          "x": 0.775,
          "xanchor": "center",
          "xref": "paper",
          "y": 1.0000000000000004,
          "yanchor": "bottom",
          "yref": "paper"
         },
         {
          "font": {
           "size": 16
          },
          "showarrow": false,
          "text": "220110n_0005.tif",
          "x": 0.225,
          "xanchor": "center",
          "xref": "paper",
          "y": 0.9780245746691876,
          "yanchor": "bottom",
          "yref": "paper"
         },
         {
          "font": {
           "size": 16
          },
          "showarrow": false,
          "text": "220110n_0005.tif",
          "x": 0.775,
          "xanchor": "center",
          "xref": "paper",
          "y": 0.9780245746691876,
          "yanchor": "bottom",
          "yref": "paper"
         },
         {
          "font": {
           "size": 16
          },
          "showarrow": false,
          "text": "220110n_0009.tif",
          "x": 0.225,
          "xanchor": "center",
          "xref": "paper",
          "y": 0.9560491493383746,
          "yanchor": "bottom",
          "yref": "paper"
         },
         {
          "font": {
           "size": 16
          },
          "showarrow": false,
          "text": "220110n_0009.tif",
          "x": 0.775,
          "xanchor": "center",
          "xref": "paper",
          "y": 0.9560491493383746,
          "yanchor": "bottom",
          "yref": "paper"
         },
         {
          "font": {
           "size": 16
          },
          "showarrow": false,
          "text": "220110n_0010.tif",
          "x": 0.225,
          "xanchor": "center",
          "xref": "paper",
          "y": 0.9340737240075617,
          "yanchor": "bottom",
          "yref": "paper"
         },
         {
          "font": {
           "size": 16
          },
          "showarrow": false,
          "text": "220110n_0010.tif",
          "x": 0.775,
          "xanchor": "center",
          "xref": "paper",
          "y": 0.9340737240075617,
          "yanchor": "bottom",
          "yref": "paper"
         },
         {
          "font": {
           "size": 16
          },
          "showarrow": false,
          "text": "220110n_0014.tif",
          "x": 0.225,
          "xanchor": "center",
          "xref": "paper",
          "y": 0.9120982986767489,
          "yanchor": "bottom",
          "yref": "paper"
         },
         {
          "font": {
           "size": 16
          },
          "showarrow": false,
          "text": "220110n_0014.tif",
          "x": 0.775,
          "xanchor": "center",
          "xref": "paper",
          "y": 0.9120982986767489,
          "yanchor": "bottom",
          "yref": "paper"
         },
         {
          "font": {
           "size": 16
          },
          "showarrow": false,
          "text": "220110n_0017.tif",
          "x": 0.225,
          "xanchor": "center",
          "xref": "paper",
          "y": 0.890122873345936,
          "yanchor": "bottom",
          "yref": "paper"
         },
         {
          "font": {
           "size": 16
          },
          "showarrow": false,
          "text": "220110n_0017.tif",
          "x": 0.775,
          "xanchor": "center",
          "xref": "paper",
          "y": 0.890122873345936,
          "yanchor": "bottom",
          "yref": "paper"
         },
         {
          "font": {
           "size": 16
          },
          "showarrow": false,
          "text": "220110n_0020.tif",
          "x": 0.225,
          "xanchor": "center",
          "xref": "paper",
          "y": 0.8681474480151231,
          "yanchor": "bottom",
          "yref": "paper"
         },
         {
          "font": {
           "size": 16
          },
          "showarrow": false,
          "text": "220110n_0020.tif",
          "x": 0.775,
          "xanchor": "center",
          "xref": "paper",
          "y": 0.8681474480151231,
          "yanchor": "bottom",
          "yref": "paper"
         },
         {
          "font": {
           "size": 16
          },
          "showarrow": false,
          "text": "220110n_0021.tif",
          "x": 0.225,
          "xanchor": "center",
          "xref": "paper",
          "y": 0.8461720226843102,
          "yanchor": "bottom",
          "yref": "paper"
         },
         {
          "font": {
           "size": 16
          },
          "showarrow": false,
          "text": "220110n_0021.tif",
          "x": 0.775,
          "xanchor": "center",
          "xref": "paper",
          "y": 0.8461720226843102,
          "yanchor": "bottom",
          "yref": "paper"
         },
         {
          "font": {
           "size": 16
          },
          "showarrow": false,
          "text": "220110n_0022.tif",
          "x": 0.225,
          "xanchor": "center",
          "xref": "paper",
          "y": 0.8241965973534974,
          "yanchor": "bottom",
          "yref": "paper"
         },
         {
          "font": {
           "size": 16
          },
          "showarrow": false,
          "text": "220110n_0022.tif",
          "x": 0.775,
          "xanchor": "center",
          "xref": "paper",
          "y": 0.8241965973534974,
          "yanchor": "bottom",
          "yref": "paper"
         },
         {
          "font": {
           "size": 16
          },
          "showarrow": false,
          "text": "220110n_0023.tif",
          "x": 0.225,
          "xanchor": "center",
          "xref": "paper",
          "y": 0.8022211720226844,
          "yanchor": "bottom",
          "yref": "paper"
         },
         {
          "font": {
           "size": 16
          },
          "showarrow": false,
          "text": "220110n_0023.tif",
          "x": 0.775,
          "xanchor": "center",
          "xref": "paper",
          "y": 0.8022211720226844,
          "yanchor": "bottom",
          "yref": "paper"
         },
         {
          "font": {
           "size": 16
          },
          "showarrow": false,
          "text": "220110n_0024.tif",
          "x": 0.225,
          "xanchor": "center",
          "xref": "paper",
          "y": 0.7802457466918715,
          "yanchor": "bottom",
          "yref": "paper"
         },
         {
          "font": {
           "size": 16
          },
          "showarrow": false,
          "text": "220110n_0024.tif",
          "x": 0.775,
          "xanchor": "center",
          "xref": "paper",
          "y": 0.7802457466918715,
          "yanchor": "bottom",
          "yref": "paper"
         },
         {
          "font": {
           "size": 16
          },
          "showarrow": false,
          "text": "220110n_0025.tif",
          "x": 0.225,
          "xanchor": "center",
          "xref": "paper",
          "y": 0.7582703213610587,
          "yanchor": "bottom",
          "yref": "paper"
         },
         {
          "font": {
           "size": 16
          },
          "showarrow": false,
          "text": "220110n_0025.tif",
          "x": 0.775,
          "xanchor": "center",
          "xref": "paper",
          "y": 0.7582703213610587,
          "yanchor": "bottom",
          "yref": "paper"
         },
         {
          "font": {
           "size": 16
          },
          "showarrow": false,
          "text": "220110n_0030.tif",
          "x": 0.225,
          "xanchor": "center",
          "xref": "paper",
          "y": 0.7362948960302458,
          "yanchor": "bottom",
          "yref": "paper"
         },
         {
          "font": {
           "size": 16
          },
          "showarrow": false,
          "text": "220110n_0030.tif",
          "x": 0.775,
          "xanchor": "center",
          "xref": "paper",
          "y": 0.7362948960302458,
          "yanchor": "bottom",
          "yref": "paper"
         },
         {
          "font": {
           "size": 16
          },
          "showarrow": false,
          "text": "220110n_0032.tif",
          "x": 0.225,
          "xanchor": "center",
          "xref": "paper",
          "y": 0.7143194706994329,
          "yanchor": "bottom",
          "yref": "paper"
         },
         {
          "font": {
           "size": 16
          },
          "showarrow": false,
          "text": "220110n_0032.tif",
          "x": 0.775,
          "xanchor": "center",
          "xref": "paper",
          "y": 0.7143194706994329,
          "yanchor": "bottom",
          "yref": "paper"
         },
         {
          "font": {
           "size": 16
          },
          "showarrow": false,
          "text": "220110n_0035.tif",
          "x": 0.225,
          "xanchor": "center",
          "xref": "paper",
          "y": 0.69234404536862,
          "yanchor": "bottom",
          "yref": "paper"
         },
         {
          "font": {
           "size": 16
          },
          "showarrow": false,
          "text": "220110n_0035.tif",
          "x": 0.775,
          "xanchor": "center",
          "xref": "paper",
          "y": 0.69234404536862,
          "yanchor": "bottom",
          "yref": "paper"
         },
         {
          "font": {
           "size": 16
          },
          "showarrow": false,
          "text": "220110n_0036.tif",
          "x": 0.225,
          "xanchor": "center",
          "xref": "paper",
          "y": 0.6703686200378072,
          "yanchor": "bottom",
          "yref": "paper"
         },
         {
          "font": {
           "size": 16
          },
          "showarrow": false,
          "text": "220110n_0036.tif",
          "x": 0.775,
          "xanchor": "center",
          "xref": "paper",
          "y": 0.6703686200378072,
          "yanchor": "bottom",
          "yref": "paper"
         },
         {
          "font": {
           "size": 16
          },
          "showarrow": false,
          "text": "220110n_0037.tif",
          "x": 0.225,
          "xanchor": "center",
          "xref": "paper",
          "y": 0.6483931947069943,
          "yanchor": "bottom",
          "yref": "paper"
         },
         {
          "font": {
           "size": 16
          },
          "showarrow": false,
          "text": "220110n_0037.tif",
          "x": 0.775,
          "xanchor": "center",
          "xref": "paper",
          "y": 0.6483931947069943,
          "yanchor": "bottom",
          "yref": "paper"
         },
         {
          "font": {
           "size": 16
          },
          "showarrow": false,
          "text": "220110n_0049.tif",
          "x": 0.225,
          "xanchor": "center",
          "xref": "paper",
          "y": 0.6264177693761814,
          "yanchor": "bottom",
          "yref": "paper"
         },
         {
          "font": {
           "size": 16
          },
          "showarrow": false,
          "text": "220110n_0049.tif",
          "x": 0.775,
          "xanchor": "center",
          "xref": "paper",
          "y": 0.6264177693761814,
          "yanchor": "bottom",
          "yref": "paper"
         },
         {
          "font": {
           "size": 16
          },
          "showarrow": false,
          "text": "220110n_0052.tif",
          "x": 0.225,
          "xanchor": "center",
          "xref": "paper",
          "y": 0.6044423440453686,
          "yanchor": "bottom",
          "yref": "paper"
         },
         {
          "font": {
           "size": 16
          },
          "showarrow": false,
          "text": "220110n_0052.tif",
          "x": 0.775,
          "xanchor": "center",
          "xref": "paper",
          "y": 0.6044423440453686,
          "yanchor": "bottom",
          "yref": "paper"
         },
         {
          "font": {
           "size": 16
          },
          "showarrow": false,
          "text": "220110n_0055.tif",
          "x": 0.225,
          "xanchor": "center",
          "xref": "paper",
          "y": 0.5824669187145557,
          "yanchor": "bottom",
          "yref": "paper"
         },
         {
          "font": {
           "size": 16
          },
          "showarrow": false,
          "text": "220110n_0055.tif",
          "x": 0.775,
          "xanchor": "center",
          "xref": "paper",
          "y": 0.5824669187145557,
          "yanchor": "bottom",
          "yref": "paper"
         },
         {
          "font": {
           "size": 16
          },
          "showarrow": false,
          "text": "220110n_0060.tif",
          "x": 0.225,
          "xanchor": "center",
          "xref": "paper",
          "y": 0.5604914933837428,
          "yanchor": "bottom",
          "yref": "paper"
         },
         {
          "font": {
           "size": 16
          },
          "showarrow": false,
          "text": "220110n_0060.tif",
          "x": 0.775,
          "xanchor": "center",
          "xref": "paper",
          "y": 0.5604914933837428,
          "yanchor": "bottom",
          "yref": "paper"
         },
         {
          "font": {
           "size": 16
          },
          "showarrow": false,
          "text": "220110n_0064.tif",
          "x": 0.225,
          "xanchor": "center",
          "xref": "paper",
          "y": 0.53851606805293,
          "yanchor": "bottom",
          "yref": "paper"
         },
         {
          "font": {
           "size": 16
          },
          "showarrow": false,
          "text": "220110n_0064.tif",
          "x": 0.775,
          "xanchor": "center",
          "xref": "paper",
          "y": 0.53851606805293,
          "yanchor": "bottom",
          "yref": "paper"
         },
         {
          "font": {
           "size": 16
          },
          "showarrow": false,
          "text": "220110n_0067.tif",
          "x": 0.225,
          "xanchor": "center",
          "xref": "paper",
          "y": 0.5165406427221171,
          "yanchor": "bottom",
          "yref": "paper"
         },
         {
          "font": {
           "size": 16
          },
          "showarrow": false,
          "text": "220110n_0067.tif",
          "x": 0.775,
          "xanchor": "center",
          "xref": "paper",
          "y": 0.5165406427221171,
          "yanchor": "bottom",
          "yref": "paper"
         },
         {
          "font": {
           "size": 16
          },
          "showarrow": false,
          "text": "220110n_0068.tif",
          "x": 0.225,
          "xanchor": "center",
          "xref": "paper",
          "y": 0.49456521739130427,
          "yanchor": "bottom",
          "yref": "paper"
         },
         {
          "font": {
           "size": 16
          },
          "showarrow": false,
          "text": "220110n_0068.tif",
          "x": 0.775,
          "xanchor": "center",
          "xref": "paper",
          "y": 0.49456521739130427,
          "yanchor": "bottom",
          "yref": "paper"
         },
         {
          "font": {
           "size": 16
          },
          "showarrow": false,
          "text": "220110n_0072.tif",
          "x": 0.225,
          "xanchor": "center",
          "xref": "paper",
          "y": 0.4725897920604914,
          "yanchor": "bottom",
          "yref": "paper"
         },
         {
          "font": {
           "size": 16
          },
          "showarrow": false,
          "text": "220110n_0072.tif",
          "x": 0.775,
          "xanchor": "center",
          "xref": "paper",
          "y": 0.4725897920604914,
          "yanchor": "bottom",
          "yref": "paper"
         },
         {
          "font": {
           "size": 16
          },
          "showarrow": false,
          "text": "220110n_0073.tif",
          "x": 0.225,
          "xanchor": "center",
          "xref": "paper",
          "y": 0.4506143667296786,
          "yanchor": "bottom",
          "yref": "paper"
         },
         {
          "font": {
           "size": 16
          },
          "showarrow": false,
          "text": "220110n_0073.tif",
          "x": 0.775,
          "xanchor": "center",
          "xref": "paper",
          "y": 0.4506143667296786,
          "yanchor": "bottom",
          "yref": "paper"
         },
         {
          "font": {
           "size": 16
          },
          "showarrow": false,
          "text": "220110n_0077.tif",
          "x": 0.225,
          "xanchor": "center",
          "xref": "paper",
          "y": 0.42863894139886577,
          "yanchor": "bottom",
          "yref": "paper"
         },
         {
          "font": {
           "size": 16
          },
          "showarrow": false,
          "text": "220110n_0077.tif",
          "x": 0.775,
          "xanchor": "center",
          "xref": "paper",
          "y": 0.42863894139886577,
          "yanchor": "bottom",
          "yref": "paper"
         },
         {
          "font": {
           "size": 16
          },
          "showarrow": false,
          "text": "220110n_0078.tif",
          "x": 0.225,
          "xanchor": "center",
          "xref": "paper",
          "y": 0.4066635160680529,
          "yanchor": "bottom",
          "yref": "paper"
         },
         {
          "font": {
           "size": 16
          },
          "showarrow": false,
          "text": "220110n_0078.tif",
          "x": 0.775,
          "xanchor": "center",
          "xref": "paper",
          "y": 0.4066635160680529,
          "yanchor": "bottom",
          "yref": "paper"
         },
         {
          "font": {
           "size": 16
          },
          "showarrow": false,
          "text": "220110n_0080.tif",
          "x": 0.225,
          "xanchor": "center",
          "xref": "paper",
          "y": 0.38468809073724003,
          "yanchor": "bottom",
          "yref": "paper"
         },
         {
          "font": {
           "size": 16
          },
          "showarrow": false,
          "text": "220110n_0080.tif",
          "x": 0.775,
          "xanchor": "center",
          "xref": "paper",
          "y": 0.38468809073724003,
          "yanchor": "bottom",
          "yref": "paper"
         },
         {
          "font": {
           "size": 16
          },
          "showarrow": false,
          "text": "220110n_0082.tif",
          "x": 0.225,
          "xanchor": "center",
          "xref": "paper",
          "y": 0.36271266540642716,
          "yanchor": "bottom",
          "yref": "paper"
         },
         {
          "font": {
           "size": 16
          },
          "showarrow": false,
          "text": "220110n_0082.tif",
          "x": 0.775,
          "xanchor": "center",
          "xref": "paper",
          "y": 0.36271266540642716,
          "yanchor": "bottom",
          "yref": "paper"
         },
         {
          "font": {
           "size": 16
          },
          "showarrow": false,
          "text": "220110n_0083.tif",
          "x": 0.225,
          "xanchor": "center",
          "xref": "paper",
          "y": 0.34073724007561434,
          "yanchor": "bottom",
          "yref": "paper"
         },
         {
          "font": {
           "size": 16
          },
          "showarrow": false,
          "text": "220110n_0083.tif",
          "x": 0.775,
          "xanchor": "center",
          "xref": "paper",
          "y": 0.34073724007561434,
          "yanchor": "bottom",
          "yref": "paper"
         },
         {
          "font": {
           "size": 16
          },
          "showarrow": false,
          "text": "2.5Hz_ctrl_0005.tif",
          "x": 0.225,
          "xanchor": "center",
          "xref": "paper",
          "y": 0.31876181474480153,
          "yanchor": "bottom",
          "yref": "paper"
         },
         {
          "font": {
           "size": 16
          },
          "showarrow": false,
          "text": "2.5Hz_ctrl_0005.tif",
          "x": 0.775,
          "xanchor": "center",
          "xref": "paper",
          "y": 0.31876181474480153,
          "yanchor": "bottom",
          "yref": "paper"
         },
         {
          "font": {
           "size": 16
          },
          "showarrow": false,
          "text": "2.5Hz_ctrl_0009.tif",
          "x": 0.225,
          "xanchor": "center",
          "xref": "paper",
          "y": 0.29678638941398866,
          "yanchor": "bottom",
          "yref": "paper"
         },
         {
          "font": {
           "size": 16
          },
          "showarrow": false,
          "text": "2.5Hz_ctrl_0009.tif",
          "x": 0.775,
          "xanchor": "center",
          "xref": "paper",
          "y": 0.29678638941398866,
          "yanchor": "bottom",
          "yref": "paper"
         },
         {
          "font": {
           "size": 16
          },
          "showarrow": false,
          "text": "2.5Hz_ctrl_0012.tif",
          "x": 0.225,
          "xanchor": "center",
          "xref": "paper",
          "y": 0.2748109640831758,
          "yanchor": "bottom",
          "yref": "paper"
         },
         {
          "font": {
           "size": 16
          },
          "showarrow": false,
          "text": "2.5Hz_ctrl_0012.tif",
          "x": 0.775,
          "xanchor": "center",
          "xref": "paper",
          "y": 0.2748109640831758,
          "yanchor": "bottom",
          "yref": "paper"
         },
         {
          "font": {
           "size": 16
          },
          "showarrow": false,
          "text": "2.5Hz_ctrl_0017.tif",
          "x": 0.225,
          "xanchor": "center",
          "xref": "paper",
          "y": 0.2528355387523629,
          "yanchor": "bottom",
          "yref": "paper"
         },
         {
          "font": {
           "size": 16
          },
          "showarrow": false,
          "text": "2.5Hz_ctrl_0017.tif",
          "x": 0.775,
          "xanchor": "center",
          "xref": "paper",
          "y": 0.2528355387523629,
          "yanchor": "bottom",
          "yref": "paper"
         },
         {
          "font": {
           "size": 16
          },
          "showarrow": false,
          "text": "2.5Hz_ctrl_0028.tif",
          "x": 0.225,
          "xanchor": "center",
          "xref": "paper",
          "y": 0.23086011342155008,
          "yanchor": "bottom",
          "yref": "paper"
         },
         {
          "font": {
           "size": 16
          },
          "showarrow": false,
          "text": "2.5Hz_ctrl_0028.tif",
          "x": 0.775,
          "xanchor": "center",
          "xref": "paper",
          "y": 0.23086011342155008,
          "yanchor": "bottom",
          "yref": "paper"
         },
         {
          "font": {
           "size": 16
          },
          "showarrow": false,
          "text": "2.5Hz_thapsi_0024.tif",
          "x": 0.225,
          "xanchor": "center",
          "xref": "paper",
          "y": 0.2088846880907372,
          "yanchor": "bottom",
          "yref": "paper"
         },
         {
          "font": {
           "size": 16
          },
          "showarrow": false,
          "text": "2.5Hz_thapsi_0024.tif",
          "x": 0.775,
          "xanchor": "center",
          "xref": "paper",
          "y": 0.2088846880907372,
          "yanchor": "bottom",
          "yref": "paper"
         },
         {
          "font": {
           "size": 16
          },
          "showarrow": false,
          "text": "cell.tif",
          "x": 0.225,
          "xanchor": "center",
          "xref": "paper",
          "y": 0.18690926275992437,
          "yanchor": "bottom",
          "yref": "paper"
         },
         {
          "font": {
           "size": 16
          },
          "showarrow": false,
          "text": "cell.tif",
          "x": 0.775,
          "xanchor": "center",
          "xref": "paper",
          "y": 0.18690926275992437,
          "yanchor": "bottom",
          "yref": "paper"
         },
         {
          "font": {
           "size": 16
          },
          "showarrow": false,
          "text": "control 2.5_0012.tif",
          "x": 0.225,
          "xanchor": "center",
          "xref": "paper",
          "y": 0.16493383742911152,
          "yanchor": "bottom",
          "yref": "paper"
         },
         {
          "font": {
           "size": 16
          },
          "showarrow": false,
          "text": "control 2.5_0012.tif",
          "x": 0.775,
          "xanchor": "center",
          "xref": "paper",
          "y": 0.16493383742911152,
          "yanchor": "bottom",
          "yref": "paper"
         },
         {
          "font": {
           "size": 16
          },
          "showarrow": false,
          "text": "control 2.5_0013.tif",
          "x": 0.225,
          "xanchor": "center",
          "xref": "paper",
          "y": 0.14295841209829865,
          "yanchor": "bottom",
          "yref": "paper"
         },
         {
          "font": {
           "size": 16
          },
          "showarrow": false,
          "text": "control 2.5_0013.tif",
          "x": 0.775,
          "xanchor": "center",
          "xref": "paper",
          "y": 0.14295841209829865,
          "yanchor": "bottom",
          "yref": "paper"
         },
         {
          "font": {
           "size": 16
          },
          "showarrow": false,
          "text": "control 2.5_0014.tif",
          "x": 0.225,
          "xanchor": "center",
          "xref": "paper",
          "y": 0.12098298676748581,
          "yanchor": "bottom",
          "yref": "paper"
         },
         {
          "font": {
           "size": 16
          },
          "showarrow": false,
          "text": "control 2.5_0014.tif",
          "x": 0.775,
          "xanchor": "center",
          "xref": "paper",
          "y": 0.12098298676748581,
          "yanchor": "bottom",
          "yref": "paper"
         },
         {
          "font": {
           "size": 16
          },
          "showarrow": false,
          "text": "control 2.5_0022.tif",
          "x": 0.225,
          "xanchor": "center",
          "xref": "paper",
          "y": 0.09900756143667297,
          "yanchor": "bottom",
          "yref": "paper"
         },
         {
          "font": {
           "size": 16
          },
          "showarrow": false,
          "text": "control 2.5_0022.tif",
          "x": 0.775,
          "xanchor": "center",
          "xref": "paper",
          "y": 0.09900756143667297,
          "yanchor": "bottom",
          "yref": "paper"
         },
         {
          "font": {
           "size": 16
          },
          "showarrow": false,
          "text": "thapsi 2.5_0008.tif",
          "x": 0.225,
          "xanchor": "center",
          "xref": "paper",
          "y": 0.0770321361058601,
          "yanchor": "bottom",
          "yref": "paper"
         },
         {
          "font": {
           "size": 16
          },
          "showarrow": false,
          "text": "thapsi 2.5_0008.tif",
          "x": 0.775,
          "xanchor": "center",
          "xref": "paper",
          "y": 0.0770321361058601,
          "yanchor": "bottom",
          "yref": "paper"
         },
         {
          "font": {
           "size": 16
          },
          "showarrow": false,
          "text": "thapsi 2.5_0017.tif",
          "x": 0.225,
          "xanchor": "center",
          "xref": "paper",
          "y": 0.055056710775047264,
          "yanchor": "bottom",
          "yref": "paper"
         },
         {
          "font": {
           "size": 16
          },
          "showarrow": false,
          "text": "thapsi 2.5_0017.tif",
          "x": 0.775,
          "xanchor": "center",
          "xref": "paper",
          "y": 0.055056710775047264,
          "yanchor": "bottom",
          "yref": "paper"
         },
         {
          "font": {
           "size": 16
          },
          "showarrow": false,
          "text": "thapsi 2.5_0033.tif",
          "x": 0.225,
          "xanchor": "center",
          "xref": "paper",
          "y": 0.03308128544423441,
          "yanchor": "bottom",
          "yref": "paper"
         },
         {
          "font": {
           "size": 16
          },
          "showarrow": false,
          "text": "thapsi 2.5_0033.tif",
          "x": 0.775,
          "xanchor": "center",
          "xref": "paper",
          "y": 0.03308128544423441,
          "yanchor": "bottom",
          "yref": "paper"
         },
         {
          "font": {
           "size": 16
          },
          "showarrow": false,
          "text": "thapsi 2.5_0047.tif",
          "x": 0.225,
          "xanchor": "center",
          "xref": "paper",
          "y": 0.01110586011342155,
          "yanchor": "bottom",
          "yref": "paper"
         },
         {
          "font": {
           "size": 16
          },
          "showarrow": false,
          "text": "thapsi 2.5_0047.tif",
          "x": 0.775,
          "xanchor": "center",
          "xref": "paper",
          "y": 0.01110586011342155,
          "yanchor": "bottom",
          "yref": "paper"
         }
        ],
        "colorway": [
         "rgb(229, 134, 6)",
         "rgb(93, 105, 177)",
         "rgb(82, 188, 163)",
         "rgb(153, 201, 69)",
         "rgb(204, 97, 176)",
         "rgb(36, 121, 108)",
         "rgb(218, 165, 27)",
         "rgb(47, 138, 196)",
         "rgb(118, 78, 159)",
         "rgb(237, 100, 90)",
         "rgb(165, 170, 153)"
        ],
        "height": 7500,
        "showlegend": false,
        "template": {
         "data": {
          "bar": [
           {
            "error_x": {
             "color": "#2a3f5f"
            },
            "error_y": {
             "color": "#2a3f5f"
            },
            "marker": {
             "line": {
              "color": "#E5ECF6",
              "width": 0.5
             },
             "pattern": {
              "fillmode": "overlay",
              "size": 10,
              "solidity": 0.2
             }
            },
            "type": "bar"
           }
          ],
          "barpolar": [
           {
            "marker": {
             "line": {
              "color": "#E5ECF6",
              "width": 0.5
             },
             "pattern": {
              "fillmode": "overlay",
              "size": 10,
              "solidity": 0.2
             }
            },
            "type": "barpolar"
           }
          ],
          "carpet": [
           {
            "aaxis": {
             "endlinecolor": "#2a3f5f",
             "gridcolor": "white",
             "linecolor": "white",
             "minorgridcolor": "white",
             "startlinecolor": "#2a3f5f"
            },
            "baxis": {
             "endlinecolor": "#2a3f5f",
             "gridcolor": "white",
             "linecolor": "white",
             "minorgridcolor": "white",
             "startlinecolor": "#2a3f5f"
            },
            "type": "carpet"
           }
          ],
          "choropleth": [
           {
            "colorbar": {
             "outlinewidth": 0,
             "ticks": ""
            },
            "type": "choropleth"
           }
          ],
          "contour": [
           {
            "colorbar": {
             "outlinewidth": 0,
             "ticks": ""
            },
            "colorscale": [
             [
              0,
              "#0d0887"
             ],
             [
              0.1111111111111111,
              "#46039f"
             ],
             [
              0.2222222222222222,
              "#7201a8"
             ],
             [
              0.3333333333333333,
              "#9c179e"
             ],
             [
              0.4444444444444444,
              "#bd3786"
             ],
             [
              0.5555555555555556,
              "#d8576b"
             ],
             [
              0.6666666666666666,
              "#ed7953"
             ],
             [
              0.7777777777777778,
              "#fb9f3a"
             ],
             [
              0.8888888888888888,
              "#fdca26"
             ],
             [
              1,
              "#f0f921"
             ]
            ],
            "type": "contour"
           }
          ],
          "contourcarpet": [
           {
            "colorbar": {
             "outlinewidth": 0,
             "ticks": ""
            },
            "type": "contourcarpet"
           }
          ],
          "heatmap": [
           {
            "colorbar": {
             "outlinewidth": 0,
             "ticks": ""
            },
            "colorscale": [
             [
              0,
              "#0d0887"
             ],
             [
              0.1111111111111111,
              "#46039f"
             ],
             [
              0.2222222222222222,
              "#7201a8"
             ],
             [
              0.3333333333333333,
              "#9c179e"
             ],
             [
              0.4444444444444444,
              "#bd3786"
             ],
             [
              0.5555555555555556,
              "#d8576b"
             ],
             [
              0.6666666666666666,
              "#ed7953"
             ],
             [
              0.7777777777777778,
              "#fb9f3a"
             ],
             [
              0.8888888888888888,
              "#fdca26"
             ],
             [
              1,
              "#f0f921"
             ]
            ],
            "type": "heatmap"
           }
          ],
          "heatmapgl": [
           {
            "colorbar": {
             "outlinewidth": 0,
             "ticks": ""
            },
            "colorscale": [
             [
              0,
              "#0d0887"
             ],
             [
              0.1111111111111111,
              "#46039f"
             ],
             [
              0.2222222222222222,
              "#7201a8"
             ],
             [
              0.3333333333333333,
              "#9c179e"
             ],
             [
              0.4444444444444444,
              "#bd3786"
             ],
             [
              0.5555555555555556,
              "#d8576b"
             ],
             [
              0.6666666666666666,
              "#ed7953"
             ],
             [
              0.7777777777777778,
              "#fb9f3a"
             ],
             [
              0.8888888888888888,
              "#fdca26"
             ],
             [
              1,
              "#f0f921"
             ]
            ],
            "type": "heatmapgl"
           }
          ],
          "histogram": [
           {
            "marker": {
             "pattern": {
              "fillmode": "overlay",
              "size": 10,
              "solidity": 0.2
             }
            },
            "type": "histogram"
           }
          ],
          "histogram2d": [
           {
            "colorbar": {
             "outlinewidth": 0,
             "ticks": ""
            },
            "colorscale": [
             [
              0,
              "#0d0887"
             ],
             [
              0.1111111111111111,
              "#46039f"
             ],
             [
              0.2222222222222222,
              "#7201a8"
             ],
             [
              0.3333333333333333,
              "#9c179e"
             ],
             [
              0.4444444444444444,
              "#bd3786"
             ],
             [
              0.5555555555555556,
              "#d8576b"
             ],
             [
              0.6666666666666666,
              "#ed7953"
             ],
             [
              0.7777777777777778,
              "#fb9f3a"
             ],
             [
              0.8888888888888888,
              "#fdca26"
             ],
             [
              1,
              "#f0f921"
             ]
            ],
            "type": "histogram2d"
           }
          ],
          "histogram2dcontour": [
           {
            "colorbar": {
             "outlinewidth": 0,
             "ticks": ""
            },
            "colorscale": [
             [
              0,
              "#0d0887"
             ],
             [
              0.1111111111111111,
              "#46039f"
             ],
             [
              0.2222222222222222,
              "#7201a8"
             ],
             [
              0.3333333333333333,
              "#9c179e"
             ],
             [
              0.4444444444444444,
              "#bd3786"
             ],
             [
              0.5555555555555556,
              "#d8576b"
             ],
             [
              0.6666666666666666,
              "#ed7953"
             ],
             [
              0.7777777777777778,
              "#fb9f3a"
             ],
             [
              0.8888888888888888,
              "#fdca26"
             ],
             [
              1,
              "#f0f921"
             ]
            ],
            "type": "histogram2dcontour"
           }
          ],
          "mesh3d": [
           {
            "colorbar": {
             "outlinewidth": 0,
             "ticks": ""
            },
            "type": "mesh3d"
           }
          ],
          "parcoords": [
           {
            "line": {
             "colorbar": {
              "outlinewidth": 0,
              "ticks": ""
             }
            },
            "type": "parcoords"
           }
          ],
          "pie": [
           {
            "automargin": true,
            "type": "pie"
           }
          ],
          "scatter": [
           {
            "marker": {
             "colorbar": {
              "outlinewidth": 0,
              "ticks": ""
             }
            },
            "type": "scatter"
           }
          ],
          "scatter3d": [
           {
            "line": {
             "colorbar": {
              "outlinewidth": 0,
              "ticks": ""
             }
            },
            "marker": {
             "colorbar": {
              "outlinewidth": 0,
              "ticks": ""
             }
            },
            "type": "scatter3d"
           }
          ],
          "scattercarpet": [
           {
            "marker": {
             "colorbar": {
              "outlinewidth": 0,
              "ticks": ""
             }
            },
            "type": "scattercarpet"
           }
          ],
          "scattergeo": [
           {
            "marker": {
             "colorbar": {
              "outlinewidth": 0,
              "ticks": ""
             }
            },
            "type": "scattergeo"
           }
          ],
          "scattergl": [
           {
            "marker": {
             "colorbar": {
              "outlinewidth": 0,
              "ticks": ""
             }
            },
            "type": "scattergl"
           }
          ],
          "scattermapbox": [
           {
            "marker": {
             "colorbar": {
              "outlinewidth": 0,
              "ticks": ""
             }
            },
            "type": "scattermapbox"
           }
          ],
          "scatterpolar": [
           {
            "marker": {
             "colorbar": {
              "outlinewidth": 0,
              "ticks": ""
             }
            },
            "type": "scatterpolar"
           }
          ],
          "scatterpolargl": [
           {
            "marker": {
             "colorbar": {
              "outlinewidth": 0,
              "ticks": ""
             }
            },
            "type": "scatterpolargl"
           }
          ],
          "scatterternary": [
           {
            "marker": {
             "colorbar": {
              "outlinewidth": 0,
              "ticks": ""
             }
            },
            "type": "scatterternary"
           }
          ],
          "surface": [
           {
            "colorbar": {
             "outlinewidth": 0,
             "ticks": ""
            },
            "colorscale": [
             [
              0,
              "#0d0887"
             ],
             [
              0.1111111111111111,
              "#46039f"
             ],
             [
              0.2222222222222222,
              "#7201a8"
             ],
             [
              0.3333333333333333,
              "#9c179e"
             ],
             [
              0.4444444444444444,
              "#bd3786"
             ],
             [
              0.5555555555555556,
              "#d8576b"
             ],
             [
              0.6666666666666666,
              "#ed7953"
             ],
             [
              0.7777777777777778,
              "#fb9f3a"
             ],
             [
              0.8888888888888888,
              "#fdca26"
             ],
             [
              1,
              "#f0f921"
             ]
            ],
            "type": "surface"
           }
          ],
          "table": [
           {
            "cells": {
             "fill": {
              "color": "#EBF0F8"
             },
             "line": {
              "color": "white"
             }
            },
            "header": {
             "fill": {
              "color": "#C8D4E3"
             },
             "line": {
              "color": "white"
             }
            },
            "type": "table"
           }
          ]
         },
         "layout": {
          "annotationdefaults": {
           "arrowcolor": "#2a3f5f",
           "arrowhead": 0,
           "arrowwidth": 1
          },
          "autotypenumbers": "strict",
          "coloraxis": {
           "colorbar": {
            "outlinewidth": 0,
            "ticks": ""
           }
          },
          "colorscale": {
           "diverging": [
            [
             0,
             "#8e0152"
            ],
            [
             0.1,
             "#c51b7d"
            ],
            [
             0.2,
             "#de77ae"
            ],
            [
             0.3,
             "#f1b6da"
            ],
            [
             0.4,
             "#fde0ef"
            ],
            [
             0.5,
             "#f7f7f7"
            ],
            [
             0.6,
             "#e6f5d0"
            ],
            [
             0.7,
             "#b8e186"
            ],
            [
             0.8,
             "#7fbc41"
            ],
            [
             0.9,
             "#4d9221"
            ],
            [
             1,
             "#276419"
            ]
           ],
           "sequential": [
            [
             0,
             "#0d0887"
            ],
            [
             0.1111111111111111,
             "#46039f"
            ],
            [
             0.2222222222222222,
             "#7201a8"
            ],
            [
             0.3333333333333333,
             "#9c179e"
            ],
            [
             0.4444444444444444,
             "#bd3786"
            ],
            [
             0.5555555555555556,
             "#d8576b"
            ],
            [
             0.6666666666666666,
             "#ed7953"
            ],
            [
             0.7777777777777778,
             "#fb9f3a"
            ],
            [
             0.8888888888888888,
             "#fdca26"
            ],
            [
             1,
             "#f0f921"
            ]
           ],
           "sequentialminus": [
            [
             0,
             "#0d0887"
            ],
            [
             0.1111111111111111,
             "#46039f"
            ],
            [
             0.2222222222222222,
             "#7201a8"
            ],
            [
             0.3333333333333333,
             "#9c179e"
            ],
            [
             0.4444444444444444,
             "#bd3786"
            ],
            [
             0.5555555555555556,
             "#d8576b"
            ],
            [
             0.6666666666666666,
             "#ed7953"
            ],
            [
             0.7777777777777778,
             "#fb9f3a"
            ],
            [
             0.8888888888888888,
             "#fdca26"
            ],
            [
             1,
             "#f0f921"
            ]
           ]
          },
          "colorway": [
           "#636efa",
           "#EF553B",
           "#00cc96",
           "#ab63fa",
           "#FFA15A",
           "#19d3f3",
           "#FF6692",
           "#B6E880",
           "#FF97FF",
           "#FECB52"
          ],
          "font": {
           "color": "#2a3f5f"
          },
          "geo": {
           "bgcolor": "white",
           "lakecolor": "white",
           "landcolor": "#E5ECF6",
           "showlakes": true,
           "showland": true,
           "subunitcolor": "white"
          },
          "hoverlabel": {
           "align": "left"
          },
          "hovermode": "closest",
          "mapbox": {
           "style": "light"
          },
          "paper_bgcolor": "white",
          "plot_bgcolor": "#E5ECF6",
          "polar": {
           "angularaxis": {
            "gridcolor": "white",
            "linecolor": "white",
            "ticks": ""
           },
           "bgcolor": "#E5ECF6",
           "radialaxis": {
            "gridcolor": "white",
            "linecolor": "white",
            "ticks": ""
           }
          },
          "scene": {
           "xaxis": {
            "backgroundcolor": "#E5ECF6",
            "gridcolor": "white",
            "gridwidth": 2,
            "linecolor": "white",
            "showbackground": true,
            "ticks": "",
            "zerolinecolor": "white"
           },
           "yaxis": {
            "backgroundcolor": "#E5ECF6",
            "gridcolor": "white",
            "gridwidth": 2,
            "linecolor": "white",
            "showbackground": true,
            "ticks": "",
            "zerolinecolor": "white"
           },
           "zaxis": {
            "backgroundcolor": "#E5ECF6",
            "gridcolor": "white",
            "gridwidth": 2,
            "linecolor": "white",
            "showbackground": true,
            "ticks": "",
            "zerolinecolor": "white"
           }
          },
          "shapedefaults": {
           "line": {
            "color": "#2a3f5f"
           }
          },
          "ternary": {
           "aaxis": {
            "gridcolor": "white",
            "linecolor": "white",
            "ticks": ""
           },
           "baxis": {
            "gridcolor": "white",
            "linecolor": "white",
            "ticks": ""
           },
           "bgcolor": "#E5ECF6",
           "caxis": {
            "gridcolor": "white",
            "linecolor": "white",
            "ticks": ""
           }
          },
          "title": {
           "x": 0.05
          },
          "xaxis": {
           "automargin": true,
           "gridcolor": "white",
           "linecolor": "white",
           "ticks": "",
           "title": {
            "standoff": 15
           },
           "zerolinecolor": "white",
           "zerolinewidth": 2
          },
          "yaxis": {
           "automargin": true,
           "gridcolor": "white",
           "linecolor": "white",
           "ticks": "",
           "title": {
            "standoff": 15
           },
           "zerolinecolor": "white",
           "zerolinewidth": 2
          }
         }
        },
        "title": {
         "text": "Subplot for Each File's peakVal and peakHeight"
        },
        "width": 1000,
        "xaxis": {
         "anchor": "y",
         "domain": [
          0,
          0.45
         ],
         "title": {
          "text": "thresholdSec"
         }
        },
        "xaxis10": {
         "anchor": "y10",
         "domain": [
          0.55,
          1
         ],
         "title": {
          "text": "thresholdSec"
         }
        },
        "xaxis11": {
         "anchor": "y11",
         "domain": [
          0,
          0.45
         ],
         "title": {
          "text": "thresholdSec"
         }
        },
        "xaxis12": {
         "anchor": "y12",
         "domain": [
          0.55,
          1
         ],
         "title": {
          "text": "thresholdSec"
         }
        },
        "xaxis13": {
         "anchor": "y13",
         "domain": [
          0,
          0.45
         ],
         "title": {
          "text": "thresholdSec"
         }
        },
        "xaxis14": {
         "anchor": "y14",
         "domain": [
          0.55,
          1
         ],
         "title": {
          "text": "thresholdSec"
         }
        },
        "xaxis15": {
         "anchor": "y15",
         "domain": [
          0,
          0.45
         ],
         "title": {
          "text": "thresholdSec"
         }
        },
        "xaxis16": {
         "anchor": "y16",
         "domain": [
          0.55,
          1
         ],
         "title": {
          "text": "thresholdSec"
         }
        },
        "xaxis17": {
         "anchor": "y17",
         "domain": [
          0,
          0.45
         ],
         "title": {
          "text": "thresholdSec"
         }
        },
        "xaxis18": {
         "anchor": "y18",
         "domain": [
          0.55,
          1
         ],
         "title": {
          "text": "thresholdSec"
         }
        },
        "xaxis19": {
         "anchor": "y19",
         "domain": [
          0,
          0.45
         ],
         "title": {
          "text": "thresholdSec"
         }
        },
        "xaxis2": {
         "anchor": "y2",
         "domain": [
          0.55,
          1
         ],
         "title": {
          "text": "thresholdSec"
         }
        },
        "xaxis20": {
         "anchor": "y20",
         "domain": [
          0.55,
          1
         ],
         "title": {
          "text": "thresholdSec"
         }
        },
        "xaxis21": {
         "anchor": "y21",
         "domain": [
          0,
          0.45
         ],
         "title": {
          "text": "thresholdSec"
         }
        },
        "xaxis22": {
         "anchor": "y22",
         "domain": [
          0.55,
          1
         ],
         "title": {
          "text": "thresholdSec"
         }
        },
        "xaxis23": {
         "anchor": "y23",
         "domain": [
          0,
          0.45
         ],
         "title": {
          "text": "thresholdSec"
         }
        },
        "xaxis24": {
         "anchor": "y24",
         "domain": [
          0.55,
          1
         ],
         "title": {
          "text": "thresholdSec"
         }
        },
        "xaxis25": {
         "anchor": "y25",
         "domain": [
          0,
          0.45
         ],
         "title": {
          "text": "thresholdSec"
         }
        },
        "xaxis26": {
         "anchor": "y26",
         "domain": [
          0.55,
          1
         ],
         "title": {
          "text": "thresholdSec"
         }
        },
        "xaxis27": {
         "anchor": "y27",
         "domain": [
          0,
          0.45
         ],
         "title": {
          "text": "thresholdSec"
         }
        },
        "xaxis28": {
         "anchor": "y28",
         "domain": [
          0.55,
          1
         ],
         "title": {
          "text": "thresholdSec"
         }
        },
        "xaxis29": {
         "anchor": "y29",
         "domain": [
          0,
          0.45
         ],
         "title": {
          "text": "thresholdSec"
         }
        },
        "xaxis3": {
         "anchor": "y3",
         "domain": [
          0,
          0.45
         ],
         "title": {
          "text": "thresholdSec"
         }
        },
        "xaxis30": {
         "anchor": "y30",
         "domain": [
          0.55,
          1
         ],
         "title": {
          "text": "thresholdSec"
         }
        },
        "xaxis31": {
         "anchor": "y31",
         "domain": [
          0,
          0.45
         ],
         "title": {
          "text": "thresholdSec"
         }
        },
        "xaxis32": {
         "anchor": "y32",
         "domain": [
          0.55,
          1
         ],
         "title": {
          "text": "thresholdSec"
         }
        },
        "xaxis33": {
         "anchor": "y33",
         "domain": [
          0,
          0.45
         ],
         "title": {
          "text": "thresholdSec"
         }
        },
        "xaxis34": {
         "anchor": "y34",
         "domain": [
          0.55,
          1
         ],
         "title": {
          "text": "thresholdSec"
         }
        },
        "xaxis35": {
         "anchor": "y35",
         "domain": [
          0,
          0.45
         ],
         "title": {
          "text": "thresholdSec"
         }
        },
        "xaxis36": {
         "anchor": "y36",
         "domain": [
          0.55,
          1
         ],
         "title": {
          "text": "thresholdSec"
         }
        },
        "xaxis37": {
         "anchor": "y37",
         "domain": [
          0,
          0.45
         ],
         "title": {
          "text": "thresholdSec"
         }
        },
        "xaxis38": {
         "anchor": "y38",
         "domain": [
          0.55,
          1
         ],
         "title": {
          "text": "thresholdSec"
         }
        },
        "xaxis39": {
         "anchor": "y39",
         "domain": [
          0,
          0.45
         ],
         "title": {
          "text": "thresholdSec"
         }
        },
        "xaxis4": {
         "anchor": "y4",
         "domain": [
          0.55,
          1
         ],
         "title": {
          "text": "thresholdSec"
         }
        },
        "xaxis40": {
         "anchor": "y40",
         "domain": [
          0.55,
          1
         ],
         "title": {
          "text": "thresholdSec"
         }
        },
        "xaxis41": {
         "anchor": "y41",
         "domain": [
          0,
          0.45
         ],
         "title": {
          "text": "thresholdSec"
         }
        },
        "xaxis42": {
         "anchor": "y42",
         "domain": [
          0.55,
          1
         ],
         "title": {
          "text": "thresholdSec"
         }
        },
        "xaxis43": {
         "anchor": "y43",
         "domain": [
          0,
          0.45
         ],
         "title": {
          "text": "thresholdSec"
         }
        },
        "xaxis44": {
         "anchor": "y44",
         "domain": [
          0.55,
          1
         ],
         "title": {
          "text": "thresholdSec"
         }
        },
        "xaxis45": {
         "anchor": "y45",
         "domain": [
          0,
          0.45
         ],
         "title": {
          "text": "thresholdSec"
         }
        },
        "xaxis46": {
         "anchor": "y46",
         "domain": [
          0.55,
          1
         ],
         "title": {
          "text": "thresholdSec"
         }
        },
        "xaxis47": {
         "anchor": "y47",
         "domain": [
          0,
          0.45
         ],
         "title": {
          "text": "thresholdSec"
         }
        },
        "xaxis48": {
         "anchor": "y48",
         "domain": [
          0.55,
          1
         ],
         "title": {
          "text": "thresholdSec"
         }
        },
        "xaxis49": {
         "anchor": "y49",
         "domain": [
          0,
          0.45
         ],
         "title": {
          "text": "thresholdSec"
         }
        },
        "xaxis5": {
         "anchor": "y5",
         "domain": [
          0,
          0.45
         ],
         "title": {
          "text": "thresholdSec"
         }
        },
        "xaxis50": {
         "anchor": "y50",
         "domain": [
          0.55,
          1
         ],
         "title": {
          "text": "thresholdSec"
         }
        },
        "xaxis51": {
         "anchor": "y51",
         "domain": [
          0,
          0.45
         ],
         "title": {
          "text": "thresholdSec"
         }
        },
        "xaxis52": {
         "anchor": "y52",
         "domain": [
          0.55,
          1
         ],
         "title": {
          "text": "thresholdSec"
         }
        },
        "xaxis53": {
         "anchor": "y53",
         "domain": [
          0,
          0.45
         ],
         "title": {
          "text": "thresholdSec"
         }
        },
        "xaxis54": {
         "anchor": "y54",
         "domain": [
          0.55,
          1
         ],
         "title": {
          "text": "thresholdSec"
         }
        },
        "xaxis55": {
         "anchor": "y55",
         "domain": [
          0,
          0.45
         ],
         "title": {
          "text": "thresholdSec"
         }
        },
        "xaxis56": {
         "anchor": "y56",
         "domain": [
          0.55,
          1
         ],
         "title": {
          "text": "thresholdSec"
         }
        },
        "xaxis57": {
         "anchor": "y57",
         "domain": [
          0,
          0.45
         ],
         "title": {
          "text": "thresholdSec"
         }
        },
        "xaxis58": {
         "anchor": "y58",
         "domain": [
          0.55,
          1
         ],
         "title": {
          "text": "thresholdSec"
         }
        },
        "xaxis59": {
         "anchor": "y59",
         "domain": [
          0,
          0.45
         ],
         "title": {
          "text": "thresholdSec"
         }
        },
        "xaxis6": {
         "anchor": "y6",
         "domain": [
          0.55,
          1
         ],
         "title": {
          "text": "thresholdSec"
         }
        },
        "xaxis60": {
         "anchor": "y60",
         "domain": [
          0.55,
          1
         ],
         "title": {
          "text": "thresholdSec"
         }
        },
        "xaxis61": {
         "anchor": "y61",
         "domain": [
          0,
          0.45
         ],
         "title": {
          "text": "thresholdSec"
         }
        },
        "xaxis62": {
         "anchor": "y62",
         "domain": [
          0.55,
          1
         ],
         "title": {
          "text": "thresholdSec"
         }
        },
        "xaxis63": {
         "anchor": "y63",
         "domain": [
          0,
          0.45
         ],
         "title": {
          "text": "thresholdSec"
         }
        },
        "xaxis64": {
         "anchor": "y64",
         "domain": [
          0.55,
          1
         ],
         "title": {
          "text": "thresholdSec"
         }
        },
        "xaxis65": {
         "anchor": "y65",
         "domain": [
          0,
          0.45
         ],
         "title": {
          "text": "thresholdSec"
         }
        },
        "xaxis66": {
         "anchor": "y66",
         "domain": [
          0.55,
          1
         ],
         "title": {
          "text": "thresholdSec"
         }
        },
        "xaxis67": {
         "anchor": "y67",
         "domain": [
          0,
          0.45
         ],
         "title": {
          "text": "thresholdSec"
         }
        },
        "xaxis68": {
         "anchor": "y68",
         "domain": [
          0.55,
          1
         ],
         "title": {
          "text": "thresholdSec"
         }
        },
        "xaxis69": {
         "anchor": "y69",
         "domain": [
          0,
          0.45
         ],
         "title": {
          "text": "thresholdSec"
         }
        },
        "xaxis7": {
         "anchor": "y7",
         "domain": [
          0,
          0.45
         ],
         "title": {
          "text": "thresholdSec"
         }
        },
        "xaxis70": {
         "anchor": "y70",
         "domain": [
          0.55,
          1
         ],
         "title": {
          "text": "thresholdSec"
         }
        },
        "xaxis71": {
         "anchor": "y71",
         "domain": [
          0,
          0.45
         ],
         "title": {
          "text": "thresholdSec"
         }
        },
        "xaxis72": {
         "anchor": "y72",
         "domain": [
          0.55,
          1
         ],
         "title": {
          "text": "thresholdSec"
         }
        },
        "xaxis73": {
         "anchor": "y73",
         "domain": [
          0,
          0.45
         ],
         "title": {
          "text": "thresholdSec"
         }
        },
        "xaxis74": {
         "anchor": "y74",
         "domain": [
          0.55,
          1
         ],
         "title": {
          "text": "thresholdSec"
         }
        },
        "xaxis75": {
         "anchor": "y75",
         "domain": [
          0,
          0.45
         ],
         "title": {
          "text": "thresholdSec"
         }
        },
        "xaxis76": {
         "anchor": "y76",
         "domain": [
          0.55,
          1
         ],
         "title": {
          "text": "thresholdSec"
         }
        },
        "xaxis77": {
         "anchor": "y77",
         "domain": [
          0,
          0.45
         ],
         "title": {
          "text": "thresholdSec"
         }
        },
        "xaxis78": {
         "anchor": "y78",
         "domain": [
          0.55,
          1
         ],
         "title": {
          "text": "thresholdSec"
         }
        },
        "xaxis79": {
         "anchor": "y79",
         "domain": [
          0,
          0.45
         ],
         "title": {
          "text": "thresholdSec"
         }
        },
        "xaxis8": {
         "anchor": "y8",
         "domain": [
          0.55,
          1
         ],
         "title": {
          "text": "thresholdSec"
         }
        },
        "xaxis80": {
         "anchor": "y80",
         "domain": [
          0.55,
          1
         ],
         "title": {
          "text": "thresholdSec"
         }
        },
        "xaxis81": {
         "anchor": "y81",
         "domain": [
          0,
          0.45
         ],
         "title": {
          "text": "thresholdSec"
         }
        },
        "xaxis82": {
         "anchor": "y82",
         "domain": [
          0.55,
          1
         ],
         "title": {
          "text": "thresholdSec"
         }
        },
        "xaxis83": {
         "anchor": "y83",
         "domain": [
          0,
          0.45
         ],
         "title": {
          "text": "thresholdSec"
         }
        },
        "xaxis84": {
         "anchor": "y84",
         "domain": [
          0.55,
          1
         ],
         "title": {
          "text": "thresholdSec"
         }
        },
        "xaxis85": {
         "anchor": "y85",
         "domain": [
          0,
          0.45
         ],
         "title": {
          "text": "thresholdSec"
         }
        },
        "xaxis86": {
         "anchor": "y86",
         "domain": [
          0.55,
          1
         ],
         "title": {
          "text": "thresholdSec"
         }
        },
        "xaxis87": {
         "anchor": "y87",
         "domain": [
          0,
          0.45
         ],
         "title": {
          "text": "thresholdSec"
         }
        },
        "xaxis88": {
         "anchor": "y88",
         "domain": [
          0.55,
          1
         ],
         "title": {
          "text": "thresholdSec"
         }
        },
        "xaxis89": {
         "anchor": "y89",
         "domain": [
          0,
          0.45
         ],
         "title": {
          "text": "thresholdSec"
         }
        },
        "xaxis9": {
         "anchor": "y9",
         "domain": [
          0,
          0.45
         ],
         "title": {
          "text": "thresholdSec"
         }
        },
        "xaxis90": {
         "anchor": "y90",
         "domain": [
          0.55,
          1
         ],
         "title": {
          "text": "thresholdSec"
         }
        },
        "xaxis91": {
         "anchor": "y91",
         "domain": [
          0,
          0.45
         ],
         "title": {
          "text": "thresholdSec"
         }
        },
        "xaxis92": {
         "anchor": "y92",
         "domain": [
          0.55,
          1
         ],
         "title": {
          "text": "thresholdSec"
         }
        },
        "yaxis": {
         "anchor": "x",
         "domain": [
          0.9888941398865789,
          1
         ],
         "title": {
          "text": "peakVal"
         }
        },
        "yaxis10": {
         "anchor": "x10",
         "domain": [
          0.9009924385633273,
          0.9120982986767489
         ],
         "title": {
          "text": "peakHeight"
         }
        },
        "yaxis11": {
         "anchor": "x11",
         "domain": [
          0.8790170132325145,
          0.890122873345936
         ],
         "title": {
          "text": "peakVal"
         }
        },
        "yaxis12": {
         "anchor": "x12",
         "domain": [
          0.8790170132325145,
          0.890122873345936
         ],
         "title": {
          "text": "peakHeight"
         }
        },
        "yaxis13": {
         "anchor": "x13",
         "domain": [
          0.8570415879017016,
          0.8681474480151231
         ],
         "title": {
          "text": "peakVal"
         }
        },
        "yaxis14": {
         "anchor": "x14",
         "domain": [
          0.8570415879017016,
          0.8681474480151231
         ],
         "title": {
          "text": "peakHeight"
         }
        },
        "yaxis15": {
         "anchor": "x15",
         "domain": [
          0.8350661625708887,
          0.8461720226843102
         ],
         "title": {
          "text": "peakVal"
         }
        },
        "yaxis16": {
         "anchor": "x16",
         "domain": [
          0.8350661625708887,
          0.8461720226843102
         ],
         "title": {
          "text": "peakHeight"
         }
        },
        "yaxis17": {
         "anchor": "x17",
         "domain": [
          0.8130907372400759,
          0.8241965973534974
         ],
         "title": {
          "text": "peakVal"
         }
        },
        "yaxis18": {
         "anchor": "x18",
         "domain": [
          0.8130907372400759,
          0.8241965973534974
         ],
         "title": {
          "text": "peakHeight"
         }
        },
        "yaxis19": {
         "anchor": "x19",
         "domain": [
          0.7911153119092629,
          0.8022211720226844
         ],
         "title": {
          "text": "peakVal"
         }
        },
        "yaxis2": {
         "anchor": "x2",
         "domain": [
          0.9888941398865789,
          1
         ],
         "title": {
          "text": "peakHeight"
         }
        },
        "yaxis20": {
         "anchor": "x20",
         "domain": [
          0.7911153119092629,
          0.8022211720226844
         ],
         "title": {
          "text": "peakHeight"
         }
        },
        "yaxis21": {
         "anchor": "x21",
         "domain": [
          0.76913988657845,
          0.7802457466918715
         ],
         "title": {
          "text": "peakVal"
         }
        },
        "yaxis22": {
         "anchor": "x22",
         "domain": [
          0.76913988657845,
          0.7802457466918715
         ],
         "title": {
          "text": "peakHeight"
         }
        },
        "yaxis23": {
         "anchor": "x23",
         "domain": [
          0.7471644612476371,
          0.7582703213610587
         ],
         "title": {
          "text": "peakVal"
         }
        },
        "yaxis24": {
         "anchor": "x24",
         "domain": [
          0.7471644612476371,
          0.7582703213610587
         ],
         "title": {
          "text": "peakHeight"
         }
        },
        "yaxis25": {
         "anchor": "x25",
         "domain": [
          0.7251890359168243,
          0.7362948960302458
         ],
         "title": {
          "text": "peakVal"
         }
        },
        "yaxis26": {
         "anchor": "x26",
         "domain": [
          0.7251890359168243,
          0.7362948960302458
         ],
         "title": {
          "text": "peakHeight"
         }
        },
        "yaxis27": {
         "anchor": "x27",
         "domain": [
          0.7032136105860114,
          0.7143194706994329
         ],
         "title": {
          "text": "peakVal"
         }
        },
        "yaxis28": {
         "anchor": "x28",
         "domain": [
          0.7032136105860114,
          0.7143194706994329
         ],
         "title": {
          "text": "peakHeight"
         }
        },
        "yaxis29": {
         "anchor": "x29",
         "domain": [
          0.6812381852551985,
          0.69234404536862
         ],
         "title": {
          "text": "peakVal"
         }
        },
        "yaxis3": {
         "anchor": "x3",
         "domain": [
          0.9669187145557661,
          0.9780245746691876
         ],
         "title": {
          "text": "peakVal"
         }
        },
        "yaxis30": {
         "anchor": "x30",
         "domain": [
          0.6812381852551985,
          0.69234404536862
         ],
         "title": {
          "text": "peakHeight"
         }
        },
        "yaxis31": {
         "anchor": "x31",
         "domain": [
          0.6592627599243857,
          0.6703686200378072
         ],
         "title": {
          "text": "peakVal"
         }
        },
        "yaxis32": {
         "anchor": "x32",
         "domain": [
          0.6592627599243857,
          0.6703686200378072
         ],
         "title": {
          "text": "peakHeight"
         }
        },
        "yaxis33": {
         "anchor": "x33",
         "domain": [
          0.6372873345935728,
          0.6483931947069943
         ],
         "title": {
          "text": "peakVal"
         }
        },
        "yaxis34": {
         "anchor": "x34",
         "domain": [
          0.6372873345935728,
          0.6483931947069943
         ],
         "title": {
          "text": "peakHeight"
         }
        },
        "yaxis35": {
         "anchor": "x35",
         "domain": [
          0.6153119092627599,
          0.6264177693761814
         ],
         "title": {
          "text": "peakVal"
         }
        },
        "yaxis36": {
         "anchor": "x36",
         "domain": [
          0.6153119092627599,
          0.6264177693761814
         ],
         "title": {
          "text": "peakHeight"
         }
        },
        "yaxis37": {
         "anchor": "x37",
         "domain": [
          0.593336483931947,
          0.6044423440453686
         ],
         "title": {
          "text": "peakVal"
         }
        },
        "yaxis38": {
         "anchor": "x38",
         "domain": [
          0.593336483931947,
          0.6044423440453686
         ],
         "title": {
          "text": "peakHeight"
         }
        },
        "yaxis39": {
         "anchor": "x39",
         "domain": [
          0.5713610586011342,
          0.5824669187145557
         ],
         "title": {
          "text": "peakVal"
         }
        },
        "yaxis4": {
         "anchor": "x4",
         "domain": [
          0.9669187145557661,
          0.9780245746691876
         ],
         "title": {
          "text": "peakHeight"
         }
        },
        "yaxis40": {
         "anchor": "x40",
         "domain": [
          0.5713610586011342,
          0.5824669187145557
         ],
         "title": {
          "text": "peakHeight"
         }
        },
        "yaxis41": {
         "anchor": "x41",
         "domain": [
          0.5493856332703213,
          0.5604914933837428
         ],
         "title": {
          "text": "peakVal"
         }
        },
        "yaxis42": {
         "anchor": "x42",
         "domain": [
          0.5493856332703213,
          0.5604914933837428
         ],
         "title": {
          "text": "peakHeight"
         }
        },
        "yaxis43": {
         "anchor": "x43",
         "domain": [
          0.5274102079395084,
          0.53851606805293
         ],
         "title": {
          "text": "peakVal"
         }
        },
        "yaxis44": {
         "anchor": "x44",
         "domain": [
          0.5274102079395084,
          0.53851606805293
         ],
         "title": {
          "text": "peakHeight"
         }
        },
        "yaxis45": {
         "anchor": "x45",
         "domain": [
          0.5054347826086956,
          0.5165406427221171
         ],
         "title": {
          "text": "peakVal"
         }
        },
        "yaxis46": {
         "anchor": "x46",
         "domain": [
          0.5054347826086956,
          0.5165406427221171
         ],
         "title": {
          "text": "peakHeight"
         }
        },
        "yaxis47": {
         "anchor": "x47",
         "domain": [
          0.4834593572778827,
          0.49456521739130427
         ],
         "title": {
          "text": "peakVal"
         }
        },
        "yaxis48": {
         "anchor": "x48",
         "domain": [
          0.4834593572778827,
          0.49456521739130427
         ],
         "title": {
          "text": "peakHeight"
         }
        },
        "yaxis49": {
         "anchor": "x49",
         "domain": [
          0.4614839319470698,
          0.4725897920604914
         ],
         "title": {
          "text": "peakVal"
         }
        },
        "yaxis5": {
         "anchor": "x5",
         "domain": [
          0.9449432892249531,
          0.9560491493383746
         ],
         "title": {
          "text": "peakVal"
         }
        },
        "yaxis50": {
         "anchor": "x50",
         "domain": [
          0.4614839319470698,
          0.4725897920604914
         ],
         "title": {
          "text": "peakHeight"
         }
        },
        "yaxis51": {
         "anchor": "x51",
         "domain": [
          0.439508506616257,
          0.4506143667296786
         ],
         "title": {
          "text": "peakVal"
         }
        },
        "yaxis52": {
         "anchor": "x52",
         "domain": [
          0.439508506616257,
          0.4506143667296786
         ],
         "title": {
          "text": "peakHeight"
         }
        },
        "yaxis53": {
         "anchor": "x53",
         "domain": [
          0.4175330812854442,
          0.42863894139886577
         ],
         "title": {
          "text": "peakVal"
         }
        },
        "yaxis54": {
         "anchor": "x54",
         "domain": [
          0.4175330812854442,
          0.42863894139886577
         ],
         "title": {
          "text": "peakHeight"
         }
        },
        "yaxis55": {
         "anchor": "x55",
         "domain": [
          0.3955576559546313,
          0.4066635160680529
         ],
         "title": {
          "text": "peakVal"
         }
        },
        "yaxis56": {
         "anchor": "x56",
         "domain": [
          0.3955576559546313,
          0.4066635160680529
         ],
         "title": {
          "text": "peakHeight"
         }
        },
        "yaxis57": {
         "anchor": "x57",
         "domain": [
          0.37358223062381846,
          0.38468809073724003
         ],
         "title": {
          "text": "peakVal"
         }
        },
        "yaxis58": {
         "anchor": "x58",
         "domain": [
          0.37358223062381846,
          0.38468809073724003
         ],
         "title": {
          "text": "peakHeight"
         }
        },
        "yaxis59": {
         "anchor": "x59",
         "domain": [
          0.3516068052930056,
          0.36271266540642716
         ],
         "title": {
          "text": "peakVal"
         }
        },
        "yaxis6": {
         "anchor": "x6",
         "domain": [
          0.9449432892249531,
          0.9560491493383746
         ],
         "title": {
          "text": "peakHeight"
         }
        },
        "yaxis60": {
         "anchor": "x60",
         "domain": [
          0.3516068052930056,
          0.36271266540642716
         ],
         "title": {
          "text": "peakHeight"
         }
        },
        "yaxis61": {
         "anchor": "x61",
         "domain": [
          0.32963137996219277,
          0.34073724007561434
         ],
         "title": {
          "text": "peakVal"
         }
        },
        "yaxis62": {
         "anchor": "x62",
         "domain": [
          0.32963137996219277,
          0.34073724007561434
         ],
         "title": {
          "text": "peakHeight"
         }
        },
        "yaxis63": {
         "anchor": "x63",
         "domain": [
          0.30765595463137996,
          0.31876181474480153
         ],
         "title": {
          "text": "peakVal"
         }
        },
        "yaxis64": {
         "anchor": "x64",
         "domain": [
          0.30765595463137996,
          0.31876181474480153
         ],
         "title": {
          "text": "peakHeight"
         }
        },
        "yaxis65": {
         "anchor": "x65",
         "domain": [
          0.2856805293005671,
          0.29678638941398866
         ],
         "title": {
          "text": "peakVal"
         }
        },
        "yaxis66": {
         "anchor": "x66",
         "domain": [
          0.2856805293005671,
          0.29678638941398866
         ],
         "title": {
          "text": "peakHeight"
         }
        },
        "yaxis67": {
         "anchor": "x67",
         "domain": [
          0.2637051039697542,
          0.2748109640831758
         ],
         "title": {
          "text": "peakVal"
         }
        },
        "yaxis68": {
         "anchor": "x68",
         "domain": [
          0.2637051039697542,
          0.2748109640831758
         ],
         "title": {
          "text": "peakHeight"
         }
        },
        "yaxis69": {
         "anchor": "x69",
         "domain": [
          0.24172967863894138,
          0.2528355387523629
         ],
         "title": {
          "text": "peakVal"
         }
        },
        "yaxis7": {
         "anchor": "x7",
         "domain": [
          0.9229678638941402,
          0.9340737240075617
         ],
         "title": {
          "text": "peakVal"
         }
        },
        "yaxis70": {
         "anchor": "x70",
         "domain": [
          0.24172967863894138,
          0.2528355387523629
         ],
         "title": {
          "text": "peakHeight"
         }
        },
        "yaxis71": {
         "anchor": "x71",
         "domain": [
          0.21975425330812853,
          0.23086011342155008
         ],
         "title": {
          "text": "peakVal"
         }
        },
        "yaxis72": {
         "anchor": "x72",
         "domain": [
          0.21975425330812853,
          0.23086011342155008
         ],
         "title": {
          "text": "peakHeight"
         }
        },
        "yaxis73": {
         "anchor": "x73",
         "domain": [
          0.19777882797731566,
          0.2088846880907372
         ],
         "title": {
          "text": "peakVal"
         }
        },
        "yaxis74": {
         "anchor": "x74",
         "domain": [
          0.19777882797731566,
          0.2088846880907372
         ],
         "title": {
          "text": "peakHeight"
         }
        },
        "yaxis75": {
         "anchor": "x75",
         "domain": [
          0.17580340264650282,
          0.18690926275992437
         ],
         "title": {
          "text": "peakVal"
         }
        },
        "yaxis76": {
         "anchor": "x76",
         "domain": [
          0.17580340264650282,
          0.18690926275992437
         ],
         "title": {
          "text": "peakHeight"
         }
        },
        "yaxis77": {
         "anchor": "x77",
         "domain": [
          0.15382797731568998,
          0.16493383742911152
         ],
         "title": {
          "text": "peakVal"
         }
        },
        "yaxis78": {
         "anchor": "x78",
         "domain": [
          0.15382797731568998,
          0.16493383742911152
         ],
         "title": {
          "text": "peakHeight"
         }
        },
        "yaxis79": {
         "anchor": "x79",
         "domain": [
          0.1318525519848771,
          0.14295841209829865
         ],
         "title": {
          "text": "peakVal"
         }
        },
        "yaxis8": {
         "anchor": "x8",
         "domain": [
          0.9229678638941402,
          0.9340737240075617
         ],
         "title": {
          "text": "peakHeight"
         }
        },
        "yaxis80": {
         "anchor": "x80",
         "domain": [
          0.1318525519848771,
          0.14295841209829865
         ],
         "title": {
          "text": "peakHeight"
         }
        },
        "yaxis81": {
         "anchor": "x81",
         "domain": [
          0.10987712665406427,
          0.12098298676748581
         ],
         "title": {
          "text": "peakVal"
         }
        },
        "yaxis82": {
         "anchor": "x82",
         "domain": [
          0.10987712665406427,
          0.12098298676748581
         ],
         "title": {
          "text": "peakHeight"
         }
        },
        "yaxis83": {
         "anchor": "x83",
         "domain": [
          0.08790170132325142,
          0.09900756143667297
         ],
         "title": {
          "text": "peakVal"
         }
        },
        "yaxis84": {
         "anchor": "x84",
         "domain": [
          0.08790170132325142,
          0.09900756143667297
         ],
         "title": {
          "text": "peakHeight"
         }
        },
        "yaxis85": {
         "anchor": "x85",
         "domain": [
          0.06592627599243855,
          0.0770321361058601
         ],
         "title": {
          "text": "peakVal"
         }
        },
        "yaxis86": {
         "anchor": "x86",
         "domain": [
          0.06592627599243855,
          0.0770321361058601
         ],
         "title": {
          "text": "peakHeight"
         }
        },
        "yaxis87": {
         "anchor": "x87",
         "domain": [
          0.04395085066162571,
          0.055056710775047264
         ],
         "title": {
          "text": "peakVal"
         }
        },
        "yaxis88": {
         "anchor": "x88",
         "domain": [
          0.04395085066162571,
          0.055056710775047264
         ],
         "title": {
          "text": "peakHeight"
         }
        },
        "yaxis89": {
         "anchor": "x89",
         "domain": [
          0.021975425330812856,
          0.03308128544423441
         ],
         "title": {
          "text": "peakVal"
         }
        },
        "yaxis9": {
         "anchor": "x9",
         "domain": [
          0.9009924385633273,
          0.9120982986767489
         ],
         "title": {
          "text": "peakVal"
         }
        },
        "yaxis90": {
         "anchor": "x90",
         "domain": [
          0.021975425330812856,
          0.03308128544423441
         ],
         "title": {
          "text": "peakHeight"
         }
        },
        "yaxis91": {
         "anchor": "x91",
         "domain": [
          0,
          0.01110586011342155
         ],
         "title": {
          "text": "peakVal"
         }
        },
        "yaxis92": {
         "anchor": "x92",
         "domain": [
          0,
          0.01110586011342155
         ],
         "title": {
          "text": "peakHeight"
         }
        }
       }
      },
      "text/html": [
       "<div>                            <div id=\"56ccb1f1-375f-48ec-a714-3f84fa5252b8\" class=\"plotly-graph-div\" style=\"height:7500px; width:1000px;\"></div>            <script type=\"text/javascript\">                require([\"plotly\"], function(Plotly) {                    window.PLOTLYENV=window.PLOTLYENV || {};                                    if (document.getElementById(\"56ccb1f1-375f-48ec-a714-3f84fa5252b8\")) {                    Plotly.newPlot(                        \"56ccb1f1-375f-48ec-a714-3f84fa5252b8\",                        [{\"name\":\"Control\",\"x\":[0.3653412,1.3513696,2.3334696,3.3234264,4.2976696,5.2915548,6.2775832000000005,7.2636116,8.2457116,9.23174],\"y\":[1.999562633941876,1.964671277657666,1.9676997241920893,2.003727901068696,1.9759306742864704,1.966263204954133,1.9448185486732352,1.9256581779646973,1.9125944393719327,1.91523637636662],\"type\":\"scatter\",\"xaxis\":\"x\",\"yaxis\":\"y\"},{\"name\":\"Control\",\"x\":[0.3653412,1.3513696,2.3334696,3.3234264,4.2976696,5.2915548,6.2775832000000005,7.2636116,8.2457116,9.23174],\"y\":[0.8106257007555144,0.8325155289787534,0.8455284110531314,0.8802314799483391,0.8168287767469802,0.822683426452012,0.7542329181233707,0.7415166596492551,0.7345240066420975,0.9022452561512728],\"type\":\"scatter\",\"xaxis\":\"x2\",\"yaxis\":\"y2\"},{\"name\":\"Control\",\"x\":[0.22142,2.1876296,4.1582676,6.133334,8.103972,10.07461],\"y\":[2.4128020464655755,2.3639253245184357,2.347186356370204,2.299627727084012,2.2463363907376515,2.232397506609692],\"type\":\"scatter\",\"xaxis\":\"x3\",\"yaxis\":\"y3\"},{\"name\":\"Control\",\"x\":[0.22142,2.1876296,4.1582676,6.133334,8.103972,10.07461],\"y\":[1.2973854114379983,1.2771990481647184,1.2959000671570469,1.243244208074426,1.2169020779238706,1.216710764160423],\"type\":\"scatter\",\"xaxis\":\"x4\",\"yaxis\":\"y4\"},{\"name\":\"Control\",\"x\":[1.9749632,3.945518,5.9160728,7.8778108,9.852774000000002],\"y\":[2.660828056371197,2.638945625428616,2.6182591465703458,2.6007006332354545,2.588777384038281],\"type\":\"scatter\",\"xaxis\":\"x5\",\"yaxis\":\"y5\"},{\"name\":\"Control\",\"x\":[1.9749632,3.945518,5.9160728,7.8778108,9.852774000000002],\"y\":[1.6315834935331015,1.6161704058797175,1.5799699535807277,1.586345834117109,1.5677516387613988],\"type\":\"scatter\",\"xaxis\":\"x6\",\"yaxis\":\"y6\"},{\"name\":\"Control\",\"x\":[0.8331876000000001,2.8169676,4.783114,6.758077200000001,8.728632,10.69037],\"y\":[2.53765089425463,2.5146727323419547,2.498270932882823,2.4761393154583606,2.457048449029279,2.437886730507162],\"type\":\"scatter\",\"xaxis\":\"x7\",\"yaxis\":\"y7\"},{\"name\":\"Control\",\"x\":[0.8331876000000001,2.8169676,4.783114,6.758077200000001,8.728632,10.69037],\"y\":[1.5374953877127742,1.497362001746457,1.4903804021270342,1.4573732644687785,1.4424155594876926,1.434269409102745],\"type\":\"scatter\",\"xaxis\":\"x8\",\"yaxis\":\"y8\"},{\"name\":\"Control\",\"x\":[0.5296312000000001,1.5125908,2.4955504,3.487486800000001,4.519818800000001,5.5117552000000005,6.499203200000001,7.486651200000001,8.483076,9.470524,10.4624604],\"y\":[2.5450139845325834,2.536275232794111,2.4369162186806324,2.432921216884595,2.355409880356259,2.3825152509693983,2.366458367232904,2.387590822708055,2.341355471160546,2.316922973010311,2.255388573516272],\"type\":\"scatter\",\"xaxis\":\"x9\",\"yaxis\":\"y9\"},{\"name\":\"Control\",\"x\":[0.5296312000000001,1.5125908,2.4955504,3.487486800000001,4.519818800000001,5.5117552000000005,6.499203200000001,7.486651200000001,8.483076,9.470524,10.4624604],\"y\":[1.3658594423993828,1.3746370008320097,1.2890042582978467,1.294082900186358,0.8547505963766089,0.9092439141954514,0.8857002858309511,0.9182050675893484,0.877662019483171,0.8319581722783882,0.7937689466622859],\"type\":\"scatter\",\"xaxis\":\"x10\",\"yaxis\":\"y10\"},{\"name\":\"Control\",\"x\":[0.67396,1.65004,2.644712,3.630088,4.620112,5.596192,6.581568,7.576239999999999,8.561616,9.546992,10.532368,11.522392],\"y\":[1.6350803889321357,1.6146305562938377,1.6078991215702985,1.5952681362476702,1.58443853218188,1.5798900175254205,1.5648406859603692,1.5502758331320847,1.50678229757059,1.5179077696034442,1.4952435817697831,1.435567431048462],\"type\":\"scatter\",\"xaxis\":\"x11\",\"yaxis\":\"y11\"},{\"name\":\"Control\",\"x\":[0.67396,1.65004,2.644712,3.630088,4.620112,5.596192,6.581568,7.576239999999999,8.561616,9.546992,10.532368,11.522392],\"y\":[0.5421909340010711,0.5205402254964522,0.5397064795489528,0.5287835145013078,0.5462661678419982,0.53910098231403,0.5272945957213144,0.5289176197266896,0.4971501965032803,0.4989997423128964,0.4660739413579704,0.4181485923673349],\"type\":\"scatter\",\"xaxis\":\"x12\",\"yaxis\":\"y12\"},{\"name\":\"Control\",\"x\":[1.0087528,1.9966636,2.9845744,3.9683168,4.960395999999999,5.948306799999999,6.9362176,7.9241284,8.907870800000001,9.89995],\"y\":[2.607861877618985,2.58086984665776,2.5470558701897548,2.5343811185932026,2.5189471673772603,2.502022566744129,2.4900962277443304,2.4834427436915574,2.478193562553751,2.45220166425735],\"type\":\"scatter\",\"xaxis\":\"x13\",\"yaxis\":\"y13\"},{\"name\":\"Control\",\"x\":[1.0087528,1.9966636,2.9845744,3.9683168,4.960395999999999,5.948306799999999,6.9362176,7.9241284,8.907870800000001,9.89995],\"y\":[1.6039739976943757,1.5638452899412605,1.536855203205913,1.5190565014913349,1.5160516432139644,1.4974494043806832,1.484504634119562,1.4784331598016422,1.4761647056670744,1.447116598656882],\"type\":\"scatter\",\"xaxis\":\"x14\",\"yaxis\":\"y14\"},{\"name\":\"Control\",\"x\":[0.7586487999999999,1.7507279999999998,2.7344704,3.7223812,4.7144604,5.6982028,6.690282,7.6781928,8.6619352,9.649846],\"y\":[2.5326954032824114,2.495862466381763,2.489667699293199,2.4745217384834017,2.4462801882042458,2.438981527642394,2.441129953031613,2.4454307722707096,2.4495983173726787,2.4196293292392035],\"type\":\"scatter\",\"xaxis\":\"x15\",\"yaxis\":\"y15\"},{\"name\":\"Control\",\"x\":[0.7586487999999999,1.7507279999999998,2.7344704,3.7223812,4.7144604,5.6982028,6.690282,7.6781928,8.6619352,9.649846],\"y\":[1.5105012909898572,1.4867169834407703,1.4748256564288642,1.457272493524381,1.4368947787459163,1.401947191363306,1.39585196649627,1.3779556970973177,1.3771575404472938,1.317162186853316],\"type\":\"scatter\",\"xaxis\":\"x16\",\"yaxis\":\"y16\"},{\"name\":\"Control\",\"x\":[0.4458672,1.4366832000000005,2.4233708000000003,3.4100584000000005,4.4008744,5.3958188,6.3825064000000005,7.373322400000001,8.3641384,9.3549544],\"y\":[2.3737179412170795,2.4268110769691607,2.3784523087940337,2.382985530106412,2.3155189199182766,2.3076568975967744,2.25046466074266,2.2364830646312543,2.2097352919838698,2.2109470841397503],\"type\":\"scatter\",\"xaxis\":\"x17\",\"yaxis\":\"y17\"},{\"name\":\"Control\",\"x\":[0.4458672,1.4366832000000005,2.4233708000000003,3.4100584000000005,4.4008744,5.3958188,6.3825064000000005,7.373322400000001,8.3641384,9.3549544],\"y\":[1.2282155904151866,1.269411609146713,1.256045387209484,1.3094312908230965,1.2575418732930643,1.245433780871095,1.2032453703595352,1.2258085050116894,1.1942589649918904,1.203487471360937],\"type\":\"scatter\",\"xaxis\":\"x18\",\"yaxis\":\"y18\"},{\"name\":\"Control\",\"x\":[1.0073296,1.9940172000000005,2.9848332,3.9797776,4.966465200000001,5.957281200000001,6.9439688,7.938913200000001,8.9297292,9.90816],\"y\":[2.1818746942322145,2.1574479555848702,2.1366731491465263,2.1040382036309992,2.095862125198672,2.089677279597712,2.055076779659778,2.0208986956341826,2.0084333493164173,1.9896202029446184],\"type\":\"scatter\",\"xaxis\":\"x19\",\"yaxis\":\"y19\"},{\"name\":\"Control\",\"x\":[1.0073296,1.9940172000000005,2.9848332,3.9797776,4.966465200000001,5.957281200000001,6.9439688,7.938913200000001,8.9297292,9.90816],\"y\":[1.1698938301233288,1.146465750357185,1.1296775473346776,1.0998675919007133,1.0733885277144264,1.0765374795242066,1.0507809400488248,1.0223259770573756,0.9984569831885516,0.9613623917186516],\"type\":\"scatter\",\"xaxis\":\"x20\",\"yaxis\":\"y20\"},{\"name\":\"Control\",\"x\":[0.5535500000000001,1.5410832,2.524188,3.520578,4.5081112,5.5000728,6.487606,7.4795676,8.462672399999999,9.4590624,10.451024],\"y\":[2.091638749587201,2.1753803702077086,2.098071338351597,2.155036309225913,2.0786036864162964,2.139847715736039,2.0407871935504724,2.103535681091625,2.03187551706176,2.0846071351969675,2.024840583262688],\"type\":\"scatter\",\"xaxis\":\"x21\",\"yaxis\":\"y21\"},{\"name\":\"Control\",\"x\":[0.5535500000000001,1.5410832,2.524188,3.520578,4.5081112,5.5000728,6.487606,7.4795676,8.462672399999999,9.4590624,10.451024],\"y\":[1.0136477919973306,1.1148746114589392,1.0332355384421583,1.109171611734706,1.0231781552257695,1.1081963864404691,1.0140961675297122,1.0828411245816687,1.0095052548795302,1.0732114344272057,1.0233877035478514],\"type\":\"scatter\",\"xaxis\":\"x22\",\"yaxis\":\"y22\"},{\"name\":\"Control\",\"x\":[0.3409868,1.32852,2.32491,3.3035864,4.3044048,5.2963664,6.2794712,7.2758612,8.2678228,9.2509276,10.2473176],\"y\":[2.1961212056923944,2.120635970674952,2.1768899153565933,2.1079725843119186,2.1407263759073656,2.095710934693669,2.1033935954522542,2.0458018461953853,2.084900493974189,2.017577959445417,2.05751421772955],\"type\":\"scatter\",\"xaxis\":\"x23\",\"yaxis\":\"y23\"},{\"name\":\"Control\",\"x\":[0.3409868,1.32852,2.32491,3.3035864,4.3044048,5.2963664,6.2794712,7.2758612,8.2678228,9.2509276,10.2473176],\"y\":[1.1437515519564894,1.0550038934520083,1.1259436015998103,1.0607693846899335,1.0976380367358638,1.054816525594323,1.0707234106157435,1.023270933632916,1.062167845149096,0.9914183978264166,1.0526702330526343],\"type\":\"scatter\",\"xaxis\":\"x24\",\"yaxis\":\"y24\"},{\"name\":\"Control\",\"x\":[1.2038319999999998,3.1838800000000003,5.168576,7.148624,9.161208,11.10872],\"y\":[2.599183753690154,2.535910726318828,2.457336289468616,2.405764062700551,2.337814766236682,2.298034591194967],\"type\":\"scatter\",\"xaxis\":\"x25\",\"yaxis\":\"y25\"},{\"name\":\"Control\",\"x\":[1.2038319999999998,3.1838800000000003,5.168576,7.148624,9.161208,11.10872],\"y\":[1.4268676397445763,1.4170055994095745,1.3770410168784484,1.3631739547233983,0.8965579274162487,1.298465476992683],\"type\":\"scatter\",\"xaxis\":\"x26\",\"yaxis\":\"y26\"},{\"name\":\"Control\",\"x\":[0.820456,2.844548,4.792004,6.811588,8.795108,10.778628],\"y\":[2.217815895453919,2.17817044360498,2.2047097436667893,2.117059439896994,2.1071790642708264,2.069264373898388],\"type\":\"scatter\",\"xaxis\":\"x27\",\"yaxis\":\"y27\"},{\"name\":\"Control\",\"x\":[0.820456,2.844548,4.792004,6.811588,8.795108,10.778628],\"y\":[1.0777528050167442,0.8473171650509239,1.139181415110441,0.8063769838661474,0.7936104223502087,0.7409373641542247],\"type\":\"scatter\",\"xaxis\":\"x28\",\"yaxis\":\"y28\"},{\"name\":\"Control\",\"x\":[0.4125096,1.4086763999999998,2.3960664,3.3834564,4.3752348,5.3670132,6.3587916,7.346181599999999,8.337959999999999,9.3297384,10.3610124],\"y\":[2.4394547455761564,2.5790718859633195,2.373095298571548,2.5090384075504977,2.3639876933889195,2.471493185592886,2.3526248947234727,2.4331332522314155,2.3159780324573167,2.398749986472403,2.2681168249554533],\"type\":\"scatter\",\"xaxis\":\"x29\",\"yaxis\":\"y29\"},{\"name\":\"Control\",\"x\":[0.4125096,1.4086763999999998,2.3960664,3.3834564,4.3752348,5.3670132,6.3587916,7.346181599999999,8.337959999999999,9.3297384,10.3610124],\"y\":[1.35502523135372,1.4624357439191065,1.3163695369997246,1.42714507885156,1.296185854527097,1.4237567502703918,1.299209415461437,1.432175816732585,1.283741612094752,1.3672903365856852,0.8608539382492295],\"type\":\"scatter\",\"xaxis\":\"x30\",\"yaxis\":\"y30\"},{\"name\":\"Control\",\"x\":[0.5222196,1.5139979999999995,2.5057764,3.4975548,4.480556399999999,5.4811116,6.4685016,7.4953872,8.44767,9.4394484,10.4356152],\"y\":[2.2755165413113136,2.343352969229989,2.203917587848656,2.3101885525653203,2.158343790713844,2.2705871852461663,2.12807147253239,2.237944705101868,2.0952607417946183,2.224861522967603,2.0680699538809524],\"type\":\"scatter\",\"xaxis\":\"x31\",\"yaxis\":\"y31\"},{\"name\":\"Control\",\"x\":[0.5222196,1.5139979999999995,2.5057764,3.4975548,4.480556399999999,5.4811116,6.4685016,7.4953872,8.44767,9.4394484,10.4356152],\"y\":[1.202352444362738,1.2912700188898918,1.1295842625082253,1.2781917657120467,1.1304367055388136,1.2565826879064712,1.1003034638574272,0.978300202753288,1.0543444088316236,1.1972575020048857,1.0284601940143814],\"type\":\"scatter\",\"xaxis\":\"x32\",\"yaxis\":\"y32\"},{\"name\":\"Control\",\"x\":[0.6600952,1.6576548,2.6477976,3.6379404,4.6280832,5.618226,6.6083688,7.602219999999999,8.6294468],\"y\":[2.2477688109892804,2.025323116898562,2.211077149374397,1.9741370553293116,2.1769144740714568,1.960463926628084,2.161323913047435,1.9794396980945208,2.1613193012094536],\"type\":\"scatter\",\"xaxis\":\"x33\",\"yaxis\":\"y33\"},{\"name\":\"Control\",\"x\":[0.6600952,1.6576548,2.6477976,3.6379404,4.6280832,5.618226,6.6083688,7.602219999999999,8.6294468],\"y\":[1.222703592925197,0.9606822607472508,1.1733515865026058,0.9556333904351688,1.1296380374687556,0.9131132151610526,1.1604631984431402,0.8840165225163881,0.8609326956860504],\"type\":\"scatter\",\"xaxis\":\"x34\",\"yaxis\":\"y34\"},{\"name\":\"Control\",\"x\":[0.8497808000000002,2.8259220000000003,4.810080000000001,6.794238000000001,8.778396000000003],\"y\":[2.806343498430148,2.523881278042737,2.769729905064026,2.688215492395964,2.6605999419551174],\"type\":\"scatter\",\"xaxis\":\"x35\",\"yaxis\":\"y35\"},{\"name\":\"Control\",\"x\":[0.8497808000000002,2.8259220000000003,4.810080000000001,6.794238000000001,8.778396000000003],\"y\":[1.6887462771348165,1.5074814264141447,1.610347664003947,1.6841199138949188,1.596263554798867],\"type\":\"scatter\",\"xaxis\":\"x36\",\"yaxis\":\"y36\"},{\"name\":\"Control\",\"x\":[0.8599584000000001,2.7980736000000004,4.7297712,6.6678864],\"y\":[2.0435939616798904,2.0031004912125474,1.937750099071948,1.8935861280839013],\"type\":\"scatter\",\"xaxis\":\"x37\",\"yaxis\":\"y37\"},{\"name\":\"Control\",\"x\":[0.8599584000000001,2.7980736000000004,4.7297712,6.6678864],\"y\":[0.985864506437372,0.9858552904420907,0.9259858810952282,0.8684375201599892],\"type\":\"scatter\",\"xaxis\":\"x38\",\"yaxis\":\"y38\"},{\"name\":\"Thapsigargin\",\"x\":[0.0040084,0.9780496000000002,1.9280404,2.9100984000000008,3.864097600000001,4.842147200000001,5.8041632000000005,6.774196000000002,7.780304400000002,8.750337200000002,9.732395200000004],\"y\":[1.1193451136337709,1.1270388960639033,1.127135460058459,1.1275862911714,1.1245783064478456,1.1168089781704538,1.1150775064547975,1.1061361041804925,1.0954687698572607,1.090216839935131,1.0883667541789177],\"type\":\"scatter\",\"xaxis\":\"x39\",\"yaxis\":\"y39\"},{\"name\":\"Thapsigargin\",\"x\":[0.0040084,0.9780496000000002,1.9280404,2.9100984000000008,3.864097600000001,4.842147200000001,5.8041632000000005,6.774196000000002,7.780304400000002,8.750337200000002,9.732395200000004],\"y\":[0.1118251246696564,0.1018447090208587,0.0864951071708268,0.0949398403055288,0.0839270914685874,0.0869050425087953,0.0874295186029612,0.0807326589422712,0.0554237682116545,0.0578153835458863,0.0525982666274182],\"type\":\"scatter\",\"xaxis\":\"x40\",\"yaxis\":\"y40\"},{\"name\":\"Thapsigargin\",\"x\":[0.7909696,1.7309232,2.7006736,3.6595888,4.6564272,5.604507200000001,6.587801600000001],\"y\":[1.2165999880128258,1.223699891116505,1.222239204051664,1.2246328928046983,1.2158635260271502,1.2158155773322536,1.1790826315842042],\"type\":\"scatter\",\"xaxis\":\"x41\",\"yaxis\":\"y41\"},{\"name\":\"Thapsigargin\",\"x\":[0.7909696,1.7309232,2.7006736,3.6595888,4.6564272,5.604507200000001,6.587801600000001],\"y\":[0.1134233869759357,0.1339227027081022,0.1478662830771073,0.1533099583445714,0.1234933621025502,0.1439637088315497,0.0885622384049065],\"type\":\"scatter\",\"xaxis\":\"x42\",\"yaxis\":\"y42\"},{\"name\":\"Thapsigargin\",\"x\":[2.1953832,3.1696396,4.1835716000000005,5.1446028,6.1409012,7.101932400000001,8.089414000000001,9.0504452,10.0247016],\"y\":[1.2128787885739238,1.2001167162007036,1.1902541972412026,1.1834493001768784,1.1751654473555178,1.1648202812138604,1.1653344319826853,1.1651829700786267,1.1554729529474046],\"type\":\"scatter\",\"xaxis\":\"x43\",\"yaxis\":\"y43\"},{\"name\":\"Thapsigargin\",\"x\":[2.1953832,3.1696396,4.1835716000000005,5.1446028,6.1409012,7.101932400000001,8.089414000000001,9.0504452,10.0247016],\"y\":[0.1473229444903743,0.1369451736658156,0.1144645812515732,0.1242549172357958,0.1073940141350167,0.1059532297140606,0.0940358816676347,0.1049894034780569,0.0942531034856122],\"type\":\"scatter\",\"xaxis\":\"x44\",\"yaxis\":\"y44\"},{\"name\":\"Thapsigargin\",\"x\":[0.7287120000000002,1.6679408000000002,2.667895600000001,3.639511600000001,4.590885600000002,5.586792000000001,6.5543596000000015,7.534072400000002,8.469252800000001,9.4692076],\"y\":[1.2263304517271811,1.2254132064731087,1.2151346322082546,1.2113732938477173,1.2066049753813508,1.200853678316519,1.1916398930137078,1.1826127607634067,1.1910053068415976,1.1797556692158997],\"type\":\"scatter\",\"xaxis\":\"x45\",\"yaxis\":\"y45\"},{\"name\":\"Thapsigargin\",\"x\":[0.7287120000000002,1.6679408000000002,2.667895600000001,3.639511600000001,4.590885600000002,5.586792000000001,6.5543596000000015,7.534072400000002,8.469252800000001,9.4692076],\"y\":[0.1488421838179101,0.1841619696970988,0.1444880481329988,0.1411514965452935,0.1565545921696363,0.1268325735231448,0.1292491433428741,0.1118498748472467,0.1561163508701115,0.1068533425234592],\"type\":\"scatter\",\"xaxis\":\"x46\",\"yaxis\":\"y46\"},{\"name\":\"Thapsigargin\",\"x\":[0.2105168,1.1740360000000003,2.149700400000001,3.129413200000001,4.101029200000001,5.080742000000001,6.048309600000001,7.023974000000002,8.007735200000003,8.963157600000002,9.942870400000002],\"y\":[1.2212716433492874,1.21534811153905,1.2135523011356988,1.2058442561855758,1.1976683487036706,1.1963727343792598,1.1969169508296338,1.1868355715766037,1.181276279122916,1.176021363514773,1.160565927972803],\"type\":\"scatter\",\"xaxis\":\"x47\",\"yaxis\":\"y47\"},{\"name\":\"Thapsigargin\",\"x\":[0.2105168,1.1740360000000003,2.149700400000001,3.129413200000001,4.101029200000001,5.080742000000001,6.048309600000001,7.023974000000002,8.007735200000003,8.963157600000002,9.942870400000002],\"y\":[0.1276736856867568,0.1240983615072366,0.1231404314775521,0.114726307560856,0.1046037647156596,0.1053536043464595,0.1171192497578228,0.0958076764255975,0.0894441356814326,0.0955284262522435,0.0753589802856258],\"type\":\"scatter\",\"xaxis\":\"x48\",\"yaxis\":\"y48\"},{\"name\":\"Thapsigargin\",\"x\":[0.1895515999999999,1.2030723999999997,2.1701724,3.164351199999999,4.108240799999999,5.117893199999998,6.100466799999999,7.067566799999998,8.019193199999998,8.982424799999997],\"y\":[1.1621541279774463,1.1584264623923697,1.1497487424465571,1.1471731784934835,1.144345914000768,1.1368640880369671,1.1369078803869752,1.135187237609781,1.1322647943679152,1.1217297387604903],\"type\":\"scatter\",\"xaxis\":\"x49\",\"yaxis\":\"y49\"},{\"name\":\"Thapsigargin\",\"x\":[0.1895515999999999,1.2030723999999997,2.1701724,3.164351199999999,4.108240799999999,5.117893199999998,6.100466799999999,7.067566799999998,8.019193199999998,8.982424799999997],\"y\":[0.1246873677633455,0.1057981830815553,0.1051937811487855,0.0987842349227539,0.1116584264202034,0.0926588748909935,0.0851391630598448,0.0841725249833669,0.0928634079476788,0.0692770507413269],\"type\":\"scatter\",\"xaxis\":\"x50\",\"yaxis\":\"y50\"},{\"name\":\"Thapsigargin\",\"x\":[0.6146327999999999,1.6101647999999995,2.5840548,3.5795867999999995,4.5318348,5.523038399999999,6.509913599999999,7.483803599999998,8.449036799999998,9.3753144,10.392488399999998],\"y\":[1.2127299276040286,1.1964547623589392,1.1864787429564558,1.1887081512836577,1.1838181683304714,1.1632401965682306,1.167021455367929,1.1663518456279307,1.1625532523685376,1.1565643857848342,1.1459952099362027],\"type\":\"scatter\",\"xaxis\":\"x51\",\"yaxis\":\"y51\"},{\"name\":\"Thapsigargin\",\"x\":[0.6146327999999999,1.6101647999999995,2.5840548,3.5795867999999995,4.5318348,5.523038399999999,6.509913599999999,7.483803599999998,8.449036799999998,9.3753144,10.392488399999998],\"y\":[0.1449596841343516,0.1157242473513853,0.126178213384928,0.1071706376961669,0.1163508615756341,0.0859440240774889,0.0985782715197096,0.0867626041959988,0.0966300750604813,0.1018438112194073,0.0886530443550217],\"type\":\"scatter\",\"xaxis\":\"x52\",\"yaxis\":\"y52\"},{\"name\":\"Thapsigargin\",\"x\":[0.9891680000000002,2.939376,4.884896,6.853856,8.771248000000002,10.716768],\"y\":[1.3936773664096616,1.3855463155364582,1.3675900759634811,1.3495743854723568,1.332919168085381,1.3132379985236822],\"type\":\"scatter\",\"xaxis\":\"x53\",\"yaxis\":\"y53\"},{\"name\":\"Thapsigargin\",\"x\":[0.9891680000000002,2.939376,4.884896,6.853856,8.771248000000002,10.716768],\"y\":[0.2606309762039878,0.249705376610188,0.2360137448247123,0.2302336364192341,0.2230993840145296,0.2038569849850875],\"type\":\"scatter\",\"xaxis\":\"x54\",\"yaxis\":\"y54\"},{\"name\":\"Thapsigargin\",\"x\":[0.923536,2.9018720000000005,4.852080000000001,6.802288000000001,8.738432000000001,10.655824],\"y\":[1.4059774298060503,1.395218136849452,1.3975355962703089,1.3826763876392472,1.3751397019959724,1.3667176385621884],\"type\":\"scatter\",\"xaxis\":\"x55\",\"yaxis\":\"y55\"},{\"name\":\"Thapsigargin\",\"x\":[0.923536,2.9018720000000005,4.852080000000001,6.802288000000001,8.738432000000001,10.655824],\"y\":[0.3562050280614406,0.2883622689621505,0.2951788387284191,0.2777148182966238,0.2723003118834448,0.3003024422127989],\"type\":\"scatter\",\"xaxis\":\"x56\",\"yaxis\":\"y56\"},{\"name\":\"Thapsigargin\",\"x\":[1.5162240000000002,3.4293120000000004,5.388192,7.408128,9.372096,11.386944000000002],\"y\":[1.406653478096068,1.3774953831348982,1.3623405732008929,1.3448237975814024,1.3291343139952885,1.326619000887891],\"type\":\"scatter\",\"xaxis\":\"x57\",\"yaxis\":\"y57\"},{\"name\":\"Thapsigargin\",\"x\":[1.5162240000000002,3.4293120000000004,5.388192,7.408128,9.372096,11.386944000000002],\"y\":[0.2500332829675322,0.2248712902818233,0.2285144511771921,0.1970506756113559,0.2038589549875122,0.1723905409217805],\"type\":\"scatter\",\"xaxis\":\"x58\",\"yaxis\":\"y58\"},{\"name\":\"Thapsigargin\",\"x\":[0.5444112,1.5112104,2.5124264,3.4823544,4.4710552,5.4503696,6.4171688,7.402740799999999],\"y\":[1.2263818887879032,1.223197502685284,1.2129930337519617,1.2085883923407414,1.2021687546476074,1.1923644964058489,1.1876498853590012,1.1771190510617195],\"type\":\"scatter\",\"xaxis\":\"x59\",\"yaxis\":\"y59\"},{\"name\":\"Thapsigargin\",\"x\":[0.5444112,1.5112104,2.5124264,3.4823544,4.4710552,5.4503696,6.4171688,7.402740799999999],\"y\":[0.1581988969676939,0.164962974056019,0.1354256176154671,0.1455996188961414,0.1159021781789637,0.1074346236470291,0.0961134377840202,0.0835089957035442],\"type\":\"scatter\",\"xaxis\":\"x60\",\"yaxis\":\"y60\"},{\"name\":\"Thapsigargin\",\"x\":[0.6695631999999999,1.6363624,2.6156768,3.5793471999999995,4.5586616,5.544233599999999,6.4985176,7.496604799999999],\"y\":[1.210899678577075,1.2000540798388493,1.1900321688672857,1.1916131072521454,1.1908056301497087,1.1790641929015884,1.176993612732546,1.1769435191226036],\"type\":\"scatter\",\"xaxis\":\"x61\",\"yaxis\":\"y61\"},{\"name\":\"Thapsigargin\",\"x\":[0.6695631999999999,1.6363624,2.6156768,3.5793471999999995,4.5586616,5.544233599999999,6.4985176,7.496604799999999],\"y\":[0.1340609972747479,0.1187075051389134,0.1190650698719488,0.1309373883025439,0.1136002157878579,0.1047640750420875,0.1175521631271168,0.0946664257212748],\"type\":\"scatter\",\"xaxis\":\"x62\",\"yaxis\":\"y62\"},{\"name\":\"Control\",\"x\":[0.1942517142857142,1.207407714285714,2.212946,3.222293142857142,4.224022571428571,5.244796285714285,6.246525714285713,7.259681714285714,8.26522,9.274567142857142,10.626711428571427,11.967429142857142,12.976776285714283],\"y\":[3.1188403755868523,3.099151576123405,3.0538293091884623,3.037997652582158,2.9836784037558663,2.9929681421864496,2.9934292421193813,2.910732729711601,2.8934198524480195,2.964997317236752,2.837180751173707,2.828527833668677,2.818897384305833],\"type\":\"scatter\",\"xaxis\":\"x63\",\"yaxis\":\"y63\"},{\"name\":\"Control\",\"x\":[0.1942517142857142,1.207407714285714,2.212946,3.222293142857142,4.224022571428571,5.244796285714285,6.246525714285713,7.259681714285714,8.26522,9.274567142857142,10.626711428571427,11.967429142857142,12.976776285714283],\"y\":[2.036199195171025,1.9044916163648544,1.96509657947686,1.9594671361502336,1.897256539235411,1.899760898725685,1.945478202548624,1.8661341381623056,1.8464627766599584,1.8470778001341368,1.8081338028169,1.8264211938296435,1.6429463447350765],\"type\":\"scatter\",\"xaxis\":\"x64\",\"yaxis\":\"y64\"},{\"name\":\"Control\",\"x\":[3.3453919999999995,4.381946857142856,5.363606285714284,6.403390285714285,7.407653714285713,8.418375428571428,9.429097142857142,10.433360571428569],\"y\":[2.763000215080461,2.7575829852119047,2.666257722350356,2.736474673838345,2.71180931630642,2.6606628325222625,2.622090687015958,2.607111294522092],\"type\":\"scatter\",\"xaxis\":\"x65\",\"yaxis\":\"y65\"},{\"name\":\"Control\",\"x\":[3.3453919999999995,4.381946857142856,5.363606285714284,6.403390285714285,7.407653714285713,8.418375428571428,9.429097142857142,10.433360571428569],\"y\":[1.303070055029122,1.3008514038808898,1.213585391315295,1.2947717961316982,1.253940781179235,1.2170798368186269,1.1805084642030912,1.140344023823221],\"type\":\"scatter\",\"xaxis\":\"x66\",\"yaxis\":\"y66\"},{\"name\":\"Control\",\"x\":[0.0403574285714285,1.0346177142857145,2.0435534285714283,3.0488202857142856,4.105451142857143,5.070360571428571,6.079296285714285,7.128589428571429,8.08983,9.106103428571428,10.162734285714285,11.123974857142857,12.132910571428573],\"y\":[3.136787905923251,3.125511413446306,3.176939458129375,3.1270886399807347,3.0400176083496677,3.0342219028305037,3.0474371950049464,2.8662807628779854,2.87029832607804,2.8981654206627194,2.886815183815367,2.7580104822355067,2.766385359484992],\"type\":\"scatter\",\"xaxis\":\"x67\",\"yaxis\":\"y67\"},{\"name\":\"Control\",\"x\":[0.0403574285714285,1.0346177142857145,2.0435534285714283,3.0488202857142856,4.105451142857143,5.070360571428571,6.079296285714285,7.128589428571429,8.08983,9.106103428571428,10.162734285714285,11.123974857142857,12.132910571428573],\"y\":[1.6825417727996133,1.8457866003468983,1.9797771114029104,1.9255851578167145,1.5574547657299371,1.93106180605983,1.958445799768984,1.3619866582889042,1.8179575066877856,1.8497590139324176,1.4324061358326148,1.7462952860039949,1.7440295278479052],\"type\":\"scatter\",\"xaxis\":\"x68\",\"yaxis\":\"y68\"},{\"name\":\"Control\",\"x\":[0.7418005714285715,1.7487120000000005,2.755623428571429,3.7599857142857145,4.766897142857143,5.781456000000001,6.785818285714287,7.7927297142857155,8.799641142857144],\"y\":[2.3785625530730803,2.4177802618511874,2.3339874015899125,2.4039210512428086,2.3623544538210206,2.360202265410982,2.370085252759799,2.328069603097308,1.7879206866277415],\"type\":\"scatter\",\"xaxis\":\"x69\",\"yaxis\":\"y69\"},{\"name\":\"Control\",\"x\":[0.7418005714285715,1.7487120000000005,2.755623428571429,3.7599857142857145,4.766897142857143,5.781456000000001,6.785818285714287,7.7927297142857155,8.799641142857144],\"y\":[1.3687006750176305,1.4049880300711468,1.2707170922907896,1.3808855348567202,1.33061327294796,1.316998738239964,1.338240444446576,1.3145855622028495,0.7470315056203489],\"type\":\"scatter\",\"xaxis\":\"x70\",\"yaxis\":\"y70\"},{\"name\":\"Control\",\"x\":[1.5193568571428573,2.862324,4.2093,5.552267142857143,6.895234285714285,8.23820142857143,9.581168571428572,10.924135714285717,12.263094,13.606061142857143],\"y\":[2.6875952163082384,2.677323155750972,2.6436882659300607,2.603353324431205,2.622116205739305,2.5924303416730687,2.5653171352092947,2.519739875459816,2.48276949803978,2.4302199916679985],\"type\":\"scatter\",\"xaxis\":\"x71\",\"yaxis\":\"y71\"},{\"name\":\"Control\",\"x\":[1.5193568571428573,2.862324,4.2093,5.552267142857143,6.895234285714285,8.23820142857143,9.581168571428572,10.924135714285717,12.263094,13.606061142857143],\"y\":[1.4917587727282156,1.5928540275200316,1.5235073564715311,1.5129323141090554,1.591373814797484,1.575096361652765,1.575536906971147,1.4965138766888475,1.4574859107352067,1.4194428799886614],\"type\":\"scatter\",\"xaxis\":\"x72\",\"yaxis\":\"y72\"},{\"name\":\"Thapsigargin\",\"x\":[0.1733762857142857,1.5124314285714284,2.884686285714285,4.260629999999999,5.651329142857142,6.97194,8.310995142857141,9.68325,11.01123857142857,12.365049142857142],\"y\":[1.2925508654745084,1.2753774146032142,1.2535264789173075,1.2354530524575116,1.2283576957057676,1.2238572131441172,1.2276066075802603,1.2189454384131158,1.2043910464974783,1.196585715721684],\"type\":\"scatter\",\"xaxis\":\"x73\",\"yaxis\":\"y73\"},{\"name\":\"Thapsigargin\",\"x\":[0.1733762857142857,1.5124314285714284,2.884686285714285,4.260629999999999,5.651329142857142,6.97194,8.310995142857141,9.68325,11.01123857142857,12.365049142857142],\"y\":[0.2449253181997164,0.212509116522956,0.1931596413701573,0.1647804816849525,0.1638634256057718,0.1533299021197192,0.1515426479446351,0.1582595131153228,0.1323845347493513,0.1315262778814447],\"type\":\"scatter\",\"xaxis\":\"x74\",\"yaxis\":\"y74\"},{\"name\":\"Control\",\"x\":[0.199465,0.783265,1.3622,1.946,2.524935,3.099005,3.68767,4.27147],\"y\":[1.586067382862932,1.8678565491473,1.55510965538065,1.8308352159275565,1.5398626588927735,1.7857818743966294,1.5631259068211032,1.7519574519255223],\"type\":\"scatter\",\"xaxis\":\"x75\",\"yaxis\":\"y75\"},{\"name\":\"Control\",\"x\":[0.199465,0.783265,1.3622,1.946,2.524935,3.099005,3.68767,4.27147],\"y\":[0.4207992955397124,0.8147145801189752,0.4428581606454433,0.8280739185716579,0.4426044674875065,0.7699503658571976,0.4931676625285401,0.7403248855647835],\"type\":\"scatter\",\"xaxis\":\"x76\",\"yaxis\":\"y76\"},{\"name\":\"Control\",\"x\":[0.097104,0.38437,0.675682,0.966994,1.250214,1.549618,1.84093,2.128196,2.411416,2.71082,2.9980860000000003],\"y\":[1.2963780106637242,1.2957306918968254,1.2734180486804851,1.2491178666441094,1.23123248435891,1.2354122134131256,1.2165235457795929,1.216683906962318,1.194497320558479,1.214819722898225,1.19630111953252],\"type\":\"scatter\",\"xaxis\":\"x77\",\"yaxis\":\"y77\"},{\"name\":\"Control\",\"x\":[0.097104,0.38437,0.675682,0.966994,1.250214,1.549618,1.84093,2.128196,2.411416,2.71082,2.9980860000000003],\"y\":[0.1656784775908464,0.1899582179819514,0.1551209552122376,0.1790439066568685,0.1687998228390743,0.1692314470041536,0.151068340297003,0.1742865249026817,0.1441601215220567,0.1944819305841667,0.180019466555295],\"type\":\"scatter\",\"xaxis\":\"x78\",\"yaxis\":\"y78\"},{\"name\":\"Control\",\"x\":[0.218484,0.509796,1.088374,1.3756400000000002,1.670998,1.950172,2.241484,2.536842,2.8241080000000003,3.1235120000000003,3.4391,3.70209,3.989356],\"y\":[1.2606440037984132,1.3028410355235331,1.2316955220647408,1.2662474684837275,1.1672954639410738,1.2224542879341374,1.26906367812357,1.2387722394073095,1.176214980356452,1.226893348968814,1.189578169093758,1.189578169093758,1.2028956739155023],\"type\":\"scatter\",\"xaxis\":\"x79\",\"yaxis\":\"y79\"},{\"name\":\"Control\",\"x\":[0.218484,0.509796,1.088374,1.3756400000000002,1.670998,1.950172,2.241484,2.536842,2.8241080000000003,3.1235120000000003,3.4391,3.70209,3.989356],\"y\":[0.1696159065817544,0.2422206243575695,0.136447668055951,0.1718920594169721,0.1389826964126865,0.1596776174014966,0.2265007461170012,0.1185106185612889,0.1323129519798775,0.1809137748265539,0.047590307503154,0.1326185838093414,0.1789400366436477],\"type\":\"scatter\",\"xaxis\":\"x80\",\"yaxis\":\"y80\"},{\"name\":\"Control\",\"x\":[0.1233679999999999,0.405352,0.700554,0.99135,1.273334,1.572942,1.854926,2.145722,2.440924,2.722908,3.01811,3.313312,3.586484,3.894904,4.1857],\"y\":[1.2218918386414042,1.2007501001023262,1.2015462154964751,1.2093988140257652,1.17865881949167,1.1918563102600113,1.1819539974195836,1.166404133749419,1.152455780194357,1.1560930220733567,1.1719475781592603,1.1818427726120029,1.192633104316157,1.1387903825497805,1.1247766923648927],\"type\":\"scatter\",\"xaxis\":\"x81\",\"yaxis\":\"y81\"},{\"name\":\"Control\",\"x\":[0.1233679999999999,0.405352,0.700554,0.99135,1.273334,1.572942,1.854926,2.145722,2.440924,2.722908,3.01811,3.313312,3.586484,3.894904,4.1857],\"y\":[0.1454681928828836,0.1389750792873987,0.1464887917172475,0.118375482238987,0.1315859386420401,0.1445464887917171,0.1214939716154288,0.129637152899154,0.1120408798835634,0.1220003940536038,0.1524374757688813,0.1723637496107131,0.0782637489751429,0.1179490145482047,0.1032164943211788],\"type\":\"scatter\",\"xaxis\":\"x82\",\"yaxis\":\"y82\"},{\"name\":\"Control\",\"x\":[0.11451,0.98895,1.868595,2.72742,3.59145,4.46589],\"y\":[2.1030724000027146,1.6831267768753757,1.9683479266271096,1.9562181787142563,1.8537638476244784,2.021860550383964],\"type\":\"scatter\",\"xaxis\":\"x83\",\"yaxis\":\"y83\"},{\"name\":\"Control\",\"x\":[0.11451,0.98895,1.868595,2.72742,3.59145,4.46589],\"y\":[1.0809625657037705,0.5484606960744087,0.8369343704320171,0.9164318838977136,0.745278591749575,1.0186939656802971],\"type\":\"scatter\",\"xaxis\":\"x84\",\"yaxis\":\"y84\"},{\"name\":\"Thapsigargin\",\"x\":[0.04665,1.198905,3.29349,4.40376],\"y\":[1.1751076534452656,1.192162252185384,1.1743070482704816,1.1194592243256878],\"type\":\"scatter\",\"xaxis\":\"x85\",\"yaxis\":\"y85\"},{\"name\":\"Thapsigargin\",\"x\":[0.04665,1.198905,3.29349,4.40376],\"y\":[0.1409696060031899,0.1730975979222031,0.1139167345140337,0.0560951913857761],\"type\":\"scatter\",\"xaxis\":\"x86\",\"yaxis\":\"y86\"},{\"name\":\"Thapsigargin\",\"x\":[0.0579,1.3124,2.49935,3.700775],\"y\":[1.1414497984407552,1.1451458085847137,1.135975998978679,1.1095266224815907],\"type\":\"scatter\",\"xaxis\":\"x87\",\"yaxis\":\"y87\"},{\"name\":\"Thapsigargin\",\"x\":[0.0579,1.3124,2.49935,3.700775],\"y\":[0.0944433264740438,0.0883565185968964,0.0899062419533174,0.0550811754701425],\"type\":\"scatter\",\"xaxis\":\"x88\",\"yaxis\":\"y88\"},{\"name\":\"Thapsigargin\",\"x\":[0.64263,1.546458,2.458578,3.4080120000000003],\"y\":[1.2605347063027066,1.2379775217057798,1.2257204483420994,1.1984525685264538],\"type\":\"scatter\",\"xaxis\":\"x89\",\"yaxis\":\"y89\"},{\"name\":\"Thapsigargin\",\"x\":[0.64263,1.546458,2.458578,3.4080120000000003],\"y\":[0.1278273240427709,0.1172933826052182,0.0911192599601833,0.0850888445509914],\"type\":\"scatter\",\"xaxis\":\"x90\",\"yaxis\":\"y90\"},{\"name\":\"Thapsigargin\",\"x\":[0.7870799999999999,1.5928999999999998,2.525215,3.368515,3.930715],\"y\":[1.2374129520410635,1.2379069962805458,1.236913114260222,1.2000208567488957,1.1692507792313125],\"type\":\"scatter\",\"xaxis\":\"x91\",\"yaxis\":\"y91\"},{\"name\":\"Thapsigargin\",\"x\":[0.7870799999999999,1.5928999999999998,2.525215,3.368515,3.930715],\"y\":[0.1390981483841811,0.1954241161952654,0.1676339466762451,0.1307787678296235,0.117497074261613],\"type\":\"scatter\",\"xaxis\":\"x92\",\"yaxis\":\"y92\"}],                        {\"template\":{\"data\":{\"bar\":[{\"error_x\":{\"color\":\"#2a3f5f\"},\"error_y\":{\"color\":\"#2a3f5f\"},\"marker\":{\"line\":{\"color\":\"#E5ECF6\",\"width\":0.5},\"pattern\":{\"fillmode\":\"overlay\",\"size\":10,\"solidity\":0.2}},\"type\":\"bar\"}],\"barpolar\":[{\"marker\":{\"line\":{\"color\":\"#E5ECF6\",\"width\":0.5},\"pattern\":{\"fillmode\":\"overlay\",\"size\":10,\"solidity\":0.2}},\"type\":\"barpolar\"}],\"carpet\":[{\"aaxis\":{\"endlinecolor\":\"#2a3f5f\",\"gridcolor\":\"white\",\"linecolor\":\"white\",\"minorgridcolor\":\"white\",\"startlinecolor\":\"#2a3f5f\"},\"baxis\":{\"endlinecolor\":\"#2a3f5f\",\"gridcolor\":\"white\",\"linecolor\":\"white\",\"minorgridcolor\":\"white\",\"startlinecolor\":\"#2a3f5f\"},\"type\":\"carpet\"}],\"choropleth\":[{\"colorbar\":{\"outlinewidth\":0,\"ticks\":\"\"},\"type\":\"choropleth\"}],\"contour\":[{\"colorbar\":{\"outlinewidth\":0,\"ticks\":\"\"},\"colorscale\":[[0.0,\"#0d0887\"],[0.1111111111111111,\"#46039f\"],[0.2222222222222222,\"#7201a8\"],[0.3333333333333333,\"#9c179e\"],[0.4444444444444444,\"#bd3786\"],[0.5555555555555556,\"#d8576b\"],[0.6666666666666666,\"#ed7953\"],[0.7777777777777778,\"#fb9f3a\"],[0.8888888888888888,\"#fdca26\"],[1.0,\"#f0f921\"]],\"type\":\"contour\"}],\"contourcarpet\":[{\"colorbar\":{\"outlinewidth\":0,\"ticks\":\"\"},\"type\":\"contourcarpet\"}],\"heatmap\":[{\"colorbar\":{\"outlinewidth\":0,\"ticks\":\"\"},\"colorscale\":[[0.0,\"#0d0887\"],[0.1111111111111111,\"#46039f\"],[0.2222222222222222,\"#7201a8\"],[0.3333333333333333,\"#9c179e\"],[0.4444444444444444,\"#bd3786\"],[0.5555555555555556,\"#d8576b\"],[0.6666666666666666,\"#ed7953\"],[0.7777777777777778,\"#fb9f3a\"],[0.8888888888888888,\"#fdca26\"],[1.0,\"#f0f921\"]],\"type\":\"heatmap\"}],\"heatmapgl\":[{\"colorbar\":{\"outlinewidth\":0,\"ticks\":\"\"},\"colorscale\":[[0.0,\"#0d0887\"],[0.1111111111111111,\"#46039f\"],[0.2222222222222222,\"#7201a8\"],[0.3333333333333333,\"#9c179e\"],[0.4444444444444444,\"#bd3786\"],[0.5555555555555556,\"#d8576b\"],[0.6666666666666666,\"#ed7953\"],[0.7777777777777778,\"#fb9f3a\"],[0.8888888888888888,\"#fdca26\"],[1.0,\"#f0f921\"]],\"type\":\"heatmapgl\"}],\"histogram\":[{\"marker\":{\"pattern\":{\"fillmode\":\"overlay\",\"size\":10,\"solidity\":0.2}},\"type\":\"histogram\"}],\"histogram2d\":[{\"colorbar\":{\"outlinewidth\":0,\"ticks\":\"\"},\"colorscale\":[[0.0,\"#0d0887\"],[0.1111111111111111,\"#46039f\"],[0.2222222222222222,\"#7201a8\"],[0.3333333333333333,\"#9c179e\"],[0.4444444444444444,\"#bd3786\"],[0.5555555555555556,\"#d8576b\"],[0.6666666666666666,\"#ed7953\"],[0.7777777777777778,\"#fb9f3a\"],[0.8888888888888888,\"#fdca26\"],[1.0,\"#f0f921\"]],\"type\":\"histogram2d\"}],\"histogram2dcontour\":[{\"colorbar\":{\"outlinewidth\":0,\"ticks\":\"\"},\"colorscale\":[[0.0,\"#0d0887\"],[0.1111111111111111,\"#46039f\"],[0.2222222222222222,\"#7201a8\"],[0.3333333333333333,\"#9c179e\"],[0.4444444444444444,\"#bd3786\"],[0.5555555555555556,\"#d8576b\"],[0.6666666666666666,\"#ed7953\"],[0.7777777777777778,\"#fb9f3a\"],[0.8888888888888888,\"#fdca26\"],[1.0,\"#f0f921\"]],\"type\":\"histogram2dcontour\"}],\"mesh3d\":[{\"colorbar\":{\"outlinewidth\":0,\"ticks\":\"\"},\"type\":\"mesh3d\"}],\"parcoords\":[{\"line\":{\"colorbar\":{\"outlinewidth\":0,\"ticks\":\"\"}},\"type\":\"parcoords\"}],\"pie\":[{\"automargin\":true,\"type\":\"pie\"}],\"scatter\":[{\"marker\":{\"colorbar\":{\"outlinewidth\":0,\"ticks\":\"\"}},\"type\":\"scatter\"}],\"scatter3d\":[{\"line\":{\"colorbar\":{\"outlinewidth\":0,\"ticks\":\"\"}},\"marker\":{\"colorbar\":{\"outlinewidth\":0,\"ticks\":\"\"}},\"type\":\"scatter3d\"}],\"scattercarpet\":[{\"marker\":{\"colorbar\":{\"outlinewidth\":0,\"ticks\":\"\"}},\"type\":\"scattercarpet\"}],\"scattergeo\":[{\"marker\":{\"colorbar\":{\"outlinewidth\":0,\"ticks\":\"\"}},\"type\":\"scattergeo\"}],\"scattergl\":[{\"marker\":{\"colorbar\":{\"outlinewidth\":0,\"ticks\":\"\"}},\"type\":\"scattergl\"}],\"scattermapbox\":[{\"marker\":{\"colorbar\":{\"outlinewidth\":0,\"ticks\":\"\"}},\"type\":\"scattermapbox\"}],\"scatterpolar\":[{\"marker\":{\"colorbar\":{\"outlinewidth\":0,\"ticks\":\"\"}},\"type\":\"scatterpolar\"}],\"scatterpolargl\":[{\"marker\":{\"colorbar\":{\"outlinewidth\":0,\"ticks\":\"\"}},\"type\":\"scatterpolargl\"}],\"scatterternary\":[{\"marker\":{\"colorbar\":{\"outlinewidth\":0,\"ticks\":\"\"}},\"type\":\"scatterternary\"}],\"surface\":[{\"colorbar\":{\"outlinewidth\":0,\"ticks\":\"\"},\"colorscale\":[[0.0,\"#0d0887\"],[0.1111111111111111,\"#46039f\"],[0.2222222222222222,\"#7201a8\"],[0.3333333333333333,\"#9c179e\"],[0.4444444444444444,\"#bd3786\"],[0.5555555555555556,\"#d8576b\"],[0.6666666666666666,\"#ed7953\"],[0.7777777777777778,\"#fb9f3a\"],[0.8888888888888888,\"#fdca26\"],[1.0,\"#f0f921\"]],\"type\":\"surface\"}],\"table\":[{\"cells\":{\"fill\":{\"color\":\"#EBF0F8\"},\"line\":{\"color\":\"white\"}},\"header\":{\"fill\":{\"color\":\"#C8D4E3\"},\"line\":{\"color\":\"white\"}},\"type\":\"table\"}]},\"layout\":{\"annotationdefaults\":{\"arrowcolor\":\"#2a3f5f\",\"arrowhead\":0,\"arrowwidth\":1},\"autotypenumbers\":\"strict\",\"coloraxis\":{\"colorbar\":{\"outlinewidth\":0,\"ticks\":\"\"}},\"colorscale\":{\"diverging\":[[0,\"#8e0152\"],[0.1,\"#c51b7d\"],[0.2,\"#de77ae\"],[0.3,\"#f1b6da\"],[0.4,\"#fde0ef\"],[0.5,\"#f7f7f7\"],[0.6,\"#e6f5d0\"],[0.7,\"#b8e186\"],[0.8,\"#7fbc41\"],[0.9,\"#4d9221\"],[1,\"#276419\"]],\"sequential\":[[0.0,\"#0d0887\"],[0.1111111111111111,\"#46039f\"],[0.2222222222222222,\"#7201a8\"],[0.3333333333333333,\"#9c179e\"],[0.4444444444444444,\"#bd3786\"],[0.5555555555555556,\"#d8576b\"],[0.6666666666666666,\"#ed7953\"],[0.7777777777777778,\"#fb9f3a\"],[0.8888888888888888,\"#fdca26\"],[1.0,\"#f0f921\"]],\"sequentialminus\":[[0.0,\"#0d0887\"],[0.1111111111111111,\"#46039f\"],[0.2222222222222222,\"#7201a8\"],[0.3333333333333333,\"#9c179e\"],[0.4444444444444444,\"#bd3786\"],[0.5555555555555556,\"#d8576b\"],[0.6666666666666666,\"#ed7953\"],[0.7777777777777778,\"#fb9f3a\"],[0.8888888888888888,\"#fdca26\"],[1.0,\"#f0f921\"]]},\"colorway\":[\"#636efa\",\"#EF553B\",\"#00cc96\",\"#ab63fa\",\"#FFA15A\",\"#19d3f3\",\"#FF6692\",\"#B6E880\",\"#FF97FF\",\"#FECB52\"],\"font\":{\"color\":\"#2a3f5f\"},\"geo\":{\"bgcolor\":\"white\",\"lakecolor\":\"white\",\"landcolor\":\"#E5ECF6\",\"showlakes\":true,\"showland\":true,\"subunitcolor\":\"white\"},\"hoverlabel\":{\"align\":\"left\"},\"hovermode\":\"closest\",\"mapbox\":{\"style\":\"light\"},\"paper_bgcolor\":\"white\",\"plot_bgcolor\":\"#E5ECF6\",\"polar\":{\"angularaxis\":{\"gridcolor\":\"white\",\"linecolor\":\"white\",\"ticks\":\"\"},\"bgcolor\":\"#E5ECF6\",\"radialaxis\":{\"gridcolor\":\"white\",\"linecolor\":\"white\",\"ticks\":\"\"}},\"scene\":{\"xaxis\":{\"backgroundcolor\":\"#E5ECF6\",\"gridcolor\":\"white\",\"gridwidth\":2,\"linecolor\":\"white\",\"showbackground\":true,\"ticks\":\"\",\"zerolinecolor\":\"white\"},\"yaxis\":{\"backgroundcolor\":\"#E5ECF6\",\"gridcolor\":\"white\",\"gridwidth\":2,\"linecolor\":\"white\",\"showbackground\":true,\"ticks\":\"\",\"zerolinecolor\":\"white\"},\"zaxis\":{\"backgroundcolor\":\"#E5ECF6\",\"gridcolor\":\"white\",\"gridwidth\":2,\"linecolor\":\"white\",\"showbackground\":true,\"ticks\":\"\",\"zerolinecolor\":\"white\"}},\"shapedefaults\":{\"line\":{\"color\":\"#2a3f5f\"}},\"ternary\":{\"aaxis\":{\"gridcolor\":\"white\",\"linecolor\":\"white\",\"ticks\":\"\"},\"baxis\":{\"gridcolor\":\"white\",\"linecolor\":\"white\",\"ticks\":\"\"},\"bgcolor\":\"#E5ECF6\",\"caxis\":{\"gridcolor\":\"white\",\"linecolor\":\"white\",\"ticks\":\"\"}},\"title\":{\"x\":0.05},\"xaxis\":{\"automargin\":true,\"gridcolor\":\"white\",\"linecolor\":\"white\",\"ticks\":\"\",\"title\":{\"standoff\":15},\"zerolinecolor\":\"white\",\"zerolinewidth\":2},\"yaxis\":{\"automargin\":true,\"gridcolor\":\"white\",\"linecolor\":\"white\",\"ticks\":\"\",\"title\":{\"standoff\":15},\"zerolinecolor\":\"white\",\"zerolinewidth\":2}}},\"xaxis\":{\"anchor\":\"y\",\"domain\":[0.0,0.45],\"title\":{\"text\":\"thresholdSec\"}},\"yaxis\":{\"anchor\":\"x\",\"domain\":[0.9888941398865789,1.0],\"title\":{\"text\":\"peakVal\"}},\"xaxis2\":{\"anchor\":\"y2\",\"domain\":[0.55,1.0],\"title\":{\"text\":\"thresholdSec\"}},\"yaxis2\":{\"anchor\":\"x2\",\"domain\":[0.9888941398865789,1.0],\"title\":{\"text\":\"peakHeight\"}},\"xaxis3\":{\"anchor\":\"y3\",\"domain\":[0.0,0.45],\"title\":{\"text\":\"thresholdSec\"}},\"yaxis3\":{\"anchor\":\"x3\",\"domain\":[0.9669187145557661,0.9780245746691876],\"title\":{\"text\":\"peakVal\"}},\"xaxis4\":{\"anchor\":\"y4\",\"domain\":[0.55,1.0],\"title\":{\"text\":\"thresholdSec\"}},\"yaxis4\":{\"anchor\":\"x4\",\"domain\":[0.9669187145557661,0.9780245746691876],\"title\":{\"text\":\"peakHeight\"}},\"xaxis5\":{\"anchor\":\"y5\",\"domain\":[0.0,0.45],\"title\":{\"text\":\"thresholdSec\"}},\"yaxis5\":{\"anchor\":\"x5\",\"domain\":[0.9449432892249531,0.9560491493383746],\"title\":{\"text\":\"peakVal\"}},\"xaxis6\":{\"anchor\":\"y6\",\"domain\":[0.55,1.0],\"title\":{\"text\":\"thresholdSec\"}},\"yaxis6\":{\"anchor\":\"x6\",\"domain\":[0.9449432892249531,0.9560491493383746],\"title\":{\"text\":\"peakHeight\"}},\"xaxis7\":{\"anchor\":\"y7\",\"domain\":[0.0,0.45],\"title\":{\"text\":\"thresholdSec\"}},\"yaxis7\":{\"anchor\":\"x7\",\"domain\":[0.9229678638941402,0.9340737240075617],\"title\":{\"text\":\"peakVal\"}},\"xaxis8\":{\"anchor\":\"y8\",\"domain\":[0.55,1.0],\"title\":{\"text\":\"thresholdSec\"}},\"yaxis8\":{\"anchor\":\"x8\",\"domain\":[0.9229678638941402,0.9340737240075617],\"title\":{\"text\":\"peakHeight\"}},\"xaxis9\":{\"anchor\":\"y9\",\"domain\":[0.0,0.45],\"title\":{\"text\":\"thresholdSec\"}},\"yaxis9\":{\"anchor\":\"x9\",\"domain\":[0.9009924385633273,0.9120982986767489],\"title\":{\"text\":\"peakVal\"}},\"xaxis10\":{\"anchor\":\"y10\",\"domain\":[0.55,1.0],\"title\":{\"text\":\"thresholdSec\"}},\"yaxis10\":{\"anchor\":\"x10\",\"domain\":[0.9009924385633273,0.9120982986767489],\"title\":{\"text\":\"peakHeight\"}},\"xaxis11\":{\"anchor\":\"y11\",\"domain\":[0.0,0.45],\"title\":{\"text\":\"thresholdSec\"}},\"yaxis11\":{\"anchor\":\"x11\",\"domain\":[0.8790170132325145,0.890122873345936],\"title\":{\"text\":\"peakVal\"}},\"xaxis12\":{\"anchor\":\"y12\",\"domain\":[0.55,1.0],\"title\":{\"text\":\"thresholdSec\"}},\"yaxis12\":{\"anchor\":\"x12\",\"domain\":[0.8790170132325145,0.890122873345936],\"title\":{\"text\":\"peakHeight\"}},\"xaxis13\":{\"anchor\":\"y13\",\"domain\":[0.0,0.45],\"title\":{\"text\":\"thresholdSec\"}},\"yaxis13\":{\"anchor\":\"x13\",\"domain\":[0.8570415879017016,0.8681474480151231],\"title\":{\"text\":\"peakVal\"}},\"xaxis14\":{\"anchor\":\"y14\",\"domain\":[0.55,1.0],\"title\":{\"text\":\"thresholdSec\"}},\"yaxis14\":{\"anchor\":\"x14\",\"domain\":[0.8570415879017016,0.8681474480151231],\"title\":{\"text\":\"peakHeight\"}},\"xaxis15\":{\"anchor\":\"y15\",\"domain\":[0.0,0.45],\"title\":{\"text\":\"thresholdSec\"}},\"yaxis15\":{\"anchor\":\"x15\",\"domain\":[0.8350661625708887,0.8461720226843102],\"title\":{\"text\":\"peakVal\"}},\"xaxis16\":{\"anchor\":\"y16\",\"domain\":[0.55,1.0],\"title\":{\"text\":\"thresholdSec\"}},\"yaxis16\":{\"anchor\":\"x16\",\"domain\":[0.8350661625708887,0.8461720226843102],\"title\":{\"text\":\"peakHeight\"}},\"xaxis17\":{\"anchor\":\"y17\",\"domain\":[0.0,0.45],\"title\":{\"text\":\"thresholdSec\"}},\"yaxis17\":{\"anchor\":\"x17\",\"domain\":[0.8130907372400759,0.8241965973534974],\"title\":{\"text\":\"peakVal\"}},\"xaxis18\":{\"anchor\":\"y18\",\"domain\":[0.55,1.0],\"title\":{\"text\":\"thresholdSec\"}},\"yaxis18\":{\"anchor\":\"x18\",\"domain\":[0.8130907372400759,0.8241965973534974],\"title\":{\"text\":\"peakHeight\"}},\"xaxis19\":{\"anchor\":\"y19\",\"domain\":[0.0,0.45],\"title\":{\"text\":\"thresholdSec\"}},\"yaxis19\":{\"anchor\":\"x19\",\"domain\":[0.7911153119092629,0.8022211720226844],\"title\":{\"text\":\"peakVal\"}},\"xaxis20\":{\"anchor\":\"y20\",\"domain\":[0.55,1.0],\"title\":{\"text\":\"thresholdSec\"}},\"yaxis20\":{\"anchor\":\"x20\",\"domain\":[0.7911153119092629,0.8022211720226844],\"title\":{\"text\":\"peakHeight\"}},\"xaxis21\":{\"anchor\":\"y21\",\"domain\":[0.0,0.45],\"title\":{\"text\":\"thresholdSec\"}},\"yaxis21\":{\"anchor\":\"x21\",\"domain\":[0.76913988657845,0.7802457466918715],\"title\":{\"text\":\"peakVal\"}},\"xaxis22\":{\"anchor\":\"y22\",\"domain\":[0.55,1.0],\"title\":{\"text\":\"thresholdSec\"}},\"yaxis22\":{\"anchor\":\"x22\",\"domain\":[0.76913988657845,0.7802457466918715],\"title\":{\"text\":\"peakHeight\"}},\"xaxis23\":{\"anchor\":\"y23\",\"domain\":[0.0,0.45],\"title\":{\"text\":\"thresholdSec\"}},\"yaxis23\":{\"anchor\":\"x23\",\"domain\":[0.7471644612476371,0.7582703213610587],\"title\":{\"text\":\"peakVal\"}},\"xaxis24\":{\"anchor\":\"y24\",\"domain\":[0.55,1.0],\"title\":{\"text\":\"thresholdSec\"}},\"yaxis24\":{\"anchor\":\"x24\",\"domain\":[0.7471644612476371,0.7582703213610587],\"title\":{\"text\":\"peakHeight\"}},\"xaxis25\":{\"anchor\":\"y25\",\"domain\":[0.0,0.45],\"title\":{\"text\":\"thresholdSec\"}},\"yaxis25\":{\"anchor\":\"x25\",\"domain\":[0.7251890359168243,0.7362948960302458],\"title\":{\"text\":\"peakVal\"}},\"xaxis26\":{\"anchor\":\"y26\",\"domain\":[0.55,1.0],\"title\":{\"text\":\"thresholdSec\"}},\"yaxis26\":{\"anchor\":\"x26\",\"domain\":[0.7251890359168243,0.7362948960302458],\"title\":{\"text\":\"peakHeight\"}},\"xaxis27\":{\"anchor\":\"y27\",\"domain\":[0.0,0.45],\"title\":{\"text\":\"thresholdSec\"}},\"yaxis27\":{\"anchor\":\"x27\",\"domain\":[0.7032136105860114,0.7143194706994329],\"title\":{\"text\":\"peakVal\"}},\"xaxis28\":{\"anchor\":\"y28\",\"domain\":[0.55,1.0],\"title\":{\"text\":\"thresholdSec\"}},\"yaxis28\":{\"anchor\":\"x28\",\"domain\":[0.7032136105860114,0.7143194706994329],\"title\":{\"text\":\"peakHeight\"}},\"xaxis29\":{\"anchor\":\"y29\",\"domain\":[0.0,0.45],\"title\":{\"text\":\"thresholdSec\"}},\"yaxis29\":{\"anchor\":\"x29\",\"domain\":[0.6812381852551985,0.69234404536862],\"title\":{\"text\":\"peakVal\"}},\"xaxis30\":{\"anchor\":\"y30\",\"domain\":[0.55,1.0],\"title\":{\"text\":\"thresholdSec\"}},\"yaxis30\":{\"anchor\":\"x30\",\"domain\":[0.6812381852551985,0.69234404536862],\"title\":{\"text\":\"peakHeight\"}},\"xaxis31\":{\"anchor\":\"y31\",\"domain\":[0.0,0.45],\"title\":{\"text\":\"thresholdSec\"}},\"yaxis31\":{\"anchor\":\"x31\",\"domain\":[0.6592627599243857,0.6703686200378072],\"title\":{\"text\":\"peakVal\"}},\"xaxis32\":{\"anchor\":\"y32\",\"domain\":[0.55,1.0],\"title\":{\"text\":\"thresholdSec\"}},\"yaxis32\":{\"anchor\":\"x32\",\"domain\":[0.6592627599243857,0.6703686200378072],\"title\":{\"text\":\"peakHeight\"}},\"xaxis33\":{\"anchor\":\"y33\",\"domain\":[0.0,0.45],\"title\":{\"text\":\"thresholdSec\"}},\"yaxis33\":{\"anchor\":\"x33\",\"domain\":[0.6372873345935728,0.6483931947069943],\"title\":{\"text\":\"peakVal\"}},\"xaxis34\":{\"anchor\":\"y34\",\"domain\":[0.55,1.0],\"title\":{\"text\":\"thresholdSec\"}},\"yaxis34\":{\"anchor\":\"x34\",\"domain\":[0.6372873345935728,0.6483931947069943],\"title\":{\"text\":\"peakHeight\"}},\"xaxis35\":{\"anchor\":\"y35\",\"domain\":[0.0,0.45],\"title\":{\"text\":\"thresholdSec\"}},\"yaxis35\":{\"anchor\":\"x35\",\"domain\":[0.6153119092627599,0.6264177693761814],\"title\":{\"text\":\"peakVal\"}},\"xaxis36\":{\"anchor\":\"y36\",\"domain\":[0.55,1.0],\"title\":{\"text\":\"thresholdSec\"}},\"yaxis36\":{\"anchor\":\"x36\",\"domain\":[0.6153119092627599,0.6264177693761814],\"title\":{\"text\":\"peakHeight\"}},\"xaxis37\":{\"anchor\":\"y37\",\"domain\":[0.0,0.45],\"title\":{\"text\":\"thresholdSec\"}},\"yaxis37\":{\"anchor\":\"x37\",\"domain\":[0.593336483931947,0.6044423440453686],\"title\":{\"text\":\"peakVal\"}},\"xaxis38\":{\"anchor\":\"y38\",\"domain\":[0.55,1.0],\"title\":{\"text\":\"thresholdSec\"}},\"yaxis38\":{\"anchor\":\"x38\",\"domain\":[0.593336483931947,0.6044423440453686],\"title\":{\"text\":\"peakHeight\"}},\"xaxis39\":{\"anchor\":\"y39\",\"domain\":[0.0,0.45],\"title\":{\"text\":\"thresholdSec\"}},\"yaxis39\":{\"anchor\":\"x39\",\"domain\":[0.5713610586011342,0.5824669187145557],\"title\":{\"text\":\"peakVal\"}},\"xaxis40\":{\"anchor\":\"y40\",\"domain\":[0.55,1.0],\"title\":{\"text\":\"thresholdSec\"}},\"yaxis40\":{\"anchor\":\"x40\",\"domain\":[0.5713610586011342,0.5824669187145557],\"title\":{\"text\":\"peakHeight\"}},\"xaxis41\":{\"anchor\":\"y41\",\"domain\":[0.0,0.45],\"title\":{\"text\":\"thresholdSec\"}},\"yaxis41\":{\"anchor\":\"x41\",\"domain\":[0.5493856332703213,0.5604914933837428],\"title\":{\"text\":\"peakVal\"}},\"xaxis42\":{\"anchor\":\"y42\",\"domain\":[0.55,1.0],\"title\":{\"text\":\"thresholdSec\"}},\"yaxis42\":{\"anchor\":\"x42\",\"domain\":[0.5493856332703213,0.5604914933837428],\"title\":{\"text\":\"peakHeight\"}},\"xaxis43\":{\"anchor\":\"y43\",\"domain\":[0.0,0.45],\"title\":{\"text\":\"thresholdSec\"}},\"yaxis43\":{\"anchor\":\"x43\",\"domain\":[0.5274102079395084,0.53851606805293],\"title\":{\"text\":\"peakVal\"}},\"xaxis44\":{\"anchor\":\"y44\",\"domain\":[0.55,1.0],\"title\":{\"text\":\"thresholdSec\"}},\"yaxis44\":{\"anchor\":\"x44\",\"domain\":[0.5274102079395084,0.53851606805293],\"title\":{\"text\":\"peakHeight\"}},\"xaxis45\":{\"anchor\":\"y45\",\"domain\":[0.0,0.45],\"title\":{\"text\":\"thresholdSec\"}},\"yaxis45\":{\"anchor\":\"x45\",\"domain\":[0.5054347826086956,0.5165406427221171],\"title\":{\"text\":\"peakVal\"}},\"xaxis46\":{\"anchor\":\"y46\",\"domain\":[0.55,1.0],\"title\":{\"text\":\"thresholdSec\"}},\"yaxis46\":{\"anchor\":\"x46\",\"domain\":[0.5054347826086956,0.5165406427221171],\"title\":{\"text\":\"peakHeight\"}},\"xaxis47\":{\"anchor\":\"y47\",\"domain\":[0.0,0.45],\"title\":{\"text\":\"thresholdSec\"}},\"yaxis47\":{\"anchor\":\"x47\",\"domain\":[0.4834593572778827,0.49456521739130427],\"title\":{\"text\":\"peakVal\"}},\"xaxis48\":{\"anchor\":\"y48\",\"domain\":[0.55,1.0],\"title\":{\"text\":\"thresholdSec\"}},\"yaxis48\":{\"anchor\":\"x48\",\"domain\":[0.4834593572778827,0.49456521739130427],\"title\":{\"text\":\"peakHeight\"}},\"xaxis49\":{\"anchor\":\"y49\",\"domain\":[0.0,0.45],\"title\":{\"text\":\"thresholdSec\"}},\"yaxis49\":{\"anchor\":\"x49\",\"domain\":[0.4614839319470698,0.4725897920604914],\"title\":{\"text\":\"peakVal\"}},\"xaxis50\":{\"anchor\":\"y50\",\"domain\":[0.55,1.0],\"title\":{\"text\":\"thresholdSec\"}},\"yaxis50\":{\"anchor\":\"x50\",\"domain\":[0.4614839319470698,0.4725897920604914],\"title\":{\"text\":\"peakHeight\"}},\"xaxis51\":{\"anchor\":\"y51\",\"domain\":[0.0,0.45],\"title\":{\"text\":\"thresholdSec\"}},\"yaxis51\":{\"anchor\":\"x51\",\"domain\":[0.439508506616257,0.4506143667296786],\"title\":{\"text\":\"peakVal\"}},\"xaxis52\":{\"anchor\":\"y52\",\"domain\":[0.55,1.0],\"title\":{\"text\":\"thresholdSec\"}},\"yaxis52\":{\"anchor\":\"x52\",\"domain\":[0.439508506616257,0.4506143667296786],\"title\":{\"text\":\"peakHeight\"}},\"xaxis53\":{\"anchor\":\"y53\",\"domain\":[0.0,0.45],\"title\":{\"text\":\"thresholdSec\"}},\"yaxis53\":{\"anchor\":\"x53\",\"domain\":[0.4175330812854442,0.42863894139886577],\"title\":{\"text\":\"peakVal\"}},\"xaxis54\":{\"anchor\":\"y54\",\"domain\":[0.55,1.0],\"title\":{\"text\":\"thresholdSec\"}},\"yaxis54\":{\"anchor\":\"x54\",\"domain\":[0.4175330812854442,0.42863894139886577],\"title\":{\"text\":\"peakHeight\"}},\"xaxis55\":{\"anchor\":\"y55\",\"domain\":[0.0,0.45],\"title\":{\"text\":\"thresholdSec\"}},\"yaxis55\":{\"anchor\":\"x55\",\"domain\":[0.3955576559546313,0.4066635160680529],\"title\":{\"text\":\"peakVal\"}},\"xaxis56\":{\"anchor\":\"y56\",\"domain\":[0.55,1.0],\"title\":{\"text\":\"thresholdSec\"}},\"yaxis56\":{\"anchor\":\"x56\",\"domain\":[0.3955576559546313,0.4066635160680529],\"title\":{\"text\":\"peakHeight\"}},\"xaxis57\":{\"anchor\":\"y57\",\"domain\":[0.0,0.45],\"title\":{\"text\":\"thresholdSec\"}},\"yaxis57\":{\"anchor\":\"x57\",\"domain\":[0.37358223062381846,0.38468809073724003],\"title\":{\"text\":\"peakVal\"}},\"xaxis58\":{\"anchor\":\"y58\",\"domain\":[0.55,1.0],\"title\":{\"text\":\"thresholdSec\"}},\"yaxis58\":{\"anchor\":\"x58\",\"domain\":[0.37358223062381846,0.38468809073724003],\"title\":{\"text\":\"peakHeight\"}},\"xaxis59\":{\"anchor\":\"y59\",\"domain\":[0.0,0.45],\"title\":{\"text\":\"thresholdSec\"}},\"yaxis59\":{\"anchor\":\"x59\",\"domain\":[0.3516068052930056,0.36271266540642716],\"title\":{\"text\":\"peakVal\"}},\"xaxis60\":{\"anchor\":\"y60\",\"domain\":[0.55,1.0],\"title\":{\"text\":\"thresholdSec\"}},\"yaxis60\":{\"anchor\":\"x60\",\"domain\":[0.3516068052930056,0.36271266540642716],\"title\":{\"text\":\"peakHeight\"}},\"xaxis61\":{\"anchor\":\"y61\",\"domain\":[0.0,0.45],\"title\":{\"text\":\"thresholdSec\"}},\"yaxis61\":{\"anchor\":\"x61\",\"domain\":[0.32963137996219277,0.34073724007561434],\"title\":{\"text\":\"peakVal\"}},\"xaxis62\":{\"anchor\":\"y62\",\"domain\":[0.55,1.0],\"title\":{\"text\":\"thresholdSec\"}},\"yaxis62\":{\"anchor\":\"x62\",\"domain\":[0.32963137996219277,0.34073724007561434],\"title\":{\"text\":\"peakHeight\"}},\"xaxis63\":{\"anchor\":\"y63\",\"domain\":[0.0,0.45],\"title\":{\"text\":\"thresholdSec\"}},\"yaxis63\":{\"anchor\":\"x63\",\"domain\":[0.30765595463137996,0.31876181474480153],\"title\":{\"text\":\"peakVal\"}},\"xaxis64\":{\"anchor\":\"y64\",\"domain\":[0.55,1.0],\"title\":{\"text\":\"thresholdSec\"}},\"yaxis64\":{\"anchor\":\"x64\",\"domain\":[0.30765595463137996,0.31876181474480153],\"title\":{\"text\":\"peakHeight\"}},\"xaxis65\":{\"anchor\":\"y65\",\"domain\":[0.0,0.45],\"title\":{\"text\":\"thresholdSec\"}},\"yaxis65\":{\"anchor\":\"x65\",\"domain\":[0.2856805293005671,0.29678638941398866],\"title\":{\"text\":\"peakVal\"}},\"xaxis66\":{\"anchor\":\"y66\",\"domain\":[0.55,1.0],\"title\":{\"text\":\"thresholdSec\"}},\"yaxis66\":{\"anchor\":\"x66\",\"domain\":[0.2856805293005671,0.29678638941398866],\"title\":{\"text\":\"peakHeight\"}},\"xaxis67\":{\"anchor\":\"y67\",\"domain\":[0.0,0.45],\"title\":{\"text\":\"thresholdSec\"}},\"yaxis67\":{\"anchor\":\"x67\",\"domain\":[0.2637051039697542,0.2748109640831758],\"title\":{\"text\":\"peakVal\"}},\"xaxis68\":{\"anchor\":\"y68\",\"domain\":[0.55,1.0],\"title\":{\"text\":\"thresholdSec\"}},\"yaxis68\":{\"anchor\":\"x68\",\"domain\":[0.2637051039697542,0.2748109640831758],\"title\":{\"text\":\"peakHeight\"}},\"xaxis69\":{\"anchor\":\"y69\",\"domain\":[0.0,0.45],\"title\":{\"text\":\"thresholdSec\"}},\"yaxis69\":{\"anchor\":\"x69\",\"domain\":[0.24172967863894138,0.2528355387523629],\"title\":{\"text\":\"peakVal\"}},\"xaxis70\":{\"anchor\":\"y70\",\"domain\":[0.55,1.0],\"title\":{\"text\":\"thresholdSec\"}},\"yaxis70\":{\"anchor\":\"x70\",\"domain\":[0.24172967863894138,0.2528355387523629],\"title\":{\"text\":\"peakHeight\"}},\"xaxis71\":{\"anchor\":\"y71\",\"domain\":[0.0,0.45],\"title\":{\"text\":\"thresholdSec\"}},\"yaxis71\":{\"anchor\":\"x71\",\"domain\":[0.21975425330812853,0.23086011342155008],\"title\":{\"text\":\"peakVal\"}},\"xaxis72\":{\"anchor\":\"y72\",\"domain\":[0.55,1.0],\"title\":{\"text\":\"thresholdSec\"}},\"yaxis72\":{\"anchor\":\"x72\",\"domain\":[0.21975425330812853,0.23086011342155008],\"title\":{\"text\":\"peakHeight\"}},\"xaxis73\":{\"anchor\":\"y73\",\"domain\":[0.0,0.45],\"title\":{\"text\":\"thresholdSec\"}},\"yaxis73\":{\"anchor\":\"x73\",\"domain\":[0.19777882797731566,0.2088846880907372],\"title\":{\"text\":\"peakVal\"}},\"xaxis74\":{\"anchor\":\"y74\",\"domain\":[0.55,1.0],\"title\":{\"text\":\"thresholdSec\"}},\"yaxis74\":{\"anchor\":\"x74\",\"domain\":[0.19777882797731566,0.2088846880907372],\"title\":{\"text\":\"peakHeight\"}},\"xaxis75\":{\"anchor\":\"y75\",\"domain\":[0.0,0.45],\"title\":{\"text\":\"thresholdSec\"}},\"yaxis75\":{\"anchor\":\"x75\",\"domain\":[0.17580340264650282,0.18690926275992437],\"title\":{\"text\":\"peakVal\"}},\"xaxis76\":{\"anchor\":\"y76\",\"domain\":[0.55,1.0],\"title\":{\"text\":\"thresholdSec\"}},\"yaxis76\":{\"anchor\":\"x76\",\"domain\":[0.17580340264650282,0.18690926275992437],\"title\":{\"text\":\"peakHeight\"}},\"xaxis77\":{\"anchor\":\"y77\",\"domain\":[0.0,0.45],\"title\":{\"text\":\"thresholdSec\"}},\"yaxis77\":{\"anchor\":\"x77\",\"domain\":[0.15382797731568998,0.16493383742911152],\"title\":{\"text\":\"peakVal\"}},\"xaxis78\":{\"anchor\":\"y78\",\"domain\":[0.55,1.0],\"title\":{\"text\":\"thresholdSec\"}},\"yaxis78\":{\"anchor\":\"x78\",\"domain\":[0.15382797731568998,0.16493383742911152],\"title\":{\"text\":\"peakHeight\"}},\"xaxis79\":{\"anchor\":\"y79\",\"domain\":[0.0,0.45],\"title\":{\"text\":\"thresholdSec\"}},\"yaxis79\":{\"anchor\":\"x79\",\"domain\":[0.1318525519848771,0.14295841209829865],\"title\":{\"text\":\"peakVal\"}},\"xaxis80\":{\"anchor\":\"y80\",\"domain\":[0.55,1.0],\"title\":{\"text\":\"thresholdSec\"}},\"yaxis80\":{\"anchor\":\"x80\",\"domain\":[0.1318525519848771,0.14295841209829865],\"title\":{\"text\":\"peakHeight\"}},\"xaxis81\":{\"anchor\":\"y81\",\"domain\":[0.0,0.45],\"title\":{\"text\":\"thresholdSec\"}},\"yaxis81\":{\"anchor\":\"x81\",\"domain\":[0.10987712665406427,0.12098298676748581],\"title\":{\"text\":\"peakVal\"}},\"xaxis82\":{\"anchor\":\"y82\",\"domain\":[0.55,1.0],\"title\":{\"text\":\"thresholdSec\"}},\"yaxis82\":{\"anchor\":\"x82\",\"domain\":[0.10987712665406427,0.12098298676748581],\"title\":{\"text\":\"peakHeight\"}},\"xaxis83\":{\"anchor\":\"y83\",\"domain\":[0.0,0.45],\"title\":{\"text\":\"thresholdSec\"}},\"yaxis83\":{\"anchor\":\"x83\",\"domain\":[0.08790170132325142,0.09900756143667297],\"title\":{\"text\":\"peakVal\"}},\"xaxis84\":{\"anchor\":\"y84\",\"domain\":[0.55,1.0],\"title\":{\"text\":\"thresholdSec\"}},\"yaxis84\":{\"anchor\":\"x84\",\"domain\":[0.08790170132325142,0.09900756143667297],\"title\":{\"text\":\"peakHeight\"}},\"xaxis85\":{\"anchor\":\"y85\",\"domain\":[0.0,0.45],\"title\":{\"text\":\"thresholdSec\"}},\"yaxis85\":{\"anchor\":\"x85\",\"domain\":[0.06592627599243855,0.0770321361058601],\"title\":{\"text\":\"peakVal\"}},\"xaxis86\":{\"anchor\":\"y86\",\"domain\":[0.55,1.0],\"title\":{\"text\":\"thresholdSec\"}},\"yaxis86\":{\"anchor\":\"x86\",\"domain\":[0.06592627599243855,0.0770321361058601],\"title\":{\"text\":\"peakHeight\"}},\"xaxis87\":{\"anchor\":\"y87\",\"domain\":[0.0,0.45],\"title\":{\"text\":\"thresholdSec\"}},\"yaxis87\":{\"anchor\":\"x87\",\"domain\":[0.04395085066162571,0.055056710775047264],\"title\":{\"text\":\"peakVal\"}},\"xaxis88\":{\"anchor\":\"y88\",\"domain\":[0.55,1.0],\"title\":{\"text\":\"thresholdSec\"}},\"yaxis88\":{\"anchor\":\"x88\",\"domain\":[0.04395085066162571,0.055056710775047264],\"title\":{\"text\":\"peakHeight\"}},\"xaxis89\":{\"anchor\":\"y89\",\"domain\":[0.0,0.45],\"title\":{\"text\":\"thresholdSec\"}},\"yaxis89\":{\"anchor\":\"x89\",\"domain\":[0.021975425330812856,0.03308128544423441],\"title\":{\"text\":\"peakVal\"}},\"xaxis90\":{\"anchor\":\"y90\",\"domain\":[0.55,1.0],\"title\":{\"text\":\"thresholdSec\"}},\"yaxis90\":{\"anchor\":\"x90\",\"domain\":[0.021975425330812856,0.03308128544423441],\"title\":{\"text\":\"peakHeight\"}},\"xaxis91\":{\"anchor\":\"y91\",\"domain\":[0.0,0.45],\"title\":{\"text\":\"thresholdSec\"}},\"yaxis91\":{\"anchor\":\"x91\",\"domain\":[0.0,0.01110586011342155],\"title\":{\"text\":\"peakVal\"}},\"xaxis92\":{\"anchor\":\"y92\",\"domain\":[0.55,1.0],\"title\":{\"text\":\"thresholdSec\"}},\"yaxis92\":{\"anchor\":\"x92\",\"domain\":[0.0,0.01110586011342155],\"title\":{\"text\":\"peakHeight\"}},\"annotations\":[{\"font\":{\"size\":16},\"showarrow\":false,\"text\":\"220110n_0003.tif\",\"x\":0.225,\"xanchor\":\"center\",\"xref\":\"paper\",\"y\":1.0000000000000004,\"yanchor\":\"bottom\",\"yref\":\"paper\"},{\"font\":{\"size\":16},\"showarrow\":false,\"text\":\"220110n_0003.tif\",\"x\":0.775,\"xanchor\":\"center\",\"xref\":\"paper\",\"y\":1.0000000000000004,\"yanchor\":\"bottom\",\"yref\":\"paper\"},{\"font\":{\"size\":16},\"showarrow\":false,\"text\":\"220110n_0005.tif\",\"x\":0.225,\"xanchor\":\"center\",\"xref\":\"paper\",\"y\":0.9780245746691876,\"yanchor\":\"bottom\",\"yref\":\"paper\"},{\"font\":{\"size\":16},\"showarrow\":false,\"text\":\"220110n_0005.tif\",\"x\":0.775,\"xanchor\":\"center\",\"xref\":\"paper\",\"y\":0.9780245746691876,\"yanchor\":\"bottom\",\"yref\":\"paper\"},{\"font\":{\"size\":16},\"showarrow\":false,\"text\":\"220110n_0009.tif\",\"x\":0.225,\"xanchor\":\"center\",\"xref\":\"paper\",\"y\":0.9560491493383746,\"yanchor\":\"bottom\",\"yref\":\"paper\"},{\"font\":{\"size\":16},\"showarrow\":false,\"text\":\"220110n_0009.tif\",\"x\":0.775,\"xanchor\":\"center\",\"xref\":\"paper\",\"y\":0.9560491493383746,\"yanchor\":\"bottom\",\"yref\":\"paper\"},{\"font\":{\"size\":16},\"showarrow\":false,\"text\":\"220110n_0010.tif\",\"x\":0.225,\"xanchor\":\"center\",\"xref\":\"paper\",\"y\":0.9340737240075617,\"yanchor\":\"bottom\",\"yref\":\"paper\"},{\"font\":{\"size\":16},\"showarrow\":false,\"text\":\"220110n_0010.tif\",\"x\":0.775,\"xanchor\":\"center\",\"xref\":\"paper\",\"y\":0.9340737240075617,\"yanchor\":\"bottom\",\"yref\":\"paper\"},{\"font\":{\"size\":16},\"showarrow\":false,\"text\":\"220110n_0014.tif\",\"x\":0.225,\"xanchor\":\"center\",\"xref\":\"paper\",\"y\":0.9120982986767489,\"yanchor\":\"bottom\",\"yref\":\"paper\"},{\"font\":{\"size\":16},\"showarrow\":false,\"text\":\"220110n_0014.tif\",\"x\":0.775,\"xanchor\":\"center\",\"xref\":\"paper\",\"y\":0.9120982986767489,\"yanchor\":\"bottom\",\"yref\":\"paper\"},{\"font\":{\"size\":16},\"showarrow\":false,\"text\":\"220110n_0017.tif\",\"x\":0.225,\"xanchor\":\"center\",\"xref\":\"paper\",\"y\":0.890122873345936,\"yanchor\":\"bottom\",\"yref\":\"paper\"},{\"font\":{\"size\":16},\"showarrow\":false,\"text\":\"220110n_0017.tif\",\"x\":0.775,\"xanchor\":\"center\",\"xref\":\"paper\",\"y\":0.890122873345936,\"yanchor\":\"bottom\",\"yref\":\"paper\"},{\"font\":{\"size\":16},\"showarrow\":false,\"text\":\"220110n_0020.tif\",\"x\":0.225,\"xanchor\":\"center\",\"xref\":\"paper\",\"y\":0.8681474480151231,\"yanchor\":\"bottom\",\"yref\":\"paper\"},{\"font\":{\"size\":16},\"showarrow\":false,\"text\":\"220110n_0020.tif\",\"x\":0.775,\"xanchor\":\"center\",\"xref\":\"paper\",\"y\":0.8681474480151231,\"yanchor\":\"bottom\",\"yref\":\"paper\"},{\"font\":{\"size\":16},\"showarrow\":false,\"text\":\"220110n_0021.tif\",\"x\":0.225,\"xanchor\":\"center\",\"xref\":\"paper\",\"y\":0.8461720226843102,\"yanchor\":\"bottom\",\"yref\":\"paper\"},{\"font\":{\"size\":16},\"showarrow\":false,\"text\":\"220110n_0021.tif\",\"x\":0.775,\"xanchor\":\"center\",\"xref\":\"paper\",\"y\":0.8461720226843102,\"yanchor\":\"bottom\",\"yref\":\"paper\"},{\"font\":{\"size\":16},\"showarrow\":false,\"text\":\"220110n_0022.tif\",\"x\":0.225,\"xanchor\":\"center\",\"xref\":\"paper\",\"y\":0.8241965973534974,\"yanchor\":\"bottom\",\"yref\":\"paper\"},{\"font\":{\"size\":16},\"showarrow\":false,\"text\":\"220110n_0022.tif\",\"x\":0.775,\"xanchor\":\"center\",\"xref\":\"paper\",\"y\":0.8241965973534974,\"yanchor\":\"bottom\",\"yref\":\"paper\"},{\"font\":{\"size\":16},\"showarrow\":false,\"text\":\"220110n_0023.tif\",\"x\":0.225,\"xanchor\":\"center\",\"xref\":\"paper\",\"y\":0.8022211720226844,\"yanchor\":\"bottom\",\"yref\":\"paper\"},{\"font\":{\"size\":16},\"showarrow\":false,\"text\":\"220110n_0023.tif\",\"x\":0.775,\"xanchor\":\"center\",\"xref\":\"paper\",\"y\":0.8022211720226844,\"yanchor\":\"bottom\",\"yref\":\"paper\"},{\"font\":{\"size\":16},\"showarrow\":false,\"text\":\"220110n_0024.tif\",\"x\":0.225,\"xanchor\":\"center\",\"xref\":\"paper\",\"y\":0.7802457466918715,\"yanchor\":\"bottom\",\"yref\":\"paper\"},{\"font\":{\"size\":16},\"showarrow\":false,\"text\":\"220110n_0024.tif\",\"x\":0.775,\"xanchor\":\"center\",\"xref\":\"paper\",\"y\":0.7802457466918715,\"yanchor\":\"bottom\",\"yref\":\"paper\"},{\"font\":{\"size\":16},\"showarrow\":false,\"text\":\"220110n_0025.tif\",\"x\":0.225,\"xanchor\":\"center\",\"xref\":\"paper\",\"y\":0.7582703213610587,\"yanchor\":\"bottom\",\"yref\":\"paper\"},{\"font\":{\"size\":16},\"showarrow\":false,\"text\":\"220110n_0025.tif\",\"x\":0.775,\"xanchor\":\"center\",\"xref\":\"paper\",\"y\":0.7582703213610587,\"yanchor\":\"bottom\",\"yref\":\"paper\"},{\"font\":{\"size\":16},\"showarrow\":false,\"text\":\"220110n_0030.tif\",\"x\":0.225,\"xanchor\":\"center\",\"xref\":\"paper\",\"y\":0.7362948960302458,\"yanchor\":\"bottom\",\"yref\":\"paper\"},{\"font\":{\"size\":16},\"showarrow\":false,\"text\":\"220110n_0030.tif\",\"x\":0.775,\"xanchor\":\"center\",\"xref\":\"paper\",\"y\":0.7362948960302458,\"yanchor\":\"bottom\",\"yref\":\"paper\"},{\"font\":{\"size\":16},\"showarrow\":false,\"text\":\"220110n_0032.tif\",\"x\":0.225,\"xanchor\":\"center\",\"xref\":\"paper\",\"y\":0.7143194706994329,\"yanchor\":\"bottom\",\"yref\":\"paper\"},{\"font\":{\"size\":16},\"showarrow\":false,\"text\":\"220110n_0032.tif\",\"x\":0.775,\"xanchor\":\"center\",\"xref\":\"paper\",\"y\":0.7143194706994329,\"yanchor\":\"bottom\",\"yref\":\"paper\"},{\"font\":{\"size\":16},\"showarrow\":false,\"text\":\"220110n_0035.tif\",\"x\":0.225,\"xanchor\":\"center\",\"xref\":\"paper\",\"y\":0.69234404536862,\"yanchor\":\"bottom\",\"yref\":\"paper\"},{\"font\":{\"size\":16},\"showarrow\":false,\"text\":\"220110n_0035.tif\",\"x\":0.775,\"xanchor\":\"center\",\"xref\":\"paper\",\"y\":0.69234404536862,\"yanchor\":\"bottom\",\"yref\":\"paper\"},{\"font\":{\"size\":16},\"showarrow\":false,\"text\":\"220110n_0036.tif\",\"x\":0.225,\"xanchor\":\"center\",\"xref\":\"paper\",\"y\":0.6703686200378072,\"yanchor\":\"bottom\",\"yref\":\"paper\"},{\"font\":{\"size\":16},\"showarrow\":false,\"text\":\"220110n_0036.tif\",\"x\":0.775,\"xanchor\":\"center\",\"xref\":\"paper\",\"y\":0.6703686200378072,\"yanchor\":\"bottom\",\"yref\":\"paper\"},{\"font\":{\"size\":16},\"showarrow\":false,\"text\":\"220110n_0037.tif\",\"x\":0.225,\"xanchor\":\"center\",\"xref\":\"paper\",\"y\":0.6483931947069943,\"yanchor\":\"bottom\",\"yref\":\"paper\"},{\"font\":{\"size\":16},\"showarrow\":false,\"text\":\"220110n_0037.tif\",\"x\":0.775,\"xanchor\":\"center\",\"xref\":\"paper\",\"y\":0.6483931947069943,\"yanchor\":\"bottom\",\"yref\":\"paper\"},{\"font\":{\"size\":16},\"showarrow\":false,\"text\":\"220110n_0049.tif\",\"x\":0.225,\"xanchor\":\"center\",\"xref\":\"paper\",\"y\":0.6264177693761814,\"yanchor\":\"bottom\",\"yref\":\"paper\"},{\"font\":{\"size\":16},\"showarrow\":false,\"text\":\"220110n_0049.tif\",\"x\":0.775,\"xanchor\":\"center\",\"xref\":\"paper\",\"y\":0.6264177693761814,\"yanchor\":\"bottom\",\"yref\":\"paper\"},{\"font\":{\"size\":16},\"showarrow\":false,\"text\":\"220110n_0052.tif\",\"x\":0.225,\"xanchor\":\"center\",\"xref\":\"paper\",\"y\":0.6044423440453686,\"yanchor\":\"bottom\",\"yref\":\"paper\"},{\"font\":{\"size\":16},\"showarrow\":false,\"text\":\"220110n_0052.tif\",\"x\":0.775,\"xanchor\":\"center\",\"xref\":\"paper\",\"y\":0.6044423440453686,\"yanchor\":\"bottom\",\"yref\":\"paper\"},{\"font\":{\"size\":16},\"showarrow\":false,\"text\":\"220110n_0055.tif\",\"x\":0.225,\"xanchor\":\"center\",\"xref\":\"paper\",\"y\":0.5824669187145557,\"yanchor\":\"bottom\",\"yref\":\"paper\"},{\"font\":{\"size\":16},\"showarrow\":false,\"text\":\"220110n_0055.tif\",\"x\":0.775,\"xanchor\":\"center\",\"xref\":\"paper\",\"y\":0.5824669187145557,\"yanchor\":\"bottom\",\"yref\":\"paper\"},{\"font\":{\"size\":16},\"showarrow\":false,\"text\":\"220110n_0060.tif\",\"x\":0.225,\"xanchor\":\"center\",\"xref\":\"paper\",\"y\":0.5604914933837428,\"yanchor\":\"bottom\",\"yref\":\"paper\"},{\"font\":{\"size\":16},\"showarrow\":false,\"text\":\"220110n_0060.tif\",\"x\":0.775,\"xanchor\":\"center\",\"xref\":\"paper\",\"y\":0.5604914933837428,\"yanchor\":\"bottom\",\"yref\":\"paper\"},{\"font\":{\"size\":16},\"showarrow\":false,\"text\":\"220110n_0064.tif\",\"x\":0.225,\"xanchor\":\"center\",\"xref\":\"paper\",\"y\":0.53851606805293,\"yanchor\":\"bottom\",\"yref\":\"paper\"},{\"font\":{\"size\":16},\"showarrow\":false,\"text\":\"220110n_0064.tif\",\"x\":0.775,\"xanchor\":\"center\",\"xref\":\"paper\",\"y\":0.53851606805293,\"yanchor\":\"bottom\",\"yref\":\"paper\"},{\"font\":{\"size\":16},\"showarrow\":false,\"text\":\"220110n_0067.tif\",\"x\":0.225,\"xanchor\":\"center\",\"xref\":\"paper\",\"y\":0.5165406427221171,\"yanchor\":\"bottom\",\"yref\":\"paper\"},{\"font\":{\"size\":16},\"showarrow\":false,\"text\":\"220110n_0067.tif\",\"x\":0.775,\"xanchor\":\"center\",\"xref\":\"paper\",\"y\":0.5165406427221171,\"yanchor\":\"bottom\",\"yref\":\"paper\"},{\"font\":{\"size\":16},\"showarrow\":false,\"text\":\"220110n_0068.tif\",\"x\":0.225,\"xanchor\":\"center\",\"xref\":\"paper\",\"y\":0.49456521739130427,\"yanchor\":\"bottom\",\"yref\":\"paper\"},{\"font\":{\"size\":16},\"showarrow\":false,\"text\":\"220110n_0068.tif\",\"x\":0.775,\"xanchor\":\"center\",\"xref\":\"paper\",\"y\":0.49456521739130427,\"yanchor\":\"bottom\",\"yref\":\"paper\"},{\"font\":{\"size\":16},\"showarrow\":false,\"text\":\"220110n_0072.tif\",\"x\":0.225,\"xanchor\":\"center\",\"xref\":\"paper\",\"y\":0.4725897920604914,\"yanchor\":\"bottom\",\"yref\":\"paper\"},{\"font\":{\"size\":16},\"showarrow\":false,\"text\":\"220110n_0072.tif\",\"x\":0.775,\"xanchor\":\"center\",\"xref\":\"paper\",\"y\":0.4725897920604914,\"yanchor\":\"bottom\",\"yref\":\"paper\"},{\"font\":{\"size\":16},\"showarrow\":false,\"text\":\"220110n_0073.tif\",\"x\":0.225,\"xanchor\":\"center\",\"xref\":\"paper\",\"y\":0.4506143667296786,\"yanchor\":\"bottom\",\"yref\":\"paper\"},{\"font\":{\"size\":16},\"showarrow\":false,\"text\":\"220110n_0073.tif\",\"x\":0.775,\"xanchor\":\"center\",\"xref\":\"paper\",\"y\":0.4506143667296786,\"yanchor\":\"bottom\",\"yref\":\"paper\"},{\"font\":{\"size\":16},\"showarrow\":false,\"text\":\"220110n_0077.tif\",\"x\":0.225,\"xanchor\":\"center\",\"xref\":\"paper\",\"y\":0.42863894139886577,\"yanchor\":\"bottom\",\"yref\":\"paper\"},{\"font\":{\"size\":16},\"showarrow\":false,\"text\":\"220110n_0077.tif\",\"x\":0.775,\"xanchor\":\"center\",\"xref\":\"paper\",\"y\":0.42863894139886577,\"yanchor\":\"bottom\",\"yref\":\"paper\"},{\"font\":{\"size\":16},\"showarrow\":false,\"text\":\"220110n_0078.tif\",\"x\":0.225,\"xanchor\":\"center\",\"xref\":\"paper\",\"y\":0.4066635160680529,\"yanchor\":\"bottom\",\"yref\":\"paper\"},{\"font\":{\"size\":16},\"showarrow\":false,\"text\":\"220110n_0078.tif\",\"x\":0.775,\"xanchor\":\"center\",\"xref\":\"paper\",\"y\":0.4066635160680529,\"yanchor\":\"bottom\",\"yref\":\"paper\"},{\"font\":{\"size\":16},\"showarrow\":false,\"text\":\"220110n_0080.tif\",\"x\":0.225,\"xanchor\":\"center\",\"xref\":\"paper\",\"y\":0.38468809073724003,\"yanchor\":\"bottom\",\"yref\":\"paper\"},{\"font\":{\"size\":16},\"showarrow\":false,\"text\":\"220110n_0080.tif\",\"x\":0.775,\"xanchor\":\"center\",\"xref\":\"paper\",\"y\":0.38468809073724003,\"yanchor\":\"bottom\",\"yref\":\"paper\"},{\"font\":{\"size\":16},\"showarrow\":false,\"text\":\"220110n_0082.tif\",\"x\":0.225,\"xanchor\":\"center\",\"xref\":\"paper\",\"y\":0.36271266540642716,\"yanchor\":\"bottom\",\"yref\":\"paper\"},{\"font\":{\"size\":16},\"showarrow\":false,\"text\":\"220110n_0082.tif\",\"x\":0.775,\"xanchor\":\"center\",\"xref\":\"paper\",\"y\":0.36271266540642716,\"yanchor\":\"bottom\",\"yref\":\"paper\"},{\"font\":{\"size\":16},\"showarrow\":false,\"text\":\"220110n_0083.tif\",\"x\":0.225,\"xanchor\":\"center\",\"xref\":\"paper\",\"y\":0.34073724007561434,\"yanchor\":\"bottom\",\"yref\":\"paper\"},{\"font\":{\"size\":16},\"showarrow\":false,\"text\":\"220110n_0083.tif\",\"x\":0.775,\"xanchor\":\"center\",\"xref\":\"paper\",\"y\":0.34073724007561434,\"yanchor\":\"bottom\",\"yref\":\"paper\"},{\"font\":{\"size\":16},\"showarrow\":false,\"text\":\"2.5Hz_ctrl_0005.tif\",\"x\":0.225,\"xanchor\":\"center\",\"xref\":\"paper\",\"y\":0.31876181474480153,\"yanchor\":\"bottom\",\"yref\":\"paper\"},{\"font\":{\"size\":16},\"showarrow\":false,\"text\":\"2.5Hz_ctrl_0005.tif\",\"x\":0.775,\"xanchor\":\"center\",\"xref\":\"paper\",\"y\":0.31876181474480153,\"yanchor\":\"bottom\",\"yref\":\"paper\"},{\"font\":{\"size\":16},\"showarrow\":false,\"text\":\"2.5Hz_ctrl_0009.tif\",\"x\":0.225,\"xanchor\":\"center\",\"xref\":\"paper\",\"y\":0.29678638941398866,\"yanchor\":\"bottom\",\"yref\":\"paper\"},{\"font\":{\"size\":16},\"showarrow\":false,\"text\":\"2.5Hz_ctrl_0009.tif\",\"x\":0.775,\"xanchor\":\"center\",\"xref\":\"paper\",\"y\":0.29678638941398866,\"yanchor\":\"bottom\",\"yref\":\"paper\"},{\"font\":{\"size\":16},\"showarrow\":false,\"text\":\"2.5Hz_ctrl_0012.tif\",\"x\":0.225,\"xanchor\":\"center\",\"xref\":\"paper\",\"y\":0.2748109640831758,\"yanchor\":\"bottom\",\"yref\":\"paper\"},{\"font\":{\"size\":16},\"showarrow\":false,\"text\":\"2.5Hz_ctrl_0012.tif\",\"x\":0.775,\"xanchor\":\"center\",\"xref\":\"paper\",\"y\":0.2748109640831758,\"yanchor\":\"bottom\",\"yref\":\"paper\"},{\"font\":{\"size\":16},\"showarrow\":false,\"text\":\"2.5Hz_ctrl_0017.tif\",\"x\":0.225,\"xanchor\":\"center\",\"xref\":\"paper\",\"y\":0.2528355387523629,\"yanchor\":\"bottom\",\"yref\":\"paper\"},{\"font\":{\"size\":16},\"showarrow\":false,\"text\":\"2.5Hz_ctrl_0017.tif\",\"x\":0.775,\"xanchor\":\"center\",\"xref\":\"paper\",\"y\":0.2528355387523629,\"yanchor\":\"bottom\",\"yref\":\"paper\"},{\"font\":{\"size\":16},\"showarrow\":false,\"text\":\"2.5Hz_ctrl_0028.tif\",\"x\":0.225,\"xanchor\":\"center\",\"xref\":\"paper\",\"y\":0.23086011342155008,\"yanchor\":\"bottom\",\"yref\":\"paper\"},{\"font\":{\"size\":16},\"showarrow\":false,\"text\":\"2.5Hz_ctrl_0028.tif\",\"x\":0.775,\"xanchor\":\"center\",\"xref\":\"paper\",\"y\":0.23086011342155008,\"yanchor\":\"bottom\",\"yref\":\"paper\"},{\"font\":{\"size\":16},\"showarrow\":false,\"text\":\"2.5Hz_thapsi_0024.tif\",\"x\":0.225,\"xanchor\":\"center\",\"xref\":\"paper\",\"y\":0.2088846880907372,\"yanchor\":\"bottom\",\"yref\":\"paper\"},{\"font\":{\"size\":16},\"showarrow\":false,\"text\":\"2.5Hz_thapsi_0024.tif\",\"x\":0.775,\"xanchor\":\"center\",\"xref\":\"paper\",\"y\":0.2088846880907372,\"yanchor\":\"bottom\",\"yref\":\"paper\"},{\"font\":{\"size\":16},\"showarrow\":false,\"text\":\"cell.tif\",\"x\":0.225,\"xanchor\":\"center\",\"xref\":\"paper\",\"y\":0.18690926275992437,\"yanchor\":\"bottom\",\"yref\":\"paper\"},{\"font\":{\"size\":16},\"showarrow\":false,\"text\":\"cell.tif\",\"x\":0.775,\"xanchor\":\"center\",\"xref\":\"paper\",\"y\":0.18690926275992437,\"yanchor\":\"bottom\",\"yref\":\"paper\"},{\"font\":{\"size\":16},\"showarrow\":false,\"text\":\"control 2.5_0012.tif\",\"x\":0.225,\"xanchor\":\"center\",\"xref\":\"paper\",\"y\":0.16493383742911152,\"yanchor\":\"bottom\",\"yref\":\"paper\"},{\"font\":{\"size\":16},\"showarrow\":false,\"text\":\"control 2.5_0012.tif\",\"x\":0.775,\"xanchor\":\"center\",\"xref\":\"paper\",\"y\":0.16493383742911152,\"yanchor\":\"bottom\",\"yref\":\"paper\"},{\"font\":{\"size\":16},\"showarrow\":false,\"text\":\"control 2.5_0013.tif\",\"x\":0.225,\"xanchor\":\"center\",\"xref\":\"paper\",\"y\":0.14295841209829865,\"yanchor\":\"bottom\",\"yref\":\"paper\"},{\"font\":{\"size\":16},\"showarrow\":false,\"text\":\"control 2.5_0013.tif\",\"x\":0.775,\"xanchor\":\"center\",\"xref\":\"paper\",\"y\":0.14295841209829865,\"yanchor\":\"bottom\",\"yref\":\"paper\"},{\"font\":{\"size\":16},\"showarrow\":false,\"text\":\"control 2.5_0014.tif\",\"x\":0.225,\"xanchor\":\"center\",\"xref\":\"paper\",\"y\":0.12098298676748581,\"yanchor\":\"bottom\",\"yref\":\"paper\"},{\"font\":{\"size\":16},\"showarrow\":false,\"text\":\"control 2.5_0014.tif\",\"x\":0.775,\"xanchor\":\"center\",\"xref\":\"paper\",\"y\":0.12098298676748581,\"yanchor\":\"bottom\",\"yref\":\"paper\"},{\"font\":{\"size\":16},\"showarrow\":false,\"text\":\"control 2.5_0022.tif\",\"x\":0.225,\"xanchor\":\"center\",\"xref\":\"paper\",\"y\":0.09900756143667297,\"yanchor\":\"bottom\",\"yref\":\"paper\"},{\"font\":{\"size\":16},\"showarrow\":false,\"text\":\"control 2.5_0022.tif\",\"x\":0.775,\"xanchor\":\"center\",\"xref\":\"paper\",\"y\":0.09900756143667297,\"yanchor\":\"bottom\",\"yref\":\"paper\"},{\"font\":{\"size\":16},\"showarrow\":false,\"text\":\"thapsi 2.5_0008.tif\",\"x\":0.225,\"xanchor\":\"center\",\"xref\":\"paper\",\"y\":0.0770321361058601,\"yanchor\":\"bottom\",\"yref\":\"paper\"},{\"font\":{\"size\":16},\"showarrow\":false,\"text\":\"thapsi 2.5_0008.tif\",\"x\":0.775,\"xanchor\":\"center\",\"xref\":\"paper\",\"y\":0.0770321361058601,\"yanchor\":\"bottom\",\"yref\":\"paper\"},{\"font\":{\"size\":16},\"showarrow\":false,\"text\":\"thapsi 2.5_0017.tif\",\"x\":0.225,\"xanchor\":\"center\",\"xref\":\"paper\",\"y\":0.055056710775047264,\"yanchor\":\"bottom\",\"yref\":\"paper\"},{\"font\":{\"size\":16},\"showarrow\":false,\"text\":\"thapsi 2.5_0017.tif\",\"x\":0.775,\"xanchor\":\"center\",\"xref\":\"paper\",\"y\":0.055056710775047264,\"yanchor\":\"bottom\",\"yref\":\"paper\"},{\"font\":{\"size\":16},\"showarrow\":false,\"text\":\"thapsi 2.5_0033.tif\",\"x\":0.225,\"xanchor\":\"center\",\"xref\":\"paper\",\"y\":0.03308128544423441,\"yanchor\":\"bottom\",\"yref\":\"paper\"},{\"font\":{\"size\":16},\"showarrow\":false,\"text\":\"thapsi 2.5_0033.tif\",\"x\":0.775,\"xanchor\":\"center\",\"xref\":\"paper\",\"y\":0.03308128544423441,\"yanchor\":\"bottom\",\"yref\":\"paper\"},{\"font\":{\"size\":16},\"showarrow\":false,\"text\":\"thapsi 2.5_0047.tif\",\"x\":0.225,\"xanchor\":\"center\",\"xref\":\"paper\",\"y\":0.01110586011342155,\"yanchor\":\"bottom\",\"yref\":\"paper\"},{\"font\":{\"size\":16},\"showarrow\":false,\"text\":\"thapsi 2.5_0047.tif\",\"x\":0.775,\"xanchor\":\"center\",\"xref\":\"paper\",\"y\":0.01110586011342155,\"yanchor\":\"bottom\",\"yref\":\"paper\"}],\"title\":{\"text\":\"Subplot for Each File's peakVal and peakHeight\"},\"height\":7500,\"width\":1000,\"showlegend\":false,\"colorway\":[\"rgb(229, 134, 6)\",\"rgb(93, 105, 177)\",\"rgb(82, 188, 163)\",\"rgb(153, 201, 69)\",\"rgb(204, 97, 176)\",\"rgb(36, 121, 108)\",\"rgb(218, 165, 27)\",\"rgb(47, 138, 196)\",\"rgb(118, 78, 159)\",\"rgb(237, 100, 90)\",\"rgb(165, 170, 153)\"]},                        {\"responsive\": true}                    ).then(function(){\n",
       "                            \n",
       "var gd = document.getElementById('56ccb1f1-375f-48ec-a714-3f84fa5252b8');\n",
       "var x = new MutationObserver(function (mutations, observer) {{\n",
       "        var display = window.getComputedStyle(gd).display;\n",
       "        if (!display || display === 'none') {{\n",
       "            console.log([gd, 'removed!']);\n",
       "            Plotly.purge(gd);\n",
       "            observer.disconnect();\n",
       "        }}\n",
       "}});\n",
       "\n",
       "// Listen for the removal of the full notebook cells\n",
       "var notebookContainer = gd.closest('#notebook-container');\n",
       "if (notebookContainer) {{\n",
       "    x.observe(notebookContainer, {childList: true});\n",
       "}}\n",
       "\n",
       "// Listen for the clearing of the current output cell\n",
       "var outputEl = gd.closest('.output');\n",
       "if (outputEl) {{\n",
       "    x.observe(outputEl, {childList: true});\n",
       "}}\n",
       "\n",
       "                        })                };                });            </script>        </div>"
      ]
     },
     "metadata": {},
     "output_type": "display_data"
    },
    {
     "data": {
      "application/javascript": [
       "\n",
       "            setTimeout(function() {\n",
       "                var nbb_cell_id = 93;\n",
       "                var nbb_unformatted_code = \"# doubled filenames https://www.pythonforbeginners.com/lists/repeat-each-element-in-a-list-in-python\\ndoublefile = [file for file in filenames for i in range(2)]\\n\\nfig2 = make_subplots(\\n    rows=len(filenames), cols=2, subplot_titles=doublefile\\n)  # Two columns creates staggering problems with plot\\n\\nfor index, file in enumerate(dfMaster.file.unique()):\\n    dfFile = dfMaster.loc[dfMaster[\\\"file\\\"] == file]\\n\\n    # We split the subplot into two columns, deciding which column based on odd or even index\\n    fig2.append_trace(\\n        go.Scatter(\\n            x=dfFile[\\\"thresholdSec\\\"],\\n            y=dfFile[\\\"peakVal\\\"],\\n            name=dfFile.condition.unique()[0],\\n        ),\\n        row=index + 1,\\n        col=1,\\n    )\\n    fig2.append_trace(\\n        go.Scatter(\\n            x=dfFile[\\\"thresholdSec\\\"],\\n            y=dfFile[\\\"peakHeight\\\"],\\n            name=dfFile.condition.unique()[0],\\n        ),\\n        row=index + 1,\\n        col=2,\\n    )\\n    fig2.update_xaxes(title_text=\\\"thresholdSec\\\", row=index + 1, col=1)\\n    fig2.update_xaxes(title_text=\\\"thresholdSec\\\", row=index + 1, col=2)\\n    fig2.update_yaxes(title_text=\\\"peakVal\\\", row=index + 1, col=1)\\n    fig2.update_yaxes(title_text=\\\"peakHeight\\\", row=index + 1, col=2)\\n\\nfig2.update_layout(\\n    height=7500,\\n    width=1000,\\n    showlegend=False,\\n    colorway=px.colors.qualitative.Vivid,\\n    title_text=\\\"Subplot for Each File's peakVal and peakHeight\\\",\\n)\\n\\nfig2.show()\";\n",
       "                var nbb_formatted_code = \"# doubled filenames https://www.pythonforbeginners.com/lists/repeat-each-element-in-a-list-in-python\\ndoublefile = [file for file in filenames for i in range(2)]\\n\\nfig2 = make_subplots(\\n    rows=len(filenames), cols=2, subplot_titles=doublefile\\n)  # Two columns creates staggering problems with plot\\n\\nfor index, file in enumerate(dfMaster.file.unique()):\\n    dfFile = dfMaster.loc[dfMaster[\\\"file\\\"] == file]\\n\\n    # We split the subplot into two columns, deciding which column based on odd or even index\\n    fig2.append_trace(\\n        go.Scatter(\\n            x=dfFile[\\\"thresholdSec\\\"],\\n            y=dfFile[\\\"peakVal\\\"],\\n            name=dfFile.condition.unique()[0],\\n        ),\\n        row=index + 1,\\n        col=1,\\n    )\\n    fig2.append_trace(\\n        go.Scatter(\\n            x=dfFile[\\\"thresholdSec\\\"],\\n            y=dfFile[\\\"peakHeight\\\"],\\n            name=dfFile.condition.unique()[0],\\n        ),\\n        row=index + 1,\\n        col=2,\\n    )\\n    fig2.update_xaxes(title_text=\\\"thresholdSec\\\", row=index + 1, col=1)\\n    fig2.update_xaxes(title_text=\\\"thresholdSec\\\", row=index + 1, col=2)\\n    fig2.update_yaxes(title_text=\\\"peakVal\\\", row=index + 1, col=1)\\n    fig2.update_yaxes(title_text=\\\"peakHeight\\\", row=index + 1, col=2)\\n\\nfig2.update_layout(\\n    height=7500,\\n    width=1000,\\n    showlegend=False,\\n    colorway=px.colors.qualitative.Vivid,\\n    title_text=\\\"Subplot for Each File's peakVal and peakHeight\\\",\\n)\\n\\nfig2.show()\";\n",
       "                var nbb_cells = Jupyter.notebook.get_cells();\n",
       "                for (var i = 0; i < nbb_cells.length; ++i) {\n",
       "                    if (nbb_cells[i].input_prompt_number == nbb_cell_id) {\n",
       "                        if (nbb_cells[i].get_text() == nbb_unformatted_code) {\n",
       "                             nbb_cells[i].set_text(nbb_formatted_code);\n",
       "                        }\n",
       "                        break;\n",
       "                    }\n",
       "                }\n",
       "            }, 500);\n",
       "            "
      ],
      "text/plain": [
       "<IPython.core.display.Javascript object>"
      ]
     },
     "metadata": {},
     "output_type": "display_data"
    }
   ],
   "source": [
    "# doubled filenames https://www.pythonforbeginners.com/lists/repeat-each-element-in-a-list-in-python\n",
    "doublefile = [file for file in filenames for i in range(2)]\n",
    "\n",
    "fig2 = make_subplots(\n",
    "    rows=len(filenames), cols=2, subplot_titles=doublefile\n",
    ")  # Two columns creates staggering problems with plot\n",
    "\n",
    "for index, file in enumerate(dfMaster.file.unique()):\n",
    "    dfFile = dfMaster.loc[dfMaster[\"file\"] == file]\n",
    "\n",
    "    # We split the subplot into two columns, deciding which column based on odd or even index\n",
    "    fig2.append_trace(\n",
    "        go.Scatter(\n",
    "            x=dfFile[\"thresholdSec\"],\n",
    "            y=dfFile[\"peakVal\"],\n",
    "            name=dfFile.condition.unique()[0],\n",
    "        ),\n",
    "        row=index + 1,\n",
    "        col=1,\n",
    "    )\n",
    "    fig2.append_trace(\n",
    "        go.Scatter(\n",
    "            x=dfFile[\"thresholdSec\"],\n",
    "            y=dfFile[\"peakHeight\"],\n",
    "            name=dfFile.condition.unique()[0],\n",
    "        ),\n",
    "        row=index + 1,\n",
    "        col=2,\n",
    "    )\n",
    "    fig2.update_xaxes(title_text=\"thresholdSec\", row=index + 1, col=1)\n",
    "    fig2.update_xaxes(title_text=\"thresholdSec\", row=index + 1, col=2)\n",
    "    fig2.update_yaxes(title_text=\"peakVal\", row=index + 1, col=1)\n",
    "    fig2.update_yaxes(title_text=\"peakHeight\", row=index + 1, col=2)\n",
    "\n",
    "fig2.update_layout(\n",
    "    height=7500,\n",
    "    width=1000,\n",
    "    showlegend=False,\n",
    "    colorway=px.colors.qualitative.Vivid,\n",
    "    title_text=\"Subplot for Each File's peakVal and peakHeight\",\n",
    ")\n",
    "\n",
    "fig2.show()"
   ]
  },
  {
   "cell_type": "markdown",
   "id": "de36866f",
   "metadata": {},
   "source": [
    "## References\n",
    "\n",
    "Minimum Sample Size for KDE:\n",
    "https://stats.stackexchange.com/questions/76948/what-is-the-minimum-number-of-data-points-required-for-kernel-density-estimation\n",
    "\n",
    "General Intro to sklearn's density estimation:\n",
    "https://scikit-learn.org/stable/modules/density.html\n",
    "\n",
    "KernelDensity():\n",
    "https://scikit-learn.org/stable/modules/generated/sklearn.neighbors.KernelDensity.html#sklearn.neighbors.KernelDensity\n",
    "\n",
    "Worked through Example:\n",
    "https://stackabuse.com/kernel-density-estimation-in-python-using-scikit-learn/\n",
    "\n",
    "Density Curve Plotting for Plotly:\n",
    "https://stackoverflow.com/questions/63865209/plotly-how-to-show-both-a-normal-distribution-and-a-kernel-density-estimation-i\n",
    "\n",
    "Scipy.stats.shapiro\n",
    "https://docs.scipy.org/doc/scipy/reference/generated/scipy.stats.shapiro.html\n",
    "\n",
    "Scipy.stats.kstest\n",
    "https://docs.scipy.org/doc/scipy/reference/generated/scipy.stats.kstest.html\n",
    "\n",
    "Testing for Normality with Small N \n",
    "https://stats.stackexchange.com/questions/13983/is-it-meaningful-to-test-for-normality-with-a-very-small-sample-size-e-g-n\n",
    "\n",
    "Finding Correlation of One variable with all others\n",
    "https://datascience.stackexchange.com/questions/39137/how-can-i-check-the-correlation-between-features-and-target-variable\n",
    "\n",
    "\n",
    "Fano Factor\n",
    "http://math.bu.edu/people/mak/Eden_Kramer_J_Comp_Neuro_2010.pdf"
   ]
  }
 ],
 "metadata": {
  "kernelspec": {
   "display_name": "Python 3 (ipykernel)",
   "language": "python",
   "name": "python3"
  },
  "language_info": {
   "codemirror_mode": {
    "name": "ipython",
    "version": 3
   },
   "file_extension": ".py",
   "mimetype": "text/x-python",
   "name": "python",
   "nbconvert_exporter": "python",
   "pygments_lexer": "ipython3",
   "version": "3.8.8"
  }
 },
 "nbformat": 4,
 "nbformat_minor": 5
}
