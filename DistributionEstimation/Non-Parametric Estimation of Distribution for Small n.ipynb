{
 "cells": [
  {
   "cell_type": "markdown",
   "id": "e4de31c0",
   "metadata": {},
   "source": [
    "# Distribution Estimation"
   ]
  },
  {
   "cell_type": "markdown",
   "id": "c9a082c3",
   "metadata": {},
   "source": [
    "In this notebook, we take a step back from the procedures done in the \"Non-Parametric Distribution Comparisons\" notebook. Instead of looking at the mean and variance of the data, we aim to look at the data as a whole for each file and can we estimate how it is distributed, given each files sample size. \n",
    "\n",
    "Some specific questions I aim to answer in this notebook: <br>\n",
    "    - Is the mean and variance from \"peakVal\" variable meaningful?<br>\n",
    "    - Are the mean and variance a valid measure? <br>\n",
    "    - Can we visualize with histograms, the \"peakVal\" data? <br>\n",
    "    - How do other columns contribute to the variance in our data? <br>\n",
    "    - Is our data approximately normal? Uniform? Something different? <br>\n",
    "    - How can we compare the distributions of the Control group versus Thapsigargin? <br>\n",
    "    - Bonus: Does the sex of the mice examined have any influence on the data (if valid)? <br>"
   ]
  },
  {
   "cell_type": "code",
   "execution_count": null,
   "id": "7bc5a9f5",
   "metadata": {},
   "outputs": [],
   "source": [
    "# Auto formatting for Python to PEP8\n",
    "%load_ext nb_black"
   ]
  },
  {
   "cell_type": "code",
   "execution_count": 17,
   "id": "099dec37",
   "metadata": {},
   "outputs": [],
   "source": [
    "import numpy as np\n",
    "from numpy.random import default_rng\n",
    "import pandas as pd\n",
    "import scipy.stats as sp\n",
    "import plotly.express as px\n",
    "import plotly.graph_objects as go \n",
    "from plotly.subplots import make_subplots\n",
    "from IPython.display import display\n",
    "import seaborn as sns"
   ]
  },
  {
   "cell_type": "code",
   "execution_count": 14,
   "id": "70ef41c5",
   "metadata": {},
   "outputs": [
    {
     "data": {
      "text/html": [
       "<div>\n",
       "<style scoped>\n",
       "    .dataframe tbody tr th:only-of-type {\n",
       "        vertical-align: middle;\n",
       "    }\n",
       "\n",
       "    .dataframe tbody tr th {\n",
       "        vertical-align: top;\n",
       "    }\n",
       "\n",
       "    .dataframe thead th {\n",
       "        text-align: right;\n",
       "    }\n",
       "</style>\n",
       "<table border=\"1\" class=\"dataframe\">\n",
       "  <thead>\n",
       "    <tr style=\"text-align: right;\">\n",
       "      <th></th>\n",
       "      <th>analysisVersion</th>\n",
       "      <th>interfaceVersion</th>\n",
       "      <th>file</th>\n",
       "      <th>detectionType</th>\n",
       "      <th>cellType</th>\n",
       "      <th>sex</th>\n",
       "      <th>condition</th>\n",
       "      <th>sweep</th>\n",
       "      <th>sweepSpikeNumber</th>\n",
       "      <th>spikeNumber</th>\n",
       "      <th>...</th>\n",
       "      <th>diastolicDuration_ms</th>\n",
       "      <th>widths</th>\n",
       "      <th>widths_10</th>\n",
       "      <th>widths_20</th>\n",
       "      <th>widths_50</th>\n",
       "      <th>widths_80</th>\n",
       "      <th>widths_90</th>\n",
       "      <th>myDateStr</th>\n",
       "      <th>fileIdx</th>\n",
       "      <th>myFileIdx</th>\n",
       "    </tr>\n",
       "  </thead>\n",
       "  <tbody>\n",
       "    <tr>\n",
       "      <th>0</th>\n",
       "      <td>20210803a</td>\n",
       "      <td>20210803a</td>\n",
       "      <td>220110n_0003.tif</td>\n",
       "      <td>mv</td>\n",
       "      <td>NaN</td>\n",
       "      <td>NaN</td>\n",
       "      <td>Control</td>\n",
       "      <td>0</td>\n",
       "      <td>0</td>\n",
       "      <td>0</td>\n",
       "      <td>...</td>\n",
       "      <td>23.5704</td>\n",
       "      <td>[{'halfHeight': 10, 'risingPnt': 96, 'fallingP...</td>\n",
       "      <td>769.9664</td>\n",
       "      <td>742.4676</td>\n",
       "      <td>557.8328</td>\n",
       "      <td>396.7684</td>\n",
       "      <td>302.4868</td>\n",
       "      <td>jan-12-2022</td>\n",
       "      <td>0</td>\n",
       "      <td>0</td>\n",
       "    </tr>\n",
       "    <tr>\n",
       "      <th>1</th>\n",
       "      <td>20210803a</td>\n",
       "      <td>20210803a</td>\n",
       "      <td>220110n_0003.tif</td>\n",
       "      <td>mv</td>\n",
       "      <td>NaN</td>\n",
       "      <td>NaN</td>\n",
       "      <td>Control</td>\n",
       "      <td>0</td>\n",
       "      <td>1</td>\n",
       "      <td>1</td>\n",
       "      <td>...</td>\n",
       "      <td>3.9284</td>\n",
       "      <td>[{'halfHeight': 10, 'risingPnt': 347, 'falling...</td>\n",
       "      <td>785.6800</td>\n",
       "      <td>754.2528</td>\n",
       "      <td>589.2600</td>\n",
       "      <td>428.1956</td>\n",
       "      <td>345.6992</td>\n",
       "      <td>jan-12-2022</td>\n",
       "      <td>0</td>\n",
       "      <td>0</td>\n",
       "    </tr>\n",
       "    <tr>\n",
       "      <th>2</th>\n",
       "      <td>20210803a</td>\n",
       "      <td>20210803a</td>\n",
       "      <td>220110n_0003.tif</td>\n",
       "      <td>mv</td>\n",
       "      <td>NaN</td>\n",
       "      <td>NaN</td>\n",
       "      <td>Control</td>\n",
       "      <td>0</td>\n",
       "      <td>2</td>\n",
       "      <td>2</td>\n",
       "      <td>...</td>\n",
       "      <td>3.9284</td>\n",
       "      <td>[{'halfHeight': 10, 'risingPnt': 598, 'falling...</td>\n",
       "      <td>809.2504</td>\n",
       "      <td>754.2528</td>\n",
       "      <td>581.4032</td>\n",
       "      <td>408.5536</td>\n",
       "      <td>282.8448</td>\n",
       "      <td>jan-12-2022</td>\n",
       "      <td>0</td>\n",
       "      <td>0</td>\n",
       "    </tr>\n",
       "    <tr>\n",
       "      <th>3</th>\n",
       "      <td>20210803a</td>\n",
       "      <td>20210803a</td>\n",
       "      <td>220110n_0003.tif</td>\n",
       "      <td>mv</td>\n",
       "      <td>NaN</td>\n",
       "      <td>NaN</td>\n",
       "      <td>Control</td>\n",
       "      <td>0</td>\n",
       "      <td>3</td>\n",
       "      <td>3</td>\n",
       "      <td>...</td>\n",
       "      <td>19.6420</td>\n",
       "      <td>[{'halfHeight': 10, 'risingPnt': 849, 'falling...</td>\n",
       "      <td>895.6752</td>\n",
       "      <td>726.7540</td>\n",
       "      <td>581.4032</td>\n",
       "      <td>396.7684</td>\n",
       "      <td>259.2744</td>\n",
       "      <td>jan-12-2022</td>\n",
       "      <td>0</td>\n",
       "      <td>0</td>\n",
       "    </tr>\n",
       "    <tr>\n",
       "      <th>4</th>\n",
       "      <td>20210803a</td>\n",
       "      <td>20210803a</td>\n",
       "      <td>220110n_0003.tif</td>\n",
       "      <td>mv</td>\n",
       "      <td>NaN</td>\n",
       "      <td>NaN</td>\n",
       "      <td>Control</td>\n",
       "      <td>0</td>\n",
       "      <td>4</td>\n",
       "      <td>4</td>\n",
       "      <td>...</td>\n",
       "      <td>3.9284</td>\n",
       "      <td>[{'halfHeight': 10, 'risingPnt': 1100, 'fallin...</td>\n",
       "      <td>813.1788</td>\n",
       "      <td>714.9688</td>\n",
       "      <td>601.0452</td>\n",
       "      <td>381.0548</td>\n",
       "      <td>243.5608</td>\n",
       "      <td>jan-12-2022</td>\n",
       "      <td>0</td>\n",
       "      <td>0</td>\n",
       "    </tr>\n",
       "    <tr>\n",
       "      <th>...</th>\n",
       "      <td>...</td>\n",
       "      <td>...</td>\n",
       "      <td>...</td>\n",
       "      <td>...</td>\n",
       "      <td>...</td>\n",
       "      <td>...</td>\n",
       "      <td>...</td>\n",
       "      <td>...</td>\n",
       "      <td>...</td>\n",
       "      <td>...</td>\n",
       "      <td>...</td>\n",
       "      <td>...</td>\n",
       "      <td>...</td>\n",
       "      <td>...</td>\n",
       "      <td>...</td>\n",
       "      <td>...</td>\n",
       "      <td>...</td>\n",
       "      <td>...</td>\n",
       "      <td>...</td>\n",
       "      <td>...</td>\n",
       "      <td>...</td>\n",
       "    </tr>\n",
       "    <tr>\n",
       "      <th>395</th>\n",
       "      <td>20210803a</td>\n",
       "      <td>20210803a</td>\n",
       "      <td>thapsi 2.5_0047.tif</td>\n",
       "      <td>mv</td>\n",
       "      <td>NaN</td>\n",
       "      <td>NaN</td>\n",
       "      <td>TG</td>\n",
       "      <td>0</td>\n",
       "      <td>0</td>\n",
       "      <td>0</td>\n",
       "      <td>...</td>\n",
       "      <td>51.5350</td>\n",
       "      <td>[{'halfHeight': 10, 'risingPnt': 169, 'falling...</td>\n",
       "      <td>688.6950</td>\n",
       "      <td>627.7900</td>\n",
       "      <td>505.9800</td>\n",
       "      <td>187.4000</td>\n",
       "      <td>182.7150</td>\n",
       "      <td>feb-15-2022</td>\n",
       "      <td>8</td>\n",
       "      <td>2</td>\n",
       "    </tr>\n",
       "    <tr>\n",
       "      <th>396</th>\n",
       "      <td>20210803a</td>\n",
       "      <td>20210803a</td>\n",
       "      <td>thapsi 2.5_0047.tif</td>\n",
       "      <td>mv</td>\n",
       "      <td>NaN</td>\n",
       "      <td>NaN</td>\n",
       "      <td>TG</td>\n",
       "      <td>0</td>\n",
       "      <td>1</td>\n",
       "      <td>1</td>\n",
       "      <td>...</td>\n",
       "      <td>18.7400</td>\n",
       "      <td>[{'halfHeight': 10, 'risingPnt': 346, 'falling...</td>\n",
       "      <td>773.0250</td>\n",
       "      <td>726.1750</td>\n",
       "      <td>580.9400</td>\n",
       "      <td>281.1000</td>\n",
       "      <td>79.6450</td>\n",
       "      <td>feb-15-2022</td>\n",
       "      <td>8</td>\n",
       "      <td>2</td>\n",
       "    </tr>\n",
       "    <tr>\n",
       "      <th>397</th>\n",
       "      <td>20210803a</td>\n",
       "      <td>20210803a</td>\n",
       "      <td>thapsi 2.5_0047.tif</td>\n",
       "      <td>mv</td>\n",
       "      <td>NaN</td>\n",
       "      <td>NaN</td>\n",
       "      <td>TG</td>\n",
       "      <td>0</td>\n",
       "      <td>2</td>\n",
       "      <td>2</td>\n",
       "      <td>...</td>\n",
       "      <td>79.6450</td>\n",
       "      <td>[{'halfHeight': 10, 'risingPnt': 541, 'falling...</td>\n",
       "      <td>754.2850</td>\n",
       "      <td>716.8050</td>\n",
       "      <td>557.5150</td>\n",
       "      <td>248.3050</td>\n",
       "      <td>182.7150</td>\n",
       "      <td>feb-15-2022</td>\n",
       "      <td>8</td>\n",
       "      <td>2</td>\n",
       "    </tr>\n",
       "    <tr>\n",
       "      <th>398</th>\n",
       "      <td>20210803a</td>\n",
       "      <td>20210803a</td>\n",
       "      <td>thapsi 2.5_0047.tif</td>\n",
       "      <td>mv</td>\n",
       "      <td>NaN</td>\n",
       "      <td>NaN</td>\n",
       "      <td>TG</td>\n",
       "      <td>0</td>\n",
       "      <td>3</td>\n",
       "      <td>3</td>\n",
       "      <td>...</td>\n",
       "      <td>28.1100</td>\n",
       "      <td>[{'halfHeight': 10, 'risingPnt': 720, 'falling...</td>\n",
       "      <td>482.5550</td>\n",
       "      <td>454.4450</td>\n",
       "      <td>351.3750</td>\n",
       "      <td>154.6050</td>\n",
       "      <td>84.3300</td>\n",
       "      <td>feb-15-2022</td>\n",
       "      <td>8</td>\n",
       "      <td>2</td>\n",
       "    </tr>\n",
       "    <tr>\n",
       "      <th>399</th>\n",
       "      <td>20210803a</td>\n",
       "      <td>20210803a</td>\n",
       "      <td>thapsi 2.5_0047.tif</td>\n",
       "      <td>mv</td>\n",
       "      <td>NaN</td>\n",
       "      <td>NaN</td>\n",
       "      <td>TG</td>\n",
       "      <td>0</td>\n",
       "      <td>4</td>\n",
       "      <td>4</td>\n",
       "      <td>...</td>\n",
       "      <td>28.1100</td>\n",
       "      <td>[{'halfHeight': 10, 'risingPnt': 843, 'falling...</td>\n",
       "      <td>571.5700</td>\n",
       "      <td>562.2000</td>\n",
       "      <td>487.2400</td>\n",
       "      <td>337.3200</td>\n",
       "      <td>229.5650</td>\n",
       "      <td>feb-15-2022</td>\n",
       "      <td>8</td>\n",
       "      <td>2</td>\n",
       "    </tr>\n",
       "  </tbody>\n",
       "</table>\n",
       "<p>400 rows × 57 columns</p>\n",
       "</div>"
      ],
      "text/plain": [
       "    analysisVersion interfaceVersion                 file detectionType  \\\n",
       "0         20210803a        20210803a     220110n_0003.tif            mv   \n",
       "1         20210803a        20210803a     220110n_0003.tif            mv   \n",
       "2         20210803a        20210803a     220110n_0003.tif            mv   \n",
       "3         20210803a        20210803a     220110n_0003.tif            mv   \n",
       "4         20210803a        20210803a     220110n_0003.tif            mv   \n",
       "..              ...              ...                  ...           ...   \n",
       "395       20210803a        20210803a  thapsi 2.5_0047.tif            mv   \n",
       "396       20210803a        20210803a  thapsi 2.5_0047.tif            mv   \n",
       "397       20210803a        20210803a  thapsi 2.5_0047.tif            mv   \n",
       "398       20210803a        20210803a  thapsi 2.5_0047.tif            mv   \n",
       "399       20210803a        20210803a  thapsi 2.5_0047.tif            mv   \n",
       "\n",
       "     cellType  sex condition  sweep  sweepSpikeNumber  spikeNumber  ...  \\\n",
       "0         NaN  NaN   Control      0                 0            0  ...   \n",
       "1         NaN  NaN   Control      0                 1            1  ...   \n",
       "2         NaN  NaN   Control      0                 2            2  ...   \n",
       "3         NaN  NaN   Control      0                 3            3  ...   \n",
       "4         NaN  NaN   Control      0                 4            4  ...   \n",
       "..        ...  ...       ...    ...               ...          ...  ...   \n",
       "395       NaN  NaN        TG      0                 0            0  ...   \n",
       "396       NaN  NaN        TG      0                 1            1  ...   \n",
       "397       NaN  NaN        TG      0                 2            2  ...   \n",
       "398       NaN  NaN        TG      0                 3            3  ...   \n",
       "399       NaN  NaN        TG      0                 4            4  ...   \n",
       "\n",
       "     diastolicDuration_ms                                             widths  \\\n",
       "0                 23.5704  [{'halfHeight': 10, 'risingPnt': 96, 'fallingP...   \n",
       "1                  3.9284  [{'halfHeight': 10, 'risingPnt': 347, 'falling...   \n",
       "2                  3.9284  [{'halfHeight': 10, 'risingPnt': 598, 'falling...   \n",
       "3                 19.6420  [{'halfHeight': 10, 'risingPnt': 849, 'falling...   \n",
       "4                  3.9284  [{'halfHeight': 10, 'risingPnt': 1100, 'fallin...   \n",
       "..                    ...                                                ...   \n",
       "395               51.5350  [{'halfHeight': 10, 'risingPnt': 169, 'falling...   \n",
       "396               18.7400  [{'halfHeight': 10, 'risingPnt': 346, 'falling...   \n",
       "397               79.6450  [{'halfHeight': 10, 'risingPnt': 541, 'falling...   \n",
       "398               28.1100  [{'halfHeight': 10, 'risingPnt': 720, 'falling...   \n",
       "399               28.1100  [{'halfHeight': 10, 'risingPnt': 843, 'falling...   \n",
       "\n",
       "    widths_10  widths_20  widths_50  widths_80 widths_90    myDateStr  \\\n",
       "0    769.9664   742.4676   557.8328   396.7684  302.4868  jan-12-2022   \n",
       "1    785.6800   754.2528   589.2600   428.1956  345.6992  jan-12-2022   \n",
       "2    809.2504   754.2528   581.4032   408.5536  282.8448  jan-12-2022   \n",
       "3    895.6752   726.7540   581.4032   396.7684  259.2744  jan-12-2022   \n",
       "4    813.1788   714.9688   601.0452   381.0548  243.5608  jan-12-2022   \n",
       "..        ...        ...        ...        ...       ...          ...   \n",
       "395  688.6950   627.7900   505.9800   187.4000  182.7150  feb-15-2022   \n",
       "396  773.0250   726.1750   580.9400   281.1000   79.6450  feb-15-2022   \n",
       "397  754.2850   716.8050   557.5150   248.3050  182.7150  feb-15-2022   \n",
       "398  482.5550   454.4450   351.3750   154.6050   84.3300  feb-15-2022   \n",
       "399  571.5700   562.2000   487.2400   337.3200  229.5650  feb-15-2022   \n",
       "\n",
       "     fileIdx  myFileIdx  \n",
       "0          0          0  \n",
       "1          0          0  \n",
       "2          0          0  \n",
       "3          0          0  \n",
       "4          0          0  \n",
       "..       ...        ...  \n",
       "395        8          2  \n",
       "396        8          2  \n",
       "397        8          2  \n",
       "398        8          2  \n",
       "399        8          2  \n",
       "\n",
       "[400 rows x 57 columns]"
      ]
     },
     "metadata": {},
     "output_type": "display_data"
    }
   ],
   "source": [
    "# we can add to this as we get more data\n",
    "pathList = []\n",
    "\n",
    "# I changed this to urls so that it would be accesable from any device\n",
    "# pathList.append(\"dataGianni/masterDb-jan-12-2022.csv\")\n",
    "# pathList.append(\"dataGianni/masterDb-jan-18-2022.csv\")\n",
    "# pathList.append(\"dataGianni/masterDb-feb-15-2022.csv\")\n",
    "pathList.append(\n",
    "    \"https://raw.githubusercontent.com/gspiga/Cudmore/main/VarAnalysis/gianni_var_analysis/dataGianni/masterDb-jan-12-2022.csv\"\n",
    ")\n",
    "pathList.append(\n",
    "    \"https://raw.githubusercontent.com/gspiga/Cudmore/main/VarAnalysis/gianni_var_analysis/dataGianni/masterDb-jan-18-2022.csv\"\n",
    ")\n",
    "pathList.append(\n",
    "    \"https://raw.githubusercontent.com/gspiga/Cudmore/main/VarAnalysis/gianni_var_analysis/dataGianni/masterDb-feb-15-2022.csv\"\n",
    ")\n",
    "\n",
    "\n",
    "# make a list of dataframe (from csv files)\n",
    "dfList = []\n",
    "for fileIdx, path in enumerate(pathList):\n",
    "    dfPath = pd.read_csv(path)\n",
    "    dfPath[\"myFileIdx\"] = fileIdx  # add for our book keeping if necc\n",
    "    dfList.append(dfPath)\n",
    "\n",
    "# make a single dataframe from all files in list\n",
    "dfMaster = pd.concat(dfList, ignore_index=True)\n",
    "dfMaster = dfMaster.drop(\"Unnamed: 0\", axis = 1)\n",
    "display(dfMaster)"
   ]
  },
  {
   "cell_type": "code",
   "execution_count": 62,
   "id": "fa1dd48d",
   "metadata": {
    "scrolled": false
   },
   "outputs": [
    {
     "data": {
      "application/vnd.plotly.v1+json": {
       "config": {
        "plotlyServerURL": "https://plot.ly"
       },
       "data": [
        {
         "type": "histogram",
         "x": [
          1.999562633941876,
          1.964671277657666,
          1.9676997241920893,
          2.003727901068696,
          1.9759306742864704,
          1.966263204954133,
          1.9448185486732352,
          1.9256581779646973,
          1.9125944393719327,
          1.91523637636662
         ],
         "xaxis": "x",
         "yaxis": "y"
        },
        {
         "type": "histogram",
         "x": [
          2.4128020464655755,
          2.3639253245184357,
          2.347186356370204,
          2.299627727084012,
          2.2463363907376515,
          2.232397506609692
         ],
         "xaxis": "x2",
         "yaxis": "y2"
        },
        {
         "type": "histogram",
         "x": [
          2.660828056371197,
          2.638945625428616,
          2.6182591465703458,
          2.6007006332354545,
          2.588777384038281
         ],
         "xaxis": "x3",
         "yaxis": "y3"
        },
        {
         "type": "histogram",
         "x": [
          2.53765089425463,
          2.5146727323419547,
          2.498270932882823,
          2.4761393154583606,
          2.457048449029279,
          2.437886730507162
         ],
         "xaxis": "x4",
         "yaxis": "y4"
        },
        {
         "type": "histogram",
         "x": [
          2.5450139845325834,
          2.536275232794111,
          2.4369162186806324,
          2.432921216884595,
          2.355409880356259,
          2.3825152509693983,
          2.366458367232904,
          2.387590822708055,
          2.341355471160546,
          2.316922973010311,
          2.255388573516272
         ],
         "xaxis": "x5",
         "yaxis": "y5"
        },
        {
         "type": "histogram",
         "x": [
          1.6350803889321357,
          1.6146305562938377,
          1.6078991215702985,
          1.5952681362476702,
          1.58443853218188,
          1.5798900175254205,
          1.5648406859603692,
          1.5502758331320847,
          1.50678229757059,
          1.5179077696034442,
          1.4952435817697831,
          1.435567431048462
         ],
         "xaxis": "x6",
         "yaxis": "y6"
        },
        {
         "type": "histogram",
         "x": [
          2.607861877618985,
          2.58086984665776,
          2.5470558701897548,
          2.5343811185932026,
          2.5189471673772603,
          2.502022566744129,
          2.4900962277443304,
          2.4834427436915574,
          2.478193562553751,
          2.45220166425735
         ],
         "xaxis": "x7",
         "yaxis": "y7"
        },
        {
         "type": "histogram",
         "x": [
          2.5326954032824114,
          2.495862466381763,
          2.489667699293199,
          2.4745217384834017,
          2.4462801882042458,
          2.438981527642394,
          2.441129953031613,
          2.4454307722707096,
          2.4495983173726787,
          2.4196293292392035
         ],
         "xaxis": "x8",
         "yaxis": "y8"
        },
        {
         "type": "histogram",
         "x": [
          2.3737179412170795,
          2.4268110769691607,
          2.3784523087940337,
          2.382985530106412,
          2.3155189199182766,
          2.3076568975967744,
          2.25046466074266,
          2.2364830646312543,
          2.2097352919838698,
          2.2109470841397503
         ],
         "xaxis": "x9",
         "yaxis": "y9"
        },
        {
         "type": "histogram",
         "x": [
          2.1818746942322145,
          2.1574479555848702,
          2.1366731491465263,
          2.1040382036309992,
          2.095862125198672,
          2.089677279597712,
          2.055076779659778,
          2.0208986956341826,
          2.0084333493164173,
          1.9896202029446184
         ],
         "xaxis": "x10",
         "yaxis": "y10"
        },
        {
         "type": "histogram",
         "x": [
          2.091638749587201,
          2.1753803702077086,
          2.098071338351597,
          2.155036309225913,
          2.0786036864162964,
          2.139847715736039,
          2.0407871935504724,
          2.103535681091625,
          2.03187551706176,
          2.0846071351969675,
          2.024840583262688
         ],
         "xaxis": "x11",
         "yaxis": "y11"
        },
        {
         "type": "histogram",
         "x": [
          2.1961212056923944,
          2.120635970674952,
          2.1768899153565933,
          2.1079725843119186,
          2.1407263759073656,
          2.095710934693669,
          2.1033935954522542,
          2.0458018461953853,
          2.084900493974189,
          2.017577959445417,
          2.05751421772955
         ],
         "xaxis": "x12",
         "yaxis": "y12"
        },
        {
         "type": "histogram",
         "x": [
          2.599183753690154,
          2.535910726318828,
          2.457336289468616,
          2.405764062700551,
          2.337814766236682,
          2.298034591194967
         ],
         "xaxis": "x13",
         "yaxis": "y13"
        },
        {
         "type": "histogram",
         "x": [
          2.217815895453919,
          2.17817044360498,
          2.2047097436667893,
          2.117059439896994,
          2.1071790642708264,
          2.069264373898388
         ],
         "xaxis": "x14",
         "yaxis": "y14"
        },
        {
         "type": "histogram",
         "x": [
          2.4394547455761564,
          2.5790718859633195,
          2.373095298571548,
          2.5090384075504977,
          2.3639876933889195,
          2.471493185592886,
          2.3526248947234727,
          2.4331332522314155,
          2.3159780324573167,
          2.398749986472403,
          2.2681168249554533
         ],
         "xaxis": "x15",
         "yaxis": "y15"
        },
        {
         "type": "histogram",
         "x": [
          2.2755165413113136,
          2.343352969229989,
          2.203917587848656,
          2.3101885525653203,
          2.158343790713844,
          2.2705871852461663,
          2.12807147253239,
          2.237944705101868,
          2.0952607417946183,
          2.224861522967603,
          2.0680699538809524
         ],
         "xaxis": "x16",
         "yaxis": "y16"
        },
        {
         "type": "histogram",
         "x": [
          2.2477688109892804,
          2.025323116898562,
          2.211077149374397,
          1.9741370553293116,
          2.1769144740714568,
          1.960463926628084,
          2.161323913047435,
          1.9794396980945208,
          2.1613193012094536
         ],
         "xaxis": "x17",
         "yaxis": "y17"
        },
        {
         "type": "histogram",
         "x": [
          2.806343498430148,
          2.523881278042737,
          2.769729905064026,
          2.688215492395964,
          2.6605999419551174
         ],
         "xaxis": "x18",
         "yaxis": "y18"
        },
        {
         "type": "histogram",
         "x": [
          2.0435939616798904,
          2.0031004912125474,
          1.937750099071948,
          1.8935861280839013
         ],
         "xaxis": "x19",
         "yaxis": "y19"
        },
        {
         "type": "histogram",
         "x": [
          1.1193451136337709,
          1.1270388960639033,
          1.127135460058459,
          1.1275862911714,
          1.1245783064478456,
          1.1168089781704538,
          1.1150775064547975,
          1.1061361041804925,
          1.0954687698572607,
          1.090216839935131,
          1.0883667541789177
         ],
         "xaxis": "x20",
         "yaxis": "y20"
        },
        {
         "type": "histogram",
         "x": [
          1.2165999880128258,
          1.223699891116505,
          1.222239204051664,
          1.2246328928046983,
          1.2158635260271502,
          1.2158155773322536,
          1.1790826315842042
         ],
         "xaxis": "x21",
         "yaxis": "y21"
        },
        {
         "type": "histogram",
         "x": [
          1.2128787885739238,
          1.2001167162007036,
          1.1902541972412026,
          1.1834493001768784,
          1.1751654473555178,
          1.1648202812138604,
          1.1653344319826853,
          1.1651829700786267,
          1.1554729529474046
         ],
         "xaxis": "x22",
         "yaxis": "y22"
        },
        {
         "type": "histogram",
         "x": [
          1.2263304517271811,
          1.2254132064731087,
          1.2151346322082546,
          1.2113732938477173,
          1.2066049753813508,
          1.200853678316519,
          1.1916398930137078,
          1.1826127607634067,
          1.1910053068415976,
          1.1797556692158997
         ],
         "xaxis": "x23",
         "yaxis": "y23"
        },
        {
         "type": "histogram",
         "x": [
          1.2212716433492874,
          1.21534811153905,
          1.2135523011356988,
          1.2058442561855758,
          1.1976683487036706,
          1.1963727343792598,
          1.1969169508296338,
          1.1868355715766037,
          1.181276279122916,
          1.176021363514773,
          1.160565927972803
         ],
         "xaxis": "x24",
         "yaxis": "y24"
        },
        {
         "type": "histogram",
         "x": [
          1.1621541279774463,
          1.1584264623923697,
          1.1497487424465571,
          1.1471731784934835,
          1.144345914000768,
          1.1368640880369671,
          1.1369078803869752,
          1.135187237609781,
          1.1322647943679152,
          1.1217297387604903
         ],
         "xaxis": "x25",
         "yaxis": "y25"
        },
        {
         "type": "histogram",
         "x": [
          1.2127299276040286,
          1.1964547623589392,
          1.1864787429564558,
          1.1887081512836577,
          1.1838181683304714,
          1.1632401965682306,
          1.167021455367929,
          1.1663518456279307,
          1.1625532523685376,
          1.1565643857848342,
          1.1459952099362027
         ],
         "xaxis": "x26",
         "yaxis": "y26"
        },
        {
         "type": "histogram",
         "x": [
          1.3936773664096616,
          1.3855463155364582,
          1.3675900759634811,
          1.3495743854723568,
          1.332919168085381,
          1.3132379985236822
         ],
         "xaxis": "x27",
         "yaxis": "y27"
        },
        {
         "type": "histogram",
         "x": [
          1.4059774298060503,
          1.395218136849452,
          1.3975355962703089,
          1.3826763876392472,
          1.3751397019959724,
          1.3667176385621884
         ],
         "xaxis": "x28",
         "yaxis": "y28"
        },
        {
         "type": "histogram",
         "x": [
          1.406653478096068,
          1.3774953831348982,
          1.3623405732008929,
          1.3448237975814024,
          1.3291343139952885,
          1.326619000887891
         ],
         "xaxis": "x29",
         "yaxis": "y29"
        },
        {
         "type": "histogram",
         "x": [
          1.2263818887879032,
          1.223197502685284,
          1.2129930337519617,
          1.2085883923407414,
          1.2021687546476074,
          1.1923644964058489,
          1.1876498853590012,
          1.1771190510617195
         ],
         "xaxis": "x30",
         "yaxis": "y30"
        },
        {
         "type": "histogram",
         "x": [
          1.210899678577075,
          1.2000540798388493,
          1.1900321688672857,
          1.1916131072521454,
          1.1908056301497087,
          1.1790641929015884,
          1.176993612732546,
          1.1769435191226036
         ],
         "xaxis": "x31",
         "yaxis": "y31"
        },
        {
         "type": "histogram",
         "x": [
          3.1188403755868523,
          3.099151576123405,
          3.0538293091884623,
          3.037997652582158,
          2.9836784037558663,
          2.9929681421864496,
          2.9934292421193813,
          2.910732729711601,
          2.8934198524480195,
          2.964997317236752,
          2.837180751173707,
          2.828527833668677,
          2.818897384305833
         ],
         "xaxis": "x32",
         "yaxis": "y32"
        },
        {
         "type": "histogram",
         "x": [
          2.763000215080461,
          2.7575829852119047,
          2.666257722350356,
          2.736474673838345,
          2.71180931630642,
          2.6606628325222625,
          2.622090687015958,
          2.607111294522092
         ],
         "xaxis": "x33",
         "yaxis": "y33"
        },
        {
         "type": "histogram",
         "x": [
          3.136787905923251,
          3.125511413446306,
          3.176939458129375,
          3.1270886399807347,
          3.0400176083496677,
          3.0342219028305037,
          3.0474371950049464,
          2.8662807628779854,
          2.87029832607804,
          2.8981654206627194,
          2.886815183815367,
          2.7580104822355067,
          2.766385359484992
         ],
         "xaxis": "x34",
         "yaxis": "y34"
        },
        {
         "type": "histogram",
         "x": [
          2.3785625530730803,
          2.4177802618511874,
          2.3339874015899125,
          2.4039210512428086,
          2.3623544538210206,
          2.360202265410982,
          2.370085252759799,
          2.328069603097308,
          1.7879206866277415
         ],
         "xaxis": "x35",
         "yaxis": "y35"
        },
        {
         "type": "histogram",
         "x": [
          2.6875952163082384,
          2.677323155750972,
          2.6436882659300607,
          2.603353324431205,
          2.622116205739305,
          2.5924303416730687,
          2.5653171352092947,
          2.519739875459816,
          2.48276949803978,
          2.4302199916679985
         ],
         "xaxis": "x36",
         "yaxis": "y36"
        },
        {
         "type": "histogram",
         "x": [
          1.2925508654745084,
          1.2753774146032142,
          1.2535264789173075,
          1.2354530524575116,
          1.2283576957057676,
          1.2238572131441172,
          1.2276066075802603,
          1.2189454384131158,
          1.2043910464974783,
          1.196585715721684
         ],
         "xaxis": "x37",
         "yaxis": "y37"
        },
        {
         "type": "histogram",
         "x": [
          1.586067382862932,
          1.8678565491473,
          1.55510965538065,
          1.8308352159275565,
          1.5398626588927735,
          1.7857818743966294,
          1.5631259068211032,
          1.7519574519255223
         ],
         "xaxis": "x38",
         "yaxis": "y38"
        },
        {
         "type": "histogram",
         "x": [
          1.2963780106637242,
          1.2957306918968254,
          1.2734180486804851,
          1.2491178666441094,
          1.23123248435891,
          1.2354122134131256,
          1.2165235457795929,
          1.216683906962318,
          1.194497320558479,
          1.214819722898225,
          1.19630111953252
         ],
         "xaxis": "x39",
         "yaxis": "y39"
        },
        {
         "type": "histogram",
         "x": [
          1.2606440037984132,
          1.3028410355235331,
          1.2316955220647408,
          1.2662474684837275,
          1.1672954639410738,
          1.2224542879341374,
          1.26906367812357,
          1.2387722394073095,
          1.176214980356452,
          1.226893348968814,
          1.189578169093758,
          1.189578169093758,
          1.2028956739155023
         ],
         "xaxis": "x40",
         "yaxis": "y40"
        },
        {
         "type": "histogram",
         "x": [
          1.2218918386414042,
          1.2007501001023262,
          1.2015462154964751,
          1.2093988140257652,
          1.17865881949167,
          1.1918563102600113,
          1.1819539974195836,
          1.166404133749419,
          1.152455780194357,
          1.1560930220733567,
          1.1719475781592603,
          1.1818427726120029,
          1.192633104316157,
          1.1387903825497805,
          1.1247766923648927
         ],
         "xaxis": "x41",
         "yaxis": "y41"
        },
        {
         "type": "histogram",
         "x": [
          2.1030724000027146,
          1.6831267768753757,
          1.9683479266271096,
          1.9562181787142563,
          1.8537638476244784,
          2.021860550383964
         ],
         "xaxis": "x42",
         "yaxis": "y42"
        },
        {
         "type": "histogram",
         "x": [
          1.1751076534452656,
          1.192162252185384,
          1.1743070482704816,
          1.1194592243256878
         ],
         "xaxis": "x43",
         "yaxis": "y43"
        },
        {
         "type": "histogram",
         "x": [
          1.1414497984407552,
          1.1451458085847137,
          1.135975998978679,
          1.1095266224815907
         ],
         "xaxis": "x44",
         "yaxis": "y44"
        },
        {
         "type": "histogram",
         "x": [
          1.2605347063027066,
          1.2379775217057798,
          1.2257204483420994,
          1.1984525685264538
         ],
         "xaxis": "x45",
         "yaxis": "y45"
        },
        {
         "type": "histogram",
         "x": [
          1.2374129520410635,
          1.2379069962805458,
          1.236913114260222,
          1.2000208567488957,
          1.1692507792313125
         ],
         "xaxis": "x46",
         "yaxis": "y46"
        }
       ],
       "layout": {
        "annotations": [
         {
          "font": {
           "size": 16
          },
          "showarrow": false,
          "text": "220110n_0003.tif",
          "x": 0.5,
          "xanchor": "center",
          "xref": "paper",
          "y": 1.0000000000000004,
          "yanchor": "bottom",
          "yref": "paper"
         },
         {
          "font": {
           "size": 16
          },
          "showarrow": false,
          "text": "220110n_0005.tif",
          "x": 0.5,
          "xanchor": "center",
          "xref": "paper",
          "y": 0.9780245746691876,
          "yanchor": "bottom",
          "yref": "paper"
         },
         {
          "font": {
           "size": 16
          },
          "showarrow": false,
          "text": "220110n_0009.tif",
          "x": 0.5,
          "xanchor": "center",
          "xref": "paper",
          "y": 0.9560491493383746,
          "yanchor": "bottom",
          "yref": "paper"
         },
         {
          "font": {
           "size": 16
          },
          "showarrow": false,
          "text": "220110n_0010.tif",
          "x": 0.5,
          "xanchor": "center",
          "xref": "paper",
          "y": 0.9340737240075617,
          "yanchor": "bottom",
          "yref": "paper"
         },
         {
          "font": {
           "size": 16
          },
          "showarrow": false,
          "text": "220110n_0014.tif",
          "x": 0.5,
          "xanchor": "center",
          "xref": "paper",
          "y": 0.9120982986767489,
          "yanchor": "bottom",
          "yref": "paper"
         },
         {
          "font": {
           "size": 16
          },
          "showarrow": false,
          "text": "220110n_0017.tif",
          "x": 0.5,
          "xanchor": "center",
          "xref": "paper",
          "y": 0.890122873345936,
          "yanchor": "bottom",
          "yref": "paper"
         },
         {
          "font": {
           "size": 16
          },
          "showarrow": false,
          "text": "220110n_0020.tif",
          "x": 0.5,
          "xanchor": "center",
          "xref": "paper",
          "y": 0.8681474480151231,
          "yanchor": "bottom",
          "yref": "paper"
         },
         {
          "font": {
           "size": 16
          },
          "showarrow": false,
          "text": "220110n_0021.tif",
          "x": 0.5,
          "xanchor": "center",
          "xref": "paper",
          "y": 0.8461720226843102,
          "yanchor": "bottom",
          "yref": "paper"
         },
         {
          "font": {
           "size": 16
          },
          "showarrow": false,
          "text": "220110n_0022.tif",
          "x": 0.5,
          "xanchor": "center",
          "xref": "paper",
          "y": 0.8241965973534974,
          "yanchor": "bottom",
          "yref": "paper"
         },
         {
          "font": {
           "size": 16
          },
          "showarrow": false,
          "text": "220110n_0023.tif",
          "x": 0.5,
          "xanchor": "center",
          "xref": "paper",
          "y": 0.8022211720226844,
          "yanchor": "bottom",
          "yref": "paper"
         },
         {
          "font": {
           "size": 16
          },
          "showarrow": false,
          "text": "220110n_0024.tif",
          "x": 0.5,
          "xanchor": "center",
          "xref": "paper",
          "y": 0.7802457466918715,
          "yanchor": "bottom",
          "yref": "paper"
         },
         {
          "font": {
           "size": 16
          },
          "showarrow": false,
          "text": "220110n_0025.tif",
          "x": 0.5,
          "xanchor": "center",
          "xref": "paper",
          "y": 0.7582703213610587,
          "yanchor": "bottom",
          "yref": "paper"
         },
         {
          "font": {
           "size": 16
          },
          "showarrow": false,
          "text": "220110n_0030.tif",
          "x": 0.5,
          "xanchor": "center",
          "xref": "paper",
          "y": 0.7362948960302458,
          "yanchor": "bottom",
          "yref": "paper"
         },
         {
          "font": {
           "size": 16
          },
          "showarrow": false,
          "text": "220110n_0032.tif",
          "x": 0.5,
          "xanchor": "center",
          "xref": "paper",
          "y": 0.7143194706994329,
          "yanchor": "bottom",
          "yref": "paper"
         },
         {
          "font": {
           "size": 16
          },
          "showarrow": false,
          "text": "220110n_0035.tif",
          "x": 0.5,
          "xanchor": "center",
          "xref": "paper",
          "y": 0.69234404536862,
          "yanchor": "bottom",
          "yref": "paper"
         },
         {
          "font": {
           "size": 16
          },
          "showarrow": false,
          "text": "220110n_0036.tif",
          "x": 0.5,
          "xanchor": "center",
          "xref": "paper",
          "y": 0.6703686200378072,
          "yanchor": "bottom",
          "yref": "paper"
         },
         {
          "font": {
           "size": 16
          },
          "showarrow": false,
          "text": "220110n_0037.tif",
          "x": 0.5,
          "xanchor": "center",
          "xref": "paper",
          "y": 0.6483931947069943,
          "yanchor": "bottom",
          "yref": "paper"
         },
         {
          "font": {
           "size": 16
          },
          "showarrow": false,
          "text": "220110n_0049.tif",
          "x": 0.5,
          "xanchor": "center",
          "xref": "paper",
          "y": 0.6264177693761814,
          "yanchor": "bottom",
          "yref": "paper"
         },
         {
          "font": {
           "size": 16
          },
          "showarrow": false,
          "text": "220110n_0052.tif",
          "x": 0.5,
          "xanchor": "center",
          "xref": "paper",
          "y": 0.6044423440453686,
          "yanchor": "bottom",
          "yref": "paper"
         },
         {
          "font": {
           "size": 16
          },
          "showarrow": false,
          "text": "220110n_0055.tif",
          "x": 0.5,
          "xanchor": "center",
          "xref": "paper",
          "y": 0.5824669187145557,
          "yanchor": "bottom",
          "yref": "paper"
         },
         {
          "font": {
           "size": 16
          },
          "showarrow": false,
          "text": "220110n_0060.tif",
          "x": 0.5,
          "xanchor": "center",
          "xref": "paper",
          "y": 0.5604914933837428,
          "yanchor": "bottom",
          "yref": "paper"
         },
         {
          "font": {
           "size": 16
          },
          "showarrow": false,
          "text": "220110n_0064.tif",
          "x": 0.5,
          "xanchor": "center",
          "xref": "paper",
          "y": 0.53851606805293,
          "yanchor": "bottom",
          "yref": "paper"
         },
         {
          "font": {
           "size": 16
          },
          "showarrow": false,
          "text": "220110n_0067.tif",
          "x": 0.5,
          "xanchor": "center",
          "xref": "paper",
          "y": 0.5165406427221171,
          "yanchor": "bottom",
          "yref": "paper"
         },
         {
          "font": {
           "size": 16
          },
          "showarrow": false,
          "text": "220110n_0068.tif",
          "x": 0.5,
          "xanchor": "center",
          "xref": "paper",
          "y": 0.49456521739130427,
          "yanchor": "bottom",
          "yref": "paper"
         },
         {
          "font": {
           "size": 16
          },
          "showarrow": false,
          "text": "220110n_0072.tif",
          "x": 0.5,
          "xanchor": "center",
          "xref": "paper",
          "y": 0.4725897920604914,
          "yanchor": "bottom",
          "yref": "paper"
         },
         {
          "font": {
           "size": 16
          },
          "showarrow": false,
          "text": "220110n_0073.tif",
          "x": 0.5,
          "xanchor": "center",
          "xref": "paper",
          "y": 0.4506143667296786,
          "yanchor": "bottom",
          "yref": "paper"
         },
         {
          "font": {
           "size": 16
          },
          "showarrow": false,
          "text": "220110n_0077.tif",
          "x": 0.5,
          "xanchor": "center",
          "xref": "paper",
          "y": 0.42863894139886577,
          "yanchor": "bottom",
          "yref": "paper"
         },
         {
          "font": {
           "size": 16
          },
          "showarrow": false,
          "text": "220110n_0078.tif",
          "x": 0.5,
          "xanchor": "center",
          "xref": "paper",
          "y": 0.4066635160680529,
          "yanchor": "bottom",
          "yref": "paper"
         },
         {
          "font": {
           "size": 16
          },
          "showarrow": false,
          "text": "220110n_0080.tif",
          "x": 0.5,
          "xanchor": "center",
          "xref": "paper",
          "y": 0.38468809073724003,
          "yanchor": "bottom",
          "yref": "paper"
         },
         {
          "font": {
           "size": 16
          },
          "showarrow": false,
          "text": "220110n_0082.tif",
          "x": 0.5,
          "xanchor": "center",
          "xref": "paper",
          "y": 0.36271266540642716,
          "yanchor": "bottom",
          "yref": "paper"
         },
         {
          "font": {
           "size": 16
          },
          "showarrow": false,
          "text": "220110n_0083.tif",
          "x": 0.5,
          "xanchor": "center",
          "xref": "paper",
          "y": 0.34073724007561434,
          "yanchor": "bottom",
          "yref": "paper"
         },
         {
          "font": {
           "size": 16
          },
          "showarrow": false,
          "text": "2.5Hz_ctrl_0005.tif",
          "x": 0.5,
          "xanchor": "center",
          "xref": "paper",
          "y": 0.31876181474480153,
          "yanchor": "bottom",
          "yref": "paper"
         },
         {
          "font": {
           "size": 16
          },
          "showarrow": false,
          "text": "2.5Hz_ctrl_0009.tif",
          "x": 0.5,
          "xanchor": "center",
          "xref": "paper",
          "y": 0.29678638941398866,
          "yanchor": "bottom",
          "yref": "paper"
         },
         {
          "font": {
           "size": 16
          },
          "showarrow": false,
          "text": "2.5Hz_ctrl_0012.tif",
          "x": 0.5,
          "xanchor": "center",
          "xref": "paper",
          "y": 0.2748109640831758,
          "yanchor": "bottom",
          "yref": "paper"
         },
         {
          "font": {
           "size": 16
          },
          "showarrow": false,
          "text": "2.5Hz_ctrl_0017.tif",
          "x": 0.5,
          "xanchor": "center",
          "xref": "paper",
          "y": 0.2528355387523629,
          "yanchor": "bottom",
          "yref": "paper"
         },
         {
          "font": {
           "size": 16
          },
          "showarrow": false,
          "text": "2.5Hz_ctrl_0028.tif",
          "x": 0.5,
          "xanchor": "center",
          "xref": "paper",
          "y": 0.23086011342155008,
          "yanchor": "bottom",
          "yref": "paper"
         },
         {
          "font": {
           "size": 16
          },
          "showarrow": false,
          "text": "2.5Hz_thapsi_0024.tif",
          "x": 0.5,
          "xanchor": "center",
          "xref": "paper",
          "y": 0.2088846880907372,
          "yanchor": "bottom",
          "yref": "paper"
         },
         {
          "font": {
           "size": 16
          },
          "showarrow": false,
          "text": "cell.tif",
          "x": 0.5,
          "xanchor": "center",
          "xref": "paper",
          "y": 0.18690926275992437,
          "yanchor": "bottom",
          "yref": "paper"
         },
         {
          "font": {
           "size": 16
          },
          "showarrow": false,
          "text": "control 2.5_0012.tif",
          "x": 0.5,
          "xanchor": "center",
          "xref": "paper",
          "y": 0.16493383742911152,
          "yanchor": "bottom",
          "yref": "paper"
         },
         {
          "font": {
           "size": 16
          },
          "showarrow": false,
          "text": "control 2.5_0013.tif",
          "x": 0.5,
          "xanchor": "center",
          "xref": "paper",
          "y": 0.14295841209829865,
          "yanchor": "bottom",
          "yref": "paper"
         },
         {
          "font": {
           "size": 16
          },
          "showarrow": false,
          "text": "control 2.5_0014.tif",
          "x": 0.5,
          "xanchor": "center",
          "xref": "paper",
          "y": 0.12098298676748581,
          "yanchor": "bottom",
          "yref": "paper"
         },
         {
          "font": {
           "size": 16
          },
          "showarrow": false,
          "text": "control 2.5_0022.tif",
          "x": 0.5,
          "xanchor": "center",
          "xref": "paper",
          "y": 0.09900756143667297,
          "yanchor": "bottom",
          "yref": "paper"
         },
         {
          "font": {
           "size": 16
          },
          "showarrow": false,
          "text": "thapsi 2.5_0008.tif",
          "x": 0.5,
          "xanchor": "center",
          "xref": "paper",
          "y": 0.0770321361058601,
          "yanchor": "bottom",
          "yref": "paper"
         },
         {
          "font": {
           "size": 16
          },
          "showarrow": false,
          "text": "thapsi 2.5_0017.tif",
          "x": 0.5,
          "xanchor": "center",
          "xref": "paper",
          "y": 0.055056710775047264,
          "yanchor": "bottom",
          "yref": "paper"
         },
         {
          "font": {
           "size": 16
          },
          "showarrow": false,
          "text": "thapsi 2.5_0033.tif",
          "x": 0.5,
          "xanchor": "center",
          "xref": "paper",
          "y": 0.03308128544423441,
          "yanchor": "bottom",
          "yref": "paper"
         },
         {
          "font": {
           "size": 16
          },
          "showarrow": false,
          "text": "thapsi 2.5_0047.tif",
          "x": 0.5,
          "xanchor": "center",
          "xref": "paper",
          "y": 0.01110586011342155,
          "yanchor": "bottom",
          "yref": "paper"
         }
        ],
        "colorway": [
         "rgb(229, 134, 6)",
         "rgb(93, 105, 177)",
         "rgb(82, 188, 163)",
         "rgb(153, 201, 69)",
         "rgb(204, 97, 176)",
         "rgb(36, 121, 108)",
         "rgb(218, 165, 27)",
         "rgb(47, 138, 196)",
         "rgb(118, 78, 159)",
         "rgb(237, 100, 90)",
         "rgb(165, 170, 153)"
        ],
        "height": 7000,
        "showlegend": false,
        "template": {
         "data": {
          "bar": [
           {
            "error_x": {
             "color": "#2a3f5f"
            },
            "error_y": {
             "color": "#2a3f5f"
            },
            "marker": {
             "line": {
              "color": "#E5ECF6",
              "width": 0.5
             },
             "pattern": {
              "fillmode": "overlay",
              "size": 10,
              "solidity": 0.2
             }
            },
            "type": "bar"
           }
          ],
          "barpolar": [
           {
            "marker": {
             "line": {
              "color": "#E5ECF6",
              "width": 0.5
             },
             "pattern": {
              "fillmode": "overlay",
              "size": 10,
              "solidity": 0.2
             }
            },
            "type": "barpolar"
           }
          ],
          "carpet": [
           {
            "aaxis": {
             "endlinecolor": "#2a3f5f",
             "gridcolor": "white",
             "linecolor": "white",
             "minorgridcolor": "white",
             "startlinecolor": "#2a3f5f"
            },
            "baxis": {
             "endlinecolor": "#2a3f5f",
             "gridcolor": "white",
             "linecolor": "white",
             "minorgridcolor": "white",
             "startlinecolor": "#2a3f5f"
            },
            "type": "carpet"
           }
          ],
          "choropleth": [
           {
            "colorbar": {
             "outlinewidth": 0,
             "ticks": ""
            },
            "type": "choropleth"
           }
          ],
          "contour": [
           {
            "colorbar": {
             "outlinewidth": 0,
             "ticks": ""
            },
            "colorscale": [
             [
              0,
              "#0d0887"
             ],
             [
              0.1111111111111111,
              "#46039f"
             ],
             [
              0.2222222222222222,
              "#7201a8"
             ],
             [
              0.3333333333333333,
              "#9c179e"
             ],
             [
              0.4444444444444444,
              "#bd3786"
             ],
             [
              0.5555555555555556,
              "#d8576b"
             ],
             [
              0.6666666666666666,
              "#ed7953"
             ],
             [
              0.7777777777777778,
              "#fb9f3a"
             ],
             [
              0.8888888888888888,
              "#fdca26"
             ],
             [
              1,
              "#f0f921"
             ]
            ],
            "type": "contour"
           }
          ],
          "contourcarpet": [
           {
            "colorbar": {
             "outlinewidth": 0,
             "ticks": ""
            },
            "type": "contourcarpet"
           }
          ],
          "heatmap": [
           {
            "colorbar": {
             "outlinewidth": 0,
             "ticks": ""
            },
            "colorscale": [
             [
              0,
              "#0d0887"
             ],
             [
              0.1111111111111111,
              "#46039f"
             ],
             [
              0.2222222222222222,
              "#7201a8"
             ],
             [
              0.3333333333333333,
              "#9c179e"
             ],
             [
              0.4444444444444444,
              "#bd3786"
             ],
             [
              0.5555555555555556,
              "#d8576b"
             ],
             [
              0.6666666666666666,
              "#ed7953"
             ],
             [
              0.7777777777777778,
              "#fb9f3a"
             ],
             [
              0.8888888888888888,
              "#fdca26"
             ],
             [
              1,
              "#f0f921"
             ]
            ],
            "type": "heatmap"
           }
          ],
          "heatmapgl": [
           {
            "colorbar": {
             "outlinewidth": 0,
             "ticks": ""
            },
            "colorscale": [
             [
              0,
              "#0d0887"
             ],
             [
              0.1111111111111111,
              "#46039f"
             ],
             [
              0.2222222222222222,
              "#7201a8"
             ],
             [
              0.3333333333333333,
              "#9c179e"
             ],
             [
              0.4444444444444444,
              "#bd3786"
             ],
             [
              0.5555555555555556,
              "#d8576b"
             ],
             [
              0.6666666666666666,
              "#ed7953"
             ],
             [
              0.7777777777777778,
              "#fb9f3a"
             ],
             [
              0.8888888888888888,
              "#fdca26"
             ],
             [
              1,
              "#f0f921"
             ]
            ],
            "type": "heatmapgl"
           }
          ],
          "histogram": [
           {
            "marker": {
             "pattern": {
              "fillmode": "overlay",
              "size": 10,
              "solidity": 0.2
             }
            },
            "type": "histogram"
           }
          ],
          "histogram2d": [
           {
            "colorbar": {
             "outlinewidth": 0,
             "ticks": ""
            },
            "colorscale": [
             [
              0,
              "#0d0887"
             ],
             [
              0.1111111111111111,
              "#46039f"
             ],
             [
              0.2222222222222222,
              "#7201a8"
             ],
             [
              0.3333333333333333,
              "#9c179e"
             ],
             [
              0.4444444444444444,
              "#bd3786"
             ],
             [
              0.5555555555555556,
              "#d8576b"
             ],
             [
              0.6666666666666666,
              "#ed7953"
             ],
             [
              0.7777777777777778,
              "#fb9f3a"
             ],
             [
              0.8888888888888888,
              "#fdca26"
             ],
             [
              1,
              "#f0f921"
             ]
            ],
            "type": "histogram2d"
           }
          ],
          "histogram2dcontour": [
           {
            "colorbar": {
             "outlinewidth": 0,
             "ticks": ""
            },
            "colorscale": [
             [
              0,
              "#0d0887"
             ],
             [
              0.1111111111111111,
              "#46039f"
             ],
             [
              0.2222222222222222,
              "#7201a8"
             ],
             [
              0.3333333333333333,
              "#9c179e"
             ],
             [
              0.4444444444444444,
              "#bd3786"
             ],
             [
              0.5555555555555556,
              "#d8576b"
             ],
             [
              0.6666666666666666,
              "#ed7953"
             ],
             [
              0.7777777777777778,
              "#fb9f3a"
             ],
             [
              0.8888888888888888,
              "#fdca26"
             ],
             [
              1,
              "#f0f921"
             ]
            ],
            "type": "histogram2dcontour"
           }
          ],
          "mesh3d": [
           {
            "colorbar": {
             "outlinewidth": 0,
             "ticks": ""
            },
            "type": "mesh3d"
           }
          ],
          "parcoords": [
           {
            "line": {
             "colorbar": {
              "outlinewidth": 0,
              "ticks": ""
             }
            },
            "type": "parcoords"
           }
          ],
          "pie": [
           {
            "automargin": true,
            "type": "pie"
           }
          ],
          "scatter": [
           {
            "marker": {
             "colorbar": {
              "outlinewidth": 0,
              "ticks": ""
             }
            },
            "type": "scatter"
           }
          ],
          "scatter3d": [
           {
            "line": {
             "colorbar": {
              "outlinewidth": 0,
              "ticks": ""
             }
            },
            "marker": {
             "colorbar": {
              "outlinewidth": 0,
              "ticks": ""
             }
            },
            "type": "scatter3d"
           }
          ],
          "scattercarpet": [
           {
            "marker": {
             "colorbar": {
              "outlinewidth": 0,
              "ticks": ""
             }
            },
            "type": "scattercarpet"
           }
          ],
          "scattergeo": [
           {
            "marker": {
             "colorbar": {
              "outlinewidth": 0,
              "ticks": ""
             }
            },
            "type": "scattergeo"
           }
          ],
          "scattergl": [
           {
            "marker": {
             "colorbar": {
              "outlinewidth": 0,
              "ticks": ""
             }
            },
            "type": "scattergl"
           }
          ],
          "scattermapbox": [
           {
            "marker": {
             "colorbar": {
              "outlinewidth": 0,
              "ticks": ""
             }
            },
            "type": "scattermapbox"
           }
          ],
          "scatterpolar": [
           {
            "marker": {
             "colorbar": {
              "outlinewidth": 0,
              "ticks": ""
             }
            },
            "type": "scatterpolar"
           }
          ],
          "scatterpolargl": [
           {
            "marker": {
             "colorbar": {
              "outlinewidth": 0,
              "ticks": ""
             }
            },
            "type": "scatterpolargl"
           }
          ],
          "scatterternary": [
           {
            "marker": {
             "colorbar": {
              "outlinewidth": 0,
              "ticks": ""
             }
            },
            "type": "scatterternary"
           }
          ],
          "surface": [
           {
            "colorbar": {
             "outlinewidth": 0,
             "ticks": ""
            },
            "colorscale": [
             [
              0,
              "#0d0887"
             ],
             [
              0.1111111111111111,
              "#46039f"
             ],
             [
              0.2222222222222222,
              "#7201a8"
             ],
             [
              0.3333333333333333,
              "#9c179e"
             ],
             [
              0.4444444444444444,
              "#bd3786"
             ],
             [
              0.5555555555555556,
              "#d8576b"
             ],
             [
              0.6666666666666666,
              "#ed7953"
             ],
             [
              0.7777777777777778,
              "#fb9f3a"
             ],
             [
              0.8888888888888888,
              "#fdca26"
             ],
             [
              1,
              "#f0f921"
             ]
            ],
            "type": "surface"
           }
          ],
          "table": [
           {
            "cells": {
             "fill": {
              "color": "#EBF0F8"
             },
             "line": {
              "color": "white"
             }
            },
            "header": {
             "fill": {
              "color": "#C8D4E3"
             },
             "line": {
              "color": "white"
             }
            },
            "type": "table"
           }
          ]
         },
         "layout": {
          "annotationdefaults": {
           "arrowcolor": "#2a3f5f",
           "arrowhead": 0,
           "arrowwidth": 1
          },
          "autotypenumbers": "strict",
          "coloraxis": {
           "colorbar": {
            "outlinewidth": 0,
            "ticks": ""
           }
          },
          "colorscale": {
           "diverging": [
            [
             0,
             "#8e0152"
            ],
            [
             0.1,
             "#c51b7d"
            ],
            [
             0.2,
             "#de77ae"
            ],
            [
             0.3,
             "#f1b6da"
            ],
            [
             0.4,
             "#fde0ef"
            ],
            [
             0.5,
             "#f7f7f7"
            ],
            [
             0.6,
             "#e6f5d0"
            ],
            [
             0.7,
             "#b8e186"
            ],
            [
             0.8,
             "#7fbc41"
            ],
            [
             0.9,
             "#4d9221"
            ],
            [
             1,
             "#276419"
            ]
           ],
           "sequential": [
            [
             0,
             "#0d0887"
            ],
            [
             0.1111111111111111,
             "#46039f"
            ],
            [
             0.2222222222222222,
             "#7201a8"
            ],
            [
             0.3333333333333333,
             "#9c179e"
            ],
            [
             0.4444444444444444,
             "#bd3786"
            ],
            [
             0.5555555555555556,
             "#d8576b"
            ],
            [
             0.6666666666666666,
             "#ed7953"
            ],
            [
             0.7777777777777778,
             "#fb9f3a"
            ],
            [
             0.8888888888888888,
             "#fdca26"
            ],
            [
             1,
             "#f0f921"
            ]
           ],
           "sequentialminus": [
            [
             0,
             "#0d0887"
            ],
            [
             0.1111111111111111,
             "#46039f"
            ],
            [
             0.2222222222222222,
             "#7201a8"
            ],
            [
             0.3333333333333333,
             "#9c179e"
            ],
            [
             0.4444444444444444,
             "#bd3786"
            ],
            [
             0.5555555555555556,
             "#d8576b"
            ],
            [
             0.6666666666666666,
             "#ed7953"
            ],
            [
             0.7777777777777778,
             "#fb9f3a"
            ],
            [
             0.8888888888888888,
             "#fdca26"
            ],
            [
             1,
             "#f0f921"
            ]
           ]
          },
          "colorway": [
           "#636efa",
           "#EF553B",
           "#00cc96",
           "#ab63fa",
           "#FFA15A",
           "#19d3f3",
           "#FF6692",
           "#B6E880",
           "#FF97FF",
           "#FECB52"
          ],
          "font": {
           "color": "#2a3f5f"
          },
          "geo": {
           "bgcolor": "white",
           "lakecolor": "white",
           "landcolor": "#E5ECF6",
           "showlakes": true,
           "showland": true,
           "subunitcolor": "white"
          },
          "hoverlabel": {
           "align": "left"
          },
          "hovermode": "closest",
          "mapbox": {
           "style": "light"
          },
          "paper_bgcolor": "white",
          "plot_bgcolor": "#E5ECF6",
          "polar": {
           "angularaxis": {
            "gridcolor": "white",
            "linecolor": "white",
            "ticks": ""
           },
           "bgcolor": "#E5ECF6",
           "radialaxis": {
            "gridcolor": "white",
            "linecolor": "white",
            "ticks": ""
           }
          },
          "scene": {
           "xaxis": {
            "backgroundcolor": "#E5ECF6",
            "gridcolor": "white",
            "gridwidth": 2,
            "linecolor": "white",
            "showbackground": true,
            "ticks": "",
            "zerolinecolor": "white"
           },
           "yaxis": {
            "backgroundcolor": "#E5ECF6",
            "gridcolor": "white",
            "gridwidth": 2,
            "linecolor": "white",
            "showbackground": true,
            "ticks": "",
            "zerolinecolor": "white"
           },
           "zaxis": {
            "backgroundcolor": "#E5ECF6",
            "gridcolor": "white",
            "gridwidth": 2,
            "linecolor": "white",
            "showbackground": true,
            "ticks": "",
            "zerolinecolor": "white"
           }
          },
          "shapedefaults": {
           "line": {
            "color": "#2a3f5f"
           }
          },
          "ternary": {
           "aaxis": {
            "gridcolor": "white",
            "linecolor": "white",
            "ticks": ""
           },
           "baxis": {
            "gridcolor": "white",
            "linecolor": "white",
            "ticks": ""
           },
           "bgcolor": "#E5ECF6",
           "caxis": {
            "gridcolor": "white",
            "linecolor": "white",
            "ticks": ""
           }
          },
          "title": {
           "x": 0.05
          },
          "xaxis": {
           "automargin": true,
           "gridcolor": "white",
           "linecolor": "white",
           "ticks": "",
           "title": {
            "standoff": 15
           },
           "zerolinecolor": "white",
           "zerolinewidth": 2
          },
          "yaxis": {
           "automargin": true,
           "gridcolor": "white",
           "linecolor": "white",
           "ticks": "",
           "title": {
            "standoff": 15
           },
           "zerolinecolor": "white",
           "zerolinewidth": 2
          }
         }
        },
        "title": {
         "text": "Subplot for Each File's peakVal"
        },
        "width": 700,
        "xaxis": {
         "anchor": "y",
         "domain": [
          0,
          1
         ]
        },
        "xaxis10": {
         "anchor": "y10",
         "domain": [
          0,
          1
         ]
        },
        "xaxis11": {
         "anchor": "y11",
         "domain": [
          0,
          1
         ]
        },
        "xaxis12": {
         "anchor": "y12",
         "domain": [
          0,
          1
         ]
        },
        "xaxis13": {
         "anchor": "y13",
         "domain": [
          0,
          1
         ]
        },
        "xaxis14": {
         "anchor": "y14",
         "domain": [
          0,
          1
         ]
        },
        "xaxis15": {
         "anchor": "y15",
         "domain": [
          0,
          1
         ]
        },
        "xaxis16": {
         "anchor": "y16",
         "domain": [
          0,
          1
         ]
        },
        "xaxis17": {
         "anchor": "y17",
         "domain": [
          0,
          1
         ]
        },
        "xaxis18": {
         "anchor": "y18",
         "domain": [
          0,
          1
         ]
        },
        "xaxis19": {
         "anchor": "y19",
         "domain": [
          0,
          1
         ]
        },
        "xaxis2": {
         "anchor": "y2",
         "domain": [
          0,
          1
         ]
        },
        "xaxis20": {
         "anchor": "y20",
         "domain": [
          0,
          1
         ]
        },
        "xaxis21": {
         "anchor": "y21",
         "domain": [
          0,
          1
         ]
        },
        "xaxis22": {
         "anchor": "y22",
         "domain": [
          0,
          1
         ]
        },
        "xaxis23": {
         "anchor": "y23",
         "domain": [
          0,
          1
         ]
        },
        "xaxis24": {
         "anchor": "y24",
         "domain": [
          0,
          1
         ]
        },
        "xaxis25": {
         "anchor": "y25",
         "domain": [
          0,
          1
         ]
        },
        "xaxis26": {
         "anchor": "y26",
         "domain": [
          0,
          1
         ]
        },
        "xaxis27": {
         "anchor": "y27",
         "domain": [
          0,
          1
         ]
        },
        "xaxis28": {
         "anchor": "y28",
         "domain": [
          0,
          1
         ]
        },
        "xaxis29": {
         "anchor": "y29",
         "domain": [
          0,
          1
         ]
        },
        "xaxis3": {
         "anchor": "y3",
         "domain": [
          0,
          1
         ]
        },
        "xaxis30": {
         "anchor": "y30",
         "domain": [
          0,
          1
         ]
        },
        "xaxis31": {
         "anchor": "y31",
         "domain": [
          0,
          1
         ]
        },
        "xaxis32": {
         "anchor": "y32",
         "domain": [
          0,
          1
         ]
        },
        "xaxis33": {
         "anchor": "y33",
         "domain": [
          0,
          1
         ]
        },
        "xaxis34": {
         "anchor": "y34",
         "domain": [
          0,
          1
         ]
        },
        "xaxis35": {
         "anchor": "y35",
         "domain": [
          0,
          1
         ]
        },
        "xaxis36": {
         "anchor": "y36",
         "domain": [
          0,
          1
         ]
        },
        "xaxis37": {
         "anchor": "y37",
         "domain": [
          0,
          1
         ]
        },
        "xaxis38": {
         "anchor": "y38",
         "domain": [
          0,
          1
         ]
        },
        "xaxis39": {
         "anchor": "y39",
         "domain": [
          0,
          1
         ]
        },
        "xaxis4": {
         "anchor": "y4",
         "domain": [
          0,
          1
         ]
        },
        "xaxis40": {
         "anchor": "y40",
         "domain": [
          0,
          1
         ]
        },
        "xaxis41": {
         "anchor": "y41",
         "domain": [
          0,
          1
         ]
        },
        "xaxis42": {
         "anchor": "y42",
         "domain": [
          0,
          1
         ]
        },
        "xaxis43": {
         "anchor": "y43",
         "domain": [
          0,
          1
         ]
        },
        "xaxis44": {
         "anchor": "y44",
         "domain": [
          0,
          1
         ]
        },
        "xaxis45": {
         "anchor": "y45",
         "domain": [
          0,
          1
         ]
        },
        "xaxis46": {
         "anchor": "y46",
         "domain": [
          0,
          1
         ]
        },
        "xaxis5": {
         "anchor": "y5",
         "domain": [
          0,
          1
         ]
        },
        "xaxis6": {
         "anchor": "y6",
         "domain": [
          0,
          1
         ]
        },
        "xaxis7": {
         "anchor": "y7",
         "domain": [
          0,
          1
         ]
        },
        "xaxis8": {
         "anchor": "y8",
         "domain": [
          0,
          1
         ]
        },
        "xaxis9": {
         "anchor": "y9",
         "domain": [
          0,
          1
         ]
        },
        "yaxis": {
         "anchor": "x",
         "domain": [
          0.9888941398865789,
          1
         ]
        },
        "yaxis10": {
         "anchor": "x10",
         "domain": [
          0.7911153119092629,
          0.8022211720226844
         ]
        },
        "yaxis11": {
         "anchor": "x11",
         "domain": [
          0.76913988657845,
          0.7802457466918715
         ]
        },
        "yaxis12": {
         "anchor": "x12",
         "domain": [
          0.7471644612476371,
          0.7582703213610587
         ]
        },
        "yaxis13": {
         "anchor": "x13",
         "domain": [
          0.7251890359168243,
          0.7362948960302458
         ]
        },
        "yaxis14": {
         "anchor": "x14",
         "domain": [
          0.7032136105860114,
          0.7143194706994329
         ]
        },
        "yaxis15": {
         "anchor": "x15",
         "domain": [
          0.6812381852551985,
          0.69234404536862
         ]
        },
        "yaxis16": {
         "anchor": "x16",
         "domain": [
          0.6592627599243857,
          0.6703686200378072
         ]
        },
        "yaxis17": {
         "anchor": "x17",
         "domain": [
          0.6372873345935728,
          0.6483931947069943
         ]
        },
        "yaxis18": {
         "anchor": "x18",
         "domain": [
          0.6153119092627599,
          0.6264177693761814
         ]
        },
        "yaxis19": {
         "anchor": "x19",
         "domain": [
          0.593336483931947,
          0.6044423440453686
         ]
        },
        "yaxis2": {
         "anchor": "x2",
         "domain": [
          0.9669187145557661,
          0.9780245746691876
         ]
        },
        "yaxis20": {
         "anchor": "x20",
         "domain": [
          0.5713610586011342,
          0.5824669187145557
         ]
        },
        "yaxis21": {
         "anchor": "x21",
         "domain": [
          0.5493856332703213,
          0.5604914933837428
         ]
        },
        "yaxis22": {
         "anchor": "x22",
         "domain": [
          0.5274102079395084,
          0.53851606805293
         ]
        },
        "yaxis23": {
         "anchor": "x23",
         "domain": [
          0.5054347826086956,
          0.5165406427221171
         ]
        },
        "yaxis24": {
         "anchor": "x24",
         "domain": [
          0.4834593572778827,
          0.49456521739130427
         ]
        },
        "yaxis25": {
         "anchor": "x25",
         "domain": [
          0.4614839319470698,
          0.4725897920604914
         ]
        },
        "yaxis26": {
         "anchor": "x26",
         "domain": [
          0.439508506616257,
          0.4506143667296786
         ]
        },
        "yaxis27": {
         "anchor": "x27",
         "domain": [
          0.4175330812854442,
          0.42863894139886577
         ]
        },
        "yaxis28": {
         "anchor": "x28",
         "domain": [
          0.3955576559546313,
          0.4066635160680529
         ]
        },
        "yaxis29": {
         "anchor": "x29",
         "domain": [
          0.37358223062381846,
          0.38468809073724003
         ]
        },
        "yaxis3": {
         "anchor": "x3",
         "domain": [
          0.9449432892249531,
          0.9560491493383746
         ]
        },
        "yaxis30": {
         "anchor": "x30",
         "domain": [
          0.3516068052930056,
          0.36271266540642716
         ]
        },
        "yaxis31": {
         "anchor": "x31",
         "domain": [
          0.32963137996219277,
          0.34073724007561434
         ]
        },
        "yaxis32": {
         "anchor": "x32",
         "domain": [
          0.30765595463137996,
          0.31876181474480153
         ]
        },
        "yaxis33": {
         "anchor": "x33",
         "domain": [
          0.2856805293005671,
          0.29678638941398866
         ]
        },
        "yaxis34": {
         "anchor": "x34",
         "domain": [
          0.2637051039697542,
          0.2748109640831758
         ]
        },
        "yaxis35": {
         "anchor": "x35",
         "domain": [
          0.24172967863894138,
          0.2528355387523629
         ]
        },
        "yaxis36": {
         "anchor": "x36",
         "domain": [
          0.21975425330812853,
          0.23086011342155008
         ]
        },
        "yaxis37": {
         "anchor": "x37",
         "domain": [
          0.19777882797731566,
          0.2088846880907372
         ]
        },
        "yaxis38": {
         "anchor": "x38",
         "domain": [
          0.17580340264650282,
          0.18690926275992437
         ]
        },
        "yaxis39": {
         "anchor": "x39",
         "domain": [
          0.15382797731568998,
          0.16493383742911152
         ]
        },
        "yaxis4": {
         "anchor": "x4",
         "domain": [
          0.9229678638941402,
          0.9340737240075617
         ]
        },
        "yaxis40": {
         "anchor": "x40",
         "domain": [
          0.1318525519848771,
          0.14295841209829865
         ]
        },
        "yaxis41": {
         "anchor": "x41",
         "domain": [
          0.10987712665406427,
          0.12098298676748581
         ]
        },
        "yaxis42": {
         "anchor": "x42",
         "domain": [
          0.08790170132325142,
          0.09900756143667297
         ]
        },
        "yaxis43": {
         "anchor": "x43",
         "domain": [
          0.06592627599243855,
          0.0770321361058601
         ]
        },
        "yaxis44": {
         "anchor": "x44",
         "domain": [
          0.04395085066162571,
          0.055056710775047264
         ]
        },
        "yaxis45": {
         "anchor": "x45",
         "domain": [
          0.021975425330812856,
          0.03308128544423441
         ]
        },
        "yaxis46": {
         "anchor": "x46",
         "domain": [
          0,
          0.01110586011342155
         ]
        },
        "yaxis5": {
         "anchor": "x5",
         "domain": [
          0.9009924385633273,
          0.9120982986767489
         ]
        },
        "yaxis6": {
         "anchor": "x6",
         "domain": [
          0.8790170132325145,
          0.890122873345936
         ]
        },
        "yaxis7": {
         "anchor": "x7",
         "domain": [
          0.8570415879017016,
          0.8681474480151231
         ]
        },
        "yaxis8": {
         "anchor": "x8",
         "domain": [
          0.8350661625708887,
          0.8461720226843102
         ]
        },
        "yaxis9": {
         "anchor": "x9",
         "domain": [
          0.8130907372400759,
          0.8241965973534974
         ]
        }
       }
      },
      "text/html": [
       "<div>                            <div id=\"0e013d6b-3fd8-496b-8c69-befa468cc7ae\" class=\"plotly-graph-div\" style=\"height:7000px; width:700px;\"></div>            <script type=\"text/javascript\">                require([\"plotly\"], function(Plotly) {                    window.PLOTLYENV=window.PLOTLYENV || {};                                    if (document.getElementById(\"0e013d6b-3fd8-496b-8c69-befa468cc7ae\")) {                    Plotly.newPlot(                        \"0e013d6b-3fd8-496b-8c69-befa468cc7ae\",                        [{\"x\":[1.999562633941876,1.964671277657666,1.9676997241920893,2.003727901068696,1.9759306742864704,1.966263204954133,1.9448185486732352,1.9256581779646973,1.9125944393719327,1.91523637636662],\"type\":\"histogram\",\"xaxis\":\"x\",\"yaxis\":\"y\"},{\"x\":[2.4128020464655755,2.3639253245184357,2.347186356370204,2.299627727084012,2.2463363907376515,2.232397506609692],\"type\":\"histogram\",\"xaxis\":\"x2\",\"yaxis\":\"y2\"},{\"x\":[2.660828056371197,2.638945625428616,2.6182591465703458,2.6007006332354545,2.588777384038281],\"type\":\"histogram\",\"xaxis\":\"x3\",\"yaxis\":\"y3\"},{\"x\":[2.53765089425463,2.5146727323419547,2.498270932882823,2.4761393154583606,2.457048449029279,2.437886730507162],\"type\":\"histogram\",\"xaxis\":\"x4\",\"yaxis\":\"y4\"},{\"x\":[2.5450139845325834,2.536275232794111,2.4369162186806324,2.432921216884595,2.355409880356259,2.3825152509693983,2.366458367232904,2.387590822708055,2.341355471160546,2.316922973010311,2.255388573516272],\"type\":\"histogram\",\"xaxis\":\"x5\",\"yaxis\":\"y5\"},{\"x\":[1.6350803889321357,1.6146305562938377,1.6078991215702985,1.5952681362476702,1.58443853218188,1.5798900175254205,1.5648406859603692,1.5502758331320847,1.50678229757059,1.5179077696034442,1.4952435817697831,1.435567431048462],\"type\":\"histogram\",\"xaxis\":\"x6\",\"yaxis\":\"y6\"},{\"x\":[2.607861877618985,2.58086984665776,2.5470558701897548,2.5343811185932026,2.5189471673772603,2.502022566744129,2.4900962277443304,2.4834427436915574,2.478193562553751,2.45220166425735],\"type\":\"histogram\",\"xaxis\":\"x7\",\"yaxis\":\"y7\"},{\"x\":[2.5326954032824114,2.495862466381763,2.489667699293199,2.4745217384834017,2.4462801882042458,2.438981527642394,2.441129953031613,2.4454307722707096,2.4495983173726787,2.4196293292392035],\"type\":\"histogram\",\"xaxis\":\"x8\",\"yaxis\":\"y8\"},{\"x\":[2.3737179412170795,2.4268110769691607,2.3784523087940337,2.382985530106412,2.3155189199182766,2.3076568975967744,2.25046466074266,2.2364830646312543,2.2097352919838698,2.2109470841397503],\"type\":\"histogram\",\"xaxis\":\"x9\",\"yaxis\":\"y9\"},{\"x\":[2.1818746942322145,2.1574479555848702,2.1366731491465263,2.1040382036309992,2.095862125198672,2.089677279597712,2.055076779659778,2.0208986956341826,2.0084333493164173,1.9896202029446184],\"type\":\"histogram\",\"xaxis\":\"x10\",\"yaxis\":\"y10\"},{\"x\":[2.091638749587201,2.1753803702077086,2.098071338351597,2.155036309225913,2.0786036864162964,2.139847715736039,2.0407871935504724,2.103535681091625,2.03187551706176,2.0846071351969675,2.024840583262688],\"type\":\"histogram\",\"xaxis\":\"x11\",\"yaxis\":\"y11\"},{\"x\":[2.1961212056923944,2.120635970674952,2.1768899153565933,2.1079725843119186,2.1407263759073656,2.095710934693669,2.1033935954522542,2.0458018461953853,2.084900493974189,2.017577959445417,2.05751421772955],\"type\":\"histogram\",\"xaxis\":\"x12\",\"yaxis\":\"y12\"},{\"x\":[2.599183753690154,2.535910726318828,2.457336289468616,2.405764062700551,2.337814766236682,2.298034591194967],\"type\":\"histogram\",\"xaxis\":\"x13\",\"yaxis\":\"y13\"},{\"x\":[2.217815895453919,2.17817044360498,2.2047097436667893,2.117059439896994,2.1071790642708264,2.069264373898388],\"type\":\"histogram\",\"xaxis\":\"x14\",\"yaxis\":\"y14\"},{\"x\":[2.4394547455761564,2.5790718859633195,2.373095298571548,2.5090384075504977,2.3639876933889195,2.471493185592886,2.3526248947234727,2.4331332522314155,2.3159780324573167,2.398749986472403,2.2681168249554533],\"type\":\"histogram\",\"xaxis\":\"x15\",\"yaxis\":\"y15\"},{\"x\":[2.2755165413113136,2.343352969229989,2.203917587848656,2.3101885525653203,2.158343790713844,2.2705871852461663,2.12807147253239,2.237944705101868,2.0952607417946183,2.224861522967603,2.0680699538809524],\"type\":\"histogram\",\"xaxis\":\"x16\",\"yaxis\":\"y16\"},{\"x\":[2.2477688109892804,2.025323116898562,2.211077149374397,1.9741370553293116,2.1769144740714568,1.960463926628084,2.161323913047435,1.9794396980945208,2.1613193012094536],\"type\":\"histogram\",\"xaxis\":\"x17\",\"yaxis\":\"y17\"},{\"x\":[2.806343498430148,2.523881278042737,2.769729905064026,2.688215492395964,2.6605999419551174],\"type\":\"histogram\",\"xaxis\":\"x18\",\"yaxis\":\"y18\"},{\"x\":[2.0435939616798904,2.0031004912125474,1.937750099071948,1.8935861280839013],\"type\":\"histogram\",\"xaxis\":\"x19\",\"yaxis\":\"y19\"},{\"x\":[1.1193451136337709,1.1270388960639033,1.127135460058459,1.1275862911714,1.1245783064478456,1.1168089781704538,1.1150775064547975,1.1061361041804925,1.0954687698572607,1.090216839935131,1.0883667541789177],\"type\":\"histogram\",\"xaxis\":\"x20\",\"yaxis\":\"y20\"},{\"x\":[1.2165999880128258,1.223699891116505,1.222239204051664,1.2246328928046983,1.2158635260271502,1.2158155773322536,1.1790826315842042],\"type\":\"histogram\",\"xaxis\":\"x21\",\"yaxis\":\"y21\"},{\"x\":[1.2128787885739238,1.2001167162007036,1.1902541972412026,1.1834493001768784,1.1751654473555178,1.1648202812138604,1.1653344319826853,1.1651829700786267,1.1554729529474046],\"type\":\"histogram\",\"xaxis\":\"x22\",\"yaxis\":\"y22\"},{\"x\":[1.2263304517271811,1.2254132064731087,1.2151346322082546,1.2113732938477173,1.2066049753813508,1.200853678316519,1.1916398930137078,1.1826127607634067,1.1910053068415976,1.1797556692158997],\"type\":\"histogram\",\"xaxis\":\"x23\",\"yaxis\":\"y23\"},{\"x\":[1.2212716433492874,1.21534811153905,1.2135523011356988,1.2058442561855758,1.1976683487036706,1.1963727343792598,1.1969169508296338,1.1868355715766037,1.181276279122916,1.176021363514773,1.160565927972803],\"type\":\"histogram\",\"xaxis\":\"x24\",\"yaxis\":\"y24\"},{\"x\":[1.1621541279774463,1.1584264623923697,1.1497487424465571,1.1471731784934835,1.144345914000768,1.1368640880369671,1.1369078803869752,1.135187237609781,1.1322647943679152,1.1217297387604903],\"type\":\"histogram\",\"xaxis\":\"x25\",\"yaxis\":\"y25\"},{\"x\":[1.2127299276040286,1.1964547623589392,1.1864787429564558,1.1887081512836577,1.1838181683304714,1.1632401965682306,1.167021455367929,1.1663518456279307,1.1625532523685376,1.1565643857848342,1.1459952099362027],\"type\":\"histogram\",\"xaxis\":\"x26\",\"yaxis\":\"y26\"},{\"x\":[1.3936773664096616,1.3855463155364582,1.3675900759634811,1.3495743854723568,1.332919168085381,1.3132379985236822],\"type\":\"histogram\",\"xaxis\":\"x27\",\"yaxis\":\"y27\"},{\"x\":[1.4059774298060503,1.395218136849452,1.3975355962703089,1.3826763876392472,1.3751397019959724,1.3667176385621884],\"type\":\"histogram\",\"xaxis\":\"x28\",\"yaxis\":\"y28\"},{\"x\":[1.406653478096068,1.3774953831348982,1.3623405732008929,1.3448237975814024,1.3291343139952885,1.326619000887891],\"type\":\"histogram\",\"xaxis\":\"x29\",\"yaxis\":\"y29\"},{\"x\":[1.2263818887879032,1.223197502685284,1.2129930337519617,1.2085883923407414,1.2021687546476074,1.1923644964058489,1.1876498853590012,1.1771190510617195],\"type\":\"histogram\",\"xaxis\":\"x30\",\"yaxis\":\"y30\"},{\"x\":[1.210899678577075,1.2000540798388493,1.1900321688672857,1.1916131072521454,1.1908056301497087,1.1790641929015884,1.176993612732546,1.1769435191226036],\"type\":\"histogram\",\"xaxis\":\"x31\",\"yaxis\":\"y31\"},{\"x\":[3.1188403755868523,3.099151576123405,3.0538293091884623,3.037997652582158,2.9836784037558663,2.9929681421864496,2.9934292421193813,2.910732729711601,2.8934198524480195,2.964997317236752,2.837180751173707,2.828527833668677,2.818897384305833],\"type\":\"histogram\",\"xaxis\":\"x32\",\"yaxis\":\"y32\"},{\"x\":[2.763000215080461,2.7575829852119047,2.666257722350356,2.736474673838345,2.71180931630642,2.6606628325222625,2.622090687015958,2.607111294522092],\"type\":\"histogram\",\"xaxis\":\"x33\",\"yaxis\":\"y33\"},{\"x\":[3.136787905923251,3.125511413446306,3.176939458129375,3.1270886399807347,3.0400176083496677,3.0342219028305037,3.0474371950049464,2.8662807628779854,2.87029832607804,2.8981654206627194,2.886815183815367,2.7580104822355067,2.766385359484992],\"type\":\"histogram\",\"xaxis\":\"x34\",\"yaxis\":\"y34\"},{\"x\":[2.3785625530730803,2.4177802618511874,2.3339874015899125,2.4039210512428086,2.3623544538210206,2.360202265410982,2.370085252759799,2.328069603097308,1.7879206866277415],\"type\":\"histogram\",\"xaxis\":\"x35\",\"yaxis\":\"y35\"},{\"x\":[2.6875952163082384,2.677323155750972,2.6436882659300607,2.603353324431205,2.622116205739305,2.5924303416730687,2.5653171352092947,2.519739875459816,2.48276949803978,2.4302199916679985],\"type\":\"histogram\",\"xaxis\":\"x36\",\"yaxis\":\"y36\"},{\"x\":[1.2925508654745084,1.2753774146032142,1.2535264789173075,1.2354530524575116,1.2283576957057676,1.2238572131441172,1.2276066075802603,1.2189454384131158,1.2043910464974783,1.196585715721684],\"type\":\"histogram\",\"xaxis\":\"x37\",\"yaxis\":\"y37\"},{\"x\":[1.586067382862932,1.8678565491473,1.55510965538065,1.8308352159275565,1.5398626588927735,1.7857818743966294,1.5631259068211032,1.7519574519255223],\"type\":\"histogram\",\"xaxis\":\"x38\",\"yaxis\":\"y38\"},{\"x\":[1.2963780106637242,1.2957306918968254,1.2734180486804851,1.2491178666441094,1.23123248435891,1.2354122134131256,1.2165235457795929,1.216683906962318,1.194497320558479,1.214819722898225,1.19630111953252],\"type\":\"histogram\",\"xaxis\":\"x39\",\"yaxis\":\"y39\"},{\"x\":[1.2606440037984132,1.3028410355235331,1.2316955220647408,1.2662474684837275,1.1672954639410738,1.2224542879341374,1.26906367812357,1.2387722394073095,1.176214980356452,1.226893348968814,1.189578169093758,1.189578169093758,1.2028956739155023],\"type\":\"histogram\",\"xaxis\":\"x40\",\"yaxis\":\"y40\"},{\"x\":[1.2218918386414042,1.2007501001023262,1.2015462154964751,1.2093988140257652,1.17865881949167,1.1918563102600113,1.1819539974195836,1.166404133749419,1.152455780194357,1.1560930220733567,1.1719475781592603,1.1818427726120029,1.192633104316157,1.1387903825497805,1.1247766923648927],\"type\":\"histogram\",\"xaxis\":\"x41\",\"yaxis\":\"y41\"},{\"x\":[2.1030724000027146,1.6831267768753757,1.9683479266271096,1.9562181787142563,1.8537638476244784,2.021860550383964],\"type\":\"histogram\",\"xaxis\":\"x42\",\"yaxis\":\"y42\"},{\"x\":[1.1751076534452656,1.192162252185384,1.1743070482704816,1.1194592243256878],\"type\":\"histogram\",\"xaxis\":\"x43\",\"yaxis\":\"y43\"},{\"x\":[1.1414497984407552,1.1451458085847137,1.135975998978679,1.1095266224815907],\"type\":\"histogram\",\"xaxis\":\"x44\",\"yaxis\":\"y44\"},{\"x\":[1.2605347063027066,1.2379775217057798,1.2257204483420994,1.1984525685264538],\"type\":\"histogram\",\"xaxis\":\"x45\",\"yaxis\":\"y45\"},{\"x\":[1.2374129520410635,1.2379069962805458,1.236913114260222,1.2000208567488957,1.1692507792313125],\"type\":\"histogram\",\"xaxis\":\"x46\",\"yaxis\":\"y46\"}],                        {\"template\":{\"data\":{\"bar\":[{\"error_x\":{\"color\":\"#2a3f5f\"},\"error_y\":{\"color\":\"#2a3f5f\"},\"marker\":{\"line\":{\"color\":\"#E5ECF6\",\"width\":0.5},\"pattern\":{\"fillmode\":\"overlay\",\"size\":10,\"solidity\":0.2}},\"type\":\"bar\"}],\"barpolar\":[{\"marker\":{\"line\":{\"color\":\"#E5ECF6\",\"width\":0.5},\"pattern\":{\"fillmode\":\"overlay\",\"size\":10,\"solidity\":0.2}},\"type\":\"barpolar\"}],\"carpet\":[{\"aaxis\":{\"endlinecolor\":\"#2a3f5f\",\"gridcolor\":\"white\",\"linecolor\":\"white\",\"minorgridcolor\":\"white\",\"startlinecolor\":\"#2a3f5f\"},\"baxis\":{\"endlinecolor\":\"#2a3f5f\",\"gridcolor\":\"white\",\"linecolor\":\"white\",\"minorgridcolor\":\"white\",\"startlinecolor\":\"#2a3f5f\"},\"type\":\"carpet\"}],\"choropleth\":[{\"colorbar\":{\"outlinewidth\":0,\"ticks\":\"\"},\"type\":\"choropleth\"}],\"contour\":[{\"colorbar\":{\"outlinewidth\":0,\"ticks\":\"\"},\"colorscale\":[[0.0,\"#0d0887\"],[0.1111111111111111,\"#46039f\"],[0.2222222222222222,\"#7201a8\"],[0.3333333333333333,\"#9c179e\"],[0.4444444444444444,\"#bd3786\"],[0.5555555555555556,\"#d8576b\"],[0.6666666666666666,\"#ed7953\"],[0.7777777777777778,\"#fb9f3a\"],[0.8888888888888888,\"#fdca26\"],[1.0,\"#f0f921\"]],\"type\":\"contour\"}],\"contourcarpet\":[{\"colorbar\":{\"outlinewidth\":0,\"ticks\":\"\"},\"type\":\"contourcarpet\"}],\"heatmap\":[{\"colorbar\":{\"outlinewidth\":0,\"ticks\":\"\"},\"colorscale\":[[0.0,\"#0d0887\"],[0.1111111111111111,\"#46039f\"],[0.2222222222222222,\"#7201a8\"],[0.3333333333333333,\"#9c179e\"],[0.4444444444444444,\"#bd3786\"],[0.5555555555555556,\"#d8576b\"],[0.6666666666666666,\"#ed7953\"],[0.7777777777777778,\"#fb9f3a\"],[0.8888888888888888,\"#fdca26\"],[1.0,\"#f0f921\"]],\"type\":\"heatmap\"}],\"heatmapgl\":[{\"colorbar\":{\"outlinewidth\":0,\"ticks\":\"\"},\"colorscale\":[[0.0,\"#0d0887\"],[0.1111111111111111,\"#46039f\"],[0.2222222222222222,\"#7201a8\"],[0.3333333333333333,\"#9c179e\"],[0.4444444444444444,\"#bd3786\"],[0.5555555555555556,\"#d8576b\"],[0.6666666666666666,\"#ed7953\"],[0.7777777777777778,\"#fb9f3a\"],[0.8888888888888888,\"#fdca26\"],[1.0,\"#f0f921\"]],\"type\":\"heatmapgl\"}],\"histogram\":[{\"marker\":{\"pattern\":{\"fillmode\":\"overlay\",\"size\":10,\"solidity\":0.2}},\"type\":\"histogram\"}],\"histogram2d\":[{\"colorbar\":{\"outlinewidth\":0,\"ticks\":\"\"},\"colorscale\":[[0.0,\"#0d0887\"],[0.1111111111111111,\"#46039f\"],[0.2222222222222222,\"#7201a8\"],[0.3333333333333333,\"#9c179e\"],[0.4444444444444444,\"#bd3786\"],[0.5555555555555556,\"#d8576b\"],[0.6666666666666666,\"#ed7953\"],[0.7777777777777778,\"#fb9f3a\"],[0.8888888888888888,\"#fdca26\"],[1.0,\"#f0f921\"]],\"type\":\"histogram2d\"}],\"histogram2dcontour\":[{\"colorbar\":{\"outlinewidth\":0,\"ticks\":\"\"},\"colorscale\":[[0.0,\"#0d0887\"],[0.1111111111111111,\"#46039f\"],[0.2222222222222222,\"#7201a8\"],[0.3333333333333333,\"#9c179e\"],[0.4444444444444444,\"#bd3786\"],[0.5555555555555556,\"#d8576b\"],[0.6666666666666666,\"#ed7953\"],[0.7777777777777778,\"#fb9f3a\"],[0.8888888888888888,\"#fdca26\"],[1.0,\"#f0f921\"]],\"type\":\"histogram2dcontour\"}],\"mesh3d\":[{\"colorbar\":{\"outlinewidth\":0,\"ticks\":\"\"},\"type\":\"mesh3d\"}],\"parcoords\":[{\"line\":{\"colorbar\":{\"outlinewidth\":0,\"ticks\":\"\"}},\"type\":\"parcoords\"}],\"pie\":[{\"automargin\":true,\"type\":\"pie\"}],\"scatter\":[{\"marker\":{\"colorbar\":{\"outlinewidth\":0,\"ticks\":\"\"}},\"type\":\"scatter\"}],\"scatter3d\":[{\"line\":{\"colorbar\":{\"outlinewidth\":0,\"ticks\":\"\"}},\"marker\":{\"colorbar\":{\"outlinewidth\":0,\"ticks\":\"\"}},\"type\":\"scatter3d\"}],\"scattercarpet\":[{\"marker\":{\"colorbar\":{\"outlinewidth\":0,\"ticks\":\"\"}},\"type\":\"scattercarpet\"}],\"scattergeo\":[{\"marker\":{\"colorbar\":{\"outlinewidth\":0,\"ticks\":\"\"}},\"type\":\"scattergeo\"}],\"scattergl\":[{\"marker\":{\"colorbar\":{\"outlinewidth\":0,\"ticks\":\"\"}},\"type\":\"scattergl\"}],\"scattermapbox\":[{\"marker\":{\"colorbar\":{\"outlinewidth\":0,\"ticks\":\"\"}},\"type\":\"scattermapbox\"}],\"scatterpolar\":[{\"marker\":{\"colorbar\":{\"outlinewidth\":0,\"ticks\":\"\"}},\"type\":\"scatterpolar\"}],\"scatterpolargl\":[{\"marker\":{\"colorbar\":{\"outlinewidth\":0,\"ticks\":\"\"}},\"type\":\"scatterpolargl\"}],\"scatterternary\":[{\"marker\":{\"colorbar\":{\"outlinewidth\":0,\"ticks\":\"\"}},\"type\":\"scatterternary\"}],\"surface\":[{\"colorbar\":{\"outlinewidth\":0,\"ticks\":\"\"},\"colorscale\":[[0.0,\"#0d0887\"],[0.1111111111111111,\"#46039f\"],[0.2222222222222222,\"#7201a8\"],[0.3333333333333333,\"#9c179e\"],[0.4444444444444444,\"#bd3786\"],[0.5555555555555556,\"#d8576b\"],[0.6666666666666666,\"#ed7953\"],[0.7777777777777778,\"#fb9f3a\"],[0.8888888888888888,\"#fdca26\"],[1.0,\"#f0f921\"]],\"type\":\"surface\"}],\"table\":[{\"cells\":{\"fill\":{\"color\":\"#EBF0F8\"},\"line\":{\"color\":\"white\"}},\"header\":{\"fill\":{\"color\":\"#C8D4E3\"},\"line\":{\"color\":\"white\"}},\"type\":\"table\"}]},\"layout\":{\"annotationdefaults\":{\"arrowcolor\":\"#2a3f5f\",\"arrowhead\":0,\"arrowwidth\":1},\"autotypenumbers\":\"strict\",\"coloraxis\":{\"colorbar\":{\"outlinewidth\":0,\"ticks\":\"\"}},\"colorscale\":{\"diverging\":[[0,\"#8e0152\"],[0.1,\"#c51b7d\"],[0.2,\"#de77ae\"],[0.3,\"#f1b6da\"],[0.4,\"#fde0ef\"],[0.5,\"#f7f7f7\"],[0.6,\"#e6f5d0\"],[0.7,\"#b8e186\"],[0.8,\"#7fbc41\"],[0.9,\"#4d9221\"],[1,\"#276419\"]],\"sequential\":[[0.0,\"#0d0887\"],[0.1111111111111111,\"#46039f\"],[0.2222222222222222,\"#7201a8\"],[0.3333333333333333,\"#9c179e\"],[0.4444444444444444,\"#bd3786\"],[0.5555555555555556,\"#d8576b\"],[0.6666666666666666,\"#ed7953\"],[0.7777777777777778,\"#fb9f3a\"],[0.8888888888888888,\"#fdca26\"],[1.0,\"#f0f921\"]],\"sequentialminus\":[[0.0,\"#0d0887\"],[0.1111111111111111,\"#46039f\"],[0.2222222222222222,\"#7201a8\"],[0.3333333333333333,\"#9c179e\"],[0.4444444444444444,\"#bd3786\"],[0.5555555555555556,\"#d8576b\"],[0.6666666666666666,\"#ed7953\"],[0.7777777777777778,\"#fb9f3a\"],[0.8888888888888888,\"#fdca26\"],[1.0,\"#f0f921\"]]},\"colorway\":[\"#636efa\",\"#EF553B\",\"#00cc96\",\"#ab63fa\",\"#FFA15A\",\"#19d3f3\",\"#FF6692\",\"#B6E880\",\"#FF97FF\",\"#FECB52\"],\"font\":{\"color\":\"#2a3f5f\"},\"geo\":{\"bgcolor\":\"white\",\"lakecolor\":\"white\",\"landcolor\":\"#E5ECF6\",\"showlakes\":true,\"showland\":true,\"subunitcolor\":\"white\"},\"hoverlabel\":{\"align\":\"left\"},\"hovermode\":\"closest\",\"mapbox\":{\"style\":\"light\"},\"paper_bgcolor\":\"white\",\"plot_bgcolor\":\"#E5ECF6\",\"polar\":{\"angularaxis\":{\"gridcolor\":\"white\",\"linecolor\":\"white\",\"ticks\":\"\"},\"bgcolor\":\"#E5ECF6\",\"radialaxis\":{\"gridcolor\":\"white\",\"linecolor\":\"white\",\"ticks\":\"\"}},\"scene\":{\"xaxis\":{\"backgroundcolor\":\"#E5ECF6\",\"gridcolor\":\"white\",\"gridwidth\":2,\"linecolor\":\"white\",\"showbackground\":true,\"ticks\":\"\",\"zerolinecolor\":\"white\"},\"yaxis\":{\"backgroundcolor\":\"#E5ECF6\",\"gridcolor\":\"white\",\"gridwidth\":2,\"linecolor\":\"white\",\"showbackground\":true,\"ticks\":\"\",\"zerolinecolor\":\"white\"},\"zaxis\":{\"backgroundcolor\":\"#E5ECF6\",\"gridcolor\":\"white\",\"gridwidth\":2,\"linecolor\":\"white\",\"showbackground\":true,\"ticks\":\"\",\"zerolinecolor\":\"white\"}},\"shapedefaults\":{\"line\":{\"color\":\"#2a3f5f\"}},\"ternary\":{\"aaxis\":{\"gridcolor\":\"white\",\"linecolor\":\"white\",\"ticks\":\"\"},\"baxis\":{\"gridcolor\":\"white\",\"linecolor\":\"white\",\"ticks\":\"\"},\"bgcolor\":\"#E5ECF6\",\"caxis\":{\"gridcolor\":\"white\",\"linecolor\":\"white\",\"ticks\":\"\"}},\"title\":{\"x\":0.05},\"xaxis\":{\"automargin\":true,\"gridcolor\":\"white\",\"linecolor\":\"white\",\"ticks\":\"\",\"title\":{\"standoff\":15},\"zerolinecolor\":\"white\",\"zerolinewidth\":2},\"yaxis\":{\"automargin\":true,\"gridcolor\":\"white\",\"linecolor\":\"white\",\"ticks\":\"\",\"title\":{\"standoff\":15},\"zerolinecolor\":\"white\",\"zerolinewidth\":2}}},\"xaxis\":{\"anchor\":\"y\",\"domain\":[0.0,1.0]},\"yaxis\":{\"anchor\":\"x\",\"domain\":[0.9888941398865789,1.0]},\"xaxis2\":{\"anchor\":\"y2\",\"domain\":[0.0,1.0]},\"yaxis2\":{\"anchor\":\"x2\",\"domain\":[0.9669187145557661,0.9780245746691876]},\"xaxis3\":{\"anchor\":\"y3\",\"domain\":[0.0,1.0]},\"yaxis3\":{\"anchor\":\"x3\",\"domain\":[0.9449432892249531,0.9560491493383746]},\"xaxis4\":{\"anchor\":\"y4\",\"domain\":[0.0,1.0]},\"yaxis4\":{\"anchor\":\"x4\",\"domain\":[0.9229678638941402,0.9340737240075617]},\"xaxis5\":{\"anchor\":\"y5\",\"domain\":[0.0,1.0]},\"yaxis5\":{\"anchor\":\"x5\",\"domain\":[0.9009924385633273,0.9120982986767489]},\"xaxis6\":{\"anchor\":\"y6\",\"domain\":[0.0,1.0]},\"yaxis6\":{\"anchor\":\"x6\",\"domain\":[0.8790170132325145,0.890122873345936]},\"xaxis7\":{\"anchor\":\"y7\",\"domain\":[0.0,1.0]},\"yaxis7\":{\"anchor\":\"x7\",\"domain\":[0.8570415879017016,0.8681474480151231]},\"xaxis8\":{\"anchor\":\"y8\",\"domain\":[0.0,1.0]},\"yaxis8\":{\"anchor\":\"x8\",\"domain\":[0.8350661625708887,0.8461720226843102]},\"xaxis9\":{\"anchor\":\"y9\",\"domain\":[0.0,1.0]},\"yaxis9\":{\"anchor\":\"x9\",\"domain\":[0.8130907372400759,0.8241965973534974]},\"xaxis10\":{\"anchor\":\"y10\",\"domain\":[0.0,1.0]},\"yaxis10\":{\"anchor\":\"x10\",\"domain\":[0.7911153119092629,0.8022211720226844]},\"xaxis11\":{\"anchor\":\"y11\",\"domain\":[0.0,1.0]},\"yaxis11\":{\"anchor\":\"x11\",\"domain\":[0.76913988657845,0.7802457466918715]},\"xaxis12\":{\"anchor\":\"y12\",\"domain\":[0.0,1.0]},\"yaxis12\":{\"anchor\":\"x12\",\"domain\":[0.7471644612476371,0.7582703213610587]},\"xaxis13\":{\"anchor\":\"y13\",\"domain\":[0.0,1.0]},\"yaxis13\":{\"anchor\":\"x13\",\"domain\":[0.7251890359168243,0.7362948960302458]},\"xaxis14\":{\"anchor\":\"y14\",\"domain\":[0.0,1.0]},\"yaxis14\":{\"anchor\":\"x14\",\"domain\":[0.7032136105860114,0.7143194706994329]},\"xaxis15\":{\"anchor\":\"y15\",\"domain\":[0.0,1.0]},\"yaxis15\":{\"anchor\":\"x15\",\"domain\":[0.6812381852551985,0.69234404536862]},\"xaxis16\":{\"anchor\":\"y16\",\"domain\":[0.0,1.0]},\"yaxis16\":{\"anchor\":\"x16\",\"domain\":[0.6592627599243857,0.6703686200378072]},\"xaxis17\":{\"anchor\":\"y17\",\"domain\":[0.0,1.0]},\"yaxis17\":{\"anchor\":\"x17\",\"domain\":[0.6372873345935728,0.6483931947069943]},\"xaxis18\":{\"anchor\":\"y18\",\"domain\":[0.0,1.0]},\"yaxis18\":{\"anchor\":\"x18\",\"domain\":[0.6153119092627599,0.6264177693761814]},\"xaxis19\":{\"anchor\":\"y19\",\"domain\":[0.0,1.0]},\"yaxis19\":{\"anchor\":\"x19\",\"domain\":[0.593336483931947,0.6044423440453686]},\"xaxis20\":{\"anchor\":\"y20\",\"domain\":[0.0,1.0]},\"yaxis20\":{\"anchor\":\"x20\",\"domain\":[0.5713610586011342,0.5824669187145557]},\"xaxis21\":{\"anchor\":\"y21\",\"domain\":[0.0,1.0]},\"yaxis21\":{\"anchor\":\"x21\",\"domain\":[0.5493856332703213,0.5604914933837428]},\"xaxis22\":{\"anchor\":\"y22\",\"domain\":[0.0,1.0]},\"yaxis22\":{\"anchor\":\"x22\",\"domain\":[0.5274102079395084,0.53851606805293]},\"xaxis23\":{\"anchor\":\"y23\",\"domain\":[0.0,1.0]},\"yaxis23\":{\"anchor\":\"x23\",\"domain\":[0.5054347826086956,0.5165406427221171]},\"xaxis24\":{\"anchor\":\"y24\",\"domain\":[0.0,1.0]},\"yaxis24\":{\"anchor\":\"x24\",\"domain\":[0.4834593572778827,0.49456521739130427]},\"xaxis25\":{\"anchor\":\"y25\",\"domain\":[0.0,1.0]},\"yaxis25\":{\"anchor\":\"x25\",\"domain\":[0.4614839319470698,0.4725897920604914]},\"xaxis26\":{\"anchor\":\"y26\",\"domain\":[0.0,1.0]},\"yaxis26\":{\"anchor\":\"x26\",\"domain\":[0.439508506616257,0.4506143667296786]},\"xaxis27\":{\"anchor\":\"y27\",\"domain\":[0.0,1.0]},\"yaxis27\":{\"anchor\":\"x27\",\"domain\":[0.4175330812854442,0.42863894139886577]},\"xaxis28\":{\"anchor\":\"y28\",\"domain\":[0.0,1.0]},\"yaxis28\":{\"anchor\":\"x28\",\"domain\":[0.3955576559546313,0.4066635160680529]},\"xaxis29\":{\"anchor\":\"y29\",\"domain\":[0.0,1.0]},\"yaxis29\":{\"anchor\":\"x29\",\"domain\":[0.37358223062381846,0.38468809073724003]},\"xaxis30\":{\"anchor\":\"y30\",\"domain\":[0.0,1.0]},\"yaxis30\":{\"anchor\":\"x30\",\"domain\":[0.3516068052930056,0.36271266540642716]},\"xaxis31\":{\"anchor\":\"y31\",\"domain\":[0.0,1.0]},\"yaxis31\":{\"anchor\":\"x31\",\"domain\":[0.32963137996219277,0.34073724007561434]},\"xaxis32\":{\"anchor\":\"y32\",\"domain\":[0.0,1.0]},\"yaxis32\":{\"anchor\":\"x32\",\"domain\":[0.30765595463137996,0.31876181474480153]},\"xaxis33\":{\"anchor\":\"y33\",\"domain\":[0.0,1.0]},\"yaxis33\":{\"anchor\":\"x33\",\"domain\":[0.2856805293005671,0.29678638941398866]},\"xaxis34\":{\"anchor\":\"y34\",\"domain\":[0.0,1.0]},\"yaxis34\":{\"anchor\":\"x34\",\"domain\":[0.2637051039697542,0.2748109640831758]},\"xaxis35\":{\"anchor\":\"y35\",\"domain\":[0.0,1.0]},\"yaxis35\":{\"anchor\":\"x35\",\"domain\":[0.24172967863894138,0.2528355387523629]},\"xaxis36\":{\"anchor\":\"y36\",\"domain\":[0.0,1.0]},\"yaxis36\":{\"anchor\":\"x36\",\"domain\":[0.21975425330812853,0.23086011342155008]},\"xaxis37\":{\"anchor\":\"y37\",\"domain\":[0.0,1.0]},\"yaxis37\":{\"anchor\":\"x37\",\"domain\":[0.19777882797731566,0.2088846880907372]},\"xaxis38\":{\"anchor\":\"y38\",\"domain\":[0.0,1.0]},\"yaxis38\":{\"anchor\":\"x38\",\"domain\":[0.17580340264650282,0.18690926275992437]},\"xaxis39\":{\"anchor\":\"y39\",\"domain\":[0.0,1.0]},\"yaxis39\":{\"anchor\":\"x39\",\"domain\":[0.15382797731568998,0.16493383742911152]},\"xaxis40\":{\"anchor\":\"y40\",\"domain\":[0.0,1.0]},\"yaxis40\":{\"anchor\":\"x40\",\"domain\":[0.1318525519848771,0.14295841209829865]},\"xaxis41\":{\"anchor\":\"y41\",\"domain\":[0.0,1.0]},\"yaxis41\":{\"anchor\":\"x41\",\"domain\":[0.10987712665406427,0.12098298676748581]},\"xaxis42\":{\"anchor\":\"y42\",\"domain\":[0.0,1.0]},\"yaxis42\":{\"anchor\":\"x42\",\"domain\":[0.08790170132325142,0.09900756143667297]},\"xaxis43\":{\"anchor\":\"y43\",\"domain\":[0.0,1.0]},\"yaxis43\":{\"anchor\":\"x43\",\"domain\":[0.06592627599243855,0.0770321361058601]},\"xaxis44\":{\"anchor\":\"y44\",\"domain\":[0.0,1.0]},\"yaxis44\":{\"anchor\":\"x44\",\"domain\":[0.04395085066162571,0.055056710775047264]},\"xaxis45\":{\"anchor\":\"y45\",\"domain\":[0.0,1.0]},\"yaxis45\":{\"anchor\":\"x45\",\"domain\":[0.021975425330812856,0.03308128544423441]},\"xaxis46\":{\"anchor\":\"y46\",\"domain\":[0.0,1.0]},\"yaxis46\":{\"anchor\":\"x46\",\"domain\":[0.0,0.01110586011342155]},\"annotations\":[{\"font\":{\"size\":16},\"showarrow\":false,\"text\":\"220110n_0003.tif\",\"x\":0.5,\"xanchor\":\"center\",\"xref\":\"paper\",\"y\":1.0000000000000004,\"yanchor\":\"bottom\",\"yref\":\"paper\"},{\"font\":{\"size\":16},\"showarrow\":false,\"text\":\"220110n_0005.tif\",\"x\":0.5,\"xanchor\":\"center\",\"xref\":\"paper\",\"y\":0.9780245746691876,\"yanchor\":\"bottom\",\"yref\":\"paper\"},{\"font\":{\"size\":16},\"showarrow\":false,\"text\":\"220110n_0009.tif\",\"x\":0.5,\"xanchor\":\"center\",\"xref\":\"paper\",\"y\":0.9560491493383746,\"yanchor\":\"bottom\",\"yref\":\"paper\"},{\"font\":{\"size\":16},\"showarrow\":false,\"text\":\"220110n_0010.tif\",\"x\":0.5,\"xanchor\":\"center\",\"xref\":\"paper\",\"y\":0.9340737240075617,\"yanchor\":\"bottom\",\"yref\":\"paper\"},{\"font\":{\"size\":16},\"showarrow\":false,\"text\":\"220110n_0014.tif\",\"x\":0.5,\"xanchor\":\"center\",\"xref\":\"paper\",\"y\":0.9120982986767489,\"yanchor\":\"bottom\",\"yref\":\"paper\"},{\"font\":{\"size\":16},\"showarrow\":false,\"text\":\"220110n_0017.tif\",\"x\":0.5,\"xanchor\":\"center\",\"xref\":\"paper\",\"y\":0.890122873345936,\"yanchor\":\"bottom\",\"yref\":\"paper\"},{\"font\":{\"size\":16},\"showarrow\":false,\"text\":\"220110n_0020.tif\",\"x\":0.5,\"xanchor\":\"center\",\"xref\":\"paper\",\"y\":0.8681474480151231,\"yanchor\":\"bottom\",\"yref\":\"paper\"},{\"font\":{\"size\":16},\"showarrow\":false,\"text\":\"220110n_0021.tif\",\"x\":0.5,\"xanchor\":\"center\",\"xref\":\"paper\",\"y\":0.8461720226843102,\"yanchor\":\"bottom\",\"yref\":\"paper\"},{\"font\":{\"size\":16},\"showarrow\":false,\"text\":\"220110n_0022.tif\",\"x\":0.5,\"xanchor\":\"center\",\"xref\":\"paper\",\"y\":0.8241965973534974,\"yanchor\":\"bottom\",\"yref\":\"paper\"},{\"font\":{\"size\":16},\"showarrow\":false,\"text\":\"220110n_0023.tif\",\"x\":0.5,\"xanchor\":\"center\",\"xref\":\"paper\",\"y\":0.8022211720226844,\"yanchor\":\"bottom\",\"yref\":\"paper\"},{\"font\":{\"size\":16},\"showarrow\":false,\"text\":\"220110n_0024.tif\",\"x\":0.5,\"xanchor\":\"center\",\"xref\":\"paper\",\"y\":0.7802457466918715,\"yanchor\":\"bottom\",\"yref\":\"paper\"},{\"font\":{\"size\":16},\"showarrow\":false,\"text\":\"220110n_0025.tif\",\"x\":0.5,\"xanchor\":\"center\",\"xref\":\"paper\",\"y\":0.7582703213610587,\"yanchor\":\"bottom\",\"yref\":\"paper\"},{\"font\":{\"size\":16},\"showarrow\":false,\"text\":\"220110n_0030.tif\",\"x\":0.5,\"xanchor\":\"center\",\"xref\":\"paper\",\"y\":0.7362948960302458,\"yanchor\":\"bottom\",\"yref\":\"paper\"},{\"font\":{\"size\":16},\"showarrow\":false,\"text\":\"220110n_0032.tif\",\"x\":0.5,\"xanchor\":\"center\",\"xref\":\"paper\",\"y\":0.7143194706994329,\"yanchor\":\"bottom\",\"yref\":\"paper\"},{\"font\":{\"size\":16},\"showarrow\":false,\"text\":\"220110n_0035.tif\",\"x\":0.5,\"xanchor\":\"center\",\"xref\":\"paper\",\"y\":0.69234404536862,\"yanchor\":\"bottom\",\"yref\":\"paper\"},{\"font\":{\"size\":16},\"showarrow\":false,\"text\":\"220110n_0036.tif\",\"x\":0.5,\"xanchor\":\"center\",\"xref\":\"paper\",\"y\":0.6703686200378072,\"yanchor\":\"bottom\",\"yref\":\"paper\"},{\"font\":{\"size\":16},\"showarrow\":false,\"text\":\"220110n_0037.tif\",\"x\":0.5,\"xanchor\":\"center\",\"xref\":\"paper\",\"y\":0.6483931947069943,\"yanchor\":\"bottom\",\"yref\":\"paper\"},{\"font\":{\"size\":16},\"showarrow\":false,\"text\":\"220110n_0049.tif\",\"x\":0.5,\"xanchor\":\"center\",\"xref\":\"paper\",\"y\":0.6264177693761814,\"yanchor\":\"bottom\",\"yref\":\"paper\"},{\"font\":{\"size\":16},\"showarrow\":false,\"text\":\"220110n_0052.tif\",\"x\":0.5,\"xanchor\":\"center\",\"xref\":\"paper\",\"y\":0.6044423440453686,\"yanchor\":\"bottom\",\"yref\":\"paper\"},{\"font\":{\"size\":16},\"showarrow\":false,\"text\":\"220110n_0055.tif\",\"x\":0.5,\"xanchor\":\"center\",\"xref\":\"paper\",\"y\":0.5824669187145557,\"yanchor\":\"bottom\",\"yref\":\"paper\"},{\"font\":{\"size\":16},\"showarrow\":false,\"text\":\"220110n_0060.tif\",\"x\":0.5,\"xanchor\":\"center\",\"xref\":\"paper\",\"y\":0.5604914933837428,\"yanchor\":\"bottom\",\"yref\":\"paper\"},{\"font\":{\"size\":16},\"showarrow\":false,\"text\":\"220110n_0064.tif\",\"x\":0.5,\"xanchor\":\"center\",\"xref\":\"paper\",\"y\":0.53851606805293,\"yanchor\":\"bottom\",\"yref\":\"paper\"},{\"font\":{\"size\":16},\"showarrow\":false,\"text\":\"220110n_0067.tif\",\"x\":0.5,\"xanchor\":\"center\",\"xref\":\"paper\",\"y\":0.5165406427221171,\"yanchor\":\"bottom\",\"yref\":\"paper\"},{\"font\":{\"size\":16},\"showarrow\":false,\"text\":\"220110n_0068.tif\",\"x\":0.5,\"xanchor\":\"center\",\"xref\":\"paper\",\"y\":0.49456521739130427,\"yanchor\":\"bottom\",\"yref\":\"paper\"},{\"font\":{\"size\":16},\"showarrow\":false,\"text\":\"220110n_0072.tif\",\"x\":0.5,\"xanchor\":\"center\",\"xref\":\"paper\",\"y\":0.4725897920604914,\"yanchor\":\"bottom\",\"yref\":\"paper\"},{\"font\":{\"size\":16},\"showarrow\":false,\"text\":\"220110n_0073.tif\",\"x\":0.5,\"xanchor\":\"center\",\"xref\":\"paper\",\"y\":0.4506143667296786,\"yanchor\":\"bottom\",\"yref\":\"paper\"},{\"font\":{\"size\":16},\"showarrow\":false,\"text\":\"220110n_0077.tif\",\"x\":0.5,\"xanchor\":\"center\",\"xref\":\"paper\",\"y\":0.42863894139886577,\"yanchor\":\"bottom\",\"yref\":\"paper\"},{\"font\":{\"size\":16},\"showarrow\":false,\"text\":\"220110n_0078.tif\",\"x\":0.5,\"xanchor\":\"center\",\"xref\":\"paper\",\"y\":0.4066635160680529,\"yanchor\":\"bottom\",\"yref\":\"paper\"},{\"font\":{\"size\":16},\"showarrow\":false,\"text\":\"220110n_0080.tif\",\"x\":0.5,\"xanchor\":\"center\",\"xref\":\"paper\",\"y\":0.38468809073724003,\"yanchor\":\"bottom\",\"yref\":\"paper\"},{\"font\":{\"size\":16},\"showarrow\":false,\"text\":\"220110n_0082.tif\",\"x\":0.5,\"xanchor\":\"center\",\"xref\":\"paper\",\"y\":0.36271266540642716,\"yanchor\":\"bottom\",\"yref\":\"paper\"},{\"font\":{\"size\":16},\"showarrow\":false,\"text\":\"220110n_0083.tif\",\"x\":0.5,\"xanchor\":\"center\",\"xref\":\"paper\",\"y\":0.34073724007561434,\"yanchor\":\"bottom\",\"yref\":\"paper\"},{\"font\":{\"size\":16},\"showarrow\":false,\"text\":\"2.5Hz_ctrl_0005.tif\",\"x\":0.5,\"xanchor\":\"center\",\"xref\":\"paper\",\"y\":0.31876181474480153,\"yanchor\":\"bottom\",\"yref\":\"paper\"},{\"font\":{\"size\":16},\"showarrow\":false,\"text\":\"2.5Hz_ctrl_0009.tif\",\"x\":0.5,\"xanchor\":\"center\",\"xref\":\"paper\",\"y\":0.29678638941398866,\"yanchor\":\"bottom\",\"yref\":\"paper\"},{\"font\":{\"size\":16},\"showarrow\":false,\"text\":\"2.5Hz_ctrl_0012.tif\",\"x\":0.5,\"xanchor\":\"center\",\"xref\":\"paper\",\"y\":0.2748109640831758,\"yanchor\":\"bottom\",\"yref\":\"paper\"},{\"font\":{\"size\":16},\"showarrow\":false,\"text\":\"2.5Hz_ctrl_0017.tif\",\"x\":0.5,\"xanchor\":\"center\",\"xref\":\"paper\",\"y\":0.2528355387523629,\"yanchor\":\"bottom\",\"yref\":\"paper\"},{\"font\":{\"size\":16},\"showarrow\":false,\"text\":\"2.5Hz_ctrl_0028.tif\",\"x\":0.5,\"xanchor\":\"center\",\"xref\":\"paper\",\"y\":0.23086011342155008,\"yanchor\":\"bottom\",\"yref\":\"paper\"},{\"font\":{\"size\":16},\"showarrow\":false,\"text\":\"2.5Hz_thapsi_0024.tif\",\"x\":0.5,\"xanchor\":\"center\",\"xref\":\"paper\",\"y\":0.2088846880907372,\"yanchor\":\"bottom\",\"yref\":\"paper\"},{\"font\":{\"size\":16},\"showarrow\":false,\"text\":\"cell.tif\",\"x\":0.5,\"xanchor\":\"center\",\"xref\":\"paper\",\"y\":0.18690926275992437,\"yanchor\":\"bottom\",\"yref\":\"paper\"},{\"font\":{\"size\":16},\"showarrow\":false,\"text\":\"control 2.5_0012.tif\",\"x\":0.5,\"xanchor\":\"center\",\"xref\":\"paper\",\"y\":0.16493383742911152,\"yanchor\":\"bottom\",\"yref\":\"paper\"},{\"font\":{\"size\":16},\"showarrow\":false,\"text\":\"control 2.5_0013.tif\",\"x\":0.5,\"xanchor\":\"center\",\"xref\":\"paper\",\"y\":0.14295841209829865,\"yanchor\":\"bottom\",\"yref\":\"paper\"},{\"font\":{\"size\":16},\"showarrow\":false,\"text\":\"control 2.5_0014.tif\",\"x\":0.5,\"xanchor\":\"center\",\"xref\":\"paper\",\"y\":0.12098298676748581,\"yanchor\":\"bottom\",\"yref\":\"paper\"},{\"font\":{\"size\":16},\"showarrow\":false,\"text\":\"control 2.5_0022.tif\",\"x\":0.5,\"xanchor\":\"center\",\"xref\":\"paper\",\"y\":0.09900756143667297,\"yanchor\":\"bottom\",\"yref\":\"paper\"},{\"font\":{\"size\":16},\"showarrow\":false,\"text\":\"thapsi 2.5_0008.tif\",\"x\":0.5,\"xanchor\":\"center\",\"xref\":\"paper\",\"y\":0.0770321361058601,\"yanchor\":\"bottom\",\"yref\":\"paper\"},{\"font\":{\"size\":16},\"showarrow\":false,\"text\":\"thapsi 2.5_0017.tif\",\"x\":0.5,\"xanchor\":\"center\",\"xref\":\"paper\",\"y\":0.055056710775047264,\"yanchor\":\"bottom\",\"yref\":\"paper\"},{\"font\":{\"size\":16},\"showarrow\":false,\"text\":\"thapsi 2.5_0033.tif\",\"x\":0.5,\"xanchor\":\"center\",\"xref\":\"paper\",\"y\":0.03308128544423441,\"yanchor\":\"bottom\",\"yref\":\"paper\"},{\"font\":{\"size\":16},\"showarrow\":false,\"text\":\"thapsi 2.5_0047.tif\",\"x\":0.5,\"xanchor\":\"center\",\"xref\":\"paper\",\"y\":0.01110586011342155,\"yanchor\":\"bottom\",\"yref\":\"paper\"}],\"title\":{\"text\":\"Subplot for Each File's peakVal\"},\"height\":7000,\"width\":700,\"showlegend\":false,\"colorway\":[\"rgb(229, 134, 6)\",\"rgb(93, 105, 177)\",\"rgb(82, 188, 163)\",\"rgb(153, 201, 69)\",\"rgb(204, 97, 176)\",\"rgb(36, 121, 108)\",\"rgb(218, 165, 27)\",\"rgb(47, 138, 196)\",\"rgb(118, 78, 159)\",\"rgb(237, 100, 90)\",\"rgb(165, 170, 153)\"]},                        {\"responsive\": true}                    ).then(function(){\n",
       "                            \n",
       "var gd = document.getElementById('0e013d6b-3fd8-496b-8c69-befa468cc7ae');\n",
       "var x = new MutationObserver(function (mutations, observer) {{\n",
       "        var display = window.getComputedStyle(gd).display;\n",
       "        if (!display || display === 'none') {{\n",
       "            console.log([gd, 'removed!']);\n",
       "            Plotly.purge(gd);\n",
       "            observer.disconnect();\n",
       "        }}\n",
       "}});\n",
       "\n",
       "// Listen for the removal of the full notebook cells\n",
       "var notebookContainer = gd.closest('#notebook-container');\n",
       "if (notebookContainer) {{\n",
       "    x.observe(notebookContainer, {childList: true});\n",
       "}}\n",
       "\n",
       "// Listen for the clearing of the current output cell\n",
       "var outputEl = gd.closest('.output');\n",
       "if (outputEl) {{\n",
       "    x.observe(outputEl, {childList: true});\n",
       "}}\n",
       "\n",
       "                        })                };                });            </script>        </div>"
      ]
     },
     "metadata": {},
     "output_type": "display_data"
    }
   ],
   "source": [
    "# From meeting on 3/7, just trying different histograms\n",
    "# subset = dfMaster[\"peakVal\"][dfMaster[\"file\"] == \"220110n_0014.tif\"]\n",
    "# figure = px.histogram(subset)\n",
    "# figure.show()\n",
    "\n",
    "# subset = dfMaster[\"peakVal\"][dfMaster[\"file\"] == \"2.5Hz_ctrl_0012.tif\"]\n",
    "# figure = px.histogram(subset)\n",
    "# figure.show()\n",
    "\n",
    "# dfMaster.file.unique()\n",
    "filenames = dfMaster.file.unique()\n",
    "fig = make_subplots(rows = len(filenames), cols = 1, subplot_titles = filenames) #Two columns creates staggering problems with plots\n",
    "\n",
    "\n",
    "\n",
    "for index, file in enumerate(dfMaster.file.unique()):\n",
    "    dfFile =dfMaster.loc[dfMaster[\"file\"] == file]\n",
    "    \n",
    "    #We split the subplot into two columns, deciding which column based on odd or even index\n",
    "    #if (index % 2) == 0: #even col 1\n",
    "    fig.append_trace(go.Histogram(x= dfFile[\"peakVal\"]), row = index + 1, col = 1)\n",
    "#     else: #odd col 2\n",
    "#         fig.append_trace(go.Histogram(x= dfFile[\"peakVal\"]), row = index + 1, col = 2)\n",
    "        \n",
    "fig.update_layout(height=7000, width=700, showlegend = False, colorway= px.colors.qualitative.Vivid,\n",
    "                  title_text=\"Subplot for Each File's peakVal\")\n",
    "\n",
    "fig.show()\n",
    "\n",
    "# dfFile =dfMaster.loc[dfMaster[\"file\"] == \"2.5Hz_ctrl_0012.tif\"]\n",
    "# display(dfFile)\n"
   ]
  },
  {
   "cell_type": "markdown",
   "id": "efec2102",
   "metadata": {},
   "source": [
    "To do next, KDE on each plot and research if KDE is a valid measure for small samples \n",
    "https://en.wikipedia.org/wiki/Kernel_density_estimation"
   ]
  }
 ],
 "metadata": {
  "kernelspec": {
   "display_name": "Python 3 (ipykernel)",
   "language": "python",
   "name": "python3"
  },
  "language_info": {
   "codemirror_mode": {
    "name": "ipython",
    "version": 3
   },
   "file_extension": ".py",
   "mimetype": "text/x-python",
   "name": "python",
   "nbconvert_exporter": "python",
   "pygments_lexer": "ipython3",
   "version": "3.8.8"
  }
 },
 "nbformat": 4,
 "nbformat_minor": 5
}
